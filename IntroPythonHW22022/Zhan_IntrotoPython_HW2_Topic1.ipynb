{
 "cells": [
  {
   "cell_type": "markdown",
   "metadata": {
    "id": "ZqKBeHFl_Wvg"
   },
   "source": [
    "## Working with sets\n",
    "**Hint** Take a look at the `set` function in Python, the `set` data type, and built-in `set` methods."
   ]
  },
  {
   "cell_type": "code",
   "execution_count": 110,
   "metadata": {
    "id": "DSNyD3wq_Wvg"
   },
   "outputs": [
    {
     "name": "stdout",
     "output_type": "stream",
     "text": [
      "{'w', 'i', 'k'}\n",
      "{1, 2, 3, 4}\n"
     ]
    }
   ],
   "source": [
    "# Example set function usage\n",
    "print(set(\"kiwi\"))\n",
    "print(set([1, 2, 2, 3, 3, 3, 4, 4, 4, 4]))"
   ]
  },
  {
   "cell_type": "code",
   "execution_count": 111,
   "metadata": {
    "id": "NQnVLnIw_Wvg"
   },
   "outputs": [
    {
     "name": "stdout",
     "output_type": "stream",
     "text": [
      "Exercise 83 is correct.\n"
     ]
    }
   ],
   "source": [
    "# Exercise 83\n",
    "# Write a function definition named get_unique_values that takes in a list and returns a set with only the unique values from that list.\n",
    "def get_unique_values(l):\n",
    "    return set(l)\n",
    "assert get_unique_values([\"ant\", \"ant\", \"mosquito\", \"mosquito\", \"ladybug\"]) == {\"ant\", \"mosquito\", \"ladybug\"}\n",
    "assert get_unique_values([\"b\", \"a\", \"n\", \"a\", \"n\", \"a\", \"s\"]) == {\"b\", \"a\", \"n\", \"s\"}\n",
    "assert get_unique_values([\"mary\", \"had\", \"a\", \"little\", \"lamb\", \"little\", \"lamb\", \"little\", \"lamb\"]) == {\"mary\", \"had\", \"a\", \"little\", \"lamb\"}\n",
    "print(\"Exercise 83 is correct.\")"
   ]
  },
  {
   "cell_type": "code",
   "execution_count": 112,
   "metadata": {
    "id": "L0YnWAxw_Wvh"
   },
   "outputs": [
    {
     "name": "stdout",
     "output_type": "stream",
     "text": [
      "Exercise 84 is correct.\n"
     ]
    }
   ],
   "source": [
    "# Exercise 84\n",
    "# Write a function definition named get_unique_values_from_two_lists that takes two lists and returns a single set with only the unique values\n",
    "\n",
    "def get_unique_values_from_two_lists(l1, l2):\n",
    "    s1 = set(l1)\n",
    "    s2 = set(l2)\n",
    "    return s1.union(s2)\n",
    "assert get_unique_values_from_two_lists([5, 1, 2, 3], [3, 4, 5, 5]) == {1, 2, 3, 4, 5}\n",
    "assert get_unique_values_from_two_lists([1, 1], [2, 2, 3]) == {1, 2, 3}\n",
    "assert get_unique_values_from_two_lists([\"tomato\", \"mango\", \"kiwi\"], [\"eggplant\", \"tomato\", \"broccoli\"]) == {\"tomato\", \"mango\", \"kiwi\", \"eggplant\", \"broccoli\"}\n",
    "print(\"Exercise 84 is correct.\")"
   ]
  },
  {
   "cell_type": "code",
   "execution_count": 113,
   "metadata": {
    "id": "6T7Xndxr_Wvh"
   },
   "outputs": [
    {
     "name": "stdout",
     "output_type": "stream",
     "text": [
      "Exercise 85 is correct.\n"
     ]
    }
   ],
   "source": [
    "# Exercise 85\n",
    "# Write a function definition named get_values_in_common that takes two lists and returns a single set with the values that each list has in common\n",
    "def get_values_in_common(l1,l2):\n",
    "    s1 = set(l1)\n",
    "    s2 = set(l2)\n",
    "    return s1 & s2\n",
    "\n",
    "assert get_values_in_common([5, 1, 2, 3], [3, 4, 5, 5]) == {3, 5}\n",
    "assert get_values_in_common([1, 2], [2, 2, 3]) == {2}\n",
    "assert get_values_in_common([\"tomato\", \"mango\", \"kiwi\"], [\"eggplant\", \"tomato\", \"broccoli\"]) == {\"tomato\"}\n",
    "print(\"Exercise 85 is correct.\")"
   ]
  },
  {
   "cell_type": "code",
   "execution_count": 114,
   "metadata": {
    "id": "hLDiNZL8_Wvh"
   },
   "outputs": [
    {
     "name": "stdout",
     "output_type": "stream",
     "text": [
      "Exercise 86 is correct.\n"
     ]
    }
   ],
   "source": [
    "# Exercise 86\n",
    "# Write a function definition named get_values_not_in_common that takes two lists and returns a single set with the values that each list does not have in common\n",
    "def get_values_not_in_common(l1,l2):\n",
    "    s1 = set(l1)\n",
    "    s2 = set(l2)\n",
    "    return (s1 | s2) - (s2 & s1)\n",
    "\n",
    "assert get_values_not_in_common([5, 1, 2, 3], [3, 4, 5, 5]) == {1, 2, 4}\n",
    "assert get_values_not_in_common([1, 1], [2, 2, 3]) == {1, 2, 3}\n",
    "assert get_values_not_in_common([\"tomato\", \"mango\", \"kiwi\"], [\"eggplant\", \"tomato\", \"broccoli\"]) == {\"mango\", \"kiwi\", \"eggplant\", \"broccoli\"}\n",
    "print(\"Exercise 86 is correct.\")"
   ]
  },
  {
   "cell_type": "markdown",
   "metadata": {
    "id": "XaAbM849_Wvh"
   },
   "source": [
    "## Working with Dictionaries\n"
   ]
  },
  {
   "cell_type": "code",
   "execution_count": 115,
   "metadata": {
    "id": "TvrnkNUL_Wvh"
   },
   "outputs": [],
   "source": [
    "# Run this cell in order to have these two dictionary variables defined.\n",
    "tukey_paper = {\n",
    "    \"title\": \"The Future of Data Analysis\",\n",
    "    \"author\": \"John W. Tukey\",\n",
    "    \"link\": \"https://projecteuclid.org/euclid.aoms/1177704711\",\n",
    "    \"year_published\": 1962\n",
    "}\n",
    "\n",
    "thomas_paper = {\n",
    "    \"title\": \"A mathematical model of glutathione metabolism\",\n",
    "    \"author\": \"Rachel Thomas\",\n",
    "    \"link\": \"https://www.ncbi.nlm.nih.gov/pubmed/18442411\",\n",
    "    \"year_published\": 2008\n",
    "}"
   ]
  },
  {
   "cell_type": "code",
   "execution_count": 116,
   "metadata": {
    "id": "sDTU3GuQ_Wvh"
   },
   "outputs": [
    {
     "name": "stdout",
     "output_type": "stream",
     "text": [
      "Exercise 87 is correct.\n"
     ]
    }
   ],
   "source": [
    "# Exercise 87\n",
    "# Write a function named get_paper_title that takes in a dictionary and returns the title property\n",
    "def get_paper_title(paper):\n",
    "    return paper['title']\n",
    "assert get_paper_title(tukey_paper) == \"The Future of Data Analysis\"\n",
    "assert get_paper_title(thomas_paper) == \"A mathematical model of glutathione metabolism\"\n",
    "print(\"Exercise 87 is correct.\")"
   ]
  },
  {
   "cell_type": "code",
   "execution_count": 117,
   "metadata": {
    "id": "4cCJwlkB_Wvi"
   },
   "outputs": [
    {
     "name": "stdout",
     "output_type": "stream",
     "text": [
      "Exercise 88 is correct.\n"
     ]
    }
   ],
   "source": [
    "# Exercise 88\n",
    "# Write a function named get_year_published that takes in a dictionary and returns the value behind the \"year_published\" key.\n",
    "def get_year_published(paper):\n",
    "    return paper['year_published']\n",
    "assert get_year_published(tukey_paper) == 1962\n",
    "assert get_year_published(thomas_paper) == 2008\n",
    "print(\"Exercise 88 is correct.\")"
   ]
  },
  {
   "cell_type": "code",
   "execution_count": 118,
   "metadata": {
    "id": "HS6XeXem_Wvi"
   },
   "outputs": [],
   "source": [
    "# Run this code to create data for the next two questions\n",
    "book = {\n",
    "    \"title\": \"Genetic Algorithms and Machine Learning for Programmers\",\n",
    "    \"price\": 36.99,\n",
    "    \"author\": \"Frances Buontempo\"\n",
    "}"
   ]
  },
  {
   "cell_type": "code",
   "execution_count": 119,
   "metadata": {
    "id": "SNQ_j5IQ_Wvi"
   },
   "outputs": [
    {
     "name": "stdout",
     "output_type": "stream",
     "text": [
      "Exercise 89 is complete.\n"
     ]
    }
   ],
   "source": [
    "# Exercise 89\n",
    "# Write a function named get_price that takes in a dictionary and returns the price\n",
    "def get_price(book):\n",
    "    return book['price']\n",
    "assert get_price(book) == 36.99\n",
    "print(\"Exercise 89 is complete.\")"
   ]
  },
  {
   "cell_type": "code",
   "execution_count": 120,
   "metadata": {
    "id": "v7m9g8up_Wvi"
   },
   "outputs": [
    {
     "name": "stdout",
     "output_type": "stream",
     "text": [
      "Exercise 90 is complete.\n"
     ]
    }
   ],
   "source": [
    "# Exercise 90\n",
    "# Write a function named get_book_author that takes in a dictionary (the above declared book variable) and returns the author's name\n",
    "def get_book_author(book):\n",
    "    return book['author']\n",
    "\n",
    "assert get_book_author(book) == \"Frances Buontempo\"\n",
    "print(\"Exercise 90 is complete.\")"
   ]
  },
  {
   "cell_type": "markdown",
   "metadata": {
    "id": "mDsvY9tC_Wvi"
   },
   "source": [
    "## Working with Lists of Dictionaries\n",
    "**Hint** If you need an example of lists of dictionaries, see \n",
    "- [Getting Started With a List of Dictionaries](https://colab.research.google.com/github/ryanorsinger/list_of_dictionaries/blob/main/getting_started.ipynb)\n",
    "- [Practice Exercises for List of Dictionaries](https://colab.research.google.com/github/ryanorsinger/list_of_dictionaries/blob/main/exercises.ipynb)\n",
    "- [Companion Video](https://www.youtube.com/watch?v=pPdEahZgv8U)\n"
   ]
  },
  {
   "cell_type": "code",
   "execution_count": 121,
   "metadata": {
    "id": "4ni3zTIO_Wvj"
   },
   "outputs": [],
   "source": [
    "# Run this cell in order to have some setup data for the next exercises\n",
    "books = [\n",
    "    {\n",
    "        \"title\": \"Genetic Algorithms and Machine Learning for Programmers\",\n",
    "        \"price\": 36.99,\n",
    "        \"author\": \"Frances Buontempo\"\n",
    "    },\n",
    "    {\n",
    "        \"title\": \"The Visual Display of Quantitative Information\",\n",
    "        \"price\": 38.00,\n",
    "        \"author\": \"Edward Tufte\"\n",
    "    },\n",
    "    {\n",
    "        \"title\": \"Practical Object-Oriented Design\",\n",
    "        \"author\": \"Sandi Metz\",\n",
    "        \"price\": 30.47\n",
    "    },\n",
    "    {\n",
    "        \"title\": \"Weapons of Math Destruction\",\n",
    "        \"author\": \"Cathy O'Neil\",\n",
    "        \"price\": 17.44\n",
    "    }\n",
    "]"
   ]
  },
  {
   "cell_type": "code",
   "execution_count": 122,
   "metadata": {
    "id": "3fnBL-BD_Wvj"
   },
   "outputs": [
    {
     "name": "stdout",
     "output_type": "stream",
     "text": [
      "Exercise 91 is complete.\n"
     ]
    }
   ],
   "source": [
    "# Exercise 91\n",
    "# Write a function named get_number_of_books that takes in a list of objects and returns the number of dictionaries in that list.\n",
    "def get_number_of_books(books):\n",
    "    return len(books)\n",
    "assert get_number_of_books(books) == 4\n",
    "print(\"Exercise 91 is complete.\")"
   ]
  },
  {
   "cell_type": "code",
   "execution_count": 123,
   "metadata": {
    "id": "QHgdGVHV_Wvj"
   },
   "outputs": [
    {
     "name": "stdout",
     "output_type": "stream",
     "text": [
      "Exercise 92 is complete.\n"
     ]
    }
   ],
   "source": [
    "# Exercise 92\n",
    "# Write a function named total_of_book_prices that takes in a list of dictionaries and returns the sum total of all the book prices added together\n",
    "def total_of_book_prices(books):\n",
    "    total = 0\n",
    "    for book in books:\n",
    "        total += book['price']\n",
    "    return total\n",
    "assert total_of_book_prices(books) == 122.9\n",
    "print(\"Exercise 92 is complete.\")"
   ]
  },
  {
   "cell_type": "code",
   "execution_count": 124,
   "metadata": {
    "id": "klSCtbep_Wvk"
   },
   "outputs": [
    {
     "name": "stdout",
     "output_type": "stream",
     "text": [
      "Exercise 93 is complete.\n"
     ]
    }
   ],
   "source": [
    "# Exercise 93\n",
    "# Write a function named get_average_book_price that takes in a list of dictionaries and returns the average book price.\n",
    "def get_average_book_price(books):\n",
    "    return total_of_book_prices(books)/get_number_of_books(books)\n",
    "assert get_average_book_price(books) == 30.725\n",
    "print(\"Exercise 93 is complete.\")"
   ]
  },
  {
   "cell_type": "code",
   "execution_count": 125,
   "metadata": {
    "id": "85KDw_7H_Wvk"
   },
   "outputs": [
    {
     "name": "stdout",
     "output_type": "stream",
     "text": [
      "Exercise 94 is complete\n"
     ]
    }
   ],
   "source": [
    "# Exercise 94\n",
    "# Write a function called highest_price_book that takes in the above defined list of dictionaries \"books\" and returns the dictionary containing the title, price, and author of the book with the highest priced book.\n",
    "# Hint: Much like sometimes start functions with a variable set to zero, you may want to create a dictionary with the price set to zero to compare to each dictionary's price in the list\n",
    "def highest_price_book(books):\n",
    "    highest = -1\n",
    "    b = None\n",
    "    for book in books:\n",
    "        if(book['price'] > highest):\n",
    "            highest = book['price']\n",
    "            b = book\n",
    "    return b\n",
    "    \n",
    "assert highest_price_book(books) == {\n",
    "    \"title\": \"The Visual Display of Quantitative Information\",\n",
    "    \"price\": 38.00,\n",
    "    \"author\": \"Edward Tufte\"\n",
    "}\n",
    "\n",
    "print(\"Exercise 94 is complete\")"
   ]
  },
  {
   "cell_type": "code",
   "execution_count": 126,
   "metadata": {
    "id": "Hf1OahW0_Wvl"
   },
   "outputs": [
    {
     "name": "stdout",
     "output_type": "stream",
     "text": [
      "Exercise 95 is complete.\n"
     ]
    }
   ],
   "source": [
    "# Exercise 95\n",
    "# Write a function called lowest_priced_book that takes in the above defined list of dictionaries \"books\" and returns the dictionary containing the title, price, and author of the book with the lowest priced book.\n",
    "# Hint: Much like sometimes start functions with a variable set to zero or float('inf'), you may want to create a dictionary with the price set to float('inf') to compare to each dictionary in the list\n",
    "def lowest_price_book(books):\n",
    "    lowest = float('inf')\n",
    "    b = None\n",
    "    for book in books:\n",
    "        if(book['price'] < lowest):\n",
    "            lowest = book['price']\n",
    "            b = book\n",
    "    return b\n",
    "\n",
    "assert lowest_price_book(books) == {\n",
    "    \"title\": \"Weapons of Math Destruction\",\n",
    "    \"author\": \"Cathy O'Neil\",\n",
    "    \"price\": 17.44\n",
    "}\n",
    "print(\"Exercise 95 is complete.\")"
   ]
  },
  {
   "cell_type": "code",
   "execution_count": 127,
   "metadata": {
    "id": "bm2veYIT_Wvl"
   },
   "outputs": [],
   "source": [
    "shopping_cart = {\n",
    "    \"tax\": .08,\n",
    "    \"items\": [\n",
    "        {\n",
    "            \"title\": \"orange juice\",\n",
    "            \"price\": 3.99,\n",
    "            \"quantity\": 1\n",
    "        },\n",
    "        {\n",
    "            \"title\": \"rice\",\n",
    "            \"price\": 1.99,\n",
    "            \"quantity\": 3\n",
    "        },\n",
    "        {\n",
    "            \"title\": \"beans\",\n",
    "            \"price\": 0.99,\n",
    "            \"quantity\": 3\n",
    "        },\n",
    "        {\n",
    "            \"title\": \"chili sauce\",\n",
    "            \"price\": 2.99,\n",
    "            \"quantity\": 1\n",
    "        },\n",
    "        {\n",
    "            \"title\": \"chocolate\",\n",
    "            \"price\": 0.75,\n",
    "            \"quantity\": 9\n",
    "        }\n",
    "    ]\n",
    "}"
   ]
  },
  {
   "cell_type": "code",
   "execution_count": 128,
   "metadata": {
    "id": "n4W0tBBa_Wvl"
   },
   "outputs": [
    {
     "name": "stdout",
     "output_type": "stream",
     "text": [
      "Exercise 96 is complete\n"
     ]
    }
   ],
   "source": [
    "# Exercise 96\n",
    "# Write a function named get_tax_rate that takes in the above shopping cart as input and returns the tax rate.\n",
    "# Hint: How do you access a key's value on a dictionary? The tax rate is one key of the entire shopping_cart dictionary.\n",
    "def get_tax_rate(shopping_cart):\n",
    "    return shopping_cart['tax']\n",
    "assert get_tax_rate(shopping_cart) == .08\n",
    "print(\"Exercise 96 is complete\")"
   ]
  },
  {
   "cell_type": "code",
   "execution_count": 129,
   "metadata": {
    "id": "mAdGJjId_Wvl"
   },
   "outputs": [
    {
     "name": "stdout",
     "output_type": "stream",
     "text": [
      "Exercise 97 is complete.\n"
     ]
    }
   ],
   "source": [
    "# Exercise 97\n",
    "# Write a function named number_of_item_types that takes in the shopping cart as input and returns the number of unique item types in the shopping cart. \n",
    "# We're not yet using the quantity of each item, but rather focusing on determining how many different types of items are in the cart.\n",
    "def number_of_item_types(shopping_cart):\n",
    "    return len(shopping_cart['items'])\n",
    "assert number_of_item_types(shopping_cart) == 5\n",
    "print(\"Exercise 97 is complete.\")"
   ]
  },
  {
   "cell_type": "code",
   "execution_count": 130,
   "metadata": {
    "id": "h7OTsKND_Wvm"
   },
   "outputs": [
    {
     "name": "stdout",
     "output_type": "stream",
     "text": [
      "Exercise 99 is complete.\n"
     ]
    }
   ],
   "source": [
    "# Exercise 99\n",
    "# Write a function named get_average_item_price that takes in the shopping cart as an input and returns the average of all the item prices.\n",
    "# Hint - This should determine the total price divided by the number of types of items. This does not account for each item type's quantity.\n",
    "def get_average_item_price(shopping_cart):\n",
    "    total = 0\n",
    "    for item in shopping_cart['items']:\n",
    "        total += item['price']\n",
    "    return total / number_of_item_types(shopping_cart)\n",
    "assert get_average_item_price(shopping_cart) == 2.1420000000000003\n",
    "print(\"Exercise 99 is complete.\")"
   ]
  },
  {
   "cell_type": "code",
   "execution_count": 131,
   "metadata": {
    "id": "5SReB-60_Wvo"
   },
   "outputs": [
    {
     "name": "stdout",
     "output_type": "stream",
     "text": [
      "Exercise 100 is complete.\n"
     ]
    }
   ],
   "source": [
    "# Exercise 100\n",
    "# Write a function named get_average_spent_per_item that takes in the shopping cart and returns the average of summing each item's quanties times that item's price.\n",
    "# Hint: You may need to set an initial total price and total total quantity to zero, then sum up and divide that total price by the total quantity\n",
    "def get_average_spent_per_item(shopping_cart):\n",
    "    total = 0\n",
    "    totalQuantity = 0\n",
    "    for item in shopping_cart['items']:\n",
    "        total += item['price'] * item['quantity']\n",
    "        totalQuantity += item['quantity']\n",
    "    return total / totalQuantity\n",
    "assert get_average_spent_per_item(shopping_cart) == 1.333529411764706\n",
    "print(\"Exercise 100 is complete.\")"
   ]
  },
  {
   "cell_type": "code",
   "execution_count": 132,
   "metadata": {
    "id": "M1dinsDFNB4Z"
   },
   "outputs": [
    {
     "name": "stdout",
     "output_type": "stream",
     "text": [
      "Exercise Function HW2 Function1 is complete.\n"
     ]
    }
   ],
   "source": [
    "# HW 2 Function 1: Combine Lists\n",
    "# Edit the function combine_lists so that it takes two lists (sequences) as input \n",
    "# and returns a new list containing all elements from both lists; the\n",
    "# elements of the first list, followed by the elements of the second list. \n",
    "# The original lists should not be modified. No \"for loops\"! \n",
    "\n",
    "first = [1,2,3]\n",
    "second = [4, 5, 6]\n",
    "\n",
    "def combine_lists(a,b):\n",
    "    return a+b\n",
    "# uncomment this to check your work with the example lists\n",
    "# Extra Credit if you make your own example and assert to check it. \n",
    "# There are examples in the PDF that will also be provided\n",
    "assert combine_lists(first, second) == [1, 2, 3, 4, 5, 6]\n",
    "print(\"Exercise Function HW2 Function1 is complete.\")"
   ]
  },
  {
   "cell_type": "code",
   "execution_count": 133,
   "metadata": {
    "id": "_prNn2ifN5FZ"
   },
   "outputs": [
    {
     "name": "stdout",
     "output_type": "stream",
     "text": [
      "Exercise Function HW2 Function2 is complete.\n"
     ]
    }
   ],
   "source": [
    "# Function 2: last_n_elements\n",
    "# Edit the function last_n_elements so that it uses a slice to return the last n items of a sequence. \n",
    "# The original sequence should not be modified. Do not use len() in your slice. \n",
    "# If you feel you need it, please review the lecture slides about slices.\n",
    "\n",
    "\n",
    "fruits = ['apples', 'grapes', 'peaches', 'apricots', 'bananas']\n",
    "def last_n_elements(l,n):\n",
    "    return l[-n:]\n",
    "\n",
    "# uncomment the asserts to check your work with the example list\n",
    "# Use the asserts as examples of how the code should work\n",
    "# Extra Credit if you make your own example and assert to check it. \n",
    "# There are examples in the PDF that will also be provided\n",
    "assert last_n_elements(fruits, 3) == ['peaches', 'apricots', 'bananas']\n",
    "assert last_n_elements(fruits, 1) == ['bananas']\n",
    "print(\"Exercise Function HW2 Function2 is complete.\")"
   ]
  },
  {
   "cell_type": "code",
   "execution_count": 134,
   "metadata": {
    "id": "aADfuEcBO38w"
   },
   "outputs": [
    {
     "name": "stdout",
     "output_type": "stream",
     "text": [
      "Exercise Function HW2 Function3 is complete.\n"
     ]
    }
   ],
   "source": [
    "# Function 3: power_list\n",
    "# Make the function power_list so that it accepts a list of numbers and returns a new list \n",
    "# that contains each number raised to the i-th power \n",
    "# where i is the index of that number in the given list.\n",
    "# Use a list comprehension.\n",
    "\n",
    "\n",
    "list1 = [2, 2, 2, 2, 2, 2]\n",
    "list2 = [9, 6, 5, 4]\n",
    "\n",
    "def power_list(l):\n",
    "    result = []\n",
    "    for i in range(len(l)):\n",
    "        result.append(l[i]**i)\n",
    "    return result\n",
    "# uncomment the asserts to check your work with the example list\n",
    "# Use the asserts as examples of how the code should work\n",
    "# Extra Credit if you make your own example and assert to check it. \n",
    "# There are examples in the PDF that will also be provided\n",
    "assert power_list(list1) == [1, 2, 4, 8, 16, 32]\n",
    "assert power_list(list2) == [1, 6, 25, 64]\n",
    "print(\"Exercise Function HW2 Function3 is complete.\")"
   ]
  },
  {
   "cell_type": "code",
   "execution_count": 135,
   "metadata": {
    "id": "ruZRCoFiP9P4"
   },
   "outputs": [
    {
     "name": "stdout",
     "output_type": "stream",
     "text": [
      "Exercise Function HW2 Function4 is complete.\n"
     ]
    }
   ],
   "source": [
    "# Function 4: rotate_list\n",
    "# Make the function rotate_list so that it removes the first item from a given list, \n",
    "# adds it to the end of the list, and returns the item that was moved.\n",
    "# No \"for loops\"!\n",
    "# Hint: Look through the documentation on sequence types (ie, lists) for methods that would be useful. Do not use del . \n",
    "\n",
    "\n",
    "numbers = [1, 2, 3, 4]\n",
    "\n",
    "def rotate_list(l):\n",
    "    first = l[0]\n",
    "    l.pop(0)\n",
    "    l.append(first)\n",
    "    return first\n",
    "    \n",
    "    \n",
    "\n",
    "# uncomment the asserts to check your work with the example list\n",
    "# Use the asserts as examples of how the code should work\n",
    "# Extra Credit if you make your own example and assert to check it. \n",
    "# There are examples in the PDF that will also be provided\n",
    "assert rotate_list(numbers) == 1\n",
    "assert numbers == [2, 3, 4, 1]\n",
    "print(\"Exercise Function HW2 Function4 is complete.\")"
   ]
  },
  {
   "cell_type": "code",
   "execution_count": 136,
   "metadata": {
    "id": "M9KPyU3tSFSl"
   },
   "outputs": [
    {
     "name": "stdout",
     "output_type": "stream",
     "text": [
      "Exercise Function HW2 Function5 is complete.\n"
     ]
    }
   ],
   "source": [
    "# Function 5: get_word_codes \n",
    "# Edit the function get_word_codes so that it accepts a list of strings and returns a dictionary \n",
    "# containing the strings as keys and a list of corresponding character codes as values. \n",
    "# It should work on any strings. Use a dictionary comprehension.\n",
    "# Hint: Look through Python's built-in functions for a useful function to use for this.\n",
    "\n",
    "words = ['yes', 'no']\n",
    "\n",
    "def get_word_codes(words):\n",
    "    result = {}\n",
    "    for word in words:\n",
    "        t = []\n",
    "        for c in word:\n",
    "            t.append(ord(c))\n",
    "        result[word] = t\n",
    "    return result\n",
    "# uncomment the asserts to check your work with the example list\n",
    "# Use the asserts as examples of how the code should work\n",
    "# Extra Credit if you make your own example and assert to check it. \n",
    "# There are examples in the PDF that will also be provided\n",
    "assert get_word_codes(words) == {'yes': [121, 101, 115], 'no':[110, 111]}\n",
    "print(\"Exercise Function HW2 Function5 is complete.\")"
   ]
  },
  {
   "cell_type": "code",
   "execution_count": 137,
   "metadata": {
    "id": "CFTAbu72Tt9D"
   },
   "outputs": [
    {
     "name": "stdout",
     "output_type": "stream",
     "text": [
      "Exercise Function HW2 Function6 is complete.\n"
     ]
    }
   ],
   "source": [
    "# Function 6: words_containing\n",
    "# Given a sentence and a lowercase letter, \n",
    "# return a list of words from the sentence that contain the letter, \n",
    "# ignoring the case of the words in the sentence. \n",
    "# Look up methods on the str object to get a list of words from the sentence. \n",
    "# Then use a list comprehension to get the final list to return.\n",
    "\n",
    "\n",
    "sentence1 = \"Anyone who has never made a mistake has never tried anything new\"\n",
    "def words_containing(sentence, c):\n",
    "    result = []\n",
    "    for s in sentence.split(' '):\n",
    "        if c in s.lower():\n",
    "            result.append(s)\n",
    "    return result\n",
    "        \n",
    "\n",
    "# uncomment the asserts to check your work with the example list\n",
    "# Use the asserts as examples of how the code should work\n",
    "# Extra Credit if you make your own example and assert to check it. \n",
    "# There are examples in the PDF that will also be provided\n",
    "assert words_containing(sentence1, 'a') == ['Anyone', 'has', 'made', 'a',  'mistake', 'has', 'anything']\n",
    "print(\"Exercise Function HW2 Function6 is complete.\")"
   ]
  },
  {
   "cell_type": "markdown",
   "metadata": {
    "id": "Bbtmn0AqDjVN"
   },
   "source": [
    "\n",
    "\n",
    "```\n",
    "1 \n",
    "2 2 \n",
    "3 3 3 \n",
    "4 4 4 4 \n",
    "\n",
    "```\n",
    "\n"
   ]
  },
  {
   "cell_type": "code",
   "execution_count": 138,
   "metadata": {
    "id": "Hk-aPIpMDIdI"
   },
   "outputs": [
    {
     "name": "stdout",
     "output_type": "stream",
     "text": [
      "1\n",
      "2 2\n",
      "3 3 3\n",
      "4 4 4 4\n"
     ]
    }
   ],
   "source": [
    "# Function 7: Write a function to print the above output starting with the number taken as an arguemnt in the example it is 1\n",
    "def f(n):\n",
    "    for i in range(n):\n",
    "        t = [i+1] * (i+1)\n",
    "        print(' '.join([str(i)for i in t]))\n",
    "f(4)"
   ]
  },
  {
   "cell_type": "markdown",
   "metadata": {
    "id": "WaXyaVu8Euot"
   },
   "source": [
    "\n",
    "\n",
    "```\n",
    "Lion\n",
    "Deer\n",
    "Sheep\n",
    "Cub\n",
    "Fawn\n",
    "Lamb\n",
    "\n",
    "```\n",
    "\n"
   ]
  },
  {
   "cell_type": "code",
   "execution_count": 139,
   "metadata": {
    "id": "ITwDGOnYELWN"
   },
   "outputs": [
    {
     "name": "stdout",
     "output_type": "stream",
     "text": [
      "Lion\n",
      "Deer\n",
      "Sheep\n",
      "Cub\n",
      "Fawn\n",
      "Lamb\n"
     ]
    }
   ],
   "source": [
    "# Function 8: nested_loops_print_items\n",
    "\n",
    "# Write a function that takes in a list of lists\n",
    "# and prints every item in every list once\n",
    "# it should look like the above output \n",
    "\n",
    "def f8(l):\n",
    "    for item in l:\n",
    "        print(item)\n",
    "f8(['Lion', 'Deer', 'Sheep', 'Cub', 'Fawn', 'Lamb'])\n",
    "\n",
    "\n"
   ]
  },
  {
   "cell_type": "markdown",
   "metadata": {
    "id": "w5y0HId9gsa6"
   },
   "source": [
    "# Classes"
   ]
  },
  {
   "cell_type": "code",
   "execution_count": 140,
   "metadata": {
    "id": "DrrQg-9Ofik9"
   },
   "outputs": [
    {
     "name": "stdout",
     "output_type": "stream",
     "text": [
      "5.0\n"
     ]
    }
   ],
   "source": [
    "# Class Function 1: Create a Point Class \n",
    "# Like a Point on a Line\n",
    "# Instructions Below\n",
    "import math\n",
    "class Point:\n",
    "    def __init__(self,x=0,y=0):\n",
    "        self.x= x\n",
    "        self.y = y\n",
    "        self.get_magnitude = math.sqrt(x**2+y**2)\n",
    "        \n",
    "p1 = Point(3,4)\n",
    "print(p1.get_magnitude)\n",
    "# Name your Class Point\n",
    "# Initialize your class with two arguments x and y\n",
    "## Use the __init__ dunder method to initialize your class\n",
    "# Import any necessary libraries outside of your class\n",
    "# set a default point \n",
    "# make this default pint the origin (0,0)\n",
    "# Add an attribute call get_magnitude that returns the magnitude of the line between the origin (0,0) and your point(x,y)\n",
    "\n",
    "\n"
   ]
  },
  {
   "cell_type": "code",
   "execution_count": 141,
   "metadata": {
    "id": "jNyKXjIBvSJp"
   },
   "outputs": [
    {
     "name": "stdout",
     "output_type": "stream",
     "text": [
      "welcome to our bank!\n",
      "deposit: 100\n",
      "current balance: 100\n",
      "withdraw: 200\n",
      "not enough balance\n",
      "current balance: 100\n",
      "------str--------\n",
      "Bank Account:\n",
      "balance: 100\n",
      "--------------\n",
      "__repr__ is more necessary\n"
     ]
    }
   ],
   "source": [
    "# Class Function 2: Making a Bank Account Class \n",
    "\n",
    "# Name your class BankAccount\n",
    "# Initialize your class with zero arguments\n",
    "# In your initialization include a a self attribute for balance that shows it is equal to some amount (usually 0 but why be broke)\n",
    "# Include a welcoming print statement\n",
    "# In your initialization include a a self attribute to print the balance\n",
    "class BankAccount():\n",
    "    def __init__(self):\n",
    "        print('welcome to our bank!')\n",
    "        self.balance = 0\n",
    "    \n",
    "    \n",
    "# add an attribute called deposit (should be a function) that takes in an argument called amount\n",
    "## inside deposit should be an attribute that adds the amount from the deposit argument and changes your balance\n",
    "## inside include a print statement with the amount deposited\n",
    "## inside deposit should be a self attribute to print the new  balance\n",
    "    def deposit(self, amount):\n",
    "        self.deposit = amount\n",
    "        self.balance+= amount\n",
    "        print('deposit:', amount)\n",
    "        print('current balance:', self.balance)\n",
    "# add an attribute called withdraw (should be a function) that takes in an argument called amount\n",
    "## inside withdraw should be an attribute that adds the amount from the deposit argument and changes your balance\n",
    "## inside include a print statement with the amount withdrawn\n",
    "## inside withdraw should be a self attribute to print the new  balance\n",
    "## add functionality to test if the amount you are trying to withdraw is higher than the current balance\n",
    "    def withdraw(self, amount):\n",
    "        print('withdraw:', amount)\n",
    "        if(amount <= self.balance):\n",
    "            self.balance -= amount\n",
    "            print('current balance:', self.balance)\n",
    "        else:\n",
    "            print('not enough balance')\n",
    "    def print_balance(self):\n",
    "        print('current balance:', self.balance)\n",
    "    def __str__(self):\n",
    "        return '------str--------\\nBank Account:\\nbalance: '+ str(self.balance) + '\\n--------------'\n",
    "    def __repr__(self):\n",
    "        return '------repr--------\\nBank Account:\\nbalance: '+ str(self.balance) + '\\n--------------'\n",
    "bankAccount = BankAccount()\n",
    "bankAccount.deposit(100)\n",
    "bankAccount.withdraw(200)\n",
    "bankAccount.print_balance()\n",
    "print(bankAccount)\n",
    "# add an attribute called print_balance (should be a function) that takes in no arguments\n",
    "## inside print_balance should be an attribute that prints the balance\n",
    "\n",
    "\n",
    "# Look up the __str__ method\n",
    "## add an attribute called __str__ that returns a very clear print statement when you just call your class instance\n",
    "\n",
    "# Look up the __repr__ method\n",
    "## add an attribute called __repr__ that returns a very clear print statement when you just call your class instance\n",
    "\n",
    "## which one of these is more necessary for Colab vs Replit\n",
    "\n",
    "print('__repr__ is more necessary')"
   ]
  },
  {
   "cell_type": "code",
   "execution_count": 142,
   "metadata": {},
   "outputs": [
    {
     "data": {
      "text/plain": [
       "------repr--------\n",
       "Bank Account:\n",
       "balance: 100\n",
       "--------------"
      ]
     },
     "execution_count": 142,
     "metadata": {},
     "output_type": "execute_result"
    }
   ],
   "source": [
    "bankAccount"
   ]
  },
  {
   "cell_type": "code",
   "execution_count": 143,
   "metadata": {
    "id": "8oXON7iZvGV9"
   },
   "outputs": [
    {
     "name": "stdout",
     "output_type": "stream",
     "text": [
      "12.566370614359172\n",
      "Explain how this helps you:\n",
      "The use of decorators reduces the definition of attributes, encapsulates the calculation of attributes through functions, and calls functions without parentheses\n",
      "new diameter: 6.0\n"
     ]
    }
   ],
   "source": [
    "# Class Function 3: Making a Circle Class\n",
    "\n",
    "\n",
    "# Name your class Circle\n",
    "# Initialize your class with an argument called radius with a default value\n",
    "# Import any libraries you need outside your class\n",
    "# In your initialization include a self attribute for radius that is equal to your argument\n",
    "# In your initialization include a self attribute called area that is equal to the area of a circle\n",
    "import math\n",
    "class Circle:\n",
    "    def __init__(self, radius = 1):\n",
    "        self.radius = radius\n",
    "    @property\n",
    "    def area(self):\n",
    "        return self.radius**2 * math.pi\n",
    "    @property\n",
    "    def diameter(self):\n",
    "        return 2 * self.radius\n",
    "    @diameter.setter\n",
    "    def diameter(self, v):\n",
    "        self.radius=v/2\n",
    "\n",
    "circle = Circle(2)\n",
    "print(circle.area)\n",
    "print('Explain how this helps you:')\n",
    "print('The use of decorators reduces the definition of attributes, encapsulates the calculation of attributes through functions, and calls functions without parentheses')\n",
    "circle.diameter = 6\n",
    "print('new diameter:', circle.diameter)\n",
    "# Investigate the property decorator\n",
    "# Convert you area initialization property to an attribut and assign it a property decorator\n",
    "# Explain how this helps you\n",
    "# Add another attribute called diameter (with no arguments)and assign it a property decorator\n",
    "\n",
    "# You should try resetting your diameter\n",
    "\n",
    "# Edit your attribute diameter to include an argument\n",
    "# Add a property decorator called diameter.setter \n",
    "\n",
    "# Try resetting your diameter again\n",
    "\n",
    "\n",
    "\n",
    "\n",
    "\n"
   ]
  },
  {
   "cell_type": "markdown",
   "metadata": {
    "id": "0w4rV5wH_jwv"
   },
   "source": [
    "# Inheritances\n",
    "\n",
    "Working with Super Classes and multiple inheritances\n",
    "\n",
    "Note: initialization steps are also sometimes called instructors"
   ]
  },
  {
   "cell_type": "code",
   "execution_count": 144,
   "metadata": {
    "id": "FLpcwwqW_yq5"
   },
   "outputs": [
    {
     "name": "stdout",
     "output_type": "stream",
     "text": [
      "address: London\n",
      "age: 12\n",
      "name: Mike\n"
     ]
    }
   ],
   "source": [
    "# Class Function 4: Inheritances\n",
    "\n",
    "\n",
    "# Name your class Base\n",
    "# Initialize your class with an argument called name\n",
    "class Base:\n",
    "    def __init__(self, name):\n",
    "        self.name = name\n",
    "    def getName(self):\n",
    "        return self.name\n",
    "class Child(Base):\n",
    "    def __init__(self, name, age):\n",
    "        super().__init__(name)\n",
    "        self.age = age\n",
    "    def getAge(self):\n",
    "        return self.age\n",
    "class Granchild(Child):\n",
    "    def __init__(self, name, age, address):\n",
    "        super().__init__(name, age)\n",
    "        self.address = address\n",
    "    def getAddress(self):\n",
    "        return self.address\n",
    "mike = Granchild('Mike', 12, 'London')\n",
    "print('address:', mike.getAddress())\n",
    "print('age:', mike.getAge())\n",
    "print('name:', mike.getName())\n",
    "    \n",
    "# In your initialization include a self attribute name that is equal to your argument\n",
    "# Add an attribute called getName that returns the instance of name\n",
    "\n",
    "# Make an inherited class or sub class of Base called Child\n",
    "# Create a contrustor for you class/Initialize this class with two arguments: name and age\n",
    "# In your initialization include a self attribute age that is equal to your argument for age\n",
    "# Call your Parent class base then using the .__init__ function initalize the constructor from your parent class for name\n",
    "# Add an attribute called getAge that returns the instance of age\n",
    "\n",
    "# Make an inherited class or sub class of Child called Granchild\n",
    "# Create a contrustor for you class/Initialize this class with three arguments: name and age and address\n",
    "# In your initialization include a self attribute address that is equal to your argument for address\n",
    "# Call your Parent class Child then using the .__init__ function initalize the constructor from your parent class for name and age\n",
    "# Add an attribute called getAddress that returns the instance of address\n",
    "\n",
    "\n",
    "\n",
    "\n"
   ]
  },
  {
   "cell_type": "markdown",
   "metadata": {
    "id": "ielHy1nF3ki2"
   },
   "source": [
    "# Collections\n"
   ]
  },
  {
   "cell_type": "code",
   "execution_count": 145,
   "metadata": {
    "id": "C-FZkGa93X16"
   },
   "outputs": [],
   "source": [
    "# Collections Function 1\n",
    "# Write a function to find the 10 most common words in a selected text\n",
    "# Import necessary libraries or collections\n",
    "\n",
    "\n",
    "text = \"\"\"The Python Software Foundation (PSF) is a 501(c)(3) non-profit \n",
    "corporation that holds the intellectual property rights behind\n",
    "the Python programming language. We manage the open source licensing \n",
    "for Python version 2.1 and later and own and protect the trademarks \n",
    "associated with Python. We also run the North American PyCon conference \n",
    "annually, support other Python conferences around the world, and \n",
    "fund Python related development with our grants program and by funding \n",
    "special projects.\"\"\"\n",
    "from collections import defaultdict\n",
    "def ten_most_common_words(text):\n",
    "    d = defaultdict(int)\n",
    "    text = text.replace('\\n', ' ')\n",
    "    words = text.split(' ')\n",
    "    for word in words:\n",
    "        word = word.strip('.,() ')\n",
    "        if(word!=''):\n",
    "            d[word] += 1\n",
    "    return sorted(d.items(), key = lambda x: -x[1])[0:10]\n",
    "    \n",
    "\n",
    "assert ten_most_common_words(text) == [('Python', 6), ('the', 6), ('and', 5), ('We', 2), ('with', 2), ('The', 1), ('Software', 1), ('Foundation', 1), ('PSF', 1), ('is', 1)]\n"
   ]
  },
  {
   "cell_type": "code",
   "execution_count": 146,
   "metadata": {
    "id": "TiKKY8a04Pbh"
   },
   "outputs": [
    {
     "name": "stdout",
     "output_type": "stream",
     "text": [
      "please movie's title: Tom and Jack\n",
      "please movie's director: Rose\n",
      "please movie's release year: 2022\n",
      "please movie's budget: 1000000\n"
     ]
    },
    {
     "data": {
      "text/plain": [
       "Movie(title='Tom and Jack', director='Rose', release_year=2022, budget=1000000)"
      ]
     },
     "execution_count": 146,
     "metadata": {},
     "output_type": "execute_result"
    }
   ],
   "source": [
    "# Collections Code 2\n",
    "# This is going to be a little different\n",
    "# I am not asking you to write a function, just code, similar to chatbot\n",
    "\n",
    "# Import necessary libraries or collections\n",
    "# Define a Movie tuple using namedtuple that accepts \n",
    "# a title, a director, a release year, and a budget. \n",
    "# Prompt the user(yourself in this case) to provide information for each of these fields \n",
    "# and create an instance of the Movie tuple you defined.\n",
    "\n",
    "from collections import namedtuple\n",
    "\n",
    "Movie = namedtuple('Movie', ['title', 'director', 'release_year', 'budget'])\n",
    "title = input(\"please movie's title: \")\n",
    "director = input(\"please movie's director: \")\n",
    "release_year = int(input(\"please movie's release year: \"))\n",
    "budget = int(input(\"please movie's budget: \"))\n",
    "movie = Movie(title, director, release_year, budget)\n",
    "movie\n",
    "\n"
   ]
  },
  {
   "cell_type": "code",
   "execution_count": null,
   "metadata": {},
   "outputs": [],
   "source": []
  }
 ],
 "metadata": {
  "colab": {
   "name": "IntrotoPython_HW2_Topic1.ipynb",
   "provenance": []
  },
  "kernelspec": {
   "display_name": "python tfbook",
   "language": "python",
   "name": "tfbook"
  },
  "language_info": {
   "codemirror_mode": {
    "name": "ipython",
    "version": 3
   },
   "file_extension": ".py",
   "mimetype": "text/x-python",
   "name": "python",
   "nbconvert_exporter": "python",
   "pygments_lexer": "ipython3",
   "version": "3.7.3"
  }
 },
 "nbformat": 4,
 "nbformat_minor": 1
}
