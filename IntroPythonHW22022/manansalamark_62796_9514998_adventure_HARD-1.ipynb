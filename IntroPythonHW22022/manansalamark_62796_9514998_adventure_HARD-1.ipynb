{
  "nbformat": 4,
  "nbformat_minor": 0,
  "metadata": {
    "colab": {
      "name": "adventure HARD",
      "provenance": []
    },
    "kernelspec": {
      "name": "python3",
      "display_name": "Python 3"
    },
    "language_info": {
      "name": "python"
    }
  },
  "cells": [
    {
      "cell_type": "code",
      "execution_count": 4,
      "metadata": {
        "colab": {
          "base_uri": "https://localhost:8080/"
        },
        "id": "bj9c5_Y4-KUn",
        "outputId": "d3478223-ea6b-4db7-f171-417bb79caf6f"
      },
      "outputs": [
        {
          "output_type": "stream",
          "name": "stdout",
          "text": [
            "Hello player! What is your name?: mark\n",
            "mark to start off, which item will you choose? A gun (g) or a Canada Dry(c)?: c\n",
            "You chose the Canada Dry over the gun? ... not the brightest\n",
            "You wake in the hall of your 8th grade math class. Shit.\n",
            "The stupid pythagorean poster is still on the wall... you were never any good at math\n",
            "In the silence, you hear a noise, do you follow it? (y/n): y\n",
            "You keep moving closer to the sound.\n",
            "The sound suddenly stops.\n",
            "You are now LOST!...\n",
            "You try to call on your phone, but there is no signal!\n",
            "You have reached the hallway, do you go left (l) or right (r)?: l\n",
            "you reach an abandoned cabin, where you find the old man\n",
            "he welcomes you in for a tale\n",
            "when i was a kid, my pop would always spoonfeed me soda. you remind me of my dad... that's not weird right?\n",
            "woah, that is a canada dry? i'll trade it to you for a map\n",
            "PLEASE. I NEED IT\n",
            "You trade the worthless garbage for the map, and find your way home\n",
            "CONGRATULATIONS! You won the game\n"
          ]
        }
      ],
      "source": [
        "#adventure game\n",
        "import time\n",
        "\n",
        "player_name = input(\"Hello player! What is your name?: \")\n",
        "weapon = input(player_name + \" to start off, which item will you choose? A gun (g) or a Canada Dry(c)?: \")\n",
        "if weapon.lower() == \"c\":\n",
        "  print(\"You chose the Canada Dry over the gun? ... not the brightest\") \n",
        "if weapon.lower() == \"g\":\n",
        "  print(\"Good Choice, yet you find yourself a bit thirsty\")\n",
        "time.sleep(3)\n",
        "print(\"You wake in the hall of your 8th grade math class. Shit.\")\n",
        "time.sleep(3)\n",
        "print(\"The stupid pythagorean poster is still on the wall... you were never any good at math\")\n",
        "time.sleep(3)\n",
        "follow_sound = input(\"In the silence, you hear a noise, do you follow it? (y/n): \")\n",
        "if follow_sound == \"y\":\n",
        "  print(\"You keep moving closer to the sound.\")\n",
        "  time.sleep(3)\n",
        "  print(\"The sound suddenly stops.\")\n",
        "  time.sleep(2)\n",
        "  print(\"You are now LOST!...\")\n",
        "  time.sleep(1)\n",
        "  print(\"You try to call on your phone, but there is no signal!\")\n",
        "  time.sleep(3)\n",
        "  where_now = input(\"You have reached the hallway, do you go left (l) or right (r)?: \")\n",
        "  if where_now.lower() == \"l\":\n",
        "    print(\"you reach an abandoned cabin, where you find the old man\")\n",
        "    time.sleep(3)\n",
        "    print(\"he welcomes you in for a tale\")\n",
        "    time.sleep(3)\n",
        "    print(\"when i was a kid, my pop would always spoonfeed me soda. you remind me of my dad... that's not weird right?\")\n",
        "    if weapon.lower() == \"c\":\n",
        "      print(\"woah, that is a canada dry? i'll trade it to you for a map\")\n",
        "      time.sleep(3)\n",
        "      print(\"PLEASE. I NEED IT\")\n",
        "      time.sleep(1)\n",
        "      print(\"You trade the worthless garbage for the map, and find your way home\")\n",
        "      time.sleep(2)\n",
        "      print(\"CONGRATULATIONS! You won the game\")\n",
        "      exit()\n",
        "    if weapon.lower() == \"g\":\n",
        "      print(\"woah IS THAT A GUN\")\n",
        "      time.sleep(1)\n",
        "      print(\"(you didn't know this guy was a war vet)\")\n",
        "      time.sleep(3)\n",
        "      print(\"he shoots you first. you have lost\")\n",
        "      time.sleep(1)\n",
        "      exit()\n",
        "  if where_now.lower() == \"r\":\n",
        "    print(\"You reach a river with a broken bridge, if only you had a tool to fix it\")\n",
        "    if weapon.lower() == \"c\":\n",
        "      print(\"the man comes out the abandon cabin with some planks. man lucky you had that canada dry!\")\n",
        "      time.sleep(3)\n",
        "      print(\"You chose an item that somehow led to the fixing of the bridge. CONGRADULATIONS! You won the game!\")\n",
        "    if weapon.lower() == \"g\":\n",
        "      print(\"i mean you search your pockets and feel the blood stain on your pants\")\n",
        "      time.sleep(3)\n",
        "      print(\"you really should've picked the canada dry\")\n",
        "      time.sleep(2)\n",
        "      print(\"you shoot the bridge out of desperation\")\n",
        "      time.sleep(1)\n",
        "      print(\"aand... nothing. you lost the game\")\n",
        "      exti()\n",
        "if follow_sound == \"n\":\n",
        "  print(\"Good idea. You are not taking risks.\")\n",
        "  time.sleep(2)\n",
        "  print(\"You start walking back to the starting point.\")\n",
        "  time.sleep(2)\n",
        "  print(\"You realize you are LOST!\")\n",
        "  time.sleep(2)\n",
        "  print(\"The sound is behind you and is geting louder. You panic!\")\n",
        "  time.sleep(2)\n",
        "  print(\"oh shoot, im the narrator and i feel like i need out of here\")\n",
        "  time.sleep(3)\n",
        "  run_or_call = input(\"You feel your phone in your right pocket? Do you call (c) or get outta here (r)?: \")\n",
        "  call_counter = 0\n",
        "  while run_or_call == \"c\":\n",
        "    print(\"ohh nahh bro this is why you dont get cricket wireless\")\n",
        "    call_counter = call_counter + 1 \n",
        "    run_or_call = input(\"You feel your phone in your right pocket? Do you call (c) or get outta here (r)?: \")\n",
        "    if call_counter == 2:\n",
        "      print(\"you have died... stupid cricket wireless\")\n",
        "      break \n",
        "  print(\"You are running fast. The sound gets really loud\")\n",
        "  time.sleep(2)\n",
        "  print(\"A woman on an electric scooter comes up behind you\")\n",
        "  time.sleep(3)\n",
        "  favorite_language = input(\"She asks you: Hey\" + name + \". What is your favorite programming language?: \")\n",
        "  if favorite_language.lower() == \"python\" or favorite_language.lower() == \"canada dry\":\n",
        "    print(\"She says, Yes \" + favorite_language + \" is also my favorite programming language!\")\n",
        "    print(\"If you have some canada dry, I can help you\")\n",
        "    if weapon.lower() == \"c\":\n",
        "      print(\"Luckily you did choose correctly!, You give her the chocolate, She helps you get home, CONGRATULATIONS! You got out safely. You wont he game\")\n",
        "    if weapon.lower() == \"g\":\n",
        "      print(\"You shoul've chosen that damn canada dry, she rides away, leaving you lose. you lost the game\")\n",
        "\n",
        "\n",
        "\n",
        "\n"
      ]
    },
    {
      "cell_type": "code",
      "source": [
        "A "
      ],
      "metadata": {
        "id": "1b-W51OVAv60"
      },
      "execution_count": null,
      "outputs": []
    }
  ]
}