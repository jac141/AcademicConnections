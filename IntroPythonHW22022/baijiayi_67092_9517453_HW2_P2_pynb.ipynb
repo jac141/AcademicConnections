{
  "nbformat": 4,
  "nbformat_minor": 0,
  "metadata": {
    "colab": {
      "name": "HW2_P2.pynb",
      "provenance": []
    },
    "kernelspec": {
      "name": "python3",
      "display_name": "Python 3"
    },
    "language_info": {
      "name": "python"
    }
  },
  "cells": [
    {
      "cell_type": "code",
      "execution_count": null,
      "metadata": {
        "id": "hPnzcXBgNoVd"
      },
      "outputs": [],
      "source": [
        "# Experiment 1: Password Checker\n",
        "\n",
        "userinput = input(\"Enter the Password: \")\n",
        "while userinput != \"python17\":\n",
        "  print(\"Incorrect password\")\n",
        "  userinput = input(\"Please try again: \")\n",
        "print(\"Correct password\")\n",
        "\n",
        "\n"
      ]
    },
    {
      "cell_type": "code",
      "source": [
        "# Experiment 2: Dog or Cat to Human Age Calculator\n",
        "\n",
        "Animal = input(\"Enter Dog or Cat: \")\n",
        "Age = input (\"Enter the age of the animal: \")\n",
        "if Animal.lower() == \"dog\":\n",
        "  if Age == \"1\":\n",
        "    print(Age + \" Dog year = 12 human years\")\n",
        "  elif Age == \"2\":\n",
        "    print(Age + \" Dog years = 24 human years\")\n",
        "  else:\n",
        "    HumanAge = 24 + 4 *(int(Age)-2)\n",
        "    print(Age + \" Dog years = \" + str(HumanAge) + \" human years\")\n",
        "if Animal.lower() == \"cat\":\n",
        "  if Age == \"1\":\n",
        "    print(Age + \" Cat year = 15 human years\")\n",
        "  elif Age == \"2\":\n",
        "    print(Age + \" Cat years = 24 human years\")\n",
        "  else:\n",
        "    HumanAge = 24 + 4 *(int(Age)-2)\n",
        "    print(Age + \" Cat years = \" + str(HumanAge) + \" human years\")\n",
        "  "
      ],
      "metadata": {
        "id": "WtjsgMEyfkbU"
      },
      "execution_count": null,
      "outputs": []
    },
    {
      "cell_type": "code",
      "source": [
        "# Experiment 3: Quiz Game\n",
        "\n",
        "questions = [\"What is the capital of Peru: \",\"Which is the longest river: \"]\n",
        "answer = [\"Lima\",\"Amazon\"]\n",
        "score = 0\n",
        "for x in range(len(questions)):\n",
        "  user_answer = input(questions[x])\n",
        "  if user_answer.lower() == answer[x].lower():\n",
        "    print(\"You are correct\")\n",
        "    score += 1\n",
        "  else:\n",
        "    print(\"you are incorrect\")\n",
        "    print(\"the correct answer is \" + answer[x].lower())\n",
        "print(\"your score is: \" + str(score))\n",
        "  \n",
        "\n"
      ],
      "metadata": {
        "id": "Ms4IWVdkfkPp"
      },
      "execution_count": null,
      "outputs": []
    },
    {
      "cell_type": "code",
      "source": [
        "# Experiment 4: Count by 2s, 3s, or Multiples of Any Number\n",
        "n = 0\n",
        "count = input(\"Enter number you want to count by: \")\n",
        "quit_or_continue = input(\"Enter return to continue or q to quit:\")\n",
        "while quit_or_continue != \"q\":\n",
        "  n += int(count)\n",
        "  print(n)\n",
        "  quit_or_continue = input(\"Enter return to continue or q to quit: \")\n",
        "\n",
        "\n",
        "\n",
        "\n",
        "\n",
        "  \n",
        "\n"
      ],
      "metadata": {
        "id": "_pX1aF6BxwCo"
      },
      "execution_count": null,
      "outputs": []
    }
  ]
}