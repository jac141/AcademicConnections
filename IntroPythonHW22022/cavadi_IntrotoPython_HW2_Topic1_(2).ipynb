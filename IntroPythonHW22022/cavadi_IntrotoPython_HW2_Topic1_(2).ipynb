{
  "nbformat": 4,
  "nbformat_minor": 0,
  "metadata": {
    "colab": {
      "name": "IntrotoPython_HW2_Topic1 (2).ipynb",
      "provenance": []
    },
    "kernelspec": {
      "name": "python3",
      "display_name": "Python 3"
    },
    "language_info": {
      "name": "python"
    }
  },
  "cells": [
    {
      "cell_type": "markdown",
      "source": [
        "# Comprehensions"
      ],
      "metadata": {
        "id": "H69HHYvqGdwu"
      }
    },
    {
      "cell_type": "code",
      "source": [
        "# Comprehension Function 1\n",
        "# I am not asking you to write a function, just code, similar to chatbot\n",
        "\n",
        "# Using a list comprehension remove all the vowels in a string \n",
        "\n",
        "randomstring = \"capczidgfjwlgeio\"\n",
        "novowels = [char for char in randomstring if char not in \"AEIOUaeiou\"] #Well,  I guess I'm glad I finished all 90 exercises before starting this\n",
        "print(novowels)"
      ],
      "metadata": {
        "id": "bICDe4hIG4YH",
        "colab": {
          "base_uri": "https://localhost:8080/"
        },
        "outputId": "1c86ddbe-bae3-48de-c2b3-9b1eaa7fd45f"
      },
      "execution_count": null,
      "outputs": [
        {
          "output_type": "stream",
          "name": "stdout",
          "text": [
            "['c', 'p', 'c', 'z', 'd', 'g', 'f', 'j', 'w', 'l', 'g']\n"
          ]
        }
      ]
    },
    {
      "cell_type": "code",
      "source": [
        "# Comprehension Function 2\n",
        "# I am not asking you to write a function, just code, similar to chatbot\n",
        "\n",
        "# Using a dictionary comprehension to count the length of each word in a sentence\n",
        "#Wait, dictionary comprehension?\n",
        "\n",
        "newrandom = \"Here is a medium length sentence\" #Figured out what list comprehension is\n",
        "lengthrandom = [len(x) for x in newrandom.split()] #Len checks for length, split separates each word\n",
        "print(lengthrandom)\n",
        "#I don't know\n",
        "#I'm not sure how to make this work with a dictionary comprehension, but this works so I'll leave it here"
      ],
      "metadata": {
        "id": "Iy0d8WXHHATS",
        "colab": {
          "base_uri": "https://localhost:8080/"
        },
        "outputId": "18348b10-d372-4252-d03f-1ec8f432526a"
      },
      "execution_count": 9,
      "outputs": [
        {
          "output_type": "stream",
          "name": "stdout",
          "text": [
            "[4, 2, 1, 6, 6, 8]\n"
          ]
        }
      ]
    },
    {
      "cell_type": "code",
      "source": [
        "# Comprehension Function 3\n",
        "# I am not asking you to write a function, just code, similar to chatbot\n",
        "\n",
        "# Use a nested list comprehension to find all of the numbers \n",
        "# from 1–2000 that are divisible by any single digit besides 1 ( so just 2–9)\n",
        "\n",
        "#Something new every problem, huh?\n",
        "#numbers = []\n",
        "#for num in range(1, 2000):\n",
        " # if any(num % n == 0 for n in (2, 3, 4, 5, 6, 7, 8, 9)): #The one time the any command actually works for me\n",
        "   # numbers.append(num) #Check if the number's modulo with n == 0 and append if so. For loop sets n to 2-9 and checks again\n",
        "#print(numbers) \n",
        "\n",
        "#matrix = [[j for j in range(5)] for i in range(5)] #Copying code to figure it out\n",
        "#results = [max([divisor for divisor in range(1,10) if number % divisor == 0]) for number in range(1,1001) ]\n",
        "numbers = [num for num in range(1, 2000) for n in (2, 3, 4, 5, 6, 7, 8, 9) if num % n == 0] #Append integer for each integer in range that modulos 2-9 == 0\n",
        "#Alright, have to get rid of duplicate numbers\n",
        "print(set(numbers))"
      ],
      "metadata": {
        "id": "NBqRYB3sHKNu",
        "colab": {
          "base_uri": "https://localhost:8080/"
        },
        "outputId": "cb67850b-dbeb-4962-f078-7e8529f2e82c"
      },
      "execution_count": 83,
      "outputs": [
        {
          "output_type": "stream",
          "name": "stdout",
          "text": [
            "{2, 3, 4, 5, 6, 7, 8, 9, 10, 12, 14, 15, 16, 18, 20, 21, 22, 24, 25, 26, 27, 28, 30, 32, 33, 34, 35, 36, 38, 39, 40, 42, 44, 45, 46, 48, 49, 50, 51, 52, 54, 55, 56, 57, 58, 60, 62, 63, 64, 65, 66, 68, 69, 70, 72, 74, 75, 76, 77, 78, 80, 81, 82, 84, 85, 86, 87, 88, 90, 91, 92, 93, 94, 95, 96, 98, 99, 100, 102, 104, 105, 106, 108, 110, 111, 112, 114, 115, 116, 117, 118, 119, 120, 122, 123, 124, 125, 126, 128, 129, 130, 132, 133, 134, 135, 136, 138, 140, 141, 142, 144, 145, 146, 147, 148, 150, 152, 153, 154, 155, 156, 158, 159, 160, 161, 162, 164, 165, 166, 168, 170, 171, 172, 174, 175, 176, 177, 178, 180, 182, 183, 184, 185, 186, 188, 189, 190, 192, 194, 195, 196, 198, 200, 201, 202, 203, 204, 205, 206, 207, 208, 210, 212, 213, 214, 215, 216, 217, 218, 219, 220, 222, 224, 225, 226, 228, 230, 231, 232, 234, 235, 236, 237, 238, 240, 242, 243, 244, 245, 246, 248, 249, 250, 252, 254, 255, 256, 258, 259, 260, 261, 262, 264, 265, 266, 267, 268, 270, 272, 273, 274, 275, 276, 278, 279, 280, 282, 284, 285, 286, 287, 288, 290, 291, 292, 294, 295, 296, 297, 298, 300, 301, 302, 303, 304, 305, 306, 308, 309, 310, 312, 314, 315, 316, 318, 320, 321, 322, 324, 325, 326, 327, 328, 329, 330, 332, 333, 334, 335, 336, 338, 339, 340, 342, 343, 344, 345, 346, 348, 350, 351, 352, 354, 355, 356, 357, 358, 360, 362, 363, 364, 365, 366, 368, 369, 370, 371, 372, 374, 375, 376, 378, 380, 381, 382, 384, 385, 386, 387, 388, 390, 392, 393, 394, 395, 396, 398, 399, 400, 402, 404, 405, 406, 408, 410, 411, 412, 413, 414, 415, 416, 417, 418, 420, 422, 423, 424, 425, 426, 427, 428, 429, 430, 432, 434, 435, 436, 438, 440, 441, 442, 444, 445, 446, 447, 448, 450, 452, 453, 454, 455, 456, 458, 459, 460, 462, 464, 465, 466, 468, 469, 470, 471, 472, 474, 475, 476, 477, 478, 480, 482, 483, 484, 485, 486, 488, 489, 490, 492, 494, 495, 496, 497, 498, 500, 501, 502, 504, 505, 506, 507, 508, 510, 511, 512, 513, 514, 515, 516, 518, 519, 520, 522, 524, 525, 526, 528, 530, 531, 532, 534, 535, 536, 537, 538, 539, 540, 542, 543, 544, 545, 546, 548, 549, 550, 552, 553, 554, 555, 556, 558, 560, 561, 562, 564, 565, 566, 567, 568, 570, 572, 573, 574, 575, 576, 578, 579, 580, 581, 582, 584, 585, 586, 588, 590, 591, 592, 594, 595, 596, 597, 598, 600, 602, 603, 604, 605, 606, 608, 609, 610, 612, 614, 615, 616, 618, 620, 621, 622, 623, 624, 625, 626, 627, 628, 630, 632, 633, 634, 635, 636, 637, 638, 639, 640, 642, 644, 645, 646, 648, 650, 651, 652, 654, 655, 656, 657, 658, 660, 662, 663, 664, 665, 666, 668, 669, 670, 672, 674, 675, 676, 678, 679, 680, 681, 682, 684, 685, 686, 687, 688, 690, 692, 693, 694, 695, 696, 698, 699, 700, 702, 704, 705, 706, 707, 708, 710, 711, 712, 714, 715, 716, 717, 718, 720, 721, 722, 723, 724, 725, 726, 728, 729, 730, 732, 734, 735, 736, 738, 740, 741, 742, 744, 745, 746, 747, 748, 749, 750, 752, 753, 754, 755, 756, 758, 759, 760, 762, 763, 764, 765, 766, 768, 770, 771, 772, 774, 775, 776, 777, 778, 780, 782, 783, 784, 785, 786, 788, 789, 790, 791, 792, 794, 795, 796, 798, 800, 801, 802, 804, 805, 806, 807, 808, 810, 812, 813, 814, 815, 816, 818, 819, 820, 822, 824, 825, 826, 828, 830, 831, 832, 833, 834, 835, 836, 837, 838, 840, 842, 843, 844, 845, 846, 847, 848, 849, 850, 852, 854, 855, 856, 858, 860, 861, 862, 864, 865, 866, 867, 868, 870, 872, 873, 874, 875, 876, 878, 879, 880, 882, 884, 885, 886, 888, 889, 890, 891, 892, 894, 895, 896, 897, 898, 900, 902, 903, 904, 905, 906, 908, 909, 910, 912, 914, 915, 916, 917, 918, 920, 921, 922, 924, 925, 926, 927, 928, 930, 931, 932, 933, 934, 935, 936, 938, 939, 940, 942, 944, 945, 946, 948, 950, 951, 952, 954, 955, 956, 957, 958, 959, 960, 962, 963, 964, 965, 966, 968, 969, 970, 972, 973, 974, 975, 976, 978, 980, 981, 982, 984, 985, 986, 987, 988, 990, 992, 993, 994, 995, 996, 998, 999, 1000, 1001, 1002, 1004, 1005, 1006, 1008, 1010, 1011, 1012, 1014, 1015, 1016, 1017, 1018, 1020, 1022, 1023, 1024, 1025, 1026, 1028, 1029, 1030, 1032, 1034, 1035, 1036, 1038, 1040, 1041, 1042, 1043, 1044, 1045, 1046, 1047, 1048, 1050, 1052, 1053, 1054, 1055, 1056, 1057, 1058, 1059, 1060, 1062, 1064, 1065, 1066, 1068, 1070, 1071, 1072, 1074, 1075, 1076, 1077, 1078, 1080, 1082, 1083, 1084, 1085, 1086, 1088, 1089, 1090, 1092, 1094, 1095, 1096, 1098, 1099, 1100, 1101, 1102, 1104, 1105, 1106, 1107, 1108, 1110, 1112, 1113, 1114, 1115, 1116, 1118, 1119, 1120, 1122, 1124, 1125, 1126, 1127, 1128, 1130, 1131, 1132, 1134, 1135, 1136, 1137, 1138, 1140, 1141, 1142, 1143, 1144, 1145, 1146, 1148, 1149, 1150, 1152, 1154, 1155, 1156, 1158, 1160, 1161, 1162, 1164, 1165, 1166, 1167, 1168, 1169, 1170, 1172, 1173, 1174, 1175, 1176, 1178, 1179, 1180, 1182, 1183, 1184, 1185, 1186, 1188, 1190, 1191, 1192, 1194, 1195, 1196, 1197, 1198, 1200, 1202, 1203, 1204, 1205, 1206, 1208, 1209, 1210, 1211, 1212, 1214, 1215, 1216, 1218, 1220, 1221, 1222, 1224, 1225, 1226, 1227, 1228, 1230, 1232, 1233, 1234, 1235, 1236, 1238, 1239, 1240, 1242, 1244, 1245, 1246, 1248, 1250, 1251, 1252, 1253, 1254, 1255, 1256, 1257, 1258, 1260, 1262, 1263, 1264, 1265, 1266, 1267, 1268, 1269, 1270, 1272, 1274, 1275, 1276, 1278, 1280, 1281, 1282, 1284, 1285, 1286, 1287, 1288, 1290, 1292, 1293, 1294, 1295, 1296, 1298, 1299, 1300, 1302, 1304, 1305, 1306, 1308, 1309, 1310, 1311, 1312, 1314, 1315, 1316, 1317, 1318, 1320, 1322, 1323, 1324, 1325, 1326, 1328, 1329, 1330, 1332, 1334, 1335, 1336, 1337, 1338, 1340, 1341, 1342, 1344, 1345, 1346, 1347, 1348, 1350, 1351, 1352, 1353, 1354, 1355, 1356, 1358, 1359, 1360, 1362, 1364, 1365, 1366, 1368, 1370, 1371, 1372, 1374, 1375, 1376, 1377, 1378, 1379, 1380, 1382, 1383, 1384, 1385, 1386, 1388, 1389, 1390, 1392, 1393, 1394, 1395, 1396, 1398, 1400, 1401, 1402, 1404, 1405, 1406, 1407, 1408, 1410, 1412, 1413, 1414, 1415, 1416, 1418, 1419, 1420, 1421, 1422, 1424, 1425, 1426, 1428, 1430, 1431, 1432, 1434, 1435, 1436, 1437, 1438, 1440, 1442, 1443, 1444, 1445, 1446, 1448, 1449, 1450, 1452, 1454, 1455, 1456, 1458, 1460, 1461, 1462, 1463, 1464, 1465, 1466, 1467, 1468, 1470, 1472, 1473, 1474, 1475, 1476, 1477, 1478, 1479, 1480, 1482, 1484, 1485, 1486, 1488, 1490, 1491, 1492, 1494, 1495, 1496, 1497, 1498, 1500, 1502, 1503, 1504, 1505, 1506, 1508, 1509, 1510, 1512, 1514, 1515, 1516, 1518, 1519, 1520, 1521, 1522, 1524, 1525, 1526, 1527, 1528, 1530, 1532, 1533, 1534, 1535, 1536, 1538, 1539, 1540, 1542, 1544, 1545, 1546, 1547, 1548, 1550, 1551, 1552, 1554, 1555, 1556, 1557, 1558, 1560, 1561, 1562, 1563, 1564, 1565, 1566, 1568, 1569, 1570, 1572, 1574, 1575, 1576, 1578, 1580, 1581, 1582, 1584, 1585, 1586, 1587, 1588, 1589, 1590, 1592, 1593, 1594, 1595, 1596, 1598, 1599, 1600, 1602, 1603, 1604, 1605, 1606, 1608, 1610, 1611, 1612, 1614, 1615, 1616, 1617, 1618, 1620, 1622, 1623, 1624, 1625, 1626, 1628, 1629, 1630, 1631, 1632, 1634, 1635, 1636, 1638, 1640, 1641, 1642, 1644, 1645, 1646, 1647, 1648, 1650, 1652, 1653, 1654, 1655, 1656, 1658, 1659, 1660, 1662, 1664, 1665, 1666, 1668, 1670, 1671, 1672, 1673, 1674, 1675, 1676, 1677, 1678, 1680, 1682, 1683, 1684, 1685, 1686, 1687, 1688, 1689, 1690, 1692, 1694, 1695, 1696, 1698, 1700, 1701, 1702, 1704, 1705, 1706, 1707, 1708, 1710, 1712, 1713, 1714, 1715, 1716, 1718, 1719, 1720, 1722, 1724, 1725, 1726, 1728, 1729, 1730, 1731, 1732, 1734, 1735, 1736, 1737, 1738, 1740, 1742, 1743, 1744, 1745, 1746, 1748, 1749, 1750, 1752, 1754, 1755, 1756, 1757, 1758, 1760, 1761, 1762, 1764, 1765, 1766, 1767, 1768, 1770, 1771, 1772, 1773, 1774, 1775, 1776, 1778, 1779, 1780, 1782, 1784, 1785, 1786, 1788, 1790, 1791, 1792, 1794, 1795, 1796, 1797, 1798, 1799, 1800, 1802, 1803, 1804, 1805, 1806, 1808, 1809, 1810, 1812, 1813, 1814, 1815, 1816, 1818, 1820, 1821, 1822, 1824, 1825, 1826, 1827, 1828, 1830, 1832, 1833, 1834, 1835, 1836, 1838, 1839, 1840, 1841, 1842, 1844, 1845, 1846, 1848, 1850, 1851, 1852, 1854, 1855, 1856, 1857, 1858, 1860, 1862, 1863, 1864, 1865, 1866, 1868, 1869, 1870, 1872, 1874, 1875, 1876, 1878, 1880, 1881, 1882, 1883, 1884, 1885, 1886, 1887, 1888, 1890, 1892, 1893, 1894, 1895, 1896, 1897, 1898, 1899, 1900, 1902, 1904, 1905, 1906, 1908, 1910, 1911, 1912, 1914, 1915, 1916, 1917, 1918, 1920, 1922, 1923, 1924, 1925, 1926, 1928, 1929, 1930, 1932, 1934, 1935, 1936, 1938, 1939, 1940, 1941, 1942, 1944, 1945, 1946, 1947, 1948, 1950, 1952, 1953, 1954, 1955, 1956, 1958, 1959, 1960, 1962, 1964, 1965, 1966, 1967, 1968, 1970, 1971, 1972, 1974, 1975, 1976, 1977, 1978, 1980, 1981, 1982, 1983, 1984, 1985, 1986, 1988, 1989, 1990, 1992, 1994, 1995, 1996, 1998}\n"
          ]
        }
      ]
    },
    {
      "cell_type": "code",
      "source": [
        "numbers = []\n",
        "for num in range(1, 2000):\n",
        "  if any(num % n == 0 for n in (2, 3, 4, 5, 6, 7, 8, 9)): #Just to check that the other one is actually correct\n",
        "    numbers.append(num) \n",
        "print(numbers) \n",
        "#Uh, looks good? I'm not gonna compare the entire lists\n",
        "#One's in a set, this one's in a list, even though a list comprehension was asked for I'm not sure if the final print needs to be in a list so I'll just leave that as is"
      ],
      "metadata": {
        "colab": {
          "base_uri": "https://localhost:8080/"
        },
        "id": "Rnpxgx9NM1Mh",
        "outputId": "bce47c48-5022-46a9-e905-d5a004fabebd"
      },
      "execution_count": 67,
      "outputs": [
        {
          "output_type": "stream",
          "name": "stdout",
          "text": [
            "[2, 3, 4, 5, 6, 7, 8, 9, 10, 12, 14, 15, 16, 18, 20, 21, 22, 24, 25, 26, 27, 28, 30, 32, 33, 34, 35, 36, 38, 39, 40, 42, 44, 45, 46, 48, 49, 50, 51, 52, 54, 55, 56, 57, 58, 60, 62, 63, 64, 65, 66, 68, 69, 70, 72, 74, 75, 76, 77, 78, 80, 81, 82, 84, 85, 86, 87, 88, 90, 91, 92, 93, 94, 95, 96, 98, 99, 100, 102, 104, 105, 106, 108, 110, 111, 112, 114, 115, 116, 117, 118, 119, 120, 122, 123, 124, 125, 126, 128, 129, 130, 132, 133, 134, 135, 136, 138, 140, 141, 142, 144, 145, 146, 147, 148, 150, 152, 153, 154, 155, 156, 158, 159, 160, 161, 162, 164, 165, 166, 168, 170, 171, 172, 174, 175, 176, 177, 178, 180, 182, 183, 184, 185, 186, 188, 189, 190, 192, 194, 195, 196, 198, 200, 201, 202, 203, 204, 205, 206, 207, 208, 210, 212, 213, 214, 215, 216, 217, 218, 219, 220, 222, 224, 225, 226, 228, 230, 231, 232, 234, 235, 236, 237, 238, 240, 242, 243, 244, 245, 246, 248, 249, 250, 252, 254, 255, 256, 258, 259, 260, 261, 262, 264, 265, 266, 267, 268, 270, 272, 273, 274, 275, 276, 278, 279, 280, 282, 284, 285, 286, 287, 288, 290, 291, 292, 294, 295, 296, 297, 298, 300, 301, 302, 303, 304, 305, 306, 308, 309, 310, 312, 314, 315, 316, 318, 320, 321, 322, 324, 325, 326, 327, 328, 329, 330, 332, 333, 334, 335, 336, 338, 339, 340, 342, 343, 344, 345, 346, 348, 350, 351, 352, 354, 355, 356, 357, 358, 360, 362, 363, 364, 365, 366, 368, 369, 370, 371, 372, 374, 375, 376, 378, 380, 381, 382, 384, 385, 386, 387, 388, 390, 392, 393, 394, 395, 396, 398, 399, 400, 402, 404, 405, 406, 408, 410, 411, 412, 413, 414, 415, 416, 417, 418, 420, 422, 423, 424, 425, 426, 427, 428, 429, 430, 432, 434, 435, 436, 438, 440, 441, 442, 444, 445, 446, 447, 448, 450, 452, 453, 454, 455, 456, 458, 459, 460, 462, 464, 465, 466, 468, 469, 470, 471, 472, 474, 475, 476, 477, 478, 480, 482, 483, 484, 485, 486, 488, 489, 490, 492, 494, 495, 496, 497, 498, 500, 501, 502, 504, 505, 506, 507, 508, 510, 511, 512, 513, 514, 515, 516, 518, 519, 520, 522, 524, 525, 526, 528, 530, 531, 532, 534, 535, 536, 537, 538, 539, 540, 542, 543, 544, 545, 546, 548, 549, 550, 552, 553, 554, 555, 556, 558, 560, 561, 562, 564, 565, 566, 567, 568, 570, 572, 573, 574, 575, 576, 578, 579, 580, 581, 582, 584, 585, 586, 588, 590, 591, 592, 594, 595, 596, 597, 598, 600, 602, 603, 604, 605, 606, 608, 609, 610, 612, 614, 615, 616, 618, 620, 621, 622, 623, 624, 625, 626, 627, 628, 630, 632, 633, 634, 635, 636, 637, 638, 639, 640, 642, 644, 645, 646, 648, 650, 651, 652, 654, 655, 656, 657, 658, 660, 662, 663, 664, 665, 666, 668, 669, 670, 672, 674, 675, 676, 678, 679, 680, 681, 682, 684, 685, 686, 687, 688, 690, 692, 693, 694, 695, 696, 698, 699, 700, 702, 704, 705, 706, 707, 708, 710, 711, 712, 714, 715, 716, 717, 718, 720, 721, 722, 723, 724, 725, 726, 728, 729, 730, 732, 734, 735, 736, 738, 740, 741, 742, 744, 745, 746, 747, 748, 749, 750, 752, 753, 754, 755, 756, 758, 759, 760, 762, 763, 764, 765, 766, 768, 770, 771, 772, 774, 775, 776, 777, 778, 780, 782, 783, 784, 785, 786, 788, 789, 790, 791, 792, 794, 795, 796, 798, 800, 801, 802, 804, 805, 806, 807, 808, 810, 812, 813, 814, 815, 816, 818, 819, 820, 822, 824, 825, 826, 828, 830, 831, 832, 833, 834, 835, 836, 837, 838, 840, 842, 843, 844, 845, 846, 847, 848, 849, 850, 852, 854, 855, 856, 858, 860, 861, 862, 864, 865, 866, 867, 868, 870, 872, 873, 874, 875, 876, 878, 879, 880, 882, 884, 885, 886, 888, 889, 890, 891, 892, 894, 895, 896, 897, 898, 900, 902, 903, 904, 905, 906, 908, 909, 910, 912, 914, 915, 916, 917, 918, 920, 921, 922, 924, 925, 926, 927, 928, 930, 931, 932, 933, 934, 935, 936, 938, 939, 940, 942, 944, 945, 946, 948, 950, 951, 952, 954, 955, 956, 957, 958, 959, 960, 962, 963, 964, 965, 966, 968, 969, 970, 972, 973, 974, 975, 976, 978, 980, 981, 982, 984, 985, 986, 987, 988, 990, 992, 993, 994, 995, 996, 998, 999, 1000, 1001, 1002, 1004, 1005, 1006, 1008, 1010, 1011, 1012, 1014, 1015, 1016, 1017, 1018, 1020, 1022, 1023, 1024, 1025, 1026, 1028, 1029, 1030, 1032, 1034, 1035, 1036, 1038, 1040, 1041, 1042, 1043, 1044, 1045, 1046, 1047, 1048, 1050, 1052, 1053, 1054, 1055, 1056, 1057, 1058, 1059, 1060, 1062, 1064, 1065, 1066, 1068, 1070, 1071, 1072, 1074, 1075, 1076, 1077, 1078, 1080, 1082, 1083, 1084, 1085, 1086, 1088, 1089, 1090, 1092, 1094, 1095, 1096, 1098, 1099, 1100, 1101, 1102, 1104, 1105, 1106, 1107, 1108, 1110, 1112, 1113, 1114, 1115, 1116, 1118, 1119, 1120, 1122, 1124, 1125, 1126, 1127, 1128, 1130, 1131, 1132, 1134, 1135, 1136, 1137, 1138, 1140, 1141, 1142, 1143, 1144, 1145, 1146, 1148, 1149, 1150, 1152, 1154, 1155, 1156, 1158, 1160, 1161, 1162, 1164, 1165, 1166, 1167, 1168, 1169, 1170, 1172, 1173, 1174, 1175, 1176, 1178, 1179, 1180, 1182, 1183, 1184, 1185, 1186, 1188, 1190, 1191, 1192, 1194, 1195, 1196, 1197, 1198, 1200, 1202, 1203, 1204, 1205, 1206, 1208, 1209, 1210, 1211, 1212, 1214, 1215, 1216, 1218, 1220, 1221, 1222, 1224, 1225, 1226, 1227, 1228, 1230, 1232, 1233, 1234, 1235, 1236, 1238, 1239, 1240, 1242, 1244, 1245, 1246, 1248, 1250, 1251, 1252, 1253, 1254, 1255, 1256, 1257, 1258, 1260, 1262, 1263, 1264, 1265, 1266, 1267, 1268, 1269, 1270, 1272, 1274, 1275, 1276, 1278, 1280, 1281, 1282, 1284, 1285, 1286, 1287, 1288, 1290, 1292, 1293, 1294, 1295, 1296, 1298, 1299, 1300, 1302, 1304, 1305, 1306, 1308, 1309, 1310, 1311, 1312, 1314, 1315, 1316, 1317, 1318, 1320, 1322, 1323, 1324, 1325, 1326, 1328, 1329, 1330, 1332, 1334, 1335, 1336, 1337, 1338, 1340, 1341, 1342, 1344, 1345, 1346, 1347, 1348, 1350, 1351, 1352, 1353, 1354, 1355, 1356, 1358, 1359, 1360, 1362, 1364, 1365, 1366, 1368, 1370, 1371, 1372, 1374, 1375, 1376, 1377, 1378, 1379, 1380, 1382, 1383, 1384, 1385, 1386, 1388, 1389, 1390, 1392, 1393, 1394, 1395, 1396, 1398, 1400, 1401, 1402, 1404, 1405, 1406, 1407, 1408, 1410, 1412, 1413, 1414, 1415, 1416, 1418, 1419, 1420, 1421, 1422, 1424, 1425, 1426, 1428, 1430, 1431, 1432, 1434, 1435, 1436, 1437, 1438, 1440, 1442, 1443, 1444, 1445, 1446, 1448, 1449, 1450, 1452, 1454, 1455, 1456, 1458, 1460, 1461, 1462, 1463, 1464, 1465, 1466, 1467, 1468, 1470, 1472, 1473, 1474, 1475, 1476, 1477, 1478, 1479, 1480, 1482, 1484, 1485, 1486, 1488, 1490, 1491, 1492, 1494, 1495, 1496, 1497, 1498, 1500, 1502, 1503, 1504, 1505, 1506, 1508, 1509, 1510, 1512, 1514, 1515, 1516, 1518, 1519, 1520, 1521, 1522, 1524, 1525, 1526, 1527, 1528, 1530, 1532, 1533, 1534, 1535, 1536, 1538, 1539, 1540, 1542, 1544, 1545, 1546, 1547, 1548, 1550, 1551, 1552, 1554, 1555, 1556, 1557, 1558, 1560, 1561, 1562, 1563, 1564, 1565, 1566, 1568, 1569, 1570, 1572, 1574, 1575, 1576, 1578, 1580, 1581, 1582, 1584, 1585, 1586, 1587, 1588, 1589, 1590, 1592, 1593, 1594, 1595, 1596, 1598, 1599, 1600, 1602, 1603, 1604, 1605, 1606, 1608, 1610, 1611, 1612, 1614, 1615, 1616, 1617, 1618, 1620, 1622, 1623, 1624, 1625, 1626, 1628, 1629, 1630, 1631, 1632, 1634, 1635, 1636, 1638, 1640, 1641, 1642, 1644, 1645, 1646, 1647, 1648, 1650, 1652, 1653, 1654, 1655, 1656, 1658, 1659, 1660, 1662, 1664, 1665, 1666, 1668, 1670, 1671, 1672, 1673, 1674, 1675, 1676, 1677, 1678, 1680, 1682, 1683, 1684, 1685, 1686, 1687, 1688, 1689, 1690, 1692, 1694, 1695, 1696, 1698, 1700, 1701, 1702, 1704, 1705, 1706, 1707, 1708, 1710, 1712, 1713, 1714, 1715, 1716, 1718, 1719, 1720, 1722, 1724, 1725, 1726, 1728, 1729, 1730, 1731, 1732, 1734, 1735, 1736, 1737, 1738, 1740, 1742, 1743, 1744, 1745, 1746, 1748, 1749, 1750, 1752, 1754, 1755, 1756, 1757, 1758, 1760, 1761, 1762, 1764, 1765, 1766, 1767, 1768, 1770, 1771, 1772, 1773, 1774, 1775, 1776, 1778, 1779, 1780, 1782, 1784, 1785, 1786, 1788, 1790, 1791, 1792, 1794, 1795, 1796, 1797, 1798, 1799, 1800, 1802, 1803, 1804, 1805, 1806, 1808, 1809, 1810, 1812, 1813, 1814, 1815, 1816, 1818, 1820, 1821, 1822, 1824, 1825, 1826, 1827, 1828, 1830, 1832, 1833, 1834, 1835, 1836, 1838, 1839, 1840, 1841, 1842, 1844, 1845, 1846, 1848, 1850, 1851, 1852, 1854, 1855, 1856, 1857, 1858, 1860, 1862, 1863, 1864, 1865, 1866, 1868, 1869, 1870, 1872, 1874, 1875, 1876, 1878, 1880, 1881, 1882, 1883, 1884, 1885, 1886, 1887, 1888, 1890, 1892, 1893, 1894, 1895, 1896, 1897, 1898, 1899, 1900, 1902, 1904, 1905, 1906, 1908, 1910, 1911, 1912, 1914, 1915, 1916, 1917, 1918, 1920, 1922, 1923, 1924, 1925, 1926, 1928, 1929, 1930, 1932, 1934, 1935, 1936, 1938, 1939, 1940, 1941, 1942, 1944, 1945, 1946, 1947, 1948, 1950, 1952, 1953, 1954, 1955, 1956, 1958, 1959, 1960, 1962, 1964, 1965, 1966, 1967, 1968, 1970, 1971, 1972, 1974, 1975, 1976, 1977, 1978, 1980, 1981, 1982, 1983, 1984, 1985, 1986, 1988, 1989, 1990, 1992, 1994, 1995, 1996, 1998]\n"
          ]
        }
      ]
    },
    {
      "cell_type": "code",
      "source": [
        "from collections import Counter\n",
        "# Comprehension Function 3\n",
        "# Find all of the numbers from 1–2000 that have a 6 in them\n",
        "\n",
        "numbers = list(range(1, 2000))\n",
        "output = [i for i in numbers if str(6) in str(i)] #Oh boy\n",
        "#Ok, so for each integer in numbers, add the given integer to output if the number 6 can be read from the integer when it is a string\n",
        "print(output)\n"
      ],
      "metadata": {
        "id": "SY10qd2lHaYS",
        "colab": {
          "base_uri": "https://localhost:8080/"
        },
        "outputId": "52b7ef77-b4ee-456b-c751-921b2991c4e4"
      },
      "execution_count": 30,
      "outputs": [
        {
          "output_type": "stream",
          "name": "stdout",
          "text": [
            "[6, 16, 26, 36, 46, 56, 60, 61, 62, 63, 64, 65, 66, 67, 68, 69, 76, 86, 96, 106, 116, 126, 136, 146, 156, 160, 161, 162, 163, 164, 165, 166, 167, 168, 169, 176, 186, 196, 206, 216, 226, 236, 246, 256, 260, 261, 262, 263, 264, 265, 266, 267, 268, 269, 276, 286, 296, 306, 316, 326, 336, 346, 356, 360, 361, 362, 363, 364, 365, 366, 367, 368, 369, 376, 386, 396, 406, 416, 426, 436, 446, 456, 460, 461, 462, 463, 464, 465, 466, 467, 468, 469, 476, 486, 496, 506, 516, 526, 536, 546, 556, 560, 561, 562, 563, 564, 565, 566, 567, 568, 569, 576, 586, 596, 600, 601, 602, 603, 604, 605, 606, 607, 608, 609, 610, 611, 612, 613, 614, 615, 616, 617, 618, 619, 620, 621, 622, 623, 624, 625, 626, 627, 628, 629, 630, 631, 632, 633, 634, 635, 636, 637, 638, 639, 640, 641, 642, 643, 644, 645, 646, 647, 648, 649, 650, 651, 652, 653, 654, 655, 656, 657, 658, 659, 660, 661, 662, 663, 664, 665, 666, 667, 668, 669, 670, 671, 672, 673, 674, 675, 676, 677, 678, 679, 680, 681, 682, 683, 684, 685, 686, 687, 688, 689, 690, 691, 692, 693, 694, 695, 696, 697, 698, 699, 706, 716, 726, 736, 746, 756, 760, 761, 762, 763, 764, 765, 766, 767, 768, 769, 776, 786, 796, 806, 816, 826, 836, 846, 856, 860, 861, 862, 863, 864, 865, 866, 867, 868, 869, 876, 886, 896, 906, 916, 926, 936, 946, 956, 960, 961, 962, 963, 964, 965, 966, 967, 968, 969, 976, 986, 996, 1006, 1016, 1026, 1036, 1046, 1056, 1060, 1061, 1062, 1063, 1064, 1065, 1066, 1067, 1068, 1069, 1076, 1086, 1096, 1106, 1116, 1126, 1136, 1146, 1156, 1160, 1161, 1162, 1163, 1164, 1165, 1166, 1167, 1168, 1169, 1176, 1186, 1196, 1206, 1216, 1226, 1236, 1246, 1256, 1260, 1261, 1262, 1263, 1264, 1265, 1266, 1267, 1268, 1269, 1276, 1286, 1296, 1306, 1316, 1326, 1336, 1346, 1356, 1360, 1361, 1362, 1363, 1364, 1365, 1366, 1367, 1368, 1369, 1376, 1386, 1396, 1406, 1416, 1426, 1436, 1446, 1456, 1460, 1461, 1462, 1463, 1464, 1465, 1466, 1467, 1468, 1469, 1476, 1486, 1496, 1506, 1516, 1526, 1536, 1546, 1556, 1560, 1561, 1562, 1563, 1564, 1565, 1566, 1567, 1568, 1569, 1576, 1586, 1596, 1600, 1601, 1602, 1603, 1604, 1605, 1606, 1607, 1608, 1609, 1610, 1611, 1612, 1613, 1614, 1615, 1616, 1617, 1618, 1619, 1620, 1621, 1622, 1623, 1624, 1625, 1626, 1627, 1628, 1629, 1630, 1631, 1632, 1633, 1634, 1635, 1636, 1637, 1638, 1639, 1640, 1641, 1642, 1643, 1644, 1645, 1646, 1647, 1648, 1649, 1650, 1651, 1652, 1653, 1654, 1655, 1656, 1657, 1658, 1659, 1660, 1661, 1662, 1663, 1664, 1665, 1666, 1667, 1668, 1669, 1670, 1671, 1672, 1673, 1674, 1675, 1676, 1677, 1678, 1679, 1680, 1681, 1682, 1683, 1684, 1685, 1686, 1687, 1688, 1689, 1690, 1691, 1692, 1693, 1694, 1695, 1696, 1697, 1698, 1699, 1706, 1716, 1726, 1736, 1746, 1756, 1760, 1761, 1762, 1763, 1764, 1765, 1766, 1767, 1768, 1769, 1776, 1786, 1796, 1806, 1816, 1826, 1836, 1846, 1856, 1860, 1861, 1862, 1863, 1864, 1865, 1866, 1867, 1868, 1869, 1876, 1886, 1896, 1906, 1916, 1926, 1936, 1946, 1956, 1960, 1961, 1962, 1963, 1964, 1965, 1966, 1967, 1968, 1969, 1976, 1986, 1996]\n"
          ]
        }
      ]
    },
    {
      "cell_type": "code",
      "source": [
        "# Comprehension Function 4\n",
        "\n",
        "# Write a function that takes in a string\n",
        "# and returns a list of all the words in that string that are less than 5 letters\n",
        "\n",
        "word = (\"Yeah no, I'm a bit mentally drained right now and can't think of a good sentence.\")\n",
        "def shortwords(wrote):\n",
        "  newwords = [char for char in wrote.split() if len(char) < 5] #Split the given parameter into individual words and append it to newwords if the character count is less than 5\n",
        "  print(newwords)\n",
        "shortwords(word)\n",
        "\n",
        "\n"
      ],
      "metadata": {
        "id": "PN7LVmvzHiqT",
        "colab": {
          "base_uri": "https://localhost:8080/"
        },
        "outputId": "2488b403-97c5-4e74-82b8-1de6833df77f"
      },
      "execution_count": 33,
      "outputs": [
        {
          "output_type": "stream",
          "name": "stdout",
          "text": [
            "['Yeah', 'no,', \"I'm\", 'a', 'bit', 'now', 'and', 'of', 'a', 'good']\n"
          ]
        }
      ]
    },
    {
      "cell_type": "markdown",
      "metadata": {
        "id": "ZqKBeHFl_Wvg"
      },
      "source": [
        "# Working with sets\n",
        "**Hint** Take a look at the `set` function in Python, the `set` data type, and built-in `set` methods."
      ]
    },
    {
      "cell_type": "code",
      "execution_count": null,
      "metadata": {
        "id": "DSNyD3wq_Wvg"
      },
      "outputs": [],
      "source": [
        "# Example set function usage\n",
        "print(set(\"kiwi\"))\n",
        "print(set([1, 2, 2, 3, 3, 3, 4, 4, 4, 4]))"
      ]
    },
    {
      "cell_type": "code",
      "execution_count": 37,
      "metadata": {
        "id": "NQnVLnIw_Wvg",
        "colab": {
          "base_uri": "https://localhost:8080/"
        },
        "outputId": "d677445f-beaf-4644-de09-537de37137b1"
      },
      "outputs": [
        {
          "output_type": "stream",
          "name": "stdout",
          "text": [
            "Exercise 83 is correct.\n"
          ]
        }
      ],
      "source": [
        "# Exercise 83\n",
        "# Write a function definition named get_unique_values that takes in a list and returns a set with only the unique values from that list.\n",
        "\n",
        "#Is it fine if I just use the answers I wrote on the actual 90 problems?\n",
        "#I'm gonna do that anyways, since I don't want to do things twice\n",
        "def get_unique_values(word):\n",
        "  unique = []\n",
        " # for char in word:\n",
        " #   if char not in unique:\n",
        " #     unique.append(char)\n",
        " # return set(unique)\n",
        " \n",
        "#Oh, actually I got an idea\n",
        "  unique = {char for char in word if char not in unique}\n",
        "  return unique\n",
        "\n",
        "assert get_unique_values([\"ant\", \"ant\", \"mosquito\", \"mosquito\", \"ladybug\"]) == {\"ant\", \"mosquito\", \"ladybug\"}\n",
        "assert get_unique_values([\"b\", \"a\", \"n\", \"a\", \"n\", \"a\", \"s\"]) == {\"b\", \"a\", \"n\", \"s\"}\n",
        "assert get_unique_values([\"mary\", \"had\", \"a\", \"little\", \"lamb\", \"little\", \"lamb\", \"little\", \"lamb\"]) == {\"mary\", \"had\", \"a\", \"little\", \"lamb\"}\n",
        "print(\"Exercise 83 is correct.\")"
      ]
    },
    {
      "cell_type": "code",
      "execution_count": 40,
      "metadata": {
        "id": "L0YnWAxw_Wvh",
        "colab": {
          "base_uri": "https://localhost:8080/"
        },
        "outputId": "aa0a1f44-e99d-4306-b358-1b81081b1932"
      },
      "outputs": [
        {
          "output_type": "stream",
          "name": "stdout",
          "text": [
            "Exercise 84 is correct.\n"
          ]
        }
      ],
      "source": [
        "# Exercise 84\n",
        "# Write a function definition named get_unique_values_from_two_lists that takes two lists and returns a single set with only the unique values\n",
        "\n",
        "def get_unique_values_from_two_lists(word, num):\n",
        "  return set(word+num)\n",
        "\n",
        "#Don't think I can do better than that\n",
        "\n",
        "\n",
        "\n",
        "assert get_unique_values_from_two_lists([5, 1, 2, 3], [3, 4, 5, 5]) == {1, 2, 3, 4, 5}\n",
        "assert get_unique_values_from_two_lists([1, 1], [2, 2, 3]) == {1, 2, 3}\n",
        "assert get_unique_values_from_two_lists([\"tomato\", \"mango\", \"kiwi\"], [\"eggplant\", \"tomato\", \"broccoli\"]) == {\"tomato\", \"mango\", \"kiwi\", \"eggplant\", \"broccoli\"}\n",
        "print(\"Exercise 84 is correct.\")"
      ]
    },
    {
      "cell_type": "code",
      "execution_count": 41,
      "metadata": {
        "id": "6T7Xndxr_Wvh",
        "colab": {
          "base_uri": "https://localhost:8080/"
        },
        "outputId": "73f12c21-c37f-4db4-838e-1af976ef33c8"
      },
      "outputs": [
        {
          "output_type": "stream",
          "name": "stdout",
          "text": [
            "Exercise 85 is correct.\n"
          ]
        }
      ],
      "source": [
        "# Exercise 85\n",
        "# Write a function definition named get_values_in_common that takes two lists and returns a single set with the values that each list has in common\n",
        "\n",
        "def get_values_in_common(first, second):\n",
        "  return set(first).intersection(second)\n",
        "\n",
        "assert get_values_in_common([5, 1, 2, 3], [3, 4, 5, 5]) == {3, 5}\n",
        "assert get_values_in_common([1, 2], [2, 2, 3]) == {2}\n",
        "assert get_values_in_common([\"tomato\", \"mango\", \"kiwi\"], [\"eggplant\", \"tomato\", \"broccoli\"]) == {\"tomato\"}\n",
        "print(\"Exercise 85 is correct.\")"
      ]
    },
    {
      "cell_type": "code",
      "execution_count": 42,
      "metadata": {
        "id": "hLDiNZL8_Wvh",
        "colab": {
          "base_uri": "https://localhost:8080/"
        },
        "outputId": "46ebbfd9-1ce7-4bf5-8611-d934d72f603f"
      },
      "outputs": [
        {
          "output_type": "stream",
          "name": "stdout",
          "text": [
            "Exercise 86 is correct.\n"
          ]
        }
      ],
      "source": [
        "# Exercise 86\n",
        "# Write a function definition named get_values_not_in_common that takes two lists and returns a single set with the values that each list does not have in common\n",
        "\n",
        "def get_values_not_in_common(first, second):\n",
        "  return set(first).symmetric_difference(second)\n",
        "\n",
        "\n",
        "\n",
        "assert get_values_not_in_common([5, 1, 2, 3], [3, 4, 5, 5]) == {1, 2, 4}\n",
        "assert get_values_not_in_common([1, 1], [2, 2, 3]) == {1, 2, 3}\n",
        "assert get_values_not_in_common([\"tomato\", \"mango\", \"kiwi\"], [\"eggplant\", \"tomato\", \"broccoli\"]) == {\"mango\", \"kiwi\", \"eggplant\", \"broccoli\"}\n",
        "print(\"Exercise 86 is correct.\")"
      ]
    },
    {
      "cell_type": "markdown",
      "metadata": {
        "id": "XaAbM849_Wvh"
      },
      "source": [
        "# Working with Dictionaries\n"
      ]
    },
    {
      "cell_type": "code",
      "execution_count": 84,
      "metadata": {
        "id": "TvrnkNUL_Wvh"
      },
      "outputs": [],
      "source": [
        "# Run this cell in order to have these two dictionary variables defined.\n",
        "tukey_paper = {\n",
        "    \"title\": \"The Future of Data Analysis\",\n",
        "    \"author\": \"John W. Tukey\",\n",
        "    \"link\": \"https://projecteuclid.org/euclid.aoms/1177704711\",\n",
        "    \"year_published\": 1962\n",
        "}\n",
        "\n",
        "thomas_paper = {\n",
        "    \"title\": \"A mathematical model of glutathione metabolism\",\n",
        "    \"author\": \"Rachel Thomas\",\n",
        "    \"link\": \"https://www.ncbi.nlm.nih.gov/pubmed/18442411\",\n",
        "    \"year_published\": 2008\n",
        "}"
      ]
    },
    {
      "cell_type": "code",
      "execution_count": 85,
      "metadata": {
        "id": "sDTU3GuQ_Wvh",
        "colab": {
          "base_uri": "https://localhost:8080/"
        },
        "outputId": "e20a797c-a2bd-4c99-e35f-0f7cd746d8df"
      },
      "outputs": [
        {
          "output_type": "stream",
          "name": "stdout",
          "text": [
            "Exercise 87 is correct.\n"
          ]
        }
      ],
      "source": [
        "# Exercise 87\n",
        "# Write a function named get_paper_title that takes in a dictionary and returns the title property\n",
        "\n",
        "def get_paper_title(word):\n",
        "  return word.get(\"title\")\n",
        "\n",
        "assert get_paper_title(tukey_paper) == \"The Future of Data Analysis\"\n",
        "assert get_paper_title(thomas_paper) == \"A mathematical model of glutathione metabolism\"\n",
        "print(\"Exercise 87 is correct.\")"
      ]
    },
    {
      "cell_type": "code",
      "execution_count": 86,
      "metadata": {
        "id": "4cCJwlkB_Wvi",
        "colab": {
          "base_uri": "https://localhost:8080/"
        },
        "outputId": "980d884b-019b-4470-e477-7bff6dcb7f1f"
      },
      "outputs": [
        {
          "output_type": "stream",
          "name": "stdout",
          "text": [
            "Exercise 88 is correct.\n"
          ]
        }
      ],
      "source": [
        "# Exercise 88\n",
        "# Write a function named get_year_published that takes in a dictionary and returns the value behind the \"year_published\" key.\n",
        "\n",
        "\n",
        "def get_year_published(word):\n",
        "  return word.get(\"year_published\")\n",
        "\n",
        "assert get_year_published(tukey_paper) == 1962\n",
        "assert get_year_published(thomas_paper) == 2008\n",
        "print(\"Exercise 88 is correct.\")"
      ]
    },
    {
      "cell_type": "code",
      "execution_count": 88,
      "metadata": {
        "id": "HS6XeXem_Wvi"
      },
      "outputs": [],
      "source": [
        "# Run this code to create data for the next two questions\n",
        "book = {\n",
        "    \"title\": \"Genetic Algorithms and Machine Learning for Programmers\",\n",
        "    \"price\": 36.99,\n",
        "    \"author\": \"Frances Buontempo\"\n",
        "}"
      ]
    },
    {
      "cell_type": "code",
      "execution_count": 89,
      "metadata": {
        "id": "SNQ_j5IQ_Wvi",
        "colab": {
          "base_uri": "https://localhost:8080/"
        },
        "outputId": "99d229ed-28d7-4475-8ce7-924c6829ec2e"
      },
      "outputs": [
        {
          "output_type": "stream",
          "name": "stdout",
          "text": [
            "Exercise 89 is complete.\n"
          ]
        }
      ],
      "source": [
        "# Exercise 89\n",
        "# Write a function named get_price that takes in a dictionary and returns the price\n",
        "\n",
        "def get_price(word):\n",
        "  return word.get(\"price\")\n",
        "\n",
        "\n",
        "assert get_price(book) == 36.99\n",
        "print(\"Exercise 89 is complete.\")"
      ]
    },
    {
      "cell_type": "code",
      "execution_count": 90,
      "metadata": {
        "id": "v7m9g8up_Wvi",
        "colab": {
          "base_uri": "https://localhost:8080/"
        },
        "outputId": "26580c50-4025-441b-fe98-93e3d8b1642c"
      },
      "outputs": [
        {
          "output_type": "stream",
          "name": "stdout",
          "text": [
            "Exercise 90 is complete.\n"
          ]
        }
      ],
      "source": [
        "# Exercise 90\n",
        "# Write a function named get_book_author that takes in a dictionary (the above declared book variable) and returns the author's name\n",
        "\n",
        "def get_book_author(word):\n",
        "  return word.get(\"author\")\n",
        "\n",
        "assert get_book_author(book) == \"Frances Buontempo\"\n",
        "print(\"Exercise 90 is complete.\")"
      ]
    },
    {
      "cell_type": "markdown",
      "metadata": {
        "id": "mDsvY9tC_Wvi"
      },
      "source": [
        "# Working with Lists of Dictionaries\n",
        "**Hint** If you need an example of lists of dictionaries, see \n",
        "- [Getting Started With a List of Dictionaries](https://colab.research.google.com/github/ryanorsinger/list_of_dictionaries/blob/main/getting_started.ipynb)\n",
        "- [Practice Exercises for List of Dictionaries](https://colab.research.google.com/github/ryanorsinger/list_of_dictionaries/blob/main/exercises.ipynb)\n",
        "- [Companion Video](https://www.youtube.com/watch?v=pPdEahZgv8U)\n"
      ]
    },
    {
      "cell_type": "code",
      "execution_count": 91,
      "metadata": {
        "id": "4ni3zTIO_Wvj"
      },
      "outputs": [],
      "source": [
        "# Run this cell in order to have some setup data for the next exercises\n",
        "books = [\n",
        "    {\n",
        "        \"title\": \"Genetic Algorithms and Machine Learning for Programmers\",\n",
        "        \"price\": 36.99,\n",
        "        \"author\": \"Frances Buontempo\"\n",
        "    },\n",
        "    {\n",
        "        \"title\": \"The Visual Display of Quantitative Information\",\n",
        "        \"price\": 38.00,\n",
        "        \"author\": \"Edward Tufte\"\n",
        "    },\n",
        "    {\n",
        "        \"title\": \"Practical Object-Oriented Design\",\n",
        "        \"author\": \"Sandi Metz\",\n",
        "        \"price\": 30.47\n",
        "    },\n",
        "    {\n",
        "        \"title\": \"Weapons of Math Destruction\",\n",
        "        \"author\": \"Cathy O'Neil\",\n",
        "        \"price\": 17.44\n",
        "    }\n",
        "]"
      ]
    },
    {
      "cell_type": "code",
      "execution_count": 92,
      "metadata": {
        "id": "3fnBL-BD_Wvj",
        "colab": {
          "base_uri": "https://localhost:8080/"
        },
        "outputId": "5a892e92-2739-4ce6-dfb6-294476cc2ff4"
      },
      "outputs": [
        {
          "output_type": "stream",
          "name": "stdout",
          "text": [
            "Exercise 91 is complete.\n"
          ]
        }
      ],
      "source": [
        "# Exercise 91\n",
        "# Write a function named get_number_of_books that takes in a list of objects and returns the number of dictionaries in that list.\n",
        "\n",
        "def get_number_of_books(wrote):\n",
        "  return len(wrote)\n",
        "#Well, I'm glad that worked as expected\n",
        "\n",
        "assert get_number_of_books(books) == 4\n",
        "print(\"Exercise 91 is complete.\")"
      ]
    },
    {
      "cell_type": "code",
      "execution_count": 93,
      "metadata": {
        "id": "QHgdGVHV_Wvj",
        "colab": {
          "base_uri": "https://localhost:8080/"
        },
        "outputId": "d5f7cb97-8103-40e8-8bfd-fe1b40ca6405"
      },
      "outputs": [
        {
          "output_type": "stream",
          "name": "stdout",
          "text": [
            "Exercise 92 is complete.\n"
          ]
        }
      ],
      "source": [
        "# Exercise 92\n",
        "# Write a function named total_of_book_prices that takes in a list of dictionaries and returns the sum total of all the book prices added together\n",
        "\n",
        "def total_of_book_prices(wrote):\n",
        "  return sum(item['price'] for item in wrote) #Yeah, copied but it's not that difficult to understand\n",
        "#Return the sum of the prices for each one in the specified parameter, right?\n",
        "\n",
        "\n",
        "assert total_of_book_prices(books) == 122.9\n",
        "print(\"Exercise 92 is complete.\")"
      ]
    },
    {
      "cell_type": "code",
      "execution_count": 94,
      "metadata": {
        "id": "klSCtbep_Wvk",
        "colab": {
          "base_uri": "https://localhost:8080/"
        },
        "outputId": "a33bfde2-6dc4-4c6f-b143-a01de6432b5b"
      },
      "outputs": [
        {
          "output_type": "stream",
          "name": "stdout",
          "text": [
            "Exercise 93 is complete.\n"
          ]
        }
      ],
      "source": [
        "# Exercise 93\n",
        "# Write a function named get_average_book_price that takes in a list of dictionaries and returns the average book price.\n",
        "#What, like the mean?\n",
        "import statistics #The statistics module returns\n",
        "def get_average_book_price(wrote):\n",
        "  return statistics.mean(item[\"price\"] for item in wrote) #Modules are so convenient sometimes\n",
        "\n",
        "\n",
        "assert get_average_book_price(books) == 30.725\n",
        "print(\"Exercise 93 is complete.\")"
      ]
    },
    {
      "cell_type": "code",
      "execution_count": 95,
      "metadata": {
        "id": "85KDw_7H_Wvk",
        "colab": {
          "base_uri": "https://localhost:8080/"
        },
        "outputId": "290fb102-1586-451c-ef7d-90d5878411d2"
      },
      "outputs": [
        {
          "output_type": "stream",
          "name": "stdout",
          "text": [
            "Exercise 94 is complete\n"
          ]
        }
      ],
      "source": [
        "# Exercise 94\n",
        "# Write a function called highest_price_book that takes in the above defined list of dictionaries \"books\" and returns the dictionary containing the title, price, and author of the book with the highest priced book.\n",
        "# Hint: Much like sometimes start functions with a variable set to zero, you may want to create a dictionary with the price set to zero to compare to each dictionary's price in the list\n",
        "\n",
        "def highest_price_book(wrote):\n",
        "  compare = 0\n",
        "  for item in wrote:\n",
        "    if item[\"price\"] > compare:\n",
        "      compare = item[\"price\"]\n",
        "  for item in wrote:\n",
        "    if compare == item[\"price\"]:\n",
        "      return item\n",
        "# #There's probably a better way to do this but I don't want to touch comprehension again\n",
        "# #Actually I'll give it a try\n",
        "#   compare = [item for item in wrote if item[\"price\"] > compare]\n",
        "#   print(compare) \n",
        "#Yeah that just returns every dictionary, so the first solution goes\n",
        "\n",
        "\n",
        "\n",
        "assert highest_price_book(books) == {\n",
        "    \"title\": \"The Visual Display of Quantitative Information\",\n",
        "    \"price\": 38.00,\n",
        "    \"author\": \"Edward Tufte\"\n",
        "}\n",
        "\n",
        "print(\"Exercise 94 is complete\")"
      ]
    },
    {
      "cell_type": "code",
      "execution_count": 96,
      "metadata": {
        "id": "Hf1OahW0_Wvl",
        "colab": {
          "base_uri": "https://localhost:8080/"
        },
        "outputId": "114d579f-1e71-478c-ba9c-f6e17c256be4"
      },
      "outputs": [
        {
          "output_type": "stream",
          "name": "stdout",
          "text": [
            "Exercise 95 is complete.\n"
          ]
        }
      ],
      "source": [
        "# Exercise 95\n",
        "# Write a function called lowest_priced_book that takes in the above defined list of dictionaries \"books\" and returns the dictionary containing the title, price, and author of the book with the lowest priced book.\n",
        "# Hint: Much like sometimes start functions with a variable set to zero or float('inf'), you may want to create a dictionary with the price set to float('inf') to compare to each dictionary in the list\n",
        "\n",
        "def lowest_price_book(wrote):\n",
        "  compare = float(\"inf\") #Thanks for the float(inf)\n",
        "  for item in wrote: \n",
        "    if item[\"price\"] < compare:\n",
        "      compare = item[\"price\"]\n",
        "  for item in wrote:\n",
        "    if compare == item[\"price\"]:\n",
        "      return item\n",
        "\n",
        "assert lowest_price_book(books) == {\n",
        "    \"title\": \"Weapons of Math Destruction\",\n",
        "    \"author\": \"Cathy O'Neil\",\n",
        "    \"price\": 17.44\n",
        "}\n",
        "print(\"Exercise 95 is complete.\")"
      ]
    },
    {
      "cell_type": "code",
      "execution_count": 97,
      "metadata": {
        "id": "bm2veYIT_Wvl"
      },
      "outputs": [],
      "source": [
        "shopping_cart = {\n",
        "    \"tax\": .08,\n",
        "    \"items\": [\n",
        "        {\n",
        "            \"title\": \"orange juice\",\n",
        "            \"price\": 3.99,\n",
        "            \"quantity\": 1\n",
        "        },\n",
        "        {\n",
        "            \"title\": \"rice\",\n",
        "            \"price\": 1.99,\n",
        "            \"quantity\": 3\n",
        "        },\n",
        "        {\n",
        "            \"title\": \"beans\",\n",
        "            \"price\": 0.99,\n",
        "            \"quantity\": 3\n",
        "        },\n",
        "        {\n",
        "            \"title\": \"chili sauce\",\n",
        "            \"price\": 2.99,\n",
        "            \"quantity\": 1\n",
        "        },\n",
        "        {\n",
        "            \"title\": \"chocolate\",\n",
        "            \"price\": 0.75,\n",
        "            \"quantity\": 9\n",
        "        }\n",
        "    ]\n",
        "}"
      ]
    },
    {
      "cell_type": "code",
      "execution_count": 98,
      "metadata": {
        "id": "n4W0tBBa_Wvl",
        "colab": {
          "base_uri": "https://localhost:8080/"
        },
        "outputId": "f6b69f98-9464-4ccd-a9f4-732dbcc1ca0b"
      },
      "outputs": [
        {
          "output_type": "stream",
          "name": "stdout",
          "text": [
            "Exercise 96 is complete\n"
          ]
        }
      ],
      "source": [
        "# Exercise 96\n",
        "# Write a function named get_tax_rate that takes in the above shopping cart as input and returns the tax rate.\n",
        "# Hint: How do you access a key's value on a dictionary? The tax rate is one key of the entire shopping_cart dictionary.\n",
        "\n",
        "def get_tax_rate(wrote):\n",
        "  return wrote[\"tax\"] #Alright, that's how it works\n",
        "\n",
        "\n",
        "assert get_tax_rate(shopping_cart) == .08\n",
        "print(\"Exercise 96 is complete\")"
      ]
    },
    {
      "cell_type": "code",
      "execution_count": 99,
      "metadata": {
        "id": "mAdGJjId_Wvl",
        "colab": {
          "base_uri": "https://localhost:8080/"
        },
        "outputId": "9e1bd638-e750-4246-c6f8-e6cd91ff7a1e"
      },
      "outputs": [
        {
          "output_type": "stream",
          "name": "stdout",
          "text": [
            "Exercise 97 is complete.\n"
          ]
        }
      ],
      "source": [
        "# Exercise 97\n",
        "# Write a function named number_of_item_types that takes in the shopping cart as input and returns the number of unique item types in the shopping cart. \n",
        "# We're not yet using the quantity of each item, but rather focusing on determining how many different types of items are in the cart.\n",
        "\n",
        "def number_of_item_types(wrote):\n",
        "  return len(wrote[\"items\"]) #Yeah, putting two and two together does in fact make four\n",
        "\n",
        "assert number_of_item_types(shopping_cart) == 5\n",
        "print(\"Exercise 97 is complete.\")"
      ]
    },
    {
      "cell_type": "code",
      "execution_count": 100,
      "metadata": {
        "id": "h7OTsKND_Wvm",
        "colab": {
          "base_uri": "https://localhost:8080/"
        },
        "outputId": "d8668b5e-6883-4129-8907-6084b37071ea"
      },
      "outputs": [
        {
          "output_type": "stream",
          "name": "stdout",
          "text": [
            "10.71\n",
            "2.1420000000000003\n",
            "Exercise 99 is complete.\n"
          ]
        }
      ],
      "source": [
        "# Exercise 99\n",
        "# Write a function named get_average_item_price that takes in the shopping cart as an input and returns the average of all the item prices.\n",
        "# Hint - This should determine the total price divided by the number of types of items. This does not account for each item type's quantity.\n",
        "\n",
        "#Two comprehension function 3's and no exercise 98, so that balances out\n",
        "import statistics\n",
        "def get_average_item_price(wrote):\n",
        "  average = 0\n",
        "  for n in range(len(wrote[\"items\"])):\n",
        "    average = average + wrote[\"items\"][n][\"price\"]\n",
        "  print(average)\n",
        "  print(average / len(wrote[\"items\"]))\n",
        "  return average / len(wrote[\"items\"])\n",
        "  #statistics.mean(wrote[\"items\"][1][\"price\"])\n",
        "\n",
        "\n",
        "#Of course one of these had to stop me for hours\n",
        "#And I can't look up a solution before eventually trying something that works\n",
        "#I tried writing a list comprehension, using statistics.mean, some random functions to pull nested dictionaries online\n",
        "#Eventually I accidentally found that the middle [] need to have a number in them to pull from one of the values\n",
        "assert get_average_item_price(shopping_cart) == 2.1420000000000003\n",
        "print(\"Exercise 99 is complete.\")"
      ]
    },
    {
      "cell_type": "code",
      "execution_count": 101,
      "metadata": {
        "id": "5SReB-60_Wvo",
        "colab": {
          "base_uri": "https://localhost:8080/"
        },
        "outputId": "5b5ea11d-82af-4238-d789-e43048f3b9de"
      },
      "outputs": [
        {
          "output_type": "stream",
          "name": "stdout",
          "text": [
            "22.67\n",
            "1.333529411764706\n",
            "Exercise 100 is complete.\n"
          ]
        }
      ],
      "source": [
        "# Exercise 100\n",
        "# Write a function named get_average_spent_per_item that takes in the shopping cart and returns the average of summing each item's quanties times that item's price.\n",
        "# Hint: You may need to set an initial total price and total total quantity to zero, then sum up and divide that total price by the total quantity\n",
        "\n",
        "def get_average_spent_per_item(wrote):\n",
        "  average = 0\n",
        "  thingie = 0\n",
        "  for n in range(len(wrote[\"items\"])):\n",
        "    average = average + (wrote[\"items\"][n][\"price\"] * wrote[\"items\"][n][\"quantity\"]) #Do the same thing as last time\n",
        "    thingie = thingie + wrote[\"items\"][n][\"quantity\"] #Divided by the len items at first but then realized I wasn't supposed to do that\n",
        "  print(average) #So I made a second variable which tracks the quantity of every item and divides by that instead\n",
        "  print(average / thingie)\n",
        "  return average / thingie\n",
        "\n",
        "\n",
        "\n",
        "assert get_average_spent_per_item(shopping_cart) == 1.333529411764706\n",
        "print(\"Exercise 100 is complete.\")"
      ]
    },
    {
      "cell_type": "markdown",
      "source": [
        "# Miscellaneous Functions"
      ],
      "metadata": {
        "id": "okXx-79tIcJF"
      }
    },
    {
      "cell_type": "code",
      "source": [
        "# HW 2 Function 1: Combine Lists\n",
        "# Edit the function combine_lists so that it takes two lists (sequences) as input \n",
        "# and returns a new list containing all elements from both lists; the\n",
        "# elements of the first list, followed by the elements of the second list. \n",
        "# The original lists should not be modified. No \"for loops\"! \n",
        "\n",
        "#oh, thats it?\n",
        "#just some list stuff?\n",
        "#maybe i can just relax with these next problems\n",
        "first = [1,2,3]\n",
        "second = [4, 5, 6]\n",
        "\n",
        "def combine_lists(thingone, thingtwo):\n",
        "  return thingone + thingtwo\n",
        "\n",
        "third = [7, 8, 9, 10] #My own examples\n",
        "fourth = [11, 12, 13, 14]\n",
        "\n",
        "\n",
        "# uncomment this to check your work with the example lists\n",
        "# Extra Credit if you make your own example and assert to check it. \n",
        "# There are examples in the PDF that will also be provided\n",
        "assert combine_lists(first, second) == [1, 2, 3, 4, 5, 6]\n",
        "print(\"Exercise Function HW2 Function1 is complete.\")\n",
        "assert combine_lists(third, fourth) == [7, 8, 9, 10, 11, 12, 13, 14]\n",
        "print(\"Bonus complete.\") #Just denoted as bonus complete, that's what'll be there for every assert that I add to check against new examples"
      ],
      "metadata": {
        "id": "M1dinsDFNB4Z",
        "colab": {
          "base_uri": "https://localhost:8080/"
        },
        "outputId": "8e90f0d1-f9be-4824-eacf-8e48c2bb9bc8"
      },
      "execution_count": 104,
      "outputs": [
        {
          "output_type": "stream",
          "name": "stdout",
          "text": [
            "Exercise Function HW2 Function1 is complete.\n",
            "Bonus complete.\n"
          ]
        }
      ]
    },
    {
      "cell_type": "code",
      "source": [
        "# Function 2: last_n_elements\n",
        "# Edit the function last_n_elements so that it uses a slice to return the last n items of a sequence. \n",
        "# The original sequence should not be modified. Do not use len() in your slice. \n",
        "# If you feel you need it, please review the lecture slides about slices.\n",
        "\n",
        "\n",
        "def last_n_elements(thing, number):\n",
        "  number = number * -1 #Weird, but didn't waste that much time\n",
        "  print(thing[number:]) #\"Negative indexs count from the end of the list\" is something I didn't guess even though I knew -1 would give the last item in the list\n",
        "  return thing[number:]\n",
        "\n",
        "\n",
        "\n",
        "\n",
        "fruits = ['apples', 'grapes', 'peaches', 'apricots', 'bananas']\n",
        "vegetables = [\"tomatos\", \"cabbage\", \"spinach\", \"lettuce\"]\n",
        "\n",
        "# uncomment the asserts to check your work with the example list\n",
        "# Use the asserts as examples of how the code should work\n",
        "# Extra Credit if you make your own example and assert to check it. \n",
        "# There are examples in the PDF that will also be provided\n",
        "assert last_n_elements(fruits, 3) == ['peaches', 'apricots', 'bananas']\n",
        "assert last_n_elements(fruits, 1) == ['bananas']\n",
        "print(\"Exercise Function HW2 Function2 is complete.\")\n",
        "assert last_n_elements(vegetables, 2) == [\"spinach\", \"lettuce\"]\n",
        "assert last_n_elements(vegetables, 4) == [\"tomatos\", \"cabbage\", \"spinach\", \"lettuce\"]\n",
        "print(\"Bonus complete.\")\n"
      ],
      "metadata": {
        "id": "_prNn2ifN5FZ",
        "colab": {
          "base_uri": "https://localhost:8080/"
        },
        "outputId": "4e486fe0-226f-4bb3-994c-ebbc6dc16630"
      },
      "execution_count": 105,
      "outputs": [
        {
          "output_type": "stream",
          "name": "stdout",
          "text": [
            "['peaches', 'apricots', 'bananas']\n",
            "['bananas']\n",
            "Exercise Function HW2 Function2 is complete.\n",
            "['spinach', 'lettuce']\n",
            "['tomatos', 'cabbage', 'spinach', 'lettuce']\n",
            "Bonus complete.\n"
          ]
        }
      ]
    },
    {
      "cell_type": "code",
      "source": [
        "# Function 3: power_list\n",
        "# Make the function power_list so that it accepts a list of numbers and returns a new list \n",
        "# that contains each number raised to the i-th power \n",
        "# where i is the index of that number in the given list.\n",
        "# Use a list comprehension.\n",
        "\n",
        "\n",
        "def power_list(what):\n",
        "  what = [num ** index for index, num in enumerate(what)] #Get the index and set a second variable to that\n",
        "  print(what)\n",
        "  return what\n",
        "#[num for num in range(1, 2000) for n in (2, 3, 4, 5, 6, 7, 8, 9) if num % n == 0] #Just to remember what these looked like\n",
        "\n",
        "\n",
        "list1 = [2, 2, 2, 2, 2, 2]\n",
        "list2 = [9, 6, 5, 4]\n",
        "list3 = [1, 2, 3, 4, 5, 6, 7, 8]\n",
        "list4 = [9, 10, 11, 12, 13, 14, 15, 16]\n",
        "\n",
        "# uncomment the asserts to check your work with the example list\n",
        "# Use the asserts as examples of how the code should work\n",
        "# Extra Credit if you make your own example and assert to check it. \n",
        "# There are examples in the PDF that will also be provided\n",
        "assert power_list(list1) == [1, 2, 4, 8, 16, 32]\n",
        "assert power_list(list2) == [1, 6, 25, 64]\n",
        "print(\"Exercise Function HW2 Function3 is complete.\")\n",
        "assert power_list(list3) == [1, 2, 9, 64, 625, 7776, 117649, 2097152]\n",
        "assert power_list(list4) == [1, 10, 121, 1728, 28561, 537824, 11390625, 268435456]\n",
        "print(\"Bonus complete.\")"
      ],
      "metadata": {
        "id": "aADfuEcBO38w",
        "colab": {
          "base_uri": "https://localhost:8080/"
        },
        "outputId": "c3f9adaf-618a-4437-d344-75964c1cd298"
      },
      "execution_count": 106,
      "outputs": [
        {
          "output_type": "stream",
          "name": "stdout",
          "text": [
            "[1, 2, 4, 8, 16, 32]\n",
            "[1, 6, 25, 64]\n",
            "Exercise Function HW2 Function3 is complete.\n",
            "[1, 2, 9, 64, 625, 7776, 117649, 2097152]\n",
            "[1, 10, 121, 1728, 28561, 537824, 11390625, 268435456]\n",
            "Bonus complete.\n"
          ]
        }
      ]
    },
    {
      "cell_type": "code",
      "source": [
        "# Function 4: rotate_list\n",
        "# Make the function rotate_list so that it removes the first item from a given list, \n",
        "# adds it to the end of the list, and returns the item that was moved.\n",
        "# No \"for loops\"!\n",
        "# Hint: Look through the documentation on sequence types (ie, lists) for methods that would be useful. Do not use del . \n",
        "\n",
        "def rotate_list(thing):\n",
        "  removed = thing.pop(0)\n",
        "  thing.append(removed)\n",
        "  print(thing)\n",
        "  return removed\n",
        "  return thing\n",
        "\n",
        "\n",
        "\n",
        "numbers = [1, 2, 3, 4]\n",
        "\n",
        "letters = [\"a\", \"b\", \"c\", \"d\"]\n",
        "\n",
        "# uncomment the asserts to check your work with the example list\n",
        "# Use the asserts as examples of how the code should work\n",
        "# Extra Credit if you make your own example and assert to check it. \n",
        "# There are examples in the PDF that will also be provided\n",
        "assert rotate_list(numbers) == 1\n",
        "assert numbers == [2, 3, 4, 1]\n",
        "print(\"Exercise Function HW2 Function4 is complete.\")\n",
        "assert rotate_list(letters) == \"a\"\n",
        "assert letters == [\"b\", \"c\", \"d\", \"a\"]\n",
        "print(\"Bonus complete.\")"
      ],
      "metadata": {
        "id": "ruZRCoFiP9P4",
        "colab": {
          "base_uri": "https://localhost:8080/"
        },
        "outputId": "e0a4d2ee-180d-40f0-9c76-17202116bf91"
      },
      "execution_count": 108,
      "outputs": [
        {
          "output_type": "stream",
          "name": "stdout",
          "text": [
            "[2, 3, 4, 1]\n",
            "Exercise Function HW2 Function4 is complete.\n",
            "['b', 'c', 'd', 'a']\n",
            "Bonus complete.\n"
          ]
        }
      ]
    },
    {
      "cell_type": "code",
      "source": [
        "# Function 5: get_word_codes \n",
        "# Edit the function get_word_codes so that it accepts a list of strings and returns a dictionary \n",
        "# containing the strings as keys and a list of corresponding character codes as values. \n",
        "# It should work on any strings. Use a dictionary comprehension.\n",
        "# Hint: Look through Python's built-in functions for a useful function to use for this.\n",
        "\n",
        "def get_word_codes(thing):\n",
        "  # thing2 =\n",
        "  # stuff = [ord(char) for char in thing]\n",
        "  # print(stuff)\n",
        "  return {key : [ord(c) for c in key] for key in thing} #So the key is the string, and the c is the character in the string?\n",
        "  #I'm tired of this\n",
        "words = ['yes', 'no']\n",
        "stuff = [\"haha\", \"walking\"]\n",
        "# uncomment the asserts to check your work with the example list\n",
        "# Use the asserts as examples of how the code should work\n",
        "# Extra Credit if you make your own example and assert to check it. \n",
        "# There are examples in the PDF that will also be provided\n",
        "assert get_word_codes(words) == {'yes': [121, 101, 115], 'no':[110, 111]}\n",
        "print(\"Exercise Function HW2 Function5 is complete.\")\n",
        "assert get_word_codes(stuff) == {\"haha\": [104, 97, 104, 97], \"walking\": [119, 97, 108, 107, 105, 110, 103]}\n",
        "print(\"Bonus complete.\")"
      ],
      "metadata": {
        "id": "M9KPyU3tSFSl",
        "colab": {
          "base_uri": "https://localhost:8080/"
        },
        "outputId": "a4ad7a1b-df11-4ddd-bf6f-d4927f6fb57e"
      },
      "execution_count": 113,
      "outputs": [
        {
          "output_type": "stream",
          "name": "stdout",
          "text": [
            "Exercise Function HW2 Function5 is complete.\n",
            "Bonus complete.\n"
          ]
        }
      ]
    },
    {
      "cell_type": "code",
      "source": [
        "# Function 6: words_containing\n",
        "# Given a sentence and a lowercase letter, \n",
        "# return a list of words from the sentence that contain the letter, \n",
        "# ignoring the case of the words in the sentence. \n",
        "# Look up methods on the str object to get a list of words from the sentence. \n",
        "# Then use a list comprehension to get the final list to return.\n",
        "\n",
        "def words_containing(thing, letter):  \n",
        "  print([char for char in thing.split() if letter in char.casefold()]) #Oh, have to check the other way around\n",
        "  return [char for char in thing.split() if letter in char.casefold()]\n",
        "\n",
        "\n",
        "\n",
        "sentence1 = \"Anyone who has never made a mistake has never tried anything new\"\n",
        "sentence2 = \"I really didn't know enough about nesting dictionary comprehension for that last exercise\"\n",
        "\n",
        "# uncomment the asserts to check your work with the example list\n",
        "# Use the asserts as examples of how the code should work\n",
        "# Extra Credit if you make your own example and assert to check it. \n",
        "# There are examples in the PDF that will also be provided\n",
        "#  assert words_containing(sentence1, 'a') == ['Anyone', 'has', 'a', 'mistake', 'has', 'anything'] #Made has an a in it, the assert is wrong\n",
        "#Replacing it with my own\n",
        "assert words_containing(sentence1, 'a') == ['Anyone', 'has', 'made', 'a', 'mistake', 'has', 'anything']\n",
        "print(\"Exercise Function HW2 Function6 is complete.\")\n",
        "assert words_containing(sentence2, \"i\") == [\"I\", \"didn't\", \"nesting\", \"dictionary\", \"comprehension\", \"exercise\"]\n",
        "print(\"Bonus complete.\")"
      ],
      "metadata": {
        "id": "CFTAbu72Tt9D",
        "colab": {
          "base_uri": "https://localhost:8080/"
        },
        "outputId": "e7c69330-2dbc-475f-e84c-efb53fd8f5cd"
      },
      "execution_count": 115,
      "outputs": [
        {
          "output_type": "stream",
          "name": "stdout",
          "text": [
            "['Anyone', 'has', 'made', 'a', 'mistake', 'has', 'anything']\n",
            "Exercise Function HW2 Function6 is complete.\n",
            "['I', \"didn't\", 'nesting', 'dictionary', 'comprehension', 'exercise']\n",
            "Bonus complete.\n"
          ]
        }
      ]
    },
    {
      "cell_type": "markdown",
      "source": [
        "\n",
        "\n",
        "```\n",
        "1 \n",
        "2 2 \n",
        "3 3 3 \n",
        "4 4 4 4 \n",
        "\n",
        "```\n",
        "\n"
      ],
      "metadata": {
        "id": "Bbtmn0AqDjVN"
      }
    },
    {
      "cell_type": "code",
      "source": [
        "# Function 7: Write a function to print the above output starting with the number taken as an arguemnt in the example it is 1\n",
        "\n",
        "def what(numb):\n",
        "  print(numb)\n",
        "  print(numb+1, numb+1)\n",
        "  print(numb+2, numb+2, numb+2)\n",
        "  print(numb+3, numb+3, numb+3, numb+3)\n",
        "what(3)\n",
        "\n",
        "#Look, I see NO problem with this mess"
      ],
      "metadata": {
        "id": "Hk-aPIpMDIdI",
        "colab": {
          "base_uri": "https://localhost:8080/"
        },
        "outputId": "82ae4b38-495c-483b-daf4-95b26ae6793e"
      },
      "execution_count": 304,
      "outputs": [
        {
          "output_type": "stream",
          "name": "stdout",
          "text": [
            "3\n",
            "4 4\n",
            "5 5 5\n",
            "6 6 6 6\n"
          ]
        }
      ]
    },
    {
      "cell_type": "markdown",
      "source": [
        "\n",
        "\n",
        "```\n",
        "Lion\n",
        "Deer\n",
        "Sheep\n",
        "Cub\n",
        "Fawn\n",
        "Lamb\n",
        "\n",
        "```\n",
        "\n"
      ],
      "metadata": {
        "id": "WaXyaVu8Euot"
      }
    },
    {
      "cell_type": "code",
      "source": [
        "# Function 8: nested_loops_print_items\n",
        "\n",
        "# Write a function that takes in a list of lists\n",
        "# and prints every item in every list once\n",
        "# it should look like the above output \n",
        "\n",
        "def nested_loops_print_items(unknown):\n",
        "#  for stuff in unknown: #Oh, am I gonna have to do that nested comprehension thing again\n",
        "#{key : [ord(c) for c in key] for key in thing} #For reference\n",
        "  #  print([things for things in unknown]) #Oh, not that way\n",
        "  for stuff in unknown:\n",
        "    print(*stuff, sep = \"\\n\") #That makes 1 to ~20 for geeks for geeks giving me the answer to a problem i had, not very high\n",
        "#the * before stuff makes it print each item without any of the list stuff, just the letters\n",
        "#sep = \\n creates a new line one space after each item\n",
        "\n",
        "thing = [\"Hello\", \"No\"]\n",
        "worse = [\"Bear\", \"Gorilla\"]\n",
        "noclue = [\"Running\", \"Stopping\"]\n",
        "allofem = [thing, worse, noclue]\n",
        "nested_loops_print_items(allofem)\n",
        "#print(thing[1]) #Alright, so printing a function[n] gives it without the brackets or quotation marks\n",
        "\n"
      ],
      "metadata": {
        "id": "ITwDGOnYELWN",
        "colab": {
          "base_uri": "https://localhost:8080/"
        },
        "outputId": "bb1bc6c1-c364-4a51-be9b-92388c3d53e0"
      },
      "execution_count": 313,
      "outputs": [
        {
          "output_type": "stream",
          "name": "stdout",
          "text": [
            "Hello\n",
            "No\n",
            "Bear\n",
            "Gorilla\n",
            "Running\n",
            "Stopping\n"
          ]
        }
      ]
    },
    {
      "cell_type": "markdown",
      "source": [
        "# Classes"
      ],
      "metadata": {
        "id": "w5y0HId9gsa6"
      }
    },
    {
      "cell_type": "code",
      "source": [
        "# Class Function 1: Create a Point Class \n",
        "# Like a Point on a Line\n",
        "# Instructions Below\n",
        "\n",
        "\n",
        "# Name your Class Point\n",
        "# Initialize your class with two arguments x and y\n",
        "## Use the __init__ dunder method to initialize your class\n",
        "# Import any necessary libraries outside of your class\n",
        "# set a default point \n",
        "# make this default pint the origin (0,0)\n",
        "# Add an attribute call get_magnitude that returns the magnitude of the line between the origin (0,0) and your point(x,y)\n",
        "import math\n",
        "class Point:\n",
        "  def __init__(self, x, y):\n",
        "    self.origin = 0, 0\n",
        "    self.x = x\n",
        "    self.y = y\n",
        "def get_magnitude(self):\n",
        "  return math.sqrt(self.x ** 2 + self.y ** 2)\n",
        "\n",
        "p = Point(1, 2)\n",
        "print(get_magnitude(p))\n",
        "\n",
        "q = Point(3, 4)\n",
        "print(get_magnitude(q))\n"
      ],
      "metadata": {
        "id": "DrrQg-9Ofik9",
        "colab": {
          "base_uri": "https://localhost:8080/"
        },
        "outputId": "ceb8bab4-a94b-4c03-e9b6-530e8c57e822"
      },
      "execution_count": 3,
      "outputs": [
        {
          "output_type": "stream",
          "name": "stdout",
          "text": [
            "2.23606797749979\n",
            "5.0\n"
          ]
        }
      ]
    },
    {
      "cell_type": "code",
      "source": [
        "# Class Function 2: Making a Bank Account Class \n",
        "\n",
        "# Name your class BankAccount\n",
        "# Initialize your class with zero arguments\n",
        "# In your initialization include a a self attribute for balance that shows it is equal to some amount (usually 0 but why be broke)\n",
        "# Include a welcoming print statement\n",
        "# In your initialization include a a self attribute to print the balance\n",
        "\n",
        "#Found the 7_22 pdf, sorry if this wasn't how you wanted me to figure it out, but I want to see it to \n",
        "#Deconstruct this before I think I'll be able to do it myself\n",
        "\n",
        "\n",
        "class BankAccount: #Not confident in how these work, but I'll try to make sense of it\n",
        "  def __init__(self): #Initiates the class\n",
        "    self.balance = 25 #Sets a new attribute for the class\n",
        "    print(\"Account opened.\") #Just a print statement that runs with the class\n",
        "    self.print_balance() #A.... function that hasn't been defined yet?\n",
        "  def deposit(self, amount): #New function\n",
        "    self.balance += amount #That attribute from initiation\n",
        "    print(\"${} deposited.\".format(amount)) #Prints a value inside $ deposited in a ... Looked it up, it's in the standard format ($0.00, for example)\n",
        "  def withdraw(self, amount): #New function\n",
        "    self.balance -= amount #The attribute under init self\n",
        "    print(\"${} withdrawn.\".format(amount)) #Similar print command to last\n",
        "    self.print_balance() #The same still undefined function\n",
        "  def print_balance(self): #That function being defined\n",
        "    print(\"Account balance is ${}.\".format(self.balance)) #Print checks the balance\n",
        "\n",
        "    #So is everything with self an attribute?\n",
        "    #And an attribute on top of being variables/functions?\n",
        "    #Looking it up, it's variables shared across the class\n",
        "    #Am I right then? Each self marks an attribute, so self.balance and the functions with self that hold any value are variables and thus attributes?\n",
        "    #I'm getting too tired to wrap this around my head\n",
        "\n",
        "\n",
        "\n",
        "\n",
        "# add an attribute called deposit (should be a function) that takes in an argument called amount\n",
        "## inside deposit should be an attribute that adds the amount from the deposit argument and changes your balance\n",
        "## inside include a print statement with the amount deposited\n",
        "## inside deposit should be a self attribute to print the new  balance\n",
        "\n",
        "\n",
        "# add an attribute called withdraw (should be a function) that takes in an argument called amount\n",
        "## inside withdraw should be an attribute that adds the amount from the deposit argument and changes your balance\n",
        "## inside include a print statement with the amount withdrawn\n",
        "## inside withdraw should be a self attribute to print the new  balance\n",
        "## add functionality to test if the amount you are trying to withdraw is higher than the current balance\n",
        "\n",
        "# add an attribute called print_balance (should be a function) that takes in no arguments\n",
        "## inside print_balance should be an attribute that prints the balance\n",
        "\n",
        "\n",
        "# Look up the __str__ method\n",
        "## add an attribute called __str__ that returns a very clear print statement when you just call your class instance\n",
        "  def __str__(self):\n",
        "    return \"Account with balance of ${}\".format(self.balance)\n",
        "# Look up the __repr__ method\n",
        "## add an attribute called __repr__ that returns a very clear print statement when you just call your class instance\n",
        "  def __repr__(self):\n",
        "    return \"Account with balance of ${}\".format(self.balance)\n",
        "## which one of these is more necessary for Colab vs Replit\n",
        "\n",
        "#I think str would be more useful for Colab, since you already see where line of an error happens\n",
        "\n",
        "\n",
        "\n",
        "my_account = BankAccount()\n",
        "\n",
        "BankAccount.deposit(my_account, 50)\n",
        "BankAccount.withdraw(my_account, 25)\n",
        "BankAccount.print_balance(my_account) #Alright, this is starting to make sense\n",
        "str(my_account)\n",
        "repr(my_account)"
      ],
      "metadata": {
        "id": "jNyKXjIBvSJp",
        "colab": {
          "base_uri": "https://localhost:8080/",
          "height": 140
        },
        "outputId": "8ee35991-328f-4bce-ab9f-ce39c29f6232"
      },
      "execution_count": 9,
      "outputs": [
        {
          "output_type": "stream",
          "name": "stdout",
          "text": [
            "Account opened.\n",
            "Account balance is $25.\n",
            "$50 deposited.\n",
            "$25 withdrawn.\n",
            "Account balance is $50.\n",
            "Account balance is $50.\n"
          ]
        },
        {
          "output_type": "execute_result",
          "data": {
            "text/plain": [
              "'Account with balance of $50'"
            ],
            "application/vnd.google.colaboratory.intrinsic+json": {
              "type": "string"
            }
          },
          "metadata": {},
          "execution_count": 9
        }
      ]
    },
    {
      "cell_type": "code",
      "source": [
        "# Class Function 3: Making a Circle Class\n",
        "\n",
        "\n",
        "# Name your class Circle\n",
        "# Initialize your class with an argument called radius with a default value\n",
        "# Import any libraries you need outside your class\n",
        "# In your initialization include a self attribute for radius that is equal to your argument\n",
        "# In your initialization include a self attribute called area that is equal to the area of a circle\n",
        "import math\n",
        "class Circle:\n",
        "  def __init__(self, radius = 1):\n",
        "    self.radius = radius\n",
        "    \n",
        "\n",
        "# You should practice reassigning your radius values\n",
        "\n",
        "# Investigate the property decorator\n",
        "# Convert you area initialization property to an attribut and assign it a property decorator\n",
        "# Explain how this helps you\n",
        "# Add another attribute called diameter (with no arguments)and assign it a property decorator\n",
        "\n",
        "  @property #According to the pdf, this allows us to change the radius, and thus the diameter\n",
        "  def area(self): \n",
        "    return math.pi * self.radius ** 2\n",
        "\n",
        "\n",
        "     \n",
        "    @diameter.setter #Now changing the diameter is possible\n",
        "    def diameter(self, diameter): \n",
        "      self.radius = diameter / 2\n",
        "\n",
        "  \n",
        "\n",
        "\n",
        "# You should try resetting your diameter\n",
        "\n",
        "# Edit your attribute diameter to include an argument\n",
        "# Add a property decorator called diameter.setter \n",
        "\n",
        "# Try resetting your diameter again\n",
        "\n",
        "\n",
        "Circle.radius = 3\n",
        "Circle.area\n",
        "Circle.diameter = 8\n",
        "print(Circle.radius)\n",
        "print(Circle.area) #Alright, still don't understand why I- Oh, the repr dunder method \n",
        "print(Circle.diameter)\n",
        "\n"
      ],
      "metadata": {
        "id": "8oXON7iZvGV9",
        "colab": {
          "base_uri": "https://localhost:8080/"
        },
        "outputId": "fc1d8095-964c-40cf-ea6c-644696751c8a"
      },
      "execution_count": 43,
      "outputs": [
        {
          "output_type": "stream",
          "name": "stdout",
          "text": [
            "3\n",
            "<property object at 0x7ff9ba37b770>\n",
            "8\n"
          ]
        }
      ]
    },
    {
      "cell_type": "markdown",
      "source": [
        "# Inheritances\n",
        "\n",
        "Working with Super Classes and multiple inheritances\n",
        "\n",
        "Note: initialization steps are also sometimes called instructors"
      ],
      "metadata": {
        "id": "0w4rV5wH_jwv"
      }
    },
    {
      "cell_type": "code",
      "source": [
        "# Class Function 4: Inheritances\n",
        "\n",
        "\n",
        "# Name your class Base\n",
        "# Initialize your class with an argument called name\n",
        "class Base:\n",
        "  def __init__(self, name):\n",
        "    self.name = name\n",
        "    \n",
        "  def getName(self, name):\n",
        "    return name\n",
        "\n",
        "\n",
        "# In your initialization include a self attribute name that is equal to your argument\n",
        "# Add an attribute called getName that returns the instance of name\n",
        "\n",
        "# Make an inherited class or sub class of Base called Child\n",
        "# Create a contrustor for you class/Initialize this class with two arguments: name and age\n",
        "# In your initialization include a self attribute age that is equal to your argument for age\n",
        "# Call your Parent class base then using the .__init__ function initalize the constructor from your parent class for name\n",
        "# Add an attribute called getAge that returns the instance of age\n",
        "\n",
        "class Child(Base): #Looked up how to write a subclass\n",
        "  def __init__(self, name, age): #Oh, so this line is also called a constructor?\n",
        "    self.age = self #Is it okay to have self on age? Guess so since theres no errors popping up\n",
        "    super().__init__() #Alright, looked that up and I hope it works\n",
        "\n",
        "  def getAge(self, age):\n",
        "    return age\n",
        "\n",
        "\n",
        "\n",
        "# Make an inherited class or sub class of Child called Granchild\n",
        "# Create a contrustor for you class/Initialize this class with three arguments: name and age and address\n",
        "# In your initialization include a self attribute address that is equal to your argument for address\n",
        "# Call your Parent class Child then using the .__init__ function initalize the constructor from your parent class for name and age\n",
        "# Add an attribute called getAddress that returns the instance of address\n",
        "\n",
        "#Gran?\n",
        "#Whatever, writing Grandchild\n",
        "\n",
        "class Grandchild(Child):\n",
        "  def __init__(self, name, age, address):\n",
        "    self.address = address #Gets a bit confusing reading the information, maybe if there were quotation marks around address to signify that it's user defined rather than something new?\n",
        "    super().__init__()\n",
        "\n",
        "  def getAddress(self, address):\n",
        "    return address\n",
        "\n",
        "#Is that fine?\n",
        "#I guess? I'll print the functions i guess\n",
        "print(Base.getName)\n",
        "print(Grandchild.getAddress)\n",
        "print(Child.getAge)\n",
        "\n",
        "#I'll take it\n"
      ],
      "metadata": {
        "id": "FLpcwwqW_yq5",
        "colab": {
          "base_uri": "https://localhost:8080/"
        },
        "outputId": "f2c449f5-3166-4482-a828-5c28384d4347"
      },
      "execution_count": 48,
      "outputs": [
        {
          "output_type": "stream",
          "name": "stdout",
          "text": [
            "<function Base.getName at 0x7ff9ba311050>\n",
            "<function Grandchild.getAddress at 0x7ff9ba312b00>\n",
            "<function Child.getAge at 0x7ff9ba311f80>\n"
          ]
        }
      ]
    },
    {
      "cell_type": "markdown",
      "source": [
        "# Collections\n"
      ],
      "metadata": {
        "id": "ielHy1nF3ki2"
      }
    },
    {
      "cell_type": "code",
      "source": [
        "# Collections Function 1\n",
        "# Write a function to find the 10 most common words in a selected text\n",
        "# Import necessary libraries or collections\n",
        "from collections import Counter\n",
        "import re\n",
        "text = \"\"\"The Python Software Foundation (PSF) is a 501(c)(3) non-profit \n",
        "corporation that holds the intellectual property rights behind\n",
        "the Python programming language. We manage the open source licensing \n",
        "for Python version 2.1 and later and own and protect the trademarks \n",
        "associated with Python. We also run the North American PyCon conference \n",
        "annually, support other Python conferences around the world, and \n",
        "fund Python related development with our grants program and by funding \n",
        "special projects.\"\"\"\n",
        "\n",
        "\n",
        "def ten_most_common_words(thing):\n",
        "  thing = re.findall('\\w+',text) #Think the \\w+ removes characters between words? #Looks like findall is doing most of the work here\n",
        "  return Counter(thing).most_common(10) #Return the top 10 repeated words\n",
        "\n",
        "# divided = text.split() #Splits the string into individual words\n",
        "# Counter = Counter(divided) #Pass it to the class instance? So the class has it as reference or something? Not entirely sure what this does\n",
        "# ten_most_common_words = Counter.most_common(10)\n",
        "# print(ten_most_common_words)\n",
        "\n",
        "\n",
        "assert ten_most_common_words(text) == [('Python', 6), ('the', 6), ('and', 5), ('We', 2), ('with', 2), ('The', 1), ('Software', 1), ('Foundation', 1), ('PSF', 1), ('is', 1)]\n",
        "print(\"It worked.\")"
      ],
      "metadata": {
        "id": "C-FZkGa93X16",
        "colab": {
          "base_uri": "https://localhost:8080/"
        },
        "outputId": "d8ba0b35-49fa-42e9-f7f6-573b88d93006"
      },
      "execution_count": 70,
      "outputs": [
        {
          "output_type": "stream",
          "name": "stdout",
          "text": [
            "It worked.\n"
          ]
        }
      ]
    },
    {
      "cell_type": "code",
      "source": [
        "# Collections Code 2\n",
        "# This is going to be a little different\n",
        "# I am not asking you to write a function, just code, similar to chatbot\n",
        "\n",
        "# Import necessary libraries or collections\n",
        "# Define a Movie tuple using namedtuple that accepts \n",
        "# a title, a director, a release year, and a budget. \n",
        "# Prompt the user(yourself in this case) to provide information for each of these fields \n",
        "# and create an instance of the Movie tuple you defined.\n",
        "\n",
        "!pip install --upgrade namedtuple #There goes the very last exercise, sorry for going out with a whimper\n",
        "import namedtuple #Alright well, that doesn't work on colab\n",
        "\n",
        "#I'll just get some code over, try to identify and explain it the best I can, and then turn in this and the adventure game homework I finished some hours ago\n",
        "\n",
        "import namedtuple #Well, two commands that don't work aren't gonna make that much of a difference\n",
        "\n",
        "Movie = namedtuple(\"Movie\", [\"title\", \"director\", \"year\", \"budget\"])  #Namedtuple seems to let you save a string connected to a set\n",
        "\n",
        "title = input(\"What is the title of the movie? \") #Simple, just an input that assigns a variable, except this variable appeared \n",
        "director = input(f\"Who directed {title}? \") #Don't know what f is referring to, probably the namedtuple since {title} is very clearly referring to what the user inputs for the previous line\n",
        "year = input(f\"When was {title} released? \") #Same as the last, just that this one is asking to set a different variable\n",
        "budget = input(f\"What was the budget for {title}? \") #Same as last\n",
        "\n",
        "movie = Movie(title, director, year, budget) #Yeah, alright, I wasn't really expecting the command to work when namedtuple isn't here\n",
        "\n",
        "#The inputs work but most seem to refer to the one string in the set. I'm not entirely sure what a namedtuple is object wise, \n",
        "#could just be a tuple with a string attached to the end (so a sequence and the word outside the brackets is the name of the tuple)\n",
        "#Had to use exactly one (1) tuple for the karg thing in the geometric shape (I wrote font=[100, \"arial\", \"normal\"] to change the font size in the write command)\n",
        "#Also rereading that tuples can't be changed, so I guess that makes namedtuple even more special\n",
        "#There's a text box below this one by the way"
      ],
      "metadata": {
        "id": "TiKKY8a04Pbh",
        "colab": {
          "base_uri": "https://localhost:8080/",
          "height": 426
        },
        "outputId": "49ac04f5-570f-4fdd-af7e-37fedff8a478"
      },
      "execution_count": 82,
      "outputs": [
        {
          "output_type": "stream",
          "name": "stdout",
          "text": [
            "Looking in indexes: https://pypi.org/simple, https://us-python.pkg.dev/colab-wheels/public/simple/\n",
            "\u001b[31mERROR: Could not find a version that satisfies the requirement namedtuple (from versions: none)\u001b[0m\n",
            "\u001b[31mERROR: No matching distribution found for namedtuple\u001b[0m\n"
          ]
        },
        {
          "output_type": "error",
          "ename": "ModuleNotFoundError",
          "evalue": "ignored",
          "traceback": [
            "\u001b[0;31m---------------------------------------------------------------------------\u001b[0m",
            "\u001b[0;31mModuleNotFoundError\u001b[0m                       Traceback (most recent call last)",
            "\u001b[0;32m<ipython-input-82-f43d1a5221b7>\u001b[0m in \u001b[0;36m<module>\u001b[0;34m()\u001b[0m\n\u001b[1;32m     10\u001b[0m \u001b[0;34m\u001b[0m\u001b[0m\n\u001b[1;32m     11\u001b[0m \u001b[0mget_ipython\u001b[0m\u001b[0;34m(\u001b[0m\u001b[0;34m)\u001b[0m\u001b[0;34m.\u001b[0m\u001b[0msystem\u001b[0m\u001b[0;34m(\u001b[0m\u001b[0;34m'pip install --upgrade namedtuple #There goes the very last exercise, sorry for going out with a whimper'\u001b[0m\u001b[0;34m)\u001b[0m\u001b[0;34m\u001b[0m\u001b[0;34m\u001b[0m\u001b[0m\n\u001b[0;32m---> 12\u001b[0;31m \u001b[0;32mimport\u001b[0m \u001b[0mnamedtuple\u001b[0m \u001b[0;31m#Alright well, that doesn't work on colab\u001b[0m\u001b[0;34m\u001b[0m\u001b[0;34m\u001b[0m\u001b[0m\n\u001b[0m\u001b[1;32m     13\u001b[0m \u001b[0;31m#I'll just get some code over, try to identify and explain it the best I can, and then turn in this and the adventure game homework I finished some hours ago\u001b[0m\u001b[0;34m\u001b[0m\u001b[0;34m\u001b[0m\u001b[0;34m\u001b[0m\u001b[0m\n\u001b[1;32m     14\u001b[0m \u001b[0;34m\u001b[0m\u001b[0m\n",
            "\u001b[0;31mModuleNotFoundError\u001b[0m: No module named 'namedtuple'",
            "",
            "\u001b[0;31m---------------------------------------------------------------------------\u001b[0;32m\nNOTE: If your import is failing due to a missing package, you can\nmanually install dependencies using either !pip or !apt.\n\nTo view examples of installing some common dependencies, click the\n\"Open Examples\" button below.\n\u001b[0;31m---------------------------------------------------------------------------\u001b[0m\n"
          ],
          "errorDetails": {
            "actions": [
              {
                "action": "open_url",
                "actionText": "Open Examples",
                "url": "/notebooks/snippets/importing_libraries.ipynb"
              }
            ]
          }
        }
      ]
    },
    {
      "cell_type": "markdown",
      "source": [
        "Thank you for teaching this class.\n",
        "\n",
        "It's extremely rare that something (especially homework!) is able to not only catch but hold my attention for such long periods of time. It's been great discovering something so engaging here.\n",
        "\n",
        "I apologize for turning in the first two homework assignments late, I should've paid more attention to Canvas to see when the each new assignment was posted."
      ],
      "metadata": {
        "id": "yq2NhpVcqi5d"
      }
    }
  ]
}