{
  "nbformat": 4,
  "nbformat_minor": 0,
  "metadata": {
    "colab": {
      "name": "PasswordAndAnimalAge.ipynb",
      "provenance": []
    },
    "kernelspec": {
      "name": "python3",
      "display_name": "Python 3"
    },
    "language_info": {
      "name": "python"
    }
  },
  "cells": [
    {
      "cell_type": "code",
      "execution_count": null,
      "metadata": {
        "id": "ps0aiz55bhV6"
      },
      "outputs": [],
      "source": [
        "#password \n",
        "print(\"the password is ryan\")#example password had better way in game\n",
        "while True:\n",
        "  x = input(\"please enter the password \")\n",
        "  if x == \"ryan\":\n",
        "    break \n",
        "  else:\n",
        "    print(\"that is incorrect\")\n",
        "print(\"That is correct\")"
      ]
    },
    {
      "cell_type": "code",
      "source": [
        "#animal age\n",
        "animal = input(\"cat or dog (type out c or d) \")\n",
        "\n",
        "if animal == \"d\":\n",
        "  agee = int(input(\"how many years old is your dog (e.g. 5) \"))\n",
        "  if agee == 0:\n",
        "    print(\"the dog's human age is 0\")\n",
        "  elif agee == 1:\n",
        "    print(\"the dog's human age is 12\")\n",
        "  elif agee == 2:\n",
        "    print(\"the dog's human age is 24\")\n",
        "  elif agee > 2:\n",
        "    human = 24 + (agee-2)*4\n",
        "    humann = str(human)\n",
        "    print(\"the dog's human age is \" + humann)\n",
        "if animal == \"c\":\n",
        "  agee = int(input(\"how many years old is your cat (e.g. 5) \"))\n",
        "  if agee == 0:\n",
        "    print(\"the cat's human age is 0\")\n",
        "  elif agee == 1:\n",
        "    print(\"the cat's human age is 15\")\n",
        "  elif agee == 2:\n",
        "    print(\"the cat's human age is 24\")\n",
        "  elif agee > 2:\n",
        "    humannn = 24 + (agee-2)*4\n",
        "    print(\"the cat's human age is \" + humannn)\n",
        "\n"
      ],
      "metadata": {
        "id": "o5ishB9meKAB"
      },
      "execution_count": null,
      "outputs": []
    }
  ]
}