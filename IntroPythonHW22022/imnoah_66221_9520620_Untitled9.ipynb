{
  "nbformat": 4,
  "nbformat_minor": 0,
  "metadata": {
    "colab": {
      "name": "Untitled9.ipynb",
      "provenance": [],
      "collapsed_sections": []
    },
    "kernelspec": {
      "name": "python3",
      "display_name": "Python 3"
    },
    "language_info": {
      "name": "python"
    }
  },
  "cells": [
    {
      "cell_type": "code",
      "execution_count": null,
      "metadata": {
        "id": "ztuxvxYqXOV0",
        "colab": {
          "base_uri": "https://localhost:8080/"
        },
        "outputId": "d469821f-44ee-4f69-a07d-54319844e7bd"
      },
      "outputs": [
        {
          "output_type": "stream",
          "name": "stdout",
          "text": [
            "You have climbed Mount Everest in search for a mythical treasure\n",
            "You spot a huge cave\n",
            "However a giant Yeti stops you from entering\n",
            "The yeti screams, To enter one must say the password\n",
            "What has a bunch of keys but can NOT play music, computer (a), pinao (b), book (c): a\n",
            "Impossibe, no one have ever found the password\n",
            "You may enter\n",
            "As you enter you see the treasure\n",
            "However, it is guarded by a dragon\n",
            "The dragon roars, To obtain the treasure one must get all 3 questions correct\n",
            "What is the biggest planet: jupiter\n",
            "correct\n",
            "What is the largest state in America: alaska\n",
            "correct\n",
            "Wow, you are smart\n",
            "Final question\n",
            "Is a RECTANGLE a square? Yes or No: no\n",
            "No Wayyy you are this smart\n",
            "No human has ever made it this far\n",
            "Here is your treasure\n"
          ]
        }
      ],
      "source": [
        "\n",
        "print(\"You have climbed Mount Everest in search for a mythical treasure\")\n",
        "print(\"You spot a huge cave\")\n",
        "print(\"However a giant Yeti stops you from entering\")\n",
        "print(\"The yeti screams, To enter one must say the password\")\n",
        "x = input(\"What has a bunch of keys but can NOT play music, computer (a), pinao (b), book (c): \")\n",
        "if x == 'a': print(\"Impossibe, no one have ever found the password\") \n",
        "if x == 'b': print(\"Wrong, welp free meal\")\n",
        "if x == 'c': print(\"That was the worst possible answer everrrr\")\n",
        "\n",
        "if x == 'a' :\n",
        "  print(\"You may enter\")\n",
        "  print(\"As you enter you see the treasure\")\n",
        "  print(\"However, it is guarded by a dragon\")\n",
        "  print(\"The dragon roars, To obtain the treasure one must get all 3 questions correct\")\n",
        "  y = input(\"What is the biggest planet: \")\n",
        "  if y == 'jupiter':\n",
        "    print(\"correct\")\n",
        "  else:\n",
        "    print(\"incorrect, start again\")\n",
        "\n",
        "if x == 'a' and y == 'jupiter':\n",
        "  z = input(\"What is the largest state in America: \")\n",
        "  if z == 'alaska':\n",
        "    print(\"correct\")\n",
        "  else:\n",
        "    print(\"incorrect, You died \")\n",
        "\n",
        "if x == 'a' and y == 'jupiter' and z == 'alaska':\n",
        "  print(\"Wow, you are smart\")\n",
        "  print(\"Final question\")\n",
        "  i = input(\"Is a RECTANGLE a square? Yes or No: \")\n",
        "  if i == 'no':\n",
        "    print(\"No Wayyy you are this smart\")\n",
        "  else:\n",
        "    print(\"Oh so close, welp your dead\")\n",
        "\n",
        "if x == 'a' and y == 'jupiter' and z == 'alaska' and i == 'no':\n",
        "  print(\"No human has ever made it this far\")\n",
        "  print(\"Here is your treasure\")\n",
        "\n",
        "  \n",
        "  \n"
      ]
    }
  ]
}