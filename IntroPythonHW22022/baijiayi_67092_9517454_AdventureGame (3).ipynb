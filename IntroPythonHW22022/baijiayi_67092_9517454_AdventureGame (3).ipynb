{
  "nbformat": 4,
  "nbformat_minor": 0,
  "metadata": {
    "colab": {
      "name": "AdventureGame.ipynb",
      "provenance": []
    },
    "kernelspec": {
      "name": "python3",
      "display_name": "Python 3"
    },
    "language_info": {
      "name": "python"
    }
  },
  "cells": [
    {
      "cell_type": "code",
      "execution_count": 40,
      "metadata": {
        "id": "au3EYy2lrI5m",
        "colab": {
          "base_uri": "https://localhost:8080/"
        },
        "outputId": "57ff0db2-e867-4f40-8f40-d6c070d959ba"
      },
      "outputs": [
        {
          "output_type": "stream",
          "name": "stdout",
          "text": [
            "Welcome to the Santa Cruz Mountain Adventure Game\n",
            "**************************************************************\n",
            "You are visiting Santa Cruz, California.\n",
            "You go on an evening hike alone in the mountains.\n",
            "\n",
            "You can pick one item to take with you - \n",
            "map (m), flashlight (f), chocolate (c), rope (r), or sticks (s): \n",
            "What do you choose?: m\n",
            "You hear a humming sound.\n",
            "Do you want to follow the sound? (Yes/No) y\n",
            "You keep moving closer to the sound.\n",
            "The sound suddenly stops.\n",
            "You are now LOST! ....\n",
            "You try to call on your phone, but there is no signal!\n",
            "\n",
            "You see 4 paths, pick one (1/2/3/4)1\n",
            "You reach an abandoned cabin\n",
            "You use the map and find your way home, and CONGRATULATIONS! You won the game \n"
          ]
        }
      ],
      "source": [
        "import time\n",
        "print(\"Welcome to the Santa Cruz Mountain Adventure Game\")\n",
        "print(\"**************************************************************\")\n",
        "print(\"You are visiting Santa Cruz, California.\")\n",
        "print(\"You go on an evening hike alone in the mountains.\\n\")\n",
        "time.sleep(3)\n",
        "item_chosen = input(\"You can pick one item to take with you - \\nmap (m), flashlight (f), chocolate (c), rope (r), or sticks (s): \\nWhat do you choose?: \").lower()\n",
        "while item_chosen !=\"m\" and item_chosen !=\"f\" and item_chosen !=\"c\" and item_chosen !=\"r\" and item_chosen !=\"s\":\n",
        "  item_chosen = input(\"You can pick one item to take with you - \\nmap (m), flashlight (f), chocolate (c), rope (r), or sticks (s): \\nWhat do you choose?: \")\n",
        "time.sleep(3)\n",
        "print(\"You hear a humming sound.\")\n",
        "time.sleep(3)\n",
        "follow_sound = input(\"Do you want to follow the sound? (Yes/No) \").lower()\n",
        "while follow_sound !=\"yes\" and follow_sound !=\"y\" and follow_sound != \"no\" and follow_sound != \"n\":\n",
        "  follow_sound = input(\"Do you want to follow the sound? (Yes/No) \").lower()\n",
        "if follow_sound == \"yes\" or follow_sound == \"y\":\n",
        "  print(\"You keep moving closer to the sound.\") \n",
        "  time.sleep(3)\n",
        "  print(\"The sound suddenly stops.\") \n",
        "  print(\"You are now LOST! ....\") \n",
        "  time.sleep(2)\n",
        "  print(\"You try to call on your phone, but there is no signal!\\n\") \n",
        "  time.sleep(3)\n",
        "  path = input(\"You see 4 paths, pick one (1/2/3/4)\").lower()\n",
        "  while path not in \"1234\" and path != \"one\" and path != \"two\" and path != \"three\" and path != \"four\":\n",
        "    path = input(\"You see 4 paths, pick one (1/2/3/4)\").lower()\n",
        "  if path == \"1\" or path == \"one\":\n",
        "    time.sleep(3)\n",
        "    print(\"You reach an abandoned cabin\")\n",
        "    if item_chosen == \"m\":\n",
        "      time.sleep(2)\n",
        "      print(\"You use the map and find your way home, and CONGRATULATIONS! You won the game \")\n",
        "    else:\n",
        "      time.sleep(2)\n",
        "      print(\"if you had a map, you could find your way from here, ---You are still lost. You lost the game.--- \")\n",
        "  if path == \"2\" or path == \"two\":\n",
        "    time.sleep(3)\n",
        "    print(\"You reach a river with a broken bridge\")\n",
        "    if item_chosen == \"r\" or item_chosen == \"s\":\n",
        "      time.sleep(2)\n",
        "      print(\"You chose an item that can fix the bridge. You fix the bridge, cross over, and find your way home CONGRATULATIONS! You won the game \")\n",
        "    else:\n",
        "      time.sleep(2)\n",
        "      print(\"if you had a rope or a stick, you could fix the bridge. ---You are still lost. You lost the game.--- \")\n",
        "  if path == \"3\" or path == \"three\":\n",
        "    time.sleep(3)\n",
        "    print(\"You are walking and trip over a fallen log, You have hurt your foot. You sit down and wait for help.This could be a long time. You are still lost ---You lost the game.--- \")\n",
        "  if path ==\"4\" or path == \"four\":\n",
        "    time.sleep(3)\n",
        "    print(\"​You reach the side of the highway. It is dark \")\n",
        "    if item_chosen == \"f\":\n",
        "      time.sleep(1)\n",
        "      print(\"You use the flashlight to signal. A car stops and gives you a ride home. CONGRATULATIONS! You got out safely. You won the game. \")\n",
        "    else:\n",
        "      time.sleep(1)\n",
        "      print(\"f you had a flashlight, you could signal for help.---You are still lost. You lost the game.---\")\n",
        "if follow_sound == \"no\" or follow_sound == \"n\":\n",
        "  print(\"Good idea. You are not taking risks.\") \n",
        "  time.sleep(3)\n",
        "  print(\"You start walking back to the starting point.\") \n",
        "  print(\"You realize you are LOST!\") \n",
        "  time.sleep(1)\n",
        "  print(\"The sound is behind you and is getting louder. You panic!\")\n",
        "  what_to_do = input(\"Do you want to run or make a call? (run/call)\").lower()\n",
        "  while what_to_do != \"run\" and what_to_do != \"r\":\n",
        "    what_to_do = input(\"The call failed, do you want to run or make a call? (run/call)\").lower()\n",
        "  time.sleep(1)\n",
        "  print(\"You are running fast. The sound gets really loud\")\n",
        "  time.sleep(2)\n",
        "  print(\"A woman on an electric scooter comes up behind you.\")\n",
        "  favorite = input(\"Which is your favorite programming language? (Python/Java)\").lower()\n",
        "  while favorite != \"python\" and favorite != \"java\" and favorite != \"p\" and favorite != \"j\":\n",
        "    favorite = input(\"Which is your favorite programming language? (Python/Java)\").lower()\n",
        "  if favorite == \"java\" or favorite == \"j\":\n",
        "    time.sleep(1)\n",
        "    print(\"She says, ‘Yes, Java is my favorite programming language.’\")\n",
        "    time.sleep(2)\n",
        "    print(\"if you have some chocolate, I can help you.\")\n",
        "    if item_chosen == \"c\": \n",
        "      time.sleep(1)\n",
        "      print(\"Luckily you did choose correctly!, You give her the chocolate, She helps you get home, CONGRATULATIONS! You got out safely. You won the game.\")\n",
        "    else:\n",
        "      time.sleep(1)\n",
        "      print(\"You should have chosen that chocolate, She rides away, leaving you alone and lost. You lost the game \")\n",
        "  else:\n",
        "    time.sleep(1)\n",
        "    print(\"She did not like your answer. She rides away, leaving you lost. You lost the game. \")\n",
        "\n",
        "\n",
        "\n",
        "    \n",
        "\n",
        "\n",
        "\n",
        "\n"
      ]
    },
    {
      "cell_type": "code",
      "source": [
        ""
      ],
      "metadata": {
        "id": "l9UPuS2e3Aaf"
      },
      "execution_count": null,
      "outputs": []
    }
  ]
}