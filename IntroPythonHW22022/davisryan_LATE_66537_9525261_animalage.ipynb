animal = input("cat or dog (type out c or d) ")

if animal == "d":
  agee = int(input("how many years old is your dog (e.g. 5) "))
  if agee == 0:
    print("the dog's human age is 0")
  elif agee == 1:
    print("the dog's human age is 12")
  elif agee == 2:
    print("the dog's human age is 24")
  elif agee > 2:
    human = 24 + (agee-2)*4
    humann = str(human)
    print("the dog's human age is " + humann)
if animal == "c":
  agee = int(input("how many years old is your cat (e.g. 5) "))
  if agee == 0:
    print("the cat's human age is 0")
  elif agee == 1:
    print("the cat's human age is 15")
  elif agee == 2:
    print("the cat's human age is 24")
  elif agee > 2:
    humannn = 24 + (agee-2)*4
    print("the cat's human age is " + humannn)

