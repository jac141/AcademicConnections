{
  "nbformat": 4,
  "nbformat_minor": 0,
  "metadata": {
    "colab": {
      "name": "IntrotoPython_HW2_Topic1 (2).ipynb",
      "provenance": []
    },
    "kernelspec": {
      "name": "python3",
      "display_name": "Python 3"
    },
    "language_info": {
      "name": "python"
    }
  },
  "cells": [
    {
      "cell_type": "markdown",
      "source": [
        "# Comprehensions"
      ],
      "metadata": {
        "id": "H69HHYvqGdwu"
      }
    },
    {
      "cell_type": "code",
      "source": [
        "# Comprehension Function 1\n",
        "# I am not asking you to write a function, just code, similar to chatbot\n",
        "\n",
        "def disemvowel(string_):\n",
        "    vowels = 'a', 'e', 'i', 'o', 'u', 'A', 'E', 'I', 'O', 'U'\n",
        "    for a in vowels:\n",
        "      string_ = string_.replace(a, '')\n",
        "    return string_\n",
        "\n",
        "# Using a list comprehension remove all the vowels in a string "
      ],
      "metadata": {
        "id": "bICDe4hIG4YH"
      },
      "execution_count": 71,
      "outputs": []
    },
    {
      "cell_type": "code",
      "source": [
        "# Comprehension Function 2\n",
        "# I am not asking you to write a function, just code, similar to chatbot\n",
        "\n",
        "def count_words_by_length_compr4(words):\n",
        "    return {\n",
        "        n: sum(1 for word in words if len(word) == n)\n",
        "        for n in {len(word) for word in words}}\n",
        "\n",
        "\n",
        "mod_text = [\"hello\", \"this\", \"is\", \"a\", \"list\", \"of\",\"words\"]\n",
        "print(count_words_by_length_compr4(mod_text))\n",
        "# {1: 1, 2: 2, 4: 2, 5: 2}\n",
        "\n",
        "# Using a dictionary comprehension to count the length of each word in a sentence"
      ],
      "metadata": {
        "id": "Iy0d8WXHHATS",
        "colab": {
          "base_uri": "https://localhost:8080/"
        },
        "outputId": "2501547d-d93f-4d12-b930-8f0ef63760ad"
      },
      "execution_count": 72,
      "outputs": [
        {
          "output_type": "stream",
          "name": "stdout",
          "text": [
            "{1: 1, 2: 2, 4: 2, 5: 2}\n"
          ]
        }
      ]
    },
    {
      "cell_type": "code",
      "source": [
        "# Comprehension Function 3\n",
        "# I am not asking you to write a function, just code, similar to chatbot\n",
        "\n",
        "list = [2,3,4,5,6,7,8,9]\n",
        "list=[\"hello\",\"intellipaat\"]\n",
        "\n",
        "\n",
        "\n",
        "# Use a nested list comprehension to find all of the numbers \n",
        "# from 1–2000 that are divisible by any single digit besides 1 ( so just 2–9)\n"
      ],
      "metadata": {
        "id": "NBqRYB3sHKNu"
      },
      "execution_count": 73,
      "outputs": []
    },
    {
      "cell_type": "code",
      "source": [
        "# Comprehension Function 3\n",
        "\n",
        "\n",
        "six = [n for n in range(0,2000) if '6' in str(n)]\n",
        "print(six)\n",
        "\n",
        "# Find all of the numbers from 1–2000 that have a 6 in them"
      ],
      "metadata": {
        "id": "SY10qd2lHaYS",
        "colab": {
          "base_uri": "https://localhost:8080/"
        },
        "outputId": "f09ca374-6a7e-43b8-ccef-50f511b42656"
      },
      "execution_count": 74,
      "outputs": [
        {
          "output_type": "stream",
          "name": "stdout",
          "text": [
            "[6, 16, 26, 36, 46, 56, 60, 61, 62, 63, 64, 65, 66, 67, 68, 69, 76, 86, 96, 106, 116, 126, 136, 146, 156, 160, 161, 162, 163, 164, 165, 166, 167, 168, 169, 176, 186, 196, 206, 216, 226, 236, 246, 256, 260, 261, 262, 263, 264, 265, 266, 267, 268, 269, 276, 286, 296, 306, 316, 326, 336, 346, 356, 360, 361, 362, 363, 364, 365, 366, 367, 368, 369, 376, 386, 396, 406, 416, 426, 436, 446, 456, 460, 461, 462, 463, 464, 465, 466, 467, 468, 469, 476, 486, 496, 506, 516, 526, 536, 546, 556, 560, 561, 562, 563, 564, 565, 566, 567, 568, 569, 576, 586, 596, 600, 601, 602, 603, 604, 605, 606, 607, 608, 609, 610, 611, 612, 613, 614, 615, 616, 617, 618, 619, 620, 621, 622, 623, 624, 625, 626, 627, 628, 629, 630, 631, 632, 633, 634, 635, 636, 637, 638, 639, 640, 641, 642, 643, 644, 645, 646, 647, 648, 649, 650, 651, 652, 653, 654, 655, 656, 657, 658, 659, 660, 661, 662, 663, 664, 665, 666, 667, 668, 669, 670, 671, 672, 673, 674, 675, 676, 677, 678, 679, 680, 681, 682, 683, 684, 685, 686, 687, 688, 689, 690, 691, 692, 693, 694, 695, 696, 697, 698, 699, 706, 716, 726, 736, 746, 756, 760, 761, 762, 763, 764, 765, 766, 767, 768, 769, 776, 786, 796, 806, 816, 826, 836, 846, 856, 860, 861, 862, 863, 864, 865, 866, 867, 868, 869, 876, 886, 896, 906, 916, 926, 936, 946, 956, 960, 961, 962, 963, 964, 965, 966, 967, 968, 969, 976, 986, 996, 1006, 1016, 1026, 1036, 1046, 1056, 1060, 1061, 1062, 1063, 1064, 1065, 1066, 1067, 1068, 1069, 1076, 1086, 1096, 1106, 1116, 1126, 1136, 1146, 1156, 1160, 1161, 1162, 1163, 1164, 1165, 1166, 1167, 1168, 1169, 1176, 1186, 1196, 1206, 1216, 1226, 1236, 1246, 1256, 1260, 1261, 1262, 1263, 1264, 1265, 1266, 1267, 1268, 1269, 1276, 1286, 1296, 1306, 1316, 1326, 1336, 1346, 1356, 1360, 1361, 1362, 1363, 1364, 1365, 1366, 1367, 1368, 1369, 1376, 1386, 1396, 1406, 1416, 1426, 1436, 1446, 1456, 1460, 1461, 1462, 1463, 1464, 1465, 1466, 1467, 1468, 1469, 1476, 1486, 1496, 1506, 1516, 1526, 1536, 1546, 1556, 1560, 1561, 1562, 1563, 1564, 1565, 1566, 1567, 1568, 1569, 1576, 1586, 1596, 1600, 1601, 1602, 1603, 1604, 1605, 1606, 1607, 1608, 1609, 1610, 1611, 1612, 1613, 1614, 1615, 1616, 1617, 1618, 1619, 1620, 1621, 1622, 1623, 1624, 1625, 1626, 1627, 1628, 1629, 1630, 1631, 1632, 1633, 1634, 1635, 1636, 1637, 1638, 1639, 1640, 1641, 1642, 1643, 1644, 1645, 1646, 1647, 1648, 1649, 1650, 1651, 1652, 1653, 1654, 1655, 1656, 1657, 1658, 1659, 1660, 1661, 1662, 1663, 1664, 1665, 1666, 1667, 1668, 1669, 1670, 1671, 1672, 1673, 1674, 1675, 1676, 1677, 1678, 1679, 1680, 1681, 1682, 1683, 1684, 1685, 1686, 1687, 1688, 1689, 1690, 1691, 1692, 1693, 1694, 1695, 1696, 1697, 1698, 1699, 1706, 1716, 1726, 1736, 1746, 1756, 1760, 1761, 1762, 1763, 1764, 1765, 1766, 1767, 1768, 1769, 1776, 1786, 1796, 1806, 1816, 1826, 1836, 1846, 1856, 1860, 1861, 1862, 1863, 1864, 1865, 1866, 1867, 1868, 1869, 1876, 1886, 1896, 1906, 1916, 1926, 1936, 1946, 1956, 1960, 1961, 1962, 1963, 1964, 1965, 1966, 1967, 1968, 1969, 1976, 1986, 1996]\n"
          ]
        }
      ]
    },
    {
      "cell_type": "code",
      "source": [
        "# Comprehension Function 4\n",
        "\n",
        "o_letters = []\n",
        "\n",
        "for letter in 'ocean':\n",
        "    o_letters.append(letter)\n",
        "\n",
        "print(o_letters)\n",
        "\n",
        "# Write a function that takes in a string\n",
        "# and returns a list of all the words in that string that are less than 5 letters\n",
        "\n"
      ],
      "metadata": {
        "id": "PN7LVmvzHiqT",
        "colab": {
          "base_uri": "https://localhost:8080/"
        },
        "outputId": "62426836-30b3-4dcf-b1bf-926fab183640"
      },
      "execution_count": 75,
      "outputs": [
        {
          "output_type": "stream",
          "name": "stdout",
          "text": [
            "['o', 'c', 'e', 'a', 'n']\n"
          ]
        }
      ]
    },
    {
      "cell_type": "markdown",
      "metadata": {
        "id": "ZqKBeHFl_Wvg"
      },
      "source": [
        "# Working with sets\n",
        "**Hint** Take a look at the `set` function in Python, the `set` data type, and built-in `set` methods."
      ]
    },
    {
      "cell_type": "code",
      "execution_count": 76,
      "metadata": {
        "id": "DSNyD3wq_Wvg",
        "colab": {
          "base_uri": "https://localhost:8080/"
        },
        "outputId": "e2699d2d-1139-48ca-9eb9-9fb18027987d"
      },
      "outputs": [
        {
          "output_type": "stream",
          "name": "stdout",
          "text": [
            "{'w', 'k', 'i'}\n",
            "{1, 2, 3, 4}\n"
          ]
        }
      ],
      "source": [
        "# Example set function usage\n",
        "print(set(\"kiwi\"))\n",
        "print(set([1, 2, 2, 3, 3, 3, 4, 4, 4, 4]))"
      ]
    },
    {
      "cell_type": "code",
      "execution_count": 77,
      "metadata": {
        "id": "NQnVLnIw_Wvg",
        "colab": {
          "base_uri": "https://localhost:8080/"
        },
        "outputId": "e65d5832-bd0b-4362-e60f-739464ca1f54"
      },
      "outputs": [
        {
          "output_type": "stream",
          "name": "stdout",
          "text": [
            "Exercise 83 is correct.\n"
          ]
        }
      ],
      "source": [
        "# Exercise 83\n",
        "# Write a function definition named get_unique_values that takes in a list and returns a set with only the unique values from that list.\n",
        "\n",
        "def get_unique_values(list):\n",
        "  return set(list)\n",
        "\n",
        "list = [\"ant\", \"ant\", \"mosquito\", \"mosquito\", \"ladybug\"]\n",
        "get_unique_values(list)\n",
        "\n",
        "\n",
        "\n",
        "assert get_unique_values([\"ant\", \"ant\", \"mosquito\", \"mosquito\", \"ladybug\"]) == {\"ant\", \"mosquito\", \"ladybug\"}\n",
        "assert get_unique_values([\"b\", \"a\", \"n\", \"a\", \"n\", \"a\", \"s\"]) == {\"b\", \"a\", \"n\", \"s\"}\n",
        "assert get_unique_values([\"mary\", \"had\", \"a\", \"little\", \"lamb\", \"little\", \"lamb\", \"little\", \"lamb\"]) == {\"mary\", \"had\", \"a\", \"little\", \"lamb\"}\n",
        "print(\"Exercise 83 is correct.\")"
      ]
    },
    {
      "cell_type": "code",
      "execution_count": 78,
      "metadata": {
        "id": "L0YnWAxw_Wvh",
        "colab": {
          "base_uri": "https://localhost:8080/"
        },
        "outputId": "3ffbecc7-57c4-4e57-c420-c3aa658f2dc1"
      },
      "outputs": [
        {
          "output_type": "stream",
          "name": "stdout",
          "text": [
            "Exercise 84 is correct.\n"
          ]
        }
      ],
      "source": [
        "# Exercise 84\n",
        "# Write a function definition named get_unique_values_from_two_lists that takes two lists and returns a single set with only the unique values\n",
        "\n",
        "def get_unique_values_from_two_lists(lst1, lst2):\n",
        "    #print(lst1, lst2)\n",
        "    lstm = []\n",
        "    for itm in lst1:\n",
        "        lstm.append(itm)\n",
        "    for itm in lst2:\n",
        "        lstm.append(itm)\n",
        "    #print(lstm)\n",
        "    #print(set(lstm))\n",
        "    return set(lstm)\n",
        "\n",
        "\n",
        "assert get_unique_values_from_two_lists([5, 1, 2, 3], [3, 4, 5, 5]) == {1, 2, 3, 4, 5}\n",
        "assert get_unique_values_from_two_lists([1, 1], [2, 2, 3]) == {1, 2, 3}\n",
        "assert get_unique_values_from_two_lists([\"tomato\", \"mango\", \"kiwi\"], [\"eggplant\", \"tomato\", \"broccoli\"]) == {\"tomato\", \"mango\", \"kiwi\", \"eggplant\", \"broccoli\"}\n",
        "print(\"Exercise 84 is correct.\")"
      ]
    },
    {
      "cell_type": "code",
      "execution_count": 79,
      "metadata": {
        "id": "6T7Xndxr_Wvh",
        "colab": {
          "base_uri": "https://localhost:8080/"
        },
        "outputId": "e6215af0-b5f6-46b5-df9b-d3f3f74bdcd3"
      },
      "outputs": [
        {
          "output_type": "stream",
          "name": "stdout",
          "text": [
            "Exercise 85 is correct.\n"
          ]
        }
      ],
      "source": [
        "# Exercise 85\n",
        "# Write a function definition named get_values_in_common that takes two lists and returns a single set with the values that each list has in common\n",
        "\n",
        "def get_values_in_common(lst1, lst2):\n",
        "    setm = get_unique_values_from_two_lists(lst1, lst2)\n",
        "    #print(setm)\n",
        "    setj1 = [itm for itm in setm if itm in lst1]\n",
        "    #print(setj1)\n",
        "    setj2 = [itm for itm in setj1 if itm in lst2]\n",
        "    #print(setj2)\n",
        "    setj = set(setj2)\n",
        "    #print(setj)\n",
        "    return setj\n",
        "    \n",
        "assert get_values_in_common([5, 1, 2, 3], [3, 4, 5, 5]) == {3, 5}\n",
        "assert get_values_in_common([1, 2], [2, 2, 3]) == {2}\n",
        "assert get_values_in_common([\"tomato\", \"mango\", \"kiwi\"], [\"eggplant\", \"tomato\", \"broccoli\"]) == {\"tomato\"}\n",
        "print(\"Exercise 85 is correct.\")"
      ]
    },
    {
      "cell_type": "code",
      "execution_count": 80,
      "metadata": {
        "id": "hLDiNZL8_Wvh",
        "colab": {
          "base_uri": "https://localhost:8080/"
        },
        "outputId": "7be34ade-c92b-45a3-86e9-94d6c4f914cc"
      },
      "outputs": [
        {
          "output_type": "stream",
          "name": "stdout",
          "text": [
            "Exercise 86 is correct.\n"
          ]
        }
      ],
      "source": [
        "# Exercise 86\n",
        "# Write a function definition named get_values_not_in_common that takes two lists and returns a single set with the values that each list does not have in common\n",
        "\n",
        "def get_values_not_in_common(lst1,lst2):\n",
        "    #print(lst1, lst2)\n",
        "    set1 = set(lst1)\n",
        "    set2 = set(lst2)\n",
        "    #print(set1, set2)\n",
        "    set1u = [itm for itm in set1 if itm not in set2]\n",
        "    set2u = [itm for itm in set2 if itm not in set1]\n",
        "    #print(set1u, set2u)\n",
        "    setu = get_unique_values_from_two_lists(set1u, set2u)\n",
        "    #print(setu)\n",
        "    return set(setu)\n",
        "    \n",
        "assert get_values_not_in_common([5, 1, 2, 3], [3, 4, 5, 5]) == {1, 2, 4}\n",
        "assert get_values_not_in_common([1, 1], [2, 2, 3]) == {1, 2, 3}\n",
        "assert get_values_not_in_common([\"tomato\", \"mango\", \"kiwi\"], [\"eggplant\", \"tomato\", \"broccoli\"]) == {\"mango\", \"kiwi\", \"eggplant\", \"broccoli\"}\n",
        "print(\"Exercise 86 is correct.\")"
      ]
    },
    {
      "cell_type": "markdown",
      "metadata": {
        "id": "XaAbM849_Wvh"
      },
      "source": [
        "# Working with Dictionaries\n"
      ]
    },
    {
      "cell_type": "code",
      "execution_count": 112,
      "metadata": {
        "id": "TvrnkNUL_Wvh"
      },
      "outputs": [],
      "source": [
        "# Run this cell in order to have these two dictionary variables defined.\n",
        "tukey_paper = {\n",
        "    \"title\": \"The Future of Data Analysis\",\n",
        "    \"author\": \"John W. Tukey\",\n",
        "    \"link\": \"https://projecteuclid.org/euclid.aoms/1177704711\",\n",
        "    \"year_published\": 1962\n",
        "}\n",
        "\n",
        "thomas_paper = {\n",
        "    \"title\": \"A mathematical model of glutathione metabolism\",\n",
        "    \"author\": \"Rachel Thomas\",\n",
        "    \"link\": \"https://www.ncbi.nlm.nih.gov/pubmed/18442411\",\n",
        "    \"year_published\": 2008\n",
        "}"
      ]
    },
    {
      "cell_type": "code",
      "execution_count": 113,
      "metadata": {
        "id": "sDTU3GuQ_Wvh",
        "colab": {
          "base_uri": "https://localhost:8080/"
        },
        "outputId": "204aef3e-4335-4792-9b53-a69ca9cda5f8"
      },
      "outputs": [
        {
          "output_type": "stream",
          "name": "stdout",
          "text": [
            "Exercise 87 is correct.\n"
          ]
        }
      ],
      "source": [
        "# Exercise 87\n",
        "# Write a function named get_paper_title that takes in a dictionary and returns the title property\n",
        "\n",
        "def get_paper_title(dct):\n",
        "    return dct['title']\n",
        "    \n",
        "assert get_paper_title(tukey_paper) == \"The Future of Data Analysis\"\n",
        "assert get_paper_title(thomas_paper) == \"A mathematical model of glutathione metabolism\"\n",
        "print(\"Exercise 87 is correct.\")"
      ]
    },
    {
      "cell_type": "code",
      "execution_count": 114,
      "metadata": {
        "id": "4cCJwlkB_Wvi",
        "colab": {
          "base_uri": "https://localhost:8080/"
        },
        "outputId": "681d0a01-f920-4dba-c08a-4ded2c476778"
      },
      "outputs": [
        {
          "output_type": "stream",
          "name": "stdout",
          "text": [
            "Exercise 88 is correct.\n"
          ]
        }
      ],
      "source": [
        "# Exercise 88\n",
        "# Write a function named get_year_published that takes in a dictionary and returns the value behind the \"year_published\" key.\n",
        "\n",
        "def get_year_published(dct):\n",
        "    return dct['year_published']\n",
        "    \n",
        "assert get_year_published(tukey_paper) == 1962\n",
        "assert get_year_published(thomas_paper) == 2008\n",
        "print(\"Exercise 88 is correct.\")"
      ]
    },
    {
      "cell_type": "code",
      "execution_count": 115,
      "metadata": {
        "id": "HS6XeXem_Wvi"
      },
      "outputs": [],
      "source": [
        "# Run this code to create data for the next two questions\n",
        "book = {\n",
        "    \"title\": \"Genetic Algorithms and Machine Learning for Programmers\",\n",
        "    \"price\": 36.99,\n",
        "    \"author\": \"Frances Buontempo\"\n",
        "}"
      ]
    },
    {
      "cell_type": "code",
      "execution_count": 116,
      "metadata": {
        "id": "SNQ_j5IQ_Wvi",
        "colab": {
          "base_uri": "https://localhost:8080/"
        },
        "outputId": "38ba3f48-f688-4ddb-d585-bcce5b66ad15"
      },
      "outputs": [
        {
          "output_type": "stream",
          "name": "stdout",
          "text": [
            "Exercise 89 is complete.\n"
          ]
        }
      ],
      "source": [
        "# Exercise 89\n",
        "# Write a function named get_price that takes in a dictionary and returns the price\n",
        "\n",
        "def get_price(dct):\n",
        "    return dct['price']\n",
        "\n",
        "assert get_price(book) == 36.99\n",
        "print(\"Exercise 89 is complete.\")"
      ]
    },
    {
      "cell_type": "code",
      "execution_count": 117,
      "metadata": {
        "id": "v7m9g8up_Wvi",
        "colab": {
          "base_uri": "https://localhost:8080/"
        },
        "outputId": "d933470e-87da-4297-d2c4-7a45eaef859e"
      },
      "outputs": [
        {
          "output_type": "stream",
          "name": "stdout",
          "text": [
            "Exercise 90 is complete.\n"
          ]
        }
      ],
      "source": [
        "# Exercise 90\n",
        "# Write a function named get_book_author that takes in a dictionary (the above declared book variable) and returns the author's name\n",
        "\n",
        "def get_book_author(itm):\n",
        "    return itm['author']\n",
        "    \n",
        "assert get_book_author(book) == \"Frances Buontempo\"\n",
        "print(\"Exercise 90 is complete.\")"
      ]
    },
    {
      "cell_type": "markdown",
      "metadata": {
        "id": "mDsvY9tC_Wvi"
      },
      "source": [
        "# Working with Lists of Dictionaries\n",
        "**Hint** If you need an example of lists of dictionaries, see \n",
        "- [Getting Started With a List of Dictionaries](https://colab.research.google.com/github/ryanorsinger/list_of_dictionaries/blob/main/getting_started.ipynb)\n",
        "- [Practice Exercises for List of Dictionaries](https://colab.research.google.com/github/ryanorsinger/list_of_dictionaries/blob/main/exercises.ipynb)\n",
        "- [Companion Video](https://www.youtube.com/watch?v=pPdEahZgv8U)\n"
      ]
    },
    {
      "cell_type": "code",
      "execution_count": 118,
      "metadata": {
        "id": "4ni3zTIO_Wvj"
      },
      "outputs": [],
      "source": [
        "# Run this cell in order to have some setup data for the next exercises\n",
        "books = [\n",
        "    {\n",
        "        \"title\": \"Genetic Algorithms and Machine Learning for Programmers\",\n",
        "        \"price\": 36.99,\n",
        "        \"author\": \"Frances Buontempo\"\n",
        "    },\n",
        "    {\n",
        "        \"title\": \"The Visual Display of Quantitative Information\",\n",
        "        \"price\": 38.00,\n",
        "        \"author\": \"Edward Tufte\"\n",
        "    },\n",
        "    {\n",
        "        \"title\": \"Practical Object-Oriented Design\",\n",
        "        \"author\": \"Sandi Metz\",\n",
        "        \"price\": 30.47\n",
        "    },\n",
        "    {\n",
        "        \"title\": \"Weapons of Math Destruction\",\n",
        "        \"author\": \"Cathy O'Neil\",\n",
        "        \"price\": 17.44\n",
        "    }\n",
        "]"
      ]
    },
    {
      "cell_type": "code",
      "execution_count": 119,
      "metadata": {
        "id": "3fnBL-BD_Wvj",
        "colab": {
          "base_uri": "https://localhost:8080/"
        },
        "outputId": "fe8bb5bc-f7a8-45ca-c512-d589f17152b1"
      },
      "outputs": [
        {
          "output_type": "stream",
          "name": "stdout",
          "text": [
            "Exercise 91 is complete.\n"
          ]
        }
      ],
      "source": [
        "# Exercise 91\n",
        "# Write a function named get_number_of_books that takes in a list of objects and returns the number of dictionaries in that list.\n",
        "\n",
        "def get_number_of_books(lst):\n",
        "    return len(lst)\n",
        "    \n",
        "assert get_number_of_books(books) == 4\n",
        "print(\"Exercise 91 is complete.\")"
      ]
    },
    {
      "cell_type": "code",
      "execution_count": 120,
      "metadata": {
        "id": "QHgdGVHV_Wvj",
        "colab": {
          "base_uri": "https://localhost:8080/"
        },
        "outputId": "db9a1e25-bb1a-4eeb-fe42-ffcb10e2bcee"
      },
      "outputs": [
        {
          "output_type": "stream",
          "name": "stdout",
          "text": [
            "Exercise 92 is complete.\n"
          ]
        }
      ],
      "source": [
        "# Exercise 92\n",
        "# Write a function named total_of_book_prices that takes in a list of dictionaries and returns the sum total of all the book prices added together\n",
        "\n",
        "def total_of_book_prices(lst):\n",
        "    subtot = 0\n",
        "    for itm in lst:\n",
        "        subtot += itm['price']\n",
        "    \n",
        "    return subtot\n",
        "    \n",
        "assert total_of_book_prices(books) == 122.9\n",
        "print(\"Exercise 92 is complete.\")"
      ]
    },
    {
      "cell_type": "code",
      "execution_count": 121,
      "metadata": {
        "id": "klSCtbep_Wvk",
        "colab": {
          "base_uri": "https://localhost:8080/"
        },
        "outputId": "6a9edd83-b344-4be3-a96d-2502c6dde7cf"
      },
      "outputs": [
        {
          "output_type": "stream",
          "name": "stdout",
          "text": [
            "Exercise 93 is complete.\n"
          ]
        }
      ],
      "source": [
        "# Exercise 93\n",
        "# Write a function named get_average_book_price that takes in a list of dictionaries and returns the average book price.\n",
        "\n",
        "def get_average_book_price(lst):\n",
        "    return total_of_book_prices(lst) / get_number_of_books(lst)\n",
        "    \n",
        "assert get_average_book_price(books) == 30.725\n",
        "print(\"Exercise 93 is complete.\")"
      ]
    },
    {
      "cell_type": "code",
      "execution_count": 122,
      "metadata": {
        "id": "85KDw_7H_Wvk",
        "colab": {
          "base_uri": "https://localhost:8080/"
        },
        "outputId": "6e21c1bc-d2bf-44ca-854e-d14620ec0768"
      },
      "outputs": [
        {
          "output_type": "stream",
          "name": "stdout",
          "text": [
            "Exercise 94 is complete\n"
          ]
        }
      ],
      "source": [
        "# Exercise 94\n",
        "# Write a function called highest_price_book that takes in the above defined list of dictionaries \"books\" and returns the dictionary containing the title, price, and author of the book with the highest priced book.\n",
        "# Hint: Much like sometimes start functions with a variable set to zero, you may want to create a dictionary with the price set to zero to compare to each dictionary's price in the list\n",
        "\n",
        "def get_max_price(lst):\n",
        "    max_price = 0\n",
        "    for itm in lst:\n",
        "        if itm['price'] > max_price:\n",
        "            max_price = itm['price']\n",
        "    #print(max_price)\n",
        "    return(max_price)\n",
        "    \n",
        "def highest_price_book(lst):\n",
        "    max_price = get_max_price(lst)\n",
        "    for itm in lst:\n",
        "        if itm['price'] == max_price:\n",
        "            #print(itm)\n",
        "            return itm\n",
        "assert highest_price_book(books) == {\n",
        "    \"title\": \"The Visual Display of Quantitative Information\",\n",
        "    \"price\": 38.00,\n",
        "    \"author\": \"Edward Tufte\"\n",
        "}\n",
        "\n",
        "print(\"Exercise 94 is complete\")"
      ]
    },
    {
      "cell_type": "code",
      "execution_count": 123,
      "metadata": {
        "id": "Hf1OahW0_Wvl",
        "colab": {
          "base_uri": "https://localhost:8080/"
        },
        "outputId": "e806ff4a-98f8-4ab6-a283-a76bcf89e003"
      },
      "outputs": [
        {
          "output_type": "stream",
          "name": "stdout",
          "text": [
            "Exercise 95 is complete.\n"
          ]
        }
      ],
      "source": [
        "# Exercise 95\n",
        "# Write a function called lowest_priced_book that takes in the above defined list of dictionaries \"books\" and returns the dictionary containing the title, price, and author of the book with the lowest priced book.\n",
        "# Hint: Much like sometimes start functions with a variable set to zero or float('inf'), you may want to create a dictionary with the price set to float('inf') to compare to each dictionary in the list\n",
        "\n",
        "def get_min_price(lst):\n",
        "    min_price = get_max_price(lst)\n",
        "    for itm in lst:\n",
        "        if min_price > itm['price']:\n",
        "            min_price = itm['price']\n",
        "    #print(min_price)\n",
        "    return min_price\n",
        "\n",
        "def lowest_price_book(lst):\n",
        "    min_price = get_min_price(lst)\n",
        "    for itm in lst:\n",
        "        if itm['price'] == min_price:\n",
        "            return itm\n",
        "\n",
        "assert lowest_price_book(books) == {\n",
        "    \"title\": \"Weapons of Math Destruction\",\n",
        "    \"author\": \"Cathy O'Neil\",\n",
        "    \"price\": 17.44\n",
        "}\n",
        "print(\"Exercise 95 is complete.\")"
      ]
    },
    {
      "cell_type": "code",
      "execution_count": 124,
      "metadata": {
        "id": "bm2veYIT_Wvl"
      },
      "outputs": [],
      "source": [
        "shopping_cart = {\n",
        "    \"tax\": .08,\n",
        "    \"items\": [\n",
        "        {\n",
        "            \"title\": \"orange juice\",\n",
        "            \"price\": 3.99,\n",
        "            \"quantity\": 1\n",
        "        },\n",
        "        {\n",
        "            \"title\": \"rice\",\n",
        "            \"price\": 1.99,\n",
        "            \"quantity\": 3\n",
        "        },\n",
        "        {\n",
        "            \"title\": \"beans\",\n",
        "            \"price\": 0.99,\n",
        "            \"quantity\": 3\n",
        "        },\n",
        "        {\n",
        "            \"title\": \"chili sauce\",\n",
        "            \"price\": 2.99,\n",
        "            \"quantity\": 1\n",
        "        },\n",
        "        {\n",
        "            \"title\": \"chocolate\",\n",
        "            \"price\": 0.75,\n",
        "            \"quantity\": 9\n",
        "        }\n",
        "    ]\n",
        "}"
      ]
    },
    {
      "cell_type": "code",
      "execution_count": 125,
      "metadata": {
        "id": "n4W0tBBa_Wvl",
        "colab": {
          "base_uri": "https://localhost:8080/"
        },
        "outputId": "b60b9f03-407d-4e65-db0d-22eb5d686f44"
      },
      "outputs": [
        {
          "output_type": "stream",
          "name": "stdout",
          "text": [
            "Exercise 96 is complete\n"
          ]
        }
      ],
      "source": [
        "# Exercise 96\n",
        "# Write a function named get_tax_rate that takes in the above shopping cart as input and returns the tax rate.\n",
        "# Hint: How do you access a key's value on a dictionary? The tax rate is one key of the entire shopping_cart dictionary.\n",
        "\n",
        "def get_tax_rate(lst):\n",
        "    return lst['tax']\n",
        "    \n",
        "assert get_tax_rate(shopping_cart) == .08\n",
        "print(\"Exercise 96 is complete\")"
      ]
    },
    {
      "cell_type": "code",
      "execution_count": 126,
      "metadata": {
        "id": "mAdGJjId_Wvl",
        "colab": {
          "base_uri": "https://localhost:8080/"
        },
        "outputId": "4b88c130-01d6-4688-be6a-48d0971aa88e"
      },
      "outputs": [
        {
          "output_type": "stream",
          "name": "stdout",
          "text": [
            "Exercise 97 is complete.\n"
          ]
        }
      ],
      "source": [
        "# Exercise 97\n",
        "# Write a function named number_of_item_types that takes in the shopping cart as input and returns the number of unique item types in the shopping cart. \n",
        "# We're not yet using the quantity of each item, but rather focusing on determining how many different types of items are in the cart.\n",
        "\n",
        "def number_of_item_types(lst):\n",
        "    #print(len(lst['items']))\n",
        "    return len(lst['items'])\n",
        "assert number_of_item_types(shopping_cart) == 5\n",
        "print(\"Exercise 97 is complete.\")"
      ]
    },
    {
      "cell_type": "code",
      "execution_count": 127,
      "metadata": {
        "id": "h7OTsKND_Wvm",
        "colab": {
          "base_uri": "https://localhost:8080/"
        },
        "outputId": "6b0e6b69-88f3-4477-b41f-a6cab9a2ff73"
      },
      "outputs": [
        {
          "output_type": "stream",
          "name": "stdout",
          "text": [
            "Exercise 99 is complete.\n"
          ]
        }
      ],
      "source": [
        "# Exercise 99\n",
        "# Write a function named get_average_item_price that takes in the shopping cart as an input and returns the average of all the item prices.\n",
        "# Hint - This should determine the total price divided by the number of types of items. This does not account for each item type's quantity.\n",
        "\n",
        "def get_average_item_price(lst):\n",
        "    tot_itm_price = 0\n",
        "    for itm in lst['items']:\n",
        "        tot_itm_price += itm['price']\n",
        "    #print(tot_price)\n",
        "    avg_price = tot_itm_price / number_of_item_types(lst) \n",
        "    #print(avg_price)\n",
        "    return avg_price\n",
        "\n",
        "assert get_average_item_price(shopping_cart) == 2.1420000000000003\n",
        "print(\"Exercise 99 is complete.\")"
      ]
    },
    {
      "cell_type": "code",
      "execution_count": 128,
      "metadata": {
        "id": "5SReB-60_Wvo",
        "colab": {
          "base_uri": "https://localhost:8080/",
          "height": 130
        },
        "outputId": "bd80fc31-3fc5-40b7-a358-1d6ce8bce0b5"
      },
      "outputs": [
        {
          "output_type": "error",
          "ename": "SyntaxError",
          "evalue": "ignored",
          "traceback": [
            "\u001b[0;36m  File \u001b[0;32m\"<ipython-input-128-2618bc0843d1>\"\u001b[0;36m, line \u001b[0;32m10\u001b[0m\n\u001b[0;31m    return tot_spend\u001b[0m\n\u001b[0m                    ^\u001b[0m\n\u001b[0;31mSyntaxError\u001b[0m\u001b[0;31m:\u001b[0m 'return' outside function\n"
          ]
        }
      ],
      "source": [
        "# Exercise 100\n",
        "# Write a function named get_average_spent_per_item that takes in the shopping cart and returns the average of summing each item's quanties times that item's price.\n",
        "# Hint: You may need to set an initial total price and total total quantity to zero, then sum up and divide that total price by the total quantity\n",
        "\n",
        "def get_total_spend(lst):\n",
        "    tot_spend = 0\n",
        "    for itm in lst['items']:\n",
        "        itm_spend = itm['price'] * itm['quantity']\n",
        "\n",
        "return tot_spend\n",
        "\n",
        "def get_average_spent_per_item(lst):\n",
        "    tot_spend = get_total_spend(lst)\n",
        "    itmct = total_number_of_items(lst)\n",
        "    #print(tot_spend, itmct, tot_spend / itmct)\n",
        "    return tot_spend / itmct\n",
        "\n",
        "assert get_average_spent_per_item(shopping_cart) == 1.333529411764706\n",
        "print(\"Exercise 100 is complete.\")"
      ]
    },
    {
      "cell_type": "markdown",
      "source": [
        "# Miscellaneous Functions"
      ],
      "metadata": {
        "id": "okXx-79tIcJF"
      }
    },
    {
      "cell_type": "code",
      "source": [
        "# HW 2 Function 1: Combine Lists\n",
        "# Edit the function combine_lists so that it takes two lists (sequences) as input \n",
        "# and returns a new list containing all elements from both lists; the\n",
        "# elements of the first list, followed by the elements of the second list. \n",
        "# The original lists should not be modified. No \"for loops\"! \n",
        "\n",
        "first = [1,2,3]\n",
        "second = [4, 5, 6]\n",
        "\n",
        "def common_data(list1, list2):\n",
        "     result = False\n",
        "     for x in list1:\n",
        "         for y in list2:\n",
        "             if x == y:\n",
        "                 result = True\n",
        "                 return result\n",
        "print(common_data([1,2,3,4,5], [5,6,7,8,9]))\n",
        "print(common_data([1,2,3,4,5], [6,7,8,9]))\n",
        "\n",
        "\n",
        "# uncomment this to check your work with the example lists\n",
        "# Extra Credit if you make your own example and assert to check it. \n",
        "# There are examples in the PDF that will also be provided\n",
        "# assert combine_lists(first, second) == [1, 2, 3, 4, 5, 6]\n",
        "# print(\"Exercise Function HW2 Function1 is complete.\")"
      ],
      "metadata": {
        "id": "M1dinsDFNB4Z",
        "colab": {
          "base_uri": "https://localhost:8080/"
        },
        "outputId": "93eafbeb-7286-4c2f-e55f-10c0b4bc1153"
      },
      "execution_count": 142,
      "outputs": [
        {
          "output_type": "stream",
          "name": "stdout",
          "text": [
            "True\n",
            "None\n"
          ]
        }
      ]
    },
    {
      "cell_type": "code",
      "source": [
        "# Function 2: last_n_elements\n",
        "# Edit the function last_n_elements so that it uses a slice to return the last n items of a sequence. \n",
        "# The original sequence should not be modified. Do not use len() in your slice. \n",
        "# If you feel you need it, please review the lecture slides about slices.\n",
        "\n",
        "\n",
        "fruits = ['apples', 'grapes', 'peaches', 'apricots', 'bananas']\n",
        "last = last_n_reversed(fruits, 3)\n",
        "last\n",
        "['bananas', 'apricots', 'peaches']\n",
        "last_n_reversed(fruits,1)\n",
        "['bananas']\n",
        "numbers = [41, 25, 54, 15, 76, 68, 32, 38]\n",
        "last_n_reversed(numbers, 4)\n",
        "[38, 32, 68, 76]\n",
        "\n",
        "# uncomment the asserts to check your work with the example list\n",
        "# Use the asserts as examples of how the code should work\n",
        "# Extra Credit if you make your own example and assert to check it. \n",
        "# There are examples in the PDF that will also be provided\n",
        "# assert last_n_elements(fruit, 3) == ['peaches', 'apricots', 'bananas']\n",
        "# assert last_n_elements(fruit, 1) == ['bananas']\n",
        "# print(\"Exercise Function HW2 Function2 is complete.\")"
      ],
      "metadata": {
        "id": "_prNn2ifN5FZ",
        "colab": {
          "base_uri": "https://localhost:8080/",
          "height": 235
        },
        "outputId": "63598a56-d9bd-4eb9-dc94-0ff084a576cd"
      },
      "execution_count": 143,
      "outputs": [
        {
          "output_type": "error",
          "ename": "NameError",
          "evalue": "ignored",
          "traceback": [
            "\u001b[0;31m---------------------------------------------------------------------------\u001b[0m",
            "\u001b[0;31mNameError\u001b[0m                                 Traceback (most recent call last)",
            "\u001b[0;32m<ipython-input-143-b3138f25c2f2>\u001b[0m in \u001b[0;36m<module>\u001b[0;34m()\u001b[0m\n\u001b[1;32m      6\u001b[0m \u001b[0;34m\u001b[0m\u001b[0m\n\u001b[1;32m      7\u001b[0m \u001b[0mfruits\u001b[0m \u001b[0;34m=\u001b[0m \u001b[0;34m[\u001b[0m\u001b[0;34m'apples'\u001b[0m\u001b[0;34m,\u001b[0m \u001b[0;34m'grapes'\u001b[0m\u001b[0;34m,\u001b[0m \u001b[0;34m'peaches'\u001b[0m\u001b[0;34m,\u001b[0m \u001b[0;34m'apricots'\u001b[0m\u001b[0;34m,\u001b[0m \u001b[0;34m'bananas'\u001b[0m\u001b[0;34m]\u001b[0m\u001b[0;34m\u001b[0m\u001b[0;34m\u001b[0m\u001b[0m\n\u001b[0;32m----> 8\u001b[0;31m \u001b[0mlast\u001b[0m \u001b[0;34m=\u001b[0m \u001b[0mlast_n_reversed\u001b[0m\u001b[0;34m(\u001b[0m\u001b[0mfruits\u001b[0m\u001b[0;34m,\u001b[0m \u001b[0;36m3\u001b[0m\u001b[0;34m)\u001b[0m\u001b[0;34m\u001b[0m\u001b[0;34m\u001b[0m\u001b[0m\n\u001b[0m\u001b[1;32m      9\u001b[0m \u001b[0mlast\u001b[0m\u001b[0;34m\u001b[0m\u001b[0;34m\u001b[0m\u001b[0m\n\u001b[1;32m     10\u001b[0m \u001b[0;34m[\u001b[0m\u001b[0;34m'bananas'\u001b[0m\u001b[0;34m,\u001b[0m \u001b[0;34m'apricots'\u001b[0m\u001b[0;34m,\u001b[0m \u001b[0;34m'peaches'\u001b[0m\u001b[0;34m]\u001b[0m\u001b[0;34m\u001b[0m\u001b[0;34m\u001b[0m\u001b[0m\n",
            "\u001b[0;31mNameError\u001b[0m: name 'last_n_reversed' is not defined"
          ]
        }
      ]
    },
    {
      "cell_type": "code",
      "source": [
        "# Function 3: power_list\n",
        "# Make the function power_list so that it accepts a list of numbers and returns a new list \n",
        "# that contains each number raised to the i-th power \n",
        "# where i is the index of that number in the given list.\n",
        "# Use a list comprehension.\n",
        "\n",
        "\n",
        "list1 = [2, 2, 2, 2, 2, 2]\n",
        "list2 = [9, 6, 5, 4]\n",
        "def power_list([2,2,2,2,2,2])\n",
        "[1,2,4,8,16,32]\n",
        "new_list = power_list([9,6,5,4])\n",
        "new_list\n",
        "[1,6,25,64]\n",
        "numbers = [33,700,82.25,16,2,3,9.5]\n",
        "power_list(numbers)[1,700,6765.0625,4096,16,243,735091.890625]\n",
        "power_list([2.5,2.5,2.5,2.5,2.5,2.5])\n",
        "[1.0,2.5,6.25,15.625,39.0625,97.65625]\n",
        "\n",
        "\n",
        "# uncomment the asserts to check your work with the example list\n",
        "# Use the asserts as examples of how the code should work\n",
        "# Extra Credit if you make your own example and assert to check it. \n",
        "# There are examples in the PDF that will also be provided\n",
        "# assert power_list(list1) == [1, 2, 4, 8, 16, 32]\n",
        "# assert power_list(list2) == [1, 6, 25, 64]\n",
        "# print(\"Exercise Function HW2 Function3 is complete.\")"
      ],
      "metadata": {
        "id": "aADfuEcBO38w"
      },
      "execution_count": null,
      "outputs": []
    },
    {
      "cell_type": "code",
      "source": [
        "# Function 4: rotate_list\n",
        "# Make the function rotate_list so that it removes the first item from a given list, \n",
        "# adds it to the end of the list, and returns the item that was moved.\n",
        "# No \"for loops\"!\n",
        "# Hint: Look through the documentation on sequence types (ie, lists) for methods that would be useful. Do not use del . \n",
        "\n",
        "\n",
        "numbers = [1, 2, 3, 4]\n",
        "\n",
        "numbers = [1,2,3,4]\n",
        "item = rotate_list(numbers)\n",
        "item1\n",
        "numbers[2,3,4,1]\n",
        "rotate_list(numbers)2\n",
        "numbers[3,4,1,2]\n",
        "fruits = ['apples','grapes','peaches','apricots','bananas']\n",
        "rotate_list(fruits)'apples'\n",
        "fruits['grapes','peaches','apricots','bananas','apples']\n",
        "\n",
        "# uncomment the asserts to check your work with the example list\n",
        "# Use the asserts as examples of how the code should work\n",
        "# Extra Credit if you make your own example and assert to check it. \n",
        "# There are examples in the PDF that will also be provided\n",
        "# assert rotate_list(numbers) == 1\n",
        "# assert numbers == [2, 3, 4, 1]\n",
        "# print(\"Exercise Function HW2 Function4 is complete.\")"
      ],
      "metadata": {
        "id": "ruZRCoFiP9P4"
      },
      "execution_count": null,
      "outputs": []
    },
    {
      "cell_type": "code",
      "source": [
        "# Function 5: get_word_codes \n",
        "# Edit the function get_word_codes so that it accepts a list of strings and returns a dictionary \n",
        "# containing the strings as keys and a list of corresponding character codes as values. \n",
        "# It should work on any strings. Use a dictionary comprehension.\n",
        "# Hint: Look through Python's built-in functions for a useful function to use for this.\n",
        "\n",
        " words = ['yes', 'no']\n",
        " codes = get_word_codes(words)\n",
        " codes\n",
        " {'yes': [121,101,115],'no': [110,111]}\n",
        " words = ['hello','python','bye']\n",
        " codes = get_word_codes(words)\n",
        " codes\n",
        "{'hello': [104,101,108,108,111],'python': [112,121,116,104,111,110],'bye': [98,121,101]}\n",
        "codes = get_word_codes(['Python is fun!'])\n",
        "codes\n",
        "{'Python is fun!': [80,121,116,104,111,110,32,105,115,32,102,117,110,33]}\n",
        "\n",
        "# uncomment the asserts to check your work with the example list\n",
        "# Use the asserts as examples of how the code should work\n",
        "# Extra Credit if you make your own example and assert to check it. \n",
        "# There are examples in the PDF that will also be provided\n",
        "# assert get_word_codes(words) == {'yes': [121, 101, 115], 'no':[110, 111]}\n",
        "# print(\"Exercise Function HW2 Function5 is complete.\")"
      ],
      "metadata": {
        "id": "M9KPyU3tSFSl"
      },
      "execution_count": null,
      "outputs": []
    },
    {
      "cell_type": "code",
      "source": [
        "# Function 6: words_containing\n",
        "# Given a sentence and a lowercase letter, \n",
        "# return a list of words from the sentence that contain the letter, \n",
        "# ignoring the case of the words in the sentence. \n",
        "# Look up methods on the str object to get a list of words from the sentence. \n",
        "# Then use a list comprehension to get the final list to return.\n",
        "\n",
        "\n",
        "sentence1 = \"Anyone who has never made a mistake has never tried anything new\"\n",
        "\n",
        "list_3 = [\"Remember your college application process? The tedious Common App applications, hours upon hours of research, ACT/SAT, FAFSA, visiting schools, etc. Do you remember who helped you through this process? Your family and guidance counselors perhaps, maybe your peers or you may have received little to no help\"]\n",
        "output = []\n",
        "for i in list_3:\n",
        "    for j in i.split():\n",
        "        if j[0].isupper():\n",
        "            output.append(j)\n",
        "print(output)\n",
        "\n",
        "# uncomment the asserts to check your work with the example list\n",
        "# Use the asserts as examples of how the code should work\n",
        "# Extra Credit if you make your own example and assert to check it. \n",
        "# There are examples in the PDF that will also be provided\n",
        "# assert words_containing(sentence1, 'a') == ['Anyone', 'has', 'a', 'mistake', 'has', 'anything']\n",
        "# print(\"Exercise Function HW2 Function6 is complete.\")"
      ],
      "metadata": {
        "id": "CFTAbu72Tt9D"
      },
      "execution_count": null,
      "outputs": []
    },
    {
      "cell_type": "markdown",
      "source": [
        "\n",
        "\n",
        "```\n",
        "1 \n",
        "2 2 \n",
        "3 3 3 \n",
        "4 4 4 4 \n",
        "\n",
        "```\n",
        "\n"
      ],
      "metadata": {
        "id": "Bbtmn0AqDjVN"
      }
    },
    {
      "cell_type": "code",
      "source": [
        "# Function 7: Write a function to print the above output starting with the number taken as an arguemnt in the example it is 1\n",
        "\n",
        "def f(x):\n",
        "    return 3 * x ** 2 - 2 * x + 5\n"
      ],
      "metadata": {
        "id": "Hk-aPIpMDIdI"
      },
      "execution_count": null,
      "outputs": []
    },
    {
      "cell_type": "markdown",
      "source": [
        "\n",
        "\n",
        "```\n",
        "Lion\n",
        "Deer\n",
        "Sheep\n",
        "Cub\n",
        "Fawn\n",
        "Lamb\n",
        "\n",
        "```\n",
        "\n"
      ],
      "metadata": {
        "id": "WaXyaVu8Euot"
      }
    },
    {
      "cell_type": "code",
      "source": [
        "# Function 8: nested_loops_print_items\n",
        "\n",
        "# Write a function that takes in a list of lists\n",
        "# and prints every item in every list once\n",
        "# it should look like the above output \n",
        "\n",
        "tableData = [['apples', 'oranges', 'cherries', 'banana'],\n",
        "             ['Alice', 'Bob', 'Carol', 'David'],\n",
        "             ['dogs', 'cats', 'moose', 'goose']]\n",
        "t = 0\n",
        "for i in tableData:\n",
        "    if t <= (len(i)): \n",
        "        print(tableData[0][t].rjust(8), tableData[1][t].rjust(5), tableData[2][t].rjust(5))\n",
        "        t += 1\n",
        "\n",
        "\n",
        "\n"
      ],
      "metadata": {
        "id": "ITwDGOnYELWN"
      },
      "execution_count": null,
      "outputs": []
    },
    {
      "cell_type": "markdown",
      "source": [
        "# Classes"
      ],
      "metadata": {
        "id": "w5y0HId9gsa6"
      }
    },
    {
      "cell_type": "code",
      "source": [
        "# Class Function 1: Create a Point Class \n",
        "# Like a Point on a Line\n",
        "# Instructions Below\n",
        "\n",
        "class Point:\n",
        "    \"\"\" Point class represents and manipulates x,y coords. \"\"\"\n",
        "\n",
        "    def __init__(self):\n",
        "        \"\"\" Create a new point at the origin \"\"\"\n",
        "        self.x = 0\n",
        "        self.y = 0\n",
        "\n",
        "\n",
        "# Name your Class Point\n",
        "# Initialize your class with two arguments x and y\n",
        "## Use the __init__ dunder method to initialize your class\n",
        "# Import any necessary libraries outside of your class\n",
        "# set a default point \n",
        "# make this default pint the origin (0,0)\n",
        "# Add an attribute call get_magnitude that returns the magnitude of the line between the origin (0,0) and your point(x,y)\n",
        "\n",
        "p = Point()         # Instantiate an object of type Point\n",
        "q = Point()         # Make a second point\n",
        "\n",
        "print(p.x, p.y, q.x, q.y)  # Each point object has its own x and y\n"
      ],
      "metadata": {
        "id": "DrrQg-9Ofik9",
        "colab": {
          "base_uri": "https://localhost:8080/"
        },
        "outputId": "5f1e5718-69c1-4f04-ccde-c10859138546"
      },
      "execution_count": 148,
      "outputs": [
        {
          "output_type": "stream",
          "name": "stdout",
          "text": [
            "0 0 0 0\n"
          ]
        }
      ]
    },
    {
      "cell_type": "code",
      "source": [
        "# Class Function 2: Making a Bank Account Class \n",
        "\n",
        "# Name your class BankAccount\n",
        "# Initialize your class with zero arguments\n",
        "# In your initialization include a a self attribute for balance that shows it is equal to some amount (usually 0 but why be broke)\n",
        "# Include a welcoming print statement\n",
        "# In your initialization include a a self attribute to print the balance\n",
        "\n",
        "\n",
        "# add an attribute called deposit (should be a function) that takes in an argument called amount\n",
        "## inside deposit should be an attribute that adds the amount from the deposit argument and changes your balance\n",
        "## inside include a print statement with the amount deposited\n",
        "## inside deposit should be a self attribute to print the new  balance\n",
        "\n",
        "# Function to deposite amount\n",
        "class Bankaccount:\n",
        "    def __init__(self)\n",
        "\n",
        "\n",
        "# add an attribute called withdraw (should be a function) that takes in an argument called amount\n",
        "## inside withdraw should be an attribute that adds the amount from the deposit argument and changes your balance\n",
        "## inside include a print statement with the amount withdrawn\n",
        "## inside withdraw should be a self attribute to print the new  balance\n",
        "## add functionality to test if the amount you are trying to withdraw is higher than the current balance\n",
        "\n",
        "def withdraw(self):\n",
        "        amount = float(input(\"Enter amount to be withdrawn: \"))\n",
        "        if self.balance >= amount:\n",
        "            self.balance -= amount\n",
        "            print(\"\\n You Withdrew:\", amount)\n",
        "        else:\n",
        "            print(\"\\n Insufficient balance  \")\n",
        "\n",
        "\n",
        "# add an attribute called print_balance (should be a function) that takes in no arguments\n",
        "## inside print_balance should be an attribute that prints the balance\n",
        "\n",
        "def display(self):\n",
        "        print(\"\\n Net Available Balance =\", self.balance)\n",
        "\n",
        "# Look up the __str__ method\n",
        "## add an attribute called __str__ that returns a very clear print statement when you just call your class instance\n",
        "\n",
        "class Bank_Account:\n",
        "    def __init__(self):\n",
        "        self.balance=0\n",
        "        print(\"Hello!!! Welcome to the Deposit & Withdrawal Machine\")\n",
        " \n",
        "    def deposit(self):\n",
        "        amount=float(input(\"Enter amount to be Deposited: \"))\n",
        "        self.balance += amount\n",
        "        print(\"\\n Amount Deposited:\",amount)\n",
        " \n",
        "    def withdraw(self):\n",
        "        amount = float(input(\"Enter amount to be Withdrawn: \"))\n",
        "        if self.balance>=amount:\n",
        "            self.balance-=amount\n",
        "            print(\"\\n You Withdrew:\", amount)\n",
        "        else:\n",
        "            print(\"\\n Insufficient balance  \")\n",
        " \n",
        "    def display(self):\n",
        "        print(\"\\n Net Available Balance=\",self.balance)\n",
        "\n",
        "# Look up the __repr__ method\n",
        "## add an attribute called __repr__ that returns a very clear print statement when you just call your class instance\n",
        "s = Bank_Account()\n",
        "## which one of these is more necessary for Colab vs Replit\n",
        "\n",
        "s.deposit()\n",
        "s.withdraw()\n",
        "s.display()\n"
      ],
      "metadata": {
        "id": "jNyKXjIBvSJp",
        "colab": {
          "base_uri": "https://localhost:8080/",
          "height": 130
        },
        "outputId": "415af92d-c0e5-4399-8670-8eec7875420c"
      },
      "execution_count": 151,
      "outputs": [
        {
          "output_type": "error",
          "ename": "SyntaxError",
          "evalue": "ignored",
          "traceback": [
            "\u001b[0;36m  File \u001b[0;32m\"<ipython-input-151-74d727823110>\"\u001b[0;36m, line \u001b[0;32m17\u001b[0m\n\u001b[0;31m    def __init__(self)\u001b[0m\n\u001b[0m                      ^\u001b[0m\n\u001b[0;31mSyntaxError\u001b[0m\u001b[0;31m:\u001b[0m invalid syntax\n"
          ]
        }
      ]
    },
    {
      "cell_type": "code",
      "source": [
        "# Class Function 3: Making a Circle Class\n",
        "\n",
        "\n",
        "# Name your class Circle\n",
        "# Initialize your class with an argument called radius with a default value\n",
        "# Import any libraries you need outside your class\n",
        "# In your initialization include a self attribute for radius that is equal to your argument\n",
        "# In your initialization include a self attribute called area that is equal to the area of a circle\n",
        "\n",
        "# You should practice reassigning your radius values\n",
        "\n",
        "# Investigate the property decorator\n",
        "# Convert you area initialization property to an attribut and assign it a property decorator\n",
        "# Explain how this helps you\n",
        "# Add another attribute called diameter (with no arguments)and assign it a property decorator\n",
        "\n",
        "# You should try resetting your diameter\n",
        "\n",
        "# Edit your attribute diameter to include an argument\n",
        "# Add a property decorator called diameter.setter   \n",
        "  \n",
        "# Try resetting your diameter again\n",
        "\n",
        "\n",
        "class Circle():\n",
        "    def __init__(self, r):\n",
        "        self.radius = r\n",
        "\n",
        "    def area(self):\n",
        "        return self.radius**2*3.14\n",
        "    \n",
        "    def perimeter(self):\n",
        "        return 2*self.radius*3.14\n",
        "\n",
        "NewCircle = Circle(8)\n",
        "print(NewCircle.area())\n",
        "print(NewCircle.perimeter())\n",
        "\n",
        "\n"
      ],
      "metadata": {
        "id": "8oXON7iZvGV9",
        "colab": {
          "base_uri": "https://localhost:8080/"
        },
        "outputId": "9713dab3-5f35-4f83-c1af-c0dc80c293ea"
      },
      "execution_count": 154,
      "outputs": [
        {
          "output_type": "stream",
          "name": "stdout",
          "text": [
            "200.96\n",
            "50.24\n"
          ]
        }
      ]
    },
    {
      "cell_type": "markdown",
      "source": [
        "# Inheritances\n",
        "\n",
        "Working with Super Classes and multiple inheritances\n",
        "\n",
        "Note: initialization steps are also sometimes called instructors"
      ],
      "metadata": {
        "id": "0w4rV5wH_jwv"
      }
    },
    {
      "cell_type": "code",
      "source": [
        "# Class Function 4: Inheritances\n",
        "\n",
        "\n",
        "# Name your class Base\n",
        "# Initialize your class with an argument called name\n",
        "\n",
        "# In your initialization include a self attribute name that is equal to your argument\n",
        "# Add an attribute called getName that returns the instance of name\n",
        "\n",
        "# Make an inherited class or sub class of Base called Child\n",
        "# Create a contrustor for you class/Initialize this class with two arguments: name and age\n",
        "# In your initialization include a self attribute age that is equal to your argument for age\n",
        "# Call your Parent class base then using the .__init__ function initalize the constructor from your parent class for name\n",
        "# Add an attribute called getAge that returns the instance of age\n",
        "\n",
        "# Make an inherited class or sub class of Child called Granchild\n",
        "# Create a contrustor for you class/Initialize this class with three arguments: name and age and address\n",
        "# In your initialization include a self attribute address that is equal to your argument for address\n",
        "# Call your Parent class Child then using the .__init__ function initalize the constructor from your parent class for name and age\n",
        "# Add an attribute called getAddress that returns the instance of address\n",
        "\n",
        "class Salary:\n",
        "    def __init__(self, basic_salary_table):\n",
        "        self.basic_salary_table = basic_salary_table\n",
        "        pass\n",
        "\n",
        "    def basic_salary(self):\n",
        "        if self.grade == 0:\n",
        "            if self.level > 50:\n",
        "                return int(self.basic_salary_table[3][self.basic_salary_table[3]['level']==50]['basic_salary'])\n",
        "            return int(self.basic_salary_table[3][self.basic_salary_table[3]['level']==self.level]['basic_salary'])\n",
        "        else:\n",
        "            self.grade = str(self.grade)+'grade'\n",
        "            return int(self.basic_salary_table[0][self.basic_salary_table[0]['level']==self.level][self.grade])\n",
        "\n",
        "class Person(Salary):\n",
        "    def __init__(self, name, id, job, level, grade=0):\n",
        "        self.name = name\n",
        "        self.id = id\n",
        "        self.job = job\n",
        "        self.level = level\n",
        "        self.grade = grade\n",
        "\n",
        "\n",
        "\n",
        "\n"
      ],
      "metadata": {
        "id": "FLpcwwqW_yq5"
      },
      "execution_count": 86,
      "outputs": []
    },
    {
      "cell_type": "markdown",
      "source": [
        "# Collections\n"
      ],
      "metadata": {
        "id": "ielHy1nF3ki2"
      }
    },
    {
      "cell_type": "code",
      "source": [
        "# Collections Function 1\n",
        "# Write a function to find the 10 most common words in a selected text\n",
        "# Import necessary libraries or collections\n",
        "\n",
        "\n",
        "text = \"\"\"The Python Software Foundation (PSF) is a 501(c)(3) non-profit \n",
        "corporation that holds the intellectual property rights behind\n",
        "the Python programming language. We manage the open source licensing \n",
        "for Python version 2.1 and later and own and protect the trademarks \n",
        "associated with Python. We also run the North American PyCon conference \n",
        "annually, support other Python conferences around the world, and \n",
        "fund Python related development with our grants program and by funding \n",
        "special projects.\"\"\"\n",
        "\n",
        "\n",
        "\n",
        "# assert ten_most_common_words(text) == [('Python', 6), ('the', 6), ('and', 5), ('We', 2), ('with', 2), ('The', 1), ('Software', 1), ('Foundation', 1), ('PSF', 1), ('is', 1)]\n",
        "from collections import namedtuple\n",
        "Point = namedtuple('Point','x,y')\n",
        "pt1 = Point(1,2)\n",
        "pt2 = Point(3,4)\n",
        "dot_product = ( pt1.x * pt2.x ) +( pt1.y * pt2.y )\n",
        "print dot_product"
      ],
      "metadata": {
        "id": "C-FZkGa93X16"
      },
      "execution_count": null,
      "outputs": []
    },
    {
      "cell_type": "markdown",
      "source": [
        ""
      ],
      "metadata": {
        "id": "4zjvEfQ5f_MU"
      }
    },
    {
      "cell_type": "code",
      "source": [
        "# Collections Code 2\n",
        "# This is going to be a little different\n",
        "# I am not asking you to write a function, just code, similar to chatbot\n",
        "\n",
        "# Import necessary libraries or collections\n",
        "# Define a Movie tuple using namedtuple that accepts \n",
        "# a title, a director, a release year, and a budget. \n",
        "# Prompt the user(yourself in this case) to provide information for each of these fields \n",
        "# and create an instance of the Movie tuple you defined.\n",
        "from collections import namedtuple\n",
        "Car = namedtuple('Car','Price Mileage Colour Class')\n",
        "xyz = Car(Price = 100000, Mileage = 30, Colour = 'Cyan', Class = 'Y')\n",
        "print xyz\n",
        "Car(Price=100000, Mileage=30, Colour='Cyan', Class='Y')\n",
        "print xyz.Class\n",
        "\n",
        "\n"
      ],
      "metadata": {
        "id": "TiKKY8a04Pbh",
        "colab": {
          "base_uri": "https://localhost:8080/",
          "height": 130
        },
        "outputId": "42f699e9-12cd-4cf1-af31-748ffa9b816f"
      },
      "execution_count": 156,
      "outputs": [
        {
          "output_type": "error",
          "ename": "SyntaxError",
          "evalue": "ignored",
          "traceback": [
            "\u001b[0;36m  File \u001b[0;32m\"<ipython-input-156-558241fd42d8>\"\u001b[0;36m, line \u001b[0;32m13\u001b[0m\n\u001b[0;31m    print xyz\u001b[0m\n\u001b[0m            ^\u001b[0m\n\u001b[0;31mSyntaxError\u001b[0m\u001b[0;31m:\u001b[0m Missing parentheses in call to 'print'. Did you mean print(xyz)?\n"
          ]
        }
      ]
    }
  ]
}