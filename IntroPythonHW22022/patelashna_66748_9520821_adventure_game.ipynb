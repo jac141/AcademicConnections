{
  "nbformat": 4,
  "nbformat_minor": 0,
  "metadata": {
    "colab": {
      "name": "adventure_game.ipynb",
      "provenance": []
    },
    "kernelspec": {
      "name": "python3",
      "display_name": "Python 3"
    },
    "language_info": {
      "name": "python"
    }
  },
  "cells": [
    {
      "cell_type": "code",
      "execution_count": 10,
      "metadata": {
        "colab": {
          "base_uri": "https://localhost:8080/"
        },
        "id": "nEN3ryEmG4R6",
        "outputId": "2a98c833-2580-4456-cffe-84470f68bdd7"
      },
      "outputs": [
        {
          "output_type": "stream",
          "name": "stdout",
          "text": [
            "You went camping in the forest and have suddenly found yourself lost\n",
            "There is a cave up ahead\n",
            "You walk into the cave and start turning different directions\n",
            "Oh no... you are lost!\n",
            "What item do you think will be the most helpful? Cell phone (c), axe (a), rope (r)c\n",
            "You try to call your mom and dad, but there is no service\n",
            "You try to walk around more to find service but there isn't any\n",
            "There is no hope you are getting out with a cell phone, you have lost the game\n",
            "You have now found yourself in a 4 way intersection\n",
            "Which way would you like to turn? Forward (f), left(l), or right (r)?f\n",
            "You start to see the light at the end of the cave. You have survived.\n",
            "Congradulations on completing the game!\n",
            "What is the passcode? Hint: The answer is the planet that is closest to the Sun.mercury\n",
            "You are correct! You have escaped the cave! Congradulations!\n"
          ]
        }
      ],
      "source": [
        "print(\"You went camping in the forest and have suddenly found yourself lost\")\n",
        "print(\"There is a cave up ahead\")\n",
        "print(\"You walk into the cave and start turning different directions\")\n",
        "print(\"Oh no... you are lost!\")\n",
        "item = input(\"What item do you think will be the most helpful? Cell phone (c), axe (a), rope (r)\")\n",
        "if item == \"c\":\n",
        "  print(\"You try to call your mom and dad, but there is no service\")\n",
        "  print(\"You try to walk around more to find service but there isn't any\")\n",
        "  print(\"There is no hope you are getting out with a cell phone, you have lost the game\")\n",
        "if item == \"a\":\n",
        "  print(\"You continue walking around and eventually come up to a large wall of rocks\")\n",
        "  print(\"You use the axe to break through the wall of rocks\")\n",
        "if item == \"r\":\n",
        "  print(\"You find a hole in the ground\")\n",
        "  print(\"You use your rope to lower you down\")\n",
        "print(\"You have now found yourself in a 4 way intersection\")\n",
        "direction = input(\"Which way would you like to turn? Forward (f), left(l), or right (r)?\")\n",
        "if direction == \"f\":\n",
        "  print(\"You start to see the light at the end of the cave. You have survived.\")\n",
        "  print(\"Congradulations on completing the game!\")\n",
        "else:\n",
        "  print(\"You turn the corner and continue walking\")\n",
        "  print(\"There is no light, and you get lost again.\")\n",
        "  print(\"You come across a keyboard asking for a password\")\n",
        "password = input(\"What is the passcode? Hint: The answer is the planet that is closest to the Sun.\")\n",
        "if password == \"mercury\":\n",
        "  print(\"You are correct! You have escaped the cave! Congradulations!\")\n",
        "else:\n",
        "  print(\"Incorrect password, you have lost the game. Try again!\")\n"
      ]
    },
    {
      "cell_type": "code",
      "source": [
        "dogorcat = input(\"What kind of pet do you have? Dog (d) or cat (c)?\")\n",
        "if dogorcat == \"d\":\n",
        "  print(\"I love dogs!\")\n",
        "  age = input(\"How old is your dog?\")\n",
        "  if int(age) == 1:\n",
        "    print(\"Your dog is 12 years old!\")\n",
        "  if int(age) == 2:\n",
        "    print(\"Your dog is 24 years old!\")\n",
        "# if int(age) > 2:\n",
        "#   print(\"Your dog is \" int(age)* 4 + 16 + \" years old!\")\n",
        "  \n",
        "if dogorcat == \"c\":\n",
        "  print(\"I love cats!\")\n",
        "  age = input(\"How old is your cat?\")\n",
        "  if int(age) == 1:\n",
        "    print(\"Your cat is 15 years old!\")\n",
        "  if int(age) == 2:\n",
        "    print(\"Your cat is 24 years old!\")\n",
        "# if int(age) > 0:\n",
        "# print(\"Your cat is int(age)*4+16 years old!\")"
      ],
      "metadata": {
        "colab": {
          "base_uri": "https://localhost:8080/"
        },
        "id": "M6bFPh7SHbYe",
        "outputId": "a7f8ee43-c297-4bcb-d48c-bd14882e3ab3"
      },
      "execution_count": 34,
      "outputs": [
        {
          "output_type": "stream",
          "name": "stdout",
          "text": [
            "What kind of pet do you have? Dog (d) or cat (c)?c\n",
            "I love cats!\n"
          ]
        }
      ]
    }
  ]
}