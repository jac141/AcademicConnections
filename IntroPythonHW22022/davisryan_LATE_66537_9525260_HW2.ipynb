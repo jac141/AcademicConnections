{
  "nbformat": 4,
  "nbformat_minor": 0,
  "metadata": {
    "colab": {
      "name": "HW2.ipynb",
      "provenance": [],
      "collapsed_sections": []
    },
    "kernelspec": {
      "name": "python3",
      "display_name": "Python 3"
    },
    "language_info": {
      "name": "python"
    }
  },
  "cells": [
    {
      "cell_type": "code",
      "execution_count": null,
      "metadata": {
        "id": "_iK3OERvi7C7",
        "colab": {
          "base_uri": "https://localhost:8080/"
        },
        "outputId": "824b0fbc-c5f8-40c6-b3f9-8862638ec7cc"
      },
      "outputs": [
        {
          "output_type": "stream",
          "name": "stdout",
          "text": [
            "enter a string\n",
            "enterword\n",
            "['w', 'r', 'd']\n"
          ]
        }
      ],
      "source": [
        "# Comprehension Function 1\n",
        "print(\"enter a string\")\n",
        "# string = list(input().split()\n",
        "string = input(\"enter\")\n",
        "string2 = [x for x in string.lower() if x not in \"aeiou\"]\n",
        "\n",
        "print(string2)\n",
        "\n",
        "\n",
        "\n",
        "# I am not asking you to write a function, just code, similar to chatbot\n",
        "# stringg = input(\"enter\")\n",
        "# def novwels(stringg):\n",
        "#     vowels = 'a', 'e', 'i', 'o', 'u', 'A', 'E', 'I', 'O', 'U'\n",
        "#     for x in vowels:\n",
        "#       stringg = stringg.replace(a, '')\n",
        "#     return stringg\n",
        "# novwels(stringg)\n",
        "# Using a list comprehension remove all the vowels in a string \n"
      ]
    },
    {
      "cell_type": "code",
      "source": [
        "# Comprehension Function 2\n",
        "# I am not asking you to write a function, just code, similar to chatbot\n",
        "words = input(\"enter\")\n",
        "\n",
        "counter = {}\n",
        "for worddd in words:\n",
        "  n = len(worddd)\n",
        "  if n in counter:\n",
        "    counter[n] += 1\n",
        "  else:\n",
        "    counter[n] = 1\n",
        "print(counter)\n",
        "\n",
        "\n",
        "\n",
        "# words = input(\"enter\")\n",
        "# def wordlength(words):\n",
        "#     counter = {}\n",
        "#     for worddd in words:\n",
        "#         n = len(worddd)\n",
        "#         if n in counter:\n",
        "#             counter[n] += 1\n",
        "#         else:\n",
        "#             counter[n] = 1\n",
        "#     return counter\n",
        "\n",
        "# wordlength(words)\n",
        "\n",
        "# Using a dictionary comprehension to count the length of each word in a sentence"
      ],
      "metadata": {
        "id": "rQJMW7kvXc8U",
        "colab": {
          "base_uri": "https://localhost:8080/"
        },
        "outputId": "0158fecb-ba3f-466a-aa21-6ac5e34064d9"
      },
      "execution_count": null,
      "outputs": [
        {
          "output_type": "stream",
          "name": "stdout",
          "text": [
            "enterword\n",
            "{1: 4}\n"
          ]
        }
      ]
    },
    {
      "cell_type": "code",
      "source": [
        "# Comprehension Function 3\n",
        "# I am not asking you to write a function, just code, similar to chatbot\n",
        "nummm = [max([divider for divider in range(1,10) if number % divider == 0]) for number in range(1,1001) ]\n",
        "# Use a nested list comprehension to find all of the numbers \n",
        "# from 1–2000 that are divisible by any single digit besides 1 ( so just 2–9)"
      ],
      "metadata": {
        "id": "cao3hoVDXdDY"
      },
      "execution_count": null,
      "outputs": []
    },
    {
      "cell_type": "code",
      "source": [
        "# Comprehension Function 3\n",
        "x = list(range(1, 2001)) \n",
        "n = str(input(\"Enter number: \"))\n",
        "output = [z for z in x if n in str(z)]\n",
        "print (output)\n",
        "\n",
        "# Find all of the numbers from 1–2000 that have a 6 in them"
      ],
      "metadata": {
        "id": "Ffdv8BZtXcYt",
        "colab": {
          "base_uri": "https://localhost:8080/"
        },
        "outputId": "621b81e0-08ff-4043-89c5-a5ec27154566"
      },
      "execution_count": null,
      "outputs": [
        {
          "output_type": "stream",
          "name": "stdout",
          "text": [
            "Enter a number: 4\n",
            "[4, 14, 24, 34, 40, 41, 42, 43, 44, 45, 46, 47, 48, 49, 54, 64, 74, 84, 94, 104, 114, 124, 134, 140, 141, 142, 143, 144, 145, 146, 147, 148, 149, 154, 164, 174, 184, 194, 204, 214, 224, 234, 240, 241, 242, 243, 244, 245, 246, 247, 248, 249, 254, 264, 274, 284, 294, 304, 314, 324, 334, 340, 341, 342, 343, 344, 345, 346, 347, 348, 349, 354, 364, 374, 384, 394, 400, 401, 402, 403, 404, 405, 406, 407, 408, 409, 410, 411, 412, 413, 414, 415, 416, 417, 418, 419, 420, 421, 422, 423, 424, 425, 426, 427, 428, 429, 430, 431, 432, 433, 434, 435, 436, 437, 438, 439, 440, 441, 442, 443, 444, 445, 446, 447, 448, 449, 450, 451, 452, 453, 454, 455, 456, 457, 458, 459, 460, 461, 462, 463, 464, 465, 466, 467, 468, 469, 470, 471, 472, 473, 474, 475, 476, 477, 478, 479, 480, 481, 482, 483, 484, 485, 486, 487, 488, 489, 490, 491, 492, 493, 494, 495, 496, 497, 498, 499, 504, 514, 524, 534, 540, 541, 542, 543, 544, 545, 546, 547, 548, 549, 554, 564, 574, 584, 594, 604, 614, 624, 634, 640, 641, 642, 643, 644, 645, 646, 647, 648, 649, 654, 664, 674, 684, 694, 704, 714, 724, 734, 740, 741, 742, 743, 744, 745, 746, 747, 748, 749, 754, 764, 774, 784, 794, 804, 814, 824, 834, 840, 841, 842, 843, 844, 845, 846, 847, 848, 849, 854, 864, 874, 884, 894, 904, 914, 924, 934, 940, 941, 942, 943, 944, 945, 946, 947, 948, 949, 954, 964, 974, 984, 994, 1004, 1014, 1024, 1034, 1040, 1041, 1042, 1043, 1044, 1045, 1046, 1047, 1048, 1049, 1054, 1064, 1074, 1084, 1094, 1104, 1114, 1124, 1134, 1140, 1141, 1142, 1143, 1144, 1145, 1146, 1147, 1148, 1149, 1154, 1164, 1174, 1184, 1194, 1204, 1214, 1224, 1234, 1240, 1241, 1242, 1243, 1244, 1245, 1246, 1247, 1248, 1249, 1254, 1264, 1274, 1284, 1294, 1304, 1314, 1324, 1334, 1340, 1341, 1342, 1343, 1344, 1345, 1346, 1347, 1348, 1349, 1354, 1364, 1374, 1384, 1394, 1400, 1401, 1402, 1403, 1404, 1405, 1406, 1407, 1408, 1409, 1410, 1411, 1412, 1413, 1414, 1415, 1416, 1417, 1418, 1419, 1420, 1421, 1422, 1423, 1424, 1425, 1426, 1427, 1428, 1429, 1430, 1431, 1432, 1433, 1434, 1435, 1436, 1437, 1438, 1439, 1440, 1441, 1442, 1443, 1444, 1445, 1446, 1447, 1448, 1449, 1450, 1451, 1452, 1453, 1454, 1455, 1456, 1457, 1458, 1459, 1460, 1461, 1462, 1463, 1464, 1465, 1466, 1467, 1468, 1469, 1470, 1471, 1472, 1473, 1474, 1475, 1476, 1477, 1478, 1479, 1480, 1481, 1482, 1483, 1484, 1485, 1486, 1487, 1488, 1489, 1490, 1491, 1492, 1493, 1494, 1495, 1496, 1497, 1498, 1499, 1504, 1514, 1524, 1534, 1540, 1541, 1542, 1543, 1544, 1545, 1546, 1547, 1548, 1549, 1554, 1564, 1574, 1584, 1594, 1604, 1614, 1624, 1634, 1640, 1641, 1642, 1643, 1644, 1645, 1646, 1647, 1648, 1649, 1654, 1664, 1674, 1684, 1694, 1704, 1714, 1724, 1734, 1740, 1741, 1742, 1743, 1744, 1745, 1746, 1747, 1748, 1749, 1754, 1764, 1774, 1784, 1794, 1804, 1814, 1824, 1834, 1840, 1841, 1842, 1843, 1844, 1845, 1846, 1847, 1848, 1849, 1854, 1864, 1874, 1884, 1894, 1904, 1914, 1924, 1934, 1940, 1941, 1942, 1943, 1944, 1945, 1946, 1947, 1948, 1949, 1954, 1964, 1974, 1984, 1994]\n"
          ]
        }
      ]
    },
    {
      "cell_type": "code",
      "source": [
        ""
      ],
      "metadata": {
        "id": "JKEV6PUoXcb7"
      },
      "execution_count": null,
      "outputs": []
    },
    {
      "cell_type": "code",
      "source": [
        "# Comprehension Function 4\n",
        "\n",
        "# Write a function that takes in a string\n",
        "# and returns a list of all the words in that string that are less than 5 letters\n",
        "\n",
        "\n",
        "words = input(\"enter\")\n",
        "def wordlength(words):\n",
        "    counter = {}\n",
        "    for worddd in words:\n",
        "        n = len(worddd)\n",
        "        if n in counter:\n",
        "            counter[n] += 1\n",
        "        else:\n",
        "            counter[n] = 1\n",
        "    return counter\n",
        "    if counter < 5:\n",
        "      print(words)\n",
        "wordlength(words)\n"
      ],
      "metadata": {
        "id": "W0Tt39IpzMkS",
        "colab": {
          "base_uri": "https://localhost:8080/"
        },
        "outputId": "d30e7db0-eb3e-4a62-f349-f643a761d328"
      },
      "execution_count": null,
      "outputs": [
        {
          "name": "stdout",
          "output_type": "stream",
          "text": [
            "enterword\n"
          ]
        },
        {
          "output_type": "execute_result",
          "data": {
            "text/plain": [
              "{1: 4}"
            ]
          },
          "metadata": {},
          "execution_count": 19
        }
      ]
    },
    {
      "cell_type": "code",
      "source": [
        "# Exercise 83\n",
        "# Write a function definition named get_unique_values that takes in a list and returns a set with only the unique values from that list.\n",
        "\n",
        "def get_unique_values(list):\n",
        "  return set(list)\n",
        "list = [\"ant\", \"ant\", \"mosquito\", \"mosquito\", \"ladybug\"]\n",
        "get_unique_values(list)\n",
        "\n",
        "assert get_unique_values([\"ant\", \"ant\", \"mosquito\", \"mosquito\", \"ladybug\"]) == {\"ant\", \"mosquito\", \"ladybug\"}\n",
        "assert get_unique_values([\"b\", \"a\", \"n\", \"a\", \"n\", \"a\", \"s\"]) == {\"b\", \"a\", \"n\", \"s\"}\n",
        "assert get_unique_values([\"mary\", \"had\", \"a\", \"little\", \"lamb\", \"little\", \"lamb\", \"little\", \"lamb\"]) == {\"mary\", \"had\", \"a\", \"little\", \"lamb\"}\n",
        "print(\"Exercise 83 is correct.\")\n"
      ],
      "metadata": {
        "colab": {
          "base_uri": "https://localhost:8080/"
        },
        "id": "5n6miXmr-Apj",
        "outputId": "3b89628e-0b90-4c7b-a0f1-48a579406d20"
      },
      "execution_count": null,
      "outputs": [
        {
          "output_type": "stream",
          "name": "stdout",
          "text": [
            "Exercise 83 is correct.\n"
          ]
        }
      ]
    },
    {
      "cell_type": "code",
      "source": [
        "# Exercise 84\n",
        "# Write a function definition named get_unique_values_from_two_lists that takes two lists and returns a single set with only the unique values\n",
        "def get_unique_values_from_two_lists(list):\n",
        "  return set(list1 + list2)\n",
        "list1 = [5, 1, 2, 3]\n",
        "list2 = [3, 4, 5, 5]\n",
        "get_unique_values_from_two_lists(list)\n",
        "\n",
        "\n",
        "# assert get_unique_values_from_two_lists([5, 1, 2, 3], [3, 4, 5, 5]) == {1, 2, 3, 4, 5}\n",
        "# assert get_unique_values_from_two_lists([1, 1], [2, 2, 3]) == {1, 2, 3}\n",
        "# assert get_unique_values_from_two_lists([\"tomato\", \"mango\", \"kiwi\"], [\"eggplant\", \"tomato\", \"broccoli\"]) == {\"tomato\", \"mango\", \"kiwi\", \"eggplant\", \"broccoli\"}\n",
        "# print(\"Exercise 84 is correct.\")"
      ],
      "metadata": {
        "colab": {
          "base_uri": "https://localhost:8080/"
        },
        "id": "AXbI4cFV-Arn",
        "outputId": "88962073-1c73-43fa-a585-1e6e2dac5bc6"
      },
      "execution_count": null,
      "outputs": [
        {
          "output_type": "execute_result",
          "data": {
            "text/plain": [
              "{1, 2, 3, 4, 5}"
            ]
          },
          "metadata": {},
          "execution_count": 5
        }
      ]
    },
    {
      "cell_type": "code",
      "source": [
        "# Exercise 85\n",
        "# Write a function definition named get_values_in_common that takes two lists and returns a single set with the values that each list has in common\n",
        "\n",
        "\n",
        "def get_values_in_common(a, b):\n",
        "    aset = set(a)\n",
        "    bset = set(b)\n",
        "    if (aset and  bset):\n",
        "        return(aset & bset)\n",
        "    else:\n",
        "        print(\"No common elements\")\n",
        "assert get_values_in_common([5, 1, 2, 3], [3, 4, 5, 5]) == {3, 5}\n",
        "assert get_values_in_common([1, 2], [2, 2, 3]) == {2}\n",
        "assert get_values_in_common([\"tomato\", \"mango\", \"kiwi\"], [\"eggplant\", \"tomato\", \"broccoli\"]) == {\"tomato\"}\n",
        "print(\"Exercise 85 is correct.\")"
      ],
      "metadata": {
        "id": "yjOzPx5qj0yt",
        "colab": {
          "base_uri": "https://localhost:8080/"
        },
        "outputId": "844abcc5-2cbb-477f-de3f-2fb4d85cb567"
      },
      "execution_count": null,
      "outputs": [
        {
          "output_type": "stream",
          "name": "stdout",
          "text": [
            "Exercise 85 is correct.\n"
          ]
        }
      ]
    },
    {
      "cell_type": "code",
      "source": [
        "# Exercise 86\n",
        "# def get_unique_values_from_two_lists(list):\n",
        "#   return set(list1 - list2)\n",
        "# list1 = [5, 1, 2, 3]\n",
        "# list2 = [3, 4, 5, 5]\n",
        "# get_unique_values_from_two_lists(list)\n",
        "\n",
        "list_one = [5, 1, 2, 3]\n",
        "list2 = [3, 4, 5, 5]\n",
        "notincommon = set(list_one) - set(list2)\n",
        "notincommon2 = set(list2) - set(list_one)\n",
        "lisst = (notincommon)|(notincommon2)\n",
        "print(lisst)\n",
        "\n",
        "# a = [5, 1, 2, 3]\n",
        "# b = [3, 4, 5, 5]\n",
        "# def get_values_not_in_common(a, b):\n",
        "#     aset = set(a)\n",
        "#     bset = set(b)\n",
        "#     if (aset and not bset) and (bset and not aset):\n",
        "#         return(aset and not bset) and (bset and not aset)\n",
        "#     else:\n",
        "#         print(\"No common elements\")\n",
        "# get_values_not_in_common(a, b)\n",
        "\n",
        "\n",
        "# assert get_values_not_in_common([5, 1, 2, 3], [3, 4, 5, 5]) == {1, 2, 4}\n",
        "# assert get_values_not_in_common([1, 1], [2, 2, 3]) == {1, 2, 3}\n",
        "# assert get_values_not_in_common([\"tomato\", \"mango\", \"kiwi\"], [\"eggplant\", \"tomato\", \"broccoli\"]) == {\"mango\", \"kiwi\", \"eggplant\", \"broccoli\"}\n",
        "# print(\"Exercise 86 is correct.\")"
      ],
      "metadata": {
        "id": "93TNA-c1j09X",
        "colab": {
          "base_uri": "https://localhost:8080/"
        },
        "outputId": "9b5600e5-0e09-478a-d99a-e001d2790b64"
      },
      "execution_count": null,
      "outputs": [
        {
          "output_type": "stream",
          "name": "stdout",
          "text": [
            "{1, 2, 4}\n"
          ]
        }
      ]
    },
    {
      "cell_type": "code",
      "source": [
        ""
      ],
      "metadata": {
        "id": "Iqcsb8Gdj1Ax"
      },
      "execution_count": null,
      "outputs": []
    },
    {
      "cell_type": "code",
      "source": [
        ""
      ],
      "metadata": {
        "id": "sjc7GRQIj1E-"
      },
      "execution_count": null,
      "outputs": []
    },
    {
      "cell_type": "code",
      "source": [
        ""
      ],
      "metadata": {
        "id": "f8vvljggj1H7"
      },
      "execution_count": null,
      "outputs": []
    },
    {
      "cell_type": "code",
      "source": [
        "\n",
        "  # Run this cell in order to have these two dictionary variables defined.\n",
        "tukey_paper = {\n",
        "    \"title\": \"The Future of Data Analysis\",\n",
        "    \"author\": \"John W. Tukey\",\n",
        "    \"link\": \"https://projecteuclid.org/euclid.aoms/1177704711\",\n",
        "    \"year_published\": 1962\n",
        "}\n",
        "\n",
        "thomas_paper = {\n",
        "    \"title\": \"A mathematical model of glutathione metabolism\",\n",
        "    \"author\": \"Rachel Thomas\",\n",
        "    \"link\": \"https://www.ncbi.nlm.nih.gov/pubmed/18442411\",\n",
        "    \"year_published\": 2008\n",
        "}"
      ],
      "metadata": {
        "id": "n4agZBWwzMmo"
      },
      "execution_count": null,
      "outputs": []
    },
    {
      "cell_type": "code",
      "source": [
        "# Exercise 87\n",
        "# Write a function named get_paper_title that takes in a dictionary and returns the title property\n",
        "\n",
        "#There is an access method and a function method. you can make another cell and try both. \n",
        "def get_paper_title(tukey_paper):\n",
        "  print(tukey_paper.get(\"title\"))\n",
        "get_paper_title(tukey_paper)\n",
        "def get_paper_title(thomas_paper):\n",
        "  print(thomas_paper.get(\"title\"))\n",
        "get_paper_title(thomas_paper)\n",
        "\n",
        "# assert get_paper_title(tukey_paper) == \"The Future of Data Analysis\"\n",
        "# assert get_paper_title(thomas_paper) == \"A mathematical model of glutathione metabolism\"\n",
        "# print(\"Exercise 87 is correct.\")\n"
      ],
      "metadata": {
        "colab": {
          "base_uri": "https://localhost:8080/"
        },
        "id": "AEUvvuLVzMpD",
        "outputId": "4d91f7eb-cfac-49f2-85ec-c5ea1e4516a7"
      },
      "execution_count": null,
      "outputs": [
        {
          "output_type": "stream",
          "name": "stdout",
          "text": [
            "The Future of Data Analysis\n",
            "A mathematical model of glutathione metabolism\n"
          ]
        }
      ]
    },
    {
      "cell_type": "code",
      "source": [
        "# Exercise 88\n",
        "# Write a function named get_year_published that takes in a dictionary and returns the value behind the \"year_published\" key.\n",
        "\n",
        "def get_year_published(tukey_paper):\n",
        "  print(tukey_paper.get(\"year_published\"))\n",
        "get_year_published(tukey_paper)\n",
        "def get_year_published(thomas_paper):\n",
        "  print(thomas_paper.get(\"year_published\"))\n",
        "get_year_published(thomas_paper)\n",
        "\n",
        "\n",
        "# assert get_year_published(tukey_paper) == 1962\n",
        "# assert get_year_published(thomas_paper) == 2008\n",
        "# print(\"Exercise 88 is correct.\")"
      ],
      "metadata": {
        "id": "JeyWPpPzzMra"
      },
      "execution_count": null,
      "outputs": []
    },
    {
      "cell_type": "code",
      "source": [
        "# Run this code to create data for the next two questions\n",
        "book = {\n",
        "    \"title\": \"Genetic Algorithms and Machine Learning for Programmers\",\n",
        "    \"price\": 36.99,\n",
        "    \"author\": \"Frances Buontempo\"\n",
        "}"
      ],
      "metadata": {
        "id": "Cbc6lcLAz6Xc"
      },
      "execution_count": null,
      "outputs": []
    },
    {
      "cell_type": "code",
      "source": [
        "# Exercise 89\n",
        "# Write a function named get_price that takes in a dictionary and returns the price\n",
        "\n",
        "def get_price(book):\n",
        "  print(book.get(\"price\"))\n",
        "get_price(book)\n",
        "\n",
        "#assert get_price(book) == 36.99\n",
        "# print(\"Exercise 89 is complete.\")"
      ],
      "metadata": {
        "id": "0160vMnBi9s7",
        "colab": {
          "base_uri": "https://localhost:8080/"
        },
        "outputId": "d5088644-a884-49cd-e8fe-32bb8adfb0a7"
      },
      "execution_count": null,
      "outputs": [
        {
          "output_type": "stream",
          "name": "stdout",
          "text": [
            "36.99\n"
          ]
        }
      ]
    },
    {
      "cell_type": "code",
      "source": [
        "# Exercise 90\n",
        "# Write a function named get_book_author that takes in a dictionary (the above declared book variable) and returns the author's name\n",
        "def get_book_author(book):\n",
        "  print(book.get(\"author\"))\n",
        "get_book_author(book)\n",
        "\n",
        "# assert get_book_author(book) == \"Frances Buontempo\"\n",
        "print(\"Exercise 90 is complete.\")"
      ],
      "metadata": {
        "id": "WWKG4ns8i7xW",
        "colab": {
          "base_uri": "https://localhost:8080/"
        },
        "outputId": "4d0ba0d5-46ab-45a8-8040-76554f64fe22"
      },
      "execution_count": null,
      "outputs": [
        {
          "output_type": "stream",
          "name": "stdout",
          "text": [
            "Frances Buontempo\n",
            "Exercise 90 is complete.\n"
          ]
        }
      ]
    },
    {
      "cell_type": "code",
      "source": [
        "# Run this cell in order to have some setup data for the next exercises\n",
        "books = [\n",
        "    {\n",
        "        \"title\": \"Genetic Algorithms and Machine Learning for Programmers\",\n",
        "        \"price\": 36.99,\n",
        "        \"author\": \"Frances Buontempo\"\n",
        "    },\n",
        "    {\n",
        "        \"title\": \"The Visual Display of Quantitative Information\",\n",
        "        \"price\": 38.00,\n",
        "        \"author\": \"Edward Tufte\"\n",
        "    },\n",
        "    {\n",
        "        \"title\": \"Practical Object-Oriented Design\",\n",
        "        \"author\": \"Sandi Metz\",\n",
        "        \"price\": 30.47\n",
        "    },\n",
        "    {\n",
        "        \"title\": \"Weapons of Math Destruction\",\n",
        "        \"author\": \"Cathy O'Neil\",\n",
        "        \"price\": 17.44\n",
        "    }\n",
        "]"
      ],
      "metadata": {
        "id": "fqVS-3NH0E77"
      },
      "execution_count": null,
      "outputs": []
    },
    {
      "cell_type": "code",
      "source": [
        "# Exercise 91\n",
        "# Write a function named get_number_of_books that takes in a list of objects and returns the number of dictionaries in that list.\n",
        "\n",
        "def get_number_of_books(dictionaryy):\n",
        "  counter = 0\n",
        "  for x in dictionaryy:\n",
        "    counter += 1\n",
        "  return counter\n",
        "assert get_number_of_books(books) == 4\n",
        "print(\"Exercise 91 is complete.\")"
      ],
      "metadata": {
        "colab": {
          "base_uri": "https://localhost:8080/"
        },
        "id": "r0P1JnQb0G__",
        "outputId": "93eac4d3-6524-49be-ce1e-f767f6e7dd9e"
      },
      "execution_count": null,
      "outputs": [
        {
          "output_type": "stream",
          "name": "stdout",
          "text": [
            "Exercise 91 is complete.\n"
          ]
        }
      ]
    },
    {
      "cell_type": "code",
      "source": [
        "# Exercise 92\n",
        "# Write a function named total_of_book_prices that takes in a list of dictionaries and returns the sum total of all the book prices added together\n",
        "\n",
        "def total_of_book_prices(books):\n",
        "  spend = 0\n",
        "  for book in books:\n",
        "    spend += book[\"price\"]\n",
        "  return spend\n",
        "total_of_book_prices(books)\n",
        "\n",
        "assert total_of_book_prices(books) == 122.9\n",
        "print(\"Exercise 92 is complete.\")"
      ],
      "metadata": {
        "id": "KCMawbK50HJP",
        "colab": {
          "base_uri": "https://localhost:8080/"
        },
        "outputId": "19955c23-07d8-4f95-8695-d02eb3ef91eb"
      },
      "execution_count": null,
      "outputs": [
        {
          "output_type": "stream",
          "name": "stdout",
          "text": [
            "Exercise 92 is complete.\n"
          ]
        }
      ]
    },
    {
      "cell_type": "code",
      "source": [
        ""
      ],
      "metadata": {
        "id": "XkJrVxfc-Bt7"
      },
      "execution_count": null,
      "outputs": []
    },
    {
      "cell_type": "code",
      "source": [
        ""
      ],
      "metadata": {
        "id": "7PrZajkVbqX-"
      },
      "execution_count": null,
      "outputs": []
    },
    {
      "cell_type": "code",
      "source": [
        "# Exercise 93\n",
        "# Write a function named get_average_book_price that takes in a list of dictionaries and returns the average book price.\n",
        "def get_average_book_price(books):\n",
        "  counter = 0\n",
        "  for d in books:\n",
        "    counter += 1\n",
        "  spend = 0\n",
        "  for bookk in books:\n",
        "    spend += bookk[\"price\"]\n",
        "  average = spend/ counter\n",
        "  return average\n",
        "get_average_book_price(books)\n",
        "assert get_average_book_price(books) == 30.725\n",
        "print(\"Exercise 93 is complete.\")"
      ],
      "metadata": {
        "colab": {
          "base_uri": "https://localhost:8080/"
        },
        "id": "Tg7HUlonbqa4",
        "outputId": "4f41116b-0e93-412c-8367-eaec4c0b902c"
      },
      "execution_count": null,
      "outputs": [
        {
          "output_type": "stream",
          "name": "stdout",
          "text": [
            "Exercise 93 is complete.\n"
          ]
        }
      ]
    },
    {
      "cell_type": "code",
      "source": [
        "# Exercise 94\n",
        "# Write a function called highest_price_book that takes in the above defined list of dictionaries \"books\" and returns the dictionary containing the title, price, and author of the book with the highest priced book.\n",
        "# Hint: Much like sometimes start functions with a variable set to zero, you may want to create a dictionary with the price set to zero to compare to each dictionary's price in the list\n",
        "\n",
        "def highest_price_book(listofdict):\n",
        "  highest_price = 0\n",
        "  for x in listofdict:\n",
        "    if float(x[\"price\"]) >= highest_price:\n",
        "      highest_price = float(x[\"price\"])\n",
        "    else:\n",
        "      pass\n",
        "  for x in listofdict:\n",
        "    if highest_price == x[\"price\"]:\n",
        "      return x\n",
        "highest_price_book(books)\n",
        "\n",
        "assert highest_price_book(books) == {\n",
        "    \"title\": \"The Visual Display of Quantitative Information\",\n",
        "    \"price\": 38.00,\n",
        "    \"author\": \"Edward Tufte\"\n",
        "}\n",
        "\n",
        "print(\"Exercise 94 is complete\")"
      ],
      "metadata": {
        "colab": {
          "base_uri": "https://localhost:8080/"
        },
        "id": "K1dzTGs2-Bwb",
        "outputId": "2e7d3d0a-3115-4cfc-8bde-b43af0d49b75"
      },
      "execution_count": null,
      "outputs": [
        {
          "output_type": "stream",
          "name": "stdout",
          "text": [
            "Exercise 94 is complete\n"
          ]
        }
      ]
    },
    {
      "cell_type": "code",
      "source": [
        "# Exercise 95\n",
        "# Write a function called lowest_priced_book that takes in the above defined list of dictionaries \"books\" and returns the dictionary containing the title, price, and author of the book with the lowest priced book.\n",
        "# Hint: Much like sometimes start functions with a variable set to zero or float('inf'), you may want to create a dictionary with the price set to float('inf') to compare to each dictionary in the list\n",
        "def lowest_price_book(listofdict):\n",
        "  lowest_price = 100\n",
        "  for x in listofdict:\n",
        "    if float(x[\"price\"]) <= lowest_price:\n",
        "      lowest_price = float(x[\"price\"])\n",
        "    else:\n",
        "      pass\n",
        "  for x in listofdict:\n",
        "    if lowest_price == x[\"price\"]:\n",
        "      return x\n",
        "lowest_price_book(books)\n",
        "\n",
        "\n",
        "\n",
        "assert lowest_price_book(books) == {\n",
        "    \"title\": \"Weapons of Math Destruction\",\n",
        "    \"author\": \"Cathy O'Neil\",\n",
        "    \"price\": 17.44\n",
        "}\n",
        "print(\"Exercise 95 is complete\")"
      ],
      "metadata": {
        "colab": {
          "base_uri": "https://localhost:8080/"
        },
        "id": "5JU1l_tC-BzQ",
        "outputId": "14ba98a8-7b83-4665-92ac-b03b30bf1dff"
      },
      "execution_count": null,
      "outputs": [
        {
          "output_type": "stream",
          "name": "stdout",
          "text": [
            "Exercise 95 is complete\n"
          ]
        }
      ]
    },
    {
      "cell_type": "code",
      "source": [
        "shopping_cart = {\n",
        "    \"tax\": .08,\n",
        "    \"items\": [\n",
        "        {\n",
        "            \"title\": \"orange juice\",\n",
        "            \"price\": 3.99,\n",
        "            \"quantity\": 1\n",
        "        },\n",
        "        {\n",
        "            \"title\": \"rice\",\n",
        "            \"price\": 1.99,\n",
        "            \"quantity\": 3\n",
        "        },\n",
        "        {\n",
        "            \"title\": \"beans\",\n",
        "            \"price\": 0.99,\n",
        "            \"quantity\": 3\n",
        "        },\n",
        "        {\n",
        "            \"title\": \"chili sauce\",\n",
        "            \"price\": 2.99,\n",
        "            \"quantity\": 1\n",
        "        },\n",
        "        {\n",
        "            \"title\": \"chocolate\",\n",
        "            \"price\": 0.75,\n",
        "            \"quantity\": 9\n",
        "        }\n",
        "    ]\n",
        "}"
      ],
      "metadata": {
        "id": "TvYn0-9H-B1c"
      },
      "execution_count": null,
      "outputs": []
    },
    {
      "cell_type": "code",
      "source": [
        "# Exercise 96\n",
        "# Write a function named get_tax_rate that takes in the above shopping cart as input and returns the tax rate.\n",
        "# Hint: How do you access a key's value on a dictionary? The tax rate is one key of the entire shopping_cart dictionary.\n",
        "\n",
        "def get_tax_rate(shopping_cart):\n",
        "  return (shopping_cart.get(\"tax\"))\n",
        "get_tax_rate(shopping_cart)\n",
        "\n",
        "assert get_tax_rate(shopping_cart) == .08\n",
        "print(\"Exercise 96 is complete\")"
      ],
      "metadata": {
        "colab": {
          "base_uri": "https://localhost:8080/"
        },
        "id": "kWjVRVLvdgDN",
        "outputId": "d5effb72-e619-4f14-c534-00844beaf98a"
      },
      "execution_count": null,
      "outputs": [
        {
          "output_type": "stream",
          "name": "stdout",
          "text": [
            "Exercise 96 is complete\n"
          ]
        }
      ]
    },
    {
      "cell_type": "code",
      "source": [
        "# Exercise 97\n",
        "# Write a function named number_of_item_types that takes in the shopping cart as input and returns the number of unique item types in the shopping cart. \n",
        "# We're not yet using the quantity of each item, but rather focusing on determining how many different types of items are in the cart.\n",
        "def number_of_item_types(thing):\n",
        "  lst = []\n",
        "  for l in thing[\"items\"]:\n",
        "    lst.append(l[\"price\"])\n",
        "  return(len(lst)) \n",
        "number_of_item_types(shopping_cart)\n",
        "\n",
        "\n",
        "assert number_of_item_types(shopping_cart) == 5\n",
        "print(\"Exercise 97 is complete.\")"
      ],
      "metadata": {
        "colab": {
          "base_uri": "https://localhost:8080/"
        },
        "id": "jOJkC3YldgGY",
        "outputId": "3321300a-603e-403b-966c-9e32b6ffcde7"
      },
      "execution_count": null,
      "outputs": [
        {
          "output_type": "stream",
          "name": "stdout",
          "text": [
            "Exercise 97 is complete.\n"
          ]
        }
      ]
    },
    {
      "cell_type": "code",
      "source": [
        "# Exercise 99\n",
        "# Write a function named get_average_item_price that takes in the shopping cart as an input and returns the average of all the item prices.\n",
        "# Hint - This should determine the total price divided by the number of types of items. This does not account for each item type's quantity.\n",
        "\n",
        "def get_average_item_price(thing):\n",
        "  lst = []\n",
        "  for l in thing[\"items\"]:\n",
        "    lst.append(l[\"price\"])\n",
        "  return(sum(lst)/len(lst))  #This needs to be here or else each append would be included as well\n",
        "\n",
        "get_average_item_price(shopping_cart)\n",
        "\n",
        "assert get_average_item_price(shopping_cart) == 2.1420000000000003\n",
        "print(\"Exercise 99 is complete.\")"
      ],
      "metadata": {
        "colab": {
          "base_uri": "https://localhost:8080/"
        },
        "id": "_jAG1Wse-B3Z",
        "outputId": "0bab51dd-6163-46f6-ba70-da4cc4a7f084"
      },
      "execution_count": null,
      "outputs": [
        {
          "output_type": "stream",
          "name": "stdout",
          "text": [
            "Exercise 99 is complete.\n"
          ]
        }
      ]
    },
    {
      "cell_type": "code",
      "source": [
        "# Exercise 100\n",
        "# Write a function named get_average_spent_per_item that takes in the shopping cart and returns the average of summing each item's quanties times that item's price.\n",
        "# Hint: You may need to set an initial total price and total total quantity to zero, then sum up and divide that total price by the total quantity\n",
        "\n",
        "price = [3.99, 1.99, .99, 2.99, .75]\n",
        "quantity = [1, 3, 3, 1, 9]\n",
        "products = []\n",
        "for num1, num2 in zip(price, quantity):\n",
        "  products.append(num1 * num2)\n",
        "Sum = sum(quantity)\n",
        "#print(Sum)\n",
        "#print(products)\n",
        "SUMM = sum(products)\n",
        "summm = float(SUMM/Sum)\n",
        "print(summm)\n",
        "\n",
        "\n",
        "\n",
        "# def get_average_spent_per_item(thing):\n",
        "#   lst = []\n",
        "#   for l in thing[\"items\"]:\n",
        "#     listt = [\"price\"*\"quantity\"]\n",
        "#     lst.append(l[listt])\n",
        "#   return(sum(lst)/len(lst)) \n",
        "\n",
        "# assert get_average_spent_per_item(shopping_cart) == 1.333529411764706\n",
        "# print(\"Exercise 100 is complete.\")"
      ],
      "metadata": {
        "colab": {
          "base_uri": "https://localhost:8080/"
        },
        "id": "5AZUO8kgcbFn",
        "outputId": "977af01e-7b66-4178-8ec7-04b69af74476"
      },
      "execution_count": null,
      "outputs": [
        {
          "output_type": "stream",
          "name": "stdout",
          "text": [
            "1.333529411764706\n"
          ]
        }
      ]
    },
    {
      "cell_type": "code",
      "source": [
        "#HW 2 Function 1: Combine Lists\n",
        "# Edit the function combine_lists so that it takes two lists (sequences) as input \n",
        "# and returns a new list containing all elements from both lists; the\n",
        "# elements of the first list, followed by the elements of the second list. \n",
        "# The original lists should not be modified. No \"for loops\"! \n",
        "\n",
        "first = [1,2,3]\n",
        "second = [4, 5, 6]\n",
        "\n",
        "\n",
        "combine_lists = first + second\n",
        "print(combine_lists)"
      ],
      "metadata": {
        "colab": {
          "base_uri": "https://localhost:8080/"
        },
        "id": "Hx9LBpnw-B5I",
        "outputId": "33f76b73-d157-4eff-f5b1-66775099d5b4"
      },
      "execution_count": null,
      "outputs": [
        {
          "output_type": "stream",
          "name": "stdout",
          "text": [
            "[1, 2, 3, 4, 5, 6]\n"
          ]
        }
      ]
    },
    {
      "cell_type": "code",
      "source": [
        "# Function 2: last_n_elements\n",
        "# Edit the function last_n_elements so that it uses a slice to return the last n items of a sequence. \n",
        "# The original sequence should not be modified. Do not use len() in your slice. \n",
        "# If you feel you need it, please review the lecture slides about slices.\n",
        "\n",
        "fruits = ['apples', 'grapes', 'peaches', 'apricots', 'bananas']\n",
        "X = int(input(\"enter\"))\n",
        "sliced = fruits[-X]\n",
        "print(sliced)"
      ],
      "metadata": {
        "colab": {
          "base_uri": "https://localhost:8080/"
        },
        "id": "-pdcMz4Z-B87",
        "outputId": "6d2481de-f86e-4d6a-8a85-47fc014e4cd0"
      },
      "execution_count": null,
      "outputs": [
        {
          "output_type": "stream",
          "name": "stdout",
          "text": [
            "enter2\n",
            "apricots\n"
          ]
        }
      ]
    },
    {
      "cell_type": "code",
      "source": [
        "# Function 3: power_list\n",
        "# Make the function power_list so that it accepts a list of numbers and returns a new list \n",
        "# that contains each number raised to the i-th power \n",
        "# where i is the index of that number in the given list.\n",
        "# Use a list comprehension.\n",
        "# import math\n",
        "# values = [12, 89, -12.5, 0.443, 1310, 3110, 125, 54]\n",
        "\n",
        "# # Exponents\n",
        "# powers = [2, 3, 4, 5,1.5, -3, 2, 0.5]\n",
        "data = [2, 2, 2, 2, 2]\n",
        "\n",
        "def power_list(my_list):\n",
        "    return [x ** i for i, x in enumerate(my_list)]\n",
        "\n",
        "print (data)\n",
        "\n",
        "print(power_list(data))\n",
        "\n",
        "listt =  [9, 6, 5, 4]\n",
        "def power_list(my_list):\n",
        "    return [x ** i for i, x in enumerate(my_list)]\n",
        "\n",
        "print (listt)\n",
        "print(power_list(listt))\n",
        "\n",
        "# list1 = [2, 2, 2, 2, 2, 2]\n",
        "# list2 = [0, 1, 2, 3]\n",
        "# Z = list1**(list2)\n",
        "# print(z)\n",
        "\n",
        "# def raised(y, x):\n",
        "#   new_lst = []\n",
        "#   for y in y:\n",
        "#     for x in x:\n",
        "#       value = y ** x\n",
        "#       new_lst.append(value)\n",
        "#   return (new_lst)\n",
        "# print(raised([2], [1, 2, 3, 4, 5]))\n",
        "\n",
        "\n",
        "\n",
        "\n",
        "\n",
        "# uncomment the asserts to check your work with the example list\n",
        "# Use the asserts as examples of how the code should work\n",
        "# Extra Credit if you make your own example and assert to check it. \n",
        "# There are examples in the PDF that will also be provided\n",
        "# assert power_list(list1) == [1, 2, 4, 8, 16, 32]\n",
        "# assert power_list(list2) == [1, 6, 25, 64]\n",
        "# print(\"Exercise Function HW2 Function3 is complete.\")"
      ],
      "metadata": {
        "colab": {
          "base_uri": "https://localhost:8080/"
        },
        "id": "E8xbebpa-B-_",
        "outputId": "7dad06b6-b48f-44e5-834a-19cfdeed258a"
      },
      "execution_count": null,
      "outputs": [
        {
          "output_type": "stream",
          "name": "stdout",
          "text": [
            "[2, 2, 2, 2, 2]\n",
            "[1, 2, 4, 8, 16]\n",
            "[9, 6, 5, 4]\n",
            "[1, 6, 25, 64]\n"
          ]
        }
      ]
    },
    {
      "cell_type": "code",
      "source": [
        "\n"
      ],
      "metadata": {
        "colab": {
          "base_uri": "https://localhost:8080/"
        },
        "id": "0voR3h6t3mUj",
        "outputId": "e05b070f-66b9-4b9b-80f5-0e02802764f6"
      },
      "execution_count": null,
      "outputs": [
        {
          "output_type": "stream",
          "name": "stdout",
          "text": [
            "[2, 4, 8, 16, 32]\n"
          ]
        }
      ]
    },
    {
      "cell_type": "code",
      "source": [
        "# Function 4: rotate_list\n",
        "# Make the function rotate_list so that it removes the first item from a given list, \n",
        "# adds it to the end of the list, and returns the item that was moved.\n",
        "# No \"for loops\"!\n",
        "# Hint: Look through the documentation on sequence types (ie, lists) for methods that would be useful. Do not use del . \n",
        "\n",
        "\n",
        "numbers = [1, 2, 3, 4]\n",
        "numbers.append(numbers.pop(numbers.index(1)))\n",
        "print (\"The modified element moved list is : \" + str(numbers))\n",
        "\n",
        "\n",
        "# uncomment the asserts to check your work with the example list\n",
        "# Use the asserts as examples of how the code should work\n",
        "# Extra Credit if you make your own example and assert to check it. \n",
        "# There are examples in the PDF that will also be provided\n",
        "# assert rotate_list(numbers) == 1\n",
        "# assert numbers == [2, 3, 4, 1]\n",
        "# print(\"Exercise Function HW2 Function4 is complete.\")\n",
        "\n",
        "\n",
        "\n"
      ],
      "metadata": {
        "colab": {
          "base_uri": "https://localhost:8080/"
        },
        "id": "ZfHuQTF8-CBP",
        "outputId": "815b2813-537b-4043-fd1d-a717f48f2ce8"
      },
      "execution_count": null,
      "outputs": [
        {
          "output_type": "stream",
          "name": "stdout",
          "text": [
            "The original list is : [1, 2, 3, 4]\n",
            "The modified element moved list is : [2, 3, 4, 1]\n"
          ]
        }
      ]
    },
    {
      "cell_type": "code",
      "source": [
        "# Function 5: get_word_codes \n",
        "# Edit the function get_word_codes so that it accepts a list of strings and returns a dictionary \n",
        "# containing the strings as keys and a list of corresponding character codes as values. \n",
        "# It should work on any strings. Use a dictionary comprehension.\n",
        "# Hint: Look through Python's built-in functions for a useful function to use for this.\n",
        "{'yes': [121, 101, 115], 'no': [110, 111]}\n",
        "words = ['yes', 'no']\n",
        "def get_word_codes(words):\n",
        "    return {key : [ord(x) for x in key] for key in words}\n",
        "get_word_codes(words)\n",
        "\n",
        "\n",
        "# uncomment the asserts to check your work with the example list\n",
        "# Use the asserts as examples of how the code should work\n",
        "# Extra Credit if you make your own example and assert to check it. \n",
        "# There are examples in the PDF that will also be provided\n",
        "assert get_word_codes(words) == {'yes': [121, 101, 115], 'no':[110, 111]}\n",
        "print(\"Exercise Function HW2 Function5 is complete.\")\n"
      ],
      "metadata": {
        "colab": {
          "base_uri": "https://localhost:8080/"
        },
        "id": "9o7P-uEyb6_0",
        "outputId": "fe163b69-f94f-461a-d440-4d568f4e5229"
      },
      "execution_count": null,
      "outputs": [
        {
          "output_type": "stream",
          "name": "stdout",
          "text": [
            "Exercise Function HW2 Function5 is complete.\n"
          ]
        }
      ]
    },
    {
      "cell_type": "code",
      "source": [
        " #Function 6: words_containing\n",
        "# Given a sentence and a lowercase letter,\n",
        "# return a list of words from the sentence that contain the letter,\n",
        "# ignoring the case of the words in the sentence.\n",
        "# Look up methods on the str object to get a list of words from the sentence.\n",
        "# Then use a list comprehension to get the final list to return.\n",
        "\n",
        "sentence1 = \"Anyone who has never made a mistake has never tried anything new\"\n",
        "\n",
        "def words_containing (string, match) :\n",
        "    match_list = []\n",
        "    for word in string.split () :\n",
        "        if match in word.lower ():\n",
        "            match_list.append (word)\n",
        "    return match_list\n",
        "\n",
        "print (words_containing (sentence1, 'a'))\n",
        "\n",
        "# uncomment the asserts to check your work with the example list\n",
        "# Use the asserts as examples of how the code should work\n",
        "# Extra Credit if you make your own example and assert to check it.\n",
        "# There are examples in the PDF that will also be provided\n",
        "assert words_containing (sentence1, 'a') == ['Anyone', 'has', 'made', 'a', 'mistake', 'has', 'anything']\n",
        "print(\"Exercise Function HW2 Function6 is complete.\")"
      ],
      "metadata": {
        "colab": {
          "base_uri": "https://localhost:8080/"
        },
        "id": "DxGXH7GtKScf",
        "outputId": "deeda74c-37f9-4ab7-b0c3-9c17f6176b67"
      },
      "execution_count": null,
      "outputs": [
        {
          "output_type": "stream",
          "name": "stdout",
          "text": [
            "['Anyone', 'has', 'made', 'a', 'mistake', 'has', 'anything']\n",
            "Exercise Function HW2 Function6 is complete.\n"
          ]
        }
      ]
    },
    {
      "cell_type": "code",
      "source": [
        "# Function 7: Write a function to print the above output starting with the number taken as an arguemnt in the example it is 1\n",
        "\n",
        "n = int(input(\"What is the max number\"))  \n",
        "for i in range(0, n):\n",
        "  counter = i\n",
        "  for j in range(0, i + 1):  \n",
        "      print(i+1 , end=\"\")       \n",
        "  print()  "
      ],
      "metadata": {
        "colab": {
          "base_uri": "https://localhost:8080/"
        },
        "id": "2Mg-6Pp1P25X",
        "outputId": "2a80bd52-9f25-4f37-ddb0-2e73c87dffa0"
      },
      "execution_count": null,
      "outputs": [
        {
          "output_type": "stream",
          "name": "stdout",
          "text": [
            "What is the max number4\n",
            "1\n",
            "22\n",
            "333\n",
            "4444\n"
          ]
        }
      ]
    },
    {
      "cell_type": "code",
      "source": [
        "\n",
        "# Function 8: nested_loops_print_items\n",
        "\n",
        "#Write a function that takes in a list of lists\n",
        "#and prints every item in every list once\n",
        "#it should look like the above output \n",
        "a = [\"Lion\" , \"Deer\"], [\"Sheep\", \"Cub\"], [\"Fawn\", \"Lamb\"]\n",
        "for i in a:\n",
        "  for j in i:\n",
        "    print(j, sep=' ')\n"
      ],
      "metadata": {
        "colab": {
          "base_uri": "https://localhost:8080/"
        },
        "id": "wYrSJXhuhW7b",
        "outputId": "66b18438-5527-47e4-ecd0-c22b43fee16f"
      },
      "execution_count": null,
      "outputs": [
        {
          "output_type": "stream",
          "name": "stdout",
          "text": [
            "Lion\n",
            "Deer\n",
            "Sheep\n",
            "Cub\n",
            "Fawn\n",
            "Lamb\n"
          ]
        }
      ]
    },
    {
      "cell_type": "code",
      "source": [
        "# Class Function 1: Create a Point Class \n",
        "# Like a Point on a Line\n",
        "# Instructions Below\n",
        "import numpy as nnnn\n",
        "# import math\n",
        "# pointt = [0,0]\n",
        "# pointtt = [9,10]\n",
        "# class Point():\n",
        "#     def __init__(self, x, y):\n",
        "#         self.x = x\n",
        "#         self.y = y\n",
        "#     def __repr__(self):\n",
        "#         print(math.sqrt( ((pointt[0]-pointtt[0])**2)+((pointt[1]-pointtt[1])**2) )) \n",
        "# Point(0, 0) \n",
        "class Point():\n",
        "  def __init__(self, origin, x, y):\n",
        "    self.origin = [0,0]\n",
        "    self.x = x\n",
        "    self.y = y\n",
        "  def get_magnitude(r):\n",
        "    magg = nnnn.array(([r.origin[0]-r.x,r.origin[1]-r.y]))\n",
        "    maggg = nnnn.linalg.norm(magg)\n",
        "    print(maggg)\n",
        "mag = Point([0,0],10,2)\n",
        "mag.get_magnitude()\n",
        "\n",
        "# thiss = Point(0, 0)\n",
        "# print(thiss.__repr__())\n",
        "\n",
        "# thiss = Point(20, 20)\n",
        "# print(thiss.__repr__())\n",
        "\n",
        "# Name your Class Point\n",
        "# Initialize your class with two arguments x and y\n",
        "## Use the __init__ dunder method to initialize your class\n",
        "# Import any necessary libraries outside of your class\n",
        "# set a default point \n",
        "# make this default pint the origin (0,0)\n",
        "# Add an attribute call get_magnitude that returns the magnitude of the line between the origin (0,0) and your point(x,y)\n",
        "\n"
      ],
      "metadata": {
        "id": "yndI02gSqbiq",
        "colab": {
          "base_uri": "https://localhost:8080/"
        },
        "outputId": "84a8360e-30cc-46e9-abe8-18083538e21b"
      },
      "execution_count": 128,
      "outputs": [
        {
          "output_type": "stream",
          "name": "stdout",
          "text": [
            "10.198039027185569\n"
          ]
        }
      ]
    },
    {
      "cell_type": "code",
      "source": [
        "# Class Function 2: Making a Bank Account Class \n",
        "\n",
        "# Name your class BankAccount\n",
        "# Initialize your class with zero arguments\n",
        "# In your initialization include a a self attribute for balance that shows it is equal to some amount (usually 0 but why be broke)\n",
        "# Include a welcoming print statement\n",
        "# In your initialization include a a self attribute to print the balance\n",
        "class BankAccount:\n",
        "  def _init_(self,balance,deposit):\n",
        "    self.balance = balance\n",
        "    self.deposit = deposit\n",
        "    print(\"thank you for banking with us\") \n",
        "# add an attribute called deposit (should be a function) that takes in an argument called amount\n",
        "## inside deposit should be an attribute that adds the amount from the deposit argument and changes your balance\n",
        "## inside include a print statement with the amount deposited\n",
        "## inside deposit should be a self attribute to print the new  balance\n",
        "    def deposit(value):\n",
        "      self.balance += value\n",
        "      print(self.balance)\n",
        "      print(\"value\" + value)\n",
        "\n",
        "\n",
        "\n",
        "\n",
        "# add an attribute called withdraw (should be a function) that takes in an argument called amount\n",
        "## inside withdraw should be an attribute that adds the amount from the deposit argument and changes your balance\n",
        "## inside include a print statement with the amount withdrawn\n",
        "## inside withdraw should be a self attribute to print the new  balance\n",
        "## add functionality to test if the amount you are trying to withdraw is higher than the current balance\n",
        "    def withdraw(value):\n",
        "      if self.balance < amount:\n",
        "        print(\"sorry, you cannot\")\n",
        "      self.balance -= value\n",
        "      print(self.balance)\n",
        "      print(\"value\" + value)\n",
        "      \n",
        "\n",
        "# add an attribute called print_balance (should be a function) that takes in no arguments\n",
        "## inside print_balance should be an attribute that prints the balance\n",
        "    def print_balance():\n",
        "      print(self.balance)\n",
        "\n",
        "# Look up the __str__ method\n",
        "## add an attribute called __str__ that returns a very clear print statement when you just call your class instance\n",
        "      __str__ = print(balance.__str__())\n",
        "# Look up the __repr__ method\n",
        "## add an attribute called __repr__ that returns a very clear print statement when you just call your class instance\n",
        "      __repr__ = print(balance.__repr__())\n",
        "## which one of these is more necessary for Colab vs Replit\n"
      ],
      "metadata": {
        "id": "zzihgvZiqbwZ"
      },
      "execution_count": 129,
      "outputs": []
    },
    {
      "cell_type": "code",
      "source": [
        "# Class Function 3: Making a Circle Class\n",
        "\n",
        "\n",
        "# Name your class Circle\n",
        "# Initialize your class with an argument called radius with a default value\n",
        "# Import any libraries you need outside your class\n",
        "# In your initialization include a self attribute for radius that is equal to your argument\n",
        "# In your initialization include a self attribute called area that is equal to the area of a circle\n",
        "import math\n",
        "class circle:\n",
        "  def _init_(self, radius):\n",
        "    self.area = radius ** 2 * math.pi\n",
        "\n",
        "# You should practice reassigning your radius values\n",
        "class circle:\n",
        "  self,radius = 10\n",
        "# Investigate the property decorator\n",
        "# Convert you area initialization property to an attribut and assign it a property decorator\n",
        "#property()\n",
        "class circle:\n",
        "  def _init_(self, radius, area):\n",
        "    self.area = radius ** 2 * math.pi\n",
        "    radius = area/(2*math.pi)\n",
        "# Explain how this helps you\n",
        "#easy to go back and forth between area and radius calculations\n",
        "# Add another attribute called diameter (with no arguments)and assign it a property decorator\n",
        "class circle:\n",
        "  def _init_(self, radius):\n",
        "    self.diameter = radius * 2 \n",
        "\n",
        "# You should try resetting your diameter\n",
        "class circle:\n",
        "  self,diameter = 10\n",
        "# Edit your attribute diameter to include an argument\n",
        "# Add a property decorator called diameter.setter \n",
        "class circle:\n",
        "  def _init_(self, radius, diameter):\n",
        "    diameter.setter = radius*2\n",
        "\n",
        "\n",
        "# Try resetting your diameter again\n",
        "class circle:\n",
        "  self,diameter = 15"
      ],
      "metadata": {
        "id": "yoyYng1Dqb6I"
      },
      "execution_count": null,
      "outputs": []
    },
    {
      "cell_type": "code",
      "source": [
        " # Class Function 4: Inheritances\n",
        "\n",
        "class Base(object):\n",
        "  def __init__(self, name):\n",
        "    self.name = name\n",
        "\n",
        "  def getName(self):\n",
        "    return self.name\n",
        "\n",
        "# Make an inherited class or sub class of Base called Child\n",
        "# Create a constructor for you class/Initialize this class with two arguments: name and age\n",
        "# In your initialization include a self attribute age that is equal to your argument for age\n",
        "# Call your Parent class base then using the .__init__ function initalize the constructor from your parent class for name\n",
        "# Add an attribute called getAge that returns the instance of age\n",
        "\n",
        "class Child(Base):\n",
        "  def __init__(self, name, age):\n",
        "    Base.__init__(self, name)\n",
        "    self.age = age\n",
        "\n",
        "  def getAge(self):\n",
        "    return self.age\n",
        "\n",
        "# Make an inherited class or sub class of Child called Grandchild\n",
        "# Create a constructor for you class/Initialize this class with three arguments: name and age and address\n",
        "# In your initialization include a self attribute address that is equal to your argument for address\n",
        "# Call your Parent class Child then using the .__init__ function initalize the constructor from your parent class for name and age\n",
        "# Add an attribute called getAddress that returns the instance of address\n",
        "\n",
        "class GrandChild(Child):\n",
        "  def __init__(self, name, age, address):\n",
        "    Child.__init__(self, name, age)\n",
        "    self.address = address\n",
        "\n",
        "  def getAddress(self):\n",
        "    return self.address\n",
        "\n",
        "g = GrandChild(\"James\", 23, \"Transylvania\")\n",
        "print(g.getName(), g.getAge(), g.getAddress())\n",
        "\n"
      ],
      "metadata": {
        "colab": {
          "base_uri": "https://localhost:8080/"
        },
        "id": "b20fw-nrqE8r",
        "outputId": "6af50d94-12fc-4251-ac8d-06a399eb57c1"
      },
      "execution_count": null,
      "outputs": [
        {
          "output_type": "stream",
          "name": "stdout",
          "text": [
            "James 23 Transylvania\n"
          ]
        }
      ]
    },
    {
      "cell_type": "code",
      "source": [
        "# Collections Function 1\n",
        "# Write a function to find the 10 most common words in a selected text\n",
        "# Import necessary libraries or collections\n",
        "\n",
        "from collections import Counter\n",
        "text = \"\"\"The Python Software Foundation (PSF) is a 501(c)(3) non-profit \n",
        "corporation that holds the intellectual property rights behind\n",
        "the Python programming language. We manage the open source licensing \n",
        "for Python version 2.1 and later and own and protect the trademarks \n",
        "associated with Python. We also run the North American PyCon conference \n",
        "annually, support other Python conferences around the world, and \n",
        "fund Python related development with our grants program and by funding \n",
        "special projects.\"\"\"\n",
        "\n",
        "\n",
        "  \n",
        "\n",
        "split = text.split()\n",
        "Counter = Counter(split)\n",
        "ten_most_common_words = Counter.most_common(10)\n",
        "print(ten_most_common_words)\n",
        "\n",
        "\n",
        "# assert ten_most_common_words(text) == [('Python', 6), ('the', 6), ('and', 5), ('We', 2), ('with', 2), ('The', 1), ('Software', 1), ('Foundation', 1), ('PSF', 1), ('is', 1)]\n"
      ],
      "metadata": {
        "id": "3GTJQzKcP29L"
      },
      "execution_count": null,
      "outputs": []
    },
    {
      "cell_type": "code",
      "source": [
        "# Collections Code 2\n",
        "# This is going to be a little different\n",
        "# I am not asking you to write a function, just code, similar to chatbot\n",
        "\n",
        "# Import necessary libraries or collections\n",
        "# Define a Movie tuple using namedtuple that accepts \n",
        "# a title, a director, a release year, and a budget. \n",
        "# Prompt the user(yourself in this case) to provide information for each of these fields \n",
        "# and create an instance of the Movie tuple you defined.\n",
        "\n",
        "from collections import namedtuple\n",
        "# from collections import defaultdict\n",
        "Movie = namedtuple(\"Movie\", [\"title\", \"director\", \"year\", \"budget\"])\n",
        "title = input(\"What is the title of the movie? \")\n",
        "director = input(\"Who directed it? \")\n",
        "year = input(\"What year was this movie released? \")\n",
        "budget = input(\"How much did the movie cost\")\n",
        "\n",
        "Movie = title, director, year, budget\n",
        "\n",
        "print (Movie)\n"
      ],
      "metadata": {
        "colab": {
          "base_uri": "https://localhost:8080/"
        },
        "id": "iWHBRooLk9OC",
        "outputId": "a269c420-9bdd-491d-e55e-2e86744d45b7"
      },
      "execution_count": null,
      "outputs": [
        {
          "output_type": "stream",
          "name": "stdout",
          "text": [
            "What is the title of the movie? top gun\n",
            "Who directed it? not sure\n",
            "What year was this movie released? 2022\n",
            "How much did the movie cost170\n",
            "('top gun', 'not sure', '2022', '170')\n"
          ]
        }
      ]
    }
  ]
}