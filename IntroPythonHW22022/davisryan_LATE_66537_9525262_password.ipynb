#password is game
while True:
  x = input("please enter the password ")
  if x == "game":
    break 
  else:
    print("that is incorrect")
print("That is correct")