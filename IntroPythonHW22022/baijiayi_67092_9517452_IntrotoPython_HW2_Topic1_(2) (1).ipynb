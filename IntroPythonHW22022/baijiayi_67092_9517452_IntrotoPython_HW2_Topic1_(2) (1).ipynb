{
  "nbformat": 4,
  "nbformat_minor": 0,
  "metadata": {
    "colab": {
      "name": "IntrotoPython_HW2_Topic1 (2).ipynb",
      "provenance": []
    },
    "kernelspec": {
      "name": "python3",
      "display_name": "Python 3"
    },
    "language_info": {
      "name": "python"
    }
  },
  "cells": [
    {
      "cell_type": "markdown",
      "source": [
        "# Comprehensions"
      ],
      "metadata": {
        "id": "H69HHYvqGdwu"
      }
    },
    {
      "cell_type": "code",
      "source": [
        "# Comprehension Function 1\n",
        "# I am not asking you to write a function, just code, similar to chatbot\\\n",
        "\n",
        "# Using a list comprehension remove all the vowels in a string \n",
        "\n",
        "\n",
        "string = \"abc\"\n",
        "for x in string:\n",
        "  if x in \"aeiouAEIOU\":\n",
        "    result = string.replace(x,\"\")\n",
        "result\n",
        "\n",
        "result = [string.replace(x,\"\") for x in string if x in \"aeiouAEIOU\"]\n",
        "result[0]\n",
        "\n"
      ],
      "metadata": {
        "id": "bICDe4hIG4YH",
        "colab": {
          "base_uri": "https://localhost:8080/",
          "height": 35
        },
        "outputId": "ef2613c2-3421-4813-8525-f8398d60d767"
      },
      "execution_count": 51,
      "outputs": [
        {
          "output_type": "execute_result",
          "data": {
            "text/plain": [
              "'bc'"
            ],
            "application/vnd.google.colaboratory.intrinsic+json": {
              "type": "string"
            }
          },
          "metadata": {},
          "execution_count": 51
        }
      ]
    },
    {
      "cell_type": "code",
      "source": [
        "# Comprehension Function 2\n",
        "# I am not asking you to write a function, just code, similar to chatbot\n",
        "\n",
        "sentence = [\"good\",\"morning\"]\n",
        "result = {word:len(word) for word in sentence}\n",
        "result\n",
        "\n",
        "# Using a dictionary comprehension to count the length of each word in a sentence"
      ],
      "metadata": {
        "id": "Iy0d8WXHHATS",
        "colab": {
          "base_uri": "https://localhost:8080/"
        },
        "outputId": "dddbfa8b-1786-46ab-a3b7-44f0cf9a7f05"
      },
      "execution_count": null,
      "outputs": [
        {
          "output_type": "execute_result",
          "data": {
            "text/plain": [
              "{'good': 4, 'morning': 7}"
            ]
          },
          "metadata": {},
          "execution_count": 64
        }
      ]
    },
    {
      "cell_type": "code",
      "source": [
        "# Comprehension Function 3\n",
        "# I am not asking you to write a function, just code, similar to chatbot\n",
        "\n",
        "\n",
        "# Use a nested list comprehension to find all of the numbers \n",
        "# from 1–2000 that are divisible by any single digit besides 1 ( so just 2–9)\n",
        "\n",
        "result = [num for num in range(1,2000) if True in [True for x in range(2,10) if num % x == 0]]\n",
        "result\n",
        "\n"
      ],
      "metadata": {
        "id": "NBqRYB3sHKNu"
      },
      "execution_count": null,
      "outputs": []
    },
    {
      "cell_type": "code",
      "source": [
        "# Comprehension Function 3\n",
        "\n",
        "# Find all of the numbers from 1–2000 that have a 6 in them\n",
        "\n",
        "result = [i for i in range(1,2000) if str(6) in str(i)]\n",
        "result\n"
      ],
      "metadata": {
        "id": "SY10qd2lHaYS"
      },
      "execution_count": null,
      "outputs": []
    },
    {
      "cell_type": "code",
      "source": [
        "# Comprehension Function 4\n",
        "\n",
        "# Write a function that takes in a string\n",
        "# and returns a list of all the words in that string that are less than 5 letters\n",
        "\n",
        "list = [\"hellow\",\"how\",\"are\",\"you\"]\n",
        "result = [word for word in list if len(word)<5]\n",
        "result\n",
        "\n",
        "\n"
      ],
      "metadata": {
        "id": "PN7LVmvzHiqT",
        "colab": {
          "base_uri": "https://localhost:8080/"
        },
        "outputId": "dc57980a-0ea1-48e6-8771-18d88263b5f2"
      },
      "execution_count": null,
      "outputs": [
        {
          "output_type": "execute_result",
          "data": {
            "text/plain": [
              "['how', 'are', 'you']"
            ]
          },
          "metadata": {},
          "execution_count": 97
        }
      ]
    },
    {
      "cell_type": "markdown",
      "metadata": {
        "id": "ZqKBeHFl_Wvg"
      },
      "source": [
        "# Working with sets\n",
        "**Hint** Take a look at the `set` function in Python, the `set` data type, and built-in `set` methods."
      ]
    },
    {
      "cell_type": "code",
      "execution_count": null,
      "metadata": {
        "id": "DSNyD3wq_Wvg"
      },
      "outputs": [],
      "source": [
        "# Example set function usage\n",
        "print(set(\"kiwi\"))\n",
        "print(set([1, 2, 2, 3, 3, 3, 4, 4, 4, 4]))"
      ]
    },
    {
      "cell_type": "code",
      "execution_count": null,
      "metadata": {
        "id": "NQnVLnIw_Wvg",
        "colab": {
          "base_uri": "https://localhost:8080/"
        },
        "outputId": "b9023272-b7ac-4061-b0b3-e48bea311304"
      },
      "outputs": [
        {
          "output_type": "stream",
          "name": "stdout",
          "text": [
            "Exercise 83 is correct.\n"
          ]
        }
      ],
      "source": [
        "# Exercise 83\n",
        "# Write a function definition named get_unique_values that takes in a list and returns a set with only the unique values from that list.\n",
        "def get_unique_values(list):\n",
        "  return set(list)\n",
        "\n",
        "\n",
        "\n",
        "assert get_unique_values([\"ant\", \"ant\", \"mosquito\", \"mosquito\", \"ladybug\"]) == {\"ant\", \"mosquito\", \"ladybug\"}\n",
        "assert get_unique_values([\"b\", \"a\", \"n\", \"a\", \"n\", \"a\", \"s\"]) == {\"b\", \"a\", \"n\", \"s\"}\n",
        "assert get_unique_values([\"mary\", \"had\", \"a\", \"little\", \"lamb\", \"little\", \"lamb\", \"little\", \"lamb\"]) == {\"mary\", \"had\", \"a\", \"little\", \"lamb\"}\n",
        "print(\"Exercise 83 is correct.\")"
      ]
    },
    {
      "cell_type": "code",
      "execution_count": null,
      "metadata": {
        "id": "L0YnWAxw_Wvh",
        "colab": {
          "base_uri": "https://localhost:8080/"
        },
        "outputId": "b8b434a9-d975-4c74-acc0-9f6053b13fc5"
      },
      "outputs": [
        {
          "output_type": "stream",
          "name": "stdout",
          "text": [
            "Exercise 84 is correct.\n"
          ]
        }
      ],
      "source": [
        "# Exercise 84\n",
        "# Write a function definition named get_unique_values_from_two_lists that takes two lists and returns a single set with only the unique values\n",
        "\n",
        "def get_unique_values_from_two_lists(list1,list2):\n",
        "  return set(list1 + list2)\n",
        "\n",
        "\n",
        "assert get_unique_values_from_two_lists([5, 1, 2, 3], [3, 4, 5, 5]) == {1, 2, 3, 4, 5}\n",
        "assert get_unique_values_from_two_lists([1, 1], [2, 2, 3]) == {1, 2, 3}\n",
        "assert get_unique_values_from_two_lists([\"tomato\", \"mango\", \"kiwi\"], [\"eggplant\", \"tomato\", \"broccoli\"]) == {\"tomato\", \"mango\", \"kiwi\", \"eggplant\", \"broccoli\"}\n",
        "print(\"Exercise 84 is correct.\")"
      ]
    },
    {
      "cell_type": "code",
      "execution_count": null,
      "metadata": {
        "id": "6T7Xndxr_Wvh",
        "colab": {
          "base_uri": "https://localhost:8080/"
        },
        "outputId": "83bcefba-27ef-4f64-c4fd-6b5e57866ab0"
      },
      "outputs": [
        {
          "output_type": "stream",
          "name": "stdout",
          "text": [
            "Exercise 85 is correct.\n"
          ]
        }
      ],
      "source": [
        "# Exercise 85\n",
        "# Write a function definition named get_values_in_common that takes two lists and returns a single set with the values that each list has in common\n",
        "\n",
        "def get_values_in_common(list1,list2):\n",
        "  result = set()\n",
        "  for x in list1:\n",
        "    if x in list2:\n",
        "      result.add(x)\n",
        "  return result\n",
        "\n",
        "def get_values_in_common(list1, list2):\n",
        "  return (set(list1).intersection(list2))\n",
        "\n",
        "\n",
        "assert get_values_in_common([5, 1, 2, 3], [3, 4, 5, 5]) == {3, 5}\n",
        "assert get_values_in_common([1, 2], [2, 2, 3]) == {2}\n",
        "assert get_values_in_common([\"tomato\", \"mango\", \"kiwi\"], [\"eggplant\", \"tomato\", \"broccoli\"]) == {\"tomato\"}\n",
        "print(\"Exercise 85 is correct.\")"
      ]
    },
    {
      "cell_type": "code",
      "execution_count": null,
      "metadata": {
        "id": "hLDiNZL8_Wvh",
        "colab": {
          "base_uri": "https://localhost:8080/"
        },
        "outputId": "4a6a75fe-6c9c-41bc-8435-e7ddb58dae09"
      },
      "outputs": [
        {
          "output_type": "stream",
          "name": "stdout",
          "text": [
            "Exercise 86 is correct.\n"
          ]
        }
      ],
      "source": [
        "# Exercise 86\n",
        "# Write a function definition named get_values_not_in_common that takes two lists and returns a single set with the values that each list does not have in common\n",
        "\n",
        "def get_values_not_in_common(list1,list2):\n",
        "  return (set(list1).symmetric_difference(list2))\n",
        "\n",
        "assert get_values_not_in_common([5, 1, 2, 3], [3, 4, 5, 5]) == {1, 2, 4}\n",
        "assert get_values_not_in_common([1, 1], [2, 2, 3]) == {1, 2, 3}\n",
        "assert get_values_not_in_common([\"tomato\", \"mango\", \"kiwi\"], [\"eggplant\", \"tomato\", \"broccoli\"]) == {\"mango\", \"kiwi\", \"eggplant\", \"broccoli\"}\n",
        "print(\"Exercise 86 is correct.\")"
      ]
    },
    {
      "cell_type": "markdown",
      "metadata": {
        "id": "XaAbM849_Wvh"
      },
      "source": [
        "# Working with Dictionaries\n"
      ]
    },
    {
      "cell_type": "code",
      "execution_count": null,
      "metadata": {
        "id": "TvrnkNUL_Wvh"
      },
      "outputs": [],
      "source": [
        "# Run this cell in order to have these two dictionary variables defined.\n",
        "tukey_paper = {\n",
        "    \"title\": \"The Future of Data Analysis\",\n",
        "    \"author\": \"John W. Tukey\",\n",
        "    \"link\": \"https://projecteuclid.org/euclid.aoms/1177704711\",\n",
        "    \"year_published\": 1962\n",
        "}\n",
        "\n",
        "thomas_paper = {\n",
        "    \"title\": \"A mathematical model of glutathione metabolism\",\n",
        "    \"author\": \"Rachel Thomas\",\n",
        "    \"link\": \"https://www.ncbi.nlm.nih.gov/pubmed/18442411\",\n",
        "    \"year_published\": 2008\n",
        "}"
      ]
    },
    {
      "cell_type": "code",
      "execution_count": null,
      "metadata": {
        "id": "sDTU3GuQ_Wvh",
        "colab": {
          "base_uri": "https://localhost:8080/"
        },
        "outputId": "5fa792f7-f518-488e-e200-c9f1891b2ab1"
      },
      "outputs": [
        {
          "output_type": "stream",
          "name": "stdout",
          "text": [
            "Exercise 87 is correct.\n"
          ]
        }
      ],
      "source": [
        "# Exercise 87\n",
        "# Write a function named get_paper_title that takes in a dictionary and returns the title property\n",
        "\n",
        "\n",
        "def get_paper_title(dic):\n",
        "  return dic[\"title\"]\n",
        "\n",
        "assert get_paper_title(tukey_paper) == \"The Future of Data Analysis\"\n",
        "assert get_paper_title(thomas_paper) == \"A mathematical model of glutathione metabolism\"\n",
        "print(\"Exercise 87 is correct.\")"
      ]
    },
    {
      "cell_type": "code",
      "execution_count": null,
      "metadata": {
        "id": "4cCJwlkB_Wvi",
        "colab": {
          "base_uri": "https://localhost:8080/"
        },
        "outputId": "c96b6a91-f15b-41c7-a4e3-f542da6b2c11"
      },
      "outputs": [
        {
          "output_type": "stream",
          "name": "stdout",
          "text": [
            "Exercise 88 is correct.\n"
          ]
        }
      ],
      "source": [
        "# Exercise 88\n",
        "# Write a function named get_year_published that takes in a dictionary and returns the value behind the \"year_published\" key.\n",
        "\n",
        "\n",
        "def get_year_published(dic):\n",
        "  return dic[\"year_published\"]\n",
        "\n",
        "\n",
        "assert get_year_published(tukey_paper) == 1962\n",
        "assert get_year_published(thomas_paper) == 2008\n",
        "print(\"Exercise 88 is correct.\")"
      ]
    },
    {
      "cell_type": "code",
      "execution_count": null,
      "metadata": {
        "id": "HS6XeXem_Wvi"
      },
      "outputs": [],
      "source": [
        "# Run this code to create data for the next two questions\n",
        "book = {\n",
        "    \"title\": \"Genetic Algorithms and Machine Learning for Programmers\",\n",
        "    \"price\": 36.99,\n",
        "    \"author\": \"Frances Buontempo\"\n",
        "}"
      ]
    },
    {
      "cell_type": "code",
      "execution_count": null,
      "metadata": {
        "id": "SNQ_j5IQ_Wvi",
        "colab": {
          "base_uri": "https://localhost:8080/"
        },
        "outputId": "342d2d56-c3b9-4bb9-8e47-56f7c5b7bd32"
      },
      "outputs": [
        {
          "output_type": "stream",
          "name": "stdout",
          "text": [
            "Exercise 89 is complete.\n"
          ]
        }
      ],
      "source": [
        "# Exercise 89\n",
        "# Write a function named get_price that takes in a dictionary and returns the price\n",
        "\n",
        "\n",
        "def get_price(dic):\n",
        "  return dic[\"price\"]\n",
        "\n",
        "\n",
        "assert get_price(book) == 36.99\n",
        "print(\"Exercise 89 is complete.\")"
      ]
    },
    {
      "cell_type": "code",
      "execution_count": null,
      "metadata": {
        "id": "v7m9g8up_Wvi",
        "colab": {
          "base_uri": "https://localhost:8080/"
        },
        "outputId": "fca64a7a-c524-49f7-e793-afd97944c087"
      },
      "outputs": [
        {
          "output_type": "stream",
          "name": "stdout",
          "text": [
            "Exercise 90 is complete.\n"
          ]
        }
      ],
      "source": [
        "# Exercise 90\n",
        "# Write a function named get_book_author that takes in a dictionary (the above declared book variable) and returns the author's name\n",
        "\n",
        "def get_book_author(dic):\n",
        "  return dic[\"author\"]\n",
        "\n",
        "assert get_book_author(book) == \"Frances Buontempo\"\n",
        "print(\"Exercise 90 is complete.\")"
      ]
    },
    {
      "cell_type": "markdown",
      "metadata": {
        "id": "mDsvY9tC_Wvi"
      },
      "source": [
        "# Working with Lists of Dictionaries\n",
        "**Hint** If you need an example of lists of dictionaries, see \n",
        "- [Getting Started With a List of Dictionaries](https://colab.research.google.com/github/ryanorsinger/list_of_dictionaries/blob/main/getting_started.ipynb)\n",
        "- [Practice Exercises for List of Dictionaries](https://colab.research.google.com/github/ryanorsinger/list_of_dictionaries/blob/main/exercises.ipynb)\n",
        "- [Companion Video](https://www.youtube.com/watch?v=pPdEahZgv8U)\n"
      ]
    },
    {
      "cell_type": "code",
      "execution_count": 2,
      "metadata": {
        "id": "4ni3zTIO_Wvj"
      },
      "outputs": [],
      "source": [
        "# Run this cell in order to have some setup data for the next exercises\n",
        "books = [\n",
        "    {\n",
        "        \"title\": \"Genetic Algorithms and Machine Learning for Programmers\",\n",
        "        \"price\": 36.99,\n",
        "        \"author\": \"Frances Buontempo\"\n",
        "    },\n",
        "    {\n",
        "        \"title\": \"The Visual Display of Quantitative Information\",\n",
        "        \"price\": 38.00,\n",
        "        \"author\": \"Edward Tufte\"\n",
        "    },\n",
        "    {\n",
        "        \"title\": \"Practical Object-Oriented Design\",\n",
        "        \"author\": \"Sandi Metz\",\n",
        "        \"price\": 30.47\n",
        "    },\n",
        "    {\n",
        "        \"title\": \"Weapons of Math Destruction\",\n",
        "        \"author\": \"Cathy O'Neil\",\n",
        "        \"price\": 17.44\n",
        "    }\n",
        "]"
      ]
    },
    {
      "cell_type": "code",
      "execution_count": null,
      "metadata": {
        "id": "3fnBL-BD_Wvj",
        "colab": {
          "base_uri": "https://localhost:8080/"
        },
        "outputId": "2fd9529d-8930-44e1-dbf9-e0a810059cda"
      },
      "outputs": [
        {
          "output_type": "stream",
          "name": "stdout",
          "text": [
            "Exercise 91 is complete.\n"
          ]
        }
      ],
      "source": [
        "# Exercise 91\n",
        "# Write a function named get_number_of_books that takes in a list of objects and returns the number of dictionaries in that list.\n",
        "\n",
        "def get_number_of_books(list):\n",
        "  return len(list)\n",
        "\n",
        "assert get_number_of_books(books) == 4\n",
        "print(\"Exercise 91 is complete.\")"
      ]
    },
    {
      "cell_type": "code",
      "execution_count": 37,
      "metadata": {
        "id": "QHgdGVHV_Wvj",
        "colab": {
          "base_uri": "https://localhost:8080/"
        },
        "outputId": "ee56f2ac-9a1d-4774-a686-174bcf8a6269"
      },
      "outputs": [
        {
          "output_type": "stream",
          "name": "stdout",
          "text": [
            "Exercise 92 is complete.\n"
          ]
        }
      ],
      "source": [
        "# Exercise 92\n",
        "# Write a function named total_of_book_prices that takes in a list of dictionaries and returns the sum total of all the book prices added together\n",
        "def total_of_book_prices(list):\n",
        "  total = 0\n",
        "  for i in list:\n",
        "    total += i['price']\n",
        "  return total\n",
        "\n",
        "\n",
        "def total_of_book_prices(list):\n",
        "  return sum([i['price'] for i in list])\n",
        "\n",
        "assert total_of_book_prices(books) == 122.9\n",
        "print(\"Exercise 92 is complete.\")"
      ]
    },
    {
      "cell_type": "code",
      "execution_count": 34,
      "metadata": {
        "id": "klSCtbep_Wvk",
        "colab": {
          "base_uri": "https://localhost:8080/"
        },
        "outputId": "52f5a4e9-bb14-46ee-80ae-60b0e1302bd0"
      },
      "outputs": [
        {
          "output_type": "stream",
          "name": "stdout",
          "text": [
            "Exercise 93 is complete.\n"
          ]
        }
      ],
      "source": [
        "# Exercise 93\n",
        "# Write a function named get_average_book_price that takes in a list of dictionaries and returns the average book price.\n",
        "\n",
        "def get_average_book_price(list):\n",
        "  total = 0\n",
        "  for i in list:\n",
        "    total += i['price']\n",
        "  return total/len(list)\n",
        "\n",
        "def get_average_book_price(list):\n",
        "  return sum([i['price'] for i in list])/len(list)\n",
        "  \n",
        "assert get_average_book_price(books) == 30.725\n",
        "print(\"Exercise 93 is complete.\")"
      ]
    },
    {
      "cell_type": "code",
      "execution_count": 42,
      "metadata": {
        "id": "85KDw_7H_Wvk",
        "colab": {
          "base_uri": "https://localhost:8080/"
        },
        "outputId": "e453622e-25b6-49f3-99cc-55f6fccaffa8"
      },
      "outputs": [
        {
          "output_type": "stream",
          "name": "stdout",
          "text": [
            "Exercise 94 is complete\n"
          ]
        }
      ],
      "source": [
        "# Exercise 94\n",
        "# Write a function called highest_price_book that takes in the above defined list of dictionaries \"books\" and returns the dictionary containing the title, price, and author of the book with the highest priced book.\n",
        "# Hint: Much like sometimes start functions with a variable set to zero, you may want to create a dictionary with the price set to zero to compare to each dictionary's price in the list\n",
        "\n",
        "def highest_price_book(list):\n",
        "  price = 0\n",
        "  for i in list:\n",
        "    if float(i[\"price\"]) >= price:\n",
        "      price = float(i[\"price\"])\n",
        "  for i in list:\n",
        "    if price == i[\"price\"]:\n",
        "      return i\n",
        "\n",
        "def highest_price_book(list):\n",
        "  return(max((i for i in list), key = lambda k: k['price']))\n",
        "\n",
        "assert highest_price_book(books) == {\n",
        "    \"title\": \"The Visual Display of Quantitative Information\",\n",
        "    \"price\": 38.00,\n",
        "    \"author\": \"Edward Tufte\"\n",
        "}\n",
        "\n",
        "print(\"Exercise 94 is complete\")"
      ]
    },
    {
      "cell_type": "code",
      "execution_count": 46,
      "metadata": {
        "id": "Hf1OahW0_Wvl",
        "colab": {
          "base_uri": "https://localhost:8080/"
        },
        "outputId": "fabfc90a-efa4-4185-f2db-92a8d1bf4b87"
      },
      "outputs": [
        {
          "output_type": "stream",
          "name": "stdout",
          "text": [
            "Exercise 95 is complete.\n"
          ]
        }
      ],
      "source": [
        "# Exercise 95\n",
        "# Write a function called lowest_priced_book that takes in the above defined list of dictionaries \"books\" and returns the dictionary containing the title, price, and author of the book with the lowest priced book.\n",
        "# Hint: Much like sometimes start functions with a variable set to zero or float('inf'), you may want to create a dictionary with the price set to float('inf') to compare to each dictionary in the list\n",
        "\n",
        "def highest_price_book(list):\n",
        "  price = 0\n",
        "  for i in list:\n",
        "    if float(i[\"price\"]) <= price:\n",
        "      price = float(i[\"price\"])\n",
        "  for i in list:\n",
        "    if price == i[\"price\"]:\n",
        "      return i\n",
        "\n",
        "def lowest_price_book(prices):\n",
        "  return(min((i for i in prices), key = lambda k: k['price']))\n",
        "\n",
        "assert lowest_price_book(books) == {\n",
        "    \"title\": \"Weapons of Math Destruction\",\n",
        "    \"author\": \"Cathy O'Neil\",\n",
        "    \"price\": 17.44\n",
        "}\n",
        "print(\"Exercise 95 is complete.\")"
      ]
    },
    {
      "cell_type": "code",
      "execution_count": null,
      "metadata": {
        "id": "bm2veYIT_Wvl"
      },
      "outputs": [],
      "source": [
        "shopping_cart = {\n",
        "    \"tax\": .08,\n",
        "    \"items\": [\n",
        "        {\n",
        "            \"title\": \"orange juice\",\n",
        "            \"price\": 3.99,\n",
        "            \"quantity\": 1\n",
        "        },\n",
        "        {\n",
        "            \"title\": \"rice\",\n",
        "            \"price\": 1.99,\n",
        "            \"quantity\": 3\n",
        "        },\n",
        "        {\n",
        "            \"title\": \"beans\",\n",
        "            \"price\": 0.99,\n",
        "            \"quantity\": 3\n",
        "        },\n",
        "        {\n",
        "            \"title\": \"chili sauce\",\n",
        "            \"price\": 2.99,\n",
        "            \"quantity\": 1\n",
        "        },\n",
        "        {\n",
        "            \"title\": \"chocolate\",\n",
        "            \"price\": 0.75,\n",
        "            \"quantity\": 9\n",
        "        }\n",
        "    ]\n",
        "}"
      ]
    },
    {
      "cell_type": "code",
      "execution_count": null,
      "metadata": {
        "id": "n4W0tBBa_Wvl",
        "colab": {
          "base_uri": "https://localhost:8080/"
        },
        "outputId": "49790f3b-1766-44ad-99f9-0c36a49a5c3a"
      },
      "outputs": [
        {
          "output_type": "stream",
          "name": "stdout",
          "text": [
            "Exercise 96 is complete\n"
          ]
        }
      ],
      "source": [
        "# Exercise 96\n",
        "# Write a function named get_tax_rate that takes in the above shopping cart as input and returns the tax rate.\n",
        "# Hint: How do you access a key's value on a dictionary? The tax rate is one key of the entire shopping_cart dictionary.\n",
        "\n",
        "def get_tax_rate(cart):\n",
        "  return cart[\"tax\"]\n",
        "\n",
        "assert get_tax_rate(shopping_cart) == .08\n",
        "print(\"Exercise 96 is complete\")"
      ]
    },
    {
      "cell_type": "code",
      "execution_count": null,
      "metadata": {
        "id": "mAdGJjId_Wvl",
        "colab": {
          "base_uri": "https://localhost:8080/"
        },
        "outputId": "9f04e1b2-b70c-4d72-fe02-b6413e6c45df"
      },
      "outputs": [
        {
          "output_type": "stream",
          "name": "stdout",
          "text": [
            "Exercise 97 is complete.\n"
          ]
        }
      ],
      "source": [
        "# Exercise 97\n",
        "# Write a function named number_of_item_types that takes in the shopping cart as input and returns the number of unique item types in the shopping cart. \n",
        "# We're not yet using the quantity of each item, but rather focusing on determining how many different types of items are in the cart.\n",
        "\n",
        "def number_of_item_types(cart):\n",
        "  return len('items')\n",
        "\n",
        "assert number_of_item_types(shopping_cart) == 5\n",
        "print(\"Exercise 97 is complete.\")"
      ]
    },
    {
      "cell_type": "code",
      "execution_count": null,
      "metadata": {
        "id": "h7OTsKND_Wvm",
        "colab": {
          "base_uri": "https://localhost:8080/"
        },
        "outputId": "7c0c5ea4-f550-4475-e223-43c1f95c9a5e"
      },
      "outputs": [
        {
          "output_type": "stream",
          "name": "stdout",
          "text": [
            "Exercise 99 is complete.\n"
          ]
        }
      ],
      "source": [
        "# Exercise 99\n",
        "# Write a function named get_average_item_price that takes in the shopping cart as an input and returns the average of all the item prices.\n",
        "# Hint - This should determine the total price divided by the number of types of items. This does not account for each item type's quantity.\n",
        "def get_average_item_price(cart):\n",
        "  items = 0\n",
        "  price = 0\n",
        "  for item in cart['items']:\n",
        "    items += 1\n",
        "    price += item['price']\n",
        "  return price/items\n",
        "\n",
        "\n",
        "assert get_average_item_price(shopping_cart) == 2.1420000000000003\n",
        "print(\"Exercise 99 is complete.\")"
      ]
    },
    {
      "cell_type": "code",
      "execution_count": null,
      "metadata": {
        "id": "5SReB-60_Wvo",
        "colab": {
          "base_uri": "https://localhost:8080/"
        },
        "outputId": "693e5292-8c0d-4d52-d6de-f4e293d8f35e"
      },
      "outputs": [
        {
          "output_type": "stream",
          "name": "stdout",
          "text": [
            "Exercise 100 is complete.\n"
          ]
        }
      ],
      "source": [
        "# Exercise 100\n",
        "# Write a function named get_average_spent_per_item that takes in the shopping cart and returns the average of summing each item's quanties times that item's price.\n",
        "# Hint: You may need to set an initial total price and total total quantity to zero, then sum up and divide that total price by the total quantity\n",
        "\n",
        "def get_average_spent_per_item(shopping_cart):\n",
        "  items = 0\n",
        "  price = 0\n",
        "  quant = 0\n",
        "  for item in shopping_cart['items']:\n",
        "    items += 1\n",
        "    item_price = item['price']\n",
        "    item_quant = item['quantity']\n",
        "    quant += item_quant\n",
        "    price += item_price * item_quant\n",
        "  return price / quant\n",
        "\n",
        "get_average_spent_per_item(shopping_cart)\n",
        "assert get_average_spent_per_item(shopping_cart) == 1.333529411764706\n",
        "print(\"Exercise 100 is complete.\")"
      ]
    },
    {
      "cell_type": "markdown",
      "source": [
        "# Miscellaneous Functions"
      ],
      "metadata": {
        "id": "okXx-79tIcJF"
      }
    },
    {
      "cell_type": "code",
      "source": [
        "# HW 2 Function 1: Combine Lists\n",
        "# Edit the function combine_lists so that it takes two lists (sequences) as input \n",
        "# and returns a new list containing all elements from both lists; the\n",
        "# elements of the first list, followed by the elements of the second list. \n",
        "# The original lists should not be modified. No \"for loops\"! \n",
        "\n",
        "first = [1,2,3]\n",
        "second = [4, 5, 6]\n",
        "third = [7,7,9]\n",
        "def combine_lists(first,second):\n",
        "  new_list = first + second\n",
        "  return new_list\n",
        "\n",
        "\n",
        "# uncomment this to check your work with the example lists\n",
        "# Extra Credit if you make your own example and assert to check it. \n",
        "# There are examples in the PDF that will also be provided\n",
        "assert combine_lists(first, second) == [1, 2, 3, 4, 5, 6]\n",
        "\n",
        "assert combine_lists(first, third) == [1, 2, 3, 7, 7, 9]\n",
        "assert combine_lists(second, third) == [4, 5, 6, 7, 7, 9]\n",
        "print(\"Exercise Function HW2 Function1 is complete.\")"
      ],
      "metadata": {
        "id": "M1dinsDFNB4Z",
        "colab": {
          "base_uri": "https://localhost:8080/"
        },
        "outputId": "3879efc2-4d7b-4776-8377-2d0268708ff9"
      },
      "execution_count": 12,
      "outputs": [
        {
          "output_type": "stream",
          "name": "stdout",
          "text": [
            "Exercise Function HW2 Function1 is complete.\n"
          ]
        }
      ]
    },
    {
      "cell_type": "code",
      "source": [
        "# Function 2: last_n_elements\n",
        "# Edit the function last_n_elements so that it uses a slice to return the last n items of a sequence. \n",
        "# The original sequence should not be modified. Do not use len() in your slice. \n",
        "# If you feel you need it, please review the lecture slides about slices.\n",
        "\n",
        "\n",
        "fruits = ['apples', 'grapes', 'peaches', 'apricots', 'bananas']\n",
        "def last_n_elements(sequence,n):\n",
        "  result = []\n",
        "  while n > 0:\n",
        "    result.append(sequence[-n])\n",
        "    n = n-1\n",
        "  return result\n",
        "# uncomment the asserts to check your work with the example list\n",
        "# Use the asserts as examples of how the code should work\n",
        "# Extra Credit if you make your own example and assert to check it. \n",
        "# There are examples in the PDF that will also be provided\n",
        "assert last_n_elements(fruits, 3) == ['peaches', 'apricots', 'bananas']\n",
        "assert last_n_elements(fruits, 1) == ['bananas']\n",
        "\n",
        "assert last_n_elements(fruits, 2) == ['apricots', 'bananas']\n",
        "assert last_n_elements(fruits, 4) == ['grapes', 'peaches', 'apricots', 'bananas', ]\n",
        "print(\"Exercise Function HW2 Function2 is complete.\")"
      ],
      "metadata": {
        "id": "_prNn2ifN5FZ",
        "colab": {
          "base_uri": "https://localhost:8080/"
        },
        "outputId": "4cac916e-9439-444c-a5ff-7f5a1be890fb"
      },
      "execution_count": 13,
      "outputs": [
        {
          "output_type": "stream",
          "name": "stdout",
          "text": [
            "Exercise Function HW2 Function2 is complete.\n"
          ]
        }
      ]
    },
    {
      "cell_type": "code",
      "source": [
        "# Function 3: power_list\n",
        "# Make the function power_list so that it accepts a list of numbers and returns a new list \n",
        "# that contains each number raised to the i-th power \n",
        "# where i is the index of that number in the given list.\n",
        "# Use a list comprehension.\n",
        "\n",
        "\n",
        "list1 = [2, 2, 2, 2, 2, 2]\n",
        "list2 = [9, 6, 5, 4]\n",
        "list3 = [3,5,2,1,4]\n",
        "def power_list(list):\n",
        "  newlist = [list[i]**i for i in range(len(list))]\n",
        "  return newlist\n",
        "\n",
        "\n",
        "\n",
        "# uncomment the asserts to check your work with the example list\n",
        "# Use the asserts as examples of how the code should work\n",
        "# Extra Credit if you make your own example and assert to check it. \n",
        "# There are examples in the PDF that will also be provided\n",
        "assert power_list(list1) == [1, 2, 4, 8, 16, 32]\n",
        "assert power_list(list2) == [1, 6, 25, 64]\n",
        "\n",
        "assert power_list(list3) == [1, 5, 4, 1, 256]\n",
        "print(\"Exercise Function HW2 Function3 is complete.\")"
      ],
      "metadata": {
        "id": "aADfuEcBO38w",
        "colab": {
          "base_uri": "https://localhost:8080/"
        },
        "outputId": "7c74e2e9-d770-45c6-d7fd-47bf21e6efb5"
      },
      "execution_count": 14,
      "outputs": [
        {
          "output_type": "stream",
          "name": "stdout",
          "text": [
            "Exercise Function HW2 Function3 is complete.\n"
          ]
        }
      ]
    },
    {
      "cell_type": "code",
      "source": [
        "# Function 4: rotate_list\n",
        "# Make the function rotate_list so that it removes the first item from a given list, \n",
        "# adds it to the end of the list, and returns the item that was moved.\n",
        "# No \"for loops\"!\n",
        "# Hint: Look through the documentation on sequence types (ie, lists) for methods that would be useful. Do not use del . \n",
        "\n",
        "\n",
        "numbers = [1, 2, 3, 4]\n",
        "numbers2 = [3, 4, 5, 6]\n",
        "def rotate_list(list):\n",
        "  num = list.pop(0)\n",
        "  list.append(num)\n",
        "  return num\n",
        "\n",
        "\n",
        "# uncomment the asserts to check your work with the example list\n",
        "# Use the asserts as examples of how the code should work\n",
        "# Extra Credit if you make your own example and assert to check it. \n",
        "# There are examples in the PDF that will also be provided\n",
        "assert rotate_list(numbers) == 1\n",
        "assert numbers == [2, 3, 4, 1]\n",
        "\n",
        "assert rotate_list(numbers2) == 3\n",
        "assert numbers2 == [4, 5, 6, 3]\n",
        "print(\"Exercise Function HW2 Function4 is complete.\")"
      ],
      "metadata": {
        "id": "ruZRCoFiP9P4",
        "colab": {
          "base_uri": "https://localhost:8080/"
        },
        "outputId": "55451d0e-cb7a-4f9e-9389-fc6819dd0a98"
      },
      "execution_count": 15,
      "outputs": [
        {
          "output_type": "stream",
          "name": "stdout",
          "text": [
            "Exercise Function HW2 Function4 is complete.\n"
          ]
        }
      ]
    },
    {
      "cell_type": "code",
      "source": [
        "# Function 5: get_word_codes \n",
        "# Edit the function get_word_codes so that it accepts a list of strings and returns a dictionary \n",
        "# containing the strings as keys and a list of corresponding character codes as values. \n",
        "# It should work on any strings. Use a dictionary comprehension.\n",
        "# Hint: Look through Python's built-in functions for a useful function to use for this.\n",
        "\n",
        "words = ['yes', 'no']\n",
        "words2 = ['hi', 'bye']\n",
        "def get_word_codes(words):\n",
        "  return {key : [ord(c) for c in key] for key in words}\n",
        "   \n",
        "\n",
        "# uncomment the asserts to check your work with the example list\n",
        "# Use the asserts as examples of how the code should work\n",
        "# Extra Credit if you make your own example and assert to check it. \n",
        "# There are examples in the PDF that will also be provided\n",
        "assert get_word_codes(words) == {'yes': [121, 101, 115], 'no':[110, 111]}\n",
        "\n",
        "assert get_word_codes(words2) == {'bye': [98, 121, 101], 'hi': [104, 105]}\n",
        "print(\"Exercise Function HW2 Function5 is complete.\")"
      ],
      "metadata": {
        "id": "M9KPyU3tSFSl",
        "colab": {
          "base_uri": "https://localhost:8080/"
        },
        "outputId": "26051370-7910-479c-af79-00079815e295"
      },
      "execution_count": 16,
      "outputs": [
        {
          "output_type": "stream",
          "name": "stdout",
          "text": [
            "Exercise Function HW2 Function5 is complete.\n"
          ]
        }
      ]
    },
    {
      "cell_type": "code",
      "source": [
        "# Function 6: words_containing\n",
        "# Given a sentence and a lowercase letter, \n",
        "# return a list of words from the sentence that contain the letter, \n",
        "# ignoring the case of the words in the sentence. \n",
        "# Look up methods on the str object to get a list of words from the sentence. \n",
        "# Then use a list comprehension to get the final list to return.\n",
        "\n",
        "\n",
        "sentence1 = \"Anyone who has never made a mistake has never tried anything new\"\n",
        "sentence2 = \"Hellow how are you\"\n",
        "def words_containing(sentence,letter):\n",
        "  list = sentence.split()\n",
        "  final_list = [x for x in list if letter in x or letter.upper() in x]\n",
        "  return final_list\n",
        "\n",
        "# uncomment the asserts to check your work with the example list\n",
        "# Use the asserts as examples of how the code should work\n",
        "# Extra Credit if you make your own example and assert to check it. \n",
        "# There are examples in the PDF that will also be provided\n",
        "assert words_containing(sentence1, 'a') == ['Anyone', 'has', 'made', 'a', 'mistake', 'has', 'anything']\n",
        "\n",
        "assert words_containing(sentence2, 'h') == ['Hellow', 'how']\n",
        "print(\"Exercise Function HW2 Function6 is complete.\")"
      ],
      "metadata": {
        "id": "CFTAbu72Tt9D",
        "colab": {
          "base_uri": "https://localhost:8080/"
        },
        "outputId": "a2eb9040-6d19-4f4e-93ff-e894a9c9116f"
      },
      "execution_count": 17,
      "outputs": [
        {
          "output_type": "stream",
          "name": "stdout",
          "text": [
            "Exercise Function HW2 Function6 is complete.\n"
          ]
        }
      ]
    },
    {
      "cell_type": "markdown",
      "source": [
        "\n",
        "\n",
        "```\n",
        "1 \n",
        "2 2 \n",
        "3 3 3 \n",
        "4 4 4 4 \n",
        "\n",
        "```\n",
        "\n"
      ],
      "metadata": {
        "id": "Bbtmn0AqDjVN"
      }
    },
    {
      "cell_type": "code",
      "source": [
        "# Function 7: Write a function to print the above output starting with the number taken as an arguemnt in the example it is 1\n",
        "def function(number):\n",
        "  for i in range(5):\n",
        "    for j in range(number,i+1):\n",
        "      print(i,end=\" \")\n",
        "    print()\n",
        "function(1)"
      ],
      "metadata": {
        "id": "Hk-aPIpMDIdI",
        "colab": {
          "base_uri": "https://localhost:8080/"
        },
        "outputId": "e80d0285-252e-4eab-93bd-e52d4d157fb3"
      },
      "execution_count": 18,
      "outputs": [
        {
          "output_type": "stream",
          "name": "stdout",
          "text": [
            "\n",
            "1 \n",
            "2 2 \n",
            "3 3 3 \n",
            "4 4 4 4 \n"
          ]
        }
      ]
    },
    {
      "cell_type": "markdown",
      "source": [
        "\n",
        "\n",
        "```\n",
        "Lion\n",
        "Deer\n",
        "Sheep\n",
        "Cub\n",
        "Fawn\n",
        "Lamb\n",
        "\n",
        "```\n",
        "\n"
      ],
      "metadata": {
        "id": "WaXyaVu8Euot"
      }
    },
    {
      "cell_type": "code",
      "source": [
        "# Function 8: nested_loops_print_items\n",
        "\n",
        "# Write a function that takes in a list of lists\n",
        "# and prints every item in every list once\n",
        "# it should look like the above output \n",
        "list = [[\"Lion\"], [\"Deer\"], [\"Sheep\"], [\"Cub\"], [\"Fawn\"], [\"Lamb\"]]\n",
        "def nested_loops_print_items(list):\n",
        "  for i in range(len(list)):\n",
        "    for j in range(len(list[i])):\n",
        "      print(list[i][j], end=' ')\n",
        "    print()\n",
        "nested_loops_print_items(list)\n",
        "\n"
      ],
      "metadata": {
        "id": "ITwDGOnYELWN",
        "colab": {
          "base_uri": "https://localhost:8080/"
        },
        "outputId": "0aec1f96-2dea-4614-9806-83be902effb2"
      },
      "execution_count": 19,
      "outputs": [
        {
          "output_type": "stream",
          "name": "stdout",
          "text": [
            "Lion \n",
            "Deer \n",
            "Sheep \n",
            "Cub \n",
            "Fawn \n",
            "Lamb \n"
          ]
        }
      ]
    },
    {
      "cell_type": "markdown",
      "source": [
        "# Classes"
      ],
      "metadata": {
        "id": "w5y0HId9gsa6"
      }
    },
    {
      "cell_type": "code",
      "source": [
        "# Class Function 1: Create a Point Class \n",
        "# Like a Point on a Line\n",
        "# Instructions Below\n",
        "\n",
        "\n",
        "# Name your Class Point\n",
        "# Initialize your class with two arguments x and y\n",
        "# Use the __init__ dunder method to initialize your class\n",
        "# Import any necessary libraries outside of your class\n",
        "# set a default point \n",
        "# make this default pint the origin (0,0)\n",
        "# Add an attribute call get_magnitude that returns the magnitude of the line between the origin (0,0) and your point(x,y)\n",
        "import math\n",
        "class Point:\n",
        "\n",
        "  def __init__(self, x, y):\n",
        "    self.x = x\n",
        "    self.y = y\n",
        "  def dist_to_point(self, Point):\n",
        "    distance = math.sqrt((self.x - Point.x) ** 2 + (self.y - Point.y) ** 2)\n",
        "    return distance\n",
        "\n",
        "p1 = Point(0, 0)\n",
        "p2 = Point(1, 2)\n",
        "\n",
        "distance = p1.dist_to_point(p2)\n",
        "\n",
        "print(distance)\n"
      ],
      "metadata": {
        "id": "DrrQg-9Ofik9",
        "colab": {
          "base_uri": "https://localhost:8080/"
        },
        "outputId": "c2590f5c-2808-4842-cb2b-4aa17fffabf0"
      },
      "execution_count": 29,
      "outputs": [
        {
          "output_type": "stream",
          "name": "stdout",
          "text": [
            "2.23606797749979\n"
          ]
        }
      ]
    },
    {
      "cell_type": "code",
      "source": [
        "# Class Function 2: Making a Bank Account Class \n",
        "\n",
        "# Name your class BankAccount\n",
        "# Initialize your class with zero arguments\n",
        "# In your initialization include a a self attribute for balance that shows it is equal to some amount (usually 0 but why be broke)\n",
        "# Include a welcoming print statement\n",
        "# In your initialization include a a self attribute to print the balance\n",
        "\n",
        "# add an attribute called deposit (should be a function) that takes in an argument called amount\n",
        "## inside deposit should be an attribute that adds the amount from the deposit argument and changes your balance\n",
        "## inside include a print statement with the amount deposited\n",
        "## inside deposit should be a self attribute to print the new  balance\n",
        "\n",
        "\n",
        "# add an attribute called withdraw (should be a function) that takes in an argument called amount\n",
        "## inside withdraw should be an attribute that adds the amount from the deposit argument and changes your balance\n",
        "## inside include a print statement with the amount withdrawn\n",
        "## inside withdraw should be a self attribute to print the new  balance\n",
        "## add functionality to test if the amount you are trying to withdraw is higher than the current balance\n",
        "\n",
        "# add an attribute called print_balance (should be a function) that takes in no arguments\n",
        "## inside print_balance should be an attribute that prints the balance\n",
        "\n",
        "\n",
        "class Bank_Account:\n",
        "  def __init__(self):\n",
        "        self.balance=0\n",
        "  def deposit(self):\n",
        "    amount=float(input(\"Enter amount to be Deposited: \"))\n",
        "    self.balance += amount\n",
        "    print(\"Amount Deposited:\",amount)\n",
        " \n",
        "  def withdraw(self):\n",
        "    amount = float(input(\"Enter amount to be Withdrawn: \"))\n",
        "    if self.balance>=amount:\n",
        "      self.balance-=amount\n",
        "      print(\"You Withdrew:\", amount)\n",
        "    else:\n",
        "      print(\"Insufficient balance\")\n",
        "\n",
        "  def print_balance(self):\n",
        "    print(\"Balance=\",self.balance)\n",
        "    \n",
        "  def __str__(self):\n",
        "    return 'Bank_Account(Balance=' + str(self.balance) + ')'\n",
        "\n",
        "  def __repr__(self):\n",
        "    return 'Bank_Account(Balance=' + str(self.balance) + ')'\n",
        "\n",
        "\n",
        "s = Bank_Account()\n",
        "\n",
        "s.deposit()\n",
        "s.withdraw()\n",
        "s.print_balance()\n",
        "\n",
        "# Look up the __str__ method\n",
        "## add an attribute called __str__ that returns a very clear print statement when you just call your class instance\n",
        "\n",
        "# Look up the __repr__ method\n",
        "## add an attribute called __repr__ that returns a very clear print statement when you just call your class instance\n",
        "\n",
        "print(s.__str__())\n",
        "print(s.__repr__())\n",
        "\n",
        "## which one of these is more necessary for Colab vs Replit\n",
        "\n",
        "\n"
      ],
      "metadata": {
        "id": "jNyKXjIBvSJp",
        "colab": {
          "base_uri": "https://localhost:8080/"
        },
        "outputId": "8478847d-b638-451d-8b4e-e0f3a0c2d578"
      },
      "execution_count": 23,
      "outputs": [
        {
          "output_type": "stream",
          "name": "stdout",
          "text": [
            "Enter amount to be Deposited: 10000\n",
            "Amount Deposited: 10000.0\n",
            "Enter amount to be Withdrawn: 1\n",
            "You Withdrew: 1.0\n",
            "Balance= 9999.0\n",
            "Bank_Account(Balance=9999.0)\n",
            "Bank_Account(Balance=9999.0)\n"
          ]
        }
      ]
    },
    {
      "cell_type": "code",
      "source": [
        "# Class Function 3: Making a Circle Class\n",
        "\n",
        "\n",
        "# Name your class Circle\n",
        "# Initialize your class with an argument called radius with a default value\n",
        "# Import any libraries you need outside your class\n",
        "# In your initialization include a self attribute for radius that is equal to your argument\n",
        "# In your initialization include a self attribute called area that is equal to the area of a circle\n",
        "\n",
        "\n",
        "# You should practice reassigning your radius values\n",
        "\n",
        "# Investigate the property decorator\n",
        "# Convert you area initialization property to an attribut and assign it a property decorator\n",
        "# Explain how this helps you\n",
        "# Add another attribute called diameter (with no arguments)and assign it a property decorator\n",
        "\n",
        "# You should try resetting your diameter\n",
        "\n",
        "# Edit your attribute diameter to include an argument\n",
        "# Add a property decorator called diameter.setter \n",
        "\n",
        "# Try resetting your diameter again\n",
        "\n",
        "class Circle():\n",
        "\n",
        "  def __init__(self, r):\n",
        "    self.radius = r \n",
        "\n",
        "  def area(self):\n",
        "    return self.radius**2*3.14\n",
        "    \n",
        "  def diameter(self):\n",
        "    return 2*self.radius\n",
        "\n",
        "NewCircle = Circle(8)\n",
        "print(NewCircle.area())\n",
        "print(NewCircle.diameter())\n",
        "\n",
        "\n",
        "\n"
      ],
      "metadata": {
        "id": "8oXON7iZvGV9",
        "colab": {
          "base_uri": "https://localhost:8080/"
        },
        "outputId": "47005446-8ec1-48e1-e9a6-052732f78028"
      },
      "execution_count": null,
      "outputs": [
        {
          "output_type": "stream",
          "name": "stdout",
          "text": [
            "200.96\n",
            "16\n"
          ]
        }
      ]
    },
    {
      "cell_type": "markdown",
      "source": [
        "# Inheritances\n",
        "\n",
        "Working with Super Classes and multiple inheritances\n",
        "\n",
        "Note: initialization steps are also sometimes called instructors"
      ],
      "metadata": {
        "id": "0w4rV5wH_jwv"
      }
    },
    {
      "cell_type": "code",
      "source": [
        "# Class Function 4: Inheritances\n",
        "\n",
        "\n",
        "# Name your class Base\n",
        "# Initialize your class with an argument called name\n",
        "\n",
        "# In your initialization include a self attribute name that is equal to your argument\n",
        "# Add an attribute called getName that returns the instance of name\n",
        "\n",
        "# Make an inherited class or sub class of Base called Child\n",
        "# Create a contrustor for you class/Initialize this class with two arguments: name and age\n",
        "# In your initialization include a self attribute age that is equal to your argument for age\n",
        "# Call your Parent class base then using the .__init__ function initalize the constructor from your parent class for name\n",
        "# Add an attribute called getAge that returns the instance of age\n",
        "\n",
        "# Make an inherited class or sub class of Child called Granchild\n",
        "# Create a contrustor for you class/Initialize this class with three arguments: name and age and address\n",
        "# In your initialization include a self attribute address that is equal to your argument for address\n",
        "# Call your Parent class Child then using the .__init__ function initalize the constructor from your parent class for name and age\n",
        "# Add an attribute called getAddress that returns the instance of address\n",
        "\n",
        "class Base:\n",
        "  def __init__(self, name):\n",
        "    self.name = name\n",
        "  def getName(self):\n",
        "    print(self.name)\n",
        "class Child(Base):\n",
        "  def __init__(self, name, age):\n",
        "    self.age = age\n",
        "  def getAge(self):\n",
        "    print(self.age)\n",
        "class GranChild(Child):\n",
        "  def __init__(self, name, age, address):\n",
        "    self.address = address\n",
        "  def getAddress(self):\n",
        "    print(self.address)\n",
        "\n",
        "x = Base(\"John\")\n",
        "y = Child(\"John\",\"10\")\n",
        "z = GranChild(\"John\",\"10\",\"place\")\n",
        "x.getName()\n",
        "y.getAge()\n",
        "z.getAddress()\n",
        "\n"
      ],
      "metadata": {
        "id": "FLpcwwqW_yq5",
        "colab": {
          "base_uri": "https://localhost:8080/"
        },
        "outputId": "3e4fce28-8a91-4f79-e72c-065a795b7f42"
      },
      "execution_count": 27,
      "outputs": [
        {
          "output_type": "stream",
          "name": "stdout",
          "text": [
            "John\n",
            "10\n",
            "place\n"
          ]
        }
      ]
    },
    {
      "cell_type": "markdown",
      "source": [
        "# Collections\n"
      ],
      "metadata": {
        "id": "ielHy1nF3ki2"
      }
    },
    {
      "cell_type": "code",
      "source": [
        "# Collections Function 1\n",
        "# Write a function to find the 10 most common words in a selected text\n",
        "# Import necessary libraries or collections\n",
        "\n",
        "from collections import Counter\n",
        "text = \"\"\"The Python Software Foundation (PSF) is a 501(c)(3) non-profit \n",
        "corporation that holds the intellectual property rights behind\n",
        "the Python programming language. We manage the open source licensing \n",
        "for Python version 2.1 and later and own and protect the trademarks \n",
        "associated with Python. We also run the North American PyCon conference \n",
        "annually, support other Python conferences around the world, and \n",
        "fund Python related development with our grants program and by funding \n",
        "special projects.\"\"\"\n",
        "\n",
        "def ten_most_common_words(text):\n",
        "  list = text.split()\n",
        "  Count = Counter(list)\n",
        "  most_occur = Count.most_common(10)\n",
        "  print (most_occur)\n",
        "ten_most_common_words(text)\n",
        "#assert ten_most_common_words(text) == [('the', 6), ('Python', 5), ('and', 5), ('We', 2), ('with', 2), ('The', 1), ('Software', 1), ('Foundation', 1), ('PSF', 1), ('is', 1)]\n"
      ],
      "metadata": {
        "id": "C-FZkGa93X16",
        "colab": {
          "base_uri": "https://localhost:8080/"
        },
        "outputId": "d22581ea-f33e-4961-827c-482cb5567742"
      },
      "execution_count": null,
      "outputs": [
        {
          "output_type": "stream",
          "name": "stdout",
          "text": [
            "[('the', 6), ('Python', 5), ('and', 5), ('We', 2), ('with', 2), ('The', 1), ('Software', 1), ('Foundation', 1), ('(PSF)', 1), ('is', 1)]\n"
          ]
        }
      ]
    },
    {
      "cell_type": "code",
      "source": [
        "# Collections Code 2\n",
        "# This is going to be a little different\n",
        "# I am not asking you to write a function, just code, similar to chatbot\n",
        "\n",
        "# Import necessary libraries or collections\n",
        "# Define a Movie tuple using namedtuple that accepts \n",
        "# a title, a director, a release year, and a budget. \n",
        "# Prompt the user(yourself in this case) to provide information for each of these fields \n",
        "# and create an instance of the Movie tuple you defined.\n",
        "\n",
        "from collections import namedtuple\n",
        "\n",
        "Movie = namedtuple(\"Movie\", [\"title\", \"director\", \"year\", \"budget\"])\n",
        "title = input(\"What is the title of the movie? \")\n",
        "director = input(\"Who directed it ? \")\n",
        "year = input(\"When was it released? \")\n",
        "budget = input(\"What was the budget for \" + title + \"? \")\n",
        "movie = Movie(title, director, year, budget)\n",
        "print (movie)"
      ],
      "metadata": {
        "id": "TiKKY8a04Pbh",
        "colab": {
          "base_uri": "https://localhost:8080/"
        },
        "outputId": "d675af69-a7df-4a43-9aaa-e6c9adeed2bb"
      },
      "execution_count": 25,
      "outputs": [
        {
          "output_type": "stream",
          "name": "stdout",
          "text": [
            "What is the title of the movie? 1000\n",
            "Who directed it ? 1\n",
            "When was it released? 1\n",
            "What was the budget for 1000? 1\n",
            "Movie(title='1000', director='1', year='1', budget='1')\n"
          ]
        }
      ]
    }
  ]
}