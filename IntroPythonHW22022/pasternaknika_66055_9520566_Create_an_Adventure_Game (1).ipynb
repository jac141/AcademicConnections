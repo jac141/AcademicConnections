{
  "nbformat": 4,
  "nbformat_minor": 0,
  "metadata": {
    "colab": {
      "name": "Create an Adventure Game.ipynb",
      "provenance": [],
      "collapsed_sections": []
    },
    "kernelspec": {
      "name": "python3",
      "display_name": "Python 3"
    },
    "language_info": {
      "name": "python"
    }
  },
  "cells": [
    {
      "cell_type": "code",
      "execution_count": 2,
      "metadata": {
        "colab": {
          "base_uri": "https://localhost:8080/"
        },
        "id": "8htXexw5rSWU",
        "outputId": "0d0d9026-c248-4c19-9956-6ac633fb09ff"
      },
      "outputs": [
        {
          "output_type": "stream",
          "name": "stdout",
          "text": [
            "Password Checker\n",
            "Please enter your password :Nika\n",
            "Sorry that is incorrect\n",
            "Enter password again :KuKu!@1928374650\n",
            "Success: You are correct\n"
          ]
        }
      ],
      "source": [
        "print(\"Password Checker\")\n",
        "good_pwd = \"KuKu!@1928374650\"\n",
        "good = False\n",
        "pwd = input(\"Please enter your password :\")\n",
        "\n",
        "while good == False:\n",
        "   if (pwd == good_pwd):\n",
        "      print(\"Success: You are correct\")\n",
        "      good = True\n",
        "   else:\n",
        "      print(\"Sorry that is incorrect\")\n",
        "      pwd = input(\"Enter password again :\")\n"
      ]
    },
    {
      "cell_type": "code",
      "source": [
        "count = 0\n",
        "num = int(input(\"Enter number you want to count by :\"))\n",
        "done = False\n",
        "\n",
        "while done == False:\n",
        "      res = input(\"Enter return to continue or q to quit: \")\n",
        "      if res == 'q':\n",
        "        done = True\n",
        "      else:\n",
        "        print(f\"{int(num*count)}\")\n",
        "        count += 1\n",
        "\n"
      ],
      "metadata": {
        "colab": {
          "base_uri": "https://localhost:8080/"
        },
        "id": "0-b0epm8rbUG",
        "outputId": "a83b2479-f002-4b34-fc2e-7d1135b92a82"
      },
      "execution_count": 3,
      "outputs": [
        {
          "name": "stdout",
          "output_type": "stream",
          "text": [
            "Enter number you want to count by :5\n",
            "Enter return to continue or q to quit: \n",
            "0\n",
            "Enter return to continue or q to quit: q\n"
          ]
        }
      ]
    }
  ]
}