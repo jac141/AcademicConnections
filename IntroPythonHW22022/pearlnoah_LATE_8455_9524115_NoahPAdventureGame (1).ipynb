{
  "nbformat": 4,
  "nbformat_minor": 0,
  "metadata": {
    "colab": {
      "name": "NoahPAdventureGame.ipynb",
      "provenance": []
    },
    "kernelspec": {
      "name": "python3",
      "display_name": "Python 3"
    },
    "language_info": {
      "name": "python"
    }
  },
  "cells": [
    {
      "cell_type": "code",
      "execution_count": null,
      "metadata": {
        "colab": {
          "base_uri": "https://localhost:8080/"
        },
        "id": "KGdhDcCDrLaN",
        "outputId": "7f67043b-9f22-4e35-cd90-fcd11245c729"
      },
      "outputs": [
        {
          "output_type": "stream",
          "name": "stdout",
          "text": [
            "Welcome to the Rocky Mountain Adventure Game\n",
            "********************************************\n",
            "You are visiting the Colorado Rocky Mountains.\n",
            "You decide to go for an evening hike into the mountains\n",
            "You can pick one item to take with you - \n",
            "map (m), flashlight (f), chocolate (c), rope (r), or sticks (s)\n",
            "What do you choose?: f\n",
            "You hear a humming sound.\n",
            "Do you follow the sound? Enter y or n: n\n",
            "Good idea. You are not taking risks.\n",
            "You start walking back to where you started.\n",
            "You realize you are LOST!\n",
            "The sound is behind you and is getting louder. You panic!\n",
            "What should you do next? Do you want to try and run (r), or make another call (c)?: r\n",
            "You are running as fast as you can. The sound gets really loud.\n",
            "You reach the side of the highway. It is dark.\n",
            "You use the flashlight to signal. A car stops and gives you a ride home. CONGRATULATIONS! You got out safely. You won the game.\n"
          ]
        }
      ],
      "source": [
        "print('Welcome to the Rocky Mountain Adventure Game')\n",
        "print('********************************************')\n",
        "print('You are visiting the Colorado Rocky Mountains.')\n",
        "print('You decide to go for an evening hike into the mountains')\n",
        "print('You can pick one item to take with you - ')\n",
        "print('map (m), flashlight (f), chocolate (c), rope (r), or sticks (s)')\n",
        "choice = input('What do you choose?: ')\n",
        "print('You hear a humming sound.')\n",
        "sound = input('Do you follow the sound? Enter y or n: ')\n",
        "if sound == 'y':\n",
        "  print('You keep moving closer to the sound.')\n",
        "  print('The sound suddenly stops.')\n",
        "  print('You are now LOST! ...')\n",
        "  print('You try to call on your phone, but there is no signal!')\n",
        "  print('Which direction should you try to go in?')\n",
        "  dir = input('East (e), South (s), West (w): ')\n",
        "  if dir == 'e':\n",
        "    print('You end up reaching an abandoned cabin.')\n",
        "    if choice == 'm':\n",
        "      print('You use the map and find your way home, and CONGRATULATIONS! You won the game.')\n",
        "    else:\n",
        "      print('If you had a map, you could find your way from here. --You are still lost. You lost the game.--')\n",
        "  elif dir == 's':\n",
        "    print('You reach a river with a broken bridge.')\n",
        "    if choice == 'r' or choice == 's':\n",
        "      print('You chose an item that can fix the bridge. You cross over and find your way home. CONGRATULATIONS! You won the game.')\n",
        "    else:\n",
        "      print('If you had a rope or sticks, you could cross the bridge. --You are still lost. You lost the game.--')\n",
        "  else:\n",
        "    print('You are walking west and trip over a fallen log, and now your foot is hurt. You sit down and wait for help. This could be a long time.\\n--You are still lost. You lost the game.--')\n",
        "else:\n",
        "  print('Good idea. You are not taking risks.')\n",
        "  print('You start walking back to where you started.')\n",
        "  print('You realize you are LOST!')\n",
        "  print('The sound is behind you and is getting louder. You panic!')\n",
        "  choice2 = input('What should you do next? Do you want to try and run (r), or make another call (c)?: ')\n",
        "  while choice2 == 'c':\n",
        "    print('During your call it suddenly fails!')\n",
        "    choice2 = input('What do you do next? (r) or (c): ')\n",
        "  print('You are running as fast as you can. The sound gets really loud.')\n",
        "  print('You reach the side of the highway. It is dark.')\n",
        "  if choice == 'f':\n",
        "    print('You use the flashlight to signal. A car stops and gives you a ride home. CONGRATULATIONS! You got out safely. You won the game.')\n",
        "  else:\n",
        "    print('If you had a flashlight, you could signal for help. --You are still lost. You lost the game.--')"
      ]
    },
    {
      "cell_type": "code",
      "source": [
        "#Experiment 1: Password checker\n",
        "\n",
        "def pass_check(realPw):\n",
        "  pw = input('What is your password?: ')\n",
        "  while pw != realPw:\n",
        "    print('Incorrect.')\n",
        "    pw = input('What is your password?: ')\n",
        "  print('Correct! Thank you.')\n",
        "\n",
        "pass_check('Mypassword1')"
      ],
      "metadata": {
        "colab": {
          "base_uri": "https://localhost:8080/"
        },
        "id": "tZ44nztVztuH",
        "outputId": "218c71d0-6b3b-435c-905b-53ac78765bd2"
      },
      "execution_count": null,
      "outputs": [
        {
          "output_type": "stream",
          "name": "stdout",
          "text": [
            "What is your password?: Noahspw\n",
            "Incorrect.\n",
            "Waht is your password?: 12345\n",
            "Incorrect.\n",
            "Waht is your password?: Mypassword1\n",
            "Correct! Thank you.\n"
          ]
        }
      ]
    },
    {
      "cell_type": "code",
      "source": [
        "#Experiment 2: Dog or Cat to Human Age Calculator\n",
        "\n",
        "def toHuman(pet, age):\n",
        "  print(f'Your pet is a {pet}, and it is {age} years old')\n",
        "  if pet == 'dog':\n",
        "    if age >= 1:\n",
        "      if age >= 2:\n",
        "        hAge = 24 + 4 * (age - 2)\n",
        "      else:\n",
        "        hAge = 12\n",
        "  else:\n",
        "    if age >= 1:\n",
        "      if age >= 2:\n",
        "        hAge = 24 + 4 * (age - 2)\n",
        "      else:\n",
        "        hAge = 12\n",
        "  print(f'In human years, your pet would be {hAge} years old')\n",
        "\n",
        "toHuman('dog', 6)\n",
        "toHuman('cat', 4)"
      ],
      "metadata": {
        "colab": {
          "base_uri": "https://localhost:8080/"
        },
        "id": "JLKApIbk0s_j",
        "outputId": "0cbe0e01-ecec-4095-a0be-461f6dce1431"
      },
      "execution_count": null,
      "outputs": [
        {
          "output_type": "stream",
          "name": "stdout",
          "text": [
            "Your pet is a dog, and it is 6 years old\n",
            "In human years, your pet would be 40 years old\n",
            "Your pet is a cat, and it is 4 years old\n",
            "In human years, your pet would be 32 years old\n"
          ]
        }
      ]
    },
    {
      "cell_type": "code",
      "source": [
        "#Experiment 3: Quiz Game\n",
        "score = 0\n",
        "questions = [\n",
        "'What is the name of my dog? ',\n",
        "'How many siblings do I have? ',\n",
        "'What is my middle name? ',\n",
        "'What is my favorite color? '\n",
        "]\n",
        "n = len(questions)\n",
        "answers = [\n",
        "'Mylo',\n",
        "2,\n",
        "'Samuel',\n",
        "'Blue'\n",
        "]\n",
        "for i in range(n):\n",
        "  answer = input(questions[i])\n",
        "  if answer == answers[i]:\n",
        "    print('Correct!')\n",
        "    score += 1\n",
        "  else:\n",
        "    print('Incorrect! The right answer is', answers[i])\n",
        "print(f'Your final score was {score} out of {n}')"
      ],
      "metadata": {
        "colab": {
          "base_uri": "https://localhost:8080/"
        },
        "id": "PFpPOcTGRbZS",
        "outputId": "c1b92ab7-42ad-4729-b1d0-7f39cbea3bfa"
      },
      "execution_count": 1,
      "outputs": [
        {
          "output_type": "stream",
          "name": "stdout",
          "text": [
            "What is the name of my dog? Mylo\n",
            "Correct!\n",
            "How many siblings do I have? 3\n",
            "Incorrect! The right answer is 2\n",
            "What is my middle name? Samuel\n",
            "Correct!\n",
            "What is my favorite color? Blue\n",
            "Correct!\n",
            "Your final score was 3 out of 4\n"
          ]
        }
      ]
    },
    {
      "cell_type": "code",
      "source": [
        "# Experiment 4: Count by multiples\n",
        "\n",
        "num = int(input('Enter number you want to count by: '))\n",
        "q = True\n",
        "num2 = 0\n",
        "while q == True:\n",
        "  next = input('Enter return to continue or q to quit: ')\n",
        "  if next == 'q':\n",
        "    q = False\n",
        "  else:\n",
        "    num2 += num\n",
        "    print(num2)"
      ],
      "metadata": {
        "colab": {
          "base_uri": "https://localhost:8080/"
        },
        "id": "SvObJWXoUi6o",
        "outputId": "8163e31a-c377-4049-8f45-13bfa1c5681e"
      },
      "execution_count": 4,
      "outputs": [
        {
          "name": "stdout",
          "output_type": "stream",
          "text": [
            "Enter number you want to count by: 7\n",
            "Enter return to continue or q to quit: \n",
            "7\n",
            "Enter return to continue or q to quit: \n",
            "14\n",
            "Enter return to continue or q to quit: \n",
            "21\n",
            "Enter return to continue or q to quit: \n",
            "28\n",
            "Enter return to continue or q to quit: \n",
            "35\n",
            "Enter return to continue or q to quit: q\n"
          ]
        }
      ]
    }
  ]
}