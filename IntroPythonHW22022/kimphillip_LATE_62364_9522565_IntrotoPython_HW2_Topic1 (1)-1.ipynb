{
  "nbformat": 4,
  "nbformat_minor": 0,
  "metadata": {
    "colab": {
      "name": "IntrotoPython_HW2_Topic1.ipynb",
      "provenance": [],
      "collapsed_sections": []
    },
    "kernelspec": {
      "name": "python3",
      "display_name": "Python 3"
    },
    "language_info": {
      "name": "python"
    }
  },
  "cells": [
    {
      "cell_type": "markdown",
      "metadata": {
        "id": "ZqKBeHFl_Wvg"
      },
      "source": [
        "## Working with sets\n",
        "**Hint** Take a look at the `set` function in Python, the `set` data type, and built-in `set` methods."
      ]
    },
    {
      "cell_type": "code",
      "execution_count": null,
      "metadata": {
        "id": "DSNyD3wq_Wvg",
        "colab": {
          "base_uri": "https://localhost:8080/"
        },
        "outputId": "4df277c5-7ef5-4876-b6df-1b8f5ede8ee2"
      },
      "outputs": [
        {
          "output_type": "stream",
          "name": "stdout",
          "text": [
            "{'w', 'i', 'k'}\n",
            "{1, 2, 3, 4}\n"
          ]
        }
      ],
      "source": [
        "# Example set function usage\n",
        "print(set(\"kiwi\"))\n",
        "print(set([1, 2, 2, 3, 3, 3, 4, 4, 4, 4]))"
      ]
    },
    {
      "cell_type": "code",
      "execution_count": null,
      "metadata": {
        "id": "NQnVLnIw_Wvg",
        "colab": {
          "base_uri": "https://localhost:8080/"
        },
        "outputId": "9c482674-376a-4cbf-b011-2a8758886bcc"
      },
      "outputs": [
        {
          "output_type": "stream",
          "name": "stdout",
          "text": [
            "Exercise 83 is correct.\n"
          ]
        }
      ],
      "source": [
        "import numpy as np\n",
        " \n",
        "# Exercise 83\n",
        "# Write a function definition named get_unique_values that takes in a list and returns a set with only the unique values from that list.\n",
        "\n",
        "def get_unique_values(list):\n",
        "  return set(list)\n",
        "\n",
        "assert get_unique_values([\"ant\", \"ant\", \"mosquito\", \"mosquito\", \"ladybug\"]) == {\"ant\", \"mosquito\", \"ladybug\"}\n",
        "assert get_unique_values([\"b\", \"a\", \"n\", \"a\", \"n\", \"a\", \"s\"]) == {\"b\", \"a\", \"n\", \"s\"}\n",
        "assert get_unique_values([\"mary\", \"had\", \"a\", \"little\", \"lamb\", \"little\", \"lamb\", \"little\", \"lamb\"]) == {\"mary\", \"had\", \"a\", \"little\", \"lamb\"}\n",
        "print(\"Exercise 83 is correct.\")"
      ]
    },
    {
      "cell_type": "code",
      "execution_count": null,
      "metadata": {
        "id": "L0YnWAxw_Wvh",
        "colab": {
          "base_uri": "https://localhost:8080/"
        },
        "outputId": "acd2dc9f-c179-4c48-db7b-f6d5fd1a6486"
      },
      "outputs": [
        {
          "output_type": "execute_result",
          "data": {
            "text/plain": [
              "{'broccoli', 'eggplant', 'kiwi', 'mango', 'tomato'}"
            ]
          },
          "metadata": {},
          "execution_count": 18
        }
      ],
      "source": [
        "# Exercise 84\n",
        "# Write a function definition named get_unique_values_from_two_lists that takes two lists and returns a single set with only the unique values\n",
        "\n",
        "def get_unique_values_from_two_lists(seq, seq1):\n",
        "  joined_list = seq + seq1\n",
        "  print(joined_list)\n",
        "\n",
        "get_unique_values_from_two_lists([5, 1, 2, 3], [3, 4, 5, 5])\n",
        "get_unique_values_from_two_lists([1, 1], [2, 2, 3]) \n",
        "get_unique_values_from_two_lists([\"tomato\", \"mango\", \"kiwi\"], [\"eggplant\", \"tomato\", \"broccoli\"])\n",
        "\n",
        "#assert get_unique_values_from_two_lists([5, 1, 2, 3], [3, 4, 5, 5]) == {1, 2, 3, 4, 5}\n",
        "#assert get_unique_values_from_two_lists([1, 1], [2, 2, 3]) == {1, 2, 3}\n",
        "#assert get_unique_values_from_two_lists([\"tomato\", \"mango\", \"kiwi\"], [\"eggplant\", \"tomato\", \"broccoli\"]) == {\"tomato\", \"mango\", \"kiwi\", \"eggplant\", \"broccoli\"}\n",
        "#print(\"Exercise 84 is correct.\")"
      ]
    },
    {
      "cell_type": "code",
      "execution_count": null,
      "metadata": {
        "id": "6T7Xndxr_Wvh",
        "colab": {
          "base_uri": "https://localhost:8080/"
        },
        "outputId": "d7844b1a-e6fa-4e97-fea1-a56e7da8eccb"
      },
      "outputs": [
        {
          "output_type": "stream",
          "name": "stdout",
          "text": [
            "Exercise 85 is correct.\n"
          ]
        }
      ],
      "source": [
        "# Exercise 85\n",
        "# Write a function definition named get_values_in_common that takes two lists and returns a single set with the values that each list has in common\n",
        "def get_values_in_common(list1,list2): \n",
        "    real1 = set(list1)\n",
        "    real2 = set(list2)\n",
        "    # find the missing string in the list and add it to new list \"new\" \n",
        "    return real1.intersection(real2)\n",
        "\n",
        "\n",
        "assert get_values_in_common([5, 1, 2, 3], [3, 4, 5, 5]) == {3, 5}\n",
        "assert get_values_in_common([1, 2], [2, 2, 3]) == {2}\n",
        "assert get_values_in_common([\"tomato\", \"mango\", \"kiwi\"], [\"eggplant\", \"tomato\", \"broccoli\"]) == {\"tomato\"}\n",
        "print(\"Exercise 85 is correct.\")"
      ]
    },
    {
      "cell_type": "code",
      "execution_count": null,
      "metadata": {
        "id": "hLDiNZL8_Wvh",
        "colab": {
          "base_uri": "https://localhost:8080/"
        },
        "outputId": "1fa802e8-fb0a-4760-d950-a6ee7d740cb1"
      },
      "outputs": [
        {
          "output_type": "stream",
          "name": "stdout",
          "text": [
            "Exercise 86 is correct.\n"
          ]
        }
      ],
      "source": [
        "# Exercise 86\n",
        "# Write a function definition named get_values_not_in_common that takes two lists and returns a single set with the values that each list does not have in common\n",
        "def get_values_not_in_common(list1,list2): \n",
        "    real1 = set(list1)\n",
        "    real2 = set(list2)\n",
        "    # find the missing string in the list and add it to new list \"new\" \n",
        "    return real1.symmetric_difference(real2)\n",
        "    \n",
        "\n",
        "\n",
        "assert get_values_not_in_common([5, 1, 2, 3], [3, 4, 5, 5]) == {1, 2, 4}\n",
        "assert get_values_not_in_common([1, 1], [2, 2, 3]) == {1, 2, 3}\n",
        "assert get_values_not_in_common([\"tomato\", \"mango\", \"kiwi\"], [\"eggplant\", \"tomato\", \"broccoli\"]) == {\"mango\", \"kiwi\", \"eggplant\", \"broccoli\"}\n",
        "print(\"Exercise 86 is correct.\")"
      ]
    },
    {
      "cell_type": "markdown",
      "metadata": {
        "id": "XaAbM849_Wvh"
      },
      "source": [
        "## Working with Dictionaries\n"
      ]
    },
    {
      "cell_type": "code",
      "execution_count": null,
      "metadata": {
        "id": "TvrnkNUL_Wvh"
      },
      "outputs": [],
      "source": [
        "# Run this cell in order to have these two dictionary variables defined.\n",
        "tukey_paper = {\n",
        "    \"title\": \"The Future of Data Analysis\",\n",
        "    \"author\": \"John W. Tukey\",\n",
        "    \"link\": \"https://projecteuclid.org/euclid.aoms/1177704711\",\n",
        "    \"year_published\": 1962\n",
        "}\n",
        "\n",
        "thomas_paper = {\n",
        "    \"title\": \"A mathematical model of glutathione metabolism\",\n",
        "    \"author\": \"Rachel Thomas\",\n",
        "    \"link\": \"https://www.ncbi.nlm.nih.gov/pubmed/18442411\",\n",
        "    \"year_published\": 2008\n",
        "}"
      ]
    },
    {
      "cell_type": "code",
      "execution_count": null,
      "metadata": {
        "id": "sDTU3GuQ_Wvh",
        "colab": {
          "base_uri": "https://localhost:8080/"
        },
        "outputId": "bef9889f-a933-4683-d90b-01e5107bd758"
      },
      "outputs": [
        {
          "output_type": "stream",
          "name": "stdout",
          "text": [
            "Exercise 87 is correct.\n"
          ]
        }
      ],
      "source": [
        "# Exercise 87\n",
        "# Write a function named get_paper_title that takes in a dictionary and returns the title property\n",
        "\n",
        "#There is an access method and a function method. you can make another cell and try both. \n",
        "\n",
        "def get_paper_title(title):\n",
        "  return (title[\"title\"])\n",
        "\n",
        "assert get_paper_title(tukey_paper) == \"The Future of Data Analysis\"\n",
        "assert get_paper_title(thomas_paper) == \"A mathematical model of glutathione metabolism\"\n",
        "print(\"Exercise 87 is correct.\")"
      ]
    },
    {
      "cell_type": "code",
      "execution_count": null,
      "metadata": {
        "id": "4cCJwlkB_Wvi",
        "colab": {
          "base_uri": "https://localhost:8080/"
        },
        "outputId": "9c20c91d-cec1-47ed-dc79-c3c66fec3dae"
      },
      "outputs": [
        {
          "output_type": "stream",
          "name": "stdout",
          "text": [
            "Exercise 88 is correct.\n"
          ]
        }
      ],
      "source": [
        "# Exercise 88\n",
        "# Write a function named get_year_published that takes in a dictionary and returns the value behind the \"year_published\" key.\n",
        "def get_year_published(year):\n",
        "  return (year[\"year_published\"])\n",
        "\n",
        "assert get_year_published(tukey_paper) == 1962\n",
        "assert get_year_published(thomas_paper) == 2008\n",
        "print(\"Exercise 88 is correct.\")"
      ]
    },
    {
      "cell_type": "code",
      "execution_count": null,
      "metadata": {
        "id": "HS6XeXem_Wvi"
      },
      "outputs": [],
      "source": [
        "# Run this code to create data for the next two questions\n",
        "book = {\n",
        "    \"title\": \"Genetic Algorithms and Machine Learning for Programmers\",\n",
        "    \"price\": 36.99,\n",
        "    \"author\": \"Frances Buontempo\"\n",
        "}"
      ]
    },
    {
      "cell_type": "code",
      "execution_count": null,
      "metadata": {
        "id": "SNQ_j5IQ_Wvi",
        "colab": {
          "base_uri": "https://localhost:8080/"
        },
        "outputId": "a0a57fee-97fd-4de5-883b-ccf6b86e4fc2"
      },
      "outputs": [
        {
          "output_type": "stream",
          "name": "stdout",
          "text": [
            "Exercise 89 is complete.\n"
          ]
        }
      ],
      "source": [
        "# Exercise 89\n",
        "# Write a function named get_price that takes in a dictionary and returns the price\n",
        "def get_price(price):\n",
        "  return (price[\"price\"])\n",
        "\n",
        "assert get_price(book) == 36.99\n",
        "print(\"Exercise 89 is complete.\")"
      ]
    },
    {
      "cell_type": "code",
      "execution_count": null,
      "metadata": {
        "id": "v7m9g8up_Wvi",
        "colab": {
          "base_uri": "https://localhost:8080/"
        },
        "outputId": "aa7eaead-548d-4d2b-8339-bee54c9c58b2"
      },
      "outputs": [
        {
          "output_type": "stream",
          "name": "stdout",
          "text": [
            "Exercise 90 is complete.\n"
          ]
        }
      ],
      "source": [
        "# Exercise 90\n",
        "# Write a function named get_book_author that takes in a dictionary (the above declared book variable) and returns the author's name\n",
        "def get_book_author(auth):\n",
        "  return (auth[\"author\"])\n",
        "\n",
        "\n",
        "assert get_book_author(book) == \"Frances Buontempo\"\n",
        "print(\"Exercise 90 is complete.\")"
      ]
    },
    {
      "cell_type": "markdown",
      "metadata": {
        "id": "mDsvY9tC_Wvi"
      },
      "source": [
        "## Working with Lists of Dictionaries\n",
        "**Hint** If you need an example of lists of dictionaries, see \n",
        "- [Getting Started With a List of Dictionaries](https://colab.research.google.com/github/ryanorsinger/list_of_dictionaries/blob/main/getting_started.ipynb)\n",
        "- [Practice Exercises for List of Dictionaries](https://colab.research.google.com/github/ryanorsinger/list_of_dictionaries/blob/main/exercises.ipynb)\n",
        "- [Companion Video](https://www.youtube.com/watch?v=pPdEahZgv8U)\n"
      ]
    },
    {
      "cell_type": "code",
      "execution_count": null,
      "metadata": {
        "id": "4ni3zTIO_Wvj"
      },
      "outputs": [],
      "source": [
        "# Run this cell in order to have some setup data for the next exercises\n",
        "books = [\n",
        "    {\n",
        "        \"title\": \"Genetic Algorithms and Machine Learning for Programmers\",\n",
        "        \"price\": 36.99,\n",
        "        \"author\": \"Frances Buontempo\"\n",
        "    },\n",
        "    {\n",
        "        \"title\": \"The Visual Display of Quantitative Information\",\n",
        "        \"price\": 38.00,\n",
        "        \"author\": \"Edward Tufte\"\n",
        "    },\n",
        "    {\n",
        "        \"title\": \"Practical Object-Oriented Design\",\n",
        "        \"author\": \"Sandi Metz\",\n",
        "        \"price\": 30.47\n",
        "    },\n",
        "    {\n",
        "        \"title\": \"Weapons of Math Destruction\",\n",
        "        \"author\": \"Cathy O'Neil\",\n",
        "        \"price\": 17.44\n",
        "    }\n",
        "]"
      ]
    },
    {
      "cell_type": "code",
      "execution_count": null,
      "metadata": {
        "id": "3fnBL-BD_Wvj",
        "colab": {
          "base_uri": "https://localhost:8080/"
        },
        "outputId": "351f1c46-b6c8-45a3-8e3a-7cac33229d23"
      },
      "outputs": [
        {
          "output_type": "stream",
          "name": "stdout",
          "text": [
            "Exercise 91 is complete.\n"
          ]
        }
      ],
      "source": [
        "# Exercise 91\n",
        "# Write a function named get_number_of_books that takes in a list of objects and returns the number of dictionaries in that list.\n",
        "\n",
        "def get_number_of_books(diction):\n",
        "  counter = 0\n",
        "  for d in diction:\n",
        "    counter += 1\n",
        "  return counter\n",
        "\n",
        "\n",
        "assert get_number_of_books(books) == 4\n",
        "print(\"Exercise 91 is complete.\")"
      ]
    },
    {
      "cell_type": "code",
      "execution_count": null,
      "metadata": {
        "id": "QHgdGVHV_Wvj",
        "colab": {
          "base_uri": "https://localhost:8080/"
        },
        "outputId": "4e3b2613-6771-46f3-f4c5-9600e1cc21fa"
      },
      "outputs": [
        {
          "output_type": "stream",
          "name": "stdout",
          "text": [
            "Exercise 92 is complete.\n"
          ]
        }
      ],
      "source": [
        "# Exercise 92\n",
        "# Write a function named total_of_book_prices that takes in a list of dictionaries and returns the sum total of all the book prices added together\n",
        "\n",
        "def total_of_book_prices(diction):\n",
        "  spent_on_books = 0\n",
        "  for book in diction:\n",
        "    spent_on_books += book[\"price\"]\n",
        "  return spent_on_books\n",
        "\n",
        "assert total_of_book_prices(books) == 122.9\n",
        "print(\"Exercise 92 is complete.\")"
      ]
    },
    {
      "cell_type": "code",
      "execution_count": null,
      "metadata": {
        "id": "klSCtbep_Wvk",
        "colab": {
          "base_uri": "https://localhost:8080/"
        },
        "outputId": "f478f5b7-0f00-4496-ab3e-d8ddd88ec0c5"
      },
      "outputs": [
        {
          "output_type": "stream",
          "name": "stdout",
          "text": [
            "Exercise 93 is complete.\n"
          ]
        }
      ],
      "source": [
        "# Exercise 93\n",
        "# Write a function named get_average_book_price that takes in a list of dictionaries and returns the average book price.\n",
        "def get_average_book_price(diction):\n",
        "\n",
        "  counter = 0\n",
        "  for d in diction:\n",
        "    counter += 1\n",
        "  \n",
        "\n",
        "  spent_on_books = 0\n",
        "  for book in diction:\n",
        "    spent_on_books += book[\"price\"]\n",
        "\n",
        "  avg_price = spent_on_books / counter\n",
        "  return avg_price\n",
        "\n",
        "  \n",
        "\n",
        "assert get_average_book_price(books) == 30.725\n",
        "print(\"Exercise 93 is complete.\")"
      ]
    },
    {
      "cell_type": "code",
      "execution_count": null,
      "metadata": {
        "id": "85KDw_7H_Wvk",
        "colab": {
          "base_uri": "https://localhost:8080/"
        },
        "outputId": "c73b62d8-1a1d-4e39-8e20-036555834d0b"
      },
      "outputs": [
        {
          "output_type": "stream",
          "name": "stdout",
          "text": [
            "Exercise 94 is complete\n"
          ]
        }
      ],
      "source": [
        "# Exercise 94\n",
        "# Write a function called highest_price_book that takes in the above defined list of dictionaries \"books\" and returns the dictionary containing the title, price, and author of the book with the highest priced book.\n",
        "# Hint: Much like sometimes start functions with a variable set to zero, you may want to create a dictionary with the price set to zero to compare to each dictionary's price in the list\n",
        "\n",
        "def highest_price_book(bookss):\n",
        "\n",
        "  empty_list = []\n",
        "  for book in bookss:\n",
        "    empty_list.append(book[\"price\"])\n",
        "  maxval = max(empty_list)\n",
        "  maxvalindex = empty_list.index(maxval)\n",
        "  return bookss[maxvalindex]\n",
        "\n",
        "\n",
        "assert highest_price_book(books) == {\n",
        "    \"title\": \"The Visual Display of Quantitative Information\",\n",
        "    \"price\": 38.00,\n",
        "    \"author\": \"Edward Tufte\"\n",
        "}\n",
        "\n",
        "print(\"Exercise 94 is complete\")"
      ]
    },
    {
      "cell_type": "code",
      "execution_count": null,
      "metadata": {
        "id": "Hf1OahW0_Wvl",
        "colab": {
          "base_uri": "https://localhost:8080/"
        },
        "outputId": "4fa717e7-fccf-4f50-dea0-fa71724b5c44"
      },
      "outputs": [
        {
          "output_type": "stream",
          "name": "stdout",
          "text": [
            "Exercise 95 is complete.\n"
          ]
        }
      ],
      "source": [
        "# Exercise 95\n",
        "# Write a function called lowest_priced_book that takes in the above defined list of dictionaries \"books\" and returns the dictionary containing the title, price, and author of the book with the lowest priced book.\n",
        "# Hint: Much like sometimes start functions with a variable set to zero or float('inf'), you may want to create a dictionary with the price set to float('inf') to compare to each dictionary in the list\n",
        "def lowest_price_book(bookss):\n",
        "\n",
        "  empty_list = []\n",
        "  for book in bookss:\n",
        "    empty_list.append(book[\"price\"])\n",
        "  minval = min(empty_list)\n",
        "  minvalindex = empty_list.index(minval)\n",
        "  return bookss[minvalindex]\n",
        "\n",
        "\n",
        "\n",
        "assert lowest_price_book(books) == {\n",
        "    \"title\": \"Weapons of Math Destruction\",\n",
        "    \"author\": \"Cathy O'Neil\",\n",
        "    \"price\": 17.44\n",
        "}\n",
        "print(\"Exercise 95 is complete.\")"
      ]
    },
    {
      "cell_type": "code",
      "execution_count": null,
      "metadata": {
        "id": "bm2veYIT_Wvl"
      },
      "outputs": [],
      "source": [
        "shopping_cart = {\n",
        "    \"tax\": .08,\n",
        "    \"items\": [\n",
        "        {\n",
        "            \"title\": \"orange juice\",\n",
        "            \"price\": 3.99,\n",
        "            \"quantity\": 1\n",
        "        },\n",
        "        {\n",
        "            \"title\": \"rice\",\n",
        "            \"price\": 1.99,\n",
        "            \"quantity\": 3\n",
        "        },\n",
        "        {\n",
        "            \"title\": \"beans\",\n",
        "            \"price\": 0.99,\n",
        "            \"quantity\": 3\n",
        "        },\n",
        "        {\n",
        "            \"title\": \"chili sauce\",\n",
        "            \"price\": 2.99,\n",
        "            \"quantity\": 1\n",
        "        },\n",
        "        {\n",
        "            \"title\": \"chocolate\",\n",
        "            \"price\": 0.75,\n",
        "            \"quantity\": 9\n",
        "        }\n",
        "    ]\n",
        "}"
      ]
    },
    {
      "cell_type": "code",
      "execution_count": null,
      "metadata": {
        "id": "n4W0tBBa_Wvl",
        "colab": {
          "base_uri": "https://localhost:8080/"
        },
        "outputId": "3e33ceda-fab2-4cef-c467-35b77f277248"
      },
      "outputs": [
        {
          "output_type": "stream",
          "name": "stdout",
          "text": [
            "Exercise 96 is complete\n"
          ]
        }
      ],
      "source": [
        "# Exercise 96\n",
        "# Write a function named get_tax_rate that takes in the above shopping cart as input and returns the tax rate.\n",
        "# Hint: How do you access a key's value on a dictionary? The tax rate is one key of the entire shopping_cart dictionary.\n",
        "\n",
        "def get_tax_rate(tax):\n",
        "  return shopping_cart[\"tax\"]\n",
        "\n",
        "assert get_tax_rate(shopping_cart) == .08\n",
        "print(\"Exercise 96 is complete\")"
      ]
    },
    {
      "cell_type": "code",
      "execution_count": null,
      "metadata": {
        "id": "mAdGJjId_Wvl"
      },
      "outputs": [],
      "source": [
        "# Exercise 97\n",
        "# Write a function named number_of_item_types that takes in the shopping cart as input and returns the number of unique item types in the shopping cart. \n",
        "# We're not yet using the quantity of each item, but rather focusing on determining how many different types of items are in the cart.\n",
        "\n",
        "def number_of_item_types(diction):\n",
        "  counter = 0\n",
        "  for d in diction:\n",
        "    counter += 1\n",
        "  return counter\n",
        "\n",
        "assert number_of_item_types(shopping_cart) == 5\n",
        "print(\"Exercise 97 is complete.\")"
      ]
    },
    {
      "cell_type": "code",
      "execution_count": null,
      "metadata": {
        "id": "h7OTsKND_Wvm",
        "colab": {
          "base_uri": "https://localhost:8080/",
          "height": 356
        },
        "outputId": "11b1c4b9-0257-461f-c9ee-366512ef375b"
      },
      "outputs": [
        {
          "output_type": "error",
          "ename": "TypeError",
          "evalue": "ignored",
          "traceback": [
            "\u001b[0;31m---------------------------------------------------------------------------\u001b[0m",
            "\u001b[0;31mTypeError\u001b[0m                                 Traceback (most recent call last)",
            "\u001b[0;32m<ipython-input-57-d61863dc10a8>\u001b[0m in \u001b[0;36m<module>\u001b[0;34m()\u001b[0m\n\u001b[1;32m     14\u001b[0m   \u001b[0;32mreturn\u001b[0m \u001b[0mavgprice\u001b[0m\u001b[0;34m\u001b[0m\u001b[0;34m\u001b[0m\u001b[0m\n\u001b[1;32m     15\u001b[0m \u001b[0;34m\u001b[0m\u001b[0m\n\u001b[0;32m---> 16\u001b[0;31m \u001b[0mget_average_item_price\u001b[0m\u001b[0;34m(\u001b[0m\u001b[0mshopping_cart\u001b[0m\u001b[0;34m)\u001b[0m\u001b[0;34m\u001b[0m\u001b[0;34m\u001b[0m\u001b[0m\n\u001b[0m\u001b[1;32m     17\u001b[0m \u001b[0;31m#assert get_average_item_price(shopping_cart) == 2.1420000000000003\u001b[0m\u001b[0;34m\u001b[0m\u001b[0;34m\u001b[0m\u001b[0;34m\u001b[0m\u001b[0m\n\u001b[1;32m     18\u001b[0m \u001b[0;31m#print(\"Exercise 99 is complete.\")\u001b[0m\u001b[0;34m\u001b[0m\u001b[0;34m\u001b[0m\u001b[0;34m\u001b[0m\u001b[0m\n",
            "\u001b[0;32m<ipython-input-57-d61863dc10a8>\u001b[0m in \u001b[0;36mget_average_item_price\u001b[0;34m(items)\u001b[0m\n\u001b[1;32m      8\u001b[0m   \u001b[0;32mfor\u001b[0m \u001b[0mitem\u001b[0m \u001b[0;32min\u001b[0m \u001b[0mitems\u001b[0m\u001b[0;34m:\u001b[0m\u001b[0;34m\u001b[0m\u001b[0;34m\u001b[0m\u001b[0m\n\u001b[1;32m      9\u001b[0m \u001b[0;34m\u001b[0m\u001b[0m\n\u001b[0;32m---> 10\u001b[0;31m     \u001b[0mtotal_price\u001b[0m \u001b[0;34m=\u001b[0m \u001b[0mtotal_price\u001b[0m \u001b[0;34m+\u001b[0m \u001b[0mitem\u001b[0m\u001b[0;34m[\u001b[0m\u001b[0;34m\"price\"\u001b[0m\u001b[0;34m]\u001b[0m\u001b[0;34m\u001b[0m\u001b[0;34m\u001b[0m\u001b[0m\n\u001b[0m\u001b[1;32m     11\u001b[0m   \u001b[0mitemnum\u001b[0m \u001b[0;34m=\u001b[0m \u001b[0mlen\u001b[0m\u001b[0;34m(\u001b[0m\u001b[0mitems\u001b[0m\u001b[0;34m)\u001b[0m\u001b[0;34m\u001b[0m\u001b[0;34m\u001b[0m\u001b[0m\n\u001b[1;32m     12\u001b[0m \u001b[0;34m\u001b[0m\u001b[0m\n",
            "\u001b[0;31mTypeError\u001b[0m: string indices must be integers"
          ]
        }
      ],
      "source": [
        "\n",
        "# Exercise 99\n",
        "# Write a function named get_average_item_price that takes in the shopping cart as an input and returns the average of all the item prices.\n",
        "# Hint - This should determine the total price divided by the number of types of items. This does not account for each item type's quantity.\n",
        "def get_average_item_price(items):\n",
        "\n",
        "  empty_list = []\n",
        "  for item in items:\n",
        "    empty_list.append(item[\"price\"])\n",
        "  itemnum = len(empty_list)\n",
        "  totalprice = empty_list.add\n",
        "  avgprice = totalprice / itemnum\n",
        "  return avgprice\n",
        "\n",
        "get_average_item_price(shopping_cart)\n",
        "#assert get_average_item_price(shopping_cart) == 2.1420000000000003\n",
        "#print(\"Exercise 99 is complete.\")"
      ]
    },
    {
      "cell_type": "code",
      "execution_count": null,
      "metadata": {
        "id": "5SReB-60_Wvo"
      },
      "outputs": [],
      "source": [
        "# Exercise 100\n",
        "# Write a function named get_average_spent_per_item that takes in the shopping cart and returns the average of summing each item's quanties times that item's price.\n",
        "# Hint: You may need to set an initial total price and total total quantity to zero, then sum up and divide that total price by the total quantity\n",
        "\n",
        "\n",
        "def get_average_item_price(diction):\n",
        "  total_price = 0\n",
        "  for item in shopping_cart:\n",
        "    quan = float([\"quantity\"])\n",
        "    \n",
        "    item_price  = quan * [\"price\"] \n",
        "    total_price += item_price\n",
        "\n",
        "assert get_average_spent_per_item(shopping_cart) == 1.333529411764706\n",
        "print(\"Exercise 100 is complete.\")"
      ]
    },
    {
      "cell_type": "code",
      "source": [
        "# HW 2 Function 1: Combine Lists\n",
        "# Edit the function combine_lists so that it takes two lists (sequences) as input \n",
        "# and returns a new list containing all elements from both lists; the\n",
        "# elements of the first list, followed by the elements of the second list. \n",
        "# The original lists should not be modified. No \"for loops\"! \n",
        "\n",
        "def combine_lists(list1,list2):\n",
        "  new_list = list1 + list2\n",
        "  return new_list\n",
        "\n",
        "first = [1,2,3]\n",
        "second = [4, 5, 6]\n",
        "\n",
        "\n",
        "\n",
        "\n",
        "# uncomment this to check your work with the example lists\n",
        "# Extra Credit if you make your own example and assert to check it. \n",
        "# There are examples in the PDF that will also be provided\n",
        "assert combine_lists(first, second) == [1, 2, 3, 4, 5, 6]\n",
        "assert combine_lists([\"hello\", \"person\"], [\"e\",\"h\"]) == [\"hello\", \"person\", \"e\", \"h\"] #extra asserted example\n",
        "print(\"Exercise Function HW2 Function1 is complete.\")"
      ],
      "metadata": {
        "id": "M1dinsDFNB4Z",
        "colab": {
          "base_uri": "https://localhost:8080/"
        },
        "outputId": "4aa27987-4b2a-49c5-817b-9b5836d3fd97"
      },
      "execution_count": null,
      "outputs": [
        {
          "output_type": "stream",
          "name": "stdout",
          "text": [
            "Exercise Function HW2 Function1 is complete.\n"
          ]
        }
      ]
    },
    {
      "cell_type": "code",
      "source": [
        "# Function 2: last_n_elements\n",
        "# Edit the function last_n_elements so that it uses a slice to return the last n items of a sequence. \n",
        "# The original sequence should not be modified. Do not use len() in your slice. \n",
        "# If you feel you need it, please review the lecture slides about slices.\n",
        "\n",
        "def last_n_elements(a, n):\n",
        "  l = len(a) + n\n",
        "\n",
        "\n",
        "  n = n * -1\n",
        "\n",
        "\n",
        "\n",
        "  x = slice(n,l)\n",
        "\n",
        "  return a[x]\n",
        "\n",
        "fruits = ['apples', 'grapes', 'peaches', 'apricots', 'bananas']\n",
        "\n",
        "\n",
        "# uncomment the asserts to check your work with the example list\n",
        "# Use the asserts as examples of how the code should work\n",
        "# Extra Credit if you make your own example and assert to check it. \n",
        "# There are examples in the PDF that will also be provided\n",
        "assert last_n_elements(fruits, 3) == ['peaches', 'apricots', 'bananas']\n",
        "assert last_n_elements(fruits, 1) == ['bananas']\n",
        "print(\"Exercise Function HW2 Function2 is complete.\")"
      ],
      "metadata": {
        "id": "_prNn2ifN5FZ",
        "colab": {
          "base_uri": "https://localhost:8080/"
        },
        "outputId": "bd5e71d4-38bf-4707-ff5f-b1b4dc3e9463"
      },
      "execution_count": null,
      "outputs": [
        {
          "output_type": "stream",
          "name": "stdout",
          "text": [
            "Exercise Function HW2 Function2 is complete.\n"
          ]
        }
      ]
    },
    {
      "cell_type": "code",
      "source": [
        "# Function 3: power_list\n",
        "# Make the function power_list so that it accepts a list of numbers and returns a new list \n",
        "# that contains each number raised to the i-th power \n",
        "# where i is the index of that number in the given list.\n",
        "# Use a list comprehension.\n",
        "\n",
        "def power_list(list):\n",
        "  counter = 0\n",
        "  empty_list = []\n",
        "  for x in list:\n",
        "    empty_list.append(x ** counter)\n",
        "    counter += 1\n",
        "  return empty_list\n",
        "\n",
        "\n",
        "list1 = [2, 2, 2, 2, 2, 2]\n",
        "list2 = [9, 6, 5, 4]\n",
        "\n",
        "\n",
        "# uncomment the asserts to check your work with the example list\n",
        "# Use the asserts as examples of how the code should work\n",
        "# Extra Credit if you make your own example and assert to check it. \n",
        "# There are examples in the PDF that will also be provided\n",
        "assert power_list(list1) == [1, 2, 4, 8, 16, 32]\n",
        "assert power_list(list2) == [1, 6, 25, 64]\n",
        "print(\"Exercise Function HW2 Function3 is complete.\")"
      ],
      "metadata": {
        "id": "aADfuEcBO38w",
        "colab": {
          "base_uri": "https://localhost:8080/"
        },
        "outputId": "d4ccb5ba-cd39-45ef-e722-945881ed5660"
      },
      "execution_count": null,
      "outputs": [
        {
          "output_type": "stream",
          "name": "stdout",
          "text": [
            "Exercise Function HW2 Function3 is complete.\n"
          ]
        }
      ]
    },
    {
      "cell_type": "code",
      "source": [
        "# Function 4: rotate_list\n",
        "# Make the function rotate_list so that it removes the first item from a given list, \n",
        "# adds it to the end of the list, and returns the item that was moved.\n",
        "# No \"for loops\"!\n",
        "# Hint: Look through the documentation on sequence types (ie, lists) for methods that would be useful. Do not use del . \n",
        "\n",
        "def rotate_list(list):\n",
        "  list.append(list[0])\n",
        "  list.remove(list[0])\n",
        "  return list[-1]\n",
        "\n",
        "numbers = [1, 2, 3, 4]\n",
        "\n",
        "\n",
        "\n",
        "# uncomment the asserts to check your work with the example list\n",
        "# Use the asserts as examples of how the code should work\n",
        "# Extra Credit if you make your own example and assert to check it. \n",
        "# There are examples in the PDF that will also be provided\n",
        "assert rotate_list(numbers) == 1\n",
        "assert numbers == [2, 3, 4, 1]\n",
        "print(\"Exercise Function HW2 Function4 is complete.\")"
      ],
      "metadata": {
        "id": "ruZRCoFiP9P4",
        "colab": {
          "base_uri": "https://localhost:8080/"
        },
        "outputId": "5bbdf4f4-5919-4396-dcf9-967611791141"
      },
      "execution_count": null,
      "outputs": [
        {
          "output_type": "stream",
          "name": "stdout",
          "text": [
            "Exercise Function HW2 Function4 is complete.\n"
          ]
        }
      ]
    },
    {
      "cell_type": "code",
      "source": [
        "# Function 5: get_word_codes \n",
        "# Edit the function get_word_codes so that it accepts a list of strings and returns a dictionary \n",
        "# containing the strings as keys and a list of corresponding character codes as values. \n",
        "# It should work on any strings. Use a dictionary comprehension.\n",
        "# Hint: Look through Python's built-in functions for a useful function to use for this.\n",
        "def get_word_codes(list):\n",
        "  New_dictionary = {x: x**2 for x in list if x**2%4==0}\n",
        " \n",
        "words = ['yes', 'no']\n",
        "\n",
        "get_word_codes(words)\n",
        "\n",
        "# uncomment the asserts to check your work with the example list\n",
        "# Use the asserts as examples of how the code should work\n",
        "# Extra Credit if you make your own example and assert to check it. \n",
        "# There are examples in the PDF that will also be provided\n",
        "# assert get_word_codes(words) == {'yes': [121, 101, 115], 'no':[110, 111]}\n",
        "# print(\"Exercise Function HW2 Function5 is complete.\")"
      ],
      "metadata": {
        "id": "M9KPyU3tSFSl",
        "colab": {
          "base_uri": "https://localhost:8080/",
          "height": 380
        },
        "outputId": "5d2a8557-f98c-4b6f-a847-2f7ced3e9bb5"
      },
      "execution_count": null,
      "outputs": [
        {
          "output_type": "error",
          "ename": "TypeError",
          "evalue": "ignored",
          "traceback": [
            "\u001b[0;31m---------------------------------------------------------------------------\u001b[0m",
            "\u001b[0;31mTypeError\u001b[0m                                 Traceback (most recent call last)",
            "\u001b[0;32m<ipython-input-59-302bcb68917a>\u001b[0m in \u001b[0;36m<module>\u001b[0;34m()\u001b[0m\n\u001b[1;32m      9\u001b[0m \u001b[0mwords\u001b[0m \u001b[0;34m=\u001b[0m \u001b[0;34m[\u001b[0m\u001b[0;34m'yes'\u001b[0m\u001b[0;34m,\u001b[0m \u001b[0;34m'no'\u001b[0m\u001b[0;34m]\u001b[0m\u001b[0;34m\u001b[0m\u001b[0;34m\u001b[0m\u001b[0m\n\u001b[1;32m     10\u001b[0m \u001b[0;34m\u001b[0m\u001b[0m\n\u001b[0;32m---> 11\u001b[0;31m \u001b[0mget_word_codes\u001b[0m\u001b[0;34m(\u001b[0m\u001b[0mwords\u001b[0m\u001b[0;34m)\u001b[0m\u001b[0;34m\u001b[0m\u001b[0;34m\u001b[0m\u001b[0m\n\u001b[0m\u001b[1;32m     12\u001b[0m \u001b[0;34m\u001b[0m\u001b[0m\n\u001b[1;32m     13\u001b[0m \u001b[0;31m# uncomment the asserts to check your work with the example list\u001b[0m\u001b[0;34m\u001b[0m\u001b[0;34m\u001b[0m\u001b[0;34m\u001b[0m\u001b[0m\n",
            "\u001b[0;32m<ipython-input-59-302bcb68917a>\u001b[0m in \u001b[0;36mget_word_codes\u001b[0;34m(list)\u001b[0m\n\u001b[1;32m      5\u001b[0m \u001b[0;31m# Hint: Look through Python's built-in functions for a useful function to use for this.\u001b[0m\u001b[0;34m\u001b[0m\u001b[0;34m\u001b[0m\u001b[0;34m\u001b[0m\u001b[0m\n\u001b[1;32m      6\u001b[0m \u001b[0;32mdef\u001b[0m \u001b[0mget_word_codes\u001b[0m\u001b[0;34m(\u001b[0m\u001b[0mlist\u001b[0m\u001b[0;34m)\u001b[0m\u001b[0;34m:\u001b[0m\u001b[0;34m\u001b[0m\u001b[0;34m\u001b[0m\u001b[0m\n\u001b[0;32m----> 7\u001b[0;31m   \u001b[0mNew_dictionary\u001b[0m \u001b[0;34m=\u001b[0m \u001b[0;34m{\u001b[0m\u001b[0mx\u001b[0m\u001b[0;34m:\u001b[0m \u001b[0mx\u001b[0m\u001b[0;34m**\u001b[0m\u001b[0;36m2\u001b[0m \u001b[0;32mfor\u001b[0m \u001b[0mx\u001b[0m \u001b[0;32min\u001b[0m \u001b[0mlist\u001b[0m \u001b[0;32mif\u001b[0m \u001b[0mx\u001b[0m\u001b[0;34m**\u001b[0m\u001b[0;36m2\u001b[0m\u001b[0;34m%\u001b[0m\u001b[0;36m4\u001b[0m\u001b[0;34m==\u001b[0m\u001b[0;36m0\u001b[0m\u001b[0;34m}\u001b[0m\u001b[0;34m\u001b[0m\u001b[0;34m\u001b[0m\u001b[0m\n\u001b[0m\u001b[1;32m      8\u001b[0m \u001b[0;34m\u001b[0m\u001b[0m\n\u001b[1;32m      9\u001b[0m \u001b[0mwords\u001b[0m \u001b[0;34m=\u001b[0m \u001b[0;34m[\u001b[0m\u001b[0;34m'yes'\u001b[0m\u001b[0;34m,\u001b[0m \u001b[0;34m'no'\u001b[0m\u001b[0;34m]\u001b[0m\u001b[0;34m\u001b[0m\u001b[0;34m\u001b[0m\u001b[0m\n",
            "\u001b[0;32m<ipython-input-59-302bcb68917a>\u001b[0m in \u001b[0;36m<dictcomp>\u001b[0;34m(.0)\u001b[0m\n\u001b[1;32m      5\u001b[0m \u001b[0;31m# Hint: Look through Python's built-in functions for a useful function to use for this.\u001b[0m\u001b[0;34m\u001b[0m\u001b[0;34m\u001b[0m\u001b[0;34m\u001b[0m\u001b[0m\n\u001b[1;32m      6\u001b[0m \u001b[0;32mdef\u001b[0m \u001b[0mget_word_codes\u001b[0m\u001b[0;34m(\u001b[0m\u001b[0mlist\u001b[0m\u001b[0;34m)\u001b[0m\u001b[0;34m:\u001b[0m\u001b[0;34m\u001b[0m\u001b[0;34m\u001b[0m\u001b[0m\n\u001b[0;32m----> 7\u001b[0;31m   \u001b[0mNew_dictionary\u001b[0m \u001b[0;34m=\u001b[0m \u001b[0;34m{\u001b[0m\u001b[0mx\u001b[0m\u001b[0;34m:\u001b[0m \u001b[0mx\u001b[0m\u001b[0;34m**\u001b[0m\u001b[0;36m2\u001b[0m \u001b[0;32mfor\u001b[0m \u001b[0mx\u001b[0m \u001b[0;32min\u001b[0m \u001b[0mlist\u001b[0m \u001b[0;32mif\u001b[0m \u001b[0mx\u001b[0m\u001b[0;34m**\u001b[0m\u001b[0;36m2\u001b[0m\u001b[0;34m%\u001b[0m\u001b[0;36m4\u001b[0m\u001b[0;34m==\u001b[0m\u001b[0;36m0\u001b[0m\u001b[0;34m}\u001b[0m\u001b[0;34m\u001b[0m\u001b[0;34m\u001b[0m\u001b[0m\n\u001b[0m\u001b[1;32m      8\u001b[0m \u001b[0;34m\u001b[0m\u001b[0m\n\u001b[1;32m      9\u001b[0m \u001b[0mwords\u001b[0m \u001b[0;34m=\u001b[0m \u001b[0;34m[\u001b[0m\u001b[0;34m'yes'\u001b[0m\u001b[0;34m,\u001b[0m \u001b[0;34m'no'\u001b[0m\u001b[0;34m]\u001b[0m\u001b[0;34m\u001b[0m\u001b[0;34m\u001b[0m\u001b[0m\n",
            "\u001b[0;31mTypeError\u001b[0m: unsupported operand type(s) for ** or pow(): 'str' and 'int'"
          ]
        }
      ]
    },
    {
      "cell_type": "code",
      "source": [
        "# Function 6: words_containing\n",
        "# Given a sentence and a lowercase letter, \n",
        "# return a list of words from the sentence that contain the letter, \n",
        "# ignoring the case of the words in the sentence. \n",
        "# Look up methods on the str object to get a list of words from the sentence. \n",
        "# Then use a list comprehension to get the final list to return.\n",
        "def words_containing(list):\n",
        "  for \n",
        "\n",
        "sentence1 = \"Anyone who has never made a mistake has never tried anything new\"\n",
        "\n",
        "\n",
        "# uncomment the asserts to check your work with the example list\n",
        "# Use the asserts as examples of how the code should work\n",
        "# Extra Credit if you make your own example and assert to check it. \n",
        "# There are examples in the PDF that will also be provided\n",
        "# assert words_containing(sentence1, 'a') == ['Anyone', 'has', 'a', 'mistake', 'has', 'anything']\n",
        "# print(\"Exercise Function HW2 Function6 is complete.\")"
      ],
      "metadata": {
        "id": "CFTAbu72Tt9D"
      },
      "execution_count": null,
      "outputs": []
    },
    {
      "cell_type": "markdown",
      "source": [
        "\n",
        "\n",
        "```\n",
        "1 \n",
        "2 2 \n",
        "3 3 3 \n",
        "4 4 4 4 \n",
        "\n",
        "```\n",
        "\n"
      ],
      "metadata": {
        "id": "Bbtmn0AqDjVN"
      }
    },
    {
      "cell_type": "code",
      "source": [
        "# Function 7: Write a function to print the above output starting with the number taken as an arguemnt in the example it is 1\n",
        "\n",
        "def num_mitosis(number):\n",
        "  for x in range(number):\n",
        "    print(number, end = ' ')\n",
        "  number = number + 1\n",
        "  print(\"\")\n",
        "  for x in range(number):\n",
        "    print(number, end = ' ')\n",
        "  number = number + 1\n",
        "  print(\"\")\n",
        "  for x in range(number):\n",
        "    print(number, end = ' ')\n",
        "  number = number + 1\n",
        "  print(\"\")\n",
        "  for x in range(number):\n",
        "    print(number, end = ' ')\n",
        "  number = number + 1\n",
        "\n",
        "  \n",
        "\n",
        "num_mitosis(2)"
      ],
      "metadata": {
        "id": "Hk-aPIpMDIdI",
        "colab": {
          "base_uri": "https://localhost:8080/"
        },
        "outputId": "a2a1d0ed-f371-49af-cfdd-59ec9fc05eed"
      },
      "execution_count": null,
      "outputs": [
        {
          "output_type": "stream",
          "name": "stdout",
          "text": [
            "2 2 \n",
            "3 3 3 \n",
            "4 4 4 4 \n",
            "5 5 5 5 5 "
          ]
        }
      ]
    },
    {
      "cell_type": "markdown",
      "source": [
        "\n",
        "\n",
        "```\n",
        "Lion\n",
        "Deer\n",
        "Sheep\n",
        "Cub\n",
        "Fawn\n",
        "Lamb\n",
        "\n",
        "```\n",
        "\n"
      ],
      "metadata": {
        "id": "WaXyaVu8Euot"
      }
    },
    {
      "cell_type": "code",
      "source": [
        "# Function 8: nested_loops_print_items\n",
        "\n",
        "# Write a function that takes in a list of lists\n",
        "# and prints every item in every list once\n",
        "# it should look like the above output \n",
        "\n",
        "def nested_loops_print_items(list):\n",
        "  counter = 0\n",
        "  for items in list:\n",
        "    for item in items:\n",
        "      print(item)\n",
        "      \n",
        "\n",
        "nested_loops_print_items([[\"Lion\"], [\"Deer\"], [\"Sheep\"], [\"Cub\"], [\"Fawn\"], [\"Lamb\"]])\n"
      ],
      "metadata": {
        "id": "ITwDGOnYELWN",
        "colab": {
          "base_uri": "https://localhost:8080/"
        },
        "outputId": "9c5d70e4-b7f8-4b51-fdf5-2b845489fd64"
      },
      "execution_count": null,
      "outputs": [
        {
          "output_type": "stream",
          "name": "stdout",
          "text": [
            "Lion\n",
            "Deer\n",
            "Sheep\n",
            "Cub\n",
            "Fawn\n",
            "Lamb\n"
          ]
        }
      ]
    },
    {
      "cell_type": "markdown",
      "source": [
        "# Classes"
      ],
      "metadata": {
        "id": "w5y0HId9gsa6"
      }
    },
    {
      "cell_type": "code",
      "source": [
        "# Class Function 1: Create a Point Class \n",
        "# Like a Point on a Line\n",
        "# Instructions Below  \n",
        "import numpy as np\n",
        "# Name your Class Point\n",
        "# Initialize your class with two arguments x and y\n",
        "## Use the __init__ dunder method to initialize your class\n",
        "# Import any necessary libraries outside of your class\n",
        "# set a default point \n",
        "# make this default pint the origin (0,0)\n",
        "# Add an attribute call get_magnitude that returns the magnitude of the line between the origin (0,0) and your point(x,y)\n",
        "class Point:\n",
        "  def __init__(self,origin,x,y):\n",
        "    self.origin = [0,0]\n",
        "    self.x = x\n",
        "    self.y = y\n",
        "    \n",
        "  def get_magnitude(e):\n",
        "    mag_array = np.array(([e.origin[0]-e.x,e.origin[1]-e.y]))\n",
        "    real_mag = np.linalg.norm(mag_array)\n",
        "    print(\"Magnitude between these two points is: \", real_mag)\n",
        "\n",
        "    \n",
        "mag = Point([0,0],3,5)\n",
        "mag.get_magnitude()\n"
      ],
      "metadata": {
        "id": "DrrQg-9Ofik9",
        "colab": {
          "base_uri": "https://localhost:8080/"
        },
        "outputId": "9780b7c6-b341-42f9-a721-4e6c42b324c0"
      },
      "execution_count": null,
      "outputs": [
        {
          "output_type": "stream",
          "name": "stdout",
          "text": [
            "Magnitude between these two points is:  5.830951894845301\n"
          ]
        }
      ]
    },
    {
      "cell_type": "code",
      "source": [
        "# Class Function 2: Making a Bank Account Class \n",
        "\n",
        "# Name your class BankAccount\n",
        "# Initialize your class with zero arguments\n",
        "# In your initialization include a a self attribute for balance that shows it is equal to some amount (usually 0 but why be broke)\n",
        "# Include a welcoming print statement\n",
        "# In your initialization include a a self attribute to print the balance\n",
        "class BankAccount:\n",
        "  def __init__(self,balance,deposit):\n",
        "    self.balance = balance\n",
        "    self.deposit = deposit\n",
        "    print(\"Welcome to the bank.\")\n",
        "\n",
        "# add an attribute called deposit (should be a function) that takes in an argument called amount\n",
        "## inside deposit should be an attribute that adds the amount from the deposit argument and changes your balance\n",
        "## inside include a print statement with the amount deposited\n",
        "## inside deposit should be a self attribute to print the new  balance\n",
        "  def deposit(amount):\n",
        "      amount.balance += amount\n",
        "      print(\"$ \", amount, \"deposited\")\n",
        "\n",
        "\n",
        "# add an attribute called withdraw (should be a function) that takes in an argument called amount\n",
        "## inside withdraw should be an attribute that adds the amount from the deposit argument and changes your balance\n",
        "## inside include a print statement with the amount withdrawn\n",
        "## inside withdraw should be a self attribute to print the new  balance\n",
        "## add functionality to test if the amount you are trying to withdraw is higher than the current balance\n",
        "  def withdraw(amount):\n",
        "      amount.balance -= amount\n",
        "      print(\"$\", amount, \"withdrawed\")\n",
        "\n",
        "# add an attribute called print_balance (should be a function) that takes in no arguments\n",
        "## inside print_balance should be an attribute that prints the balance\n",
        "  def print_balance(balance):\n",
        "        print(balance)\n",
        "      \n",
        "\n",
        "# Look up the __str__ method\n",
        "## add an attribute called __str__ that returns a very clear print statement when you just call your class instance\n",
        "  __str__ = print(balance.__str__())\n",
        "# Look up the __repr__ method\n",
        "## add an attribute called __repr__ that returns a very clear print statement when you just call your class instance\n",
        "  __repr__ = print(balance.__repr__())\n",
        "## which one of these is more necessary for Colab vs Replit\n"
      ],
      "metadata": {
        "id": "jNyKXjIBvSJp"
      },
      "execution_count": null,
      "outputs": []
    },
    {
      "cell_type": "code",
      "source": [
        "# Class Function 3: Making a Circle Class\n",
        "import math\n",
        "\n",
        "# Name your class Circle\n",
        "# Initialize your class with an argument called radius with a default value\n",
        "# Import any libraries you need outside your class\n",
        "# In your initialization include a self attribute for radius that is equal to your argument\n",
        "# In your initialization include a self attribute called area that is equal to the area of a circle\n",
        "class circle:\n",
        "  def __init__(self,radius):\n",
        "    self.area = radius**2 * math.pi\n",
        "  \n",
        "  \n",
        "\n",
        "# You should practice reassigning your radius values  \n",
        "    self.radius = 5\n",
        "\n",
        "# Investigate the property decorator\n",
        "# Convert you area initialization property to an attribut and assign it a property decorator\n",
        "# Explain how this helps you\n",
        "# Add another attribute called diameter (with no arguments)and assign it a property decorator\n",
        "    property(self.diameter)\n",
        "\n",
        "# You should try resetting your diameter\n",
        "    \n",
        "\n",
        "# Edit your attribute diameter to include an argument\n",
        "    def diameter(diam):\n",
        "# Add a property decorator called diameter.setter \n",
        "    property.diameter.setter()\n",
        "# Try resetting your diameter again\n",
        "    \n",
        "\n",
        "\n",
        "\n",
        "\n"
      ],
      "metadata": {
        "id": "8oXON7iZvGV9"
      },
      "execution_count": null,
      "outputs": []
    },
    {
      "cell_type": "markdown",
      "source": [
        "# Inheritances\n",
        "\n",
        "Working with Super Classes and multiple inheritances\n",
        "\n",
        "Note: initialization steps are also sometimes called instructors"
      ],
      "metadata": {
        "id": "0w4rV5wH_jwv"
      }
    },
    {
      "cell_type": "code",
      "source": [
        "# Class Function 4: Inheritances\n",
        "\n",
        "\n",
        "# Name your class Base\n",
        "# Initialize your class with an argument called name\n",
        "\n",
        "# In your initialization include a self attribute name that is equal to your argument\n",
        "# Add an attribute called getName that returns the instance of name\n",
        "\n",
        "# Make an inherited class or sub class of Base called Child\n",
        "# Create a contrustor for you class/Initialize this class with two arguments: name and age\n",
        "# In your initialization include a self attribute age that is equal to your argument for age\n",
        "# Call your Parent class base then using the .__init__ function initalize the constructor from your parent class for name\n",
        "# Add an attribute called getAge that returns the instance of age\n",
        "\n",
        "# Make an inherited class or sub class of Child called Granchild\n",
        "# Create a contrustor for you class/Initialize this class with three arguments: name and age and address\n",
        "# In your initialization include a self attribute address that is equal to your argument for address\n",
        "# Call your Parent class Child then using the .__init__ function initalize the constructor from your parent class for name and age\n",
        "# Add an attribute called getAddress that returns the instance of address\n",
        "\n",
        "\n",
        "\n",
        "\n"
      ],
      "metadata": {
        "id": "FLpcwwqW_yq5"
      },
      "execution_count": null,
      "outputs": []
    },
    {
      "cell_type": "markdown",
      "source": [
        "# Collections\n"
      ],
      "metadata": {
        "id": "ielHy1nF3ki2"
      }
    },
    {
      "cell_type": "code",
      "source": [
        "# Collections Function 1\n",
        "# Write a function to find the 10 most common words in a selected text\n",
        "# Import necessary libraries or collections\n",
        "\n",
        "def ten_most_common_words(txt):\n",
        "  empty_dict = dict()\n",
        "\n",
        "  for word in txt:\n",
        "    count = word.count()\n",
        "\n",
        "text = \"\"\"The Python Software Foundation (PSF) is a 501(c)(3) non-profit \n",
        "corporation that holds the intellectual property rights behind\n",
        "the Python programming language. We manage the open source licensing \n",
        "for Python version 2.1 and later and own and protect the trademarks \n",
        "associated with Python. We also run the North American PyCon conference \n",
        "annually, support other Python conferences around the world, and \n",
        "fund Python related development with our grants program and by funding \n",
        "special projects.\"\"\"\n",
        "\n",
        "\n",
        "\n",
        "# assert ten_most_common_words(text) == [('Python', 6), ('the', 6), ('and', 5), ('We', 2), ('with', 2), ('The', 1), ('Software', 1), ('Foundation', 1), ('PSF', 1), ('is', 1)]\n"
      ],
      "metadata": {
        "id": "C-FZkGa93X16"
      },
      "execution_count": null,
      "outputs": []
    },
    {
      "cell_type": "code",
      "source": [
        "# Collections Code 2\n",
        "# This is going to be a little different\n",
        "# I am not asking you to write a function, just code, similar to chatbot\n",
        "\n",
        "# Import necessary libraries or collections\n",
        "# Define a Movie tuple using namedtuple that accepts \n",
        "# a title, a director, a release year, and a budget. \n",
        "# Prompt the user(yourself in this case) to provide information for each of these fields \n",
        "# and create an instance of the Movie tuple you defined.\n",
        "title = input(\"Give a movie title: \")\n",
        "director = input(\"Give a director\")\n",
        "release = input(\"State the release year: \")\n",
        "budget = input(\"Sate the budget: \")\n",
        "\n",
        "overall_stats = [title, director, release, budget]\n",
        "print(overall_stats)"
      ],
      "metadata": {
        "id": "TiKKY8a04Pbh",
        "colab": {
          "base_uri": "https://localhost:8080/"
        },
        "outputId": "eac8f9d8-52de-4a03-decd-4b8af8626d33"
      },
      "execution_count": null,
      "outputs": [
        {
          "output_type": "stream",
          "name": "stdout",
          "text": [
            "Give a movie title: i\n",
            "Give a directordeez\n",
            "State the release year: 2006\n",
            "Sate the budget$59522821\n",
            "['i', 'deez', '2006', '$59522821']\n"
          ]
        }
      ]
    },
    {
      "cell_type": "code",
      "source": [
        ""
      ],
      "metadata": {
        "id": "ByCtJieTwafk"
      },
      "execution_count": null,
      "outputs": []
    }
  ]
}