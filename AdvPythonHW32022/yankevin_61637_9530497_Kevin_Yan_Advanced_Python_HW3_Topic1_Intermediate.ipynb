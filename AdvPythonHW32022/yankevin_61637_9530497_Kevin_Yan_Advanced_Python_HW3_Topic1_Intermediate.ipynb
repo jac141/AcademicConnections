{
  "nbformat": 4,
  "nbformat_minor": 0,
  "metadata": {
    "colab": {
      "name": "Kevin Yan Advanced Python HW3 Topic1 Intermediate.ipynb",
      "provenance": [],
      "collapsed_sections": []
    },
    "kernelspec": {
      "name": "python3",
      "display_name": "Python 3"
    },
    "language_info": {
      "name": "python"
    }
  },
  "cells": [
    {
      "cell_type": "markdown",
      "source": [
        "# **Kevin Yan Advanced Python HW3 Topic 1 Intemediate Level:**"
      ],
      "metadata": {
        "id": "hI8IlvpyhJ75"
      }
    },
    {
      "cell_type": "markdown",
      "source": [
        "### Song Recommender System"
      ],
      "metadata": {
        "id": "lGlATY8Ahjo0"
      }
    },
    {
      "cell_type": "markdown",
      "source": [
        "\n",
        "\n",
        "---\n",
        "\n"
      ],
      "metadata": {
        "id": "L_RebnNPiWH_"
      }
    },
    {
      "cell_type": "markdown",
      "source": [
        "import panda and read csv file:"
      ],
      "metadata": {
        "id": "KD7Q-u_NiX1u"
      }
    },
    {
      "cell_type": "code",
      "execution_count": null,
      "metadata": {
        "id": "rS-d_2BXgwC7"
      },
      "outputs": [],
      "source": [
        "from pandas import read_csv\n",
        "data_url = 'https://gist.githubusercontent.com/jackbandy/5cd988ab5c3d95b79219364dce7ee5ae/raw/731ecdbecc7b33030f23cd919e6067dfbaf42feb/song-ratings.csv'\n",
        "ratings = read_csv(data_url,index_col=0)"
      ]
    },
    {
      "cell_type": "markdown",
      "source": [
        "find the nearest people using Pythagorean theorem:"
      ],
      "metadata": {
        "id": "YcKpS16eir7y"
      }
    },
    {
      "cell_type": "code",
      "source": [
        "import math\n",
        "def distance(person1,person2):\n",
        "  a_squared = (person1[0] - person2[0])**2\n",
        "  b_squared = (person1[1] - person2[1])**2\n",
        "  c = math.sqrt(a_squared+b_squared)\n",
        "  return c"
      ],
      "metadata": {
        "id": "JdXpVnyfi-oe"
      },
      "execution_count": null,
      "outputs": []
    },
    {
      "cell_type": "markdown",
      "source": [
        "*Here, I at first didn't understand why the program should use pythagorean theorem since it doesn't have any relationships with triangles. However, after reading carefully through the instruction, I understand the program's puropse of using the Pythagorean theorem, which is used to find people that are quite similar to you.*"
      ],
      "metadata": {
        "id": "iUp-r_qrjNl5"
      }
    },
    {
      "cell_type": "markdown",
      "source": [
        "import scipy to calculate Euclidean distance when calculating higher dimensions:"
      ],
      "metadata": {
        "id": "twJHjPLAkSPY"
      }
    },
    {
      "cell_type": "code",
      "source": [
        "from scipy.spatial.distance import euclidean\n",
        "def distance(person1,person2):\n",
        "  distance = euclidean(person1,person2)\n",
        "  return distance"
      ],
      "metadata": {
        "id": "YrYg-g-1lD3t"
      },
      "execution_count": null,
      "outputs": []
    },
    {
      "cell_type": "markdown",
      "source": [
        "*I need to search the library and the method used in this part of code and I understand what they means:*\n",
        "\n",
        "*SciPy is a Python buildin function that can so scientific calculations. One of the mathod, euclidean, means calculating Euclidean distance. Euclidean distance is the distance between two real-valued vectors. Mostly we use it to calculate the distance between two rows of data having numerical values.*"
      ],
      "metadata": {
        "id": "ZtxdFOeKlaBS"
      }
    },
    {
      "cell_type": "markdown",
      "source": [
        "use the distance function to calculate similarties between people:"
      ],
      "metadata": {
        "id": "_tZjWeVsmN4g"
      }
    },
    {
      "cell_type": "code",
      "source": [
        "ratings=ratings.fillna(0)\n",
        "jack=ratings.loc['Jack']\n",
        "nick=ratings.loc['Nick']\n",
        "trevor=ratings.loc['Trevor']"
      ],
      "metadata": {
        "id": "Xl17PkIImdwM"
      },
      "execution_count": null,
      "outputs": []
    },
    {
      "cell_type": "markdown",
      "source": [
        "Here, fillna method make any blanks a specific value. In this case, 0."
      ],
      "metadata": {
        "id": "g8XPV5RFmf34"
      }
    },
    {
      "cell_type": "markdown",
      "source": [
        "look at the distance between Jack and the other two people:"
      ],
      "metadata": {
        "id": "W3is0MP1syQf"
      }
    },
    {
      "cell_type": "code",
      "source": [
        "print(\"Distance between Jack and Nick:\")\n",
        "print(distance(jack,nick))\n",
        "# 10.63014581273465\n",
        "\n",
        "print(\"Distance between Jack and Trevor:\")\n",
        "print(distance(jack,trevor))\n",
        "# 13.490737563232042"
      ],
      "metadata": {
        "colab": {
          "base_uri": "https://localhost:8080/"
        },
        "id": "p-l4W4vZs3Av",
        "outputId": "a156c7b7-6deb-440f-a312-79fe3646d4c7"
      },
      "execution_count": null,
      "outputs": [
        {
          "output_type": "stream",
          "name": "stdout",
          "text": [
            "Distance between Jack and Nick:\n",
            "9.327379053088816\n",
            "Distance between Jack and Trevor:\n",
            "13.490737563232042\n"
          ]
        }
      ]
    },
    {
      "cell_type": "markdown",
      "source": [
        "using a for loop co compare Jack to every people:"
      ],
      "metadata": {
        "id": "g5P3tQgrtDVc"
      }
    },
    {
      "cell_type": "code",
      "source": [
        "best_similarity = 10000000\n",
        "def most_similar_to(name):\n",
        "  person = ratings.loc[name]\n",
        "  closest_distance=float('inf')\n",
        "  closest_person=''\n",
        "  for other_person in ratings.itertuples():\n",
        "    if other_person.Index==name:\n",
        "      # don't compare a person to themself\n",
        "      continue\n",
        "    distance_to_other_person = distance(person,ratings.loc[other_person.Index])\n",
        "  if distance_to_other_person < best_similarity:\n",
        "      # new high score! save it\n",
        "      closest_distance = distance_to_other_person\n",
        "      closest_person = other_person.Index\n",
        "  return closest_person"
      ],
      "metadata": {
        "id": "LmLSApz1tNvp"
      },
      "execution_count": null,
      "outputs": []
    },
    {
      "cell_type": "markdown",
      "source": [
        "print out:"
      ],
      "metadata": {
        "id": "SaMNcNcCtkwI"
      }
    },
    {
      "cell_type": "code",
      "source": [
        "print(\"Jack is most similar to:\")\n",
        "person_most_similar_to_jack = most_similar_to('Jack')\n",
        "print(person_most_similar_to_jack)\n",
        "print(distance)"
      ],
      "metadata": {
        "colab": {
          "base_uri": "https://localhost:8080/"
        },
        "id": "XriAPQoCtpAU",
        "outputId": "17289360-ceff-4c94-ac41-a2611c010054"
      },
      "execution_count": null,
      "outputs": [
        {
          "output_type": "stream",
          "name": "stdout",
          "text": [
            "Jack is most similar to:\n",
            "Hallie\n",
            "<function distance at 0x7f854c0a3170>\n"
          ]
        }
      ]
    }
  ]
}