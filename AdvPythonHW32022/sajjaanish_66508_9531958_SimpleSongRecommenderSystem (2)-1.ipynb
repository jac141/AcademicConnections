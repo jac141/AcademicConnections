{
 "cells": [
  {
   "cell_type": "markdown",
   "id": "1d944df9",
   "metadata": {},
   "source": [
    "# Simple Song Recommender System\n",
    "This is from intermediate example(8). This is available at\n",
    "\n",
    "https://towardsdatascience.com/a-simple-song-recommender-system-in-python-tutorial-3e4c111198d6\n",
    "\n",
    "In this example, the visual explanation given in the link made it easier to understand.\n",
    "I leared what basic AI reccomendation systems for apps like Spotify, Youtube, and Netflix are based on a central principle.\n",
    "All these recommender systems plot the data in a plot system which is based on how much you like certain songs/other things.\n",
    "If you gave similar ratings to songs as the other person then you are more likely to have similar tastes to them, so it gives you a recommendation based on that information. It finds the distance(using the distance formula) between the ratings of one person and the ratings of everyone else, whoever's rating is the closeset to them will be used to recommend whatever they like."
   ]
  },
  {
   "cell_type": "code",
   "execution_count": 9,
   "id": "36f4296c",
   "metadata": {},
   "outputs": [],
   "source": [
    "from pandas import read_csv\n",
    "data_url = 'https://gist.githubusercontent.com/jackbandy/5cd988ab5c3d95b79219364dce7ee5ae/raw/731ecdbecc7b33030f23cd919e6067dfbaf42feb/song-ratings.csv'\n",
    "ratings = read_csv(data_url,index_col=0)"
   ]
  },
  {
   "cell_type": "code",
   "execution_count": 10,
   "id": "92b26090",
   "metadata": {},
   "outputs": [],
   "source": [
    "def distance(person1,person2):\n",
    "  a_squared = (person1[0] - person2[0])**2\n",
    "  b_squared = (person1[1] - person2[1])**2\n",
    "  c = sqrt(a_squared+b_squared)\n",
    "  return c"
   ]
  },
  {
   "cell_type": "code",
   "execution_count": 11,
   "id": "13ee9ae5",
   "metadata": {},
   "outputs": [],
   "source": [
    "from scipy.spatial.distance import euclidean\n",
    "def distance(person1,person2):\n",
    "  distance = euclidean(person1,person2)\n",
    "  return distance"
   ]
  },
  {
   "cell_type": "code",
   "execution_count": 12,
   "id": "b73f6337",
   "metadata": {},
   "outputs": [],
   "source": [
    "ratings=ratings.fillna(0)\n",
    "jack=ratings.loc['Jack']\n",
    "nick=ratings.loc['Nick']\n",
    "trevor=ratings.loc['Trevor']"
   ]
  },
  {
   "cell_type": "code",
   "execution_count": 13,
   "id": "c3f1acc8",
   "metadata": {},
   "outputs": [
    {
     "name": "stdout",
     "output_type": "stream",
     "text": [
      "Distance between Jack and Nick:\n",
      "9.327379053088816\n",
      "Distance between Jack and Trevor:\n",
      "13.490737563232042\n"
     ]
    }
   ],
   "source": [
    "print(\"Distance between Jack and Nick:\")\n",
    "print(distance(jack,nick))\n",
    "# 10.63014581273465\n",
    "print(\"Distance between Jack and Trevor:\")\n",
    "print(distance(jack,trevor))\n",
    "# 13.490737563232042"
   ]
  },
  {
   "cell_type": "code",
   "execution_count": 14,
   "id": "eb15418f",
   "metadata": {},
   "outputs": [],
   "source": [
    "def most_similar_to(name):\n",
    "  person = ratings.loc[name]\n",
    "  closest_distance=float('inf')\n",
    "  closest_person=''\n",
    "  for other_person in ratings.itertuples():\n",
    "    if other_person.Index==name:\n",
    "      # don't compare a person to themself\n",
    "      continue\n",
    "    distance_to_other_person = distance(person,ratings.loc[other_person.Index])\n",
    "    #identified there is a bug. There is no best_similarity. Instead it is closest_distance\n",
    "    #if distance_to_other_person < best_similarity:\n",
    "    if distance_to_other_person < closest_distance:\n",
    "      # new high score! save it\n",
    "      closest_distance = distance_to_other_person\n",
    "      closest_person = other_person.Index\n",
    "  return closest_person, closest_distance"
   ]
  },
  {
   "cell_type": "code",
   "execution_count": 15,
   "id": "3e3e31dc",
   "metadata": {},
   "outputs": [
    {
     "name": "stdout",
     "output_type": "stream",
     "text": [
      "Jack is most similar to:\n",
      "('Joe', 7.54983443527075)\n",
      "<function distance at 0x00000194E7F9A940>\n"
     ]
    }
   ],
   "source": [
    "print(\"Jack is most similar to:\")\n",
    "person_most_similar_to_jack = most_similar_to('Jack')\n",
    "print(person_most_similar_to_jack)\n",
    "print(distance)\n",
    "# The output is 'Joe'. He is closer to Jack(7.54983443527075) then Meg(8.660254037844387)\n",
    "# Meg   - Joe is closer\n",
    "# 8.660254037844387 - 7.54983443527075"
   ]
  },
  {
   "cell_type": "code",
   "execution_count": 16,
   "id": "a91b78e9",
   "metadata": {},
   "outputs": [
    {
     "name": "stdout",
     "output_type": "stream",
     "text": [
      "3.0\n"
     ]
    }
   ],
   "source": [
    "print(ratings.at['Joe', '7 Rings (Ariana Grande)'])\n",
    "# 3.0"
   ]
  },
  {
   "cell_type": "code",
   "execution_count": null,
   "id": "10ac4a98",
   "metadata": {},
   "outputs": [],
   "source": []
  }
 ],
 "metadata": {
  "kernelspec": {
   "display_name": "Python 3",
   "language": "python",
   "name": "python3"
  },
  "language_info": {
   "codemirror_mode": {
    "name": "ipython",
    "version": 3
   },
   "file_extension": ".py",
   "mimetype": "text/x-python",
   "name": "python",
   "nbconvert_exporter": "python",
   "pygments_lexer": "ipython3",
   "version": "3.8.8"
  }
 },
 "nbformat": 4,
 "nbformat_minor": 5
}
