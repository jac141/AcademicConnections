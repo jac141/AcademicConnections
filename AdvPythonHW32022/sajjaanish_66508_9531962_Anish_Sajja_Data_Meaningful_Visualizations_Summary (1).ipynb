{
 "cells": [
  {
   "cell_type": "markdown",
   "id": "7fbbac56",
   "metadata": {},
   "source": [
    "# Summary of Data-Visualization/13-meaningful-visualizations\n",
    "https://github.com/microsoft/Data-Science-For-Beginners/tree/main/3-Data-Visualization/13-meaningful-visualizations"
   ]
  },
  {
   "cell_type": "markdown",
   "id": "91819dc4",
   "metadata": {},
   "source": [
    "### Avoid deception:\n",
    "1. Maps of presidential election are misleading:\n",
    "Color gives different perception of the map. Maps need proper explanation so that they will not be misinterpeted.\n",
    "\n",
    "2.Violent Crime is a very big problem:\n",
    "Keep the axis which is intuitive and timeline from old to new\n",
    "his chart reverses the X axis to show the opposite of the truth, based on date\n",
    "    \n",
    "3. COVID cases\n",
    "The bars/lines of the bar graph are arranged in different order. This is confusing and gives the perception that covid cases declined which is not correct when we looked into it closely.\n",
    "\n",
    "4. Gun Deaths in Florida Graph is flipped(Upside down to confuse the reader):\n",
    "This misleads the people who are reading the mad as they assume otherwise.\n",
    "\n",
    "5. Average Female Height by Country graph did not start from 0 and is thus incorrectly scaled.\n",
    "The y-axis starts at 4'10 or 58 inches. This gives the perception that the average female height is almost double in Latvia and other countries when compared to that of India female."
   ]
  },
  {
   "cell_type": "markdown",
   "id": "0b1f231f",
   "metadata": {},
   "source": [
    "### Average Female Height by Country Graphs\n",
    "Created the graphs for "
   ]
  },
  {
   "cell_type": "code",
   "execution_count": 10,
   "id": "e208e955",
   "metadata": {},
   "outputs": [],
   "source": [
    "import numpy as np\n",
    "import matplotlib.pyplot as plt"
   ]
  },
  {
   "cell_type": "code",
   "execution_count": 17,
   "id": "309923b4",
   "metadata": {},
   "outputs": [
    {
     "name": "stderr",
     "output_type": "stream",
     "text": [
      "<ipython-input-17-ac14f389f3df>:16: MatplotlibDeprecationWarning: Adding an axes using the same arguments as a previous axes currently reuses the earlier instance.  In a future version, a new instance will always be created and returned.  Meanwhile, this warning can be suppressed, and the future behavior ensured, by passing a unique label to each axes instance.\n",
      "  ax=plt.subplot(111)\n"
     ]
    },
    {
     "data": {
      "image/png": "[encoded data removed]",
      "text/plain": [
       "<Figure size 720x360 with 1 Axes>"
      ]
     },
     "metadata": {
      "needs_background": "light"
     },
     "output_type": "display_data"
    }
   ],
   "source": [
    "# creating the dataset\n",
    "data = {'Latvia':65, 'Australia':64, 'Scotland':64,\n",
    "        'Peru':64, 'South Africa':62, 'India':60}\n",
    "courses = list(data.keys())\n",
    "values = list(data.values())\n",
    "  \n",
    "fig = plt.figure(figsize = (10, 5))\n",
    " \n",
    "# creating the bar plot\n",
    "plt.bar(courses, values, color ='pink',\n",
    "        width = 0.4)\n",
    " \n",
    "plt.xlabel(\"Country\")\n",
    "plt.ylabel(\"Height\")\n",
    "plt.title(\"Average Female Height by Country\")\n",
    "ax=plt.subplot(111)\n",
    "ax.set_ylim(58, 68)\n",
    "plt.show()"
   ]
  },
  {
   "cell_type": "markdown",
   "id": "958af5b3",
   "metadata": {},
   "source": [
    "The graph above is misleading graph of \"Average Female Height by Country\" that starts from 58 instead of 0"
   ]
  },
  {
   "cell_type": "code",
   "execution_count": 12,
   "id": "31fa39db",
   "metadata": {},
   "outputs": [
    {
     "data": {
      "image/png": "[encoded data removed]",
      "text/plain": [
       "<Figure size 720x360 with 1 Axes>"
      ]
     },
     "metadata": {
      "needs_background": "light"
     },
     "output_type": "display_data"
    }
   ],
   "source": [
    "# creating the dataset\n",
    "data = {'Latvia':65, 'Australia':64, 'Scotland':64,\n",
    "        'Peru':64, 'South Africa':62, 'India':60}\n",
    "courses = list(data.keys())\n",
    "values = list(data.values())\n",
    "  \n",
    "fig = plt.figure(figsize = (10, 5))\n",
    " \n",
    "# creating the bar plot\n",
    "plt.bar(courses, values, color ='pink',\n",
    "        width = 0.4)\n",
    " \n",
    "plt.xlabel(\"Country\")\n",
    "plt.ylabel(\"Height\")\n",
    "plt.title(\"Average Female Height by Country\")\n",
    "plt.show()"
   ]
  },
  {
   "cell_type": "markdown",
   "id": "06ff8d1a",
   "metadata": {},
   "source": [
    "The graph above is correct way of showing the graph of \"Average Female Height by Country\" should start from 0"
   ]
  },
  {
   "cell_type": "code",
   "execution_count": null,
   "id": "cb4832b9",
   "metadata": {},
   "outputs": [],
   "source": []
  }
 ],
 "metadata": {
  "kernelspec": {
   "display_name": "Python 3",
   "language": "python",
   "name": "python3"
  },
  "language_info": {
   "codemirror_mode": {
    "name": "ipython",
    "version": 3
   },
   "file_extension": ".py",
   "mimetype": "text/x-python",
   "name": "python",
   "nbconvert_exporter": "python",
   "pygments_lexer": "ipython3",
   "version": "3.8.8"
  }
 },
 "nbformat": 4,
 "nbformat_minor": 5
}
