{
  "nbformat": 4,
  "nbformat_minor": 0,
  "metadata": {
    "colab": {
      "name": "SongDectectionIntermediate.ipynb",
      "provenance": [],
      "collapsed_sections": []
    },
    "kernelspec": {
      "name": "python3",
      "display_name": "Python 3"
    },
    "language_info": {
      "name": "python"
    }
  },
  "cells": [
    {
      "cell_type": "markdown",
      "source": [
        "This was a very simple example I attempted on song detection. I understood the distance functions and the iterative functions that calculsted the closest distance to other users. I did not understand how the euclidiean function was different from the pythagoras function so  added both. Other than that, i think i could add more to the program by using the degree of similarity of two users to figure out a confidence interval in predicting how much a user likes a song if the other similar user already rated it."
      ],
      "metadata": {
        "id": "jzVycCHsgXzT"
      }
    },
    {
      "cell_type": "code",
      "source": [
        "\n",
        "import pandas\n",
        "import numpy as np"
      ],
      "metadata": {
        "id": "Z-plQghX_p9X"
      },
      "execution_count": null,
      "outputs": []
    },
    {
      "cell_type": "code",
      "execution_count": null,
      "metadata": {
        "id": "VTnDqfeo-YIE"
      },
      "outputs": [],
      "source": [
        "from pandas import read_csv\n",
        "data_url = 'https://gist.githubusercontent.com/jackbandy/5cd988ab5c3d95b79219364dce7ee5ae/raw/731ecdbecc7b33030f23cd919e6067dfbaf42feb/song-ratings.csv'\n",
        "ratings = read_csv(data_url,index_col=0)\n"
      ]
    },
    {
      "cell_type": "code",
      "source": [
        "#pythagoras solution\n",
        "def distance(person1,person2):\n",
        "  a_squared = (person1[0] - person2[0])**2\n",
        "  b_squared = (person1[1] - person2[1])**2\n",
        "  c = sqrt(a_squared+b_squared)\n",
        "  return c"
      ],
      "metadata": {
        "id": "_xIwj2_WBRb8"
      },
      "execution_count": null,
      "outputs": []
    },
    {
      "cell_type": "code",
      "source": [
        "from scipy.spatial.distance import euclidean#calculating eucliedean distance in space\n",
        "def distance(person1,person2):\n",
        "  distance = euclidean(person1,person2)\n",
        "  return distance"
      ],
      "metadata": {
        "id": "Cdu0w2M4BUhL"
      },
      "execution_count": null,
      "outputs": []
    },
    {
      "cell_type": "code",
      "source": [
        "ratings=ratings.fillna(0)\n",
        "jack=ratings.loc['Jack']\n",
        "nick=ratings.loc['Nick']\n",
        "trevor=ratings.loc['Trevor']\n",
        "print(\"Distance between Jack and Nick:\")\n",
        "print(distance(jack,nick))\n",
        "# 10.63014581273465\n",
        "print(\"Distance between Jack and Trevor:\")\n",
        "print(distance(jack,trevor))\n",
        "# 13.490737563232042"
      ],
      "metadata": {
        "colab": {
          "base_uri": "https://localhost:8080/"
        },
        "id": "fyBDFXIkBgJc",
        "outputId": "0f67bdda-0b21-4a10-806a-441b9f9e2271"
      },
      "execution_count": null,
      "outputs": [
        {
          "output_type": "stream",
          "name": "stdout",
          "text": [
            "Distance between Jack and Nick:\n",
            "9.327379053088816\n",
            "Distance between Jack and Trevor:\n",
            "13.490737563232042\n"
          ]
        }
      ]
    },
    {
      "cell_type": "code",
      "source": [
        "def most_similar_to(name):\n",
        "  person = ratings.loc[name]\n",
        "  closest_distance=1000000\n",
        "  closest_person=' '\n",
        "  for other_person in ratings.itertuples():\n",
        "    if other_person.Index==name:\n",
        "      # don't compare a person to themself\n",
        "      continue\n",
        "    distance_to_other_person = distance(person,ratings.loc[other_person.Index])\n",
        "  if distance_to_other_person < closest_distance:\n",
        "      # new high score! save it\n",
        "      closest_distance = distance_to_other_person\n",
        "      closest_person = other_person.Index\n",
        "  return closest_person\n",
        "\n",
        "# Meg\n",
        "# 8.660254037844387\n",
        "\n",
        "#We can see that jack is the most similar to Meg so let's try and predict if Jack will like a song, say 7 rings by ariana grande based on how meg rates the song"
      ],
      "metadata": {
        "id": "YiY69tRbBl0F"
      },
      "execution_count": null,
      "outputs": []
    },
    {
      "cell_type": "code",
      "source": [
        "print('Jack is most Similar to meg and she has a rating of the song at')\n",
        "print(ratings.at['Megan', '7 Rings (Ariana Grande)'])\n",
        "# 3.0\n",
        "#at a rating of 3/5 jack probably might not love the song"
      ],
      "metadata": {
        "colab": {
          "base_uri": "https://localhost:8080/"
        },
        "id": "cO4_gDU7Cm95",
        "outputId": "2a6fbaed-a099-47ab-f625-28d78983924d"
      },
      "execution_count": null,
      "outputs": [
        {
          "output_type": "stream",
          "name": "stdout",
          "text": [
            "Jack is most Similar to meg and she has a rating of the song at\n",
            "3.0\n"
          ]
        }
      ]
    }
  ]
}