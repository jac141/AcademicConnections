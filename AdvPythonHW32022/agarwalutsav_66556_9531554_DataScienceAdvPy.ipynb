{
 "cells": [
  {
   "cell_type": "code",
   "execution_count": null,
   "id": "dd65fad0-4b3a-4fcd-9ebb-6d21354333f0",
   "metadata": {},
   "outputs": [],
   "source": [
    "pip install seaborn"
   ]
  },
  {
   "cell_type": "code",
   "execution_count": 32,
   "id": "85c7dbc8-3a37-4163-b0d1-e26c25f51dde",
   "metadata": {},
   "outputs": [],
   "source": [
    "import pandas as pd\n",
    "from scipy.spatial.distance import euclidean\n",
    "import numpy as np\n",
    "import matplotlib.pyplot as plt\n",
    "import seaborn as sns\n",
    "from matplotlib import gridspec\n",
    "from sklearn.model_selection import train_test_split\n",
    "from sklearn.ensemble import RandomForestClassifier\n",
    "from sklearn.metrics import classification_report, accuracy_score\n",
    "from sklearn.metrics import precision_score, recall_score\n",
    "from sklearn.metrics import f1_score, matthews_corrcoef\n",
    "from sklearn.metrics import confusion_matrix"
   ]
  },
  {
   "cell_type": "code",
   "execution_count": 24,
   "id": "bd3465f0-f1bd-4c14-9547-b538767317fc",
   "metadata": {},
   "outputs": [
    {
     "name": "stdout",
     "output_type": "stream",
     "text": [
      "Distance between Jack and Nick:\n",
      "9.327379053088816\n",
      "Distance between Jack and Trevor:\n",
      "13.490737563232042\n",
      "Jack is most similar to:\n",
      "Hallie\n",
      "16.583123951777\n",
      "0.0\n"
     ]
    }
   ],
   "source": [
    "\"\"\"\n",
    "Part 1: Intermediate Problem\n",
    "Used website: https://towardsdatascience.com/a-simple-song-recommender-system-in-python-tutorial-3e4c111198d6\n",
    "\"\"\"\n",
    "\n",
    "data_url = 'https://gist.githubusercontent.com/jackbandy/5cd988ab5c3d95b79219364dce7ee5ae/raw/731ecdbecc7b33030f23cd919e6067dfbaf42feb/song-ratings.csv'\n",
    "ratings = pd.read_csv(data_url,index_col=0)\n",
    "ratings = pd.DataFrame(ratings)\n",
    "\n",
    "def most_similar_to(name):\n",
    "  person = ratings.loc[name]\n",
    "  closest_distance=float('inf')\n",
    "  closest_person=''\n",
    "  for other_person in ratings.itertuples():\n",
    "    if other_person.Index==name:\n",
    "      # don't compare a person to themself\n",
    "      continue\n",
    "    distance_to_other_person = distance(person,ratings.loc[other_person.Index])\n",
    "  if distance_to_other_person < closest_distance:\n",
    "      # new high score! save it\n",
    "      closest_distance = distance_to_other_person\n",
    "      closest_person = other_person.Index\n",
    "  return closest_person\n",
    "\n",
    "\n",
    "def distance(person1,person2):\n",
    "  distance = euclidean(person1,person2)\n",
    "  return distance\n",
    "\n",
    "ratings=ratings.fillna(0)\n",
    "jack=ratings.loc['Jack']\n",
    "nick=ratings.loc['Nick']\n",
    "trevor=ratings.loc['Trevor']\n",
    "\n",
    "print(\"Distance between Jack and Nick:\")\n",
    "print(distance(jack,nick))\n",
    "\n",
    "print(\"Distance between Jack and Trevor:\")\n",
    "print(distance(jack,trevor))\n",
    "\n",
    "print(\"Jack is most similar to:\")\n",
    "person_most_similar_to_jack = most_similar_to('Jack')\n",
    "print(person_most_similar_to_jack)\n",
    "print(distance(jack, ratings.loc[person_most_similar_to_jack]))\n",
    "\n",
    "print(ratings.at[person_most_similar_to_jack, '7 Rings (Ariana Grande)'])"
   ]
  },
  {
   "cell_type": "code",
   "execution_count": 34,
   "id": "64460522-3d5a-4be3-91ef-14c4f6df6ad2",
   "metadata": {},
   "outputs": [
    {
     "name": "stdout",
     "output_type": "stream",
     "text": [
      "(284807, 30)\n",
      "(284807,)\n",
      "------------------------------------------------------------------\n",
      "The model used is Random Forest classifier\n",
      "The accuracy is 0.9995786664794073\n",
      "The precision is 0.9743589743589743\n",
      "The recall is 0.7755102040816326\n",
      "The F1-Score is 0.8636363636363635\n",
      "The Matthews correlation coefficient is 0.8690748763736589\n"
     ]
    },
    {
     "data": {
      "image/png": "[encoded data removed]",
      "text/plain": [
       "<Figure size 864x864 with 2 Axes>"
      ]
     },
     "metadata": {
      "needs_background": "light"
     },
     "output_type": "display_data"
    }
   ],
   "source": [
    "\"\"\"\n",
    "Part 2: Advanced Problem\n",
    "Used website: https://www.geeksforgeeks.org/ml-credit-card-fraud-detection/\n",
    "\"\"\"\n",
    "\n",
    "data = pd.read_csv(\"creditcard 2.csv\")\n",
    "\n",
    "# print(data.shape)\n",
    "# print(data.describe())\n",
    "\"\"\"\n",
    "fraud = data[data['Class'] == 1]\n",
    "valid = data[data['Class'] == 0]\n",
    "outlierFraction = len(fraud)/float(len(valid))\n",
    "print(outlierFraction)\n",
    "print('Fraud Cases: {}'.format(len(data[data['Class'] == 1])))\n",
    "print('Valid Transactions: {}'.format(len(data[data['Class'] == 0])))\n",
    "\n",
    "print(\"------------------------------------------------------------------\")\n",
    "\n",
    "print(\"Amount details of the fraudulent transaction\")\n",
    "print(fraud.Amount.describe())\n",
    "\n",
    "\n",
    "print('details of valid transaction')\n",
    "print(valid.Amount.describe())\n",
    "\n",
    "print(\"------------------------------------------------------------------\")\n",
    "\n",
    "\n",
    "# Correlation matrix\n",
    "corrmat = data.corr()\n",
    "fig = plt.figure(figsize = (12, 9))\n",
    "sns.heatmap(corrmat, vmax = .8, square = True)\n",
    "plt.show()\n",
    "\n",
    "print(\"------------------------------------------------------------------\")\n",
    "\"\"\"\n",
    "\n",
    "# dividing the X and the Y from the dataset\n",
    "X = data.drop(['Class'], axis = 1)\n",
    "Y = data[\"Class\"]\n",
    "print(X.shape)\n",
    "print(Y.shape)\n",
    "# getting just the values for the sake of processing\n",
    "# (its a numpy array with no columns)\n",
    "xData = X.values\n",
    "yData = Y.values\n",
    "\n",
    "print(\"------------------------------------------------------------------\")\n",
    "\n",
    "# Split the data into training and testing sets\n",
    "xTrain, xTest, yTrain, yTest = train_test_split(\n",
    "        xData, yData, test_size = 0.2, random_state = 42)\n",
    "\n",
    "# random forest model creation\n",
    "rfc = RandomForestClassifier()\n",
    "rfc.fit(xTrain, yTrain)\n",
    "# predictions\n",
    "yPred = rfc.predict(xTest)\n",
    "\n",
    "n_outliers = len(fraud)\n",
    "n_errors = (yPred != yTest).sum()\n",
    "print(\"The model used is Random Forest classifier\")\n",
    " \n",
    "\n",
    "print(\"The accuracy is {}\".format(accuracy_score(yTest, yPred)))\n",
    "\n",
    "\n",
    "print(\"The precision is {}\".format(precision_score(yTest, yPred)))\n",
    " \n",
    "\n",
    "print(\"The recall is {}\".format(recall_score(yTest, yPred)))\n",
    " \n",
    "print(\"The F1-Score is {}\".format(f1_score(yTest, yPred)))\n",
    " \n",
    "print(\"The Matthews correlation coefficient is {}\".format(matthews_corrcoef(yTest, yPred)))\n",
    "\n",
    "\n",
    "\n",
    "# printing the confusion matrix\n",
    "LABELS = ['Normal', 'Fraud']\n",
    "conf_matrix = confusion_matrix(yTest, yPred)\n",
    "plt.figure(figsize =(12, 12))\n",
    "sns.heatmap(conf_matrix, xticklabels = LABELS,\n",
    "            yticklabels = LABELS, annot = True, fmt =\"d\");\n",
    "plt.title(\"Confusion matrix\")\n",
    "plt.ylabel('True class')\n",
    "plt.xlabel('Predicted class')\n",
    "plt.show()"
   ]
  },
  {
   "cell_type": "code",
   "execution_count": null,
   "id": "8976db61-071e-45a8-b8a0-cb88367b41ad",
   "metadata": {},
   "outputs": [],
   "source": []
  },
  {
   "cell_type": "code",
   "execution_count": null,
   "id": "be1f480e-502d-448e-8b3f-b6d66f6bbca4",
   "metadata": {},
   "outputs": [],
   "source": []
  }
 ],
 "metadata": {
  "kernelspec": {
   "display_name": "Python 3 (ipykernel)",
   "language": "python",
   "name": "python3"
  },
  "language_info": {
   "codemirror_mode": {
    "name": "ipython",
    "version": 3
   },
   "file_extension": ".py",
   "mimetype": "text/x-python",
   "name": "python",
   "nbconvert_exporter": "python",
   "pygments_lexer": "ipython3",
   "version": "3.7.12"
  }
 },
 "nbformat": 4,
 "nbformat_minor": 5
}
