{
  "nbformat": 4,
  "nbformat_minor": 0,
  "metadata": {
    "colab": {
      "name": "copy of copy of HW -IntrotoPython_HW2_Topic1 (2) (1).ipynb",
      "provenance": [],
      "collapsed_sections": []
    },
    "kernelspec": {
      "name": "python3",
      "display_name": "Python 3"
    },
    "language_info": {
      "name": "python"
    }
  },
  "cells": [
    {
      "cell_type": "markdown",
      "source": [
        "# Comprehensions"
      ],
      "metadata": {
        "id": "H69HHYvqGdwu"
      }
    },
    {
      "cell_type": "code",
      "source": [
        "# Comprehension Function 1\n",
        "# I am not asking you to write a function, just code, similar to chatbot\n",
        "\n",
        "# Using a list comprehension remove all the vowels in a string \n",
        "vowels = ['a', 'e', 'i', 'o', 'u', 'A', 'E', 'I', 'O', 'U']\n",
        "\n",
        "# Consider a string to be like a list of characters\n",
        "test_string = 'Hi, my name is Nika'\n",
        "\n",
        "vowel_removed = [letter for letter in test_string if letter not in vowels]\n",
        "\n",
        "# Neatly concatenate consanents left over into a new string\n",
        "new_string = ''\n",
        "for i in vowel_removed: \n",
        "  new_string += i\n",
        "\n",
        "new_string"
      ],
      "metadata": {
        "id": "bICDe4hIG4YH",
        "colab": {
          "base_uri": "https://localhost:8080/",
          "height": 36
        },
        "outputId": "e9a52d25-40cd-4de8-9263-9fe9bd3c9efb"
      },
      "execution_count": null,
      "outputs": [
        {
          "output_type": "execute_result",
          "data": {
            "text/plain": [
              "'H, my nm s Nk'"
            ],
            "application/vnd.google.colaboratory.intrinsic+json": {
              "type": "string"
            }
          },
          "metadata": {},
          "execution_count": 1
        }
      ]
    },
    {
      "cell_type": "code",
      "source": [
        "# Comprehension Function 2\n",
        "# I am not asking you to write a function, just code, similar to chatbot\n",
        "\n",
        "# Using a dictionary comprehension to count the length of each word in a sentence\n",
        "\n",
        "sample_sentence = 'Today I went to the store'\n",
        "\n",
        "result_dict = {word: len(word) for word in sample_sentence.split()}\n",
        "result_dict"
      ],
      "metadata": {
        "id": "Iy0d8WXHHATS",
        "colab": {
          "base_uri": "https://localhost:8080/"
        },
        "outputId": "81730568-b035-40f7-94f0-bd9d34667bf5"
      },
      "execution_count": null,
      "outputs": [
        {
          "output_type": "execute_result",
          "data": {
            "text/plain": [
              "{'I': 1, 'Today': 5, 'store': 5, 'the': 3, 'to': 2, 'went': 4}"
            ]
          },
          "metadata": {},
          "execution_count": 20
        }
      ]
    },
    {
      "cell_type": "code",
      "source": [
        "# Comprehension Function 3\n",
        "# I am not asking you to write a function, just code, similar to chatbot\n",
        "\n",
        "# Use a nested list comprehension to find all of the numbers \n",
        "# from 1–2000 that are divisible by any single digit besides 1 ( so just 2–9)\n",
        "\n",
        "result = [num for num in [n for n in range(1, 2001)] if num % 2 == 0 or num % 3 == 0 or num % 4 == 0 or num % 5 == 0 or num % 6 == 0 or num % 7 == 0 or num % 8 == 0 or num % 9 == 0]\n",
        "result"
      ],
      "metadata": {
        "id": "NBqRYB3sHKNu",
        "colab": {
          "base_uri": "https://localhost:8080/"
        },
        "outputId": "0c0740e2-efc7-4dd3-c031-bb444410d555"
      },
      "execution_count": null,
      "outputs": [
        {
          "output_type": "execute_result",
          "data": {
            "text/plain": [
              "1542"
            ]
          },
          "metadata": {},
          "execution_count": 28
        }
      ]
    },
    {
      "cell_type": "code",
      "source": [
        "# Comprehension Function 3\n",
        "\n",
        "# Find all of the numbers from 1–2000 that have a 6 in them\n",
        "\n",
        "result = [num for num in [n for n in range(1, 2001)] if '6' in str(num)]\n"
      ],
      "metadata": {
        "id": "SY10qd2lHaYS"
      },
      "execution_count": null,
      "outputs": []
    },
    {
      "cell_type": "code",
      "source": [
        "# Comprehension Function 4\n",
        "\n",
        "# Write a function that takes in a string\n",
        "# and returns a list of all the words in that string that are less than 5 letters\n",
        "\n",
        "def less_than_5(my_str):\n",
        "  result = [w for w in my_str.split() if len(w) < 5]\n",
        "  return result\n",
        "\n",
        "test_str = 'Hello, I had the pleasure of meeting you today'\n",
        "less_than_5(test_str)"
      ],
      "metadata": {
        "id": "PN7LVmvzHiqT",
        "colab": {
          "base_uri": "https://localhost:8080/"
        },
        "outputId": "f42f33ff-3de1-4839-f3ee-c7e6d6cec9be"
      },
      "execution_count": null,
      "outputs": [
        {
          "output_type": "execute_result",
          "data": {
            "text/plain": [
              "['I', 'had', 'the', 'of', 'you']"
            ]
          },
          "metadata": {},
          "execution_count": 30
        }
      ]
    },
    {
      "cell_type": "markdown",
      "metadata": {
        "id": "ZqKBeHFl_Wvg"
      },
      "source": [
        "# Working with sets\n",
        "**Hint** Take a look at the `set` function in Python, the `set` data type, and built-in `set` methods."
      ]
    },
    {
      "cell_type": "code",
      "execution_count": null,
      "metadata": {
        "id": "DSNyD3wq_Wvg",
        "colab": {
          "base_uri": "https://localhost:8080/"
        },
        "outputId": "466ab05c-53b6-4797-e723-bb24098f5f6a"
      },
      "outputs": [
        {
          "output_type": "stream",
          "name": "stdout",
          "text": [
            "{'k', 'i', 'w'}\n",
            "{1, 2, 3, 4}\n"
          ]
        }
      ],
      "source": [
        "# Example set function usage\n",
        "print(set(\"kiwi\"))\n",
        "print(set([1, 2, 2, 3, 3, 3, 4, 4, 4, 4]))"
      ]
    },
    {
      "cell_type": "code",
      "execution_count": null,
      "metadata": {
        "id": "NQnVLnIw_Wvg",
        "colab": {
          "base_uri": "https://localhost:8080/"
        },
        "outputId": "7535fa63-21a7-47bc-e1b7-996936b45c59"
      },
      "outputs": [
        {
          "output_type": "stream",
          "name": "stdout",
          "text": [
            "Exercise 83 is correct.\n"
          ]
        }
      ],
      "source": [
        "# Exercise 83\n",
        "# Write a function definition named get_unique_values that takes in a list and returns a set with only the unique values from that list.\n",
        "\n",
        "def get_unique_values(my_list):\n",
        "  return set(my_list)\n",
        "\n",
        "assert get_unique_values([\"ant\", \"ant\", \"mosquito\", \"mosquito\", \"ladybug\"]) == {\"ant\", \"mosquito\", \"ladybug\"}\n",
        "assert get_unique_values([\"b\", \"a\", \"n\", \"a\", \"n\", \"a\", \"s\"]) == {\"b\", \"a\", \"n\", \"s\"}\n",
        "assert get_unique_values([\"mary\", \"had\", \"a\", \"little\", \"lamb\", \"little\", \"lamb\", \"little\", \"lamb\"]) == {\"mary\", \"had\", \"a\", \"little\", \"lamb\"}\n",
        "print(\"Exercise 83 is correct.\")"
      ]
    },
    {
      "cell_type": "code",
      "execution_count": null,
      "metadata": {
        "id": "L0YnWAxw_Wvh",
        "colab": {
          "base_uri": "https://localhost:8080/"
        },
        "outputId": "b540d647-5467-43d9-83ef-e7c72790deda"
      },
      "outputs": [
        {
          "output_type": "stream",
          "name": "stdout",
          "text": [
            "Exercise 84 is correct.\n"
          ]
        }
      ],
      "source": [
        "# Exercise 84\n",
        "# Write a function definition named get_unique_values_from_two_lists that takes two lists and returns a single set with only the unique values\n",
        "\n",
        "def get_unique_values_from_two_lists(l1, l2):\n",
        "\n",
        "  # Combine both lists into one\n",
        "  combined_list = l1 + l2\n",
        "\n",
        "  return set(combined_list)\n",
        "\n",
        "assert get_unique_values_from_two_lists([5, 1, 2, 3], [3, 4, 5, 5]) == {1, 2, 3, 4, 5}\n",
        "assert get_unique_values_from_two_lists([1, 1], [2, 2, 3]) == {1, 2, 3}\n",
        "assert get_unique_values_from_two_lists([\"tomato\", \"mango\", \"kiwi\"], [\"eggplant\", \"tomato\", \"broccoli\"]) == {\"tomato\", \"mango\", \"kiwi\", \"eggplant\", \"broccoli\"}\n",
        "print(\"Exercise 84 is correct.\")"
      ]
    },
    {
      "cell_type": "code",
      "execution_count": null,
      "metadata": {
        "id": "6T7Xndxr_Wvh",
        "colab": {
          "base_uri": "https://localhost:8080/"
        },
        "outputId": "26a3912c-9b5c-473d-abbf-8b2180455c94"
      },
      "outputs": [
        {
          "output_type": "stream",
          "name": "stdout",
          "text": [
            "Exercise 85 is correct.\n"
          ]
        }
      ],
      "source": [
        "# Exercise 85\n",
        "# Write a function definition named get_values_in_common that takes two lists and returns a single set with the values that each list has in common\n",
        "\n",
        "\n",
        "def get_values_in_common(list1, list2):\n",
        "    return (set(list1).intersection(list2))\n",
        "    \n",
        "    # The below doesn't return a set, it returns a new list\n",
        "    #list3 = [x for x in list1 if x in list2]\n",
        "    #print (list3)\n",
        "    #return list3\n",
        "    \n",
        "\n",
        "assert get_values_in_common([5, 1, 2, 3], [3, 4, 5, 5]) == {3, 5}\n",
        "assert get_values_in_common([1, 2], [2, 2, 3]) == {2}\n",
        "assert get_values_in_common([\"tomato\", \"mango\", \"kiwi\"], [\"eggplant\", \"tomato\", \"broccoli\"]) == {\"tomato\"}\n",
        "print(\"Exercise 85 is correct.\")"
      ]
    },
    {
      "cell_type": "code",
      "execution_count": null,
      "metadata": {
        "id": "hLDiNZL8_Wvh",
        "colab": {
          "base_uri": "https://localhost:8080/"
        },
        "outputId": "647f40a7-4b7b-4643-e85e-05893533cdb2"
      },
      "outputs": [
        {
          "output_type": "stream",
          "name": "stdout",
          "text": [
            "{1, 2, 4}\n",
            "{1, 2, 3}\n",
            "{'eggplant', 'mango', 'broccoli', 'kiwi'}\n",
            "Exercise 86 is correct.\n"
          ]
        }
      ],
      "source": [
        "# Exercise 86\n",
        "# Write a function definition named get_values_not_in_common that takes two lists and returns a single set with the values that each list does not have in common\n",
        "\n",
        "def get_values_not_in_common(list1, list2):\n",
        "    print (set(list1).symmetric_difference(list2))\n",
        "    return (set(list1).symmetric_difference(list2))\n",
        "    \n",
        "\n",
        "assert get_values_not_in_common([5, 1, 2, 3], [3, 4, 5, 5]) == {1, 2, 4}\n",
        "assert get_values_not_in_common([1, 1], [2, 2, 3]) == {1, 2, 3}\n",
        "assert get_values_not_in_common([\"tomato\", \"mango\", \"kiwi\"], [\"eggplant\", \"tomato\", \"broccoli\"]) == {\"mango\", \"kiwi\", \"eggplant\", \"broccoli\"}\n",
        "print(\"Exercise 86 is correct.\")"
      ]
    },
    {
      "cell_type": "markdown",
      "metadata": {
        "id": "XaAbM849_Wvh"
      },
      "source": [
        "# Working with Dictionaries\n"
      ]
    },
    {
      "cell_type": "code",
      "execution_count": null,
      "metadata": {
        "id": "TvrnkNUL_Wvh"
      },
      "outputs": [],
      "source": [
        "# Run this cell in order to have these two dictionary variables defined.\n",
        "tukey_paper = {\n",
        "    \"title\": \"The Future of Data Analysis\",\n",
        "    \"author\": \"John W. Tukey\",\n",
        "    \"link\": \"https://projecteuclid.org/euclid.aoms/1177704711\",\n",
        "    \"year_published\": 1962\n",
        "}\n",
        "\n",
        "thomas_paper = {\n",
        "    \"title\": \"A mathematical model of glutathione metabolism\",\n",
        "    \"author\": \"Rachel Thomas\",\n",
        "    \"link\": \"https://www.ncbi.nlm.nih.gov/pubmed/18442411\",\n",
        "    \"year_published\": 2008\n",
        "}"
      ]
    },
    {
      "cell_type": "code",
      "execution_count": null,
      "metadata": {
        "id": "sDTU3GuQ_Wvh",
        "colab": {
          "base_uri": "https://localhost:8080/"
        },
        "outputId": "587c7994-4a85-4378-9196-a153f4e90813"
      },
      "outputs": [
        {
          "output_type": "stream",
          "name": "stdout",
          "text": [
            "Exercise 87 is correct.\n"
          ]
        }
      ],
      "source": [
        "# Exercise 87\n",
        "# Write a function named get_paper_title that takes in a dictionary and returns the title property\n",
        "\n",
        "def get_paper_title(dct):\n",
        "    return dct['title']\n",
        "\n",
        "assert get_paper_title(tukey_paper) == \"The Future of Data Analysis\"\n",
        "assert get_paper_title(thomas_paper) == \"A mathematical model of glutathione metabolism\"\n",
        "print(\"Exercise 87 is correct.\")"
      ]
    },
    {
      "cell_type": "code",
      "execution_count": null,
      "metadata": {
        "id": "4cCJwlkB_Wvi",
        "colab": {
          "base_uri": "https://localhost:8080/"
        },
        "outputId": "2c0c21da-291d-4729-edd8-5a26a4101f8f"
      },
      "outputs": [
        {
          "output_type": "stream",
          "name": "stdout",
          "text": [
            "Exercise 88 is correct.\n"
          ]
        }
      ],
      "source": [
        "# Exercise 88\n",
        "# Write a function named get_year_published that takes in a dictionary and returns the value behind the \"year_published\" key.\n",
        "\n",
        "def get_year_published(dct):\n",
        "    return dct['year_published']\n",
        "\n",
        "assert get_year_published(tukey_paper) == 1962\n",
        "assert get_year_published(thomas_paper) == 2008\n",
        "print(\"Exercise 88 is correct.\")"
      ]
    },
    {
      "cell_type": "code",
      "execution_count": null,
      "metadata": {
        "id": "HS6XeXem_Wvi"
      },
      "outputs": [],
      "source": [
        "# Run this code to create data for the next two questions\n",
        "book = {\n",
        "    \"title\": \"Genetic Algorithms and Machine Learning for Programmers\",\n",
        "    \"price\": 36.99,\n",
        "    \"author\": \"Frances Buontempo\"\n",
        "}"
      ]
    },
    {
      "cell_type": "code",
      "execution_count": null,
      "metadata": {
        "id": "SNQ_j5IQ_Wvi",
        "colab": {
          "base_uri": "https://localhost:8080/"
        },
        "outputId": "8583324c-23b7-4883-a13f-c762d05b9ef4"
      },
      "outputs": [
        {
          "output_type": "stream",
          "name": "stdout",
          "text": [
            "Exercise 89 is complete.\n"
          ]
        }
      ],
      "source": [
        "# Exercise 89\n",
        "# Write a function named get_price that takes in a dictionary and returns the price\n",
        "def get_price(a):\n",
        "    return a['price']\n",
        "\n",
        "assert get_price(book) == 36.99\n",
        "print(\"Exercise 89 is complete.\")\n"
      ]
    },
    {
      "cell_type": "code",
      "execution_count": null,
      "metadata": {
        "id": "v7m9g8up_Wvi",
        "colab": {
          "base_uri": "https://localhost:8080/"
        },
        "outputId": "a1714930-3440-4a1f-b3e2-750fb1e40523"
      },
      "outputs": [
        {
          "output_type": "stream",
          "name": "stdout",
          "text": [
            "Exercise 90 is complete.\n"
          ]
        }
      ],
      "source": [
        "# Exercise 90\n",
        "# Write a function named get_book_author that takes in a dictionary (the above declared book variable) and returns the author's name\n",
        "\n",
        "\n",
        "def get_book_author(a):\n",
        "    return a ['author']\n",
        "\n",
        "assert get_book_author(book) == \"Frances Buontempo\"\n",
        "print(\"Exercise 90 is complete.\")"
      ]
    },
    {
      "cell_type": "markdown",
      "metadata": {
        "id": "mDsvY9tC_Wvi"
      },
      "source": [
        "# Working with Lists of Dictionaries\n",
        "**Hint** If you need an example of lists of dictionaries, see \n",
        "- [Getting Started With a List of Dictionaries](https://colab.research.google.com/github/ryanorsinger/list_of_dictionaries/blob/main/getting_started.ipynb)\n",
        "- [Practice Exercises for List of Dictionaries](https://colab.research.google.com/github/ryanorsinger/list_of_dictionaries/blob/main/exercises.ipynb)\n",
        "- [Companion Video](https://www.youtube.com/watch?v=pPdEahZgv8U)\n"
      ]
    },
    {
      "cell_type": "code",
      "execution_count": null,
      "metadata": {
        "id": "4ni3zTIO_Wvj"
      },
      "outputs": [],
      "source": [
        "# Run this cell in order to have some setup data for the next exercises\n",
        "books = [\n",
        "    {\n",
        "        \"title\": \"Genetic Algorithms and Machine Learning for Programmers\",\n",
        "        \"price\": 36.99,\n",
        "        \"author\": \"Frances Buontempo\"\n",
        "    },\n",
        "    {\n",
        "        \"title\": \"The Visual Display of Quantitative Information\",\n",
        "        \"price\": 38.00,\n",
        "        \"author\": \"Edward Tufte\"\n",
        "    },\n",
        "    {\n",
        "        \"title\": \"Practical Object-Oriented Design\",\n",
        "        \"author\": \"Sandi Metz\",\n",
        "        \"price\": 30.47\n",
        "    },\n",
        "    {\n",
        "        \"title\": \"Weapons of Math Destruction\",\n",
        "        \"author\": \"Cathy O'Neil\",\n",
        "        \"price\": 17.44\n",
        "    }\n",
        "]"
      ]
    },
    {
      "cell_type": "code",
      "execution_count": null,
      "metadata": {
        "id": "3fnBL-BD_Wvj",
        "colab": {
          "base_uri": "https://localhost:8080/"
        },
        "outputId": "dbdb4a56-c83a-4b1b-c222-bee448c17654"
      },
      "outputs": [
        {
          "output_type": "stream",
          "name": "stdout",
          "text": [
            "Exercise 91 is complete.\n"
          ]
        }
      ],
      "source": [
        "# Exercise 91\n",
        "# Write a function named get_number_of_books that takes in a list of objects and returns the number of dictionaries in that list.\n",
        "\n",
        "def get_number_of_books(my_list):\n",
        "  return len(my_list)\n",
        "\n",
        "assert get_number_of_books(books) == 4\n",
        "print(\"Exercise 91 is complete.\")"
      ]
    },
    {
      "cell_type": "code",
      "execution_count": null,
      "metadata": {
        "id": "QHgdGVHV_Wvj",
        "colab": {
          "base_uri": "https://localhost:8080/"
        },
        "outputId": "07a212e9-ba15-4fd1-abcc-b14186793a49"
      },
      "outputs": [
        {
          "output_type": "stream",
          "name": "stdout",
          "text": [
            "Exercise 92 is complete.\n"
          ]
        }
      ],
      "source": [
        "# Exercise 92\n",
        "# Write a function named total_of_book_prices that takes in a list of dictionaries and returns the sum total of all the book prices added together\n",
        "\n",
        "def total_of_book_prices(my_list):\n",
        "\n",
        "  total = 0\n",
        "\n",
        "  for book in my_list:\n",
        "    total = total + book.get('price')\n",
        "\n",
        "  return total\n",
        "\n",
        "assert total_of_book_prices(books) == 122.9\n",
        "print(\"Exercise 92 is complete.\")"
      ]
    },
    {
      "cell_type": "code",
      "execution_count": null,
      "metadata": {
        "id": "klSCtbep_Wvk",
        "colab": {
          "base_uri": "https://localhost:8080/"
        },
        "outputId": "4b5ee595-482f-4109-fe2e-4e7abb111e43"
      },
      "outputs": [
        {
          "output_type": "stream",
          "name": "stdout",
          "text": [
            "Exercise 93 is complete.\n"
          ]
        }
      ],
      "source": [
        "# Exercise 93\n",
        "# Write a function named get_average_book_price that takes in a list of dictionaries and returns the average book price.\n",
        "def get_average_book_price(my_list):\n",
        "    return(total_of_book_prices(my_list)/get_number_of_books(my_list))\n",
        "  \n",
        "assert get_average_book_price(books) == 30.725\n",
        "print(\"Exercise 93 is complete.\")\n"
      ]
    },
    {
      "cell_type": "code",
      "execution_count": null,
      "metadata": {
        "id": "85KDw_7H_Wvk",
        "colab": {
          "base_uri": "https://localhost:8080/"
        },
        "outputId": "624b0195-2451-4e22-b5d3-4bea57e71946"
      },
      "outputs": [
        {
          "output_type": "stream",
          "name": "stdout",
          "text": [
            "Exercise 94 is complete\n"
          ]
        }
      ],
      "source": [
        "# Exercise 94\n",
        "# Write a function called highest_price_book that takes in the above defined list of dictionaries \"books\" and returns the dictionary containing the title, price, and author of the book with the highest priced book.\n",
        "# Hint: Much like sometimes start functions with a variable set to zero, you may want to create a dictionary with the price set to zero to compare to each dictionary's price in the list\n",
        "\n",
        "def get_max_price(lst):\n",
        "    max_price = 0\n",
        "    for itm in lst:\n",
        "        if itm['price'] > max_price:\n",
        "            max_price = itm['price']\n",
        "    #print(max_price)\n",
        "    return(max_price)\n",
        "    \n",
        "def highest_price_book(lst):\n",
        "    max_price = get_max_price(lst)\n",
        "    for itm in lst:\n",
        "        if itm['price'] == max_price:\n",
        "            #print(itm)\n",
        "            return itm\n",
        "    \n",
        "\n",
        "assert highest_price_book(books) == {\n",
        "    \"title\": \"The Visual Display of Quantitative Information\",\n",
        "    \"price\": 38.00,\n",
        "    \"author\": \"Edward Tufte\"\n",
        "}\n",
        "\n",
        "print(\"Exercise 94 is complete\")\n"
      ]
    },
    {
      "cell_type": "code",
      "execution_count": null,
      "metadata": {
        "id": "Hf1OahW0_Wvl",
        "colab": {
          "base_uri": "https://localhost:8080/"
        },
        "outputId": "e160481e-f4d4-4a14-a12e-b36c9e7c6016"
      },
      "outputs": [
        {
          "output_type": "stream",
          "name": "stdout",
          "text": [
            "Exercise 95 is complete.\n"
          ]
        }
      ],
      "source": [
        "# Exercise 95\n",
        "# Write a function called lowest_priced_book that takes in the above defined list of dictionaries \"books\" and returns the dictionary containing the title, price, and author of the book with the lowest priced book.\n",
        "# Hint: Much like sometimes start functions with a variable set to zero or float('inf'), you may want to create a dictionary with the price set to float('inf') to compare to each dictionary in the list\n",
        "\n",
        "\n",
        "def get_min_price(lst):\n",
        "    min_price = get_max_price(lst)\n",
        "    for itm in lst:\n",
        "        if min_price > itm['price']:\n",
        "            min_price = itm['price']\n",
        "    #print(min_price)\n",
        "    return min_price\n",
        "\n",
        "def lowest_price_book(lst):\n",
        "    min_price = get_min_price(lst)\n",
        "    for itm in lst:\n",
        "        if itm['price'] == min_price:\n",
        "            return itm\n",
        "\n",
        "assert lowest_price_book(books) == {\n",
        "    \"title\": \"Weapons of Math Destruction\",\n",
        "    \"author\": \"Cathy O'Neil\",\n",
        "    \"price\": 17.44\n",
        "}\n",
        "print(\"Exercise 95 is complete.\")"
      ]
    },
    {
      "cell_type": "code",
      "execution_count": null,
      "metadata": {
        "id": "bm2veYIT_Wvl"
      },
      "outputs": [],
      "source": [
        "shopping_cart = {\n",
        "    \"tax\": .08,\n",
        "    \"items\": [\n",
        "        {\n",
        "            \"title\": \"orange juice\",\n",
        "            \"price\": 3.99,\n",
        "            \"quantity\": 1\n",
        "        },\n",
        "        {\n",
        "            \"title\": \"rice\",\n",
        "            \"price\": 1.99,\n",
        "            \"quantity\": 3\n",
        "        },\n",
        "        {\n",
        "            \"title\": \"beans\",\n",
        "            \"price\": 0.99,\n",
        "            \"quantity\": 3\n",
        "        },\n",
        "        {\n",
        "            \"title\": \"chili sauce\",\n",
        "            \"price\": 2.99,\n",
        "            \"quantity\": 1\n",
        "        },\n",
        "        {\n",
        "            \"title\": \"chocolate\",\n",
        "            \"price\": 0.75,\n",
        "            \"quantity\": 9\n",
        "        }\n",
        "    ]\n",
        "}"
      ]
    },
    {
      "cell_type": "code",
      "execution_count": null,
      "metadata": {
        "id": "n4W0tBBa_Wvl",
        "colab": {
          "base_uri": "https://localhost:8080/"
        },
        "outputId": "ca1075de-5cf7-4222-c466-c76d56a37430"
      },
      "outputs": [
        {
          "output_type": "stream",
          "name": "stdout",
          "text": [
            "Exercise 96 is complete\n"
          ]
        }
      ],
      "source": [
        "# Exercise 96\n",
        "# Write a function named get_tax_rate that takes in the above shopping cart as input and returns the tax rate.\n",
        "# Hint: How do you access a key's value on a dictionary? The tax rate is one key of the entire shopping_cart dictionary.\n",
        "\n",
        "def get_tax_rate(lst):\n",
        "    return lst['tax']\n",
        "assert get_tax_rate(shopping_cart) == .08\n",
        "print(\"Exercise 96 is complete\")"
      ]
    },
    {
      "cell_type": "code",
      "execution_count": null,
      "metadata": {
        "id": "mAdGJjId_Wvl",
        "colab": {
          "base_uri": "https://localhost:8080/"
        },
        "outputId": "9c00fb67-2b44-4a10-f11b-f44f8c68be6b"
      },
      "outputs": [
        {
          "output_type": "stream",
          "name": "stdout",
          "text": [
            "Exercise 97 is complete.\n"
          ]
        }
      ],
      "source": [
        "# Exercise 97\n",
        "# Write a function named number_of_item_types that takes in the shopping cart as input and returns the number of unique item types in the shopping cart. \n",
        "# We're not yet using the quantity of each item, but rather focusing on determining how many different types of items are in the cart.\n",
        "def number_of_item_types(lst):\n",
        "    #print(len(lst['items']))\n",
        "    return len(lst['items'])\n",
        "assert number_of_item_types(shopping_cart) == 5\n",
        "print(\"Exercise 97 is complete.\")"
      ]
    },
    {
      "cell_type": "code",
      "execution_count": null,
      "metadata": {
        "id": "h7OTsKND_Wvm",
        "colab": {
          "base_uri": "https://localhost:8080/"
        },
        "outputId": "fab39b44-5c9e-48c6-a26a-9cf5ec6ae4c4"
      },
      "outputs": [
        {
          "output_type": "stream",
          "name": "stdout",
          "text": [
            "Exercise 99 is complete.\n"
          ]
        }
      ],
      "source": [
        "# Exercise 99\n",
        "# Write a function named get_average_item_price that takes in the shopping cart as an input and returns the average of all the item prices.\n",
        "# Hint - This should determine the total price divided by the number of types of items. This does not account for each item type's quantity.\n",
        "def get_average_item_price(lst):\n",
        "    tot_itm_price = 0\n",
        "    for itm in lst['items']:\n",
        "        tot_itm_price += itm['price']\n",
        "    #print(tot_price)\n",
        "    avg_price = tot_itm_price / number_of_item_types(lst) \n",
        "    #print(avg_price)\n",
        "    return avg_price\n",
        "    \n",
        "assert get_average_item_price(shopping_cart) == 2.1420000000000003\n",
        "print(\"Exercise 99 is complete.\")"
      ]
    },
    {
      "cell_type": "code",
      "execution_count": null,
      "metadata": {
        "id": "5SReB-60_Wvo",
        "colab": {
          "base_uri": "https://localhost:8080/"
        },
        "outputId": "09caa979-57e6-4fa2-845d-2f470e23eab4"
      },
      "outputs": [
        {
          "output_type": "stream",
          "name": "stdout",
          "text": [
            "Exercise 100 is complete.\n"
          ]
        }
      ],
      "source": [
        "# Exercise 100\n",
        "# Write a function named get_average_spent_per_item that takes in the shopping cart and returns the average of summing each item's quanties times that item's price.\n",
        "# Hint: You may need to set an initial total price and total total quantity to zero, then sum up and divide that total price by the total quantity\n",
        "\n",
        "def get_average_spent_per_item(shopping_cart):\n",
        "    \n",
        "    total_spent = 0\n",
        "    number_of_items = 0\n",
        "    \n",
        "    for item in shopping_cart[\"items\"]:\n",
        "        \n",
        "            total_spent += (item[\"price\"] * item[\"quantity\"])\n",
        "            \n",
        "            number_of_items += item[\"quantity\"]\n",
        "            \n",
        "    return total_spent / number_of_items\n",
        "    \n",
        "\n",
        "assert get_average_spent_per_item(shopping_cart) == 1.333529411764706\n",
        "print(\"Exercise 100 is complete.\")"
      ]
    },
    {
      "cell_type": "markdown",
      "source": [
        "# Miscellaneous Functions"
      ],
      "metadata": {
        "id": "okXx-79tIcJF"
      }
    },
    {
      "cell_type": "code",
      "source": [
        "# HW 2 Function 1: Combine Lists\n",
        "# Edit the function combine_lists so that it takes two lists (sequences) as input \n",
        "# and returns a new list containing all elements from both lists; the\n",
        "# elements of the first list, followed by the elements of the second list. \n",
        "# The original lists should not be modified. No \"for loops\"! \n",
        "\n",
        "first = [1,2,3]\n",
        "second = [4, 5, 6]\n",
        "\n",
        "\n",
        "# uncomment this to check your work with the example lists\n",
        "# Extra Credit if you make your own example and assert to check it. \n",
        "# There are examples in the PDF that will also be provided\n",
        "# assert combine_lists(first, second) == [1, 2, 3, 4, 5, 6]\n",
        "# print(\"Exercise Function HW2 Function1 is complete.\")\n",
        "\n",
        "\n",
        "def combine_lists(l1, l2):\n",
        "    return(l1 + l2)\n",
        "\n",
        "first = [1,2,3]\n",
        "second = [4, 5, 6]\n",
        "\n",
        "my_first = [\"apple\", \"peach\"]\n",
        "my_second = [\"orange\", \"lemon\"]\n",
        "\n",
        "assert combine_lists(first, second) == [1, 2, 3, 4, 5, 6]\n",
        "print(\"Exercise Function HW2 Function1 is complete.\")\n",
        "\n",
        "assert combine_lists(my_first, my_second) == [\"apple\", \"peach\", \"orange\", \"lemon\"]\n",
        "print(\"Exercise Function HW2 Function1 Extra Credit is complete.\")\n",
        "\n"
      ],
      "metadata": {
        "id": "M1dinsDFNB4Z",
        "colab": {
          "base_uri": "https://localhost:8080/"
        },
        "outputId": "eef006e5-f88b-4a86-e630-b37d259c231e"
      },
      "execution_count": null,
      "outputs": [
        {
          "output_type": "stream",
          "name": "stdout",
          "text": [
            "Exercise Function HW2 Function1 is complete.\n",
            "Exercise Function HW2 Function1 Extra Credit is complete.\n"
          ]
        }
      ]
    },
    {
      "cell_type": "code",
      "source": [
        "# Function 2: last_n_elements\n",
        "# Edit the function last_n_elements so that it uses a slice to return the last n items of a sequence. \n",
        "# The original sequence should not be modified. Do not use len() in your slice. \n",
        "# If you feel you need it, please review the lecture slides about slices.\n",
        "\n",
        "\n",
        "fruits = ['apples', 'grapes', 'peaches', 'apricots', 'bananas']\n",
        "\n",
        "\n",
        "# uncomment the asserts to check your work with the example list\n",
        "# Use the asserts as examples of how the code should work\n",
        "# Extra Credit if you make your own example and assert to check it. \n",
        "# There are examples in the PDF that will also be provided\n",
        "# assert last_n_elements(fruit, 3) == ['peaches', 'apricots', 'bananas']\n",
        "# assert last_n_elements(fruit, 1) == ['bananas']\n",
        "# print(\"Exercise Function HW2 Function2 is complete.\")\n",
        "\n",
        "def last_n_elements(l, n):\n",
        "    return(l[-n:])\n",
        "\n",
        "fruits = ['apples', 'grapes', 'peaches', 'apricots', 'bananas']\n",
        "my_list = [34, 56, 88, 43]\n",
        "\n",
        "assert last_n_elements(fruits, 3) == ['peaches', 'apricots', 'bananas']\n",
        "assert last_n_elements(fruits, 1) == ['bananas']\n",
        "print(\"Exercise Function HW2 Function2 is complete.\")\n",
        "\n",
        "assert last_n_elements(my_list, 2) == [88, 43]\n",
        "print(\"Exercise Function HW2 Function2 Extra Credit is complete.\")\n",
        "\n",
        "\n",
        "\n"
      ],
      "metadata": {
        "id": "_prNn2ifN5FZ",
        "colab": {
          "base_uri": "https://localhost:8080/"
        },
        "outputId": "d9041635-c80d-4b31-abad-b3bcda04a5b3"
      },
      "execution_count": null,
      "outputs": [
        {
          "output_type": "stream",
          "name": "stdout",
          "text": [
            "Exercise Function HW2 Function2 is complete.\n",
            "Exercise Function HW2 Function2 Extra Credit is complete.\n"
          ]
        }
      ]
    },
    {
      "cell_type": "code",
      "source": [
        "# Function 3: power_list\n",
        "# Make the function power_list so that it accepts a list of numbers and returns a new list \n",
        "# that contains each number raised to the i-th power \n",
        "# where i is the index of that number in the given list.\n",
        "# Use a list comprehension.\n",
        "\n",
        "\n",
        "list1 = [2, 2, 2, 2, 2, 2]\n",
        "list2 = [9, 6, 5, 4]\n",
        "\n",
        "\n",
        "# uncomment the asserts to check your work with the example list\n",
        "# Use the asserts as examples of how the code should work\n",
        "# Extra Credit if you make your own example and assert to check it. \n",
        "# There are examples in the PDF that will also be provided\n",
        "# assert power_list(list1) == [1, 2, 4, 8, 16, 32]\n",
        "# assert power_list(list2) == [1, 6, 25, 64]\n",
        "# print(\"Exercise Function HW2 Function3 is complete.\")\n",
        "def power_list(l):\n",
        "    res = []\n",
        "    for idx, ele in enumerate(l):\n",
        "        res.append(ele ** idx)\n",
        "    return(res)\n",
        "\n",
        "list1 = [2, 2, 2, 2, 2, 2]\n",
        "list2 = [9, 6, 5, 4]\n",
        "my_list = [99, 88, 77]\n",
        "\n",
        "assert power_list(list1) == [1, 2, 4, 8, 16, 32]\n",
        "assert power_list(list2) == [1, 6, 25, 64]\n",
        "print(\"Exercise Function HW2 Function3 is complete.\")\n",
        "\n",
        "assert power_list(my_list) == [1, 88, 5929]\n",
        "print(\"Exercise Function HW2 Function3 Extra Credit is complete.\")\n"
      ],
      "metadata": {
        "id": "aADfuEcBO38w",
        "colab": {
          "base_uri": "https://localhost:8080/"
        },
        "outputId": "be86f7f5-2be1-400f-f94f-0f3f895358a9"
      },
      "execution_count": null,
      "outputs": [
        {
          "output_type": "stream",
          "name": "stdout",
          "text": [
            "Exercise Function HW2 Function3 is complete.\n",
            "Exercise Function HW2 Function3 Extra Credit is complete.\n"
          ]
        }
      ]
    },
    {
      "cell_type": "code",
      "source": [
        "# Function 4: rotate_list\n",
        "# Make the function rotate_list so that it removes the first item from a given list, \n",
        "# adds it to the end of the list, and returns the item that was moved.\n",
        "# No \"for loops\"!\n",
        "# Hint: Look through the documentation on sequence types (ie, lists) for methods that would be useful. Do not use del . \n",
        "\n",
        "\n",
        "numbers = [1, 2, 3, 4]\n",
        "\n",
        "\n",
        "\n",
        "# uncomment the asserts to check your work with the example list\n",
        "# Use the asserts as examples of how the code should work\n",
        "# Extra Credit if you make your own example and assert to check it. \n",
        "# There are examples in the PDF that will also be provided\n",
        "# assert rotate_list(numbers) == 1\n",
        "# assert numbers == [2, 3, 4, 1]\n",
        "# print(\"Exercise Function HW2 Function4 is complete.\")\n",
        "def rotate_list(l):\n",
        "    el = l.pop(0)\n",
        "    l.append(el)\n",
        "    return(el)\n",
        "\n",
        "numbers = [1, 2, 3, 4]\n",
        "my_list = [77, 55, 66]\n",
        "\n",
        "assert rotate_list(numbers) == 1\n",
        "assert numbers == [2, 3, 4, 1]\n",
        "print(\"Exercise Function HW2 Function4 is complete.\")\n",
        "\n",
        "assert rotate_list(my_list) == 77\n",
        "assert my_list == [55, 66, 77]\n",
        "print(\"Exercise Function HW2 Function4 Extra Credit is complete.\")\n"
      ],
      "metadata": {
        "id": "ruZRCoFiP9P4",
        "colab": {
          "base_uri": "https://localhost:8080/"
        },
        "outputId": "dba6f352-a927-43dd-ad22-60038b222d3c"
      },
      "execution_count": null,
      "outputs": [
        {
          "output_type": "stream",
          "name": "stdout",
          "text": [
            "Exercise Function HW2 Function4 is complete.\n",
            "Exercise Function HW2 Function4 Extra Credit is complete.\n"
          ]
        }
      ]
    },
    {
      "cell_type": "code",
      "source": [
        "# Function 5: get_word_codes \n",
        "# Edit the function get_word_codes so that it accepts a list of strings and returns a dictionary \n",
        "# containing the strings as keys and a list of corresponding character codes as values. \n",
        "# It should work on any strings. Use a dictionary comprehension.\n",
        "# Hint: Look through Python's built-in functions for a useful function to use for this.\n",
        "\n",
        " \n",
        "\n",
        "\n",
        "# uncomment the asserts to check your work with the example list\n",
        "# Use the asserts as examples of how the code should work\n",
        "# Extra Credit if you make your own example and assert to check it. \n",
        "# There are examples in the PDF that will also be provided\n",
        "# assert get_word_codes(words) == {'yes': [121, 101, 115], 'no':[110, 111]}\n",
        "# print(\"Exercise Function HW2 Function5 is complete.\")\n",
        "\n",
        "def get_word_codes(wl):\n",
        "    res ={}\n",
        "    for word in wl:\n",
        "        vl = []\n",
        "        for ch in word:\n",
        "            i = ord(ch)\n",
        "            vl.append(i)\n",
        "        \n",
        "        \n",
        "        res.update({word : vl})\n",
        "        \n",
        "       \n",
        "    return(res)\n",
        "\n",
        "    \n",
        "\n",
        "words = ['yes', 'no']\n",
        "\n",
        "my_words = ['cat', 'dog']\n",
        "\n",
        "assert get_word_codes(words) == {'yes': [121, 101, 115], 'no': [110, 111]}\n",
        "print(\"Exercise Function HW2 Function5 is complete.\")\n",
        "\n",
        "assert get_word_codes(my_words) == {'cat': [99, 97, 116], 'dog': [100, 111, 103]}\n",
        "print(\"Exercise Function HW2 Function5 Extra Credit is complete.\")\n",
        "\n",
        "\n",
        "    \n",
        "\n"
      ],
      "metadata": {
        "id": "M9KPyU3tSFSl",
        "colab": {
          "base_uri": "https://localhost:8080/"
        },
        "outputId": "e0f3cc3d-9365-444e-ab9d-170f55fce136"
      },
      "execution_count": null,
      "outputs": [
        {
          "output_type": "stream",
          "name": "stdout",
          "text": [
            "Exercise Function HW2 Function5 is complete.\n",
            "Exercise Function HW2 Function5 Extra Credit is complete.\n"
          ]
        }
      ]
    },
    {
      "cell_type": "code",
      "source": [
        "# Function 6: words_containing\n",
        "# Given a sentence and a lowercase letter, \n",
        "# return a list of words from the sentence that contain the letter, \n",
        "# ignoring the case of the words in the sentence. \n",
        "# Look up methods on the str object to get a list of words from the sentence. \n",
        "# Then use a list comprehension to get the final list to return.\n",
        "\n",
        "\n",
        "sentence1 = \"Anyone who has never made a mistake has never tried anything new\"\n",
        "\n",
        "\n",
        "# uncomment the asserts to check your work with the example list\n",
        "# Use the asserts as examples of how the code should work\n",
        "# Extra Credit if you make your own example and assert to check it. \n",
        "# There are examples in the PDF that will also be provided\n",
        "# assert words_containing(sentence1, 'a') == ['Anyone', 'has', 'a', 'mistake', 'has', 'anything']\n",
        "# print(\"Exercise Function HW2 Function6 is complete.\")\n",
        "def words_containing(str, ch):\n",
        "    word_list = str.split()\n",
        "        \n",
        "    word_list_containing = [word for word in word_list if ch in word.lower()]\n",
        "    \n",
        "    return(word_list_containing)\n",
        "\n",
        "sentence1 = \"Anyone who has never made a mistake has never tried anything new\"\n",
        "\n",
        "my_sentence = \"Was raining cats and dogs\"\n",
        "\n",
        "assert words_containing(sentence1, 'a') == ['Anyone', 'has', 'made', 'a', 'mistake', 'has', 'anything']\n",
        "print(\"Exercise Function HW2 Function6 is complete.\")\n",
        "\n",
        "assert words_containing(my_sentence, 't') == ['cats']\n",
        "print(\"Exercise Function HW2 Function6 Extra Credit is complete.\")\n"
      ],
      "metadata": {
        "id": "CFTAbu72Tt9D",
        "colab": {
          "base_uri": "https://localhost:8080/"
        },
        "outputId": "e65967f6-0a6d-411c-8a1d-4f3d42773807"
      },
      "execution_count": null,
      "outputs": [
        {
          "output_type": "stream",
          "name": "stdout",
          "text": [
            "Exercise Function HW2 Function6 is complete.\n",
            "Exercise Function HW2 Function6 Extra Credit is complete.\n"
          ]
        }
      ]
    },
    {
      "cell_type": "markdown",
      "source": [
        "\n",
        "\n",
        "```\n",
        "1 \n",
        "2 2 \n",
        "3 3 3 \n",
        "4 4 4 4 \n",
        "\n",
        "```\n",
        "\n"
      ],
      "metadata": {
        "id": "Bbtmn0AqDjVN"
      }
    },
    {
      "cell_type": "code",
      "source": [
        "# Function 7: Write a function to print the above output starting with the number taken as an arguemnt in the example it is 1\n",
        "\n",
        "def print_numbers(i) :\n",
        "    stri = str(i) + ' '\n",
        "    print(stri*i)\n",
        "\n",
        "print_numbers(1)\n",
        "print_numbers(2)\n",
        "print_numbers(3)\n",
        "print_numbers(4)\n"
      ],
      "metadata": {
        "id": "Hk-aPIpMDIdI",
        "colab": {
          "base_uri": "https://localhost:8080/"
        },
        "outputId": "60649b49-0cf6-4727-e57e-f1cdf1ec4f98"
      },
      "execution_count": null,
      "outputs": [
        {
          "output_type": "stream",
          "name": "stdout",
          "text": [
            "1 \n",
            "2 2 \n",
            "3 3 3 \n",
            "4 4 4 4 \n"
          ]
        }
      ]
    },
    {
      "cell_type": "markdown",
      "source": [
        "\n",
        "\n",
        "```\n",
        "Lion\n",
        "Deer\n",
        "Sheep\n",
        "Cub\n",
        "Fawn\n",
        "Lamb\n",
        "\n",
        "```\n",
        "\n"
      ],
      "metadata": {
        "id": "WaXyaVu8Euot"
      }
    },
    {
      "cell_type": "code",
      "source": [
        "# Function 8: nested_loops_print_items\n",
        "\n",
        "# Write a function that takes in a list of lists\n",
        "# and prints every item in every list once\n",
        "# it should look like the above output \n",
        "def print_items(l):\n",
        "    \n",
        "   fl = [el for sublist in l for el in sublist] \n",
        "          \n",
        "   for fel in fl:\n",
        "    print(fel)\n",
        "\n",
        "list1 = [\"Lion\", \"Deer\", \"Sheep\"]\n",
        "list2 = [\"Cub\", \"Fawn\", \"Lamb\"]\n",
        "list = [list1, list2]\n",
        "\n",
        "print_items(list)\n",
        "\n",
        "\n",
        "\n",
        "\n"
      ],
      "metadata": {
        "id": "ITwDGOnYELWN",
        "colab": {
          "base_uri": "https://localhost:8080/"
        },
        "outputId": "c434898e-9392-44aa-e14f-18ed62365967"
      },
      "execution_count": null,
      "outputs": [
        {
          "output_type": "stream",
          "name": "stdout",
          "text": [
            "Lion\n",
            "Deer\n",
            "Sheep\n",
            "Cub\n",
            "Fawn\n",
            "Lamb\n"
          ]
        }
      ]
    },
    {
      "cell_type": "markdown",
      "source": [
        "# Classes"
      ],
      "metadata": {
        "id": "w5y0HId9gsa6"
      }
    },
    {
      "cell_type": "code",
      "source": [
        "# Class Function 1: Create a Point Class \n",
        "# Like a Point on a Line\n",
        "# Instructions Below\n",
        "\n",
        "\n",
        "# Name your Class Point\n",
        "# Initialize your class with two arguments x and y\n",
        "## Use the __init__ dunder method to initialize your class\n",
        "# Import any necessary libraries outside of your class\n",
        "# set a default point \n",
        "# make this default pint the origin (0,0)\n",
        "# Add an attribute call get_magnitude that returns the magnitude of the line between the origin (0,0) and your point(x,y)\n",
        "\n",
        "class Point:\n",
        "    def __init__(self, x = 0, y = 0):\n",
        "        self.x = x\n",
        "        self.y = y\n",
        "\n",
        "    def get_magnitude(self):\n",
        "        return ((self.x ** 2) + (self.y ** 2)) ** 0.5\n",
        "\n",
        "point = Point(10,1)\n",
        "\n",
        "magnitude = point.get_magnitude()\n",
        "print(magnitude)\n",
        "\n"
      ],
      "metadata": {
        "id": "DrrQg-9Ofik9",
        "colab": {
          "base_uri": "https://localhost:8080/"
        },
        "outputId": "ae0e6ca1-7467-4fe6-a935-bf8d92117836"
      },
      "execution_count": null,
      "outputs": [
        {
          "output_type": "stream",
          "name": "stdout",
          "text": [
            "10.04987562112089\n"
          ]
        }
      ]
    },
    {
      "cell_type": "code",
      "source": [
        "# Class Function 2: Making a Bank Account Class \n",
        "\n",
        "# Name your class BankAccount\n",
        "# Initialize your class with zero arguments\n",
        "# In your initialization include a a self attribute for balance that shows it is equal to some amount (usually 0 but why be broke)\n",
        "# Include a welcoming print statement\n",
        "# In your initialization include a a self attribute to print the balance\n",
        "\n",
        "# add an attribute called deposit (should be a function) that takes in an argument called amount\n",
        "## inside deposit should be an attribute that adds the amount from the deposit argument and changes your balance\n",
        "## inside include a print statement with the amount deposited\n",
        "## inside deposit should be a self attribute to print the new  balance\n",
        "\n",
        "\n",
        "# add an attribute called withdraw (should be a function) that takes in an argument called amount\n",
        "## inside withdraw should be an attribute that adds the amount from the deposit argument and changes your balance\n",
        "## inside include a print statement with the amount withdrawn\n",
        "## inside withdraw should be a self attribute to print the new  balance\n",
        "## add functionality to test if the amount you are trying to withdraw is higher than the current balance\n",
        "\n",
        "# add an attribute called print_balance (should be a function) that takes in no arguments\n",
        "## inside print_balance should be an attribute that prints the balance\n",
        "\n",
        "\n",
        "# Look up the __str__ method\n",
        "## add an attribute called __str__ that returns a very clear print statement when you just call your class instance\n",
        "\n",
        "# Look up the __repr__ method\n",
        "## add an attribute called __repr__ that returns a very clear print statement when you just call your class instance\n",
        "\n",
        "## which one of these is more necessary for Colab vs Replit\n",
        "class BankAccount:\n",
        "    def __init__(self):\n",
        "        self.balance = 0.0\n",
        "        print(\"Welcome ! Your Account Created. Your Balance is :\", round(self.balance,2))\n",
        "\n",
        "    def deposit(self, amount):\n",
        "        self.balance =+ amount\n",
        "        print(\"Depositing :\", amount)\n",
        "        print(\"Your Balance now is :\", round(self.balance,2))\n",
        "    \n",
        "    def withdraw(self, amount):\n",
        "        print(\"Withdrowing :\", amount)\n",
        "        if self.balance < amount:\n",
        "            print(\"Operation Error. Not sufficient fonds on your account\")\n",
        "        else:\n",
        "            self.balance -= amount\n",
        "            print(\"Operation completed successfully. Your New Balance is:\", round(self.balance, 2))\n",
        "\n",
        "    def print_balance(self):\n",
        "        print(\"Your Current Balance is :\", round(self.balance,2))\n",
        "\n",
        "    def _str_(self):\n",
        "        return f\"BankAccount( Balance is {round(self.balance,2)})\"\n",
        "\n",
        "    def _repr_(self):\n",
        "        return f\"Balance is {round(self.balance, 2)}\"        \n",
        "\n",
        "\n",
        "my_account = BankAccount()\n",
        "my_account.deposit(190.50)\n",
        "my_account.withdraw(200)\n",
        "my_account.withdraw(150.6)\n",
        "my_account.print_balance()\n",
        "print(my_account._str_())\n",
        "print(my_account._repr_())\n",
        "\n",
        "\n"
      ],
      "metadata": {
        "id": "jNyKXjIBvSJp",
        "colab": {
          "base_uri": "https://localhost:8080/"
        },
        "outputId": "ebe3ed52-0082-4dc9-f81c-3b0ad2002d8b"
      },
      "execution_count": null,
      "outputs": [
        {
          "output_type": "stream",
          "name": "stdout",
          "text": [
            "Welcome ! Your Account Created. Your Balance is : 0.0\n",
            "Depositing : 190.5\n",
            "Your Balance now is : 190.5\n",
            "Withdrowing : 200\n",
            "Operation Error. Not sufficient fonds on your account\n",
            "Withdrowing : 150.6\n",
            "Operation completed successfully. Your New Balance is: 39.9\n",
            "Your Current Balance is : 39.9\n",
            "BankAccount( Balance is 39.9)\n",
            "Balance is 39.9\n"
          ]
        }
      ]
    },
    {
      "cell_type": "code",
      "source": [
        "# Class Function 3: Making a Circle Class\n",
        "\n",
        "\n",
        "# Name your class Circle\n",
        "# Initialize your class with an argument called radius with a default value\n",
        "# Import any libraries you need outside your class\n",
        "# In your initialization include a self attribute for radius that is equal to your argument\n",
        "# In your initialization include a self attribute called area that is equal to the area of a circle\n",
        "\n",
        "\n",
        "# You should practice reassigning your radius values\n",
        "\n",
        "# Investigate the property decorator\n",
        "# Convert you area initialization property to an attribut and assign it a property decorator\n",
        "# Explain how this helps you\n",
        "# Add another attribute called diameter (with no arguments)and assign it a property decorator\n",
        "\n",
        "# You should try resetting your diameter\n",
        "\n",
        "# Edit your attribute diameter to include an argument\n",
        "# Add a property decorator called diameter.setter \n",
        "\n",
        "# Try resetting your diameter again\n",
        "\n",
        "import math\n",
        "\n",
        "class Circle:\n",
        "\n",
        "  def __init__(self, radius = 1):\n",
        "    self.radius = radius\n",
        "    #self.area = math.pi * (self.radius)**2\n",
        "    self.diameter = 2*radius\n",
        "\n",
        "  # Using property decorator makes code more efficient and simpler to read\n",
        "  @property\n",
        "  def area(self):\n",
        "    a = math.pi * (self.radius)**2\n",
        "    print('Area of circle with radius', self.radius, 'is', a)\n",
        "    return a\n",
        "\n",
        "  @property\n",
        "  def diameter(self):\n",
        "    print('Current diameter is', self._diameter)\n",
        "    return self._diameter\n",
        "\n",
        "  @diameter.setter\n",
        "  def diameter(self, r):\n",
        "    self._diameter = 2*r\n",
        "    print('New diameter is', self.diameter)\n",
        "\n",
        "\n",
        "my_circle = Circle(5)\n",
        "my_area = my_circle.area\n",
        "my_circle.diameter"
      ],
      "metadata": {
        "id": "8oXON7iZvGV9",
        "colab": {
          "base_uri": "https://localhost:8080/"
        },
        "outputId": "fb3c3b96-cabd-4e9a-a88a-d775af6bdd28"
      },
      "execution_count": null,
      "outputs": [
        {
          "output_type": "stream",
          "name": "stdout",
          "text": [
            "Current diameter is 20\n",
            "New diameter is 20\n",
            "Area of circle with radius 5 is 78.53981633974483\n",
            "Current diameter is 20\n"
          ]
        },
        {
          "output_type": "execute_result",
          "data": {
            "text/plain": [
              "20"
            ]
          },
          "metadata": {},
          "execution_count": 1
        }
      ]
    },
    {
      "cell_type": "markdown",
      "source": [
        "# Inheritances\n",
        "\n",
        "Working with Super Classes and multiple inheritances\n",
        "\n",
        "Note: initialization steps are also sometimes called instructors"
      ],
      "metadata": {
        "id": "0w4rV5wH_jwv"
      }
    },
    {
      "cell_type": "code",
      "source": [
        "# Class Function 4: Inheritances\n",
        "\n",
        "\n",
        "# Name your class Base\n",
        "# Initialize your class with an argument called name\n",
        "\n",
        "# In your initialization include a self attribute name that is equal to your argument\n",
        "# Add an attribute called getName that returns the instance of name\n",
        "\n",
        "# Make an inherited class or sub class of Base called Child\n",
        "# Create a contrustor for you class/Initialize this class with two arguments: name and age\n",
        "# In your initialization include a self attribute age that is equal to your argument for age\n",
        "# Call your Parent class base then using the .__init__ function initalize the constructor from your parent class for name\n",
        "# Add an attribute called getAge that returns the instance of age\n",
        "\n",
        "# Make an inherited class or sub class of Child called Granchild\n",
        "# Create a contrustor for you class/Initialize this class with three arguments: name and age and address\n",
        "# In your initialization include a self attribute address that is equal to your argument for address\n",
        "# Call your Parent class Child then using the .__init__ function initalize the constructor from your parent class for name and age\n",
        "# Add an attribute called getAddress that returns the instance of address\n",
        "\n",
        "\n",
        "\n",
        "\n"
      ],
      "metadata": {
        "id": "FLpcwwqW_yq5"
      },
      "execution_count": null,
      "outputs": []
    },
    {
      "cell_type": "markdown",
      "source": [
        "# Collections\n"
      ],
      "metadata": {
        "id": "ielHy1nF3ki2"
      }
    },
    {
      "cell_type": "code",
      "source": [
        "# Collections Function 1\n",
        "# Write a function to find the 10 most common words in a selected text\n",
        "# Import necessary libraries or collections\n",
        "\n",
        "\n",
        "def ten_most_common_words(data):\n",
        "    from collections import Counter\n",
        "    specialChars = \"!#$%^&*().\" \n",
        "    for specialChar in specialChars:\n",
        "      data = data.replace(specialChar, '')\n",
        "      \n",
        "    # split() returns list of all the words in the string\n",
        "    split_it = data.split()\n",
        "  \n",
        "    # Pass the split_it list to instance of Counter class.\n",
        "    Counter = Counter(split_it)\n",
        "  \n",
        "    # most_common() produces k frequently encountered\n",
        "    # input values and their respective counts.\n",
        "    most_occur = Counter.most_common(10)\n",
        "  \n",
        "   # print(most_occur)\n",
        "    return(most_occur)\n",
        "\n",
        "text = \"\"\"The Python Software Foundation (PSF) is a 501(c)(3) non-profit \n",
        "corporation that holds the intellectual property rights behind\n",
        "the Python programming language. We manage the open source licensing \n",
        "for Python version 2.1 and later and own and protect the trademarks \n",
        "associated with Python. We also run the North American PyCon conference \n",
        "annually, support other Python conferences around the world, and \n",
        "fund Python related development with our grants program and by funding \n",
        "special projects.\"\"\"\n",
        "\n",
        "assert ten_most_common_words(text) == [('Python', 6), ('the', 6), ('and', 5), ('We', 2), ('with', 2), ('The', 1), ('Software', 1), ('Foundation', 1), ('PSF', 1), ('is', 1)]\n",
        "\n",
        "print(\"Collection Function 1 Done\")\n",
        "\n",
        "\n"
      ],
      "metadata": {
        "id": "C-FZkGa93X16",
        "colab": {
          "base_uri": "https://localhost:8080/"
        },
        "outputId": "2ef0e766-9a92-4682-f633-e1712d56fd77"
      },
      "execution_count": null,
      "outputs": [
        {
          "output_type": "stream",
          "name": "stdout",
          "text": [
            "[('Python', 6), ('the', 6), ('and', 5), ('We', 2), ('with', 2), ('The', 1), ('Software', 1), ('Foundation', 1), ('PSF', 1), ('is', 1)]\n",
            "Collection Function 1 Done\n"
          ]
        }
      ]
    },
    {
      "cell_type": "code",
      "source": [
        ""
      ],
      "metadata": {
        "id": "ircFZHy2izg-"
      },
      "execution_count": null,
      "outputs": []
    },
    {
      "cell_type": "code",
      "source": [
        "# Collections Code 2\n",
        "# This is going to be a little different\n",
        "# I am not asking you to write a function, just code, similar to chatbot\n",
        "\n",
        "# Import necessary libraries or collections\n",
        "# Define a Movie tuple using namedtuple that accepts \n",
        "# a title, a director, a release year, and a budget. \n",
        "# Prompt the user(yourself in this case) to provide information for each of these fields \n",
        "# and create an instance of the Movie tuple you defined.\n",
        "\n",
        "from collections import namedtuple\n",
        "  \n",
        "# Declaring namedtuple()\n",
        "Movie = namedtuple('Movie', ['Title','Director', 'Year', 'Budget'])\n",
        "\n",
        "movie_title = input('Enter Movie Title :')\n",
        "director_name = input('Enter Director Name :')\n",
        "release_year = input('Enter Release Year :')\n",
        "budget = input(\"Enter Budget :\")\n",
        "\n",
        "movie = Movie(movie_title, director_name, release_year, budget)\n",
        "print(movie)\n"
      ],
      "metadata": {
        "colab": {
          "base_uri": "https://localhost:8080/"
        },
        "id": "leX6Q-5W3qiN",
        "outputId": "be61fbdd-9b69-4d12-999e-e9eb51a06c5d"
      },
      "execution_count": null,
      "outputs": [
        {
          "output_type": "stream",
          "name": "stdout",
          "text": [
            "Enter Movie Title :My Movie\n",
            "Enter Director Name :Me\n",
            "Enter Release Year :2006\n",
            "Enter Budget :100,000,000\n",
            "Movie(Title='My Movie', Director='Me', Year='2006', Budget='100,000,000')\n"
          ]
        }
      ]
    }
  ]
}