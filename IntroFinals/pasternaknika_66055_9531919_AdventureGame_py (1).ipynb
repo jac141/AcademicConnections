{
  "nbformat": 4,
  "nbformat_minor": 0,
  "metadata": {
    "colab": {
      "name": "AdventureGame.py",
      "provenance": [],
      "collapsed_sections": []
    },
    "kernelspec": {
      "name": "python3",
      "display_name": "Python 3"
    },
    "language_info": {
      "name": "python"
    }
  },
  "cells": [
    {
      "cell_type": "code",
      "execution_count": null,
      "metadata": {
        "colab": {
          "base_uri": "https://localhost:8080/"
        },
        "id": "mWhTnQ0NU_na",
        "outputId": "f31a9ff8-1f03-42c2-ec3e-c90ff98e0cf3"
      },
      "outputs": [
        {
          "output_type": "stream",
          "name": "stdout",
          "text": [
            "Welcome to the Santa Cruz Mountain Adventure Game\n",
            "***************************************************\n",
            "You are visiting Santa Cruz, California\n",
            "You go on an evening hike alone in the mountains.\n",
            "You can pick one item to take with you-\n",
            "map(m), flashlight(f), chocolate(c), rope(r), or sticks(s):\n",
            "What do you choose?:m\n",
            "You hear a humming sound\n",
            "Do you follow the sound? Enter y or n:n\n",
            "Good idea. You are not taking risks.\n",
            "You start walking back to the starting point.\n",
            "You realize you are LOST!\n",
            "The sound is behind you and is getting louder. You panic!\n",
            "Do you want to make a call or run? Enter c or r:c\n",
            "Oh no! Your call failed! Please choose again!\n",
            "Do you want to make a call or run? Enter c or r:r\n",
            "You are running fast. The sound gets really loud\n",
            "A woman on an electric scooter comes up behind you.\n",
            "She asks, 'What is your favorite programming language?'pytHon\n",
            "She says, 'Yes, Python is my favorite programming language.'\n",
            "If you have some chocolate, I can help you\n",
            "You should have chosen that chocolate, She rides away, leaving you alone and lost. You lost the game\n"
          ]
        }
      ],
      "source": [
        "#adventure game\n",
        "#step 1\n",
        "\n",
        "import time\n",
        "\n",
        "print('Welcome to the Santa Cruz Mountain Adventure Game')\n",
        "print('***************************************************')\n",
        "time.sleep(2)\n",
        "print('You are visiting Santa Cruz, California')\n",
        "print('You go on an evening hike alone in the mountains.')\n",
        "\n",
        "print('You can pick one item to take with you-')\n",
        "print('map(m), flashlight(f), chocolate(c), rope(r), or sticks(s):')\n",
        "time.sleep(5)\n",
        "item = input('What do you choose?:')\n",
        "print('You hear a humming sound')\n",
        "\n",
        "#step 5\n",
        "sound = ''\n",
        "while sound != 'y' and sound != \"n\" : \n",
        "  sound = input('Do you follow the sound? Enter y or n:')\n",
        "  if sound == 'y' or sound == 'n':\n",
        "    break\n",
        "  else:\n",
        "    print('Error. Please enter y or n')\n",
        "\n",
        "if sound == \"y\":\n",
        "  print(\"You keep moving closer to the sound\")\n",
        "  print(\"The sound suddenly stops.\")\n",
        "  time.sleep(3)\n",
        "  print(\"You are now LOST!...\")\n",
        "  print(\"You try to call on your phone, but there is no signal!\")\n",
        "\n",
        "  #step 3\n",
        "  direction=input('Whch direction do you want to go. Enter north(n), south(s), west(w), east(e)')\n",
        "  if direction == 'n':\n",
        "    print('You reach an abandoned cabin.')\n",
        "    if item == 'm':\n",
        "      time.sleep(7)\n",
        "      print('You use the map and find your way home, and CONGRATULATIONS! You won the game')\n",
        "    else:\n",
        "      print('If you had a map, you could find your way from here. You are stil lost. You lost the game')\n",
        "  elif direction =='w':\n",
        "    print('You reach a river with a broken bridge')\n",
        "    if item =='r' or item =='s':\n",
        "      print('You chose an item that can fix the bridge. You fix the bridge, cross over, and find your way home. CONGRATULATIONS! You won the game')\n",
        "    else: \n",
        "      print('If you had a rope or a stick, you could fix the bridge. You are still lost. You lost the game.')\n",
        "  elif direction == 'e':\n",
        "    print('You are walking and trip over a fallen log. You have hurt your foot. You sit down and wait for help.This could be a long time. You are still lost. You lost the game')\n",
        "  else: \n",
        "    print(\"You reach the side of the highway. It is dark\")\n",
        "    if item == 'f':\n",
        "      print(\"You use the flashlight to signal. A car stops and gives you a ride home. CONGRATULATIONS! You got out safely. You won the game.\")\n",
        "    else: \n",
        "      print(' If you had a flashlight, you could signal for help. You are still lost. You lost the game.')\n",
        "\n",
        "else: \n",
        "  print('Good idea. You are not taking risks.')\n",
        "  print('You start walking back to the starting point.')\n",
        "  time.sleep(3)\n",
        "  print('You realize you are LOST!')\n",
        "  print('The sound is behind you and is getting louder. You panic!')\n",
        "\n",
        "  #step 2\n",
        "  call = ''\n",
        "  while call != \"r\" and call != 'run': \n",
        "    call = input('Do you want to make a call or run?')\n",
        "    if call == 'c' or call == 'r' or call == 'call' or call == 'run':\n",
        "      if call == 'r' or call == 'run':\n",
        "        print('You are running fast. The sound gets really loud')\n",
        "\n",
        "        #step 4\n",
        "        print('A woman on an electric scooter comes up behind you.')\n",
        "        language = input('She asks, \\'What is your favorite programming language?\\'')\n",
        "        if language.lower() == 'python': #step 5\n",
        "          print('She says, \\'Yes, Python is my favorite programming language.\\'')\n",
        "          print('She adds, \\'If you have some chocolate, I can help you\\'')\n",
        "          if item == 'c':\n",
        "            print('Luckily you did choose correctly!, You give her the chocolate, She helps you get home, CONGRATULATIONS! You got out safely. You won the game.')\n",
        "          else:\n",
        "            print('You should have chosen that chocolate, She rides away, leaving you alone and lost. You lost the game')\n",
        "        else:\n",
        "          print('She did not like your answer. She rides away, leaving you lost. You lost the game.')\n",
        "          break\n",
        "      else:\n",
        "        time.sleep(4)\n",
        "        print('Oh no! Your call failed! Please choose again!')\n",
        "    else:\n",
        "      print('Error. Please enter a valid choice')\n",
        "\n"
      ]
    },
    {
      "cell_type": "code",
      "source": [
        ""
      ],
      "metadata": {
        "id": "7fmBJyIliean"
      },
      "execution_count": null,
      "outputs": []
    }
  ]
}