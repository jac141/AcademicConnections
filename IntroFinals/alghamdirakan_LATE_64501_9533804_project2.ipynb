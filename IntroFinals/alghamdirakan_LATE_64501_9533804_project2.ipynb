{
  "nbformat": 4,
  "nbformat_minor": 0,
  "metadata": {
    "colab": {
      "name": "project2.ipynb",
      "provenance": []
    },
    "kernelspec": {
      "name": "python3",
      "display_name": "Python 3"
    },
    "language_info": {
      "name": "python"
    }
  },
  "cells": [
    {
      "cell_type": "code",
      "execution_count": 65,
      "metadata": {
        "colab": {
          "base_uri": "https://localhost:8080/",
          "height": 135
        },
        "id": "oh92afh9ki4S",
        "outputId": "1e21a36f-cf7d-4e72-bffe-0b4136bc607d"
      },
      "outputs": [
        {
          "output_type": "error",
          "ename": "SyntaxError",
          "evalue": "ignored",
          "traceback": [
            "\u001b[0;36m  File \u001b[0;32m\"<ipython-input-65-601efd6ade32>\"\u001b[0;36m, line \u001b[0;32m26\u001b[0m\n\u001b[0;31m    if password == \"1453\" print(correct)\u001b[0m\n\u001b[0m                              ^\u001b[0m\n\u001b[0;31mSyntaxError\u001b[0m\u001b[0;31m:\u001b[0m invalid syntax\n"
          ]
        }
      ],
      "source": [
        "#Hello I am Rakan Alghamdi. i like learning everything in generall such as programing and engneering etc.\n",
        "#i tried to do more stuff than this but i coudlnt have time due to some private issues. \n",
        "#i picked this program to learn new stuff to help me in collage in the future\n",
        "\n",
        "\n",
        "\n",
        "print(\"type your caracter's name\")\n",
        "input()\n",
        "print(\"ur password is 1453\")\n",
        "print(\"pick a class to play:\")\n",
        "\n",
        "print(\"melee\")\n",
        "print(\"mage\")\n",
        "print(\"range\")\n",
        "answer=input()\n",
        "\n",
        "#picking the class which you will play with..\n",
        "\n",
        "if answer == \"melee\": print(\"ur on a dark way with ur sowerd and hears som breathing in the bushes next to you\")\n",
        "elif answer == \"mage\": print(\"ur in a dark way with ur magic staff and u hear breating in the bushes next to you\")\n",
        "elif answer == \"range\": print(\"u r in a dark way with ur bow and you hear some breathings in the bushs next to you\")\n",
        "\n",
        "print(\"would you rather continue walking or check what is that?\")\n",
        "print(\"a- check tha bushes\")\n",
        "print(\"b- continue walkung\")\n",
        "answer2=input()\n",
        "if answer2 == \"b\": print( )\n",
        "if answer == \"melee\": print(\"you found an old hero sowrd that instant kill everything than u keeps walking\")\n",
        "elif answer == \"mage\": print(\"you found a staff better than yours than u keeps walking\")\n",
        "elif answer == \"range\": print(\"you found a strong bow that shots 3 arrows in one shot than u keeps walking\")\n",
        "else: print( ) \n",
        "print(\"in the darkness you headed towards the crimson castle where the boss livs but you have to inter the password first to enter\")\n",
        "password = input(\"enter the password\")\n",
        "if password == \"1453\": print(correct)\n",
        "print(\"u r against brain of cthulhu and ready to kill him\")\n",
        "if answer == \"melee\": (\"you have slayed the boss down with your sowrd and became the chambion now..victory\")\n",
        "elif answer == \"mage\": print(\"your magic seems not effecting brain of cathulhu and he killed you..you lost\")\n",
        "elif answer == \"range\": print(\"your bow delt huge damege from far away he cannot see where you are so you killed him and bacem the bast ranger exists..victory\")\n",
        "else: print(\"the castle destroyed it self above you and you lost..retry again\")\n",
        "\n"
      ]
    },
    {
      "cell_type": "markdown",
      "source": [
        ""
      ],
      "metadata": {
        "id": "HLgTwi4gkj4I"
      }
    },
    {
      "cell_type": "code",
      "source": [
        "#i was just practising some features but i deleted most of it be4 relising tha it may help in the gradeing.\n",
        "\n",
        "import random\n",
        "i = int(input(\"enter the password from 1 to 10\"))\n",
        "#continue \n",
        "for i in i\n",
        "if i == 2 or 4 or 5 or 8 print(retry) continue\n",
        "else: break"
      ],
      "metadata": {
        "colab": {
          "base_uri": "https://localhost:8080/",
          "height": 135
        },
        "id": "T_Sj3I83385L",
        "outputId": "1442a5b7-368d-4556-bb2b-93b80a2f3c7a"
      },
      "execution_count": 64,
      "outputs": [
        {
          "output_type": "error",
          "ename": "SyntaxError",
          "evalue": "ignored",
          "traceback": [
            "\u001b[0;36m  File \u001b[0;32m\"<ipython-input-64-f08e334a0935>\"\u001b[0;36m, line \u001b[0;32m4\u001b[0m\n\u001b[0;31m    for i in i\u001b[0m\n\u001b[0m              ^\u001b[0m\n\u001b[0;31mSyntaxError\u001b[0m\u001b[0;31m:\u001b[0m invalid syntax\n"
          ]
        }
      ]
    }
  ]
}