{
  "nbformat": 4,
  "nbformat_minor": 0,
  "metadata": {
    "colab": {
      "name": "NoahPearlFinalProject.ipynb",
      "provenance": []
    },
    "kernelspec": {
      "name": "python3",
      "display_name": "Python 3"
    },
    "language_info": {
      "name": "python"
    }
  },
  "cells": [
    {
      "cell_type": "markdown",
      "source": [
        "Hello, my name is Noah Pearl and I am 17 years old, born and raised here in San Diego. In my free time I like to play videogames, work out, read, and chill with my friends. "
      ],
      "metadata": {
        "id": "zWzFMyRRK8PZ"
      }
    },
    {
      "cell_type": "markdown",
      "source": [
        "I chose this program because I wanted to try something a little different from the things we have worked on, and sorts are a subject I have had some experience with in the past in Java, so I thought it would be cool to apply the same logic but in Python."
      ],
      "metadata": {
        "id": "njzoYTLTLSFV"
      }
    },
    {
      "cell_type": "code",
      "execution_count": 17,
      "metadata": {
        "id": "mzr3X0HhXy9k"
      },
      "outputs": [],
      "source": [
        "import sys\n",
        "\n",
        "class Sorts:\n",
        "\n",
        "  def __init__(self, nums): #called when you initialize an instance of the class\n",
        "    self.nums = nums \n",
        "    print('Welcome to the sorting program! Which sort would you like to do?') #welcome message and provides a choice of functions\n",
        "    print('Merge (m), Insertion (i), Selection (s), Bubble (b)')\n",
        "    self.choices(nums)\n",
        "\n",
        "  def choices(self, nums): #controls the inputs for the program and calls to corresponding method or exits\n",
        "    self.choice = input('-- ')\n",
        "    if self.choice == 'm':\n",
        "      print(self.merge_sort(nums)) #had to put print and endOf call here because recursion made it tricky otherwise I think\n",
        "      self.endOf()\n",
        "    elif self.choice == 'i':\n",
        "      self.insertion(nums)\n",
        "    elif self.choice == 's':\n",
        "      self.selection(nums)\n",
        "    elif self.choice == 'b':\n",
        "      self.bubble(nums)\n",
        "    else:\n",
        "      sys.exit('You have stopped the program.')\n",
        "\n",
        "  def merge_sort(self, nums): \n",
        "    if len(nums) <= 1: #checks the size of nums, if it is only 1 element then return it, otherwise find the midpoint\n",
        "      return nums\n",
        "    mid = len(nums) // 2\n",
        "    left = nums[:mid] #divide the list into two further halves\n",
        "    right = nums[mid:]\n",
        "    left = self.merge_sort(left) #recursive call to continue dividing like tree roots\n",
        "    right = self.merge_sort(right)\n",
        "    return self.merge(left, right) #combine each half together, sorting along the way\n",
        "    \n",
        "\n",
        "  def merge(self, left, right):\n",
        "    result = []\n",
        "    while len(left) != 0 and len(right) != 0:\n",
        "      if left[0] < right[0]: #this if statement simply adds the lower value into result until one of the lists is empty\n",
        "        result.append(left[0])\n",
        "        left.remove(left[0])\n",
        "      else:\n",
        "        result.append(right[0])\n",
        "        right.remove(right[0])\n",
        "    if len(left) == 0:  #adds the greater remainder onto result\n",
        "      result = result + right\n",
        "    else:\n",
        "      result = result + left\n",
        "    return result\n",
        "\n",
        "  def insertion(self, nums):\n",
        "    result = nums #creating a copy of nums in order to avoid modifying anything original just in case\n",
        "    for i in range(1, len(result)): #loops from the second element of the list to the end\n",
        "      spot = result[i] \n",
        "      j = i - 1 #the index of the element directly to the left\n",
        "      while spot < result[j] and j >= 0: #checks whether the current element is less than the one to its left and whether it is in bounds\n",
        "        result[j + 1] = result[j] \n",
        "        j -= 1 #moves back through the list, switching elements along the way\n",
        "      result[j + 1] = spot #sets where spot should now be\n",
        "    print(result)\n",
        "    self.endOf()\n",
        "\n",
        "  def selection(self, nums):\n",
        "    result = nums\n",
        "    for i in range(len(result)): #loop through the list\n",
        "      min = i #set min as the index of the current element and assume it's the minimum value\n",
        "      for j in range(i + 1, len(result)):\n",
        "        if result[min] > result[j]: #compare it to the subsequent elements to find the real min\n",
        "            min = j\n",
        "      result[i], result[min] = result[min], result[i] #switch the current element with the real minimum and move on to the next\n",
        "    print(result)\n",
        "    self.endOf()\n",
        "\n",
        "  def bubble(self, nums):\n",
        "    result = nums\n",
        "    for i in range(len(result)): #looping through all elements to ensure all get sorted into correct spot\n",
        "      for j in range(len(result) - i - 1): #assuming that at this point that i+1 elements have been sorted at the end correctly\n",
        "        if result[j + 1] < result[j]: #compare each subsequent element, moving the greater one back along the way\n",
        "          result[j], result[j + 1] = result[j + 1], result[j]\n",
        "    print(result)\n",
        "    self.endOf()  \n",
        "\n",
        "  def endOf(self): #called at the \"end of\" each method to print an exit message and direct to choices again\n",
        "    print('Thank you for using the sorting program, made by Noah Pearl!')\n",
        "    print('Press q to quit or enter one of the previous options to use the program again.')\n",
        "    self.choices(self.nums)"
      ]
    },
    {
      "cell_type": "code",
      "source": [
        "myList = [7, 9, 4, 1, 5, 3]\n",
        "myList2 = ['dog', 'cat', 'zebra', 'owl', 'fish']\n",
        "instance1 = Sorts(myList)"
      ],
      "metadata": {
        "colab": {
          "base_uri": "https://localhost:8080/",
          "height": 478
        },
        "id": "wGPyHsOBnlrs",
        "outputId": "ead5950c-843c-47ef-8162-76d3e30773eb"
      },
      "execution_count": 18,
      "outputs": [
        {
          "name": "stdout",
          "output_type": "stream",
          "text": [
            "Welcome to the sorting program! Which sort would you like to do?\n",
            "Merge (m), Insertion (i), Selection (s), Bubble (b)\n",
            "-- m\n",
            "[1, 3, 4, 5, 7, 9]\n",
            "Thank you for using the sorting program, made by Noah Pearl!\n",
            "Press q to quit or enter one of the previous options to use the program again.\n",
            "-- i\n",
            "[1, 3, 4, 5, 7, 9]\n",
            "Thank you for using the sorting program, made by Noah Pearl!\n",
            "Press q to quit or enter one of the previous options to use the program again.\n",
            "-- s\n",
            "[1, 3, 4, 5, 7, 9]\n",
            "Thank you for using the sorting program, made by Noah Pearl!\n",
            "Press q to quit or enter one of the previous options to use the program again.\n",
            "-- b\n",
            "[1, 3, 4, 5, 7, 9]\n",
            "Thank you for using the sorting program, made by Noah Pearl!\n",
            "Press q to quit or enter one of the previous options to use the program again.\n",
            "-- q\n"
          ]
        },
        {
          "output_type": "error",
          "ename": "SystemExit",
          "evalue": "ignored",
          "traceback": [
            "An exception has occurred, use %tb to see the full traceback.\n",
            "\u001b[0;31mSystemExit\u001b[0m\u001b[0;31m:\u001b[0m You have stopped the program.\n"
          ]
        },
        {
          "output_type": "stream",
          "name": "stderr",
          "text": [
            "/usr/local/lib/python3.7/dist-packages/IPython/core/interactiveshell.py:2890: UserWarning: To exit: use 'exit', 'quit', or Ctrl-D.\n",
            "  warn(\"To exit: use 'exit', 'quit', or Ctrl-D.\", stacklevel=1)\n"
          ]
        }
      ]
    },
    {
      "cell_type": "markdown",
      "source": [
        "One problem I encountered was when I would try to quit the program I would get stuck in an infinite loop where the program would just call self.endof() over and over again. To fix this, I found out I had to import the sys object and call sys.exit() in order to be able to safely and easily stop the program. One cool feature is that you can input a string argument that will be the exit message. \n",
        "\n",
        "\n",
        "Another problem I had was when I was doing the Insertion Sort method and I just couldn't get it to work. Every time I would run the method I would only get back exactly what I had put in without any modifications. To fix this, I realized that there was a problem with my indentation, which made it only update and exit the sort right after the first \"check.\""
      ],
      "metadata": {
        "id": "Z5t2o-96qovS"
      }
    }
  ]
}