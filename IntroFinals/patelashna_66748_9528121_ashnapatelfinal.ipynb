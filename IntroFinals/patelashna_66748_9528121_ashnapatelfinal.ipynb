{
  "cells": [
    {
      "cell_type": "code",
      "execution_count": null,
      "metadata": {
        "colab": {
          "base_uri": "https://localhost:8080/"
        },
        "id": "nEN3ryEmG4R6",
        "outputId": "5270380c-4ce1-4b57-94cb-c44c7c1195ee"
      },
      "outputs": [
        {
          "output_type": "stream",
          "name": "stdout",
          "text": [
            "You went camping in the forest and have suddenly found yourself lost\n",
            "There is a cave up ahead\n",
            "You walk into the cave and start turning different directions\n",
            "Oh no... you are lost!\n"
          ]
        }
      ],
      "source": [
        "import time\n",
        "\n",
        "\n",
        "print(\"You went camping in the forest and have suddenly found yourself lost\")\n",
        "time.sleep(2)\n",
        "print(\"There is a cave up ahead\")\n",
        "time.sleep(2)\n",
        "print(\"You walk into the cave and start turning different directions\")\n",
        "time.sleep(2)\n",
        "print(\"Oh no... you are lost!\")\n",
        "time.sleep(2)\n",
        "item = input(\"What item do you think will be the most helpful? Cell phone (c), axe (a), rope (r)\")\n",
        "if item == \"a\":\n",
        "  print(\"You continue walking around and eventually come up to a large wall of rocks\")\n",
        "  time.sleep(2)\n",
        "  print(\"You use the axe to break through the wall of rocks\")\n",
        "  time.sleep(2)\n",
        "  print(\"You have now found yourself in a 4 way intersection\")\n",
        "  time.sleep(2)\n",
        "  direction = input(\"Which way would you like to turn? Forward (f), left(l), or right (r)?\")\n",
        "  if direction == \"f\":\n",
        "    print(\"You start to see the light at the end of the cave. You have survived.\")\n",
        "    time.sleep(2)\n",
        "    print(\"Congratulations on completing the game!\")\n",
        "  else:\n",
        "    print(\"You turn the corner and continue walking\")\n",
        "    time.sleep(2)\n",
        "    print(\"There is no light, and you get lost again.\")\n",
        "    time.sleep(2)\n",
        "    print(\"You come across a keyboard asking for a password\")\n",
        "    time.sleep(2)\n",
        "    password = input(\"What is the passcode? Hint: The answer is the planet that is closest to the Sun.\")\n",
        "    if password == \"mercury\" or \"Mercury\":\n",
        "      print(\"You are correct! You have escaped the cave! Congratulations!\")\n",
        "    else:\n",
        "      print(\"Incorrect password, you have lost the game. Try again!\")\n",
        "if item == \"r\":\n",
        "  print(\"You find a hole in the ground\")\n",
        "  time.sleep(2)\n",
        "  print(\"You use your rope to lower you down\")\n",
        "  time.sleep(2)\n",
        "  print(\"You have now found yourself in a 4 way intersection\")\n",
        "  time.sleep(2)\n",
        "  direction = input(\"Which way would you like to turn? Forward (f), left(l), or right (r)?\")\n",
        "  if direction == \"f\":\n",
        "    print(\"You start to see the light at the end of the cave. You have survived.\")\n",
        "    time.sleep(2)\n",
        "    print(\"Congratulations on completing the game!\")\n",
        "  else:\n",
        "    print(\"You turn the corner and continue walking\")\n",
        "    time.sleep(2)\n",
        "    print(\"There is no light, and you get lost again.\")\n",
        "    time.sleep(2)\n",
        "    print(\"You come across a keyboard asking for a password\")\n",
        "    time.sleep(2)\n",
        "    password = input(\"What is the passcode? Hint: The answer is the planet that is closest to the Sun.\")\n",
        "    if password == \"mercury\" or \"Mercury\":\n",
        "      print(\"You are correct! You have escaped the cave! Congratulations!\")\n",
        "    else:\n",
        "      print(\"Incorrect password, you have lost the game.\")\n",
        "if item == \"c\":\n",
        "  print(\"First you need to figure out the passcode to the phone\")\n",
        "  time.sleep(2)\n",
        "  password = input(\"Hint: the password is (25 * 10) + 19\")\n",
        "  if password == 269:\n",
        "    print(\"You are correct!\")\n",
        "  else:\n",
        "    print(\"Incorrect password. Try another one:\")\n",
        "    time.sleep(2)\n",
        "    pass2 = input(\"What is the capital of California?:\")\n",
        "    time.sleep(2)\n",
        "    if pass2 == \"Sacramento\" or \"sacramento\":\n",
        "      time.sleep(2)\n",
        "      print(\"That is correct!\")\n",
        "  print(\"You try to call your mom and dad, but there is no service\")\n",
        "  time.sleep(2)\n",
        "  print(\"You try to walk around more to find service but there isn't any\")\n",
        "  time.sleep(2)\n",
        "  print(\"Even though you found the password for the phone, there is no hope you are getting out with a cell phone, you have lost the game\")\n",
        "  time.sleep(2)\n",
        "\n"
      ]
    }
  ],
  "metadata": {
    "colab": {
      "name": "ashnapatelfinal.ipynb",
      "provenance": []
    },
    "kernelspec": {
      "display_name": "Python 3",
      "name": "python3"
    },
    "language_info": {
      "name": "python"
    }
  },
  "nbformat": 4,
  "nbformat_minor": 0
}