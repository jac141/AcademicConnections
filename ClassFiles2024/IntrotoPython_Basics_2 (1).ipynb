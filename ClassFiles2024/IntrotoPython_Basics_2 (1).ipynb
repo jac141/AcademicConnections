{
  "nbformat": 4,
  "nbformat_minor": 0,
  "metadata": {
    "colab": {
      "provenance": []
    },
    "kernelspec": {
      "name": "python3",
      "display_name": "Python 3"
    },
    "language_info": {
      "name": "python"
    }
  },
  "cells": [
    {
      "cell_type": "markdown",
      "source": [
        "# **Basics Part 2**:"
      ],
      "metadata": {
        "id": "PNt5hjWtzUjn"
      }
    },
    {
      "cell_type": "markdown",
      "source": [
        "# **Lists continued...**"
      ],
      "metadata": {
        "id": "nnUzHFkkzgMr"
      }
    },
    {
      "cell_type": "markdown",
      "source": [
        "Loop Through a List\n",
        "\n",
        "You can loop through the list items by using a for loop:\n",
        "\n",
        "We will learn more about for loops later"
      ],
      "metadata": {
        "id": "LV1D6eGbz7sG"
      }
    },
    {
      "cell_type": "code",
      "source": [
        "thislist = [\"apple\", \"banana\", \"cherry\"]\n",
        "for x in thislist:\n",
        "  print(x)"
      ],
      "metadata": {
        "id": "ZBhxukZFz__Q"
      },
      "execution_count": null,
      "outputs": []
    },
    {
      "cell_type": "markdown",
      "source": [
        "Loop Through the Index Numbers\n",
        "\n",
        "You can also loop through the list items by referring to their index number.\n",
        "\n",
        "Use the range() and len() functions to create a suitable iterable."
      ],
      "metadata": {
        "id": "2AM9IeHw0GdQ"
      }
    },
    {
      "cell_type": "code",
      "source": [
        "thislist = [\"apple\", \"banana\", \"cherry\"]\n",
        "for i in range(len(thislist)):\n",
        "  print(thislist[i])"
      ],
      "metadata": {
        "id": "dhc8miQY0JGR"
      },
      "execution_count": null,
      "outputs": []
    },
    {
      "cell_type": "markdown",
      "source": [
        "Using a While Loop\n",
        "\n",
        "You can loop through the list items by using a while loop.\n",
        "\n",
        "Use the len() function to determine the length of the list, then start at 0 and loop your way through the list items by referring to their indexes.\n",
        "\n",
        "Remember to increase the index by 1 after each iteration."
      ],
      "metadata": {
        "id": "MRRhVGVr0LFk"
      }
    },
    {
      "cell_type": "markdown",
      "source": [
        "thislist = [\"apple\", \"banana\", \"cherry\"]\n",
        "i = 0\n",
        "while i < len(thislist):\n",
        "  print(thislist[i])\n",
        "  i = i + 1"
      ],
      "metadata": {
        "id": "qsBiFwsM0ONr"
      }
    },
    {
      "cell_type": "markdown",
      "source": [],
      "metadata": {
        "id": "egi7nubX0XwM"
      }
    },
    {
      "cell_type": "markdown",
      "source": [
        "Sort List Alphanumerically\n",
        "\n",
        "List objects have a sort() method that will sort the list alphanumerically, ascending, by default:"
      ],
      "metadata": {
        "id": "AumXHA-M0ZnO"
      }
    },
    {
      "cell_type": "code",
      "source": [
        "thislist = [\"orange\", \"mango\", \"kiwi\", \"pineapple\", \"banana\"]\n",
        "thislist.sort()\n",
        "print(thislist)"
      ],
      "metadata": {
        "id": "efTt-iZu0YYi"
      },
      "execution_count": null,
      "outputs": []
    },
    {
      "cell_type": "code",
      "source": [
        "thislist = [100, 50, 65, 82, 23]\n",
        "thislist.sort()\n",
        "print(thislist)"
      ],
      "metadata": {
        "id": "-KlzxwgS0d7q"
      },
      "execution_count": null,
      "outputs": []
    },
    {
      "cell_type": "markdown",
      "source": [
        "Sort Descending\n",
        "\n",
        "To sort descending, use the keyword argument reverse = True:"
      ],
      "metadata": {
        "id": "qD0VvTrt0PvG"
      }
    },
    {
      "cell_type": "code",
      "source": [
        "thislist = [\"orange\", \"mango\", \"kiwi\", \"pineapple\", \"banana\"]\n",
        "thislist.sort(reverse = True)\n",
        "print(thislist)"
      ],
      "metadata": {
        "id": "ILem5X2t0gvj"
      },
      "execution_count": null,
      "outputs": []
    },
    {
      "cell_type": "code",
      "source": [
        "thislist = [100, 50, 65, 82, 23]\n",
        "thislist.sort(reverse = True)\n",
        "print(thislist)"
      ],
      "metadata": {
        "id": "Kc5Mauck0h-W"
      },
      "execution_count": null,
      "outputs": []
    },
    {
      "cell_type": "markdown",
      "source": [
        "Customize Sort Function\n",
        "\n",
        "You can also customize your own function by using the keyword argument key = function.\n",
        "\n",
        "The function will return a number that will be used to sort the list (the lowest number first):\n",
        "\n",
        "\n",
        "\n",
        "\n",
        "\n"
      ],
      "metadata": {
        "id": "1DMbl8Ue0GXg"
      }
    },
    {
      "cell_type": "code",
      "source": [
        "# Sort the list based on how close the number is to 50:\n",
        "\n",
        "def myfunc(n):\n",
        "  return abs(n - 50)\n",
        "\n",
        "thislist = [100, 50, 65, 82, 23]\n",
        "thislist.sort(key = myfunc)\n",
        "print(thislist)"
      ],
      "metadata": {
        "id": "lJFEisCT0EO6"
      },
      "execution_count": null,
      "outputs": []
    },
    {
      "cell_type": "markdown",
      "source": [
        "Case Insensitive Sort\n",
        "\n",
        "By default the sort() method is case sensitive, resulting in all capital letters being sorted before lower case letters:"
      ],
      "metadata": {
        "id": "inJ-WTzw0zER"
      }
    },
    {
      "cell_type": "code",
      "source": [
        "# Case sensitive sorting can give an unexpected result:\n",
        "\n",
        "thislist = [\"banana\", \"Orange\", \"Kiwi\", \"cherry\"]\n",
        "thislist.sort()\n",
        "print(thislist)\n"
      ],
      "metadata": {
        "id": "6GnPAgud010y"
      },
      "execution_count": null,
      "outputs": []
    },
    {
      "cell_type": "code",
      "source": [
        "thislist = [\"banana\", \"Orange\", \"Kiwi\", \"cherry\"]\n",
        "thislist.sort(key = str.lower)\n",
        "print(thislist)"
      ],
      "metadata": {
        "id": "WBOxz8cG05H2"
      },
      "execution_count": null,
      "outputs": []
    },
    {
      "cell_type": "markdown",
      "source": [
        "Reverse Order\n",
        "\n",
        "What if you want to reverse the order of a list, regardless of the alphabet?\n",
        "\n",
        "The reverse() method reverses the current sorting order of the elements."
      ],
      "metadata": {
        "id": "OmtINa1uzeKa"
      }
    },
    {
      "cell_type": "code",
      "source": [
        "thislist = [\"banana\", \"Orange\", \"Kiwi\", \"cherry\"]\n",
        "thislist.reverse()\n",
        "print(thislist)"
      ],
      "metadata": {
        "id": "GJISXARl0723"
      },
      "execution_count": null,
      "outputs": []
    },
    {
      "cell_type": "markdown",
      "source": [
        "Copy a List\n",
        "\n",
        "You cannot copy a list simply by typing list2 = list1, because: list2 will only be a reference to list1, and changes made in list1 will automatically also be made in list2.\n",
        "\n",
        "There are ways to make a copy, one way is to use the built-in List method copy()."
      ],
      "metadata": {
        "id": "dMRub1ew1Dvo"
      }
    },
    {
      "cell_type": "code",
      "source": [
        "# Make a copy of a list with the copy() method:\n",
        "\n",
        "thislist = [\"apple\", \"banana\", \"cherry\"]\n",
        "mylist = thislist.copy()\n",
        "print(mylist)"
      ],
      "metadata": {
        "id": "sWYU8ln91H4k"
      },
      "execution_count": null,
      "outputs": []
    },
    {
      "cell_type": "code",
      "source": [
        "# Make a copy of a list with the list() method:\n",
        "\n",
        "thislist = [\"apple\", \"banana\", \"cherry\"]\n",
        "mylist = list(thislist)\n",
        "print(mylist)"
      ],
      "metadata": {
        "id": "-NmtvJdD1L1H"
      },
      "execution_count": null,
      "outputs": []
    },
    {
      "cell_type": "markdown",
      "source": [
        "# **Tuple**"
      ],
      "metadata": {
        "id": "dpcNZ98S1TwE"
      }
    },
    {
      "cell_type": "markdown",
      "source": [
        "Tuples are used to store multiple items in a single variable.\n",
        "\n",
        "Tuple is one of 4 built-in data types in Python used to store collections of data, the other 3 are List, Set, and Dictionary, all with different qualities and usage.\n",
        "\n",
        "A tuple is a collection which is ordered and unchangeable.\n",
        "\n",
        "Tuples are written with round brackets.\n",
        "\n"
      ],
      "metadata": {
        "id": "bUKf_8I21XZF"
      }
    },
    {
      "cell_type": "code",
      "source": [
        "thistuple = (\"apple\", \"banana\", \"cherry\")\n",
        "print(thistuple)"
      ],
      "metadata": {
        "id": "hkAlzu1Y1bx6"
      },
      "execution_count": null,
      "outputs": []
    },
    {
      "cell_type": "markdown",
      "source": [
        "Tuple items are ordered, unchangeable, and allow duplicate values.\n",
        "\n",
        "Tuple items are indexed, the first item has index [0], the second item has index [1] etc.\n",
        "\n"
      ],
      "metadata": {
        "id": "DX6TVaR01dh6"
      }
    },
    {
      "cell_type": "code",
      "source": [
        "thistuple = (\"apple\", \"banana\", \"cherry\", \"apple\", \"cherry\")\n",
        "print(thistuple)"
      ],
      "metadata": {
        "id": "q5dCWfi41hg4"
      },
      "execution_count": null,
      "outputs": []
    },
    {
      "cell_type": "code",
      "source": [
        "thistuple = (\"apple\", \"banana\", \"cherry\")\n",
        "print(len(thistuple))"
      ],
      "metadata": {
        "id": "vFA9xp9V1i_7"
      },
      "execution_count": null,
      "outputs": []
    },
    {
      "cell_type": "code",
      "source": [
        "thistuple = (\"apple\",)\n",
        "print(type(thistuple))\n",
        "\n",
        "#NOT a tuple\n",
        "thistuple = (\"apple\")\n",
        "print(type(thistuple))"
      ],
      "metadata": {
        "id": "BtloB5kn1k0A"
      },
      "execution_count": null,
      "outputs": []
    },
    {
      "cell_type": "code",
      "source": [
        "tuple1 = (\"apple\", \"banana\", \"cherry\")\n",
        "tuple2 = (1, 5, 7, 9, 3)\n",
        "tuple3 = (True, False, False)"
      ],
      "metadata": {
        "id": "fI5CaLKv1l7k"
      },
      "execution_count": null,
      "outputs": []
    },
    {
      "cell_type": "code",
      "source": [
        "tuple1 = (\"abc\", 34, True, 40, \"male\")"
      ],
      "metadata": {
        "id": "aZbx9f1f1npw"
      },
      "execution_count": null,
      "outputs": []
    },
    {
      "cell_type": "code",
      "source": [
        "mytuple = (\"apple\", \"banana\", \"cherry\")\n",
        "print(type(mytuple))"
      ],
      "metadata": {
        "id": "oLlPI5h01pHv"
      },
      "execution_count": null,
      "outputs": []
    },
    {
      "cell_type": "code",
      "source": [
        "thistuple = tuple((\"apple\", \"banana\", \"cherry\")) # note the double round-brackets\n",
        "print(thistuple)"
      ],
      "metadata": {
        "id": "Ydrk6Am-1qQR"
      },
      "execution_count": null,
      "outputs": []
    },
    {
      "cell_type": "code",
      "source": [
        "# Try to Access tuples like you accessed lists\n",
        "# try negative indexing\n",
        "# Check to see if an item exists in the tuple"
      ],
      "metadata": {
        "id": "1nX1EAE81wEs"
      },
      "execution_count": null,
      "outputs": []
    },
    {
      "cell_type": "markdown",
      "source": [
        "Change Tuple Values\n",
        "\n",
        "Once a tuple is created, you cannot change its values. **Tuples are unchangeable, or immutable as it also is called.**\n",
        "\n",
        "But there is a workaround. You can convert the tuple into a list, change the list, and convert the list back into a tuple."
      ],
      "metadata": {
        "id": "bm6qYDiv2A0x"
      }
    },
    {
      "cell_type": "code",
      "source": [
        "x = (\"apple\", \"banana\", \"cherry\")\n",
        "y = list(x)\n",
        "y[1] = \"kiwi\"\n",
        "x = tuple(y)\n",
        "\n",
        "print(x)"
      ],
      "metadata": {
        "id": "dXtq6JH-2EbP"
      },
      "execution_count": null,
      "outputs": []
    },
    {
      "cell_type": "markdown",
      "source": [
        "Add Items\n",
        "\n",
        "Since tuples are immutable, they do not have a built-in append() method, but there are other ways to add items to a tuple.\n",
        "\n",
        "1. Convert into a list: Just like the workaround for changing a tuple, you can convert it into a list, add your item(s), and convert it back into a tuple.\n",
        "\n"
      ],
      "metadata": {
        "id": "Yl2DprKz2GwN"
      }
    },
    {
      "cell_type": "code",
      "source": [
        "thistuple = (\"apple\", \"banana\", \"cherry\")\n",
        "y = list(thistuple)\n",
        "y.append(\"orange\")\n",
        "thistuple = tuple(y)"
      ],
      "metadata": {
        "id": "KuZmotZH2Igc"
      },
      "execution_count": null,
      "outputs": []
    },
    {
      "cell_type": "code",
      "source": [
        "thistuple = (\"apple\", \"banana\", \"cherry\")\n",
        "y = (\"orange\",)\n",
        "thistuple += y\n",
        "\n",
        "print(thistuple)\n"
      ],
      "metadata": {
        "id": "XrONUJUQ2KQi"
      },
      "execution_count": null,
      "outputs": []
    },
    {
      "cell_type": "markdown",
      "source": [
        "Unpacking a Tuple\n",
        "\n",
        "When we create a tuple, we normally assign values to it. This is called \"packing\" a tuple:"
      ],
      "metadata": {
        "id": "gAvmkK2F2MkY"
      }
    },
    {
      "cell_type": "code",
      "source": [
        "fruits = (\"apple\", \"banana\", \"cherry\")"
      ],
      "metadata": {
        "id": "DKuCgCh12Pbi"
      },
      "execution_count": null,
      "outputs": []
    },
    {
      "cell_type": "code",
      "source": [
        "fruits = (\"apple\", \"banana\", \"cherry\")\n",
        "\n",
        "(green, yellow, red) = fruits\n",
        "\n",
        "print(green)\n",
        "print(yellow)\n",
        "print(red)"
      ],
      "metadata": {
        "id": "7c3L4oqm2S9M"
      },
      "execution_count": null,
      "outputs": []
    },
    {
      "cell_type": "markdown",
      "source": [
        "Using Asterisk*\n",
        "\n",
        "If the number of variables is less than the number of values, you can add an * to the variable name and the values will be assigned to the variable as a list:"
      ],
      "metadata": {
        "id": "nZ2pNw_x2Y28"
      }
    },
    {
      "cell_type": "code",
      "source": [
        "fruits = (\"apple\", \"banana\", \"cherry\", \"strawberry\", \"raspberry\")\n",
        "\n",
        "(green, yellow, *red) = fruits\n",
        "\n",
        "print(green)\n",
        "print(yellow)\n",
        "print(red)"
      ],
      "metadata": {
        "id": "HcKa7wwE2aga"
      },
      "execution_count": null,
      "outputs": []
    },
    {
      "cell_type": "markdown",
      "source": [
        "If the asterisk is added to another variable name than the last, Python will assign values to the variable until the number of values left matches the number of variables left."
      ],
      "metadata": {
        "id": "iX-0avF12dQy"
      }
    },
    {
      "cell_type": "code",
      "source": [
        "fruits = (\"apple\", \"banana\", \"cherry\", \"strawberry\", \"raspberry\")\n",
        "\n",
        "(green, yellow, *red) = fruits\n",
        "\n",
        "print(green)\n",
        "print(yellow)\n",
        "print(red)"
      ],
      "metadata": {
        "id": "lGPQoTQE2cDC"
      },
      "execution_count": null,
      "outputs": []
    },
    {
      "cell_type": "code",
      "source": [
        "# try looping thtrough a tuple\n",
        "# try using a while loop on a tuple\n",
        "# try joining a tuple\n",
        "# try multiplying a tuple"
      ],
      "metadata": {
        "id": "ook2_2hk2ezR"
      },
      "execution_count": null,
      "outputs": []
    },
    {
      "cell_type": "markdown",
      "source": [
        "**Tuple Methods**"
      ],
      "metadata": {
        "id": "_Ilu0cXH2wTg"
      }
    },
    {
      "cell_type": "markdown",
      "source": [
        "![image.png](data:image/png;base64,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)"
      ],
      "metadata": {
        "id": "zbmulj_l2suL"
      }
    },
    {
      "cell_type": "markdown",
      "source": [
        "# **Sets**"
      ],
      "metadata": {
        "id": "pG9aUfgZ20Qm"
      }
    },
    {
      "cell_type": "code",
      "source": [
        "myset = {\"apple\", \"banana\", \"cherry\"}"
      ],
      "metadata": {
        "id": "HC9pghey2-gQ"
      },
      "execution_count": null,
      "outputs": []
    },
    {
      "cell_type": "markdown",
      "source": [
        "\n",
        "Sets are used to store multiple items in a single variable.\n",
        "\n",
        "Set is one of 4 built-in data types in Python used to store collections of data, the other 3 are List, Tuple, and Dictionary, all with different qualities and usage.\n",
        "\n",
        "A set is a collection which is unordered, unchangeable*, and unindexed.\n",
        "\n",
        "* Note: Set items are unchangeable, but you can remove items and add new items."
      ],
      "metadata": {
        "id": "QId8Grl628Cu"
      }
    },
    {
      "cell_type": "code",
      "source": [
        "thisset = {\"apple\", \"banana\", \"cherry\"}\n",
        "print(thisset)"
      ],
      "metadata": {
        "id": "XiBMgiMS3GE7"
      },
      "execution_count": null,
      "outputs": []
    },
    {
      "cell_type": "markdown",
      "source": [
        "**Duplicates Not Allowed**"
      ],
      "metadata": {
        "id": "kyUHCxCb3HNP"
      }
    },
    {
      "cell_type": "code",
      "source": [
        "thisset = {\"apple\", \"banana\", \"cherry\", \"apple\"}\n",
        "\n",
        "print(thisset)"
      ],
      "metadata": {
        "id": "2I7Ot9hG3Ks3"
      },
      "execution_count": null,
      "outputs": []
    },
    {
      "cell_type": "code",
      "source": [
        "thisset = {\"apple\", \"banana\", \"cherry\", True, 1, 2}\n",
        "\n",
        "print(thisset)"
      ],
      "metadata": {
        "id": "W10jIjss3N82"
      },
      "execution_count": null,
      "outputs": []
    },
    {
      "cell_type": "code",
      "source": [
        "# Make 3 sets with different data types\n",
        "# Make a set with three data types\n",
        "# Get the type of a set"
      ],
      "metadata": {
        "id": "yw8e5NfJ3Pha"
      },
      "execution_count": null,
      "outputs": []
    },
    {
      "cell_type": "code",
      "source": [
        "thisset = set((\"apple\", \"banana\", \"cherry\")) # note the double round-brackets\n",
        "print(thisset)"
      ],
      "metadata": {
        "id": "tsP03NWR3cVU"
      },
      "execution_count": null,
      "outputs": []
    },
    {
      "cell_type": "code",
      "source": [
        "# Try to Access sets like you accessed lists and tuples\n",
        "# try negative indexing\n",
        "# Check to see if an item exists in the set"
      ],
      "metadata": {
        "id": "D-oVEHiQ3iUY"
      },
      "execution_count": null,
      "outputs": []
    },
    {
      "cell_type": "markdown",
      "source": [
        "Once a set is created, you cannot change its items, but you can add new items."
      ],
      "metadata": {
        "id": "rCd0GBSL3qMa"
      }
    },
    {
      "cell_type": "markdown",
      "source": [
        "To add one item to a set use the add() method.\n"
      ],
      "metadata": {
        "id": "ylFt97aS39_p"
      }
    },
    {
      "cell_type": "code",
      "source": [
        "thisset = {\"apple\", \"banana\", \"cherry\"}\n",
        "\n",
        "thisset.add(\"orange\")\n",
        "\n",
        "print(thisset)"
      ],
      "metadata": {
        "id": "57aLNJ9o4B0Y"
      },
      "execution_count": null,
      "outputs": []
    },
    {
      "cell_type": "code",
      "source": [
        "thisset = {\"apple\", \"banana\", \"cherry\"}\n",
        "tropical = {\"pineapple\", \"mango\", \"papaya\"}\n",
        "\n",
        "thisset.update(tropical)\n",
        "\n",
        "print(thisset)"
      ],
      "metadata": {
        "id": "usIgQekD4DSB"
      },
      "execution_count": null,
      "outputs": []
    },
    {
      "cell_type": "markdown",
      "source": [
        "The object in the update() method does not have to be a set, it can be any iterable object (tuples, lists, dictionaries etc.)."
      ],
      "metadata": {
        "id": "wNzy-4Ke4F25"
      }
    },
    {
      "cell_type": "markdown",
      "source": [
        "An iterable is any Python object capable of returning its members one at a time, permitting it to be iterated over in a for-loop.\n"
      ],
      "metadata": {
        "id": "u0FopHOd4I_B"
      }
    },
    {
      "cell_type": "code",
      "source": [
        "thisset = {\"apple\", \"banana\", \"cherry\"}\n",
        "mylist = [\"kiwi\", \"orange\"]\n",
        "\n",
        "thisset.update(mylist)\n",
        "\n",
        "print(thisset)"
      ],
      "metadata": {
        "id": "w0dWC6Wk4G-0"
      },
      "execution_count": null,
      "outputs": []
    },
    {
      "cell_type": "code",
      "source": [
        "# What do you think we can use to remove something from a set\n",
        "# what happens when the item doesnt exist\n"
      ],
      "metadata": {
        "id": "fLfrhE4R4Pj5"
      },
      "execution_count": null,
      "outputs": []
    },
    {
      "cell_type": "code",
      "source": [
        "thisset = {\"apple\", \"banana\", \"cherry\"}\n",
        "\n",
        "thisset.discard(\"banana\")\n",
        "\n",
        "print(thisset)\n",
        "\n",
        "# how is discard different from remove"
      ],
      "metadata": {
        "id": "l0OEAe8T4Y9b"
      },
      "execution_count": null,
      "outputs": []
    },
    {
      "cell_type": "code",
      "source": [
        "# what might be another method we can use"
      ],
      "metadata": {
        "id": "J0DP1Y4X4du8"
      },
      "execution_count": null,
      "outputs": []
    },
    {
      "cell_type": "code",
      "source": [
        "# try looping through a set\n"
      ],
      "metadata": {
        "id": "VgnA_s9S4hMT"
      },
      "execution_count": null,
      "outputs": []
    },
    {
      "cell_type": "markdown",
      "source": [
        "Join Two Sets\n",
        "\n",
        "There are several ways to join two or more sets in Python.\n",
        "\n",
        "You can use the union() method that returns a new set containing all items from both sets, or the update() method that inserts all the items from one set into another:\n",
        "\n"
      ],
      "metadata": {
        "id": "X2TYQcBy4kt6"
      }
    },
    {
      "cell_type": "code",
      "source": [
        "set1 = {\"a\", \"b\" , \"c\"}\n",
        "set2 = {1, 2, 3}\n",
        "\n",
        "set3 = set1.union(set2)\n",
        "print(set3)"
      ],
      "metadata": {
        "id": "aa7wWBsI4mrD"
      },
      "execution_count": null,
      "outputs": []
    },
    {
      "cell_type": "code",
      "source": [
        "set1 = {\"a\", \"b\" , \"c\"}\n",
        "set2 = {1, 2, 3}\n",
        "\n",
        "set1.update(set2)\n",
        "print(set1)"
      ],
      "metadata": {
        "id": "nS5UM9554oDQ"
      },
      "execution_count": null,
      "outputs": []
    },
    {
      "cell_type": "markdown",
      "source": [
        "## Set Methods"
      ],
      "metadata": {
        "id": "g9iVyAni4par"
      }
    },
    {
      "cell_type": "markdown",
      "source": [
        "![image.png](data:image/png;base64,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)"
      ],
      "metadata": {
        "id": "MolqkSNz4vaj"
      }
    },
    {
      "cell_type": "markdown",
      "source": [
        "# **Dictionaries**"
      ],
      "metadata": {
        "id": "yDAmOZfB459m"
      }
    },
    {
      "cell_type": "markdown",
      "source": [
        "Dictionaries are used to store data values in key:value pairs.\n",
        "\n",
        "A dictionary is a collection which is ordered*, changeable and do not allow duplicates.\n",
        "\n"
      ],
      "metadata": {
        "id": "rYbPDHQV5Bwl"
      }
    },
    {
      "cell_type": "code",
      "source": [
        "thisdict = {\n",
        "  \"brand\": \"Ford\",\n",
        "  \"model\": \"Mustang\",\n",
        "  \"year\": 1964\n",
        "}\n",
        "print(thisdict)"
      ],
      "metadata": {
        "id": "0GCgrJWE5EJg"
      },
      "execution_count": null,
      "outputs": []
    },
    {
      "cell_type": "markdown",
      "source": [
        "Dictionary Items\n",
        "\n",
        "Dictionary items are ordered, changeable, and does not allow duplicates.\n",
        "\n",
        "Dictionary items are presented in key:value pairs, and can be referred to by using the key name."
      ],
      "metadata": {
        "id": "HAW-kZX65KMH"
      }
    },
    {
      "cell_type": "markdown",
      "source": [
        "When we say that dictionaries are ordered, it means that the items have a defined order, and that order will not change.\n",
        "\n",
        "Unordered means that the items does not have a defined order, you cannot refer to an item by using an index."
      ],
      "metadata": {
        "id": "CepjeS3W5NdG"
      }
    },
    {
      "cell_type": "markdown",
      "source": [
        "**Duplicates Not Allowed**"
      ],
      "metadata": {
        "id": "NXOi2bQr5OWM"
      }
    },
    {
      "cell_type": "code",
      "source": [
        "thisdict = {\n",
        "  \"brand\": \"Ford\",\n",
        "  \"model\": \"Mustang\",\n",
        "  \"year\": 1964,\n",
        "  \"year\": 2020\n",
        "}\n",
        "print(thisdict)\n",
        "\n",
        "# Duplicate values will overwrite existing values:"
      ],
      "metadata": {
        "id": "10DWg0W65Sru"
      },
      "execution_count": null,
      "outputs": []
    },
    {
      "cell_type": "code",
      "source": [
        "thisdict = {\n",
        "  \"brand\": \"Ford\",\n",
        "  \"model\": \"Mustang\",\n",
        "  \"year\": 1964\n",
        "}\n",
        "x = thisdict[\"model\"]\n"
      ],
      "metadata": {
        "id": "2WfGwvxh5b1m"
      },
      "execution_count": null,
      "outputs": []
    },
    {
      "cell_type": "code",
      "source": [
        "x = thisdict.get(\"model\")"
      ],
      "metadata": {
        "id": "lS1Ug_575e8b"
      },
      "execution_count": null,
      "outputs": []
    },
    {
      "cell_type": "code",
      "source": [
        "x = thisdict.keys()"
      ],
      "metadata": {
        "id": "YRscNgCm5g0T"
      },
      "execution_count": null,
      "outputs": []
    },
    {
      "cell_type": "code",
      "source": [
        "car = {\n",
        "\"brand\": \"Ford\",\n",
        "\"model\": \"Mustang\",\n",
        "\"year\": 1964\n",
        "}\n",
        "\n",
        "x = car.keys()\n",
        "\n",
        "print(x) #before the change\n",
        "\n",
        "car[\"color\"] = \"white\"\n",
        "\n",
        "print(x) #after the change"
      ],
      "metadata": {
        "id": "BNSmObfw5h9I"
      },
      "execution_count": null,
      "outputs": []
    },
    {
      "cell_type": "code",
      "source": [
        "x = thisdict.values()"
      ],
      "metadata": {
        "id": "cWHE8fSv5jmn"
      },
      "execution_count": null,
      "outputs": []
    },
    {
      "cell_type": "code",
      "source": [
        "car = {\n",
        "\"brand\": \"Ford\",\n",
        "\"model\": \"Mustang\",\n",
        "\"year\": 1964\n",
        "}\n",
        "\n",
        "x = car.values()\n",
        "\n",
        "print(x) #before the change\n",
        "\n",
        "car[\"year\"] = 2020\n",
        "\n",
        "print(x) #after the change"
      ],
      "metadata": {
        "id": "K3pPnnsZ5lp1"
      },
      "execution_count": null,
      "outputs": []
    },
    {
      "cell_type": "code",
      "source": [
        "car = {\n",
        "\"brand\": \"Ford\",\n",
        "\"model\": \"Mustang\",\n",
        "\"year\": 1964\n",
        "}\n",
        "\n",
        "x = car.values()\n",
        "\n",
        "print(x) #before the change\n",
        "\n",
        "car[\"color\"] = \"red\"\n",
        "\n",
        "print(x) #after the change"
      ],
      "metadata": {
        "id": "Ypgc_d6Q5m6t"
      },
      "execution_count": null,
      "outputs": []
    },
    {
      "cell_type": "code",
      "source": [
        "x = thisdict.items()"
      ],
      "metadata": {
        "id": "SR3IWcI15oSs"
      },
      "execution_count": null,
      "outputs": []
    },
    {
      "cell_type": "code",
      "source": [
        "car = {\n",
        "\"brand\": \"Ford\",\n",
        "\"model\": \"Mustang\",\n",
        "\"year\": 1964\n",
        "}\n",
        "\n",
        "x = car.items()\n",
        "\n",
        "print(x) #before the change\n",
        "\n",
        "car[\"year\"] = 2020\n",
        "\n",
        "print(x) #after the change"
      ],
      "metadata": {
        "id": "LKl5ioy-5pig"
      },
      "execution_count": null,
      "outputs": []
    },
    {
      "cell_type": "code",
      "source": [
        "car = {\n",
        "\"brand\": \"Ford\",\n",
        "\"model\": \"Mustang\",\n",
        "\"year\": 1964\n",
        "}\n",
        "\n",
        "x = car.items()\n",
        "\n",
        "print(x) #before the change\n",
        "\n",
        "car[\"color\"] = \"red\"\n",
        "\n",
        "print(x) #after the change"
      ],
      "metadata": {
        "id": "SXCgskg95qrb"
      },
      "execution_count": null,
      "outputs": []
    },
    {
      "cell_type": "code",
      "source": [
        "thisdict = {\n",
        "  \"brand\": \"Ford\",\n",
        "  \"model\": \"Mustang\",\n",
        "  \"year\": 1964\n",
        "}\n",
        "if \"model\" in thisdict:\n",
        "  print(\"Yes, 'model' is one of the keys in the thisdict dictionary\")"
      ],
      "metadata": {
        "id": "wLFNW1Ty5r24"
      },
      "execution_count": null,
      "outputs": []
    },
    {
      "cell_type": "code",
      "source": [
        "thisdict = {\n",
        "  \"brand\": \"Ford\",\n",
        "  \"model\": \"Mustang\",\n",
        "  \"year\": 1964\n",
        "}\n",
        "thisdict[\"year\"] = 2018"
      ],
      "metadata": {
        "id": "mvQn4BgP52fp"
      },
      "execution_count": null,
      "outputs": []
    },
    {
      "cell_type": "code",
      "source": [
        "thisdict = {\n",
        "  \"brand\": \"Ford\",\n",
        "  \"model\": \"Mustang\",\n",
        "  \"year\": 1964\n",
        "}\n",
        "thisdict.update({\"year\": 2020})"
      ],
      "metadata": {
        "id": "AXAObXGS53rV"
      },
      "execution_count": null,
      "outputs": []
    },
    {
      "cell_type": "code",
      "source": [
        "thisdict = {\n",
        "  \"brand\": \"Ford\",\n",
        "  \"model\": \"Mustang\",\n",
        "  \"year\": 1964\n",
        "}\n",
        "thisdict[\"color\"] = \"red\"\n",
        "print(thisdict)"
      ],
      "metadata": {
        "id": "DM_RgApX55Zc"
      },
      "execution_count": null,
      "outputs": []
    },
    {
      "cell_type": "code",
      "source": [
        "thisdict = {\n",
        "  \"brand\": \"Ford\",\n",
        "  \"model\": \"Mustang\",\n",
        "  \"year\": 1964\n",
        "}\n",
        "thisdict.update({\"color\": \"red\"})"
      ],
      "metadata": {
        "id": "edkWGFrT56yQ"
      },
      "execution_count": null,
      "outputs": []
    },
    {
      "cell_type": "code",
      "source": [
        "# what's a way to remove items from a dictionary"
      ],
      "metadata": {
        "id": "_4cVWzK659nO"
      },
      "execution_count": null,
      "outputs": []
    },
    {
      "cell_type": "code",
      "source": [
        "thisdict = {\n",
        "  \"brand\": \"Ford\",\n",
        "  \"model\": \"Mustang\",\n",
        "  \"year\": 1964\n",
        "}\n",
        "thisdict.popitem()\n",
        "print(thisdict)"
      ],
      "metadata": {
        "id": "eW9YW_1L6CIE"
      },
      "execution_count": null,
      "outputs": []
    },
    {
      "cell_type": "code",
      "source": [
        "thisdict = {\n",
        "  \"brand\": \"Ford\",\n",
        "  \"model\": \"Mustang\",\n",
        "  \"year\": 1964\n",
        "}\n",
        "del thisdict[\"model\"]\n",
        "print(thisdict)\n",
        "\n",
        "# The del keyword can also delete the dictionary completely:"
      ],
      "metadata": {
        "id": "K_NgiDHc6DMW"
      },
      "execution_count": null,
      "outputs": []
    },
    {
      "cell_type": "code",
      "source": [
        "thisdict = {\n",
        "  \"brand\": \"Ford\",\n",
        "  \"model\": \"Mustang\",\n",
        "  \"year\": 1964\n",
        "}\n",
        "thisdict.clear()\n",
        "print(thisdict)"
      ],
      "metadata": {
        "id": "mXglZAHe6Hre"
      },
      "execution_count": null,
      "outputs": []
    },
    {
      "cell_type": "code",
      "source": [
        "for x in thisdict:\n",
        "  print(thisdict[x])"
      ],
      "metadata": {
        "id": "Ol_ynApw6JzO"
      },
      "execution_count": null,
      "outputs": []
    },
    {
      "cell_type": "code",
      "source": [
        "for x in thisdict.values():\n",
        "  print(x)"
      ],
      "metadata": {
        "id": "9yIkWYi76K5k"
      },
      "execution_count": null,
      "outputs": []
    },
    {
      "cell_type": "code",
      "source": [
        "for x in thisdict.keys():\n",
        "  print(x)"
      ],
      "metadata": {
        "id": "tAZaK9U56Na_"
      },
      "execution_count": null,
      "outputs": []
    },
    {
      "cell_type": "code",
      "source": [
        "for x, y in thisdict.items():\n",
        "  print(x, y)"
      ],
      "metadata": {
        "id": "2Sy2Hhcc6O0K"
      },
      "execution_count": null,
      "outputs": []
    },
    {
      "cell_type": "code",
      "source": [
        "# copy a dictionary into another variable\n",
        "# make a copy of dictionary another way after this"
      ],
      "metadata": {
        "id": "9fzlrME_6Q-D"
      },
      "execution_count": null,
      "outputs": []
    },
    {
      "cell_type": "markdown",
      "source": [
        "Nested Dictionaries\n",
        "\n",
        "A dictionary can contain dictionaries, this is called nested dictionaries.\n",
        "\n",
        "This is our first experience with nesting"
      ],
      "metadata": {
        "id": "_mehqdy96ax5"
      }
    },
    {
      "cell_type": "code",
      "source": [
        "myfamily = {\n",
        "  \"child1\" : {\n",
        "    \"name\" : \"Emil\",\n",
        "    \"year\" : 2004\n",
        "  },\n",
        "  \"child2\" : {\n",
        "    \"name\" : \"Tobias\",\n",
        "    \"year\" : 2007\n",
        "  },\n",
        "  \"child3\" : {\n",
        "    \"name\" : \"Linus\",\n",
        "    \"year\" : 2011\n",
        "  }\n",
        "}"
      ],
      "metadata": {
        "id": "TNuXTR0o6gVT"
      },
      "execution_count": null,
      "outputs": []
    },
    {
      "cell_type": "code",
      "source": [
        "print(myfamily[\"child2\"][\"name\"])"
      ],
      "metadata": {
        "id": "9n0gILxn6iHL"
      },
      "execution_count": null,
      "outputs": []
    },
    {
      "cell_type": "markdown",
      "source": [
        "Dictionary Methods"
      ],
      "metadata": {
        "id": "ifcGSPmv6i91"
      }
    },
    {
      "cell_type": "markdown",
      "source": [
        "![image.png](data:image/png;base64,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)"
      ],
      "metadata": {
        "id": "iq92nmoB6kxA"
      }
    },
    {
      "cell_type": "markdown",
      "source": [
        "# **If...Else**"
      ],
      "metadata": {
        "id": "efwoDJ606p2O"
      }
    },
    {
      "cell_type": "markdown",
      "source": [
        "Python Conditions and If statements\n",
        "\n",
        "Python supports the usual logical conditions from mathematics:\n",
        "\n",
        "* Equals: a == b\n",
        "* Not Equals: a != b\n",
        "* Less than: a < b\n",
        "* Less than or equal to: a <= b\n",
        "* Greater than: a > b\n",
        "* Greater than or equal to: a >= b\n",
        "\n",
        "These conditions can be used in several ways, most commonly in \"if statements\" and loops.\n",
        "\n",
        "An \"if statement\" is written by using the if keyword."
      ],
      "metadata": {
        "id": "rq_WG4nS6xZq"
      }
    },
    {
      "cell_type": "code",
      "source": [
        "a = 33\n",
        "b = 200\n",
        "if b > a:\n",
        "  print(\"b is greater than a\")"
      ],
      "metadata": {
        "id": "ePiur4Y57TLP"
      },
      "execution_count": null,
      "outputs": []
    },
    {
      "cell_type": "markdown",
      "source": [
        "In this example we use two variables, a and b, which are used as part of the if statement to test whether b is greater than a. As a is 33, and b is 200, we know that 200 is greater than 33, and so we print to screen that \"b is greater than a\"."
      ],
      "metadata": {
        "id": "--Hk2yTx7Vh_"
      }
    },
    {
      "cell_type": "markdown",
      "source": [
        "Indentation\n",
        "\n",
        "Python relies on indentation (whitespace at the beginning of a line) to define scope in the code. Other programming languages often use curly-brackets for this purpose.\n",
        "\n"
      ],
      "metadata": {
        "id": "upt5fj287W7o"
      }
    },
    {
      "cell_type": "code",
      "source": [
        "a = 33\n",
        "b = 200\n",
        "if b > a:\n",
        "print(\"b is greater than a\") # you will get an error"
      ],
      "metadata": {
        "id": "73g9bSYK7aEC"
      },
      "execution_count": null,
      "outputs": []
    },
    {
      "cell_type": "markdown",
      "source": [
        "Elif\n",
        "\n",
        "The elif keyword is Python's way of saying \"if the previous conditions were not true, then try this condition\"."
      ],
      "metadata": {
        "id": "Bog0hxUN7b2a"
      }
    },
    {
      "cell_type": "code",
      "source": [
        "a = 33\n",
        "b = 33\n",
        "if b > a:\n",
        "  print(\"b is greater than a\")\n",
        "elif a == b:\n",
        "  print(\"a and b are equal\")\n",
        "\n",
        "# In this example a is equal to b, so the first condition is not true, but the elif condition is true, so we print to screen that \"a and b are equal\".\n",
        "\n"
      ],
      "metadata": {
        "id": "spmc9Ro57fOO"
      },
      "execution_count": null,
      "outputs": []
    },
    {
      "cell_type": "markdown",
      "source": [
        "Else\n",
        "\n",
        "The else keyword catches anything which isn't caught by the preceding conditions.\n",
        "\n"
      ],
      "metadata": {
        "id": "CysXiqXh7kxI"
      }
    },
    {
      "cell_type": "code",
      "source": [
        "a = 200\n",
        "b = 33\n",
        "if b > a:\n",
        "  print(\"b is greater than a\")\n",
        "elif a == b:\n",
        "  print(\"a and b are equal\")\n",
        "else:\n",
        "  print(\"a is greater than b\")"
      ],
      "metadata": {
        "id": "s0il14FY7n3_"
      },
      "execution_count": null,
      "outputs": []
    },
    {
      "cell_type": "markdown",
      "source": [
        "In this example a is greater than b, so the first condition is not true, also the elif condition is not true, so we go to the else condition and print to screen that \"a is greater than b\".\n",
        "\n",
        "You can also have an else without the elif:"
      ],
      "metadata": {
        "id": "emFFFBcF7p5L"
      }
    },
    {
      "cell_type": "code",
      "source": [
        "a = 200\n",
        "b = 33\n",
        "if b > a:\n",
        "  print(\"b is greater than a\")\n",
        "else:\n",
        "  print(\"b is not greater than a\")"
      ],
      "metadata": {
        "id": "xCkA2UNG7q_c"
      },
      "execution_count": null,
      "outputs": []
    },
    {
      "cell_type": "code",
      "source": [
        "if a > b: print(\"a is greater than b\")"
      ],
      "metadata": {
        "id": "biRHNmiT7r_X"
      },
      "execution_count": null,
      "outputs": []
    },
    {
      "cell_type": "code",
      "source": [
        "a = 2\n",
        "b = 330\n",
        "print(\"A\") if a > b else print(\"B\")"
      ],
      "metadata": {
        "id": "La84ToOc7tcG"
      },
      "execution_count": null,
      "outputs": []
    },
    {
      "cell_type": "code",
      "source": [
        "a = 330\n",
        "b = 330\n",
        "print(\"A\") if a > b else print(\"=\") if a == b else print(\"B\")\n",
        "\n",
        "# One line if else statement, with 3 conditions:"
      ],
      "metadata": {
        "id": "8MYN2qeO7vLw"
      },
      "execution_count": null,
      "outputs": []
    },
    {
      "cell_type": "markdown",
      "source": [
        "And\n",
        "\n",
        "The and keyword is a logical operator, and is used to combine conditional statements:"
      ],
      "metadata": {
        "id": "5DynZBRi7yXC"
      }
    },
    {
      "cell_type": "code",
      "source": [
        "a = 200\n",
        "b = 33\n",
        "c = 500\n",
        "if a > b and c > a:\n",
        "  print(\"Both conditions are True\")"
      ],
      "metadata": {
        "id": "JPtIQRTX7yzd"
      },
      "execution_count": null,
      "outputs": []
    },
    {
      "cell_type": "markdown",
      "source": [
        "Or\n",
        "\n",
        "The or keyword is a logical operator, and is used to combine conditional statements:"
      ],
      "metadata": {
        "id": "ouYxgMo071w6"
      }
    },
    {
      "cell_type": "code",
      "source": [
        "a = 200\n",
        "b = 33\n",
        "c = 500\n",
        "if a > b or a > c:\n",
        "  print(\"At least one of the conditions is True\")"
      ],
      "metadata": {
        "id": "uCiKdLGZ75XU"
      },
      "execution_count": null,
      "outputs": []
    },
    {
      "cell_type": "markdown",
      "source": [
        "Not\n",
        "\n",
        "The not keyword is a logical operator, and is used to reverse the result of the conditional statement:"
      ],
      "metadata": {
        "id": "L0ykJupX76Ay"
      }
    },
    {
      "cell_type": "code",
      "source": [
        "a = 33\n",
        "b = 200\n",
        "if not a > b:\n",
        "  print(\"a is NOT greater than b\")"
      ],
      "metadata": {
        "id": "4xEdk57B78ms"
      },
      "execution_count": null,
      "outputs": []
    },
    {
      "cell_type": "markdown",
      "source": [
        "Nested If\n",
        "\n",
        "You can have if statements inside if statements, this is called nested if statements."
      ],
      "metadata": {
        "id": "vWYfQ1cA7_bF"
      }
    },
    {
      "cell_type": "code",
      "source": [
        "x = 41\n",
        "\n",
        "if x > 10:\n",
        "  print(\"Above ten,\")\n",
        "  if x > 20:\n",
        "    print(\"and also above 20!\")\n",
        "  else:\n",
        "    print(\"but not above 20.\")"
      ],
      "metadata": {
        "id": "onXHR4y68A6a"
      },
      "execution_count": null,
      "outputs": []
    },
    {
      "cell_type": "markdown",
      "source": [
        "The pass Statement\n",
        "\n",
        "if statements cannot be empty, but if you for some reason have an if statement with no content, put in the pass statement to avoid getting an error."
      ],
      "metadata": {
        "id": "AwKNZJ8o8Cql"
      }
    },
    {
      "cell_type": "code",
      "source": [
        "a = 33\n",
        "b = 200\n",
        "\n",
        "if b > a:\n",
        "  pass"
      ],
      "metadata": {
        "id": "B3Dx5o6v8DtQ"
      },
      "execution_count": null,
      "outputs": []
    },
    {
      "cell_type": "markdown",
      "source": [
        "# **While Loops**"
      ],
      "metadata": {
        "id": "SkGi0HpU8GX1"
      }
    },
    {
      "cell_type": "markdown",
      "source": [
        "Python Loops\n",
        "\n",
        "Python has two primitive loop commands:\n",
        "\n",
        "while loops\n",
        "for loops"
      ],
      "metadata": {
        "id": "9pHI1lkt8lgF"
      }
    },
    {
      "cell_type": "markdown",
      "source": [
        "The while Loop\n",
        "\n",
        "With the while loop we can execute a set of statements as long as a condition is true.\n",
        "\n"
      ],
      "metadata": {
        "id": "QqfjK7Aj8oD-"
      }
    },
    {
      "cell_type": "code",
      "source": [
        "i = 1\n",
        "while i < 6:\n",
        "  print(i)\n",
        "  i += 1"
      ],
      "metadata": {
        "id": "OgiSRtMT8iqa"
      },
      "execution_count": null,
      "outputs": []
    },
    {
      "cell_type": "markdown",
      "source": [
        "The while loop requires relevant variables to be ready, in this example we need to define an indexing variable, i, which we set to 1.\n"
      ],
      "metadata": {
        "id": "jJqdm1kj8sNR"
      }
    },
    {
      "cell_type": "markdown",
      "source": [
        "The break Statement\n",
        "\n",
        "With the break statement we can stop the loop even if the while condition is true:"
      ],
      "metadata": {
        "id": "y22fLTdS8tv_"
      }
    },
    {
      "cell_type": "code",
      "source": [
        "i = 1\n",
        "while i < 6:\n",
        "  print(i)\n",
        "  if i == 3:\n",
        "    break\n",
        "  i += 1"
      ],
      "metadata": {
        "id": "Zn9Ngihu8t3F"
      },
      "execution_count": null,
      "outputs": []
    },
    {
      "cell_type": "markdown",
      "source": [
        "The continue Statement\n",
        "\n",
        "With the continue statement we can stop the current iteration, and continue with the next:\n",
        "\n"
      ],
      "metadata": {
        "id": "YzTe043q8ymO"
      }
    },
    {
      "cell_type": "code",
      "source": [
        "i = 0\n",
        "while i < 6:\n",
        "  i += 1\n",
        "  if i == 3:\n",
        "    continue\n",
        "  print(i)"
      ],
      "metadata": {
        "id": "gUphecYx80O_"
      },
      "execution_count": null,
      "outputs": []
    },
    {
      "cell_type": "markdown",
      "source": [
        "The else Statement\n",
        "\n",
        "With the else statement we can run a block of code once when the condition no longer is true:"
      ],
      "metadata": {
        "id": "BsSTJh0c81ez"
      }
    },
    {
      "cell_type": "code",
      "source": [
        "i = 1\n",
        "while i < 6:\n",
        "  print(i)\n",
        "  i += 1\n",
        "else:\n",
        "  print(\"i is no longer less than 6\")\n"
      ],
      "metadata": {
        "id": "2yrBFcb183Mg"
      },
      "execution_count": null,
      "outputs": []
    },
    {
      "cell_type": "markdown",
      "source": [
        "# **For Loops**"
      ],
      "metadata": {
        "id": "AB1xKfqI84xM"
      }
    },
    {
      "cell_type": "markdown",
      "source": [
        "A for loop is used for iterating over a sequence (that is either a list, a tuple, a dictionary, a set, or a string).\n",
        "\n",
        "This is less like the for keyword in other programming languages, and works more like an iterator method as found in other object-orientated programming languages.\n",
        "\n",
        "With the for loop we can execute a set of statements, once for each item in a list, tuple, set etc."
      ],
      "metadata": {
        "id": "czWmdOSI89Fg"
      }
    },
    {
      "cell_type": "code",
      "source": [
        "fruits = [\"apple\", \"banana\", \"cherry\"]\n",
        "for x in fruits:\n",
        "  print(x)"
      ],
      "metadata": {
        "id": "4WZKeKR98_wU"
      },
      "execution_count": null,
      "outputs": []
    },
    {
      "cell_type": "code",
      "source": [
        "# Practice looping through a string"
      ],
      "metadata": {
        "id": "PwvGEeZS9Bq6"
      },
      "execution_count": null,
      "outputs": []
    },
    {
      "cell_type": "code",
      "source": [
        "# use an if and break statement to stop a loop before it loops through too many times\n",
        "\n",
        "# try again but switch the order of the print and break statements does that change anything?\n"
      ],
      "metadata": {
        "id": "htZ7Xw8M9FGg"
      },
      "execution_count": null,
      "outputs": []
    },
    {
      "cell_type": "code",
      "source": [
        "for x in range(6):\n",
        "  print(x)"
      ],
      "metadata": {
        "id": "G4TpZ0EZ9lqt"
      },
      "execution_count": null,
      "outputs": []
    },
    {
      "cell_type": "markdown",
      "source": [
        "The range() function defaults to increment the sequence by 1, however it is possible to specify the increment value by adding a third parameter: range(2, 30, 3):"
      ],
      "metadata": {
        "id": "-daECvRz9pu9"
      }
    },
    {
      "cell_type": "code",
      "source": [
        "for x in range(2, 30, 3):\n",
        "  print(x)"
      ],
      "metadata": {
        "id": "qDPdgKZT9rEH"
      },
      "execution_count": null,
      "outputs": []
    },
    {
      "cell_type": "markdown",
      "source": [
        "Else in For Loop\n",
        "\n",
        "The else keyword in a for loop specifies a block of code to be executed when the loop is finished:"
      ],
      "metadata": {
        "id": "A36clfl59vUR"
      }
    },
    {
      "cell_type": "code",
      "source": [
        "for x in range(6):\n",
        "  print(x)\n",
        "else:\n",
        "  print(\"Finally finished!\")"
      ],
      "metadata": {
        "id": "qmBsnmmP9xMo"
      },
      "execution_count": null,
      "outputs": []
    },
    {
      "cell_type": "code",
      "source": [
        "for x in range(6):\n",
        "  if x == 3: break\n",
        "  print(x)\n",
        "else:\n",
        "  print(\"Finally finished!\")"
      ],
      "metadata": {
        "id": "nVdnFafc9o6H"
      },
      "execution_count": null,
      "outputs": []
    },
    {
      "cell_type": "markdown",
      "source": [
        "Nested Loops\n",
        "\n",
        "A nested loop is a loop inside a loop.\n",
        "\n",
        "The \"inner loop\" will be executed one time for each iteration of the \"outer loop\":"
      ],
      "metadata": {
        "id": "iKSqdKMG9z01"
      }
    },
    {
      "cell_type": "code",
      "source": [
        "adj = [\"red\", \"big\", \"tasty\"]\n",
        "fruits = [\"apple\", \"banana\", \"cherry\"]\n",
        "\n",
        "for x in adj:\n",
        "  for y in fruits:\n",
        "    print(x, y)"
      ],
      "metadata": {
        "id": "RQKEYJgC92c-"
      },
      "execution_count": null,
      "outputs": []
    },
    {
      "cell_type": "markdown",
      "source": [
        "The pass Statement\n",
        "\n",
        "**for loops cannot be empty**, but if you for some reason have a for loop with no content, put in the pass statement to avoid getting an error."
      ],
      "metadata": {
        "id": "g1b0OfWu94Sn"
      }
    },
    {
      "cell_type": "code",
      "source": [
        "for x in [0, 1, 2]:\n",
        "  pass"
      ],
      "metadata": {
        "id": "LSjPoqJa98Sj"
      },
      "execution_count": null,
      "outputs": []
    },
    {
      "cell_type": "markdown",
      "source": [
        "# **Functions**"
      ],
      "metadata": {
        "id": "15SOKOr697k8"
      }
    },
    {
      "cell_type": "markdown",
      "source": [
        "A function is a block of code which only runs when it is called.\n",
        "\n",
        "You can pass data, known as parameters, into a function.\n",
        "\n",
        "A function can return data as a result.\n",
        "\n"
      ],
      "metadata": {
        "id": "t2fhCg5f8-7K"
      }
    },
    {
      "cell_type": "code",
      "source": [
        "# make a function"
      ],
      "metadata": {
        "id": "GVO_Sn07-Rcz"
      },
      "execution_count": null,
      "outputs": []
    },
    {
      "cell_type": "code",
      "source": [
        "# call the function"
      ],
      "metadata": {
        "id": "y66ssVTx-TVk"
      },
      "execution_count": null,
      "outputs": []
    },
    {
      "cell_type": "code",
      "source": [
        "def my_function(fname):\n",
        "  print(fname + \" Refsnes\")\n",
        "\n",
        "my_function(\"Emil\")\n",
        "my_function(\"Tobias\")\n",
        "my_function(\"Linus\")"
      ],
      "metadata": {
        "id": "qHDW0eAH-Wcq"
      },
      "execution_count": null,
      "outputs": []
    },
    {
      "cell_type": "markdown",
      "source": [
        "Parameters or Arguments?\n",
        "\n",
        "The terms parameter and argument can be used for the same thing: information that are passed into a function."
      ],
      "metadata": {
        "id": "30ZWJlVL-Y1q"
      }
    },
    {
      "cell_type": "markdown",
      "source": [
        "Number of Arguments\n",
        "\n",
        "By default, a function must be called with the correct number of arguments. Meaning that if your function expects 2 arguments, you have to call the function with 2 arguments, not more, and not less."
      ],
      "metadata": {
        "id": "UC18UNvw-aYC"
      }
    },
    {
      "cell_type": "code",
      "source": [
        "def my_function(fname, lname):\n",
        "  print(fname + \" \" + lname)\n",
        "\n",
        "my_function(\"Emil\", \"Refsnes\")"
      ],
      "metadata": {
        "id": "FUob4TIu-bz6"
      },
      "execution_count": null,
      "outputs": []
    },
    {
      "cell_type": "code",
      "source": [
        "# This function expects 2 arguments, but gets only 1:\n",
        "\n",
        "def my_function(fname, lname):\n",
        "  print(fname + \" \" + lname)\n",
        "\n",
        "my_function(\"Emil\")"
      ],
      "metadata": {
        "id": "TKq7r0_S-dRk"
      },
      "execution_count": null,
      "outputs": []
    },
    {
      "cell_type": "markdown",
      "source": [
        "Arbitrary Arguments, *args\n",
        "If you do not know how many arguments that will be passed into your function, add a * before the parameter name in the function definition.\n",
        "\n",
        "This way the function will receive a tuple of arguments, and can access the items accordingly:"
      ],
      "metadata": {
        "id": "xGi3GTys-hjY"
      }
    },
    {
      "cell_type": "code",
      "source": [
        "def my_function(*kids):\n",
        "  print(\"The youngest child is \" + kids[2])\n",
        "\n",
        "my_function(\"Emil\", \"Tobias\", \"Linus\")"
      ],
      "metadata": {
        "id": "kIE25Yyl-3Q9"
      },
      "execution_count": null,
      "outputs": []
    },
    {
      "cell_type": "markdown",
      "source": [
        "Keyword Arguments\n",
        "\n",
        "You can also send arguments with the key = value syntax.\n",
        "\n",
        "This way the order of the arguments does not matter."
      ],
      "metadata": {
        "id": "UO4y7STv-5m9"
      }
    },
    {
      "cell_type": "code",
      "source": [
        "def my_function(child3, child2, child1):\n",
        "  print(\"The youngest child is \" + child3)\n",
        "\n",
        "my_function(child1 = \"Emil\", child2 = \"Tobias\", child3 = \"Linus\")"
      ],
      "metadata": {
        "id": "B34XIMdb-7KL"
      },
      "execution_count": null,
      "outputs": []
    },
    {
      "cell_type": "markdown",
      "source": [
        "Arbitrary Keyword Arguments, **kwargs\n",
        "\n",
        "If you do not know how many keyword arguments that will be passed into your function, add two asterisk: ** before the parameter name in the function definition.\n",
        "\n",
        "This way the function will receive a dictionary of arguments, and can access the items accordingly:"
      ],
      "metadata": {
        "id": "ED0t7mya-8hG"
      }
    },
    {
      "cell_type": "code",
      "source": [
        "# If the number of keyword arguments is unknown, add a double ** before the parameter name:\n",
        "\n",
        "def my_function(**kid):\n",
        "  print(\"His last name is \" + kid[\"lname\"])\n",
        "\n",
        "my_function(fname = \"Tobias\", lname = \"Refsnes\")"
      ],
      "metadata": {
        "id": "nfUUU25c--6J"
      },
      "execution_count": null,
      "outputs": []
    },
    {
      "cell_type": "markdown",
      "source": [
        "Default Parameter Value\n",
        "\n",
        "The following example shows how to use a default parameter value.\n",
        "\n",
        "If we call the function without argument, it uses the default value:"
      ],
      "metadata": {
        "id": "GJZnnjCz_CzS"
      }
    },
    {
      "cell_type": "code",
      "source": [
        "def my_function(country = \"Norway\"):\n",
        "  print(\"I am from \" + country)\n",
        "\n",
        "my_function(\"Sweden\")\n",
        "my_function(\"India\")\n",
        "my_function()\n",
        "my_function(\"Brazil\")"
      ],
      "metadata": {
        "id": "Ue2gZChf_ERQ"
      },
      "execution_count": null,
      "outputs": []
    },
    {
      "cell_type": "markdown",
      "source": [
        "Passing a List as an Argument\n",
        "\n",
        "You can send any data types of argument to a function (string, number, list, dictionary etc.), and it will be treated as the same data type inside the function.\n",
        "\n",
        "E.g. if you send a List as an argument, it will still be a List when it reaches the function:"
      ],
      "metadata": {
        "id": "W4GVZhFj_Ft1"
      }
    },
    {
      "cell_type": "code",
      "source": [
        "def my_function(food):\n",
        "  for x in food:\n",
        "    print(x)\n",
        "\n",
        "fruits = [\"apple\", \"banana\", \"cherry\"]\n",
        "\n",
        "my_function(fruits)"
      ],
      "metadata": {
        "id": "iZ66BCda_Hgm"
      },
      "execution_count": null,
      "outputs": []
    },
    {
      "cell_type": "markdown",
      "source": [
        "Return Values\n",
        "\n",
        "To let a function return a value, use the return statement:"
      ],
      "metadata": {
        "id": "tHwN9Zos_JBe"
      }
    },
    {
      "cell_type": "code",
      "source": [
        "def my_function(x):\n",
        "  return 5 * x\n",
        "\n",
        "print(my_function(3))\n",
        "print(my_function(5))\n",
        "print(my_function(9))"
      ],
      "metadata": {
        "id": "UDfyBuJP_Kg-"
      },
      "execution_count": null,
      "outputs": []
    },
    {
      "cell_type": "markdown",
      "source": [
        "The pass Statement\n",
        "\n",
        "function definitions cannot be empty, but if you for some reason have a function definition with no content, put in the pass statement to avoid getting an error.\n",
        "\n"
      ],
      "metadata": {
        "id": "j6uL6ZRE_Lx1"
      }
    },
    {
      "cell_type": "code",
      "source": [
        "def myfunction():\n",
        "  pass"
      ],
      "metadata": {
        "id": "89pSRgQV_NT2"
      },
      "execution_count": null,
      "outputs": []
    },
    {
      "cell_type": "markdown",
      "source": [
        "# Day 2 Homework Problems\n",
        "\n",
        "Complete 90 Problems to get you started\n",
        "\n",
        "chatbot\n",
        "\n",
        "geometric art\n",
        "\n",
        "Weekend Work:\n",
        "\n",
        "chatbot extension for homework\n",
        "\n",
        "geometric art extension for homework\n",
        "\n",
        "Bioinformatics Problems: I want you to see the real applications of the work you are doing\n"
      ],
      "metadata": {
        "id": "YPNGnRFeLDXs"
      }
    }
  ]
}