{
  "nbformat": 4,
  "nbformat_minor": 0,
  "metadata": {
    "colab": {
      "provenance": []
    },
    "kernelspec": {
      "name": "python3",
      "display_name": "Python 3"
    },
    "language_info": {
      "name": "python"
    }
  },
  "cells": [
    {
      "cell_type": "markdown",
      "source": [
        "# **Python Classes and Objects**"
      ],
      "metadata": {
        "id": "puvGYCjjiH1H"
      }
    },
    {
      "cell_type": "markdown",
      "source": [
        "Python is an object oriented programming language.\n",
        "\n",
        "Almost everything in Python is an object, with its properties and methods.\n",
        "\n",
        "A Class is like an object constructor, or a \"blueprint\" for creating objects."
      ],
      "metadata": {
        "id": "mL7DHdyKiLEM"
      }
    },
    {
      "cell_type": "code",
      "source": [
        "class MyClass:\n",
        "  x = 5"
      ],
      "metadata": {
        "id": "XHyJWOIgiQmI"
      },
      "execution_count": null,
      "outputs": []
    },
    {
      "cell_type": "markdown",
      "source": [
        "Create Object\n",
        "\n",
        "Now we can use the class named MyClass to create objects:"
      ],
      "metadata": {
        "id": "YRVq_0cGiTBI"
      }
    },
    {
      "cell_type": "code",
      "source": [
        "p1 = MyClass()\n",
        "print(p1.x)"
      ],
      "metadata": {
        "id": "JfSQyTN8iR_0"
      },
      "execution_count": null,
      "outputs": []
    },
    {
      "cell_type": "markdown",
      "source": [
        "***The __init__() Function***\n",
        "\n",
        "The examples above are classes and objects in their simplest form, and are not really useful in real life applications.\n",
        "\n",
        "To understand the meaning of classes we have to understand the built-in __init__() function.\n",
        "\n",
        "All classes have a function called __init__(), which is always executed when the class is being initiated.\n",
        "\n",
        "Use the __init__() function to assign values to object properties, or other operations that are necessary to do when the object is being created:"
      ],
      "metadata": {
        "id": "JoMEJMiXiXr0"
      }
    },
    {
      "cell_type": "code",
      "source": [
        "class Person:\n",
        "  def __init__(self, name, age):\n",
        "    self.name = name\n",
        "    self.age = age\n",
        "\n",
        "p1 = Person(\"John\", 36)\n",
        "\n",
        "print(p1.name)\n",
        "print(p1.age)"
      ],
      "metadata": {
        "id": "z_E1M0Uviam6"
      },
      "execution_count": null,
      "outputs": []
    },
    {
      "cell_type": "markdown",
      "source": [
        "***The __str__() Function***\n",
        "\n",
        "The __str__() function controls what should be returned when the class object is represented as a string.\n",
        "\n",
        "If the __str__() function is not set, the string representation of the object is returned:"
      ],
      "metadata": {
        "id": "nywk3HHlidgC"
      }
    },
    {
      "cell_type": "code",
      "source": [
        "class Person:\n",
        "  def __init__(self, name, age):\n",
        "    self.name = name\n",
        "    self.age = age\n",
        "\n",
        "p1 = Person(\"John\", 36)\n",
        "\n",
        "print(p1)"
      ],
      "metadata": {
        "id": "vF6UhPLoijRU"
      },
      "execution_count": null,
      "outputs": []
    },
    {
      "cell_type": "code",
      "source": [
        "\n",
        "class Person:\n",
        "  def __init__(self, name, age):\n",
        "    self.name = name\n",
        "    self.age = age\n",
        "\n",
        "  def __str__(self):\n",
        "    return f\"{self.name}({self.age})\"\n",
        "\n",
        "p1 = Person(\"John\", 36)\n",
        "\n",
        "print(p1)"
      ],
      "metadata": {
        "id": "v3w34LJhine-"
      },
      "execution_count": null,
      "outputs": []
    },
    {
      "cell_type": "markdown",
      "source": [
        "***Object Methods***\n",
        "\n",
        "Objects can also contain methods. Methods in objects are functions that belong to the object.\n",
        "\n",
        "Let us create a method in the Person class:"
      ],
      "metadata": {
        "id": "abUqxCFgiqcf"
      }
    },
    {
      "cell_type": "code",
      "source": [
        "class Person:\n",
        "  def __init__(self, name, age):\n",
        "    self.name = name\n",
        "    self.age = age\n",
        "\n",
        "  def myfunc(self):\n",
        "    print(\"Hello my name is \" + self.name)\n",
        "\n",
        "p1 = Person(\"John\", 36)\n",
        "p1.myfunc()"
      ],
      "metadata": {
        "id": "vYZ5dNM6ivMz"
      },
      "execution_count": null,
      "outputs": []
    },
    {
      "cell_type": "markdown",
      "source": [
        "***The self Parameter***\n",
        "\n",
        "The self parameter is a reference to the current instance of the class, and is used to access variables that belongs to the class.\n",
        "\n",
        "It does not have to be named self , you can call it whatever you like, but it has to be the first parameter of any function in the class:"
      ],
      "metadata": {
        "id": "NgYNlAxOixlG"
      }
    },
    {
      "cell_type": "code",
      "source": [
        "class Person:\n",
        "  def __init__(mysillyobject, name, age):\n",
        "    mysillyobject.name = name\n",
        "    mysillyobject.age = age\n",
        "\n",
        "  def myfunc(abc):\n",
        "    print(\"Hello my name is \" + abc.name)\n",
        "\n",
        "p1 = Person(\"John\", 36)\n",
        "p1.myfunc()"
      ],
      "metadata": {
        "id": "hx4o_gh7ixJw"
      },
      "execution_count": null,
      "outputs": []
    },
    {
      "cell_type": "code",
      "source": [
        "# Modify Object Properties\n",
        "\n",
        "p1.age = 40"
      ],
      "metadata": {
        "id": "9Ij046MIi3qe"
      },
      "execution_count": null,
      "outputs": []
    },
    {
      "cell_type": "code",
      "source": [
        "# Delete Object Properties\n",
        "\n",
        "del p1.age"
      ],
      "metadata": {
        "id": "ZoTsri5Qi77E"
      },
      "execution_count": null,
      "outputs": []
    },
    {
      "cell_type": "code",
      "source": [
        "# Delete Objects\n",
        "\n",
        "del p1"
      ],
      "metadata": {
        "id": "HlTsPZbqjAuk"
      },
      "execution_count": null,
      "outputs": []
    },
    {
      "cell_type": "markdown",
      "source": [
        "# **Python Inheritance**"
      ],
      "metadata": {
        "id": "PYT6_8sLikg4"
      }
    },
    {
      "cell_type": "markdown",
      "source": [
        "Inheritance allows us to define a class that inherits all the methods and properties from another class.\n",
        "\n",
        "Parent class is the class being inherited from, also called base class.\n",
        "\n",
        "Child class is the class that inherits from another class, also called derived class."
      ],
      "metadata": {
        "id": "R1ehXDtxjRsA"
      }
    },
    {
      "cell_type": "markdown",
      "source": [
        "***Create a Parent Class***\n",
        "\n",
        "Any class can be a parent class, so the syntax is the same as creating any other class"
      ],
      "metadata": {
        "id": "sCgqwMlqjTfO"
      }
    },
    {
      "cell_type": "code",
      "source": [
        "class Person:\n",
        "  def __init__(self, fname, lname):\n",
        "    self.firstname = fname\n",
        "    self.lastname = lname\n",
        "\n",
        "  def printname(self):\n",
        "    print(self.firstname, self.lastname)\n",
        "\n",
        "#Use the Person class to create an object, and then execute the printname method:\n",
        "\n",
        "x = Person(\"John\", \"Doe\")\n",
        "x.printname()"
      ],
      "metadata": {
        "id": "AcCW0sJpjXp8"
      },
      "execution_count": null,
      "outputs": []
    },
    {
      "cell_type": "markdown",
      "source": [
        "***Create a Child Class***\n",
        "\n",
        "To create a class that inherits the functionality from another class, send the parent class as a parameter when creating the child class:"
      ],
      "metadata": {
        "id": "V0_viLOkjbsO"
      }
    },
    {
      "cell_type": "code",
      "source": [
        "class Student(Person):\n",
        "  pass\n",
        "\n",
        "\n",
        "#  Note: Use the pass keyword when you do not want to add any other properties or methods\n",
        "#  to the class."
      ],
      "metadata": {
        "id": "or8XxWFtjYyX"
      },
      "execution_count": null,
      "outputs": []
    },
    {
      "cell_type": "code",
      "source": [
        "x = Student(\"Mike\", \"Olsen\")\n",
        "x.printname()"
      ],
      "metadata": {
        "id": "qWxVuadEjgNs"
      },
      "execution_count": null,
      "outputs": []
    },
    {
      "cell_type": "code",
      "source": [
        "class Student(Person):\n",
        "  def __init__(self, fname, lname):\n",
        "    #add properties etc."
      ],
      "metadata": {
        "id": "eoLbiOaOjqGi"
      },
      "execution_count": null,
      "outputs": []
    },
    {
      "cell_type": "code",
      "source": [
        "class Student(Person):\n",
        "  def __init__(self, fname, lname):\n",
        "    Person.__init__(self, fname, lname)"
      ],
      "metadata": {
        "id": "Qu5OezUSjsDu"
      },
      "execution_count": null,
      "outputs": []
    },
    {
      "cell_type": "code",
      "source": [
        "class Student(Person):\n",
        "  def __init__(self, fname, lname):\n",
        "    super().__init__(fname, lname)\n",
        "\n",
        "# Python also has a super() function that will make the\n",
        "# child class inherit all the methods and properties from its parent:"
      ],
      "metadata": {
        "id": "qBqYXHAHjvLX"
      },
      "execution_count": null,
      "outputs": []
    },
    {
      "cell_type": "code",
      "source": [
        "# Add Properties\n",
        "\n",
        "class Student(Person):\n",
        "  def __init__(self, fname, lname):\n",
        "    super().__init__(fname, lname)\n",
        "    self.graduationyear = 2019"
      ],
      "metadata": {
        "id": "EZ93C81ajwe4"
      },
      "execution_count": null,
      "outputs": []
    },
    {
      "cell_type": "code",
      "source": [
        "# Add methods\n",
        "\n",
        "class Student(Person):\n",
        "  def __init__(self, fname, lname, year):\n",
        "    super().__init__(fname, lname)\n",
        "    self.graduationyear = year\n",
        "\n",
        "  def welcome(self):\n",
        "    print(\"Welcome\", self.firstname, self.lastname, \"to the class of\", self.graduationyear)"
      ],
      "metadata": {
        "id": "VzI5TfSDj7yY"
      },
      "execution_count": null,
      "outputs": []
    },
    {
      "cell_type": "markdown",
      "source": [
        "# Bank Account Example\n"
      ],
      "metadata": {
        "id": "X5MLTEbzluSr"
      }
    },
    {
      "cell_type": "code",
      "source": [
        "class Bankaccount:\n",
        "    def __init__(self):"
      ],
      "metadata": {
        "id": "H5NX6znWlzEJ"
      },
      "execution_count": null,
      "outputs": []
    },
    {
      "cell_type": "code",
      "source": [
        "def deposit(self):\n",
        "        amount = float(input(\"Enter amount to be deposited: \"))\n",
        "        self.balance += amount\n",
        "        print(\"\\n Amount Deposited:\", amount)"
      ],
      "metadata": {
        "id": "5-qI-DP3lziz"
      },
      "execution_count": null,
      "outputs": []
    },
    {
      "cell_type": "code",
      "source": [
        "# Function to withdraw the amount\n",
        "def withdraw(self):\n",
        "        amount = float(input(\"Enter amount to be withdrawn: \"))\n",
        "        if self.balance >= amount:\n",
        "            self.balance -= amount\n",
        "            print(\"\\n You Withdrew:\", amount)\n",
        "        else:\n",
        "            print(\"\\n Insufficient balance  \")"
      ],
      "metadata": {
        "id": "iLbyyoTsl2iO"
      },
      "execution_count": null,
      "outputs": []
    },
    {
      "cell_type": "code",
      "source": [
        "# Put it all together\n",
        "\n",
        "\n",
        "# Python program to create Bankaccount class\n",
        "# with both a deposit() and a withdraw() function\n",
        "class Bank_Account:\n",
        "    def __init__(self):\n",
        "        self.balance=0\n",
        "        print(\"Hello!!! Welcome to the Deposit & Withdrawal Machine\")\n",
        "\n",
        "    def deposit(self):\n",
        "        amount=float(input(\"Enter amount to be Deposited: \"))\n",
        "        self.balance += amount\n",
        "        print(\"\\n Amount Deposited:\",amount)\n",
        "\n",
        "    def withdraw(self):\n",
        "        amount = float(input(\"Enter amount to be Withdrawn: \"))\n",
        "        if self.balance>=amount:\n",
        "            self.balance-=amount\n",
        "            print(\"\\n You Withdrew:\", amount)\n",
        "        else:\n",
        "            print(\"\\n Insufficient balance  \")\n",
        "\n",
        "    def display(self):\n",
        "        print(\"\\n Net Available Balance=\",self.balance)\n"
      ],
      "metadata": {
        "id": "CGpvUa2Ll9tD"
      },
      "execution_count": null,
      "outputs": []
    },
    {
      "cell_type": "code",
      "source": [
        "s = Bank_Account()\n",
        "\n",
        "# Calling functions with that class object\n",
        "s.deposit()\n",
        "s.withdraw()\n",
        "s.display()"
      ],
      "metadata": {
        "id": "xIA4vlB-mDF4"
      },
      "execution_count": null,
      "outputs": []
    },
    {
      "cell_type": "code",
      "source": [
        "# other examples of functionality\n",
        "\n",
        "class BankAccount2:\n",
        "    def __init__(self, account_number, date_of_opening, balance, customer_name):\n",
        "        self.account_number = account_number\n",
        "        self.date_of_opening  = date_of_opening\n",
        "        self.balance = balance\n",
        "        self.customer_name = customer_name\n",
        "\n",
        "    def deposit(self, amount):\n",
        "        self.balance += amount\n",
        "        print(f\"${amount} has been deposited in your account.\")\n",
        "\n",
        "    def withdraw(self, amount):\n",
        "        if amount > self.balance:\n",
        "            print(\"Insufficient balance.\")\n",
        "        else:\n",
        "            self.balance -= amount\n",
        "            print(f\"${amount} has been withdrawn from your account.\")\n",
        "\n",
        "    def check_balance(self):\n",
        "        print(f\"Current balance is ${self.balance}.\")\n",
        "\n",
        "    def print_customer_details(self):\n",
        "        print(\"Name:\", self.customer_name)\n",
        "        print(\"Account Number:\", self.account_number)\n",
        "        print(\"Date of opening:\", self.date_of_opening)\n",
        "        print(f\"Balance: ${self.balance}\\n\")\n",
        "\n",
        "# Input customer details\n",
        "ac_no_1 = BankAccount2(2345, \"01-01-2011\", 1000, \"Toninho Takeo\")\n",
        "ac_no_2 = BankAccount2(1234, \"11-03-2011\", 2000, \"Astrid Rugile\")\n",
        "ac_no_3 = BankAccount2(2312, \"12-01-2009\", 3000, \"Orli Kerenza\")\n",
        "ac_no_4 = BankAccount2(1395, \"01-01-2011\", 3000, \"Luciana Chika\")\n",
        "ac_no_5 = BankAccount2(6345, \"01-05-2011\", 4000, \"Toninho Takeo\")\n",
        "\n",
        "print(\"Customer Details:\")\n",
        "ac_no_1.print_customer_details()\n",
        "ac_no_2.print_customer_details()\n",
        "ac_no_3.print_customer_details()\n",
        "ac_no_4.print_customer_details()\n",
        "ac_no_5.print_customer_details()\n",
        "\n",
        "print(\"=============================\")\n",
        "ac_no_4.print_customer_details()\n",
        "# Current balance is $3000.\n",
        "# $1000 has been deposited in your account.\n",
        "ac_no_4.deposit(1000)\n",
        "ac_no_4.check_balance()\n",
        "# Your current balance $4000.\n",
        "# You want to withdraw $5000\n",
        "ac_no_4.withdraw(5000)\n",
        "# Output:\n",
        "# Insufficient balance.\n",
        "#The customer withdraw $3400.\n",
        "ac_no_4.withdraw(3400)\n",
        "ac_no_4.check_balance()"
      ],
      "metadata": {
        "id": "-DB_qw3rmO6E"
      },
      "execution_count": null,
      "outputs": []
    },
    {
      "cell_type": "markdown",
      "source": [
        "# **Python Iterators**"
      ],
      "metadata": {
        "id": "uO2gAdPSml7q"
      }
    },
    {
      "cell_type": "markdown",
      "source": [
        "An iterator is an object that contains a countable number of values.\n",
        "\n",
        "An iterator is an object that can be iterated upon, meaning that you can traverse through all the values. [LOOPED THROUGH]\n",
        "\n",
        "Technically, in Python, an iterator is an object which implements the iterator protocol, which consist of the methods __iter__() and __next__()."
      ],
      "metadata": {
        "id": "9lWrfHd0m0bS"
      }
    },
    {
      "cell_type": "markdown",
      "source": [
        "Iterator vs Iterable\n",
        "\n",
        "Lists, tuples, dictionaries, and sets are all iterable objects. They are iterable containers which you can get an iterator from.\n",
        "\n",
        "All these objects have a iter() method which is used to get an iterator:"
      ],
      "metadata": {
        "id": "NsX9P_7DnC9A"
      }
    },
    {
      "cell_type": "code",
      "source": [
        "mytuple = (\"apple\", \"banana\", \"cherry\")\n",
        "myit = iter(mytuple)\n",
        "\n",
        "print(next(myit))\n",
        "print(next(myit))\n",
        "print(next(myit))"
      ],
      "metadata": {
        "id": "VK1aBOKjnJSa"
      },
      "execution_count": null,
      "outputs": []
    },
    {
      "cell_type": "code",
      "source": [
        "mystr = \"banana\"\n",
        "myit = iter(mystr)\n",
        "\n",
        "print(next(myit))\n",
        "print(next(myit))\n",
        "print(next(myit))\n",
        "print(next(myit))\n",
        "print(next(myit))\n",
        "print(next(myit))"
      ],
      "metadata": {
        "id": "6syk6M9QnKoc"
      },
      "execution_count": null,
      "outputs": []
    },
    {
      "cell_type": "markdown",
      "source": [
        "Looping Through an Iterator\n",
        "\n",
        "We can also use a for loop to iterate through an iterable object:"
      ],
      "metadata": {
        "id": "pttLhGt3nMOs"
      }
    },
    {
      "cell_type": "code",
      "source": [
        "mytuple = (\"apple\", \"banana\", \"cherry\")\n",
        "\n",
        "for x in mytuple:\n",
        "  print(x)\n"
      ],
      "metadata": {
        "id": "kRUettv8nNum"
      },
      "execution_count": null,
      "outputs": []
    },
    {
      "cell_type": "code",
      "source": [
        "\n",
        "mystr = \"banana\"\n",
        "\n",
        "for x in mystr:\n",
        "  print(x)\n",
        "\n",
        "# The for loop actually creates an iterator object\n",
        "# and executes the next() method for each loop"
      ],
      "metadata": {
        "id": "jYc3dqlPnPwu"
      },
      "execution_count": null,
      "outputs": []
    },
    {
      "cell_type": "markdown",
      "source": [
        "**Create an Iterator**\n",
        "\n",
        "To create an object/class as an iterator you have to implement the methods __iter__() and __next__() to your object.\n",
        "\n",
        "As you have learned in the Python Classes/Objects chapter, all classes have a function called __init__(), which allows you to do some initializing when the object is being created.\n",
        "\n",
        "The __iter__() method acts similar, you can do operations (initializing etc.), but must always return the iterator object itself.\n",
        "\n",
        "The __next__() method also allows you to do operations, and must return the next item in the sequence."
      ],
      "metadata": {
        "id": "6OdsWIjPnX1o"
      }
    },
    {
      "cell_type": "code",
      "source": [
        "class MyNumbers:\n",
        "  def __iter__(self):\n",
        "    self.a = 1\n",
        "    return self\n",
        "\n",
        "  def __next__(self):\n",
        "    x = self.a\n",
        "    self.a += 1\n",
        "    return x\n",
        "\n",
        "myclass = MyNumbers()\n",
        "myiter = iter(myclass)\n",
        "\n",
        "print(next(myiter))\n",
        "print(next(myiter))\n",
        "print(next(myiter))\n",
        "print(next(myiter))\n",
        "print(next(myiter))\n"
      ],
      "metadata": {
        "id": "kTgJ5X3MnaVq"
      },
      "execution_count": null,
      "outputs": []
    },
    {
      "cell_type": "markdown",
      "source": [
        "StopIteration\n",
        "\n",
        "The example above would continue forever if you had enough next() statements, or if it was used in a for loop.\n",
        "\n",
        "To prevent the iteration from going on forever, we can use the StopIteration statement.\n",
        "\n",
        "In the __next__() method, we can add a terminating condition to raise an error if the iteration is done a specified number of times:\n",
        "\n"
      ],
      "metadata": {
        "id": "egsOhYLSnfIw"
      }
    },
    {
      "cell_type": "code",
      "source": [
        "class MyNumbers:\n",
        "  def __iter__(self):\n",
        "    self.a = 1\n",
        "    return self\n",
        "\n",
        "  def __next__(self):\n",
        "    if self.a <= 20:\n",
        "      x = self.a\n",
        "      self.a += 1\n",
        "      return x\n",
        "    else:\n",
        "      raise StopIteration\n",
        "\n",
        "myclass = MyNumbers()\n",
        "myiter = iter(myclass)\n",
        "\n",
        "for x in myiter:\n",
        "  print(x)"
      ],
      "metadata": {
        "id": "afS3zFPvncvo"
      },
      "execution_count": null,
      "outputs": []
    },
    {
      "cell_type": "markdown",
      "source": [
        "# **Comprehensions**"
      ],
      "metadata": {
        "id": "4S2mUep-ntAg"
      }
    },
    {
      "cell_type": "markdown",
      "source": [
        "List Comprehension\n",
        "\n",
        "List comprehension offers a shorter syntax when you want to create a new list based on the values of an existing list.\n",
        "\n",
        "Example:\n",
        "\n",
        "Based on a list of fruits, you want a new list, containing only the fruits with the letter \"a\" in the name.\n",
        "\n",
        "Without list comprehension you will have to write a for statement with a conditional test inside:"
      ],
      "metadata": {
        "id": "oW3OdPbnn0ih"
      }
    },
    {
      "cell_type": "code",
      "source": [
        "fruits = [\"apple\", \"banana\", \"cherry\", \"kiwi\", \"mango\"]\n",
        "newlist = []\n",
        "\n",
        "for x in fruits:\n",
        "  if \"a\" in x:\n",
        "    newlist.append(x)\n",
        "\n",
        "print(newlist)"
      ],
      "metadata": {
        "id": "0-IZQzBWn2Lq"
      },
      "execution_count": null,
      "outputs": []
    },
    {
      "cell_type": "code",
      "source": [
        "fruits = [\"apple\", \"banana\", \"cherry\", \"kiwi\", \"mango\"]\n",
        "\n",
        "newlist = [x for x in fruits if \"a\" in x]\n",
        "\n",
        "print(newlist)"
      ],
      "metadata": {
        "id": "LLVLvp9Tn3am"
      },
      "execution_count": null,
      "outputs": []
    },
    {
      "cell_type": "code",
      "source": [
        "# Add conditions\n",
        "\n",
        "newlist = [x for x in fruits if x != \"apple\"]"
      ],
      "metadata": {
        "id": "6mXrH8Hkn80J"
      },
      "execution_count": null,
      "outputs": []
    },
    {
      "cell_type": "markdown",
      "source": [
        "The condition if x != \"apple\"  will return True for all elements other than \"apple\", making the new list contain all fruits except \"apple\".\n",
        "\n",
        "The condition is optional and can be omitted:"
      ],
      "metadata": {
        "id": "d4pspzDRoAL6"
      }
    },
    {
      "cell_type": "code",
      "source": [
        "newlist = [x for x in fruits]"
      ],
      "metadata": {
        "id": "wtJIe_O4oCIW"
      },
      "execution_count": null,
      "outputs": []
    },
    {
      "cell_type": "code",
      "source": [
        "newlist = [x for x in range(10)]"
      ],
      "metadata": {
        "id": "8dCh2cduoCiK"
      },
      "execution_count": null,
      "outputs": []
    },
    {
      "cell_type": "code",
      "source": [
        "newlist = [x.upper() for x in fruits]"
      ],
      "metadata": {
        "id": "jdAy0dt2oFdB"
      },
      "execution_count": null,
      "outputs": []
    },
    {
      "cell_type": "code",
      "source": [
        "newlist = ['hello' for x in fruits]"
      ],
      "metadata": {
        "id": "76IcMNQ4oHKo"
      },
      "execution_count": null,
      "outputs": []
    },
    {
      "cell_type": "code",
      "source": [
        "newlist = [x if x != \"banana\" else \"orange\" for x in fruits]"
      ],
      "metadata": {
        "id": "443a9kRgoILB"
      },
      "execution_count": null,
      "outputs": []
    },
    {
      "cell_type": "markdown",
      "source": [
        "Dictionary Comprehensions:\n",
        "\n",
        "Extending the idea of list comprehensions, we can also create a dictionary using dictionary comprehensions. The basic structure of a dictionary comprehension looks like below."
      ],
      "metadata": {
        "id": "Bet3mM4eoaVm"
      }
    },
    {
      "cell_type": "markdown",
      "source": [
        "Example #1: Suppose we want to create an output dictionary which contains only the odd numbers that are present in the input list as keys and their cubes as values. Let’s see how to do this using for loops and dictionary comprehension.\n",
        "\n",
        "\n"
      ],
      "metadata": {
        "id": "6fXXIxGaokAQ"
      }
    },
    {
      "cell_type": "code",
      "source": [
        "\n",
        "input_list = [1, 2, 3, 4, 5, 6, 7]\n",
        "\n",
        "output_dict = {}\n",
        "\n",
        "# Using loop for constructing output dictionary\n",
        "for var in input_list:\n",
        "    if var % 2 != 0:\n",
        "        output_dict[var] = var**3\n",
        "\n",
        "print(\"Output Dictionary using for loop:\",\n",
        "                             output_dict )"
      ],
      "metadata": {
        "id": "cYKQHwAroZ3G"
      },
      "execution_count": null,
      "outputs": []
    },
    {
      "cell_type": "code",
      "source": [
        "# Using Dictionary comprehensions\n",
        "# for constructing output dictionary\n",
        "\n",
        "input_list = [1,2,3,4,5,6,7]\n",
        "\n",
        "dict_using_comp = {var:var ** 3 for var in input_list if var % 2 != 0}\n",
        "\n",
        "print(\"Output Dictionary using dictionary comprehensions:\",\n",
        "                                           dict_using_comp)"
      ],
      "metadata": {
        "id": "ERXQtg9nonqm"
      },
      "execution_count": null,
      "outputs": []
    },
    {
      "cell_type": "markdown",
      "source": [
        "Example #2: Given two lists containing the names of states and their corresponding capitals, construct a dictionary which maps the states with their respective capitals. Let’s see how to do this using for loops and dictionary comprehension."
      ],
      "metadata": {
        "id": "DG3PeXLXoq76"
      }
    },
    {
      "cell_type": "code",
      "source": [
        "\n",
        "state = ['Gujarat', 'Maharashtra', 'Rajasthan']\n",
        "capital = ['Gandhinagar', 'Mumbai', 'Jaipur']\n",
        "\n",
        "output_dict = {}\n",
        "\n",
        "# Using loop for constructing output dictionary\n",
        "for (key, value) in zip(state, capital):\n",
        "    output_dict[key] = value\n",
        "\n",
        "print(\"Output Dictionary using for loop:\",\n",
        "                              output_dict)"
      ],
      "metadata": {
        "id": "kXKT2SRqosCQ"
      },
      "execution_count": null,
      "outputs": []
    },
    {
      "cell_type": "markdown",
      "source": [
        "Set Comprehensions:\n",
        "\n",
        "Set comprehensions are pretty similar to list comprehensions. The only difference between them is that set comprehensions use curly brackets { }. Let’s look at the following example to understand set comprehensions.\n",
        "\n",
        "Example #1 : Suppose we want to create an output set which contains only the even numbers that are present in the input list. Note that set will discard all the duplicate values. Let’s see how we can do this using for loops and set comprehension."
      ],
      "metadata": {
        "id": "qOEOnXlOouAN"
      }
    },
    {
      "cell_type": "code",
      "source": [
        "\n",
        "input_list = [1, 2, 3, 4, 4, 5, 6, 6, 6, 7, 7]\n",
        "\n",
        "output_set = set()\n",
        "\n",
        "# Using loop for constructing output set\n",
        "for var in input_list:\n",
        "    if var % 2 == 0:\n",
        "        output_set.add(var)\n",
        "\n",
        "print(\"Output Set using for loop:\", output_set)"
      ],
      "metadata": {
        "id": "f55t1j-Nows6"
      },
      "execution_count": null,
      "outputs": []
    },
    {
      "cell_type": "markdown",
      "source": [
        "Generator Comprehensions:\n",
        "\n",
        "Generator Comprehensions are very similar to list comprehensions. One difference between them is that generator comprehensions use circular brackets whereas list comprehensions use square brackets. The major difference between them is that generators don’t allocate memory for the whole list. Instead, they generate each value one by one which is why they are memory efficient. Let’s look at the following example to understand generator comprehension:"
      ],
      "metadata": {
        "id": "FhU60deJo15u"
      }
    },
    {
      "cell_type": "code",
      "source": [
        "\n",
        "input_list = [1, 2, 3, 4, 4, 5, 6, 7, 7]\n",
        "\n",
        "output_gen = (var for var in input_list if var % 2 == 0)\n",
        "\n",
        "print(\"Output values using generator comprehensions:\", end = ' ')\n",
        "\n",
        "for var in output_gen:\n",
        "    print(var, end = ' ')"
      ],
      "metadata": {
        "id": "11KFXi0po3ne"
      },
      "execution_count": null,
      "outputs": []
    },
    {
      "cell_type": "markdown",
      "source": [
        "# **Python Try Except**"
      ],
      "metadata": {
        "id": "2COMccPKqMvo"
      }
    },
    {
      "cell_type": "markdown",
      "source": [
        "The try block lets you test a block of code for errors.\n",
        "\n",
        "The except block lets you handle the error.\n",
        "\n",
        "The else block lets you execute code when there is no error.\n",
        "\n",
        "The finally block lets you execute code, regardless of the result of the try- and except blocks."
      ],
      "metadata": {
        "id": "96q5nn8yqZvW"
      }
    },
    {
      "cell_type": "markdown",
      "source": [
        "Exception Handling\n",
        "When an error occurs, or exception as we call it, Python will normally stop and generate an error message.\n",
        "\n",
        "These exceptions can be handled using the try statement:\n",
        "\n"
      ],
      "metadata": {
        "id": "KdQwClCzqcTU"
      }
    },
    {
      "cell_type": "code",
      "source": [
        "try:\n",
        "  print(x)\n",
        "except:\n",
        "  print(\"An exception occurred\")"
      ],
      "metadata": {
        "id": "xo2GjPY3qZIr"
      },
      "execution_count": null,
      "outputs": []
    },
    {
      "cell_type": "code",
      "source": [
        "try:\n",
        "  print(x)\n",
        "except NameError:\n",
        "  print(\"Variable x is not defined\")\n",
        "except:\n",
        "  print(\"Something else went wrong\")"
      ],
      "metadata": {
        "id": "Q81E8UPqqfre"
      },
      "execution_count": null,
      "outputs": []
    },
    {
      "cell_type": "markdown",
      "source": [
        "\n",
        "Else\n",
        "\n",
        "You can use the else keyword to define a block of code to be executed if no errors were raised:\n",
        "\n"
      ],
      "metadata": {
        "id": "f9dIcEs3qkML"
      }
    },
    {
      "cell_type": "code",
      "source": [
        "try:\n",
        "  print(\"Hello\")\n",
        "except:\n",
        "  print(\"Something went wrong\")\n",
        "else:\n",
        "  print(\"Nothing went wrong\")"
      ],
      "metadata": {
        "id": "qIuM5BYIqkmz"
      },
      "execution_count": null,
      "outputs": []
    },
    {
      "cell_type": "markdown",
      "source": [
        "Finally\n",
        "\n",
        "The finally block, if specified, will be executed regardless if the try block raises an error or not."
      ],
      "metadata": {
        "id": "ls82CNC9qqGU"
      }
    },
    {
      "cell_type": "code",
      "source": [
        "try:\n",
        "  print(x)\n",
        "except:\n",
        "  print(\"Something went wrong\")\n",
        "finally:\n",
        "  print(\"The 'try except' is finished\""
      ],
      "metadata": {
        "id": "RzBDv-00qi6c"
      },
      "execution_count": null,
      "outputs": []
    },
    {
      "cell_type": "code",
      "source": [
        "try:\n",
        "  f = open(\"demofile.txt\")\n",
        "  try:\n",
        "    f.write(\"Lorum Ipsum\")\n",
        "  except:\n",
        "    print(\"Something went wrong when writing to the file\")\n",
        "  finally:\n",
        "    f.close()\n",
        "except:\n",
        "  print(\"Something went wrong when opening the file\")"
      ],
      "metadata": {
        "colab": {
          "base_uri": "https://localhost:8080/"
        },
        "id": "s7JOIlh9qu7Y",
        "outputId": "faf810a4-5210-4ca4-a846-4a57f72e5ceb"
      },
      "execution_count": 1,
      "outputs": [
        {
          "output_type": "stream",
          "name": "stdout",
          "text": [
            "Something went wrong when opening the file\n"
          ]
        }
      ]
    },
    {
      "cell_type": "code",
      "source": [
        "x = -1\n",
        "\n",
        "if x < 0:\n",
        "  raise Exception(\"Sorry, no numbers below zero\")"
      ],
      "metadata": {
        "id": "om0q_R4Cq15X"
      },
      "execution_count": null,
      "outputs": []
    },
    {
      "cell_type": "code",
      "source": [
        "x = \"hello\"\n",
        "\n",
        "if not type(x) is int:\n",
        "  raise TypeError(\"Only integers are allowed\")"
      ],
      "metadata": {
        "id": "PTjDRvvUq27d"
      },
      "execution_count": null,
      "outputs": []
    },
    {
      "cell_type": "markdown",
      "source": [
        "# **File Handling Colab**\n",
        "\n",
        "\n"
      ],
      "metadata": {
        "id": "FVAAicPCqiU_"
      }
    },
    {
      "cell_type": "markdown",
      "metadata": {
        "id": "IFDcJI4g0uqF"
      },
      "source": [
        " We can open a file object using the method <code>write()</code> to save the text file to a list. To write the mode, argument must be set to write <b>w</b>. Let’s write a file <b>Example2.txt</b> with the line: <b>“This is line A”</b>"
      ]
    },
    {
      "cell_type": "code",
      "source": [
        "# Write line to file\n",
        "\n",
        "with open('Example2.txt', 'w') as writefile:\n",
        "    writefile.write(\"This is line A\")"
      ],
      "metadata": {
        "id": "cHIeVBrCrLpU"
      },
      "execution_count": 4,
      "outputs": []
    },
    {
      "cell_type": "code",
      "source": [
        "# Read file\n",
        "\n",
        "with open('Example2.txt', 'r') as testwritefile:\n",
        "    print(testwritefile.read())"
      ],
      "metadata": {
        "colab": {
          "base_uri": "https://localhost:8080/"
        },
        "id": "ZXXPObgVrPxr",
        "outputId": "2753803e-7d72-4599-e580-80eeb92ab95d"
      },
      "execution_count": 5,
      "outputs": [
        {
          "output_type": "stream",
          "name": "stdout",
          "text": [
            "This is line A\n"
          ]
        }
      ]
    },
    {
      "cell_type": "code",
      "source": [
        "# Write lines to file\n",
        "\n",
        "with open('Example2.txt', 'w') as writefile:\n",
        "    writefile.write(\"This is line A\\n\")\n",
        "    writefile.write(\"This is line B\\n\")"
      ],
      "metadata": {
        "id": "A7m4dm9QrxN9"
      },
      "execution_count": null,
      "outputs": []
    },
    {
      "cell_type": "markdown",
      "source": [
        "The method .write() works similar to the method .readline(), except instead of reading a new line it writes a new line. The process is illustrated in the figure , the different colour coding of the grid represents a new line added to the file after each method call."
      ],
      "metadata": {
        "id": "LMiO2Qn8r2FA"
      }
    },
    {
      "cell_type": "markdown",
      "source": [
        "<img src=\"https://s3-api.us-geo.objectstorage.softlayer.net/cf-courses-data/CognitiveClass/PY0101EN/Chapter%204/Images/WriteLine.png\" width=\"500\" />"
      ],
      "metadata": {
        "id": "dnyEc2Tbr2j8"
      }
    },
    {
      "cell_type": "code",
      "source": [
        "# Check whether write to file\n",
        "\n",
        "with open('Example2.txt', 'r') as testwritefile:\n",
        "    print(testwritefile.read())"
      ],
      "metadata": {
        "id": "TvH_ZK_kr7NI"
      },
      "execution_count": null,
      "outputs": []
    },
    {
      "cell_type": "code",
      "source": [
        "# Write a new line to text file\n",
        "\n",
        "with open('Example2.txt', 'a') as testwritefile:\n",
        "    testwritefile.write(\"This is line C\\n\")"
      ],
      "metadata": {
        "id": "j4lLHXwSr-Hs"
      },
      "execution_count": null,
      "outputs": []
    },
    {
      "cell_type": "code",
      "source": [
        "# Verify if the new line is in the text file\n",
        "\n",
        "with open('Example2.txt', 'r') as testwritefile:\n",
        "    print(testwritefile.read())\n"
      ],
      "metadata": {
        "id": "J9V4JjyIsAwq"
      },
      "execution_count": null,
      "outputs": []
    },
    {
      "cell_type": "code",
      "source": [
        "# Sample list of text\n",
        "\n",
        "Lines = [\"This is line A\\n\", \"This is line B\\n\", \"This is line C\\n\"]\n",
        "Lines"
      ],
      "metadata": {
        "id": "Opo7reFusEF-"
      },
      "execution_count": null,
      "outputs": []
    },
    {
      "cell_type": "code",
      "source": [
        "# Write the strings in the list to text file\n",
        "\n",
        "with open('Example2.txt', 'w') as writefile:\n",
        "    for line in Lines:\n",
        "        print(line)\n",
        "        writefile.write(line)"
      ],
      "metadata": {
        "id": "6rJpbpO9sFFu"
      },
      "execution_count": null,
      "outputs": []
    },
    {
      "cell_type": "code",
      "source": [
        "# Verify if writing to file is successfully executed\n",
        "\n",
        "with open('Example2.txt', 'r') as testwritefile:\n",
        "    print(testwritefile.read())"
      ],
      "metadata": {
        "id": "IlAKcB8YsJto"
      },
      "execution_count": null,
      "outputs": []
    },
    {
      "cell_type": "code",
      "source": [
        "# Append the line to the file\n",
        "\n",
        "with open('Example2.txt', 'a') as testwritefile:\n",
        "    testwritefile.write(\"This is line D\\n\")"
      ],
      "metadata": {
        "id": "Lm77aDRxsReY"
      },
      "execution_count": null,
      "outputs": []
    },
    {
      "cell_type": "code",
      "source": [
        "# Verify if the appending is successfully executed\n",
        "\n",
        "with open('Example2.txt', 'r') as testwritefile:\n",
        "    print(testwritefile.read())"
      ],
      "metadata": {
        "id": "QampjsxSsSyH"
      },
      "execution_count": null,
      "outputs": []
    },
    {
      "cell_type": "markdown",
      "source": [
        "Let's copy the file <b>Example2.txt</b> to the file <b>Example3.txt</b>:"
      ],
      "metadata": {
        "id": "zvpacG7usYhM"
      }
    },
    {
      "cell_type": "code",
      "source": [
        "# Copy file to another\n",
        "\n",
        "with open('Example2.txt','r') as readfile:\n",
        "    with open('Example3.txt','w') as writefile:\n",
        "          for line in readfile:\n",
        "                writefile.write(line)"
      ],
      "metadata": {
        "id": "JVsx-h3NsYFG"
      },
      "execution_count": null,
      "outputs": []
    },
    {
      "cell_type": "code",
      "source": [
        "# Verify if the copy is successfully executed\n",
        "\n",
        "with open('Example3.txt','r') as testwritefile:\n",
        "    print(testwritefile.read())"
      ],
      "metadata": {
        "id": "zTLFfezpsa2-"
      },
      "execution_count": null,
      "outputs": []
    },
    {
      "cell_type": "markdown",
      "source": [
        "# **Math Using Python**"
      ],
      "metadata": {
        "id": "A5A0AstDt9CF"
      }
    },
    {
      "cell_type": "code",
      "source": [
        "x = 2\n",
        "\n",
        "answer = 3*x**2 + 2*x - 5\n",
        "\n",
        "print(answer)\n",
        "\n",
        "# We also should see how we could check the values of x for 0 to 100\n",
        "# and store the store the answers in a list"
      ],
      "metadata": {
        "id": "vsP1fd2duG0j"
      },
      "execution_count": null,
      "outputs": []
    },
    {
      "cell_type": "markdown",
      "source": [
        "**Check Your Understanding!**\n",
        "\n",
        "1. Modify the code above to evaluate the expression for $x = 1$ (*answer: 0*)\n",
        "\n",
        "2. Modify the code to evaluate the expression for $x = -2$ (*answer: 3*)\n",
        "\n",
        "3. Modify the code to evaluate the expression $$1.5x^2 + 3x - 10$$ for $x = -4$ (*answer: 2.0*)\n",
        "\n",
        "4. Modify the code to evaluate the expression $$\\frac{3}{2}x^2 + 3x - 10$$ for $x = 1$ (*answer: -5.5*)\n",
        "\n",
        "5. Modify the code to evaluate the expression $$5xy - 4x + 2y$$ for $x = -2$ and $y = 3$ (*answer: -16*)"
      ],
      "metadata": {
        "id": "PUeVkCDLuVZq"
      }
    },
    {
      "cell_type": "markdown",
      "source": [
        "An **equation** is a mathematical statement that has equivalent expressions on either side of an equal sign.\n",
        "\n",
        "A **solution** to an equation is a value of a variable that makes the equation true.\n",
        "\n",
        "We can use the `==` operator in Python to verify if a value is a solution or not.\n",
        "\n",
        "In the code samples below, we will `print` the result of this operator to the output screen. The possible outputs are **`True`** (if the value is a solution) or **`False`** (if the value is not a solution)\n",
        "\n",
        "The following code will determine if the value $x=2$ is a solution to the equation $$3x+4 = 8x-6$$\n",
        "\n",
        "Try running the code cell below:"
      ],
      "metadata": {
        "id": "ewPLhGFauEp6"
      }
    },
    {
      "cell_type": "code",
      "source": [
        "x = 2\n",
        "\n",
        "print(3*x + 4 == 8*x − 6)"
      ],
      "metadata": {
        "id": "3I3fT_jtubBT"
      },
      "execution_count": null,
      "outputs": []
    },
    {
      "cell_type": "markdown",
      "source": [
        "The output of **`True`** means that $x=2$ is a solution to $3x+4=8x−6$\n",
        "\n",
        "**Check Your Understanding!**\n",
        "\n",
        "1. Modify the code above to test **if** $x = 3$ is a solution. What does the output mean?\n",
        "\n",
        "2. Modify the code to verify that $x = 3$ **is a solution** to $$-2x + 10 = x + 1$$\n",
        "\n",
        "3. Modify the code to verify that $x = 2$ **is NOT a solution** to $$3x - 2 = 2x + 5$$\n",
        "\n",
        "4. Modify the code to verify that $x = -2$ **is a solution** to $$10 + x = -3x + 2$$\n",
        "\n",
        "5. Modify the code to verify that $x = 8$ **is a solution** to $$20 - 4x = -12$$\n"
      ],
      "metadata": {
        "id": "dKUpYrqauc9e"
      }
    },
    {
      "cell_type": "code",
      "source": [
        "x = 6\n",
        "\n",
        "print(2*x - 4 > 7)"
      ],
      "metadata": {
        "id": "rEOalJbgukg2"
      },
      "execution_count": null,
      "outputs": []
    },
    {
      "cell_type": "code",
      "source": [
        "import math\n",
        "\n",
        "print(\"Square root of 16 is:\")\n",
        "root = math.sqrt(16)          # Place the input to the sqrt function inside ()\n",
        "print(root)\n",
        "\n",
        "print()     # Add an empty line to the output for readability\n",
        "\n",
        "print(\"Area of a circle with radius 3 is: \")\n",
        "radius = 3\n",
        "area = math.pi * radius ** 2  # No brackets needed - pi does not require input\n",
        "print(area)\n",
        "\n",
        "print()     # Add an empty line to the output for readability\n",
        "\n",
        "print(\"Area rounded to 1 decimal place: \")\n",
        "rounded_area = round(area, 1) # round() is a built-in function - not part of the math library!\n",
        "                              # This will round the area to 1 decimal place\n",
        "print(rounded_area)"
      ],
      "metadata": {
        "id": "IY_7RIDKuqnb"
      },
      "execution_count": null,
      "outputs": []
    },
    {
      "cell_type": "code",
      "source": [
        "# can you build a class called circle that will do this for you\n"
      ],
      "metadata": {
        "id": "m8qH0mAvuryc"
      },
      "execution_count": null,
      "outputs": []
    },
    {
      "cell_type": "markdown",
      "source": [
        "The [NumPy Library](https://numpy.org/devdocs/user/index.html) is used for working with numerical lists, and other scientific computing purposes.\n",
        "\n",
        "It is often used in conjunction with other libraries, such as tabulate (table of values), matplotlib (graphs) and pandas (data analysis).\n",
        "\n",
        "A standard convention is to use the short form `np` when importing the NumPy library.\n",
        "\n",
        "Try running the code cell below."
      ],
      "metadata": {
        "id": "T3DWozEOuyvM"
      }
    },
    {
      "cell_type": "code",
      "source": [
        "import numpy as np    # Use 'np' to access the module instead of 'numpy'\n",
        "\n",
        "print(\"Here is a list of 11 numbers, evenly spaced from -10 to +10\")\n",
        "x_values = np.linspace(-10, 10, 11)\n",
        "print(x_values)\n",
        "\n",
        "print()     # Add an empty line to the output for readability\n",
        "\n",
        "print(\"Here is a new list where each element is 2 times the original (y = 2x)\")\n",
        "y_values = 2*x_values\n",
        "print(y_values)\n",
        "\n",
        "print()     # Add an empty line to the output for readability\n",
        "\n",
        "print(\"Here are both lists, organized as x & y pairs\")\n",
        "pairs = np.transpose([x_values, y_values])\n",
        "print(pairs)"
      ],
      "metadata": {
        "id": "A_GPaulNu098"
      },
      "execution_count": null,
      "outputs": []
    },
    {
      "cell_type": "code",
      "source": [
        "import numpy as np    # Use 'np' to access the module instead of 'numpy'\n",
        "import matplotlib.pyplot as plt  # use 'plt' to acccess the sub-module\n",
        "\n",
        "# Create the x and y values (copied from the previous cell)\n",
        "x_values = np.linspace(-10, 10, 11)\n",
        "y_values = 2*x_values\n",
        "\n",
        "# Step 1: Create the graph area\n",
        "plt.figure(figsize=(8,8))        # (width = 8 units, length = 8 units)\n",
        "\n",
        "# Step 2: Create the scale for each axis (from -20 to +20, with 21 tick markings)\n",
        "scale = np.linspace(-20, 20, 21)\n",
        "plt.axes(xticks=scale, yticks=scale)\n",
        "\n",
        "# Step 3: Draw the axes\n",
        "plt.axhline(y=0, color='black')  # draw x-axis\n",
        "plt.axvline(x=0, color='black')  # draw y-axis\n",
        "\n",
        "# Step 4: Set the window limits\n",
        "plt.xlim(-20, 20)        # set the x-axis to start at -20 and end at +20\n",
        "plt.ylim(-20, 20)        # set the y-axis to start at -20 and end at +20\n",
        "\n",
        "# Step 5: Turn grid visibility on\n",
        "plt.grid()\n",
        "\n",
        "# Step 6: plot the data as a solid green line, with the points as large dots\n",
        "plt.plot(x_values,\n",
        "         y_values,\n",
        "         'o-g')           # format string: [marker][line][color]\n",
        "\n",
        "print(\"Graph of y=2x\")"
      ],
      "metadata": {
        "id": "iyNNoTt4u3gS"
      },
      "execution_count": null,
      "outputs": []
    },
    {
      "cell_type": "code",
      "source": [
        "import numpy as np    # Use 'np' to access the module instead of 'numpy'\n",
        "import matplotlib.pyplot as plt  # use 'plt' to acccess the sub-module\n",
        "import random\n",
        "\n",
        "# Step 1: Create the graph area (width = 5 units, length = 8 units)\n",
        "plt.figure(figsize=(5,8))\n",
        "\n",
        "# Step 2: Create the scale for each axis (you can create different scales for x & y)\n",
        "x_scale = np.linspace(0, 10, 11)\n",
        "y_scale = np.linspace(0, 20, 21)\n",
        "plt.axes(xticks=x_scale, yticks=y_scale)\n",
        "\n",
        "# Step 3: Draw the axes\n",
        "plt.axhline(y=0, color='black')  # draw x-axis\n",
        "plt.axvline(x=0, color='black')  # draw y-axis\n",
        "\n",
        "# Step 4: Set the window limits\n",
        "plt.xlim(0, 10)       # set the x-axis to start at 0 and end at 10\n",
        "plt.ylim(0, 20)       # set the y-axis to start at 0 and end at 20\n",
        "\n",
        "# Step 5: Turn grid visibility on\n",
        "plt.grid()\n",
        "\n",
        "# Step 6: plot individual points (choosing random points)\n",
        "x = random.randint(0, 10)     # pick a random integer between 0 and 10\n",
        "y = random.randint(0, 20)     # pick a random integer between 0 and 20\n",
        "plt.plot(x, y, 'sr')          # plot as a red square\n",
        "\n",
        "x = random.uniform(0, 10)     # pick a random number between 0 and 10\n",
        "y = random.uniform(0, 20)     # pick a random number between 0 and 20\n",
        "plt.plot(x, y, '*b')          # plot as a blue star\n",
        "\n",
        "# Let's also plot two lines - create the x-values (no negative numbers this time)\n",
        "x_values = np.linspace(0, 10, 11)\n",
        "\n",
        "# You can type the equation right into the function!\n",
        "plt.plot(x_values,\n",
        "         3*x_values + 1,  # y = 3x + 1\n",
        "         'x:g')           # plots a green dotted line with 'x' for the points\n",
        "\n",
        "plt.plot(x_values,\n",
        "         -5/2*x_values + 16,  # y = -5/2x + 16\n",
        "         'D--y')              # plots a yellow dashed line with diamonds for the points\n",
        "\n",
        "print(\"Random points and a couple of lines\")"
      ],
      "metadata": {
        "id": "yGmHm73-u6tc"
      },
      "execution_count": null,
      "outputs": []
    },
    {
      "cell_type": "markdown",
      "source": [
        "---\n",
        "**EXERCISE** For $a=15$ and $b=16$, use Python to find the values of the following:\n",
        "\n",
        "- $a\\times b$\n",
        "- $a + b$\n",
        "- $a - b$\n",
        "- $\\frac{a}{a + b}$\n",
        "- $a ^ b$\n",
        "\n",
        "---\n",
        "\n",
        "Functions\n",
        "\n",
        "Similar to variables we can create functions that can be easily reused."
      ],
      "metadata": {
        "id": "9cUWDcBsvM30"
      }
    },
    {
      "cell_type": "code",
      "source": [
        "def proportion(a, b):\n",
        "    \"\"\"\n",
        "    We can use triple \" to describe what our function does.\n",
        "\n",
        "    Here for example: we're creating a function to calculate\n",
        "    the proportion of a of a + b\n",
        "    \"\"\"\n",
        "    return a / (a + b)"
      ],
      "metadata": {
        "id": "nvp3SR9uvOjm"
      },
      "execution_count": null,
      "outputs": []
    },
    {
      "cell_type": "markdown",
      "source": [
        "Defining Symbols\n",
        "\n",
        "Now that we have SymPy imported, we can use it to create our symbols, which will be used to create equations. We can do that by calling the Symbol class and using a string to define the symbol. I usually use the same string as the Python variable I will be using to manipulate the symbol."
      ],
      "metadata": {
        "id": "vOagzBr6vdv6"
      }
    },
    {
      "cell_type": "code",
      "source": [
        "import sympy"
      ],
      "metadata": {
        "id": "O8APy2eh018H"
      },
      "execution_count": 6,
      "outputs": []
    },
    {
      "cell_type": "code",
      "source": [
        "# Defining Symbols\n",
        "x = sympy.Symbol(\"x\")\n",
        "y = sympy.Symbol(\"y\")"
      ],
      "metadata": {
        "id": "x2P2fTVIvf6w"
      },
      "execution_count": 7,
      "outputs": []
    },
    {
      "cell_type": "code",
      "source": [
        "# Creating Equation\n",
        "f = x * y + x ** 2 + sympy.sin(2 * y)"
      ],
      "metadata": {
        "id": "e-Exiwe2vjPl"
      },
      "execution_count": null,
      "outputs": []
    },
    {
      "cell_type": "code",
      "source": [
        "# Differentiate wtr x\n",
        "df_dx = sympy.diff(f, x)\n",
        "print(\"The derivative of f(x,y) wrt x is: \" + str(df_dx))"
      ],
      "metadata": {
        "id": "wWpzZcF8vlNg"
      },
      "execution_count": null,
      "outputs": []
    },
    {
      "cell_type": "markdown",
      "source": [
        "![image.png](data:image/png;base64,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)"
      ],
      "metadata": {
        "id": "OEv3XYy9vqst"
      }
    },
    {
      "cell_type": "code",
      "source": [
        "# Simplifying Equations\n",
        "g = (x * sympy.tan(x) + x ** 2 * sympy.sin(x))/sympy.sin(x)\n",
        "g = sympy.simplify(g)\n",
        "print(\"The simplified form of g(x) is: \" + str(g))"
      ],
      "metadata": {
        "id": "8_tOphdcvw7k"
      },
      "execution_count": null,
      "outputs": []
    },
    {
      "cell_type": "markdown",
      "source": [
        "![image.png](data:image/png;base64,iVBORw0KGgoAAAANSUhEUgAAAF0AAAAqCAYAAADRVle6AAAEPElEQVRoBe2aD5HyMBDFkYAGJKABCWhAAhqQgAYkoAEJaMAC3/w6eb3tXvo1yTUF7nIzmSbtZv+8fbvlAqtV+6uCwPl8fjJOp9Nzv9931yqG5lT6eDyec+pbUtfxeOwAdzbfH3hYcr1ePxJ4QN/tdgPf1+t1x3iXiPdafjLoHslQtTH2e9GyNey8XC7Pw+HwvN/vHVsBkHVOyygB/Xa79bat9/LH3ltyTl/fbrcD5s9mX0GjkDklBnisN5tNVrvIBZ2EAi62KGXsKzD8IHCtY1dIwQsvZdA+Yjr8PZEN3f7ZbGsbWAi6Z7fATzWWC7r6v+xaOz4J9tkSc2Ih8TmVXuSXPiqlbI6xjHJkeOZNsYzn7JHdWBL0bMkroFdrMQoEAyp33cu55jJdun0bI/kErOdLXEm6bW/YDC1mfrarxHmBrlargQHbelICLwFdnxJsGaf0c4Hiq2ps/b9qU+yecKH65k0+IMEyAtBcwbMOzqTg3cmUgB6U94EJAM+6ZCcKBUmKYkcFc94rucSbNE+AGCPDzGG91iVBl4LOPuzqSsVNOl9BAIDxgyss98yvYPLnKktBt5YJuOrHNWvsN8wpSVuiKTHx8tZ7BXlKOretpdhpMgaB8LLq7sBwqsU8btMaCAAyg7byET20BghNZ0OgIdAQaAg0BBoCDYGGQEOgIdAQaAg0BKYR0FEkZxYc/L/jv9H233zOWfB5OrLlJXSkC4YcwNnRH3MjZE/jwuletQOj3NNDYNMZuYPwLYE33xJBisHoD+H4xqfPQIgKxuubIBfoj5cYtkewKQoB3X/XydGtPVlM0bOEDL7G7AwqE+f7DATpsDG6OaYw514J6F5/7Wr09nLWMUKNJWKgF1b5nwygjD5FFegrOQBkndMy5gAd1nj/qFb5Z4OJ3bPPa8+J17bvqL0gMGg5CogNzEkKyljThmLZjSoPX1znyFs9SjKJtvdJOuByj8q17RJfB6VtN4Y5+mhVKSOJtUEvfiXJwyABKv+s0yGgnt1eVnvGrsiXgi6d6ABMVZj0yTfJcfVJsM9qz0mmJUDUHlmZApEEpL7AYgwiqQzPqiRGGK9jLRAd1rdYEoyKJaaDivxmELCnAGcTgKmUvylJuIENMTNBvBMBSM+Y0GJ6tiPoWx0EITmpduaUAyOqbFQnIHggbQIEkvq9yhqFtvWMGjAPckGXTe9fYHQfVPBpkISUfo5rsYr0lah1akWiE4Ka0L+mMAgBgNUgwMCk/hdb7AAw2CTQWU++mb9MdbNc0NlEoLLJmjksiiS8D1LJ8hXi3Km2JOGjVRZKAGcHQ6DjPEGTCOYkRuuSgEpABxkAxi5XWOeZjwy6kdH1Vb/wwhfww5dqWc1RXAp6jg1kSY6Ik7v318nTGmyrmCtA+qfePeikgnNb31y+/Bk94cXaxQvDqag/E/yrAgVkBm0l1u9f5Ze3+w+koqAg385CGgAAAABJRU5ErkJggg==)"
      ],
      "metadata": {
        "id": "VlMBjQg4vynS"
      }
    },
    {
      "cell_type": "code",
      "source": [
        "# Solving System of Equations\n",
        "sol = sympy.solve((x + y - 3, 2 * x + 3 * y - 7), (x, y))\n",
        "print(\"The solution of the system is (x, y): (\" + str(sol[x]) + \", \" + str(sol[y]) + \")\")"
      ],
      "metadata": {
        "id": "pdSh8ah3v03q"
      },
      "execution_count": null,
      "outputs": []
    }
  ]
}