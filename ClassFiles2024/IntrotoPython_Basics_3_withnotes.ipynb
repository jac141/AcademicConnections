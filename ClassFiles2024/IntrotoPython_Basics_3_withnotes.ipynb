{
  "nbformat": 4,
  "nbformat_minor": 0,
  "metadata": {
    "colab": {
      "provenance": []
    },
    "kernelspec": {
      "name": "python3",
      "display_name": "Python 3"
    },
    "language_info": {
      "name": "python"
    }
  },
  "cells": [
    {
      "cell_type": "markdown",
      "source": [
        "# **Python Classes and Objects**"
      ],
      "metadata": {
        "id": "puvGYCjjiH1H"
      }
    },
    {
      "cell_type": "markdown",
      "source": [
        "Python is an object oriented programming language.\n",
        "\n",
        "Almost everything in Python is an object, with its properties and methods.\n",
        "\n",
        "A Class is like an object constructor, or a \"blueprint\" for creating objects."
      ],
      "metadata": {
        "id": "mL7DHdyKiLEM"
      }
    },
    {
      "cell_type": "code",
      "source": [
        "class MyClass:\n",
        "  x = 5"
      ],
      "metadata": {
        "id": "XHyJWOIgiQmI"
      },
      "execution_count": 1,
      "outputs": []
    },
    {
      "cell_type": "markdown",
      "source": [
        "Create Object\n",
        "\n",
        "Now we can use the class named MyClass to create objects:"
      ],
      "metadata": {
        "id": "YRVq_0cGiTBI"
      }
    },
    {
      "cell_type": "code",
      "source": [
        "p1 = MyClass()\n",
        "print(p1.x)"
      ],
      "metadata": {
        "colab": {
          "base_uri": "https://localhost:8080/"
        },
        "id": "JfSQyTN8iR_0",
        "outputId": "bbc7b270-c21a-42b7-c302-1e2152a4163f"
      },
      "execution_count": 13,
      "outputs": [
        {
          "output_type": "stream",
          "name": "stdout",
          "text": [
            "5\n"
          ]
        }
      ]
    },
    {
      "cell_type": "markdown",
      "source": [
        "***The __init__() Function***\n",
        "\n",
        "The examples above are classes and objects in their simplest form, and are not really useful in real life applications.\n",
        "\n",
        "To understand the meaning of classes we have to understand the built-in __init__() function.\n",
        "\n",
        "All classes have a function called __init__(), which is always executed when the class is being initiated.\n",
        "\n",
        "Use the __init__() function to assign values to object properties, or other operations that are necessary to do when the object is being created:"
      ],
      "metadata": {
        "id": "JoMEJMiXiXr0"
      }
    },
    {
      "cell_type": "code",
      "source": [
        "class Person:\n",
        "  def __init__(self, name, age):\n",
        "    self.name = name\n",
        "    self.age = age\n",
        "\n",
        "p1 = Person(\"John\", 36)\n",
        "\n",
        "print(p1.name)\n",
        "print(p1.age)"
      ],
      "metadata": {
        "colab": {
          "base_uri": "https://localhost:8080/"
        },
        "id": "z_E1M0Uviam6",
        "outputId": "c2ef8084-93e1-405c-92df-728e0e24b70f"
      },
      "execution_count": 3,
      "outputs": [
        {
          "output_type": "stream",
          "name": "stdout",
          "text": [
            "John\n",
            "36\n"
          ]
        }
      ]
    },
    {
      "cell_type": "code",
      "source": [
        "# list()\n",
        "\n",
        "# def somelist(objects):\n",
        "#   do this\n",
        "\n",
        "# .list()\n",
        "\n",
        "# class Lists:\n",
        "#   define asdsa\n",
        "#   d'sadsadsakjljlk\n",
        "\n",
        "#   def .list()\n",
        "#     makes it do this"
      ],
      "metadata": {
        "id": "3zvlaOO95enO"
      },
      "execution_count": null,
      "outputs": []
    },
    {
      "cell_type": "markdown",
      "source": [
        "***The __str__() Function***\n",
        "\n",
        "The __str__() function controls what should be returned when the class object is represented as a string.\n",
        "\n",
        "If the __str__() function is not set, the string representation of the object is returned:"
      ],
      "metadata": {
        "id": "nywk3HHlidgC"
      }
    },
    {
      "cell_type": "code",
      "source": [
        "class Person:\n",
        "  def __init__(self, name, age):\n",
        "    self.name = name\n",
        "    self.age = age\n",
        "\n",
        "p1 = Person(\"John\", 36) # this is our variable like x below\n",
        "\n",
        "print(p1)"
      ],
      "metadata": {
        "colab": {
          "base_uri": "https://localhost:8080/"
        },
        "id": "vF6UhPLoijRU",
        "outputId": "1e0f97d1-bac7-4973-e2e4-ae572bf4df3e"
      },
      "execution_count": 4,
      "outputs": [
        {
          "output_type": "stream",
          "name": "stdout",
          "text": [
            "<__main__.Person object at 0x7fb91aaacd00>\n"
          ]
        }
      ]
    },
    {
      "cell_type": "code",
      "source": [
        "x = 5\n",
        "print(x)\n",
        "print(type(x))"
      ],
      "metadata": {
        "colab": {
          "base_uri": "https://localhost:8080/"
        },
        "id": "AHrTXqzn6Lbb",
        "outputId": "037fe832-3b5e-4b93-a20a-be82afa23361"
      },
      "execution_count": 6,
      "outputs": [
        {
          "output_type": "stream",
          "name": "stdout",
          "text": [
            "5\n",
            "<class 'int'>\n"
          ]
        }
      ]
    },
    {
      "cell_type": "code",
      "source": [
        "b = [1, 2, 23]\n",
        "print(b)\n",
        "print(type(b))"
      ],
      "metadata": {
        "colab": {
          "base_uri": "https://localhost:8080/"
        },
        "id": "fCn9Oy3q8srB",
        "outputId": "65c7bf69-3084-465e-b05d-94080d9dd94b"
      },
      "execution_count": 9,
      "outputs": [
        {
          "output_type": "stream",
          "name": "stdout",
          "text": [
            "[1, 2, 23]\n",
            "<class 'list'>\n"
          ]
        }
      ]
    },
    {
      "cell_type": "code",
      "source": [
        "\n",
        "class Person:\n",
        "  def __init__(self, name, age): # when you have 2 underscores __ dunder (dunder method)\n",
        "    self.name = name            # we are trying to tell it what to do when someone calls it.\n",
        "    self.age = age\n",
        "\n",
        "  def __str__(self):  # we are trying to tell our new object what to do when someone prints it\n",
        "    return f\"{self.name}({self.age})\" # another syntax rule for returning\n",
        "\n",
        "p1 = Person(\"John\", 36)  # he we called it and it tells people it needs name and age\n",
        "\n",
        "print(p1)\n",
        "print(type(p1))"
      ],
      "metadata": {
        "colab": {
          "base_uri": "https://localhost:8080/"
        },
        "id": "v3w34LJhine-",
        "outputId": "8af619e8-5881-4df6-c911-0a9e721b981e"
      },
      "execution_count": 12,
      "outputs": [
        {
          "output_type": "stream",
          "name": "stdout",
          "text": [
            "John(36)\n",
            "<class '__main__.Person'>\n"
          ]
        }
      ]
    },
    {
      "cell_type": "markdown",
      "source": [
        " Dunder or Magic Methods\n",
        "\n",
        "https://www.geeksforgeeks.org/dunder-magic-methods-python/"
      ],
      "metadata": {
        "id": "khaKbebK-QP0"
      }
    },
    {
      "cell_type": "markdown",
      "source": [
        "Link for what f means - just another syntax for printing.\n",
        "\n",
        "https://www.freecodecamp.org/news/python-print-variable-how-to-print-a-string-and-variable/#:~:text=bit%20easier%20%3A)-,How%20to%20print%20a%20variable%20and%20a%20string%20in%20Python,you're%20well!%22)"
      ],
      "metadata": {
        "id": "txkaKMo67hpl"
      }
    },
    {
      "cell_type": "markdown",
      "source": [
        "***Object Methods***\n",
        "\n",
        "Objects can also contain methods. Methods in objects are functions that belong to the object.\n",
        "\n",
        "Let us create a method in the Person class:"
      ],
      "metadata": {
        "id": "abUqxCFgiqcf"
      }
    },
    {
      "cell_type": "code",
      "source": [
        "class Person:\n",
        "  def __init__(self, name, age):\n",
        "    self.name = name\n",
        "    self.age = age\n",
        "\n",
        "  def __str__(self):  # we are trying to tell our new object what to do when someone prints it\n",
        "    return f\"{self.name}({self.age})\" # another syntax rule for returning\n",
        "\n",
        "  def standardgreet(self):\n",
        "    print(\"Hello my name is \" + self.name)\n",
        "\n",
        "  def nonstandardgreet(self):\n",
        "    print(\"What's up my name is \" + self.name + str(self.age))\n",
        "\n",
        "p1 = Person(\"John\", 36) # here we set p1 equal to person type/class object\n",
        "p1.standardgreet() # once p1 is a person type/class object it knows all the methods that work on it.\n",
        "p1.nonstandardgreet()"
      ],
      "metadata": {
        "colab": {
          "base_uri": "https://localhost:8080/"
        },
        "id": "vYZ5dNM6ivMz",
        "outputId": "69760380-53aa-4651-f4f7-4d5e4fa67b2b"
      },
      "execution_count": 22,
      "outputs": [
        {
          "output_type": "stream",
          "name": "stdout",
          "text": [
            "Hello my name is John\n",
            "What's up my name is John36\n"
          ]
        }
      ]
    },
    {
      "cell_type": "code",
      "source": [
        "print(p1)"
      ],
      "metadata": {
        "colab": {
          "base_uri": "https://localhost:8080/"
        },
        "id": "RuMsccE--ga7",
        "outputId": "ce87423b-9836-44e5-bf25-f63477adc38c"
      },
      "execution_count": 23,
      "outputs": [
        {
          "output_type": "stream",
          "name": "stdout",
          "text": [
            "John(36)\n"
          ]
        }
      ]
    },
    {
      "cell_type": "markdown",
      "source": [
        "***The self Parameter***\n",
        "\n",
        "The self parameter is a reference to the current instance of the class, and is used to access variables that belongs to the class.\n",
        "\n",
        "It does not have to be named self , you can call it whatever you like, but it has to be the first parameter of any function in the class:"
      ],
      "metadata": {
        "id": "NgYNlAxOixlG"
      }
    },
    {
      "cell_type": "code",
      "source": [
        "class Person:\n",
        "  def __init__(mysillyobject, name, age):\n",
        "    mysillyobject.name = name\n",
        "    mysillyobject.age = age\n",
        "\n",
        "  def myfunc(abc):\n",
        "    print(\"Hello my name is \" + abc.name + str(abc.age))\n",
        "\n",
        "p1 = Person(\"John\", 36)\n",
        "p1.myfunc()"
      ],
      "metadata": {
        "colab": {
          "base_uri": "https://localhost:8080/"
        },
        "id": "hx4o_gh7ixJw",
        "outputId": "3e9fe569-f26b-4868-c29d-ed4de94737ec"
      },
      "execution_count": 26,
      "outputs": [
        {
          "output_type": "stream",
          "name": "stdout",
          "text": [
            "Hello my name is John36\n"
          ]
        }
      ]
    },
    {
      "cell_type": "code",
      "source": [
        "# Modify Object Properties\n",
        "\n",
        "p1.age = 40\n",
        "p1.myfunc()"
      ],
      "metadata": {
        "colab": {
          "base_uri": "https://localhost:8080/"
        },
        "id": "9Ij046MIi3qe",
        "outputId": "7647e2c9-9971-4aef-9fa1-5e2030ce12df"
      },
      "execution_count": 28,
      "outputs": [
        {
          "output_type": "stream",
          "name": "stdout",
          "text": [
            "Hello my name is John40\n"
          ]
        }
      ]
    },
    {
      "cell_type": "code",
      "source": [
        "# Delete Object Properties\n",
        "\n",
        "del p1.age\n",
        "\n",
        "p1.myfunc()"
      ],
      "metadata": {
        "colab": {
          "base_uri": "https://localhost:8080/",
          "height": 217
        },
        "id": "ZoTsri5Qi77E",
        "outputId": "c7e8bf67-97f1-4539-bcd7-abe388ce0edf"
      },
      "execution_count": 30,
      "outputs": [
        {
          "output_type": "error",
          "ename": "AttributeError",
          "evalue": "ignored",
          "traceback": [
            "\u001b[0;31m---------------------------------------------------------------------------\u001b[0m",
            "\u001b[0;31mAttributeError\u001b[0m                            Traceback (most recent call last)",
            "\u001b[0;32m<ipython-input-30-0c45af45beee>\u001b[0m in \u001b[0;36m<cell line: 3>\u001b[0;34m()\u001b[0m\n\u001b[1;32m      1\u001b[0m \u001b[0;31m# Delete Object Properties\u001b[0m\u001b[0;34m\u001b[0m\u001b[0;34m\u001b[0m\u001b[0m\n\u001b[1;32m      2\u001b[0m \u001b[0;34m\u001b[0m\u001b[0m\n\u001b[0;32m----> 3\u001b[0;31m \u001b[0;32mdel\u001b[0m \u001b[0mp1\u001b[0m\u001b[0;34m.\u001b[0m\u001b[0mage\u001b[0m\u001b[0;34m\u001b[0m\u001b[0;34m\u001b[0m\u001b[0m\n\u001b[0m\u001b[1;32m      4\u001b[0m \u001b[0mp1\u001b[0m\u001b[0;34m.\u001b[0m\u001b[0mmyfunc\u001b[0m\u001b[0;34m(\u001b[0m\u001b[0;34m)\u001b[0m\u001b[0;34m\u001b[0m\u001b[0;34m\u001b[0m\u001b[0m\n",
            "\u001b[0;31mAttributeError\u001b[0m: age"
          ]
        }
      ]
    },
    {
      "cell_type": "code",
      "source": [
        "# Delete Objects\n",
        "\n",
        "del p1\n",
        "\n",
        "p1"
      ],
      "metadata": {
        "colab": {
          "base_uri": "https://localhost:8080/",
          "height": 217
        },
        "id": "HlTsPZbqjAuk",
        "outputId": "92210721-1942-46ad-a093-6b8349454921"
      },
      "execution_count": 32,
      "outputs": [
        {
          "output_type": "error",
          "ename": "NameError",
          "evalue": "ignored",
          "traceback": [
            "\u001b[0;31m---------------------------------------------------------------------------\u001b[0m",
            "\u001b[0;31mNameError\u001b[0m                                 Traceback (most recent call last)",
            "\u001b[0;32m<ipython-input-32-cf6b9c3c82b8>\u001b[0m in \u001b[0;36m<cell line: 3>\u001b[0;34m()\u001b[0m\n\u001b[1;32m      1\u001b[0m \u001b[0;31m# Delete Objects\u001b[0m\u001b[0;34m\u001b[0m\u001b[0;34m\u001b[0m\u001b[0m\n\u001b[1;32m      2\u001b[0m \u001b[0;34m\u001b[0m\u001b[0m\n\u001b[0;32m----> 3\u001b[0;31m \u001b[0;32mdel\u001b[0m \u001b[0mp1\u001b[0m\u001b[0;34m\u001b[0m\u001b[0;34m\u001b[0m\u001b[0m\n\u001b[0m\u001b[1;32m      4\u001b[0m \u001b[0mp1\u001b[0m\u001b[0;34m\u001b[0m\u001b[0;34m\u001b[0m\u001b[0m\n",
            "\u001b[0;31mNameError\u001b[0m: name 'p1' is not defined"
          ]
        }
      ]
    },
    {
      "cell_type": "markdown",
      "source": [
        "# **Python Inheritance**"
      ],
      "metadata": {
        "id": "PYT6_8sLikg4"
      }
    },
    {
      "cell_type": "markdown",
      "source": [
        "Inheritance allows us to define a class that inherits all the methods and properties from another class.\n",
        "\n",
        "Parent class is the class being inherited from, also called base class.\n",
        "\n",
        "Child class is the class that inherits from another class, also called derived class."
      ],
      "metadata": {
        "id": "R1ehXDtxjRsA"
      }
    },
    {
      "cell_type": "markdown",
      "source": [
        "***Create a Parent Class***\n",
        "\n",
        "Any class can be a parent class, so the syntax is the same as creating any other class"
      ],
      "metadata": {
        "id": "sCgqwMlqjTfO"
      }
    },
    {
      "cell_type": "code",
      "source": [
        "class Person:\n",
        "  def __init__(self, fname, lname):\n",
        "    self.firstname = fname\n",
        "    self.lastname = lname\n",
        "\n",
        "  def printname(self):\n",
        "    print(self.firstname, self.lastname)\n",
        "\n",
        "#Use the Person class to create an object, and then execute the printname method:\n",
        "\n",
        "x = Person(\"John\", \"Doe\")\n",
        "x.printname()"
      ],
      "metadata": {
        "colab": {
          "base_uri": "https://localhost:8080/"
        },
        "id": "AcCW0sJpjXp8",
        "outputId": "66bdf328-14ab-4be5-8242-3ed062abb82e"
      },
      "execution_count": 33,
      "outputs": [
        {
          "output_type": "stream",
          "name": "stdout",
          "text": [
            "John Doe\n"
          ]
        }
      ]
    },
    {
      "cell_type": "code",
      "source": [
        "print(x)"
      ],
      "metadata": {
        "colab": {
          "base_uri": "https://localhost:8080/"
        },
        "id": "JPSvIeiTCcmg",
        "outputId": "8f6759ae-9676-460e-d0bd-334640b39e21"
      },
      "execution_count": 34,
      "outputs": [
        {
          "output_type": "stream",
          "name": "stdout",
          "text": [
            "<__main__.Person object at 0x7fb8e8dea080>\n"
          ]
        }
      ]
    },
    {
      "cell_type": "markdown",
      "source": [
        "***Create a Child Class***\n",
        "\n",
        "To create a class that inherits the functionality from another class, send the parent class as a parameter when creating the child class:"
      ],
      "metadata": {
        "id": "V0_viLOkjbsO"
      }
    },
    {
      "cell_type": "code",
      "source": [
        "class Student(Person):\n",
        "  pass\n",
        "\n",
        "\n",
        "#  Note: Use the pass keyword when you do not want to add any other properties or methods\n",
        "#  to the class."
      ],
      "metadata": {
        "id": "or8XxWFtjYyX"
      },
      "execution_count": 35,
      "outputs": []
    },
    {
      "cell_type": "code",
      "source": [
        "x = Student(\"Mike\", \"Olsen\")\n",
        "x.printname()"
      ],
      "metadata": {
        "colab": {
          "base_uri": "https://localhost:8080/"
        },
        "id": "qWxVuadEjgNs",
        "outputId": "0aa714a4-142a-4f43-eba8-1ebf7fa83e71"
      },
      "execution_count": 36,
      "outputs": [
        {
          "output_type": "stream",
          "name": "stdout",
          "text": [
            "Mike Olsen\n"
          ]
        }
      ]
    },
    {
      "cell_type": "code",
      "source": [
        "class Student(Person):\n",
        "  def __init__(self, fname, lname):\n",
        "    #add properties etc"
      ],
      "metadata": {
        "colab": {
          "base_uri": "https://localhost:8080/",
          "height": 130
        },
        "id": "eoLbiOaOjqGi",
        "outputId": "19ca778d-50b9-444f-e2ef-39ce53d4a69f"
      },
      "execution_count": 37,
      "outputs": [
        {
          "output_type": "error",
          "ename": "SyntaxError",
          "evalue": "ignored",
          "traceback": [
            "\u001b[0;36m  File \u001b[0;32m\"<ipython-input-37-adbb9bcfd423>\"\u001b[0;36m, line \u001b[0;32m3\u001b[0m\n\u001b[0;31m    #add properties etc.\u001b[0m\n\u001b[0m                        ^\u001b[0m\n\u001b[0;31mSyntaxError\u001b[0m\u001b[0;31m:\u001b[0m incomplete input\n"
          ]
        }
      ]
    },
    {
      "cell_type": "code",
      "source": [
        "class Student(Person):\n",
        "  def __init__(self, fname, lname):\n",
        "    Person.__init__(self, fname, lname)"
      ],
      "metadata": {
        "id": "Qu5OezUSjsDu"
      },
      "execution_count": 38,
      "outputs": []
    },
    {
      "cell_type": "code",
      "source": [
        "class Student(Person):\n",
        "  def __init__(self, fname, lname):\n",
        "    super().__init__(fname, lname)\n",
        "\n",
        "# Python also has a super() function that will make the\n",
        "# child class inherit all the methods and properties from its parent:"
      ],
      "metadata": {
        "id": "qBqYXHAHjvLX"
      },
      "execution_count": 39,
      "outputs": []
    },
    {
      "cell_type": "code",
      "source": [
        "# Add Properties\n",
        "\n",
        "class Student(Person):\n",
        "  def __init__(self, fname, lname):\n",
        "    super().__init__(fname, lname)\n",
        "    self.graduationyear = 2019"
      ],
      "metadata": {
        "id": "EZ93C81ajwe4"
      },
      "execution_count": 40,
      "outputs": []
    },
    {
      "cell_type": "code",
      "source": [
        "# Add methods\n",
        "\n",
        "class Student(Person):\n",
        "  def __init__(self, fname, lname, year):\n",
        "    super().__init__(fname, lname)\n",
        "    self.graduationyear = year\n",
        "\n",
        "  def welcome(self): # officially adding a method to my new class\n",
        "    print(\"Welcome\", self.firstname, self.lastname, \"to the class of\", self.graduationyear)"
      ],
      "metadata": {
        "id": "VzI5TfSDj7yY"
      },
      "execution_count": 45,
      "outputs": []
    },
    {
      "cell_type": "code",
      "source": [
        "x1 = Student(\"Jojo\", \"Campbell\", 2019)\n",
        "x1.welcome()"
      ],
      "metadata": {
        "colab": {
          "base_uri": "https://localhost:8080/"
        },
        "id": "sPgKr77ADt7W",
        "outputId": "47245b83-4e1f-4b93-b3bc-95af4424d2aa"
      },
      "execution_count": 46,
      "outputs": [
        {
          "output_type": "stream",
          "name": "stdout",
          "text": [
            "Welcome Jojo Campbell to the class of 2019\n"
          ]
        }
      ]
    },
    {
      "cell_type": "markdown",
      "source": [
        "# Bank Account Example\n"
      ],
      "metadata": {
        "id": "X5MLTEbzluSr"
      }
    },
    {
      "cell_type": "code",
      "source": [
        "class Bankaccount:\n",
        "    def __init__(self):"
      ],
      "metadata": {
        "id": "H5NX6znWlzEJ"
      },
      "execution_count": null,
      "outputs": []
    },
    {
      "cell_type": "code",
      "source": [
        "def deposit(self):\n",
        "        amount = float(input(\"Enter amount to be deposited: \"))\n",
        "        self.balance += amount\n",
        "        print(\"\\n Amount Deposited:\", amount)"
      ],
      "metadata": {
        "id": "5-qI-DP3lziz"
      },
      "execution_count": null,
      "outputs": []
    },
    {
      "cell_type": "code",
      "source": [
        "# Function to withdraw the amount\n",
        "def withdraw(self):\n",
        "        amount = float(input(\"Enter amount to be withdrawn: \"))\n",
        "        if self.balance >= amount:\n",
        "            self.balance -= amount\n",
        "            print(\"\\n You Withdrew:\", amount)\n",
        "        else:\n",
        "            print(\"\\n Insufficient balance  \")"
      ],
      "metadata": {
        "id": "iLbyyoTsl2iO"
      },
      "execution_count": null,
      "outputs": []
    },
    {
      "cell_type": "code",
      "source": [
        "# Put it all together\n",
        "\n",
        "\n",
        "# Python program to create Bankaccount class\n",
        "# with both a deposit() and a withdraw() function\n",
        "class Bank_Account:\n",
        "    def __init__(self):\n",
        "        self.balance=0\n",
        "        print(\"Hello!!! Welcome to the Deposit & Withdrawal Machine\")\n",
        "\n",
        "    def deposit(self):\n",
        "        amount=float(input(\"Enter amount to be Deposited: \"))\n",
        "        self.balance += amount\n",
        "        print(\"\\n Amount Deposited:\",amount)\n",
        "\n",
        "    def withdraw(self):\n",
        "        amount = float(input(\"Enter amount to be Withdrawn: \"))\n",
        "        if self.balance>=amount:\n",
        "            self.balance-=amount\n",
        "            print(\"\\n You Withdrew:\", amount)\n",
        "        else:\n",
        "            print(\"\\n Insufficient balance  \")\n",
        "\n",
        "    def display(self):\n",
        "        print(\"\\n Net Available Balance=\",self.balance)\n"
      ],
      "metadata": {
        "id": "CGpvUa2Ll9tD"
      },
      "execution_count": 47,
      "outputs": []
    },
    {
      "cell_type": "code",
      "source": [
        "s = Bank_Account()\n",
        "\n",
        "# Calling functions with that class object\n",
        "s.deposit()\n",
        "s.withdraw()\n",
        "s.display()"
      ],
      "metadata": {
        "colab": {
          "base_uri": "https://localhost:8080/"
        },
        "id": "xIA4vlB-mDF4",
        "outputId": "dc991d34-9016-489f-a802-233e24dc2fb5"
      },
      "execution_count": 48,
      "outputs": [
        {
          "output_type": "stream",
          "name": "stdout",
          "text": [
            "Hello!!! Welcome to the Deposit & Withdrawal Machine\n",
            "Enter amount to be Deposited: 100000\n",
            "\n",
            " Amount Deposited: 100000.0\n",
            "Enter amount to be Withdrawn: 5000\n",
            "\n",
            " You Withdrew: 5000.0\n",
            "\n",
            " Net Available Balance= 95000.0\n"
          ]
        }
      ]
    },
    {
      "cell_type": "code",
      "source": [
        "# other examples of functionality\n",
        "\n",
        "class BankAccount2:\n",
        "    def __init__(self, account_number, date_of_opening, balance, customer_name):\n",
        "        self.account_number = account_number\n",
        "        self.date_of_opening  = date_of_opening\n",
        "        self.balance = balance\n",
        "        self.customer_name = customer_name\n",
        "\n",
        "    def deposit(self, amount):\n",
        "        self.balance += amount\n",
        "        print(f\"${amount} has been deposited in your account.\")\n",
        "\n",
        "    def withdraw(self, amount):\n",
        "        if amount > self.balance:\n",
        "            print(\"Insufficient balance.\")\n",
        "        else:\n",
        "            self.balance -= amount\n",
        "            print(f\"${amount} has been withdrawn from your account.\")\n",
        "\n",
        "    def check_balance(self):\n",
        "        print(f\"Current balance is ${self.balance}.\")\n",
        "\n",
        "    def print_customer_details(self):\n",
        "        print(\"Name:\", self.customer_name)\n",
        "        print(\"Account Number:\", self.account_number)\n",
        "        print(\"Date of opening:\", self.date_of_opening)\n",
        "        print(f\"Balance: ${self.balance}\\n\")\n",
        "\n",
        "# Input customer details\n",
        "ac_no_1 = BankAccount2(2345, \"01-01-2011\", 1000, \"Toninho Takeo\")\n",
        "ac_no_2 = BankAccount2(1234, \"11-03-2011\", 2000, \"Astrid Rugile\")\n",
        "ac_no_3 = BankAccount2(2312, \"12-01-2009\", 3000, \"Orli Kerenza\")\n",
        "ac_no_4 = BankAccount2(1395, \"01-01-2011\", 3000, \"Luciana Chika\")\n",
        "ac_no_5 = BankAccount2(6345, \"01-05-2011\", 4000, \"Toninho Takeo\")\n",
        "\n",
        "print(\"Customer Details:\")\n",
        "ac_no_1.print_customer_details()\n",
        "ac_no_2.print_customer_details()\n",
        "ac_no_3.print_customer_details()\n",
        "ac_no_4.print_customer_details()\n",
        "ac_no_5.print_customer_details()\n",
        "\n",
        "print(\"=============================\")\n",
        "ac_no_4.print_customer_details()\n",
        "# Current balance is $3000.\n",
        "# $1000 has been deposited in your account.\n",
        "ac_no_4.deposit(1000)\n",
        "ac_no_4.check_balance()\n",
        "# Your current balance $4000.\n",
        "# You want to withdraw $5000\n",
        "ac_no_4.withdraw(5000)\n",
        "# Output:\n",
        "# Insufficient balance.\n",
        "#The customer withdraw $3400.\n",
        "ac_no_4.withdraw(3400)\n",
        "ac_no_4.check_balance()"
      ],
      "metadata": {
        "colab": {
          "base_uri": "https://localhost:8080/"
        },
        "id": "-DB_qw3rmO6E",
        "outputId": "04a3a2f7-8bda-4a83-9382-fcaeda73b6f5"
      },
      "execution_count": 49,
      "outputs": [
        {
          "output_type": "stream",
          "name": "stdout",
          "text": [
            "Customer Details:\n",
            "Name: Toninho Takeo\n",
            "Account Number: 2345\n",
            "Date of opening: 01-01-2011\n",
            "Balance: $1000\n",
            "\n",
            "Name: Astrid Rugile\n",
            "Account Number: 1234\n",
            "Date of opening: 11-03-2011\n",
            "Balance: $2000\n",
            "\n",
            "Name: Orli Kerenza\n",
            "Account Number: 2312\n",
            "Date of opening: 12-01-2009\n",
            "Balance: $3000\n",
            "\n",
            "Name: Luciana Chika\n",
            "Account Number: 1395\n",
            "Date of opening: 01-01-2011\n",
            "Balance: $3000\n",
            "\n",
            "Name: Toninho Takeo\n",
            "Account Number: 6345\n",
            "Date of opening: 01-05-2011\n",
            "Balance: $4000\n",
            "\n",
            "=============================\n",
            "Name: Luciana Chika\n",
            "Account Number: 1395\n",
            "Date of opening: 01-01-2011\n",
            "Balance: $3000\n",
            "\n",
            "$1000 has been deposited in your account.\n",
            "Current balance is $4000.\n",
            "Insufficient balance.\n",
            "$3400 has been withdrawn from your account.\n",
            "Current balance is $600.\n"
          ]
        }
      ]
    },
    {
      "cell_type": "markdown",
      "source": [
        "# **Python Iterators**"
      ],
      "metadata": {
        "id": "uO2gAdPSml7q"
      }
    },
    {
      "cell_type": "markdown",
      "source": [
        "An iterator is an object that contains a countable number of values.\n",
        "\n",
        "An iterator is an object that can be iterated upon, meaning that you can traverse through all the values. [LOOPED THROUGH]\n",
        "\n",
        "Technically, in Python, an iterator is an object which implements the iterator protocol, which consist of the methods __iter__() and __next__()."
      ],
      "metadata": {
        "id": "9lWrfHd0m0bS"
      }
    },
    {
      "cell_type": "markdown",
      "source": [
        "Iterator vs Iterable\n",
        "\n",
        "Lists, tuples, dictionaries, and sets are all iterable objects. They are iterable containers which you can get an iterator from.\n",
        "\n",
        "All these objects have a iter() method which is used to get an iterator:"
      ],
      "metadata": {
        "id": "NsX9P_7DnC9A"
      }
    },
    {
      "cell_type": "code",
      "source": [
        "mytuple = (\"apple\", \"banana\", \"cherry\")\n",
        "myit = iter(mytuple)\n",
        "\n",
        "print(next(myit))\n",
        "print(next(myit))\n",
        "print(next(myit))"
      ],
      "metadata": {
        "colab": {
          "base_uri": "https://localhost:8080/"
        },
        "id": "VK1aBOKjnJSa",
        "outputId": "7bef89bd-4a8e-4b49-fcfe-d2b65216cb26"
      },
      "execution_count": 98,
      "outputs": [
        {
          "output_type": "stream",
          "name": "stdout",
          "text": [
            "apple\n",
            "banana\n",
            "cherry\n"
          ]
        }
      ]
    },
    {
      "cell_type": "code",
      "source": [
        "mystr = \"banana\"\n",
        "myit = iter(mystr)\n",
        "\n",
        "print(next(myit))\n",
        "print(next(myit))\n",
        "print(next(myit))\n",
        "print(next(myit))\n",
        "print(next(myit))\n",
        "print(next(myit))"
      ],
      "metadata": {
        "colab": {
          "base_uri": "https://localhost:8080/"
        },
        "id": "6syk6M9QnKoc",
        "outputId": "15f1fbce-e3ea-4ed7-8c35-cec2bc34f681"
      },
      "execution_count": 99,
      "outputs": [
        {
          "output_type": "stream",
          "name": "stdout",
          "text": [
            "b\n",
            "a\n",
            "n\n",
            "a\n",
            "n\n",
            "a\n"
          ]
        }
      ]
    },
    {
      "cell_type": "markdown",
      "source": [
        "Looping Through an Iterator\n",
        "\n",
        "We can also use a for loop to iterate through an iterable object:"
      ],
      "metadata": {
        "id": "pttLhGt3nMOs"
      }
    },
    {
      "cell_type": "code",
      "source": [
        "mytuple = (\"apple\", \"banana\", \"cherry\")\n",
        "\n",
        "for x in mytuple: # for loop just says i want you to do it for every item in this iterable\n",
        "  print(x)\n"
      ],
      "metadata": {
        "colab": {
          "base_uri": "https://localhost:8080/"
        },
        "id": "kRUettv8nNum",
        "outputId": "8863f0e2-d586-453c-8d4a-429005af204a"
      },
      "execution_count": 100,
      "outputs": [
        {
          "output_type": "stream",
          "name": "stdout",
          "text": [
            "apple\n",
            "banana\n",
            "cherry\n"
          ]
        }
      ]
    },
    {
      "cell_type": "code",
      "source": [
        "\n",
        "mystr = \"banana\"\n",
        "\n",
        "for x in mystr:\n",
        "  print(x)\n",
        "\n",
        "# The for loop actually creates an iterator object\n",
        "# and executes the next() method for each loop"
      ],
      "metadata": {
        "colab": {
          "base_uri": "https://localhost:8080/"
        },
        "id": "jYc3dqlPnPwu",
        "outputId": "5a0877b9-04cd-4c2b-e8f0-57615f3c83ee"
      },
      "execution_count": 101,
      "outputs": [
        {
          "output_type": "stream",
          "name": "stdout",
          "text": [
            "b\n",
            "a\n",
            "n\n",
            "a\n",
            "n\n",
            "a\n"
          ]
        }
      ]
    },
    {
      "cell_type": "markdown",
      "source": [
        "**Create an Iterator**\n",
        "\n",
        "To create an object/class as an iterator you have to implement the methods __iter__() and __next__() to your object.\n",
        "\n",
        "As you have learned in the Python Classes/Objects chapter, all classes have a function called __init__(), which allows you to do some initializing when the object is being created.\n",
        "\n",
        "The __iter__() method acts similar, you can do operations (initializing etc.), but must always return the iterator object itself.\n",
        "\n",
        "The __next__() method also allows you to do operations, and must return the next item in the sequence."
      ],
      "metadata": {
        "id": "6OdsWIjPnX1o"
      }
    },
    {
      "cell_type": "code",
      "source": [
        "class MyNumbers:\n",
        "  def __iter__(self):\n",
        "    self.a = 1\n",
        "    return self\n",
        "\n",
        "  def __next__(self):\n",
        "    x = self.a\n",
        "    self.a += 1\n",
        "    return x\n",
        "\n",
        "myclass = MyNumbers()\n",
        "myiter = iter(myclass)\n",
        "\n",
        "print(next(myiter))\n",
        "print(next(myiter))\n",
        "print(next(myiter))\n",
        "print(next(myiter))\n",
        "print(next(myiter))\n"
      ],
      "metadata": {
        "id": "kTgJ5X3MnaVq"
      },
      "execution_count": null,
      "outputs": []
    },
    {
      "cell_type": "markdown",
      "source": [
        "StopIteration\n",
        "\n",
        "The example above would continue forever if you had enough next() statements, or if it was used in a for loop.\n",
        "\n",
        "To prevent the iteration from going on forever, we can use the StopIteration statement.\n",
        "\n",
        "In the __next__() method, we can add a terminating condition to raise an error if the iteration is done a specified number of times:\n",
        "\n"
      ],
      "metadata": {
        "id": "egsOhYLSnfIw"
      }
    },
    {
      "cell_type": "code",
      "source": [
        "class MyNumbers:\n",
        "  def __iter__(self):\n",
        "    self.a = 1\n",
        "    return self\n",
        "\n",
        "  def __next__(self):\n",
        "    if self.a <= 20:\n",
        "      x = self.a\n",
        "      self.a += 1\n",
        "      return x\n",
        "    else:\n",
        "      raise StopIteration\n",
        "\n",
        "myclass = MyNumbers()\n",
        "myiter = iter(myclass)\n",
        "\n",
        "for x in myiter:\n",
        "  print(x)"
      ],
      "metadata": {
        "id": "afS3zFPvncvo"
      },
      "execution_count": null,
      "outputs": []
    },
    {
      "cell_type": "markdown",
      "source": [
        "# **Comprehensions**"
      ],
      "metadata": {
        "id": "4S2mUep-ntAg"
      }
    },
    {
      "cell_type": "markdown",
      "source": [
        "List Comprehension\n",
        "\n",
        "List comprehension offers a shorter syntax when you want to create a new list based on the values of an existing list.\n",
        "\n",
        "Example:\n",
        "\n",
        "Based on a list of fruits, you want a new list, containing only the fruits with the letter \"a\" in the name.\n",
        "\n",
        "Without list comprehension you will have to write a for statement with a conditional test inside:"
      ],
      "metadata": {
        "id": "oW3OdPbnn0ih"
      }
    },
    {
      "cell_type": "code",
      "source": [
        "fruits = [\"apple\", \"banana\", \"cherry\", \"kiwi\", \"mango\"]\n",
        "newlist = []\n",
        "\n",
        "for x in fruits:\n",
        "  if \"a\" in x:\n",
        "    newlist.append(x)\n",
        "\n",
        "print(newlist)"
      ],
      "metadata": {
        "colab": {
          "base_uri": "https://localhost:8080/"
        },
        "id": "0-IZQzBWn2Lq",
        "outputId": "3c7df9ec-70b0-4eb0-baac-e6247f2cb4fd"
      },
      "execution_count": 50,
      "outputs": [
        {
          "output_type": "stream",
          "name": "stdout",
          "text": [
            "['apple', 'banana', 'mango']\n"
          ]
        }
      ]
    },
    {
      "cell_type": "code",
      "source": [
        "fruits = [\"apple\", \"banana\", \"cherry\", \"kiwi\", \"mango\"]\n",
        "\n",
        "newlist = [x for x in fruits if \"a\" in x] # take an object and do somthing based on conditions\n",
        "\n",
        "# means i want you to put x in this list for all the x's in fruits that have a in them\n",
        "# in a for loop the last line is do the action\n",
        "# in a comprehension you telling to do the action first based on parameters\n",
        "\n",
        "print(newlist)"
      ],
      "metadata": {
        "colab": {
          "base_uri": "https://localhost:8080/"
        },
        "id": "LLVLvp9Tn3am",
        "outputId": "5e09a73b-c8c3-42ba-be6c-925c21d91f14"
      },
      "execution_count": 51,
      "outputs": [
        {
          "output_type": "stream",
          "name": "stdout",
          "text": [
            "['apple', 'banana', 'mango']\n"
          ]
        }
      ]
    },
    {
      "cell_type": "code",
      "source": [
        "# Add conditions\n",
        "\n",
        "newlist = [x for x in fruits if x != \"apple\"]\n",
        "print(newlist)"
      ],
      "metadata": {
        "colab": {
          "base_uri": "https://localhost:8080/"
        },
        "id": "6mXrH8Hkn80J",
        "outputId": "4eaea791-37bc-486d-808e-c886cb103d1e"
      },
      "execution_count": 53,
      "outputs": [
        {
          "output_type": "stream",
          "name": "stdout",
          "text": [
            "['banana', 'cherry', 'kiwi', 'mango']\n"
          ]
        }
      ]
    },
    {
      "cell_type": "markdown",
      "source": [
        "The condition if x != \"apple\"  will return True for all elements other than \"apple\", making the new list contain all fruits except \"apple\".\n",
        "\n",
        "The condition is optional and can be omitted:"
      ],
      "metadata": {
        "id": "d4pspzDRoAL6"
      }
    },
    {
      "cell_type": "code",
      "source": [
        "newlist = [x for x in fruits] # put x in this list for all the x's in fruits\n",
        "print(newlist)"
      ],
      "metadata": {
        "colab": {
          "base_uri": "https://localhost:8080/"
        },
        "id": "wtJIe_O4oCIW",
        "outputId": "dfa4eba9-4be7-4c54-9a5f-db4f52834e05"
      },
      "execution_count": 57,
      "outputs": [
        {
          "output_type": "stream",
          "name": "stdout",
          "text": [
            "['apple', 'banana', 'cherry', 'kiwi', 'mango']\n"
          ]
        }
      ]
    },
    {
      "cell_type": "code",
      "source": [
        "newlist = [x*2 for x in range(10)]\n",
        "print(newlist)"
      ],
      "metadata": {
        "colab": {
          "base_uri": "https://localhost:8080/"
        },
        "id": "8dCh2cduoCiK",
        "outputId": "62dca76b-4e7b-436c-d42b-4d92eba68a5f"
      },
      "execution_count": 60,
      "outputs": [
        {
          "output_type": "stream",
          "name": "stdout",
          "text": [
            "[0, 2, 4, 6, 8, 10, 12, 14, 16, 18]\n"
          ]
        }
      ]
    },
    {
      "cell_type": "code",
      "source": [
        "newlist = [x.upper() for x in fruits]"
      ],
      "metadata": {
        "id": "jdAy0dt2oFdB"
      },
      "execution_count": 61,
      "outputs": []
    },
    {
      "cell_type": "code",
      "source": [
        "newlist = ['hello' for x in fruits]"
      ],
      "metadata": {
        "id": "76IcMNQ4oHKo"
      },
      "execution_count": null,
      "outputs": []
    },
    {
      "cell_type": "code",
      "source": [
        "newlist = [x if x != \"banana\" else \"orange\" for x in fruits]"
      ],
      "metadata": {
        "id": "443a9kRgoILB"
      },
      "execution_count": null,
      "outputs": []
    },
    {
      "cell_type": "markdown",
      "source": [
        "Dictionary Comprehensions:\n",
        "\n",
        "Extending the idea of list comprehensions, we can also create a dictionary using dictionary comprehensions. The basic structure of a dictionary comprehension looks like below."
      ],
      "metadata": {
        "id": "Bet3mM4eoaVm"
      }
    },
    {
      "cell_type": "markdown",
      "source": [
        "Example #1: Suppose we want to create an output dictionary which contains only the odd numbers that are present in the input list as keys and their cubes as values. Let’s see how to do this using for loops and dictionary comprehension.\n",
        "\n",
        "\n"
      ],
      "metadata": {
        "id": "6fXXIxGaokAQ"
      }
    },
    {
      "cell_type": "code",
      "source": [
        "\n",
        "input_list = [1, 2, 3, 4, 5, 6, 7]\n",
        "\n",
        "output_dict = {}\n",
        "\n",
        "# Using loop for constructing output dictionary\n",
        "for x in input_list:\n",
        "    if x % 2 != 0:\n",
        "        output_dict[x] = x**3\n",
        "\n",
        "# dictionaries are made of keys:values\n",
        "# if you say name_of_dictionary[key] = value\n",
        "\n",
        "print(\"Output Dictionary using for loop:\",\n",
        "                             output_dict )"
      ],
      "metadata": {
        "colab": {
          "base_uri": "https://localhost:8080/"
        },
        "id": "cYKQHwAroZ3G",
        "outputId": "b2b08972-cd58-41d8-c122-94082784792e"
      },
      "execution_count": 62,
      "outputs": [
        {
          "output_type": "stream",
          "name": "stdout",
          "text": [
            "Output Dictionary using for loop: {1: 1, 3: 27, 5: 125, 7: 343}\n"
          ]
        }
      ]
    },
    {
      "cell_type": "code",
      "source": [
        "# Using Dictionary comprehensions\n",
        "# for constructing output dictionary\n",
        "\n",
        "input_list = [1,2,3,4,5,6,7]\n",
        "\n",
        "# dictionary_comprehension = {key:value for key in iterable(the list here) if condition is met}\n",
        "# its confusing the below the key and value seem to have same name\n",
        "# but python knows that keys go on the left of : and that values go on the right\n",
        "dict_using_comp = {x:x ** 3 for x in input_list if x % 2 != 0}\n",
        "\n",
        "print(\"Output Dictionary using dictionary comprehensions:\",\n",
        "                                           dict_using_comp)"
      ],
      "metadata": {
        "colab": {
          "base_uri": "https://localhost:8080/"
        },
        "id": "ERXQtg9nonqm",
        "outputId": "00ebb520-e28d-437b-d93c-19478c7c88eb"
      },
      "execution_count": 63,
      "outputs": [
        {
          "output_type": "stream",
          "name": "stdout",
          "text": [
            "Output Dictionary using dictionary comprehensions: {1: 1, 3: 27, 5: 125, 7: 343}\n"
          ]
        }
      ]
    },
    {
      "cell_type": "markdown",
      "source": [
        "Example #2: Given two lists containing the names of states and their corresponding capitals, construct a dictionary which maps the states with their respective capitals. Let’s see how to do this using for loops and dictionary comprehension."
      ],
      "metadata": {
        "id": "DG3PeXLXoq76"
      }
    },
    {
      "cell_type": "code",
      "source": [
        "\n",
        "state = ['Gujarat', 'Maharashtra', 'Rajasthan']\n",
        "capital = ['Gandhinagar', 'Mumbai', 'Jaipur']\n",
        "\n",
        "output_dict = {}\n",
        "\n",
        "# Using loop for constructing output dictionary\n",
        "for (key, value) in zip(state, capital): #what does zip mean and zip is dict method that takes two lists and makes the first one keys and the second values\n",
        "    output_dict[key] = value\n",
        "\n",
        "print(\"Output Dictionary using for loop:\",\n",
        "                              output_dict)"
      ],
      "metadata": {
        "colab": {
          "base_uri": "https://localhost:8080/"
        },
        "id": "kXKT2SRqosCQ",
        "outputId": "1983c319-90f1-4fc3-9097-12a7c4138113"
      },
      "execution_count": 64,
      "outputs": [
        {
          "output_type": "stream",
          "name": "stdout",
          "text": [
            "Output Dictionary using for loop: {'Gujarat': 'Gandhinagar', 'Maharashtra': 'Mumbai', 'Rajasthan': 'Jaipur'}\n"
          ]
        }
      ]
    },
    {
      "cell_type": "code",
      "source": [
        "output_dict2 = {key:value for (key,value) in zip(state, capital)}\n",
        "print(\"Output Dictionary using for loop:\", output_dict2)"
      ],
      "metadata": {
        "colab": {
          "base_uri": "https://localhost:8080/"
        },
        "id": "AV0GVLzBJPaA",
        "outputId": "4e9ab475-a4f9-4a02-b32a-8700cc8c2479"
      },
      "execution_count": 65,
      "outputs": [
        {
          "output_type": "stream",
          "name": "stdout",
          "text": [
            "Output Dictionary using for loop: {'Gujarat': 'Gandhinagar', 'Maharashtra': 'Mumbai', 'Rajasthan': 'Jaipur'}\n"
          ]
        }
      ]
    },
    {
      "cell_type": "markdown",
      "source": [
        "Set Comprehensions:\n",
        "\n",
        "Set comprehensions are pretty similar to list comprehensions. The only difference between them is that set comprehensions use curly brackets { }. Let’s look at the following example to understand set comprehensions.\n",
        "\n",
        "Example #1 : Suppose we want to create an output set which contains only the even numbers that are present in the input list. Note that set will discard all the duplicate values. Let’s see how we can do this using for loops and set comprehension."
      ],
      "metadata": {
        "id": "qOEOnXlOouAN"
      }
    },
    {
      "cell_type": "code",
      "source": [
        "\n",
        "input_list = [1, 2, 3, 4, 4, 5, 6, 6, 6, 7, 7]\n",
        "\n",
        "output_set = set()\n",
        "\n",
        "# Using loop for constructing output set\n",
        "for var in input_list:\n",
        "    if var % 2 == 0:\n",
        "        output_set.add(var)\n",
        "\n",
        "print(\"Output Set using for loop:\", output_set)"
      ],
      "metadata": {
        "colab": {
          "base_uri": "https://localhost:8080/"
        },
        "id": "f55t1j-Nows6",
        "outputId": "796413b4-ea07-44ae-adc5-c37560fd0fd3"
      },
      "execution_count": 66,
      "outputs": [
        {
          "output_type": "stream",
          "name": "stdout",
          "text": [
            "Output Set using for loop: {2, 4, 6}\n"
          ]
        }
      ]
    },
    {
      "cell_type": "markdown",
      "source": [
        "Generator Comprehensions:\n",
        "\n",
        "Generator Comprehensions are very similar to list comprehensions. One difference between them is that generator comprehensions use circular brackets whereas list comprehensions use square brackets. The major difference between them is that generators don’t allocate memory for the whole list. Instead, they generate each value one by one which is why they are memory efficient. Let’s look at the following example to understand generator comprehension:"
      ],
      "metadata": {
        "id": "FhU60deJo15u"
      }
    },
    {
      "cell_type": "code",
      "source": [
        "\n",
        "input_list = [1, 2, 3, 4, 4, 5, 6, 7, 7]\n",
        "\n",
        "output_gen = (var for var in input_list if var % 2 == 0)\n",
        "\n",
        "print(\"Output values using generator comprehensions:\", end = ' ')\n",
        "\n",
        "for var in output_gen:\n",
        "    print(var, end = ' ')"
      ],
      "metadata": {
        "colab": {
          "base_uri": "https://localhost:8080/"
        },
        "id": "11KFXi0po3ne",
        "outputId": "f842e1e3-daf8-48dd-ee74-1f4519a07582"
      },
      "execution_count": 67,
      "outputs": [
        {
          "output_type": "stream",
          "name": "stdout",
          "text": [
            "Output values using generator comprehensions: 2 4 4 6 "
          ]
        }
      ]
    },
    {
      "cell_type": "markdown",
      "source": [
        "# **Python Try Except**"
      ],
      "metadata": {
        "id": "2COMccPKqMvo"
      }
    },
    {
      "cell_type": "markdown",
      "source": [
        "The try block lets you test a block of code for errors.\n",
        "\n",
        "The except block lets you handle the error.\n",
        "\n",
        "The else block lets you execute code when there is no error.\n",
        "\n",
        "The finally block lets you execute code, regardless of the result of the try- and except blocks."
      ],
      "metadata": {
        "id": "96q5nn8yqZvW"
      }
    },
    {
      "cell_type": "markdown",
      "source": [
        "Exception Handling\n",
        "When an error occurs, or exception as we call it, Python will normally stop and generate an error message.\n",
        "\n",
        "These exceptions can be handled using the try statement:\n",
        "\n"
      ],
      "metadata": {
        "id": "KdQwClCzqcTU"
      }
    },
    {
      "cell_type": "code",
      "source": [
        "x = b\n",
        "del x"
      ],
      "metadata": {
        "id": "nWqkaTPaRMA0"
      },
      "execution_count": 110,
      "outputs": []
    },
    {
      "cell_type": "code",
      "source": [
        "try:\n",
        "  print(x)\n",
        "except:\n",
        "  print(\"An exception occurred\")"
      ],
      "metadata": {
        "colab": {
          "base_uri": "https://localhost:8080/"
        },
        "id": "xo2GjPY3qZIr",
        "outputId": "905123c8-17d2-4d84-9471-0e9e509dcb23"
      },
      "execution_count": 106,
      "outputs": [
        {
          "output_type": "stream",
          "name": "stdout",
          "text": [
            "An exception occurred\n"
          ]
        }
      ]
    },
    {
      "cell_type": "code",
      "source": [
        "try:\n",
        "  print(p1)\n",
        "except NameError:\n",
        "  print(\"Variable x is not defined\")\n",
        "except:\n",
        "  print(\"Something else went wrong\")"
      ],
      "metadata": {
        "colab": {
          "base_uri": "https://localhost:8080/"
        },
        "id": "Q81E8UPqqfre",
        "outputId": "32af035f-1740-4f72-c9bd-ec0228248f71"
      },
      "execution_count": 108,
      "outputs": [
        {
          "output_type": "stream",
          "name": "stdout",
          "text": [
            "Variable x is not defined\n"
          ]
        }
      ]
    },
    {
      "cell_type": "markdown",
      "source": [
        "\n",
        "Else\n",
        "\n",
        "You can use the else keyword to define a block of code to be executed if no errors were raised:\n",
        "\n"
      ],
      "metadata": {
        "id": "f9dIcEs3qkML"
      }
    },
    {
      "cell_type": "code",
      "source": [
        "try:\n",
        "  print(\"Hello\")\n",
        "except:\n",
        "  print(\"Something went wrong\")\n",
        "else:\n",
        "  print(\"Nothing went wrong\")"
      ],
      "metadata": {
        "colab": {
          "base_uri": "https://localhost:8080/"
        },
        "id": "qIuM5BYIqkmz",
        "outputId": "8eb5ad3f-5f07-4402-f64e-c2229ea8d214"
      },
      "execution_count": 109,
      "outputs": [
        {
          "output_type": "stream",
          "name": "stdout",
          "text": [
            "Hello\n",
            "Nothing went wrong\n"
          ]
        }
      ]
    },
    {
      "cell_type": "markdown",
      "source": [
        "Finally\n",
        "\n",
        "The finally block, if specified, will be executed regardless if the try block raises an error or not."
      ],
      "metadata": {
        "id": "ls82CNC9qqGU"
      }
    },
    {
      "cell_type": "code",
      "source": [
        "try:\n",
        "  print(x)\n",
        "except:\n",
        "  print(\"Something went wrong\")\n",
        "finally:\n",
        "  print(\"The 'try except' is finished\")"
      ],
      "metadata": {
        "colab": {
          "base_uri": "https://localhost:8080/"
        },
        "id": "RzBDv-00qi6c",
        "outputId": "dee45d16-8238-4e55-90b3-f27d573217dd"
      },
      "execution_count": 112,
      "outputs": [
        {
          "output_type": "stream",
          "name": "stdout",
          "text": [
            "Something went wrong\n",
            "The 'try except' is finished\n"
          ]
        }
      ]
    },
    {
      "cell_type": "code",
      "source": [
        "try:\n",
        "  f = open(\"Example2.txt\")\n",
        "  try:\n",
        "    f.write(\"Lorum Ipsum\")\n",
        "  except:\n",
        "    print(\"Something went wrong when writing to the file\")\n",
        "  finally:\n",
        "    f.close()\n",
        "except:\n",
        "  print(\"Something went wrong when opening the file\")"
      ],
      "metadata": {
        "colab": {
          "base_uri": "https://localhost:8080/"
        },
        "id": "s7JOIlh9qu7Y",
        "outputId": "81cc4e54-23ce-43ee-b47f-ce008d468936"
      },
      "execution_count": 116,
      "outputs": [
        {
          "output_type": "stream",
          "name": "stdout",
          "text": [
            "Something went wrong when writing to the file\n"
          ]
        }
      ]
    },
    {
      "cell_type": "code",
      "source": [
        "x = -1\n",
        "\n",
        "if x < 0:\n",
        "  raise Exception(\"Sorry, no numbers below zero\")"
      ],
      "metadata": {
        "colab": {
          "base_uri": "https://localhost:8080/",
          "height": 200
        },
        "id": "om0q_R4Cq15X",
        "outputId": "567aa3bc-ba61-46f6-ff8c-a4648bc79fbc"
      },
      "execution_count": 117,
      "outputs": [
        {
          "output_type": "error",
          "ename": "Exception",
          "evalue": "ignored",
          "traceback": [
            "\u001b[0;31m---------------------------------------------------------------------------\u001b[0m",
            "\u001b[0;31mException\u001b[0m                                 Traceback (most recent call last)",
            "\u001b[0;32m<ipython-input-117-2edc57024fbc>\u001b[0m in \u001b[0;36m<cell line: 3>\u001b[0;34m()\u001b[0m\n\u001b[1;32m      2\u001b[0m \u001b[0;34m\u001b[0m\u001b[0m\n\u001b[1;32m      3\u001b[0m \u001b[0;32mif\u001b[0m \u001b[0mx\u001b[0m \u001b[0;34m<\u001b[0m \u001b[0;36m0\u001b[0m\u001b[0;34m:\u001b[0m\u001b[0;34m\u001b[0m\u001b[0;34m\u001b[0m\u001b[0m\n\u001b[0;32m----> 4\u001b[0;31m   \u001b[0;32mraise\u001b[0m \u001b[0mException\u001b[0m\u001b[0;34m(\u001b[0m\u001b[0;34m\"Sorry, no numbers below zero\"\u001b[0m\u001b[0;34m)\u001b[0m\u001b[0;34m\u001b[0m\u001b[0;34m\u001b[0m\u001b[0m\n\u001b[0m",
            "\u001b[0;31mException\u001b[0m: Sorry, no numbers below zero"
          ]
        }
      ]
    },
    {
      "cell_type": "code",
      "source": [
        "x = \"hello\"\n",
        "\n",
        "if not type(x) is int:\n",
        "  raise TypeError(\"Only integers are allowed\")"
      ],
      "metadata": {
        "colab": {
          "base_uri": "https://localhost:8080/",
          "height": 200
        },
        "id": "PTjDRvvUq27d",
        "outputId": "270371eb-67bb-49aa-afc2-6ab25b321a7f"
      },
      "execution_count": 118,
      "outputs": [
        {
          "output_type": "error",
          "ename": "TypeError",
          "evalue": "ignored",
          "traceback": [
            "\u001b[0;31m---------------------------------------------------------------------------\u001b[0m",
            "\u001b[0;31mTypeError\u001b[0m                                 Traceback (most recent call last)",
            "\u001b[0;32m<ipython-input-118-bc91768a6271>\u001b[0m in \u001b[0;36m<cell line: 3>\u001b[0;34m()\u001b[0m\n\u001b[1;32m      2\u001b[0m \u001b[0;34m\u001b[0m\u001b[0m\n\u001b[1;32m      3\u001b[0m \u001b[0;32mif\u001b[0m \u001b[0;32mnot\u001b[0m \u001b[0mtype\u001b[0m\u001b[0;34m(\u001b[0m\u001b[0mx\u001b[0m\u001b[0;34m)\u001b[0m \u001b[0;32mis\u001b[0m \u001b[0mint\u001b[0m\u001b[0;34m:\u001b[0m\u001b[0;34m\u001b[0m\u001b[0;34m\u001b[0m\u001b[0m\n\u001b[0;32m----> 4\u001b[0;31m   \u001b[0;32mraise\u001b[0m \u001b[0mTypeError\u001b[0m\u001b[0;34m(\u001b[0m\u001b[0;34m\"Only integers are allowed\"\u001b[0m\u001b[0;34m)\u001b[0m\u001b[0;34m\u001b[0m\u001b[0;34m\u001b[0m\u001b[0m\n\u001b[0m",
            "\u001b[0;31mTypeError\u001b[0m: Only integers are allowed"
          ]
        }
      ]
    },
    {
      "cell_type": "markdown",
      "source": [
        "# **File Handling Colab**\n",
        "\n",
        "\n"
      ],
      "metadata": {
        "id": "FVAAicPCqiU_"
      }
    },
    {
      "cell_type": "markdown",
      "metadata": {
        "id": "IFDcJI4g0uqF"
      },
      "source": [
        " We can open a file object using the method <code>write()</code> to save the text file to a list. To write the mode, argument must be set to write <b>w</b>. Let’s write a file <b>Example2.txt</b> with the line: <b>“This is line A”</b>"
      ]
    },
    {
      "cell_type": "code",
      "source": [
        "# Write line to file\n",
        "# command you use to open file is called open\n",
        "\n",
        "with open('Example2.txt', 'w') as writefile:\n",
        "    writefile.write(\"This is line A\")"
      ],
      "metadata": {
        "id": "cHIeVBrCrLpU"
      },
      "execution_count": 70,
      "outputs": []
    },
    {
      "cell_type": "code",
      "source": [
        "# Read file\n",
        "\n",
        "with open('Example2.txt', 'r') as testwritefile:\n",
        "    print(testwritefile.read())"
      ],
      "metadata": {
        "colab": {
          "base_uri": "https://localhost:8080/"
        },
        "id": "ZXXPObgVrPxr",
        "outputId": "9f15103a-6021-4dbb-bd81-d52d2f206f50"
      },
      "execution_count": 71,
      "outputs": [
        {
          "output_type": "stream",
          "name": "stdout",
          "text": [
            "This is line A\n"
          ]
        }
      ]
    },
    {
      "cell_type": "code",
      "source": [
        "# Write lines to file\n",
        "\n",
        "with open('Example2.txt', 'w') as writefile:\n",
        "    writefile.write(\"This is line A\\n\")\n",
        "    writefile.write(\"This is line B\\n\")\n",
        "\n",
        "with open('Example2.txt', 'r') as testwritefile:\n",
        "    print(testwritefile.read())"
      ],
      "metadata": {
        "colab": {
          "base_uri": "https://localhost:8080/"
        },
        "id": "A7m4dm9QrxN9",
        "outputId": "3962316a-2f24-4839-a421-060c7feff228"
      },
      "execution_count": 73,
      "outputs": [
        {
          "output_type": "stream",
          "name": "stdout",
          "text": [
            "This is line A\n",
            "This is line B\n",
            "\n"
          ]
        }
      ]
    },
    {
      "cell_type": "markdown",
      "source": [
        "The method .write() works similar to the method .readline(), except instead of reading a new line it writes a new line. The process is illustrated in the figure , the different colour coding of the grid represents a new line added to the file after each method call."
      ],
      "metadata": {
        "id": "LMiO2Qn8r2FA"
      }
    },
    {
      "cell_type": "markdown",
      "source": [
        "<img src=\"https://s3-api.us-geo.objectstorage.softlayer.net/cf-courses-data/CognitiveClass/PY0101EN/Chapter%204/Images/WriteLine.png\" width=\"500\" />"
      ],
      "metadata": {
        "id": "dnyEc2Tbr2j8"
      }
    },
    {
      "cell_type": "code",
      "source": [
        "# Check whether write to file\n",
        "\n",
        "with open('Example2.txt', 'r') as testwritefile:\n",
        "    print(testwritefile.read())"
      ],
      "metadata": {
        "colab": {
          "base_uri": "https://localhost:8080/"
        },
        "id": "TvH_ZK_kr7NI",
        "outputId": "5346a73b-86f7-4080-9194-9ff07bdeef20"
      },
      "execution_count": 74,
      "outputs": [
        {
          "output_type": "stream",
          "name": "stdout",
          "text": [
            "This is line A\n",
            "This is line B\n",
            "\n"
          ]
        }
      ]
    },
    {
      "cell_type": "code",
      "source": [
        "# Write a new line to text file\n",
        "\n",
        "with open('Example2.txt', 'a') as testwritefile:\n",
        "    testwritefile.write(\"This is line C\\n\")"
      ],
      "metadata": {
        "id": "j4lLHXwSr-Hs"
      },
      "execution_count": 75,
      "outputs": []
    },
    {
      "cell_type": "code",
      "source": [
        "# Verify if the new line is in the text file\n",
        "\n",
        "with open('Example2.txt', 'r') as testwritefile:\n",
        "    print(testwritefile.read())\n"
      ],
      "metadata": {
        "id": "J9V4JjyIsAwq"
      },
      "execution_count": null,
      "outputs": []
    },
    {
      "cell_type": "code",
      "source": [
        "# Sample list of text\n",
        "\n",
        "Lines = [\"This is line A\\n\", \"This is line B\\n\", \"This is line C\\n\"]\n",
        "Lines"
      ],
      "metadata": {
        "colab": {
          "base_uri": "https://localhost:8080/"
        },
        "id": "Opo7reFusEF-",
        "outputId": "b431b894-deff-4252-862a-760f1ab69b00"
      },
      "execution_count": 76,
      "outputs": [
        {
          "output_type": "execute_result",
          "data": {
            "text/plain": [
              "['This is line A\\n', 'This is line B\\n', 'This is line C\\n']"
            ]
          },
          "metadata": {},
          "execution_count": 76
        }
      ]
    },
    {
      "cell_type": "code",
      "source": [
        "# Write the strings in the list to text file\n",
        "\n",
        "with open('Example2.txt', 'w') as writefile:\n",
        "    for line in Lines:\n",
        "        print(line)\n",
        "        writefile.write(line)"
      ],
      "metadata": {
        "colab": {
          "base_uri": "https://localhost:8080/"
        },
        "id": "6rJpbpO9sFFu",
        "outputId": "857aec47-5588-48ab-f193-a496d735159f"
      },
      "execution_count": 77,
      "outputs": [
        {
          "output_type": "stream",
          "name": "stdout",
          "text": [
            "This is line A\n",
            "\n",
            "This is line B\n",
            "\n",
            "This is line C\n",
            "\n"
          ]
        }
      ]
    },
    {
      "cell_type": "code",
      "source": [
        "# Verify if writing to file is successfully executed\n",
        "\n",
        "with open('Example2.txt', 'r') as testwritefile:\n",
        "    print(testwritefile.read())"
      ],
      "metadata": {
        "id": "IlAKcB8YsJto"
      },
      "execution_count": null,
      "outputs": []
    },
    {
      "cell_type": "code",
      "source": [
        "# Append the line to the file\n",
        "\n",
        "with open('Example2.txt', 'a') as testwritefile:\n",
        "    testwritefile.write(\"This is line D\\n\")"
      ],
      "metadata": {
        "id": "Lm77aDRxsReY"
      },
      "execution_count": null,
      "outputs": []
    },
    {
      "cell_type": "code",
      "source": [
        "# Verify if the appending is successfully executed\n",
        "\n",
        "with open('Example2.txt', 'r') as testwritefile:\n",
        "    print(testwritefile.read())"
      ],
      "metadata": {
        "id": "QampjsxSsSyH"
      },
      "execution_count": null,
      "outputs": []
    },
    {
      "cell_type": "markdown",
      "source": [
        "Let's copy the file <b>Example2.txt</b> to the file <b>Example3.txt</b>:"
      ],
      "metadata": {
        "id": "zvpacG7usYhM"
      }
    },
    {
      "cell_type": "code",
      "source": [
        "# Copy file to another\n",
        "\n",
        "with open('Example2.txt','r') as readfile:\n",
        "    with open('Example3.txt','w') as writefile:\n",
        "          for line in readfile:\n",
        "                writefile.write(line)"
      ],
      "metadata": {
        "id": "JVsx-h3NsYFG"
      },
      "execution_count": null,
      "outputs": []
    },
    {
      "cell_type": "code",
      "source": [
        "# Verify if the copy is successfully executed\n",
        "\n",
        "with open('Example3.txt','r') as testwritefile:\n",
        "    print(testwritefile.read())"
      ],
      "metadata": {
        "id": "zTLFfezpsa2-"
      },
      "execution_count": null,
      "outputs": []
    },
    {
      "cell_type": "markdown",
      "source": [
        "# **Math Using Python**"
      ],
      "metadata": {
        "id": "A5A0AstDt9CF"
      }
    },
    {
      "cell_type": "code",
      "source": [
        "x = 2\n",
        "\n",
        "answer = 3*x**2 + 2*x - 5\n",
        "\n",
        "print(answer)\n",
        "\n",
        "\n",
        "\n",
        "\n",
        "# We also should see how we could check the values of x for 0 to 100\n",
        "# and store the store the answers in a list"
      ],
      "metadata": {
        "colab": {
          "base_uri": "https://localhost:8080/"
        },
        "id": "vsP1fd2duG0j",
        "outputId": "d991c5d1-81c9-4e25-a87e-b4e163c627c1"
      },
      "execution_count": 78,
      "outputs": [
        {
          "output_type": "stream",
          "name": "stdout",
          "text": [
            "11\n"
          ]
        }
      ]
    },
    {
      "cell_type": "code",
      "source": [
        "# 10 math problems\n",
        "\n",
        "def V(r):\n",
        "  return (4/3)*(3.14)*(r**3)\n",
        "\n",
        "list = [1, 2, 3, 4, 5, 6, 7, 8, 9, 10, 11]\n",
        "\n",
        "answer_list = [V(r) for r in list]\n",
        "answer_list"
      ],
      "metadata": {
        "colab": {
          "base_uri": "https://localhost:8080/"
        },
        "id": "Z8HDHFsvMJb8",
        "outputId": "418f843f-4eeb-42a3-e448-c6ec0ccf2cd6"
      },
      "execution_count": 89,
      "outputs": [
        {
          "output_type": "execute_result",
          "data": {
            "text/plain": [
              "[4.1866666666666665,\n",
              " 33.49333333333333,\n",
              " 113.03999999999999,\n",
              " 267.94666666666666,\n",
              " 523.3333333333334,\n",
              " 904.3199999999999,\n",
              " 1436.0266666666666,\n",
              " 2143.5733333333333,\n",
              " 3052.08,\n",
              " 4186.666666666667,\n",
              " 5572.453333333333]"
            ]
          },
          "metadata": {},
          "execution_count": 89
        }
      ]
    },
    {
      "cell_type": "markdown",
      "source": [
        "**Check Your Understanding!**\n",
        "\n",
        "1. Modify the code above to evaluate the expression for $x = 1$ (*answer: 0*)\n",
        "\n",
        "2. Modify the code to evaluate the expression for $x = -2$ (*answer: 3*)\n",
        "\n",
        "3. Modify the code to evaluate the expression $$1.5x^2 + 3x - 10$$ for $x = -4$ (*answer: 2.0*)\n",
        "\n",
        "4. Modify the code to evaluate the expression $$\\frac{3}{2}x^2 + 3x - 10$$ for $x = 1$ (*answer: -5.5*)\n",
        "\n",
        "5. Modify the code to evaluate the expression $$5xy - 4x + 2y$$ for $x = -2$ and $y = 3$ (*answer: -16*)"
      ],
      "metadata": {
        "id": "PUeVkCDLuVZq"
      }
    },
    {
      "cell_type": "markdown",
      "source": [
        "An **equation** is a mathematical statement that has equivalent expressions on either side of an equal sign.\n",
        "\n",
        "A **solution** to an equation is a value of a variable that makes the equation true.\n",
        "\n",
        "We can use the `==` operator in Python to verify if a value is a solution or not.\n",
        "\n",
        "In the code samples below, we will `print` the result of this operator to the output screen. The possible outputs are **`True`** (if the value is a solution) or **`False`** (if the value is not a solution)\n",
        "\n",
        "The following code will determine if the value $x=2$ is a solution to the equation $$3x+4 = 8x-6$$\n",
        "\n",
        "Try running the code cell below:"
      ],
      "metadata": {
        "id": "ewPLhGFauEp6"
      }
    },
    {
      "cell_type": "code",
      "source": [
        "x = 2\n",
        "\n",
        "print(3*x + 4 == 8*x - 6)"
      ],
      "metadata": {
        "colab": {
          "base_uri": "https://localhost:8080/"
        },
        "id": "3I3fT_jtubBT",
        "outputId": "1e35d3e8-5128-4447-bedd-1107193e9d99"
      },
      "execution_count": 83,
      "outputs": [
        {
          "output_type": "stream",
          "name": "stdout",
          "text": [
            "True\n"
          ]
        }
      ]
    },
    {
      "cell_type": "markdown",
      "source": [
        "The output of **`True`** means that $x=2$ is a solution to $3x+4=8x−6$\n",
        "\n",
        "**Check Your Understanding!**\n",
        "\n",
        "1. Modify the code above to test **if** $x = 3$ is a solution. What does the output mean?\n",
        "\n",
        "2. Modify the code to verify that $x = 3$ **is a solution** to $$-2x + 10 = x + 1$$\n",
        "\n",
        "3. Modify the code to verify that $x = 2$ **is NOT a solution** to $$3x - 2 = 2x + 5$$\n",
        "\n",
        "4. Modify the code to verify that $x = -2$ **is a solution** to $$10 + x = -3x + 2$$\n",
        "\n",
        "5. Modify the code to verify that $x = 8$ **is a solution** to $$20 - 4x = -12$$\n"
      ],
      "metadata": {
        "id": "dKUpYrqauc9e"
      }
    },
    {
      "cell_type": "code",
      "source": [
        "x = 6\n",
        "\n",
        "print(2*x - 4 > 7)"
      ],
      "metadata": {
        "id": "rEOalJbgukg2"
      },
      "execution_count": null,
      "outputs": []
    },
    {
      "cell_type": "code",
      "source": [
        "import math # the library math already stored for you\n",
        "# libraries are stores of functions\n",
        "\n",
        "print(\"Square root of 16 is:\")\n",
        "root = math.sqrt(16)          # Place the input to the sqrt function inside ()\n",
        "print(root)\n",
        "\n",
        "print()     # Add an empty line to the output for readability\n",
        "\n",
        "print(\"Area of a circle with radius 3 is: \")\n",
        "radius = 3\n",
        "area = math.pi * radius ** 2  # No brackets needed - pi does not require input\n",
        "print(area)\n",
        "\n",
        "print()     # Add an empty line to the output for readability\n",
        "\n",
        "print(\"Area rounded to 1 decimal place: \")\n",
        "rounded_area = round(area, 1) # round() is a built-in function - not part of the math library!\n",
        "                              # This will round the area to 1 decimal place\n",
        "print(rounded_area)"
      ],
      "metadata": {
        "id": "IY_7RIDKuqnb"
      },
      "execution_count": null,
      "outputs": []
    },
    {
      "cell_type": "code",
      "source": [
        "# can you build a class called circle that will do this for you\n"
      ],
      "metadata": {
        "id": "m8qH0mAvuryc"
      },
      "execution_count": null,
      "outputs": []
    },
    {
      "cell_type": "markdown",
      "source": [
        "The [NumPy Library](https://numpy.org/devdocs/user/index.html) is used for working with numerical lists, and other scientific computing purposes.\n",
        "\n",
        "It is often used in conjunction with other libraries, such as tabulate (table of values), matplotlib (graphs) and pandas (data analysis).\n",
        "\n",
        "A standard convention is to use the short form `np` when importing the NumPy library.\n",
        "\n",
        "Try running the code cell below."
      ],
      "metadata": {
        "id": "T3DWozEOuyvM"
      }
    },
    {
      "cell_type": "code",
      "source": [
        "import numpy as np    # Use 'np' to access the module instead of 'numpy'\n",
        "\n",
        "print(\"Here is a list of 11 numbers, evenly spaced from -10 to +10\")\n",
        "x_values = np.linspace(-10, 10, 20)\n",
        "print(x_values)\n",
        "\n",
        "print()     # Add an empty line to the output for readability\n",
        "\n",
        "print(\"Here is a new list where each element is 2 times the original (y = 2x)\")\n",
        "y_values = 2*answer_list\n",
        "print(y_values)\n",
        "\n",
        "print()     # Add an empty line to the output for readability\n",
        "\n",
        "print(\"Here are both lists, organized as x & y pairs\")\n",
        "pairs = np.transpose([x_values, y_values])\n",
        "print(pairs)"
      ],
      "metadata": {
        "colab": {
          "base_uri": "https://localhost:8080/"
        },
        "id": "A_GPaulNu098",
        "outputId": "ade410ab-d566-4d0f-9cf0-a964ab0dc710"
      },
      "execution_count": 87,
      "outputs": [
        {
          "output_type": "stream",
          "name": "stdout",
          "text": [
            "Here is a list of 11 numbers, evenly spaced from -10 to +10\n",
            "[-10.          -8.94736842  -7.89473684  -6.84210526  -5.78947368\n",
            "  -4.73684211  -3.68421053  -2.63157895  -1.57894737  -0.52631579\n",
            "   0.52631579   1.57894737   2.63157895   3.68421053   4.73684211\n",
            "   5.78947368   6.84210526   7.89473684   8.94736842  10.        ]\n",
            "\n",
            "Here is a new list where each element is 2 times the original (y = 2x)\n",
            "[4.1866666666666665, 33.49333333333333, 113.03999999999999, 267.94666666666666, 523.3333333333334, 904.3199999999999, 1436.0266666666666, 2143.5733333333333, 3052.08, 4.1866666666666665, 33.49333333333333, 113.03999999999999, 267.94666666666666, 523.3333333333334, 904.3199999999999, 1436.0266666666666, 2143.5733333333333, 3052.08]\n",
            "\n",
            "Here are both lists, organized as x & y pairs\n",
            "[array([-10.        ,  -8.94736842,  -7.89473684,  -6.84210526,\n",
            "         -5.78947368,  -4.73684211,  -3.68421053,  -2.63157895,\n",
            "         -1.57894737,  -0.52631579,   0.52631579,   1.57894737,\n",
            "          2.63157895,   3.68421053,   4.73684211,   5.78947368,\n",
            "          6.84210526,   7.89473684,   8.94736842,  10.        ])\n",
            " list([4.1866666666666665, 33.49333333333333, 113.03999999999999, 267.94666666666666, 523.3333333333334, 904.3199999999999, 1436.0266666666666, 2143.5733333333333, 3052.08, 4.1866666666666665, 33.49333333333333, 113.03999999999999, 267.94666666666666, 523.3333333333334, 904.3199999999999, 1436.0266666666666, 2143.5733333333333, 3052.08])]\n"
          ]
        },
        {
          "output_type": "stream",
          "name": "stderr",
          "text": [
            "/usr/local/lib/python3.10/dist-packages/numpy/core/fromnumeric.py:43: VisibleDeprecationWarning: Creating an ndarray from ragged nested sequences (which is a list-or-tuple of lists-or-tuples-or ndarrays with different lengths or shapes) is deprecated. If you meant to do this, you must specify 'dtype=object' when creating the ndarray.\n",
            "  result = getattr(asarray(obj), method)(*args, **kwds)\n"
          ]
        }
      ]
    },
    {
      "cell_type": "code",
      "source": [
        "import numpy as np    # Use 'np' to access the module instead of 'numpy'\n",
        "import matplotlib.pyplot as plt  # use 'plt' to acccess the sub-module\n",
        "\n",
        "# Create the x and y values (copied from the previous cell)\n",
        "x_values = np.linspace(-10, 10, 10)\n",
        "y_values = 2*x_values\n",
        "\n",
        "# Step 1: Create the graph area\n",
        "plt.figure(figsize=(8,8))        # (width = 8 units, length = 8 units)\n",
        "\n",
        "# Step 2: Create the scale for each axis (from -20 to +20, with 21 tick markings)\n",
        "scale = np.linspace(-20, 20, 21)\n",
        "plt.axes(xticks=scale, yticks=scale)\n",
        "\n",
        "# Step 3: Draw the axes\n",
        "plt.axhline(y=0, color='black')  # draw x-axis\n",
        "plt.axvline(x=0, color='black')  # draw y-axis\n",
        "\n",
        "# Step 4: Set the window limits\n",
        "plt.xlim(-20, 20)        # set the x-axis to start at -20 and end at +20\n",
        "plt.ylim(-20, 20)        # set the y-axis to start at -20 and end at +20\n",
        "\n",
        "# Step 5: Turn grid visibility on\n",
        "plt.grid()\n",
        "\n",
        "# Step 6: plot the data as a solid green line, with the points as large dots\n",
        "plt.plot(x_values,\n",
        "         y_values,\n",
        "         'o-g')           # format string: [marker][line][color]\n",
        "\n",
        "print(\"Graph of y=2x\")"
      ],
      "metadata": {
        "colab": {
          "base_uri": "https://localhost:8080/",
          "height": 685
        },
        "id": "iyNNoTt4u3gS",
        "outputId": "380176ab-71e8-4253-833b-bd49b1c20380"
      },
      "execution_count": 92,
      "outputs": [
        {
          "output_type": "stream",
          "name": "stdout",
          "text": [
            "Graph of y=2x\n"
          ]
        },
        {
          "output_type": "display_data",
          "data": {
            "text/plain": [
              "<Figure size 800x800 with 1 Axes>"
            ],
            "image/png": "[encoded data removed]"
          },
          "metadata": {}
        }
      ]
    },
    {
      "cell_type": "code",
      "source": [
        "import numpy as np    # Use 'np' to access the module instead of 'numpy'\n",
        "import matplotlib.pyplot as plt  # use 'plt' to acccess the sub-module\n",
        "import random\n",
        "\n",
        "# Step 1: Create the graph area (width = 5 units, length = 8 units)\n",
        "plt.figure(figsize=(5,8))\n",
        "\n",
        "# Step 2: Create the scale for each axis (you can create different scales for x & y)\n",
        "x_scale = np.linspace(0, 10, 11)\n",
        "y_scale = np.linspace(0, 20, 21)\n",
        "plt.axes(xticks=x_scale, yticks=y_scale)\n",
        "\n",
        "# Step 3: Draw the axes\n",
        "plt.axhline(y=0, color='black')  # draw x-axis\n",
        "plt.axvline(x=0, color='black')  # draw y-axis\n",
        "\n",
        "# Step 4: Set the window limits\n",
        "plt.xlim(0, 10)       # set the x-axis to start at 0 and end at 10\n",
        "plt.ylim(0, 20)       # set the y-axis to start at 0 and end at 20\n",
        "\n",
        "# Step 5: Turn grid visibility on\n",
        "plt.grid()\n",
        "\n",
        "# Step 6: plot individual points (choosing random points)\n",
        "x = random.randint(0, 10)     # pick a random integer between 0 and 10\n",
        "y = random.randint(0, 20)     # pick a random integer between 0 and 20\n",
        "plt.plot(x, y, 'sr')          # plot as a red square\n",
        "\n",
        "x = random.uniform(0, 10)     # pick a random number between 0 and 10\n",
        "y = random.uniform(0, 20)     # pick a random number between 0 and 20\n",
        "plt.plot(x, y, '*b')          # plot as a blue star\n",
        "\n",
        "# Let's also plot two lines - create the x-values (no negative numbers this time)\n",
        "x_values = np.linspace(0, 10, 11)\n",
        "\n",
        "# You can type the equation right into the function!\n",
        "plt.plot(x_values,\n",
        "         3*x_values + 1,  # y = 3x + 1\n",
        "         'x:g')           # plots a green dotted line with 'x' for the points\n",
        "\n",
        "plt.plot(x_values,\n",
        "         -5/2*x_values + 16,  # y = -5/2x + 16\n",
        "         'D--y')              # plots a yellow dashed line with diamonds for the points\n",
        "\n",
        "print(\"Random points and a couple of lines\")"
      ],
      "metadata": {
        "id": "yGmHm73-u6tc"
      },
      "execution_count": null,
      "outputs": []
    },
    {
      "cell_type": "markdown",
      "source": [
        "---\n",
        "**EXERCISE** For $a=15$ and $b=16$, use Python to find the values of the following:\n",
        "\n",
        "- $a\\times b$\n",
        "- $a + b$\n",
        "- $a - b$\n",
        "- $\\frac{a}{a + b}$\n",
        "- $a ^ b$\n",
        "\n",
        "---\n",
        "\n",
        "Functions\n",
        "\n",
        "Similar to variables we can create functions that can be easily reused."
      ],
      "metadata": {
        "id": "9cUWDcBsvM30"
      }
    },
    {
      "cell_type": "code",
      "source": [
        "def proportion(a, b):\n",
        "    \"\"\"\n",
        "    We can use triple \" to describe what our function does.\n",
        "\n",
        "    Here for example: we're creating a function to calculate\n",
        "    the proportion of a of a + b\n",
        "    \"\"\"\n",
        "    return a / (a + b)"
      ],
      "metadata": {
        "id": "nvp3SR9uvOjm"
      },
      "execution_count": null,
      "outputs": []
    },
    {
      "cell_type": "markdown",
      "source": [
        "Defining Symbols\n",
        "\n",
        "Now that we have SymPy imported, we can use it to create our symbols, which will be used to create equations. We can do that by calling the Symbol class and using a string to define the symbol. I usually use the same string as the Python variable I will be using to manipulate the symbol."
      ],
      "metadata": {
        "id": "vOagzBr6vdv6"
      }
    },
    {
      "cell_type": "code",
      "source": [
        "import sympy"
      ],
      "metadata": {
        "id": "O8APy2eh018H"
      },
      "execution_count": 93,
      "outputs": []
    },
    {
      "cell_type": "code",
      "source": [
        "# Defining Symbols\n",
        "x = sympy.Symbol(\"x\")\n",
        "y = sympy.Symbol(\"y\")"
      ],
      "metadata": {
        "id": "x2P2fTVIvf6w"
      },
      "execution_count": 94,
      "outputs": []
    },
    {
      "cell_type": "code",
      "source": [
        "x"
      ],
      "metadata": {
        "colab": {
          "base_uri": "https://localhost:8080/",
          "height": 39
        },
        "id": "Q1e3SGTXPor5",
        "outputId": "1440d602-ac3d-4345-c144-8ef66984e225"
      },
      "execution_count": 95,
      "outputs": [
        {
          "output_type": "execute_result",
          "data": {
            "text/plain": [
              "x"
            ],
            "text/latex": "$\\displaystyle x$"
          },
          "metadata": {},
          "execution_count": 95
        }
      ]
    },
    {
      "cell_type": "code",
      "source": [
        "# Creating Equation\n",
        "f = x * y + x ** 2 + sympy.sin(2 * y)"
      ],
      "metadata": {
        "id": "e-Exiwe2vjPl"
      },
      "execution_count": 96,
      "outputs": []
    },
    {
      "cell_type": "code",
      "source": [
        "# Differentiate wtr x\n",
        "df_dx = sympy.diff(f, x)\n",
        "print(\"The derivative of f(x,y) wrt x is: \" + str(df_dx))"
      ],
      "metadata": {
        "colab": {
          "base_uri": "https://localhost:8080/"
        },
        "id": "wWpzZcF8vlNg",
        "outputId": "a01e1196-c487-4449-d49a-c879a413b2a9"
      },
      "execution_count": 97,
      "outputs": [
        {
          "output_type": "stream",
          "name": "stdout",
          "text": [
            "The derivative of f(x,y) wrt x is: 2*x + y\n"
          ]
        }
      ]
    },
    {
      "cell_type": "markdown",
      "source": [
        "![image.png](data:image/png;base64,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)"
      ],
      "metadata": {
        "id": "OEv3XYy9vqst"
      }
    },
    {
      "cell_type": "code",
      "source": [
        "# Simplifying Equations\n",
        "g = (x * sympy.tan(x) + x ** 2 * sympy.sin(x))/sympy.sin(x)\n",
        "g = sympy.simplify(g)\n",
        "print(\"The simplified form of g(x) is: \" + str(g))"
      ],
      "metadata": {
        "id": "8_tOphdcvw7k"
      },
      "execution_count": null,
      "outputs": []
    },
    {
      "cell_type": "markdown",
      "source": [
        "![image.png](data:image/png;base64,iVBORw0KGgoAAAANSUhEUgAAAF0AAAAqCAYAAADRVle6AAAEPElEQVRoBe2aD5HyMBDFkYAGJKABCWhAAhqQgAYkoAEJaMAC3/w6eb3tXvo1yTUF7nIzmSbtZv+8fbvlAqtV+6uCwPl8fjJOp9Nzv9931yqG5lT6eDyec+pbUtfxeOwAdzbfH3hYcr1ePxJ4QN/tdgPf1+t1x3iXiPdafjLoHslQtTH2e9GyNey8XC7Pw+HwvN/vHVsBkHVOyygB/Xa79bat9/LH3ltyTl/fbrcD5s9mX0GjkDklBnisN5tNVrvIBZ2EAi62KGXsKzD8IHCtY1dIwQsvZdA+Yjr8PZEN3f7ZbGsbWAi6Z7fATzWWC7r6v+xaOz4J9tkSc2Ih8TmVXuSXPiqlbI6xjHJkeOZNsYzn7JHdWBL0bMkroFdrMQoEAyp33cu55jJdun0bI/kErOdLXEm6bW/YDC1mfrarxHmBrlargQHbelICLwFdnxJsGaf0c4Hiq2ps/b9qU+yecKH65k0+IMEyAtBcwbMOzqTg3cmUgB6U94EJAM+6ZCcKBUmKYkcFc94rucSbNE+AGCPDzGG91iVBl4LOPuzqSsVNOl9BAIDxgyss98yvYPLnKktBt5YJuOrHNWvsN8wpSVuiKTHx8tZ7BXlKOretpdhpMgaB8LLq7sBwqsU8btMaCAAyg7byET20BghNZ0OgIdAQaAg0BBoCDYGGQEOgIdAQaAg0BKYR0FEkZxYc/L/jv9H233zOWfB5OrLlJXSkC4YcwNnRH3MjZE/jwuletQOj3NNDYNMZuYPwLYE33xJBisHoD+H4xqfPQIgKxuubIBfoj5cYtkewKQoB3X/XydGtPVlM0bOEDL7G7AwqE+f7DATpsDG6OaYw514J6F5/7Wr09nLWMUKNJWKgF1b5nwygjD5FFegrOQBkndMy5gAd1nj/qFb5Z4OJ3bPPa8+J17bvqL0gMGg5CogNzEkKyljThmLZjSoPX1znyFs9SjKJtvdJOuByj8q17RJfB6VtN4Y5+mhVKSOJtUEvfiXJwyABKv+s0yGgnt1eVnvGrsiXgi6d6ABMVZj0yTfJcfVJsM9qz0mmJUDUHlmZApEEpL7AYgwiqQzPqiRGGK9jLRAd1rdYEoyKJaaDivxmELCnAGcTgKmUvylJuIENMTNBvBMBSM+Y0GJ6tiPoWx0EITmpduaUAyOqbFQnIHggbQIEkvq9yhqFtvWMGjAPckGXTe9fYHQfVPBpkISUfo5rsYr0lah1akWiE4Ka0L+mMAgBgNUgwMCk/hdb7AAw2CTQWU++mb9MdbNc0NlEoLLJmjksiiS8D1LJ8hXi3Km2JOGjVRZKAGcHQ6DjPEGTCOYkRuuSgEpABxkAxi5XWOeZjwy6kdH1Vb/wwhfww5dqWc1RXAp6jg1kSY6Ik7v318nTGmyrmCtA+qfePeikgnNb31y+/Bk94cXaxQvDqag/E/yrAgVkBm0l1u9f5Ze3+w+koqAg385CGgAAAABJRU5ErkJggg==)"
      ],
      "metadata": {
        "id": "VlMBjQg4vynS"
      }
    },
    {
      "cell_type": "code",
      "source": [
        "# Solving System of Equations\n",
        "sol = sympy.solve((x + y - 3, 2 * x + 3 * y - 7), (x, y))\n",
        "print(\"The solution of the system is (x, y): (\" + str(sol[x]) + \", \" + str(sol[y]) + \")\")"
      ],
      "metadata": {
        "id": "pdSh8ah3v03q"
      },
      "execution_count": null,
      "outputs": []
    }
  ]
}