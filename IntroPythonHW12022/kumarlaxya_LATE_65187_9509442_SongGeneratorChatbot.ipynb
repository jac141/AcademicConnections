{
  "nbformat": 4,
  "nbformat_minor": 0,
  "metadata": {
    "colab": {
      "name": "SongGeneratorChatbot.ipynb",
      "provenance": [],
      "collapsed_sections": []
    },
    "kernelspec": {
      "name": "python3",
      "display_name": "Python 3"
    },
    "language_info": {
      "name": "python"
    }
  },
  "cells": [
    {
      "cell_type": "code",
      "execution_count": null,
      "metadata": {
        "colab": {
          "base_uri": "https://localhost:8080/"
        },
        "id": "sFrowimjhCJW",
        "outputId": "6deb7c91-e90b-407b-8831-33b0430eae6b"
      },
      "outputs": [
        {
          "output_type": "stream",
          "name": "stdout",
          "text": [
            "What dog breed do you think is the cutest? golden retriever\n",
            "What activity do you find the most fun? lifting weights\n",
            "What is your dream? Getting into a college\n",
            "What do you love?my parents\n",
            "golden retriever is the cutest\n",
            "lifting weights is the most fun activity \n",
            "Getting into a college is my dream\n",
            "I love my parents the most\n"
          ]
        }
      ],
      "source": [
        "\n",
        "def songGenerator():\n",
        "  ready = (\"\"\"Welcome to the Song Generator!\n",
        "Let's start!\"\"\")\n",
        "\n",
        "dogBreed = input(\"What dog breed do you think is the cutest? \") \n",
        "\n",
        "funActivity = input(\"What activity do you find the most fun? \")\n",
        "\n",
        "dream = input(\"What is your dream? \")\n",
        "\n",
        "love = input(\"What do you love?\")\n",
        "\n",
        "print(dogBreed + \" is the cutest\")\n",
        "print(funActivity + \" is the most fun activity \")\n",
        "print(dream + \" is my dream\")\n",
        "print(\"I love \" + love + \" the most\")\n",
        "\n",
        "songGenerator()"
      ]
    }
  ]
}