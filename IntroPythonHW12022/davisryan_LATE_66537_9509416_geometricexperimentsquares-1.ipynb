import turtle, random
greeny = turtle
#colorstring[i]=["red", "green"]#,"green","blue","orange", "purple", "black"]
for x in range(1):
  for y in range(4):
    turtle.color("red")
    greeny.forward(20)
    greeny.left(90)
  greeny.penup() 
  greeny.forward(30)
  greeny.pendown()
turtle.color("orange")
#greeny.home()
for x in range(1):
  for y in range(4):
    greeny.forward(20)
    greeny.left(90)
  greeny.penup() 
  greeny.forward(30)
  greeny.pendown()
turtle.color("yellow")
for x in range(1):
  for y in range(4):
    greeny.forward(20)
    greeny.left(90)
  greeny.penup() 
  greeny.forward(30)
  greeny.pendown()
turtle.color("green")
for x in range(1):
  for y in range(4):
    greeny.forward(20)
    greeny.left(90)
  greeny.penup() 
  greeny.forward(30)
  greeny.pendown()
turtle.color("blue")
for x in range(1):
  for y in range(4):
    greeny.forward(20)
    greeny.left(90)
  greeny.penup() 
  greeny.forward(30)
  greeny.pendown()
turtle.color("purple")
for x in range(1):
  for y in range(4):
    greeny.forward(20)
    greeny.left(90)
  greeny.penup() 
  greeny.forward(30)
  greeny.pendown()
  


