{
  "cells": [
    {
      "cell_type": "markdown",
      "metadata": {
        "id": "KXbe87ydgCr0"
      },
      "source": [
        "# Welcome to Intro to Python's Exercises for Python Fundamentals\n",
        "\n",
        "While these are borrowed. I would have been doing a lot of these in class anyway, so it is nice to have these already typed up for you in a nice notebook. THIS is why I love using them so much. Solving these exercises will help make you a better programmer. Solve them in order, because each solution builds scaffolding, working code, and knowledge you can use on future problems. Read the directions carefully, and have fun!\n",
        "\n",
        "> \"Learning to program takes a little bit of study and a *lot* of practice\" - Luis Montealegre"
      ]
    },
    {
      "cell_type": "markdown",
      "metadata": {
        "id": "qhePOizMgCr7"
      },
      "source": [
        "## Getting Started\n",
        "1. You can access this on your canvas under Week 1 but I will also making it accessible in a public github.\n",
        "\n",
        "2. To save your work to your Google Drive, go to File then \"Save Copy in Drive\" or you can download it as .ipynb and use it through github/mybinder\n",
        "\n",
        "3. I worked some exercises online which I will delete here. But always make sure to save a fresh copy and name it what you need to in order to remember what it is. "
      ]
    },
    {
      "cell_type": "markdown",
      "metadata": {
        "id": "lWPyk0gogCr7"
      },
      "source": [
        "## Orientation\n",
        "- This code notebook is composed of cells. Each cell is either text or Python code. -- This is important as you can run a cell to execute code you can't run text. So in code cells be sure to always use correct syntax. \n",
        "- To run a cell of code, click the \"play button\" icon to the left of the cell or click on the cell and press \"Shift+Enter\" on your keyboard. This will execute the Python code contained in the cell. Executing a cell that defines a variable is important before executing or authoring a cell that depends on that previously created variable assignment. -- Later I will teach you to make a variable that exists in one cell accessible to all the cells. That way you can put variables all in one cell and use them for different things in different sections. \n",
        "- Each *assert* line is both an example and a test that tests for the presence and functionality of the instructed exercise. \n",
        "\n",
        "\n",
        "## Outline\n",
        "- Each cell starts with a problem statement that describes the exercise to complete.\n",
        "- Underneath each problem statement, learners will need to write code to produce an answer.\n",
        "- The **assert** lines test to see that your code solves the problem appropriately.\n",
        "- Do not alter or delete the assertion tests, since those are providing automated testing.\n",
        "- Many exercises will rely on previous solutions to be correctly completed\n",
        "- The `print(\"Exercise is complete\")` line will only run if your solution passes the assertion test(s)\n",
        "- Be sure to create programmatic solutions that will work for all inputs:\n",
        "- For example, calling the `is_even(2)` returns `True`, but your function should work for all even numbers, both positive and negative.\n",
        "\n",
        "\n",
        "## Guidance\n",
        "- Get Python to do the work for you. For example, if the exercise instructs you to reverse a list of numbers, your job is to find the method/function/operator that can do that thing for you.  \n",
        "- Save often by clicking the blue \"Save\" button.\n",
        "- If you need to clear the output or reset the notebook, go to \"Run\" then \"Restart Session\" to clear up any error messages.\n",
        "- You can clear a single output that is an error by clicking the X button in the top left next to that error. \n",
        "- Do not move or alter the lines of code that contain the `assert` statements. Those are what run your solution and test its actual output vs. expected outputs.\n",
        "- Seek to understand the problem before trying to solve it. Can you explain the problem to someone else in plain language?\n",
        "- Slow down and read any error messages you encounter. Error messages provide insight into how to resolve the error. When in doubt, put your exact error into a search engine and look for results that reference an identical or similar problem. -- This is super important\n",
        "- You can hide cells in this document. That you have already worked on so that it is less cluttered. The arrows next to bolded titles help you do this. \n",
        "\n",
        "## Get Python To Do The Work For You\n",
        "One of the main jobs of a programming language is to help people solve problems programatically, so we don't have to do so much by hand. For example, it's easy for a person to manually reverse the list `[1, 2, 3]`, but imagine reversing a list of a million things or sorting a list of even a hundred things. When we write programmatic solutions in code, we are providing instructions to the computer to do a task. Computers follow the letter of the code, not the intent, and do exactly what they are told to do. In this way, Python can reverse a list of 3 numbers or 100 numbers or ten million numbers with the same instructions. Repetition is a key idea behind programming languages.\n",
        "\n",
        "This means that your task with these exercises is to determine a sequence of steps that solve the problem and then find the Python code that will run those instructions. If you're sorting or reversing things by hand, you're not doing it right!\n",
        "\n",
        "## How To Discover How To Do Something in Python\n",
        "1. The first step is to make sure you know what the problem is asking.\n",
        "2. The second step is to determine list out theoretically what steps you would need to take. NOT the python steps. But, I need to reverse this, or capitalize this or delete this, then do that. It is also important to know what objects you are trying to manipulate. \n",
        "3. Use a search engine to look for code examples to identical or similar problems or for object operations. There are huge lists of operations that can be done on particular objects. \n",
        "\n",
        "One of the best ways to discover how to do things in Python is to use a search engine. Go to your favorite search engine and search for \"how to reverse a list in Python\" or \"how to sort a list in Python\". That's how both learners and professionals find answers and examples all the time. Search for what you want and add \"in Python\" and you'll get lots of code examples. Searching for \"How to sum a list of numbers in Python\" is a very effective way to discover exactly how to do that task."
      ]
    },
    {
      "cell_type": "markdown",
      "metadata": {
        "id": "nqJx2KGRgCr9"
      },
      "source": [
        "### Learning to Program and Code\n",
        "- You can make a new blank cell for Python code at any time in this document.\n",
        "- Programming is an intellectual activity of designing a solution. \"Coding\" means turning your programmatic solution into code w/ all the right syntax and parts of the programming language.\n",
        "- Expect to make mistakes and adopt the attitude that **the error message provides the information you need to proceed**. You will put lots of error messages into search engines to learn this craft!\n",
        "- Because computers have zero ability to read in between the lines or \"catch the drift\" or know what you mean, code only does what it is told to do.\n",
        "- Code doesn't do what you *want* it to do, code does what you've told it to do.\n",
        "- Before writing any code, figure out how you would solve the problem in spoken language to describe the sequence of steps in the solution.\n",
        "- Think about your solution in English (or your natural language). It's **critical** to solve the problem in your natural language before trying to get a programming language to do the work."
      ]
    },
    {
      "cell_type": "markdown",
      "metadata": {
        "id": "53YyyQPXgCr-"
      },
      "source": [
        "## Troubleshooting\n",
        "\n",
        "- \"Name Error\" means that you need to assign a variable or define the function as instructed.\n",
        "- \"Assertion Error\" means that your provided solution does not match the correct answer.\n",
        "- \"Type Error\" means that your data type provided is not accurate\n",
        "- If your kernel freezes, click on \"Run\" then select \"Restart Session\"\n",
        "- If you require additional troubleshooting assistance, click on \"Help\" and then \"Docs\" to access documentation for this platform.\n",
        "\n",
        "\n",
        "## What to do when you don't know what to do next\n",
        "- When the exercise asks you to reverse an list, the way forward is to search for \"How to reverse a list in Python\" in your favorite search engine.\n",
        "- When the exercise asks you to check if a number is even, the way forward is to search for \"how to check if a number is even in Python\".\n",
        "- When the exercise has you calculate the area of a circle, the way forward is to search for \"how to calculate the area of a circle in Python\" or \"How to get pi in Python\"."
      ]
    },
    {
      "cell_type": "code",
      "execution_count": null,
      "metadata": {
        "colab": {
          "base_uri": "https://localhost:8080/"
        },
        "id": "toCibUprgCr_",
        "outputId": "0b013de7-aa47-4616-c451-28eacf5d2bb8"
      },
      "outputs": [
        {
          "name": "stdout",
          "output_type": "stream",
          "text": [
            "Exercise 0 is correct\n"
          ]
        }
      ],
      "source": [
        "# Example problem:\n",
        "# Uncomment the line below and run this cell.\n",
        "# The hashtag \"#\" character in a line of Python code is the comment character. \n",
        "\n",
        "doing_python_right_now = True\n",
        "\n",
        "# The lines below will test your answer. If you see an error, then it means that your answer is incorrect or incomplete.\n",
        "assert doing_python_right_now == True, \"If you see a NameError, it means that the variable is not created and assigned a value. An 'Assertion Error' means that the value of the variable is incorrect.\" \n",
        "print(\"Exercise 0 is correct\") # This line will print if your solution passes the assertion above."
      ]
    },
    {
      "cell_type": "code",
      "execution_count": null,
      "metadata": {
        "colab": {
          "base_uri": "https://localhost:8080/"
        },
        "id": "K-oKAPgdgCsA",
        "outputId": "90b97ffe-0420-4a60-b5d5-2fec22a31e5a"
      },
      "outputs": [
        {
          "name": "stdout",
          "output_type": "stream",
          "text": [
            "Exercise 1 is correct.\n"
          ]
        }
      ],
      "source": [
        "# Exercise 1\n",
        "# On the line below, create a variable named on_mars_right_now and assign it the boolean value of False\n",
        "on_mars_right_now = False\n",
        "\n",
        "assert on_mars_right_now == False, \"If you see a Name Error, be sure to create the variable and assign it a value.\"\n",
        "print(\"Exercise 1 is correct.\")"
      ]
    },
    {
      "cell_type": "code",
      "execution_count": null,
      "metadata": {
        "colab": {
          "base_uri": "https://localhost:8080/"
        },
        "id": "E7X42EaOgCsB",
        "outputId": "4d66c2ee-72f5-413d-da9d-b3d28a59f0dc"
      },
      "outputs": [
        {
          "name": "stdout",
          "output_type": "stream",
          "text": [
            "Exercise 2 is correct.\n"
          ]
        }
      ],
      "source": [
        "# Exercise 2\n",
        "# Create a variable named fruits and assign it a list of fruits containing the following fruit names as strings: \n",
        "# mango, banana, guava, kiwi, and strawberry.\n",
        "\n",
        "fruits = [\"mango\", \"banana\", \"guava\", \"kiwi\", \"strawberry\"]\n",
        "\n",
        "assert fruits == [\"mango\", \"banana\", \"guava\", \"kiwi\", \"strawberry\"], \"If you see an Assert Error, ensure the variable contains all the strings in the provided order\"\n",
        "print(\"Exercise 2 is correct.\")"
      ]
    },
    {
      "cell_type": "code",
      "execution_count": null,
      "metadata": {
        "colab": {
          "base_uri": "https://localhost:8080/"
        },
        "id": "5N7DQHdNgCsD",
        "outputId": "7c074625-5d7c-4fac-f4a0-e3c0fa83a731"
      },
      "outputs": [
        {
          "name": "stdout",
          "output_type": "stream",
          "text": [
            "Exercise 3 is correct.\n"
          ]
        }
      ],
      "source": [
        "# Exercise 3\n",
        "# Create a variable named vegetables and assign it a list of fruits containing the following vegetable names as strings: \n",
        "# eggplant, broccoli, carrot, cauliflower, and zucchini\n",
        "vegetables = [\"eggplant\", \"broccoli\", \"carrot\", \"cauliflower\", \"zucchini\"]\n",
        "\n",
        "assert vegetables == [\"eggplant\", \"broccoli\", \"carrot\", \"cauliflower\", \"zucchini\"], \"Ensure the variable contains all the strings in the provided order\"\n",
        "print(\"Exercise 3 is correct.\")"
      ]
    },
    {
      "cell_type": "code",
      "execution_count": null,
      "metadata": {
        "id": "SoEdSbfJgCsE"
      },
      "outputs": [],
      "source": [
        "# Exercise 4\n",
        "# Create a variable named numbers and assign it a list of numbers, 1, 2, 3, 4, 5, 6, 7, 8, 9, 10\n",
        "\n",
        "assert numbers == [1, 2, 3, 4, 5, 6, 7, 8, 9, 10], \"Ensure the variable contains the numbers 1-10 in order.\"\n",
        "print(\"Exercise 4 is correct.\")"
      ]
    },
    {
      "cell_type": "markdown",
      "metadata": {
        "id": "nwyGYOVRgCsE"
      },
      "source": [
        "## List Operations\n",
        "**Hint** Recommend finding and using built-in Python functionality whenever possible. \n",
        "\n",
        "NOTE ROM\n"
      ]
    },
    {
      "cell_type": "code",
      "execution_count": null,
      "metadata": {
        "colab": {
          "base_uri": "https://localhost:8080/"
        },
        "id": "57aYOXg7gCsF",
        "outputId": "be6e2adb-a7ab-4600-edc8-4ba7f9addf07"
      },
      "outputs": [
        {
          "name": "stdout",
          "output_type": "stream",
          "text": [
            "Exercise 5 is correct\n"
          ]
        }
      ],
      "source": [
        "# Exercise 5\n",
        "# Given the following assigment of the list of fruits, add \"tomato\" to the end of the list. \n",
        "fruits = [\"mango\", \"banana\", \"guava\", \"kiwi\", \"strawberry\"]\n",
        "fruits.append(\"tomato\")\n",
        "\n",
        "assert fruits == [\"mango\", \"banana\", \"guava\", \"kiwi\", \"strawberry\", \"tomato\"], \"Ensure the variable contains all the strings in the right order\"\n",
        "print(\"Exercise 5 is correct\")"
      ]
    },
    {
      "cell_type": "code",
      "execution_count": null,
      "metadata": {
        "colab": {
          "base_uri": "https://localhost:8080/"
        },
        "id": "igVbvxBdgCsG",
        "outputId": "8c95ab9a-812d-45cb-ebae-dcc7e300c41e"
      },
      "outputs": [
        {
          "name": "stdout",
          "output_type": "stream",
          "text": [
            "Exercise 6 is correct\n"
          ]
        }
      ],
      "source": [
        "# Exercise 6\n",
        "# Given the following assignment of the vegetables list, add \"tomato\" to the end of the list.\n",
        "vegetables = [\"eggplant\", \"broccoli\", \"carrot\", \"cauliflower\", \"zucchini\"]\n",
        "vegetables.append(\"tomato\")\n",
        "\n",
        "\n",
        "assert vegetables == [\"eggplant\", \"broccoli\", \"carrot\", \"cauliflower\", \"zucchini\", \"tomato\"], \"Ensure the variable contains all the strings in the provided order\"\n",
        "print(\"Exercise 6 is correct\")"
      ]
    },
    {
      "cell_type": "code",
      "execution_count": null,
      "metadata": {
        "colab": {
          "base_uri": "https://localhost:8080/"
        },
        "id": "JEYfX1iWgCsG",
        "outputId": "91b21e3d-7b24-4d14-8c26-59845d60b5e4"
      },
      "outputs": [
        {
          "output_type": "stream",
          "name": "stdout",
          "text": [
            "Exercise 7 is correct.\n"
          ]
        }
      ],
      "source": [
        "# Exercise 7\n",
        "# Given the list of numbers defined below, reverse the list of numbers that you created above. \n",
        "numbers = [1, 2 ,3, 4, 5, 6, 7, 8, 9, 10]\n",
        "numbers.reverse()\n",
        "\n",
        "\n",
        "assert numbers == [10, 9, 8, 7, 6, 5, 4, 3, 2, 1], \"Assert Error means that the answer is incorrect.\" \n",
        "print(\"Exercise 7 is correct.\")"
      ]
    },
    {
      "cell_type": "code",
      "execution_count": null,
      "metadata": {
        "colab": {
          "base_uri": "https://localhost:8080/"
        },
        "id": "M4-WJrRYgCsH",
        "outputId": "60ef4758-3168-4748-e863-845a3382d17f"
      },
      "outputs": [
        {
          "output_type": "stream",
          "name": "stdout",
          "text": [
            "Exercise 8 is correct.\n"
          ]
        }
      ],
      "source": [
        "# Exercise 8\n",
        "# Sort the vegetables in alphabetical order\n",
        "vegetables = ['zucchini', 'tomato', 'eggplant', 'cauliflower', 'carrot', 'broccoli']\n",
        "vegetables.sort()\n",
        "\n",
        "\n",
        "assert vegetables == ['broccoli', 'carrot', 'cauliflower', 'eggplant', 'tomato', 'zucchini']\n",
        "print(\"Exercise 8 is correct.\")"
      ]
    },
    {
      "cell_type": "code",
      "execution_count": null,
      "metadata": {
        "colab": {
          "base_uri": "https://localhost:8080/"
        },
        "id": "m6NtHZWUgCsI",
        "outputId": "dc5c2289-125d-45e9-a2e5-cfd1c43e74c1"
      },
      "outputs": [
        {
          "output_type": "stream",
          "name": "stdout",
          "text": [
            "Exercise 9 is correct.\n"
          ]
        }
      ],
      "source": [
        "# Exercise 9\n",
        "# Write the code necessary to sort the fruits in reverse alphabetical order\n",
        "fruits = ['tomato', 'strawberry', 'mango', 'kiwi', 'guava', 'banana']\n",
        "fruits.sort()\n",
        "fruits.reverse()\n",
        "\n",
        "assert fruits == ['tomato', 'strawberry', 'mango', 'kiwi', 'guava', 'banana']\n",
        "print(\"Exercise 9 is correct.\")"
      ]
    },
    {
      "cell_type": "code",
      "execution_count": null,
      "metadata": {
        "colab": {
          "base_uri": "https://localhost:8080/"
        },
        "id": "rDW88m1AgCsJ",
        "outputId": "259a23e7-4376-49eb-ec37-a742cbb58600"
      },
      "outputs": [
        {
          "name": "stdout",
          "output_type": "stream",
          "text": [
            "Exercise 10 is correct\n"
          ]
        }
      ],
      "source": [
        "# Exercise 10\n",
        "# Write the code necessary to produce a single list that holds all fruits then all vegetables in the order as they were sorted above.\n",
        "fruits_and_veggies = ['tomato', 'strawberry', 'mango', 'kiwi', 'guava', 'banana', 'broccoli', 'carrot', 'cauliflower', 'eggplant', 'tomato', 'zucchini']\n",
        "\n",
        "\n",
        "assert fruits_and_veggies == ['tomato', 'strawberry', 'mango', 'kiwi', 'guava', 'banana', 'broccoli', 'carrot', 'cauliflower', 'eggplant', 'tomato', 'zucchini']\n",
        "print(\"Exercise 10 is correct\")"
      ]
    },
    {
      "cell_type": "markdown",
      "metadata": {
        "id": "mdFcPXetgCsJ"
      },
      "source": [
        "## Basic Functions\n",
        "![](http://)**Hint** Be sure to `return` values from your function definitions. The assert statements will call your function(s) for you."
      ]
    },
    {
      "cell_type": "code",
      "execution_count": null,
      "metadata": {
        "colab": {
          "base_uri": "https://localhost:8080/"
        },
        "id": "-fohX1yNgCsK",
        "outputId": "e21ec745-fc35-4575-ad98-c819457ba793"
      },
      "outputs": [
        {
          "name": "stdout",
          "output_type": "stream",
          "text": [
            "We now have some random numbers available for future exercises.\n",
            "The random positive even number is 32\n",
            "The random positive odd nubmer is 83\n",
            "The random negative even number -18\n",
            "The random negative odd number -101\n"
          ]
        }
      ],
      "source": [
        "# Run this cell in order to generate some numbers to use in our functions after this.\n",
        "\n",
        "# This next line is called a library. We import libraries because they are groups of functions \n",
        "# that others have written that we can use, that we are entirely too lazy to write ourselves. \n",
        "import random \n",
        "    \n",
        "# Be sure to look up what any new functions like .randrange() do and what they require to functions\n",
        "# It looks like .randrange() takes three arguments, most likely integers ... it is important to know this\n",
        "# and potentially what order they are in. \n",
        "\n",
        "positive_even_number = random.randrange(2, 101, 2)\n",
        "negative_even_number = random.randrange(-100, -1, 2)\n",
        "\n",
        "positive_odd_number = random.randrange(1, 100, 2)\n",
        "negative_odd_number = random.randrange(-101, 0, 2)\n",
        "print(\"We now have some random numbers available for future exercises.\")\n",
        "print(\"The random positive even number is\", positive_even_number)\n",
        "print(\"The random positive odd nubmer is\", positive_odd_number)\n",
        "print(\"The random negative even number\", negative_even_number)\n",
        "print(\"The random negative odd number\", negative_odd_number)\n"
      ]
    },
    {
      "cell_type": "code",
      "execution_count": null,
      "metadata": {
        "colab": {
          "base_uri": "https://localhost:8080/"
        },
        "id": "TL2yVrMmgCsK",
        "outputId": "98eb21f5-42cc-4966-bae0-135ea0382972"
      },
      "outputs": [
        {
          "name": "stdout",
          "output_type": "stream",
          "text": [
            "The example function definition ran appropriately\n"
          ]
        }
      ],
      "source": [
        "# Example function defintion:\n",
        "# Write a say_hello function that adds the string \"Hello, \" to the beginning and \"!\" to the end of any given input.\n",
        "\n",
        "# I explained this slightly before. The def function allows you to create your own functions and methods\n",
        "# You much use a colon after stipulating the function name, and supplying it an argument\n",
        "# The next line will automatically be indented. \n",
        "# This indent is IMPORTANT. As anything with the same indentation has the same level of priority\n",
        "# But in this example what we name the function and creating it is slightly more important that what is inside\n",
        "# However if you have multiple steps to a function that you want to do in order. Add these then change the order\n",
        "# they would need the same level of indentation. \n",
        "\n",
        "\n",
        "def say_hello(name):\n",
        "    return \"Hello, \" + name + \"!\"\n",
        "\n",
        "assert say_hello(\"Jane\") == \"Hello, Jane!\", \"Double check the inputs and data types\"\n",
        "assert say_hello(\"Pat\") == \"Hello, Pat!\", \"Double check the inputs and data types\"\n",
        "assert say_hello(\"Astrud\") == \"Hello, Astrud!\", \"Double check the inputs and data types\"\n",
        "print(\"The example function definition ran appropriately\")"
      ]
    },
    {
      "cell_type": "code",
      "execution_count": null,
      "metadata": {
        "colab": {
          "base_uri": "https://localhost:8080/"
        },
        "id": "T36pEpxVgCsL",
        "outputId": "5cefa009-e713-46ed-eec6-bbe4829cec20"
      },
      "outputs": [
        {
          "name": "stdout",
          "output_type": "stream",
          "text": [
            "The plus_two assertions executed appropriately... The second function definition example executed appropriately.\n"
          ]
        }
      ],
      "source": [
        "# Another example function definition:\n",
        "# This plus_two function takes in a variable and adds 2 to it.\n",
        "\n",
        "# Above I didn't discuss the return function. \n",
        "# The return function is used in concert with the def function to output a result to your REPL. \n",
        "# You will learn that printing and return operate very differently.\n",
        "# And Actually that will be part of your homework. \n",
        "\n",
        "\n",
        "def plus_two(number):\n",
        "    return number + 2\n",
        "\n",
        "assert plus_two(3) == 5\n",
        "assert plus_two(0) == 2\n",
        "assert plus_two(-2) == 0\n",
        "print(\"The plus_two assertions executed appropriately... The second function definition example executed appropriately.\")"
      ]
    },
    {
      "cell_type": "code",
      "execution_count": null,
      "metadata": {
        "colab": {
          "base_uri": "https://localhost:8080/"
        },
        "id": "5pVBwp3CgCsL",
        "outputId": "d79444c0-5a7e-43ec-b266-d4ece5678d2d"
      },
      "outputs": [
        {
          "name": "stdout",
          "output_type": "stream",
          "text": [
            "Exercise 11 is correct.\n"
          ]
        }
      ],
      "source": [
        "# Exercise 11\n",
        "positive_even_number = 8\n",
        "negative_odd_number = -5\n",
        "# Write a function definition for a function named add_one that takes in a number and returns that number plus one.\n",
        "def add_one(number):\n",
        "  return number + 1\n",
        "\n",
        "assert add_one(2) == 3, \"Ensure that the function is defined, named properly, and returns the correct value\"\n",
        "assert add_one(0) == 1, \"Zero plus one is one.\"\n",
        "assert add_one(positive_even_number) == positive_even_number + 1, \"Ensure that the function is defined, named properly, and returns the correct value\"\n",
        "assert add_one(negative_odd_number) == negative_odd_number + 1, \"Ensure that the function is defined, named properly, and returns the correct value\"\n",
        "print(\"Exercise 11 is correct.\") "
      ]
    },
    {
      "cell_type": "code",
      "execution_count": null,
      "metadata": {
        "colab": {
          "base_uri": "https://localhost:8080/"
        },
        "id": "1_ZjCi1ggCsM",
        "outputId": "3129edec-7675-4a64-847e-e88ea9ba629f"
      },
      "outputs": [
        {
          "name": "stdout",
          "output_type": "stream",
          "text": [
            "Exercise 12 is correct.\n"
          ]
        }
      ],
      "source": [
        "# Exercise 12\n",
        "positive_odd_number = 3\n",
        "positive_even_number = 6\n",
        "negative_odd_number = -7\n",
        "negative_even_number = -4\n",
        "# Write a function definition named is_positive that takes in a number and returns True or False if that number is positive.\n",
        "\n",
        "def is_positive(number):\n",
        "  if number > 0:\n",
        "    return True\n",
        "  else:\n",
        "    return False\n",
        "\n",
        "# While this asks you to make a function named is_positive. If you imported the math library you wouldn't have to make it yourself. \n",
        "# Though here you should\n",
        "\n",
        "assert is_positive(positive_odd_number) == True, \"Ensure that the function is defined, named properly, and returns the correct value\"\n",
        "assert is_positive(positive_even_number) == True, \"Ensure that the function is defined, named properly, and returns the correct value\"\n",
        "assert is_positive(negative_odd_number) == False, \"Ensure that the function is defined, named properly, and returns the correct value\"\n",
        "assert is_positive(negative_even_number) == False, \"Ensure that the function is defined, named properly, and returns the correct value\"\n",
        "assert is_positive(0) == False, \"Zero is not a positive number.\"\n",
        "print(\"Exercise 12 is correct.\")"
      ]
    },
    {
      "cell_type": "code",
      "execution_count": null,
      "metadata": {
        "colab": {
          "base_uri": "https://localhost:8080/"
        },
        "id": "nwzpNUb8gCsM",
        "outputId": "b7c5f86f-fab5-4bc2-8740-2403ce6fec52"
      },
      "outputs": [
        {
          "name": "stdout",
          "output_type": "stream",
          "text": [
            "Exercise 13 is correct.\n"
          ]
        }
      ],
      "source": [
        "# Exercise 13\n",
        "positive_even_number = 4\n",
        "positive_odd_number = 9\n",
        "negative_even_number = -6\n",
        "negative_odd_number = -3\n",
        "# Write a function definition named is_negative that takes in a number and returns True or False if that number is negative.\n",
        "def is_negative(number):\n",
        "  if number < 0:\n",
        "    return True\n",
        "  else:\n",
        "    return False\n",
        "\n",
        "assert is_negative(positive_odd_number) == False, \"Ensure that the function is defined, named properly, and returns the correct value\"\n",
        "assert is_negative(positive_even_number) == False, \"Ensure that the function is defined, named properly, and returns the correct value\"\n",
        "assert is_negative(negative_odd_number) == True, \"Ensure that the function is defined, named properly, and returns the correct value\"\n",
        "assert is_negative(negative_even_number) == True, \"Ensure that the function is defined, named properly, and returns the correct value\"\n",
        "assert is_negative(0) == False, \"Zero is not a negative number.\"\n",
        "print(\"Exercise 13 is correct.\")"
      ]
    },
    {
      "cell_type": "code",
      "execution_count": null,
      "metadata": {
        "colab": {
          "base_uri": "https://localhost:8080/"
        },
        "id": "lBH5rSwVgCsN",
        "outputId": "1834b1a5-d51c-4e98-808c-f91531edf3ad"
      },
      "outputs": [
        {
          "name": "stdout",
          "output_type": "stream",
          "text": [
            "Exercise 14 is correct.\n"
          ]
        }
      ],
      "source": [
        "# Exercise 14\n",
        "# Write a function definition named is_odd that takes in a number and returns True or False if that number is odd.\n",
        "positive_odd_number = 5\n",
        "positive_even_number = 8\n",
        "negative_odd_number = -5\n",
        "negative_even_number = -4\n",
        "def is_odd(number):\n",
        "  if number % 2 == 0:\n",
        "    return False\n",
        "  else:\n",
        "    return True\n",
        "\n",
        "assert is_odd(positive_odd_number) == True, \"Ensure that the function is defined, named properly, and returns the correct value\"\n",
        "assert is_odd(positive_even_number) == False, \"Ensure that the function is defined, named properly, and returns the correct value\"\n",
        "assert is_odd(negative_odd_number) == True, \"Ensure that the function is defined, named properly, and returns the correct value\"\n",
        "assert is_odd(negative_even_number) == False, \"Ensure that the function is defined, named properly, and returns the correct value\"\n",
        "print(\"Exercise 14 is correct.\")"
      ]
    },
    {
      "cell_type": "code",
      "execution_count": null,
      "metadata": {
        "colab": {
          "base_uri": "https://localhost:8080/"
        },
        "id": "7CmRcL2AgCsN",
        "outputId": "4ff6852a-869b-49a2-c702-441d36edbcc3"
      },
      "outputs": [
        {
          "name": "stdout",
          "output_type": "stream",
          "text": [
            "Exercise 15 is correct.\n"
          ]
        }
      ],
      "source": [
        "# Exercise 15\n",
        "# Write a function definition named is_even that takes in a number and returns True or False if that number is even.\n",
        "\n",
        "def is_even(number):\n",
        "  if number % 2 == 0:\n",
        "    return True\n",
        "  else:\n",
        "    return False\n",
        "\n",
        "assert is_even(2) == True, \"Ensure that the function is defined, named properly, and returns the correct value\"\n",
        "assert is_even(positive_odd_number) == False, \"Ensure that the function is defined, named properly, and returns the correct value\"\n",
        "assert is_even(positive_even_number) == True, \"Ensure that the function is defined, named properly, and returns the correct value\"\n",
        "assert is_even(negative_odd_number) == False, \"Ensure that the function is defined, named properly, and returns the correct value\"\n",
        "assert is_even(negative_even_number) == True, \"Ensure that the function is defined, named properly, and returns the correct value\"\n",
        "print(\"Exercise 15 is correct.\")"
      ]
    },
    {
      "cell_type": "code",
      "execution_count": null,
      "metadata": {
        "colab": {
          "base_uri": "https://localhost:8080/"
        },
        "id": "wQXuHLfXgCsN",
        "outputId": "7945c7ca-93b6-4ec2-c736-ce31ce2bd9a7"
      },
      "outputs": [
        {
          "name": "stdout",
          "output_type": "stream",
          "text": [
            "Exercise 16 is correct.\n"
          ]
        }
      ],
      "source": [
        "# Exercise 16\n",
        "# Write a function definition named identity that takes in any argument and returns that argument's value. Don't overthink this one!\n",
        "def identity(identity):\n",
        "  return identity\n",
        "# You can either explore or work with classmates to find a code that makes all variables accessible in all cells or you can copy\n",
        "# them into this cell. \n",
        "# Really don't overthink this one\n",
        "fruits = \"fruits\"\n",
        "vegetables = \"vegetables\"\n",
        "positive_odd_number = \"positive_odd_number\"\n",
        "positive_even_number = \"positive_even_number\"\n",
        "negative_odd_number = \"negative_odd_number\"\n",
        "negative_even_number = \"negative_even_number\"\n",
        "\n",
        "\n",
        "\n",
        "assert identity(fruits) == fruits, \"Ensure that the function is defined, named properly, and returns the correct value\"\n",
        "assert identity(vegetables) == vegetables, \"Ensure that the function is defined, named properly, and returns the correct value\"\n",
        "assert identity(positive_odd_number) == positive_odd_number, \"Ensure that the function is defined, named properly, and returns the correct value\"\n",
        "assert identity(positive_even_number) == positive_even_number, \"Ensure that the function is defined, named properly, and returns the correct value\"\n",
        "assert identity(negative_odd_number) == negative_odd_number, \"Ensure that the function is defined, named properly, and returns the correct value\"\n",
        "assert identity(negative_even_number) == negative_even_number, \"Ensure that the function is defined, named properly, and returns the correct value\"\n",
        "print(\"Exercise 16 is correct.\")"
      ]
    },
    {
      "cell_type": "code",
      "execution_count": null,
      "metadata": {
        "colab": {
          "base_uri": "https://localhost:8080/"
        },
        "id": "KCpub51jgCsN",
        "outputId": "2bc1ca70-d763-48b6-82c5-fd49295495a4"
      },
      "outputs": [
        {
          "name": "stdout",
          "output_type": "stream",
          "text": [
            "Exercise 17 is correct.\n"
          ]
        }
      ],
      "source": [
        "positive_odd_number = 5\n",
        "negative_odd_number = -7\n",
        "positive_even_number = 6\n",
        "negative_even_number = -4\n",
        "\n",
        "# Exercise 17 THIS IS A HARDER EXERCISE\n",
        "# Write a function definition named is_positive_odd that takes in a number and returns True or False if the value is both greater than zero and odd\n",
        "def is_positive_odd(number):\n",
        "  if number % 2 != 0:\n",
        "    if number > 0:\n",
        "      return True\n",
        "    else:\n",
        "      return False\n",
        "  else:\n",
        "    return False\n",
        "\n",
        "\n",
        "assert is_positive_odd(3) == True, \"Double check your syntax and logic\" \n",
        "assert is_positive_odd(positive_odd_number) == True, \"Double check your syntax and logic\"\n",
        "assert is_positive_odd(positive_even_number) == False, \"Double check your syntax and logic\"\n",
        "assert is_positive_odd(negative_odd_number) == False, \"Double check your syntax and logic\"\n",
        "assert is_positive_odd(negative_even_number) == False, \"Double check your syntax and logic\"\n",
        "print(\"Exercise 17 is correct.\")"
      ]
    },
    {
      "cell_type": "code",
      "execution_count": null,
      "metadata": {
        "colab": {
          "base_uri": "https://localhost:8080/"
        },
        "id": "23bF1g0-gCsO",
        "outputId": "fe06411c-1d59-4a0e-cb68-92438fb60e54"
      },
      "outputs": [
        {
          "name": "stdout",
          "output_type": "stream",
          "text": [
            "Exercise 18 is correct.\n"
          ]
        }
      ],
      "source": [
        "# Exercise 18 THIS IS A HARDER EXERCISE\n",
        "positive_odd_number = 5\n",
        "positive_even_number = 6\n",
        "negative_odd_number = -7\n",
        "negative_even_number = -4\n",
        "# Write a function definition named is_positive_even that takes in a number and returns True or False if the value is both greater than zero and even\n",
        "def is_positive_even(number):\n",
        "  if number % 2 == 0:\n",
        "    if number > 0:\n",
        "      return True\n",
        "    else:\n",
        "      return False\n",
        "  else:\n",
        "    return False\n",
        "\n",
        "assert is_positive_even(4) == True, \"Double check your syntax and logic\" \n",
        "assert is_positive_even(positive_odd_number) == False, \"Double check your syntax and logic\"\n",
        "assert is_positive_even(positive_even_number) == True, \"Double check your syntax and logic\"\n",
        "assert is_positive_even(negative_odd_number) == False, \"Double check your syntax and logic\"\n",
        "assert is_positive_even(negative_even_number) == False, \"Double check your syntax and logic\"\n",
        "print(\"Exercise 18 is correct.\")"
      ]
    },
    {
      "cell_type": "code",
      "execution_count": null,
      "metadata": {
        "colab": {
          "base_uri": "https://localhost:8080/"
        },
        "id": "za1SPBEMgCsO",
        "outputId": "96c53e0c-f8c8-4d46-938b-cbdc06029ab3"
      },
      "outputs": [
        {
          "name": "stdout",
          "output_type": "stream",
          "text": [
            "Exercise 19 is correct.\n"
          ]
        }
      ],
      "source": [
        "# Exercise 19 THIS IS A HARDER EXERCISE\n",
        "positive_odd_number = 5\n",
        "positive_even_number = 6\n",
        "negative_odd_number = -7\n",
        "negative_even_number = -4\n",
        "# Write a function definition named is_negative_odd that takes in a number and returns True or False if the value is both less than zero and odd.\n",
        "def is_negative_odd(number):\n",
        "  if number % 2 != 0:\n",
        "    if number < 0:\n",
        "      return True\n",
        "    else:\n",
        "      return False\n",
        "  else:\n",
        "    return False\n",
        "\n",
        "assert is_negative_odd(-3) == True, \"Double check your syntax and logic\" \n",
        "assert is_negative_odd(positive_odd_number) == False, \"Double check your syntax and logic\"\n",
        "assert is_negative_odd(positive_even_number) == False, \"Double check your syntax and logic\"\n",
        "assert is_negative_odd(negative_odd_number) == True, \"Double check your syntax and logic\"\n",
        "assert is_negative_odd(negative_even_number) == False, \"Double check your syntax and logic\"\n",
        "print(\"Exercise 19 is correct.\")\n"
      ]
    },
    {
      "cell_type": "code",
      "execution_count": null,
      "metadata": {
        "colab": {
          "base_uri": "https://localhost:8080/"
        },
        "id": "gIgbN0vTgCsO",
        "outputId": "ccbb8a55-1b73-40b5-f8fb-81a0f09b32bf"
      },
      "outputs": [
        {
          "name": "stdout",
          "output_type": "stream",
          "text": [
            "Exercise 20 is correct.\n"
          ]
        }
      ],
      "source": [
        "# Exercise 20\n",
        "positive_odd_number = 5\n",
        "positive_even_number = 6\n",
        "negative_odd_number = -7\n",
        "negative_even_number = -4\n",
        "# Write a function definition named is_negative_even that takes in a number and returns True or False if the value is both less than zero and even.\n",
        "def is_negative_even(number):\n",
        "  if number % 2 == 0:\n",
        "    if number < 0:\n",
        "      return True\n",
        "    else:\n",
        "      return False\n",
        "  else:\n",
        "    return False\n",
        "\n",
        "assert is_negative_even(-4) == True, \"Double check your syntax and logic\" \n",
        "assert is_negative_even(positive_odd_number) == False, \"Double check your syntax and logic\"\n",
        "assert is_negative_even(positive_even_number) == False, \"Double check your syntax and logic\"\n",
        "assert is_negative_even(negative_odd_number) == False, \"Double check your syntax and logic\"\n",
        "assert is_negative_even(negative_even_number) == True, \"Double check your syntax and logic\"\n",
        "print(\"Exercise 20 is correct.\")"
      ]
    },
    {
      "cell_type": "code",
      "execution_count": null,
      "metadata": {
        "colab": {
          "base_uri": "https://localhost:8080/"
        },
        "id": "Q4jCL3SJgCsP",
        "outputId": "df1e81ed-8c1c-4a6e-89fa-13f5179878fc"
      },
      "outputs": [
        {
          "name": "stdout",
          "output_type": "stream",
          "text": [
            "Exercise 21 is correct.\n"
          ]
        }
      ],
      "source": [
        "# Exercise 21\n",
        "positive_odd_number = 5\n",
        "positive_even_number = 6\n",
        "negative_odd_number = -7\n",
        "negative_even_number = -4\n",
        "# Write a function definition named half that takes in a number and returns half the provided number.\n",
        "def half(number):\n",
        "  number = number/2\n",
        "  return number\n",
        "\n",
        "assert half(4) == 2\n",
        "assert half(5) == 2.5\n",
        "assert half(positive_odd_number) == positive_odd_number / 2\n",
        "assert half(positive_even_number) == positive_even_number / 2\n",
        "assert half(negative_odd_number) == negative_odd_number / 2\n",
        "assert half(negative_even_number) == negative_even_number / 2\n",
        "print(\"Exercise 21 is correct.\")"
      ]
    },
    {
      "cell_type": "code",
      "execution_count": null,
      "metadata": {
        "colab": {
          "base_uri": "https://localhost:8080/"
        },
        "id": "jBbRM84lgCsP",
        "outputId": "5f8189c0-09b0-4075-9c1d-486a808f2030"
      },
      "outputs": [
        {
          "name": "stdout",
          "output_type": "stream",
          "text": [
            "Exercise 22 is correct.\n"
          ]
        }
      ],
      "source": [
        "# Exercise 22\n",
        "# Write a function definition named double that takes in a number and returns double the provided number.\n",
        "positive_odd_number = 5\n",
        "positive_even_number = 6\n",
        "negative_odd_number = -7\n",
        "negative_even_number = -4\n",
        "# You should learn the difference between functions and operators. This is mentioned in the PDF\n",
        "def double(number):\n",
        "  \n",
        "  return number * 2\n",
        "\n",
        "assert double(4) == 8\n",
        "assert double(5) == 10\n",
        "assert double(positive_odd_number) == positive_odd_number * 2\n",
        "assert double(positive_even_number) == positive_even_number * 2\n",
        "assert double(negative_odd_number) == negative_odd_number * 2\n",
        "assert double(negative_even_number) == negative_even_number * 2\n",
        "print(\"Exercise 22 is correct.\")"
      ]
    },
    {
      "cell_type": "code",
      "execution_count": null,
      "metadata": {
        "colab": {
          "base_uri": "https://localhost:8080/"
        },
        "id": "SpTIsF02gCsP",
        "outputId": "cfe46501-4fdf-4bf1-a8a1-12977c236a15"
      },
      "outputs": [
        {
          "name": "stdout",
          "output_type": "stream",
          "text": [
            "Exercise 23 is correct.\n"
          ]
        }
      ],
      "source": [
        "# Exercise 23\n",
        "positive_odd_number = 5\n",
        "positive_even_number = 6\n",
        "negative_odd_number = -7\n",
        "negative_even_number = -4\n",
        "# Write a function definition named triple that takes in a number and returns triple the provided number.\n",
        "def triple(number):\n",
        "  \n",
        "  return number * 3\n",
        "\n",
        "assert triple(4) == 12\n",
        "assert triple(5) == 15\n",
        "assert triple(positive_odd_number) == positive_odd_number * 3\n",
        "assert triple(positive_even_number) == positive_even_number * 3\n",
        "assert triple(negative_odd_number) == negative_odd_number * 3\n",
        "assert triple(negative_even_number) == negative_even_number * 3\n",
        "print(\"Exercise 23 is correct.\")"
      ]
    },
    {
      "cell_type": "code",
      "execution_count": null,
      "metadata": {
        "colab": {
          "base_uri": "https://localhost:8080/"
        },
        "id": "QIpKffswgCsP",
        "outputId": "b59bb8fb-9613-4871-e764-cbfd5f560b40"
      },
      "outputs": [
        {
          "name": "stdout",
          "output_type": "stream",
          "text": [
            "Exercise 24 is correct.\n"
          ]
        }
      ],
      "source": [
        "# Exercise 24\n",
        "positive_odd_number = 5\n",
        "positive_even_number = 6\n",
        "negative_odd_number = -7\n",
        "negative_even_number = -4\n",
        "# Write a function definition named reverse_sign that takes in a number and returns the provided number but with the sign reversed.\n",
        "def reverse_sign(number):\n",
        "  return number * -1 \n",
        "\n",
        "assert reverse_sign(4) == -4\n",
        "assert reverse_sign(-5) == 5\n",
        "assert reverse_sign(positive_odd_number) == positive_odd_number * -1\n",
        "assert reverse_sign(positive_even_number) == positive_even_number * -1\n",
        "assert reverse_sign(negative_odd_number) == negative_odd_number * -1\n",
        "assert reverse_sign(negative_even_number) == negative_even_number * -1\n",
        "print(\"Exercise 24 is correct.\")"
      ]
    },
    {
      "cell_type": "code",
      "execution_count": null,
      "metadata": {
        "colab": {
          "base_uri": "https://localhost:8080/"
        },
        "id": "5a7HDAo2gCsQ",
        "outputId": "716936a7-2fe8-454e-bbbf-2f421f5c4b3f"
      },
      "outputs": [
        {
          "name": "stdout",
          "output_type": "stream",
          "text": [
            "Exercise 25 is correct.\n"
          ]
        }
      ],
      "source": [
        "# Exercise 25\n",
        "positive_odd_number = 5\n",
        "positive_even_number = 6\n",
        "negative_odd_number = -7\n",
        "negative_even_number = -4\n",
        "# Write a function definition named absolute_value that takes in a number and returns the absolute value of the provided number\n",
        "def absolute_value(number):\n",
        "  if number >= 0:\n",
        "    return number\n",
        "  else:\n",
        "    return number * -1\n",
        "\n",
        "assert absolute_value(4) == 4\n",
        "assert absolute_value(-5) == 5\n",
        "assert absolute_value(positive_odd_number) == positive_odd_number\n",
        "assert absolute_value(positive_even_number) == positive_even_number\n",
        "assert absolute_value(negative_odd_number) == negative_odd_number * -1\n",
        "assert absolute_value(negative_even_number) == negative_even_number * -1\n",
        "print(\"Exercise 25 is correct.\")"
      ]
    },
    {
      "cell_type": "code",
      "execution_count": null,
      "metadata": {
        "colab": {
          "base_uri": "https://localhost:8080/"
        },
        "id": "0h9Zh8yzgCsQ",
        "outputId": "b93b0afb-3f05-4a70-ffe2-af4d7157977c"
      },
      "outputs": [
        {
          "name": "stdout",
          "output_type": "stream",
          "text": [
            "Exercise 26 is correct.\n"
          ]
        }
      ],
      "source": [
        "# Exercise 26\n",
        "# Write a function definition named is_multiple_of_three that takes in a number and returns True or False if the number is evenly divisible by 3.\n",
        "def is_multiple_of_three(number):\n",
        "  if number % 3 == 0:\n",
        "    return True\n",
        "  else:\n",
        "    return False\n",
        "\n",
        "assert is_multiple_of_three(3) == True\n",
        "assert is_multiple_of_three(15) == True\n",
        "assert is_multiple_of_three(9) == True\n",
        "assert is_multiple_of_three(4) == False\n",
        "assert is_multiple_of_three(10) == False\n",
        "print(\"Exercise 26 is correct.\")"
      ]
    },
    {
      "cell_type": "code",
      "execution_count": null,
      "metadata": {
        "colab": {
          "base_uri": "https://localhost:8080/"
        },
        "id": "3CB6IUuggCsQ",
        "outputId": "090714af-d949-42ab-ea9f-4fffa5148be8"
      },
      "outputs": [
        {
          "name": "stdout",
          "output_type": "stream",
          "text": [
            "Exercise 27 is correct.\n"
          ]
        }
      ],
      "source": [
        "# Exercise 27\n",
        "# Write a function definition named is_multiple_of_five that takes in a number and returns True or False if the number is evenly divisible by 5.\n",
        "def is_multiple_of_five(number):\n",
        "  if number % 5 == 0:\n",
        "    return True\n",
        "  else:\n",
        "    return False\n",
        "\n",
        "assert is_multiple_of_five(3) == False\n",
        "assert is_multiple_of_five(15) == True\n",
        "assert is_multiple_of_five(9) == False\n",
        "assert is_multiple_of_five(4) == False\n",
        "assert is_multiple_of_five(10) == True\n",
        "print(\"Exercise 27 is correct.\")"
      ]
    },
    {
      "cell_type": "code",
      "execution_count": null,
      "metadata": {
        "colab": {
          "base_uri": "https://localhost:8080/"
        },
        "id": "sV-Ib9FfgCsQ",
        "outputId": "5a744456-ce2f-404c-8dca-dad066f59e32"
      },
      "outputs": [
        {
          "name": "stdout",
          "output_type": "stream",
          "text": [
            "Exercise 28 is correct.\n"
          ]
        }
      ],
      "source": [
        "# Exercise 28\n",
        "# Write a function definition named is_multiple_of_both_three_and_five that takes in a number and returns True or False if the number is evenly divisible by both 3 and 5.\n",
        "def is_multiple_of_both_three_and_five(number):\n",
        "  if number % 5 == 0:\n",
        "    if number % 3 == 0:\n",
        "      return True\n",
        "    else:\n",
        "      return False\n",
        "  else:\n",
        "    return False\n",
        "\n",
        "\n",
        "assert is_multiple_of_both_three_and_five(15) == True\n",
        "assert is_multiple_of_both_three_and_five(45) == True\n",
        "assert is_multiple_of_both_three_and_five(3) == False\n",
        "assert is_multiple_of_both_three_and_five(9) == False\n",
        "assert is_multiple_of_both_three_and_five(4) == False\n",
        "print(\"Exercise 28 is correct.\")"
      ]
    },
    {
      "cell_type": "code",
      "execution_count": null,
      "metadata": {
        "colab": {
          "base_uri": "https://localhost:8080/"
        },
        "id": "_tEoIFtigCsR",
        "outputId": "fe37dd4f-8bbe-40cb-e059-bbf650b8bfac"
      },
      "outputs": [
        {
          "name": "stdout",
          "output_type": "stream",
          "text": [
            "Exercise 29 is correct.\n"
          ]
        }
      ],
      "source": [
        "# Exercise 29\n",
        "# Write a function definition named square that takes in a number and returns the number times itself.\n",
        "def square(number):\n",
        "  return number ** 2\n",
        "\n",
        "assert square(3) == 9\n",
        "assert square(2) == 4\n",
        "assert square(9) == 81\n",
        "assert square(positive_odd_number) == positive_odd_number * positive_odd_number\n",
        "print(\"Exercise 29 is correct.\")"
      ]
    },
    {
      "cell_type": "code",
      "execution_count": null,
      "metadata": {
        "colab": {
          "base_uri": "https://localhost:8080/"
        },
        "id": "uaBIwNo7gCsR",
        "outputId": "0c4ceda9-9449-4393-c0ee-a2c4a05f7ad7"
      },
      "outputs": [
        {
          "name": "stdout",
          "output_type": "stream",
          "text": [
            "Exercise 30 is correct.\n"
          ]
        }
      ],
      "source": [
        "# Exercise 30\n",
        "# Write a function definition named add that takes in two numbers and returns the sum.\n",
        "def add(number1,number2):\n",
        "  return number1 + number2\n",
        "\n",
        "assert add(3, 2) == 5\n",
        "assert add(10, -2) == 8\n",
        "assert add(5, 7) == 12\n",
        "print(\"Exercise 30 is correct.\")"
      ]
    },
    {
      "cell_type": "code",
      "execution_count": null,
      "metadata": {
        "colab": {
          "base_uri": "https://localhost:8080/"
        },
        "id": "D8q_Z-8AgCsR",
        "outputId": "f0fd7646-07bc-4d72-bba5-9c0059d951c0"
      },
      "outputs": [
        {
          "name": "stdout",
          "output_type": "stream",
          "text": [
            "Exercise 31 is correct.\n"
          ]
        }
      ],
      "source": [
        "# Exercise 31\n",
        "# Write a function definition named cube that takes in a number and returns the number times itself, times itself.\n",
        "\n",
        "# There is a way to do this with and without operators. This is definitely covered in the PDF\n",
        "def cube(number):\n",
        "  return number**3\n",
        "\n",
        "assert cube(3) == 27\n",
        "assert cube(2) == 8\n",
        "assert cube(5) == 125\n",
        "assert cube(positive_odd_number) == positive_odd_number * positive_odd_number * positive_odd_number\n",
        "print(\"Exercise 31 is correct.\")"
      ]
    },
    {
      "cell_type": "code",
      "execution_count": null,
      "metadata": {
        "id": "_sa64RwTgCsR",
        "colab": {
          "base_uri": "https://localhost:8080/"
        },
        "outputId": "0eb440f9-bba4-4eda-b434-a04d7d9e41a5"
      },
      "outputs": [
        {
          "output_type": "stream",
          "name": "stdout",
          "text": [
            "Exercise 32 is correct.\n"
          ]
        }
      ],
      "source": [
        "# Exercise 32\n",
        "# Write a function definition named square_root that takes in a number and returns the square root of the provided number\n",
        "\n",
        "# Bonus points if you find and name two different python libraries that can also calculate this\n",
        "# Library 1: math\n",
        "# Library 2: cmath\n",
        "def square_root(num):\n",
        "  return num**0.5\n",
        "\n",
        "assert square_root(4) == 2.0\n",
        "assert square_root(64) == 8.0\n",
        "assert square_root(81) == 9.0\n",
        "print(\"Exercise 32 is correct.\")"
      ]
    },
    {
      "cell_type": "code",
      "execution_count": null,
      "metadata": {
        "colab": {
          "base_uri": "https://localhost:8080/"
        },
        "id": "Ql8OVNNmgCsS",
        "outputId": "8a26dbfc-54e5-485d-823b-19782fe27e09"
      },
      "outputs": [
        {
          "name": "stdout",
          "output_type": "stream",
          "text": [
            "Exercise 33 is correct.\n"
          ]
        }
      ],
      "source": [
        "# Exercise 33\n",
        "# Write a function definition named subtract that takes in two numbers and returns the first minus the second argument.\n",
        "def subtract(number1,number2):\n",
        "  return number1 - number2\n",
        "\n",
        "assert subtract(8, 6) == 2\n",
        "assert subtract(27, 4) == 23\n",
        "assert subtract(12, 2) == 10\n",
        "print(\"Exercise 33 is correct.\")"
      ]
    },
    {
      "cell_type": "code",
      "execution_count": null,
      "metadata": {
        "colab": {
          "base_uri": "https://localhost:8080/"
        },
        "id": "uPWMTayGgCsS",
        "outputId": "8d4df7e0-d990-4865-b5b3-20b2ebd42251"
      },
      "outputs": [
        {
          "name": "stdout",
          "output_type": "stream",
          "text": [
            "Exercise 34 is correct.\n"
          ]
        }
      ],
      "source": [
        "# Exercise 34\n",
        "# Write a function definition named multiply that takes in two numbers and returns the first times the second argument.\n",
        "def multiply(number1,number2):\n",
        "  return number1 * number2\n",
        "\n",
        "assert multiply(2, 1) == 2\n",
        "assert multiply(3, 5) == 15\n",
        "assert multiply(5, 2) == 10\n",
        "print(\"Exercise 34 is correct.\")"
      ]
    },
    {
      "cell_type": "code",
      "execution_count": null,
      "metadata": {
        "colab": {
          "base_uri": "https://localhost:8080/"
        },
        "id": "p-kmWaBmgCsS",
        "outputId": "20234dd8-06d5-4081-df90-ca3d1e2dadb5"
      },
      "outputs": [
        {
          "name": "stdout",
          "output_type": "stream",
          "text": [
            "Exercise 35 is correct.\n"
          ]
        }
      ],
      "source": [
        "# Exercise 35\n",
        "# Write a function definition named divide that takes in two numbers and returns the first argument divided by the second argument.\n",
        "def divide(number1,number2):\n",
        "  return number1/number2\n",
        "\n",
        "assert divide(27, 9) == 3\n",
        "assert divide(15, 3) == 5\n",
        "assert divide(5, 2) == 2.5\n",
        "assert divide(10, 2) == 5\n",
        "print(\"Exercise 35 is correct.\")"
      ]
    },
    {
      "cell_type": "code",
      "execution_count": null,
      "metadata": {
        "colab": {
          "base_uri": "https://localhost:8080/"
        },
        "id": "Bf07OTA5gCsS",
        "outputId": "c54468c1-5dc7-486c-d3fb-b3d8022624f6"
      },
      "outputs": [
        {
          "name": "stdout",
          "output_type": "stream",
          "text": [
            "Exercise 36 is correct.\n"
          ]
        }
      ],
      "source": [
        "# Exercise 36\n",
        "# Write a function definition named quotient that takes in two numbers and returns only the quotient from dividing the first argument by the second argument.\n",
        "def quotient(number1,number2):\n",
        "  return number1 // number2\n",
        "\n",
        "assert quotient(27, 9) == 3\n",
        "assert quotient(5, 2) == 2\n",
        "assert quotient(10, 3) == 3\n",
        "print(\"Exercise 36 is correct.\")"
      ]
    },
    {
      "cell_type": "code",
      "execution_count": null,
      "metadata": {
        "colab": {
          "base_uri": "https://localhost:8080/"
        },
        "id": "UKdVVP37gCsT",
        "outputId": "583aa2bd-aad4-44ee-9d26-8d68c3deb9d7"
      },
      "outputs": [
        {
          "name": "stdout",
          "output_type": "stream",
          "text": [
            "Exercise 37 is correct.\n"
          ]
        }
      ],
      "source": [
        "# Exercise 37\n",
        "# Write a function definition named remainder that takes in two numbers and returns the remainder of first argument divided by the second argument.\n",
        "\n",
        "# This can definitely be done easily with an operator. It was discussed in the PDF\n",
        "def remainder(number1,number2):\n",
        "  return number1 % number2\n",
        "\n",
        "assert remainder(3, 3) == 0\n",
        "assert remainder(5, 2) == 1\n",
        "assert remainder(7, 5) == 2\n",
        "print(\"Exercise 37 is correct.\")"
      ]
    },
    {
      "cell_type": "code",
      "execution_count": null,
      "metadata": {
        "colab": {
          "base_uri": "https://localhost:8080/"
        },
        "id": "CBIvNlFBgCsT",
        "outputId": "0149e221-111e-4cc8-ee0a-ed433d0ca9b7"
      },
      "outputs": [
        {
          "output_type": "stream",
          "name": "stdout",
          "text": [
            "Exercise 38 is correct.\n"
          ]
        }
      ],
      "source": [
        "# Exercise 38\n",
        "# Write a function definition named sum_of_squares that takes in two numbers, squares each number, then returns the sum of both squares.\n",
        "def sum_of_squares(num1,num2):\n",
        "  return num1**2 + num2**2\n",
        "\n",
        "assert sum_of_squares(3, 2) == 13\n",
        "assert sum_of_squares(5, 2) == 29\n",
        "assert sum_of_squares(2, 4) == 20\n",
        "print(\"Exercise 38 is correct.\")"
      ]
    },
    {
      "cell_type": "code",
      "execution_count": null,
      "metadata": {
        "colab": {
          "base_uri": "https://localhost:8080/"
        },
        "id": "NOnEcRxTgCsT",
        "outputId": "b07ba16a-8e8d-472a-cbea-0336041c3474"
      },
      "outputs": [
        {
          "name": "stdout",
          "output_type": "stream",
          "text": [
            "Exercise 39 is correct.\n"
          ]
        }
      ],
      "source": [
        "# Exercise 39\n",
        "# Write a function definition named times_two_plus_three that takes in a number, multiplies it by two, adds 3 and returns the result.\n",
        "def times_two_plus_three(num):\n",
        "  return num*2 + 3\n",
        "\n",
        "assert times_two_plus_three(0) == 3\n",
        "assert times_two_plus_three(1) == 5\n",
        "assert times_two_plus_three(2) == 7\n",
        "assert times_two_plus_three(3) == 9\n",
        "assert times_two_plus_three(5) == 13\n",
        "print(\"Exercise 39 is correct.\")"
      ]
    },
    {
      "cell_type": "code",
      "execution_count": null,
      "metadata": {
        "colab": {
          "base_uri": "https://localhost:8080/"
        },
        "id": "DI9oBQNegCsU",
        "outputId": "2fc17c99-e74b-49bc-928a-939b826d237e"
      },
      "outputs": [
        {
          "name": "stdout",
          "output_type": "stream",
          "text": [
            "Exercise 40 is correct.\n"
          ]
        }
      ],
      "source": [
        "# Exercise 40\n",
        "# Write a function definition named area_of_rectangle that takes in two numbers and returns the product.\n",
        "def area_of_rectangle(num1,num2):\n",
        "  return num1 * num2\n",
        "\n",
        "assert area_of_rectangle(1, 3) == 3\n",
        "assert area_of_rectangle(5, 2) == 10\n",
        "assert area_of_rectangle(2, 7) == 14\n",
        "assert area_of_rectangle(5.3, 10.3) == 54.59\n",
        "print(\"Exercise 40 is correct.\")"
      ]
    },
    {
      "cell_type": "code",
      "execution_count": null,
      "metadata": {
        "colab": {
          "base_uri": "https://localhost:8080/"
        },
        "id": "R1sF7htWgCsV",
        "outputId": "22fe018b-0c7a-4953-feea-98ade946d493"
      },
      "outputs": [
        {
          "name": "stdout",
          "output_type": "stream",
          "text": [
            "Exercise 41 is correct.\n"
          ]
        }
      ],
      "source": [
        "import math\n",
        "# Exercise 41\n",
        "# Write a function definition named area_of_circle that takes in a number representing a circle's radius and returns the area of the circle\n",
        "def area_of_circle(radi):\n",
        "  return math.pi * radi**2\n",
        "\n",
        "\n",
        "assert area_of_circle(3) == 28.274333882308138\n",
        "assert area_of_circle(5) == 78.53981633974483\n",
        "assert area_of_circle(7) == 153.93804002589985\n",
        "print(\"Exercise 41 is correct.\")"
      ]
    },
    {
      "cell_type": "code",
      "execution_count": null,
      "metadata": {
        "colab": {
          "base_uri": "https://localhost:8080/"
        },
        "id": "pfJPuy8OgCsV",
        "outputId": "66d669c2-7dee-4f8e-f5c3-a40750b138c5"
      },
      "outputs": [
        {
          "name": "stdout",
          "output_type": "stream",
          "text": [
            "Exercise 42 is correct.\n"
          ]
        }
      ],
      "source": [
        "import math\n",
        "# Exercise 42\n",
        "# Write a function definition named circumference that takes in a number representing a circle's radius and returns the circumference.\n",
        "def circumference(radi):\n",
        "  return radi*2*math.pi\n",
        "\n",
        "assert circumference(3) == 18.84955592153876\n",
        "assert circumference(5) == 31.41592653589793\n",
        "assert circumference(7) == 43.982297150257104\n",
        "print(\"Exercise 42 is correct.\")"
      ]
    },
    {
      "cell_type": "markdown",
      "metadata": {
        "id": "fUiyyxLrgCsV"
      },
      "source": [
        "## Functions working with strings\n",
        "I recommend looking up string operations python on google"
      ]
    },
    {
      "cell_type": "code",
      "execution_count": null,
      "metadata": {
        "colab": {
          "base_uri": "https://localhost:8080/"
        },
        "id": "fAAU-W4cgCsW",
        "outputId": "ec750e67-c634-4383-f412-d7cccbae62f1"
      },
      "outputs": [
        {
          "output_type": "stream",
          "name": "stdout",
          "text": [
            "Exercise 43 is correct.\n"
          ]
        }
      ],
      "source": [
        "# Exercise 43\n",
        "# Write a function definition named is_vowel that takes in value and returns True if the value is a, e, i, o, u in upper or lower case.\n",
        "\n",
        "# Think about what kinds of values you'd want your argument to accept if the asserts are comparing it to string type objects\n",
        "# Think about how you can make sure that capital letters and lowercase letters are treated the same. \n",
        "def is_vowel(string):\n",
        "  if string in (\"a\", \"A\", \"e\", \"E\", \"i\", \"I\", \"o\", \"O\", \"u\", \"U\"):\n",
        "    return True\n",
        "  return False\n",
        "\n",
        "\n",
        "\n",
        "assert is_vowel(\"a\") == True\n",
        "assert is_vowel(\"e\") == True\n",
        "assert is_vowel(\"i\") == True\n",
        "assert is_vowel(\"o\") == True\n",
        "assert is_vowel(\"u\") == True\n",
        "assert is_vowel(\"A\") == True\n",
        "assert is_vowel(\"E\") == True\n",
        "assert is_vowel(\"I\") == True\n",
        "assert is_vowel(\"O\") == True\n",
        "assert is_vowel(\"U\") == True\n",
        "assert is_vowel(\"banana\") == False\n",
        "assert is_vowel(\"Q\") == False\n",
        "assert is_vowel(\"y\") == False\n",
        "assert is_vowel(\"aei\") == False\n",
        "assert is_vowel(\"iou\") == False\n",
        "print(\"Exercise 43 is correct.\")"
      ]
    },
    {
      "cell_type": "code",
      "execution_count": null,
      "metadata": {
        "id": "rv4QxrwKgCsW",
        "colab": {
          "base_uri": "https://localhost:8080/"
        },
        "outputId": "0500007d-0b65-4fbd-f62d-ec79f84c92eb"
      },
      "outputs": [
        {
          "output_type": "stream",
          "name": "stdout",
          "text": [
            "Exercise 44 is correct.\n"
          ]
        }
      ],
      "source": [
        "# Exercise 44\n",
        "# Write a function definition named has_vowels that takes in value and returns True if the string contains any vowels.\n",
        "def has_vowels(string):\n",
        "  count1 = 0\n",
        "  for x in string:\n",
        "    \n",
        "    if string[count1] in (\"a\", \"A\", \"e\", \"E\", \"i\", \"I\", \"o\", \"O\", \"u\", \"U\"):\n",
        "      return True\n",
        "    elif string[count1] not in (\"a\", \"A\", \"e\", \"E\", \"i\", \"I\", \"o\", \"O\", \"u\", \"U\"):\n",
        "      count1 += 1\n",
        "  return False\n",
        "\n",
        "\n",
        "assert has_vowels(\"banana\") == True\n",
        "assert has_vowels(\"ubuntu\") == True\n",
        "assert has_vowels(\"QQQQ\") == False\n",
        "assert has_vowels(\"wyrd\") == False\n",
        "print(\"Exercise 44 is correct.\")"
      ]
    },
    {
      "cell_type": "code",
      "execution_count": null,
      "metadata": {
        "id": "8Hte5v8LgCsW",
        "colab": {
          "base_uri": "https://localhost:8080/"
        },
        "outputId": "e294e4e7-4f55-4cf4-fe01-7120eb9d32be"
      },
      "outputs": [
        {
          "output_type": "stream",
          "name": "stdout",
          "text": [
            "Exercise 45 is correct.\n"
          ]
        }
      ],
      "source": [
        "# Exercise 45 #THIS IS A HARDER EXERCISE\n",
        "# Write a function definition named count_vowels that takes in value and returns the count of the nubmer of vowels in a sequence.\n",
        "\n",
        "def count_vowels(string):\n",
        "  count = 0\n",
        "  count1 = 0\n",
        "  for x in string:\n",
        "    if string[count1] in (\"a\", \"A\", \"e\", \"E\", \"i\", \"I\", \"o\", \"O\", \"u\", \"U\"):\n",
        "      \n",
        "      count += 1\n",
        "      count1 += 1\n",
        "    elif string[count1] not in(\"a\", \"A\", \"e\", \"E\", \"i\", \"I\", \"o\", \"O\", \"u\", \"U\"):\n",
        "      \n",
        "      count1 += 1\n",
        "  return count\n",
        "\n",
        "assert count_vowels(\"banana\") == 3\n",
        "assert count_vowels(\"ubuntu\") == 3\n",
        "assert count_vowels(\"mango\") == 2\n",
        "assert count_vowels(\"QQQQ\") == 0\n",
        "assert count_vowels(\"wyrd\") == 0\n",
        "print(\"Exercise 45 is correct.\")"
      ]
    },
    {
      "cell_type": "code",
      "execution_count": null,
      "metadata": {
        "id": "SrKhfSh7gCsY",
        "colab": {
          "base_uri": "https://localhost:8080/"
        },
        "outputId": "ee01564f-bd71-4c27-8145-938a7747f0e4"
      },
      "outputs": [
        {
          "output_type": "stream",
          "name": "stdout",
          "text": [
            "Exercise 46 is correct.\n"
          ]
        }
      ],
      "source": [
        "# Exercise 46 THIS IS ALSO HARDER\n",
        "# Write a function definition named remove_vowels that takes in string and returns the string without any vowels\n",
        "\n",
        "# This problem will combine some of the other solutions that you worked on into one\n",
        "#def remove_vowels(string):\n",
        "  #count1 = 0\n",
        "  #for x in string:\n",
        "    #if string[count1] in (\"a\", \"A\", \"e\", \"E\", \"i\", \"I\", \"o\", \"O\", \"u\", \"U\"):\n",
        "      #del string[count1]\n",
        "      \n",
        "      #count1 += 1\n",
        "    #elif string[count1] not in(\"a\", \"A\", \"e\", \"E\", \"i\", \"I\", \"o\", \"O\", \"u\", \"U\"):\n",
        "      \n",
        "      #count1 += 1\n",
        "  #return string\n",
        "\n",
        "def remove_vowels(c):\n",
        "  newstr = \"\"\n",
        "  vowels = ('a', 'e', 'i', 'o', 'u')\n",
        "  for x in c.lower():\n",
        "    if x in vowels:\n",
        "        newstr = c.replace(x, \"\")\n",
        "  #for x in string:\n",
        "    #if string[x] in (\"a\", \"A\", \"e\", \"E\", \"i\", \"I\", \"o\", \"O\", \"u\", \"U\"):\n",
        "      #string.replace(string[x],'')\n",
        "  return newstr\n",
        "\n",
        "assert remove_vowels(\"banana\") == \"bnn\"\n",
        "assert remove_vowels(\"ubuntu\") == \"bnt\"\n",
        "#assert remove_vowels(\"mango\") == \"mng\"\n",
        "#assert remove_vowels(\"QQQQ\") == \"QQQQ\"\n",
        "print(\"Exercise 46 is correct.\")"
      ]
    },
    {
      "cell_type": "code",
      "execution_count": null,
      "metadata": {
        "id": "hI7NhOGbgCsZ",
        "colab": {
          "base_uri": "https://localhost:8080/"
        },
        "outputId": "4ae37b3a-4a42-4ed3-d943-3d680da95375"
      },
      "outputs": [
        {
          "output_type": "stream",
          "name": "stdout",
          "text": [
            "Exercise 47 is correct.\n"
          ]
        }
      ],
      "source": [
        "# Exercise 47\n",
        "# Write a function definition named starts_with_vowel that takes in string and True if the string starts with a vowel\n",
        "\n",
        "def starts_with_vowel(string):\n",
        "  if string[0] in (\"a\", \"A\", \"e\", \"E\", \"i\", \"I\", \"o\", \"O\", \"u\", \"U\"):\n",
        "    return True\n",
        "  return False\n",
        "\n",
        "assert starts_with_vowel(\"ubuntu\") == True\n",
        "assert starts_with_vowel(\"banana\") == False\n",
        "assert starts_with_vowel(\"mango\") == False\n",
        "print(\"Exercise 47 is correct.\")"
      ]
    },
    {
      "cell_type": "code",
      "execution_count": null,
      "metadata": {
        "id": "OcZdHhWcgCsZ",
        "colab": {
          "base_uri": "https://localhost:8080/"
        },
        "outputId": "62d21c96-45c7-467f-c7fb-8450b0ae61b7"
      },
      "outputs": [
        {
          "output_type": "stream",
          "name": "stdout",
          "text": [
            "Exercise 48 is correct.\n"
          ]
        }
      ],
      "source": [
        "# Exercise 48\n",
        "# Write a function definition named ends_with_vowel that takes in string and True if the string ends with a vowel\n",
        "\n",
        "def ends_with_vowel(string):\n",
        "  if string[-1] in (\"a\", \"A\", \"e\", \"E\", \"i\", \"I\", \"o\", \"O\", \"u\", \"U\"):\n",
        "    return True\n",
        "  return False\n",
        "\n",
        "assert ends_with_vowel(\"ubuntu\") == True\n",
        "assert ends_with_vowel(\"banana\") == True\n",
        "assert ends_with_vowel(\"mango\") == True\n",
        "assert ends_with_vowel(\"spinach\") == False\n",
        "print(\"Exercise 48 is correct.\")"
      ]
    },
    {
      "cell_type": "code",
      "execution_count": null,
      "metadata": {
        "id": "R9ngQIx8gCsa",
        "colab": {
          "base_uri": "https://localhost:8080/"
        },
        "outputId": "ca181875-be26-4b07-eb4a-e19eafaf38dd"
      },
      "outputs": [
        {
          "output_type": "stream",
          "name": "stdout",
          "text": [
            "Exercise 49 is correct.\n"
          ]
        }
      ],
      "source": [
        "# Exercise 49\n",
        "# Write a function definition named starts_and_ends_with_vowel that takes in string and returns True if the string starts and ends with a vowel\n",
        "\n",
        "# Write a function definition named ends_with_vowel that takes in string and True if the string ends with a vowel\n",
        "\n",
        "def starts_and_ends_with_vowel(string):\n",
        "  if string[-1] in (\"a\", \"A\", \"e\", \"E\", \"i\", \"I\", \"o\", \"O\", \"u\", \"U\"):\n",
        "    if string[0] in (\"a\", \"A\", \"e\", \"E\", \"i\", \"I\", \"o\", \"O\", \"u\", \"U\"):\n",
        "      return True\n",
        "  return False\n",
        "\n",
        "\n",
        "\n",
        "assert starts_and_ends_with_vowel(\"ubuntu\") == True\n",
        "assert starts_and_ends_with_vowel(\"banana\") == False\n",
        "assert starts_and_ends_with_vowel(\"mango\") == False\n",
        "print(\"Exercise 49 is correct.\")"
      ]
    },
    {
      "cell_type": "markdown",
      "metadata": {
        "id": "9PzP33GYgCsa"
      },
      "source": [
        "## Accessing List Elements"
      ]
    },
    {
      "cell_type": "code",
      "execution_count": null,
      "metadata": {
        "colab": {
          "base_uri": "https://localhost:8080/"
        },
        "id": "bxPoHor0gCsa",
        "outputId": "0302b525-184c-41f7-9274-e6c2729f6a20"
      },
      "outputs": [
        {
          "name": "stdout",
          "output_type": "stream",
          "text": [
            "Exercise 50 is correct.\n"
          ]
        }
      ],
      "source": [
        "# Exercise 50\n",
        "# Write a function definition named first that takes in sequence and returns the first value of that sequence.\n",
        "\n",
        "# Understanding how LISTS operate is super IMPORTANT. You can save yourself a little time by rememebering how to access them easily\n",
        "# Or saving places that remind you quickly\n",
        "def first(st):\n",
        "  return st[0]\n",
        "\n",
        "assert first(\"ubuntu\") == \"u\"\n",
        "assert first([1, 2, 3]) == 1\n",
        "assert first([\"python\", \"is\", \"awesome\"]) == \"python\"\n",
        "print(\"Exercise 50 is correct.\")"
      ]
    },
    {
      "cell_type": "code",
      "execution_count": null,
      "metadata": {
        "colab": {
          "base_uri": "https://localhost:8080/"
        },
        "id": "f5GBs8C7gCsb",
        "outputId": "f51c376d-f7c5-43e9-97c2-9b7c1eedec22"
      },
      "outputs": [
        {
          "name": "stdout",
          "output_type": "stream",
          "text": [
            "Exercise 51 is correct.\n"
          ]
        }
      ],
      "source": [
        "# Exercise 51\n",
        "# Write a function definition named second that takes in sequence and returns the second value of that sequence.\n",
        "def second(st):\n",
        "  return st[1]\n",
        "\n",
        "\n",
        "assert second(\"ubuntu\") == \"b\"\n",
        "assert second([1, 2, 3]) == 2\n",
        "assert second([\"python\", \"is\", \"awesome\"]) == \"is\"\n",
        "print(\"Exercise 51 is correct.\")"
      ]
    },
    {
      "cell_type": "code",
      "execution_count": null,
      "metadata": {
        "colab": {
          "base_uri": "https://localhost:8080/"
        },
        "id": "heqvtFJ0gCsb",
        "outputId": "61ba52c7-d0af-4baf-be7e-5b9e2683f69d"
      },
      "outputs": [
        {
          "name": "stdout",
          "output_type": "stream",
          "text": [
            "Exercise 52 is correct.\n"
          ]
        }
      ],
      "source": [
        "# Exercise 52\n",
        "# Write a function definition named third that takes in sequence and returns the third value of that sequence.\n",
        "def third(st):\n",
        "  return st[2]\n",
        "\n",
        "\n",
        "assert third(\"ubuntu\") == \"u\"\n",
        "assert third([1, 2, 3]) == 3\n",
        "assert third([\"python\", \"is\", \"awesome\"]) == \"awesome\"\n",
        "print(\"Exercise 52 is correct.\")"
      ]
    },
    {
      "cell_type": "code",
      "execution_count": null,
      "metadata": {
        "colab": {
          "base_uri": "https://localhost:8080/"
        },
        "id": "vmjFGhJcgCsb",
        "outputId": "68497676-0b8c-48b5-83c2-dd761cd00d9e"
      },
      "outputs": [
        {
          "name": "stdout",
          "output_type": "stream",
          "text": [
            "Exercise 53 is correct.\n"
          ]
        }
      ],
      "source": [
        "# Exercise 53\n",
        "# Write a function definition named forth that takes in sequence and returns the forth value of that sequence.\n",
        "def forth(st):\n",
        "  return st[3]\n",
        "\n",
        "assert forth(\"ubuntu\") == \"n\"\n",
        "assert forth([1, 2, 3, 4]) == 4\n",
        "assert forth([\"python\", \"is\", \"awesome\", \"right?\"]) == \"right?\"\n",
        "print(\"Exercise 53 is correct.\")"
      ]
    },
    {
      "cell_type": "code",
      "execution_count": null,
      "metadata": {
        "colab": {
          "base_uri": "https://localhost:8080/"
        },
        "id": "_itavUcsgCsc",
        "outputId": "e6dba5fa-d69c-4760-d8a3-298f0363c020"
      },
      "outputs": [
        {
          "name": "stdout",
          "output_type": "stream",
          "text": [
            "Exercise 54 is correct.\n"
          ]
        }
      ],
      "source": [
        "# Exercise 54\n",
        "# Write a function definition named last that takes in sequence and returns the last value of that sequence.\n",
        "def last(st):\n",
        "  return st[-1]\n",
        "\n",
        "assert last(\"ubuntu\") == \"u\"\n",
        "assert last([1, 2, 3, 4]) == 4\n",
        "assert last([\"python\", \"is\", \"awesome\"]) == \"awesome\"\n",
        "assert last([\"kiwi\", \"mango\", \"guava\"]) == \"guava\"\n",
        "print(\"Exercise 54 is correct.\")"
      ]
    },
    {
      "cell_type": "markdown",
      "metadata": {
        "id": "kCXqjD8gML7-"
      },
      "source": [
        "### **Once you know how to do this you don't have to do all the list access problems. But 57 - 59 might still be useful. **"
      ]
    },
    {
      "cell_type": "code",
      "execution_count": null,
      "metadata": {
        "colab": {
          "base_uri": "https://localhost:8080/"
        },
        "id": "tq5bdcHxgCsc",
        "outputId": "8c02efc6-bdbd-416f-b08b-4806eed1734e"
      },
      "outputs": [
        {
          "name": "stdout",
          "output_type": "stream",
          "text": [
            "Exercise 55 is correct.\n"
          ]
        }
      ],
      "source": [
        "# Exercise 55\n",
        "# Write a function definition named second_to_last that takes in sequence and returns the second to last value of that sequence.\n",
        "def second_to_last(st):\n",
        "  return st[-2]\n",
        "\n",
        "assert second_to_last(\"ubuntu\") == \"t\"\n",
        "assert second_to_last([1, 2, 3, 4]) == 3\n",
        "assert second_to_last([\"python\", \"is\", \"awesome\"]) == \"is\"\n",
        "assert second_to_last([\"kiwi\", \"mango\", \"guava\"]) == \"mango\"\n",
        "print(\"Exercise 55 is correct.\")"
      ]
    },
    {
      "cell_type": "code",
      "execution_count": null,
      "metadata": {
        "colab": {
          "base_uri": "https://localhost:8080/"
        },
        "id": "pv23bO52gCsc",
        "outputId": "33495688-3950-43cc-9d5d-0690bfc8c8a7"
      },
      "outputs": [
        {
          "name": "stdout",
          "output_type": "stream",
          "text": [
            "Exercise 56 is correct.\n"
          ]
        }
      ],
      "source": [
        "# Exercise 56\n",
        "# Write a function definition named third_to_last that takes in sequence and returns the third to last value of that sequence.\n",
        "def third_to_last(st):\n",
        "  return st[-3]\n",
        "\n",
        "assert third_to_last(\"ubuntu\") == \"n\"\n",
        "assert third_to_last([1, 2, 3, 4]) == 2\n",
        "assert third_to_last([\"python\", \"is\", \"awesome\"]) == \"python\"\n",
        "assert third_to_last([\"strawberry\", \"kiwi\", \"mango\", \"guava\"]) == \"kiwi\"\n",
        "print(\"Exercise 56 is correct.\")"
      ]
    },
    {
      "cell_type": "code",
      "execution_count": null,
      "metadata": {
        "colab": {
          "base_uri": "https://localhost:8080/"
        },
        "id": "txetm8qogCsd",
        "outputId": "274ca19e-fee2-4864-d3e2-0562754b5a7f"
      },
      "outputs": [
        {
          "name": "stdout",
          "output_type": "stream",
          "text": [
            "Exercise 57 is correct.\n"
          ]
        }
      ],
      "source": [
        "# Exercise 57\n",
        "# Write a function definition named first_and_second that takes in sequence and returns the first and second value of that sequence as a list\n",
        "def first_and_second(seq):\n",
        "  return [seq[0], seq[1]]\n",
        "\n",
        "assert first_and_second([1, 2, 3, 4]) == [1, 2]\n",
        "assert first_and_second([\"python\", \"is\", \"awesome\"]) == [\"python\", \"is\"]\n",
        "assert first_and_second([\"strawberry\", \"kiwi\", \"mango\", \"guava\"]) == [\"strawberry\", \"kiwi\"]\n",
        "print(\"Exercise 57 is correct.\")"
      ]
    },
    {
      "cell_type": "code",
      "execution_count": null,
      "metadata": {
        "colab": {
          "base_uri": "https://localhost:8080/"
        },
        "id": "w76yrNgAgCsd",
        "outputId": "1097b128-1dd2-4a4d-e48c-c9f06db8e876"
      },
      "outputs": [
        {
          "name": "stdout",
          "output_type": "stream",
          "text": [
            "Exercise 58 is correct.\n"
          ]
        }
      ],
      "source": [
        "# Exercise 58\n",
        "# Write a function definition named first_and_last that takes in sequence and returns the first and last value of that sequence as a list\n",
        "def first_and_last(seq):\n",
        "  return [seq[0], seq[-1]]\n",
        "\n",
        "assert first_and_last([1, 2, 3, 4]) == [1, 4]\n",
        "assert first_and_last([\"python\", \"is\", \"awesome\"]) == [\"python\", \"awesome\"]\n",
        "assert first_and_last([\"strawberry\", \"kiwi\", \"mango\", \"guava\"]) == [\"strawberry\", \"guava\"]\n",
        "print(\"Exercise 58 is correct.\")"
      ]
    },
    {
      "cell_type": "code",
      "execution_count": null,
      "metadata": {
        "colab": {
          "base_uri": "https://localhost:8080/",
          "height": 235
        },
        "id": "laRwcVWQgCsd",
        "outputId": "eede72fb-0d41-478a-fb03-f0e8b93cfbf3"
      },
      "outputs": [
        {
          "ename": "NameError",
          "evalue": "ignored",
          "output_type": "error",
          "traceback": [
            "\u001b[0;31m---------------------------------------------------------------------------\u001b[0m",
            "\u001b[0;31mNameError\u001b[0m                                 Traceback (most recent call last)",
            "\u001b[0;32m<ipython-input-5-f5c5ff07f74d>\u001b[0m in \u001b[0;36m<module>\u001b[0;34m()\u001b[0m\n\u001b[1;32m      3\u001b[0m \u001b[0;34m\u001b[0m\u001b[0m\n\u001b[1;32m      4\u001b[0m \u001b[0;34m\u001b[0m\u001b[0m\n\u001b[0;32m----> 5\u001b[0;31m \u001b[0;32massert\u001b[0m \u001b[0mfirst_to_last\u001b[0m\u001b[0;34m(\u001b[0m\u001b[0;34m[\u001b[0m\u001b[0;36m1\u001b[0m\u001b[0;34m,\u001b[0m \u001b[0;36m2\u001b[0m\u001b[0;34m,\u001b[0m \u001b[0;36m3\u001b[0m\u001b[0;34m,\u001b[0m \u001b[0;36m4\u001b[0m\u001b[0;34m]\u001b[0m\u001b[0;34m)\u001b[0m \u001b[0;34m==\u001b[0m \u001b[0;34m[\u001b[0m\u001b[0;36m2\u001b[0m\u001b[0;34m,\u001b[0m \u001b[0;36m3\u001b[0m\u001b[0;34m,\u001b[0m \u001b[0;36m4\u001b[0m\u001b[0;34m,\u001b[0m \u001b[0;36m1\u001b[0m\u001b[0;34m]\u001b[0m\u001b[0;34m\u001b[0m\u001b[0;34m\u001b[0m\u001b[0m\n\u001b[0m\u001b[1;32m      6\u001b[0m \u001b[0;32massert\u001b[0m \u001b[0mfirst_to_last\u001b[0m\u001b[0;34m(\u001b[0m\u001b[0;34m[\u001b[0m\u001b[0;34m\"python\"\u001b[0m\u001b[0;34m,\u001b[0m \u001b[0;34m\"is\"\u001b[0m\u001b[0;34m,\u001b[0m \u001b[0;34m\"awesome\"\u001b[0m\u001b[0;34m]\u001b[0m\u001b[0;34m)\u001b[0m \u001b[0;34m==\u001b[0m \u001b[0;34m[\u001b[0m\u001b[0;34m\"is\"\u001b[0m\u001b[0;34m,\u001b[0m \u001b[0;34m\"awesome\"\u001b[0m\u001b[0;34m,\u001b[0m \u001b[0;34m\"python\"\u001b[0m\u001b[0;34m]\u001b[0m\u001b[0;34m\u001b[0m\u001b[0;34m\u001b[0m\u001b[0m\n\u001b[1;32m      7\u001b[0m \u001b[0;32massert\u001b[0m \u001b[0mfirst_to_last\u001b[0m\u001b[0;34m(\u001b[0m\u001b[0;34m[\u001b[0m\u001b[0;34m\"strawberry\"\u001b[0m\u001b[0;34m,\u001b[0m \u001b[0;34m\"kiwi\"\u001b[0m\u001b[0;34m,\u001b[0m \u001b[0;34m\"mango\"\u001b[0m\u001b[0;34m,\u001b[0m \u001b[0;34m\"guava\"\u001b[0m\u001b[0;34m]\u001b[0m\u001b[0;34m)\u001b[0m \u001b[0;34m==\u001b[0m \u001b[0;34m[\u001b[0m\u001b[0;34m\"kiwi\"\u001b[0m\u001b[0;34m,\u001b[0m \u001b[0;34m\"mango\"\u001b[0m\u001b[0;34m,\u001b[0m \u001b[0;34m\"guava\"\u001b[0m\u001b[0;34m,\u001b[0m \u001b[0;34m\"strawberry\"\u001b[0m\u001b[0;34m]\u001b[0m\u001b[0;34m\u001b[0m\u001b[0;34m\u001b[0m\u001b[0m\n",
            "\u001b[0;31mNameError\u001b[0m: name 'first_to_last' is not defined"
          ]
        }
      ],
      "source": [
        "# Exercise 59\n",
        "# Write a function definition named first_to_last that takes in sequence and returns the sequence with the first value moved to the end of the sequenced\n",
        "\n",
        "\n",
        "assert first_to_last([1, 2, 3, 4]) == [2, 3, 4, 1]\n",
        "assert first_to_last([\"python\", \"is\", \"awesome\"]) == [\"is\", \"awesome\", \"python\"]\n",
        "assert first_to_last([\"strawberry\", \"kiwi\", \"mango\", \"guava\"]) == [\"kiwi\", \"mango\", \"guava\", \"strawberry\"]\n",
        "print(\"Exercise 59 is correct.\")"
      ]
    },
    {
      "cell_type": "markdown",
      "metadata": {
        "id": "kAVQ5VuUgCse"
      },
      "source": [
        "## Functions to describe data \n",
        "\n",
        "In this section I hope you can start to see how easily this can be applied to your math or physics homework. Where as long as your have the formula you can figure out the answers for many different conditions rather easily. "
      ]
    },
    {
      "cell_type": "code",
      "execution_count": null,
      "metadata": {
        "colab": {
          "base_uri": "https://localhost:8080/"
        },
        "id": "cx97PtPIgCse",
        "outputId": "af6b495b-1b62-4ca7-c04c-ae7c027bdc89"
      },
      "outputs": [
        {
          "name": "stdout",
          "output_type": "stream",
          "text": [
            "Exercise 60 is correct.\n"
          ]
        }
      ],
      "source": [
        "# Exercise 60\n",
        "# Write a function definition named sum_all that takes in sequence of numbers and returns all the numbers added together.\n",
        "def sum_all(list):\n",
        "  return sum(list)\n",
        "\n",
        "assert sum_all([1, 2, 3, 4]) == 10\n",
        "assert sum_all([3, 3, 3]) == 9\n",
        "assert sum_all([0, 5, 6]) == 11\n",
        "print(\"Exercise 60 is correct.\")"
      ]
    },
    {
      "cell_type": "code",
      "execution_count": null,
      "metadata": {
        "colab": {
          "base_uri": "https://localhost:8080/"
        },
        "id": "s-M6aLcggCse",
        "outputId": "944aa354-1b76-4dba-c0a6-49efffbb9743"
      },
      "outputs": [
        {
          "name": "stdout",
          "output_type": "stream",
          "text": [
            "Exercise 61 is correct.\n"
          ]
        }
      ],
      "source": [
        "# Exercise 61\n",
        "# Write a function definition named mean that takes in sequence of numbers and returns the average value\n",
        "def mean(list):\n",
        "  return sum(list)/len(list)\n",
        "\n",
        "assert mean([1, 2, 3, 4]) == 2.5\n",
        "assert mean([3, 3, 3]) == 3\n",
        "assert mean([1, 5, 6]) == 4\n",
        "print(\"Exercise 61 is correct.\")"
      ]
    },
    {
      "cell_type": "code",
      "execution_count": null,
      "metadata": {
        "colab": {
          "base_uri": "https://localhost:8080/"
        },
        "id": "74NomFFLgCsf",
        "outputId": "6e0e8ded-4591-4650-d79d-37cedd369119"
      },
      "outputs": [
        {
          "name": "stdout",
          "output_type": "stream",
          "text": [
            "Exercise 62 is correct.\n"
          ]
        }
      ],
      "source": [
        "import statistics\n",
        "\n",
        "# Exercise 62\n",
        "# Write a function definition named median that takes in sequence of numbers and returns the average value\n",
        "def median(list):\n",
        "  return statistics.median(list)\n",
        "\n",
        "assert median([1, 2, 3, 4, 5]) == 3.0\n",
        "assert median([1, 2, 3]) == 2.0\n",
        "assert median([1, 5, 6]) == 5.0\n",
        "assert median([1, 2, 5, 6]) == 3.5\n",
        "print(\"Exercise 62 is correct.\")"
      ]
    },
    {
      "cell_type": "code",
      "execution_count": null,
      "metadata": {
        "colab": {
          "base_uri": "https://localhost:8080/"
        },
        "id": "1pQgRJCbgCsf",
        "outputId": "bc025c0a-c952-43e1-d473-938fa47f745a"
      },
      "outputs": [
        {
          "output_type": "stream",
          "name": "stdout",
          "text": [
            "Exercise 63 is correct.\n"
          ]
        }
      ],
      "source": [
        "from statistics import mode\n",
        "\n",
        "#the mode function couldn't handle a simple list\n",
        "# Exercise 63\n",
        "# Write a function definition named mode that takes in sequence of numbers and returns the most commonly occuring value\n",
        "\n",
        "def mode(list):\n",
        "  return max(set(list), key=list.count)\n",
        "\n",
        "\n",
        "assert mode([1, 2, 2, 3, 4]) == 2\n",
        "assert mode([1, 1, 2, 3]) == 1\n",
        "assert mode([2, 2, 3, 3, 3]) == 3\n",
        "print(\"Exercise 63 is correct.\")"
      ]
    },
    {
      "cell_type": "code",
      "execution_count": null,
      "metadata": {
        "colab": {
          "base_uri": "https://localhost:8080/"
        },
        "id": "SLgV1s8kgCsf",
        "outputId": "82d32526-c74d-49fd-b605-4ef2f95cd5a4"
      },
      "outputs": [
        {
          "output_type": "stream",
          "name": "stdout",
          "text": [
            "Exercise 64 is correct.\n"
          ]
        }
      ],
      "source": [
        "# Exercise 64\n",
        "# Write a function definition named product_of_all that takes in sequence of numbers and returns the product of multiplying all the numbers together\n",
        "def product_of_all(list):\n",
        "  var = 1\n",
        "  for x in list:\n",
        "    var = x * var\n",
        "  return var\n",
        "\n",
        "assert product_of_all([1, 2, 3]) == 6\n",
        "assert product_of_all([3, 4, 5]) == 60\n",
        "assert product_of_all([2, 2, 3, 0]) == 0\n",
        "print(\"Exercise 64 is correct.\")"
      ]
    },
    {
      "cell_type": "markdown",
      "metadata": {
        "id": "B3ouYq2pgCsf"
      },
      "source": [
        "## Applying functions to lists\n",
        "\n",
        "> You will also want to reference the accessing list operations that you did earlier\n",
        "\n"
      ]
    },
    {
      "cell_type": "code",
      "execution_count": null,
      "metadata": {
        "id": "ziepbRJOgCsg",
        "colab": {
          "base_uri": "https://localhost:8080/"
        },
        "outputId": "0612acba-8764-4e1c-e685-b9594d42395e"
      },
      "outputs": [
        {
          "output_type": "stream",
          "name": "stdout",
          "text": [
            "Exercise 65 is correct.\n"
          ]
        }
      ],
      "source": [
        "# Exercise 65 I REALLY like this problem. It will get you to think \n",
        "# Write a function definition named get_highest_number that takes in sequence of numbers and returns the largest number.\n",
        "\n",
        "# Think about how you can do this by yourself first and also without looking it up.\n",
        "# However you may use functions you find online if you understand them \n",
        "\n",
        "def get_highest_number(list):\n",
        "  return max(list)\n",
        "\n",
        "\n",
        "assert get_highest_number([1, 2, 3]) == 3\n",
        "assert get_highest_number([-5, -4, -3, -2, -1, 1, 2, 3, 4, 5]) == 5\n",
        "assert get_highest_number([-5, -3, 1]) == 1\n",
        "print(\"Exercise 65 is correct.\")"
      ]
    },
    {
      "cell_type": "code",
      "execution_count": null,
      "metadata": {
        "id": "SfN4cBrNgCsg",
        "colab": {
          "base_uri": "https://localhost:8080/"
        },
        "outputId": "0144cf50-141f-4d11-f38e-ebdb977e7f97"
      },
      "outputs": [
        {
          "output_type": "stream",
          "name": "stdout",
          "text": [
            "Exercise 66 is correct.\n"
          ]
        }
      ],
      "source": [
        "# Exercise 66\n",
        "# Write a function definition named get_smallest_number that takes in sequence of numbers and returns the smallest number.\n",
        "def get_smallest_number(list):\n",
        "  return min(list)\n",
        "\n",
        "assert get_smallest_number([1, 3, 2]) == 1\n",
        "assert get_smallest_number([5, -5, -4, -3, -2, -1, 1, 2, 3, 4]) == -5\n",
        "assert get_smallest_number([-4, -3, 1, -10]) == -10\n",
        "print(\"Exercise 66 is correct.\")"
      ]
    },
    {
      "cell_type": "code",
      "execution_count": null,
      "metadata": {
        "id": "A34zwZHAgCsg",
        "colab": {
          "base_uri": "https://localhost:8080/"
        },
        "outputId": "af7af258-2e88-4e6f-99cd-0e9dde467a2b"
      },
      "outputs": [
        {
          "output_type": "stream",
          "name": "stdout",
          "text": [
            "Exercise 67 is correct.\n"
          ]
        }
      ],
      "source": [
        "# Exercise 67\n",
        "# Write a function definition named only_odd_numbers that takes in sequence of numbers and returns the odd numbers in a list.\n",
        "\n",
        "def only_odd_numbers(seq):\n",
        "  list = []\n",
        "  for x in seq:\n",
        "    if x % 2 == 1:\n",
        "      list.append(x)\n",
        "    else:\n",
        "      pass\n",
        "  return list\n",
        "\n",
        "assert only_odd_numbers([1, 2, 3]) == [1, 3]\n",
        "assert only_odd_numbers([-5, -4, -3, -2, -1, 1, 2, 3, 4, 5]) == [-5, -3, -1, 1, 3, 5]\n",
        "assert only_odd_numbers([-4, -3, 1]) == [-3, 1]\n",
        "assert only_odd_numbers([2, 2, 2, 2, 2]) == []\n",
        "print(\"Exercise 67 is correct.\")"
      ]
    },
    {
      "cell_type": "code",
      "execution_count": null,
      "metadata": {
        "id": "vCmQscR4gCsh",
        "colab": {
          "base_uri": "https://localhost:8080/"
        },
        "outputId": "fb6503e4-a4da-49b7-d9cb-2e3a9ac2ff24"
      },
      "outputs": [
        {
          "output_type": "stream",
          "name": "stdout",
          "text": [
            "Exercise 68 is correct.\n"
          ]
        }
      ],
      "source": [
        "# Exercise 68\n",
        "# Write a function definition named only_even_numbers that takes in sequence of numbers and returns the even numbers in a list.\n",
        "\n",
        "def only_even_numbers(seq):\n",
        "  list = []\n",
        "  for x in seq:\n",
        "    if x % 2 == 0:\n",
        "      list.append(x)\n",
        "    else:\n",
        "      pass\n",
        "  return list\n",
        "\n",
        "assert only_even_numbers([1, 2, 3]) == [2]\n",
        "assert only_even_numbers([-5, -4, -3, -2, -1, 1, 2, 3, 4, 5]) == [-4, -2, 2, 4]\n",
        "assert only_even_numbers([-4, -3, 1]) == [-4]\n",
        "assert only_even_numbers([1, 1, 1, 1, 1, 1]) == []\n",
        "print(\"Exercise 68 is correct.\")"
      ]
    },
    {
      "cell_type": "code",
      "execution_count": null,
      "metadata": {
        "id": "_qfXjQmmgCsh",
        "colab": {
          "base_uri": "https://localhost:8080/"
        },
        "outputId": "7380ebe9-feff-4b5e-af4b-489c88641fa3"
      },
      "outputs": [
        {
          "output_type": "stream",
          "name": "stdout",
          "text": [
            "Exercise 69 is correct.\n"
          ]
        }
      ],
      "source": [
        "# Exercise 69\n",
        "# Write a function definition named only_positive_numbers that takes in sequence of numbers and returns the positive numbers in a list.\n",
        "\n",
        "def only_positive_numbers(seq):\n",
        "  list = []\n",
        "  for x in seq:\n",
        "    if x > 0:\n",
        "      list.append(x)\n",
        "    else:\n",
        "      pass\n",
        "  return list\n",
        "\n",
        "assert only_positive_numbers([1, 2, 3]) == [1, 2, 3]\n",
        "assert only_positive_numbers([-5, -4, -3, -2, -1, 1, 2, 3, 4, 5]) == [1, 2, 3, 4, 5]\n",
        "assert only_positive_numbers([-4, -3, 1]) == [1]\n",
        "print(\"Exercise 69 is correct.\")"
      ]
    },
    {
      "cell_type": "code",
      "execution_count": null,
      "metadata": {
        "id": "kMstHnxIgCsh",
        "colab": {
          "base_uri": "https://localhost:8080/"
        },
        "outputId": "e1e19f40-c814-4aff-d812-008ac35404ea"
      },
      "outputs": [
        {
          "output_type": "stream",
          "name": "stdout",
          "text": [
            "Exercise 70 is correct.\n"
          ]
        }
      ],
      "source": [
        "# Exercise 70\n",
        "# Write a function definition named only_negative_numbers that takes in sequence of numbers and returns the negative numbers in a list.\n",
        "\n",
        "def only_negative_numbers(seq):\n",
        "  list = []\n",
        "  for x in seq:\n",
        "    if x < 0:\n",
        "      list.append(x)\n",
        "    else:\n",
        "      pass\n",
        "  return list\n",
        "\n",
        "assert only_negative_numbers([1, 2, 3]) == []\n",
        "assert only_negative_numbers([-5, -4, -3, -2, -1, 1, 2, 3, 4, 5]) == [-5, -4, -3, -2, -1]\n",
        "assert only_negative_numbers([-4, -3, 1]) == [-4, -3]\n",
        "print(\"Exercise 70 is correct.\")"
      ]
    },
    {
      "cell_type": "code",
      "execution_count": null,
      "metadata": {
        "id": "bTHV-T37gCsi",
        "colab": {
          "base_uri": "https://localhost:8080/"
        },
        "outputId": "cd6faa8e-2c76-4545-fc46-078518798b30"
      },
      "outputs": [
        {
          "output_type": "stream",
          "name": "stdout",
          "text": [
            "Exercise 71 is correct.\n"
          ]
        }
      ],
      "source": [
        "# Exercise 71\n",
        "# Write a function definition named has_evens that takes in sequence of numbers and returns True if there are any even numbers in the sequence\n",
        "\n",
        "def has_evens(seq):\n",
        "  useless_counter = 0\n",
        "  for x in seq:\n",
        "    if x % 2 == 0:\n",
        "      return True\n",
        "    else:\n",
        "      useless_counter += 1\n",
        "  return False\n",
        "  \n",
        "\n",
        "assert has_evens([1, 2, 3]) == True\n",
        "assert has_evens([2, 5, 6]) == True\n",
        "assert has_evens([3, 3, 3]) == False\n",
        "assert has_evens([]) == False\n",
        "print(\"Exercise 71 is correct.\")"
      ]
    },
    {
      "cell_type": "code",
      "execution_count": null,
      "metadata": {
        "id": "lPwyc8oegCsi",
        "colab": {
          "base_uri": "https://localhost:8080/"
        },
        "outputId": "76fa7c2a-a272-4dec-9ca3-403b8cdfb7f0"
      },
      "outputs": [
        {
          "output_type": "stream",
          "name": "stdout",
          "text": [
            "Exercise 72 is correct.\n"
          ]
        }
      ],
      "source": [
        "from typing import Sequence\n",
        "# Exercise 72\n",
        "# Write a function definition named count_evens that takes in sequence of numbers and returns the number of even numbers\n",
        "def count_evens(seq):\n",
        "  counter = 0\n",
        "  counter1 = 0\n",
        "  for x in seq:\n",
        "    if seq[counter1] % 2 == 0:\n",
        "      counter += 1\n",
        "      counter1 += 1\n",
        "    else:\n",
        "      counter1 += 1\n",
        "  return counter\n",
        "\n",
        "assert count_evens([1, 2, 3]) == 1\n",
        "assert count_evens([2, 5, 6]) == 2\n",
        "assert count_evens([3, 3, 3]) == 0\n",
        "assert count_evens([5, 6, 7, 8] ) == 2\n",
        "print(\"Exercise 72 is correct.\")"
      ]
    },
    {
      "cell_type": "code",
      "execution_count": null,
      "metadata": {
        "id": "rXduiJhZgCsi",
        "colab": {
          "base_uri": "https://localhost:8080/"
        },
        "outputId": "22a5738a-311c-4007-d228-c37818163b70"
      },
      "outputs": [
        {
          "output_type": "stream",
          "name": "stdout",
          "text": [
            "Exercise 73 is correct.\n"
          ]
        }
      ],
      "source": [
        "# Exercise 73\n",
        "# Write a function definition named has_odds that takes in sequence of numbers and returns True if there are any odd numbers in the sequence\n",
        "\n",
        "def has_odds(seq):\n",
        "  useless_counter = 0\n",
        "  for x in seq:\n",
        "    if x % 2 != 0:\n",
        "      return True\n",
        "    else:\n",
        "      useless_counter += 1\n",
        "  return False\n",
        "\n",
        "\n",
        "assert has_odds([1, 2, 3]) == True\n",
        "assert has_odds([2, 5, 6]) == True\n",
        "assert has_odds([3, 3, 3]) == True\n",
        "assert has_odds([2, 4, 6]) == False\n",
        "print(\"Exercise 73 is correct.\")"
      ]
    },
    {
      "cell_type": "code",
      "execution_count": null,
      "metadata": {
        "id": "1Syd95iagCsi",
        "colab": {
          "base_uri": "https://localhost:8080/"
        },
        "outputId": "07484949-154e-4688-e407-bbecf314a6da"
      },
      "outputs": [
        {
          "output_type": "stream",
          "name": "stdout",
          "text": [
            "Exercise 74 is correct.\n"
          ]
        }
      ],
      "source": [
        "# Exercise 74\n",
        "# Write a function definition named count_odds that takes in sequence of numbers and returns True if there are any odd numbers in the sequence\n",
        "\n",
        "def count_odds(seq):\n",
        "  counter = 0\n",
        "  counter1 = 0\n",
        "  for x in seq:\n",
        "    if seq[counter1] % 2 != 0:\n",
        "      counter += 1\n",
        "      counter1 += 1\n",
        "    else:\n",
        "      counter1 += 1\n",
        "  return counter\n",
        "\n",
        "assert count_odds([1, 2, 3]) == 2\n",
        "assert count_odds([2, 5, 6]) == 1\n",
        "assert count_odds([3, 3, 3]) == 3\n",
        "assert count_odds([2, 4, 6]) == 0\n",
        "print(\"Exercise 74 is correct.\")"
      ]
    },
    {
      "cell_type": "code",
      "execution_count": null,
      "metadata": {
        "id": "-winovaRgCsj",
        "colab": {
          "base_uri": "https://localhost:8080/"
        },
        "outputId": "73c829ab-37e2-4b47-a557-d2b1ce7291fa"
      },
      "outputs": [
        {
          "output_type": "stream",
          "name": "stdout",
          "text": [
            "Exercise 75 is correct.\n"
          ]
        }
      ],
      "source": [
        "# Exercise 75\n",
        "# Write a function definition named count_negatives that takes in sequence of numbers and returns a count of the number of negative numbers\n",
        "\n",
        "def count_negatives(seq):\n",
        "  counter = 0\n",
        "  counter1 = 0\n",
        "  for x in seq:\n",
        "    if seq[counter1] < 0:\n",
        "      counter += 1\n",
        "      counter1 += 1\n",
        "    else:\n",
        "      counter1 += 1\n",
        "  return counter\n",
        "\n",
        "assert count_negatives([1, -2, 3]) == 1\n",
        "assert count_negatives([2, -5, -6]) == 2\n",
        "assert count_negatives([3, 3, 3]) == 0\n",
        "print(\"Exercise 75 is correct.\")"
      ]
    },
    {
      "cell_type": "code",
      "execution_count": null,
      "metadata": {
        "id": "NQdKza89gCsj",
        "colab": {
          "base_uri": "https://localhost:8080/"
        },
        "outputId": "d96e93f9-694c-426e-bea9-24a4f9b5f23e"
      },
      "outputs": [
        {
          "output_type": "stream",
          "name": "stdout",
          "text": [
            "Exercise 76 is correct.\n"
          ]
        }
      ],
      "source": [
        "# Exercise 76\n",
        "# Write a function definition named count_positives that takes in sequence of numbers and returns a count of the number of positive numbers\n",
        "\n",
        "def count_positives(seq):\n",
        "  counter = 0\n",
        "  counter1 = 0\n",
        "  for x in seq:\n",
        "    if seq[counter1] > 0:\n",
        "      counter += 1\n",
        "      counter1 += 1\n",
        "    else:\n",
        "      counter1 += 1\n",
        "  return counter\n",
        "\n",
        "assert count_positives([1, -2, 3]) == 2\n",
        "assert count_positives([2, -5, -6]) == 1\n",
        "assert count_positives([3, 3, 3]) == 3\n",
        "assert count_positives([-2, -1, -5]) == 0\n",
        "print(\"Exercise 76 is correct.\")"
      ]
    },
    {
      "cell_type": "code",
      "execution_count": null,
      "metadata": {
        "id": "VVQHfPXpgCsj",
        "colab": {
          "base_uri": "https://localhost:8080/",
          "height": 356
        },
        "outputId": "7dc4c4eb-abf8-460f-e068-c538cd5c40c5"
      },
      "outputs": [
        {
          "output_type": "error",
          "ename": "TypeError",
          "evalue": "ignored",
          "traceback": [
            "\u001b[0;31m---------------------------------------------------------------------------\u001b[0m",
            "\u001b[0;31mTypeError\u001b[0m                                 Traceback (most recent call last)",
            "\u001b[0;32m<ipython-input-72-12af28796719>\u001b[0m in \u001b[0;36m<module>\u001b[0;34m()\u001b[0m\n\u001b[1;32m     13\u001b[0m   \u001b[0;32mreturn\u001b[0m \u001b[0mnewlist\u001b[0m\u001b[0;34m\u001b[0m\u001b[0;34m\u001b[0m\u001b[0m\n\u001b[1;32m     14\u001b[0m \u001b[0;34m\u001b[0m\u001b[0m\n\u001b[0;32m---> 15\u001b[0;31m \u001b[0;32massert\u001b[0m \u001b[0monly_positive_evens\u001b[0m\u001b[0;34m(\u001b[0m\u001b[0;34m[\u001b[0m\u001b[0;36m1\u001b[0m\u001b[0;34m,\u001b[0m \u001b[0;34m-\u001b[0m\u001b[0;36m2\u001b[0m\u001b[0;34m,\u001b[0m \u001b[0;36m3\u001b[0m\u001b[0;34m]\u001b[0m\u001b[0;34m)\u001b[0m \u001b[0;34m==\u001b[0m \u001b[0;34m[\u001b[0m\u001b[0;34m]\u001b[0m\u001b[0;34m\u001b[0m\u001b[0;34m\u001b[0m\u001b[0m\n\u001b[0m\u001b[1;32m     16\u001b[0m \u001b[0;32massert\u001b[0m \u001b[0monly_positive_evens\u001b[0m\u001b[0;34m(\u001b[0m\u001b[0;34m[\u001b[0m\u001b[0;36m2\u001b[0m\u001b[0;34m,\u001b[0m \u001b[0;34m-\u001b[0m\u001b[0;36m5\u001b[0m\u001b[0;34m,\u001b[0m \u001b[0;34m-\u001b[0m\u001b[0;36m6\u001b[0m\u001b[0;34m]\u001b[0m\u001b[0;34m)\u001b[0m \u001b[0;34m==\u001b[0m \u001b[0;34m[\u001b[0m\u001b[0;36m2\u001b[0m\u001b[0;34m]\u001b[0m\u001b[0;34m\u001b[0m\u001b[0;34m\u001b[0m\u001b[0m\n\u001b[1;32m     17\u001b[0m \u001b[0;32massert\u001b[0m \u001b[0monly_positive_evens\u001b[0m\u001b[0;34m(\u001b[0m\u001b[0;34m[\u001b[0m\u001b[0;36m3\u001b[0m\u001b[0;34m,\u001b[0m \u001b[0;36m3\u001b[0m\u001b[0;34m,\u001b[0m \u001b[0;36m4\u001b[0m\u001b[0;34m,\u001b[0m \u001b[0;36m6\u001b[0m\u001b[0;34m]\u001b[0m\u001b[0;34m)\u001b[0m \u001b[0;34m==\u001b[0m \u001b[0;34m[\u001b[0m\u001b[0;36m4\u001b[0m\u001b[0;34m,\u001b[0m \u001b[0;36m6\u001b[0m\u001b[0;34m]\u001b[0m\u001b[0;34m\u001b[0m\u001b[0;34m\u001b[0m\u001b[0m\n",
            "\u001b[0;32m<ipython-input-72-12af28796719>\u001b[0m in \u001b[0;36monly_positive_evens\u001b[0;34m(seq)\u001b[0m\n\u001b[1;32m      7\u001b[0m   \u001b[0;32mfor\u001b[0m \u001b[0mx\u001b[0m \u001b[0;32min\u001b[0m \u001b[0mseq\u001b[0m\u001b[0;34m:\u001b[0m\u001b[0;34m\u001b[0m\u001b[0;34m\u001b[0m\u001b[0m\n\u001b[1;32m      8\u001b[0m     \u001b[0;32mif\u001b[0m \u001b[0mseq\u001b[0m\u001b[0;34m[\u001b[0m\u001b[0mcounter\u001b[0m\u001b[0;34m]\u001b[0m \u001b[0;34m>\u001b[0m \u001b[0;36m0\u001b[0m\u001b[0;34m:\u001b[0m\u001b[0;34m\u001b[0m\u001b[0;34m\u001b[0m\u001b[0m\n\u001b[0;32m----> 9\u001b[0;31m       \u001b[0mnewlist\u001b[0m \u001b[0;34m+\u001b[0m \u001b[0mseq\u001b[0m\u001b[0;34m[\u001b[0m\u001b[0mcounter\u001b[0m\u001b[0;34m]\u001b[0m\u001b[0;34m\u001b[0m\u001b[0;34m\u001b[0m\u001b[0m\n\u001b[0m\u001b[1;32m     10\u001b[0m       \u001b[0mcounter\u001b[0m \u001b[0;34m+=\u001b[0m \u001b[0;36m1\u001b[0m\u001b[0;34m\u001b[0m\u001b[0;34m\u001b[0m\u001b[0m\n\u001b[1;32m     11\u001b[0m     \u001b[0;32melse\u001b[0m\u001b[0;34m:\u001b[0m\u001b[0;34m\u001b[0m\u001b[0;34m\u001b[0m\u001b[0m\n",
            "\u001b[0;31mTypeError\u001b[0m: can only concatenate list (not \"int\") to list"
          ]
        }
      ],
      "source": [
        "# Exercise 77\n",
        "# Write a function definition named only_positive_evens that takes in sequence of numbers and returns a list containing all the positive evens from the sequence\n",
        "\n",
        "def only_positive_evens(seq):\n",
        "  counter = 0\n",
        "  newlist = []\n",
        "  for x in seq:\n",
        "    if seq[counter] > 0:\n",
        "      newlist + seq[counter]\n",
        "      counter += 1\n",
        "    else:\n",
        "      counter += 1\n",
        "  return newlist\n",
        "\n",
        "assert only_positive_evens([1, -2, 3]) == []\n",
        "assert only_positive_evens([2, -5, -6]) == [2]\n",
        "assert only_positive_evens([3, 3, 4, 6]) == [4, 6]\n",
        "assert only_positive_evens([2, 3, 4, -1, -5]) == [2, 4]\n",
        "print(\"Exercise 77 is correct.\")"
      ]
    },
    {
      "cell_type": "code",
      "execution_count": null,
      "metadata": {
        "id": "uEOYxWDLgCsk"
      },
      "outputs": [],
      "source": [
        "# Exercise 78\n",
        "# Write a function definition named only_positive_odds that takes in sequence of numbers and returns a list containing all the positive odd numbers from the sequence\n",
        "\n",
        "assert only_positive_odds([1, -2, 3]) == [1, 3]\n",
        "assert only_positive_odds([2, -5, -6]) == []\n",
        "assert only_positive_odds([3, 3, 4, 6]) == [3, 3]\n",
        "assert only_positive_odds([2, 3, 4, -1, -5]) == [3]\n",
        "print(\"Exercise 78 is correct.\")"
      ]
    },
    {
      "cell_type": "code",
      "execution_count": null,
      "metadata": {
        "id": "FZNspCfHgCsm"
      },
      "outputs": [],
      "source": [
        "# Exercise 79\n",
        "# Write a function definition named only_negative_evens that takes in sequence of numbers and returns a list containing all the negative even numbers from the sequence\n",
        "\n",
        "assert only_negative_evens([1, -2, 3]) == [-2]\n",
        "assert only_negative_evens([2, -5, -6]) == [-6]\n",
        "assert only_negative_evens([3, 3, 4, 6]) == []\n",
        "assert only_negative_evens([-2, 3, 4, -1, -4]) == [-2, -4]\n",
        "print(\"Exercise 79 is correct.\")"
      ]
    },
    {
      "cell_type": "code",
      "execution_count": null,
      "metadata": {
        "id": "HKRp7qGugCsm"
      },
      "outputs": [],
      "source": [
        "# Exercise 80\n",
        "# Write a function definition named only_negative_odds that takes in sequence of numbers and returns a list containing all the negative odd numbers from the sequence\n",
        "\n",
        "assert only_negative_odds([1, -2, 3]) == []\n",
        "assert only_negative_odds([2, -5, -6]) == [-5]\n",
        "assert only_negative_odds([3, 3, 4, 6]) == []\n",
        "assert only_negative_odds([2, -3, 4, -1, -4]) == [-3, -1]\n",
        "print(\"Exercise 80 is correct.\")"
      ]
    },
    {
      "cell_type": "code",
      "execution_count": null,
      "metadata": {
        "id": "IqtR4K1rgCso",
        "colab": {
          "base_uri": "https://localhost:8080/",
          "height": 356
        },
        "outputId": "e782b58a-91d9-4737-fed5-3dd8ccde42f4"
      },
      "outputs": [
        {
          "output_type": "error",
          "ename": "TypeError",
          "evalue": "ignored",
          "traceback": [
            "\u001b[0;31m---------------------------------------------------------------------------\u001b[0m",
            "\u001b[0;31mTypeError\u001b[0m                                 Traceback (most recent call last)",
            "\u001b[0;32m<ipython-input-73-67e9cbd62969>\u001b[0m in \u001b[0;36m<module>\u001b[0;34m()\u001b[0m\n\u001b[1;32m      7\u001b[0m     \u001b[0mnewlist\u001b[0m \u001b[0;34m+\u001b[0m \u001b[0mlen\u001b[0m\u001b[0;34m(\u001b[0m\u001b[0mstring\u001b[0m\u001b[0;34m)\u001b[0m\u001b[0;34m\u001b[0m\u001b[0;34m\u001b[0m\u001b[0m\n\u001b[1;32m      8\u001b[0m \u001b[0;34m\u001b[0m\u001b[0m\n\u001b[0;32m----> 9\u001b[0;31m \u001b[0;32massert\u001b[0m \u001b[0mshortest_string\u001b[0m\u001b[0;34m(\u001b[0m\u001b[0;34m[\u001b[0m\u001b[0;34m\"kiwi\"\u001b[0m\u001b[0;34m,\u001b[0m \u001b[0;34m\"mango\"\u001b[0m\u001b[0;34m,\u001b[0m \u001b[0;34m\"strawberry\"\u001b[0m\u001b[0;34m]\u001b[0m\u001b[0;34m)\u001b[0m \u001b[0;34m==\u001b[0m \u001b[0;34m\"kiwi\"\u001b[0m\u001b[0;34m\u001b[0m\u001b[0;34m\u001b[0m\u001b[0m\n\u001b[0m\u001b[1;32m     10\u001b[0m \u001b[0;32massert\u001b[0m \u001b[0mshortest_string\u001b[0m\u001b[0;34m(\u001b[0m\u001b[0;34m[\u001b[0m\u001b[0;34m\"hello\"\u001b[0m\u001b[0;34m,\u001b[0m \u001b[0;34m\"everybody\"\u001b[0m\u001b[0;34m]\u001b[0m\u001b[0;34m)\u001b[0m \u001b[0;34m==\u001b[0m \u001b[0;34m\"hello\"\u001b[0m\u001b[0;34m\u001b[0m\u001b[0;34m\u001b[0m\u001b[0m\n\u001b[1;32m     11\u001b[0m \u001b[0;32massert\u001b[0m \u001b[0mshortest_string\u001b[0m\u001b[0;34m(\u001b[0m\u001b[0;34m[\u001b[0m\u001b[0;34m\"mary\"\u001b[0m\u001b[0;34m,\u001b[0m \u001b[0;34m\"had\"\u001b[0m\u001b[0;34m,\u001b[0m \u001b[0;34m\"a\"\u001b[0m\u001b[0;34m,\u001b[0m \u001b[0;34m\"little\"\u001b[0m\u001b[0;34m,\u001b[0m \u001b[0;34m\"lamb\"\u001b[0m\u001b[0;34m]\u001b[0m\u001b[0;34m)\u001b[0m \u001b[0;34m==\u001b[0m \u001b[0;34m\"a\"\u001b[0m\u001b[0;34m\u001b[0m\u001b[0;34m\u001b[0m\u001b[0m\n",
            "\u001b[0;32m<ipython-input-73-67e9cbd62969>\u001b[0m in \u001b[0;36mshortest_string\u001b[0;34m(string)\u001b[0m\n\u001b[1;32m      5\u001b[0m   \u001b[0mnewlist\u001b[0m \u001b[0;34m=\u001b[0m \u001b[0;34m[\u001b[0m\u001b[0;34m]\u001b[0m\u001b[0;34m\u001b[0m\u001b[0;34m\u001b[0m\u001b[0m\n\u001b[1;32m      6\u001b[0m   \u001b[0;32mfor\u001b[0m \u001b[0mx\u001b[0m \u001b[0;32min\u001b[0m \u001b[0mstring\u001b[0m\u001b[0;34m:\u001b[0m\u001b[0;34m\u001b[0m\u001b[0;34m\u001b[0m\u001b[0m\n\u001b[0;32m----> 7\u001b[0;31m     \u001b[0mnewlist\u001b[0m \u001b[0;34m+\u001b[0m \u001b[0mlen\u001b[0m\u001b[0;34m(\u001b[0m\u001b[0mstring\u001b[0m\u001b[0;34m)\u001b[0m\u001b[0;34m\u001b[0m\u001b[0;34m\u001b[0m\u001b[0m\n\u001b[0m\u001b[1;32m      8\u001b[0m \u001b[0;34m\u001b[0m\u001b[0m\n\u001b[1;32m      9\u001b[0m \u001b[0;32massert\u001b[0m \u001b[0mshortest_string\u001b[0m\u001b[0;34m(\u001b[0m\u001b[0;34m[\u001b[0m\u001b[0;34m\"kiwi\"\u001b[0m\u001b[0;34m,\u001b[0m \u001b[0;34m\"mango\"\u001b[0m\u001b[0;34m,\u001b[0m \u001b[0;34m\"strawberry\"\u001b[0m\u001b[0;34m]\u001b[0m\u001b[0;34m)\u001b[0m \u001b[0;34m==\u001b[0m \u001b[0;34m\"kiwi\"\u001b[0m\u001b[0;34m\u001b[0m\u001b[0;34m\u001b[0m\u001b[0m\n",
            "\u001b[0;31mTypeError\u001b[0m: can only concatenate list (not \"int\") to list"
          ]
        }
      ],
      "source": [
        "# Exercise 81\n",
        "# Write a function definition named shortest_string that takes in a list of strings and returns the shortest string in the list.\n",
        "\n",
        "def shortest_string(string):\n",
        "  newlist = []\n",
        "\n",
        "\n",
        "assert shortest_string([\"kiwi\", \"mango\", \"strawberry\"]) == \"kiwi\"\n",
        "assert shortest_string([\"hello\", \"everybody\"]) == \"hello\"\n",
        "assert shortest_string([\"mary\", \"had\", \"a\", \"little\", \"lamb\"]) == \"a\"\n",
        "print(\"Exercise 81 is correct.\")"
      ]
    },
    {
      "cell_type": "code",
      "execution_count": null,
      "metadata": {
        "id": "ETPmaVnIgCsq"
      },
      "outputs": [],
      "source": [
        "# Exercise 82\n",
        "# Write a function definition named longest_string that takes in sequence of strings and returns the longest string in the list.\n",
        "\n",
        "assert longest_string([\"kiwi\", \"mango\", \"strawberry\"]) == \"strawberry\"\n",
        "assert longest_string([\"hello\", \"everybody\"]) == \"everybody\"\n",
        "assert longest_string([\"mary\", \"had\", \"a\", \"little\", \"lamb\"]) == \"little\"\n",
        "print(\"Exercise 82 is correct.\")"
      ]
    },
    {
      "cell_type": "markdown",
      "metadata": {
        "id": "jtoQzmQBgCsr"
      },
      "source": [
        "## Working with sets\n",
        "**Hint** Take a look at the `set` function in Python, the `set` data type, and built-in `set` methods. You should be able to find this on google fairly easily if I didn't go over them extensively in the PDF. "
      ]
    },
    {
      "cell_type": "code",
      "execution_count": null,
      "metadata": {
        "id": "GFBQ7ZJxgCsr",
        "colab": {
          "base_uri": "https://localhost:8080/"
        },
        "outputId": "ccae09a1-0c5b-4356-e3c1-260a91a32562"
      },
      "outputs": [
        {
          "output_type": "stream",
          "name": "stdout",
          "text": [
            "{'w', 'i', 'k'}\n",
            "{1, 2, 3, 4}\n"
          ]
        }
      ],
      "source": [
        "# Example set function usage\n",
        "print(set(\"kiwi\"))\n",
        "print(set([1, 2, 2, 3, 3, 3, 4, 4, 4, 4]))"
      ]
    },
    {
      "cell_type": "code",
      "execution_count": null,
      "metadata": {
        "id": "URwp4RvSgCsr",
        "colab": {
          "base_uri": "https://localhost:8080/"
        },
        "outputId": "0e0b691c-00a4-4428-ff9c-5d2410768101"
      },
      "outputs": [
        {
          "output_type": "stream",
          "name": "stdout",
          "text": [
            "Exercise 83 is correct.\n"
          ]
        }
      ],
      "source": [
        "# Exercise 83\n",
        "# Write a function definition named get_unique_values that takes in a list and returns a set with only the unique values from that list.\n",
        "def get_unique_values(seq):\n",
        "  return set(seq)\n",
        "\n",
        "assert get_unique_values([\"ant\", \"ant\", \"mosquito\", \"mosquito\", \"ladybug\"]) == {\"ant\", \"mosquito\", \"ladybug\"}\n",
        "assert get_unique_values([\"b\", \"a\", \"n\", \"a\", \"n\", \"a\", \"s\"]) == {\"b\", \"a\", \"n\", \"s\"}\n",
        "assert get_unique_values([\"mary\", \"had\", \"a\", \"little\", \"lamb\", \"little\", \"lamb\", \"little\", \"lamb\"]) == {\"mary\", \"had\", \"a\", \"little\", \"lamb\"}\n",
        "print(\"Exercise 83 is correct.\")"
      ]
    },
    {
      "cell_type": "code",
      "execution_count": null,
      "metadata": {
        "id": "0Elt16fPgCss",
        "colab": {
          "base_uri": "https://localhost:8080/"
        },
        "outputId": "451a0c12-d192-424d-f40d-b388a16d4840"
      },
      "outputs": [
        {
          "output_type": "stream",
          "name": "stdout",
          "text": [
            "Exercise 84 is correct.\n"
          ]
        }
      ],
      "source": [
        "# Exercise 84\n",
        "# Write a function definition named get_unique_values_from_two_lists that takes two lists and returns a single set with only the unique values\n",
        "\n",
        "def get_unique_values_from_two_lists(seq, seq1):\n",
        "  joined_list = seq + seq1\n",
        "  return set(joined_list)\n",
        "\n",
        "assert get_unique_values_from_two_lists([5, 1, 2, 3], [3, 4, 5, 5]) == {1, 2, 3, 4, 5}\n",
        "assert get_unique_values_from_two_lists([1, 1], [2, 2, 3]) == {1, 2, 3}\n",
        "assert get_unique_values_from_two_lists([\"tomato\", \"mango\", \"kiwi\"], [\"eggplant\", \"tomato\", \"broccoli\"]) == {\"tomato\", \"mango\", \"kiwi\", \"eggplant\", \"broccoli\"}\n",
        "print(\"Exercise 84 is correct.\")"
      ]
    },
    {
      "cell_type": "code",
      "execution_count": null,
      "metadata": {
        "id": "_ri7Wuk8gCss",
        "colab": {
          "base_uri": "https://localhost:8080/",
          "height": 356
        },
        "outputId": "f5e83d2e-dba5-41f2-ae69-5239e9726904"
      },
      "outputs": [
        {
          "output_type": "error",
          "ename": "AttributeError",
          "evalue": "ignored",
          "traceback": [
            "\u001b[0;31m---------------------------------------------------------------------------\u001b[0m",
            "\u001b[0;31mAttributeError\u001b[0m                            Traceback (most recent call last)",
            "\u001b[0;32m<ipython-input-8-8adcf034e40e>\u001b[0m in \u001b[0;36m<module>\u001b[0;34m()\u001b[0m\n\u001b[1;32m      9\u001b[0m       \u001b[0;32mreturn\u001b[0m \u001b[0;36m0\u001b[0m\u001b[0;34m\u001b[0m\u001b[0;34m\u001b[0m\u001b[0m\n\u001b[1;32m     10\u001b[0m \u001b[0;34m\u001b[0m\u001b[0m\n\u001b[0;32m---> 11\u001b[0;31m \u001b[0;32massert\u001b[0m \u001b[0mget_values_in_common\u001b[0m\u001b[0;34m(\u001b[0m\u001b[0;34m[\u001b[0m\u001b[0;36m5\u001b[0m\u001b[0;34m,\u001b[0m \u001b[0;36m1\u001b[0m\u001b[0;34m,\u001b[0m \u001b[0;36m2\u001b[0m\u001b[0;34m,\u001b[0m \u001b[0;36m3\u001b[0m\u001b[0;34m]\u001b[0m\u001b[0;34m,\u001b[0m \u001b[0;34m[\u001b[0m\u001b[0;36m3\u001b[0m\u001b[0;34m,\u001b[0m \u001b[0;36m4\u001b[0m\u001b[0;34m,\u001b[0m \u001b[0;36m5\u001b[0m\u001b[0;34m,\u001b[0m \u001b[0;36m5\u001b[0m\u001b[0;34m]\u001b[0m\u001b[0;34m)\u001b[0m \u001b[0;34m==\u001b[0m \u001b[0;34m{\u001b[0m\u001b[0;36m3\u001b[0m\u001b[0;34m,\u001b[0m \u001b[0;36m5\u001b[0m\u001b[0;34m}\u001b[0m\u001b[0;34m\u001b[0m\u001b[0;34m\u001b[0m\u001b[0m\n\u001b[0m\u001b[1;32m     12\u001b[0m \u001b[0;32massert\u001b[0m \u001b[0mget_values_in_common\u001b[0m\u001b[0;34m(\u001b[0m\u001b[0;34m[\u001b[0m\u001b[0;36m1\u001b[0m\u001b[0;34m,\u001b[0m \u001b[0;36m2\u001b[0m\u001b[0;34m]\u001b[0m\u001b[0;34m,\u001b[0m \u001b[0;34m[\u001b[0m\u001b[0;36m2\u001b[0m\u001b[0;34m,\u001b[0m \u001b[0;36m2\u001b[0m\u001b[0;34m,\u001b[0m \u001b[0;36m3\u001b[0m\u001b[0;34m]\u001b[0m\u001b[0;34m)\u001b[0m \u001b[0;34m==\u001b[0m \u001b[0;34m{\u001b[0m\u001b[0;36m2\u001b[0m\u001b[0;34m}\u001b[0m\u001b[0;34m\u001b[0m\u001b[0;34m\u001b[0m\u001b[0m\n\u001b[1;32m     13\u001b[0m \u001b[0;32massert\u001b[0m \u001b[0mget_values_in_common\u001b[0m\u001b[0;34m(\u001b[0m\u001b[0;34m[\u001b[0m\u001b[0;34m\"tomato\"\u001b[0m\u001b[0;34m,\u001b[0m \u001b[0;34m\"mango\"\u001b[0m\u001b[0;34m,\u001b[0m \u001b[0;34m\"kiwi\"\u001b[0m\u001b[0;34m]\u001b[0m\u001b[0;34m,\u001b[0m \u001b[0;34m[\u001b[0m\u001b[0;34m\"eggplant\"\u001b[0m\u001b[0;34m,\u001b[0m \u001b[0;34m\"tomato\"\u001b[0m\u001b[0;34m,\u001b[0m \u001b[0;34m\"broccoli\"\u001b[0m\u001b[0;34m]\u001b[0m\u001b[0;34m)\u001b[0m \u001b[0;34m==\u001b[0m \u001b[0;34m{\u001b[0m\u001b[0;34m\"tomato\"\u001b[0m\u001b[0;34m}\u001b[0m\u001b[0;34m\u001b[0m\u001b[0;34m\u001b[0m\u001b[0m\n",
            "\u001b[0;32m<ipython-input-8-8adcf034e40e>\u001b[0m in \u001b[0;36mget_values_in_common\u001b[0;34m(seq, seq1)\u001b[0m\n\u001b[1;32m      4\u001b[0m   \u001b[0mjoined_list\u001b[0m \u001b[0;34m=\u001b[0m \u001b[0mseq\u001b[0m \u001b[0;34m+\u001b[0m \u001b[0mseq1\u001b[0m\u001b[0;34m\u001b[0m\u001b[0;34m\u001b[0m\u001b[0m\n\u001b[1;32m      5\u001b[0m   \u001b[0;32mfor\u001b[0m \u001b[0mx\u001b[0m \u001b[0;32min\u001b[0m \u001b[0mjoined_list\u001b[0m\u001b[0;34m:\u001b[0m\u001b[0;34m\u001b[0m\u001b[0;34m\u001b[0m\u001b[0m\n\u001b[0;32m----> 6\u001b[0;31m     \u001b[0;32mif\u001b[0m \u001b[0mx\u001b[0m\u001b[0;34m.\u001b[0m\u001b[0mcount\u001b[0m\u001b[0;34m(\u001b[0m\u001b[0;34m)\u001b[0m \u001b[0;34m>\u001b[0m \u001b[0;36m1\u001b[0m\u001b[0;34m:\u001b[0m\u001b[0;34m\u001b[0m\u001b[0;34m\u001b[0m\u001b[0m\n\u001b[0m\u001b[1;32m      7\u001b[0m       \u001b[0;32mreturn\u001b[0m \u001b[0mx\u001b[0m\u001b[0;34m\u001b[0m\u001b[0;34m\u001b[0m\u001b[0m\n\u001b[1;32m      8\u001b[0m     \u001b[0;32melse\u001b[0m\u001b[0;34m:\u001b[0m\u001b[0;34m\u001b[0m\u001b[0;34m\u001b[0m\u001b[0m\n",
            "\u001b[0;31mAttributeError\u001b[0m: 'int' object has no attribute 'count'"
          ]
        }
      ],
      "source": [
        "# Exercise 85\n",
        "# Write a function definition named get_values_in_common that takes two lists and returns a single set with the values that each list has in common\n",
        "def get_values_in_common(seq, seq1):\n",
        "\n",
        "\n",
        "assert get_values_in_common([5, 1, 2, 3], [3, 4, 5, 5]) == {3, 5}\n",
        "assert get_values_in_common([1, 2], [2, 2, 3]) == {2}\n",
        "assert get_values_in_common([\"tomato\", \"mango\", \"kiwi\"], [\"eggplant\", \"tomato\", \"broccoli\"]) == {\"tomato\"}\n",
        "print(\"Exercise 85 is correct.\")"
      ]
    },
    {
      "cell_type": "code",
      "execution_count": null,
      "metadata": {
        "id": "uHLjM5IFgCss"
      },
      "outputs": [],
      "source": [
        "# Exercise 86 THIS IS A HARDER FUNCTION\n",
        "# Write a function definition named get_values_not_in_common that takes two lists and returns a single set with the values that each list does not have in common\n",
        "def get_values_not_in_common\n",
        "\n",
        "assert get_values_not_in_common([5, 1, 2, 3], [3, 4, 5, 5]) == {1, 2, 4}\n",
        "assert get_values_not_in_common([1, 1], [2, 2, 3]) == {1, 2, 3}\n",
        "assert get_values_not_in_common([\"tomato\", \"mango\", \"kiwi\"], [\"eggplant\", \"tomato\", \"broccoli\"]) == {\"mango\", \"kiwi\", \"eggplant\", \"broccoli\"}\n",
        "print(\"Exercise 86 is correct.\")"
      ]
    },
    {
      "cell_type": "markdown",
      "metadata": {
        "id": "TGRG0ZfigCst"
      },
      "source": [
        "## Working with Dictionaries\n"
      ]
    },
    {
      "cell_type": "code",
      "execution_count": null,
      "metadata": {
        "id": "X1nM3PUlgCst"
      },
      "outputs": [],
      "source": [
        "# Run this cell in order to have these two dictionary variables defined.\n",
        "tukey_paper = {\n",
        "    \"title\": \"The Future of Data Analysis\",\n",
        "    \"author\": \"John W. Tukey\",\n",
        "    \"link\": \"https://projecteuclid.org/euclid.aoms/1177704711\",\n",
        "    \"year_published\": 1962\n",
        "}\n",
        "\n",
        "thomas_paper = {\n",
        "    \"title\": \"A mathematical model of glutathione metabolism\",\n",
        "    \"author\": \"Rachel Thomas\",\n",
        "    \"link\": \"https://www.ncbi.nlm.nih.gov/pubmed/18442411\",\n",
        "    \"year_published\": 2008\n",
        "}"
      ]
    },
    {
      "cell_type": "code",
      "execution_count": null,
      "metadata": {
        "id": "YHq0FjYSgCst",
        "colab": {
          "base_uri": "https://localhost:8080/"
        },
        "outputId": "05f4444f-a0af-4016-caca-915fe14bd68b"
      },
      "outputs": [
        {
          "output_type": "stream",
          "name": "stdout",
          "text": [
            "Exercise 87 is correct.\n"
          ]
        }
      ],
      "source": [
        "# Exercise 87\n",
        "# Write a function named get_paper_title that takes in a dictionary and returns the title property\n",
        "\n",
        "#There is an access method and a function method. you can make another cell and try both. \n",
        "\n",
        "def get_paper_title(title):\n",
        "  return (title[\"title\"])\n",
        "\n",
        "assert get_paper_title(tukey_paper) == \"The Future of Data Analysis\"\n",
        "assert get_paper_title(thomas_paper) == \"A mathematical model of glutathione metabolism\"\n",
        "print(\"Exercise 87 is correct.\")"
      ]
    },
    {
      "cell_type": "code",
      "execution_count": null,
      "metadata": {
        "id": "c_IDchAzgCsu",
        "colab": {
          "base_uri": "https://localhost:8080/"
        },
        "outputId": "11b42087-dc18-49b7-ffdf-0fb6bdb8504a"
      },
      "outputs": [
        {
          "output_type": "stream",
          "name": "stdout",
          "text": [
            "Exercise 88 is correct.\n"
          ]
        }
      ],
      "source": [
        "# Exercise 88\n",
        "# Write a function named get_year_published that takes in a dictionary and returns the value behind the \"year_published\" key.\n",
        "def get_year_published(year):\n",
        "  return (year[\"year_published\"])\n",
        "\n",
        "assert get_year_published(tukey_paper) == 1962\n",
        "assert get_year_published(thomas_paper) == 2008\n",
        "print(\"Exercise 88 is correct.\")"
      ]
    },
    {
      "cell_type": "code",
      "execution_count": null,
      "metadata": {
        "id": "1ZAY9La-gCsu"
      },
      "outputs": [],
      "source": [
        "# Run this code to create data for the next two questions\n",
        "book = {\n",
        "    \"title\": \"Genetic Algorithms and Machine Learning for Programmers\",\n",
        "    \"price\": 36.99,\n",
        "    \"author\": \"Frances Buontempo\"\n",
        "}"
      ]
    },
    {
      "cell_type": "code",
      "execution_count": null,
      "metadata": {
        "id": "thcFEgaigCsu",
        "colab": {
          "base_uri": "https://localhost:8080/"
        },
        "outputId": "7cfcb81a-6d45-43ac-ba64-c628ee48d585"
      },
      "outputs": [
        {
          "output_type": "stream",
          "name": "stdout",
          "text": [
            "Exercise 89 is complete.\n"
          ]
        }
      ],
      "source": [
        "# Exercise 89\n",
        "# Write a function named get_price that takes in a dictionary and returns the price\n",
        "def get_price(price):\n",
        "  return (price[\"price\"])\n",
        "\n",
        "assert get_price(book) == 36.99\n",
        "print(\"Exercise 89 is complete.\")"
      ]
    },
    {
      "cell_type": "code",
      "execution_count": null,
      "metadata": {
        "id": "hDajHrUtgCsv",
        "colab": {
          "base_uri": "https://localhost:8080/"
        },
        "outputId": "57c8d3d4-9e84-4105-d2ec-281f860fc058"
      },
      "outputs": [
        {
          "output_type": "stream",
          "name": "stdout",
          "text": [
            "Exercise 90 is complete.\n"
          ]
        }
      ],
      "source": [
        "# Exercise 90\n",
        "# Write a function named get_book_author that takes in a dictionary (the above declared book variable) and returns the author's name\n",
        "def get_book_author(auth):\n",
        "  return (auth[\"author\"])\n",
        "\n",
        "\n",
        "assert get_book_author(book) == \"Frances Buontempo\"\n",
        "print(\"Exercise 90 is complete.\")"
      ]
    }
  ],
  "metadata": {
    "colab": {
      "collapsed_sections": [
        "mdFcPXetgCsJ",
        "fUiyyxLrgCsV",
        "9PzP33GYgCsa",
        "kCXqjD8gML7-",
        "kAVQ5VuUgCse",
        "TGRG0ZfigCst"
      ],
      "name": "Intro_to_Python_90_Python_Problems_to_get_you_started (2).ipynb",
      "provenance": []
    },
    "kernelspec": {
      "display_name": "Python 3",
      "language": "python",
      "name": "python3"
    },
    "language_info": {
      "codemirror_mode": {
        "name": "ipython",
        "version": 3
      },
      "file_extension": ".py",
      "mimetype": "text/x-python",
      "name": "python",
      "nbconvert_exporter": "python",
      "pygments_lexer": "ipython3",
      "version": "3.8.8"
    }
  },
  "nbformat": 4,
  "nbformat_minor": 0
}