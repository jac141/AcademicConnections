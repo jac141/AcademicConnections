import turtle
greeny = turtle
colors=["red","blue","green","orange","purple","yellow"] 
turtle.bgcolor("black")
for x in range(36):
  for y in range(6):
    greeny.color(colors[y]) 
    greeny.forward(100)
    greeny.left(60)
  greeny.right(10)
greeny.penup() 
greeny.home
turtle.color("white") 
for x in range(36):
  greeny.forward(220) 
  greeny.pendown() #comment as to why you think there needs to be a penup and pendown: because if there was not than the it would draw in between the circles and it would be not as pretty
  greeny.circle(5) 
  greeny.penup() 
  greeny.backward(220) 
  greeny.right(10) 
for x in range(36):
  greeny.backward(220) 
  greeny.pendown() #comment as to why you think there needs to be a penup and pendown: because if there was not than the it would draw in between the circles and it would be not as pretty
  greeny.circle(5) 
  greeny.penup() 
  greeny.forward(220) 
  greeny.right(10) 
greeny.hideturtle()
