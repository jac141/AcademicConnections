bill = int(input("how much is the bill "))
tippercent = int(input("what percent tip "))
group = int(input("how people in the group are paying (including you) "))
tipamount = bill*(tippercent/100)
tipperperson = tipamount/group
totalperperson = tipperperson + bill
tot = str(totalperperson)
tip = str(tipperperson)
print("the tip per person is "+ tip)
print("the total per person is "+ tot)