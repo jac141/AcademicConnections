{
  "nbformat": 4,
  "nbformat_minor": 0,
  "metadata": {
    "colab": {
      "name": "IntroToPython_HW1_Part1and2 (1).ipynb",
      "provenance": [],
      "collapsed_sections": []
    },
    "kernelspec": {
      "name": "python3",
      "display_name": "Python 3"
    },
    "language_info": {
      "name": "python"
    }
  },
  "cells": [
    {
      "cell_type": "markdown",
      "source": [
        "# Welcome to Intro to Python's Homework 1 Part 1 & 2\n",
        "\n",
        "Hello Students!! I hope this finds you well. I am trying to make these so it is easier for the students to upload and open the questions. It is also slightly easier than the powerpoints. You will be finding many more questions along the way and I hope I don't give you too many. But I believe in you. Good luck.\n"
      ],
      "metadata": {
        "id": "q7Nr3tnx5J5P"
      }
    },
    {
      "cell_type": "code",
      "execution_count": null,
      "metadata": {
        "id": "DzYYZ7xl40d2",
        "colab": {
          "base_uri": "https://localhost:8080/"
        },
        "outputId": "52d7ea0a-a1f8-47a7-d356-1295efd00a22"
      },
      "outputs": [
        {
          "output_type": "stream",
          "name": "stdout",
          "text": [
            "HW Problem 1 Function 1 is correct\n"
          ]
        }
      ],
      "source": [
        "# HW Problem 1 Part 1 Function 1\n",
        "# Make a function called silly_case \n",
        "# that takes a string  and returns a new string that is the same as the input string\n",
        "# but the first letter of each word is in lowercase \n",
        "# and all the other letters are uppercase.\n",
        "# Please do not use looping!!\n",
        "\n",
        "poem = \"It matters now how straight the gate, \\nhow charged with punishments the scroll. \\nI am the master of my fate: \\nI am the captain of my soul.\"\n",
        "x = \"This is a string\"\n",
        "\n",
        "\n",
        "def silly_case(string):\n",
        "  output = string.title().swapcase()\n",
        "  return output\n",
        "\n",
        "silly_case(poem)\n",
        "silly_case(x)\n",
        "\n",
        "assert silly_case(poem) == \"iT mATTERS nOW hOW sTRAIGHT tHE gATE, \\nhOW cHARGED wITH pUNISHMENTS tHE sCROLL. \\ni aM tHE mASTER oF mY fATE: \\ni aM tHE cAPTAIN oF mY sOUL.\"\n",
        "assert silly_case(x) == \"tHIS iS a sTRING\"\n",
        "print(\"HW Problem 1 Function 1 is correct\")"
      ]
    },
    {
      "cell_type": "code",
      "source": [
        "# HW Problem 1 Part 1 Function 2\n",
        "\n",
        "# Make a function called dash_stringify \n",
        "# so that is takes a list of words (strings) and returns a string\n",
        "# that contains all the words from the list with ‘-’ in between the words.\n",
        "# No looping!!!\n",
        "fruits = \"Orange Lemon Lime Cherry Peach Apricot\"\n",
        "nums = \"1 2 3\"\n",
        "\n",
        "def dash_stringify(string): \n",
        "  lis = list(string.split(\" \"))\n",
        "  string = '-'.join(lis)\n",
        "  return string\n",
        " \n",
        "\n",
        "dash_stringify(fruits)\n",
        "dash_stringify(nums)\n",
        "\n",
        "\n",
        "assert dash_stringify(fruits) == \"Orange-Lemon-Lime-Cherry-Peach-Apricot\"\n",
        "try:\n",
        "  assert dash_stringify(nums) == \"1-2-3\"\n",
        "except:\n",
        "  print(\"Dash Stringify can only be used on Strings\")\n",
        "print(\"HW Problem 1 Function 2 is correct\")"
      ],
      "metadata": {
        "id": "Cr1nAses8mzE",
        "colab": {
          "base_uri": "https://localhost:8080/"
        },
        "outputId": "f77f1dd4-0649-4317-828c-04a9525fc560"
      },
      "execution_count": null,
      "outputs": [
        {
          "output_type": "stream",
          "name": "stdout",
          "text": [
            "HW Problem 1 Function 2 is correct\n"
          ]
        }
      ]
    },
    {
      "cell_type": "code",
      "source": [
        "# HW Problem 1 Part 1 Function 3\n",
        "\n",
        "# This function is also probably a part of you 90 problems. \n",
        "\n",
        "\n",
        "# Make a function called is_perfect_square so that it takes a number as an input and returns True if the \n",
        "# given number is a perfect square, or False if it is not. \n",
        "# Please do not use looping!!\n",
        "\n",
        "# A perfect square is an integer number which is the square of an integer. For example 25 (5*5),  49 \n",
        "# (7*7), and 81 (9*9) are all perfect squares\n",
        "def is_perfect_square(num):\n",
        "  if ((num/9)==9):\n",
        "    print(\"True\")\n",
        "  else:\n",
        "    print(\"False\")\n",
        "\n",
        "is_perfect_square(81)\n",
        "is_perfect_square(82) \n",
        "is_perfect_square(81) \n",
        "is_perfect_square(83) \n",
        "is_perfect_square(81) \n",
        "is_perfect_square(83)\n",
        "  \n",
        "\n",
        "\n",
        "assert is_perfect_square1(81) == True\n",
        "assert is_perfect_square1(82) == False\n",
        "assert is_perfect_square2(81) == True\n",
        "assert is_perfect_square2(83) == False\n",
        "assert is_perfect_square3(81) == True\n",
        "assert is_perfect_square3(83) == False\n",
        "\n",
        "print(\"HW1 Function 3 is correct\")\n"
      ],
      "metadata": {
        "id": "iupiEEWqv-_u",
        "colab": {
          "base_uri": "https://localhost:8080/",
          "height": 347
        },
        "outputId": "deec0e8e-32cf-4f0f-e312-1846f538a7d7"
      },
      "execution_count": null,
      "outputs": [
        {
          "output_type": "stream",
          "name": "stdout",
          "text": [
            "True\n",
            "False\n",
            "True\n",
            "False\n",
            "True\n",
            "False\n"
          ]
        },
        {
          "output_type": "error",
          "ename": "NameError",
          "evalue": "ignored",
          "traceback": [
            "\u001b[0;31m---------------------------------------------------------------------------\u001b[0m",
            "\u001b[0;31mNameError\u001b[0m                                 Traceback (most recent call last)",
            "\u001b[0;32m<ipython-input-13-30b49ecc77d0>\u001b[0m in \u001b[0;36m<module>\u001b[0;34m()\u001b[0m\n\u001b[1;32m     25\u001b[0m \u001b[0;34m\u001b[0m\u001b[0m\n\u001b[1;32m     26\u001b[0m \u001b[0;34m\u001b[0m\u001b[0m\n\u001b[0;32m---> 27\u001b[0;31m \u001b[0;32massert\u001b[0m \u001b[0mis_perfect_square1\u001b[0m\u001b[0;34m(\u001b[0m\u001b[0;36m81\u001b[0m\u001b[0;34m)\u001b[0m \u001b[0;34m==\u001b[0m \u001b[0;32mTrue\u001b[0m\u001b[0;34m\u001b[0m\u001b[0;34m\u001b[0m\u001b[0m\n\u001b[0m\u001b[1;32m     28\u001b[0m \u001b[0;32massert\u001b[0m \u001b[0mis_perfect_square1\u001b[0m\u001b[0;34m(\u001b[0m\u001b[0;36m82\u001b[0m\u001b[0;34m)\u001b[0m \u001b[0;34m==\u001b[0m \u001b[0;32mFalse\u001b[0m\u001b[0;34m\u001b[0m\u001b[0;34m\u001b[0m\u001b[0m\n\u001b[1;32m     29\u001b[0m \u001b[0;32massert\u001b[0m \u001b[0mis_perfect_square2\u001b[0m\u001b[0;34m(\u001b[0m\u001b[0;36m81\u001b[0m\u001b[0;34m)\u001b[0m \u001b[0;34m==\u001b[0m \u001b[0;32mTrue\u001b[0m\u001b[0;34m\u001b[0m\u001b[0;34m\u001b[0m\u001b[0m\n",
            "\u001b[0;31mNameError\u001b[0m: name 'is_perfect_square1' is not defined"
          ]
        }
      ]
    },
    {
      "cell_type": "code",
      "source": [
        "# HW Problem 1 Part 1 Function 4\n",
        "\n",
        "# Make a function called is_leap_year so that it takes a year \n",
        "# as a number input and returns True if the given number is a leap year\n",
        "# or False if it is not. \n",
        "\n",
        "\n",
        "# Leap years are years that are divisible by 4\n",
        "# Exception: Centennial years (years divided by 100) are not leap years\n",
        "# Exception to exception: years divisible by 400 are indeed leap years\n",
        "\n",
        "def is_leap_year(year):\n",
        "  x = year/4\n",
        "  y = year/100\n",
        "  z = year/400\n",
        "  if (z - int(z) == 0):\n",
        "    print(\"True\")\n",
        "  elif (y - int(y) == 0):\n",
        "    print(\"False\")\n",
        "  elif (x - int(x) == 0):\n",
        "    print(\"True\")\n",
        "  else:\n",
        "     print(\"False\") \n",
        "\n",
        "is_leap_year(1900)\n",
        "is_leap_year(2000)\n",
        "is_leap_year(2012)\n",
        "is_leap_year(2018)\n",
        "    \n",
        "\n",
        "\n",
        "\n",
        "assert is_leap_year(1900) == False\n",
        "assert is_leap_year(2000) == True\n",
        "assert is_leap_year(2012) == True\n",
        "assert is_leap_year(2018) == False\n",
        "\n",
        "print(\"HW1 Function 4 is correct\")\n",
        "\n",
        "\n"
      ],
      "metadata": {
        "id": "LkJMQVardWuZ",
        "colab": {
          "base_uri": "https://localhost:8080/",
          "height": 329
        },
        "outputId": "9f0e6280-cd9e-4b3c-e832-df80eb2a4970"
      },
      "execution_count": null,
      "outputs": [
        {
          "output_type": "stream",
          "name": "stdout",
          "text": [
            "False\n",
            "True\n",
            "True\n",
            "False\n",
            "False\n"
          ]
        },
        {
          "output_type": "error",
          "ename": "AssertionError",
          "evalue": "ignored",
          "traceback": [
            "\u001b[0;31m---------------------------------------------------------------------------\u001b[0m",
            "\u001b[0;31mAssertionError\u001b[0m                            Traceback (most recent call last)",
            "\u001b[0;32m<ipython-input-14-16d58671a16c>\u001b[0m in \u001b[0;36m<module>\u001b[0;34m()\u001b[0m\n\u001b[1;32m     31\u001b[0m \u001b[0;34m\u001b[0m\u001b[0m\n\u001b[1;32m     32\u001b[0m \u001b[0;34m\u001b[0m\u001b[0m\n\u001b[0;32m---> 33\u001b[0;31m \u001b[0;32massert\u001b[0m \u001b[0mis_leap_year\u001b[0m\u001b[0;34m(\u001b[0m\u001b[0;36m1900\u001b[0m\u001b[0;34m)\u001b[0m \u001b[0;34m==\u001b[0m \u001b[0;32mFalse\u001b[0m\u001b[0;34m\u001b[0m\u001b[0;34m\u001b[0m\u001b[0m\n\u001b[0m\u001b[1;32m     34\u001b[0m \u001b[0;32massert\u001b[0m \u001b[0mis_leap_year\u001b[0m\u001b[0;34m(\u001b[0m\u001b[0;36m2000\u001b[0m\u001b[0;34m)\u001b[0m \u001b[0;34m==\u001b[0m \u001b[0;32mTrue\u001b[0m\u001b[0;34m\u001b[0m\u001b[0;34m\u001b[0m\u001b[0m\n\u001b[1;32m     35\u001b[0m \u001b[0;32massert\u001b[0m \u001b[0mis_leap_year\u001b[0m\u001b[0;34m(\u001b[0m\u001b[0;36m2012\u001b[0m\u001b[0;34m)\u001b[0m \u001b[0;34m==\u001b[0m \u001b[0;32mTrue\u001b[0m\u001b[0;34m\u001b[0m\u001b[0;34m\u001b[0m\u001b[0m\n",
            "\u001b[0;31mAssertionError\u001b[0m: "
          ]
        }
      ]
    }
  ]
}