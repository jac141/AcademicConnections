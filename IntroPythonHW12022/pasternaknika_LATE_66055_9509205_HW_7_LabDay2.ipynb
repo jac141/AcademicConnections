{
  "nbformat": 4,
  "nbformat_minor": 0,
  "metadata": {
    "colab": {
      "name": "HW 7 LabDay2.ipynb",
      "provenance": []
    },
    "kernelspec": {
      "name": "python3",
      "display_name": "Python 3"
    },
    "language_info": {
      "name": "python"
    }
  },
  "cells": [
    {
      "cell_type": "code",
      "execution_count": null,
      "metadata": {
        "id": "lCDKJbJUYlNn"
      },
      "outputs": [],
      "source": [
        "### EXPERIMENT 1: Row of colored squares\n",
        "\n",
        "import turtle\n",
        "\n",
        "colors = ['red', 'orange', 'yellow', 'green', 'blue', 'purple']\n",
        "\n",
        "# Repeat 6 times\n",
        "for i in range(6):\n",
        "    color = colors[i] # Select color from list\n",
        "    \n",
        "    # Repeat 4 times for each side of square\n",
        "    for j in range(4):\n",
        "        turtle.color(colors[i])\n",
        "        turtle.forward(20)\n",
        "        turtle.left(90)\n",
        "    turtle.penup()\n",
        "    turtle.forward(30) # Make space between squares\n",
        "    turtle.pendown()\n",
        "    \n",
        "turtle.hideturtle()"
      ]
    },
    {
      "cell_type": "code",
      "source": [
        "### EXPERIMENT 4: Repeating Shapes\n",
        "\n",
        "import turtle\n",
        "\n",
        "for i in range(36):\n",
        "    \n",
        "    # Create repeating circles\n",
        "    # turtle.circle(100)\n",
        "    \n",
        "    # Changing step 2 to draw squares instead:\n",
        "    for j in range(4):\n",
        "        turtle.forward(200)\n",
        "        turtle.left(90)\n",
        "    turtle.right(10)"
      ],
      "metadata": {
        "id": "S5ZRdmjTYoMj"
      },
      "execution_count": null,
      "outputs": []
    }
  ]
}