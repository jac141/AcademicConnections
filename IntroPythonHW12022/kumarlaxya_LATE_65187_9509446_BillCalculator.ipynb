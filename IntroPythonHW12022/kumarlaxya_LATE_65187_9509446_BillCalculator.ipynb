{
  "nbformat": 4,
  "nbformat_minor": 0,
  "metadata": {
    "colab": {
      "name": "BillCalculator.ipynb",
      "provenance": []
    },
    "kernelspec": {
      "name": "python3",
      "display_name": "Python 3"
    },
    "language_info": {
      "name": "python"
    }
  },
  "cells": [
    {
      "cell_type": "code",
      "execution_count": 4,
      "metadata": {
        "colab": {
          "base_uri": "https://localhost:8080/"
        },
        "id": "XzFqthTdkXvA",
        "outputId": "fa2e945d-4ef6-4ef4-fa65-22343af6a0a3"
      },
      "outputs": [
        {
          "output_type": "stream",
          "name": "stdout",
          "text": [
            "Enter length of the room in feet10\n",
            "Enter width of the room in feet10\n",
            "Enter height of the room in feet10\n",
            "Enter amount of windows in the room 4\n",
            "Enter amount of doors in the room 2\n",
            "Total surface area to paint is: 290\n",
            "Number of gallons of paint needed: 2.9\n"
          ]
        }
      ],
      "source": [
        "length =int(input(\"Enter length of the room in feet\"))\n",
        "\n",
        "width = int(input(\"Enter width of the room in feet\"))\n",
        "\n",
        "height = int(input(\"Enter height of the room in feet\"))\n",
        "\n",
        "windows = int(input(\"Enter amount of windows in the room \"))\n",
        "\n",
        "doors = int(input(\"Enter amount of doors in the room \"))\n",
        "\n",
        "windows = windows * 20 \n",
        "\n",
        "doors = doors * 15\n",
        "\n",
        "wallArea = ((2 * length * width) + (2 * height * width)) - (windows + doors)\n",
        "noPaintArea = wallArea\n",
        "noPaintArea = str(noPaintArea)\n",
        "\n",
        "gallons = wallArea * 0.01 \n",
        "wallArea = str(wallArea)\n",
        "gallons = str(gallons)\n",
        "\n",
        "print(\"Total surface area to paint is: \" + wallArea)\n",
        "print(\"Number of gallons of paint needed: \" + gallons)\n",
        "\n",
        "\n",
        "\n",
        "\n",
        "\n",
        "\n",
        "\n",
        "\n"
      ]
    }
  ]
}