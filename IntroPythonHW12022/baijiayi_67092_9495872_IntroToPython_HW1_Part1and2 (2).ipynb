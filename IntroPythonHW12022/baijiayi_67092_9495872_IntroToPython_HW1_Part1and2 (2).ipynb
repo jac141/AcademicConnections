{
  "nbformat": 4,
  "nbformat_minor": 0,
  "metadata": {
    "colab": {
      "name": "IntroToPython_HW1_Part1and2.ipynb",
      "provenance": []
    },
    "kernelspec": {
      "name": "python3",
      "display_name": "Python 3"
    },
    "language_info": {
      "name": "python"
    }
  },
  "cells": [
    {
      "cell_type": "markdown",
      "source": [
        "# Welcome to Intro to Python's Homework 1 Part 1 & 2\n",
        "\n",
        "Hello Students!! I hope this finds you well. I am trying to make these so it is easier for the students to upload and open the questions. It is also slightly easier than the powerpoints. You will be finding many more questions along the way and I hope I don't give you too many. But I believe in you. Good luck.\n"
      ],
      "metadata": {
        "id": "q7Nr3tnx5J5P"
      }
    },
    {
      "cell_type": "code",
      "execution_count": 1,
      "metadata": {
        "id": "DzYYZ7xl40d2",
        "colab": {
          "base_uri": "https://localhost:8080/"
        },
        "outputId": "04c9641b-d932-47ba-96c1-47b90a4b3557"
      },
      "outputs": [
        {
          "output_type": "stream",
          "name": "stdout",
          "text": [
            "HW Problem 1 Function 1 is correct\n"
          ]
        }
      ],
      "source": [
        "# HW Problem 1 Part 1 Function 1\n",
        "# Make a function called silly_case \n",
        "# that takes a string  and returns a new string that is the same as the input string\n",
        "# but the first letter of each word is in lowercase \n",
        "# and all the other letters are uppercase.\n",
        "# Please do not use looping!!\n",
        "\n",
        "poem = \"It matters now how straight the gate, \\nhow charged with punishments the scroll. \\nI am the master of my fate: \\nI am the captain of my soul.\"\n",
        "x = \"This is a string\"\n",
        "\n",
        "def silly_case(string):\n",
        "  return string.title().swapcase()\n",
        "\n",
        "\n",
        "\n",
        "assert silly_case(poem) == \"iT mATTERS nOW hOW sTRAIGHT tHE gATE, \\nhOW cHARGED wITH pUNISHMENTS tHE sCROLL. \\ni aM tHE mASTER oF mY fATE: \\ni aM tHE cAPTAIN oF mY sOUL.\"\n",
        "assert silly_case(x) == \"tHIS iS a sTRING\"\n",
        "print(\"HW Problem 1 Function 1 is correct\")"
      ]
    },
    {
      "cell_type": "code",
      "source": [
        "# HW Problem 1 Part 1 Function 2\n",
        "\n",
        "# Make a function called dash_stringify \n",
        "# so that is takes a list of words (strings) and returns a string\n",
        "# that contains all the words from the list with ‘-’ in between the words.\n",
        "# No looping!!!\n",
        "\n",
        "fruits = ['Orange','Lemon','Lime','Cherry','Peach','Apricot']\n",
        "nums = ['1','2','3']\n",
        "\n",
        "def dash_stringify(word_list):\n",
        "  return \"-\".join(word_list)\n",
        "\n",
        "\n",
        "\n",
        "\n",
        "assert dash_stringify(fruits) == \"Orange-Lemon-Lime-Cherry-Peach-Apricot\"\n",
        "try:\n",
        "  assert dash_stringify(nums) == \"1-2-3\"\n",
        "except:\n",
        "  print(\"Dash Stringify can only be used on Strings\")\n",
        "print(\"HW Problem 1 Function 2 is correct\")"
      ],
      "metadata": {
        "id": "Cr1nAses8mzE",
        "colab": {
          "base_uri": "https://localhost:8080/"
        },
        "outputId": "1b913dea-2223-473d-bc23-52f3bf27bed8"
      },
      "execution_count": 3,
      "outputs": [
        {
          "output_type": "stream",
          "name": "stdout",
          "text": [
            "HW Problem 1 Function 2 is correct\n"
          ]
        }
      ]
    },
    {
      "cell_type": "code",
      "source": [
        "# HW Problem 1 Part 1 Function 3\n",
        "\n",
        "# This function is also probably a part of you 90 problems. \n",
        "\n",
        "\n",
        "# Make a function called is_perfect_square so that it takes a number as an input and returns True if the \n",
        "# given number is a perfect square, or False if it is not. \n",
        "# Please do not use looping!!\n",
        "\n",
        "# A perfect square is an integer number which is the square of an integer. For example 25 (5*5),  49 \n",
        "# (7*7), and 81 (9*9) are all perfect squares\n",
        "\n",
        "def is_perfect_square1(integer):\n",
        "  root = integer ** 0.5\n",
        "  if integer/root == integer//root:\n",
        "    return True\n",
        "  else:\n",
        "    return False\n",
        "\n",
        "assert is_perfect_square1(81) == True\n",
        "assert is_perfect_square1(82) == False\n",
        "assert is_perfect_square1(81) == True\n",
        "assert is_perfect_square1(83) == False\n",
        "assert is_perfect_square1(81) == True\n",
        "assert is_perfect_square1(83) == False\n",
        "\n",
        "print(\"HW1 Function 3 is correct\")\n"
      ],
      "metadata": {
        "id": "iupiEEWqv-_u",
        "colab": {
          "base_uri": "https://localhost:8080/"
        },
        "outputId": "212b5f36-c04c-4f3f-d1ab-05b8e829ee67"
      },
      "execution_count": 8,
      "outputs": [
        {
          "output_type": "stream",
          "name": "stdout",
          "text": [
            "HW1 Function 3 is correct\n"
          ]
        }
      ]
    },
    {
      "cell_type": "code",
      "source": [
        "# HW Problem 1 Part 1 Function 4\n",
        "\n",
        "# Make a function called is_leap_year so that it takes a year \n",
        "# as a number input and returns True if the given number is a leap year\n",
        "# or False if it is not. \n",
        "\n",
        "\n",
        "# Leap years are years that are divisible by 4\n",
        "# Exception: Centennial years (years divided by 100) are not leap years\n",
        "# Exception to exception: years divisible by 400 are indeed leap years\n",
        "\n",
        "def is_leap_year(year):\n",
        "  leap = False\n",
        "  if year % 4 == 0 and year % 100 != 0 or year % 400 == 0:\n",
        "      leap = True\n",
        "  else:\n",
        "    leap = False\n",
        "  return leap\n",
        "\n",
        "assert is_leap_year(1900) == False\n",
        "assert is_leap_year(2000) == True\n",
        "assert is_leap_year(2012) == True\n",
        "assert is_leap_year(2018) == False\n",
        "\n",
        "print(\"HW1 Function 4 is correct\")\n",
        "\n",
        "\n"
      ],
      "metadata": {
        "id": "LkJMQVardWuZ",
        "colab": {
          "base_uri": "https://localhost:8080/"
        },
        "outputId": "df3ee6b7-86ca-445a-aae8-6548f41b8c55"
      },
      "execution_count": 27,
      "outputs": [
        {
          "output_type": "stream",
          "name": "stdout",
          "text": [
            "HW1 Function 4 is correct\n"
          ]
        }
      ]
    }
  ]
}