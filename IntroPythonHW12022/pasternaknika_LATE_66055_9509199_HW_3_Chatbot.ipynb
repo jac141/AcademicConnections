{
  "nbformat": 4,
  "nbformat_minor": 0,
  "metadata": {
    "colab": {
      "name": "HW 3 Chatbot.ipynb",
      "provenance": [],
      "collapsed_sections": []
    },
    "kernelspec": {
      "name": "python3",
      "display_name": "Python 3"
    },
    "language_info": {
      "name": "python"
    }
  },
  "cells": [
    {
      "cell_type": "code",
      "execution_count": null,
      "metadata": {
        "colab": {
          "base_uri": "https://localhost:8080/"
        },
        "id": "ggVc-YgxKiSj",
        "outputId": "c65054a3-9ec9-48e9-e2b4-ce6021bb3c23"
      },
      "outputs": [
        {
          "output_type": "stream",
          "name": "stdout",
          "text": [
            "Hello. I am Zyxo 64. I am a chatbot\n",
            "I like animals and I love to talk about food\n",
            "What is your name?: Nika\n",
            "Hello Nika , Nice to meet you\n",
            "I am not very good at dates. What is the year?:2022\n",
            "2022 ? Yes, I think that is correct. Thanks!\n",
            "Can you guess my age? Enter a number: 18\n",
            "Yes you are right. I am  18\n",
            "I will be 100 in 82 years\n",
            "That will be the year 2104\n",
            "I love chocolate and trying new kinds of food\n",
            "What is your favorite food?: chicken\n",
            "I like chicken too\n",
            "How often do you eat chicken?: 5 days a week\n",
            "Interesting. I wonder if that is good for your health\n",
            "What is your favorite animal?: koala\n",
            "That is your favorite animal! I do not like them!\n",
            "I wonder if koala like to eat chicken\n",
            "How are you feeling?: tired\n",
            "Why are you feeling this way?: long day\n",
            "I understand. Thank you for sharing\n",
            "It has been a long day\n",
            "I am too tired to talk. We can chat later\n",
            "Goodbye, Nika I like chatting with you\n"
          ]
        }
      ],
      "source": [
        "#Nika Pasternak\n",
        "\n",
        "\n",
        "# Chatbot introduction\n",
        "print (\"Hello. I am Zyxo 64. I am a chatbot\")\n",
        "print (\"I like animals and I love to talk about food\")\n",
        "name = input(\"What is your name?: \")\n",
        "print(\"Hello\", name, \", Nice to meet you\")\n",
        "\n",
        "# Get year information\n",
        "year = input(\"I am not very good at dates. What is the year?:\")\n",
        "print (year, \"?\",\"Yes, I think that is correct. Thanks!\")\n",
        "\n",
        "# Ask user to guess age\n",
        "myage = input(\"Can you guess my age? Enter a number: \")\n",
        "print(\"Yes you are right. I am \", myage)\n",
        "\n",
        "# Do math to calculate when chatbot will be 100\n",
        "myage = int(myage)\n",
        "nyears = 100 - myage\n",
        "print(\"I will be 100 in\", nyears, \"years\")\n",
        "print(\"That will be the year\", int(year) + nyears)\n",
        "\n",
        "# Find out favorite food\n",
        "print (\"I love chocolate and trying new kinds of food\")\n",
        "food = input(\"What is your favorite food?: \")\n",
        "print(\"I like\", food, \"too\")\n",
        "freq = input(\"How often do you eat \" + food + \"?: \")\n",
        "print(\"Interesting. I wonder if that is good for your health\")\n",
        "\n",
        "# Find out favorite animal\n",
        "animal = input(\"What is your favorite animal?: \")\n",
        "print(\"That is your favorite animal! I do not like them!\")\n",
        "print(\"I wonder if\" + animal + 's like to eat', food)\n",
        "\n",
        "#find out how you're feeling\n",
        "feeling = input(\"How are you feeling?: \")\n",
        "response = input(\"Why are you feeling this way?: \")\n",
        "print(\"I understand. Thank you for sharing\")\n",
        "\n",
        "# Farewell closure\n",
        "print (\"It has been a long day\")\n",
        "print (\"I am too tired to talk. We can chat later\")\n",
        "print (\"Goodbye,\", name, \"I like chatting with you\")"
      ]
    }
  ]
}