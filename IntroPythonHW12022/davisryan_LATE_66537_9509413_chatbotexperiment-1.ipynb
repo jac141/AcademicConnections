inch = input("how many inches ")
cm = int(inch)/2.54
pound = input("how many pounds ")
kg = int(pound)/2.2
ftemp = int(input("how many degrees in fahreneheit is it outside "))
tempa = (ftemp - 32)*5/9
cmm = str(cm)
kgg = str(kg)
tempss = str(tempa)
print ("In centimeters, that is equal to "+cmm)
print ("In kilograms, that is equal to "+kgg)
print ("In celsius, that is equal to "+tempss)
  
