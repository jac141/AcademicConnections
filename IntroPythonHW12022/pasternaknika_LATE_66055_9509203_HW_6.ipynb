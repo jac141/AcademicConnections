{
  "nbformat": 4,
  "nbformat_minor": 0,
  "metadata": {
    "colab": {
      "name": "HW 6.ipynb",
      "provenance": []
    },
    "kernelspec": {
      "name": "python3",
      "display_name": "Python 3"
    },
    "language_info": {
      "name": "python"
    }
  },
  "cells": [
    {
      "cell_type": "code",
      "execution_count": null,
      "metadata": {
        "id": "JwjCIYOLXGN_"
      },
      "outputs": [],
      "source": [
        "import turtle\n",
        "\n",
        "### STEP 3: Make the background black\n",
        "turtle.Screen().bgcolor('black')\n",
        "# Set drawing color to white so it is easier to see\n",
        "turtle.pencolor('white')\n",
        "\n",
        "# Create a list of colors to use\n",
        "colors = ['red', 'orange', 'yellow', 'green', 'blue', 'purple']\n",
        "\n",
        "### STEP 2: Make a circle of hexagons\n",
        "for j in range(36):\n",
        "    ### STEP 1: Make a hexagon\n",
        "    for i in range(6): # For each side in the hexagon\n",
        "        turtle.color(colors[i]) # For Step 3: Choose a color from color list\n",
        "        turtle.forward(100) # Take 100 steps forward\n",
        "        turtle.left(60) # Turn left by 60 degrees\n",
        "        print('Turtle is on the', i + 1, 'side of hexagon number', j + 1)\n",
        "    turtle.right(10)\n",
        "    \n",
        "### STEP 4: Add small white circles around pattern\n",
        "turtle.penup()\n",
        "turtle.pencolor('white')\n",
        "\n",
        "for i in range(36):\n",
        "    turtle.forward(220)\n",
        "    turtle.pendown() #Penup and Pendown used to start/start drawing\n",
        "    turtle.circle(5)\n",
        "    turtle.penup()\n",
        "    turtle.backward(220)\n",
        "    turtle.right(10)\n",
        "    \n",
        "turtle.hideturtle()"
      ]
    },
    {
      "cell_type": "code",
      "source": [
        ""
      ],
      "metadata": {
        "id": "HLblDhHoJv1S"
      },
      "execution_count": null,
      "outputs": []
    }
  ]
}