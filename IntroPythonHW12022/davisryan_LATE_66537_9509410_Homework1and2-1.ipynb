{
  "nbformat": 4,
  "nbformat_minor": 0,
  "metadata": {
    "colab": {
      "name": "Homework1and2.ipynb",
      "provenance": []
    },
    "kernelspec": {
      "name": "python3",
      "display_name": "Python 3"
    },
    "language_info": {
      "name": "python"
    }
  },
  "cells": [
    {
      "cell_type": "code",
      "execution_count": null,
      "metadata": {
        "id": "_iK3OERvi7C7"
      },
      "outputs": [],
      "source": [
        "silly_case = input(\"what is your phrase \")\n",
        "sillycase = silly_case.title().swapcase()\n",
        "print(sillycase)\n",
        "  "
      ]
    },
    {
      "cell_type": "code",
      "source": [
        "Dogs = [\"lab\", \"poddle\", \"bernese\", \"golden\"]\n",
        "fruits = [\"Orange\", \"Lemon\", \"Lime\", \"Cherry\", \"Peach\", \"Apricot\"]\n",
        "def dash_stringify(words):\n",
        "  fix = \"-\".join(words)\n",
        "  return fix\n",
        "print(dash_stringify(Dogs))\n",
        "print(dash_stringify(fruits))"
      ],
      "metadata": {
        "id": "0160vMnBi9s7",
        "colab": {
          "base_uri": "https://localhost:8080/"
        },
        "outputId": "71ee0cb5-ed37-44fd-aab0-8aa2b14bbbb7"
      },
      "execution_count": 16,
      "outputs": [
        {
          "output_type": "stream",
          "name": "stdout",
          "text": [
            "lab-poddle-bernese-golden\n",
            "Orange-Lemon-Lime-Cherry-Peach-Apricot\n"
          ]
        }
      ]
    },
    {
      "cell_type": "code",
      "source": [
        "#integer = int(input(\"enter \")\n",
        "def rooooot(integer):\n",
        "  squareroot = integer**.5\n",
        "  roott = int(squareroot)\n",
        "  if roott == squareroot:\n",
        "    print(\"true\")\n",
        "    return True\n",
        "  else:\n",
        "    print(\"false\")\n",
        "    return False\n",
        "assert rooooot(81) == True\n",
        "assert rooooot(79) == False\n",
        "print(\"HW1 Function 3 is correct\")\n",
        "   \n",
        "  "
      ],
      "metadata": {
        "id": "VK30oYj3KGZV",
        "colab": {
          "base_uri": "https://localhost:8080/"
        },
        "outputId": "b06273e6-194f-473b-a045-7a6626f2152e"
      },
      "execution_count": 14,
      "outputs": [
        {
          "output_type": "stream",
          "name": "stdout",
          "text": [
            "true\n",
            "false\n",
            "HW1 Function 3 is correct\n"
          ]
        }
      ]
    },
    {
      "cell_type": "code",
      "source": [
        "Year = int(input(\"enter year \"))\n",
        "def CheckLeap(Year):\n",
        "  if(Year % 400 == 0 ) or (Year % 100 != 0) and (Year % 4 == 0):\n",
        "    print(\"Given year is a leap year\")\n",
        "  else:\n",
        "    print(\"Given year is not a leap year\")\n",
        "CheckLeap(Year) "
      ],
      "metadata": {
        "id": "WWKG4ns8i7xW"
      },
      "execution_count": null,
      "outputs": []
    }
  ]
}