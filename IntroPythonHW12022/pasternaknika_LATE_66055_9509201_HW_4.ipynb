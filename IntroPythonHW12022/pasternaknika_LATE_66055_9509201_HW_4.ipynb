{
  "cells": [
    {
      "cell_type": "code",
      "execution_count": null,
      "metadata": {
        "colab": {
          "base_uri": "https://localhost:8080/"
        },
        "id": "rGivsVbs1ZbE",
        "outputId": "b1b0880a-7d61-4e38-829b-22a4240a0e59"
      },
      "outputs": [
        {
          "output_type": "stream",
          "name": "stdout",
          "text": [
            "Name an object in this room: chair\n",
            "What kind of food do you like?: steak\n",
            "What is your favorite color: purple\n",
            "Enter a name of a zoo animal: koala\n",
            "The koala jumped onto the purple chair and flew across the city to eat steak at his favorite restaurant.\n"
          ]
        }
      ],
      "source": [
        "#Nika Pasternak\n",
        "\n",
        "### EXPERIMENT 1: MAD LIBS\n",
        "\n",
        "room_item = input(\"Name an object in this room: \")\n",
        "food = input(\"What kind of food do you like?: \")\n",
        "color = input(\"What is your favorite color: \")\n",
        "animal = input(\"Enter a name of a zoo animal: \")\n",
        "\n",
        "print(f\"The {animal} jumped onto the {color} {room_item} and flew across the city to eat {food} at his favorite restaurant.\")\n",
        "\n"
      ]
    },
    {
      "cell_type": "code",
      "execution_count": null,
      "metadata": {
        "id": "XP11UVXp9RN3",
        "colab": {
          "base_uri": "https://localhost:8080/"
        },
        "outputId": "8cb3ac01-eab8-4bc4-abe6-556a5f7bff4f"
      },
      "outputs": [
        {
          "output_type": "stream",
          "name": "stdout",
          "text": [
            "Enter something plural that is red. Example roses: Apples\n",
            "Enter something plural that is blue. Example violets: Journals\n",
            "Enter something plural you love. Example puppies: People\n",
            "Enter a verb such as jumping, singing: Laughing\n",
            "Apples are red \n",
            "Journals are blue \n",
            "I like People \n",
            "But not as much as I love Laughing with you!\n"
          ]
        }
      ],
      "source": [
        "### EXPERIMENT 2: SONG LYRICS GENERATOR\n",
        "red = input(\"Enter something plural that is red. Example roses: \")\n",
        "blue = input(\"Enter something plural that is blue. Example violets: \")\n",
        "love = input(\"Enter something plural you love. Example puppies: \")\n",
        "verb = input(\"Enter a verb such as jumping, singing: \")\n",
        "\n",
        "print(f\"{red} are red \")\n",
        "print(f\"{blue} are blue \")\n",
        "print(f\"I like {love} \")\n",
        "print(f\"But not as much as I love {verb} with you!\")\n"
      ]
    },
    {
      "cell_type": "code",
      "source": [
        ""
      ],
      "metadata": {
        "id": "B7Tq8AgUTXEr"
      },
      "execution_count": null,
      "outputs": []
    }
  ],
  "metadata": {
    "colab": {
      "name": "HW 4.ipynb",
      "provenance": []
    },
    "kernelspec": {
      "display_name": "Python 3",
      "name": "python3"
    },
    "language_info": {
      "name": "python"
    }
  },
  "nbformat": 4,
  "nbformat_minor": 0
}