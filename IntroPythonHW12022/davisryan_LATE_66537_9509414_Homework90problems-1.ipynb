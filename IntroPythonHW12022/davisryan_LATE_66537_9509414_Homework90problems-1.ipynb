{
  "nbformat": 4,
  "nbformat_minor": 0,
  "metadata": {
    "colab": {
      "name": "Homework90problems.ipynb",
      "provenance": [],
      "toc_visible": true
    },
    "kernelspec": {
      "name": "python3",
      "display_name": "Python 3"
    },
    "language_info": {
      "name": "python"
    }
  },
  "cells": [
    {
      "cell_type": "code",
      "source": [
        "# Exercise 1\n",
        "# On the line below, create a variable named on_mars_right_now and assign it the boolean value of False\n",
        "on_mars_right_now = False\n",
        "\n",
        "assert on_mars_right_now == False, \"If you see a Name Error, be sure to create the variable and assign it a value.\"\n",
        "print(\"Exercise 1 is correct.\")"
      ],
      "metadata": {
        "colab": {
          "base_uri": "https://localhost:8080/"
        },
        "id": "Sk7kYhIE32PW",
        "outputId": "41275332-9c8e-4ed5-b563-05b1f3de1a54"
      },
      "execution_count": null,
      "outputs": [
        {
          "output_type": "stream",
          "name": "stdout",
          "text": [
            "Exercise 1 is correct.\n"
          ]
        }
      ]
    },
    {
      "cell_type": "code",
      "source": [
        "# Exercise 2\n",
        "# Create a variable named fruits and assign it a list of fruits containing the following fruit names as strings: \n",
        "# mango, banana, guava, kiwi, and strawberry.\n",
        "fruits = [\"mango\", \"banana\", \"guava\", \"kiwi\", \"strawberry\"]\n",
        "\n",
        "\n",
        "assert fruits == [\"mango\", \"banana\", \"guava\", \"kiwi\", \"strawberry\"], \"If you see an Assert Error, ensure the variable contains all the strings in the provided order\"\n",
        "print(\"Exercise 2 is correct.\")"
      ],
      "metadata": {
        "colab": {
          "base_uri": "https://localhost:8080/"
        },
        "id": "8qwecdEf32MY",
        "outputId": "ba73413f-f003-4ed5-fab7-53ee693d0fca"
      },
      "execution_count": null,
      "outputs": [
        {
          "output_type": "stream",
          "name": "stdout",
          "text": [
            "Exercise 2 is correct.\n"
          ]
        }
      ]
    },
    {
      "cell_type": "code",
      "source": [
        "# Exercise 3\n",
        "# Create a variable named vegetables and assign it a list of fruits containing the following vegetable names as strings: \n",
        "# eggplant, broccoli, carrot, cauliflower, and zucchini\n",
        "\n",
        "vegetables = [\"eggplant\", \"broccoli\", \"carrot\", \"cauliflower\", \"zucchini\"]\n",
        "assert vegetables == [\"eggplant\", \"broccoli\", \"carrot\", \"cauliflower\", \"zucchini\"], \"Ensure the variable contains all the strings in the provided order\"\n",
        "print(\"Exercise 3 is correct.\")"
      ],
      "metadata": {
        "colab": {
          "base_uri": "https://localhost:8080/"
        },
        "id": "pwWRzD8y32I-",
        "outputId": "18b4b4c5-d13e-4616-9804-2f450b45001f"
      },
      "execution_count": null,
      "outputs": [
        {
          "output_type": "stream",
          "name": "stdout",
          "text": [
            "Exercise 3 is correct.\n"
          ]
        }
      ]
    },
    {
      "cell_type": "code",
      "source": [
        "# Exercise 4\n",
        "# Create a variable named numbers and assign it a list of numbers, 1, 2, 3, 4, 5, 6, 7, 8, 9, 10\n",
        "\n",
        "numbers = [1, 2, 3, 4, 5, 6, 7, 8, 9, 10] \n",
        "assert numbers == [1, 2, 3, 4, 5, 6, 7, 8, 9, 10], \"Ensure the variable contains the numbers 1-10 in order.\"\n",
        "print(\"Exercise 4 is correct.\")"
      ],
      "metadata": {
        "colab": {
          "base_uri": "https://localhost:8080/"
        },
        "id": "nfpOk1mf32Fi",
        "outputId": "6dc29135-aea4-41de-ff32-20196a152afb"
      },
      "execution_count": null,
      "outputs": [
        {
          "output_type": "stream",
          "name": "stdout",
          "text": [
            "Exercise 4 is correct.\n"
          ]
        }
      ]
    },
    {
      "cell_type": "code",
      "source": [
        "# Exercise 5\n",
        "# Given the following assigment of the list of fruits, add \"tomato\" to the end of the list. \n",
        "fruits = [\"mango\", \"banana\", \"guava\", \"kiwi\", \"strawberry\"]\n",
        "fruits.append(\"tomato\")\n",
        "\n",
        "assert fruits == [\"mango\", \"banana\", \"guava\", \"kiwi\", \"strawberry\", \"tomato\"], \"Ensure the variable contains all the strings in the right order\"\n",
        "print(\"Exercise 5 is correct\")"
      ],
      "metadata": {
        "colab": {
          "base_uri": "https://localhost:8080/"
        },
        "id": "Lluvd4Ie317A",
        "outputId": "d9be5b4d-4200-4127-d45b-5fb9c732d17d"
      },
      "execution_count": null,
      "outputs": [
        {
          "output_type": "stream",
          "name": "stdout",
          "text": [
            "Exercise 5 is correct\n"
          ]
        }
      ]
    },
    {
      "cell_type": "code",
      "source": [
        "# Exercise 6\n",
        "# Given the following assignment of the vegetables list, add \"tomato\" to the end of the list.\n",
        "vegetables = [\"eggplant\", \"broccoli\", \"carrot\", \"cauliflower\", \"zucchini\"]\n",
        "vegetables.append(\"tomato\")\n",
        "\n",
        "assert vegetables == [\"eggplant\", \"broccoli\", \"carrot\", \"cauliflower\", \"zucchini\", \"tomato\"], \"Ensure the variable contains all the strings in the provided order\"\n",
        "print(\"Exercise 6 is correct\")"
      ],
      "metadata": {
        "colab": {
          "base_uri": "https://localhost:8080/"
        },
        "id": "xqjcF7iA4yuw",
        "outputId": "62c618d2-fcd0-41ff-af27-cee13230456e"
      },
      "execution_count": null,
      "outputs": [
        {
          "output_type": "stream",
          "name": "stdout",
          "text": [
            "Exercise 6 is correct\n"
          ]
        }
      ]
    },
    {
      "cell_type": "code",
      "source": [
        " # Exercise 7\n",
        "# Given the list of numbers defined below, reverse the list of numbers that you created above. \n",
        "numbers = [1, 2, 3, 4, 5, 6, 7, 8, 9, 10]\n",
        "numbers.reverse()\n",
        "\n",
        "assert numbers == [10, 9, 8, 7, 6, 5, 4, 3, 2, 1], \"Assert Error means that the answer is incorrect.\" \n",
        "print(\"Exercise 7 is correct.\")"
      ],
      "metadata": {
        "colab": {
          "base_uri": "https://localhost:8080/"
        },
        "id": "hAlEbQLp4yxa",
        "outputId": "420b4e1f-03f4-46f1-d607-549854dedd95"
      },
      "execution_count": null,
      "outputs": [
        {
          "output_type": "stream",
          "name": "stdout",
          "text": [
            "Exercise 7 is correct.\n"
          ]
        }
      ]
    },
    {
      "cell_type": "code",
      "source": [
        "# Exercise 8\n",
        "# Sort the vegetables in alphabetical order\n",
        "vegetables = [\"eggplant\", \"broccoli\", \"carrot\", \"cauliflower\", \"zucchini\", \"tomato\"]\n",
        "vegetables.sort()\n",
        "\n",
        "assert vegetables == ['broccoli', 'carrot', 'cauliflower', 'eggplant', 'tomato', 'zucchini']\n",
        "print(\"Exercise 8 is correct.\")"
      ],
      "metadata": {
        "colab": {
          "base_uri": "https://localhost:8080/"
        },
        "id": "TPopwSBf4y0h",
        "outputId": "a41aa0dc-c3b6-47c5-f9c1-484165ffffb0"
      },
      "execution_count": null,
      "outputs": [
        {
          "output_type": "stream",
          "name": "stdout",
          "text": [
            "Exercise 8 is correct.\n"
          ]
        }
      ]
    },
    {
      "cell_type": "code",
      "source": [
        "\n",
        "# Exercise 12\n",
        "# Write a function definition named is_positive that takes in a number and returns True or False if that number is positive.\n",
        "\n",
        "# While this asks you to make a function named is_positive. If you imported the math library you wouldn't have to make it yourself. \n",
        "# Though here you should\n",
        "positive_odd_number = 5\n",
        "positive_even_number = 6\n",
        "negative_odd_number = -1\n",
        "negative_even_number = -4\n",
        "\n",
        "num = int(input(\"Enter a number: \"))\n",
        "\n",
        "def is_positive(number):\n",
        "  if (number > 0) and (number!=0):\n",
        "    return True\n",
        "  else:\n",
        "    return False\n",
        "is_positive(num)\n",
        "assert is_positive(positive_odd_number) == True, \"Ensure that the function is defined, named properly, and returns the correct value\"\n",
        "assert is_positive(positive_even_number) == True, \"Ensure that the function is defined, named properly, and returns the correct value\"\n",
        "assert is_positive(negative_odd_number) == False, \"Ensure that the function is defined, named properly, and returns the correct value\"\n",
        "assert is_positive(negative_even_number) == False, \"Ensure that the function is defined, named properly, and returns the correct value\"\n",
        "print(\"Exercise 12 is correct.\") "
      ],
      "metadata": {
        "colab": {
          "base_uri": "https://localhost:8080/"
        },
        "id": "5wT7EL5B4y32",
        "outputId": "47efe86d-42e4-49f0-a29d-c675aa131d21"
      },
      "execution_count": null,
      "outputs": [
        {
          "output_type": "stream",
          "name": "stdout",
          "text": [
            "Enter a number: 3\n",
            "Exercise 12 is correct.\n"
          ]
        }
      ]
    },
    {
      "cell_type": "code",
      "source": [
        "# Exercise 13\n",
        "# Write a function definition named is_negative that takes in a number and returns True or False if that number is negative.\n",
        "positive_odd_number = 5\n",
        "positive_even_number = 6\n",
        "negative_odd_number = -1\n",
        "negative_even_number = -4\n",
        "\n",
        "num = int(input(\"Enter a number: \"))\n",
        "\n",
        "def is_negative(number):\n",
        "  if (number > 0) and (number!=0):\n",
        "    return False\n",
        "  else:\n",
        "    return True\n",
        "is_negative(num)\n",
        "\n",
        "\n",
        "assert is_negative(positive_odd_number) == False, \"Ensure that the function is defined, named properly, and returns the correct value\"\n",
        "assert is_negative(positive_even_number) == False, \"Ensure that the function is defined, named properly, and returns the correct value\"\n",
        "assert is_negative(negative_odd_number) == True, \"Ensure that the function is defined, named properly, and returns the correct value\"\n",
        "assert is_negative(negative_even_number) == True, \"Ensure that the function is defined, named properly, and returns the correct value\"\n",
        "print(\"Exercise 13 is correct.\")"
      ],
      "metadata": {
        "colab": {
          "base_uri": "https://localhost:8080/"
        },
        "id": "U20dUEPu4zFp",
        "outputId": "5cd45f55-5b51-4003-a82a-61b127a7c8fb"
      },
      "execution_count": null,
      "outputs": [
        {
          "output_type": "stream",
          "name": "stdout",
          "text": [
            "Enter a number: 5\n",
            "Exercise 13 is correct.\n"
          ]
        }
      ]
    },
    {
      "cell_type": "code",
      "execution_count": null,
      "metadata": {
        "colab": {
          "base_uri": "https://localhost:8080/"
        },
        "id": "QCQdFunqi2U5",
        "outputId": "9953bd6b-551c-4b73-9295-6fc3e11c8d02"
      },
      "outputs": [
        {
          "output_type": "stream",
          "name": "stdout",
          "text": [
            "Enter a number: 4\n",
            "4 is Even\n",
            "5 is Odd\n",
            "6 is Even\n",
            "-1 is Odd\n",
            "-4 is Even\n",
            "Exercise 14 is correct.\n"
          ]
        }
      ],
      "source": [
        "#Exercise 14\n",
        "# Write a function definition named is_odd that takes in a number and returns True or False if that number is odd.\n",
        "\n",
        "positive_odd_number = 5\n",
        "positive_even_number = 6\n",
        "negative_odd_number = -1\n",
        "negative_even_number = -4\n",
        "\n",
        "num = int(input(\"Enter a number: \"))\n",
        "\n",
        "def is_odd(number):\n",
        "  if (number % 2) == 0:\n",
        "    print(\"{0} is Even\".format(number))\n",
        "    return False\n",
        "  else:\n",
        "    print(\"{0} is Odd\".format(number))\n",
        "    return True\n",
        "is_odd(num)\n",
        "\n",
        "\n",
        "assert is_odd(positive_odd_number) == True, \"Ensure that the function is defined, named properly, and returns the correct value\"\n",
        "assert is_odd(positive_even_number) == False, \"Ensure that the function is defined, named properly, and returns the correct value\"\n",
        "assert is_odd(negative_odd_number) == True, \"Ensure that the function is defined, named properly, and returns the correct value\"\n",
        "assert is_odd(negative_even_number) == False, \"Ensure that the function is defined, named properly, and returns the correct value\"\n",
        "print(\"Exercise 14 is correct.\")\n"
      ]
    },
    {
      "cell_type": "code",
      "source": [
        "# Exercise 15\n",
        "# Write a function definition named is_even that takes in a number and returns True or False if that number is even.\n",
        "\n",
        "positive_odd_number = 5\n",
        "positive_even_number = 6\n",
        "negative_odd_number = -1\n",
        "negative_even_number = -4\n",
        "\n",
        "num = int(input(\"Enter a number: \"))\n",
        "\n",
        "def is_even(number):\n",
        "  if (number % 2) == 0:\n",
        "    print(\"{0} is Even\".format(number))\n",
        "    return True\n",
        "  else:\n",
        "    print(\"{0} is Odd\".format(number))\n",
        "    return False\n",
        "\n",
        "is_even(num)\n",
        "\n",
        "assert is_even(2) == True, \"Ensure that the function is defined, named properly, and returns the correct value\"\n",
        "assert is_even(positive_odd_number) == False, \"Ensure that the function is defined, named properly, and returns the correct value\"\n",
        "assert is_even(positive_even_number) == True, \"Ensure that the function is defined, named properly, and returns the correct value\"\n",
        "assert is_even(negative_odd_number) == False, \"Ensure that the function is defined, named properly, and returns the correct value\"\n",
        "assert is_even(negative_even_number) == True, \"Ensure that the function is defined, named properly, and returns the correct value\"\n",
        "print(\"Exercise 15 is correct.\")"
      ],
      "metadata": {
        "id": "r9deVUUMjrx9",
        "colab": {
          "base_uri": "https://localhost:8080/"
        },
        "outputId": "ca1e8556-5a31-4fee-d894-e2fedf745ab7"
      },
      "execution_count": null,
      "outputs": [
        {
          "output_type": "stream",
          "name": "stdout",
          "text": [
            "Enter a number: 5\n",
            "5 is Odd\n",
            "2 is Even\n",
            "5 is Odd\n",
            "6 is Even\n",
            "-1 is Odd\n",
            "-4 is Even\n",
            "Exercise 15 is correct.\n"
          ]
        }
      ]
    },
    {
      "cell_type": "code",
      "source": [
        "#18\n",
        "positive_odd_number = 5\n",
        "positive_even_number = 6\n",
        "negative_odd_number = -1\n",
        "negative_even_number = -4\n",
        "\n",
        "num = int(input(\"Enter a number: \"))\n",
        "def is_positive_even(number):\n",
        "  if (number % 2) == 0 and (number) > 0:\n",
        "    return True   \n",
        "  else:\n",
        "    return False\n",
        "\n",
        "assert is_positive_even(4) == True, \"Double check your syntax and logic\" \n",
        "assert is_positive_even(positive_odd_number) == False, \"Double check your syntax and logic\"\n",
        "assert is_positive_even(positive_even_number) == True, \"Double check your syntax and logic\"\n",
        "assert is_positive_even(negative_odd_number) == False, \"Double check your syntax and logic\"\n",
        "assert is_positive_even(negative_even_number) == False, \"Double check your syntax and logic\"\n",
        "print(\"Exercise 18 is correct.\")"
      ],
      "metadata": {
        "colab": {
          "base_uri": "https://localhost:8080/"
        },
        "id": "DfcDqwVdjqY9",
        "outputId": "efe26e79-33cb-4430-c2e8-7172449d6714"
      },
      "execution_count": null,
      "outputs": [
        {
          "output_type": "stream",
          "name": "stdout",
          "text": [
            "Enter a number: 10\n",
            "Exercise 18 is correct.\n"
          ]
        }
      ]
    },
    {
      "cell_type": "code",
      "source": [
        "# Exercise 20\n",
        "# Write a function definition named is_negative_even that takes in a number and returns True or False if the value is both less than zero and even.\n",
        "positive_odd_number = 5\n",
        "positive_even_number = 6\n",
        "negative_odd_number = -1\n",
        "negative_even_number = -4\n",
        "\n",
        "num = int(input(\"Enter a number: \"))\n",
        "def is_negative_even(number):\n",
        "  if (number % 2) == 0 and (number) < 0:\n",
        "    return True   \n",
        "  else:\n",
        "    return False\n",
        "\n",
        "assert is_negative_even(-4) == True, \"Double check your syntax and logic\" \n",
        "assert is_negative_even(positive_odd_number) == False, \"Double check your syntax and logic\"\n",
        "assert is_negative_even(positive_even_number) == False, \"Double check your syntax and logic\"\n",
        "assert is_negative_even(negative_odd_number) == False, \"Double check your syntax and logic\"\n",
        "assert is_negative_even(negative_even_number) == True, \"Double check your syntax and logic\"\n",
        "print(\"Exercise 20 is correct.\")"
      ],
      "metadata": {
        "colab": {
          "base_uri": "https://localhost:8080/"
        },
        "id": "VaFfC8Ps67fI",
        "outputId": "99bfba6a-9c0d-43bb-bf81-78fa97423cd2"
      },
      "execution_count": null,
      "outputs": [
        {
          "output_type": "stream",
          "name": "stdout",
          "text": [
            "Enter a number: 5\n",
            "Exercise 20 is correct.\n"
          ]
        }
      ]
    },
    {
      "cell_type": "code",
      "source": [
        "# Exercise 21\n",
        "# Write a function definition named half that takes in a number and returns half the provided number.\n",
        "positive_odd_number = 1\n",
        "positive_even_number=2\n",
        "negative_odd_number = -3\n",
        "negative_even_number = -4\n",
        "num = int(input(\"Enter a number: \"))\n",
        "def half(number):\n",
        "  return (number/2)\n",
        "\n",
        "\n",
        "assert half(4) == 2\n",
        "assert half(5) == 2.5\n",
        "assert half(positive_odd_number) == positive_odd_number / 2\n",
        "assert half(positive_even_number) == positive_even_number / 2\n",
        "assert half(negative_odd_number) == negative_odd_number / 2\n",
        "assert half(negative_even_number) == negative_even_number / 2\n",
        "print(\"Exercise 21 is correct.\")"
      ],
      "metadata": {
        "id": "sT1DSPxW91tn"
      },
      "execution_count": null,
      "outputs": []
    },
    {
      "cell_type": "code",
      "source": [
        "# Exercise 22\n",
        "# Write a function definition named double that takes in a number and returns double the provided number.\n",
        "\n",
        "# You should learn the difference between functions and operators. This is mentioned in the PDF\n",
        "positive_odd_number = 1\n",
        "positive_even_number=2\n",
        "negative_odd_number = -3\n",
        "negative_even_number = -4\n",
        "num = int(input(\"Enter a number: \"))\n",
        "def double(number):\n",
        "  return (number*2)\n",
        "assert double(4) == 8\n",
        "assert double(5) == 10\n",
        "assert double(positive_odd_number) == positive_odd_number * 2\n",
        "assert double(positive_even_number) == positive_even_number * 2\n",
        "assert double(negative_odd_number) == negative_odd_number * 2\n",
        "assert double(negative_even_number) == negative_even_number * 2\n",
        "print(\"Exercise 22 is correct.\")"
      ],
      "metadata": {
        "colab": {
          "base_uri": "https://localhost:8080/"
        },
        "id": "c4m1euWG67O_",
        "outputId": "93177476-76b6-408d-ff46-d31775c20e33"
      },
      "execution_count": null,
      "outputs": [
        {
          "output_type": "stream",
          "name": "stdout",
          "text": [
            "Enter a number: 2\n",
            "4\n",
            "Exercise 22 is correct.\n"
          ]
        }
      ]
    },
    {
      "cell_type": "code",
      "source": [
        "# Exercise 23\n",
        "# Write a function definition named triple that takes in a number and returns triple the provided number.\n",
        "positive_odd_number = 1\n",
        "positive_even_number=2\n",
        "negative_odd_number = -3\n",
        "negative_even_number = -4\n",
        "num = int(input(\"Enter a number: \"))\n",
        "def triple(number):\n",
        "  return (number*3)\n",
        "\n",
        "assert triple(4) == 12\n",
        "assert triple(5) == 15\n",
        "assert triple(positive_odd_number) == positive_odd_number * 3\n",
        "assert triple(positive_even_number) == positive_even_number * 3\n",
        "assert triple(negative_odd_number) == negative_odd_number * 3\n",
        "assert triple(negative_even_number) == negative_even_number * 3\n",
        "print(\"Exercise 23 is correct.\")"
      ],
      "metadata": {
        "id": "Mq6XNUds9im9"
      },
      "execution_count": null,
      "outputs": []
    },
    {
      "cell_type": "code",
      "source": [
        "# Exercise 25\n",
        "# Write a function definition named absolute_value that takes in a number and returns the absolute value of the provided number\n",
        "positive_odd_number = 3\n",
        "positive_even_number = 4\n",
        "negative_odd_number = -3\n",
        "negative_even_number =-4\n",
        "def absolute_value(number):\n",
        "  if number > 0 or number == 0:\n",
        "    return number\n",
        "  else:\n",
        "    return (number*-1)\n",
        "  \n",
        " \n",
        "assert absolute_value(4) == 4\n",
        "assert absolute_value(-5) == 5\n",
        "assert absolute_value(positive_odd_number) == positive_odd_number\n",
        "assert absolute_value(positive_even_number) == positive_even_number\n",
        "assert absolute_value(negative_odd_number) == negative_odd_number * -1\n",
        "assert absolute_value(negative_even_number) == negative_even_number * -1\n",
        "print(\"Exercise 25 is correct.\")"
      ],
      "metadata": {
        "id": "uo1E4Ou9jr74"
      },
      "execution_count": null,
      "outputs": []
    },
    {
      "cell_type": "code",
      "source": [
        "# Exercise 26\n",
        "# Write a function definition named is_multiple_of_three that takes in a number and returns True or False if the number is evenly divisible by 3.\n",
        "num = int(input(\"Enter a number: \"))\n",
        "def is_multiple_of_three(number):\n",
        "  if (number % 3 == 0):\n",
        "    return True\n",
        "  else:\n",
        "    return False\n",
        "\n",
        "\n",
        "assert is_multiple_of_three(3) == True\n",
        "assert is_multiple_of_three(15) == True\n",
        "assert is_multiple_of_three(9) == True\n",
        "assert is_multiple_of_three(4) == False\n",
        "assert is_multiple_of_three(10) == False\n",
        "print(\"Exercise 26 is correct.\")"
      ],
      "metadata": {
        "id": "sIsPUEf16571"
      },
      "execution_count": null,
      "outputs": []
    },
    {
      "cell_type": "code",
      "source": [
        "# Exercise 29\n",
        "# Write a function definition named square that takes in a number and returns the number times itself.\n",
        "num = int(input(\"Enter a number: \"))\n",
        "def square(number):\n",
        "    return (number*number)\n",
        "assert square(3) == 9\n",
        "assert square(2) == 4\n",
        "assert square(9) == 81\n",
        "assert square(positive_odd_number) == positive_odd_number * positive_odd_number\n",
        "print(\"Exercise 29 is correct.\")"
      ],
      "metadata": {
        "id": "Rv_EC4fb-E0N"
      },
      "execution_count": null,
      "outputs": []
    },
    {
      "cell_type": "code",
      "source": [
        "# Exercise 31\n",
        "# Write a function definition named cube that takes in a number and returns the number times itself, times itself.\n",
        "\n",
        "# There is a way to do this with and without operators. This is definitely covered in the PDF\n",
        "num = int(input(\"Enter a number: \"))\n",
        "def cube(number):\n",
        "    return (number*number*number)\n",
        "  \n",
        "\n",
        "\n",
        "assert cube(3) == 27\n",
        "assert cube(2) == 8\n",
        "assert cube(5) == 125\n",
        "assert cube(positive_odd_number) == positive_odd_number * positive_odd_number * positive_odd_number\n",
        "print(\"Exercise 31 is correct.\")"
      ],
      "metadata": {
        "id": "hVV55JOS30cO"
      },
      "execution_count": null,
      "outputs": []
    },
    {
      "cell_type": "code",
      "source": [
        "# Exercise 33\n",
        "# Write a function definition named subtract that takes in two numbers and returns the first minus the second argument.\n",
        "num = int(input(\"Enter a number: \"))\n",
        "numz = int(input(\"Enter a number: \"))\n",
        "def subtract(number, numberr):\n",
        "  return (number-numberr)\n",
        "\n",
        "assert subtract(8, 6) == 2\n",
        "assert subtract(27, 4) == 23\n",
        "assert subtract(12, 2) == 10\n",
        "print(\"Exercise 33 is correct.\")\n"
      ],
      "metadata": {
        "id": "Ku_5Y7jK-UaM",
        "colab": {
          "base_uri": "https://localhost:8080/"
        },
        "outputId": "ed3e52ca-0782-427a-ee53-c9f32993e76a"
      },
      "execution_count": 43,
      "outputs": [
        {
          "output_type": "stream",
          "name": "stdout",
          "text": [
            "Enter a number: 2\n",
            "Enter a number: 2\n",
            "Exercise 33 is correct.\n"
          ]
        }
      ]
    },
    {
      "cell_type": "code",
      "source": [
        "# Exercise 37\n",
        "# Write a function definition named remainder that takes in two numbers and returns the remainder of first argument divided by the second argument.\n",
        "\n",
        "# This can definitely be done easily with an operator. It was discussed in the PDF\n",
        "num = int(input(\"Enter a number: \"))\n",
        "numz = int(input(\"Enter a number: \"))\n",
        "def remainder(num, numz):\n",
        "  r = num%numz\n",
        "  print(r)\n",
        "remainder(num, numz)\n",
        "\n",
        "# assert remainder(3, 3) == 0\n",
        "# assert remainder(5, 2) == 1\n",
        "# assert remainder(7, 5) == 2\n",
        "print(\"Exercise 37 is correct.\")\n",
        "\n"
      ],
      "metadata": {
        "colab": {
          "base_uri": "https://localhost:8080/"
        },
        "id": "IHbxIU5Woh8p",
        "outputId": "fc2e7ef0-1ba0-4ed8-b589-2c2809753fa4"
      },
      "execution_count": 60,
      "outputs": [
        {
          "output_type": "stream",
          "name": "stdout",
          "text": [
            "Enter a number: 3\n",
            "Enter a number: 3\n",
            "0\n",
            "Exercise 37 is correct.\n"
          ]
        }
      ]
    },
    {
      "cell_type": "code",
      "source": [
        "# Exercise 41\n",
        "# Write a function definition named area_of_circle that takes in a number representing a circle's radius and returns the area of the circle\n",
        "import math\n",
        "num = int(input(\"Enter a number: \"))\n",
        "def area_of_circle(number):\n",
        "    return (number*number*math.pi)\n",
        "\n",
        "assert area_of_circle(5) == 78.53981633974483\n",
        "assert area_of_circle(7) == 153.93804002589985\n",
        "print(\"Exercise 41 is correct.\")"
      ],
      "metadata": {
        "id": "MRZio10x-YJK",
        "colab": {
          "base_uri": "https://localhost:8080/"
        },
        "outputId": "7d22a721-fa50-4d20-bff6-a60a07677cee"
      },
      "execution_count": 54,
      "outputs": [
        {
          "output_type": "stream",
          "name": "stdout",
          "text": [
            "Enter a number: 2\n",
            "Exercise 41 is correct.\n"
          ]
        }
      ]
    },
    {
      "cell_type": "code",
      "source": [
        "# Exercise 43\n",
        "# Write a function definition named is_vowel that takes in value and returns True if the value is a, e, i, o, u in upper or lower case.\n",
        "\n",
        "# Think about what kinds of values you'd want your argument to accept if the asserts are comparing it to string type objects\n",
        "# Think about how you can make sure that capital letters and lowercase letters are treated the same. \n",
        "\n",
        "def is_vowel(word):\n",
        "  if word == \"a\" or \"e\" or \"i\" or \"o\" or \"u\" or \"A\" or \"E\" or \"I\" or \"O\" or \"U\":\n",
        "    return True\n",
        "  else:\n",
        "    return False\n",
        "\n",
        "assert is_vowel(\"a\") == True\n",
        "assert is_vowel(\"e\") == True\n",
        "assert is_vowel(\"i\") == True\n",
        "assert is_vowel(\"o\") == True\n",
        "assert is_vowel(\"u\") == True\n",
        "assert is_vowel(\"A\") == True\n",
        "assert is_vowel(\"E\") == True\n",
        "assert is_vowel(\"I\") == True\n",
        "print(\"Exercise 43 is correct.\")"
      ],
      "metadata": {
        "colab": {
          "base_uri": "https://localhost:8080/"
        },
        "id": "54T9EFLQZMcT",
        "outputId": "747a3911-9b33-49b9-fae2-6ab28f6e4a6e"
      },
      "execution_count": 106,
      "outputs": [
        {
          "output_type": "stream",
          "name": "stdout",
          "text": [
            "Exercise 43 is correct.\n"
          ]
        }
      ]
    },
    {
      "cell_type": "code",
      "source": [
        "# Exercise 44\n",
        "# Write a function definition named has_vowels that takes in value and returns True if the string contains any vowels.\n",
        "def has_vowels(word):\n",
        "  list = []\n",
        "  for ch in word:\n",
        "      if ch in \"aeiouAEIOU\":\n",
        "        return True\n",
        "  return False\n",
        "\n",
        "\n",
        "assert has_vowels(\"ubuntu\") == True\n",
        "assert has_vowels(\"QQQQ\") == False\n",
        "assert has_vowels(\"wyrd\") == False\n",
        "print(\"Exercise 44 is correct.\")"
      ],
      "metadata": {
        "id": "YDqgRQMw-YRN",
        "colab": {
          "base_uri": "https://localhost:8080/"
        },
        "outputId": "8113f4ce-1e2d-4fb1-8b5b-efc0a79aea33"
      },
      "execution_count": 98,
      "outputs": [
        {
          "output_type": "stream",
          "name": "stdout",
          "text": [
            "Exercise 44 is correct.\n"
          ]
        }
      ]
    },
    {
      "cell_type": "code",
      "source": [
        "# Exercise 46 THIS IS ALSO HARDER\n",
        "# Write a function definition named remove_vowels that takes in string and returns the string without any vowels\n",
        "\n",
        "# This problem will combine some of the other solutions that you worked on into one\n",
        "\n",
        "def remove_vowels(string):\n",
        "  newstring= \"\"\n",
        "  for x in string:\n",
        "    if x in \"a\" or \"e\" or \"i\" or \"o\" or \"u\" or \"A\" or \"E\" or \"I\" or \"O\" or \"U\":\n",
        "      newstring = string.replace(x,\"\")\n",
        "  return(newstring)\n",
        "\n",
        "assert remove_vowels(\"banana\") == \"bnn\"\n",
        "assert remove_vowels(\"ubuntu\") == \"bnt\"\n",
        "print(\"Exercise 46 is correct.\")"
      ],
      "metadata": {
        "colab": {
          "base_uri": "https://localhost:8080/"
        },
        "id": "ZbaRXNyQlPYk",
        "outputId": "a29bab7c-4846-4085-813e-599c98871508"
      },
      "execution_count": 53,
      "outputs": [
        {
          "output_type": "stream",
          "name": "stdout",
          "text": [
            "Exercise 46 is correct.\n"
          ]
        }
      ]
    },
    {
      "cell_type": "code",
      "source": [
        "# Exercise 50\n",
        "# Write a function definition named first that takes in sequence and returns the first value of that sequence.\n",
        "\n",
        "# Understanding how LISTS operate is super IMPORTANT. You can save yourself a little time by rememebering how to access them easily\n",
        "# Or saving places that remind you quickly\n",
        "abc =  (\"ubuntu\"), [1, 2, 3], [\"python\", \"is\", \"awesome\"]\n",
        "for sublist in abc:\n",
        "    print(sublist[0])\n",
        "\n",
        "# assert first(\"ubuntu\") == \"u\"\n",
        "#assert first([1, 2, 3]) == 1\n",
        "# assert first([\"python\", \"is\", \"awesome\"]) == \"python\"\n",
        "# print(\"Exercise 50 is correct.\")"
      ],
      "metadata": {
        "id": "ipTJ-OcK-YU6",
        "colab": {
          "base_uri": "https://localhost:8080/"
        },
        "outputId": "37e37434-0395-473a-bafd-bdf8a4e6cb2e"
      },
      "execution_count": 18,
      "outputs": [
        {
          "output_type": "stream",
          "name": "stdout",
          "text": [
            "u\n",
            "1\n",
            "python\n"
          ]
        }
      ]
    },
    {
      "cell_type": "code",
      "source": [
        "# Exercise 51\n",
        "# Write a function definition named second that takes in sequence and returns the second value of that sequence.\n",
        "abc =  (\"ubuntu\"), [1, 2, 3], [\"python\", \"is\", \"awesome\"]\n",
        "for sublist in abc:\n",
        "    print(sublist[1])\n",
        "\n",
        "\n",
        "\n",
        "# assert second(\"ubuntu\") == \"b\"\n",
        "# assert second([1, 2, 3]) == 2\n",
        "# assert second([\"python\", \"is\", \"awesome\"]) == \"is\"\n",
        "# print(\"Exercise 51 is correct.\")"
      ],
      "metadata": {
        "colab": {
          "base_uri": "https://localhost:8080/"
        },
        "id": "U5KfOrngWPLm",
        "outputId": "7bf7f843-2501-4a82-907d-3f77d3bbe41a"
      },
      "execution_count": 21,
      "outputs": [
        {
          "output_type": "stream",
          "name": "stdout",
          "text": [
            "b\n",
            "2\n",
            "is\n"
          ]
        }
      ]
    },
    {
      "cell_type": "code",
      "source": [
        "# Exercise 52\n",
        "# Write a function definition named third that takes in sequence and returns the third value of that sequence.\n",
        "\n",
        "abc =  (\"ubuntu\"), [1, 2, 3], [\"python\", \"is\", \"awesome\"]\n",
        "for sublist in abc:\n",
        "    print(sublist[2])\n",
        "\n",
        "# assert third(\"ubuntu\") == \"u\"\n",
        "# assert third([1, 2, 3]) == 3\n",
        "# assert third([\"python\", \"is\", \"awesome\"]) == \"awesome\"\n",
        "# print(\"Exercise 52 is correct.\")"
      ],
      "metadata": {
        "id": "oLvAG5AVEELL",
        "colab": {
          "base_uri": "https://localhost:8080/"
        },
        "outputId": "a0a7a6dd-a15f-404e-fa28-ca5eddc3a474"
      },
      "execution_count": 31,
      "outputs": [
        {
          "output_type": "stream",
          "name": "stdout",
          "text": [
            "u\n",
            "3\n",
            "awesome\n"
          ]
        }
      ]
    },
    {
      "cell_type": "code",
      "source": [
        "# Exercise 54\n",
        "# Write a function definition named last that takes in sequence and returns the last value of that sequence.\n",
        "abc =  (\"ubuntu\"), [1, 2, 3, 4], [\"python\", \"is\", \"awesome\"], [\"kiwi\", \"mango\", \"guava\"]\n",
        "for sublist in abc:\n",
        "    print(sublist[-1])\n",
        "\n",
        "\n",
        "  # assert last(\"ubuntu\") == \"u\"\n",
        "  # assert last([1, 2, 3, 4]) == 4\n",
        "  # assert last([\"python\", \"is\", \"awesome\"]) == \"awesome\"\n",
        "  # assert last([\"kiwi\", \"mango\", \"guava\"]) == \"guava\"\n",
        "  # print(\"Exercise 54 is correct.\")"
      ],
      "metadata": {
        "colab": {
          "base_uri": "https://localhost:8080/"
        },
        "id": "ZbIf3GeeY4eE",
        "outputId": "d935371d-6175-4b3f-c64c-115b04e3fa01"
      },
      "execution_count": 47,
      "outputs": [
        {
          "output_type": "stream",
          "name": "stdout",
          "text": [
            "u\n",
            "4\n",
            "awesome\n",
            "guava\n"
          ]
        }
      ]
    },
    {
      "cell_type": "code",
      "source": [
        "# Exercise 55\n",
        "# Write a function definition named second_to_last that takes in sequence and returns the second to last value of that sequence.\n",
        "abc =  (\"ubuntu\"), [1, 2, 3, 4], [\"python\", \"is\", \"awesome\"], [\"kiwi\", \"mango\", \"guava\"]\n",
        "for sublist in abc:\n",
        "    print(sublist[-2])\n",
        "\n",
        "\n",
        "# assert second_to_last(\"ubuntu\") == \"t\"\n",
        "# assert second_to_last([1, 2, 3, 4]) == 3\n",
        "# assert second_to_last([\"python\", \"is\", \"awesome\"]) == \"is\"\n",
        "# assert second_to_last([\"kiwi\", \"mango\", \"guava\"]) == \"mango\"\n",
        "# print(\"Exercise 55 is correct.\")"
      ],
      "metadata": {
        "colab": {
          "base_uri": "https://localhost:8080/"
        },
        "id": "fAa9gBhfZNsv",
        "outputId": "c74b292c-3347-4a3b-a11b-5751113d12b2"
      },
      "execution_count": 48,
      "outputs": [
        {
          "output_type": "stream",
          "name": "stdout",
          "text": [
            "t\n",
            "3\n",
            "is\n",
            "mango\n"
          ]
        }
      ]
    },
    {
      "cell_type": "code",
      "source": [
        "# Exercise 56\n",
        "# Write a function definition named third_to_last that takes in sequence and returns the third to last value of that sequence.\n",
        "abc =  (\"ubuntu\"), [1, 2, 3, 4], [\"python\", \"is\", \"awesome\"], [\"kiwi\", \"mango\", \"guava\"]\n",
        "for sublist in abc:\n",
        "    print(sublist[-3])\n",
        "\n",
        "\n",
        "\n",
        "# assert third_to_last(\"ubuntu\") == \"n\"\n",
        "# assert third_to_last([1, 2, 3, 4]) == 2\n",
        "# assert third_to_last([\"python\", \"is\", \"awesome\"]) == \"python\"\n",
        "# assert third_to_last([\"strawberry\", \"kiwi\", \"mango\", \"guava\"]) == \"kiwi\"\n",
        "# print(\"Exercise 56 is correct.\")"
      ],
      "metadata": {
        "colab": {
          "base_uri": "https://localhost:8080/"
        },
        "id": "g9H9A0UVZZub",
        "outputId": "1d519600-4d8b-4b9f-9737-b0e425210700"
      },
      "execution_count": 49,
      "outputs": [
        {
          "output_type": "stream",
          "name": "stdout",
          "text": [
            "n\n",
            "2\n",
            "python\n",
            "kiwi\n"
          ]
        }
      ]
    },
    {
      "cell_type": "code",
      "source": [
        ""
      ],
      "metadata": {
        "id": "WvET3UVVZh-M"
      },
      "execution_count": null,
      "outputs": []
    },
    {
      "cell_type": "code",
      "source": [
        "# 60 Write a function definition named sum_all that takes in sequence of numbers and returns all the numbers added together.\n",
        "list1 = [1, 2, 3, 4] \n",
        "def sum_all(list):\n",
        "  return sum(list1)\n",
        "sum_all(list)\n",
        "#assert sum_all([1, 2, 3, 4]) == 10"
      ],
      "metadata": {
        "id": "rCyoS0ay-hi6",
        "colab": {
          "base_uri": "https://localhost:8080/"
        },
        "outputId": "712b4039-158c-4fbc-aef7-dca341c795c6"
      },
      "execution_count": 107,
      "outputs": [
        {
          "output_type": "execute_result",
          "data": {
            "text/plain": [
              "10"
            ]
          },
          "metadata": {},
          "execution_count": 107
        }
      ]
    },
    {
      "cell_type": "code",
      "source": [
        ""
      ],
      "metadata": {
        "id": "zXPuuR4epwdU"
      },
      "execution_count": null,
      "outputs": []
    },
    {
      "cell_type": "code",
      "source": [
        ""
      ],
      "metadata": {
        "id": "Inqo4eX1pwzM"
      },
      "execution_count": null,
      "outputs": []
    },
    {
      "cell_type": "code",
      "source": [
        ""
      ],
      "metadata": {
        "id": "UlZMz-Bwpw23"
      },
      "execution_count": null,
      "outputs": []
    },
    {
      "cell_type": "code",
      "source": [
        "# Exercise 61\n",
        "# Write a function definition named mean that takes in sequence of numbers and returns the average value\n",
        "list1 = [1, 2, 3, 4] \n",
        "list2 = [3, 3, 3]\n",
        "list3 = [1,5,6]\n",
        "def sum_all(list):\n",
        "  return sum(list1)\n",
        "numbers = int(input(\"how many number in list \"))\n",
        "mean = sum_all(list)/numbers\n",
        "print(mean)\n",
        "def sum_alll(list):\n",
        "  return sum(list2)\n",
        "numberss = int(input(\"how many number in list \"))\n",
        "mean2 = sum_alll(list)/numberss\n",
        "print(mean2)\n",
        "\n",
        "# assert mean([1, 2, 3, 4]) == 2.5\n",
        "# assert mean([3, 3, 3]) == 3\n",
        "# assert mean([1, 5, 6]) == 4\n",
        "# print(\"Exercise 61 is correct.\")"
      ],
      "metadata": {
        "id": "u9T3M4qcDdgH",
        "colab": {
          "base_uri": "https://localhost:8080/"
        },
        "outputId": "d0a9e8db-e316-4e8c-8758-25ec68a7643a"
      },
      "execution_count": 71,
      "outputs": [
        {
          "output_type": "stream",
          "name": "stdout",
          "text": [
            "how many number in list 4\n",
            "2.5\n",
            "how many number in list 3\n",
            "3.0\n"
          ]
        }
      ]
    },
    {
      "cell_type": "code",
      "source": [
        "# Exercise 63\n",
        "# Write a function definition named mode that takes in sequence of numbers and returns the most commonly occuring value\n",
        "from statistics import mode\n",
        "def mode(list):\n",
        "  return max(set(list), key=list.count)\n",
        "\n",
        "assert mode([1, 2, 2, 3, 4]) == 2\n",
        "assert mode([1, 1, 2, 3]) == 1\n",
        "assert mode([2, 2, 3, 3, 3]) == 3\n",
        "print(\"Exercise 63 is correct.\")\n"
      ],
      "metadata": {
        "id": "pkASCaod-hmz",
        "colab": {
          "base_uri": "https://localhost:8080/"
        },
        "outputId": "f242e81f-cf02-4e7e-d886-bce697ea7844"
      },
      "execution_count": 52,
      "outputs": [
        {
          "output_type": "stream",
          "name": "stdout",
          "text": [
            "Exercise 63 is correct.\n"
          ]
        }
      ]
    },
    {
      "cell_type": "code",
      "source": [
        "# Exercise 65 I REALLY like this problem. It will get you to think \n",
        "# Write a function definition named get_highest_number that takes in sequence of numbers and returns the largest number.\n",
        "\n",
        "# Think about how you can do this by yourself first and also without looking it up.\n",
        "# However you may use functions you find online if you understand them \n",
        "def get_highest_number(list):\n",
        "  num = [1, 2, 3]\n",
        "  numz = max(num)\n",
        "  print(numz)\n",
        "get_highest_number(list)\n",
        "\n",
        "\n",
        "#assert get_highest_number([1, 2, 3]) == 3\n",
        "print(\"Exercise 65 is correct.\")"
      ],
      "metadata": {
        "id": "dKqBnRZt-huL",
        "colab": {
          "base_uri": "https://localhost:8080/",
          "height": 258
        },
        "outputId": "103c050d-70a3-4426-81d3-ffd1f7c13255"
      },
      "execution_count": 78,
      "outputs": [
        {
          "output_type": "stream",
          "name": "stdout",
          "text": [
            "3\n",
            "3\n"
          ]
        },
        {
          "output_type": "error",
          "ename": "AssertionError",
          "evalue": "ignored",
          "traceback": [
            "\u001b[0;31m---------------------------------------------------------------------------\u001b[0m",
            "\u001b[0;31mAssertionError\u001b[0m                            Traceback (most recent call last)",
            "\u001b[0;32m<ipython-input-78-4f2eb130f66b>\u001b[0m in \u001b[0;36m<module>\u001b[0;34m()\u001b[0m\n\u001b[1;32m     11\u001b[0m \u001b[0;34m\u001b[0m\u001b[0m\n\u001b[1;32m     12\u001b[0m \u001b[0;34m\u001b[0m\u001b[0m\n\u001b[0;32m---> 13\u001b[0;31m \u001b[0;32massert\u001b[0m \u001b[0mget_highest_number\u001b[0m\u001b[0;34m(\u001b[0m\u001b[0;34m[\u001b[0m\u001b[0;36m1\u001b[0m\u001b[0;34m,\u001b[0m \u001b[0;36m2\u001b[0m\u001b[0;34m,\u001b[0m \u001b[0;36m3\u001b[0m\u001b[0;34m]\u001b[0m\u001b[0;34m)\u001b[0m \u001b[0;34m==\u001b[0m \u001b[0;36m3\u001b[0m\u001b[0;34m\u001b[0m\u001b[0;34m\u001b[0m\u001b[0m\n\u001b[0m\u001b[1;32m     14\u001b[0m \u001b[0mprint\u001b[0m\u001b[0;34m(\u001b[0m\u001b[0;34m\"Exercise 65 is correct.\"\u001b[0m\u001b[0;34m)\u001b[0m\u001b[0;34m\u001b[0m\u001b[0;34m\u001b[0m\u001b[0m\n",
            "\u001b[0;31mAssertionError\u001b[0m: "
          ]
        }
      ]
    },
    {
      "cell_type": "code",
      "source": [
        "# Exercise 66\n",
        "# Write a function definition named get_smallest_number that takes in sequence of numbers and returns the smallest number.\n",
        "def get_smallest_number(list):\n",
        "  num = [1, 2, 3]\n",
        "  numz = min(num)\n",
        "  print(numz)\n",
        "get_smallest_number(list)\n",
        "\n",
        "\n",
        "\n",
        "#assert get_smallest_number([1, 3, 2]) == 1\n",
        "print(\"Exercise 66 is correct.\")"
      ],
      "metadata": {
        "colab": {
          "base_uri": "https://localhost:8080/"
        },
        "id": "DWQmRSP5mZr5",
        "outputId": "722f4536-67c9-4a05-a600-c3691720259f"
      },
      "execution_count": 80,
      "outputs": [
        {
          "output_type": "stream",
          "name": "stdout",
          "text": [
            "1\n",
            "Exercise 66 is correct.\n"
          ]
        }
      ]
    },
    {
      "cell_type": "code",
      "source": [
        "# Exercise 67\n",
        "# Write a function definition named only_odd_numbers that takes in sequence of numbers and returns the odd numbers in a list.\n",
        "def only_odd_numbers(listtt):\n",
        "  list = []\n",
        "  for x in listtt:\n",
        "    if x % 2 == 1:\n",
        "      list.append(x)\n",
        "    else:\n",
        "      pass\n",
        "  return list\n",
        "\n",
        "\n",
        "assert only_odd_numbers([1, 2, 3]) == [1, 3]\n",
        "assert only_odd_numbers([-5, -4, -3, -2, -1, 1, 2, 3, 4, 5]) == [-5, -3, -1, 1, 3, 5]\n",
        "assert only_odd_numbers([-4, -3, 1]) == [-3, 1]\n",
        "assert only_odd_numbers([2, 2, 2, 2, 2]) == []\n",
        "print(\"Exercise 67 is correct.\")"
      ],
      "metadata": {
        "colab": {
          "base_uri": "https://localhost:8080/"
        },
        "id": "zl-dbYeVRFxV",
        "outputId": "c2e19697-c53f-40ed-a3bc-af27db26e232"
      },
      "execution_count": 54,
      "outputs": [
        {
          "output_type": "stream",
          "name": "stdout",
          "text": [
            "Exercise 67 is correct.\n"
          ]
        }
      ]
    },
    {
      "cell_type": "code",
      "source": [
        "# Exercise 68\n",
        "# Write a function definition named only_even_numbers that takes in sequence of numbers and returns the even numbers in a list.\n",
        "\n",
        "def only_even_numbers(listtt):\n",
        "  list = []\n",
        "  for x in listtt:\n",
        "    if x % 2 == 0:\n",
        "      list.append(x)\n",
        "    else:\n",
        "      pass\n",
        "  return list\n",
        "\n",
        "\n",
        "\n",
        "assert only_even_numbers([1, 2, 3]) == [2]\n",
        "assert only_even_numbers([-5, -4, -3, -2, -1, 1, 2, 3, 4, 5]) == [-4, -2, 2, 4]\n",
        "assert only_even_numbers([-4, -3, 1]) == [-4]\n",
        "assert only_even_numbers([1, 1, 1, 1, 1, 1]) == []\n",
        "print(\"Exercise 68 is correct.\")"
      ],
      "metadata": {
        "colab": {
          "base_uri": "https://localhost:8080/"
        },
        "id": "khoDu6BMs4o7",
        "outputId": "a00a003e-0eff-42f9-fdd4-31fb8ab1edd1"
      },
      "execution_count": 121,
      "outputs": [
        {
          "output_type": "stream",
          "name": "stdout",
          "text": [
            "Exercise 68 is correct.\n"
          ]
        }
      ]
    },
    {
      "cell_type": "code",
      "source": [
        "# Exercise 69\n",
        "# Write a function definition named only_positive_numbers that takes in sequence of numbers and returns the positive numbers in a list.\n",
        "lst = [-7, 2, 3]\n",
        "def only_positive_numbers(lst):\n",
        "    return [x for x in lst if x > 0] or None\n",
        "print(only_positive_numbers(lst))\n",
        "\n",
        "# assert only_positive_numbers([-7, 2, 3]) == [2, 3]\n",
        "# print(\"Exercise 69 is correct.\")\n",
        "\n",
        "\n",
        "\n",
        "\n"
      ],
      "metadata": {
        "colab": {
          "base_uri": "https://localhost:8080/"
        },
        "id": "vV_8qudOqEaf",
        "outputId": "3bbe14d4-a855-4da6-9f0b-cf34ad9e9577"
      },
      "execution_count": 118,
      "outputs": [
        {
          "output_type": "stream",
          "name": "stdout",
          "text": [
            "[2, 3]\n"
          ]
        }
      ]
    },
    {
      "cell_type": "code",
      "source": [
        "# Exercise 70\n",
        "# Write a function definition named only_negative_numbers that takes in sequence of numbers and returns the negative numbers in a list.\n",
        "\n",
        "lst = [-5, -4, -3, -2, -1, 1, 2, 3, 4, 5]\n",
        "def only_negative_numbers(lst):\n",
        "    return [x for x in lst if x < 0] or None\n",
        "print(only_negative_numbers(lst))\n",
        "\n",
        "# assert only_negative_numbers([1, 2, 3]) == []\n",
        "# assert only_negative_numbers([-5, -4, -3, -2, -1, 1, 2, 3, 4, 5]) == [-5, -4, -3, -2, -1]\n",
        "# assert only_negative_numbers([-4, -3, 1]) == [-4, -3]\n",
        "# print(\"Exercise 70 is correct.\")"
      ],
      "metadata": {
        "colab": {
          "base_uri": "https://localhost:8080/"
        },
        "id": "J4E7AAzkqEc_",
        "outputId": "a642230c-4d2d-4b3e-95c0-67481824097c"
      },
      "execution_count": 120,
      "outputs": [
        {
          "output_type": "stream",
          "name": "stdout",
          "text": [
            "[-5, -4, -3, -2, -1]\n"
          ]
        }
      ]
    },
    {
      "cell_type": "code",
      "source": [
        "# Exercise 72\n",
        "# Write a function definition named count_evens that takes in sequence of numbers and returns the number of even numbers\n",
        "list1 = [1,2,3]\n",
        "  \n",
        "count_evens = 0\n",
        "  \n",
        "for num in list1:\n",
        "    # checking condition\n",
        "    if num % 2 == 0:\n",
        "        count_evens += 1\n",
        "print(count_evens)\n",
        "\n",
        "#assert count_evens([1, 2, 3]) == 1\n",
        "# assert count_evens([2, 5, 6]) == 2\n",
        "# assert count_evens([3, 3, 3]) == 0\n",
        "# assert count_evens([5, 6, 7, 8] ) == 2\n",
        "# print(\"Exercise 72 is correct.\")"
      ],
      "metadata": {
        "colab": {
          "base_uri": "https://localhost:8080/"
        },
        "id": "rCm_zMGRqEf6",
        "outputId": "0a464afa-4c4b-495e-944c-a7ea21cce69e"
      },
      "execution_count": 8,
      "outputs": [
        {
          "output_type": "stream",
          "name": "stdout",
          "text": [
            "1\n"
          ]
        }
      ]
    },
    {
      "cell_type": "code",
      "source": [
        "# Exercise 74\n",
        "# Write a function definition named count_odds that takes in sequence of numbers and returns True if there are any odd numbers in the sequence\n",
        "list1 = [1,2,3]\n",
        "count_odds = 0\n",
        "list2 = [2,5,6]\n",
        "for num in list1:\n",
        "    # checking condition\n",
        "    if num % 2 == 1:\n",
        "        count_odds += 1\n",
        "print(count_odds)\n",
        "list1 = [1,2,3]\n",
        "count_odds = 0\n",
        "count_oddss = 0 \n",
        "for num in list2:\n",
        "    # checking condition\n",
        "    if num % 2 == 1:\n",
        "        count_oddss += 1\n",
        "print(count_oddss)\n",
        "\n",
        "\n",
        "\n",
        "# assert count_odds([1, 2, 3]) == 2\n",
        "# assert count_odds([2, 5, 6]) == 1\n",
        "# assert count_odds([3, 3, 3]) == 3\n",
        "# assert count_odds([2, 4, 6]) == 0\n",
        "# print(\"Exercise 74 is correct.\")"
      ],
      "metadata": {
        "colab": {
          "base_uri": "https://localhost:8080/"
        },
        "id": "t0JmTiA0qEiu",
        "outputId": "0015cf09-c1b6-4927-da80-b6fa7a3f6822"
      },
      "execution_count": 10,
      "outputs": [
        {
          "output_type": "stream",
          "name": "stdout",
          "text": [
            "2\n",
            "1\n"
          ]
        }
      ]
    },
    {
      "cell_type": "code",
      "source": [
        "# Exercise 75\n",
        "# Write a function definition named count_negatives that takes in sequence of numbers and returns a count of the number of negative numbers\n",
        "list1 = [1,-2,3]\n",
        "count_negatives = 0\n",
        "for num in list1:\n",
        "    # checking condition\n",
        "    if num < 0:\n",
        "        count_negatives += 1\n",
        "print(count_negatives)\n",
        "\n",
        "list2 = [2, -5, -6]\n",
        "\n",
        "count_negativess = 0 \n",
        "for num in list2:\n",
        "    # checking condition\n",
        "    if num < 0:\n",
        "        (count_negativess) += 1\n",
        "print(count_negativess)\n",
        "\n",
        "\n",
        "# assert count_negatives([1, -2, 3]) == 1\n",
        "# assert count_negatives([2, -5, -6]) == 2\n",
        "# assert count_negatives([3, 3, 3]) == 0\n",
        "# print(\"Exercise 75 is correct.\")"
      ],
      "metadata": {
        "colab": {
          "base_uri": "https://localhost:8080/"
        },
        "id": "-8Lkyp1ZRsDD",
        "outputId": "7248f947-b305-440b-c21a-998a1403f837"
      },
      "execution_count": 18,
      "outputs": [
        {
          "output_type": "stream",
          "name": "stdout",
          "text": [
            "1\n",
            "2\n"
          ]
        }
      ]
    },
    {
      "cell_type": "code",
      "source": [
        "# Exercise 76\n",
        "# Write a function definition named count_positives that takes in sequence of numbers and returns a count of the number of positive numbers\n",
        "list1 = [1,-2,3]\n",
        "(count_positives) = 0\n",
        "for num in list1:\n",
        "    # checking condition\n",
        "    if num > 0:\n",
        "        (count_positives) += 1\n",
        "print(count_positives)\n",
        "\n",
        "\n",
        "\n",
        "# assert count_positives([1, -2, 3]) == 2\n",
        "# assert count_positives([2, -5, -6]) == 1\n",
        "# assert count_positives([3, 3, 3]) == 3\n",
        "# assert count_positives([-2, -1, -5]) == 0\n",
        "# print(\"Exercise 76 is correct.\")"
      ],
      "metadata": {
        "colab": {
          "base_uri": "https://localhost:8080/"
        },
        "id": "gKzeY3WURsOw",
        "outputId": "24e7bc27-72ed-44fe-ac23-598d1da4e4c7"
      },
      "execution_count": 20,
      "outputs": [
        {
          "output_type": "stream",
          "name": "stdout",
          "text": [
            "2\n"
          ]
        }
      ]
    },
    {
      "cell_type": "code",
      "source": [
        "# Exercise 77\n",
        "# Write a function definition named only_positive_evens that takes in sequence of numbers and returns a list containing all the positive evens from the sequence\n",
        "\n",
        "\n",
        "list1 = [2, -5, -6]\n",
        "number = 0\n",
        "while(number < len(list1)):\n",
        "    if list1[number] > 0 and list1[number]%2== 0 :\n",
        "        print(list1[number])\n",
        "    number += 1\n",
        "\n",
        "# assert only_positive_evens([1, -2, 3]) == []\n",
        "# assert only_positive_evens([2, -5, -6]) == [2]\n",
        "# assert only_positive_evens([3, 3, 4, 6]) == [4, 6]\n",
        "# assert only_positive_evens([2, 3, 4, -1, -5]) == [2, 4]\n",
        "# print(\"Exercise 77 is correct.\")\n",
        "\n",
        "\n",
        "\n"
      ],
      "metadata": {
        "colab": {
          "base_uri": "https://localhost:8080/"
        },
        "id": "nZsHX6rBSuht",
        "outputId": "6f5ca0a4-740c-45a6-d1ac-48f6b8b83a0a"
      },
      "execution_count": 28,
      "outputs": [
        {
          "output_type": "stream",
          "name": "stdout",
          "text": [
            "2\n"
          ]
        }
      ]
    },
    {
      "cell_type": "code",
      "source": [
        "# Exercise 78\n",
        "# Write a function definition named only_positive_odds that takes in sequence of numbers and returns a list containing all the positive odd numbers from the sequence\n",
        "\n",
        "list1 = [1, -2, 3]\n",
        "number = 0\n",
        "while(number < len(list1)):\n",
        "    if list1[number] > 0 and list1[number]%2== 1 :\n",
        "        print(list1[number])\n",
        "    number += 1\n",
        "\n",
        "\n",
        "\n",
        "\n",
        "# assert only_positive_odds([1, -2, 3]) == [1, 3]\n",
        "# assert only_positive_odds([2, -5, -6]) == []\n",
        "# assert only_positive_odds([3, 3, 4, 6]) == [3, 3]\n",
        "# assert only_positive_odds([2, 3, 4, -1, -5]) == [3]\n",
        "# print(\"Exercise 78 is correct.\")"
      ],
      "metadata": {
        "colab": {
          "base_uri": "https://localhost:8080/"
        },
        "id": "u5GwUnuAVLNB",
        "outputId": "787c142b-4594-4704-ac0a-522e820d0920"
      },
      "execution_count": 30,
      "outputs": [
        {
          "output_type": "stream",
          "name": "stdout",
          "text": [
            "1\n",
            "3\n"
          ]
        }
      ]
    },
    {
      "cell_type": "code",
      "source": [
        "# Exercise 79\n",
        "# Write a function definition named only_negative_evens that takes in sequence of numbers and returns a list containing all the negative even numbers from the sequence\n",
        "\n",
        "list1 = [1, -2, 3]\n",
        "number = 0\n",
        "while(number < len(list1)):\n",
        "    if list1[number] < 0 and list1[number]%2== 0 :\n",
        "        print(list1[number])\n",
        "    number += 1\n",
        "\n",
        "\n",
        "# assert only_negative_evens([1, -2, 3]) == [-2]\n",
        "# assert only_negative_evens([2, -5, -6]) == [-6]\n",
        "# assert only_negative_evens([3, 3, 4, 6]) == []\n",
        "# assert only_negative_evens([-2, 3, 4, -1, -4]) == [-2, -4]\n",
        "# print(\"Exercise 79 is correct.\")"
      ],
      "metadata": {
        "colab": {
          "base_uri": "https://localhost:8080/"
        },
        "id": "ybvFsuW6VbY4",
        "outputId": "52e4ed51-e401-48ae-f152-4159a19d5961"
      },
      "execution_count": 32,
      "outputs": [
        {
          "output_type": "stream",
          "name": "stdout",
          "text": [
            "-2\n"
          ]
        }
      ]
    },
    {
      "cell_type": "code",
      "source": [
        "# Exercise 80\n",
        "# Write a function definition named only_negative_odds that takes in sequence of numbers and returns a list containing all the negative odd numbers from the sequence\n",
        "\n",
        "\n",
        "list1 = [1, -2, 3]\n",
        "number = 0\n",
        "while(number < len(list1)):\n",
        "    if list1[number] < 0 and list1[number]%2== 1:\n",
        "        print(list1[number])\n",
        "    number += 1\n",
        "\n",
        "\n",
        "# assert only_negative_odds([1, -2, 3]) == []\n",
        "# assert only_negative_odds([2, -5, -6]) == [-5]\n",
        "# assert only_negative_odds([3, 3, 4, 6]) == []\n",
        "# assert only_negative_odds([2, -3, 4, -1, -4]) == [-3, -1]\n",
        "# print(\"Exercise 80 is correct.\")"
      ],
      "metadata": {
        "id": "46WaJ-8wVjM-"
      },
      "execution_count": 36,
      "outputs": []
    },
    {
      "cell_type": "code",
      "source": [
        "# Exercise 81\n",
        "# Write a function definition named shortest_string that takes in a list of strings and returns the shortest string in the list.\n",
        "list = [\"kiwi\", \"mango\", \"strawberry\"]\n",
        "word = min(list, key=len)\n",
        "print(word)\n",
        "# assert shortest_string([\"kiwi\", \"mango\", \"strawberry\"]) == \"kiwi\"\n",
        "# print(\"Exercise 81 is correct.\")\n",
        "\n"
      ],
      "metadata": {
        "colab": {
          "base_uri": "https://localhost:8080/"
        },
        "id": "Fyy2kpGtWMtf",
        "outputId": "42cc7558-deaf-40dc-a7ff-721d4bb81ef8"
      },
      "execution_count": 40,
      "outputs": [
        {
          "output_type": "stream",
          "name": "stdout",
          "text": [
            "kiwi\n"
          ]
        }
      ]
    },
    {
      "cell_type": "code",
      "source": [
        "# Exercise 82\n",
        "# Write a function definition named longest_string that takes in sequence of strings and returns the longest string in the list.\n",
        "list = [\"kiwi\", \"mango\", \"strawberry\"]\n",
        "word = max(list, key=len)\n",
        "print(word)\n",
        "\n",
        "\n",
        "# assert longest_string([\"kiwi\", \"mango\", \"strawberry\"]) == \"strawberry\"\n",
        "# assert longest_string([\"hello\", \"everybody\"]) == \"everybody\"\n",
        "# assert longest_string([\"mary\", \"had\", \"a\", \"little\", \"lamb\"]) == \"little\"\n",
        "# print(\"Exercise 82 is correct.\")"
      ],
      "metadata": {
        "colab": {
          "base_uri": "https://localhost:8080/"
        },
        "id": "LKRwTVUTWqOD",
        "outputId": "e0b0dbe7-d058-42bd-ed80-57714124eee2"
      },
      "execution_count": 41,
      "outputs": [
        {
          "output_type": "stream",
          "name": "stdout",
          "text": [
            "strawberry\n"
          ]
        }
      ]
    },
    {
      "cell_type": "code",
      "source": [
        "# Exercise 83\n",
        "# Write a function definition named get_unique_values that takes in a list and returns a set with only the unique values from that list.\n",
        "def get_unique_values(list):\n",
        "  x = []\n",
        "  for a in list:\n",
        "    if a not in x:\n",
        "      x.append(a)\n",
        "  return x\n",
        "\n",
        "print(get_unique_values([\"ant\", \"ant\", \"mosquito\", \"mosquito\", \"ladybug\"]))\n",
        "print(get_unique_values([\"mary\", \"had\", \"a\", \"little\", \"lamb\"]))\n",
        "\n",
        "# assert get_unique_values([\"ant\", \"ant\", \"mosquito\", \"mosquito\", \"ladybug\"]) == {\"ant\", \"mosquito\", \"ladybug\"}\n",
        "# assert get_unique_values([\"b\", \"a\", \"n\", \"a\", \"n\", \"a\", \"s\"]) == {\"b\", \"a\", \"n\", \"s\"}\n",
        "# assert get_unique_values([\"mary\", \"had\", \"a\", \"little\", \"lamb\", \"little\", \"lamb\", \"little\", \"lamb\"]) == {\"mary\", \"had\", \"a\", \"little\", \"lamb\"}\n",
        "# print(\"Exercise 83 is correct.\")\n",
        "\n",
        "\n"
      ],
      "metadata": {
        "id": "sl-CXfn2-hxM",
        "colab": {
          "base_uri": "https://localhost:8080/"
        },
        "outputId": "066b6479-f2e7-4dcb-de05-e1372b39168d"
      },
      "execution_count": 94,
      "outputs": [
        {
          "output_type": "stream",
          "name": "stdout",
          "text": [
            "['ant', 'mosquito', 'ladybug']\n",
            "['mary', 'had', 'a', 'little', 'lamb']\n"
          ]
        }
      ]
    },
    {
      "cell_type": "code",
      "source": [
        "# Exercise 84\n",
        "# Write a function definition named get_unique_values_from_two_lists that takes two lists and returns a single set with only the unique values\n",
        "def get_unique_values_from_two_lists(a, b):\n",
        "    a_set = set(a)\n",
        "    b_set = set(b)\n",
        "    if (a_set and not b_set) or (b_set and not a_set):\n",
        "        return(a_set & b_set)\n",
        "    else:\n",
        "        print(\"All common elements\")\n",
        "# assert get_unique_values_from_two_lists([5, 1, 2, 3], [3, 4, 5, 5]) == {1, 2, 3, 4, 5}\n",
        "# assert get_unique_values_from_two_lists([1, 1], [2, 2, 3]) == {1, 2, 3}\n",
        "# assert get_unique_values_from_two_lists([\"tomato\", \"mango\", \"kiwi\"], [\"eggplant\", \"tomato\", \"broccoli\"]) == {\"tomato\", \"mango\", \"kiwi\", \"eggplant\", \"broccoli\"}\n",
        "# print(\"Exercise 84 is correct.\")"
      ],
      "metadata": {
        "id": "NehfAXn0AADw"
      },
      "execution_count": 72,
      "outputs": []
    },
    {
      "cell_type": "code",
      "source": [
        "# Python program to find the common elements\n",
        "# in two lists\n",
        "# Exercise 85\n",
        "# Write a function definition named get_values_in_common that takes two lists and returns a single set with the values that each list has in common\n",
        "def get_values_in_common(a, b):\n",
        "    a_set = set(a)\n",
        "    b_set = set(b)\n",
        "    if (a_set and  b_set):\n",
        "        return(a_set & b_set)\n",
        "    else:\n",
        "        print(\"No common elements\")\n",
        "assert get_values_in_common([5, 1, 2, 3], [3, 4, 5, 5]) == {3, 5}\n",
        "assert get_values_in_common([1, 2], [2, 2, 3]) == {2}\n",
        "assert get_values_in_common([\"tomato\", \"mango\", \"kiwi\"], [\"eggplant\", \"tomato\", \"broccoli\"]) == {\"tomato\"}\n",
        "print(\"Exercise 85 is correct.\")"
      ],
      "metadata": {
        "id": "eWewJdx-ABJS",
        "colab": {
          "base_uri": "https://localhost:8080/"
        },
        "outputId": "d767324e-37eb-4ac0-aac0-3589ab33b3e1"
      },
      "execution_count": 68,
      "outputs": [
        {
          "output_type": "stream",
          "name": "stdout",
          "text": [
            "Exercise 85 is correct.\n"
          ]
        }
      ]
    },
    {
      "cell_type": "code",
      "source": [
        "# Run this cell in order to have these two dictionary variables defined.\n",
        "tukey_paper = {\n",
        "    \"title\": \"The Future of Data Analysis\",\n",
        "    \"author\": \"John W. Tukey\",\n",
        "    \"link\": \"https://projecteuclid.org/euclid.aoms/1177704711\",\n",
        "    \"year_published\": 1962\n",
        "}\n",
        "\n",
        "thomas_paper = {\n",
        "    \"title\": \"A mathematical model of glutathione metabolism\",\n",
        "    \"author\": \"Rachel Thomas\",\n",
        "    \"link\": \"https://www.ncbi.nlm.nih.gov/pubmed/18442411\",\n",
        "    \"year_published\": 2008\n",
        "}"
      ],
      "metadata": {
        "id": "4bDaUF7mfnc7"
      },
      "execution_count": 27,
      "outputs": []
    },
    {
      "cell_type": "code",
      "source": [
        "# Exercise 87\n",
        "# Write a function named get_paper_title that takes in a dictionary and returns the title property\n",
        "\n",
        "#There is an access method and a function method. you can make another cell and try both. \n",
        "def get_paper_title(tukey_paper):\n",
        "  print(tukey_paper.get(\"title\"))\n",
        "get_paper_title(tukey_paper)\n",
        "def get_paper_title(thomas_paper):\n",
        "  print(thomas_paper.get(\"title\"))\n",
        "get_paper_title(thomas_paper)\n",
        "\n",
        "# assert get_paper_title(tukey_paper) == \"The Future of Data Analysis\"\n",
        "# assert get_paper_title(thomas_paper) == \"A mathematical model of glutathione metabolism\"\n",
        "# print(\"Exercise 87 is correct.\")\n"
      ],
      "metadata": {
        "colab": {
          "base_uri": "https://localhost:8080/"
        },
        "id": "YEwBLOPkfoks",
        "outputId": "22e06878-f8ae-4732-b512-ab5ec6ba4bae"
      },
      "execution_count": 30,
      "outputs": [
        {
          "output_type": "stream",
          "name": "stdout",
          "text": [
            "The Future of Data Analysis\n",
            "A mathematical model of glutathione metabolism\n"
          ]
        }
      ]
    },
    {
      "cell_type": "code",
      "source": [
        "# Exercise 88\n",
        "# Write a function named get_year_published that takes in a dictionary and returns the value behind the \"year_published\" key.\n",
        "\n",
        "def get_year_published(tukey_paper):\n",
        "  print(tukey_paper.get(\"year_published\"))\n",
        "get_year_published(tukey_paper)\n",
        "def get_year_published(thomas_paper):\n",
        "  print(thomas_paper.get(\"year_published\"))\n",
        "get_year_published(thomas_paper)\n",
        "\n",
        "\n",
        "# assert get_year_published(tukey_paper) == 1962\n",
        "# assert get_year_published(thomas_paper) == 2008\n",
        "# print(\"Exercise 88 is correct.\")"
      ],
      "metadata": {
        "colab": {
          "base_uri": "https://localhost:8080/"
        },
        "id": "EAeEhlSifyG9",
        "outputId": "561ebfc0-04d0-4f32-ffdb-330c191c93b7"
      },
      "execution_count": 34,
      "outputs": [
        {
          "output_type": "stream",
          "name": "stdout",
          "text": [
            "1962\n",
            "2008\n"
          ]
        }
      ]
    },
    {
      "cell_type": "code",
      "source": [
        "# Run this code to create data for the next two questions\n",
        "book = {\n",
        "    \"title\": \"Genetic Algorithms and Machine Learning for Programmers\",\n",
        "    \"price\": 36.99,\n",
        "    \"author\": \"Frances Buontempo\"\n",
        "}"
      ],
      "metadata": {
        "id": "VsbY_SNm_Agn"
      },
      "execution_count": 44,
      "outputs": []
    },
    {
      "cell_type": "code",
      "source": [
        "# Exercise 89\n",
        "# Write a function named get_price that takes in a dictionary and returns the price\n",
        "\n",
        "def get_price(book):\n",
        "  print(book.get(\"price\"))\n",
        "get_price(book)\n",
        "\n",
        "#assert get_price(book) == 36.99\n",
        "# print(\"Exercise 89 is complete.\")"
      ],
      "metadata": {
        "colab": {
          "base_uri": "https://localhost:8080/"
        },
        "id": "UYpE4Avrb6YJ",
        "outputId": "d5c7f7a6-8862-489d-fa86-913d10483f18"
      },
      "execution_count": 46,
      "outputs": [
        {
          "output_type": "stream",
          "name": "stdout",
          "text": [
            "36.99\n"
          ]
        }
      ]
    },
    {
      "cell_type": "code",
      "source": [
        "# Exercise 90\n",
        "# Write a function named get_book_author that takes in a dictionary (the above declared book variable) and returns the author's name\n",
        "def get_book_author(book):\n",
        "  print(book.get(\"author\"))\n",
        "get_book_author(book)\n",
        "\n",
        "# assert get_book_author(book) == \"Frances Buontempo\"\n",
        "print(\"Exercise 90 is complete.\")"
      ],
      "metadata": {
        "colab": {
          "base_uri": "https://localhost:8080/"
        },
        "id": "tDDR1bt6dVI1",
        "outputId": "87661e2c-e88a-4b9a-c6d0-b6ea4c57f331"
      },
      "execution_count": 45,
      "outputs": [
        {
          "output_type": "stream",
          "name": "stdout",
          "text": [
            "Frances Buontempo\n",
            "Exercise 90 is complete.\n"
          ]
        }
      ]
    }
  ]
}