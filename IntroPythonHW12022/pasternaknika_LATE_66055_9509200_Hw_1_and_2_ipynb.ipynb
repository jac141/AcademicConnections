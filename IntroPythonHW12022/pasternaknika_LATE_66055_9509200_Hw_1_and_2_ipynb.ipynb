{
  "nbformat": 4,
  "nbformat_minor": 0,
  "metadata": {
    "colab": {
      "name": "Hw 1 and 2. ipynb",
      "provenance": []
    },
    "kernelspec": {
      "name": "python3",
      "display_name": "Python 3"
    },
    "language_info": {
      "name": "python"
    }
  },
  "cells": [
    {
      "cell_type": "code",
      "execution_count": 2,
      "metadata": {
        "id": "XPDzXv-WHGK7"
      },
      "outputs": [],
      "source": [
        "# Function 1:\n",
        "# def silly_case(in_string):\n",
        "# Given a string, convert it to a string such that each word starts with a lowercase letter, and the remaining letters are \n",
        "# uppercase. Return the silly case string. This can be done in one line! Functions can be placed one after another like \n",
        "# .format().round() [though that particular example doesn't work you get the idea. It can be done it one line\n",
        "\n",
        "def silly_case(in_string):\n",
        "  res = \"\"\n",
        "  for word in in_string.split():\n",
        "    res = res+ word[0].lower() + word[1:].upper() + \" \"\n",
        "    #print(res)\n",
        "  print(res)\n",
        "  return res\n"
      ]
    },
    {
      "cell_type": "code",
      "source": [
        "test = \"Filet Mignon\"\n",
        "silly_case(test)"
      ],
      "metadata": {
        "colab": {
          "base_uri": "https://localhost:8080/",
          "height": 53
        },
        "id": "jPwiNH7bHqnd",
        "outputId": "91d28aac-baa1-42bb-da5e-7846158f0168"
      },
      "execution_count": 3,
      "outputs": [
        {
          "output_type": "stream",
          "name": "stdout",
          "text": [
            "fILET mIGNON \n"
          ]
        },
        {
          "output_type": "execute_result",
          "data": {
            "text/plain": [
              "'fILET mIGNON '"
            ],
            "application/vnd.google.colaboratory.intrinsic+json": {
              "type": "string"
            }
          },
          "metadata": {},
          "execution_count": 3
        }
      ]
    },
    {
      "cell_type": "code",
      "source": [
        "#Function 2\n",
        "def dash_stringify(word_list):\n",
        "  result = ''\n",
        "  for word in word_list:\n",
        "    if type(word) != str:\n",
        "      print('Error: Invlaid input')\n",
        "      return(result)\n",
        "  for word in word_list:\n",
        "    if word == word_list[len(word_list) -  1]:\n",
        "      result = result + word\n",
        "    else:\n",
        "      result = result + word + \" - \"\n",
        "  return(result)\n"
      ],
      "metadata": {
        "id": "BJ3QtS5ZIUXu"
      },
      "execution_count": 5,
      "outputs": []
    },
    {
      "cell_type": "code",
      "source": [
        "test_list = ['apple', 'orange', 'cherry'] # 'apple - orange - cherry'\n",
        "#test_list = [1, 2, 3, 4, 5] # Make sure that the function doesn't take a list of numbers\n",
        "\n",
        "test_string = dash_stringify(test_list)\n",
        "print(test_string)"
      ],
      "metadata": {
        "colab": {
          "base_uri": "https://localhost:8080/"
        },
        "id": "865n4S-hIRrY",
        "outputId": "4977a156-6499-4e0e-c1db-c7a80ce48a7c"
      },
      "execution_count": 6,
      "outputs": [
        {
          "output_type": "stream",
          "name": "stdout",
          "text": [
            "apple - orange - cherry\n"
          ]
        }
      ]
    },
    {
      "cell_type": "code",
      "source": [
        "#Function 3\n",
        "import math\n",
        "\n",
        "def is_perfect_square(num):\n",
        "\n",
        "  # Convert the square root of the input into an int\n",
        "  # Then check if that int square will give the original number\n",
        "  print(int(math.sqrt(num)**2) == num)\n",
        "    "
      ],
      "metadata": {
        "id": "Xpjs00EeJHC6"
      },
      "execution_count": 8,
      "outputs": []
    },
    {
      "cell_type": "code",
      "source": [
        "my_num = 65\n",
        "\n",
        "is_perfect_square(my_num)"
      ],
      "metadata": {
        "colab": {
          "base_uri": "https://localhost:8080/"
        },
        "id": "mepG-r04JH02",
        "outputId": "25e57cbe-4b39-4b0b-afff-5cb48e5c2eeb"
      },
      "execution_count": 9,
      "outputs": [
        {
          "output_type": "stream",
          "name": "stdout",
          "text": [
            "False\n"
          ]
        }
      ]
    },
    {
      "cell_type": "code",
      "source": [
        "#Function 4\n",
        "def is_leap_year(year):\n",
        "  \n",
        "  # Check if year is divisible by 4\n",
        "  # Remember to exclude years divisible by 100\n",
        "  # But include those divisible by 400\n",
        "  if (year % 4 == 0 and year % 100 != 0) or year % 400 == 0:\n",
        "    print(year, 'is a leap year')\n",
        "  else:\n",
        "    print(year, 'is not a leap year')"
      ],
      "metadata": {
        "id": "gbYreO5DKBwR"
      },
      "execution_count": 10,
      "outputs": []
    },
    {
      "cell_type": "code",
      "source": [
        "test_year = 1600 # Is a leap year\n",
        "# test_year = 2017 # Not a leap year\n",
        "\n",
        "is_leap_year(test_year)"
      ],
      "metadata": {
        "colab": {
          "base_uri": "https://localhost:8080/"
        },
        "id": "ialXssTqKINm",
        "outputId": "da341ac1-3582-46cd-a7dd-27eeb8985605"
      },
      "execution_count": 11,
      "outputs": [
        {
          "output_type": "stream",
          "name": "stdout",
          "text": [
            "1600 is a leap year\n"
          ]
        }
      ]
    }
  ]
}