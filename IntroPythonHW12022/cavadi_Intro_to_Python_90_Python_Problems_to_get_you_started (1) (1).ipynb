{
  "cells": [
    {
      "cell_type": "markdown",
      "metadata": {
        "id": "KXbe87ydgCr0"
      },
      "source": [
        "# Welcome to Intro to Python's Exercises for Python Fundamentals\n",
        "\n",
        "While these are borrowed. I would have been doing a lot of these in class anyway, so it is nice to have these already typed up for you in a nice notebook. THIS is why I love using them so much. Solving these exercises will help make you a better programmer. Solve them in order, because each solution builds scaffolding, working code, and knowledge you can use on future problems. Read the directions carefully, and have fun!\n",
        "\n",
        "> \"Learning to program takes a little bit of study and a *lot* of practice\" - Luis Montealegre"
      ]
    },
    {
      "cell_type": "markdown",
      "metadata": {
        "id": "qhePOizMgCr7"
      },
      "source": [
        "## Getting Started\n",
        "1. You can access this on your canvas under Week 1 but I will also making it accessible in a public github.\n",
        "\n",
        "2. To save your work to your Google Drive, go to File then \"Save Copy in Drive\" or you can download it as .ipynb and use it through github/mybinder\n",
        "\n",
        "3. I worked some exercises online which I will delete here. But always make sure to save a fresh copy and name it what you need to in order to remember what it is. "
      ]
    },
    {
      "cell_type": "markdown",
      "metadata": {
        "id": "lWPyk0gogCr7"
      },
      "source": [
        "## Orientation\n",
        "- This code notebook is composed of cells. Each cell is either text or Python code. -- This is important as you can run a cell to execute code you can't run text. So in code cells be sure to always use correct syntax. \n",
        "- To run a cell of code, click the \"play button\" icon to the left of the cell or click on the cell and press \"Shift+Enter\" on your keyboard. This will execute the Python code contained in the cell. Executing a cell that defines a variable is important before executing or authoring a cell that depends on that previously created variable assignment. -- Later I will teach you to make a variable that exists in one cell accessible to all the cells. That way you can put variables all in one cell and use them for different things in different sections. \n",
        "- Each *assert* line is both an example and a test that tests for the presence and functionality of the instructed exercise. \n",
        "\n",
        "\n",
        "## Outline\n",
        "- Each cell starts with a problem statement that describes the exercise to complete.\n",
        "- Underneath each problem statement, learners will need to write code to produce an answer.\n",
        "- The **assert** lines test to see that your code solves the problem appropriately.\n",
        "- Do not alter or delete the assertion tests, since those are providing automated testing.\n",
        "- Many exercises will rely on previous solutions to be correctly completed\n",
        "- The `print(\"Exercise is complete\")` line will only run if your solution passes the assertion test(s)\n",
        "- Be sure to create programmatic solutions that will work for all inputs:\n",
        "- For example, calling the `is_even(2)` returns `True`, but your function should work for all even numbers, both positive and negative.\n",
        "\n",
        "\n",
        "## Guidance\n",
        "- Get Python to do the work for you. For example, if the exercise instructs you to reverse a list of numbers, your job is to find the method/function/operator that can do that thing for you.  \n",
        "- Save often by clicking the blue \"Save\" button.\n",
        "- If you need to clear the output or reset the notebook, go to \"Run\" then \"Restart Session\" to clear up any error messages.\n",
        "- You can clear a single output that is an error by clicking the X button in the top left next to that error. \n",
        "- Do not move or alter the lines of code that contain the `assert` statements. Those are what run your solution and test its actual output vs. expected outputs.\n",
        "- Seek to understand the problem before trying to solve it. Can you explain the problem to someone else in plain language?\n",
        "- Slow down and read any error messages you encounter. Error messages provide insight into how to resolve the error. When in doubt, put your exact error into a search engine and look for results that reference an identical or similar problem. -- This is super important\n",
        "- You can hide cells in this document. That you have already worked on so that it is less cluttered. The arrows next to bolded titles help you do this. \n",
        "\n",
        "## Get Python To Do The Work For You\n",
        "One of the main jobs of a programming language is to help people solve problems programatically, so we don't have to do so much by hand. For example, it's easy for a person to manually reverse the list `[1, 2, 3]`, but imagine reversing a list of a million things or sorting a list of even a hundred things. When we write programmatic solutions in code, we are providing instructions to the computer to do a task. Computers follow the letter of the code, not the intent, and do exactly what they are told to do. In this way, Python can reverse a list of 3 numbers or 100 numbers or ten million numbers with the same instructions. Repetition is a key idea behind programming languages.\n",
        "\n",
        "This means that your task with these exercises is to determine a sequence of steps that solve the problem and then find the Python code that will run those instructions. If you're sorting or reversing things by hand, you're not doing it right!\n",
        "\n",
        "## How To Discover How To Do Something in Python\n",
        "1. The first step is to make sure you know what the problem is asking.\n",
        "2. The second step is to determine list out theoretically what steps you would need to take. NOT the python steps. But, I need to reverse this, or capitalize this or delete this, then do that. It is also important to know what objects you are trying to manipulate. \n",
        "3. Use a search engine to look for code examples to identical or similar problems or for object operations. There are huge lists of operations that can be done on particular objects. \n",
        "\n",
        "One of the best ways to discover how to do things in Python is to use a search engine. Go to your favorite search engine and search for \"how to reverse a list in Python\" or \"how to sort a list in Python\". That's how both learners and professionals find answers and examples all the time. Search for what you want and add \"in Python\" and you'll get lots of code examples. Searching for \"How to sum a list of numbers in Python\" is a very effective way to discover exactly how to do that task."
      ]
    },
    {
      "cell_type": "markdown",
      "metadata": {
        "id": "nqJx2KGRgCr9"
      },
      "source": [
        "### Learning to Program and Code\n",
        "- You can make a new blank cell for Python code at any time in this document.\n",
        "- Programming is an intellectual activity of designing a solution. \"Coding\" means turning your programmatic solution into code w/ all the right syntax and parts of the programming language.\n",
        "- Expect to make mistakes and adopt the attitude that **the error message provides the information you need to proceed**. You will put lots of error messages into search engines to learn this craft!\n",
        "- Because computers have zero ability to read in between the lines or \"catch the drift\" or know what you mean, code only does what it is told to do.\n",
        "- Code doesn't do what you *want* it to do, code does what you've told it to do.\n",
        "- Before writing any code, figure out how you would solve the problem in spoken language to describe the sequence of steps in the solution.\n",
        "- Think about your solution in English (or your natural language). It's **critical** to solve the problem in your natural language before trying to get a programming language to do the work."
      ]
    },
    {
      "cell_type": "markdown",
      "metadata": {
        "id": "53YyyQPXgCr-"
      },
      "source": [
        "## Troubleshooting\n",
        "\n",
        "- \"Name Error\" means that you need to assign a variable or define the function as instructed.\n",
        "- \"Assertion Error\" means that your provided solution does not match the correct answer.\n",
        "- \"Type Error\" means that your data type provided is not accurate\n",
        "- If your kernel freezes, click on \"Run\" then select \"Restart Session\"\n",
        "- If you require additional troubleshooting assistance, click on \"Help\" and then \"Docs\" to access documentation for this platform.\n",
        "\n",
        "\n",
        "## What to do when you don't know what to do next\n",
        "- When the exercise asks you to reverse an list, the way forward is to search for \"How to reverse a list in Python\" in your favorite search engine.\n",
        "- When the exercise asks you to check if a number is even, the way forward is to search for \"how to check if a number is even in Python\".\n",
        "- When the exercise has you calculate the area of a circle, the way forward is to search for \"how to calculate the area of a circle in Python\" or \"How to get pi in Python\"."
      ]
    },
    {
      "cell_type": "code",
      "execution_count": null,
      "metadata": {
        "_cell_guid": "79c7e3d0-c299-4dcb-8224-4455121ee9b0",
        "_uuid": "d629ff2d2480ee46fbb7e2d37f6b5fab8052498a",
        "id": "toCibUprgCr_",
        "colab": {
          "base_uri": "https://localhost:8080/"
        },
        "outputId": "bac22a36-6795-4f14-dffd-53db21a68c1b"
      },
      "outputs": [
        {
          "output_type": "stream",
          "name": "stdout",
          "text": [
            "Exercise 0 is correct\n"
          ]
        }
      ],
      "source": [
        "# Example problem:\n",
        "# Uncomment the line below and run this cell.\n",
        "# The hashtag \"#\" character in a line of Python code is the comment character. \n",
        "\n",
        "doing_python_right_now = True\n",
        "\n",
        "# The lines below will test your answer. If you see an error, then it means that your answer is incorrect or incomplete.\n",
        "assert doing_python_right_now == True, \"If you see a NameError, it means that the variable is not created and assigned a value. An 'Assertion Error' means that the value of the variable is incorrect.\" \n",
        "print(\"Exercise 0 is correct\") # This line will print if your solution passes the assertion above."
      ]
    },
    {
      "cell_type": "code",
      "execution_count": null,
      "metadata": {
        "id": "K-oKAPgdgCsA",
        "colab": {
          "base_uri": "https://localhost:8080/"
        },
        "outputId": "a067272d-b040-4f4e-dfab-64eae172093c"
      },
      "outputs": [
        {
          "output_type": "stream",
          "name": "stdout",
          "text": [
            "Exercise 1 is correct.\n"
          ]
        }
      ],
      "source": [
        "# Exercise 1\n",
        "# On the line below, create a variable named on_mars_right_now and assign it the boolean value of False\n",
        "on_mars_right_now = False\n",
        "\n",
        "assert on_mars_right_now == False, \"If you see a Name Error, be sure to create the variable and assign it a value.\"\n",
        "print(\"Exercise 1 is correct.\")"
      ]
    },
    {
      "cell_type": "code",
      "execution_count": null,
      "metadata": {
        "id": "E7X42EaOgCsB",
        "colab": {
          "base_uri": "https://localhost:8080/"
        },
        "outputId": "cf38d2a8-0926-4631-bd4c-35148e7f546e"
      },
      "outputs": [
        {
          "output_type": "stream",
          "name": "stdout",
          "text": [
            "Exercise 2 is correct.\n"
          ]
        }
      ],
      "source": [
        "# Exercise 2\n",
        "# Create a variable named fruits and assign it a list of fruits containing the following fruit names as strings: \n",
        "# mango, banana, guava, kiwi, and strawberry.\n",
        "fruits = [\"mango\", \"banana\", \"guava\", \"kiwi\", \"strawberry\"]\n",
        "\n",
        "assert fruits == [\"mango\", \"banana\", \"guava\", \"kiwi\", \"strawberry\"], \"If you see an Assert Error, ensure the variable contains all the strings in the provided order\"\n",
        "print(\"Exercise 2 is correct.\")"
      ]
    },
    {
      "cell_type": "code",
      "execution_count": null,
      "metadata": {
        "colab": {
          "base_uri": "https://localhost:8080/"
        },
        "id": "5N7DQHdNgCsD",
        "outputId": "96b648db-8300-499b-ddbd-a8ec3de2000c"
      },
      "outputs": [
        {
          "output_type": "stream",
          "name": "stdout",
          "text": [
            "Exercise 3 is correct.\n"
          ]
        }
      ],
      "source": [
        "# Exercise 3\n",
        "# Create a variable named vegetables and assign it a list of fruits (?) containing the following vegetable names as strings: \n",
        "# eggplant, broccoli, carrot, cauliflower, and zucchini\n",
        "vegetables = [\"eggplant\", \"broccoli\", \"carrot\", \"cauliflower\", \"zucchini\"]\n",
        "\n",
        "assert vegetables == [\"eggplant\", \"broccoli\", \"carrot\", \"cauliflower\", \"zucchini\"], \"Ensure the variable contains all the strings in the provided order\"\n",
        "print(\"Exercise 3 is correct.\")"
      ]
    },
    {
      "cell_type": "code",
      "execution_count": null,
      "metadata": {
        "id": "SoEdSbfJgCsE",
        "colab": {
          "base_uri": "https://localhost:8080/"
        },
        "outputId": "f35f5c7f-f229-49a9-9981-f5db73dbef97"
      },
      "outputs": [
        {
          "output_type": "stream",
          "name": "stdout",
          "text": [
            "Exercise 4 is correct.\n"
          ]
        }
      ],
      "source": [
        "# Exercise 4\n",
        "# Create a variable named numbers and assign it a list of numbers, 1, 2, 3, 4, 5, 6, 7, 8, 9, 10\n",
        "\n",
        "numbers = [1, 2, 3, 4, 5, 6, 7, 8, 9, 10]\n",
        "\n",
        "assert numbers == [1, 2, 3, 4, 5, 6, 7, 8, 9, 10], \"Ensure the variable contains the numbers 1-10 in order.\"\n",
        "print(\"Exercise 4 is correct.\")"
      ]
    },
    {
      "cell_type": "markdown",
      "metadata": {
        "id": "nwyGYOVRgCsE"
      },
      "source": [
        "## List Operations\n",
        "**Hint** Recommend finding and using built-in Python functionality whenever possible. \n",
        "\n",
        "NOTE ROM\n"
      ]
    },
    {
      "cell_type": "code",
      "execution_count": null,
      "metadata": {
        "id": "57aYOXg7gCsF",
        "colab": {
          "base_uri": "https://localhost:8080/"
        },
        "outputId": "0a81781c-a2c1-4138-914f-66dc7c054b50"
      },
      "outputs": [
        {
          "output_type": "stream",
          "name": "stdout",
          "text": [
            "Exercise 5 is correct\n"
          ]
        }
      ],
      "source": [
        "# Exercise 5\n",
        "# Given the following assigment of the list of fruits, add \"tomato\" to the end of the list. \n",
        "fruits = [\"mango\", \"banana\", \"guava\", \"kiwi\", \"strawberry\"]\n",
        "fruits.append(\"tomato\")\n",
        "\n",
        "assert fruits == [\"mango\", \"banana\", \"guava\", \"kiwi\", \"strawberry\", \"tomato\"], \"Ensure the variable contains all the strings in the right order\"\n",
        "print(\"Exercise 5 is correct\")"
      ]
    },
    {
      "cell_type": "code",
      "execution_count": null,
      "metadata": {
        "id": "igVbvxBdgCsG",
        "colab": {
          "base_uri": "https://localhost:8080/"
        },
        "outputId": "3b63d2e4-e17a-4837-cc57-8f1e61104d1c"
      },
      "outputs": [
        {
          "output_type": "stream",
          "name": "stdout",
          "text": [
            "Exercise 6 is correct\n"
          ]
        }
      ],
      "source": [
        "# Exercise 6\n",
        "# Given the following assignment of the vegetables list, add \"tomato\" to the end of the list.\n",
        "vegetables = [\"eggplant\", \"broccoli\", \"carrot\", \"cauliflower\", \"zucchini\"]\n",
        "vegetables.append(\"tomato\")\n",
        "\n",
        "assert vegetables == [\"eggplant\", \"broccoli\", \"carrot\", \"cauliflower\", \"zucchini\", \"tomato\"], \"Ensure the variable contains all the strings in the provided order\"\n",
        "print(\"Exercise 6 is correct\")"
      ]
    },
    {
      "cell_type": "code",
      "execution_count": null,
      "metadata": {
        "id": "JEYfX1iWgCsG",
        "colab": {
          "base_uri": "https://localhost:8080/"
        },
        "outputId": "e760f1a5-63e3-4409-88dc-30ee9604a1f8"
      },
      "outputs": [
        {
          "output_type": "stream",
          "name": "stdout",
          "text": [
            "Exercise 7 is correct.\n"
          ]
        }
      ],
      "source": [
        "# Exercise 7\n",
        "# Given the list of numbers defined below, reverse the list of numbers that you created above. \n",
        "numbers = [1, 2, 3, 4, 5, 6, 7, 8, 9, 10]\n",
        "numbers.reverse()\n",
        "\n",
        "assert numbers == [10, 9, 8, 7, 6, 5, 4, 3, 2, 1], \"Assert Error means that the answer is incorrect.\" \n",
        "print(\"Exercise 7 is correct.\")"
      ]
    },
    {
      "cell_type": "code",
      "execution_count": null,
      "metadata": {
        "id": "M4-WJrRYgCsH",
        "colab": {
          "base_uri": "https://localhost:8080/"
        },
        "outputId": "ad52a80f-401a-441f-b37b-c4b154e214c7"
      },
      "outputs": [
        {
          "output_type": "stream",
          "name": "stdout",
          "text": [
            "Exercise 8 is correct.\n"
          ]
        }
      ],
      "source": [
        "# Exercise 8\n",
        "# Sort the vegetables in alphabetical order\n",
        "vegetables = ['carrot', 'cauliflower', 'broccoli', 'eggplant', 'tomato', 'zucchini']\n",
        "vegetables.sort()\n",
        "assert vegetables == ['broccoli', 'carrot', 'cauliflower', 'eggplant', 'tomato', 'zucchini']\n",
        "print(\"Exercise 8 is correct.\")"
      ]
    },
    {
      "cell_type": "code",
      "execution_count": null,
      "metadata": {
        "id": "m6NtHZWUgCsI",
        "colab": {
          "base_uri": "https://localhost:8080/"
        },
        "outputId": "c5bca746-78b0-4ee3-f417-0dc305329792"
      },
      "outputs": [
        {
          "output_type": "stream",
          "name": "stdout",
          "text": [
            "Exercise 9 is correct.\n"
          ]
        }
      ],
      "source": [
        "# Exercise 9\n",
        "# Write the code necessary to sort the fruits in reverse alphabetical order\n",
        "fruits = ['strawberry', 'tomato', 'mango', 'kiwi', 'guava', 'banana']\n",
        "fruits.sort()\n",
        "fruits.reverse()\n",
        "assert fruits == ['tomato', 'strawberry', 'mango', 'kiwi', 'guava', 'banana']\n",
        "print(\"Exercise 9 is correct.\")"
      ]
    },
    {
      "cell_type": "code",
      "execution_count": null,
      "metadata": {
        "id": "rDW88m1AgCsJ",
        "colab": {
          "base_uri": "https://localhost:8080/"
        },
        "outputId": "3bc40cfd-6639-45ef-8c87-07ee86543548"
      },
      "outputs": [
        {
          "output_type": "stream",
          "name": "stdout",
          "text": [
            "Exercise 10 is correct\n"
          ]
        }
      ],
      "source": [
        "# Exercise 10\n",
        "# Write the code necessary to produce a single list that holds all fruits then all vegetables in the order as they were sorted above.\n",
        "vegetables = ['broccoli', 'carrot', 'cauliflower', 'eggplant', 'tomato', 'zucchini']\n",
        "fruits = ['tomato', 'strawberry', 'mango', 'kiwi', 'guava', 'banana']\n",
        "fruits_and_veggies = fruits + vegetables\n",
        "\n",
        "assert fruits_and_veggies == ['tomato', 'strawberry', 'mango', 'kiwi', 'guava', 'banana', 'broccoli', 'carrot', 'cauliflower', 'eggplant', 'tomato', 'zucchini']\n",
        "print(\"Exercise 10 is correct\")"
      ]
    },
    {
      "cell_type": "markdown",
      "metadata": {
        "id": "mdFcPXetgCsJ"
      },
      "source": [
        "## Basic Functions\n",
        "![](http://)**Hint** Be sure to `return` values from your function definitions. The assert statements will call your function(s) for you."
      ]
    },
    {
      "cell_type": "code",
      "execution_count": null,
      "metadata": {
        "id": "-fohX1yNgCsK",
        "colab": {
          "base_uri": "https://localhost:8080/"
        },
        "outputId": "fd8407b8-d2c9-4797-b8a1-2e9eebe7b8b4"
      },
      "outputs": [
        {
          "output_type": "stream",
          "name": "stdout",
          "text": [
            "We now have some random numbers available for future exercises.\n",
            "The random positive even number is 36\n",
            "The random positive odd nubmer is 17\n",
            "The random negative even number -22\n",
            "The random negative odd number -15\n"
          ]
        }
      ],
      "source": [
        "# Run this cell in order to generate some numbers to use in our functions after this.\n",
        "\n",
        "# This next line is called a library. We import libraries because they are groups of functions \n",
        "# that others have written that we can use, that we are entirely too lazy to write ourselves. \n",
        "import random \n",
        "    \n",
        "# Be sure to look up what any new functions like .randrange() do and what they require to functions\n",
        "# It looks like .randrange() takes three arguments, most likely integers ... it is important to know this\n",
        "# and potentially what order they are in. \n",
        "\n",
        "positive_even_number = random.randrange(2, 101, 2)\n",
        "negative_even_number = random.randrange(-100, -1, 2)\n",
        "\n",
        "positive_odd_number = random.randrange(1, 100, 2)\n",
        "negative_odd_number = random.randrange(-101, 0, 2)\n",
        "print(\"We now have some random numbers available for future exercises.\")\n",
        "print(\"The random positive even number is\", positive_even_number)\n",
        "print(\"The random positive odd nubmer is\", positive_odd_number)\n",
        "print(\"The random negative even number\", negative_even_number)\n",
        "print(\"The random negative odd number\", negative_odd_number)\n"
      ]
    },
    {
      "cell_type": "code",
      "execution_count": null,
      "metadata": {
        "id": "TL2yVrMmgCsK",
        "colab": {
          "base_uri": "https://localhost:8080/"
        },
        "outputId": "8ec9b4ec-81c5-43f0-e352-94f920751bdd"
      },
      "outputs": [
        {
          "output_type": "stream",
          "name": "stdout",
          "text": [
            "The example function definition ran appropriately\n"
          ]
        }
      ],
      "source": [
        "# Example function defintion:\n",
        "# Write a say_hello function that adds the string \"Hello, \" to the beginning and \"!\" to the end of any given input.\n",
        "\n",
        "# I explained this slightly before. The def function allows you to create your own functions and methods\n",
        "# You much use a colon after stipulating the function name, and supplying it an argument\n",
        "# The next line will automatically be indented. \n",
        "# This indent is IMPORTANT. As anything with the same indentation has the same level of priority\n",
        "# But in this example what we name the function and creating it is slightly more important that what is inside\n",
        "# However if you have multiple steps to a function that you want to do in order. Add these then change the order\n",
        "# they would need the same level of indentation. \n",
        "\n",
        "\n",
        "def say_hello(name):\n",
        "    return \"Hello, \" + name + \"!\"\n",
        "\n",
        "assert say_hello(\"Jane\") == \"Hello, Jane!\", \"Double check the inputs and data types\"\n",
        "assert say_hello(\"Pat\") == \"Hello, Pat!\", \"Double check the inputs and data types\"\n",
        "assert say_hello(\"Astrud\") == \"Hello, Astrud!\", \"Double check the inputs and data types\"\n",
        "print(\"The example function definition ran appropriately\")"
      ]
    },
    {
      "cell_type": "code",
      "execution_count": null,
      "metadata": {
        "id": "T36pEpxVgCsL",
        "colab": {
          "base_uri": "https://localhost:8080/"
        },
        "outputId": "95aab572-2556-4a6a-d719-4e2bea046f52"
      },
      "outputs": [
        {
          "output_type": "stream",
          "name": "stdout",
          "text": [
            "The plus_two assertions executed appropriately... The second function definition example executed appropriately.\n"
          ]
        }
      ],
      "source": [
        "# Another example function definition:\n",
        "# This plus_two function takes in a variable and adds 2 to it.\n",
        "\n",
        "# Above I didn't discuss the return function. \n",
        "# The return function is used in concert with the def function to output a result to your REPL. \n",
        "# You will learn that printing and return operate very differently.\n",
        "# And Actually that will be part of your homework. \n",
        "\n",
        "\n",
        "def plus_two(number):\n",
        "    return number + 2\n",
        "\n",
        "assert plus_two(3) == 5\n",
        "assert plus_two(0) == 2\n",
        "assert plus_two(-2) == 0\n",
        "print(\"The plus_two assertions executed appropriately... The second function definition example executed appropriately.\")"
      ]
    },
    {
      "cell_type": "code",
      "execution_count": null,
      "metadata": {
        "id": "5pVBwp3CgCsL",
        "colab": {
          "base_uri": "https://localhost:8080/"
        },
        "outputId": "ec6ae801-544e-4bf3-fc37-aa9d39276856"
      },
      "outputs": [
        {
          "output_type": "stream",
          "name": "stdout",
          "text": [
            "Exercise 11 is correct.\n"
          ]
        }
      ],
      "source": [
        "# Exercise 11\n",
        "# Write a function definition for a function named add_one that takes in a number and returns that number plus one.\n",
        "\n",
        "def add_one(number):\n",
        "  return number + 1\n",
        "\n",
        "assert add_one(2) == 3, \"Ensure that the function is defined, named properly, and returns the correct value\"\n",
        "assert add_one(0) == 1, \"Zero plus one is one.\"\n",
        "assert add_one(6) == 6 + 1, \"Ensure that the function is defined, named properly, and returns the correct value\"\n",
        "#Why are words written instead of numbers\n",
        "#I'm changing that\n",
        "assert add_one(-3) == -3 + 1, \"Ensure that the function is defined, named properly, and returns the correct value\"\n",
        "print(\"Exercise 11 is correct.\") "
      ]
    },
    {
      "cell_type": "code",
      "execution_count": null,
      "metadata": {
        "id": "1_ZjCi1ggCsM",
        "colab": {
          "base_uri": "https://localhost:8080/"
        },
        "outputId": "87153811-299c-46ab-cc59-5e90697726f1"
      },
      "outputs": [
        {
          "output_type": "stream",
          "name": "stdout",
          "text": [
            "Exercise 12 is correct.\n"
          ]
        }
      ],
      "source": [
        "# Exercise 12\n",
        "# Write a function definition named is_positive that takes in a number and returns True or False if that number is positive.\n",
        "\n",
        "# While this asks you to make a function named is_positive. If you imported the math library you wouldn't have to make it yourself. \n",
        "# Though here you should\n",
        "\n",
        "def is_positive(number):\n",
        "   return number > 0\n",
        "\n",
        "#numbers?\n",
        "assert is_positive(3) == True, \"Ensure that the function is defined, named properly, and returns the correct value\"\n",
        "assert is_positive(4) == True, \"Ensure that the function is defined, named properly, and returns the correct value\"\n",
        "assert is_positive(-3) == False, \"Ensure that the function is defined, named properly, and returns the correct value\"\n",
        "assert is_positive(-6) == False, \"Ensure that the function is defined, named properly, and returns the correct value\"\n",
        "assert is_positive(0) == False, \"Zero is not a positive number.\"\n",
        "print(\"Exercise 12 is correct.\")"
      ]
    },
    {
      "cell_type": "code",
      "execution_count": null,
      "metadata": {
        "id": "nwzpNUb8gCsM",
        "colab": {
          "base_uri": "https://localhost:8080/"
        },
        "outputId": "0542f12f-01cc-4b99-be81-2d1fa9e3def7"
      },
      "outputs": [
        {
          "output_type": "stream",
          "name": "stdout",
          "text": [
            "Exercise 13 is correct.\n"
          ]
        }
      ],
      "source": [
        "# Exercise 13\n",
        "# Write a function definition named is_negative that takes in a number and returns True or False if that number is negative.\n",
        "\n",
        "def is_negative(number):\n",
        "  return number < 0\n",
        "\n",
        "#are all of these gonna have words instead of numbers\n",
        "assert is_negative(3) == False, \"Ensure that the function is defined, named properly, and returns the correct value\"\n",
        "assert is_negative(4) == False, \"Ensure that the function is defined, named properly, and returns the correct value\"\n",
        "assert is_negative(-3) == True, \"Ensure that the function is defined, named properly, and returns the correct value\"\n",
        "assert is_negative(-4) == True, \"Ensure that the function is defined, named properly, and returns the correct value\"\n",
        "assert is_negative(0) == False, \"Zero is not a negative number.\"\n",
        "print(\"Exercise 13 is correct.\")"
      ]
    },
    {
      "cell_type": "code",
      "execution_count": null,
      "metadata": {
        "id": "lBH5rSwVgCsN",
        "colab": {
          "base_uri": "https://localhost:8080/"
        },
        "outputId": "2f6e1187-8ed6-43c2-8a4e-c01d94ca8191"
      },
      "outputs": [
        {
          "output_type": "stream",
          "name": "stdout",
          "text": [
            "Exercise 14 is correct.\n"
          ]
        }
      ],
      "source": [
        "# Exercise 14\n",
        "# Write a function definition named is_odd that takes in a number and returns True or False if that number is odd.\n",
        "\n",
        "def is_odd(number):\n",
        "  return number % 2 != 0\n",
        "#Modulo checks the remainder\n",
        "#yeah i guess ill have to replace the words\n",
        "assert is_odd(3) == True, \"Ensure that the function is defined, named properly, and returns the correct value\"\n",
        "assert is_odd(4) == False, \"Ensure that the function is defined, named properly, and returns the correct value\"\n",
        "assert is_odd(-3) == True, \"Ensure that the function is defined, named properly, and returns the correct value\"\n",
        "assert is_odd(-4) == False, \"Ensure that the function is defined, named properly, and returns the correct value\"\n",
        "print(\"Exercise 14 is correct.\")"
      ]
    },
    {
      "cell_type": "code",
      "execution_count": null,
      "metadata": {
        "id": "7CmRcL2AgCsN",
        "colab": {
          "base_uri": "https://localhost:8080/"
        },
        "outputId": "9296644a-220c-4272-d771-c14526a06395"
      },
      "outputs": [
        {
          "output_type": "stream",
          "name": "stdout",
          "text": [
            "Exercise 15 is correct.\n"
          ]
        }
      ],
      "source": [
        "# Exercise 15\n",
        "# Write a function definition named is_even that takes in a number and returns True or False if that number is even.\n",
        "\n",
        "def is_even(number):\n",
        "  return number % 2 == 0\n",
        "\n",
        "\n",
        "\n",
        "assert is_even(2) == True, \"Ensure that the function is defined, named properly, and returns the correct value\"\n",
        "assert is_even(3) == False, \"Ensure that the function is defined, named properly, and returns the correct value\"\n",
        "assert is_even(4) == True, \"Ensure that the function is defined, named properly, and returns the correct value\"\n",
        "assert is_even(-3) == False, \"Ensure that the function is defined, named properly, and returns the correct value\"\n",
        "assert is_even(-4) == True, \"Ensure that the function is defined, named properly, and returns the correct value\"\n",
        "print(\"Exercise 15 is correct.\")"
      ]
    },
    {
      "cell_type": "code",
      "execution_count": null,
      "metadata": {
        "id": "wQXuHLfXgCsN",
        "colab": {
          "base_uri": "https://localhost:8080/"
        },
        "outputId": "800bdd4a-5dd1-423f-b122-ca09191b0e81"
      },
      "outputs": [
        {
          "output_type": "stream",
          "name": "stdout",
          "text": [
            "Exercise 16 is correct.\n"
          ]
        }
      ],
      "source": [
        "# Exercise 16\n",
        "# Write a function definition named identity that takes in any argument and returns that argument's value. Don't overthink this one!\n",
        "\n",
        "# You can either explore or work with classmates to find a code that makes all variables accessible in all cells or you can copy\n",
        "# them into this cell. \n",
        "# Really don't overthink this one\n",
        "\n",
        "fruits = \"fruits\"\n",
        "vegetables = \"vegetables\"\n",
        "\n",
        "def identity(anything):\n",
        "  return anything\n",
        "\n",
        "assert identity(fruits) == fruits, \"Ensure that the function is defined, named properly, and returns the correct value\"\n",
        "assert identity(vegetables) == vegetables, \"Ensure that the function is defined, named properly, and returns the correct value\"\n",
        "assert identity(3) == 3, \"Ensure that the function is defined, named properly, and returns the correct value\"\n",
        "assert identity(4) == 4, \"Ensure that the function is defined, named properly, and returns the correct value\"\n",
        "assert identity(-3) == -3, \"Ensure that the function is defined, named properly, and returns the correct value\"\n",
        "assert identity(-4) == -4, \"Ensure that the function is defined, named properly, and returns the correct value\"\n",
        "print(\"Exercise 16 is correct.\")"
      ]
    },
    {
      "cell_type": "code",
      "execution_count": null,
      "metadata": {
        "id": "KCpub51jgCsN",
        "colab": {
          "base_uri": "https://localhost:8080/"
        },
        "outputId": "02d9dfa6-70b6-40ed-d92d-cb4a48801845"
      },
      "outputs": [
        {
          "output_type": "stream",
          "name": "stdout",
          "text": [
            "Exercise 17 is correct.\n"
          ]
        }
      ],
      "source": [
        "# Exercise 17 THIS IS A HARDER EXERCISE\n",
        "# Write a function definition named is_positive_odd that takes in a number and returns True or False if the value is both greater than zero and odd\n",
        "\n",
        "def is_positive_odd(number):\n",
        "  if number > 0:\n",
        "    if number % 2 != 0:\n",
        "      return True\n",
        "    else: return False\n",
        "  else: return False\n",
        "\n",
        "\n",
        "assert is_positive_odd(3) == True, \"Double check your syntax and logic\" \n",
        "assert is_positive_odd(5) == True, \"Double check your syntax and logic\"\n",
        "assert is_positive_odd(6) == False, \"Double check your syntax and logic\"\n",
        "assert is_positive_odd(-3) == False, \"Double check your syntax and logic\"\n",
        "assert is_positive_odd(-4) == False, \"Double check your syntax and logic\"\n",
        "print(\"Exercise 17 is correct.\")"
      ]
    },
    {
      "cell_type": "code",
      "execution_count": null,
      "metadata": {
        "id": "23bF1g0-gCsO",
        "colab": {
          "base_uri": "https://localhost:8080/"
        },
        "outputId": "278987c8-c3c6-484c-94ec-11a677b132d2"
      },
      "outputs": [
        {
          "output_type": "stream",
          "name": "stdout",
          "text": [
            "Exercise 18 is correct.\n"
          ]
        }
      ],
      "source": [
        "# Exercise 18 THIS IS A HARDER EXERCISE\n",
        "# Write a function definition named is_positive_even that takes in a number and returns True or False if the value is both greater than zero and even\n",
        "\n",
        "def is_positive_even(number):\n",
        "  if number > 0:\n",
        "    if number % 2 == 0:\n",
        "      return True\n",
        "    else: return False\n",
        "  else: return False\n",
        "\n",
        "assert is_positive_even(4) == True, \"Double check your syntax and logic\" \n",
        "assert is_positive_even(3) == False, \"Double check your syntax and logic\"\n",
        "assert is_positive_even(6) == True, \"Double check your syntax and logic\"\n",
        "assert is_positive_even(-3) == False, \"Double check your syntax and logic\"\n",
        "assert is_positive_even(-4) == False, \"Double check your syntax and logic\"\n",
        "print(\"Exercise 18 is correct.\")"
      ]
    },
    {
      "cell_type": "code",
      "execution_count": null,
      "metadata": {
        "id": "za1SPBEMgCsO",
        "colab": {
          "base_uri": "https://localhost:8080/"
        },
        "outputId": "18ed46bb-50c8-44ab-fe50-2da74501e4ce"
      },
      "outputs": [
        {
          "output_type": "stream",
          "name": "stdout",
          "text": [
            "Exercise 19 is correct.\n"
          ]
        }
      ],
      "source": [
        "# Exercise 19 THIS IS A HARDER EXERCISE\n",
        "# Write a function definition named is_negative_odd that takes in a number and returns True or False if the value is both less than zero and odd.\n",
        "\n",
        "def is_negative_odd(number):\n",
        "  if number < 0:\n",
        "    if number % 2 != 0:\n",
        "      return True\n",
        "    else: return False\n",
        "  else: return False\n",
        "\n",
        "\n",
        "assert is_negative_odd(-3) == True, \"Double check your syntax and logic\" \n",
        "assert is_negative_odd(3) == False, \"Double check your syntax and logic\"\n",
        "assert is_negative_odd(4) == False, \"Double check your syntax and logic\"\n",
        "assert is_negative_odd(-5) == True, \"Double check your syntax and logic\"\n",
        "assert is_negative_odd(-6) == False, \"Double check your syntax and logic\"\n",
        "print(\"Exercise 19 is correct.\")\n"
      ]
    },
    {
      "cell_type": "code",
      "execution_count": null,
      "metadata": {
        "id": "gIgbN0vTgCsO",
        "colab": {
          "base_uri": "https://localhost:8080/"
        },
        "outputId": "4896a82c-887a-446d-e1e3-70ff8d812d6d"
      },
      "outputs": [
        {
          "output_type": "stream",
          "name": "stdout",
          "text": [
            "Exercise 20 is correct.\n"
          ]
        }
      ],
      "source": [
        "# Exercise 20\n",
        "# Write a function definition named is_negative_even that takes in a number and returns True or False if the value is both less than zero and even.\n",
        "\n",
        "def is_negative_even(number):\n",
        "  if number < 0:\n",
        "    if number % 2 == 0:\n",
        "      return True\n",
        "    else: return False\n",
        "  else: return False\n",
        "\n",
        "assert is_negative_even(-4) == True, \"Double check your syntax and logic\" \n",
        "assert is_negative_even(3) == False, \"Double check your syntax and logic\"\n",
        "assert is_negative_even(2) == False, \"Double check your syntax and logic\"\n",
        "assert is_negative_even(-3) == False, \"Double check your syntax and logic\"\n",
        "assert is_negative_even(-2) == True, \"Double check your syntax and logic\"\n",
        "print(\"Exercise 20 is correct.\")"
      ]
    },
    {
      "cell_type": "code",
      "execution_count": null,
      "metadata": {
        "id": "Q4jCL3SJgCsP",
        "colab": {
          "base_uri": "https://localhost:8080/"
        },
        "outputId": "d503dfc5-7190-4148-c0ef-ed19a6e71cfd"
      },
      "outputs": [
        {
          "output_type": "stream",
          "name": "stdout",
          "text": [
            "Exercise 21 is correct.\n"
          ]
        }
      ],
      "source": [
        "# Exercise 21\n",
        "# Write a function definition named half that takes in a number and returns half the provided number.\n",
        "\n",
        "def half(number):\n",
        "  return number / 2\n",
        "\n",
        "\n",
        "assert half(4) == 2\n",
        "assert half(5) == 2.5\n",
        "assert half(7) == 7 / 2\n",
        "assert half(8) == 8 / 2\n",
        "assert half(-5) == -5 / 2\n",
        "assert half(-6) == -6 / 2\n",
        "print(\"Exercise 21 is correct.\")"
      ]
    },
    {
      "cell_type": "code",
      "execution_count": null,
      "metadata": {
        "id": "jBbRM84lgCsP",
        "colab": {
          "base_uri": "https://localhost:8080/"
        },
        "outputId": "b276d4d8-4024-41e1-a35f-dd570c135c77"
      },
      "outputs": [
        {
          "output_type": "stream",
          "name": "stdout",
          "text": [
            "Exercise 22 is correct.\n"
          ]
        }
      ],
      "source": [
        "# Exercise 22\n",
        "# Write a function definition named double that takes in a number and returns double the provided number.\n",
        "\n",
        "# You should learn the difference between functions and operators. This is mentioned in the PDF\n",
        "\n",
        "def double(number):\n",
        "  return number * 2\n",
        "\n",
        "\n",
        "assert double(4) == 8\n",
        "assert double(5) == 10\n",
        "#assert double(positive_odd_number) == positive_odd_number * 2\n",
        "#assert double(positive_even_number) == positive_even_number * 2\n",
        "#assert double(negative_odd_number) == negative_odd_number * 2\n",
        "#assert double(negative_even_number) == negative_even_number * 2\n",
        "#alright, im done writing in numbers\n",
        "print(\"Exercise 22 is correct.\")"
      ]
    },
    {
      "cell_type": "code",
      "execution_count": null,
      "metadata": {
        "id": "SpTIsF02gCsP",
        "colab": {
          "base_uri": "https://localhost:8080/"
        },
        "outputId": "e7015afa-8dfc-4db4-d55e-b1dea1f99b96"
      },
      "outputs": [
        {
          "output_type": "stream",
          "name": "stdout",
          "text": [
            "Exercise 23 is correct.\n"
          ]
        }
      ],
      "source": [
        "# Exercise 23\n",
        "# Write a function definition named triple that takes in a number and returns triple the provided number.\n",
        "\n",
        "def triple(number):\n",
        "  return number * 3\n",
        "\n",
        "\n",
        "\n",
        "assert triple(4) == 12\n",
        "assert triple(5) == 15\n",
        "#assert triple(positive_odd_number) == positive_odd_number * 3\n",
        "#assert triple(positive_even_number) == positive_even_number * 3\n",
        "#assert triple(negative_odd_number) == negative_odd_number * 3\n",
        "#assert triple(negative_even_number) == negative_even_number * 3\n",
        "print(\"Exercise 23 is correct.\")"
      ]
    },
    {
      "cell_type": "code",
      "execution_count": null,
      "metadata": {
        "id": "QIpKffswgCsP",
        "colab": {
          "base_uri": "https://localhost:8080/"
        },
        "outputId": "ed5c5ca3-2ee5-4b37-98d4-bd8e2f5afd7b"
      },
      "outputs": [
        {
          "output_type": "stream",
          "name": "stdout",
          "text": [
            "Exercise 24 is correct.\n"
          ]
        }
      ],
      "source": [
        "# Exercise 24\n",
        "# Write a function definition named reverse_sign that takes in a number and returns the provided number but with the sign reversed.\n",
        "\n",
        "def reverse_sign(number):\n",
        "  return number * -1\n",
        "\n",
        "\n",
        "\n",
        "assert reverse_sign(4) == -4\n",
        "assert reverse_sign(-5) == 5\n",
        "#assert reverse_sign(positive_odd_number) == positive_odd_number * -1\n",
        "#assert reverse_sign(positive_even_number) == positive_even_number * -1\n",
        "#assert reverse_sign(negative_odd_number) == negative_odd_number * -1\n",
        "#assert reverse_sign(negative_even_number) == negative_even_number * -1\n",
        "print(\"Exercise 24 is correct.\")"
      ]
    },
    {
      "cell_type": "code",
      "execution_count": null,
      "metadata": {
        "id": "5a7HDAo2gCsQ",
        "colab": {
          "base_uri": "https://localhost:8080/"
        },
        "outputId": "95d2aca6-bb72-4752-e5af-b76a231fc458"
      },
      "outputs": [
        {
          "output_type": "stream",
          "name": "stdout",
          "text": [
            "Exercise 25 is correct.\n"
          ]
        }
      ],
      "source": [
        "# Exercise 25\n",
        "# Write a function definition named absolute_value that takes in a number and returns the absolute value of the provided number\n",
        "\n",
        "def absolute_value(number):\n",
        "  return abs(number)\n",
        "\n",
        "\n",
        "assert absolute_value(4) == 4\n",
        "assert absolute_value(-5) == 5\n",
        "#assert absolute_value(positive_odd_number) == positive_odd_number\n",
        "#assert absolute_value(positive_even_number) == positive_even_number\n",
        "#assert absolute_value(negative_odd_number) == negative_odd_number * -1\n",
        "#assert absolute_value(negative_even_number) == negative_even_number * -1\n",
        "print(\"Exercise 25 is correct.\")"
      ]
    },
    {
      "cell_type": "code",
      "execution_count": null,
      "metadata": {
        "id": "0h9Zh8yzgCsQ",
        "colab": {
          "base_uri": "https://localhost:8080/"
        },
        "outputId": "31ee2058-de59-46b7-d15f-06b98d19f7b4"
      },
      "outputs": [
        {
          "output_type": "stream",
          "name": "stdout",
          "text": [
            "Exercise 26 is correct.\n"
          ]
        }
      ],
      "source": [
        "# Exercise 26\n",
        "# Write a function definition named is_multiple_of_three that takes in a number and returns True or False if the number is evenly divisible by 3.\n",
        "\n",
        "def is_multiple_of_three(number):\n",
        "  return number % 3 == 0\n",
        "  \n",
        "\n",
        "assert is_multiple_of_three(3) == True\n",
        "assert is_multiple_of_three(15) == True\n",
        "assert is_multiple_of_three(9) == True\n",
        "assert is_multiple_of_three(4) == False\n",
        "assert is_multiple_of_three(10) == False\n",
        "print(\"Exercise 26 is correct.\")"
      ]
    },
    {
      "cell_type": "code",
      "execution_count": null,
      "metadata": {
        "id": "3CB6IUuggCsQ",
        "colab": {
          "base_uri": "https://localhost:8080/"
        },
        "outputId": "8d634c42-3cb2-4452-9bfc-dc6cf8a64b43"
      },
      "outputs": [
        {
          "output_type": "stream",
          "name": "stdout",
          "text": [
            "Exercise 27 is correct.\n"
          ]
        }
      ],
      "source": [
        "# Exercise 27\n",
        "# Write a function definition named is_multiple_of_five that takes in a number and returns True or False if the number is evenly divisible by 5.\n",
        "\n",
        "def is_multiple_of_five(number):\n",
        "  return number % 5 == 0\n",
        "\n",
        "\n",
        "assert is_multiple_of_five(3) == False\n",
        "assert is_multiple_of_five(15) == True\n",
        "assert is_multiple_of_five(9) == False\n",
        "assert is_multiple_of_five(4) == False\n",
        "assert is_multiple_of_five(10) == True\n",
        "print(\"Exercise 27 is correct.\")"
      ]
    },
    {
      "cell_type": "code",
      "execution_count": null,
      "metadata": {
        "id": "sV-Ib9FfgCsQ",
        "colab": {
          "base_uri": "https://localhost:8080/"
        },
        "outputId": "3f95ca5c-f3bf-4e63-b6e3-9b47d3a8fa5a"
      },
      "outputs": [
        {
          "output_type": "stream",
          "name": "stdout",
          "text": [
            "Exercise 28 is correct.\n"
          ]
        }
      ],
      "source": [
        "# Exercise 28\n",
        "# Write a function definition named is_multiple_of_both_three_and_five that takes in a number and returns True or False if the number is evenly divisible by both 3 and 5.\n",
        "\n",
        "def is_multiple_of_both_three_and_five(number):\n",
        "  return (number % 5) + (number % 3) == 0\n",
        "\n",
        "\n",
        "assert is_multiple_of_both_three_and_five(15) == True\n",
        "assert is_multiple_of_both_three_and_five(45) == True\n",
        "assert is_multiple_of_both_three_and_five(3) == False\n",
        "assert is_multiple_of_both_three_and_five(9) == False\n",
        "assert is_multiple_of_both_three_and_five(4) == False\n",
        "print(\"Exercise 28 is correct.\")"
      ]
    },
    {
      "cell_type": "code",
      "execution_count": null,
      "metadata": {
        "id": "_tEoIFtigCsR",
        "colab": {
          "base_uri": "https://localhost:8080/"
        },
        "outputId": "fcad3768-6c05-488f-a0a2-c1bf1407904e"
      },
      "outputs": [
        {
          "output_type": "stream",
          "name": "stdout",
          "text": [
            "Exercise 29 is correct.\n"
          ]
        }
      ],
      "source": [
        "# Exercise 29\n",
        "# Write a function definition named square that takes in a number and returns the number times itself.\n",
        "\n",
        "def square(number):\n",
        "  return number ** 2\n",
        "\n",
        "\n",
        "assert square(3) == 9\n",
        "assert square(2) == 4\n",
        "assert square(9) == 81\n",
        "#assert square(positive_odd_number) == positive_odd_number * positive_odd_number\n",
        "print(\"Exercise 29 is correct.\")"
      ]
    },
    {
      "cell_type": "code",
      "execution_count": null,
      "metadata": {
        "id": "uaBIwNo7gCsR",
        "colab": {
          "base_uri": "https://localhost:8080/"
        },
        "outputId": "c5b5c296-3d8f-4507-bcf3-fb379dd4985f"
      },
      "outputs": [
        {
          "output_type": "stream",
          "name": "stdout",
          "text": [
            "Exercise 30 is correct.\n"
          ]
        }
      ],
      "source": [
        "# Exercise 30\n",
        "# Write a function definition named add that takes in two numbers and returns the sum.\n",
        "\n",
        "def add(number, number2):\n",
        " return number + number2\n",
        "#wow, that actually worked\n",
        "assert add(3, 2) == 5\n",
        "assert add(10, -2) == 8\n",
        "assert add(5, 7) == 12\n",
        "print(\"Exercise 30 is correct.\")"
      ]
    },
    {
      "cell_type": "code",
      "execution_count": null,
      "metadata": {
        "id": "D8q_Z-8AgCsR",
        "colab": {
          "base_uri": "https://localhost:8080/"
        },
        "outputId": "845ad223-aa93-41a1-bc03-fe06126262ef"
      },
      "outputs": [
        {
          "output_type": "stream",
          "name": "stdout",
          "text": [
            "Exercise 31 is correct.\n"
          ]
        }
      ],
      "source": [
        "# Exercise 31\n",
        "# Write a function definition named cube that takes in a number and returns the number times itself, times itself.\n",
        "\n",
        "# There is a way to do this with and without operators. This is definitely covered in the PDF\n",
        "def cube(number):\n",
        "  return number ** 3\n",
        "\n",
        "assert cube(3) == 27\n",
        "assert cube(2) == 8\n",
        "assert cube(5) == 125\n",
        "#assert cube(positive_odd_number) == positive_odd_number * positive_odd_number * positive_odd_number\n",
        "print(\"Exercise 31 is correct.\")"
      ]
    },
    {
      "cell_type": "code",
      "execution_count": null,
      "metadata": {
        "id": "_sa64RwTgCsR",
        "colab": {
          "base_uri": "https://localhost:8080/"
        },
        "outputId": "c380a2b9-3d8a-4b87-8658-8672367f647e"
      },
      "outputs": [
        {
          "output_type": "stream",
          "name": "stdout",
          "text": [
            "Exercise 32 is correct.\n"
          ]
        }
      ],
      "source": [
        "# Exercise 32\n",
        "# Write a function definition named square_root that takes in a number and returns the square root of the provided number\n",
        "\n",
        "# Bonus points if you find and name two different python libraries that can also calculate this\n",
        "# Library 1:\n",
        "# Library 2:\n",
        "\n",
        "def square_root(n):\n",
        "  return n ** 0.5\n",
        "\n",
        "assert square_root(4) == 2.0\n",
        "assert square_root(64) == 8.0\n",
        "assert square_root(81) == 9.0\n",
        "print(\"Exercise 32 is correct.\")"
      ]
    },
    {
      "cell_type": "code",
      "execution_count": null,
      "metadata": {
        "id": "Ql8OVNNmgCsS",
        "colab": {
          "base_uri": "https://localhost:8080/"
        },
        "outputId": "5f7b0172-d864-44a8-ad05-daae030ba704"
      },
      "outputs": [
        {
          "output_type": "stream",
          "name": "stdout",
          "text": [
            "Exercise 33 is correct.\n"
          ]
        }
      ],
      "source": [
        "# Exercise 33\n",
        "# Write a function definition named subtract that takes in two numbers and returns the first minus the second argument.\n",
        "\n",
        "def subtract(n, n2):\n",
        " return n - n2\n",
        "\n",
        "\n",
        "assert subtract(8, 6) == 2\n",
        "assert subtract(27, 4) == 23\n",
        "assert subtract(12, 2) == 10\n",
        "print(\"Exercise 33 is correct.\")"
      ]
    },
    {
      "cell_type": "code",
      "execution_count": null,
      "metadata": {
        "id": "uPWMTayGgCsS",
        "colab": {
          "base_uri": "https://localhost:8080/"
        },
        "outputId": "adf4c672-0db6-450b-85df-1e7911a2d3e4"
      },
      "outputs": [
        {
          "output_type": "stream",
          "name": "stdout",
          "text": [
            "Exercise 34 is correct.\n"
          ]
        }
      ],
      "source": [
        "# Exercise 34\n",
        "# Write a function definition named multiply that takes in two numbers and returns the first times the second argument.\n",
        "\n",
        "def multiply(n, n2):\n",
        "  return n * n2\n",
        "\n",
        "assert multiply(2, 1) == 2\n",
        "assert multiply(3, 5) == 15\n",
        "assert multiply(5, 2) == 10\n",
        "print(\"Exercise 34 is correct.\")"
      ]
    },
    {
      "cell_type": "code",
      "execution_count": null,
      "metadata": {
        "id": "p-kmWaBmgCsS",
        "colab": {
          "base_uri": "https://localhost:8080/"
        },
        "outputId": "25273775-ee2d-4c25-8206-830ac84a3edf"
      },
      "outputs": [
        {
          "output_type": "stream",
          "name": "stdout",
          "text": [
            "Exercise 35 is correct.\n"
          ]
        }
      ],
      "source": [
        "# Exercise 35\n",
        "# Write a function definition named divide that takes in two numbers and returns the first argument divided by the second argument.\n",
        "\n",
        "def divide(n, n2):\n",
        "  return n / n2\n",
        "\n",
        "\n",
        "assert divide(27, 9) == 3\n",
        "assert divide(15, 3) == 5\n",
        "assert divide(5, 2) == 2.5\n",
        "assert divide(10, 2) == 5\n",
        "print(\"Exercise 35 is correct.\")"
      ]
    },
    {
      "cell_type": "code",
      "execution_count": null,
      "metadata": {
        "id": "Bf07OTA5gCsS",
        "colab": {
          "base_uri": "https://localhost:8080/"
        },
        "outputId": "332d7888-fbde-4090-f6ac-36f9b384c2b1"
      },
      "outputs": [
        {
          "output_type": "stream",
          "name": "stdout",
          "text": [
            "Exercise 36 is correct.\n"
          ]
        }
      ],
      "source": [
        "# Exercise 36\n",
        "# Write a function definition named quotient that takes in two numbers and returns only the quotient from dividing the first argument by the second argument.\n",
        "\n",
        "def quotient(n, n2):\n",
        "  return n // n2\n",
        "#floor division?\n",
        "\n",
        "assert quotient(27, 9) == 3\n",
        "assert quotient(5, 2) == 2\n",
        "assert quotient(10, 3) == 3\n",
        "print(\"Exercise 36 is correct.\")"
      ]
    },
    {
      "cell_type": "code",
      "execution_count": null,
      "metadata": {
        "id": "UKdVVP37gCsT",
        "colab": {
          "base_uri": "https://localhost:8080/"
        },
        "outputId": "2790286f-2ac3-447d-9863-f9122867c44e"
      },
      "outputs": [
        {
          "output_type": "stream",
          "name": "stdout",
          "text": [
            "Exercise 37 is correct.\n"
          ]
        }
      ],
      "source": [
        "# Exercise 37\n",
        "# Write a function definition named remainder that takes in two numbers and returns the remainder of first argument divided by the second argument.\n",
        "\n",
        "# This can definitely be done easily with an operator. It was discussed in the PDF\n",
        "def remainder(n, n2):\n",
        "  return n % n2\n",
        "\n",
        "assert remainder(3, 3) == 0\n",
        "assert remainder(5, 2) == 1\n",
        "assert remainder(7, 5) == 2\n",
        "print(\"Exercise 37 is correct.\")"
      ]
    },
    {
      "cell_type": "code",
      "execution_count": null,
      "metadata": {
        "id": "CBIvNlFBgCsT",
        "colab": {
          "base_uri": "https://localhost:8080/"
        },
        "outputId": "d20d433b-2f52-4520-a2fb-c61c89b1a5cb"
      },
      "outputs": [
        {
          "output_type": "stream",
          "name": "stdout",
          "text": [
            "Exercise 38 is correct.\n"
          ]
        }
      ],
      "source": [
        "# Exercise 38\n",
        "# Write a function definition named sum_of_squares that takes in two numbers, squares each number, then returns the sum of both squares.\n",
        "\n",
        "def sum_of_squares(n, n2):\n",
        "  return (n**2) + (n2**2)\n",
        "\n",
        "\n",
        "assert sum_of_squares(3, 2) == 13\n",
        "assert sum_of_squares(5, 2) == 29\n",
        "assert sum_of_squares(2, 4) == 20\n",
        "print(\"Exercise 38 is correct.\")"
      ]
    },
    {
      "cell_type": "code",
      "execution_count": null,
      "metadata": {
        "id": "NOnEcRxTgCsT",
        "colab": {
          "base_uri": "https://localhost:8080/"
        },
        "outputId": "681c160d-24ca-49fb-b00a-5c72a6b411d2"
      },
      "outputs": [
        {
          "output_type": "stream",
          "name": "stdout",
          "text": [
            "Exercise 39 is correct.\n"
          ]
        }
      ],
      "source": [
        "# Exercise 39\n",
        "# Write a function definition named times_two_plus_three that takes in a number, multiplies it by two, adds 3 and returns the result.\n",
        "\n",
        "def times_two_plus_three(n):\n",
        "  return n * 2 + 3\n",
        "\n",
        "\n",
        "assert times_two_plus_three(0) == 3\n",
        "assert times_two_plus_three(1) == 5\n",
        "assert times_two_plus_three(2) == 7\n",
        "assert times_two_plus_three(3) == 9\n",
        "assert times_two_plus_three(5) == 13\n",
        "print(\"Exercise 39 is correct.\")"
      ]
    },
    {
      "cell_type": "code",
      "execution_count": null,
      "metadata": {
        "id": "DI9oBQNegCsU",
        "colab": {
          "base_uri": "https://localhost:8080/"
        },
        "outputId": "71d101d9-d23b-4bfd-db57-7a2cb14e0ca7"
      },
      "outputs": [
        {
          "output_type": "stream",
          "name": "stdout",
          "text": [
            "Exercise 40 is correct.\n"
          ]
        }
      ],
      "source": [
        "# Exercise 40\n",
        "# Write a function definition named area_of_rectangle that takes in two numbers and returns the product.\n",
        "\n",
        "def area_of_rectangle(n, n2):\n",
        "  return n * n2\n",
        "\n",
        "\n",
        "\n",
        "assert area_of_rectangle(1, 3) == 3\n",
        "assert area_of_rectangle(5, 2) == 10\n",
        "assert area_of_rectangle(2, 7) == 14\n",
        "assert area_of_rectangle(5.3, 10.3) == 54.59\n",
        "print(\"Exercise 40 is correct.\")"
      ]
    },
    {
      "cell_type": "code",
      "execution_count": null,
      "metadata": {
        "id": "R1sF7htWgCsV",
        "colab": {
          "base_uri": "https://localhost:8080/"
        },
        "outputId": "3b1ae1f1-8af3-46e6-cf98-bfffc0034631"
      },
      "outputs": [
        {
          "output_type": "stream",
          "name": "stdout",
          "text": [
            "Exercise 41 is correct.\n"
          ]
        }
      ],
      "source": [
        "import math\n",
        "#oh that was there the whole time\n",
        "# Exercise 41\n",
        "# Write a function definition named area_of_circle that takes in a number representing a circle's radius and returns the area of the circle\n",
        "\n",
        "def area_of_circle(n):\n",
        "  return (n ** 2) * math.pi\n",
        "\n",
        "assert area_of_circle(3) == 28.274333882308138\n",
        "assert area_of_circle(5) == 78.53981633974483\n",
        "assert area_of_circle(7) == 153.93804002589985\n",
        "print(\"Exercise 41 is correct.\")"
      ]
    },
    {
      "cell_type": "code",
      "execution_count": null,
      "metadata": {
        "id": "pfJPuy8OgCsV",
        "colab": {
          "base_uri": "https://localhost:8080/"
        },
        "outputId": "945ebd4d-4a87-466f-dd83-4a076354a151"
      },
      "outputs": [
        {
          "output_type": "stream",
          "name": "stdout",
          "text": [
            "Exercise 42 is correct.\n"
          ]
        }
      ],
      "source": [
        "import math\n",
        "# Exercise 42\n",
        "# Write a function definition named circumference that takes in a number representing a circle's radius and returns the circumference.\n",
        "\n",
        "def circumference(n):\n",
        "  return 2 * math.pi * n\n",
        "\n",
        "assert circumference(3) == 18.84955592153876\n",
        "assert circumference(5) == 31.41592653589793\n",
        "assert circumference(7) == 43.982297150257104\n",
        "print(\"Exercise 42 is correct.\")"
      ]
    },
    {
      "cell_type": "markdown",
      "metadata": {
        "id": "fUiyyxLrgCsV"
      },
      "source": [
        "## Functions working with strings\n",
        "I recommend looking up string operations python on google"
      ]
    },
    {
      "cell_type": "code",
      "execution_count": 216,
      "metadata": {
        "id": "fAAU-W4cgCsW",
        "outputId": "26d1f4d1-5e82-4d97-b58e-3d2ea1757e19",
        "colab": {
          "base_uri": "https://localhost:8080/"
        }
      },
      "outputs": [
        {
          "output_type": "stream",
          "name": "stdout",
          "text": [
            "Exercise 43 is correct.\n"
          ]
        }
      ],
      "source": [
        "# Exercise 43\n",
        "# Write a function definition named is_vowel that takes in value and returns True if the value is a, e, i, o, u in upper or lower case.\n",
        "\n",
        "# Think about what kinds of values you'd want your argument to accept if the asserts are comparing it to string type objects\n",
        "# Think about how you can make sure that capital letters and lowercase letters are treated the same. \n",
        "\n",
        "def is_vowel(letter):\n",
        "  vowels = (\"A\", \"E\", \"I\", \"O\", \"U\") #Changed to this from 'aeiou'\n",
        "  if letter.upper() in vowels: \n",
        "    return True\n",
        "  else: return False\n",
        "\n",
        "\n",
        "assert is_vowel(\"a\") == True\n",
        "assert is_vowel(\"e\") == True\n",
        "assert is_vowel(\"i\") == True\n",
        "assert is_vowel(\"o\") == True\n",
        "assert is_vowel(\"u\") == True\n",
        "assert is_vowel(\"A\") == True\n",
        "assert is_vowel(\"E\") == True\n",
        "assert is_vowel(\"I\") == True\n",
        "assert is_vowel(\"O\") == True\n",
        "assert is_vowel(\"U\") == True\n",
        "assert is_vowel(\"banana\") == False\n",
        "assert is_vowel(\"Q\") == False\n",
        "assert is_vowel(\"y\") == False\n",
        "assert is_vowel(\"aei\") == False \n",
        "assert is_vowel(\"iou\") == False\n",
        "print(\"Exercise 43 is correct.\")"
      ]
    },
    {
      "cell_type": "code",
      "execution_count": 6,
      "metadata": {
        "id": "rv4QxrwKgCsW",
        "colab": {
          "base_uri": "https://localhost:8080/"
        },
        "outputId": "e8310bee-0fcf-40ea-c941-34bb9e9673d9"
      },
      "outputs": [
        {
          "output_type": "stream",
          "name": "stdout",
          "text": [
            "Exercise 44 is correct.\n"
          ]
        }
      ],
      "source": [
        "# Exercise 44\n",
        "# Write a function definition named has_vowels that takes in value and returns True if the string contains any vowels.\n",
        "\n",
        "\n",
        "def has_vowels(word):\n",
        "  for letter in word:\n",
        "    if letter.upper() in \"AEIOU\":\n",
        "      return True\n",
        "  return False\n",
        "\n",
        "assert has_vowels(\"banana\") == True\n",
        "assert has_vowels(\"ubuntu\") == True\n",
        "assert has_vowels(\"QQQQ\") == False\n",
        "assert has_vowels(\"wyrd\") == False\n",
        "print(\"Exercise 44 is correct.\")"
      ]
    },
    {
      "cell_type": "code",
      "execution_count": 44,
      "metadata": {
        "id": "8Hte5v8LgCsW",
        "colab": {
          "base_uri": "https://localhost:8080/"
        },
        "outputId": "1d3f208d-d90f-46dd-daf0-aca951c3d0f5"
      },
      "outputs": [
        {
          "output_type": "stream",
          "name": "stdout",
          "text": [
            "Exercise 45 is correct.\n"
          ]
        }
      ],
      "source": [
        "# Exercise 45 #THIS IS A HARDER EXERCISE\n",
        "# Write a function definition named count_vowels that takes in value and returns the count of the nubmer of vowels in a sequence.\n",
        "\n",
        "def count_vowels(word):\n",
        "  count = 0 #Set a variable\n",
        "  for letter in word: #For each character in the word\n",
        "    if letter.upper() in \"AEIOU\": #Check \"AEIOU\"\n",
        "      count = count + 1 #If yes, increment by 1\n",
        "  return count\n",
        "\n",
        "\n",
        "\n",
        "assert count_vowels(\"banana\") == 3\n",
        "assert count_vowels(\"ubuntu\") == 3\n",
        "assert count_vowels(\"mango\") == 2\n",
        "assert count_vowels(\"QQQQ\") == 0\n",
        "assert count_vowels(\"wyrd\") == 0\n",
        "print(\"Exercise 45 is correct.\")"
      ]
    },
    {
      "cell_type": "code",
      "execution_count": 41,
      "metadata": {
        "id": "SrKhfSh7gCsY",
        "colab": {
          "base_uri": "https://localhost:8080/"
        },
        "outputId": "bd0f0c9b-2cfd-476c-ea79-eba1a1a8f110"
      },
      "outputs": [
        {
          "output_type": "stream",
          "name": "stdout",
          "text": [
            "Exercise 46 is correct.\n"
          ]
        }
      ],
      "source": [
        "# Exercise 46 THIS IS ALSO HARDER\n",
        "# Write a function definition named remove_vowels that takes in string and returns the string without any vowels\n",
        "\n",
        "# This problem will combine some of the other solutions that you worked on into one\n",
        "\n",
        "def remove_vowels(word):\n",
        "  for letter in \"AEIOUaeiou\": #For each character matching a vowel\n",
        "      word = word.replace(letter,\"\") #Replace it with nothing\n",
        "  return word #Return to be read\n",
        "\n",
        "\n",
        "  \n",
        "\n",
        "assert remove_vowels(\"banana\") == \"bnn\"\n",
        "assert remove_vowels(\"ubuntu\") == \"bnt\"\n",
        "assert remove_vowels(\"mango\") == \"mng\"\n",
        "assert remove_vowels(\"QQQQ\") == \"QQQQ\"\n",
        "print(\"Exercise 46 is correct.\")"
      ]
    },
    {
      "cell_type": "code",
      "execution_count": 49,
      "metadata": {
        "id": "hI7NhOGbgCsZ",
        "colab": {
          "base_uri": "https://localhost:8080/"
        },
        "outputId": "4f9171ce-0008-487f-96a0-1607cf011433"
      },
      "outputs": [
        {
          "output_type": "stream",
          "name": "stdout",
          "text": [
            "Exercise 47 is correct.\n"
          ]
        }
      ],
      "source": [
        "# Exercise 47\n",
        "# Write a function definition named starts_with_vowel that takes in string and True if the string starts with a vowel\n",
        "\n",
        "def starts_with_vowel(word):\n",
        "  if word[0] in \"AEIOUaeiou\": #Check the first letter\n",
        "    return True\n",
        "  else: \n",
        "    return False\n",
        "\n",
        "assert starts_with_vowel(\"ubuntu\") == True\n",
        "assert starts_with_vowel(\"banana\") == False\n",
        "assert starts_with_vowel(\"mango\") == False\n",
        "print(\"Exercise 47 is correct.\")"
      ]
    },
    {
      "cell_type": "code",
      "execution_count": 50,
      "metadata": {
        "id": "OcZdHhWcgCsZ",
        "colab": {
          "base_uri": "https://localhost:8080/"
        },
        "outputId": "e717f675-8414-4616-aa4f-d9b0ae959001"
      },
      "outputs": [
        {
          "output_type": "stream",
          "name": "stdout",
          "text": [
            "Exercise 48 is correct.\n"
          ]
        }
      ],
      "source": [
        "# Exercise 48\n",
        "# Write a function definition named ends_with_vowel that takes in string and True if the string ends with a vowel\n",
        "\n",
        "def ends_with_vowel(word):\n",
        "  if word[-1] in \"AEIOUaeiou\": #Go back from the first letter and end up at the last letter instead\n",
        "    return True\n",
        "  else:\n",
        "    return False\n",
        "\n",
        "assert ends_with_vowel(\"ubuntu\") == True\n",
        "assert ends_with_vowel(\"banana\") == True\n",
        "assert ends_with_vowel(\"mango\") == True\n",
        "assert ends_with_vowel(\"spinach\") == False\n",
        "print(\"Exercise 48 is correct.\")"
      ]
    },
    {
      "cell_type": "code",
      "execution_count": 55,
      "metadata": {
        "id": "R9ngQIx8gCsa",
        "colab": {
          "base_uri": "https://localhost:8080/"
        },
        "outputId": "a13b20c7-e4f6-4fff-e051-869a80a2fa58"
      },
      "outputs": [
        {
          "output_type": "stream",
          "name": "stdout",
          "text": [
            "Exercise 49 is correct.\n"
          ]
        }
      ],
      "source": [
        "# Exercise 49\n",
        "# Write a function definition named starts_and_ends_with_vowel that takes in string and returns True if the string starts and ends with a vowel\n",
        "\n",
        "def starts_and_ends_with_vowel(word):\n",
        "  wovel = \"AEIOUaeiou\"\n",
        "  if word[0] in wovel:\n",
        "    if word[-1] in wovel: #Feels like there should be a way to check for both in the same if but I'm not gonna check\n",
        "      return True\n",
        "    else: return False\n",
        "  else: \n",
        "    return False\n",
        "\n",
        "\n",
        "assert starts_and_ends_with_vowel(\"ubuntu\") == True\n",
        "assert starts_and_ends_with_vowel(\"banana\") == False\n",
        "assert starts_and_ends_with_vowel(\"mango\") == False\n",
        "print(\"Exercise 49 is correct.\")"
      ]
    },
    {
      "cell_type": "markdown",
      "metadata": {
        "id": "9PzP33GYgCsa"
      },
      "source": [
        "## Accessing List Elements"
      ]
    },
    {
      "cell_type": "code",
      "execution_count": 56,
      "metadata": {
        "id": "bxPoHor0gCsa",
        "colab": {
          "base_uri": "https://localhost:8080/"
        },
        "outputId": "a0fb843b-e16c-44ed-d9d0-03e4bfd1ad20"
      },
      "outputs": [
        {
          "output_type": "stream",
          "name": "stdout",
          "text": [
            "Exercise 50 is correct.\n"
          ]
        }
      ],
      "source": [
        "# Exercise 50\n",
        "# Write a function definition named first that takes in sequence and returns the first value of that sequence.\n",
        "\n",
        "# Understanding how LISTS operate is super IMPORTANT. You can save yourself a little time by rememebering how to access them easily\n",
        "# Or saving places that remind you quickly\n",
        "\n",
        "def first(word):\n",
        "  return word[0] \n",
        "\n",
        "assert first(\"ubuntu\") == \"u\"\n",
        "assert first([1, 2, 3]) == 1\n",
        "assert first([\"python\", \"is\", \"awesome\"]) == \"python\"\n",
        "print(\"Exercise 50 is correct.\")"
      ]
    },
    {
      "cell_type": "code",
      "execution_count": 59,
      "metadata": {
        "id": "f5GBs8C7gCsb",
        "colab": {
          "base_uri": "https://localhost:8080/"
        },
        "outputId": "8c034861-1191-43fc-d87d-a3e47446cdda"
      },
      "outputs": [
        {
          "output_type": "stream",
          "name": "stdout",
          "text": [
            "Exercise 51 is correct.\n"
          ]
        }
      ],
      "source": [
        "# Exercise 51\n",
        "# Write a function definition named second that takes in sequence and returns the second value of that sequence.\n",
        "\n",
        "def second(w):\n",
        "  return w[1] #So the character chosen is equal to the number - 1\n",
        "\n",
        "assert second(\"ubuntu\") == \"b\"\n",
        "assert second([1, 2, 3]) == 2\n",
        "assert second([\"python\", \"is\", \"awesome\"]) == \"is\"\n",
        "print(\"Exercise 51 is correct.\")"
      ]
    },
    {
      "cell_type": "code",
      "execution_count": 60,
      "metadata": {
        "id": "heqvtFJ0gCsb",
        "colab": {
          "base_uri": "https://localhost:8080/"
        },
        "outputId": "ce72fe0a-c0fa-4a86-cb67-3174435d9a5a"
      },
      "outputs": [
        {
          "output_type": "stream",
          "name": "stdout",
          "text": [
            "Exercise 52 is correct.\n"
          ]
        }
      ],
      "source": [
        "# Exercise 52\n",
        "# Write a function definition named third that takes in sequence and returns the third value of that sequence.\n",
        "\n",
        "def third(w):\n",
        "  return w[2]\n",
        "  \n",
        "\n",
        "assert third(\"ubuntu\") == \"u\"\n",
        "assert third([1, 2, 3]) == 3\n",
        "assert third([\"python\", \"is\", \"awesome\"]) == \"awesome\"\n",
        "print(\"Exercise 52 is correct.\")"
      ]
    },
    {
      "cell_type": "code",
      "execution_count": 61,
      "metadata": {
        "id": "vmjFGhJcgCsb",
        "colab": {
          "base_uri": "https://localhost:8080/"
        },
        "outputId": "36229795-cab1-4c3b-ba24-816e3da6a6fc"
      },
      "outputs": [
        {
          "output_type": "stream",
          "name": "stdout",
          "text": [
            "Exercise 53 is correct.\n"
          ]
        }
      ],
      "source": [
        "# Exercise 53\n",
        "# Write a function definition named forth that takes in sequence and returns the forth value of that sequence.\n",
        "\n",
        "def fourth(wod):\n",
        " #hold on\n",
        " return\n",
        "\n",
        "def forth(w):\n",
        "  return w[3]\n",
        "\n",
        "assert forth(\"ubuntu\") == \"n\"\n",
        "assert forth([1, 2, 3, 4]) == 4\n",
        "assert forth([\"python\", \"is\", \"awesome\", \"right?\"]) == \"right?\"\n",
        "print(\"Exercise 53 is correct.\")"
      ]
    },
    {
      "cell_type": "code",
      "execution_count": 62,
      "metadata": {
        "id": "_itavUcsgCsc",
        "colab": {
          "base_uri": "https://localhost:8080/"
        },
        "outputId": "b3ae7f60-daf4-4461-8cd9-2b0a1aca3625"
      },
      "outputs": [
        {
          "output_type": "stream",
          "name": "stdout",
          "text": [
            "Exercise 54 is correct.\n"
          ]
        }
      ],
      "source": [
        "# Exercise 54\n",
        "# Write a function definition named last that takes in sequence and returns the last value of that sequence.\n",
        "\n",
        "def last(word):\n",
        "  return word[-1] #It's like an integer underflow but it doesn't go to 255 or an extremely high number\n",
        "\n",
        "assert last(\"ubuntu\") == \"u\"\n",
        "assert last([1, 2, 3, 4]) == 4\n",
        "assert last([\"python\", \"is\", \"awesome\"]) == \"awesome\"\n",
        "assert last([\"kiwi\", \"mango\", \"guava\"]) == \"guava\"\n",
        "print(\"Exercise 54 is correct.\")"
      ]
    },
    {
      "cell_type": "markdown",
      "source": [
        "### **Once you know how to do this you don't have to do all the list access problems. But 57 - 59 might still be useful. **"
      ],
      "metadata": {
        "id": "kCXqjD8gML7-"
      }
    },
    {
      "cell_type": "code",
      "execution_count": 64,
      "metadata": {
        "id": "tq5bdcHxgCsc",
        "colab": {
          "base_uri": "https://localhost:8080/"
        },
        "outputId": "8a4db4b4-3846-4207-e4b5-4fab9d4bd8aa"
      },
      "outputs": [
        {
          "output_type": "stream",
          "name": "stdout",
          "text": [
            "Exercise 55 is correct.\n"
          ]
        }
      ],
      "source": [
        "# Exercise 55\n",
        "# Write a function definition named second_to_last that takes in sequence and returns the second to last value of that sequence.\n",
        "\n",
        "def second_to_last(w):\n",
        "  return w[-2]\n",
        "\n",
        "assert second_to_last(\"ubuntu\") == \"t\"\n",
        "assert second_to_last([1, 2, 3, 4]) == 3\n",
        "assert second_to_last([\"python\", \"is\", \"awesome\"]) == \"is\"\n",
        "assert second_to_last([\"kiwi\", \"mango\", \"guava\"]) == \"mango\"\n",
        "print(\"Exercise 55 is correct.\")"
      ]
    },
    {
      "cell_type": "code",
      "execution_count": 65,
      "metadata": {
        "id": "pv23bO52gCsc",
        "colab": {
          "base_uri": "https://localhost:8080/"
        },
        "outputId": "cad1e306-51fa-4dba-a80a-1db05d5f44b9"
      },
      "outputs": [
        {
          "output_type": "stream",
          "name": "stdout",
          "text": [
            "Exercise 56 is correct.\n"
          ]
        }
      ],
      "source": [
        "# Exercise 56\n",
        "# Write a function definition named third_to_last that takes in sequence and returns the third to last value of that sequence.\n",
        "\n",
        "def third_to_last(w):\n",
        "  return w[-3]\n",
        "\n",
        "\n",
        "assert third_to_last(\"ubuntu\") == \"n\"\n",
        "assert third_to_last([1, 2, 3, 4]) == 2\n",
        "assert third_to_last([\"python\", \"is\", \"awesome\"]) == \"python\"\n",
        "assert third_to_last([\"strawberry\", \"kiwi\", \"mango\", \"guava\"]) == \"kiwi\"\n",
        "print(\"Exercise 56 is correct.\")"
      ]
    },
    {
      "cell_type": "code",
      "execution_count": 69,
      "metadata": {
        "id": "txetm8qogCsd",
        "colab": {
          "base_uri": "https://localhost:8080/"
        },
        "outputId": "90c05c35-0e6d-44c8-9a1c-fc013cbd472d"
      },
      "outputs": [
        {
          "output_type": "stream",
          "name": "stdout",
          "text": [
            "Exercise 57 is correct.\n"
          ]
        }
      ],
      "source": [
        "# Exercise 57\n",
        "# Write a function definition named first_and_second that takes in sequence and returns the first and second value of that sequence as a list\n",
        "\n",
        "def first_and_second(word):\n",
        "  return word[0:2] #Well slicing exists now\n",
        "\n",
        "assert first_and_second([1, 2, 3, 4]) == [1, 2]\n",
        "assert first_and_second([\"python\", \"is\", \"awesome\"]) == [\"python\", \"is\"]\n",
        "assert first_and_second([\"strawberry\", \"kiwi\", \"mango\", \"guava\"]) == [\"strawberry\", \"kiwi\"]\n",
        "print(\"Exercise 57 is correct.\")"
      ]
    },
    {
      "cell_type": "code",
      "execution_count": 73,
      "metadata": {
        "id": "w76yrNgAgCsd",
        "colab": {
          "base_uri": "https://localhost:8080/"
        },
        "outputId": "2098af50-da1f-4da2-9f93-3e38b2501831"
      },
      "outputs": [
        {
          "output_type": "stream",
          "name": "stdout",
          "text": [
            "Exercise 58 is correct.\n"
          ]
        }
      ],
      "source": [
        "# Exercise 58\n",
        "# Write a function definition named first_and_last that takes in sequence and returns the first and last value of that sequence as a list\n",
        "\n",
        "def first_and_last(word):\n",
        "  return [word[0], word[-1]] #Well slicing no longer exists now\n",
        "\n",
        "assert first_and_last([1, 2, 3, 4]) == [1, 4]\n",
        "assert first_and_last([\"python\", \"is\", \"awesome\"]) == [\"python\", \"awesome\"]\n",
        "assert first_and_last([\"strawberry\", \"kiwi\", \"mango\", \"guava\"]) == [\"strawberry\", \"guava\"]\n",
        "print(\"Exercise 58 is correct.\")"
      ]
    },
    {
      "cell_type": "code",
      "execution_count": 96,
      "metadata": {
        "id": "laRwcVWQgCsd",
        "colab": {
          "base_uri": "https://localhost:8080/"
        },
        "outputId": "5776011f-daed-4887-91c7-344367d24b53"
      },
      "outputs": [
        {
          "output_type": "stream",
          "name": "stdout",
          "text": [
            "Exercise 59 is correct.\n"
          ]
        }
      ],
      "source": [
        "# Exercise 59\n",
        "# Write a function definition named first_to_last that takes in sequence and returns the sequence with the first value moved to the end of the sequence.\n",
        "\n",
        "def first_to_last(word):\n",
        "  word.append(word [0]) #Sometimes there is no easily found answer and I stitch together several into one\n",
        "  word.pop(0)\n",
        "  return word\n",
        "\n",
        "assert first_to_last([1, 2, 3, 4]) == [2, 3, 4, 1]\n",
        "assert first_to_last([\"python\", \"is\", \"awesome\"]) == [\"is\", \"awesome\", \"python\"]\n",
        "assert first_to_last([\"strawberry\", \"kiwi\", \"mango\", \"guava\"]) == [\"kiwi\", \"mango\", \"guava\", \"strawberry\"]\n",
        "print(\"Exercise 59 is correct.\")"
      ]
    },
    {
      "cell_type": "markdown",
      "metadata": {
        "id": "kAVQ5VuUgCse"
      },
      "source": [
        "## Functions to describe data \n",
        "\n",
        "In this section I hope you can start to see how easily this can be applied to your math or physics homework. Where as long as your have the formula you can figure out the answers for many different conditions rather easily. "
      ]
    },
    {
      "cell_type": "code",
      "execution_count": 101,
      "metadata": {
        "id": "cx97PtPIgCse",
        "colab": {
          "base_uri": "https://localhost:8080/"
        },
        "outputId": "91884d9c-98b5-4fdb-f411-12b3b9f29532"
      },
      "outputs": [
        {
          "output_type": "stream",
          "name": "stdout",
          "text": [
            "Exercise 60 is correct.\n"
          ]
        }
      ],
      "source": [
        "# Exercise 60\n",
        "# Write a function definition named sum_all that takes in sequence of numbers and returns all the numbers added together.\n",
        "\n",
        "#def sum_all(number): #Honestly coding just feels like math\n",
        " # number = sum(number) #Learn a new thing, and you just kinda have it forever unchanging\n",
        "  #return number #With no difference between theory and application\n",
        "#So if you try to explain what you did, you might find problems in the idea itself, rather than your execution of that idea\n",
        "\n",
        "#Wait hold on\n",
        "def sum_all(number):\n",
        "  return sum(number) \n",
        "\n",
        "assert sum_all([1, 2, 3, 4]) == 10\n",
        "assert sum_all([3, 3, 3]) == 9\n",
        "assert sum_all([0, 5, 6]) == 11\n",
        "print(\"Exercise 60 is correct.\")"
      ]
    },
    {
      "cell_type": "code",
      "execution_count": 102,
      "metadata": {
        "id": "s-M6aLcggCse",
        "colab": {
          "base_uri": "https://localhost:8080/"
        },
        "outputId": "6aaedb79-1e20-4eed-ceec-99075bdc0675"
      },
      "outputs": [
        {
          "output_type": "stream",
          "name": "stdout",
          "text": [
            "Exercise 61 is correct.\n"
          ]
        }
      ],
      "source": [
        "# Exercise 61\n",
        "# Write a function definition named mean that takes in sequence of numbers and returns the average value\n",
        "\n",
        "def mean(num):\n",
        "  return sum(num) / len(num) #New command, len to count the items in a list\n",
        "\n",
        "assert mean([1, 2, 3, 4]) == 2.5\n",
        "assert mean([3, 3, 3]) == 3\n",
        "assert mean([1, 5, 6]) == 4\n",
        "print(\"Exercise 61 is correct.\")"
      ]
    },
    {
      "cell_type": "code",
      "execution_count": 104,
      "metadata": {
        "id": "74NomFFLgCsf",
        "colab": {
          "base_uri": "https://localhost:8080/"
        },
        "outputId": "8d9c77e8-c22e-49ec-c6a7-851aeced0cef"
      },
      "outputs": [
        {
          "output_type": "stream",
          "name": "stdout",
          "text": [
            "Exercise 62 is correct.\n"
          ]
        }
      ],
      "source": [
        "# Exercise 62\n",
        "# Write a function definition named median that takes in sequence of numbers and returns the average value\n",
        "\n",
        "import statistics\n",
        "\n",
        "def median(number):\n",
        "  return statistics.median(number) #Well, that wasn't too hard\n",
        "\n",
        "\n",
        "\n",
        "assert median([1, 2, 3, 4, 5]) == 3.0\n",
        "assert median([1, 2, 3]) == 2.0\n",
        "assert median([1, 5, 6]) == 5.0\n",
        "assert median([1, 2, 5, 6]) == 3.5\n",
        "print(\"Exercise 62 is correct.\")"
      ]
    },
    {
      "cell_type": "code",
      "execution_count": 107,
      "metadata": {
        "id": "1pQgRJCbgCsf",
        "colab": {
          "base_uri": "https://localhost:8080/"
        },
        "outputId": "428713a6-9935-41de-9504-e6bdfb6e43c6"
      },
      "outputs": [
        {
          "output_type": "stream",
          "name": "stdout",
          "text": [
            "Exercise 63 is correct.\n"
          ]
        }
      ],
      "source": [
        "# Exercise 63\n",
        "# Write a function definition named mode that takes in sequence of numbers and returns the most commonly occuring value\n",
        "\n",
        "#I wonder if there's one for the mode too\n",
        "import statistics\n",
        "def mode(number):\n",
        " return statistics.mode(number)\n",
        "#There is!\n",
        "\n",
        "\n",
        "assert mode([1, 2, 2, 3, 4]) == 2\n",
        "assert mode([1, 1, 2, 3]) == 1\n",
        "assert mode([2, 2, 3, 3, 3]) == 3\n",
        "print(\"Exercise 63 is correct.\")"
      ]
    },
    {
      "cell_type": "code",
      "execution_count": 112,
      "metadata": {
        "id": "SLgV1s8kgCsf",
        "colab": {
          "base_uri": "https://localhost:8080/"
        },
        "outputId": "315494ad-b302-4a78-9d0b-b8681b2efa72"
      },
      "outputs": [
        {
          "output_type": "stream",
          "name": "stdout",
          "text": [
            "Exercise 64 is correct.\n"
          ]
        }
      ],
      "source": [
        "# Exercise 64\n",
        "# Write a function definition named product_of_all that takes in sequence of numbers and returns the product of multiplying all the numbers together\n",
        "\n",
        "def product_of_all(number):\n",
        "  answer = 1 #Set a variable to 1 so it gets changed to the first number in the list\n",
        "  for anycharacter in number: #Each character runs this\n",
        "    answer *= anycharacter #And multiplies itself against the variable\n",
        "  return answer\n",
        "\n",
        "assert product_of_all([1, 2, 3]) == 6\n",
        "assert product_of_all([3, 4, 5]) == 60\n",
        "assert product_of_all([2, 2, 3, 0]) == 0\n",
        "print(\"Exercise 64 is correct.\")"
      ]
    },
    {
      "cell_type": "markdown",
      "metadata": {
        "id": "B3ouYq2pgCsf"
      },
      "source": [
        "## Applying functions to lists\n",
        "\n",
        "> You will also want to reference the accessing list operations that you did earlier\n",
        "\n"
      ]
    },
    {
      "cell_type": "code",
      "execution_count": 118,
      "metadata": {
        "id": "ziepbRJOgCsg",
        "colab": {
          "base_uri": "https://localhost:8080/"
        },
        "outputId": "9195b446-f6bd-4bad-d310-a3e77a9bd067"
      },
      "outputs": [
        {
          "output_type": "stream",
          "name": "stdout",
          "text": [
            "Exercise 65 is correct.\n"
          ]
        }
      ],
      "source": [
        "# Exercise 65 I REALLY like this problem. It will get you to think \n",
        "# Write a function definition named get_highest_number that takes in sequence of numbers and returns the largest number.\n",
        "\n",
        "# Think about how you can do this by yourself first and also without looking it up.\n",
        "# However you may use functions you find online if you understand them \n",
        "\n",
        "def get_highest_number(num):\n",
        " # return num[-1] #Kidding, kidding (I will now look up the answer)\n",
        " big = num[0] #Assign a variable to the first number\n",
        " for character in num:\n",
        "   if character > big: #Check it against the rest of the values\n",
        "     big = character #If a value is higher, set the variable to that instead\n",
        " return big\n",
        "\n",
        "assert get_highest_number([1, 2, 3]) == 3\n",
        "assert get_highest_number([-5, -4, -3, -2, -1, 1, 2, 3, 4, 5]) == 5\n",
        "assert get_highest_number([-5, -3, 1]) == 1\n",
        "print(\"Exercise 65 is correct.\")"
      ]
    },
    {
      "cell_type": "code",
      "execution_count": 119,
      "metadata": {
        "id": "SfN4cBrNgCsg",
        "colab": {
          "base_uri": "https://localhost:8080/"
        },
        "outputId": "7e55ea99-e12f-421e-fd8c-515c15dca327"
      },
      "outputs": [
        {
          "output_type": "stream",
          "name": "stdout",
          "text": [
            "Exercise 66 is correct.\n"
          ]
        }
      ],
      "source": [
        "# Exercise 66\n",
        "# Write a function definition named get_smallest_number that takes in sequence of numbers and returns the smallest number.\n",
        "\n",
        "def get_smallest_number(num):\n",
        "  small = num[0]\n",
        "  for character in num:\n",
        "    if character < small:\n",
        "      small = character\n",
        "  return small\n",
        "\n",
        "assert get_smallest_number([1, 3, 2]) == 1\n",
        "assert get_smallest_number([5, -5, -4, -3, -2, -1, 1, 2, 3, 4]) == -5\n",
        "assert get_smallest_number([-4, -3, 1, -10]) == -10\n",
        "print(\"Exercise 66 is correct.\")"
      ]
    },
    {
      "cell_type": "code",
      "execution_count": 139,
      "metadata": {
        "id": "A34zwZHAgCsg",
        "colab": {
          "base_uri": "https://localhost:8080/"
        },
        "outputId": "3f5b07fa-cf82-4f34-ce7e-696942eb0be3"
      },
      "outputs": [
        {
          "output_type": "stream",
          "name": "stdout",
          "text": [
            "Exercise 67 is correct.\n"
          ]
        }
      ],
      "source": [
        "# Exercise 67\n",
        "# Write a function definition named only_odd_numbers that takes in sequence of numbers and returns the odd numbers in a list.\n",
        "\n",
        "def only_odd_numbers(num):\n",
        "  odds = [character for character in num if character % 2 != 0] #Now I have to comprehend these lists too\n",
        "  return odds #What has the world come to\n",
        "\n",
        "\n",
        "\n",
        "assert only_odd_numbers([1, 2, 3]) == [1, 3]\n",
        "assert only_odd_numbers([-5, -4, -3, -2, -1, 1, 2, 3, 4, 5]) == [-5, -3, -1, 1, 3, 5]\n",
        "assert only_odd_numbers([-4, -3, 1]) == [-3, 1]\n",
        "assert only_odd_numbers([2, 2, 2, 2, 2]) == []\n",
        "print(\"Exercise 67 is correct.\")"
      ]
    },
    {
      "cell_type": "code",
      "execution_count": 138,
      "metadata": {
        "id": "vCmQscR4gCsh",
        "colab": {
          "base_uri": "https://localhost:8080/"
        },
        "outputId": "24dc35bd-4817-4c05-cd3f-0b67e80f7f10"
      },
      "outputs": [
        {
          "output_type": "stream",
          "name": "stdout",
          "text": [
            "Exercise 68 is correct.\n"
          ]
        }
      ],
      "source": [
        "# Exercise 68\n",
        "# Write a function definition named only_even_numbers that takes in sequence of numbers and returns the even numbers in a list.\n",
        "\n",
        "def only_even_numbers(num):\n",
        "  evens = [char for char in num if char % 2 == 0] #If there's no remainder\n",
        "  return evens\n",
        "\n",
        "\n",
        "assert only_even_numbers([1, 2, 3]) == [2]\n",
        "assert only_even_numbers([-5, -4, -3, -2, -1, 1, 2, 3, 4, 5]) == [-4, -2, 2, 4]\n",
        "assert only_even_numbers([-4, -3, 1]) == [-4]\n",
        "assert only_even_numbers([1, 1, 1, 1, 1, 1]) == []\n",
        "print(\"Exercise 68 is correct.\")"
      ]
    },
    {
      "cell_type": "code",
      "execution_count": 142,
      "metadata": {
        "id": "_qfXjQmmgCsh",
        "colab": {
          "base_uri": "https://localhost:8080/"
        },
        "outputId": "0049aa04-f8b1-4e56-af91-9b07f6a48323"
      },
      "outputs": [
        {
          "output_type": "stream",
          "name": "stdout",
          "text": [
            "Exercise 69 is correct.\n"
          ]
        }
      ],
      "source": [
        "# Exercise 69\n",
        "# Write a function definition named only_positive_numbers that takes in sequence of numbers and returns the positive numbers in a list.\n",
        "\n",
        "def only_positive_numbers(num):\n",
        "  positive = [char for char in num if char > 0]\n",
        "  return positive #Keep forgetting the return\n",
        "\n",
        "\n",
        "assert only_positive_numbers([1, 2, 3]) == [1, 2, 3]\n",
        "assert only_positive_numbers([-5, -4, -3, -2, -1, 1, 2, 3, 4, 5]) == [1, 2, 3, 4, 5]\n",
        "assert only_positive_numbers([-4, -3, 1]) == [1]\n",
        "print(\"Exercise 69 is correct.\")"
      ]
    },
    {
      "cell_type": "code",
      "execution_count": 143,
      "metadata": {
        "id": "kMstHnxIgCsh",
        "colab": {
          "base_uri": "https://localhost:8080/"
        },
        "outputId": "a38f0af7-4a87-4e94-fdcd-e05f61f0549d"
      },
      "outputs": [
        {
          "output_type": "stream",
          "name": "stdout",
          "text": [
            "Exercise 70 is correct.\n"
          ]
        }
      ],
      "source": [
        "# Exercise 70\n",
        "# Write a function definition named only_negative_numbers that takes in sequence of numbers and returns the negative numbers in a list.\n",
        "\n",
        "def only_negative_numbers(num):\n",
        "  negative = [char for char in num if char < 0]\n",
        "  return negative\n",
        "\n",
        "assert only_negative_numbers([1, 2, 3]) == []\n",
        "assert only_negative_numbers([-5, -4, -3, -2, -1, 1, 2, 3, 4, 5]) == [-5, -4, -3, -2, -1]\n",
        "assert only_negative_numbers([-4, -3, 1]) == [-4, -3]\n",
        "print(\"Exercise 70 is correct.\")"
      ]
    },
    {
      "cell_type": "code",
      "execution_count": 147,
      "metadata": {
        "id": "bTHV-T37gCsi",
        "colab": {
          "base_uri": "https://localhost:8080/"
        },
        "outputId": "a341210a-0d46-4387-b246-2ba2646c5b76"
      },
      "outputs": [
        {
          "output_type": "stream",
          "name": "stdout",
          "text": [
            "Exercise 71 is correct.\n"
          ]
        }
      ],
      "source": [
        "# Exercise 71\n",
        "# Write a function definition named has_evens that takes in sequence of numbers and returns True if there are any even numbers in the sequence\n",
        "\n",
        "def has_evens(num):\n",
        "  all = False #Set a variable to a default then change if needed\n",
        "  for character in num:\n",
        "    if character % 2 == 0:\n",
        "      all = True\n",
        "  return all\n",
        "    \n",
        "\n",
        "\n",
        "assert has_evens([1, 2, 3]) == True\n",
        "assert has_evens([2, 5, 6]) == True\n",
        "assert has_evens([3, 3, 3]) == False\n",
        "assert has_evens([]) == False\n",
        "print(\"Exercise 71 is correct.\")"
      ]
    },
    {
      "cell_type": "code",
      "execution_count": 156,
      "metadata": {
        "id": "lPwyc8oegCsi",
        "colab": {
          "base_uri": "https://localhost:8080/"
        },
        "outputId": "bce918c9-7862-49c3-faf4-3e1af597e987"
      },
      "outputs": [
        {
          "output_type": "stream",
          "name": "stdout",
          "text": [
            "Exercise 72 is correct.\n"
          ]
        }
      ],
      "source": [
        "# Exercise 72\n",
        "# Write a function definition named count_evens that takes in sequence of numbers and returns the number of even numbers\n",
        "\n",
        "\n",
        "def count_evens(num):\n",
        "  evens = 0 #Assign a variable 0\n",
        "  for char in num:\n",
        "    if char % 2 == 0:\n",
        "      evens = evens + 1 #Increment for each even number\n",
        "  return evens\n",
        "\n",
        "\n",
        "\n",
        "\n",
        "assert count_evens([1, 2, 3]) == 1\n",
        "assert count_evens([2, 5, 6]) == 2\n",
        "assert count_evens([3, 3, 3]) == 0\n",
        "assert count_evens([5, 6, 7, 8] ) == 2\n",
        "print(\"Exercise 72 is correct.\")"
      ]
    },
    {
      "cell_type": "code",
      "execution_count": 158,
      "metadata": {
        "id": "rXduiJhZgCsi",
        "colab": {
          "base_uri": "https://localhost:8080/"
        },
        "outputId": "4fa23096-65c9-4bd9-8368-c7765b74c433"
      },
      "outputs": [
        {
          "output_type": "stream",
          "name": "stdout",
          "text": [
            "Exercise 73 is correct.\n"
          ]
        }
      ],
      "source": [
        "# Exercise 73\n",
        "# Write a function definition named has_odds that takes in sequence of numbers and returns True if there are any odd numbers in the sequence\n",
        "\n",
        "def has_odds(num):\n",
        "  #odds = 0 #Oh whoops didn't realize what this was looking for\n",
        "  odds = False\n",
        "  for char in num:\n",
        "    if char % 2 != 0: \n",
        " #     odds = odds + 1\n",
        "       odds = True\n",
        "  return odds\n",
        "\n",
        "assert has_odds([1, 2, 3]) == True\n",
        "assert has_odds([2, 5, 6]) == True\n",
        "assert has_odds([3, 3, 3]) == True\n",
        "assert has_odds([2, 4, 6]) == False\n",
        "print(\"Exercise 73 is correct.\")"
      ]
    },
    {
      "cell_type": "code",
      "execution_count": 159,
      "metadata": {
        "id": "1Syd95iagCsi",
        "colab": {
          "base_uri": "https://localhost:8080/"
        },
        "outputId": "e9b53077-56c8-42de-b705-dfe8a9c435e0"
      },
      "outputs": [
        {
          "output_type": "stream",
          "name": "stdout",
          "text": [
            "Exercise 74 is correct.\n"
          ]
        }
      ],
      "source": [
        "# Exercise 74\n",
        "# Write a function definition named count_odds that takes in sequence of numbers and returns True if there are any odd numbers in the sequence\n",
        "\n",
        "#True?\n",
        "def count_odds(num):\n",
        "  odds = 0\n",
        "  for char in num:\n",
        "    if char % 2 != 0:\n",
        "      odds = odds + 1\n",
        "  return odds\n",
        "\n",
        "\n",
        "assert count_odds([1, 2, 3]) == 2\n",
        "assert count_odds([2, 5, 6]) == 1\n",
        "assert count_odds([3, 3, 3]) == 3\n",
        "assert count_odds([2, 4, 6]) == 0\n",
        "print(\"Exercise 74 is correct.\")"
      ]
    },
    {
      "cell_type": "code",
      "execution_count": 160,
      "metadata": {
        "id": "-winovaRgCsj",
        "colab": {
          "base_uri": "https://localhost:8080/"
        },
        "outputId": "fef40eba-878f-450c-ce52-2cdf7e5bdd13"
      },
      "outputs": [
        {
          "output_type": "stream",
          "name": "stdout",
          "text": [
            "Exercise 75 is correct.\n"
          ]
        }
      ],
      "source": [
        "# Exercise 75\n",
        "# Write a function definition named count_negatives that takes in sequence of numbers and returns a count of the number of negative numbers\n",
        "\n",
        "def count_negatives(num):\n",
        "  negatives = 0\n",
        "  for char in num:\n",
        "    if char < 0: #Different equation but thats it\n",
        "      negatives = negatives + 1\n",
        "  return negatives\n",
        "\n",
        "assert count_negatives([1, -2, 3]) == 1\n",
        "assert count_negatives([2, -5, -6]) == 2\n",
        "assert count_negatives([3, 3, 3]) == 0\n",
        "print(\"Exercise 75 is correct.\")"
      ]
    },
    {
      "cell_type": "code",
      "execution_count": 162,
      "metadata": {
        "id": "NQdKza89gCsj",
        "colab": {
          "base_uri": "https://localhost:8080/"
        },
        "outputId": "3bfd5bcb-ccd7-4114-b47f-0efabfa2425d"
      },
      "outputs": [
        {
          "output_type": "stream",
          "name": "stdout",
          "text": [
            "Exercise 76 is correct.\n"
          ]
        }
      ],
      "source": [
        "# Exercise 76\n",
        "# Write a function definition named count_positives that takes in sequence of numbers and returns a count of the number of positive numbers\n",
        "\n",
        "def count_positives(num):\n",
        "  positives = 0\n",
        "  for char in num: #You know I should have this in my clipboard to paste at this point\n",
        "    if char > 0:\n",
        "      positives = positives + 1\n",
        "  return positives\n",
        "\n",
        "\n",
        "assert count_positives([1, -2, 3]) == 2\n",
        "assert count_positives([2, -5, -6]) == 1\n",
        "assert count_positives([3, 3, 3]) == 3\n",
        "assert count_positives([-2, -1, -5]) == 0\n",
        "print(\"Exercise 76 is correct.\")"
      ]
    },
    {
      "cell_type": "code",
      "execution_count": 166,
      "metadata": {
        "id": "VVQHfPXpgCsj",
        "colab": {
          "base_uri": "https://localhost:8080/"
        },
        "outputId": "f667ceba-c0fe-45bf-aa0c-3c905fde5e68"
      },
      "outputs": [
        {
          "output_type": "stream",
          "name": "stdout",
          "text": [
            "Exercise 77 is correct.\n"
          ]
        }
      ],
      "source": [
        "# Exercise 77\n",
        "# Write a function definition named only_positive_evens that takes in sequence of numbers and returns a list containing all the positive evens from the sequence\n",
        "\n",
        "def only_positive_evens(num):\n",
        " # for char in num:\n",
        "  #  if char > 0 and char % 2 == 0:\n",
        "#Oh right list comprehension\n",
        "  positiveevens = [char for char in num if char > 0 and char % 2 == 0] #Alright, that worked just like I hoped\n",
        "  return positiveevens\n",
        "\n",
        "assert only_positive_evens([1, -2, 3]) == []\n",
        "assert only_positive_evens([2, -5, -6]) == [2]\n",
        "assert only_positive_evens([3, 3, 4, 6]) == [4, 6]\n",
        "assert only_positive_evens([2, 3, 4, -1, -5]) == [2, 4]\n",
        "print(\"Exercise 77 is correct.\")"
      ]
    },
    {
      "cell_type": "code",
      "execution_count": 167,
      "metadata": {
        "id": "uEOYxWDLgCsk",
        "colab": {
          "base_uri": "https://localhost:8080/"
        },
        "outputId": "ad414ca4-005c-4129-ed02-ba8952141fe6"
      },
      "outputs": [
        {
          "output_type": "stream",
          "name": "stdout",
          "text": [
            "Exercise 78 is correct.\n"
          ]
        }
      ],
      "source": [
        "# Exercise 78\n",
        "# Write a function definition named only_positive_odds that takes in sequence of numbers and returns a list containing all the positive odd numbers from the sequence\n",
        "\n",
        "def only_positive_odds(num):\n",
        "  plusodds = [char for char in num if char > 0 and char % 2 != 0]\n",
        "  return plusodds\n",
        "\n",
        "assert only_positive_odds([1, -2, 3]) == [1, 3]\n",
        "assert only_positive_odds([2, -5, -6]) == []\n",
        "assert only_positive_odds([3, 3, 4, 6]) == [3, 3]\n",
        "assert only_positive_odds([2, 3, 4, -1, -5]) == [3]\n",
        "print(\"Exercise 78 is correct.\")"
      ]
    },
    {
      "cell_type": "code",
      "execution_count": 172,
      "metadata": {
        "id": "FZNspCfHgCsm",
        "colab": {
          "base_uri": "https://localhost:8080/"
        },
        "outputId": "53cdf4a3-fbac-45d2-e221-a082d3d31916"
      },
      "outputs": [
        {
          "output_type": "stream",
          "name": "stdout",
          "text": [
            "Exercise 79 is correct.\n"
          ]
        }
      ],
      "source": [
        "# Exercise 79\n",
        "# Write a function definition named only_negative_evens that takes in sequence of numbers and returns a list containing all the negative even numbers from the sequence\n",
        "\n",
        "def only_negative_evens(num):\n",
        "  minusevens = [char for char in num if char < 0 and char % 2 == 0]\n",
        "  return minusevens #Keep forgetting this line\n",
        "\n",
        "assert only_negative_evens([1, -2, 3]) == [-2]\n",
        "assert only_negative_evens([2, -5, -6]) == [-6]\n",
        "assert only_negative_evens([3, 3, 4, 6]) == []\n",
        "assert only_negative_evens([-2, 3, 4, -1, -4]) == [-2, -4]\n",
        "print(\"Exercise 79 is correct.\")"
      ]
    },
    {
      "cell_type": "code",
      "execution_count": 174,
      "metadata": {
        "id": "HKRp7qGugCsm",
        "colab": {
          "base_uri": "https://localhost:8080/"
        },
        "outputId": "718dd3b4-38ec-4a5a-8b7f-19e433620df9"
      },
      "outputs": [
        {
          "output_type": "stream",
          "name": "stdout",
          "text": [
            "Exercise 80 is correct.\n"
          ]
        }
      ],
      "source": [
        "# Exercise 80\n",
        "# Write a function definition named only_negative_odds that takes in sequence of numbers and returns a list containing all the negative odd numbers from the sequence\n",
        "\n",
        "def only_negative_odds(num):\n",
        "  minusodds = [char for char in num if char < 0 and char % 2 != 0]\n",
        "  return minusodds #Writing the list thing takes all my attention away from the return agh\n",
        "\n",
        "assert only_negative_odds([1, -2, 3]) == []\n",
        "assert only_negative_odds([2, -5, -6]) == [-5]\n",
        "assert only_negative_odds([3, 3, 4, 6]) == []\n",
        "assert only_negative_odds([2, -3, 4, -1, -4]) == [-3, -1]\n",
        "print(\"Exercise 80 is correct.\")"
      ]
    },
    {
      "cell_type": "code",
      "execution_count": 180,
      "metadata": {
        "id": "IqtR4K1rgCso",
        "colab": {
          "base_uri": "https://localhost:8080/"
        },
        "outputId": "37f2e3e8-b858-4a24-aeab-152ec551c80f"
      },
      "outputs": [
        {
          "output_type": "stream",
          "name": "stdout",
          "text": [
            "Exercise 81 is correct.\n"
          ]
        }
      ],
      "source": [
        "# Exercise 81\n",
        "# Write a function definition named shortest_string that takes in a list of strings and returns the shortest string in the list.\n",
        "\n",
        "def shortest_string(Godsshorteststring):\n",
        "  return min(Godsshorteststring, key=len) #Min function checks for the shortest out of a list, key is a range to check, len is the entire list\n",
        "#Maybe, this might all be going over my head\n",
        "#Either that or it means key is what the command sorts the list by and len is for counting every character\n",
        "assert shortest_string([\"kiwi\", \"mango\", \"strawberry\"]) == \"kiwi\"\n",
        "assert shortest_string([\"hello\", \"everybody\"]) == \"hello\"\n",
        "assert shortest_string([\"mary\", \"had\", \"a\", \"little\", \"lamb\"]) == \"a\"\n",
        "print(\"Exercise 81 is correct.\")"
      ]
    },
    {
      "cell_type": "code",
      "execution_count": 182,
      "metadata": {
        "id": "ETPmaVnIgCsq",
        "colab": {
          "base_uri": "https://localhost:8080/"
        },
        "outputId": "543a36d1-6d15-4b2d-f509-901f41990f44"
      },
      "outputs": [
        {
          "output_type": "stream",
          "name": "stdout",
          "text": [
            "Exercise 82 is correct.\n"
          ]
        }
      ],
      "source": [
        "# Exercise 82\n",
        "# Write a function definition named longest_string that takes in sequence of strings and returns the longest string in the list.\n",
        "\n",
        "def longest_string(char):\n",
        "  return max(char, key=len) #Phew, that actually worked\n",
        "\n",
        "assert longest_string([\"kiwi\", \"mango\", \"strawberry\"]) == \"strawberry\"\n",
        "assert longest_string([\"hello\", \"everybody\"]) == \"everybody\"\n",
        "assert longest_string([\"mary\", \"had\", \"a\", \"little\", \"lamb\"]) == \"little\"\n",
        "print(\"Exercise 82 is correct.\")"
      ]
    },
    {
      "cell_type": "markdown",
      "metadata": {
        "id": "jtoQzmQBgCsr"
      },
      "source": [
        "## Working with sets\n",
        "**Hint** Take a look at the `set` function in Python, the `set` data type, and built-in `set` methods. You should be able to find this on google fairly easily if I didn't go over them extensively in the PDF. "
      ]
    },
    {
      "cell_type": "code",
      "execution_count": 184,
      "metadata": {
        "id": "GFBQ7ZJxgCsr",
        "colab": {
          "base_uri": "https://localhost:8080/"
        },
        "outputId": "9a233ac9-8311-460b-bd51-cd1faa25e2d0"
      },
      "outputs": [
        {
          "output_type": "stream",
          "name": "stdout",
          "text": [
            "{'w', 'k', 'i'}\n",
            "{1, 2, 3, 4}\n"
          ]
        }
      ],
      "source": [
        "# Example set function usage\n",
        "print(set(\"kiwi\"))\n",
        "print(set([1, 2, 2, 3, 3, 3, 4, 4, 4, 4]))"
      ]
    },
    {
      "cell_type": "code",
      "execution_count": 194,
      "metadata": {
        "id": "URwp4RvSgCsr",
        "colab": {
          "base_uri": "https://localhost:8080/"
        },
        "outputId": "45e8b986-a9af-4fe1-f082-5dd5c0254485"
      },
      "outputs": [
        {
          "output_type": "stream",
          "name": "stdout",
          "text": [
            "Exercise 83 is correct.\n"
          ]
        }
      ],
      "source": [
        "# Exercise 83\n",
        "# Write a function definition named get_unique_values that takes in a list and returns a set with only the unique values from that list.\n",
        "\n",
        "def get_unique_values(word):\n",
        "  unique = []\n",
        "  for char in word:\n",
        "    if char not in unique:\n",
        "      unique.append(char)\n",
        "  return set(unique) #Oh right I have to have it in the return line to have it be sent back\n",
        "\n",
        "\n",
        "\n",
        "assert get_unique_values([\"ant\", \"ant\", \"mosquito\", \"mosquito\", \"ladybug\"]) == {\"ant\", \"mosquito\", \"ladybug\"}\n",
        "assert get_unique_values([\"b\", \"a\", \"n\", \"a\", \"n\", \"a\", \"s\"]) == {\"b\", \"a\", \"n\", \"s\"}\n",
        "assert get_unique_values([\"mary\", \"had\", \"a\", \"little\", \"lamb\", \"little\", \"lamb\", \"little\", \"lamb\"]) == {\"mary\", \"had\", \"a\", \"little\", \"lamb\"}\n",
        "print(\"Exercise 83 is correct.\")"
      ]
    },
    {
      "cell_type": "code",
      "execution_count": 197,
      "metadata": {
        "id": "0Elt16fPgCss",
        "colab": {
          "base_uri": "https://localhost:8080/"
        },
        "outputId": "66e4bbee-bb40-4f48-e53c-48c1214bd48e"
      },
      "outputs": [
        {
          "output_type": "stream",
          "name": "stdout",
          "text": [
            "{1, 2, 3, 4, 5}\n",
            "{1, 2, 3}\n",
            "{'eggplant', 'mango', 'tomato', 'kiwi', 'broccoli'}\n",
            "Exercise 84 is correct.\n"
          ]
        }
      ],
      "source": [
        "# Exercise 84\n",
        "# Write a function definition named get_unique_values_from_two_lists that takes two lists and returns a single set with only the unique values\n",
        "\n",
        "def get_unique_values_from_two_lists(word, num):\n",
        "  print(set(word+num))\n",
        "  return set(word+num)\n",
        "#That works\n",
        "#Why don't I know why that works\n",
        "#I'm adding a print to see what happened\n",
        "#Well, it just works, sure, and hovering tells me that it will \"Build an unordered collection of unique elements.\"\n",
        "#Great, it just does that\n",
        "\n",
        "assert get_unique_values_from_two_lists([5, 1, 2, 3], [3, 4, 5, 5]) == {1, 2, 3, 4, 5}\n",
        "assert get_unique_values_from_two_lists([1, 1], [2, 2, 3]) == {1, 2, 3}\n",
        "assert get_unique_values_from_two_lists([\"tomato\", \"mango\", \"kiwi\"], [\"eggplant\", \"tomato\", \"broccoli\"]) == {\"tomato\", \"mango\", \"kiwi\", \"eggplant\", \"broccoli\"}\n",
        "print(\"Exercise 84 is correct.\")"
      ]
    },
    {
      "cell_type": "code",
      "execution_count": 206,
      "metadata": {
        "id": "_ri7Wuk8gCss",
        "colab": {
          "base_uri": "https://localhost:8080/"
        },
        "outputId": "7d5d481f-89c4-499e-ab9c-86432adbad44"
      },
      "outputs": [
        {
          "output_type": "stream",
          "name": "stdout",
          "text": [
            "Exercise 85 is correct.\n"
          ]
        }
      ],
      "source": [
        "# Exercise 85\n",
        "# Write a function definition named get_values_in_common that takes two lists and returns a single set with the values that each list has in common\n",
        "\n",
        "def get_values_in_common(first, second):\n",
        "  return set(first).intersection(second) #Alright, things are starting to make sense\n",
        "\n",
        "\n",
        "\n",
        "assert get_values_in_common([5, 1, 2, 3], [3, 4, 5, 5]) == {3, 5}\n",
        "assert get_values_in_common([1, 2], [2, 2, 3]) == {2}\n",
        "assert get_values_in_common([\"tomato\", \"mango\", \"kiwi\"], [\"eggplant\", \"tomato\", \"broccoli\"]) == {\"tomato\"}\n",
        "print(\"Exercise 85 is correct.\")"
      ]
    },
    {
      "cell_type": "code",
      "execution_count": 207,
      "metadata": {
        "id": "uHLjM5IFgCss",
        "colab": {
          "base_uri": "https://localhost:8080/"
        },
        "outputId": "f47efc0d-5882-4a90-90ff-76ca03e79b0b"
      },
      "outputs": [
        {
          "output_type": "stream",
          "name": "stdout",
          "text": [
            "Exercise 86 is correct.\n"
          ]
        }
      ],
      "source": [
        "# Exercise 86 THIS IS A HARDER FUNCTION\n",
        "# Write a function definition named get_values_not_in_common that takes two lists and returns a single set with the values that each list does not have in common\n",
        "\n",
        "def get_values_not_in_common(first, second):\n",
        "  #Oh it's returns unique values\n",
        "  return set(first).symmetric_difference(second) #Found this before I found intersection\n",
        "\n",
        "assert get_values_not_in_common([5, 1, 2, 3], [3, 4, 5, 5]) == {1, 2, 4}\n",
        "assert get_values_not_in_common([1, 1], [2, 2, 3]) == {1, 2, 3}\n",
        "assert get_values_not_in_common([\"tomato\", \"mango\", \"kiwi\"], [\"eggplant\", \"tomato\", \"broccoli\"]) == {\"mango\", \"kiwi\", \"eggplant\", \"broccoli\"}\n",
        "print(\"Exercise 86 is correct.\")"
      ]
    },
    {
      "cell_type": "markdown",
      "metadata": {
        "id": "TGRG0ZfigCst"
      },
      "source": [
        "## Working with Dictionaries\n"
      ]
    },
    {
      "cell_type": "code",
      "execution_count": 208,
      "metadata": {
        "id": "X1nM3PUlgCst"
      },
      "outputs": [],
      "source": [
        "# Run this cell in order to have these two dictionary variables defined.\n",
        "tukey_paper = {\n",
        "    \"title\": \"The Future of Data Analysis\",\n",
        "    \"author\": \"John W. Tukey\",\n",
        "    \"link\": \"https://projecteuclid.org/euclid.aoms/1177704711\",\n",
        "    \"year_published\": 1962\n",
        "}\n",
        "\n",
        "thomas_paper = {\n",
        "    \"title\": \"A mathematical model of glutathione metabolism\",\n",
        "    \"author\": \"Rachel Thomas\",\n",
        "    \"link\": \"https://www.ncbi.nlm.nih.gov/pubmed/18442411\",\n",
        "    \"year_published\": 2008\n",
        "}"
      ]
    },
    {
      "cell_type": "code",
      "execution_count": 209,
      "metadata": {
        "id": "YHq0FjYSgCst",
        "colab": {
          "base_uri": "https://localhost:8080/"
        },
        "outputId": "92cfa0f3-cb08-450e-8db4-557a0e670f27"
      },
      "outputs": [
        {
          "output_type": "stream",
          "name": "stdout",
          "text": [
            "Exercise 87 is correct.\n"
          ]
        }
      ],
      "source": [
        "# Exercise 87\n",
        "# Write a function named get_paper_title that takes in a dictionary and returns the title property\n",
        "\n",
        "#There is an access method and a function method. you can make another cell and try both. \n",
        "\n",
        "def get_paper_title(word):\n",
        "  return word.get(\"title\")\n",
        "#Thank you w3schools\n",
        "\n",
        "\n",
        "assert get_paper_title(tukey_paper) == \"The Future of Data Analysis\"\n",
        "assert get_paper_title(thomas_paper) == \"A mathematical model of glutathione metabolism\"\n",
        "print(\"Exercise 87 is correct.\")"
      ]
    },
    {
      "cell_type": "code",
      "execution_count": 210,
      "metadata": {
        "id": "c_IDchAzgCsu",
        "colab": {
          "base_uri": "https://localhost:8080/"
        },
        "outputId": "8d06981d-6ada-46d2-fe3e-c81743621e88"
      },
      "outputs": [
        {
          "output_type": "stream",
          "name": "stdout",
          "text": [
            "Exercise 88 is correct.\n"
          ]
        }
      ],
      "source": [
        "# Exercise 88\n",
        "# Write a function named get_year_published that takes in a dictionary and returns the value behind the \"year_published\" key.\n",
        "\n",
        "def get_year_published(word):\n",
        "  return word.get(\"year_published\")\n",
        "\n",
        "\n",
        "assert get_year_published(tukey_paper) == 1962\n",
        "assert get_year_published(thomas_paper) == 2008\n",
        "print(\"Exercise 88 is correct.\")"
      ]
    },
    {
      "cell_type": "code",
      "execution_count": 211,
      "metadata": {
        "id": "1ZAY9La-gCsu"
      },
      "outputs": [],
      "source": [
        "# Run this code to create data for the next two questions\n",
        "book = {\n",
        "    \"title\": \"Genetic Algorithms and Machine Learning for Programmers\",\n",
        "    \"price\": 36.99,\n",
        "    \"author\": \"Frances Buontempo\"\n",
        "}"
      ]
    },
    {
      "cell_type": "code",
      "execution_count": 212,
      "metadata": {
        "id": "thcFEgaigCsu",
        "colab": {
          "base_uri": "https://localhost:8080/"
        },
        "outputId": "7cc44a10-9770-4b85-f3f0-67b27ad38576"
      },
      "outputs": [
        {
          "output_type": "stream",
          "name": "stdout",
          "text": [
            "Exercise 89 is complete.\n"
          ]
        }
      ],
      "source": [
        "# Exercise 89\n",
        "# Write a function named get_price that takes in a dictionary and returns the price\n",
        "\n",
        "def get_price(word):\n",
        "  return word.get(\"price\")\n",
        "\n",
        "assert get_price(book) == 36.99\n",
        "print(\"Exercise 89 is complete.\")"
      ]
    },
    {
      "cell_type": "code",
      "execution_count": 214,
      "metadata": {
        "id": "hDajHrUtgCsv",
        "colab": {
          "base_uri": "https://localhost:8080/"
        },
        "outputId": "c999d67d-43e6-4004-81a0-c3aaf06529cf"
      },
      "outputs": [
        {
          "output_type": "stream",
          "name": "stdout",
          "text": [
            "Exercise 90 is complete.\n"
          ]
        }
      ],
      "source": [
        "# Exercise 90\n",
        "# Write a function named get_book_author that takes in a dictionary (the above declared book variable) and returns the author's name\n",
        "\n",
        "def get_book_author(word):\n",
        "  return word.get(\"author\")\n",
        "\n",
        "assert get_book_author(book) == \"Frances Buontempo\"\n",
        "print(\"Exercise 90 is complete.\")"
      ]
    }
  ],
  "metadata": {
    "kernelspec": {
      "display_name": "Python 3",
      "language": "python",
      "name": "python3"
    },
    "language_info": {
      "codemirror_mode": {
        "name": "ipython",
        "version": 3
      },
      "file_extension": ".py",
      "mimetype": "text/x-python",
      "name": "python",
      "nbconvert_exporter": "python",
      "pygments_lexer": "ipython3",
      "version": "3.8.8"
    },
    "colab": {
      "name": "Intro_to_Python_90_Python_Problems_to_get_you_started.ipynb",
      "provenance": [],
      "collapsed_sections": [
        "9PzP33GYgCsa",
        "kCXqjD8gML7-",
        "kAVQ5VuUgCse",
        "B3ouYq2pgCsf",
        "jtoQzmQBgCsr"
      ]
    }
  },
  "nbformat": 4,
  "nbformat_minor": 0
}