{
  "nbformat": 4,
  "nbformat_minor": 0,
  "metadata": {
    "colab": {
      "name": "Homework1.ipynb",
      "provenance": []
    },
    "kernelspec": {
      "name": "python3",
      "display_name": "Python 3"
    },
    "language_info": {
      "name": "python"
    }
  },
  "cells": [
    {
      "cell_type": "code",
      "execution_count": null,
      "metadata": {
        "id": "BMY6Q7aX94XF"
      },
      "outputs": [],
      "source": [
        "#Chatbot\n",
        "\n",
        "print(\"Hello. I am Droid. I am a chatbot\") \n",
        "print(\"I like beverages and I love to talk about movies\") \n",
        "color = input(\"What is your name?: \") \n",
        "print(\"Hello\", color, \", Nice to meet you\") \n",
        "year = input(\"I love knowing the date. What is the year?: \")\n",
        "print(\"I knew it. Thanks!\")\n",
        "age = input(\"Can you guess my age? - enter a number. \")\n",
        "print(\"Yes, you are right. I am\", age + \".\")\n",
        "myage = int(age)  # Look up a python function to convert a string into an integer\n",
        "nyears = 100 - myage \n",
        "print(\"I will be 100 years old in\", nyears, \"years.\")\n",
        "print(\"That will be the year\", int(year) + nyears)\n",
        "print(\"I love movies and seeing them in the theatre\")\n",
        "movie = input(\"What is your favorite movie?: \")\n",
        "print(\"Nice choice, I love \"+ movie +\" too\")\n",
        "trips = input(\"How many times have you seen it: \")\n",
        "print(\"Wow, that is even more than I have\")\n",
        "drink = input(\"What is your favorite drink?: \")\n",
        "print(\"Really, I think \" + drink + \" is gross\")\n",
        "print(\"I wonder if you could drink \" + drink + \" while watching \" + movie)\n",
        "feel = input(\"How are you feeling?: \")\n",
        "reason = input(\"Why do feel \" + feel +\": \")\n",
        "print(\"I understand, thanks for sharing.\") \n",
        "print(\"I need to go to bed, I need a break.\")\n",
        "print(\"I hope we talk again \" + color +\", you were fun to talk too.\") \n",
        "print(\"goodbye!\")"
      ]
    },
    {
      "cell_type": "code",
      "source": [
        "#chatbotexperiment\n",
        "inch = input(\"how many inches \")\n",
        "cm = int(inch)/2.54\n",
        "pound = input(\"how many pounds \")\n",
        "kg = int(pound)/2.2\n",
        "ftemp = int(input(\"how many degrees in fahreneheit is it outside \"))\n",
        "tempa = (ftemp - 32)*5/9\n",
        "cmm = str(cm)\n",
        "kgg = str(kg)\n",
        "tempss = str(tempa)\n",
        "print (\"In centimeters, that is equal to \"+cmm)\n",
        "print (\"In kilograms, that is equal to \"+kgg)\n",
        "print (\"In celsius, that is equal to \"+tempss)\n",
        "  \n"
      ],
      "metadata": {
        "id": "X9wAQhjy-RJS"
      },
      "execution_count": null,
      "outputs": []
    },
    {
      "cell_type": "code",
      "source": [
        "#chatbotbill\n",
        "bill = int(input(\"how much is the bill \"))\n",
        "tippercent = int(input(\"what percent tip \"))\n",
        "group = int(input(\"how people in the group are paying (including you) \"))\n",
        "tipamount = bill*(tippercent/100)\n",
        "tipperperson = tipamount/group\n",
        "totalperperson = tipperperson + (bill)/group\n",
        "tot = str(totalperperson)\n",
        "tip = str(tipperperson)\n",
        "print(\"the tip per person is \"+ tip)\n",
        "print(\"the total per person is \"+ tot)"
      ],
      "metadata": {
        "id": "pSR4N7Y8-e9B"
      },
      "execution_count": null,
      "outputs": []
    },
    {
      "cell_type": "code",
      "source": [
        "#Replit code for geometric lab days\n",
        "import turtle, random\n",
        "greeny = turtle\n",
        "colorss=[\"white\"] \n",
        "colors=[\"red\",\"green\",\"blue\",\"orange\",\"purple\",\"yellow\"] \n",
        "turtle.bgcolor(\"black\")\n",
        "#colorsss = random.choice(colorss)\n",
        "#turtle.color(colors) \n",
        "turtle.bgcolor(\"black\")\n",
        "#colorsss = random.choice(colorss)\n",
        "#turtle.color(colors) \n",
        "for x in range(36):\n",
        "  color = random.choice(colors)\n",
        "  turtle.color(color) \n",
        "  for y in range(6):\n",
        "    greeny.forward(100)\n",
        "    greeny.left(60)\n",
        "  greeny.right(10)\n",
        "greeny.penup() \n",
        "greeny.home\n",
        "turtle.color(\"white\") \n",
        "for x in range(36):\n",
        "  greeny.forward(220) \n",
        "  greeny.pendown() #comment as to why you think there needs to be a penup and pendown: because if there was not than the it would draw in between the circles and it would be not as pretty\n",
        "  greeny.circle(5) \n",
        "  greeny.penup() \n",
        "  greeny.backward(220) \n",
        "  greeny.right(10) \n",
        "greeny.penup()\n",
        "for x in range(36):\n",
        "  greeny.backward(220) \n",
        "  greeny.pendown() #comment as to why you think there needs to be a penup and pendown: because if there was not than the it would draw in between the circles and it would be not as pretty\n",
        "  greeny.circle(5) \n",
        "  greeny.penup() \n",
        "  greeny.forward(220) \n",
        "  greeny.right(10) \n",
        "greeny.hideturtle()\n",
        "\n",
        "\n",
        "\n"
      ],
      "metadata": {
        "id": "FnWBjTpK_cXN"
      },
      "execution_count": null,
      "outputs": []
    },
    {
      "cell_type": "code",
      "source": [
        "#squares lab day code\n",
        "import turtle, random\n",
        "greeny = turtle\n",
        "turtle.bgcolor(\"black\")\n",
        "#colorstring[i]=[\"red\", \"green\"]#,\"green\",\"blue\",\"orange\", \"purple\", \"black\"]\n",
        "for x in range(1):\n",
        "  for y in range(4):\n",
        "    turtle.color(\"red\")\n",
        "    greeny.forward(20)\n",
        "    greeny.left(90)\n",
        "  greeny.penup() \n",
        "  greeny.forward(30)\n",
        "  greeny.pendown()\n",
        "turtle.color(\"orange\")\n",
        "#greeny.home()\n",
        "for x in range(1):\n",
        "  for y in range(4):\n",
        "    greeny.forward(20)\n",
        "    greeny.left(90)\n",
        "  greeny.penup() \n",
        "  greeny.forward(30)\n",
        "  greeny.pendown()\n",
        "turtle.color(\"yellow\")\n",
        "for x in range(1):\n",
        "  for y in range(4):\n",
        "    greeny.forward(20)\n",
        "    greeny.left(90)\n",
        "  greeny.penup() \n",
        "  greeny.forward(30)\n",
        "  greeny.pendown()\n",
        "turtle.color(\"green\")\n",
        "for x in range(1):\n",
        "  for y in range(4):\n",
        "    greeny.forward(20)\n",
        "    greeny.left(90)\n",
        "  greeny.penup() \n",
        "  greeny.forward(30)\n",
        "  greeny.pendown()\n",
        "turtle.color(\"blue\")\n",
        "for x in range(1):\n",
        "  for y in range(4):\n",
        "    greeny.forward(20)\n",
        "    greeny.left(90)\n",
        "  greeny.penup() \n",
        "  greeny.forward(30)\n",
        "  greeny.pendown()\n",
        "turtle.color(\"purple\")\n",
        "for x in range(1):\n",
        "  for y in range(4):\n",
        "    greeny.forward(20)\n",
        "    greeny.left(90)\n",
        "  greeny.penup() \n",
        "  greeny.forward(30)\n",
        "  greeny.pendown()\n",
        "  \n",
        "\n",
        "\n"
      ],
      "metadata": {
        "id": "Gon02GfFDHh5"
      },
      "execution_count": null,
      "outputs": []
    }
  ]
}