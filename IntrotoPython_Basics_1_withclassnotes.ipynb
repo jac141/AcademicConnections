{
  "nbformat": 4,
  "nbformat_minor": 0,
  "metadata": {
    "colab": {
      "provenance": [],
      "collapsed_sections": [
        "fHP_qo-y6_Eq"
      ]
    },
    "kernelspec": {
      "name": "python3",
      "display_name": "Python 3"
    },
    "language_info": {
      "name": "python"
    }
  },
  "cells": [
    {
      "cell_type": "markdown",
      "source": [
        "# **Getting Started**\n",
        "\n",
        "Just want you guys to know how to use the python notebooks a little.\n",
        "\n",
        "How to open them - CHECK\n",
        "\n",
        "How to Navigate them\n",
        "\n",
        "Click on Text for Notes or descriptions, ESC to exit\n",
        "Click on code, type your code, click on play, run your code\n",
        "Click X to get rid of result, and hit play again to display new results\n",
        "\n",
        "Some Shortcuts\n",
        "\n",
        "You SHOULD be turning in all your HW in python notebooks. I just reviewed the majority of the assignments and it seems like they have been converted already."
      ],
      "metadata": {
        "id": "ccCpDJywr_DM"
      }
    },
    {
      "cell_type": "code",
      "source": [
        "print(\"JoJo is the bestest\")"
      ],
      "metadata": {
        "colab": {
          "base_uri": "https://localhost:8080/"
        },
        "id": "fV0foUg_qpa8",
        "outputId": "34091d5c-9593-42e7-86d0-ed2be523efb0"
      },
      "execution_count": 2,
      "outputs": [
        {
          "output_type": "stream",
          "name": "stdout",
          "text": [
            "JoJo is the bestest\n"
          ]
        }
      ]
    },
    {
      "cell_type": "code",
      "source": [
        "# most basic thing you can do in python is print something\n",
        "\n",
        "# the second most basic thing you can do in python is comment something\n",
        "# which we have done three times now.\n",
        "\n",
        "print(\"Hello, World!\")\n",
        "\n",
        "# Comments turn code into notes they prevent the python interpreter from running in code behind a comment\n",
        "# First highlight then\n",
        "# use Ctrl + ? or  / to comment out lines"
      ],
      "metadata": {
        "id": "037UgvOJrsWV"
      },
      "execution_count": 4,
      "outputs": []
    },
    {
      "cell_type": "markdown",
      "source": [
        "**What is Python?**\n",
        "\n",
        "Python is a popular programming language. It was created by Guido van Rossum, and released in 1991.\n",
        "\n",
        "It is used for:\n",
        "\n",
        "web development (server-side),\n",
        "software development,\n",
        "mathematics,\n",
        "system scripting.\n"
      ],
      "metadata": {
        "id": "ShdRAjl3tBLw"
      }
    },
    {
      "cell_type": "markdown",
      "source": [
        "**What can Python do?**\n",
        "\n",
        "* Python can be used on a server to create web applications.\n",
        "* Python can be used alongside software to create workflows. **This is why colab is great you can make a whole report in here**\n",
        "* Python can connect to database systems. It can also read and modify files.\n",
        "* Python can be used to handle big data and perform complex mathematics.\n",
        "* Python can be used for rapid prototyping, or for production-ready software development."
      ],
      "metadata": {
        "id": "XQYVKH3utLZM"
      }
    },
    {
      "cell_type": "markdown",
      "source": [
        "**Why Python?**\n",
        " * Python works on different platforms (Windows, Mac, Linux, Raspberry Pi, etc).\n",
        " * Python has a simple syntax similar to the English language.\n",
        " * Python has syntax that allows developers to write programs with fewer lines than some other programming languages.\n",
        " * Python runs on an interpreter system, meaning that code can be executed as soon as it is written. This means that prototyping can be very quick.\n",
        " * Python can be treated in a procedural way, an object-oriented way or a functional way."
      ],
      "metadata": {
        "id": "eNZQKkHNteKo"
      }
    },
    {
      "cell_type": "markdown",
      "source": [
        "**That is interpreted langauge means**\n",
        "\n",
        "You type commands\n",
        "\n",
        "Interpreter reads it\n",
        "\n",
        "Converts it into computer code (something the computer understands)\n",
        "\n",
        "Sends you the result\n",
        "\n",
        "So if the computer doesn't understand you, or python doesn't understand you you won't be able to get anything done."
      ],
      "metadata": {
        "id": "HwoJ6SgTsdtF"
      }
    },
    {
      "cell_type": "markdown",
      "source": [
        "**Good to know**\n",
        "* The most recent major version of Python is Python 3, which we shall be using in this tutorial. However, Python 2, although not being updated with anything other than security updates, is still quite popular.\n"
      ],
      "metadata": {
        "id": "KraZVx2Tt6mQ"
      }
    },
    {
      "cell_type": "markdown",
      "source": [
        "**Python Syntax compared to other programming languages**\n",
        "\n",
        "* Python was designed for readability, and has some similarities to the English language with influence from mathematics.\n",
        "* Python uses new lines to complete a command, as opposed to other programming languages which often use semicolons or parentheses.\n",
        "* Python relies on indentation, using whitespace, to define scope; such as the scope of loops, functions and classes. Other programming languages often use curly-brackets for this purpose."
      ],
      "metadata": {
        "id": "lQXmIb78uA4K"
      }
    },
    {
      "cell_type": "markdown",
      "source": [
        "Comments in Python is the inclusion of short descriptions along with the code to increase its readability. A developer uses them to write his or her thought process while writing the code. It explains the basic logic behind why a particular line of code was written."
      ],
      "metadata": {
        "id": "Z0Ix-rg2s3T9"
      }
    },
    {
      "cell_type": "markdown",
      "source": [
        "# **Syntax and Indentation**"
      ],
      "metadata": {
        "id": "WN_8CFEowR8v"
      }
    },
    {
      "cell_type": "markdown",
      "source": [
        "**What is syntax**\n",
        "\n",
        "The syntax of the Python programming language is the set of rules that defines how a Python program will be written and interpreted (by both the runtime system and by human readers). The Python language has many similarities to Perl, C, and Java.\n",
        "\n",
        "**Why is syntax important**\n",
        "\n",
        "Without syntax, the meaning or semantics of a language is nearly impossible to understand.\n",
        "\n",
        "Computers/Programs have very rigid understanding\n",
        "\n",
        "This is even more important when you use Google Colab, while most code is the same. For some codes to work in colab it requires a special syntax"
      ],
      "metadata": {
        "id": "uN-ma0g2up6P"
      }
    },
    {
      "cell_type": "code",
      "source": [
        "# If you try this command it will fail\n",
        "# Despite it being the correct code for other ways you might use python\n",
        "# It's important to know and adjust to these rules\n",
        "\n",
        "# our first error\n",
        "# tells us type and location of error\n",
        "# Stack overflow is like discussion board for the world\n",
        "# if it stays RED on the arrow it means there is an error in the code box\n",
        "\n",
        "\n",
        "python --version"
      ],
      "metadata": {
        "id": "d7uNQujGuXk-"
      },
      "execution_count": null,
      "outputs": []
    },
    {
      "cell_type": "code",
      "source": [
        "!python --version\n",
        "\n",
        "# highlights the importance of syntax.\n",
        "\n",
        "# ALSO SPELLING SUPER HUGE\n",
        "# CASE SENSITVE\n",
        "\n",
        "# another syntax rule is that comments are not read by program\n",
        "# which is why they are a great way to take notes!!"
      ],
      "metadata": {
        "id": "cc7XKD72vuhD",
        "colab": {
          "base_uri": "https://localhost:8080/"
        },
        "outputId": "ef8231cb-a2f9-4ca7-9efb-3066037aba4b"
      },
      "execution_count": 7,
      "outputs": [
        {
          "output_type": "stream",
          "name": "stdout",
          "text": [
            "Python 3.10.12\n"
          ]
        }
      ]
    },
    {
      "cell_type": "markdown",
      "source": [
        "**Python Indentation**\n",
        "\n",
        "Indentation refers to the spaces at the beginning of a code line.\n",
        "\n",
        "Where in other programming languages the indentation in code is for readability only, **the indentation in Python is very important.**\n",
        "\n",
        "Python uses indentation to indicate a block of code."
      ],
      "metadata": {
        "id": "Sj24phnLwWuH"
      }
    },
    {
      "cell_type": "code",
      "source": [
        "if 5 > 2:\n",
        "  print(\"Five is greater than two!\")\n",
        "\n",
        "# this is an example of a syntax error"
      ],
      "metadata": {
        "id": "NuPrebGlwzNK",
        "colab": {
          "base_uri": "https://localhost:8080/"
        },
        "outputId": "34119107-d792-410e-b342-d3cac20630fc"
      },
      "execution_count": 9,
      "outputs": [
        {
          "output_type": "stream",
          "name": "stdout",
          "text": [
            "Five is greater than two!\n"
          ]
        }
      ]
    },
    {
      "cell_type": "code",
      "source": [
        "if 5 > 2:\n",
        "  print(\"Five is greater than two!\")\n",
        "\n",
        "# typically you only use one indent.\n",
        "# Indentation is EXTREMELY IMPORTANT IN PYTHON\n",
        "# IT tells the computer what to do and in what order\n",
        "# Most times if you are using you \":\" correctly it will do the proper indents for you\n",
        "# Also use TAB to indent, each tab is an indent\n"
      ],
      "metadata": {
        "colab": {
          "base_uri": "https://localhost:8080/"
        },
        "id": "EbLrC5fjwvfz",
        "outputId": "b986603e-c594-4f2e-f35d-b850e451a67f"
      },
      "execution_count": 10,
      "outputs": [
        {
          "output_type": "stream",
          "name": "stdout",
          "text": [
            "Five is greater than two!\n"
          ]
        }
      ]
    },
    {
      "cell_type": "code",
      "source": [
        "# Try this\n",
        "# comment out each in turn to see how they work\n",
        "# VERY POOR FORM\n",
        "\n",
        "\n",
        "if 5 > 2:\n",
        " print(\"Five is greater than two!\")\n",
        "if 5 > 2:\n",
        "        print(\"Five is greater than two!\")"
      ],
      "metadata": {
        "id": "NTp5tmO5yG1E"
      },
      "execution_count": null,
      "outputs": []
    },
    {
      "cell_type": "markdown",
      "source": [
        "Another important thing about colab if you try to return multiple things, sometimes it may only return one. This is because it reads each line and executes rather than reading the entire code box. This will be important later. Usually all prints are read and executed even if there are multiple."
      ],
      "metadata": {
        "id": "eN-Y_wJfyRhm"
      }
    },
    {
      "cell_type": "markdown",
      "source": [
        "# **Variables in python**"
      ],
      "metadata": {
        "id": "-miGF0n2ys7S"
      }
    },
    {
      "cell_type": "markdown",
      "source": [
        "Python has no command for declaring a variable.\n",
        "\n",
        "You just determine what you want your variable to be and set something equal to it using the equal sign\n",
        "\n",
        "This is another example of syntax\n",
        "\n"
      ],
      "metadata": {
        "id": "91M1_1htyzul"
      }
    },
    {
      "cell_type": "code",
      "source": [
        "# Nothing returns here whgen you run this because you have not asked the program to return anything\n",
        "# All you have done is stored a value in X and Y\n",
        "\n",
        "# we played with capitalization and storage of values\n",
        "# the only way to get rid of stored values that i want you to know right now\n",
        "\n",
        "# in the example X or x or y is the variable name\n",
        "# you can reuse variable names\n",
        "# it can only hold 1 thing at a time\n",
        "# but there are ways to store more than one value in a variable\n",
        "# just type it in the box doesn't mean that its run yet. the computer only stores the information once you run it\n",
        "# order of boxes on page not important ... but the order you run them in is\n",
        "\n",
        "X = 51  # that is why number is a particular color\n",
        "x = 172\n",
        "y = \"Hello, World!\" # python recognizes that its a string"
      ],
      "metadata": {
        "id": "_Wv6DSZEywaY"
      },
      "execution_count": 37,
      "outputs": []
    },
    {
      "cell_type": "code",
      "source": [
        "x"
      ],
      "metadata": {
        "id": "Wb8SjtVSyzdY"
      },
      "execution_count": null,
      "outputs": []
    },
    {
      "cell_type": "code",
      "source": [
        "x\n",
        "X\n",
        "# i asked it for two things and it gave me one\n"
      ],
      "metadata": {
        "id": "oTlxRokG0c7F",
        "colab": {
          "base_uri": "https://localhost:8080/"
        },
        "outputId": "4d7e0392-08a7-42a9-e315-79ff8e5577aa"
      },
      "execution_count": 31,
      "outputs": [
        {
          "output_type": "execute_result",
          "data": {
            "text/plain": [
              "5"
            ]
          },
          "metadata": {},
          "execution_count": 31
        }
      ]
    },
    {
      "cell_type": "code",
      "source": [
        "# you can then call those things later\n",
        "# as long as you have run the code box again\n",
        "\n",
        "x # by definition comments can't go directly before code\n",
        "\n",
        "# y #comments can even go right after code\n",
        "\n",
        "# this highlights what I was saying about colab\n",
        "# you can use commenting here to call each individually or just use another code box"
      ],
      "metadata": {
        "colab": {
          "base_uri": "https://localhost:8080/"
        },
        "id": "OQOfFBj1zSWY",
        "outputId": "87c90994-fd96-40ff-f879-ffbb4d85a5a3"
      },
      "execution_count": 33,
      "outputs": [
        {
          "output_type": "execute_result",
          "data": {
            "text/plain": [
              "172"
            ]
          },
          "metadata": {},
          "execution_count": 33
        }
      ]
    },
    {
      "cell_type": "code",
      "source": [
        "\"\"\"\n",
        "This is a comment\n",
        "written in\n",
        "more than just one line\n",
        "\n",
        "this allows for maybe nicer notes\n",
        "\"\"\"\n",
        "\n",
        "\n",
        "y"
      ],
      "metadata": {
        "colab": {
          "base_uri": "https://localhost:8080/",
          "height": 36
        },
        "id": "qFdU6DOHzmID",
        "outputId": "3dc8d399-24cf-4bb8-f7e4-7513717b914b"
      },
      "execution_count": 34,
      "outputs": [
        {
          "output_type": "execute_result",
          "data": {
            "text/plain": [
              "'Hello, World!'"
            ],
            "application/vnd.google.colaboratory.intrinsic+json": {
              "type": "string"
            }
          },
          "metadata": {},
          "execution_count": 34
        }
      ]
    },
    {
      "cell_type": "code",
      "source": [
        "# Try Printing both of these at the same time\n",
        "\n",
        "print(x)\n",
        "print(y)\n",
        "print(X)"
      ],
      "metadata": {
        "id": "Mz028Xo90fCi",
        "colab": {
          "base_uri": "https://localhost:8080/"
        },
        "outputId": "fb19e4f7-10be-4dbf-dc59-8624af1fbfcf"
      },
      "execution_count": 40,
      "outputs": [
        {
          "output_type": "stream",
          "name": "stdout",
          "text": [
            "John\n",
            "Hello, World!\n",
            "51\n"
          ]
        }
      ]
    },
    {
      "cell_type": "markdown",
      "source": [
        "**Single or Double Quotes?**\n",
        "\n",
        "String variables can be declared either by using single or double quotes:\n"
      ],
      "metadata": {
        "id": "cLsLZcHq2eg-"
      }
    },
    {
      "cell_type": "code",
      "source": [
        "x = \"John\"\n",
        "# is the same as\n",
        "x = 'John'"
      ],
      "metadata": {
        "id": "i1jJyhPv2gUb"
      },
      "execution_count": 39,
      "outputs": []
    },
    {
      "cell_type": "markdown",
      "source": [
        "Variables do not need to be declared with any particular type, and can even change type after they have been set.\n",
        "\n",
        "The type is set automatically and depending on what you do you can change the type\n",
        "\n",
        "We will go over types in more depth"
      ],
      "metadata": {
        "id": "zZ55gzTP0k_c"
      }
    },
    {
      "cell_type": "code",
      "source": [
        "a = 4       # x is of type int (integer)\n",
        "\n",
        "# Also colab and most python programs will show little descriptions of what you are typing\n",
        "\n",
        "b = \"Sally\" # x is now of type str (string)\n",
        "\n",
        "print(a)\n",
        "print(b)"
      ],
      "metadata": {
        "id": "wxSIrtiT0ukM",
        "colab": {
          "base_uri": "https://localhost:8080/"
        },
        "outputId": "fc44be83-1ee7-4e85-9542-e31fb00cc4ec"
      },
      "execution_count": 41,
      "outputs": [
        {
          "output_type": "stream",
          "name": "stdout",
          "text": [
            "4\n",
            "Sally\n"
          ]
        }
      ]
    },
    {
      "cell_type": "markdown",
      "source": [
        "**Casting**\n",
        "\n",
        "If you want to specify the data type of a variable, this can be done with casting."
      ],
      "metadata": {
        "id": "H7usIP6J1cv9"
      }
    },
    {
      "cell_type": "code",
      "source": [
        "x = str(3)    # x will be '3'\n",
        "y = int(3)    # y will be 3\n",
        "z = float(3)  # z will be 3.0\n",
        "\n",
        "# depending on the application these will be treated differently\n",
        "# or even unusable\n",
        "# for certain applications certain types are more appropriate"
      ],
      "metadata": {
        "id": "EVSDtoxS1gp1"
      },
      "execution_count": 42,
      "outputs": []
    },
    {
      "cell_type": "code",
      "source": [
        "print(type(x))"
      ],
      "metadata": {
        "colab": {
          "base_uri": "https://localhost:8080/"
        },
        "id": "Ui86Auht2YLk",
        "outputId": "77454d9b-1d45-4a01-ecd7-8c656d250d91"
      },
      "execution_count": 43,
      "outputs": [
        {
          "output_type": "stream",
          "name": "stdout",
          "text": [
            "<class 'str'>\n"
          ]
        }
      ]
    },
    {
      "cell_type": "code",
      "source": [
        "print(type(X)) # this is an int because of syntax"
      ],
      "metadata": {
        "colab": {
          "base_uri": "https://localhost:8080/"
        },
        "id": "XMAxCiIb2ipV",
        "outputId": "7322fc40-05d7-44f6-8fd9-a3f52ac21019"
      },
      "execution_count": 44,
      "outputs": [
        {
          "output_type": "stream",
          "name": "stdout",
          "text": [
            "<class 'int'>\n"
          ]
        }
      ]
    },
    {
      "cell_type": "code",
      "source": [
        "print(type(y))"
      ],
      "metadata": {
        "colab": {
          "base_uri": "https://localhost:8080/"
        },
        "id": "ut1_kEI62nqW",
        "outputId": "04fc5e61-00f9-4eac-8f8c-fc292376f30f"
      },
      "execution_count": 45,
      "outputs": [
        {
          "output_type": "stream",
          "name": "stdout",
          "text": [
            "<class 'int'>\n"
          ]
        }
      ]
    },
    {
      "cell_type": "code",
      "source": [
        "print(type(z))"
      ],
      "metadata": {
        "colab": {
          "base_uri": "https://localhost:8080/"
        },
        "id": "1GQPp5ge2qaR",
        "outputId": "932eddf2-cc37-4b20-8d4b-dd29387e669f"
      },
      "execution_count": 46,
      "outputs": [
        {
          "output_type": "stream",
          "name": "stdout",
          "text": [
            "<class 'float'>\n"
          ]
        }
      ]
    },
    {
      "cell_type": "code",
      "source": [
        "ab = \"5\"\n",
        "print(type(ab))\n"
      ],
      "metadata": {
        "colab": {
          "base_uri": "https://localhost:8080/"
        },
        "id": "R_kMUfOh3NFi",
        "outputId": "37ab9a89-b012-436a-9783-64fd964f33af"
      },
      "execution_count": 49,
      "outputs": [
        {
          "output_type": "stream",
          "name": "stdout",
          "text": [
            "<class 'str'>\n"
          ]
        }
      ]
    },
    {
      "cell_type": "markdown",
      "source": [
        "**Get the Type**\n",
        "\n",
        "You can get the data type of a variable with the type() function.\n",
        "\n",
        "This is the first time you are being shown a function, method, or module.\n",
        "\n",
        "Depending on how they are used or even the syntax often determines what terminology you use, but they are largely interchangeable\n",
        "\n"
      ],
      "metadata": {
        "id": "4UI3zU_F2ATH"
      }
    },
    {
      "cell_type": "code",
      "source": [
        "x = 5\n",
        "y = \"John\"\n",
        "print(type(x))\n",
        "print(type(y))"
      ],
      "metadata": {
        "id": "h2GC1t3e1-OI"
      },
      "execution_count": null,
      "outputs": []
    },
    {
      "cell_type": "markdown",
      "source": [
        "**Case-Sensitive**\n",
        "\n",
        "Variable names are case-sensitive."
      ],
      "metadata": {
        "id": "PbqPgqjC2ZOy"
      }
    },
    {
      "cell_type": "code",
      "source": [
        "a = 4\n",
        "A = \"Sally\"\n",
        "# A will not overwrite a"
      ],
      "metadata": {
        "id": "DpqOn16R2o4g"
      },
      "execution_count": null,
      "outputs": []
    },
    {
      "cell_type": "markdown",
      "source": [
        "**Typical Variable Names**\n",
        "\n",
        "A variable can have a short name (like x and y) or a more descriptive name (age, carname, total_volume). Rules for Python variables:\n",
        "* A variable name must start with a letter or the underscore character\n",
        "* A variable name cannot start with a number\n",
        "* A variable name can only contain alpha-numeric characters and underscores (A-z, 0-9, and _ )\n",
        "* Variable names are case-sensitive (age, Age and AGE are three different variables)\n",
        "* A variable name cannot be any of the Python keywords."
      ],
      "metadata": {
        "id": "0JFgoeA32z0i"
      }
    },
    {
      "cell_type": "code",
      "source": [
        "# Legal names\n",
        "myvar = \"John\"\n",
        "my_var = \"John\"\n",
        "_my_var = \"John\"\n",
        "myVar = \"John\"\n",
        "MYVAR = \"John\"\n",
        "myvar2 = \"John\""
      ],
      "metadata": {
        "id": "V-MYmEzR2zcI"
      },
      "execution_count": 54,
      "outputs": []
    },
    {
      "cell_type": "code",
      "source": [
        "my_var3 = John\n",
        "\n",
        "# no quotations means python can't recognize it. they are REQUIRED for str"
      ],
      "metadata": {
        "colab": {
          "base_uri": "https://localhost:8080/",
          "height": 165
        },
        "id": "7QKlwl7W5QVM",
        "outputId": "3c823539-a1f4-424e-c670-efcfc8c2dacf"
      },
      "execution_count": 57,
      "outputs": [
        {
          "output_type": "error",
          "ename": "NameError",
          "evalue": "ignored",
          "traceback": [
            "\u001b[0;31m---------------------------------------------------------------------------\u001b[0m",
            "\u001b[0;31mNameError\u001b[0m                                 Traceback (most recent call last)",
            "\u001b[0;32m<ipython-input-57-4a737ba50f27>\u001b[0m in \u001b[0;36m<cell line: 1>\u001b[0;34m()\u001b[0m\n\u001b[0;32m----> 1\u001b[0;31m \u001b[0mmy_var\u001b[0m \u001b[0;34m=\u001b[0m \u001b[0mJohn\u001b[0m\u001b[0;34m\u001b[0m\u001b[0;34m\u001b[0m\u001b[0m\n\u001b[0m",
            "\u001b[0;31mNameError\u001b[0m: name 'John' is not defined"
          ]
        }
      ]
    },
    {
      "cell_type": "code",
      "source": [
        "myvar"
      ],
      "metadata": {
        "colab": {
          "base_uri": "https://localhost:8080/",
          "height": 36
        },
        "id": "CjLlQBfC406o",
        "outputId": "df837a1b-9b8c-4a8a-d832-5599b07fc2a9"
      },
      "execution_count": 56,
      "outputs": [
        {
          "output_type": "execute_result",
          "data": {
            "text/plain": [
              "'John'"
            ],
            "application/vnd.google.colaboratory.intrinsic+json": {
              "type": "string"
            }
          },
          "metadata": {},
          "execution_count": 56
        }
      ]
    },
    {
      "cell_type": "code",
      "source": [
        "# Illegal names\n",
        "# you can see how python highlights them as being wrong\n",
        "\n",
        "2myvar = \"John\"\n",
        "my-var = \"John\"\n",
        "my var = \"John\"\n"
      ],
      "metadata": {
        "id": "1heZmL6p3E76",
        "colab": {
          "base_uri": "https://localhost:8080/",
          "height": 200
        },
        "outputId": "3f6cfa33-d6a4-4fd0-cc60-8763a4a40af3"
      },
      "execution_count": 53,
      "outputs": [
        {
          "output_type": "error",
          "ename": "NameError",
          "evalue": "ignored",
          "traceback": [
            "\u001b[0;31m---------------------------------------------------------------------------\u001b[0m",
            "\u001b[0;31mNameError\u001b[0m                                 Traceback (most recent call last)",
            "\u001b[0;32m<ipython-input-53-3f3ae50e2b09>\u001b[0m in \u001b[0;36m<cell line: 6>\u001b[0;34m()\u001b[0m\n\u001b[1;32m      4\u001b[0m \u001b[0;31m#  2myvar = \"John\"\u001b[0m\u001b[0;34m\u001b[0m\u001b[0;34m\u001b[0m\u001b[0m\n\u001b[1;32m      5\u001b[0m \u001b[0;31m#  my-var = \"John\"\u001b[0m\u001b[0;34m\u001b[0m\u001b[0;34m\u001b[0m\u001b[0m\n\u001b[0;32m----> 6\u001b[0;31m \u001b[0mmy\u001b[0m\u001b[0;34m.\u001b[0m\u001b[0mvar\u001b[0m \u001b[0;34m=\u001b[0m \u001b[0;34m\"John\"\u001b[0m\u001b[0;34m\u001b[0m\u001b[0;34m\u001b[0m\u001b[0m\n\u001b[0m",
            "\u001b[0;31mNameError\u001b[0m: name 'my' is not defined"
          ]
        }
      ]
    },
    {
      "cell_type": "code",
      "source": [
        "# good habits\n",
        "\n",
        "myVariableName = \"John\"\n",
        "\n",
        "myVariableName = \"John\"\n",
        "\n",
        "my_variable_name = \"John\"\n",
        "\n"
      ],
      "metadata": {
        "id": "sSSPO4563Tf4"
      },
      "execution_count": null,
      "outputs": []
    },
    {
      "cell_type": "markdown",
      "source": [
        "**Many Values to Multiple Variables**\n",
        "\n",
        "Python allows you to assign values to multiple variables in one line:\n",
        "\n",
        "This is an example of python trying to make our lives easier"
      ],
      "metadata": {
        "id": "trBubmg63dul"
      }
    },
    {
      "cell_type": "code",
      "source": [
        "x, y, z = \"Orange\", \"Banana\", \"Cherry\"\n",
        "print(x)\n",
        "print(y)\n",
        "print(z)"
      ],
      "metadata": {
        "id": "IyxmB7Uq3dLW"
      },
      "execution_count": null,
      "outputs": []
    },
    {
      "cell_type": "code",
      "source": [
        "x = y = z = \"Orange\"\n",
        "print(x)\n",
        "print(y)\n",
        "print(z)"
      ],
      "metadata": {
        "colab": {
          "base_uri": "https://localhost:8080/"
        },
        "id": "BIS1rbl53wes",
        "outputId": "a916ecdd-ee94-4744-b516-a77e26f63a48"
      },
      "execution_count": 59,
      "outputs": [
        {
          "output_type": "stream",
          "name": "stdout",
          "text": [
            "Orange\n",
            "Orange\n",
            "Orange\n"
          ]
        }
      ]
    },
    {
      "cell_type": "code",
      "source": [
        "# ALSO note how variables are reassigned\n",
        "# so be careful how you name them\n",
        "# run the code boxes above at different times to see\n",
        "\n",
        "y"
      ],
      "metadata": {
        "colab": {
          "base_uri": "https://localhost:8080/",
          "height": 36
        },
        "id": "hstqbPsp3zgX",
        "outputId": "34d0ce96-84cb-4a72-e609-bdccc2c9ff95"
      },
      "execution_count": null,
      "outputs": [
        {
          "output_type": "execute_result",
          "data": {
            "text/plain": [
              "'Orange'"
            ],
            "application/vnd.google.colaboratory.intrinsic+json": {
              "type": "string"
            }
          },
          "metadata": {},
          "execution_count": 15
        }
      ]
    },
    {
      "cell_type": "markdown",
      "source": [
        "**Unpack a Collection**\n",
        "\n",
        "If you have a collection of values in a list, tuple etc. Python allows you to extract the values into variables. This is called unpacking.\n",
        "\n",
        "We will see this more later for now just know it's another way to assign variables.\n",
        "\n"
      ],
      "metadata": {
        "id": "nezc1J4T4PIA"
      }
    },
    {
      "cell_type": "code",
      "source": [
        "fruits = [\"apple\", \"banana\", \"cherry\"]\n",
        "x, y, z = fruits\n",
        "print(x)\n",
        "print(y)\n",
        "print(z)"
      ],
      "metadata": {
        "id": "T90RqgDW4NeQ",
        "colab": {
          "base_uri": "https://localhost:8080/"
        },
        "outputId": "3089fc1d-fbd7-4167-8e6a-3a6bd9d7982b"
      },
      "execution_count": 60,
      "outputs": [
        {
          "output_type": "stream",
          "name": "stdout",
          "text": [
            "apple\n",
            "banana\n",
            "cherry\n"
          ]
        }
      ]
    },
    {
      "cell_type": "markdown",
      "source": [
        "**Output Variables**\n",
        "\n",
        "The Python print() function is often used to output variables."
      ],
      "metadata": {
        "id": "I2i2pNcH4pmu"
      }
    },
    {
      "cell_type": "code",
      "source": [
        "x = \"Python is awesome\"\n",
        "print(x)"
      ],
      "metadata": {
        "id": "c5W90NFC4t3z"
      },
      "execution_count": null,
      "outputs": []
    },
    {
      "cell_type": "code",
      "source": [
        "x = \"Python\"\n",
        "y = \"is\"\n",
        "z = \"awesome\"\n",
        "print(x, y, z)"
      ],
      "metadata": {
        "id": "eJSKYc8k4xNS",
        "colab": {
          "base_uri": "https://localhost:8080/"
        },
        "outputId": "185f07fc-ab54-4ba2-b0f2-83c6ef018ea7"
      },
      "execution_count": 61,
      "outputs": [
        {
          "output_type": "stream",
          "name": "stdout",
          "text": [
            "Python is awesome\n"
          ]
        }
      ]
    },
    {
      "cell_type": "code",
      "source": [
        "x = \"Python \"\n",
        "y = \"is \"\n",
        "z = \"awesome\"\n",
        "print(x + y + z)"
      ],
      "metadata": {
        "id": "k5lMWt2X4yky",
        "colab": {
          "base_uri": "https://localhost:8080/"
        },
        "outputId": "1978266b-1845-4d35-f6c8-00f8aed7955e"
      },
      "execution_count": 64,
      "outputs": [
        {
          "output_type": "stream",
          "name": "stdout",
          "text": [
            "Python is awesome\n"
          ]
        }
      ]
    },
    {
      "cell_type": "code",
      "source": [
        "x = 5\n",
        "y = 10\n",
        "print(x + y)"
      ],
      "metadata": {
        "id": "nDqdy47E40s4"
      },
      "execution_count": null,
      "outputs": []
    },
    {
      "cell_type": "code",
      "source": [
        "x = 5\n",
        "y = \"John\"\n",
        "print(x + y)\n",
        "\n",
        "# you will see this will not work as for some Operators you can't mix types\n",
        "# we will talk more about operators later"
      ],
      "metadata": {
        "id": "DxZa6VlO419q",
        "colab": {
          "base_uri": "https://localhost:8080/",
          "height": 235
        },
        "outputId": "41749a54-53eb-4c7a-c1c7-81888dff5c45"
      },
      "execution_count": 65,
      "outputs": [
        {
          "output_type": "error",
          "ename": "TypeError",
          "evalue": "ignored",
          "traceback": [
            "\u001b[0;31m---------------------------------------------------------------------------\u001b[0m",
            "\u001b[0;31mTypeError\u001b[0m                                 Traceback (most recent call last)",
            "\u001b[0;32m<ipython-input-65-f0a1f049c680>\u001b[0m in \u001b[0;36m<cell line: 3>\u001b[0;34m()\u001b[0m\n\u001b[1;32m      1\u001b[0m \u001b[0mx\u001b[0m \u001b[0;34m=\u001b[0m \u001b[0;36m5\u001b[0m\u001b[0;34m\u001b[0m\u001b[0;34m\u001b[0m\u001b[0m\n\u001b[1;32m      2\u001b[0m \u001b[0my\u001b[0m \u001b[0;34m=\u001b[0m \u001b[0;34m\"John\"\u001b[0m\u001b[0;34m\u001b[0m\u001b[0;34m\u001b[0m\u001b[0m\n\u001b[0;32m----> 3\u001b[0;31m \u001b[0mprint\u001b[0m\u001b[0;34m(\u001b[0m\u001b[0mx\u001b[0m \u001b[0;34m+\u001b[0m \u001b[0my\u001b[0m\u001b[0;34m)\u001b[0m\u001b[0;34m\u001b[0m\u001b[0;34m\u001b[0m\u001b[0m\n\u001b[0m\u001b[1;32m      4\u001b[0m \u001b[0;34m\u001b[0m\u001b[0m\n\u001b[1;32m      5\u001b[0m \u001b[0;31m# you will see this will not work as for some Operators you can't mix types\u001b[0m\u001b[0;34m\u001b[0m\u001b[0;34m\u001b[0m\u001b[0m\n",
            "\u001b[0;31mTypeError\u001b[0m: unsupported operand type(s) for +: 'int' and 'str'"
          ]
        }
      ]
    },
    {
      "cell_type": "code",
      "source": [
        "a = 5\n",
        "b = 5.0\n",
        "print(a + b)"
      ],
      "metadata": {
        "colab": {
          "base_uri": "https://localhost:8080/"
        },
        "id": "5aW8FjTL6933",
        "outputId": "52b7346f-ff77-457f-b767-88fd5a6fa2e1"
      },
      "execution_count": 66,
      "outputs": [
        {
          "output_type": "stream",
          "name": "stdout",
          "text": [
            "10.0\n"
          ]
        }
      ]
    },
    {
      "cell_type": "code",
      "source": [
        "x = 5\n",
        "y = \"John\"\n",
        "print(x, y)"
      ],
      "metadata": {
        "id": "dHNn8I-95B_G",
        "colab": {
          "base_uri": "https://localhost:8080/"
        },
        "outputId": "11e1ae7d-3aa5-4de7-bf7b-34e8ed7881b5"
      },
      "execution_count": 67,
      "outputs": [
        {
          "output_type": "stream",
          "name": "stdout",
          "text": [
            "5 John\n"
          ]
        }
      ]
    },
    {
      "cell_type": "markdown",
      "source": [
        "**Global Variables**\n",
        "\n",
        "Variables that are created outside of a function (as in all of the examples above) are known as global variables.\n",
        "\n",
        "Global variables can be used by everyone, both inside of functions and outside.\n",
        "\n",
        "This is your first time seeing us make a function instead of using a function. We will go more over this later."
      ],
      "metadata": {
        "id": "nJvEYFN05ruz"
      }
    },
    {
      "cell_type": "code",
      "source": [
        "x = \"awesome\"\n",
        "# See how this outside of the indent\n",
        "\n",
        "# def stands for def\n",
        "\n",
        "def myfunc():\n",
        "  print(\"Python is \" + x)\n",
        "  # While this is inside the indent\n",
        "\n",
        "myfunc()\n",
        "# typically everything with the same level of indentation is treated as equal\n",
        "# if something is indented under something that means it listens to the part that isn't indented"
      ],
      "metadata": {
        "id": "WK4Zf1JS6CFy",
        "colab": {
          "base_uri": "https://localhost:8080/"
        },
        "outputId": "00a3639b-ee53-4dc3-b5c9-c9ff2e099b0a"
      },
      "execution_count": 68,
      "outputs": [
        {
          "output_type": "stream",
          "name": "stdout",
          "text": [
            "Python is awesome\n"
          ]
        }
      ]
    },
    {
      "cell_type": "code",
      "source": [
        "x"
      ],
      "metadata": {
        "colab": {
          "base_uri": "https://localhost:8080/",
          "height": 36
        },
        "id": "RDoAphRq78DQ",
        "outputId": "2bdd0d81-dfa4-4b6b-a31a-e1f6b86ff2b7"
      },
      "execution_count": 69,
      "outputs": [
        {
          "output_type": "execute_result",
          "data": {
            "text/plain": [
              "'awesome'"
            ],
            "application/vnd.google.colaboratory.intrinsic+json": {
              "type": "string"
            }
          },
          "metadata": {},
          "execution_count": 69
        }
      ]
    },
    {
      "cell_type": "markdown",
      "source": [
        "If you create a variable with the same name inside a function, this variable will be local, and can only be used inside the function. The global variable with the same name will remain as it was, global and with the original value.\n",
        "\n",
        "\n"
      ],
      "metadata": {
        "id": "shO3s-xK6mif"
      }
    },
    {
      "cell_type": "code",
      "source": [
        "x = \"awesome\"\n",
        "\n",
        "def myfunc():\n",
        "  y = \"fantastic\" # local\n",
        "  print(\"Python is \" + y) #only had access to local\n",
        "\n",
        "myfunc()\n",
        "\n",
        "print(\"Python is \" + x) # has access to global"
      ],
      "metadata": {
        "id": "EmRsBI956o4e",
        "colab": {
          "base_uri": "https://localhost:8080/"
        },
        "outputId": "eaf5e03c-e11c-41fa-b86c-8800dd349ab4"
      },
      "execution_count": 73,
      "outputs": [
        {
          "output_type": "stream",
          "name": "stdout",
          "text": [
            "Python is fantastic\n",
            "Python is awesome\n"
          ]
        }
      ]
    },
    {
      "cell_type": "code",
      "source": [
        "y"
      ],
      "metadata": {
        "colab": {
          "base_uri": "https://localhost:8080/",
          "height": 36
        },
        "id": "Ky-MN6PP8UvT",
        "outputId": "f52ef0b0-a08b-4ebe-ac72-e66eeb2322ae"
      },
      "execution_count": 74,
      "outputs": [
        {
          "output_type": "execute_result",
          "data": {
            "text/plain": [
              "'John'"
            ],
            "application/vnd.google.colaboratory.intrinsic+json": {
              "type": "string"
            }
          },
          "metadata": {},
          "execution_count": 74
        }
      ]
    },
    {
      "cell_type": "markdown",
      "source": [
        "**The global Keyword**\n",
        "\n",
        "Normally, when you create a variable inside a function, that variable is local, and can only be used inside that function.\n",
        "\n",
        "To create a global variable inside a function, you can use the global keyword."
      ],
      "metadata": {
        "id": "2PLebawf6ux_"
      }
    },
    {
      "cell_type": "code",
      "source": [
        "def myfunc():\n",
        "  global x\n",
        "  x = \"fantastic\"\n",
        "\n",
        "myfunc()\n",
        "\n",
        "print(\"Python is \" + x)"
      ],
      "metadata": {
        "id": "OsX3_eNH6uko"
      },
      "execution_count": null,
      "outputs": []
    },
    {
      "cell_type": "markdown",
      "source": [
        "Example\n",
        "To change the value of a global variable inside a function, refer to the variable by using the global keyword"
      ],
      "metadata": {
        "id": "mHezt8eP61dn"
      }
    },
    {
      "cell_type": "code",
      "source": [
        "x = \"awesome\"\n",
        "\n",
        "def myfunc():\n",
        "  global x\n",
        "  x = \"fantastic\"\n",
        "\n",
        "myfunc()\n",
        "\n",
        "print(\"Python is \" + x)"
      ],
      "metadata": {
        "id": "W03nSAkO63C9"
      },
      "execution_count": null,
      "outputs": []
    },
    {
      "cell_type": "markdown",
      "source": [
        "# **Built-in Data Types**"
      ],
      "metadata": {
        "id": "fHP_qo-y6_Eq"
      }
    },
    {
      "cell_type": "markdown",
      "source": [
        "\n",
        "In programming, data type is an important concept.\n",
        "\n",
        "Variables can store data of different types, and different types can do different things.\n",
        "\n",
        "Python has the following data types built-in by default, in these categories:\n",
        "\n",
        "\n",
        "Text Type:\tstr\n",
        "\n",
        "Numeric Types:\tint, float, complex\n",
        "\n",
        "Sequence Types:\tlist, tuple, range\n",
        "\n",
        "Mapping Type:\tdict\n",
        "\n",
        "Set Types:\tset, frozenset\n",
        "\n",
        "Boolean Type:\tbool\n",
        "\n",
        "Binary Types:\tbytes, bytearray, memoryview\n",
        "\n",
        "None Type:\tNoneType\n"
      ],
      "metadata": {
        "id": "j2D3LqTF69BB"
      }
    },
    {
      "cell_type": "code",
      "source": [
        "a = \"Hello World\"\n",
        "b = 20\n",
        "c = 20.5\n",
        "d = 1j\n",
        "e = [\"apple\", \"banana\", \"cherry\"]\n",
        "f = (\"apple\", \"banana\", \"cherry\")\n",
        "g = range(6)\n",
        "h = {\"name\" : \"John\", \"age\" : 36}\n",
        "i = {\"apple\", \"banana\", \"cherry\"}\n",
        "j = frozenset({\"apple\", \"banana\", \"cherry\"})\n",
        "k = True\n",
        "l = b\"Hello\"\n",
        "l = bytearray(5)\n",
        "m = memoryview(bytes(5))\n",
        "n = None\n"
      ],
      "metadata": {
        "id": "u013eD0f7r8W"
      },
      "execution_count": null,
      "outputs": []
    },
    {
      "cell_type": "code",
      "source": [
        "# Let's play around with types\n",
        "# including testing the limits of the syntax\n",
        "# and setting the types ourselves\n",
        "# How does something behave when you set it's type\n"
      ],
      "metadata": {
        "id": "zFflcESi3Nlf"
      },
      "execution_count": null,
      "outputs": []
    },
    {
      "cell_type": "markdown",
      "source": [
        "## **Python Numbers**\n",
        "\n",
        "There are three numeric types in Python:\n",
        "\n",
        "* int - Int, or integer, is a whole number, positive or negative, without decimals, of unlimited length.\n",
        "* float - Float, or \"floating point number\" is a number, positive or negative, containing one or more decimals. -- Float can also be scientific numbers with an \"e\" to indicate the power of 10.\n",
        "* complex - Float can also be scientific numbers with an \"e\" to indicate the power of 10.\n",
        "\n",
        "Variables of numeric types are created when you assign a value to them:"
      ],
      "metadata": {
        "id": "4geRRFUv3g3l"
      }
    },
    {
      "cell_type": "code",
      "source": [
        "x = 1    # int\n",
        "y = 2.8  # float\n",
        "z = 1j   # complex\n",
        "\n",
        "# print the types of these\n"
      ],
      "metadata": {
        "id": "IOb0rWl33pzL"
      },
      "execution_count": null,
      "outputs": []
    },
    {
      "cell_type": "code",
      "source": [
        "x = 1\n",
        "y = 35656222554887711\n",
        "z = -3255522"
      ],
      "metadata": {
        "id": "b-qOMMGB3rAx"
      },
      "execution_count": null,
      "outputs": []
    },
    {
      "cell_type": "code",
      "source": [
        "a = 1.10\n",
        "b = 1.0\n",
        "c = -35.59\n",
        "g = 35e3\n",
        "e = 12E4\n",
        "f = -87.7e100"
      ],
      "metadata": {
        "id": "JefalpeB38mw"
      },
      "execution_count": null,
      "outputs": []
    },
    {
      "cell_type": "code",
      "source": [
        "xa = 3+5j\n",
        "yb = 5j\n",
        "zc = -5j"
      ],
      "metadata": {
        "id": "RNaYgRI54Bdv"
      },
      "execution_count": null,
      "outputs": []
    },
    {
      "cell_type": "code",
      "source": [
        "# Let's play with converting one to another\n",
        "\n",
        "x = 1    # int\n",
        "y = 2.8  # float\n",
        "z = 1j   # complex\n",
        "\n",
        "#convert from int to float:\n",
        "a = float(x)\n",
        "\n",
        "#convert from float to int:\n",
        "b = int(y)\n",
        "\n",
        "#convert from int to complex:\n",
        "c = complex(x)"
      ],
      "metadata": {
        "id": "EhCNl56I4KdN"
      },
      "execution_count": null,
      "outputs": []
    },
    {
      "cell_type": "code",
      "source": [
        "# useful code bit\n",
        "\n",
        "import random\n",
        "\n",
        "print(random.randrange(1, 10))"
      ],
      "metadata": {
        "id": "E_dBs2Ts4Rr_"
      },
      "execution_count": null,
      "outputs": []
    },
    {
      "cell_type": "markdown",
      "source": [
        "**We've talked about Casting before**\n",
        "\n",
        "There may be times when you want to specify a type on to a variable. This can be done with casting. Python is an object-orientated language, and as such it uses classes to define data types, including its primitive types.\n",
        "\n",
        "Casting in python is therefore done using constructor functions:\n",
        "\n",
        "Let's look at how it is important again for numbers in python"
      ],
      "metadata": {
        "id": "DNxUglKl4duy"
      }
    },
    {
      "cell_type": "code",
      "source": [
        "x = int(1)   # x will be 1\n",
        "y = int(2.8) # y will be 2\n",
        "z = int(\"3\") # z will be 3"
      ],
      "metadata": {
        "id": "M9DdYDT84RnL"
      },
      "execution_count": null,
      "outputs": []
    },
    {
      "cell_type": "markdown",
      "source": [
        "## **Python Strings**\n",
        "\n",
        "Strings in python are surrounded by either single quotation marks, or double quotation marks.\n",
        "\n",
        "'hello' is the same as \"hello\".\n",
        "\n",
        "You can display a string literal with the print() function:\n",
        "\n",
        "We've already looked at this alot by now"
      ],
      "metadata": {
        "id": "nPx3MJVR4yTw"
      }
    },
    {
      "cell_type": "code",
      "source": [
        "print(\"Hello\")\n",
        "print('Hello')\n",
        "a = \"Hello\"\n",
        "print(a)"
      ],
      "metadata": {
        "id": "64StEtaf5glb"
      },
      "execution_count": null,
      "outputs": []
    },
    {
      "cell_type": "code",
      "source": [
        "# Multi line Strings\n",
        "\n",
        "a = \"\"\"Lorem ipsum dolor sit amet,\n",
        "consectetur adipiscing elit,\n",
        "sed do eiusmod tempor incididunt\n",
        "ut labore et dolore magna aliqua.\"\"\"\n",
        "print(a)"
      ],
      "metadata": {
        "id": "ym4zBcYk5uJq"
      },
      "execution_count": null,
      "outputs": []
    },
    {
      "cell_type": "code",
      "source": [
        "# Also acceptable\n",
        "# look at line break, which is useful an necessary for code readability\n",
        "a = '''Lorem ipsum dolor sit amet,\n",
        "consectetur adipiscing elit,\n",
        "sed do eiusmod tempor incididunt\n",
        "ut labore et dolore magna aliqua.'''\n",
        "print(a)"
      ],
      "metadata": {
        "id": "mSkQECQk5yLP"
      },
      "execution_count": null,
      "outputs": []
    },
    {
      "cell_type": "markdown",
      "source": [
        " ***Strings are TECHNICALLY Arrays***\n",
        "\n",
        "Like many other popular programming languages, strings in Python are arrays of bytes representing unicode characters.\n",
        "\n",
        "However, Python does not have a character data type, a single character is simply a string with a length of 1.\n",
        "\n",
        "Square brackets can be used to access elements of the string.\n",
        "\n",
        "I don't know how much we will use arrays in this class but it is nice to see how python takes simple concepts and builds upon them"
      ],
      "metadata": {
        "id": "Qt9Bowm458JR"
      }
    },
    {
      "cell_type": "code",
      "source": [
        "# because a string is an array you can do this\n",
        "\n",
        "a = \"Hello, World!\"\n",
        "print(a[1])"
      ],
      "metadata": {
        "id": "yF_dBWWX6XTj"
      },
      "execution_count": null,
      "outputs": []
    },
    {
      "cell_type": "code",
      "source": [
        "# and you can do this\n",
        "# we WILL talk ALOT about loops in this class\n",
        "# please notice :\n",
        "# please notice indentation (it's automatic)\n",
        "\n",
        "for x in \"banana\":\n",
        "  print(x)\n",
        "\n"
      ],
      "metadata": {
        "id": "4ioj6qwp6bqP"
      },
      "execution_count": null,
      "outputs": []
    },
    {
      "cell_type": "code",
      "source": [
        "# useful function\n",
        "# String length\n",
        "\n",
        "a = \"Hello, World!\"\n",
        "print(len(a))"
      ],
      "metadata": {
        "id": "aZlCofWj8dAF"
      },
      "execution_count": null,
      "outputs": []
    },
    {
      "cell_type": "code",
      "source": [
        "# you can also check to see if things are in your string\n",
        "\n",
        "txt = \"The best things in life are free!\"\n",
        "print(\"free\" in txt)\n",
        "\n",
        "# notice \"in\" this is called an operator specifically a logical operator\n",
        "# we will talk about these as well\n"
      ],
      "metadata": {
        "id": "Wur_Hj9n8jLA"
      },
      "execution_count": null,
      "outputs": []
    },
    {
      "cell_type": "code",
      "source": [
        "# you could also use an if statement\n",
        "\n",
        "txt = \"The best things in life are free!\"\n",
        "if \"free\" in txt:\n",
        "  print(\"Yes, 'free' is present.\")\n",
        "\n",
        "# notice how if statements have indentations\n",
        "# we will also talk more about this"
      ],
      "metadata": {
        "id": "q_d04hfw89On"
      },
      "execution_count": null,
      "outputs": []
    },
    {
      "cell_type": "code",
      "source": [
        "txt = \"The best things in life are free!\"\n",
        "print(\"expensive\" not in txt)\n",
        "\n",
        "# based on this is \"not in\" and operator or a statement??"
      ],
      "metadata": {
        "id": "0LuO_3ay9IGW"
      },
      "execution_count": null,
      "outputs": []
    },
    {
      "cell_type": "code",
      "source": [
        "txt = \"The best things in life are free!\"\n",
        "if \"expensive\" not in txt:\n",
        "  print(\"No, 'expensive' is NOT present.\")"
      ],
      "metadata": {
        "id": "UuxfIc6W9PEg"
      },
      "execution_count": null,
      "outputs": []
    },
    {
      "cell_type": "markdown",
      "source": [
        "**Ways to Edit Strings**"
      ],
      "metadata": {
        "id": "JUFCMpgPvMOD"
      }
    },
    {
      "cell_type": "markdown",
      "source": [
        "\n",
        "\n",
        "**Slicing**\n",
        "\n",
        "You can return a range of characters by using the slice syntax.\n",
        "\n",
        "Specify the start index and the end index, separated by a colon, to return a part of the string.\n"
      ],
      "metadata": {
        "id": "ezKsGlIA9bi2"
      }
    },
    {
      "cell_type": "code",
      "source": [
        "b = \"Hello, World!\"\n",
        "print(b[2:5])\n",
        "\n",
        "# Let's play around with this to understand numbering convention for strings\n"
      ],
      "metadata": {
        "id": "7q6ZcvyK9fjJ"
      },
      "execution_count": null,
      "outputs": []
    },
    {
      "cell_type": "code",
      "source": [
        "b = \"Hello, World!\"\n",
        "print(b[:5])"
      ],
      "metadata": {
        "id": "HaWion9dukEJ"
      },
      "execution_count": null,
      "outputs": []
    },
    {
      "cell_type": "code",
      "source": [
        "b = \"Hello, World!\"\n",
        "print(b[2:])"
      ],
      "metadata": {
        "id": "KTL7tgvyuloe"
      },
      "execution_count": null,
      "outputs": []
    },
    {
      "cell_type": "code",
      "source": [
        "# Get the characters:\n",
        "\n",
        "# From: \"o\" in \"World!\" (position -5)\n",
        "\n",
        "# To, but not included: \"d\" in \"World!\" (position -2):\n",
        "\n",
        "Comment multiple lines using Ctrl + /\n",
        "# try it here\n",
        "\n",
        "# ALSO you can index negatively\n",
        "\n",
        "b = \"Hello, World!\"\n",
        "print(b[-5:-2])"
      ],
      "metadata": {
        "id": "tvXJ2m4LuoK4"
      },
      "execution_count": null,
      "outputs": []
    },
    {
      "cell_type": "markdown",
      "source": [
        "**Methods/Functions**"
      ],
      "metadata": {
        "id": "-SKx_BvevQgj"
      }
    },
    {
      "cell_type": "code",
      "source": [
        "a = \"Hello, World!\"\n",
        "\n",
        "# The upper() method returns the string in upper case:\n",
        "\n",
        "print(a.upper())"
      ],
      "metadata": {
        "id": "i-qPauhGvYlh"
      },
      "execution_count": null,
      "outputs": []
    },
    {
      "cell_type": "code",
      "source": [
        "# The lower() method returns the string in lower case:\n",
        "\n",
        "a = \"Hello, World!\"\n",
        "print(a.lower())\n",
        "\n"
      ],
      "metadata": {
        "id": "kei64YRsvdGd"
      },
      "execution_count": null,
      "outputs": []
    },
    {
      "cell_type": "code",
      "source": [
        "# The strip() method removes any whitespace from the beginning or the end:\n",
        "\n",
        "a = \" Hello, World! \"\n",
        "print(a.strip()) # returns \"Hello, World!\"\n"
      ],
      "metadata": {
        "id": "MHbdlU_avhOt"
      },
      "execution_count": null,
      "outputs": []
    },
    {
      "cell_type": "code",
      "source": [
        "# The replace() method replaces a string with another string:\n",
        "\n",
        "a = \"Hello, World!\"\n",
        "print(a.replace(\"H\", \"J\"))"
      ],
      "metadata": {
        "id": "YB5GXqYHvmeZ"
      },
      "execution_count": null,
      "outputs": []
    },
    {
      "cell_type": "code",
      "source": [
        "# The split() method splits the string into substrings if it finds instances of the separator:\n",
        "\n",
        "a = \"Hello, World!\"\n",
        "print(a.split(\",\")) # returns ['Hello', ' World!']\n",
        "\n",
        "# these last two are good examples of methods taking arguments"
      ],
      "metadata": {
        "id": "WODcIg2bvqpS"
      },
      "execution_count": null,
      "outputs": []
    },
    {
      "cell_type": "markdown",
      "source": [
        "To **concatenate**, or combine, two strings you can use the + operator."
      ],
      "metadata": {
        "id": "uMebED01wqVb"
      }
    },
    {
      "cell_type": "code",
      "source": [
        "# Merge variable a with variable b into variable c:\n",
        "\n",
        "a = \"Hello\"\n",
        "b = \"World\"\n",
        "c = a + b\n",
        "print(c)"
      ],
      "metadata": {
        "id": "Hjp875hEvrl1"
      },
      "execution_count": null,
      "outputs": []
    },
    {
      "cell_type": "code",
      "source": [
        "# To add a space between them, add a \" \":\n",
        "\n",
        "a = \"Hello\"\n",
        "b = \"World\"\n",
        "c = a + \" \" + b\n",
        "print(c)"
      ],
      "metadata": {
        "id": "GHwQN9JnwwSO"
      },
      "execution_count": null,
      "outputs": []
    },
    {
      "cell_type": "markdown",
      "source": [
        "**String Format**\n",
        "\n",
        "As we learned in the Python Variables chapter, we cannot combine strings and numbers like this:\n",
        "\n",
        "This is another syntax question\n",
        "\n"
      ],
      "metadata": {
        "id": "fxs56iVlw5QB"
      }
    },
    {
      "cell_type": "code",
      "source": [
        "age = 36\n",
        "txt = \"My name is John, I am \" + age\n",
        "print(txt)\n",
        "\n",
        "# let's also look at the error messages"
      ],
      "metadata": {
        "id": "shhG6IPL0VIM"
      },
      "execution_count": null,
      "outputs": []
    },
    {
      "cell_type": "markdown",
      "source": [
        "But we can combine strings and numbers by using the format() method!\n",
        "\n",
        "The format() method takes the passed arguments, formats them, and places them in the string where the placeholders {} are:"
      ],
      "metadata": {
        "id": "vq9e-Oij0dTy"
      }
    },
    {
      "cell_type": "code",
      "source": [
        "age = 36\n",
        "txt = \"My name is John, and I am {}\"\n",
        "print(txt.format(age))"
      ],
      "metadata": {
        "id": "qpQWRM-00ca8"
      },
      "execution_count": null,
      "outputs": []
    },
    {
      "cell_type": "code",
      "source": [
        "quantity = 3\n",
        "itemno = 567\n",
        "price = 49.95\n",
        "myorder = \"I want {} pieces of item {} for {} dollars.\"\n",
        "print(myorder.format(quantity, itemno, price))"
      ],
      "metadata": {
        "id": "BnI08HVU0h2-"
      },
      "execution_count": null,
      "outputs": []
    },
    {
      "cell_type": "markdown",
      "source": [
        "You can use index numbers {0} to be sure the arguments are placed in the correct placeholders:"
      ],
      "metadata": {
        "id": "0SeG6ufu0lDp"
      }
    },
    {
      "cell_type": "code",
      "source": [
        "quantity = 3\n",
        "itemno = 567\n",
        "price = 49.95\n",
        "myorder = \"I want to pay {2} dollars for {0} pieces of item {1}.\"\n",
        "print(myorder.format(quantity, itemno, price))"
      ],
      "metadata": {
        "id": "F2jRW7ci0jHs"
      },
      "execution_count": null,
      "outputs": []
    },
    {
      "cell_type": "markdown",
      "source": [
        "**Escape Character**\n",
        "\n",
        "To insert characters that are illegal in a string, use an escape character.\n",
        "\n",
        "An escape character is a backslash \\ followed by the character you want to insert.\n",
        "\n",
        "An example of an illegal character is a double quote inside a string that is surrounded by double quotes:"
      ],
      "metadata": {
        "id": "qDkma9ph0ujT"
      }
    },
    {
      "cell_type": "code",
      "source": [
        "txt = \"We are the so-called \"Vikings\" from the north.\""
      ],
      "metadata": {
        "id": "vZgZ1Hx80uAp"
      },
      "execution_count": null,
      "outputs": []
    },
    {
      "cell_type": "markdown",
      "source": [
        "To fix this problem, use the escape character \\\":"
      ],
      "metadata": {
        "id": "Zt3OVXKn0yhp"
      }
    },
    {
      "cell_type": "code",
      "source": [
        "txt = \"We are the so-called \\\"Vikings\\\" from the north.\""
      ],
      "metadata": {
        "id": "DiGmsaMq00Xs"
      },
      "execution_count": null,
      "outputs": []
    },
    {
      "cell_type": "markdown",
      "source": [
        "Other Escape characters"
      ],
      "metadata": {
        "id": "q2JFX6AD1DHI"
      }
    },
    {
      "cell_type": "markdown",
      "source": [
        "![image.png](data:image/png;base64,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)"
      ],
      "metadata": {
        "id": "X-DBbcIt1CCy"
      }
    },
    {
      "cell_type": "markdown",
      "source": [
        "Try All of them one by one below"
      ],
      "metadata": {
        "id": "ngs_y8Rr1eyl"
      }
    },
    {
      "cell_type": "code",
      "source": [
        "# txt = 'It\\'s alright.'\n",
        "# print(txt)\n",
        "\n",
        "# txt = \"This will insert one \\\\ (backslash).\"\n",
        "# print(txt)\n",
        "\n",
        "# txt = \"Hello\\nWorld!\"\n",
        "# print(txt)\n",
        "\n",
        "# txt = \"Hello\\rWorld!\"\n",
        "# print(txt)\n",
        "\n",
        "# txt = \"Hello\\tWorld!\"\n",
        "# print(txt)\n",
        "\n",
        "# #This example erases one character (backspace):\n",
        "# txt = \"Hello \\bWorld!\"\n",
        "# print(txt)\n",
        "\n",
        "# #A backslash followed by three integers will result in a octal value:\n",
        "# txt = \"\\110\\145\\154\\154\\157\"\n",
        "# print(txt)\n",
        "\n",
        "# #A backslash followed by an 'x' and a hex number represents a hex value:\n",
        "# txt = \"\\x48\\x65\\x6c\\x6c\\x6f\"\n",
        "# print(txt)\n",
        "\n"
      ],
      "metadata": {
        "id": "kNw_0ecz03Ls"
      },
      "execution_count": null,
      "outputs": []
    },
    {
      "cell_type": "markdown",
      "source": [
        "### **List of String Methods you should Try**\n",
        "\n",
        "\n"
      ],
      "metadata": {
        "id": "1zKOnTkX1uDV"
      }
    },
    {
      "cell_type": "markdown",
      "source": [
        "\n",
        "\n",
        "\n",
        "capitalize()\tConverts the first character to\n",
        "upper case\n",
        "\n",
        "casefold()\tConverts string into lower case\n",
        "\n",
        "center()\tReturns a centered string\n",
        "\n",
        "count()\tReturns the number of times a specified value occurs in a string\n",
        "\n",
        "encode()\tReturns an encoded version of the string\n",
        "\n",
        "endswith()\tReturns true if the string ends with the specified value\n",
        "\n",
        "expandtabs()\tSets the tab size of the string\n",
        "\n",
        "find()\tSearches the string for a specified value and returns the position of where it was found\n",
        "\n",
        "format()\tFormats specified values in a string\n",
        "\n",
        "format_map()\tFormats specified values in a string\n",
        "\n",
        "index()\tSearches the string for a specified value and returns the position of where it was found\n",
        "\n",
        "isalnum()\tReturns True if all characters in the string are alphanumeric\n",
        "\n",
        "isalpha()\tReturns True if all characters in the string are in the alphabet\n",
        "\n",
        "isascii()\tReturns True if all characters in the string are ascii characters\n",
        "\n",
        "isdecimal()\tReturns True if all characters in the string are decimals\n",
        "\n",
        "isdigit()\tReturns True if all characters in the string are digits\n",
        "\n",
        "isidentifier()\tReturns True if the string is an identifier\n",
        "\n",
        "islower()\tReturns True if all characters in the string are lower case\n",
        "\n",
        "isnumeric()\tReturns True if all characters in the string are numeric\n",
        "\n",
        "isprintable()\tReturns True if all characters in the string are printable\n",
        "\n",
        "isspace()\tReturns True if all characters in the string are whitespaces\n",
        "\n",
        "istitle()\tReturns True if the string follows the rules of a title\n",
        "\n",
        "isupper()\tReturns True if all characters in the string are upper case\n",
        "\n",
        "join()\tJoins the elements of an iterable to the end of the string\n",
        "\n",
        "ljust()\tReturns a left justified version of the string\n",
        "\n",
        "lower()\tConverts a string into lower case\n",
        "\n",
        "lstrip()\tReturns a left trim version of the string\n",
        "\n",
        "maketrans()\tReturns a translation table to be used in translations\n",
        "\n",
        "partition()\tReturns a tuple where the string is parted into three parts\n",
        "\n",
        "replace()\tReturns a string where a specified value is replaced with a specified value\n",
        "\n",
        "rfind()\tSearches the string for a specified value and returns the last position of where it was found\n",
        "\n",
        "rindex()\tSearches the string for a specified value and returns the last position of where it was found\n",
        "\n",
        "rjust()\tReturns a right justified version of the string\n",
        "\n",
        "rpartition()\tReturns a tuple where the string is parted into three parts\n",
        "\n",
        "rsplit()\tSplits the string at the specified separator, and returns a list\n",
        "\n",
        "rstrip()\tReturns a right trim version of the string\n",
        "\n",
        "split()\tSplits the string at the specified separator, and returns a list\n",
        "\n",
        "splitlines()\tSplits the string at line breaks and returns a list\n",
        "\n",
        "startswith()\tReturns true if the string starts with the specified value\n",
        "\n",
        "strip()\tReturns a trimmed version of the string\n",
        "\n",
        "swapcase()\tSwaps cases, lower case becomes upper case and vice versa\n",
        "\n",
        "title()\tConverts the first character of each word to upper case\n",
        "\n",
        "translate()\tReturns a translated string\n",
        "\n",
        "upper()\tConverts a string into upper case\n",
        "\n",
        "zfill()\tFills the string with a specified number of 0 values at the beginning"
      ],
      "metadata": {
        "id": "egpepr_i2V0n"
      }
    },
    {
      "cell_type": "markdown",
      "source": [
        "## **Python Booleans**"
      ],
      "metadata": {
        "id": "4Yt2kFmv2191"
      }
    },
    {
      "cell_type": "markdown",
      "source": [
        "Booleans represent one of two values: True or False.\n",
        "\n",
        "In programming you often need to know if an expression is True or False.\n",
        "\n",
        "You can evaluate any expression in Python, and get one of two answers, True or False.\n",
        "\n",
        "When you compare two values, the expression is evaluated and Python returns the Boolean answer:"
      ],
      "metadata": {
        "id": "-t_URtXy29cr"
      }
    },
    {
      "cell_type": "code",
      "source": [
        "print(10 > 9)\n",
        "print(10 == 9)\n",
        "print(10 < 9)"
      ],
      "metadata": {
        "id": "TqaZT0c43Cav"
      },
      "execution_count": null,
      "outputs": []
    },
    {
      "cell_type": "code",
      "source": [
        "a = 200\n",
        "b = 33\n",
        "\n",
        "if b > a:\n",
        "  print(\"b is greater than a\")\n",
        "else:\n",
        "  print(\"b is not greater than a\")"
      ],
      "metadata": {
        "id": "d9viZOgc3GV8"
      },
      "execution_count": null,
      "outputs": []
    },
    {
      "cell_type": "markdown",
      "source": [
        "Evaluate Values and Variables\n",
        "The bool() function allows you to evaluate any value, and give you True or False in return,\n"
      ],
      "metadata": {
        "id": "pW2sDts13H2f"
      }
    },
    {
      "cell_type": "code",
      "source": [
        "print(bool(\"Hello\"))\n",
        "print(bool(15))"
      ],
      "metadata": {
        "id": "XD0vzRcC3KoC"
      },
      "execution_count": null,
      "outputs": []
    },
    {
      "cell_type": "code",
      "source": [
        "x = \"Hello\"\n",
        "y = 15\n",
        "\n",
        "print(bool(x))\n",
        "print(bool(y))\n"
      ],
      "metadata": {
        "id": "Yxi5CzNO3PAp"
      },
      "execution_count": null,
      "outputs": []
    },
    {
      "cell_type": "markdown",
      "source": [
        "**Most Values are True**\n",
        "\n",
        "Almost any value is evaluated to True if it has some sort of content.\n",
        "\n",
        "Any string is True, except empty strings.\n",
        "\n",
        "Any number is True, except 0.\n",
        "\n",
        "Any list, tuple, set, and dictionary are True, except empty ones."
      ],
      "metadata": {
        "id": "5t_XSEeO3UD6"
      }
    },
    {
      "cell_type": "code",
      "source": [
        "bool(\"abc\")\n",
        "bool(123)\n",
        "bool([\"apple\", \"cherry\", \"banana\"])"
      ],
      "metadata": {
        "id": "y9kp4WSN3XLt"
      },
      "execution_count": null,
      "outputs": []
    },
    {
      "cell_type": "markdown",
      "source": [
        "**Some Values are False**\n",
        "\n",
        "In fact, there are not many values that evaluate to False, except empty values, such as (), [], {}, \"\", the number 0, and the value None. And of course the value False evaluates to False."
      ],
      "metadata": {
        "id": "UtfShoKx3ZNt"
      }
    },
    {
      "cell_type": "code",
      "source": [
        "bool(False)\n",
        "bool(None)\n",
        "bool(0)\n",
        "bool(\"\")\n",
        "bool(())\n",
        "bool([])\n",
        "bool({})"
      ],
      "metadata": {
        "id": "cVT6QOWC3b-W"
      },
      "execution_count": null,
      "outputs": []
    },
    {
      "cell_type": "code",
      "source": [
        "def myFunction() :\n",
        "  return True\n",
        "\n",
        "print(myFunction()"
      ],
      "metadata": {
        "id": "SJe6XbGh3njb"
      },
      "execution_count": null,
      "outputs": []
    },
    {
      "cell_type": "code",
      "source": [
        "def myFunction() :\n",
        "  return True\n",
        "\n",
        "if myFunction():\n",
        "  print(\"YES!\")\n",
        "else:\n",
        "  print(\"NO!\")"
      ],
      "metadata": {
        "id": "FrZhmf6w3qiT"
      },
      "execution_count": null,
      "outputs": []
    },
    {
      "cell_type": "markdown",
      "source": [
        "## **Python Operators**"
      ],
      "metadata": {
        "id": "yZOK5dWB3xr6"
      }
    },
    {
      "cell_type": "markdown",
      "source": [
        "Operators are used to perform operations on variables and values.\n",
        "\n",
        "In the example below, we use the + operator to add together two values:"
      ],
      "metadata": {
        "id": "H2uBQtYw33hD"
      }
    },
    {
      "cell_type": "code",
      "source": [
        "print(10 + 5)"
      ],
      "metadata": {
        "id": "e_dSBsTP4Ba7"
      },
      "execution_count": null,
      "outputs": []
    },
    {
      "cell_type": "markdown",
      "source": [
        "Python divides the operators in the following groups:\n",
        "\n",
        "* Arithmetic operators\n",
        "* Assignment operators\n",
        "* Comparison operators\n",
        "* Logical operators\n",
        "* Identity operators\n",
        "* Membership operators\n",
        "* Bitwise operators"
      ],
      "metadata": {
        "id": "JF2sQL6w4DQ6"
      }
    },
    {
      "cell_type": "markdown",
      "source": [
        "Python Arithmetic Operators"
      ],
      "metadata": {
        "id": "bdi_hpid4UIb"
      }
    },
    {
      "cell_type": "markdown",
      "source": [
        "![image.png](data:image/png;base64,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)"
      ],
      "metadata": {
        "id": "WXcS4sWj4L9o"
      }
    },
    {
      "cell_type": "code",
      "source": [
        "# Please try all these here"
      ],
      "metadata": {
        "id": "dQQDC5lb4QZF"
      },
      "execution_count": null,
      "outputs": []
    },
    {
      "cell_type": "markdown",
      "source": [
        "Python Assignment Operators"
      ],
      "metadata": {
        "id": "8TF3actK4X4J"
      }
    },
    {
      "cell_type": "markdown",
      "source": [
        "![image.png](data:image/png;base64,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)"
      ],
      "metadata": {
        "id": "Yig590tE4g4P"
      }
    },
    {
      "cell_type": "code",
      "source": [
        "# please try all these here"
      ],
      "metadata": {
        "id": "onA3MIt14inl"
      },
      "execution_count": null,
      "outputs": []
    },
    {
      "cell_type": "markdown",
      "source": [
        "Python Comparison Operators"
      ],
      "metadata": {
        "id": "6ayDF9Hv4mSp"
      }
    },
    {
      "cell_type": "markdown",
      "source": [
        "![image.png](data:image/png;base64,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)"
      ],
      "metadata": {
        "id": "udcvv3lK4oE_"
      }
    },
    {
      "cell_type": "code",
      "source": [
        "# Please try all these here"
      ],
      "metadata": {
        "id": "VyNmM2EU4tCZ"
      },
      "execution_count": null,
      "outputs": []
    },
    {
      "cell_type": "markdown",
      "source": [
        "Python Logical Operators\n",
        "\n",
        "Logical operators are used to combine conditional statements:\n",
        "\n"
      ],
      "metadata": {
        "id": "fwZG2WIW4zvj"
      }
    },
    {
      "cell_type": "markdown",
      "source": [
        "![image.png](data:image/png;base64,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)"
      ],
      "metadata": {
        "id": "jq9nT-bS48zU"
      }
    },
    {
      "cell_type": "code",
      "source": [
        "# Please try all these here"
      ],
      "metadata": {
        "id": "3sAD0xCH5CGE"
      },
      "execution_count": null,
      "outputs": []
    },
    {
      "cell_type": "markdown",
      "source": [
        "Python Identity Operators\n",
        "\n",
        "Identity operators are used to compare the objects, not if they are equal, but if they are actually the same object, with the same memory location:\n",
        "\n",
        "\n",
        "\n",
        "\n",
        "\n"
      ],
      "metadata": {
        "id": "TNW-Vly24-V5"
      }
    },
    {
      "cell_type": "markdown",
      "source": [
        "![image.png](data:image/png;base64,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)"
      ],
      "metadata": {
        "id": "PJpQqX355KwB"
      }
    },
    {
      "cell_type": "code",
      "source": [
        "# Please try all these here"
      ],
      "metadata": {
        "id": "roKVDEWO5NUu"
      },
      "execution_count": null,
      "outputs": []
    },
    {
      "cell_type": "markdown",
      "source": [
        "Python Membership Operators\n",
        "\n",
        "Membership operators are used to test if a sequence is presented in an object:"
      ],
      "metadata": {
        "id": "n1euuHsh5OuH"
      }
    },
    {
      "cell_type": "markdown",
      "source": [
        "![image.png](data:image/png;base64,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)"
      ],
      "metadata": {
        "id": "iGjk3yCn5Wjz"
      }
    },
    {
      "cell_type": "markdown",
      "source": [
        "**Operator Precedence**\n",
        "\n",
        "Operator precedence describes the order in which operations are performed.\n",
        "\n"
      ],
      "metadata": {
        "id": "Fux1AJAf5bxd"
      }
    },
    {
      "cell_type": "markdown",
      "source": [
        "![image.png](data:image/png;base64,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)"
      ],
      "metadata": {
        "id": "sjEj6vlk5ivl"
      }
    },
    {
      "cell_type": "code",
      "source": [
        "print(5 + 4 - 7 + 3)"
      ],
      "metadata": {
        "id": "D-DZtu_B5ljN"
      },
      "execution_count": null,
      "outputs": []
    },
    {
      "cell_type": "code",
      "source": [
        "print((6 + 3) - (6 + 3))"
      ],
      "metadata": {
        "id": "2sCBtVhp5mH-"
      },
      "execution_count": null,
      "outputs": []
    },
    {
      "cell_type": "code",
      "source": [
        "print(100 + 5 * 3)"
      ],
      "metadata": {
        "id": "vfwrIBGK5oJp"
      },
      "execution_count": null,
      "outputs": []
    },
    {
      "cell_type": "markdown",
      "source": [
        "## **Python Lists**"
      ],
      "metadata": {
        "id": "Q8XDetea5sEq"
      }
    },
    {
      "cell_type": "code",
      "source": [
        "mylist = [\"apple\", \"banana\", \"cherry\"]"
      ],
      "metadata": {
        "id": "LaeqEs0F6kpx"
      },
      "execution_count": null,
      "outputs": []
    },
    {
      "cell_type": "markdown",
      "source": [
        "\n",
        "Lists are used to store multiple items in a single variable.\n",
        "\n",
        "Lists are one of 4 built-in data types in Python used to store collections of data, the other 3 are Tuple, Set, and Dictionary, all with different qualities and usage.\n",
        "\n",
        "Lists are created using square brackets:"
      ],
      "metadata": {
        "id": "H5HfnF9Y6g7a"
      }
    },
    {
      "cell_type": "code",
      "source": [
        "# You can create a list in two ways\n",
        "# using the brackets []\n",
        "# using the list method\n",
        "\n",
        "\n",
        "thislist = [\"apple\", \"banana\", \"cherry\"]\n",
        "\n",
        "print(thislist)"
      ],
      "metadata": {
        "id": "iHnJJz536pYH"
      },
      "execution_count": null,
      "outputs": []
    },
    {
      "cell_type": "markdown",
      "source": [
        "List items are **ordered, changeable, and allow duplicate values.**\n",
        "\n",
        "List items are indexed, the first item has index [0], the second item has index [1] etc.\n",
        "\n",
        "When we say that lists are ordered, it means that the items have a defined order, and that order will not change.\n",
        "\n",
        "If you add new items to a list, the new items will be placed at the end of the list.\n",
        "\n",
        "The list is changeable, meaning that we can change, add, and remove items in a list after it has been created.\n",
        "\n",
        "Since lists are indexed, lists can have items with the same value:\n",
        "\n"
      ],
      "metadata": {
        "id": "n5P3-PB668MP"
      }
    },
    {
      "cell_type": "code",
      "source": [
        "thislist = [\"apple\", \"banana\", \"cherry\", \"apple\", \"cherry\"]\n",
        "print(thislist)"
      ],
      "metadata": {
        "id": "kFRUwDpn654w"
      },
      "execution_count": null,
      "outputs": []
    },
    {
      "cell_type": "code",
      "source": [
        "thislist = [\"apple\", \"banana\", \"cherry\"]\n",
        "print(len(thislist))\n",
        "\n",
        "# list length"
      ],
      "metadata": {
        "id": "idOYzvjD7Q6C"
      },
      "execution_count": null,
      "outputs": []
    },
    {
      "cell_type": "code",
      "source": [
        "list1 = [\"apple\", \"banana\", \"cherry\"]\n",
        "list2 = [1, 5, 7, 9, 3]\n",
        "list3 = [True, False, False]\n",
        "\n",
        "# list items can be of any type\n"
      ],
      "metadata": {
        "id": "h1JOX2jD7T8n"
      },
      "execution_count": null,
      "outputs": []
    },
    {
      "cell_type": "code",
      "source": [
        "list1 = [\"abc\", 34, True, 40, \"male\"]"
      ],
      "metadata": {
        "id": "haRXo12r7ZPt"
      },
      "execution_count": null,
      "outputs": []
    },
    {
      "cell_type": "code",
      "source": [
        "mylist = [\"apple\", \"banana\", \"cherry\"]\n",
        "print(type(mylist))"
      ],
      "metadata": {
        "id": "Vx1U0yjZ7a63"
      },
      "execution_count": null,
      "outputs": []
    },
    {
      "cell_type": "code",
      "source": [
        "# other way to make a list\n",
        "\n",
        "thislist = list((\"apple\", \"banana\", \"cherry\")) # note the double round-brackets\n",
        "print(thislist)"
      ],
      "metadata": {
        "id": "VK-fLeE77ceN"
      },
      "execution_count": null,
      "outputs": []
    },
    {
      "cell_type": "markdown",
      "source": [
        "**Python Collections (Arrays)**\n",
        "\n",
        "There are four collection data types in the Python programming language:\n",
        "\n",
        "List is a collection which is ordered and changeable. Allows duplicate members.\n",
        "\n",
        "Tuple is a collection which is ordered and unchangeable. Allows duplicate members.\n",
        "\n",
        "Set is a collection which is unordered, unchangeable*, and unindexed. No duplicate members.\n",
        "\n",
        "Dictionary is a collection which is ordered** and changeable. No duplicate members.\n",
        "\n",
        "We will review all of them"
      ],
      "metadata": {
        "id": "4nlhiQdT7kKE"
      }
    },
    {
      "cell_type": "code",
      "source": [
        "# use what you learned about accessing stings to see about accessing lists\n",
        "# include negative indexing\n",
        "# include ranges\n",
        "# include slices\n"
      ],
      "metadata": {
        "id": "xy2LDT0v7sZn"
      },
      "execution_count": null,
      "outputs": []
    },
    {
      "cell_type": "code",
      "source": [
        "# change a list value"
      ],
      "metadata": {
        "id": "S_PwrsuJ79x7"
      },
      "execution_count": null,
      "outputs": []
    },
    {
      "cell_type": "code",
      "source": [
        "# change a range of values\n"
      ],
      "metadata": {
        "id": "KgITk0Wh8A8H"
      },
      "execution_count": null,
      "outputs": []
    },
    {
      "cell_type": "code",
      "source": [
        "# change the second value replacing it with two value"
      ],
      "metadata": {
        "id": "C53irczn8K9z"
      },
      "execution_count": null,
      "outputs": []
    },
    {
      "cell_type": "code",
      "source": [
        "# change two values replacing it with one value"
      ],
      "metadata": {
        "id": "LldvVZbW8QOx"
      },
      "execution_count": null,
      "outputs": []
    },
    {
      "cell_type": "code",
      "source": [
        "# To add an item to the end of the list, use the append() method:\n",
        "\n",
        "thislist = [\"apple\", \"banana\", \"cherry\"]\n",
        "thislist.append(\"orange\")\n",
        "print(thislist)"
      ],
      "metadata": {
        "id": "WR6IfjWJ8WUj"
      },
      "execution_count": null,
      "outputs": []
    },
    {
      "cell_type": "code",
      "source": [
        "# To insert a list item at a specified index, use the insert() method.\n",
        "\n",
        "# The insert() method inserts an item at the specified index:\n",
        "\n",
        "thislist = [\"apple\", \"banana\", \"cherry\"]\n",
        "thislist.insert(1, \"orange\")\n",
        "print(thislist)"
      ],
      "metadata": {
        "id": "ItC7sYXp8a-E"
      },
      "execution_count": null,
      "outputs": []
    },
    {
      "cell_type": "code",
      "source": [
        "# To append elements from another list to the current list, use the extend() method.\n",
        "\n",
        "thislist = [\"apple\", \"banana\", \"cherry\"]\n",
        "tropical = [\"mango\", \"pineapple\", \"papaya\"]\n",
        "thislist.extend(tropical)\n",
        "print(thislist)\n"
      ],
      "metadata": {
        "id": "9oOJgf9k8f7h"
      },
      "execution_count": null,
      "outputs": []
    },
    {
      "cell_type": "code",
      "source": [
        "# The remove() method removes the specified item.\n",
        "\n",
        "\n",
        "thislist = [\"apple\", \"banana\", \"cherry\"]\n",
        "thislist.remove(\"banana\")\n",
        "print(thislist)"
      ],
      "metadata": {
        "id": "oxbtI3Of8nAp"
      },
      "execution_count": null,
      "outputs": []
    },
    {
      "cell_type": "code",
      "source": [
        "# The pop() method removes the specified index.\n",
        "\n",
        "thislist = [\"apple\", \"banana\", \"cherry\"]\n",
        "thislist.pop(1)\n",
        "print(thislist)\n",
        "\n",
        "# The del keyword also removes the specified index:\n",
        "# try that next\n",
        "# also try deleting the entire list"
      ],
      "metadata": {
        "id": "JXF_lcPg8vU7"
      },
      "execution_count": null,
      "outputs": []
    },
    {
      "cell_type": "code",
      "source": [
        "# The clear() method empties the list.\n",
        "\n",
        "thislist = [\"apple\", \"banana\", \"cherry\"]\n",
        "thislist.clear()\n",
        "print(thislist)"
      ],
      "metadata": {
        "id": "E2BHiEOH87O7"
      },
      "execution_count": null,
      "outputs": []
    },
    {
      "cell_type": "code",
      "source": [
        "# Join two lists\n",
        "\n",
        "thislist = [\"apple\", \"banana\", \"cherry\"]\n",
        "thislist.clear()\n",
        "\n",
        "print(thislist)"
      ],
      "metadata": {
        "id": "Qx6jAxRG9A2U"
      },
      "execution_count": null,
      "outputs": []
    },
    {
      "cell_type": "code",
      "source": [
        "# Append list2 into list1:\n",
        "\n",
        "list1 = [\"a\", \"b\" , \"c\"]\n",
        "list2 = [1, 2, 3]\n",
        "\n",
        "for x in list2:\n",
        "  list1.append(x)\n",
        "\n",
        "print(list1)"
      ],
      "metadata": {
        "id": "xb1_aqlZ9Egk"
      },
      "execution_count": null,
      "outputs": []
    },
    {
      "cell_type": "markdown",
      "source": [
        "List Methods"
      ],
      "metadata": {
        "id": "_2dPH3gn9J01"
      }
    },
    {
      "cell_type": "markdown",
      "source": [
        "![image.png](data:image/png;base64,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)"
      ],
      "metadata": {
        "id": "onhMI0Ew9Odl"
      }
    },
    {
      "cell_type": "markdown",
      "source": [
        "\n",
        "# Day 1 Homework Problems\n",
        "\n",
        "Silly case\n",
        "\n",
        "Dash stringify\n",
        "\n",
        "is perfect square\n",
        "\n",
        "is leap year\n",
        "\n",
        "90 introduction questions See how many you can complete based on our lesson"
      ],
      "metadata": {
        "id": "FlHkiOyGIL9R"
      }
    }
  ]
}