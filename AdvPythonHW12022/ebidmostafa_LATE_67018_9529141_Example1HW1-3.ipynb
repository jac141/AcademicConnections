{
  "nbformat": 4,
  "nbformat_minor": 0,
  "metadata": {
    "colab": {
      "name": "Example1HW1.ipynb",
      "provenance": [],
      "collapsed_sections": []
    },
    "kernelspec": {
      "name": "python3",
      "display_name": "Python 3"
    },
    "language_info": {
      "name": "python"
    }
  },
  "cells": [
    {
      "cell_type": "markdown",
      "source": [
        "Example 1: HW1 Such that count letter accepts positional arguments"
      ],
      "metadata": {
        "id": "dQebh13jgROf"
      }
    },
    {
      "cell_type": "code",
      "execution_count": null,
      "metadata": {
        "id": "XkiIrjjogLGr"
      },
      "outputs": [],
      "source": [
        "# Example 1: HW1 Such that count letter accepts positional arguments\n",
        "def count_letter(word, charA, charC, charG, charT) :\n",
        "    countA = 0\n",
        "    countC = 0\n",
        "    countG = 0\n",
        "    countT = 0\n",
        "    if len(word) > 1000:\n",
        "        return \"DNA String is too long\"\n",
        "    else:\n",
        "        for A in word:\n",
        "            countA += (charA == A)\n",
        "        for C in word:\n",
        "            countC += (charC == C)\n",
        "        for G in word:\n",
        "            countG += (charG == G)\n",
        "        for T in word:\n",
        "            countT += (charT == T)\n",
        "        return countA, countC, countG, countT\n",
        "    \n",
        "DNA_String_1 = \"AGCTTTTCATTCTGACTGCAACGGGCAATATGTCTCTGTGTGGATTAAAAAAAGAGTGTCTGATAGCAGC\"\n",
        "\n",
        "print(count_letter(DNA_String_1, \"A\", \"C\", \"T\", \"G\"))\n",
        "\n",
        "# I added \" \" to A, C, T, G in line 21 for the count_letter function to work"
      ]
    }
  ]
}