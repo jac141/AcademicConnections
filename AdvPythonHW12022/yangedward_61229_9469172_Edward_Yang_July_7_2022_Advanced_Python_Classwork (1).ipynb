{
  "nbformat": 4,
  "nbformat_minor": 0,
  "metadata": {
    "colab": {
      "name": "Edward Yang July 7 2022 Advanced Python Classwork.ipynb",
      "provenance": []
    },
    "kernelspec": {
      "name": "python3",
      "display_name": "Python 3"
    },
    "language_info": {
      "name": "python"
    }
  },
  "cells": [
    {
      "cell_type": "markdown",
      "source": [
        "Day 1 Problem 1"
      ],
      "metadata": {
        "id": "0g18QXepm914"
      }
    },
    {
      "cell_type": "code",
      "source": [
        "def count_nucleotides (s):\n",
        "  if (len(s) > 1000):\n",
        "    print (\"Too long\")\n",
        "  else:\n",
        "    return (s.count(\"A\"), s.count(\"C\"), s  .count(\"G\"), s.count(\"T\"))\n",
        "\n",
        "print (count_nucleotides(\"AGCTTTTCATTCTGACTGCAACGGGCAATATGTCTCTGTGTGGATTAAAAAAAGAGTGTCTGATAGCAGC\"))"
      ],
      "metadata": {
        "colab": {
          "base_uri": "https://localhost:8080/"
        },
        "id": "cx7FAG0irQsS",
        "outputId": "4147c9ee-d0b9-4770-84fa-991f6f19a8fc"
      },
      "execution_count": null,
      "outputs": [
        {
          "output_type": "stream",
          "name": "stdout",
          "text": [
            "(20, 12, 17, 21)\n"
          ]
        }
      ]
    },
    {
      "cell_type": "markdown",
      "source": [
        "Problem 2"
      ],
      "metadata": {
        "id": "5heeanCbCqns"
      }
    },
    {
      "cell_type": "code",
      "source": [
        "def count_words (s):\n",
        "  if (len(s) > 10000):\n",
        "    print (\"Too long!\")\n",
        "  else:\n",
        "    checked, words, answer = [], s.split(\" \"), \"\"\n",
        "    for word in words:\n",
        "      if (word not in checked):\n",
        "        answer = answer + word + \": \" + str (s.count(word)) + \"\\n\"\n",
        "        checked.append(word)\n",
        "    return (answer)\n",
        "print (count_words (\"We tried list and we tried dicts also we tried Zen\"))"
      ],
      "metadata": {
        "colab": {
          "base_uri": "https://localhost:8080/"
        },
        "id": "JITXXFSmwhkf",
        "outputId": "64b1655b-1c47-40cb-8e95-541e1c421faa"
      },
      "execution_count": null,
      "outputs": [
        {
          "output_type": "stream",
          "name": "stdout",
          "text": [
            "We: 1\n",
            "tried: 3\n",
            "list: 1\n",
            "and: 1\n",
            "we: 2\n",
            "dicts: 1\n",
            "also: 1\n",
            "Zen: 1\n",
            "\n"
          ]
        }
      ]
    },
    {
      "cell_type": "markdown",
      "source": [
        "Problem 3"
      ],
      "metadata": {
        "id": "1crVgM1-01bV"
      }
    },
    {
      "cell_type": "code",
      "source": [
        "import heapq\n",
        "\n",
        "def heap_sort (A: list):\n",
        "  i, ans = len(A) - 1, []\n",
        "  heapq._heapify_max(A)\n",
        "  while (i >= 0):\n",
        "    A[0], A[i] = A[i], A[0]\n",
        "    ans.append(A.pop(len(A) - 1))\n",
        "    heapq.heapify(A)\n",
        "    i -= 1\n",
        "  ans.append(ans.pop(0))\n",
        "  return (ans)\n",
        "\n",
        "print (heap_sort([2, 6, 7, 1, 3, 5, 4, 8, 9]))\n",
        "#print (heap_sort([45, 79, 29, 62, 43, 71, 100]))"
      ],
      "metadata": {
        "id": "GiEhCIOh0Yim",
        "colab": {
          "base_uri": "https://localhost:8080/"
        },
        "outputId": "22d8fd48-af3c-4bec-f445-efc15790df1e"
      },
      "execution_count": null,
      "outputs": [
        {
          "output_type": "stream",
          "name": "stdout",
          "text": [
            "[1, 2, 3, 4, 5, 6, 7, 8, 9]\n"
          ]
        }
      ]
    },
    {
      "cell_type": "markdown",
      "source": [
        "Problem 4"
      ],
      "metadata": {
        "id": "J7Vf9qfVCuIz"
      }
    },
    {
      "cell_type": "code",
      "source": [
        "def interview (l: list, i: int):\n",
        "  if (len(l) < 8):\n",
        "    return (\"disqualified\")\n",
        "  if (l[0] <= 5 and l[1] <= 5 and l[2] <= 10 and l[3] <= 10 and l[4] <= 15 and l[5] <= 15 and l[6] <= 20 and l[7] <= 20 and i <= 120):\n",
        "    return (\"qualified\")\n",
        "  return (\"disqualified\")\n",
        "\n",
        "print(interview([5,5,10,10,15,15,20,20],120))\n",
        "print(interview([3,2,6,5,12,15,20,18],68))\n",
        "print(interview([5,5,10,10,25,15,20,20],120))\n",
        "print(interview([5,5,10,10,15,15,20],100))"
      ],
      "metadata": {
        "id": "dZHS6W4NWSSI",
        "colab": {
          "base_uri": "https://localhost:8080/"
        },
        "outputId": "536ba439-8da1-4627-b1a0-28905dce143a"
      },
      "execution_count": null,
      "outputs": [
        {
          "output_type": "stream",
          "name": "stdout",
          "text": [
            "qualified\n",
            "qualified\n",
            "disqualified\n",
            "disqualified\n"
          ]
        }
      ]
    }
  ]
}