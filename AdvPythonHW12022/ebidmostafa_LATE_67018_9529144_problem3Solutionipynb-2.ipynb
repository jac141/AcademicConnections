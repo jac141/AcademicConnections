{
  "nbformat": 4,
  "nbformat_minor": 0,
  "metadata": {
    "colab": {
      "name": "problem3Solutionipynb",
      "provenance": []
    },
    "kernelspec": {
      "name": "python3",
      "display_name": "Python 3"
    },
    "language_info": {
      "name": "python"
    }
  },
  "cells": [
    {
      "cell_type": "code",
      "execution_count": null,
      "metadata": {
        "id": "3Be12DbrcbEc"
      },
      "outputs": [],
      "source": [
        "import heapq\n",
        "\n",
        "def heapSortPreparation():\n",
        "  unsorted_array = []\n",
        "  num_length = int(input(\"Please enter the number of integers which you would like to sort. \"))\n",
        "  while num_length >105 or num_length <= 1:\n",
        "    print(\"Invalid input - the maximum number of integers which you can sort is 105 and the minimum is 1. Please try again.\")\n",
        "    num_length = int(input(\"Please enter the number of integers which you would like to sort. \"))\n",
        "  for i in range(num_length):\n",
        "    item = int(input(\"Please enter an integer which you would like to sort. \"))\n",
        "    while item < -105 or item > 105:\n",
        "      print(\"Evey integer must be between -105 and 105 - inlcuding the end points.\")\n",
        "      item = int(input(\"Please enter an integer which you would like to sort. \"))\n",
        "    unsorted_array.append(item)\n",
        "  return unsorted_array\n",
        "\n",
        "def heapSortExecute():\n",
        "  unsorted_array = heapSortPreparation()\n",
        "  sorted_array = []\n",
        "  for i in range(len(unsorted_array)):\n",
        "      heapq.heapify(unsorted_array)\n",
        "      sorted_array.append(unsorted_array[0])\n",
        "      unsorted_array[0] = unsorted_array[len(unsorted_array)-1]\n",
        "      unsorted_array.pop()\n",
        "  result = \" \".join(str(i) for i in sorted_array)\n",
        "  return result\n",
        "\n",
        "print(heapSortExecute())"
      ]
    }
  ]
}