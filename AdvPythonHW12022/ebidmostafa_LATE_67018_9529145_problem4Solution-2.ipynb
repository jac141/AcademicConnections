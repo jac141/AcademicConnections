{
  "nbformat": 4,
  "nbformat_minor": 0,
  "metadata": {
    "colab": {
      "name": "problem4Solution.ipynb",
      "provenance": []
    },
    "kernelspec": {
      "name": "python3",
      "display_name": "Python 3"
    },
    "language_info": {
      "name": "python"
    }
  },
  "cells": [
    {
      "cell_type": "code",
      "execution_count": null,
      "metadata": {
        "id": "yvpWn6K9cRhK"
      },
      "outputs": [],
      "source": [
        "def interview(questionArray, totalTime):\n",
        "  if len(questionArray) != 8:\n",
        "    return \"disqualified\"\n",
        "  else:\n",
        "    if totalTime > 120:\n",
        "      return \"disqualified\"\n",
        "    else:\n",
        "      if questionArray[0] > 5 or questionArray[1] > 5:\n",
        "        return \"disqualified\"\n",
        "      elif questionArray[2] > 10 or questionArray[3] > 10:\n",
        "        return \"disqualified\"\n",
        "      elif questionArray[4] > 15 or questionArray[5] > 15:\n",
        "        return \"disqualified\"\n",
        "      elif questionArray[6] > 20 or questionArray[7] > 20:\n",
        "        return \"disqualified\"\n",
        "      else:\n",
        "        return \"qualified\"\n",
        "\n",
        "interview([5,5,10,10,15,15,20],100)"
      ]
    }
  ]
}