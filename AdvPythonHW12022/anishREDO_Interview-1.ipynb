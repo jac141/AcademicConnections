{
 "cells": [
  {
   "cell_type": "code",
   "execution_count": 2,
   "id": "ab78bbe2",
   "metadata": {},
   "outputs": [],
   "source": [
    "def interview(x,y):\n",
    "  Val = []\n",
    "  val = True\n",
    "  try:\n",
    "      if len(x) == 8:\n",
    "          Val.append(True)\n",
    "      else:\n",
    "          Val.append(False)\n",
    "\n",
    "      if 0 < y <= 120:\n",
    "          Val.append(True)\n",
    "      else:\n",
    "          Val.append(False)\n",
    "\n",
    "      if x[0] > 5 or x[1] > 5:\n",
    "          Val.append(False)\n",
    "      else:\n",
    "          Val.append(True)\n",
    "\n",
    "      if x[2] > 10 or x[3] > 10:\n",
    "          Val.append(False)\n",
    "      else:\n",
    "          Val.append(True)\n",
    "\n",
    "      if x[4] > 15 or x[5] > 15:\n",
    "          Val.append(False)\n",
    "      else:\n",
    "          Val.append(True)\n",
    "\n",
    "      if x[6] > 20 or x[7] > 20:\n",
    "          Val.append(False)\n",
    "      else:\n",
    "          Val.append(True)\n",
    "\n",
    "      for i in Val:\n",
    "          if i == False:\n",
    "              val = False\n",
    "              break\n",
    "  except:\n",
    "    val = False\n",
    "  if val == True:\n",
    "    return (\"qualified\")\n",
    "  elif val == False:\n",
    "    return (\"disqualified\")"
   ]
  },
  {
   "cell_type": "code",
   "execution_count": 3,
   "id": "deff550a",
   "metadata": {},
   "outputs": [
    {
     "name": "stdout",
     "output_type": "stream",
     "text": [
      "qualified\n",
      "qualified\n",
      "disqualified\n",
      "disqualified\n"
     ]
    }
   ],
   "source": [
    "print(interview([5,5,10,10,15,15,20,20],120))\n",
    "#qualified\n",
    "\n",
    "print(interview([3,2,6,5,12,15,20,18],68))\n",
    "#qualified\n",
    "\n",
    "print(interview([5,5,10,10,25,15,20,20],120))\n",
    "#disqualified\n",
    "#exceeded time limit for medium question\n",
    "\n",
    "print(interview([5,5,10,10,15,15,20],100))\n",
    "#disqualified\n",
    "#didnt answer all questions"
   ]
  },
  {
   "cell_type": "code",
   "execution_count": null,
   "id": "575f67cc",
   "metadata": {},
   "outputs": [],
   "source": []
  }
 ],
 "metadata": {
  "kernelspec": {
   "display_name": "Python 3 (ipykernel)",
   "language": "python",
   "name": "python3"
  },
  "language_info": {
   "codemirror_mode": {
    "name": "ipython",
    "version": 3
   },
   "file_extension": ".py",
   "mimetype": "text/x-python",
   "name": "python",
   "nbconvert_exporter": "python",
   "pygments_lexer": "ipython3",
   "version": "3.9.12"
  }
 },
 "nbformat": 4,
 "nbformat_minor": 5
}
