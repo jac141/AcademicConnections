{
 "cells": [
  {
   "cell_type": "markdown",
   "id": "0ff2643a-4a58-443c-a28b-c25ff99c31dd",
   "metadata": {},
   "source": [
    "PROBLEM #1 DAY#1 Advanced Topics in Python "
   ]
  },
  {
   "cell_type": "markdown",
   "id": "ed360291-2d35-4176-91ef-9fe081701a25",
   "metadata": {},
   "source": [
    "Problem:\n",
    "\n",
    "A string is simply an ordered collection of symbols selected from some alphabet and formed into a word; the length of a string is the number of symbols that it contains.\n",
    "\n",
    "An example of a length 21 DNA string (whose alphabet contains the symbols 'A', 'C', 'G', and 'T') is \"ATGCTTCAGAAAGGTCTTACG.\"\n",
    "\n",
    "Given: A DNA string s of length at most 1000 nt.\n",
    "\n",
    "Return: Four integers (separated by spaces) counting the respective number of times that the symbols 'A', 'C', 'G', and 'T' occur in s."
   ]
  },
  {
   "cell_type": "markdown",
   "id": "1470b36c-d088-4020-ace7-7f1dad6d0002",
   "metadata": {},
   "source": [
    "AGCTTTTCATTCTGACTGCAACGGGCAATATGTCTCTGTGTGGATTAAAAAAAGAGTGTCTGATAGCAGC"
   ]
  },
  {
   "cell_type": "markdown",
   "id": "8916215b-df8f-483d-a8dc-4955a5adaf94",
   "metadata": {},
   "source": [
    "Sample output \n",
    "\n",
    "20 12 17 21 "
   ]
  },
  {
   "cell_type": "markdown",
   "id": "9830bc5e-ba82-41af-b748-361464ef1a02",
   "metadata": {},
   "source": [
    "Example 1: HW1 Such that count letter accepts positional arguments"
   ]
  },
  {
   "cell_type": "code",
   "execution_count": 15,
   "id": "232d81f4-b7aa-44f3-9127-8cc70c00a2e4",
   "metadata": {},
   "outputs": [
    {
     "name": "stdout",
     "output_type": "stream",
     "text": [
      "20 12 17 21\n"
     ]
    }
   ],
   "source": [
    "def count_letter(word, charA, charC, charG, charT) :\n",
    "    countA = 0\n",
    "    countC = 0\n",
    "    countG = 0\n",
    "    countT = 0\n",
    "    if len(word) > 1000:\n",
    "        return \"DNA String is too long\"\n",
    "    else:\n",
    "        for A in word:\n",
    "            countA += (charA == A)\n",
    "        for C in word:\n",
    "            countC += (charC == C)\n",
    "        for G in word:\n",
    "            countG += (charG == G)\n",
    "        for T in word:\n",
    "            countT += (charT == T)\n",
    "        return countA, countC, countG, countT\n",
    "    \n",
    "DNA_String_1 = \"AGCTTTTCATTCTGACTGCAACGGGCAATATGTCTCTGTGTGGATTAAAAAAAGAGTGTCTGATAGCAGC\"\n",
    "\n",
    "countA, countC, countG, countT = count_letter(DNA_String_1, 'A', 'C', 'G', 'T')\n",
    "print(countA, countC, countG, countT)"
   ]
  },
  {
   "cell_type": "code",
   "execution_count": 6,
   "id": "954f62f5-0602-479b-a48d-53c387d5c8fa",
   "metadata": {},
   "outputs": [
    {
     "data": {
      "text/plain": [
       "70"
      ]
     },
     "execution_count": 6,
     "metadata": {},
     "output_type": "execute_result"
    }
   ],
   "source": [
    "DNA_String_1 = \"AGCTTTTCATTCTGACTGCAACGGGCAATATGTCTCTGTGTGGATTAAAAAAAGAGTGTCTGATAGCAGC\"\n",
    "len(DNA_String_1)\n"
   ]
  },
  {
   "cell_type": "markdown",
   "id": "1e1df24c-6f0a-4342-8844-91c5a91ace2c",
   "metadata": {},
   "source": [
    "Example 2"
   ]
  },
  {
   "cell_type": "code",
   "execution_count": 16,
   "id": "c9107c91-1004-4eea-b9fe-7e0c80a00791",
   "metadata": {},
   "outputs": [
    {
     "name": "stdout",
     "output_type": "stream",
     "text": [
      "20 12 17 21\n"
     ]
    }
   ],
   "source": [
    "def count_DNA(string):\n",
    "    if len(string) > 1000:\n",
    "        return \"DNA String is too long\"\n",
    "    else:\n",
    "        countA = string.count(\"A\")\n",
    "        countC = string.count(\"C\")\n",
    "        countG = string.count(\"G\")\n",
    "        countT = string.count(\"T\")\n",
    "        return countA, countC, countG, countT\n",
    "    \n",
    "DNA_String_1 = \"AGCTTTTCATTCTGACTGCAACGGGCAATATGTCTCTGTGTGGATTAAAAAAAGAGTGTCTGATAGCAGC\"\n",
    "\n",
    "countA, countC, countG, countT = count_DNA(DNA_String_1)\n",
    "print(countA, countC, countG, countT)"
   ]
  },
  {
   "cell_type": "markdown",
   "id": "e5344d68-da02-418a-8bb7-5a0346e3e8c7",
   "metadata": {},
   "source": [
    "Problem 2\n",
    "Given: A string s of length at most 10000 letters.\n",
    "\n",
    "Return: The number of occurrences of each word in s, where words are separated by spaces. Words are case-sensitive, and the lines in the output can be in any order."
   ]
  },
  {
   "cell_type": "markdown",
   "id": "40fdc2e7-df85-4b42-89af-dd341b6ccfcb",
   "metadata": {},
   "source": [
    "sample data sets\n",
    "\n",
    "1: We tried list and we tried dicts also we tried Zen\n",
    "2: the answer to the ultimate question of life, the universe, and everything.\n",
    "3: Only the value of the last key is returned, so we can technically use duplicate keys, but it’s not recommended because one of the strengths of dictionaries is to quickly retrieve a value associated with some key. If there are duplicates, we may return a value we didn’t want. Imagine that we look up for the meaning of the word \"data\" and find 10 different entries for this word in a dictionary; it may be confusing.\n",
    "\n",
    "\n"
   ]
  },
  {
   "cell_type": "code",
   "execution_count": 20,
   "id": "d38769c8-0862-452d-bd6c-e86f5a90a944",
   "metadata": {},
   "outputs": [],
   "source": [
    "def word_count(data):\n",
    "    s=data.split()\n",
    "    Rdic = {}\n",
    "    if len(s)< 1000:\n",
    "        for i in s:\n",
    "            if i not in Rdic:\n",
    "                Rdic[i] = 1\n",
    "            elif i in Rdic:\n",
    "                Rdic[i] += 1\n",
    "        return(Rdic)"
   ]
  },
  {
   "cell_type": "code",
   "execution_count": 90,
   "id": "221a5581-faee-416c-88ce-b05a459599f9",
   "metadata": {},
   "outputs": [
    {
     "name": "stdout",
     "output_type": "stream",
     "text": [
      "{'We': 1, 'tried': 3, 'list': 1, 'and': 1, 'we': 2, 'dicts': 1, 'also': 1, 'Zen': 1}\n",
      "\n",
      "{'the': 3, 'answer': 1, 'to': 1, 'ultimate': 1, 'question': 1, 'of': 1, 'life,': 1, 'universe,': 1, 'and': 1, 'everything.': 1}\n",
      "\n",
      "{'Only': 1, 'the': 5, 'value': 3, 'of': 4, 'last': 1, 'key': 1, 'is': 2, 'returned,': 1, 'so': 1, 'we': 4, 'can': 1, 'technically': 1, 'use': 1, 'duplicate': 1, 'keys,': 1, 'but': 1, 'it’s': 1, 'not': 1, 'recommended': 1, 'because': 1, 'one': 1, 'strengths': 1, 'dictionaries': 1, 'to': 1, 'quickly': 1, 'retrieve': 1, 'a': 3, 'associated': 1, 'with': 1, 'some': 1, 'key.': 1, 'If': 1, 'there': 1, 'are': 1, 'duplicates,': 1, 'may': 2, 'return': 1, 'didn’t': 1, 'want.': 1, 'Imagine': 1, 'that': 1, 'look': 1, 'up': 1, 'for': 2, 'meaning': 1, 'word': 2, '\"data\"': 1, 'and': 1, 'find': 1, '10': 1, 'different': 1, 'entries': 1, 'this': 1, 'in': 1, 'dictionary;': 1, 'it': 1, 'be': 1, 'confusing.': 1}\n"
     ]
    }
   ],
   "source": [
    "\n",
    "wc_dic = word_count('We tried list and we tried dicts also we tried Zen')\n",
    "print(wc_dic)\n",
    "print()\n",
    "wc_dic = word_count('the answer to the ultimate question of life, the universe, and everything.')\n",
    "print(wc_dic)\n",
    "print()\n",
    "wc_dic = word_count('Only the value of the last key is returned, so we can technically use duplicate keys, but it’s not recommended because one of the strengths of dictionaries is to quickly retrieve a value associated with some key. If there are duplicates, we may return a value we didn’t want. Imagine that we look up for the meaning of the word \"data\" and find 10 different entries for this word in a dictionary; it may be confusing.')\n",
    "print(wc_dic)"
   ]
  },
  {
   "cell_type": "markdown",
   "id": "b0d524b1-3458-4d9e-8bf3-df443a208aac",
   "metadata": {},
   "source": [
    "Problem 3\n",
    "The heap sort algorithm first transforms a given array into a max heap (recall the problem “Building a Heap”). It then repeats the following two simple steps n−1 times:\n",
    "\n",
    "Swap the last element of the heap with its root and decrease the size of the heap by 1.\n",
    "\"Sift-down\" the new root element to its proper place.\n",
    "Given: A positive integer n≤105 and an array A[1..n] of integers from −105 to 105.\n",
    "\n",
    "Return: A sorted array A."
   ]
  },
  {
   "cell_type": "markdown",
   "id": "e56d8373-0e70-4a28-9c98-13f717ce6f22",
   "metadata": {},
   "source": [
    "9\n",
    "2 6 7 1 3 5 4 8 9"
   ]
  },
  {
   "cell_type": "markdown",
   "id": "e4cf63d8-de54-49c6-9646-c77d53af60e5",
   "metadata": {},
   "source": [
    "1 2 3 4 5 6 7 8 9"
   ]
  },
  {
   "cell_type": "code",
   "execution_count": 69,
   "id": "d1fc6499-5a23-4d3b-9eb6-5a3b913c0f69",
   "metadata": {},
   "outputs": [],
   "source": [
    "import heapq\n",
    "def heapify(arr, n, i):\n",
    "      \n",
    "    largest = i  # Initialize largest as root\n",
    "    l = 2 * i + 1  # left = 2*i + 1\n",
    "    r = 2 * i + 2  # right = 2*i + 2\n",
    "  \n",
    "    # If left child is larger than root\n",
    "    if l < n and arr[l] > arr[largest]:\n",
    "        largest = l\n",
    "  \n",
    "    # If right child is larger than largest so far\n",
    "    if r < n and arr[r] > arr[largest]:\n",
    "        largest = r\n",
    "  \n",
    "    # If largest is not root\n",
    "    if largest != i:\n",
    "        arr[i], arr[largest] = arr[largest], arr[i]\n",
    "  \n",
    "        # Recursively heapify the affected sub-tree\n",
    "        heapify(arr, n, largest)\n",
    "  \n",
    "# Function to build a Max-Heap from the given array\n",
    "  \n",
    "  \n",
    "def buildHeap(arr, n):\n",
    "  \n",
    "    # Index of last non-leaf node\n",
    "    startIdx = n // 2 - 1\n",
    "  \n",
    "    # Perform reverse level order traversal\n",
    "    # from last non-leaf node and heapify\n",
    "    # each node\n",
    "    for i in range(startIdx, -1, -1):\n",
    "        heapify(arr, n, i)\n",
    "  \n",
    "# A utility function to print the array\n",
    "# representation of Heap\n",
    "  \n",
    "  \n",
    "def printHeap(arr, n):\n",
    "    print(\"Array representation of Heap is:\")\n",
    "  \n",
    "    for i in range(n):\n",
    "        print(arr[i], end=\" \")\n",
    "    print()\n",
    "       "
   ]
  },
  {
   "cell_type": "code",
   "execution_count": 77,
   "id": "f493586c-0830-47b4-95bf-b4ac811c6d14",
   "metadata": {},
   "outputs": [],
   "source": [
    "def heap_sort(x):\n",
    "    heapsize=len(x)\n",
    "    buildHeap(x,heapsize)\n",
    "    for i in range(len(x)-1):\n",
    "      x[0],x[heapsize-1] = x[heapsize-1],x[0]\n",
    "      heapsize=heapsize-1\n",
    "      buildHeap(x,heapsize)\n",
    "    return(x)"
   ]
  },
  {
   "cell_type": "code",
   "execution_count": 78,
   "id": "663c61be",
   "metadata": {},
   "outputs": [
    {
     "name": "stdout",
     "output_type": "stream",
     "text": [
      "Original\n",
      "[2, 6, 7, 1, 3, 5, 4, 8, 9]\n",
      "Sorted\n",
      "[1, 2, 3, 4, 5, 6, 7, 8, 9]\n"
     ]
    }
   ],
   "source": [
    "print(\"Original\")\n",
    "x = [2,6,7,1,3,5,4,8,9]\n",
    "print(x)\n",
    "# call heap_sort to sort the list\n",
    "heap_sort(x)\n",
    "print(\"Sorted\")\n",
    "print(x)"
   ]
  },
  {
   "cell_type": "code",
   "execution_count": null,
   "id": "39e87ff0-a951-4e3f-87d4-65594f4e1185",
   "metadata": {},
   "outputs": [],
   "source": [
    "Problem 4\n",
    "\n",
    "Create a function to check if a candidate is qualified in an imaginary coding interview of an imaginary tech start up\n",
    "\n",
    "The criteria for a candidate to be qualified in the coding interview is\n",
    "\n",
    "\n",
    "1. the candidate should have completed all the questions\n",
    "2. the max time given to the interview is 120 minutes\n",
    "3. the max time given for very easy questions is 5 min\n",
    "4. the max time given for an easy questions is 10 min\n",
    "5. the max time given for a medium question is 15 min\n",
    "6 the max time given for a hard question is 20 min\n",
    "\n",
    "if all the above criteria are met return qualified else return disqualified\n",
    "\n",
    "You will be given a list of time taken by a candidate to solve a particular question and the total interview time. \n",
    "\n",
    "\n",
    "given a list in a true condition will always be in the format [very easy, very easy, easy, easy, medium, medium, hard, hard]\n",
    "\n",
    "the max time to complete an interview incluede a buffer time of 20 minutes\n",
    "\n",
    "examples\n",
    "\n",
    "1 interview([5,5,10,10,15,15,20,20],120) \n",
    "qualified\n",
    "\n",
    "2 interview([3,2,6,5,12,15,20,18],68)\n",
    "qualified\n",
    "\n",
    "3 interview([5,5,10,10,25,15,20,20],120) \n",
    "disqualified\n",
    "#exceeded time limit for medium question\n",
    "\n",
    "4 interview([5,5,10,10,15,15,20],100) \n",
    "disqualified\n",
    "#didnt answer all questions"
   ]
  },
  {
   "cell_type": "code",
   "execution_count": 86,
   "id": "7393dbe7-566f-4c82-be8f-4e85bf395b26",
   "metadata": {},
   "outputs": [],
   "source": [
    "def interview(x,y):\n",
    "  Val = []\n",
    "  val = True\n",
    "  try:\n",
    "      if len(x) == 8:\n",
    "          Val.append(True)\n",
    "      else:\n",
    "          Val.append(False)\n",
    "\n",
    "      if 0 < y <= 120:\n",
    "          Val.append(True)\n",
    "      else:\n",
    "          Val.append(False)\n",
    "\n",
    "      if x[0] > 5 or x[1] > 5:\n",
    "          Val.append(False)\n",
    "      else:\n",
    "          Val.append(True)\n",
    "\n",
    "      if x[2] > 10 or x[3] > 10:\n",
    "          Val.append(False)\n",
    "      else:\n",
    "          Val.append(True)\n",
    "\n",
    "      if x[4] > 15 or x[5] > 15:\n",
    "          Val.append(False)\n",
    "      else:\n",
    "          Val.append(True)\n",
    "\n",
    "      if x[6] > 20 or x[7] > 20:\n",
    "          Val.append(False)\n",
    "      else:\n",
    "          Val.append(True)\n",
    "\n",
    "      for i in Val:\n",
    "          if i == False:\n",
    "              val = False\n",
    "              break\n",
    "  except:\n",
    "    val = False\n",
    "  if val == True:\n",
    "    return (\"qualified\")\n",
    "  elif val == False:\n",
    "    return (\"disqualified\")"
   ]
  },
  {
   "cell_type": "code",
   "execution_count": 88,
   "id": "1da53d9d-ff01-45ea-be52-6d364b99cc5f",
   "metadata": {},
   "outputs": [
    {
     "name": "stdout",
     "output_type": "stream",
     "text": [
      "qualified\n",
      "qualified\n",
      "disqualified\n",
      "disqualified\n"
     ]
    }
   ],
   "source": [
    "print(interview([5,5,10,10,15,15,20,20],120))\n",
    "#qualified\n",
    "\n",
    "print(interview([3,2,6,5,12,15,20,18],68))\n",
    "#qualified\n",
    "\n",
    "print(interview([5,5,10,10,25,15,20,20],120))\n",
    "#disqualified\n",
    "#exceeded time limit for medium question\n",
    "\n",
    "print(interview([5,5,10,10,15,15,20],100))\n",
    "#disqualified\n",
    "#didnt answer all questions"
   ]
  },
  {
   "cell_type": "code",
   "execution_count": null,
   "id": "9dd959ce",
   "metadata": {},
   "outputs": [],
   "source": []
  }
 ],
 "metadata": {
  "kernelspec": {
   "display_name": "Python 3",
   "language": "python",
   "name": "python3"
  },
  "language_info": {
   "codemirror_mode": {
    "name": "ipython",
    "version": 3
   },
   "file_extension": ".py",
   "mimetype": "text/x-python",
   "name": "python",
   "nbconvert_exporter": "python",
   "pygments_lexer": "ipython3",
   "version": "3.8.8"
  }
 },
 "nbformat": 4,
 "nbformat_minor": 5
}
