{
 "cells": [
  {
   "cell_type": "code",
   "execution_count": 1,
   "id": "c1a10f24",
   "metadata": {},
   "outputs": [
    {
     "name": "stdout",
     "output_type": "stream",
     "text": [
      ": He tried she tried they tried he tried\n",
      "{'He': 1, 'tried': 4, 'she': 1, 'they': 1, 'he': 1}\n"
     ]
    }
   ],
   "source": [
    "s= input(\": \")\n",
    "s=s.split()\n",
    "Rdic = {}\n",
    "if len(s)< 1000:\n",
    "    for i in s:\n",
    "        if i not in Rdic:\n",
    "            Rdic[i] = 1\n",
    "        elif i in Rdic:\n",
    "            Rdic[i] += 1\n",
    "    print(Rdic)"
   ]
  },
  {
   "cell_type": "code",
   "execution_count": null,
   "id": "bc6690b5",
   "metadata": {},
   "outputs": [],
   "source": []
  }
 ],
 "metadata": {
  "kernelspec": {
   "display_name": "Python 3",
   "language": "python",
   "name": "python3"
  },
  "language_info": {
   "codemirror_mode": {
    "name": "ipython",
    "version": 3
   },
   "file_extension": ".py",
   "mimetype": "text/x-python",
   "name": "python",
   "nbconvert_exporter": "python",
   "pygments_lexer": "ipython3",
   "version": "3.8.8"
  }
 },
 "nbformat": 4,
 "nbformat_minor": 5
}
