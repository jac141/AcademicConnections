{
  "metadata": {
    "language_info": {
      "codemirror_mode": {
        "name": "python",
        "version": 3
      },
      "file_extension": ".py",
      "mimetype": "text/x-python",
      "name": "python",
      "nbconvert_exporter": "python",
      "pygments_lexer": "ipython3",
      "version": "3.8"
    },
    "kernelspec": {
      "name": "python",
      "display_name": "Python (Pyodide)",
      "language": "python"
    }
  },
  "nbformat_minor": 4,
  "nbformat": 4,
  "cells": [
    {
      "cell_type": "code",
      "source": "#creating a heap sort algorithm ?? \n\ndef heapSort (array, num):\n  sortArray = []\n  for i in range (num):\n    maximum = max(array)\n    sortArray.append(maximum)\n    array.remove(maximum)\n\n  sortArray.reverse()\n  print (sortArray)\n\n\n\nthisArray = [2,6,7,1,3,5,4,8,9]\nheapSort(thisArray, 9)\n\n#just found the max, kept appending it to a different list, and then reversed the whole thing at the end ",
      "metadata": {
        "trusted": true
      },
      "execution_count": 3,
      "outputs": [
        {
          "name": "stdout",
          "text": "[1, 2, 3, 4, 5, 6, 7, 8, 9]\n",
          "output_type": "stream"
        }
      ]
    },
    {
      "cell_type": "code",
      "source": "",
      "metadata": {},
      "execution_count": null,
      "outputs": []
    }
  ]
}