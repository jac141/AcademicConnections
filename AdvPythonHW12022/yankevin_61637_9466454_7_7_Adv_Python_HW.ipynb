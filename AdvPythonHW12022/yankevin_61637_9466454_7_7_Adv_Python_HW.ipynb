{
  "nbformat": 4,
  "nbformat_minor": 0,
  "metadata": {
    "colab": {
      "name": "7/7_Adv_Python_HW.ipynb",
      "provenance": []
    },
    "kernelspec": {
      "name": "python3",
      "display_name": "Python 3"
    },
    "language_info": {
      "name": "python"
    }
  },
  "cells": [
    {
      "cell_type": "markdown",
      "source": [
        "Question 1: "
      ],
      "metadata": {
        "id": "oq3bPx_tMTd6"
      }
    },
    {
      "cell_type": "code",
      "source": [
        "def DNA (string):\n",
        "  a_num = 0\n",
        "  c_num = 0\n",
        "  g_num = 0\n",
        "  t_num = 0\n",
        "  if len(string) > 10000:\n",
        "    return \"Too Long, Cannot Process\"\n",
        "  else:\n",
        "    for i in string:\n",
        "      if i == \"A\":\n",
        "        a_num = a_num + 1\n",
        "      elif i == \"C\":\n",
        "        c_num = c_num + 1\n",
        "      elif i == \"G\":\n",
        "        g_num = g_num + 1\n",
        "      elif i == \"T\":\n",
        "        t_num = t_num + 1\n",
        "\n",
        "    return a_num, c_num, g_num, t_num\n",
        "\n",
        "tup = DNA (\"AGCTTTTCATTCTGACTGCAACGGGCAATATGTCTCTGTGTGGATTAAAAAAAGAGTGTCTGATAGCAGC\")\n",
        "print (tup[0], tup[1], tup [2], tup [3])\n"
      ],
      "metadata": {
        "colab": {
          "base_uri": "https://localhost:8080/"
        },
        "id": "60wIiwlWMccx",
        "outputId": "3d5fa576-d7d0-4349-f7cb-8e62af3997cd"
      },
      "execution_count": 7,
      "outputs": [
        {
          "output_type": "stream",
          "name": "stdout",
          "text": [
            "20 12 17 21\n"
          ]
        }
      ]
    },
    {
      "cell_type": "markdown",
      "source": [
        "Question 2:"
      ],
      "metadata": {
        "id": "USphDBnbMddx"
      }
    },
    {
      "cell_type": "code",
      "source": [
        "def dictionary (data):\n",
        "  if len(data) > 10000:\n",
        "    return \"Too Long, Can Not Process\"\n",
        "  else:\n",
        "    counts = dict()\n",
        "    words = data.split()\n",
        "    for word in words:\n",
        "      if word not in counts:\n",
        "        counts[word] = 1\n",
        "      else:\n",
        "        counts[word] = counts[word] + 1\n",
        "\n",
        "    return counts\n",
        "\n",
        "print(dictionary(\"the answer to the ultimate question of life, the universe, and everything.\"))"
      ],
      "metadata": {
        "colab": {
          "base_uri": "https://localhost:8080/"
        },
        "id": "Z7MhWOuMMfOP",
        "outputId": "42c9c82e-03d6-4b70-d90f-b545ca99262d"
      },
      "execution_count": 11,
      "outputs": [
        {
          "output_type": "stream",
          "name": "stdout",
          "text": [
            "{'the': 3, 'answer': 1, 'to': 1, 'ultimate': 1, 'question': 1, 'of': 1, 'life,': 1, 'universe,': 1, 'and': 1, 'everything.': 1}\n"
          ]
        }
      ]
    },
    {
      "cell_type": "markdown",
      "source": [
        "Question 3:"
      ],
      "metadata": {
        "id": "MfwUewsRMfpp"
      }
    },
    {
      "cell_type": "markdown",
      "source": [
        "For Question 3, I haven't thought of any code segments to solve the problem. \n",
        "\n",
        "However, I can provide a written explanation about how to solve this problem.\n",
        "\n",
        "First, I should be able to make the array into a binary tree, in which the first element in the array goes to the first row, then the second and third elements splits and goes to the second row. The tree splits again and again until the array ends.\n",
        "\n",
        "Second, try to move bigger number downward. Once the biggest number are in the last row least element, this element is set and should be deleted from the binary tree.\n",
        "\n",
        "Lastly, once only one element is lefted in the binary tree, the array is a max heap loop.\n",
        "\n",
        "---\n",
        "\n",
        "\n"
      ],
      "metadata": {
        "id": "dMpmRwcUYKMv"
      }
    },
    {
      "cell_type": "markdown",
      "source": [
        "Question 4:"
      ],
      "metadata": {
        "id": "CiXUnS36Mhjz"
      }
    },
    {
      "cell_type": "code",
      "source": [
        "def interview (lst, total):\n",
        "  if len(lst) != 8:\n",
        "    return \"disqualified\"\n",
        "  else:\n",
        "    if lst[0] <= 5 and lst[1] <= 5 and lst[2] <= 10 and lst[3] <= 10 and lst[4] <= 15 and lst[5] <= 15 and lst[6] <= 20 and lst[7] <= 20 and total <= 120:\n",
        "      return \"qualified\"\n",
        "    else:\n",
        "      return \"disqualified\"\n",
        "\n",
        "print(interview([5,5,10,10,15,15,20,20],120))"
      ],
      "metadata": {
        "colab": {
          "base_uri": "https://localhost:8080/"
        },
        "id": "sQV9nR1wMiue",
        "outputId": "7f92b594-b0f9-468e-e380-d02693fabb45"
      },
      "execution_count": 3,
      "outputs": [
        {
          "output_type": "stream",
          "name": "stdout",
          "text": [
            "qualified\n"
          ]
        }
      ]
    }
  ]
}