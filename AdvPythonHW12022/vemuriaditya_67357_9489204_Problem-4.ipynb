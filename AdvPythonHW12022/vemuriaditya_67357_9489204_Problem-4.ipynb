{
  "metadata": {
    "language_info": {
      "codemirror_mode": {
        "name": "python",
        "version": 3
      },
      "file_extension": ".py",
      "mimetype": "text/x-python",
      "name": "python",
      "nbconvert_exporter": "python",
      "pygments_lexer": "ipython3",
      "version": "3.8"
    },
    "kernelspec": {
      "name": "python",
      "display_name": "Python (Pyodide)",
      "language": "python"
    }
  },
  "nbformat_minor": 4,
  "nbformat": 4,
  "cells": [
    {
      "cell_type": "code",
      "source": "#candidate reviewing function \n\ndef qualifyCheck (array):\n  qualified = True\n\n  if array[1] > 120:\n    qualified = False\n    return qualified\n  \n  timeArray = array[0]\n  if len(timeArray) < 8:\n    qualified = False\n    return qualified\n\n  for i in range (2):\n    if timeArray[i] > 5:\n      qualifed = False\n      return qualifed\n\n  for i in range (2,4):\n    if timeArray[i] > 10:\n      qualifed = False\n      return qualifed\n\n  for i in range (4,6):\n    if timeArray[i] > 15:\n      qualifed = False\n      return qualifed\n\n  for i in range (6,7):\n    if timeArray[i] > 20:\n      qualifed = False\n      return qualifed\n\n\n  return qualified\n\ntimes = [[5,5,10,10,15,15,20,20], 120]\nqualify = qualifyCheck(times)\n\nif qualify:\n  print (\"qualified\")\nelse:\n  print(\"disqualified\")\n",
      "metadata": {
        "trusted": true
      },
      "execution_count": 4,
      "outputs": [
        {
          "name": "stdout",
          "text": "qualified\n",
          "output_type": "stream"
        }
      ]
    },
    {
      "cell_type": "code",
      "source": "",
      "metadata": {},
      "execution_count": null,
      "outputs": []
    }
  ]
}