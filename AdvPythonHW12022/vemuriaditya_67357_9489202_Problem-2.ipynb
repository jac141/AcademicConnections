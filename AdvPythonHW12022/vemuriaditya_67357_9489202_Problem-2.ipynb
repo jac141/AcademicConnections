{
  "metadata": {
    "language_info": {
      "codemirror_mode": {
        "name": "python",
        "version": 3
      },
      "file_extension": ".py",
      "mimetype": "text/x-python",
      "name": "python",
      "nbconvert_exporter": "python",
      "pygments_lexer": "ipython3",
      "version": "3.8"
    },
    "kernelspec": {
      "name": "python",
      "display_name": "Python (Pyodide)",
      "language": "python"
    }
  },
  "nbformat_minor": 4,
  "nbformat": 4,
  "cells": [
    {
      "cell_type": "code",
      "source": "def wordCounter (sentence):\n  numWords = sentence.count(\" \") + 1\n  beginningIndex = 0\n  wordList = []\n  for x in range (numWords):\n    spaceIndex = sentence.find(\" \")\n    word = sentence[beginningIndex:spaceIndex]\n    word =\"\".join(c for c in word if c.isalpha())\n    wordList.append(word)\n    sentence = sentence[spaceIndex + 1: len(sentence)]\n\n  print (wordList)\n  filteredList = []\n  length = len(wordList)\n  for i in range (length): \n    if wordList[i] not in filteredList:\n      filteredList.append(wordList[i])\n\n  countList = []\n  for j in range (len(filteredList)):\n    countList.append(wordList.count(filteredList[j]))\n\n  for k in range (len(filteredList)):\n    word = filteredList[k]\n    count = countList[k]\n    print (f'{word}: {count}')\n    \nwordCounter(\"Hello, my name name is is aditya Aditya.\")",
      "metadata": {
        "trusted": true
      },
      "execution_count": 2,
      "outputs": [
        {
          "name": "stdout",
          "text": "['Hello', 'my', 'name', 'name', 'is', 'is', 'aditya', 'Aditya']\nHello: 1\nmy: 1\nname: 2\nis: 2\naditya: 1\nAditya: 1\n",
          "output_type": "stream"
        }
      ]
    },
    {
      "cell_type": "code",
      "source": "",
      "metadata": {},
      "execution_count": null,
      "outputs": []
    }
  ]
}