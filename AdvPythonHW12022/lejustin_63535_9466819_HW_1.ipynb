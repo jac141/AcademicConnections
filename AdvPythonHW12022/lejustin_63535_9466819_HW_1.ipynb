{
  "nbformat": 4,
  "nbformat_minor": 0,
  "metadata": {
    "colab": {
      "name": "HW 1.ipynb",
      "provenance": []
    },
    "kernelspec": {
      "name": "python3",
      "display_name": "Python 3"
    },
    "language_info": {
      "name": "python"
    }
  },
  "cells": [
    {
      "cell_type": "markdown",
      "source": [
        "Problem 1"
      ],
      "metadata": {
        "id": "4XUVaTX8i1IV"
      }
    },
    {
      "cell_type": "code",
      "execution_count": null,
      "metadata": {
        "id": "kfQS6J8MfRL0",
        "outputId": "3e79ca14-b73c-4504-e589-45936de037a9",
        "colab": {
          "base_uri": "https://localhost:8080/"
        }
      },
      "outputs": [
        {
          "output_type": "stream",
          "name": "stdout",
          "text": [
            "Hello World\n"
          ]
        }
      ],
      "source": [
        "DNA = input()\n",
        "A = 0\n",
        "C = 0\n",
        "G = 0\n",
        "T = 0\n",
        "for char in DNA:\n",
        "  if char=='A':\n",
        "    A+=1\n",
        "  elif char=='C':\n",
        "    C+=1\n",
        "  elif char=='G':\n",
        "    G+=1\n",
        "  elif char=='T':\n",
        "    T+=1\n",
        "\n",
        "print (str(A) + \" \" + str(C) + \" \" + str(G) + \" \" + str(T))"
      ]
    },
    {
      "cell_type": "markdown",
      "source": [
        "Problem 2"
      ],
      "metadata": {
        "id": "S-QBkWTsjMex"
      }
    },
    {
      "cell_type": "code",
      "source": [
        "string = input()\n",
        "def findOccurences(string):\n",
        "  if len(string)>10000:\n",
        "    return (\"String is too long\")\n",
        "  dictionary = {}\n",
        "  for char in string:\n",
        "    if char in dictionary:\n",
        "      value = dictionary.get(char)\n",
        "      value+=1\n",
        "      updateDict = {char:value}\n",
        "      dictionary.update(updateDict)\n",
        "    else:\n",
        "      dictionary[char] = 1\n",
        "  return dictionary\n",
        "\n",
        "print(findOccurences(string))"
      ],
      "metadata": {
        "id": "D2S9fX_DjO6J"
      },
      "execution_count": null,
      "outputs": []
    },
    {
      "cell_type": "markdown",
      "source": [
        "Problem 3 (I wasn't able to sucessfuly do it.  I made a binary tree but couldn't turn it into a max heap)"
      ],
      "metadata": {
        "id": "BIMPHvs-jSr3"
      }
    },
    {
      "cell_type": "code",
      "source": [
        "class Node():\n",
        "  def __init__(self, value):\n",
        "    self.value = value\n",
        "    self.left = None\n",
        "    self.right = None\n",
        "\n",
        "  def printTree(self):\n",
        "    queue = [self]\n",
        "    while(len(queue)>0):\n",
        "      print(str(queue[0].value), end = \" \")\n",
        "      queue.pop(0)\n",
        "      if self.left!=None:\n",
        "        queue.append(self.left)\n",
        "        \n",
        "      if self.right!=None:\n",
        "        queue.append(self.right)\n",
        "      if len(queue)!=0:\n",
        "        self = queue[0]\n",
        "\n",
        "      \n",
        "def createBinary (arr, index, N):\n",
        "  root = None\n",
        "  if index < N:\n",
        "    root = arr[index]\n",
        "    root.left = createBinary(arr, 2*index+1, N)\n",
        "    root.right = createBinary(arr,2*index+2, N)\n",
        "  return root\n",
        "\n",
        "\n",
        "def maxHeapDFS (node):\n",
        "  if (node.left == None or node.right == None):\n",
        "    return\n",
        "\n",
        "  currNode = node.value\n",
        "  leftValue = node.left.value\n",
        "  rightValue = node.right.value\n",
        "  \n",
        "  if (leftValue>currNode and rightValue>currNode):\n",
        "    if (leftValue>rightValue):\n",
        "      node.value = leftValue\n",
        "      node.left.value = currNode\n",
        "    else:\n",
        "      node.value = rightValue\n",
        "      node.right.value = currNode\n",
        "      \n",
        "  elif (leftValue>currNode):\n",
        "    node.value=leftValue\n",
        "    node.left.value = currNode\n",
        "\n",
        "  elif (rightValue>currNode):\n",
        "    node.value=rightValue\n",
        "    node.right.value = currNode\n",
        "\n",
        "  maxHeapDFS(node.left)\n",
        "  maxHeapDFS(node.right)\n",
        "\n",
        "N = int(input())\n",
        "heap = []\n",
        "inputLine = input().split(\" \")\n",
        "\n",
        "for i in range (N):\n",
        "  heap.append(Node(int(inputLine[i])))\n",
        "\n",
        "createBinary(heap, 0, N)\n",
        "\n",
        "#Does not work\n",
        "maxHeapDFS(heap[0])\n",
        "\n",
        "Node.printTree(heap[0])"
      ],
      "metadata": {
        "id": "U11b7kCHjkjd"
      },
      "execution_count": null,
      "outputs": []
    },
    {
      "cell_type": "markdown",
      "source": [
        "Problem 4"
      ],
      "metadata": {
        "id": "y3LlOQ4Tj14O"
      }
    },
    {
      "cell_type": "code",
      "source": [
        "def interview (interviewList, totalTime):\n",
        "  if totalTime>120:\n",
        "    return \"disqualified\"\n",
        "\n",
        "  if len(interviewList)<8:\n",
        "    return \"disqualified\"\n",
        "\n",
        "  if interviewList[0]>5 or interviewList[1]>5:\n",
        "    return \"disqualified\"\n",
        "\n",
        "  if interviewList[2]>10 or interviewList[3]>10:\n",
        "    return \"disqualified\"\n",
        "    \n",
        "  if interviewList[4]>15 or interviewList[5]>15:\n",
        "    return \"disqualified\"\n",
        "    \n",
        "  if interviewList[6]>20 or interviewList[7]>20:\n",
        "    return \"disqualified\"\n",
        "    \n",
        "  return \"qualified\"\n",
        "\n",
        "print(interview([5,5,10,10,15,15,20,20], 120))"
      ],
      "metadata": {
        "id": "GoV16i9sj358"
      },
      "execution_count": null,
      "outputs": []
    }
  ]
}