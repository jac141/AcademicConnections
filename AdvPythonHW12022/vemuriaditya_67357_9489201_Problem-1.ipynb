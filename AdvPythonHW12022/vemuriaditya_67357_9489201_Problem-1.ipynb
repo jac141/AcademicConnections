{
  "metadata": {
    "language_info": {
      "codemirror_mode": {
        "name": "python",
        "version": 3
      },
      "file_extension": ".py",
      "mimetype": "text/x-python",
      "name": "python",
      "nbconvert_exporter": "python",
      "pygments_lexer": "ipython3",
      "version": "3.8"
    },
    "kernelspec": {
      "name": "python",
      "display_name": "Python (Pyodide)",
      "language": "python"
    }
  },
  "nbformat_minor": 4,
  "nbformat": 4,
  "cells": [
    {
      "cell_type": "code",
      "source": "def DNAcounter (dna):\n  a = 0\n  c = 0\n  g = 0\n  t = 0\n  dnaLength = len(dna)\n  for x in range (dnaLength):\n    letter = dna[x]\n    if letter == \"A\":\n      a = a + 1\n    elif letter == \"C\":\n      c = c + 1\n    elif letter == \"G\":\n      g = g + 1\n    else:\n      t = t + 1\n\n  return a,c,g,t\n\nthisDNA = \"AGCTTTTCATTCTGACTGCAACGGGCAATATGTCTCTGTGTGGATTAAAAAAAGAGTGTCTGATAGCAGC\"\naCount, cCount, gCount, tCount = DNAcounter(thisDNA)\n\nprint(f'A Count: {aCount}\\n C Count: {cCount}\\n G Count: {gCount}\\n T Count: {tCount}')",
      "metadata": {
        "trusted": true
      },
      "execution_count": null,
      "outputs": [
        {
          "name": "stdout",
          "text": "A Count: 20\n C Count: 12\n G Count: 17\n T Count: 21\n",
          "output_type": "stream"
        }
      ]
    }
  ]
}