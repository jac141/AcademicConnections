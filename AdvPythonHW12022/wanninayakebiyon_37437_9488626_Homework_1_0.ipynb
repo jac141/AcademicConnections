{
  "nbformat": 4,
  "nbformat_minor": 0,
  "metadata": {
    "colab": {
      "name": "Homework 1.0",
      "provenance": [],
      "collapsed_sections": []
    },
    "kernelspec": {
      "name": "python3",
      "display_name": "Python 3"
    },
    "language_info": {
      "name": "python"
    }
  },
  "cells": [
    {
      "cell_type": "code",
      "execution_count": null,
      "metadata": {
        "colab": {
          "base_uri": "https://localhost:8080/"
        },
        "id": "HMBjGJojlyZl",
        "outputId": "496bc58e-24fb-479f-9970-15fe4ec28aaa"
      },
      "outputs": [
        {
          "output_type": "stream",
          "name": "stdout",
          "text": [
            "Input your dna string: AGCTTTTCATTCTGACTGCAACGGGCAATATGTCTCTGTGTGGATTAAAAAAAGAGTGTCTGATAGCAGC\n",
            "20\n",
            "17\n",
            "12\n",
            "21\n"
          ]
        }
      ],
      "source": [
        "#Day 1 Problem 1\n",
        "\n",
        "\n",
        "dna2=input('Input your dna string: ')\n",
        "if len(dna2) > 1000:\n",
        "    print('This dna seqence is too long')\n",
        "else:\n",
        "    print(dna2.count('A'))\n",
        "    print(dna2.count('G'))\n",
        "    print(dna2.count('C'))\n",
        "    print(dna2.count('T'))\n",
        "\n"
      ]
    },
    {
      "cell_type": "code",
      "source": [
        "#Day 1 Problem 2\n",
        "dct= dict()\n",
        "string=input(\"Enter a string: \")\n",
        "if len(string) >= 1000:\n",
        "  print(\"This string is too long. Try a shorter one\")\n",
        "\n",
        "else:\n",
        "  dct= dict()\n",
        "  for c in string:\n",
        "    if c in dct:\n",
        "      dct[c]=dct[c] + 1\n",
        "    else:\n",
        "      dct[c]=1\n",
        "print(dct)\n",
        "\n"
      ],
      "metadata": {
        "colab": {
          "base_uri": "https://localhost:8080/"
        },
        "id": "qIXv_dW6pfQc",
        "outputId": "b3cdae09-cb38-4479-bcd9-5fae15c21ee6"
      },
      "execution_count": null,
      "outputs": [
        {
          "output_type": "stream",
          "name": "stdout",
          "text": [
            "Enter a string: We tried list and we tried dicts also we tried Zen 2\n",
            "{'W': 1, 'e': 7, ' ': 11, 't': 5, 'r': 3, 'i': 5, 'd': 5, 'l': 2, 's': 3, 'a': 2, 'n': 2, 'w': 2, 'c': 1, 'o': 1, 'Z': 1, '2': 1}\n"
          ]
        }
      ]
    },
    {
      "cell_type": "code",
      "source": [
        "#Day 1 Problem 3\n",
        "\n",
        "def heapify(arr, n, i):\n",
        "    largest = i  # Initialize largest as root\n",
        "    l = 2 * i + 1     # left = 2*i + 1\n",
        "    r = 2 * i + 2     # right = 2*i + 2\n",
        "  \n",
        "    # See if left child of root exists and is\n",
        "    # greater than root\n",
        "    if l < n and arr[largest] < arr[l]:\n",
        "        largest = l\n",
        "  \n",
        "    # See if right child of root exists and is\n",
        "    # greater than root\n",
        "    if r < n and arr[largest] < arr[r]:\n",
        "        largest = r\n",
        "  \n",
        "    # Change root, if needed\n",
        "    if largest != i:\n",
        "        arr[i], arr[largest] = arr[largest], arr[i]  #swap\n",
        "\n",
        "def heapSort(arr):\n",
        "    n = len(arr)\n",
        "  \n",
        "    for i in range(n//2 - 1, -1, -1):\n",
        "        heapify(arr, n, i)\n",
        "  \n",
        "    for i in range(n-1, 0, -1):\n",
        "        arr[i], arr[0] = arr[0], arr[i]  \n",
        "        heapify(arr, i, 0)\n",
        "\n",
        "arr = [2,4,6,5,7,8,1,9]\n",
        "heapSort(arr)\n",
        "n = len(arr)\n",
        "print(\"Sorted array is\")\n",
        "for i in range(n):\n",
        "    print(\"%d\" % arr[i],end=\" \")\n",
        "\n",
        "#I took the heapsort function from a website online and attempted to implement it to order these numbers from least to greatest. \n",
        "#However, I couldn't get it to necessarily work.\n",
        "\n",
        "  \n",
        "\n",
        "\n",
        "\n"
      ],
      "metadata": {
        "colab": {
          "base_uri": "https://localhost:8080/"
        },
        "id": "SgU7ajbFjISI",
        "outputId": "ffe0dcb3-6af3-4f2c-bdb4-122246f18bd9"
      },
      "execution_count": null,
      "outputs": [
        {
          "output_type": "stream",
          "name": "stdout",
          "text": [
            "Sorted array is\n",
            "1 2 4 7 6 5 8 9 "
          ]
        }
      ]
    },
    {
      "cell_type": "code",
      "source": [
        "#Day 1 Problem 4\n",
        "\n",
        "def coding(Totaltime, Interview):\n",
        "  if len(Totaltime) > 120:\n",
        "    return \"disqualified\" \n",
        "  if (Interview[0])>5 or (Interview)[1]:\n",
        "    return \"disqualified\"\n",
        "  if Interview[2]>10 or Interview[3]>10:\n",
        "    return \"disqualified\"\n",
        "  if Interview[4]>15 or Interview[5]>15:\n",
        "    return \"disqualified\"\n",
        "  if Interview[6]>20 or Interview [7]>20:\n",
        "    return \"disqualified\"\n",
        "  \n",
        "  else:\n",
        "    return \"qualified\"\n",
        "\n",
        "\n"
      ],
      "metadata": {
        "id": "fUf9rJV8r572"
      },
      "execution_count": null,
      "outputs": []
    },
    {
      "cell_type": "code",
      "source": [
        "import numpy as np\n",
        "import matplotlib.pyplot as plt\n",
        "from sklearn.linear_model import LinearRegression\n",
        "from sklearn.metrics import mean_squared_error, r2_score\n",
        "\n",
        "# generate random data-set\n",
        "np.random.seed(0)\n",
        "x = np.random.rand(100, 1)\n",
        "y = 2 + 3 * x + np.random.rand(100, 1)\n",
        "\n",
        "# sckit-learn implementation\n",
        "\n",
        "# Model initialization\n",
        "regression_model = LinearRegression()\n",
        "# Fit the data(train the model)\n",
        "regression_model.fit(x, y)\n",
        "# Predict\n",
        "y_predicted = regression_model.predict(x)\n",
        "\n",
        "# model evaluation\n",
        "rmse = mean_squared_error(y, y_predicted)\n",
        "r2 = r2_score(y, y_predicted)\n",
        "\n",
        "# printing values\n",
        "print('Slope:' ,regression_model.coef_)\n",
        "print('Intercept:', regression_model.intercept_)\n",
        "print('Root mean squared error: ', rmse)\n",
        "print('R2 score: ', r2)\n",
        "\n",
        "# plotting values\n",
        "\n",
        "# data points\n",
        "plt.scatter(x, y, s=10)\n",
        "plt.xlabel('x')\n",
        "plt.ylabel('y')\n",
        "\n",
        "# predicted values\n",
        "plt.plot(x, y_predicted, color='r')\n",
        "plt.show()"
      ],
      "metadata": {
        "id": "UgrWlWfdnQ4G",
        "colab": {
          "base_uri": "https://localhost:8080/",
          "height": 348
        },
        "outputId": "bc635e5c-49fa-4969-f7fb-2b634a437c69"
      },
      "execution_count": 1,
      "outputs": [
        {
          "output_type": "stream",
          "name": "stdout",
          "text": [
            "Slope: [[2.93655106]]\n",
            "Intercept: [2.55808002]\n",
            "Root mean squared error:  0.07623324582875007\n",
            "R2 score:  0.9038655568672764\n"
          ]
        },
        {
          "output_type": "display_data",
          "data": {
            "text/plain": [
              "<Figure size 432x288 with 1 Axes>"
            ],
            "image/png": "[encoded data removed]"
          },
          "metadata": {
            "needs_background": "light"
          }
        }
      ]
    }
  ]
}