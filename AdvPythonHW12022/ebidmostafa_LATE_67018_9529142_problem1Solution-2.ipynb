{
  "nbformat": 4,
  "nbformat_minor": 0,
  "metadata": {
    "colab": {
      "name": "problem1Solution.ipynb",
      "provenance": [],
      "collapsed_sections": []
    },
    "kernelspec": {
      "name": "python3",
      "display_name": "Python 3"
    },
    "language_info": {
      "name": "python"
    }
  },
  "cells": [
    {
      "cell_type": "code",
      "execution_count": null,
      "metadata": {
        "colab": {
          "base_uri": "https://localhost:8080/"
        },
        "id": "V_YekTKEkHkr",
        "outputId": "1ac9fa93-d2b7-4af3-e98e-f748e2893218"
      },
      "outputs": [
        {
          "output_type": "stream",
          "name": "stdout",
          "text": [
            "Please enter the DNA string. AGCTTTTCATTCTGACTGCAACGGGCAATATGTCTCTGTGTGGATTAAAAAAAGAGTGTCTGATAGCAGCAGCTTTTCATTCTGACTGCAACGGGCAATATGTCTCTGTGTGGATTAAAAAAAGAGTGTCTGATAGCAGCAGCTTTTCATTCTGACTGCAACGGGCAATATGTCTCTGTGTGGATTAAAAAAAGAGTGTCTGATAGCAGCAGCTTTTCATTCTGACTGCAACGGGCAATATGTCTCTGTGTGGATTAAAAAAAGAGTGTCTGATAGCAGCAGCTTTTCATTCTGACTGCAACGGGCAATATGTCTCTGTGTGGATTAAAAAAAGAGTGTCTGATAGCAGCvvAGCTTTTCATTCTGACTGCAACGGGCAATATGTCTCTGTGTGGATTAAAAAAAGAGTGTCTGATAGCAGCAGCTTTTCATTCTGACTGCAACGGGCAATATGTCTCTGTGTGGATTAAAAAAAGAGTGTCTGATAGCAGCvvAGCTTTTCATTCTGACTGCAACGGGCAATATGTCTCTGTGTGGATTAAAAAAAGAGTGTCTGATAGCAGCAGCTTTTCATTCTGACTGCAACGGGCAATATGTCTCTGTGTGGATTAAAAAAAGAGTGTCTGATAGCAGCAGCTTTTCATTCTGACTGCAACGGGCAATATGTCTCTGTGTGGATTAAAAAAAGAGTGTCTGATAGCAGCAGCTTTTCATTCTGACTGCAACGGGCAATATGTCTCTGTGTGGATTAAAAAAAGAGTGTCTGATAGCAGCAGCTTTTCATTCTGACTGCAACGGGCAATATGTCTCTGTGTGGATTAAAAAAAGAGTGTCTGATAGCAGCAGCTTTTCATTCTGACTGCAACGGGCAATATGTCTCTGTGTGGATTAAAAAAAGAGTGTCTGATAGCAGCAGCTTTTCATTCTGACTGCAACGGGCAATATGTCTCTGTGTGGATTAAAAAAAGAGTGTCTGATAGCAGCAGCTTTTCATTCTGACTGCAACGGGCAATATGTCTCTGTGTGGATTAAAAAAAGAGTGTCTGATAGCAGCAGCTTTTCATTCTGACTGCAACGGGCAATATGTCTCTGTGTGGATTAAAAAAAGAGTGTCTGATAGCAGCAGCTTTTCATTCTGACTGCAACGGGCAATATGTCTCTGTGTGGATTAAAAAAAGAGTGTCTGATAGCAGCAGCTTTTCATTCTGACTGCAACGGGCAATATGTCTCTGTGTGGATTAAAAAAAGAGTGTCTGATAGCAGCAGCTTTTCATTCTGACTGCAACGGGCAATATGTCTCTGTGTGGATTAAAAAAAGAGTGTCTGATAGCAGCAGCTTTTCATTCTGACTGCAACGGGCAATATGTCTCTGTGTGGATTAAAAAAAGAGTGTCTGATAGCAGCAGCTTTTCATTCTGACTGCAACGGGCAATATGTCTCTGTGTGGATTAAAAAAAGAGTGTCTGATAGCAGCAGCTTTTCATTCTGACTGCAACGGGCAATATGTCTCTGTGTGGATTAAAAAAAGAGTGTCTGATAGCAGC\n",
            "The maximum length of thr DNA string is 1000. Please enter a valid DNA string.\n",
            "Please enter the DNA string. AGCTTTTCATTCTGACTGCAACGGGCAATATGTCTCTGTGTGGATTAAAAAAAGAGTGTCTGATAGCAGC\n",
            "20 12 17 21\n"
          ]
        }
      ],
      "source": [
        "count_A = 0\n",
        "count_C = 0\n",
        "count_G = 0\n",
        "count_T = 0\n",
        "\n",
        "def getDNAString() :\n",
        "  count_A = 0\n",
        "  count_C = 0\n",
        "  count_G = 0\n",
        "  count_T = 0\n",
        "  DNA_string = input(\"Please enter the DNA string. \")\n",
        "  while len(DNA_string) > 1000:\n",
        "    print(\"The maximum length of thr DNA string is 1000. Please enter a valid DNA string.\")\n",
        "    DNA_string = input(\"Please enter the DNA string. \")\n",
        "\n",
        "  for i in DNA_string:\n",
        "      if i in [\"A\", \"C\", \"G\", \"T\"]:\n",
        "        correctAlphabet = True\n",
        "        continue\n",
        "      else:\n",
        "        correctAlphabet = False\n",
        "        break\n",
        "\n",
        "  while correctAlphabet == False:\n",
        "    print(\"Only 'A', 'C', 'G', 'T' charactars are accepted in your DNA string. Please try again.\")\n",
        "    DNA_string = input(\"Please enter the DNA string. \")\n",
        "    for i in DNA_string:\n",
        "      if i in [\"A\", \"C\", \"G\", \"T\"]:\n",
        "        correctAlphabet = True\n",
        "        continue\n",
        "      else:\n",
        "        correctAlphabet = False\n",
        "        break\n",
        "      \n",
        "  for i in DNA_string:\n",
        "    if i == \"A\":\n",
        "      count_A += 1\n",
        "    elif i == \"C\":\n",
        "      count_C += 1\n",
        "    elif i == \"G\":\n",
        "      count_G += 1\n",
        "    elif i == \"T\":\n",
        "      count_T += 1\n",
        "    result = str(count_A) + \" \" + str(count_C) + \" \" + str(count_G) + \" \" + str(count_T)\n",
        "  return result\n",
        "\n",
        "\n",
        "print(getDNAString())"
      ]
    },
    {
      "cell_type": "code",
      "source": [
        ""
      ],
      "metadata": {
        "colab": {
          "base_uri": "https://localhost:8080/"
        },
        "id": "kLlGOiyPiU1T",
        "outputId": "8767e487-1569-420a-b4ad-89bfe3cb994b"
      },
      "execution_count": null,
      "outputs": [
        {
          "output_type": "execute_result",
          "data": {
            "text/plain": [
              "True"
            ]
          },
          "metadata": {},
          "execution_count": 8
        }
      ]
    },
    {
      "cell_type": "code",
      "source": [
        ""
      ],
      "metadata": {
        "id": "fmq90uSmtrZp"
      },
      "execution_count": null,
      "outputs": []
    }
  ]
}