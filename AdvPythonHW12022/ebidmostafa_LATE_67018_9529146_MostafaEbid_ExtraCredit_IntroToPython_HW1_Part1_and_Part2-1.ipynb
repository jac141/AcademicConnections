{
  "nbformat": 4,
  "nbformat_minor": 0,
  "metadata": {
    "colab": {
      "name": "MostafaEbid_ExtraCredit_IntroToPython_HW1_Part1_and_Part2.ipynb",
      "provenance": []
    },
    "kernelspec": {
      "name": "python3",
      "display_name": "Python 3"
    },
    "language_info": {
      "name": "python"
    }
  },
  "cells": [
    {
      "cell_type": "markdown",
      "source": [
        "I did Intro HW1 part1, part2 for extra credit"
      ],
      "metadata": {
        "id": "bxpBn6HuTiez"
      }
    },
    {
      "cell_type": "markdown",
      "source": [
        "# Welcome to Intro to Python's Homework 1 Part 1 & 2\n",
        "\n",
        "Function 1 - 4. Now some of these will also be covered in 90 questions as well. \n",
        "Hello Students!! I hope this finds you well. I am trying to make these so it is easier for the students to upload and open the questions. It is also slightly easier than the powerpoints. You will be finding many more questions along the way and I hope I don't give you too many. But I believe in you. Good luck.\n"
      ],
      "metadata": {
        "id": "q7Nr3tnx5J5P"
      }
    },
    {
      "cell_type": "code",
      "execution_count": 25,
      "metadata": {
        "id": "DzYYZ7xl40d2",
        "colab": {
          "base_uri": "https://localhost:8080/",
          "height": 276
        },
        "outputId": "99347e97-27cc-425e-c1ef-33f5a4764073"
      },
      "outputs": [
        {
          "output_type": "stream",
          "name": "stdout",
          "text": [
            "iT mATTERS nOW hOW sTRAIGHT tHE gATE, hOW cHARGED wITH pUNISHMENTS tHE sCROLL. i aM tHE mASTER oF mY fATE: i aM tHE cAPTAIN oF mY sOUL.\n"
          ]
        },
        {
          "output_type": "error",
          "ename": "AssertionError",
          "evalue": "ignored",
          "traceback": [
            "\u001b[0;31m---------------------------------------------------------------------------\u001b[0m",
            "\u001b[0;31mAssertionError\u001b[0m                            Traceback (most recent call last)",
            "\u001b[0;32m<ipython-input-25-9fa6d33a89f6>\u001b[0m in \u001b[0;36m<module>\u001b[0;34m()\u001b[0m\n\u001b[1;32m     15\u001b[0m \u001b[0;31m# I spent hours on the above function to try to get it to work in one line\u001b[0m\u001b[0;34m\u001b[0m\u001b[0;34m\u001b[0m\u001b[0;34m\u001b[0m\u001b[0m\n\u001b[1;32m     16\u001b[0m \u001b[0;31m# I have managed to do the task however\u001b[0m\u001b[0;34m\u001b[0m\u001b[0;34m\u001b[0m\u001b[0;34m\u001b[0m\u001b[0m\n\u001b[0;32m---> 17\u001b[0;31m \u001b[0;32massert\u001b[0m \u001b[0msilly_case\u001b[0m\u001b[0;34m(\u001b[0m\u001b[0mpoem\u001b[0m\u001b[0;34m)\u001b[0m \u001b[0;34m==\u001b[0m \u001b[0;34m\"iT mATTERS nOW hOW sTRAIGHT tHE gATE, \\nhOW cHARGED wITH pUNISHMENTS tHE sCROLL. \\ni aM tHE mASTER oF mY fATE: \\ni aM tHE cAPTAIN oF mY sOUL.\"\u001b[0m\u001b[0;34m\u001b[0m\u001b[0;34m\u001b[0m\u001b[0m\n\u001b[0m\u001b[1;32m     18\u001b[0m \u001b[0;32massert\u001b[0m \u001b[0msilly_case\u001b[0m\u001b[0;34m(\u001b[0m\u001b[0mx\u001b[0m\u001b[0;34m)\u001b[0m \u001b[0;34m==\u001b[0m \u001b[0;34m\"tHIS iS a sTRING\"\u001b[0m\u001b[0;34m\u001b[0m\u001b[0;34m\u001b[0m\u001b[0m\n\u001b[1;32m     19\u001b[0m \u001b[0mprint\u001b[0m\u001b[0;34m(\u001b[0m\u001b[0;34m\"HW Problem 1 Function 1 is correct\"\u001b[0m\u001b[0;34m)\u001b[0m\u001b[0;34m\u001b[0m\u001b[0;34m\u001b[0m\u001b[0m\n",
            "\u001b[0;31mAssertionError\u001b[0m: "
          ]
        }
      ],
      "source": [
        "# HW Problem 1 Part 1 Function 1\n",
        "# Make a function called silly_case \n",
        "# that takes a string  and returns a new string that is the same as the input string\n",
        "# but the first letter of each word is in lowercase \n",
        "# and all the other letters are uppercase.\n",
        "# Please do not use looping!!\n",
        "\n",
        "poem = \"It matters now how straight the gate, \\nhow charged with punishments the scroll. \\nI am the master of my fate: \\nI am the captain of my soul.\"\n",
        "x = \"This is a string\"\n",
        "\n",
        "def silly_case(string):\n",
        "  return \" \".join(list(map(lambda test_str: test_str[:1].lower() + test_str[1:].upper() if test_str else '', string.split())))\n",
        "\n",
        "# I spent hours on the above function to try to get it to work in one line\n",
        "# I have managed to do the task however the above function removes the '\\n' and i do not know how to make it keep them\n",
        "\n",
        "assert silly_case(poem) == \"iT mATTERS nOW hOW sTRAIGHT tHE gATE, \\nhOW cHARGED wITH pUNISHMENTS tHE sCROLL. \\ni aM tHE mASTER oF mY fATE: \\ni aM tHE cAPTAIN oF mY sOUL.\"\n",
        "assert silly_case(x) == \"tHIS iS a sTRING\"\n",
        "print(\"HW Problem 1 Function 1 is correct\")"
      ]
    },
    {
      "cell_type": "code",
      "source": [
        "# HW Problem 1 Part 1 Function 2\n",
        "\n",
        "# Make a function called dash_stringify \n",
        "# so that is takes a list of words (strings) and returns a string\n",
        "# that contains all the words from the list with ‘-’ in between the words.\n",
        "# No looping!!!\n",
        "\n",
        "def dash_stringify(strings):\n",
        "  return \"\".join(i + \"-\" for i in strings)[:-1]\n",
        "\n",
        "fruits = [\"Orange\", \"Lemon\", \"Lime\", \"Cherry\", \"Peach\", \"Apricot\"]\n",
        "nums = ['1', '2', '3']\n",
        "\n",
        "assert dash_stringify(fruits) == \"Orange-Lemon-Lime-Cherry-Peach-Apricot\"\n",
        "try:\n",
        "  assert dash_stringify(nums) == \"1-2-3\"\n",
        "except:\n",
        "  print(\"Dash Stringify can only be used on Strings\")\n",
        "print(\"HW Problem 1 Function 2 is correct\")"
      ],
      "metadata": {
        "id": "Cr1nAses8mzE",
        "colab": {
          "base_uri": "https://localhost:8080/"
        },
        "outputId": "6f2a7fcd-0b27-4dca-de2d-ffd98c5c90cc"
      },
      "execution_count": 8,
      "outputs": [
        {
          "output_type": "stream",
          "name": "stdout",
          "text": [
            "Orange-Lemon-Lime-Cherry-Peach-Apricot\n",
            "HW Problem 1 Function 2 is correct\n"
          ]
        }
      ]
    },
    {
      "cell_type": "code",
      "source": [
        "# HW Problem 1 Part 1 Function 3\n",
        "\n",
        "# This function is also probably a part of you 90 problems. \n",
        "\n",
        "\n",
        "# Make a function called is_perfect_square so that it takes a number as an input and returns True if the \n",
        "# given number is a perfect square, or False if it is not. \n",
        "# Please do not use looping!!\n",
        "\n",
        "# A perfect square is an integer number which is the square of an integer. For example 25 (5*5),  49 \n",
        "# (7*7), and 81 (9*9) are all perfect squares\n",
        "import math\n",
        "\n",
        "def is_perfect_square(integer):\n",
        "  root = math.sqrt(integer)\n",
        "  return integer == int(root + 0.5) ** 2\n",
        "\n",
        "assert is_perfect_square(81) == True\n",
        "assert is_perfect_square(82) == False\n",
        "assert is_perfect_square(81) == True\n",
        "assert is_perfect_square(83) == False\n",
        "assert is_perfect_square(81) == True\n",
        "assert is_perfect_square(83) == False\n",
        "\n",
        "print(\"HW1 Function 3 is correct\")\n"
      ],
      "metadata": {
        "id": "iupiEEWqv-_u",
        "colab": {
          "base_uri": "https://localhost:8080/"
        },
        "outputId": "e33dcd18-fdbf-43bd-b207-bff01d68d563"
      },
      "execution_count": 12,
      "outputs": [
        {
          "output_type": "stream",
          "name": "stdout",
          "text": [
            "HW1 Function 3 is correct\n"
          ]
        }
      ]
    },
    {
      "cell_type": "code",
      "source": [
        "not(2000 % 100)"
      ],
      "metadata": {
        "colab": {
          "base_uri": "https://localhost:8080/"
        },
        "id": "LFFjT_3BPMW0",
        "outputId": "d330b711-a2aa-40f4-8396-c6879b3d54c8"
      },
      "execution_count": 14,
      "outputs": [
        {
          "output_type": "execute_result",
          "data": {
            "text/plain": [
              "True"
            ]
          },
          "metadata": {},
          "execution_count": 14
        }
      ]
    },
    {
      "cell_type": "code",
      "source": [
        "# HW Problem 1 Part 1 Function 4\n",
        "\n",
        "# Make a function called is_leap_year so that it takes a year \n",
        "# as a number input and returns True if the given number is a leap year\n",
        "# or False if it is not. \n",
        "\n",
        "\n",
        "# Leap years are years that are divisible by 4\n",
        "# Exception: Centennial years (years divided by 100) are not leap years\n",
        "# Exception to exception: years divisible by 400 are indeed leap years\n",
        "def is_leap_year(year):\n",
        "  if not(year % 400):\n",
        "    return True\n",
        "  elif not(year % 100):\n",
        "    return False\n",
        "  elif not(year % 4):\n",
        "    return True\n",
        "  return False\n",
        "\n",
        "\n",
        "assert is_leap_year(1900) == False\n",
        "assert is_leap_year(2000) == True\n",
        "assert is_leap_year(2012) == True\n",
        "assert is_leap_year(2018) == False\n",
        "\n",
        "print(\"HW1 Function 4 is correct\")\n",
        "\n",
        "\n"
      ],
      "metadata": {
        "id": "LkJMQVardWuZ",
        "colab": {
          "base_uri": "https://localhost:8080/"
        },
        "outputId": "861834e8-4fb8-48e4-8d75-9db20cbc70a7"
      },
      "execution_count": 24,
      "outputs": [
        {
          "output_type": "stream",
          "name": "stdout",
          "text": [
            "HW1 Function 4 is correct\n"
          ]
        }
      ]
    }
  ]
}