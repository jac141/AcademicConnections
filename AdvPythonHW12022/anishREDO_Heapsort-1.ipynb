{
 "cells": [
  {
   "cell_type": "code",
   "execution_count": 1,
   "id": "0859bca0",
   "metadata": {},
   "outputs": [],
   "source": [
    "import heapq\n",
    "def heapify(arr, n, i):\n",
    "      \n",
    "    largest = i  # Initialize largest as root\n",
    "    l = 2 * i + 1  # left = 2*i + 1\n",
    "    r = 2 * i + 2  # right = 2*i + 2\n",
    "  \n",
    "    # If left child is larger than root\n",
    "    if l < n and arr[l] > arr[largest]:\n",
    "        largest = l\n",
    "  \n",
    "    # If right child is larger than largest so far\n",
    "    if r < n and arr[r] > arr[largest]:\n",
    "        largest = r\n",
    "  \n",
    "    # If largest is not root\n",
    "    if largest != i:\n",
    "        arr[i], arr[largest] = arr[largest], arr[i]\n",
    "  \n",
    "        # Recursively heapify the affected sub-tree\n",
    "        heapify(arr, n, largest)\n",
    "  \n",
    "# Function to build a Max-Heap from the given array\n",
    "  \n",
    "  \n",
    "def buildHeap(arr, n):\n",
    "  \n",
    "    # Index of last non-leaf node\n",
    "    startIdx = n // 2 - 1\n",
    "  \n",
    "    # Perform reverse level order traversal\n",
    "    # from last non-leaf node and heapify\n",
    "    # each node\n",
    "    for i in range(startIdx, -1, -1):\n",
    "        heapify(arr, n, i)\n",
    "  \n",
    "# A utility function to print the array\n",
    "# representation of Heap\n",
    "  \n",
    "  \n",
    "def printHeap(arr, n):\n",
    "    print(\"Array representation of Heap is:\")\n",
    "  \n",
    "    for i in range(n):\n",
    "        print(arr[i], end=\" \")\n",
    "    print()"
   ]
  },
  {
   "cell_type": "code",
   "execution_count": 3,
   "id": "5cbedf77",
   "metadata": {},
   "outputs": [
    {
     "name": "stdout",
     "output_type": "stream",
     "text": [
      "Original\n",
      "[2, 6, 7, 1, 3, 5, 4, 8, 9]\n",
      "9\n",
      "[9, 8, 7, 6, 3, 5, 4, 2, 1]\n",
      "[1, 8, 7, 6, 3, 5, 4, 2, 9]\n",
      "8\n",
      "[8, 6, 7, 2, 3, 5, 4, 1, 9]\n",
      "[1, 6, 7, 2, 3, 5, 4, 8, 9]\n",
      "7\n",
      "[7, 6, 5, 2, 3, 1, 4, 8, 9]\n",
      "[4, 6, 5, 2, 3, 1, 7, 8, 9]\n",
      "6\n",
      "[6, 4, 5, 2, 3, 1, 7, 8, 9]\n",
      "[1, 4, 5, 2, 3, 6, 7, 8, 9]\n",
      "5\n",
      "[5, 4, 1, 2, 3, 6, 7, 8, 9]\n",
      "[3, 4, 1, 2, 5, 6, 7, 8, 9]\n",
      "4\n",
      "[4, 3, 1, 2, 5, 6, 7, 8, 9]\n",
      "[2, 3, 1, 4, 5, 6, 7, 8, 9]\n",
      "3\n",
      "[3, 2, 1, 4, 5, 6, 7, 8, 9]\n",
      "[1, 2, 3, 4, 5, 6, 7, 8, 9]\n",
      "2\n",
      "[2, 1, 3, 4, 5, 6, 7, 8, 9]\n",
      "[1, 2, 3, 4, 5, 6, 7, 8, 9]\n"
     ]
    }
   ],
   "source": [
    "print(\"Original\")\n",
    "x = [2,6,7,1,3,5,4,8,9]\n",
    "print(x)\n",
    "temp = 0\n",
    "heapsize=len(x)\n",
    "for i in range(len(x)-1):\n",
    "  print(heapsize)\n",
    "  buildHeap(x,heapsize)\n",
    "  print(x)\n",
    "  x[0],x[heapsize-1] = x[heapsize-1],x[0]\n",
    "  heapsize=heapsize-1\n",
    "  print(x)"
   ]
  },
  {
   "cell_type": "code",
   "execution_count": null,
   "id": "af15b8f2",
   "metadata": {},
   "outputs": [],
   "source": []
  }
 ],
 "metadata": {
  "kernelspec": {
   "display_name": "Python 3",
   "language": "python",
   "name": "python3"
  },
  "language_info": {
   "codemirror_mode": {
    "name": "ipython",
    "version": 3
   },
   "file_extension": ".py",
   "mimetype": "text/x-python",
   "name": "python",
   "nbconvert_exporter": "python",
   "pygments_lexer": "ipython3",
   "version": "3.8.8"
  }
 },
 "nbformat": 4,
 "nbformat_minor": 5
}
