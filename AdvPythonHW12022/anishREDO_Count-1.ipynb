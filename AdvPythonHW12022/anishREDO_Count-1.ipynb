{
 "cells": [
  {
   "cell_type": "code",
   "execution_count": 6,
   "id": "a607eba7",
   "metadata": {},
   "outputs": [
    {
     "name": "stdout",
     "output_type": "stream",
     "text": [
      ":ACGTTTTTTTGGGGGA\n",
      "A 2\n",
      "C 1 \n",
      "G 6 \n",
      "T 7\n"
     ]
    }
   ],
   "source": [
    "def translate(x):\n",
    "    if len(x)<1000:\n",
    "        a = (x.count(\"A\"))\n",
    "        c = (x.count(\"C\"))\n",
    "        g = (x.count(\"G\"))\n",
    "        t = (x.count(\"T\"))\n",
    "\n",
    "        print(\"A \"+str(a)+\"\\nC \"+str(c),\"\\nG \"+str(g),\"\\nT \"+str(t))\n",
    "translate(input(\":\"))"
   ]
  },
  {
   "cell_type": "code",
   "execution_count": null,
   "id": "ae3bd05d",
   "metadata": {},
   "outputs": [],
   "source": []
  }
 ],
 "metadata": {
  "kernelspec": {
   "display_name": "Python 3",
   "language": "python",
   "name": "python3"
  },
  "language_info": {
   "codemirror_mode": {
    "name": "ipython",
    "version": 3
   },
   "file_extension": ".py",
   "mimetype": "text/x-python",
   "name": "python",
   "nbconvert_exporter": "python",
   "pygments_lexer": "ipython3",
   "version": "3.8.8"
  }
 },
 "nbformat": 4,
 "nbformat_minor": 5
}
