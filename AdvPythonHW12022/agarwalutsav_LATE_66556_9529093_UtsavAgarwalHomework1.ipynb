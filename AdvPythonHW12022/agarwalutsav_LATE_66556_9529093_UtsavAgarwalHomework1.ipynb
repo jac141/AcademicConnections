{
  "nbformat": 4,
  "nbformat_minor": 0,
  "metadata": {
    "colab": {
      "name": "AdvPyThuJul7.ipynb",
      "provenance": []
    },
    "kernelspec": {
      "name": "python3",
      "display_name": "Python 3"
    },
    "language_info": {
      "name": "python"
    }
  },
  "cells": [
    {
      "cell_type": "markdown",
      "source": [
        "Problem 1 (In-Class)"
      ],
      "metadata": {
        "id": "2nMfV54BiFwd"
      }
    },
    {
      "cell_type": "code",
      "source": [
        "def problem_one():\n",
        "  s = input(\"What is the sequence of letters?\")\n",
        "#Don't use input unless necessary\n",
        "  a = 0\n",
        "  c = 0\n",
        "  g = 0\n",
        "  t = 0\n",
        "#Better variable names\n",
        "  a = s.count(\"A\")\n",
        "  c = s.count(\"C\")\n",
        "  g = s.count(\"G\")\n",
        "  t = s.count(\"T\")\n",
        "#Try and solve it inside a separate function\n",
        "  print(str(a)+\" \"+str(c)+\" \"+str(g)+\" \"+str(t))\n",
        "\n"
      ],
      "metadata": {
        "id": "sV8fn0YCiLCk"
      },
      "execution_count": null,
      "outputs": []
    },
    {
      "cell_type": "markdown",
      "source": [
        "Problem 2"
      ],
      "metadata": {
        "id": "JaRHmXs4hBdm"
      }
    },
    {
      "cell_type": "code",
      "source": [
        "def word_count():\n",
        "  target_string = \"We tried list and we tried dicts also we tried Zen\"\n",
        "\n",
        "  word_dict = {}\n",
        "  current_word = \"\"\n",
        "  old_index = 0\n",
        "  new_index = 0\n",
        "  \n",
        "  if len(target_string)>10000:\n",
        "    return \"The string is too long.\"\n",
        "  else:\n",
        "    for x in target_string:\n",
        "      if x == \" \":\n",
        "        #add word to dictionary\n",
        "        #Strucuture of dictionary: word = count\n",
        "        if current_word in word_dict:\n",
        "          old_index = word_dict[current_word]\n",
        "          new_index = old_index+1\n",
        "          word_dict.update({current_word: new_index})\n",
        "        else:\n",
        "          new_index = 1\n",
        "          word_dict.update({current_word: new_index})\n",
        "        current_word = \"\"\n",
        "      else:\n",
        "        #add character to current word\n",
        "        current_word = current_word + x\n",
        "  #Fencepost\n",
        "  if current_word in word_dict:\n",
        "    old_index = word_dict[current_word]\n",
        "    new_index = old_index+1\n",
        "    word_dict.update({current_word: new_index})\n",
        "  else:\n",
        "    new_index = 1\n",
        "    word_dict.update({current_word: new_index})\n",
        "  current_word = \"\"\n",
        "  return word_dict\n"
      ],
      "metadata": {
        "id": "azUmorIVhDx8"
      },
      "execution_count": null,
      "outputs": []
    },
    {
      "cell_type": "markdown",
      "source": [
        "Problem 3 (Attempt)"
      ],
      "metadata": {
        "id": "yDvlpo5Yhwsm"
      }
    },
    {
      "cell_type": "code",
      "source": [
        "def make_max_heap(starting_heap,list_length):\n",
        "  #nested for loop\n",
        "  #check if two values are greater\n",
        "  #bring max value to the front\n",
        "  working_heap = starting_heap.copy()\n",
        "  value_one=0\n",
        "  value_two=0\n",
        "  \"\"\"\n",
        "  12345\n",
        "  x = 0, 21345 check 0,1\n",
        "  x = 1, 32145 check 1,2 nested: check 0,1 y = 1\n",
        "  x = 2, 43215 check 2,3 nested: check 2,1 1,0 y = 0,1\n",
        "  x = 3, 54321 check 3,4 nested: check 3,2 2,1 1,0 y = 0,1,2       check (x-y), and (x-y-1) in nested\n",
        "  \"\"\"\n",
        "  for x in range(list_length-1):\n",
        "    value_one = working_heap[x]\n",
        "    value_two = working_heap[x+1]\n",
        "    if value_two > value_one:\n",
        "      working_heap[x] = value_two\n",
        "      working_heap[x+1] = value_one\n",
        "    for y in range(x):\n",
        "      value_one = working_heap[x-y]\n",
        "      value_two = working_heap[x-y-1]\n",
        "      if value_one > value_two:\n",
        "        working_heap[x-y-1] = value_one\n",
        "        working_heap[x-y] = value_two\n",
        "  return working_heap\n",
        "  \n",
        "\n",
        "def switch_first_last(list):\n",
        "  heap_length = len(list)\n",
        "  value_one = list[0]\n",
        "  value_two = list[heap_length-1]\n",
        "  list[0] = value_two\n",
        "  list[heap_length-1] = value_one\n",
        "  return list\n",
        "  \n",
        "def problem_three(heap, heap_length):\n",
        "  placeholder_heap = heap.copy()\n",
        "  #initialize with length of original heap\n",
        "  sorted_heap = [0]\n",
        "  value_one = 0\n",
        "  current_heap_length = len(placeholder_heap)\n",
        "  for x in range (heap_length-1):\n",
        "    placeholder_heap = make_max_heap(placeholder_heap, current_heap_length)\n",
        "    value_one = placeholder_heap[0]\n",
        "    switch_first_last(placeholder_heap)\n",
        "    sorted_heap[0] = value_one\n",
        "    placeholder_heap = placeholder_heap.pop(current_heap_length-1)\n",
        "    current_heap_length = current_heap_length-1\n",
        "  return sorted_heap\n",
        "    \"\"\"\n",
        "    Thought Process:\n",
        "    Loop n-1 times\n",
        "      make a \"max heap\" out of the list we have (Sort in order of greatest to least)\n",
        "        Iterate through the list, ending at the second-to-last element\n",
        "          Check if the index in question (using the for loop counter) is less than the next index\n",
        "          Place the larger element in front of the other\n",
        "          Use a nested for loop to check all the indexes to the left of element in question, swapping the larger with the smaller as it goes\n",
        "      switch the first and last element\n",
        "      Get rid of the last element and add it to the sorted pile\n",
        "    \"\"\""
      ],
      "metadata": {
        "id": "sI698wTbhzNp"
      },
      "execution_count": null,
      "outputs": []
    },
    {
      "cell_type": "markdown",
      "source": [
        "Problem 4"
      ],
      "metadata": {
        "id": "pXsJFbUVh9IH"
      }
    },
    {
      "cell_type": "code",
      "source": [
        "def interview(input_times, total_time):\n",
        "  if len(input_times) != 8:\n",
        "    #didn't finish all q's\n",
        "    return \"disqualified\"\n",
        "  elif total_time > 140:\n",
        "    #didn't finish in max time (with 20 min buffer)\n",
        "    return \"disqualified\"\n",
        "  elif input_times[0] > 5 or input_times[1] > 5:\n",
        "    #took too long for very easy q's\n",
        "    return \"disqualified\"\n",
        "  elif input_times[2] > 10 or input_times[3] > 10:\n",
        "    #took too long for easy q's\n",
        "    return \"disqualified\"\n",
        "  elif input_times[4] > 15 or input_times[5] > 15:\n",
        "    #took too long for medium q's\n",
        "    return \"disqualified\"\n",
        "  elif input_times[6] > 20 or input_times[7] > 20:\n",
        "    return \"disqualified\"\n",
        "  return \"qualified\"\n"
      ],
      "metadata": {
        "id": "MtJZJoCdh-RP"
      },
      "execution_count": null,
      "outputs": []
    }
  ]
}