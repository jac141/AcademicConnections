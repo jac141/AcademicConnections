{
  "nbformat": 4,
  "nbformat_minor": 0,
  "metadata": {
    "colab": {
      "name": "UCSDAC.ipynb",
      "provenance": [],
      "collapsed_sections": []
    },
    "kernelspec": {
      "name": "python3",
      "display_name": "Python 3"
    },
    "language_info": {
      "name": "python"
    }
  },
  "cells": [
    {
      "cell_type": "code",
      "execution_count": 6,
      "metadata": {
        "id": "03tR6viLe9tq",
        "outputId": "72574049-b5a7-483e-a36a-fdafa3bb3f6d",
        "colab": {
          "base_uri": "https://localhost:8080/"
        }
      },
      "outputs": [
        {
          "output_type": "stream",
          "name": "stdout",
          "text": [
            "(20, 21, 17, 12)\n"
          ]
        }
      ],
      "source": [
        "#Problem 1\n",
        "def sort(Str):\n",
        "  if len(Str)>1000:\n",
        "    return \"Invalid\"\n",
        "  else:\n",
        "      a = Str.count(\"A\")#this method is similar to the one shown in the example but I find it the simplest\n",
        "      c = Str.count(\"C\")\n",
        "      g = Str.count(\"G\")\n",
        "      t = Str.count(\"T\")\n",
        "      return a, t, g, c\n",
        "str=\"AGCTTTTCATTCTGACTGCAACGGGCAATATGTCTCTGTGTGGATTAAAAAAAGAGTGTCTGATAGCAGC\"\n",
        "\n",
        "print(sort(str))"
      ]
    },
    {
      "cell_type": "code",
      "source": [
        "#Problem 2\n",
        "def sort(Str):\n",
        "  if len(Str)>10000:\n",
        "    return \"Invalid\"\n",
        "  else:\n",
        "    words=Str.count(\" \")+1\n",
        "    return words\n",
        "  \n",
        "str=\"hello my name is Ayan Jhunjhunwala\"\n",
        "print(sort(str))\n"
      ],
      "metadata": {
        "colab": {
          "base_uri": "https://localhost:8080/"
        },
        "id": "EZSxqNAETb9W",
        "outputId": "4713d4bc-7563-4996-985d-0c870b1ed6cf"
      },
      "execution_count": 7,
      "outputs": [
        {
          "output_type": "stream",
          "name": "stdout",
          "text": [
            "6\n"
          ]
        }
      ]
    },
    {
      "cell_type": "code",
      "source": [
        "#Problem 3\n",
        "def heapify(arr, n, i): #This code is from GeeksForGeeks\n",
        " largest = i # Initialize largest as root \n",
        " l = 2 * i + 1  # left = 2*i + 1 \n",
        " r = 2 * i + 2  # right = 2*i + 2 \n",
        "  \n",
        " # See if left child of root exists and is \n",
        " # greater than root \n",
        " if l < n and arr[i] < arr[l]: \n",
        "  largest = l \n",
        "  \n",
        " # See if right child of root exists and is \n",
        " # greater than root \n",
        " if r < n and arr[largest] < arr[r]: \n",
        "  largest = r \n",
        "  \n",
        " # Change root, if needed \n",
        " if largest != i: \n",
        "  arr[i],arr[largest] = arr[largest],arr[i] # swap \n",
        "  \n",
        "  # Heapify the root. \n",
        "  heapify(arr, n, largest) \n",
        "  \n",
        "# The main function to sort an array of given size \n",
        "def heapSort(arr): \n",
        " n = len(arr) \n",
        "  \n",
        " # Build a maxheap. \n",
        " # Since last parent will be at ((n//2)-1) we can start at that location. \n",
        " for i in range(n // 2 - 1, -1, -1): \n",
        "  heapify(arr, n, i) \n",
        "  \n",
        " # One by one extract elements \n",
        " for i in range(n-1, 0, -1): \n",
        "  arr[i], arr[0] = arr[0], arr[i] # swap \n",
        "  heapify(arr, i, 0) \n",
        "  \n",
        "# Driver code to test above \n",
        "arr = [9,2,6,7,1,3,5,4,8 ] \n",
        "heapSort(arr) \n",
        "n = len(arr) \n",
        "print (\"Sorted array is\") \n",
        "for i in range(n): \n",
        " print (\"%d\" %arr[i])"
      ],
      "metadata": {
        "colab": {
          "base_uri": "https://localhost:8080/"
        },
        "id": "8PoztrxGUqD-",
        "outputId": "e6f19146-ea3c-49a1-9197-8aafeca2d441"
      },
      "execution_count": 9,
      "outputs": [
        {
          "output_type": "stream",
          "name": "stdout",
          "text": [
            "Sorted array is\n",
            "1\n",
            "2\n",
            "3\n",
            "4\n",
            "5\n",
            "6\n",
            "7\n",
            "8\n",
            "9\n"
          ]
        }
      ]
    },
    {
      "cell_type": "code",
      "source": [
        "#problem 4\n",
        "def interviewJudge(x,time):\n",
        "  check=[5,5,10,10,15,15,20,20]\n",
        "  if len(check)>len(x):\n",
        "    return \"unqualified\"\n",
        "  while(i<len(x)):\n",
        "    if x[i]>check[i]:\n",
        "      return \"unqualified\"\n",
        "  if time>120:\n",
        "    return \"unqualified\"\n",
        "  return \"qualified\"\n",
        "\n",
        "print(interviewJudge([5,5,10,10,25,15,20,20],120))"
      ],
      "metadata": {
        "colab": {
          "base_uri": "https://localhost:8080/"
        },
        "id": "J2V-OTYjdHkv",
        "outputId": "47a0e8a1-1284-44ff-8e3f-da64c9be4322"
      },
      "execution_count": 14,
      "outputs": [
        {
          "output_type": "stream",
          "name": "stdout",
          "text": [
            "qualified\n"
          ]
        }
      ]
    }
  ]
}