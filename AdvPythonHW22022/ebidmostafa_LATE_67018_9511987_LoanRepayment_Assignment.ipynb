{
  "cells": [
    {
      "cell_type": "markdown",
      "metadata": {
        "papermill": {
          "duration": 0.021928,
          "end_time": "2020-09-08T03:15:55.361283",
          "exception": false,
          "start_time": "2020-09-08T03:15:55.339355",
          "status": "completed"
        },
        "tags": [],
        "id": "vdJ2E_GpWh_A"
      },
      "source": [
        "# Predicting Loan Repayment\n",
        "\n",
        "\n",
        "The dataset for this project is retrieved from kaggle, the home of Data Science.\n",
        "\n",
        "The major aim of this project is to predict whether the customers will have their loan paid or not. Therefore, this is a supervised classification problem to be trained."
      ]
    },
    {
      "cell_type": "markdown",
      "metadata": {
        "papermill": {
          "duration": 0.02001,
          "end_time": "2020-09-08T03:15:55.401984",
          "exception": false,
          "start_time": "2020-09-08T03:15:55.381974",
          "status": "completed"
        },
        "tags": [],
        "id": "IFl_mj9SWh_G"
      },
      "source": [
        "### **1- Importing Libraries**"
      ]
    },
    {
      "cell_type": "code",
      "source": [
        "# Import the following Libraries\n",
        "# numpy\n",
        "# pandas\n",
        "# matplotlib plotting software\n",
        "# seaborn \n",
        "# Make matplotlib available through all code boxes\n",
        "\n",
        "# From Sklearn you'll have to look up from where here. \n",
        "# Label Encoder, train test split, logisitic regression, confusion_matrix, classification_report,accuracy_score\n",
        "# DecisionTreeClassifier, RandomForestClassifier, KNeighborsClassifier,  SVC, GridSearchCV\n",
        "\n",
        "# Plotly Express\n",
        "%matplotlib inline\n",
        "import numpy as np\n",
        "import pandas as pd\n",
        "import matplotlib.pyplot as plt\n",
        "import seaborn as sns\n",
        "\n",
        "from sklearn.model_selection import train_test_split, GridSearchCV\n",
        "from sklearn.tree import DecisionTreeClassifier\n",
        "from sklearn.linear_model import LogisticRegression\n",
        "from sklearn.metrics import classification_report, confusion_matrix, accuracy_score\n",
        "from sklearn.ensemble import RandomForestClassifier\n",
        "from sklearn.neighbors import KNeighborsClassifier\n",
        "from sklearn.svm import SVC\n",
        "from sklearn.preprocessing import LabelEncoder\n",
        "\n",
        "import plotly.express as px"
      ],
      "metadata": {
        "id": "RJf_vc5mXYOu"
      },
      "execution_count": null,
      "outputs": []
    },
    {
      "cell_type": "code",
      "source": [
        "from google.colab import drive\n",
        "drive.mount('/content/drive')"
      ],
      "metadata": {
        "id": "ZN_Ilxv6mQPq",
        "colab": {
          "base_uri": "https://localhost:8080/"
        },
        "outputId": "111f1487-122a-47d5-d6fc-8b6b9f4c2de3"
      },
      "execution_count": null,
      "outputs": [
        {
          "output_type": "stream",
          "name": "stdout",
          "text": [
            "Drive already mounted at /content/drive; to attempt to forcibly remount, call drive.mount(\"/content/drive\", force_remount=True).\n"
          ]
        }
      ]
    },
    {
      "cell_type": "markdown",
      "metadata": {
        "papermill": {
          "duration": 0.0203,
          "end_time": "2020-09-08T03:15:58.543518",
          "exception": false,
          "start_time": "2020-09-08T03:15:58.523218",
          "status": "completed"
        },
        "tags": [],
        "id": "T-E5wmDvWh_J"
      },
      "source": [
        "### **2- Getting Data**"
      ]
    },
    {
      "cell_type": "code",
      "execution_count": null,
      "metadata": {
        "execution": {
          "iopub.execute_input": "2020-09-08T03:15:58.596255Z",
          "iopub.status.busy": "2020-09-08T03:15:58.594912Z",
          "iopub.status.idle": "2020-09-08T03:15:58.615955Z",
          "shell.execute_reply": "2020-09-08T03:15:58.616654Z"
        },
        "papermill": {
          "duration": 0.052871,
          "end_time": "2020-09-08T03:15:58.616870",
          "exception": false,
          "start_time": "2020-09-08T03:15:58.563999",
          "status": "completed"
        },
        "tags": [],
        "id": "GAVriiMfWh_J"
      },
      "outputs": [],
      "source": [
        "# read the data from the csv into a dataframe\n",
        "df = pd.read_csv(\"/content/drive/MyDrive/datasets_137197_325031_test_Y3wMUE5_7gLdaTN.csv\")"
      ]
    },
    {
      "cell_type": "code",
      "source": [
        "# show the top 4 lines of the dataframe\n",
        "df.head()[:4]"
      ],
      "metadata": {
        "id": "v_MnpyhgYe2D",
        "colab": {
          "base_uri": "https://localhost:8080/",
          "height": 239
        },
        "outputId": "b891066c-a70a-4fd6-98b5-b7aa681cdfdc"
      },
      "execution_count": null,
      "outputs": [
        {
          "output_type": "execute_result",
          "data": {
            "text/plain": [
              "    Loan_ID Gender Married Dependents Education Self_Employed  \\\n",
              "0  LP001015   Male     Yes          0  Graduate            No   \n",
              "1  LP001022   Male     Yes          1  Graduate            No   \n",
              "2  LP001031   Male     Yes          2  Graduate            No   \n",
              "3  LP001035   Male     Yes          2  Graduate            No   \n",
              "\n",
              "   ApplicantIncome  CoapplicantIncome  LoanAmount  Loan_Amount_Term  \\\n",
              "0             5720                  0       110.0             360.0   \n",
              "1             3076               1500       126.0             360.0   \n",
              "2             5000               1800       208.0             360.0   \n",
              "3             2340               2546       100.0             360.0   \n",
              "\n",
              "   Credit_History Property_Area  \n",
              "0             1.0         Urban  \n",
              "1             1.0         Urban  \n",
              "2             1.0         Urban  \n",
              "3             NaN         Urban  "
            ],
            "text/html": [
              "\n",
              "  <div id=\"df-8f0e1525-980c-4cf0-af5c-554e74175378\">\n",
              "    <div class=\"colab-df-container\">\n",
              "      <div>\n",
              "<style scoped>\n",
              "    .dataframe tbody tr th:only-of-type {\n",
              "        vertical-align: middle;\n",
              "    }\n",
              "\n",
              "    .dataframe tbody tr th {\n",
              "        vertical-align: top;\n",
              "    }\n",
              "\n",
              "    .dataframe thead th {\n",
              "        text-align: right;\n",
              "    }\n",
              "</style>\n",
              "<table border=\"1\" class=\"dataframe\">\n",
              "  <thead>\n",
              "    <tr style=\"text-align: right;\">\n",
              "      <th></th>\n",
              "      <th>Loan_ID</th>\n",
              "      <th>Gender</th>\n",
              "      <th>Married</th>\n",
              "      <th>Dependents</th>\n",
              "      <th>Education</th>\n",
              "      <th>Self_Employed</th>\n",
              "      <th>ApplicantIncome</th>\n",
              "      <th>CoapplicantIncome</th>\n",
              "      <th>LoanAmount</th>\n",
              "      <th>Loan_Amount_Term</th>\n",
              "      <th>Credit_History</th>\n",
              "      <th>Property_Area</th>\n",
              "    </tr>\n",
              "  </thead>\n",
              "  <tbody>\n",
              "    <tr>\n",
              "      <th>0</th>\n",
              "      <td>LP001015</td>\n",
              "      <td>Male</td>\n",
              "      <td>Yes</td>\n",
              "      <td>0</td>\n",
              "      <td>Graduate</td>\n",
              "      <td>No</td>\n",
              "      <td>5720</td>\n",
              "      <td>0</td>\n",
              "      <td>110.0</td>\n",
              "      <td>360.0</td>\n",
              "      <td>1.0</td>\n",
              "      <td>Urban</td>\n",
              "    </tr>\n",
              "    <tr>\n",
              "      <th>1</th>\n",
              "      <td>LP001022</td>\n",
              "      <td>Male</td>\n",
              "      <td>Yes</td>\n",
              "      <td>1</td>\n",
              "      <td>Graduate</td>\n",
              "      <td>No</td>\n",
              "      <td>3076</td>\n",
              "      <td>1500</td>\n",
              "      <td>126.0</td>\n",
              "      <td>360.0</td>\n",
              "      <td>1.0</td>\n",
              "      <td>Urban</td>\n",
              "    </tr>\n",
              "    <tr>\n",
              "      <th>2</th>\n",
              "      <td>LP001031</td>\n",
              "      <td>Male</td>\n",
              "      <td>Yes</td>\n",
              "      <td>2</td>\n",
              "      <td>Graduate</td>\n",
              "      <td>No</td>\n",
              "      <td>5000</td>\n",
              "      <td>1800</td>\n",
              "      <td>208.0</td>\n",
              "      <td>360.0</td>\n",
              "      <td>1.0</td>\n",
              "      <td>Urban</td>\n",
              "    </tr>\n",
              "    <tr>\n",
              "      <th>3</th>\n",
              "      <td>LP001035</td>\n",
              "      <td>Male</td>\n",
              "      <td>Yes</td>\n",
              "      <td>2</td>\n",
              "      <td>Graduate</td>\n",
              "      <td>No</td>\n",
              "      <td>2340</td>\n",
              "      <td>2546</td>\n",
              "      <td>100.0</td>\n",
              "      <td>360.0</td>\n",
              "      <td>NaN</td>\n",
              "      <td>Urban</td>\n",
              "    </tr>\n",
              "  </tbody>\n",
              "</table>\n",
              "</div>\n",
              "      <button class=\"colab-df-convert\" onclick=\"convertToInteractive('df-8f0e1525-980c-4cf0-af5c-554e74175378')\"\n",
              "              title=\"Convert this dataframe to an interactive table.\"\n",
              "              style=\"display:none;\">\n",
              "        \n",
              "  <svg xmlns=\"http://www.w3.org/2000/svg\" height=\"24px\"viewBox=\"0 0 24 24\"\n",
              "       width=\"24px\">\n",
              "    <path d=\"M0 0h24v24H0V0z\" fill=\"none\"/>\n",
              "    <path d=\"M18.56 5.44l.94 2.06.94-2.06 2.06-.94-2.06-.94-.94-2.06-.94 2.06-2.06.94zm-11 1L8.5 8.5l.94-2.06 2.06-.94-2.06-.94L8.5 2.5l-.94 2.06-2.06.94zm10 10l.94 2.06.94-2.06 2.06-.94-2.06-.94-.94-2.06-.94 2.06-2.06.94z\"/><path d=\"M17.41 7.96l-1.37-1.37c-.4-.4-.92-.59-1.43-.59-.52 0-1.04.2-1.43.59L10.3 9.45l-7.72 7.72c-.78.78-.78 2.05 0 2.83L4 21.41c.39.39.9.59 1.41.59.51 0 1.02-.2 1.41-.59l7.78-7.78 2.81-2.81c.8-.78.8-2.07 0-2.86zM5.41 20L4 18.59l7.72-7.72 1.47 1.35L5.41 20z\"/>\n",
              "  </svg>\n",
              "      </button>\n",
              "      \n",
              "  <style>\n",
              "    .colab-df-container {\n",
              "      display:flex;\n",
              "      flex-wrap:wrap;\n",
              "      gap: 12px;\n",
              "    }\n",
              "\n",
              "    .colab-df-convert {\n",
              "      background-color: #E8F0FE;\n",
              "      border: none;\n",
              "      border-radius: 50%;\n",
              "      cursor: pointer;\n",
              "      display: none;\n",
              "      fill: #1967D2;\n",
              "      height: 32px;\n",
              "      padding: 0 0 0 0;\n",
              "      width: 32px;\n",
              "    }\n",
              "\n",
              "    .colab-df-convert:hover {\n",
              "      background-color: #E2EBFA;\n",
              "      box-shadow: 0px 1px 2px rgba(60, 64, 67, 0.3), 0px 1px 3px 1px rgba(60, 64, 67, 0.15);\n",
              "      fill: #174EA6;\n",
              "    }\n",
              "\n",
              "    [theme=dark] .colab-df-convert {\n",
              "      background-color: #3B4455;\n",
              "      fill: #D2E3FC;\n",
              "    }\n",
              "\n",
              "    [theme=dark] .colab-df-convert:hover {\n",
              "      background-color: #434B5C;\n",
              "      box-shadow: 0px 1px 3px 1px rgba(0, 0, 0, 0.15);\n",
              "      filter: drop-shadow(0px 1px 2px rgba(0, 0, 0, 0.3));\n",
              "      fill: #FFFFFF;\n",
              "    }\n",
              "  </style>\n",
              "\n",
              "      <script>\n",
              "        const buttonEl =\n",
              "          document.querySelector('#df-8f0e1525-980c-4cf0-af5c-554e74175378 button.colab-df-convert');\n",
              "        buttonEl.style.display =\n",
              "          google.colab.kernel.accessAllowed ? 'block' : 'none';\n",
              "\n",
              "        async function convertToInteractive(key) {\n",
              "          const element = document.querySelector('#df-8f0e1525-980c-4cf0-af5c-554e74175378');\n",
              "          const dataTable =\n",
              "            await google.colab.kernel.invokeFunction('convertToInteractive',\n",
              "                                                     [key], {});\n",
              "          if (!dataTable) return;\n",
              "\n",
              "          const docLinkHtml = 'Like what you see? Visit the ' +\n",
              "            '<a target=\"_blank\" href=https://colab.research.google.com/notebooks/data_table.ipynb>data table notebook</a>'\n",
              "            + ' to learn more about interactive tables.';\n",
              "          element.innerHTML = '';\n",
              "          dataTable['output_type'] = 'display_data';\n",
              "          await google.colab.output.renderOutput(dataTable, element);\n",
              "          const docLink = document.createElement('div');\n",
              "          docLink.innerHTML = docLinkHtml;\n",
              "          element.appendChild(docLink);\n",
              "        }\n",
              "      </script>\n",
              "    </div>\n",
              "  </div>\n",
              "  "
            ]
          },
          "metadata": {},
          "execution_count": 31
        }
      ]
    },
    {
      "cell_type": "code",
      "source": [
        "# show the shape of the dataframe\n",
        "df.shape"
      ],
      "metadata": {
        "id": "5n1cMzdWYmZJ",
        "colab": {
          "base_uri": "https://localhost:8080/"
        },
        "outputId": "92e50130-f0c1-4acd-bc9c-aa6c898246eb"
      },
      "execution_count": null,
      "outputs": [
        {
          "output_type": "execute_result",
          "data": {
            "text/plain": [
              "(367, 12)"
            ]
          },
          "metadata": {},
          "execution_count": 32
        }
      ]
    },
    {
      "cell_type": "markdown",
      "metadata": {
        "papermill": {
          "duration": 0.02076,
          "end_time": "2020-09-08T03:15:58.836898",
          "exception": false,
          "start_time": "2020-09-08T03:15:58.816138",
          "status": "completed"
        },
        "tags": [],
        "id": "5SpbLalUWh_M"
      },
      "source": [
        "##### 2-1-Renaming columns"
      ]
    },
    {
      "cell_type": "code",
      "source": [
        "# rename all the columns as lowercase strings\n",
        "df.columns=df.columns.str.lower()\n",
        "df"
      ],
      "metadata": {
        "id": "bwXmuEzNYrie",
        "colab": {
          "base_uri": "https://localhost:8080/",
          "height": 522
        },
        "outputId": "d1543daa-0529-4628-fd9b-0d1239ff711c"
      },
      "execution_count": null,
      "outputs": [
        {
          "output_type": "execute_result",
          "data": {
            "text/plain": [
              "      loan_id gender married dependents     education self_employed  \\\n",
              "0    LP001015   Male     Yes          0      Graduate            No   \n",
              "1    LP001022   Male     Yes          1      Graduate            No   \n",
              "2    LP001031   Male     Yes          2      Graduate            No   \n",
              "3    LP001035   Male     Yes          2      Graduate            No   \n",
              "4    LP001051   Male      No          0  Not Graduate            No   \n",
              "..        ...    ...     ...        ...           ...           ...   \n",
              "362  LP002971   Male     Yes         3+  Not Graduate           Yes   \n",
              "363  LP002975   Male     Yes          0      Graduate            No   \n",
              "364  LP002980   Male      No          0      Graduate            No   \n",
              "365  LP002986   Male     Yes          0      Graduate            No   \n",
              "366  LP002989   Male      No          0      Graduate           Yes   \n",
              "\n",
              "     applicant_income  coapplicant_income  loan_amount  loan_amount_term  \\\n",
              "0                5720                   0        110.0             360.0   \n",
              "1                3076                1500        126.0             360.0   \n",
              "2                5000                1800        208.0             360.0   \n",
              "3                2340                2546        100.0             360.0   \n",
              "4                3276                   0         78.0             360.0   \n",
              "..                ...                 ...          ...               ...   \n",
              "362              4009                1777        113.0             360.0   \n",
              "363              4158                 709        115.0             360.0   \n",
              "364              3250                1993        126.0             360.0   \n",
              "365              5000                2393        158.0             360.0   \n",
              "366              9200                   0         98.0             180.0   \n",
              "\n",
              "     credit_history property_area  \n",
              "0               1.0         Urban  \n",
              "1               1.0         Urban  \n",
              "2               1.0         Urban  \n",
              "3               NaN         Urban  \n",
              "4               1.0         Urban  \n",
              "..              ...           ...  \n",
              "362             1.0         Urban  \n",
              "363             1.0         Urban  \n",
              "364             NaN     Semiurban  \n",
              "365             1.0         Rural  \n",
              "366             1.0         Rural  \n",
              "\n",
              "[367 rows x 12 columns]"
            ],
            "text/html": [
              "\n",
              "  <div id=\"df-05ec3a22-6c5d-43e0-98b4-d4b66c0f6fdb\">\n",
              "    <div class=\"colab-df-container\">\n",
              "      <div>\n",
              "<style scoped>\n",
              "    .dataframe tbody tr th:only-of-type {\n",
              "        vertical-align: middle;\n",
              "    }\n",
              "\n",
              "    .dataframe tbody tr th {\n",
              "        vertical-align: top;\n",
              "    }\n",
              "\n",
              "    .dataframe thead th {\n",
              "        text-align: right;\n",
              "    }\n",
              "</style>\n",
              "<table border=\"1\" class=\"dataframe\">\n",
              "  <thead>\n",
              "    <tr style=\"text-align: right;\">\n",
              "      <th></th>\n",
              "      <th>loan_id</th>\n",
              "      <th>gender</th>\n",
              "      <th>married</th>\n",
              "      <th>dependents</th>\n",
              "      <th>education</th>\n",
              "      <th>self_employed</th>\n",
              "      <th>applicant_income</th>\n",
              "      <th>coapplicant_income</th>\n",
              "      <th>loan_amount</th>\n",
              "      <th>loan_amount_term</th>\n",
              "      <th>credit_history</th>\n",
              "      <th>property_area</th>\n",
              "    </tr>\n",
              "  </thead>\n",
              "  <tbody>\n",
              "    <tr>\n",
              "      <th>0</th>\n",
              "      <td>LP001015</td>\n",
              "      <td>Male</td>\n",
              "      <td>Yes</td>\n",
              "      <td>0</td>\n",
              "      <td>Graduate</td>\n",
              "      <td>No</td>\n",
              "      <td>5720</td>\n",
              "      <td>0</td>\n",
              "      <td>110.0</td>\n",
              "      <td>360.0</td>\n",
              "      <td>1.0</td>\n",
              "      <td>Urban</td>\n",
              "    </tr>\n",
              "    <tr>\n",
              "      <th>1</th>\n",
              "      <td>LP001022</td>\n",
              "      <td>Male</td>\n",
              "      <td>Yes</td>\n",
              "      <td>1</td>\n",
              "      <td>Graduate</td>\n",
              "      <td>No</td>\n",
              "      <td>3076</td>\n",
              "      <td>1500</td>\n",
              "      <td>126.0</td>\n",
              "      <td>360.0</td>\n",
              "      <td>1.0</td>\n",
              "      <td>Urban</td>\n",
              "    </tr>\n",
              "    <tr>\n",
              "      <th>2</th>\n",
              "      <td>LP001031</td>\n",
              "      <td>Male</td>\n",
              "      <td>Yes</td>\n",
              "      <td>2</td>\n",
              "      <td>Graduate</td>\n",
              "      <td>No</td>\n",
              "      <td>5000</td>\n",
              "      <td>1800</td>\n",
              "      <td>208.0</td>\n",
              "      <td>360.0</td>\n",
              "      <td>1.0</td>\n",
              "      <td>Urban</td>\n",
              "    </tr>\n",
              "    <tr>\n",
              "      <th>3</th>\n",
              "      <td>LP001035</td>\n",
              "      <td>Male</td>\n",
              "      <td>Yes</td>\n",
              "      <td>2</td>\n",
              "      <td>Graduate</td>\n",
              "      <td>No</td>\n",
              "      <td>2340</td>\n",
              "      <td>2546</td>\n",
              "      <td>100.0</td>\n",
              "      <td>360.0</td>\n",
              "      <td>NaN</td>\n",
              "      <td>Urban</td>\n",
              "    </tr>\n",
              "    <tr>\n",
              "      <th>4</th>\n",
              "      <td>LP001051</td>\n",
              "      <td>Male</td>\n",
              "      <td>No</td>\n",
              "      <td>0</td>\n",
              "      <td>Not Graduate</td>\n",
              "      <td>No</td>\n",
              "      <td>3276</td>\n",
              "      <td>0</td>\n",
              "      <td>78.0</td>\n",
              "      <td>360.0</td>\n",
              "      <td>1.0</td>\n",
              "      <td>Urban</td>\n",
              "    </tr>\n",
              "    <tr>\n",
              "      <th>...</th>\n",
              "      <td>...</td>\n",
              "      <td>...</td>\n",
              "      <td>...</td>\n",
              "      <td>...</td>\n",
              "      <td>...</td>\n",
              "      <td>...</td>\n",
              "      <td>...</td>\n",
              "      <td>...</td>\n",
              "      <td>...</td>\n",
              "      <td>...</td>\n",
              "      <td>...</td>\n",
              "      <td>...</td>\n",
              "    </tr>\n",
              "    <tr>\n",
              "      <th>362</th>\n",
              "      <td>LP002971</td>\n",
              "      <td>Male</td>\n",
              "      <td>Yes</td>\n",
              "      <td>3+</td>\n",
              "      <td>Not Graduate</td>\n",
              "      <td>Yes</td>\n",
              "      <td>4009</td>\n",
              "      <td>1777</td>\n",
              "      <td>113.0</td>\n",
              "      <td>360.0</td>\n",
              "      <td>1.0</td>\n",
              "      <td>Urban</td>\n",
              "    </tr>\n",
              "    <tr>\n",
              "      <th>363</th>\n",
              "      <td>LP002975</td>\n",
              "      <td>Male</td>\n",
              "      <td>Yes</td>\n",
              "      <td>0</td>\n",
              "      <td>Graduate</td>\n",
              "      <td>No</td>\n",
              "      <td>4158</td>\n",
              "      <td>709</td>\n",
              "      <td>115.0</td>\n",
              "      <td>360.0</td>\n",
              "      <td>1.0</td>\n",
              "      <td>Urban</td>\n",
              "    </tr>\n",
              "    <tr>\n",
              "      <th>364</th>\n",
              "      <td>LP002980</td>\n",
              "      <td>Male</td>\n",
              "      <td>No</td>\n",
              "      <td>0</td>\n",
              "      <td>Graduate</td>\n",
              "      <td>No</td>\n",
              "      <td>3250</td>\n",
              "      <td>1993</td>\n",
              "      <td>126.0</td>\n",
              "      <td>360.0</td>\n",
              "      <td>NaN</td>\n",
              "      <td>Semiurban</td>\n",
              "    </tr>\n",
              "    <tr>\n",
              "      <th>365</th>\n",
              "      <td>LP002986</td>\n",
              "      <td>Male</td>\n",
              "      <td>Yes</td>\n",
              "      <td>0</td>\n",
              "      <td>Graduate</td>\n",
              "      <td>No</td>\n",
              "      <td>5000</td>\n",
              "      <td>2393</td>\n",
              "      <td>158.0</td>\n",
              "      <td>360.0</td>\n",
              "      <td>1.0</td>\n",
              "      <td>Rural</td>\n",
              "    </tr>\n",
              "    <tr>\n",
              "      <th>366</th>\n",
              "      <td>LP002989</td>\n",
              "      <td>Male</td>\n",
              "      <td>No</td>\n",
              "      <td>0</td>\n",
              "      <td>Graduate</td>\n",
              "      <td>Yes</td>\n",
              "      <td>9200</td>\n",
              "      <td>0</td>\n",
              "      <td>98.0</td>\n",
              "      <td>180.0</td>\n",
              "      <td>1.0</td>\n",
              "      <td>Rural</td>\n",
              "    </tr>\n",
              "  </tbody>\n",
              "</table>\n",
              "<p>367 rows × 12 columns</p>\n",
              "</div>\n",
              "      <button class=\"colab-df-convert\" onclick=\"convertToInteractive('df-05ec3a22-6c5d-43e0-98b4-d4b66c0f6fdb')\"\n",
              "              title=\"Convert this dataframe to an interactive table.\"\n",
              "              style=\"display:none;\">\n",
              "        \n",
              "  <svg xmlns=\"http://www.w3.org/2000/svg\" height=\"24px\"viewBox=\"0 0 24 24\"\n",
              "       width=\"24px\">\n",
              "    <path d=\"M0 0h24v24H0V0z\" fill=\"none\"/>\n",
              "    <path d=\"M18.56 5.44l.94 2.06.94-2.06 2.06-.94-2.06-.94-.94-2.06-.94 2.06-2.06.94zm-11 1L8.5 8.5l.94-2.06 2.06-.94-2.06-.94L8.5 2.5l-.94 2.06-2.06.94zm10 10l.94 2.06.94-2.06 2.06-.94-2.06-.94-.94-2.06-.94 2.06-2.06.94z\"/><path d=\"M17.41 7.96l-1.37-1.37c-.4-.4-.92-.59-1.43-.59-.52 0-1.04.2-1.43.59L10.3 9.45l-7.72 7.72c-.78.78-.78 2.05 0 2.83L4 21.41c.39.39.9.59 1.41.59.51 0 1.02-.2 1.41-.59l7.78-7.78 2.81-2.81c.8-.78.8-2.07 0-2.86zM5.41 20L4 18.59l7.72-7.72 1.47 1.35L5.41 20z\"/>\n",
              "  </svg>\n",
              "      </button>\n",
              "      \n",
              "  <style>\n",
              "    .colab-df-container {\n",
              "      display:flex;\n",
              "      flex-wrap:wrap;\n",
              "      gap: 12px;\n",
              "    }\n",
              "\n",
              "    .colab-df-convert {\n",
              "      background-color: #E8F0FE;\n",
              "      border: none;\n",
              "      border-radius: 50%;\n",
              "      cursor: pointer;\n",
              "      display: none;\n",
              "      fill: #1967D2;\n",
              "      height: 32px;\n",
              "      padding: 0 0 0 0;\n",
              "      width: 32px;\n",
              "    }\n",
              "\n",
              "    .colab-df-convert:hover {\n",
              "      background-color: #E2EBFA;\n",
              "      box-shadow: 0px 1px 2px rgba(60, 64, 67, 0.3), 0px 1px 3px 1px rgba(60, 64, 67, 0.15);\n",
              "      fill: #174EA6;\n",
              "    }\n",
              "\n",
              "    [theme=dark] .colab-df-convert {\n",
              "      background-color: #3B4455;\n",
              "      fill: #D2E3FC;\n",
              "    }\n",
              "\n",
              "    [theme=dark] .colab-df-convert:hover {\n",
              "      background-color: #434B5C;\n",
              "      box-shadow: 0px 1px 3px 1px rgba(0, 0, 0, 0.15);\n",
              "      filter: drop-shadow(0px 1px 2px rgba(0, 0, 0, 0.3));\n",
              "      fill: #FFFFFF;\n",
              "    }\n",
              "  </style>\n",
              "\n",
              "      <script>\n",
              "        const buttonEl =\n",
              "          document.querySelector('#df-05ec3a22-6c5d-43e0-98b4-d4b66c0f6fdb button.colab-df-convert');\n",
              "        buttonEl.style.display =\n",
              "          google.colab.kernel.accessAllowed ? 'block' : 'none';\n",
              "\n",
              "        async function convertToInteractive(key) {\n",
              "          const element = document.querySelector('#df-05ec3a22-6c5d-43e0-98b4-d4b66c0f6fdb');\n",
              "          const dataTable =\n",
              "            await google.colab.kernel.invokeFunction('convertToInteractive',\n",
              "                                                     [key], {});\n",
              "          if (!dataTable) return;\n",
              "\n",
              "          const docLinkHtml = 'Like what you see? Visit the ' +\n",
              "            '<a target=\"_blank\" href=https://colab.research.google.com/notebooks/data_table.ipynb>data table notebook</a>'\n",
              "            + ' to learn more about interactive tables.';\n",
              "          element.innerHTML = '';\n",
              "          dataTable['output_type'] = 'display_data';\n",
              "          await google.colab.output.renderOutput(dataTable, element);\n",
              "          const docLink = document.createElement('div');\n",
              "          docLink.innerHTML = docLinkHtml;\n",
              "          element.appendChild(docLink);\n",
              "        }\n",
              "      </script>\n",
              "    </div>\n",
              "  </div>\n",
              "  "
            ]
          },
          "metadata": {},
          "execution_count": 37
        }
      ]
    },
    {
      "cell_type": "code",
      "source": [
        "# rename all the columns so that they all have _ in between any column head with two or more words\n",
        "\n",
        "df = df.rename(columns = {\"applicantincome\": \"applicant_income\", \"coapplicantincome\": \"coapplicant_income\", \"loanamount\": \"loan_amount\"})\n",
        "print(df)"
      ],
      "metadata": {
        "id": "brnUDnNcZc4f",
        "colab": {
          "base_uri": "https://localhost:8080/"
        },
        "outputId": "efa31527-ee7c-4e46-fdfc-9e681f043ef6"
      },
      "execution_count": null,
      "outputs": [
        {
          "output_type": "stream",
          "name": "stdout",
          "text": [
            "      loan_id gender married dependents     education self_employed  \\\n",
            "0    LP001015   Male     Yes          0      Graduate            No   \n",
            "1    LP001022   Male     Yes          1      Graduate            No   \n",
            "2    LP001031   Male     Yes          2      Graduate            No   \n",
            "3    LP001035   Male     Yes          2      Graduate            No   \n",
            "4    LP001051   Male      No          0  Not Graduate            No   \n",
            "..        ...    ...     ...        ...           ...           ...   \n",
            "362  LP002971   Male     Yes         3+  Not Graduate           Yes   \n",
            "363  LP002975   Male     Yes          0      Graduate            No   \n",
            "364  LP002980   Male      No          0      Graduate            No   \n",
            "365  LP002986   Male     Yes          0      Graduate            No   \n",
            "366  LP002989   Male      No          0      Graduate           Yes   \n",
            "\n",
            "     applicant_income  coapplicant_income  loan_amount  loan_amount_term  \\\n",
            "0                5720                   0        110.0             360.0   \n",
            "1                3076                1500        126.0             360.0   \n",
            "2                5000                1800        208.0             360.0   \n",
            "3                2340                2546        100.0             360.0   \n",
            "4                3276                   0         78.0             360.0   \n",
            "..                ...                 ...          ...               ...   \n",
            "362              4009                1777        113.0             360.0   \n",
            "363              4158                 709        115.0             360.0   \n",
            "364              3250                1993        126.0             360.0   \n",
            "365              5000                2393        158.0             360.0   \n",
            "366              9200                   0         98.0             180.0   \n",
            "\n",
            "     credit_history property_area  \n",
            "0               1.0         Urban  \n",
            "1               1.0         Urban  \n",
            "2               1.0         Urban  \n",
            "3               NaN         Urban  \n",
            "4               1.0         Urban  \n",
            "..              ...           ...  \n",
            "362             1.0         Urban  \n",
            "363             1.0         Urban  \n",
            "364             NaN     Semiurban  \n",
            "365             1.0         Rural  \n",
            "366             1.0         Rural  \n",
            "\n",
            "[367 rows x 12 columns]\n"
          ]
        }
      ]
    },
    {
      "cell_type": "markdown",
      "metadata": {
        "papermill": {
          "duration": 0.0218,
          "end_time": "2020-09-08T03:15:58.989112",
          "exception": false,
          "start_time": "2020-09-08T03:15:58.967312",
          "status": "completed"
        },
        "tags": [],
        "id": "ijuPuoFlWh_O"
      },
      "source": [
        "##### 2-2-Checking null values"
      ]
    },
    {
      "cell_type": "code",
      "source": [
        "# Check all the columns to see if they have null values (NaN) and sum them\n",
        "print(df.isnull().sum().sum())"
      ],
      "metadata": {
        "id": "Fsp_w-9OZmGr",
        "colab": {
          "base_uri": "https://localhost:8080/"
        },
        "outputId": "0e2369cb-c09c-43c0-f238-291ceb3e7110"
      },
      "execution_count": null,
      "outputs": [
        {
          "output_type": "stream",
          "name": "stdout",
          "text": [
            "84\n"
          ]
        }
      ]
    },
    {
      "cell_type": "markdown",
      "metadata": {
        "papermill": {
          "duration": 0.021552,
          "end_time": "2020-09-08T03:15:59.091701",
          "exception": false,
          "start_time": "2020-09-08T03:15:59.070149",
          "status": "completed"
        },
        "tags": [],
        "id": "7xm8-x-FWh_P"
      },
      "source": [
        "we take care of missing values in \"loan_amount\" and \"credit_history\".\n",
        "For other null values, we either delete a particular row if it has a null value for a particular feature and a particular column if it has more than 70-75% of missing values. This method is advised only when there are enough samples in the data set. "
      ]
    },
    {
      "cell_type": "code",
      "source": [
        "# fill the null values in the loan amount column with the mean of the loan amount  column\n",
        "df['loan_amount']=df['loan_amount'].fillna(df['loan_amount'].mean())   "
      ],
      "metadata": {
        "id": "EEBm3PquZ8vm"
      },
      "execution_count": null,
      "outputs": []
    },
    {
      "cell_type": "code",
      "source": [
        "# fill the null values in the  credit history column with the median of the credit history column\n",
        "df[\"credit_history\"]=df[\"credit_history\"].fillna(df['credit_history'].mean()) "
      ],
      "metadata": {
        "id": "FIsd_oQ6aHEy"
      },
      "execution_count": null,
      "outputs": []
    },
    {
      "cell_type": "code",
      "execution_count": null,
      "metadata": {
        "execution": {
          "iopub.execute_input": "2020-09-08T03:15:59.253265Z",
          "iopub.status.busy": "2020-09-08T03:15:59.252455Z",
          "iopub.status.idle": "2020-09-08T03:15:59.289669Z",
          "shell.execute_reply": "2020-09-08T03:15:59.288991Z"
        },
        "papermill": {
          "duration": 0.068028,
          "end_time": "2020-09-08T03:15:59.289838",
          "exception": false,
          "start_time": "2020-09-08T03:15:59.221810",
          "status": "completed"
        },
        "tags": [],
        "id": "zTDC0GWGWh_Q",
        "colab": {
          "base_uri": "https://localhost:8080/"
        },
        "outputId": "ad30f2e3-b1fc-4c7e-ce10-bd254d1be0f0"
      },
      "outputs": [
        {
          "output_type": "execute_result",
          "data": {
            "text/plain": [
              "(318, 12)"
            ]
          },
          "metadata": {},
          "execution_count": 43
        }
      ],
      "source": [
        "df.dropna(axis=0, inplace=True)\n",
        "\n",
        "# write down what this column does\n",
        "# this line removes rows with missing values and saves the dataframe as the one without the missing values"
      ]
    },
    {
      "cell_type": "markdown",
      "source": [
        ""
      ],
      "metadata": {
        "id": "LSAnzVlsaY6_"
      }
    },
    {
      "cell_type": "code",
      "source": [
        "# prove there are no more null values in the columns using the same command as above\n",
        "print(f\"There are {len(df)} rows before removing missing values again.\")\n",
        "df.dropna(axis=0, inplace=True)\n",
        "print(f\"There are the same number of rows ({len(df)}) rows after removing missing values again.\")"
      ],
      "metadata": {
        "id": "55gRaRUPaiw_",
        "colab": {
          "base_uri": "https://localhost:8080/"
        },
        "outputId": "0f340b55-f3dd-4723-ef2d-0fd2fc5e40db"
      },
      "execution_count": null,
      "outputs": [
        {
          "output_type": "stream",
          "name": "stdout",
          "text": [
            "There are 318 rows before removing missing values again.\n",
            "There are the same number of rows (318) rows after removing missing values again.\n"
          ]
        }
      ]
    },
    {
      "cell_type": "code",
      "source": [
        "# show the top 4 lines of the dataframe\n",
        "df.head()[:4]"
      ],
      "metadata": {
        "id": "ePeUVyJNaq50",
        "colab": {
          "base_uri": "https://localhost:8080/",
          "height": 239
        },
        "outputId": "4cc6e233-b527-4e73-da48-ba3f78849446"
      },
      "execution_count": null,
      "outputs": [
        {
          "output_type": "execute_result",
          "data": {
            "text/plain": [
              "    loan_id gender married dependents education self_employed  \\\n",
              "0  LP001015   Male     Yes          0  Graduate            No   \n",
              "1  LP001022   Male     Yes          1  Graduate            No   \n",
              "2  LP001031   Male     Yes          2  Graduate            No   \n",
              "3  LP001035   Male     Yes          2  Graduate            No   \n",
              "\n",
              "   applicant_income  coapplicant_income  loan_amount  loan_amount_term  \\\n",
              "0              5720                   0        110.0             360.0   \n",
              "1              3076                1500        126.0             360.0   \n",
              "2              5000                1800        208.0             360.0   \n",
              "3              2340                2546        100.0             360.0   \n",
              "\n",
              "   credit_history property_area  \n",
              "0        1.000000         Urban  \n",
              "1        1.000000         Urban  \n",
              "2        1.000000         Urban  \n",
              "3        0.825444         Urban  "
            ],
            "text/html": [
              "\n",
              "  <div id=\"df-6fc68331-9b40-4d92-bdda-6f48d158c628\">\n",
              "    <div class=\"colab-df-container\">\n",
              "      <div>\n",
              "<style scoped>\n",
              "    .dataframe tbody tr th:only-of-type {\n",
              "        vertical-align: middle;\n",
              "    }\n",
              "\n",
              "    .dataframe tbody tr th {\n",
              "        vertical-align: top;\n",
              "    }\n",
              "\n",
              "    .dataframe thead th {\n",
              "        text-align: right;\n",
              "    }\n",
              "</style>\n",
              "<table border=\"1\" class=\"dataframe\">\n",
              "  <thead>\n",
              "    <tr style=\"text-align: right;\">\n",
              "      <th></th>\n",
              "      <th>loan_id</th>\n",
              "      <th>gender</th>\n",
              "      <th>married</th>\n",
              "      <th>dependents</th>\n",
              "      <th>education</th>\n",
              "      <th>self_employed</th>\n",
              "      <th>applicant_income</th>\n",
              "      <th>coapplicant_income</th>\n",
              "      <th>loan_amount</th>\n",
              "      <th>loan_amount_term</th>\n",
              "      <th>credit_history</th>\n",
              "      <th>property_area</th>\n",
              "    </tr>\n",
              "  </thead>\n",
              "  <tbody>\n",
              "    <tr>\n",
              "      <th>0</th>\n",
              "      <td>LP001015</td>\n",
              "      <td>Male</td>\n",
              "      <td>Yes</td>\n",
              "      <td>0</td>\n",
              "      <td>Graduate</td>\n",
              "      <td>No</td>\n",
              "      <td>5720</td>\n",
              "      <td>0</td>\n",
              "      <td>110.0</td>\n",
              "      <td>360.0</td>\n",
              "      <td>1.000000</td>\n",
              "      <td>Urban</td>\n",
              "    </tr>\n",
              "    <tr>\n",
              "      <th>1</th>\n",
              "      <td>LP001022</td>\n",
              "      <td>Male</td>\n",
              "      <td>Yes</td>\n",
              "      <td>1</td>\n",
              "      <td>Graduate</td>\n",
              "      <td>No</td>\n",
              "      <td>3076</td>\n",
              "      <td>1500</td>\n",
              "      <td>126.0</td>\n",
              "      <td>360.0</td>\n",
              "      <td>1.000000</td>\n",
              "      <td>Urban</td>\n",
              "    </tr>\n",
              "    <tr>\n",
              "      <th>2</th>\n",
              "      <td>LP001031</td>\n",
              "      <td>Male</td>\n",
              "      <td>Yes</td>\n",
              "      <td>2</td>\n",
              "      <td>Graduate</td>\n",
              "      <td>No</td>\n",
              "      <td>5000</td>\n",
              "      <td>1800</td>\n",
              "      <td>208.0</td>\n",
              "      <td>360.0</td>\n",
              "      <td>1.000000</td>\n",
              "      <td>Urban</td>\n",
              "    </tr>\n",
              "    <tr>\n",
              "      <th>3</th>\n",
              "      <td>LP001035</td>\n",
              "      <td>Male</td>\n",
              "      <td>Yes</td>\n",
              "      <td>2</td>\n",
              "      <td>Graduate</td>\n",
              "      <td>No</td>\n",
              "      <td>2340</td>\n",
              "      <td>2546</td>\n",
              "      <td>100.0</td>\n",
              "      <td>360.0</td>\n",
              "      <td>0.825444</td>\n",
              "      <td>Urban</td>\n",
              "    </tr>\n",
              "  </tbody>\n",
              "</table>\n",
              "</div>\n",
              "      <button class=\"colab-df-convert\" onclick=\"convertToInteractive('df-6fc68331-9b40-4d92-bdda-6f48d158c628')\"\n",
              "              title=\"Convert this dataframe to an interactive table.\"\n",
              "              style=\"display:none;\">\n",
              "        \n",
              "  <svg xmlns=\"http://www.w3.org/2000/svg\" height=\"24px\"viewBox=\"0 0 24 24\"\n",
              "       width=\"24px\">\n",
              "    <path d=\"M0 0h24v24H0V0z\" fill=\"none\"/>\n",
              "    <path d=\"M18.56 5.44l.94 2.06.94-2.06 2.06-.94-2.06-.94-.94-2.06-.94 2.06-2.06.94zm-11 1L8.5 8.5l.94-2.06 2.06-.94-2.06-.94L8.5 2.5l-.94 2.06-2.06.94zm10 10l.94 2.06.94-2.06 2.06-.94-2.06-.94-.94-2.06-.94 2.06-2.06.94z\"/><path d=\"M17.41 7.96l-1.37-1.37c-.4-.4-.92-.59-1.43-.59-.52 0-1.04.2-1.43.59L10.3 9.45l-7.72 7.72c-.78.78-.78 2.05 0 2.83L4 21.41c.39.39.9.59 1.41.59.51 0 1.02-.2 1.41-.59l7.78-7.78 2.81-2.81c.8-.78.8-2.07 0-2.86zM5.41 20L4 18.59l7.72-7.72 1.47 1.35L5.41 20z\"/>\n",
              "  </svg>\n",
              "      </button>\n",
              "      \n",
              "  <style>\n",
              "    .colab-df-container {\n",
              "      display:flex;\n",
              "      flex-wrap:wrap;\n",
              "      gap: 12px;\n",
              "    }\n",
              "\n",
              "    .colab-df-convert {\n",
              "      background-color: #E8F0FE;\n",
              "      border: none;\n",
              "      border-radius: 50%;\n",
              "      cursor: pointer;\n",
              "      display: none;\n",
              "      fill: #1967D2;\n",
              "      height: 32px;\n",
              "      padding: 0 0 0 0;\n",
              "      width: 32px;\n",
              "    }\n",
              "\n",
              "    .colab-df-convert:hover {\n",
              "      background-color: #E2EBFA;\n",
              "      box-shadow: 0px 1px 2px rgba(60, 64, 67, 0.3), 0px 1px 3px 1px rgba(60, 64, 67, 0.15);\n",
              "      fill: #174EA6;\n",
              "    }\n",
              "\n",
              "    [theme=dark] .colab-df-convert {\n",
              "      background-color: #3B4455;\n",
              "      fill: #D2E3FC;\n",
              "    }\n",
              "\n",
              "    [theme=dark] .colab-df-convert:hover {\n",
              "      background-color: #434B5C;\n",
              "      box-shadow: 0px 1px 3px 1px rgba(0, 0, 0, 0.15);\n",
              "      filter: drop-shadow(0px 1px 2px rgba(0, 0, 0, 0.3));\n",
              "      fill: #FFFFFF;\n",
              "    }\n",
              "  </style>\n",
              "\n",
              "      <script>\n",
              "        const buttonEl =\n",
              "          document.querySelector('#df-6fc68331-9b40-4d92-bdda-6f48d158c628 button.colab-df-convert');\n",
              "        buttonEl.style.display =\n",
              "          google.colab.kernel.accessAllowed ? 'block' : 'none';\n",
              "\n",
              "        async function convertToInteractive(key) {\n",
              "          const element = document.querySelector('#df-6fc68331-9b40-4d92-bdda-6f48d158c628');\n",
              "          const dataTable =\n",
              "            await google.colab.kernel.invokeFunction('convertToInteractive',\n",
              "                                                     [key], {});\n",
              "          if (!dataTable) return;\n",
              "\n",
              "          const docLinkHtml = 'Like what you see? Visit the ' +\n",
              "            '<a target=\"_blank\" href=https://colab.research.google.com/notebooks/data_table.ipynb>data table notebook</a>'\n",
              "            + ' to learn more about interactive tables.';\n",
              "          element.innerHTML = '';\n",
              "          dataTable['output_type'] = 'display_data';\n",
              "          await google.colab.output.renderOutput(dataTable, element);\n",
              "          const docLink = document.createElement('div');\n",
              "          docLink.innerHTML = docLinkHtml;\n",
              "          element.appendChild(docLink);\n",
              "        }\n",
              "      </script>\n",
              "    </div>\n",
              "  </div>\n",
              "  "
            ]
          },
          "metadata": {},
          "execution_count": 48
        }
      ]
    },
    {
      "cell_type": "code",
      "source": [
        "# show the new shape of the dataframe\n",
        "df.shape"
      ],
      "metadata": {
        "id": "wCkCgRizatCi",
        "colab": {
          "base_uri": "https://localhost:8080/"
        },
        "outputId": "c9b202c7-a9f6-4ea0-9913-1e75108ba872"
      },
      "execution_count": null,
      "outputs": [
        {
          "output_type": "execute_result",
          "data": {
            "text/plain": [
              "(318, 12)"
            ]
          },
          "metadata": {},
          "execution_count": 49
        }
      ]
    },
    {
      "cell_type": "code",
      "source": [
        "# show the information/ statistics on this dataframe\n",
        "df.describe()"
      ],
      "metadata": {
        "id": "5fz-IQ5_azNG",
        "colab": {
          "base_uri": "https://localhost:8080/",
          "height": 300
        },
        "outputId": "7cb54acb-c696-42fa-ce2d-bfb33bad5f32"
      },
      "execution_count": null,
      "outputs": [
        {
          "output_type": "execute_result",
          "data": {
            "text/plain": [
              "       applicant_income  coapplicant_income  loan_amount  loan_amount_term  \\\n",
              "count        318.000000          318.000000   318.000000        318.000000   \n",
              "mean        4717.437107         1562.845912   136.580284        343.685535   \n",
              "std         4907.418483         2427.506019    62.591535         64.156958   \n",
              "min            0.000000            0.000000    28.000000          6.000000   \n",
              "25%         2880.250000            0.000000   102.000000        360.000000   \n",
              "50%         3788.500000          955.000000   126.000000        360.000000   \n",
              "75%         5000.000000         2398.250000   154.500000        360.000000   \n",
              "max        72529.000000        24000.000000   550.000000        480.000000   \n",
              "\n",
              "       credit_history  \n",
              "count      318.000000  \n",
              "mean         0.838478  \n",
              "std          0.352840  \n",
              "min          0.000000  \n",
              "25%          1.000000  \n",
              "50%          1.000000  \n",
              "75%          1.000000  \n",
              "max          1.000000  "
            ],
            "text/html": [
              "\n",
              "  <div id=\"df-6245f5ed-157a-4070-a2d2-f6ca79e03719\">\n",
              "    <div class=\"colab-df-container\">\n",
              "      <div>\n",
              "<style scoped>\n",
              "    .dataframe tbody tr th:only-of-type {\n",
              "        vertical-align: middle;\n",
              "    }\n",
              "\n",
              "    .dataframe tbody tr th {\n",
              "        vertical-align: top;\n",
              "    }\n",
              "\n",
              "    .dataframe thead th {\n",
              "        text-align: right;\n",
              "    }\n",
              "</style>\n",
              "<table border=\"1\" class=\"dataframe\">\n",
              "  <thead>\n",
              "    <tr style=\"text-align: right;\">\n",
              "      <th></th>\n",
              "      <th>applicant_income</th>\n",
              "      <th>coapplicant_income</th>\n",
              "      <th>loan_amount</th>\n",
              "      <th>loan_amount_term</th>\n",
              "      <th>credit_history</th>\n",
              "    </tr>\n",
              "  </thead>\n",
              "  <tbody>\n",
              "    <tr>\n",
              "      <th>count</th>\n",
              "      <td>318.000000</td>\n",
              "      <td>318.000000</td>\n",
              "      <td>318.000000</td>\n",
              "      <td>318.000000</td>\n",
              "      <td>318.000000</td>\n",
              "    </tr>\n",
              "    <tr>\n",
              "      <th>mean</th>\n",
              "      <td>4717.437107</td>\n",
              "      <td>1562.845912</td>\n",
              "      <td>136.580284</td>\n",
              "      <td>343.685535</td>\n",
              "      <td>0.838478</td>\n",
              "    </tr>\n",
              "    <tr>\n",
              "      <th>std</th>\n",
              "      <td>4907.418483</td>\n",
              "      <td>2427.506019</td>\n",
              "      <td>62.591535</td>\n",
              "      <td>64.156958</td>\n",
              "      <td>0.352840</td>\n",
              "    </tr>\n",
              "    <tr>\n",
              "      <th>min</th>\n",
              "      <td>0.000000</td>\n",
              "      <td>0.000000</td>\n",
              "      <td>28.000000</td>\n",
              "      <td>6.000000</td>\n",
              "      <td>0.000000</td>\n",
              "    </tr>\n",
              "    <tr>\n",
              "      <th>25%</th>\n",
              "      <td>2880.250000</td>\n",
              "      <td>0.000000</td>\n",
              "      <td>102.000000</td>\n",
              "      <td>360.000000</td>\n",
              "      <td>1.000000</td>\n",
              "    </tr>\n",
              "    <tr>\n",
              "      <th>50%</th>\n",
              "      <td>3788.500000</td>\n",
              "      <td>955.000000</td>\n",
              "      <td>126.000000</td>\n",
              "      <td>360.000000</td>\n",
              "      <td>1.000000</td>\n",
              "    </tr>\n",
              "    <tr>\n",
              "      <th>75%</th>\n",
              "      <td>5000.000000</td>\n",
              "      <td>2398.250000</td>\n",
              "      <td>154.500000</td>\n",
              "      <td>360.000000</td>\n",
              "      <td>1.000000</td>\n",
              "    </tr>\n",
              "    <tr>\n",
              "      <th>max</th>\n",
              "      <td>72529.000000</td>\n",
              "      <td>24000.000000</td>\n",
              "      <td>550.000000</td>\n",
              "      <td>480.000000</td>\n",
              "      <td>1.000000</td>\n",
              "    </tr>\n",
              "  </tbody>\n",
              "</table>\n",
              "</div>\n",
              "      <button class=\"colab-df-convert\" onclick=\"convertToInteractive('df-6245f5ed-157a-4070-a2d2-f6ca79e03719')\"\n",
              "              title=\"Convert this dataframe to an interactive table.\"\n",
              "              style=\"display:none;\">\n",
              "        \n",
              "  <svg xmlns=\"http://www.w3.org/2000/svg\" height=\"24px\"viewBox=\"0 0 24 24\"\n",
              "       width=\"24px\">\n",
              "    <path d=\"M0 0h24v24H0V0z\" fill=\"none\"/>\n",
              "    <path d=\"M18.56 5.44l.94 2.06.94-2.06 2.06-.94-2.06-.94-.94-2.06-.94 2.06-2.06.94zm-11 1L8.5 8.5l.94-2.06 2.06-.94-2.06-.94L8.5 2.5l-.94 2.06-2.06.94zm10 10l.94 2.06.94-2.06 2.06-.94-2.06-.94-.94-2.06-.94 2.06-2.06.94z\"/><path d=\"M17.41 7.96l-1.37-1.37c-.4-.4-.92-.59-1.43-.59-.52 0-1.04.2-1.43.59L10.3 9.45l-7.72 7.72c-.78.78-.78 2.05 0 2.83L4 21.41c.39.39.9.59 1.41.59.51 0 1.02-.2 1.41-.59l7.78-7.78 2.81-2.81c.8-.78.8-2.07 0-2.86zM5.41 20L4 18.59l7.72-7.72 1.47 1.35L5.41 20z\"/>\n",
              "  </svg>\n",
              "      </button>\n",
              "      \n",
              "  <style>\n",
              "    .colab-df-container {\n",
              "      display:flex;\n",
              "      flex-wrap:wrap;\n",
              "      gap: 12px;\n",
              "    }\n",
              "\n",
              "    .colab-df-convert {\n",
              "      background-color: #E8F0FE;\n",
              "      border: none;\n",
              "      border-radius: 50%;\n",
              "      cursor: pointer;\n",
              "      display: none;\n",
              "      fill: #1967D2;\n",
              "      height: 32px;\n",
              "      padding: 0 0 0 0;\n",
              "      width: 32px;\n",
              "    }\n",
              "\n",
              "    .colab-df-convert:hover {\n",
              "      background-color: #E2EBFA;\n",
              "      box-shadow: 0px 1px 2px rgba(60, 64, 67, 0.3), 0px 1px 3px 1px rgba(60, 64, 67, 0.15);\n",
              "      fill: #174EA6;\n",
              "    }\n",
              "\n",
              "    [theme=dark] .colab-df-convert {\n",
              "      background-color: #3B4455;\n",
              "      fill: #D2E3FC;\n",
              "    }\n",
              "\n",
              "    [theme=dark] .colab-df-convert:hover {\n",
              "      background-color: #434B5C;\n",
              "      box-shadow: 0px 1px 3px 1px rgba(0, 0, 0, 0.15);\n",
              "      filter: drop-shadow(0px 1px 2px rgba(0, 0, 0, 0.3));\n",
              "      fill: #FFFFFF;\n",
              "    }\n",
              "  </style>\n",
              "\n",
              "      <script>\n",
              "        const buttonEl =\n",
              "          document.querySelector('#df-6245f5ed-157a-4070-a2d2-f6ca79e03719 button.colab-df-convert');\n",
              "        buttonEl.style.display =\n",
              "          google.colab.kernel.accessAllowed ? 'block' : 'none';\n",
              "\n",
              "        async function convertToInteractive(key) {\n",
              "          const element = document.querySelector('#df-6245f5ed-157a-4070-a2d2-f6ca79e03719');\n",
              "          const dataTable =\n",
              "            await google.colab.kernel.invokeFunction('convertToInteractive',\n",
              "                                                     [key], {});\n",
              "          if (!dataTable) return;\n",
              "\n",
              "          const docLinkHtml = 'Like what you see? Visit the ' +\n",
              "            '<a target=\"_blank\" href=https://colab.research.google.com/notebooks/data_table.ipynb>data table notebook</a>'\n",
              "            + ' to learn more about interactive tables.';\n",
              "          element.innerHTML = '';\n",
              "          dataTable['output_type'] = 'display_data';\n",
              "          await google.colab.output.renderOutput(dataTable, element);\n",
              "          const docLink = document.createElement('div');\n",
              "          docLink.innerHTML = docLinkHtml;\n",
              "          element.appendChild(docLink);\n",
              "        }\n",
              "      </script>\n",
              "    </div>\n",
              "  </div>\n",
              "  "
            ]
          },
          "metadata": {},
          "execution_count": 50
        }
      ]
    },
    {
      "cell_type": "code",
      "source": [
        "# get statiscal information on the data frame like count/mean/standard deviation etc\n",
        "df.describe()"
      ],
      "metadata": {
        "id": "jYaCsmjQa6a2",
        "colab": {
          "base_uri": "https://localhost:8080/",
          "height": 300
        },
        "outputId": "2d667274-3396-4f91-f883-7fda4991dd96"
      },
      "execution_count": null,
      "outputs": [
        {
          "output_type": "execute_result",
          "data": {
            "text/plain": [
              "       applicant_income  coapplicant_income  loan_amount  loan_amount_term  \\\n",
              "count        318.000000          318.000000   318.000000        318.000000   \n",
              "mean        4717.437107         1562.845912   136.580284        343.685535   \n",
              "std         4907.418483         2427.506019    62.591535         64.156958   \n",
              "min            0.000000            0.000000    28.000000          6.000000   \n",
              "25%         2880.250000            0.000000   102.000000        360.000000   \n",
              "50%         3788.500000          955.000000   126.000000        360.000000   \n",
              "75%         5000.000000         2398.250000   154.500000        360.000000   \n",
              "max        72529.000000        24000.000000   550.000000        480.000000   \n",
              "\n",
              "       credit_history  \n",
              "count      318.000000  \n",
              "mean         0.838478  \n",
              "std          0.352840  \n",
              "min          0.000000  \n",
              "25%          1.000000  \n",
              "50%          1.000000  \n",
              "75%          1.000000  \n",
              "max          1.000000  "
            ],
            "text/html": [
              "\n",
              "  <div id=\"df-82c64f7d-119c-4d52-849e-f530af31447a\">\n",
              "    <div class=\"colab-df-container\">\n",
              "      <div>\n",
              "<style scoped>\n",
              "    .dataframe tbody tr th:only-of-type {\n",
              "        vertical-align: middle;\n",
              "    }\n",
              "\n",
              "    .dataframe tbody tr th {\n",
              "        vertical-align: top;\n",
              "    }\n",
              "\n",
              "    .dataframe thead th {\n",
              "        text-align: right;\n",
              "    }\n",
              "</style>\n",
              "<table border=\"1\" class=\"dataframe\">\n",
              "  <thead>\n",
              "    <tr style=\"text-align: right;\">\n",
              "      <th></th>\n",
              "      <th>applicant_income</th>\n",
              "      <th>coapplicant_income</th>\n",
              "      <th>loan_amount</th>\n",
              "      <th>loan_amount_term</th>\n",
              "      <th>credit_history</th>\n",
              "    </tr>\n",
              "  </thead>\n",
              "  <tbody>\n",
              "    <tr>\n",
              "      <th>count</th>\n",
              "      <td>318.000000</td>\n",
              "      <td>318.000000</td>\n",
              "      <td>318.000000</td>\n",
              "      <td>318.000000</td>\n",
              "      <td>318.000000</td>\n",
              "    </tr>\n",
              "    <tr>\n",
              "      <th>mean</th>\n",
              "      <td>4717.437107</td>\n",
              "      <td>1562.845912</td>\n",
              "      <td>136.580284</td>\n",
              "      <td>343.685535</td>\n",
              "      <td>0.838478</td>\n",
              "    </tr>\n",
              "    <tr>\n",
              "      <th>std</th>\n",
              "      <td>4907.418483</td>\n",
              "      <td>2427.506019</td>\n",
              "      <td>62.591535</td>\n",
              "      <td>64.156958</td>\n",
              "      <td>0.352840</td>\n",
              "    </tr>\n",
              "    <tr>\n",
              "      <th>min</th>\n",
              "      <td>0.000000</td>\n",
              "      <td>0.000000</td>\n",
              "      <td>28.000000</td>\n",
              "      <td>6.000000</td>\n",
              "      <td>0.000000</td>\n",
              "    </tr>\n",
              "    <tr>\n",
              "      <th>25%</th>\n",
              "      <td>2880.250000</td>\n",
              "      <td>0.000000</td>\n",
              "      <td>102.000000</td>\n",
              "      <td>360.000000</td>\n",
              "      <td>1.000000</td>\n",
              "    </tr>\n",
              "    <tr>\n",
              "      <th>50%</th>\n",
              "      <td>3788.500000</td>\n",
              "      <td>955.000000</td>\n",
              "      <td>126.000000</td>\n",
              "      <td>360.000000</td>\n",
              "      <td>1.000000</td>\n",
              "    </tr>\n",
              "    <tr>\n",
              "      <th>75%</th>\n",
              "      <td>5000.000000</td>\n",
              "      <td>2398.250000</td>\n",
              "      <td>154.500000</td>\n",
              "      <td>360.000000</td>\n",
              "      <td>1.000000</td>\n",
              "    </tr>\n",
              "    <tr>\n",
              "      <th>max</th>\n",
              "      <td>72529.000000</td>\n",
              "      <td>24000.000000</td>\n",
              "      <td>550.000000</td>\n",
              "      <td>480.000000</td>\n",
              "      <td>1.000000</td>\n",
              "    </tr>\n",
              "  </tbody>\n",
              "</table>\n",
              "</div>\n",
              "      <button class=\"colab-df-convert\" onclick=\"convertToInteractive('df-82c64f7d-119c-4d52-849e-f530af31447a')\"\n",
              "              title=\"Convert this dataframe to an interactive table.\"\n",
              "              style=\"display:none;\">\n",
              "        \n",
              "  <svg xmlns=\"http://www.w3.org/2000/svg\" height=\"24px\"viewBox=\"0 0 24 24\"\n",
              "       width=\"24px\">\n",
              "    <path d=\"M0 0h24v24H0V0z\" fill=\"none\"/>\n",
              "    <path d=\"M18.56 5.44l.94 2.06.94-2.06 2.06-.94-2.06-.94-.94-2.06-.94 2.06-2.06.94zm-11 1L8.5 8.5l.94-2.06 2.06-.94-2.06-.94L8.5 2.5l-.94 2.06-2.06.94zm10 10l.94 2.06.94-2.06 2.06-.94-2.06-.94-.94-2.06-.94 2.06-2.06.94z\"/><path d=\"M17.41 7.96l-1.37-1.37c-.4-.4-.92-.59-1.43-.59-.52 0-1.04.2-1.43.59L10.3 9.45l-7.72 7.72c-.78.78-.78 2.05 0 2.83L4 21.41c.39.39.9.59 1.41.59.51 0 1.02-.2 1.41-.59l7.78-7.78 2.81-2.81c.8-.78.8-2.07 0-2.86zM5.41 20L4 18.59l7.72-7.72 1.47 1.35L5.41 20z\"/>\n",
              "  </svg>\n",
              "      </button>\n",
              "      \n",
              "  <style>\n",
              "    .colab-df-container {\n",
              "      display:flex;\n",
              "      flex-wrap:wrap;\n",
              "      gap: 12px;\n",
              "    }\n",
              "\n",
              "    .colab-df-convert {\n",
              "      background-color: #E8F0FE;\n",
              "      border: none;\n",
              "      border-radius: 50%;\n",
              "      cursor: pointer;\n",
              "      display: none;\n",
              "      fill: #1967D2;\n",
              "      height: 32px;\n",
              "      padding: 0 0 0 0;\n",
              "      width: 32px;\n",
              "    }\n",
              "\n",
              "    .colab-df-convert:hover {\n",
              "      background-color: #E2EBFA;\n",
              "      box-shadow: 0px 1px 2px rgba(60, 64, 67, 0.3), 0px 1px 3px 1px rgba(60, 64, 67, 0.15);\n",
              "      fill: #174EA6;\n",
              "    }\n",
              "\n",
              "    [theme=dark] .colab-df-convert {\n",
              "      background-color: #3B4455;\n",
              "      fill: #D2E3FC;\n",
              "    }\n",
              "\n",
              "    [theme=dark] .colab-df-convert:hover {\n",
              "      background-color: #434B5C;\n",
              "      box-shadow: 0px 1px 3px 1px rgba(0, 0, 0, 0.15);\n",
              "      filter: drop-shadow(0px 1px 2px rgba(0, 0, 0, 0.3));\n",
              "      fill: #FFFFFF;\n",
              "    }\n",
              "  </style>\n",
              "\n",
              "      <script>\n",
              "        const buttonEl =\n",
              "          document.querySelector('#df-82c64f7d-119c-4d52-849e-f530af31447a button.colab-df-convert');\n",
              "        buttonEl.style.display =\n",
              "          google.colab.kernel.accessAllowed ? 'block' : 'none';\n",
              "\n",
              "        async function convertToInteractive(key) {\n",
              "          const element = document.querySelector('#df-82c64f7d-119c-4d52-849e-f530af31447a');\n",
              "          const dataTable =\n",
              "            await google.colab.kernel.invokeFunction('convertToInteractive',\n",
              "                                                     [key], {});\n",
              "          if (!dataTable) return;\n",
              "\n",
              "          const docLinkHtml = 'Like what you see? Visit the ' +\n",
              "            '<a target=\"_blank\" href=https://colab.research.google.com/notebooks/data_table.ipynb>data table notebook</a>'\n",
              "            + ' to learn more about interactive tables.';\n",
              "          element.innerHTML = '';\n",
              "          dataTable['output_type'] = 'display_data';\n",
              "          await google.colab.output.renderOutput(dataTable, element);\n",
              "          const docLink = document.createElement('div');\n",
              "          docLink.innerHTML = docLinkHtml;\n",
              "          element.appendChild(docLink);\n",
              "        }\n",
              "      </script>\n",
              "    </div>\n",
              "  </div>\n",
              "  "
            ]
          },
          "metadata": {},
          "execution_count": 51
        }
      ]
    },
    {
      "cell_type": "markdown",
      "metadata": {
        "papermill": {
          "duration": 0.024751,
          "end_time": "2020-09-08T03:15:59.689267",
          "exception": false,
          "start_time": "2020-09-08T03:15:59.664516",
          "status": "completed"
        },
        "tags": [],
        "id": "5FcvmxBwWh_T"
      },
      "source": [
        "##### 2-3-Label Encoder for Dependents"
      ]
    },
    {
      "cell_type": "code",
      "execution_count": null,
      "metadata": {
        "execution": {
          "iopub.execute_input": "2020-09-08T03:15:59.742308Z",
          "iopub.status.busy": "2020-09-08T03:15:59.741262Z",
          "iopub.status.idle": "2020-09-08T03:15:59.746797Z",
          "shell.execute_reply": "2020-09-08T03:15:59.746101Z"
        },
        "papermill": {
          "duration": 0.034653,
          "end_time": "2020-09-08T03:15:59.746933",
          "exception": false,
          "start_time": "2020-09-08T03:15:59.712280",
          "status": "completed"
        },
        "tags": [],
        "id": "tm2At81VWh_T",
        "outputId": "c5f65065-aa83-47f0-90eb-72547491ee8e",
        "colab": {
          "base_uri": "https://localhost:8080/"
        }
      },
      "outputs": [
        {
          "output_type": "execute_result",
          "data": {
            "text/plain": [
              "str"
            ]
          },
          "metadata": {},
          "execution_count": 52
        }
      ],
      "source": [
        "type(df['dependents'].iloc[0])"
      ]
    },
    {
      "cell_type": "code",
      "execution_count": null,
      "metadata": {
        "execution": {
          "iopub.execute_input": "2020-09-08T03:15:59.801541Z",
          "iopub.status.busy": "2020-09-08T03:15:59.800397Z",
          "iopub.status.idle": "2020-09-08T03:15:59.804824Z",
          "shell.execute_reply": "2020-09-08T03:15:59.805505Z"
        },
        "papermill": {
          "duration": 0.035452,
          "end_time": "2020-09-08T03:15:59.805675",
          "exception": false,
          "start_time": "2020-09-08T03:15:59.770223",
          "status": "completed"
        },
        "tags": [],
        "id": "tc7NGzeSWh_T",
        "outputId": "7947c307-1eeb-4da2-c861-990891e94877",
        "colab": {
          "base_uri": "https://localhost:8080/"
        }
      },
      "outputs": [
        {
          "output_type": "execute_result",
          "data": {
            "text/plain": [
              "array(['0', '1', '2', '3+'], dtype=object)"
            ]
          },
          "metadata": {},
          "execution_count": 53
        }
      ],
      "source": [
        "df['dependents'].unique()"
      ]
    },
    {
      "cell_type": "code",
      "execution_count": null,
      "metadata": {
        "execution": {
          "iopub.execute_input": "2020-09-08T03:15:59.859345Z",
          "iopub.status.busy": "2020-09-08T03:15:59.858497Z",
          "iopub.status.idle": "2020-09-08T03:15:59.862150Z",
          "shell.execute_reply": "2020-09-08T03:15:59.861333Z"
        },
        "papermill": {
          "duration": 0.032559,
          "end_time": "2020-09-08T03:15:59.862281",
          "exception": false,
          "start_time": "2020-09-08T03:15:59.829722",
          "status": "completed"
        },
        "tags": [],
        "id": "J2r3pl1QWh_U"
      },
      "outputs": [],
      "source": [
        "model6=LabelEncoder()"
      ]
    },
    {
      "cell_type": "code",
      "execution_count": null,
      "metadata": {
        "execution": {
          "iopub.execute_input": "2020-09-08T03:15:59.915463Z",
          "iopub.status.busy": "2020-09-08T03:15:59.914653Z",
          "iopub.status.idle": "2020-09-08T03:15:59.921627Z",
          "shell.execute_reply": "2020-09-08T03:15:59.922176Z"
        },
        "papermill": {
          "duration": 0.036395,
          "end_time": "2020-09-08T03:15:59.922345",
          "exception": false,
          "start_time": "2020-09-08T03:15:59.885950",
          "status": "completed"
        },
        "tags": [],
        "id": "0wNuPUDxWh_U",
        "outputId": "ec8acb56-d8b8-4db4-8460-fd0b209d4878",
        "colab": {
          "base_uri": "https://localhost:8080/"
        }
      },
      "outputs": [
        {
          "output_type": "execute_result",
          "data": {
            "text/plain": [
              "LabelEncoder()"
            ]
          },
          "metadata": {},
          "execution_count": 55
        }
      ],
      "source": [
        "model6.fit(df['dependents'])"
      ]
    },
    {
      "cell_type": "code",
      "execution_count": null,
      "metadata": {
        "execution": {
          "iopub.execute_input": "2020-09-08T03:15:59.976684Z",
          "iopub.status.busy": "2020-09-08T03:15:59.975944Z",
          "iopub.status.idle": "2020-09-08T03:15:59.979542Z",
          "shell.execute_reply": "2020-09-08T03:15:59.978814Z"
        },
        "papermill": {
          "duration": 0.033869,
          "end_time": "2020-09-08T03:15:59.979667",
          "exception": false,
          "start_time": "2020-09-08T03:15:59.945798",
          "status": "completed"
        },
        "tags": [],
        "id": "EXwFZ6vWWh_U"
      },
      "outputs": [],
      "source": [
        "df['dependents']= model6.transform(df['dependents'])"
      ]
    },
    {
      "cell_type": "markdown",
      "source": [
        "Explain what they are doing in this section"
      ],
      "metadata": {
        "id": "-7WrPyM7bJqh"
      }
    },
    {
      "cell_type": "code",
      "source": [
        "# The code in the above sectios changed the data type of the values in the dependents column of the df dataframe from string to numpy integers"
      ],
      "metadata": {
        "id": "xxHbw5-dab9U"
      },
      "execution_count": null,
      "outputs": []
    },
    {
      "cell_type": "code",
      "source": [
        "df['dependents'].value_counts()"
      ],
      "metadata": {
        "colab": {
          "base_uri": "https://localhost:8080/"
        },
        "id": "1YFXQFtqcXCR",
        "outputId": "7a59a07d-c5c5-40f0-ca28-6697b5119997"
      },
      "execution_count": null,
      "outputs": [
        {
          "output_type": "execute_result",
          "data": {
            "text/plain": [
              "0    183\n",
              "2     54\n",
              "1     46\n",
              "3     35\n",
              "Name: dependents, dtype: int64"
            ]
          },
          "metadata": {},
          "execution_count": 69
        }
      ]
    },
    {
      "cell_type": "markdown",
      "metadata": {
        "papermill": {
          "duration": 0.02391,
          "end_time": "2020-09-08T03:16:00.027992",
          "exception": false,
          "start_time": "2020-09-08T03:16:00.004082",
          "status": "completed"
        },
        "tags": [],
        "id": "3_0lq1CVWh_U"
      },
      "source": [
        "### 3-Exploratory Data Analysis"
      ]
    },
    {
      "cell_type": "markdown",
      "metadata": {
        "papermill": {
          "duration": 0.024019,
          "end_time": "2020-09-08T03:16:00.076251",
          "exception": false,
          "start_time": "2020-09-08T03:16:00.052232",
          "status": "completed"
        },
        "tags": [],
        "id": "8Hdz0qFFWh_V"
      },
      "source": [
        "##### 3-1- Visualization"
      ]
    },
    {
      "cell_type": "code",
      "source": [
        "# get the counts of Loan statuses with \"Y\" in the column\n",
        "\n",
        "# there is no column called \"loan_status\", but if there were to be one, then i would do this:\n",
        "df[\"loan_status\"].value_counts(\"Y\")"
      ],
      "metadata": {
        "id": "IjEeEU5dbVcq"
      },
      "execution_count": null,
      "outputs": []
    },
    {
      "cell_type": "code",
      "source": [
        "# get the counts of Loan statuses with \"N\" in the column\n",
        "df[\"loan_status\"].value_counts(\"N\")"
      ],
      "metadata": {
        "id": "uv7tlCQDbhFZ"
      },
      "execution_count": null,
      "outputs": []
    },
    {
      "cell_type": "code",
      "source": [
        "# make a pie plot that shows the distrubution of Yes loans and Y loans\n",
        "# this plot should have a title, different colors, the percentages inside the sections "
      ],
      "metadata": {
        "id": "j2oxNBWobkJi"
      },
      "execution_count": null,
      "outputs": []
    },
    {
      "cell_type": "markdown",
      "metadata": {
        "papermill": {
          "duration": 0.027202,
          "end_time": "2020-09-08T03:16:00.477382",
          "exception": false,
          "start_time": "2020-09-08T03:16:00.450180",
          "status": "completed"
        },
        "tags": [],
        "id": "nIM4cEjkWh_V"
      },
      "source": [
        "69% of applicants repay the loan and 39% do not repay the loan."
      ]
    },
    {
      "cell_type": "code",
      "source": [
        "# make six bar charts that create the basica comparisons listed below\n",
        "# each should have legends, and as different colors as possible.\n",
        "# Plots 1 and 4 should have y labels and ticks while the rest of them should not\n",
        "\n",
        "plt.figure(figsize=(15,10))\n",
        "plt.bar(x = df[\"gender\"].values, height = df[\"loan_amount\"].values)\n",
        "plt.show()\n",
        "plt.bar(x = df[\"married\"].values, height = df[\"loan_amount\"].values)\n",
        "plt.show()\n",
        "plt.bar(x = df[\"education\"].values, height = df[\"loan_amount\"].values)\n",
        "plt.show()\n",
        "plt.bar(x = df[\"self_employed\"].values, height = df[\"loan_amount\"].values)\n",
        "plt.show()\n",
        "plt.bar(x = df[\"credit_history\"].values, height = df[\"loan_amount\"].values)\n",
        "plt.show()\n",
        "plt.bar(x = df[\"property_area\"].values, height = df[\"loan_amount\"].values)\n",
        "plt.show()"
      ],
      "metadata": {
        "id": "FLkEIbdTb9cL",
        "colab": {
          "base_uri": "https://localhost:8080/",
          "height": 1000
        },
        "outputId": "5dfc7ac5-aa6c-4366-9766-55b7785e1c83"
      },
      "execution_count": null,
      "outputs": [
        {
          "output_type": "display_data",
          "data": {
            "text/plain": [
              "<Figure size 1080x720 with 1 Axes>"
            ],
            "image/png": "[encoded data removed]"
          },
          "metadata": {
            "needs_background": "light"
          }
        },
        {
          "output_type": "display_data",
          "data": {
            "text/plain": [
              "<Figure size 432x288 with 1 Axes>"
            ],
            "image/png": "[encoded data removed]"
          },
          "metadata": {
            "needs_background": "light"
          }
        },
        {
          "output_type": "display_data",
          "data": {
            "text/plain": [
              "<Figure size 432x288 with 1 Axes>"
            ],
            "image/png": "[encoded data removed]"
          },
          "metadata": {
            "needs_background": "light"
          }
        },
        {
          "output_type": "display_data",
          "data": {
            "text/plain": [
              "<Figure size 432x288 with 1 Axes>"
            ],
            "image/png": "[encoded data removed]"
          },
          "metadata": {
            "needs_background": "light"
          }
        },
        {
          "output_type": "display_data",
          "data": {
            "text/plain": [
              "<Figure size 432x288 with 1 Axes>"
            ],
            "image/png": "[encoded data removed]"
          },
          "metadata": {
            "needs_background": "light"
          }
        },
        {
          "output_type": "display_data",
          "data": {
            "text/plain": [
              "<Figure size 432x288 with 1 Axes>"
            ],
            "image/png": "[encoded data removed]"
          },
          "metadata": {
            "needs_background": "light"
          }
        }
      ]
    },
    {
      "cell_type": "markdown",
      "metadata": {
        "papermill": {
          "duration": 0.025504,
          "end_time": "2020-09-08T03:16:01.381656",
          "exception": false,
          "start_time": "2020-09-08T03:16:01.356152",
          "status": "completed"
        },
        "tags": [],
        "id": "jViBM4nKWh_W"
      },
      "source": [
        "Comparison between Genders in getting the Loan shows that a Male Individual has more chance of repaying the Loan.\n",
        "\n",
        "Comparison between Married Status in getting the Loan shows that a Married Individual has more chance of repaying the Loan.\n",
        "   \n",
        "Comparison between Education Status of an Individual in getting the Loan shows that a Graduate Individual has more chance of repaying the Loan.\n",
        "    \n",
        "Comparison between Self-Employed or Not in getting the Loan shows that Not Self-Employed has more chance of repaying the Loan.\n",
        "\n",
        "Comparison between Credit History for getting the Loan shows that an individual with a credit history has more chance of repaying the Loan.\n",
        "    \n",
        "Comparison between Property Area for getting the Loan shows that People living in Semi-Urban Area have more chance to repay the Loan."
      ]
    },
    {
      "cell_type": "code",
      "execution_count": null,
      "metadata": {
        "execution": {
          "iopub.execute_input": "2020-09-08T03:16:01.441150Z",
          "iopub.status.busy": "2020-09-08T03:16:01.440328Z",
          "iopub.status.idle": "2020-09-08T03:16:03.154754Z",
          "shell.execute_reply": "2020-09-08T03:16:03.153921Z"
        },
        "papermill": {
          "duration": 1.7457,
          "end_time": "2020-09-08T03:16:03.154913",
          "exception": false,
          "start_time": "2020-09-08T03:16:01.409213",
          "status": "completed"
        },
        "tags": [],
        "id": "6NdD4okmWh_X",
        "colab": {
          "base_uri": "https://localhost:8080/",
          "height": 389
        },
        "outputId": "b785467a-1477-42a2-c8d7-a0a0317167d4"
      },
      "outputs": [
        {
          "output_type": "error",
          "ename": "ValueError",
          "evalue": "ignored",
          "traceback": [
            "\u001b[0;31m---------------------------------------------------------------------------\u001b[0m",
            "\u001b[0;31mValueError\u001b[0m                                Traceback (most recent call last)",
            "\u001b[0;32m<ipython-input-82-022aab582fe3>\u001b[0m in \u001b[0;36m<module>\u001b[0;34m()\u001b[0m\n\u001b[0;32m----> 1\u001b[0;31m \u001b[0mpx\u001b[0m\u001b[0;34m.\u001b[0m\u001b[0msunburst\u001b[0m\u001b[0;34m(\u001b[0m\u001b[0mdata_frame\u001b[0m\u001b[0;34m=\u001b[0m\u001b[0mdf\u001b[0m \u001b[0;34m,\u001b[0m\u001b[0mpath\u001b[0m\u001b[0;34m=\u001b[0m\u001b[0;34m[\u001b[0m\u001b[0;34m'gender'\u001b[0m\u001b[0;34m,\u001b[0m\u001b[0;34m'loan_status'\u001b[0m\u001b[0;34m]\u001b[0m\u001b[0;34m,\u001b[0m \u001b[0mcolor\u001b[0m\u001b[0;34m=\u001b[0m\u001b[0;34m'loan_amount'\u001b[0m\u001b[0;34m)\u001b[0m\u001b[0;34m\u001b[0m\u001b[0;34m\u001b[0m\u001b[0m\n\u001b[0m\u001b[1;32m      2\u001b[0m \u001b[0;34m\u001b[0m\u001b[0m\n\u001b[1;32m      3\u001b[0m \u001b[0;34m\u001b[0m\u001b[0m\n\u001b[1;32m      4\u001b[0m \u001b[0;31m# try this code to see if it works. Can you fix it\u001b[0m\u001b[0;34m\u001b[0m\u001b[0;34m\u001b[0m\u001b[0;34m\u001b[0m\u001b[0m\n",
            "\u001b[0;32m/usr/local/lib/python3.7/dist-packages/plotly/express/_chart_types.py\u001b[0m in \u001b[0;36msunburst\u001b[0;34m(data_frame, names, values, parents, path, ids, color, color_continuous_scale, range_color, color_continuous_midpoint, color_discrete_sequence, color_discrete_map, hover_name, hover_data, custom_data, labels, title, template, width, height, branchvalues, maxdepth)\u001b[0m\n\u001b[1;32m   1523\u001b[0m         \u001b[0mconstructor\u001b[0m\u001b[0;34m=\u001b[0m\u001b[0mgo\u001b[0m\u001b[0;34m.\u001b[0m\u001b[0mSunburst\u001b[0m\u001b[0;34m,\u001b[0m\u001b[0;34m\u001b[0m\u001b[0;34m\u001b[0m\u001b[0m\n\u001b[1;32m   1524\u001b[0m         \u001b[0mtrace_patch\u001b[0m\u001b[0;34m=\u001b[0m\u001b[0mdict\u001b[0m\u001b[0;34m(\u001b[0m\u001b[0mbranchvalues\u001b[0m\u001b[0;34m=\u001b[0m\u001b[0mbranchvalues\u001b[0m\u001b[0;34m,\u001b[0m \u001b[0mmaxdepth\u001b[0m\u001b[0;34m=\u001b[0m\u001b[0mmaxdepth\u001b[0m\u001b[0;34m)\u001b[0m\u001b[0;34m,\u001b[0m\u001b[0;34m\u001b[0m\u001b[0;34m\u001b[0m\u001b[0m\n\u001b[0;32m-> 1525\u001b[0;31m         \u001b[0mlayout_patch\u001b[0m\u001b[0;34m=\u001b[0m\u001b[0mlayout_patch\u001b[0m\u001b[0;34m,\u001b[0m\u001b[0;34m\u001b[0m\u001b[0;34m\u001b[0m\u001b[0m\n\u001b[0m\u001b[1;32m   1526\u001b[0m     )\n\u001b[1;32m   1527\u001b[0m \u001b[0;34m\u001b[0m\u001b[0m\n",
            "\u001b[0;32m/usr/local/lib/python3.7/dist-packages/plotly/express/_core.py\u001b[0m in \u001b[0;36mmake_figure\u001b[0;34m(args, constructor, trace_patch, layout_patch)\u001b[0m\n\u001b[1;32m   1943\u001b[0m     \u001b[0mapply_default_cascade\u001b[0m\u001b[0;34m(\u001b[0m\u001b[0margs\u001b[0m\u001b[0;34m)\u001b[0m\u001b[0;34m\u001b[0m\u001b[0;34m\u001b[0m\u001b[0m\n\u001b[1;32m   1944\u001b[0m \u001b[0;34m\u001b[0m\u001b[0m\n\u001b[0;32m-> 1945\u001b[0;31m     \u001b[0margs\u001b[0m \u001b[0;34m=\u001b[0m \u001b[0mbuild_dataframe\u001b[0m\u001b[0;34m(\u001b[0m\u001b[0margs\u001b[0m\u001b[0;34m,\u001b[0m \u001b[0mconstructor\u001b[0m\u001b[0;34m)\u001b[0m\u001b[0;34m\u001b[0m\u001b[0;34m\u001b[0m\u001b[0m\n\u001b[0m\u001b[1;32m   1946\u001b[0m     \u001b[0;32mif\u001b[0m \u001b[0mconstructor\u001b[0m \u001b[0;32min\u001b[0m \u001b[0;34m[\u001b[0m\u001b[0mgo\u001b[0m\u001b[0;34m.\u001b[0m\u001b[0mTreemap\u001b[0m\u001b[0;34m,\u001b[0m \u001b[0mgo\u001b[0m\u001b[0;34m.\u001b[0m\u001b[0mSunburst\u001b[0m\u001b[0;34m,\u001b[0m \u001b[0mgo\u001b[0m\u001b[0;34m.\u001b[0m\u001b[0mIcicle\u001b[0m\u001b[0;34m]\u001b[0m \u001b[0;32mand\u001b[0m \u001b[0margs\u001b[0m\u001b[0;34m[\u001b[0m\u001b[0;34m\"path\"\u001b[0m\u001b[0;34m]\u001b[0m \u001b[0;32mis\u001b[0m \u001b[0;32mnot\u001b[0m \u001b[0;32mNone\u001b[0m\u001b[0;34m:\u001b[0m\u001b[0;34m\u001b[0m\u001b[0;34m\u001b[0m\u001b[0m\n\u001b[1;32m   1947\u001b[0m         \u001b[0margs\u001b[0m \u001b[0;34m=\u001b[0m \u001b[0mprocess_dataframe_hierarchy\u001b[0m\u001b[0;34m(\u001b[0m\u001b[0margs\u001b[0m\u001b[0;34m)\u001b[0m\u001b[0;34m\u001b[0m\u001b[0;34m\u001b[0m\u001b[0m\n",
            "\u001b[0;32m/usr/local/lib/python3.7/dist-packages/plotly/express/_core.py\u001b[0m in \u001b[0;36mbuild_dataframe\u001b[0;34m(args, constructor)\u001b[0m\n\u001b[1;32m   1404\u001b[0m \u001b[0;34m\u001b[0m\u001b[0m\n\u001b[1;32m   1405\u001b[0m     df_output, wide_id_vars = process_args_into_dataframe(\n\u001b[0;32m-> 1406\u001b[0;31m         \u001b[0margs\u001b[0m\u001b[0;34m,\u001b[0m \u001b[0mwide_mode\u001b[0m\u001b[0;34m,\u001b[0m \u001b[0mvar_name\u001b[0m\u001b[0;34m,\u001b[0m \u001b[0mvalue_name\u001b[0m\u001b[0;34m\u001b[0m\u001b[0;34m\u001b[0m\u001b[0m\n\u001b[0m\u001b[1;32m   1407\u001b[0m     )\n\u001b[1;32m   1408\u001b[0m \u001b[0;34m\u001b[0m\u001b[0m\n",
            "\u001b[0;32m/usr/local/lib/python3.7/dist-packages/plotly/express/_core.py\u001b[0m in \u001b[0;36mprocess_args_into_dataframe\u001b[0;34m(args, wide_mode, var_name, value_name)\u001b[0m\n\u001b[1;32m   1205\u001b[0m                         \u001b[0;32mif\u001b[0m \u001b[0margument\u001b[0m \u001b[0;34m==\u001b[0m \u001b[0;34m\"index\"\u001b[0m\u001b[0;34m:\u001b[0m\u001b[0;34m\u001b[0m\u001b[0;34m\u001b[0m\u001b[0m\n\u001b[1;32m   1206\u001b[0m                             \u001b[0merr_msg\u001b[0m \u001b[0;34m+=\u001b[0m \u001b[0;34m\"\\n To use the index, pass it in directly as `df.index`.\"\u001b[0m\u001b[0;34m\u001b[0m\u001b[0;34m\u001b[0m\u001b[0m\n\u001b[0;32m-> 1207\u001b[0;31m                         \u001b[0;32mraise\u001b[0m \u001b[0mValueError\u001b[0m\u001b[0;34m(\u001b[0m\u001b[0merr_msg\u001b[0m\u001b[0;34m)\u001b[0m\u001b[0;34m\u001b[0m\u001b[0;34m\u001b[0m\u001b[0m\n\u001b[0m\u001b[1;32m   1208\u001b[0m                 \u001b[0;32melif\u001b[0m \u001b[0mlength\u001b[0m \u001b[0;32mand\u001b[0m \u001b[0mlen\u001b[0m\u001b[0;34m(\u001b[0m\u001b[0mdf_input\u001b[0m\u001b[0;34m[\u001b[0m\u001b[0margument\u001b[0m\u001b[0;34m]\u001b[0m\u001b[0;34m)\u001b[0m \u001b[0;34m!=\u001b[0m \u001b[0mlength\u001b[0m\u001b[0;34m:\u001b[0m\u001b[0;34m\u001b[0m\u001b[0;34m\u001b[0m\u001b[0m\n\u001b[1;32m   1209\u001b[0m                     raise ValueError(\n",
            "\u001b[0;31mValueError\u001b[0m: Value of 'path_1' is not the name of a column in 'data_frame'. Expected one of ['loan_id', 'gender', 'married', 'dependents', 'education', 'self_employed', 'applicant_income', 'coapplicant_income', 'loan_amount', 'loan_amount_term', 'credit_history', 'property_area'] but received: loan_status"
          ]
        }
      ],
      "source": [
        "px.sunburst(data_frame=df ,path=['gender','loan_status'], color='loan_amount')\n",
        "\n",
        "\n",
        "# try this code to see if it works. Can you fix it"
      ]
    },
    {
      "cell_type": "code",
      "source": [
        "plt.figure(figsize=(15,10))\n",
        "\n",
        "# create violin plots that have the six features shown above in the x value and loan amount in the y value\n",
        "# Plots 1 and 4 should have y labels and ticks while the rest of them should not\n",
        "\n"
      ],
      "metadata": {
        "id": "T2-bFjThcypG"
      },
      "execution_count": null,
      "outputs": []
    },
    {
      "cell_type": "code",
      "execution_count": null,
      "metadata": {
        "execution": {
          "iopub.execute_input": "2020-09-08T03:16:04.708238Z",
          "iopub.status.busy": "2020-09-08T03:16:04.703360Z",
          "iopub.status.idle": "2020-09-08T03:16:05.525060Z",
          "shell.execute_reply": "2020-09-08T03:16:05.525759Z"
        },
        "papermill": {
          "duration": 0.869293,
          "end_time": "2020-09-08T03:16:05.525969",
          "exception": false,
          "start_time": "2020-09-08T03:16:04.656676",
          "status": "completed"
        },
        "tags": [],
        "id": "_3G__A3HWh_Y"
      },
      "outputs": [],
      "source": [
        "plt.figure(figsize=(18,5))\n",
        "\n",
        "# Make three subplots that show frequency distributions of applicant incomes, co-applicant incomes and loan amounts\n",
        "# these should have lines and bars\n"
      ]
    },
    {
      "cell_type": "code",
      "execution_count": null,
      "metadata": {
        "execution": {
          "iopub.execute_input": "2020-09-08T03:16:05.598242Z",
          "iopub.status.busy": "2020-09-08T03:16:05.597077Z",
          "iopub.status.idle": "2020-09-08T03:16:05.764662Z",
          "shell.execute_reply": "2020-09-08T03:16:05.763869Z"
        },
        "papermill": {
          "duration": 0.206593,
          "end_time": "2020-09-08T03:16:05.764820",
          "exception": false,
          "start_time": "2020-09-08T03:16:05.558227",
          "status": "completed"
        },
        "tags": [],
        "id": "9pdDTvIpWh_Y"
      },
      "outputs": [],
      "source": [
        "px.scatter_3d(data_frame=df,x='applicant_income',y='co-applicant_income',z='loan_amount',color='loan_status')\n",
        "\n",
        "# try this command and see if it works"
      ]
    },
    {
      "cell_type": "markdown",
      "metadata": {
        "papermill": {
          "duration": 0.02967,
          "end_time": "2020-09-08T03:16:05.823612",
          "exception": false,
          "start_time": "2020-09-08T03:16:05.793942",
          "status": "completed"
        },
        "tags": [],
        "id": "Au--3kOwWh_Y"
      },
      "source": [
        "##### 3-2-Encoding"
      ]
    },
    {
      "cell_type": "markdown",
      "metadata": {
        "papermill": {
          "duration": 0.032563,
          "end_time": "2020-09-08T03:16:05.885144",
          "exception": false,
          "start_time": "2020-09-08T03:16:05.852581",
          "status": "completed"
        },
        "tags": [],
        "id": "5kbaxTmdWh_Y"
      },
      "source": [
        "###### 3-2-1-gender"
      ]
    },
    {
      "cell_type": "code",
      "execution_count": null,
      "metadata": {
        "execution": {
          "iopub.execute_input": "2020-09-08T03:16:05.949285Z",
          "iopub.status.busy": "2020-09-08T03:16:05.948498Z",
          "iopub.status.idle": "2020-09-08T03:16:05.952191Z",
          "shell.execute_reply": "2020-09-08T03:16:05.951396Z"
        },
        "papermill": {
          "duration": 0.03787,
          "end_time": "2020-09-08T03:16:05.952327",
          "exception": false,
          "start_time": "2020-09-08T03:16:05.914457",
          "status": "completed"
        },
        "tags": [],
        "id": "ORlWxEb3Wh_Z"
      },
      "outputs": [],
      "source": [
        "model1=LabelEncoder()"
      ]
    },
    {
      "cell_type": "code",
      "execution_count": null,
      "metadata": {
        "execution": {
          "iopub.execute_input": "2020-09-08T03:16:06.019197Z",
          "iopub.status.busy": "2020-09-08T03:16:06.018016Z",
          "iopub.status.idle": "2020-09-08T03:16:06.023852Z",
          "shell.execute_reply": "2020-09-08T03:16:06.023070Z"
        },
        "papermill": {
          "duration": 0.042876,
          "end_time": "2020-09-08T03:16:06.023983",
          "exception": false,
          "start_time": "2020-09-08T03:16:05.981107",
          "status": "completed"
        },
        "tags": [],
        "id": "uv3TElhhWh_Z",
        "colab": {
          "base_uri": "https://localhost:8080/"
        },
        "outputId": "f4fbf450-6b27-41eb-b124-d39eea019fe9"
      },
      "outputs": [
        {
          "output_type": "execute_result",
          "data": {
            "text/plain": [
              "LabelEncoder()"
            ]
          },
          "metadata": {},
          "execution_count": 84
        }
      ],
      "source": [
        "model1.fit(df['gender'])"
      ]
    },
    {
      "cell_type": "code",
      "execution_count": null,
      "metadata": {
        "execution": {
          "iopub.execute_input": "2020-09-08T03:16:06.094072Z",
          "iopub.status.busy": "2020-09-08T03:16:06.093112Z",
          "iopub.status.idle": "2020-09-08T03:16:06.096744Z",
          "shell.execute_reply": "2020-09-08T03:16:06.096070Z"
        },
        "papermill": {
          "duration": 0.043284,
          "end_time": "2020-09-08T03:16:06.096910",
          "exception": false,
          "start_time": "2020-09-08T03:16:06.053626",
          "status": "completed"
        },
        "tags": [],
        "id": "pvGBgW5zWh_Z"
      },
      "outputs": [],
      "source": [
        "df['gender']= model1.transform(df['gender'])"
      ]
    },
    {
      "cell_type": "markdown",
      "metadata": {
        "papermill": {
          "duration": 0.029729,
          "end_time": "2020-09-08T03:16:06.155847",
          "exception": false,
          "start_time": "2020-09-08T03:16:06.126118",
          "status": "completed"
        },
        "tags": [],
        "id": "8yWDmlDGWh_Z"
      },
      "source": [
        "###### 3-2-2-married"
      ]
    },
    {
      "cell_type": "code",
      "execution_count": null,
      "metadata": {
        "execution": {
          "iopub.execute_input": "2020-09-08T03:16:06.222196Z",
          "iopub.status.busy": "2020-09-08T03:16:06.221004Z",
          "iopub.status.idle": "2020-09-08T03:16:06.224732Z",
          "shell.execute_reply": "2020-09-08T03:16:06.223978Z"
        },
        "papermill": {
          "duration": 0.04018,
          "end_time": "2020-09-08T03:16:06.224884",
          "exception": false,
          "start_time": "2020-09-08T03:16:06.184704",
          "status": "completed"
        },
        "tags": [],
        "id": "H7Ea_aNKWh_Z"
      },
      "outputs": [],
      "source": [
        "model2=LabelEncoder()"
      ]
    },
    {
      "cell_type": "code",
      "execution_count": null,
      "metadata": {
        "execution": {
          "iopub.execute_input": "2020-09-08T03:16:06.295821Z",
          "iopub.status.busy": "2020-09-08T03:16:06.294988Z",
          "iopub.status.idle": "2020-09-08T03:16:06.299327Z",
          "shell.execute_reply": "2020-09-08T03:16:06.298561Z"
        },
        "papermill": {
          "duration": 0.044075,
          "end_time": "2020-09-08T03:16:06.299454",
          "exception": false,
          "start_time": "2020-09-08T03:16:06.255379",
          "status": "completed"
        },
        "tags": [],
        "id": "f2DNg0H8Wh_Z",
        "colab": {
          "base_uri": "https://localhost:8080/"
        },
        "outputId": "6fdb79f2-162e-4eb5-b502-44e1fee91454"
      },
      "outputs": [
        {
          "output_type": "execute_result",
          "data": {
            "text/plain": [
              "LabelEncoder()"
            ]
          },
          "metadata": {},
          "execution_count": 87
        }
      ],
      "source": [
        "model2.fit(df['married'])"
      ]
    },
    {
      "cell_type": "code",
      "execution_count": null,
      "metadata": {
        "execution": {
          "iopub.execute_input": "2020-09-08T03:16:06.367967Z",
          "iopub.status.busy": "2020-09-08T03:16:06.366916Z",
          "iopub.status.idle": "2020-09-08T03:16:06.370583Z",
          "shell.execute_reply": "2020-09-08T03:16:06.369948Z"
        },
        "papermill": {
          "duration": 0.040351,
          "end_time": "2020-09-08T03:16:06.370713",
          "exception": false,
          "start_time": "2020-09-08T03:16:06.330362",
          "status": "completed"
        },
        "tags": [],
        "id": "Uz2USyIIWh_a"
      },
      "outputs": [],
      "source": [
        "df['married']= model2.transform(df['married'])"
      ]
    },
    {
      "cell_type": "markdown",
      "metadata": {
        "papermill": {
          "duration": 0.031241,
          "end_time": "2020-09-08T03:16:06.432897",
          "exception": false,
          "start_time": "2020-09-08T03:16:06.401656",
          "status": "completed"
        },
        "tags": [],
        "id": "V5RHDqzDWh_a"
      },
      "source": [
        "###### 3-2-3-education"
      ]
    },
    {
      "cell_type": "code",
      "execution_count": null,
      "metadata": {
        "execution": {
          "iopub.execute_input": "2020-09-08T03:16:06.504427Z",
          "iopub.status.busy": "2020-09-08T03:16:06.503566Z",
          "iopub.status.idle": "2020-09-08T03:16:06.507525Z",
          "shell.execute_reply": "2020-09-08T03:16:06.506682Z"
        },
        "papermill": {
          "duration": 0.041005,
          "end_time": "2020-09-08T03:16:06.507659",
          "exception": false,
          "start_time": "2020-09-08T03:16:06.466654",
          "status": "completed"
        },
        "tags": [],
        "id": "afePEtxHWh_a"
      },
      "outputs": [],
      "source": [
        "model3=LabelEncoder()"
      ]
    },
    {
      "cell_type": "code",
      "execution_count": null,
      "metadata": {
        "execution": {
          "iopub.execute_input": "2020-09-08T03:16:06.574611Z",
          "iopub.status.busy": "2020-09-08T03:16:06.573448Z",
          "iopub.status.idle": "2020-09-08T03:16:06.578526Z",
          "shell.execute_reply": "2020-09-08T03:16:06.577945Z"
        },
        "papermill": {
          "duration": 0.041678,
          "end_time": "2020-09-08T03:16:06.578667",
          "exception": false,
          "start_time": "2020-09-08T03:16:06.536989",
          "status": "completed"
        },
        "tags": [],
        "id": "9eU6npGRWh_a",
        "colab": {
          "base_uri": "https://localhost:8080/"
        },
        "outputId": "dc74cf8a-732b-4400-a20b-c6ed50eb0236"
      },
      "outputs": [
        {
          "output_type": "execute_result",
          "data": {
            "text/plain": [
              "LabelEncoder()"
            ]
          },
          "metadata": {},
          "execution_count": 90
        }
      ],
      "source": [
        "model3.fit(df['education'])"
      ]
    },
    {
      "cell_type": "code",
      "execution_count": null,
      "metadata": {
        "execution": {
          "iopub.execute_input": "2020-09-08T03:16:06.647661Z",
          "iopub.status.busy": "2020-09-08T03:16:06.646476Z",
          "iopub.status.idle": "2020-09-08T03:16:06.649387Z",
          "shell.execute_reply": "2020-09-08T03:16:06.649995Z"
        },
        "papermill": {
          "duration": 0.041559,
          "end_time": "2020-09-08T03:16:06.650166",
          "exception": false,
          "start_time": "2020-09-08T03:16:06.608607",
          "status": "completed"
        },
        "tags": [],
        "id": "hVFjw-1MWh_a"
      },
      "outputs": [],
      "source": [
        "df['education']= model3.transform(df['education'])"
      ]
    },
    {
      "cell_type": "markdown",
      "metadata": {
        "papermill": {
          "duration": 0.029583,
          "end_time": "2020-09-08T03:16:06.709183",
          "exception": false,
          "start_time": "2020-09-08T03:16:06.679600",
          "status": "completed"
        },
        "tags": [],
        "id": "hIq_oJP-Wh_b"
      },
      "source": [
        "###### 3-2-4-self_employed"
      ]
    },
    {
      "cell_type": "code",
      "execution_count": null,
      "metadata": {
        "execution": {
          "iopub.execute_input": "2020-09-08T03:16:06.775569Z",
          "iopub.status.busy": "2020-09-08T03:16:06.774514Z",
          "iopub.status.idle": "2020-09-08T03:16:06.777409Z",
          "shell.execute_reply": "2020-09-08T03:16:06.777964Z"
        },
        "papermill": {
          "duration": 0.039598,
          "end_time": "2020-09-08T03:16:06.778140",
          "exception": false,
          "start_time": "2020-09-08T03:16:06.738542",
          "status": "completed"
        },
        "tags": [],
        "id": "8AgoSJzuWh_b"
      },
      "outputs": [],
      "source": [
        "model4=LabelEncoder()"
      ]
    },
    {
      "cell_type": "code",
      "execution_count": null,
      "metadata": {
        "execution": {
          "iopub.execute_input": "2020-09-08T03:16:06.846303Z",
          "iopub.status.busy": "2020-09-08T03:16:06.845098Z",
          "iopub.status.idle": "2020-09-08T03:16:06.850215Z",
          "shell.execute_reply": "2020-09-08T03:16:06.849498Z"
        },
        "papermill": {
          "duration": 0.042008,
          "end_time": "2020-09-08T03:16:06.850339",
          "exception": false,
          "start_time": "2020-09-08T03:16:06.808331",
          "status": "completed"
        },
        "tags": [],
        "id": "1F8TixZUWh_b",
        "colab": {
          "base_uri": "https://localhost:8080/"
        },
        "outputId": "5ac02f85-7fc2-44c8-a95a-2e230edc48dc"
      },
      "outputs": [
        {
          "output_type": "execute_result",
          "data": {
            "text/plain": [
              "LabelEncoder()"
            ]
          },
          "metadata": {},
          "execution_count": 93
        }
      ],
      "source": [
        "model4.fit(df['self_employed'])"
      ]
    },
    {
      "cell_type": "code",
      "execution_count": null,
      "metadata": {
        "execution": {
          "iopub.execute_input": "2020-09-08T03:16:06.917673Z",
          "iopub.status.busy": "2020-09-08T03:16:06.916924Z",
          "iopub.status.idle": "2020-09-08T03:16:06.920588Z",
          "shell.execute_reply": "2020-09-08T03:16:06.919849Z"
        },
        "papermill": {
          "duration": 0.040144,
          "end_time": "2020-09-08T03:16:06.920711",
          "exception": false,
          "start_time": "2020-09-08T03:16:06.880567",
          "status": "completed"
        },
        "tags": [],
        "id": "kS8hqaNcWh_b"
      },
      "outputs": [],
      "source": [
        "df['self_employed']= model4.transform(df['self_employed'])"
      ]
    },
    {
      "cell_type": "markdown",
      "metadata": {
        "papermill": {
          "duration": 0.029232,
          "end_time": "2020-09-08T03:16:06.979610",
          "exception": false,
          "start_time": "2020-09-08T03:16:06.950378",
          "status": "completed"
        },
        "tags": [],
        "id": "RsSiY4KUWh_b"
      },
      "source": [
        "###### 3-2-5-property_area"
      ]
    },
    {
      "cell_type": "code",
      "execution_count": null,
      "metadata": {
        "execution": {
          "iopub.execute_input": "2020-09-08T03:16:07.049537Z",
          "iopub.status.busy": "2020-09-08T03:16:07.048731Z",
          "iopub.status.idle": "2020-09-08T03:16:07.052665Z",
          "shell.execute_reply": "2020-09-08T03:16:07.051866Z"
        },
        "papermill": {
          "duration": 0.040401,
          "end_time": "2020-09-08T03:16:07.052818",
          "exception": false,
          "start_time": "2020-09-08T03:16:07.012417",
          "status": "completed"
        },
        "tags": [],
        "id": "TPP6tmsYWh_b"
      },
      "outputs": [],
      "source": [
        "model5=LabelEncoder()"
      ]
    },
    {
      "cell_type": "code",
      "execution_count": null,
      "metadata": {
        "execution": {
          "iopub.execute_input": "2020-09-08T03:16:07.122699Z",
          "iopub.status.busy": "2020-09-08T03:16:07.121879Z",
          "iopub.status.idle": "2020-09-08T03:16:07.126525Z",
          "shell.execute_reply": "2020-09-08T03:16:07.125827Z"
        },
        "papermill": {
          "duration": 0.042427,
          "end_time": "2020-09-08T03:16:07.126658",
          "exception": false,
          "start_time": "2020-09-08T03:16:07.084231",
          "status": "completed"
        },
        "tags": [],
        "id": "qKeZ_1sPWh_c",
        "colab": {
          "base_uri": "https://localhost:8080/"
        },
        "outputId": "334e2536-0f71-4e44-eae5-33c655fd9a64"
      },
      "outputs": [
        {
          "output_type": "execute_result",
          "data": {
            "text/plain": [
              "LabelEncoder()"
            ]
          },
          "metadata": {},
          "execution_count": 96
        }
      ],
      "source": [
        "model5.fit(df['property_area'])"
      ]
    },
    {
      "cell_type": "code",
      "execution_count": null,
      "metadata": {
        "execution": {
          "iopub.execute_input": "2020-09-08T03:16:07.194181Z",
          "iopub.status.busy": "2020-09-08T03:16:07.193280Z",
          "iopub.status.idle": "2020-09-08T03:16:07.196891Z",
          "shell.execute_reply": "2020-09-08T03:16:07.196151Z"
        },
        "papermill": {
          "duration": 0.040125,
          "end_time": "2020-09-08T03:16:07.197050",
          "exception": false,
          "start_time": "2020-09-08T03:16:07.156925",
          "status": "completed"
        },
        "tags": [],
        "id": "txsaDwDUWh_c",
        "colab": {
          "base_uri": "https://localhost:8080/",
          "height": 353
        },
        "outputId": "3a182d75-2dac-4ef1-8cfb-37d238ebb6be"
      },
      "outputs": [
        {
          "output_type": "error",
          "ename": "TypeError",
          "evalue": "ignored",
          "traceback": [
            "\u001b[0;31m---------------------------------------------------------------------------\u001b[0m",
            "\u001b[0;31mTypeError\u001b[0m                                 Traceback (most recent call last)",
            "\u001b[0;32m<ipython-input-101-c7ef46566152>\u001b[0m in \u001b[0;36m<module>\u001b[0;34m()\u001b[0m\n\u001b[0;32m----> 1\u001b[0;31m \u001b[0mdf\u001b[0m\u001b[0;34m[\u001b[0m\u001b[0;34m'property_area'\u001b[0m\u001b[0;34m]\u001b[0m\u001b[0;34m=\u001b[0m \u001b[0mmodel5\u001b[0m\u001b[0;34m.\u001b[0m\u001b[0mtransform\u001b[0m\u001b[0;34m(\u001b[0m\u001b[0mdf\u001b[0m\u001b[0;34m[\u001b[0m\u001b[0;34m'property_area'\u001b[0m\u001b[0;34m]\u001b[0m\u001b[0;34m)\u001b[0m\u001b[0;34m\u001b[0m\u001b[0;34m\u001b[0m\u001b[0m\n\u001b[0m\u001b[1;32m      2\u001b[0m \u001b[0mdf\u001b[0m\u001b[0;34m\u001b[0m\u001b[0;34m\u001b[0m\u001b[0m\n",
            "\u001b[0;32m/usr/local/lib/python3.7/dist-packages/sklearn/preprocessing/_label.py\u001b[0m in \u001b[0;36mtransform\u001b[0;34m(self, y)\u001b[0m\n\u001b[1;32m    136\u001b[0m             \u001b[0;32mreturn\u001b[0m \u001b[0mnp\u001b[0m\u001b[0;34m.\u001b[0m\u001b[0marray\u001b[0m\u001b[0;34m(\u001b[0m\u001b[0;34m[\u001b[0m\u001b[0;34m]\u001b[0m\u001b[0;34m)\u001b[0m\u001b[0;34m\u001b[0m\u001b[0;34m\u001b[0m\u001b[0m\n\u001b[1;32m    137\u001b[0m \u001b[0;34m\u001b[0m\u001b[0m\n\u001b[0;32m--> 138\u001b[0;31m         \u001b[0;32mreturn\u001b[0m \u001b[0m_encode\u001b[0m\u001b[0;34m(\u001b[0m\u001b[0my\u001b[0m\u001b[0;34m,\u001b[0m \u001b[0muniques\u001b[0m\u001b[0;34m=\u001b[0m\u001b[0mself\u001b[0m\u001b[0;34m.\u001b[0m\u001b[0mclasses_\u001b[0m\u001b[0;34m)\u001b[0m\u001b[0;34m\u001b[0m\u001b[0;34m\u001b[0m\u001b[0m\n\u001b[0m\u001b[1;32m    139\u001b[0m \u001b[0;34m\u001b[0m\u001b[0m\n\u001b[1;32m    140\u001b[0m     \u001b[0;32mdef\u001b[0m \u001b[0minverse_transform\u001b[0m\u001b[0;34m(\u001b[0m\u001b[0mself\u001b[0m\u001b[0;34m,\u001b[0m \u001b[0my\u001b[0m\u001b[0;34m)\u001b[0m\u001b[0;34m:\u001b[0m\u001b[0;34m\u001b[0m\u001b[0;34m\u001b[0m\u001b[0m\n",
            "\u001b[0;32m/usr/local/lib/python3.7/dist-packages/sklearn/utils/_encode.py\u001b[0m in \u001b[0;36m_encode\u001b[0;34m(values, uniques, check_unknown)\u001b[0m\n\u001b[1;32m    185\u001b[0m     \u001b[0;32melse\u001b[0m\u001b[0;34m:\u001b[0m\u001b[0;34m\u001b[0m\u001b[0;34m\u001b[0m\u001b[0m\n\u001b[1;32m    186\u001b[0m         \u001b[0;32mif\u001b[0m \u001b[0mcheck_unknown\u001b[0m\u001b[0;34m:\u001b[0m\u001b[0;34m\u001b[0m\u001b[0;34m\u001b[0m\u001b[0m\n\u001b[0;32m--> 187\u001b[0;31m             \u001b[0mdiff\u001b[0m \u001b[0;34m=\u001b[0m \u001b[0m_check_unknown\u001b[0m\u001b[0;34m(\u001b[0m\u001b[0mvalues\u001b[0m\u001b[0;34m,\u001b[0m \u001b[0muniques\u001b[0m\u001b[0;34m)\u001b[0m\u001b[0;34m\u001b[0m\u001b[0;34m\u001b[0m\u001b[0m\n\u001b[0m\u001b[1;32m    188\u001b[0m             \u001b[0;32mif\u001b[0m \u001b[0mdiff\u001b[0m\u001b[0;34m:\u001b[0m\u001b[0;34m\u001b[0m\u001b[0;34m\u001b[0m\u001b[0m\n\u001b[1;32m    189\u001b[0m                 \u001b[0;32mraise\u001b[0m \u001b[0mValueError\u001b[0m\u001b[0;34m(\u001b[0m\u001b[0;34mf\"y contains previously unseen labels: {str(diff)}\"\u001b[0m\u001b[0;34m)\u001b[0m\u001b[0;34m\u001b[0m\u001b[0;34m\u001b[0m\u001b[0m\n",
            "\u001b[0;32m/usr/local/lib/python3.7/dist-packages/sklearn/utils/_encode.py\u001b[0m in \u001b[0;36m_check_unknown\u001b[0;34m(values, known_values, return_mask)\u001b[0m\n\u001b[1;32m    259\u001b[0m \u001b[0;34m\u001b[0m\u001b[0m\n\u001b[1;32m    260\u001b[0m         \u001b[0;31m# check for nans in the known_values\u001b[0m\u001b[0;34m\u001b[0m\u001b[0;34m\u001b[0m\u001b[0;34m\u001b[0m\u001b[0m\n\u001b[0;32m--> 261\u001b[0;31m         \u001b[0;32mif\u001b[0m \u001b[0mnp\u001b[0m\u001b[0;34m.\u001b[0m\u001b[0misnan\u001b[0m\u001b[0;34m(\u001b[0m\u001b[0mknown_values\u001b[0m\u001b[0;34m)\u001b[0m\u001b[0;34m.\u001b[0m\u001b[0many\u001b[0m\u001b[0;34m(\u001b[0m\u001b[0;34m)\u001b[0m\u001b[0;34m:\u001b[0m\u001b[0;34m\u001b[0m\u001b[0;34m\u001b[0m\u001b[0m\n\u001b[0m\u001b[1;32m    262\u001b[0m             \u001b[0mdiff_is_nan\u001b[0m \u001b[0;34m=\u001b[0m \u001b[0mnp\u001b[0m\u001b[0;34m.\u001b[0m\u001b[0misnan\u001b[0m\u001b[0;34m(\u001b[0m\u001b[0mdiff\u001b[0m\u001b[0;34m)\u001b[0m\u001b[0;34m\u001b[0m\u001b[0;34m\u001b[0m\u001b[0m\n\u001b[1;32m    263\u001b[0m             \u001b[0;32mif\u001b[0m \u001b[0mdiff_is_nan\u001b[0m\u001b[0;34m.\u001b[0m\u001b[0many\u001b[0m\u001b[0;34m(\u001b[0m\u001b[0;34m)\u001b[0m\u001b[0;34m:\u001b[0m\u001b[0;34m\u001b[0m\u001b[0;34m\u001b[0m\u001b[0m\n",
            "\u001b[0;31mTypeError\u001b[0m: ufunc 'isnan' not supported for the input types, and the inputs could not be safely coerced to any supported types according to the casting rule ''safe''"
          ]
        }
      ],
      "source": [
        "df['property_area']= model5.transform(df['property_area'])"
      ]
    },
    {
      "cell_type": "code",
      "source": [
        "df"
      ],
      "metadata": {
        "colab": {
          "base_uri": "https://localhost:8080/",
          "height": 488
        },
        "id": "qf9zVZvZpGWN",
        "outputId": "24c5a4f4-4c60-4fdb-88f1-b91a118a5e78"
      },
      "execution_count": null,
      "outputs": [
        {
          "output_type": "execute_result",
          "data": {
            "text/plain": [
              "      loan_id  gender  married  dependents  education  self_employed  \\\n",
              "0    LP001015       1        1           0          0              0   \n",
              "1    LP001022       1        1           1          0              0   \n",
              "2    LP001031       1        1           2          0              0   \n",
              "3    LP001035       1        1           2          0              0   \n",
              "4    LP001051       1        0           0          1              0   \n",
              "..        ...     ...      ...         ...        ...            ...   \n",
              "362  LP002971       1        1           3          1              1   \n",
              "363  LP002975       1        1           0          0              0   \n",
              "364  LP002980       1        0           0          0              0   \n",
              "365  LP002986       1        1           0          0              0   \n",
              "366  LP002989       1        0           0          0              1   \n",
              "\n",
              "     applicant_income  coapplicant_income  loan_amount  loan_amount_term  \\\n",
              "0                5720                   0        110.0             360.0   \n",
              "1                3076                1500        126.0             360.0   \n",
              "2                5000                1800        208.0             360.0   \n",
              "3                2340                2546        100.0             360.0   \n",
              "4                3276                   0         78.0             360.0   \n",
              "..                ...                 ...          ...               ...   \n",
              "362              4009                1777        113.0             360.0   \n",
              "363              4158                 709        115.0             360.0   \n",
              "364              3250                1993        126.0             360.0   \n",
              "365              5000                2393        158.0             360.0   \n",
              "366              9200                   0         98.0             180.0   \n",
              "\n",
              "     credit_history  property_area  \n",
              "0          1.000000              2  \n",
              "1          1.000000              2  \n",
              "2          1.000000              2  \n",
              "3          0.825444              2  \n",
              "4          1.000000              2  \n",
              "..              ...            ...  \n",
              "362        1.000000              2  \n",
              "363        1.000000              2  \n",
              "364        0.825444              1  \n",
              "365        1.000000              0  \n",
              "366        1.000000              0  \n",
              "\n",
              "[318 rows x 12 columns]"
            ],
            "text/html": [
              "\n",
              "  <div id=\"df-e42c6c73-2775-4f95-9a3f-12b18f298dcd\">\n",
              "    <div class=\"colab-df-container\">\n",
              "      <div>\n",
              "<style scoped>\n",
              "    .dataframe tbody tr th:only-of-type {\n",
              "        vertical-align: middle;\n",
              "    }\n",
              "\n",
              "    .dataframe tbody tr th {\n",
              "        vertical-align: top;\n",
              "    }\n",
              "\n",
              "    .dataframe thead th {\n",
              "        text-align: right;\n",
              "    }\n",
              "</style>\n",
              "<table border=\"1\" class=\"dataframe\">\n",
              "  <thead>\n",
              "    <tr style=\"text-align: right;\">\n",
              "      <th></th>\n",
              "      <th>loan_id</th>\n",
              "      <th>gender</th>\n",
              "      <th>married</th>\n",
              "      <th>dependents</th>\n",
              "      <th>education</th>\n",
              "      <th>self_employed</th>\n",
              "      <th>applicant_income</th>\n",
              "      <th>coapplicant_income</th>\n",
              "      <th>loan_amount</th>\n",
              "      <th>loan_amount_term</th>\n",
              "      <th>credit_history</th>\n",
              "      <th>property_area</th>\n",
              "    </tr>\n",
              "  </thead>\n",
              "  <tbody>\n",
              "    <tr>\n",
              "      <th>0</th>\n",
              "      <td>LP001015</td>\n",
              "      <td>1</td>\n",
              "      <td>1</td>\n",
              "      <td>0</td>\n",
              "      <td>0</td>\n",
              "      <td>0</td>\n",
              "      <td>5720</td>\n",
              "      <td>0</td>\n",
              "      <td>110.0</td>\n",
              "      <td>360.0</td>\n",
              "      <td>1.000000</td>\n",
              "      <td>2</td>\n",
              "    </tr>\n",
              "    <tr>\n",
              "      <th>1</th>\n",
              "      <td>LP001022</td>\n",
              "      <td>1</td>\n",
              "      <td>1</td>\n",
              "      <td>1</td>\n",
              "      <td>0</td>\n",
              "      <td>0</td>\n",
              "      <td>3076</td>\n",
              "      <td>1500</td>\n",
              "      <td>126.0</td>\n",
              "      <td>360.0</td>\n",
              "      <td>1.000000</td>\n",
              "      <td>2</td>\n",
              "    </tr>\n",
              "    <tr>\n",
              "      <th>2</th>\n",
              "      <td>LP001031</td>\n",
              "      <td>1</td>\n",
              "      <td>1</td>\n",
              "      <td>2</td>\n",
              "      <td>0</td>\n",
              "      <td>0</td>\n",
              "      <td>5000</td>\n",
              "      <td>1800</td>\n",
              "      <td>208.0</td>\n",
              "      <td>360.0</td>\n",
              "      <td>1.000000</td>\n",
              "      <td>2</td>\n",
              "    </tr>\n",
              "    <tr>\n",
              "      <th>3</th>\n",
              "      <td>LP001035</td>\n",
              "      <td>1</td>\n",
              "      <td>1</td>\n",
              "      <td>2</td>\n",
              "      <td>0</td>\n",
              "      <td>0</td>\n",
              "      <td>2340</td>\n",
              "      <td>2546</td>\n",
              "      <td>100.0</td>\n",
              "      <td>360.0</td>\n",
              "      <td>0.825444</td>\n",
              "      <td>2</td>\n",
              "    </tr>\n",
              "    <tr>\n",
              "      <th>4</th>\n",
              "      <td>LP001051</td>\n",
              "      <td>1</td>\n",
              "      <td>0</td>\n",
              "      <td>0</td>\n",
              "      <td>1</td>\n",
              "      <td>0</td>\n",
              "      <td>3276</td>\n",
              "      <td>0</td>\n",
              "      <td>78.0</td>\n",
              "      <td>360.0</td>\n",
              "      <td>1.000000</td>\n",
              "      <td>2</td>\n",
              "    </tr>\n",
              "    <tr>\n",
              "      <th>...</th>\n",
              "      <td>...</td>\n",
              "      <td>...</td>\n",
              "      <td>...</td>\n",
              "      <td>...</td>\n",
              "      <td>...</td>\n",
              "      <td>...</td>\n",
              "      <td>...</td>\n",
              "      <td>...</td>\n",
              "      <td>...</td>\n",
              "      <td>...</td>\n",
              "      <td>...</td>\n",
              "      <td>...</td>\n",
              "    </tr>\n",
              "    <tr>\n",
              "      <th>362</th>\n",
              "      <td>LP002971</td>\n",
              "      <td>1</td>\n",
              "      <td>1</td>\n",
              "      <td>3</td>\n",
              "      <td>1</td>\n",
              "      <td>1</td>\n",
              "      <td>4009</td>\n",
              "      <td>1777</td>\n",
              "      <td>113.0</td>\n",
              "      <td>360.0</td>\n",
              "      <td>1.000000</td>\n",
              "      <td>2</td>\n",
              "    </tr>\n",
              "    <tr>\n",
              "      <th>363</th>\n",
              "      <td>LP002975</td>\n",
              "      <td>1</td>\n",
              "      <td>1</td>\n",
              "      <td>0</td>\n",
              "      <td>0</td>\n",
              "      <td>0</td>\n",
              "      <td>4158</td>\n",
              "      <td>709</td>\n",
              "      <td>115.0</td>\n",
              "      <td>360.0</td>\n",
              "      <td>1.000000</td>\n",
              "      <td>2</td>\n",
              "    </tr>\n",
              "    <tr>\n",
              "      <th>364</th>\n",
              "      <td>LP002980</td>\n",
              "      <td>1</td>\n",
              "      <td>0</td>\n",
              "      <td>0</td>\n",
              "      <td>0</td>\n",
              "      <td>0</td>\n",
              "      <td>3250</td>\n",
              "      <td>1993</td>\n",
              "      <td>126.0</td>\n",
              "      <td>360.0</td>\n",
              "      <td>0.825444</td>\n",
              "      <td>1</td>\n",
              "    </tr>\n",
              "    <tr>\n",
              "      <th>365</th>\n",
              "      <td>LP002986</td>\n",
              "      <td>1</td>\n",
              "      <td>1</td>\n",
              "      <td>0</td>\n",
              "      <td>0</td>\n",
              "      <td>0</td>\n",
              "      <td>5000</td>\n",
              "      <td>2393</td>\n",
              "      <td>158.0</td>\n",
              "      <td>360.0</td>\n",
              "      <td>1.000000</td>\n",
              "      <td>0</td>\n",
              "    </tr>\n",
              "    <tr>\n",
              "      <th>366</th>\n",
              "      <td>LP002989</td>\n",
              "      <td>1</td>\n",
              "      <td>0</td>\n",
              "      <td>0</td>\n",
              "      <td>0</td>\n",
              "      <td>1</td>\n",
              "      <td>9200</td>\n",
              "      <td>0</td>\n",
              "      <td>98.0</td>\n",
              "      <td>180.0</td>\n",
              "      <td>1.000000</td>\n",
              "      <td>0</td>\n",
              "    </tr>\n",
              "  </tbody>\n",
              "</table>\n",
              "<p>318 rows × 12 columns</p>\n",
              "</div>\n",
              "      <button class=\"colab-df-convert\" onclick=\"convertToInteractive('df-e42c6c73-2775-4f95-9a3f-12b18f298dcd')\"\n",
              "              title=\"Convert this dataframe to an interactive table.\"\n",
              "              style=\"display:none;\">\n",
              "        \n",
              "  <svg xmlns=\"http://www.w3.org/2000/svg\" height=\"24px\"viewBox=\"0 0 24 24\"\n",
              "       width=\"24px\">\n",
              "    <path d=\"M0 0h24v24H0V0z\" fill=\"none\"/>\n",
              "    <path d=\"M18.56 5.44l.94 2.06.94-2.06 2.06-.94-2.06-.94-.94-2.06-.94 2.06-2.06.94zm-11 1L8.5 8.5l.94-2.06 2.06-.94-2.06-.94L8.5 2.5l-.94 2.06-2.06.94zm10 10l.94 2.06.94-2.06 2.06-.94-2.06-.94-.94-2.06-.94 2.06-2.06.94z\"/><path d=\"M17.41 7.96l-1.37-1.37c-.4-.4-.92-.59-1.43-.59-.52 0-1.04.2-1.43.59L10.3 9.45l-7.72 7.72c-.78.78-.78 2.05 0 2.83L4 21.41c.39.39.9.59 1.41.59.51 0 1.02-.2 1.41-.59l7.78-7.78 2.81-2.81c.8-.78.8-2.07 0-2.86zM5.41 20L4 18.59l7.72-7.72 1.47 1.35L5.41 20z\"/>\n",
              "  </svg>\n",
              "      </button>\n",
              "      \n",
              "  <style>\n",
              "    .colab-df-container {\n",
              "      display:flex;\n",
              "      flex-wrap:wrap;\n",
              "      gap: 12px;\n",
              "    }\n",
              "\n",
              "    .colab-df-convert {\n",
              "      background-color: #E8F0FE;\n",
              "      border: none;\n",
              "      border-radius: 50%;\n",
              "      cursor: pointer;\n",
              "      display: none;\n",
              "      fill: #1967D2;\n",
              "      height: 32px;\n",
              "      padding: 0 0 0 0;\n",
              "      width: 32px;\n",
              "    }\n",
              "\n",
              "    .colab-df-convert:hover {\n",
              "      background-color: #E2EBFA;\n",
              "      box-shadow: 0px 1px 2px rgba(60, 64, 67, 0.3), 0px 1px 3px 1px rgba(60, 64, 67, 0.15);\n",
              "      fill: #174EA6;\n",
              "    }\n",
              "\n",
              "    [theme=dark] .colab-df-convert {\n",
              "      background-color: #3B4455;\n",
              "      fill: #D2E3FC;\n",
              "    }\n",
              "\n",
              "    [theme=dark] .colab-df-convert:hover {\n",
              "      background-color: #434B5C;\n",
              "      box-shadow: 0px 1px 3px 1px rgba(0, 0, 0, 0.15);\n",
              "      filter: drop-shadow(0px 1px 2px rgba(0, 0, 0, 0.3));\n",
              "      fill: #FFFFFF;\n",
              "    }\n",
              "  </style>\n",
              "\n",
              "      <script>\n",
              "        const buttonEl =\n",
              "          document.querySelector('#df-e42c6c73-2775-4f95-9a3f-12b18f298dcd button.colab-df-convert');\n",
              "        buttonEl.style.display =\n",
              "          google.colab.kernel.accessAllowed ? 'block' : 'none';\n",
              "\n",
              "        async function convertToInteractive(key) {\n",
              "          const element = document.querySelector('#df-e42c6c73-2775-4f95-9a3f-12b18f298dcd');\n",
              "          const dataTable =\n",
              "            await google.colab.kernel.invokeFunction('convertToInteractive',\n",
              "                                                     [key], {});\n",
              "          if (!dataTable) return;\n",
              "\n",
              "          const docLinkHtml = 'Like what you see? Visit the ' +\n",
              "            '<a target=\"_blank\" href=https://colab.research.google.com/notebooks/data_table.ipynb>data table notebook</a>'\n",
              "            + ' to learn more about interactive tables.';\n",
              "          element.innerHTML = '';\n",
              "          dataTable['output_type'] = 'display_data';\n",
              "          await google.colab.output.renderOutput(dataTable, element);\n",
              "          const docLink = document.createElement('div');\n",
              "          docLink.innerHTML = docLinkHtml;\n",
              "          element.appendChild(docLink);\n",
              "        }\n",
              "      </script>\n",
              "    </div>\n",
              "  </div>\n",
              "  "
            ]
          },
          "metadata": {},
          "execution_count": 102
        }
      ]
    },
    {
      "cell_type": "markdown",
      "metadata": {
        "papermill": {
          "duration": 0.030197,
          "end_time": "2020-09-08T03:16:07.259319",
          "exception": false,
          "start_time": "2020-09-08T03:16:07.229122",
          "status": "completed"
        },
        "tags": [],
        "id": "gWkGU1BVWh_c"
      },
      "source": [
        "###### 3-2-6-loan status"
      ]
    },
    {
      "cell_type": "code",
      "execution_count": null,
      "metadata": {
        "execution": {
          "iopub.execute_input": "2020-09-08T03:16:07.328214Z",
          "iopub.status.busy": "2020-09-08T03:16:07.327234Z",
          "iopub.status.idle": "2020-09-08T03:16:07.330547Z",
          "shell.execute_reply": "2020-09-08T03:16:07.329812Z"
        },
        "papermill": {
          "duration": 0.039562,
          "end_time": "2020-09-08T03:16:07.330672",
          "exception": false,
          "start_time": "2020-09-08T03:16:07.291110",
          "status": "completed"
        },
        "tags": [],
        "id": "UoD6iiOxWh_c"
      },
      "outputs": [],
      "source": [
        "model6=LabelEncoder()"
      ]
    },
    {
      "cell_type": "code",
      "execution_count": null,
      "metadata": {
        "execution": {
          "iopub.execute_input": "2020-09-08T03:16:07.399955Z",
          "iopub.status.busy": "2020-09-08T03:16:07.398962Z",
          "iopub.status.idle": "2020-09-08T03:16:07.403168Z",
          "shell.execute_reply": "2020-09-08T03:16:07.403831Z"
        },
        "papermill": {
          "duration": 0.043225,
          "end_time": "2020-09-08T03:16:07.403994",
          "exception": false,
          "start_time": "2020-09-08T03:16:07.360769",
          "status": "completed"
        },
        "tags": [],
        "id": "qvHxeYfuWh_c"
      },
      "outputs": [],
      "source": [
        "model6.fit(df['loan_status'])"
      ]
    },
    {
      "cell_type": "code",
      "execution_count": null,
      "metadata": {
        "execution": {
          "iopub.execute_input": "2020-09-08T03:16:07.474101Z",
          "iopub.status.busy": "2020-09-08T03:16:07.472978Z",
          "iopub.status.idle": "2020-09-08T03:16:07.476673Z",
          "shell.execute_reply": "2020-09-08T03:16:07.475890Z"
        },
        "papermill": {
          "duration": 0.042488,
          "end_time": "2020-09-08T03:16:07.476824",
          "exception": false,
          "start_time": "2020-09-08T03:16:07.434336",
          "status": "completed"
        },
        "tags": [],
        "id": "gvMCKeckWh_d"
      },
      "outputs": [],
      "source": [
        "df['loan_status']= model6.transform(df['loan_status'])"
      ]
    },
    {
      "cell_type": "code",
      "execution_count": null,
      "metadata": {
        "execution": {
          "iopub.execute_input": "2020-09-08T03:16:07.562874Z",
          "iopub.status.busy": "2020-09-08T03:16:07.561806Z",
          "iopub.status.idle": "2020-09-08T03:16:07.568836Z",
          "shell.execute_reply": "2020-09-08T03:16:07.568038Z"
        },
        "papermill": {
          "duration": 0.059515,
          "end_time": "2020-09-08T03:16:07.568966",
          "exception": false,
          "start_time": "2020-09-08T03:16:07.509451",
          "status": "completed"
        },
        "scrolled": true,
        "tags": [],
        "id": "b63nyjtIWh_d"
      },
      "outputs": [],
      "source": [
        "df.head()"
      ]
    },
    {
      "cell_type": "code",
      "execution_count": null,
      "metadata": {
        "execution": {
          "iopub.execute_input": "2020-09-08T03:16:07.647936Z",
          "iopub.status.busy": "2020-09-08T03:16:07.646703Z",
          "iopub.status.idle": "2020-09-08T03:16:08.549734Z",
          "shell.execute_reply": "2020-09-08T03:16:08.548510Z"
        },
        "papermill": {
          "duration": 0.949081,
          "end_time": "2020-09-08T03:16:08.549911",
          "exception": false,
          "start_time": "2020-09-08T03:16:07.600830",
          "status": "completed"
        },
        "tags": [],
        "id": "iLJPS_aNWh_d",
        "colab": {
          "base_uri": "https://localhost:8080/",
          "height": 606
        },
        "outputId": "d4e3465d-e1e1-4bbf-cf41-0646618aa2ae"
      },
      "outputs": [
        {
          "output_type": "execute_result",
          "data": {
            "text/plain": [
              "Text(0.5, 1.0, 'Correlation Matrix for Loan Status')"
            ]
          },
          "metadata": {},
          "execution_count": 110
        },
        {
          "output_type": "display_data",
          "data": {
            "text/plain": [
              "<Figure size 864x576 with 2 Axes>"
            ],
            "image/png": "[encoded data removed]"
          },
          "metadata": {
            "needs_background": "light"
          }
        }
      ],
      "source": [
        "plt.figure(figsize=(12,8))\n",
        "\n",
        "corr = df.corr()  #L1\n",
        "mask = np.zeros_like(corr) #L2\n",
        "mask[np.triu_indices_from(mask)] = True #L3\n",
        "with sns.axes_style(\"white\"):\n",
        "    ax = sns.heatmap(corr, mask=mask, square=True,annot=True,linewidths=2, cmap='viridis')\n",
        "plt.title('Correlation Matrix for Loan Status')"
      ]
    },
    {
      "cell_type": "markdown",
      "source": [
        "Explain what the encoder does here\n",
        "\n",
        "Explain what this plot would do if it did not include L1, L2, L3"
      ],
      "metadata": {
        "id": "WIhUQEaje6o_"
      }
    },
    {
      "cell_type": "code",
      "source": [
        "# The label encoder converts columns that have categorical data from being in data type string to being in data type integer. For example for the married column. a 'Yes' value has being converted into a numeric 1 and vice versa for a 'No' value."
      ],
      "metadata": {
        "id": "OX6bvMWZovDG"
      },
      "execution_count": null,
      "outputs": []
    },
    {
      "cell_type": "markdown",
      "metadata": {
        "papermill": {
          "duration": 0.03998,
          "end_time": "2020-09-08T03:16:08.627145",
          "exception": false,
          "start_time": "2020-09-08T03:16:08.587165",
          "status": "completed"
        },
        "tags": [],
        "id": "EmyNB18EWh_d"
      },
      "source": [
        "From the above figure, we can see that Credit_History (Independent Variable) has the maximum correlation with Loan_Status (Dependent Variable). Which denotes that the Loan_Status is heavily dependent on the Credit_History."
      ]
    }
  ],
  "metadata": {
    "kernelspec": {
      "display_name": "Python 3",
      "language": "python",
      "name": "python3"
    },
    "language_info": {
      "codemirror_mode": {
        "name": "ipython",
        "version": 3
      },
      "file_extension": ".py",
      "mimetype": "text/x-python",
      "name": "python",
      "nbconvert_exporter": "python",
      "pygments_lexer": "ipython3",
      "version": "3.7.6"
    },
    "papermill": {
      "duration": 23.464495,
      "end_time": "2020-09-08T03:16:13.213032",
      "environment_variables": {},
      "exception": null,
      "input_path": "__notebook__.ipynb",
      "output_path": "__notebook__.ipynb",
      "parameters": {},
      "start_time": "2020-09-08T03:15:49.748537",
      "version": "2.1.0"
    },
    "colab": {
      "name": "LoanRepayment_Assignment.ipynb",
      "provenance": [],
      "collapsed_sections": []
    }
  },
  "nbformat": 4,
  "nbformat_minor": 0
}