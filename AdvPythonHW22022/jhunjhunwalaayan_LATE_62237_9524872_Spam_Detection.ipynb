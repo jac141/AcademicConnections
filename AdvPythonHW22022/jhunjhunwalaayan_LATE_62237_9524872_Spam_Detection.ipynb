{
  "nbformat": 4,
  "nbformat_minor": 0,
  "metadata": {
    "colab": {
      "name": "Spam Detection",
      "provenance": [],
      "collapsed_sections": []
    },
    "kernelspec": {
      "name": "python3",
      "display_name": "Python 3"
    },
    "language_info": {
      "name": "python"
    }
  },
  "cells": [
    {
      "cell_type": "code",
      "execution_count": 4,
      "metadata": {
        "id": "-x-xdQiXA5Fv"
      },
      "outputs": [],
      "source": [
        "#importing libraries \n",
        "import pandas as pd\n",
        "from sklearn.model_selection import train_test_split\n",
        "from sklearn.feature_extraction.text import CountVectorizer\n",
        "from sklearn import svm"
      ]
    },
    {
      "cell_type": "code",
      "source": [
        "#Starting code that sets up csv files etc\n",
        "url = 'https://raw.githubusercontent.com/SmallLion/Python-Projects/main/Spam-detection/spam.csv'\n",
        "spam=pd.read_csv(url)\n",
        "#initiializing variables for testing and training\n",
        "z = spam['v2']#this is the email text\n",
        "y = spam[\"v1\"]#this is the label\n",
        "#They have weird names on the linked database so I will try to explain each keyword as I go along\n",
        "z_train, z_test,y_train, y_test = train_test_split(z,y,test_size = 0.2)\n",
        "#we start tokenizing the data. I did an NLP project last year and I am familiar with this\n",
        "cv = CountVectorizer()\n",
        "features = cv.fit_transform(z_train)"
      ],
      "metadata": {
        "id": "Edzq3LiqBKyS"
      },
      "execution_count": 26,
      "outputs": []
    },
    {
      "cell_type": "code",
      "source": [
        "#Building the model\n",
        "#This is a regression model in which the line seperates two variables. This is known as SVM regression\n",
        "model = svm.SVC()\n",
        "model.fit(features,y_train)\n",
        "#testing our model\n",
        "features_test = cv.transform(z_test)\n",
        "print(\"Accuracy: {}\".format(model.score(features_test,y_test)))\n",
        "#When I ran it I recieved around 98.2% accuracy \n",
        "#This example was fairly simple and easy to follow. I found the regression model interesting as I was only used to classifying variables with k-nearest neighbors but this\n",
        "#model was much simpler. I had a bit of trouble with file naming but I got over that by taking a look at the raw data. A lot of the things we talked about it class helped me understand train test splits although\n",
        "#I want to understand what affects it mathematically. The CountVectorizer function was familiar to me and I understood the randomizaton process that followed."
      ],
      "metadata": {
        "colab": {
          "base_uri": "https://localhost:8080/"
        },
        "id": "-kfx-bAsEtu5",
        "outputId": "a1e5d990-e094-4281-80a6-c32c9138af04"
      },
      "execution_count": 27,
      "outputs": [
        {
          "output_type": "stream",
          "name": "stdout",
          "text": [
            "Accuracy: 0.9856502242152466\n"
          ]
        }
      ]
    }
  ]
}