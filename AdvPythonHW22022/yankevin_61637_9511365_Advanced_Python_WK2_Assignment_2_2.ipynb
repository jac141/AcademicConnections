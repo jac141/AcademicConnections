{
  "nbformat": 4,
  "nbformat_minor": 0,
  "metadata": {
    "colab": {
      "name": "Advanced Python WK2 Assignment 2 #2",
      "provenance": []
    },
    "kernelspec": {
      "name": "python3",
      "display_name": "Python 3"
    },
    "language_info": {
      "name": "python"
    }
  },
  "cells": [
    {
      "cell_type": "markdown",
      "source": [
        "**Advanced Python Wk2 Assignment 2 #2: Email Spam Detector**"
      ],
      "metadata": {
        "id": "KX1TJHt9_oAp"
      }
    },
    {
      "cell_type": "markdown",
      "source": [
        "Import neccessary librarys to use:"
      ],
      "metadata": {
        "id": "K_29nN04_zWp"
      }
    },
    {
      "cell_type": "code",
      "execution_count": null,
      "metadata": {
        "id": "RW86W4MUid5k"
      },
      "outputs": [],
      "source": [
        "import pandas as pd\n",
        "from sklearn.model_selection import train_test_split\n",
        "from sklearn.feature_extraction.text import CountVectorizer\n",
        "from sklearn import svm "
      ]
    },
    {
      "cell_type": "markdown",
      "source": [
        "Read the csv file:"
      ],
      "metadata": {
        "id": "7gDEPNMQAQ26"
      }
    },
    {
      "cell_type": "code",
      "source": [
        "spam = pd.read_csv('spam.csv')"
      ],
      "metadata": {
        "id": "zkxJq-dbAZPf"
      },
      "execution_count": null,
      "outputs": []
    },
    {
      "cell_type": "markdown",
      "source": [
        "Train the algorithm:"
      ],
      "metadata": {
        "id": "qPIEldJvAqxz"
      }
    },
    {
      "cell_type": "code",
      "source": [
        "z = spam[\"v2\"]\n",
        "y = spam[\"v1\"]\n",
        "z_train, z_test,y_train, y_test = train_test_split(z,y,test_size = 0.2)"
      ],
      "metadata": {
        "id": "OsHnut3HAvd1"
      },
      "execution_count": null,
      "outputs": []
    },
    {
      "cell_type": "markdown",
      "source": [
        "Extracting features:"
      ],
      "metadata": {
        "id": "bmFvQeR1BeE6"
      }
    },
    {
      "cell_type": "code",
      "source": [
        "cv = CountVectorizer()\n",
        "features = cv.fit_transform(z_train)"
      ],
      "metadata": {
        "id": "2u6qRw7sBfHU"
      },
      "execution_count": null,
      "outputs": []
    },
    {
      "cell_type": "markdown",
      "source": [
        "***The first line, function \"CountVectorizer()\" is a method to randomly assigns a number to each word and counts the number of occurrences of words.***"
      ],
      "metadata": {
        "id": "e0xKYSlwBltn"
      }
    },
    {
      "cell_type": "markdown",
      "source": [
        "***The second line, it randomly assigns a number to each word and counts the number of occurrences of each word in cv.***"
      ],
      "metadata": {
        "id": "hXYEnDpcB1BI"
      }
    },
    {
      "cell_type": "markdown",
      "source": [
        "Making models:"
      ],
      "metadata": {
        "id": "-ARrrsXcCMWx"
      }
    },
    {
      "cell_type": "code",
      "source": [
        "model = svm.SVC()\n",
        "model.fit(features,y_train)"
      ],
      "metadata": {
        "colab": {
          "base_uri": "https://localhost:8080/"
        },
        "id": "g2cCYoIaCDo_",
        "outputId": "eaaec6b0-4298-42b9-a15e-ab51c762769a"
      },
      "execution_count": null,
      "outputs": [
        {
          "output_type": "execute_result",
          "data": {
            "text/plain": [
              "SVC()"
            ]
          },
          "metadata": {},
          "execution_count": 15
        }
      ]
    },
    {
      "cell_type": "markdown",
      "source": [
        "***For the second line of the code, model.fit trains the model with features and y_train, checks the prediction against the y_train label and adjusts its parameters until it reaches the highest possible accuracy.***"
      ],
      "metadata": {
        "id": "0cL44T3bCZdt"
      }
    },
    {
      "cell_type": "markdown",
      "source": [
        "Testing the machine:"
      ],
      "metadata": {
        "id": "v-Huh9d3CocC"
      }
    },
    {
      "cell_type": "code",
      "source": [
        "features_test = cv.transform(z_test)\n",
        "print(\"Accuracy: {}\".format(model.score(features_test,y_test)))"
      ],
      "metadata": {
        "colab": {
          "base_uri": "https://localhost:8080/"
        },
        "id": "LhHEw9oFCqSF",
        "outputId": "6aa544dc-3f92-447b-cab7-4da10dee0d01"
      },
      "execution_count": null,
      "outputs": [
        {
          "output_type": "stream",
          "name": "stdout",
          "text": [
            "Accuracy: 0.9802690582959641\n"
          ]
        }
      ]
    },
    {
      "cell_type": "markdown",
      "source": [
        "***In conclusion, this project gave me some information about more functions and methods that I can use in machine learning.***"
      ],
      "metadata": {
        "id": "MXehqjjYCzT_"
      }
    }
  ]
}