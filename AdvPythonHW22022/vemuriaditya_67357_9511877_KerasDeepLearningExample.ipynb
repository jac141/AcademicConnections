{
  "nbformat": 4,
  "nbformat_minor": 0,
  "metadata": {
    "colab": {
      "name": "KerasDeepLearningExample.ipynb",
      "provenance": []
    },
    "kernelspec": {
      "name": "python3",
      "display_name": "Python 3"
    },
    "language_info": {
      "name": "python"
    }
  },
  "cells": [
    {
      "cell_type": "markdown",
      "source": [
        "# Deep Learning with Keras"
      ],
      "metadata": {
        "id": "Bx3Bg9VqDxm0"
      }
    },
    {
      "cell_type": "markdown",
      "source": [
        "From what I've read, my conceptual understanding of Deep Learning is a subset of machine learning that tries to mimic the process by which the human brain learns. It uses layers of abstraction each of which finetunes the patterns that the alogrithm is understanding. \n",
        "\n",
        "\n",
        "In this project, the objective is to classify handwritten digits. Using a neural network to identify the patterns in the images, it will then coalesce those patterns to produce an answer that I hope to be the actual number in the image. "
      ],
      "metadata": {
        "id": "1yimj0LPD6rm"
      }
    },
    {
      "cell_type": "code",
      "execution_count": 12,
      "metadata": {
        "colab": {
          "base_uri": "https://localhost:8080/",
          "height": 676
        },
        "id": "Vj-2kUl5DvJG",
        "outputId": "08f1671b-c8ed-4f00-992e-f842ba6fb132"
      },
      "outputs": [
        {
          "output_type": "stream",
          "name": "stdout",
          "text": [
            "1.21.6\n",
            "(60000, 28, 28)\n",
            "Epoch 1/10\n",
            "1875/1875 [==============================] - 121s 64ms/step - loss: 0.2047 - accuracy: 0.9393\n",
            "Epoch 2/10\n",
            "1875/1875 [==============================] - 119s 63ms/step - loss: 0.0843 - accuracy: 0.9744\n",
            "Epoch 3/10\n",
            "1875/1875 [==============================] - 118s 63ms/step - loss: 0.0663 - accuracy: 0.9792\n",
            "Epoch 4/10\n",
            "1875/1875 [==============================] - 117s 63ms/step - loss: 0.0540 - accuracy: 0.9831\n",
            "Epoch 5/10\n",
            "1875/1875 [==============================] - 117s 63ms/step - loss: 0.0454 - accuracy: 0.9859\n",
            "Epoch 6/10\n",
            "1875/1875 [==============================] - 117s 63ms/step - loss: 0.0403 - accuracy: 0.9874\n",
            "Epoch 7/10\n",
            "1875/1875 [==============================] - 117s 63ms/step - loss: 0.0360 - accuracy: 0.9889\n",
            "Epoch 8/10\n",
            "1875/1875 [==============================] - 117s 62ms/step - loss: 0.0328 - accuracy: 0.9893\n",
            "Epoch 9/10\n",
            "1875/1875 [==============================] - 117s 62ms/step - loss: 0.0301 - accuracy: 0.9905\n",
            "Epoch 10/10\n",
            "1875/1875 [==============================] - 117s 62ms/step - loss: 0.0279 - accuracy: 0.9911\n",
            "[0.02563381940126419, 0.993399977684021]\n"
          ]
        },
        {
          "output_type": "display_data",
          "data": {
            "text/plain": [
              "<Figure size 432x288 with 1 Axes>"
            ],
            "image/png": "[encoded data removed]"
          },
          "metadata": {
            "needs_background": "light"
          }
        }
      ],
      "source": [
        "#importing the relevant libraries and packages\n",
        "\n",
        "import matplotlib\n",
        "print( np.__version__)\n",
        "\n",
        "import numpy as np\n",
        "np.random.seed(123)  #to ensure reproducibility\n",
        " \n",
        "from keras.models import Sequential\n",
        "from keras.layers import Dense, Dropout, Activation, Flatten\n",
        "from keras.layers import Convolution2D, MaxPooling2D\n",
        "from keras.utils import np_utils\n",
        "from keras.datasets import mnist #the library of training data\n",
        "\n",
        "\n",
        "#next step is classifying training and testing data\n",
        "\n",
        "(X_train, y_train), (X_test, y_test) = mnist.load_data() #this is the training and test data\n",
        "print( X_train.shape ) # there are 60,000 training images, each of which is 28 by 28 pixels\n",
        "\n",
        "from matplotlib import pyplot as plt\n",
        "plt.imshow(X_train[0])\n",
        "\n",
        "#changing the images to only have 1 channel (channel = color --> making it black and white)\n",
        "X_train = X_train.reshape(X_train.shape[0], 28, 28, 1)\n",
        "X_test = X_test.reshape(X_test.shape[0], 28, 28, 1)\n",
        "\n",
        "#converting the data type to float32 to ensure accuracy and then normalizing the data\n",
        "X_train = X_train.astype('float32')\n",
        "X_test = X_test.astype('float32')\n",
        "X_train /= 255\n",
        "X_test /= 255\n",
        "\n",
        "#problem with class label data is that it is a 1 dimensional array\n",
        "#but we need 10 distinctive classes for each of the digits that the image could be\n",
        "\n",
        "# converts the 1D array into a 10 class matrice\n",
        "Y_train = np_utils.to_categorical(y_train, 10) #the to_categorical() function converts a class of integers to a binary class matrix, \n",
        "Y_test = np_utils.to_categorical(y_test, 10) \n",
        "\n",
        "#going to be implementing a sequential model for the neural network\n",
        "#it is a model where each previous layer is the input to the current layer\n",
        "#each layer will pick up on more and more distinct patterns until it can eventually classify the image as a certain number\n",
        "\n",
        "model = Sequential()\n",
        "\n",
        "model.add(Convolution2D(32, (3,3), activation='relu', input_shape=(28,28,1)))\n",
        "#the line above tells the model how many @D convolution filters to add\n",
        "#the purpose of these is to find distinct patterns in the 2D images provided\n",
        "    #it will find these patterns in 3x3 chunks as specified in the code\n",
        "    #the \"relu\" part serves as an activation function for the network\n",
        "model.add(Convolution2D(32, (3,3), activation='relu'))\n",
        "\n",
        "model.add(MaxPooling2D(pool_size=(2,2)))\n",
        "#MaxPooling2D serves as a way to accentuate the bright parts of the image so that the model can more easily pick up on the patterns in the images\n",
        "\n",
        "model.add(Dropout(0.25))\n",
        "#to prevent overfitting to the training data, they add this line of code which randomly changes neurons to 0 which decreases the complexity\n",
        "\n",
        "\n",
        "model.add(Flatten())\n",
        "#converts the multidimensional arrays fo data to a single dimensionial array to pass the data effectively between every single neuron\n",
        "\n",
        "model.add(Dense(128, activation='relu'))\n",
        "#how the model connects layers and adjusts the biases in each neuron ? ~ this part I'm iffy on\n",
        "\n",
        "model.add(Dropout(0.5))\n",
        "model.add(Dense(10, activation='softmax'))\n",
        "#softmax will give the probability for each of our class labels (from 1-10)\n",
        "\n",
        "model.compile(loss='categorical_crossentropy',\n",
        "              optimizer='adam',\n",
        "              metrics=['accuracy'])\n",
        "#lots of videos to understand loss, but essentially... the loss(or cost) function is how the model learns how bad it is at identifying the images\n",
        "#it slowly optimizes itself using a loss function and a method called \"backpropagation gradient descent\" to work backwards and adjust the biases\n",
        "#and weights in the neurons until it achieves a minimum loss (as accurate as possible using so much calculus)\n",
        "\n",
        "#telling the model to take the data and process it in batches to speed up computational efficiency\n",
        "model.fit(X_train, Y_train, \n",
        "          batch_size=32, epochs=10, verbose=1)\n",
        "\n",
        "#testing the accuracy of the model\n",
        "score = model.evaluate(X_test, Y_test, verbose=0)\n",
        "\n",
        "print(score)\n",
        "\n",
        "\n"
      ]
    }
  ]
}