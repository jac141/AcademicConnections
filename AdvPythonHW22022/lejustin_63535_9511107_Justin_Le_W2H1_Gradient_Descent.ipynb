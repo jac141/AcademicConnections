{
  "nbformat": 4,
  "nbformat_minor": 0,
  "metadata": {
    "colab": {
      "name": "Justin Le- Gradient Descent.ipynb",
      "provenance": []
    },
    "kernelspec": {
      "name": "python3",
      "display_name": "Python 3"
    },
    "language_info": {
      "name": "python"
    }
  },
  "cells": [
    {
      "cell_type": "markdown",
      "source": [
        "Calculate the derivatives of the cost function (tells what direction for b and m to go)"
      ],
      "metadata": {
        "id": "mc0fObvb16Ui"
      }
    },
    {
      "cell_type": "code",
      "execution_count": null,
      "metadata": {
        "id": "7_GNa3VjEEPJ"
      },
      "outputs": [],
      "source": [
        "import matplotlib.pyplot as plt\n",
        "\n",
        "def get_gradient_at_b(x, y, b, m):\n",
        "  N = len(x)\n",
        "  diff = 0\n",
        "  for i in range(N):\n",
        "    x_val = x[i]\n",
        "    y_val = y[i]\n",
        "    diff += (y_val - ((m * x_val) + b))\n",
        "  b_gradient = -(2/N) * diff  \n",
        "  return b_gradient\n",
        "\n",
        "def get_gradient_at_m(x, y, b, m):\n",
        "  N = len(x)\n",
        "  diff = 0\n",
        "  for i in range(N):\n",
        "      x_val = x[i]\n",
        "      y_val = y[i]\n",
        "      diff += x_val * (y_val - ((m * x_val) + b))\n",
        "  m_gradient = -(2/N) * diff  \n",
        "  return m_gradient\n"
      ]
    },
    {
      "cell_type": "markdown",
      "source": [
        "Do 1 step of gradient descent (updates b and m once)"
      ],
      "metadata": {
        "id": "ExO0i_s62L5H"
      }
    },
    {
      "cell_type": "code",
      "source": [
        "def step_gradient(b_current, m_current, x, y, learning_rate):\n",
        "    b_gradient = get_gradient_at_b(x, y, b_current, m_current)\n",
        "    m_gradient = get_gradient_at_m(x, y, b_current, m_current)\n",
        "    b = b_current - (learning_rate * b_gradient)\n",
        "    m = m_current - (learning_rate * m_gradient)\n",
        "    return b, m"
      ],
      "metadata": {
        "id": "Wfkf3B_P2Mbz"
      },
      "execution_count": null,
      "outputs": []
    },
    {
      "cell_type": "markdown",
      "source": [
        "Be able to do gradient descent multiple times.  Set initial values of b and m to 0"
      ],
      "metadata": {
        "id": "S1bqBE5z2RC8"
      }
    },
    {
      "cell_type": "code",
      "source": [
        "def gradient_descent(x, y, learning_rate, num_iterations):\n",
        "  b = 0\n",
        "  m = 0\n",
        "  for i in range(num_iterations):\n",
        "    b,m = step_gradient(b,m,x,y, learning_rate)\n",
        "  return b,m"
      ],
      "metadata": {
        "id": "h_u8Ln6P2V1Q"
      },
      "execution_count": null,
      "outputs": []
    },
    {
      "cell_type": "markdown",
      "source": [
        "Get data and plot it.  Plot line of best fit using gradient descent"
      ],
      "metadata": {
        "id": "X6Zyu99-227m"
      }
    },
    {
      "cell_type": "code",
      "source": [
        "months = [1, 2, 3, 4, 5, 6, 7, 8, 9, 10, 11, 12]\n",
        "revenue = [52, 74, 79, 95, 115, 110, 129, 126, 147, 146, 156, 184]\n",
        "\n",
        "b, m = gradient_descent(months, revenue, 0.01, 1000)\n",
        "\n",
        "y = [m*x + b for x in months]\n",
        "\n",
        "plt.plot(months, revenue, \"o\")\n",
        "plt.plot(months, y)\n",
        "\n",
        "plt.show()"
      ],
      "metadata": {
        "colab": {
          "base_uri": "https://localhost:8080/",
          "height": 265
        },
        "id": "4sT8uLST23Or",
        "outputId": "1350e701-ea5d-41d2-a5b2-44a3519035f3"
      },
      "execution_count": null,
      "outputs": [
        {
          "output_type": "display_data",
          "data": {
            "text/plain": [
              "<Figure size 432x288 with 1 Axes>"
            ],
            "image/png": "[encoded data removed]"
          },
          "metadata": {
            "needs_background": "light"
          }
        }
      ]
    }
  ]
}