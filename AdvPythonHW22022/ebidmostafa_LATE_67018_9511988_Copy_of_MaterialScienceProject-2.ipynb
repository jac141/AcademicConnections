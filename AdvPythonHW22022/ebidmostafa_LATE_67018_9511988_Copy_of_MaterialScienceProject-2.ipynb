{
  "nbformat": 4,
  "nbformat_minor": 0,
  "metadata": {
    "colab": {
      "name": "Copy of MaterialScienceProject.ipynb",
      "provenance": [],
      "collapsed_sections": []
    },
    "kernelspec": {
      "name": "python3",
      "display_name": "Python 3"
    },
    "language_info": {
      "name": "python"
    }
  },
  "cells": [
    {
      "cell_type": "code",
      "execution_count": null,
      "metadata": {
        "colab": {
          "base_uri": "https://localhost:8080/"
        },
        "id": "Bv4JULyBOVFB",
        "outputId": "1b75fca9-739e-4b48-9854-8c1fa72635c4"
      },
      "outputs": [
        {
          "output_type": "stream",
          "name": "stdout",
          "text": [
            "Looking in indexes: https://pypi.org/simple, https://us-python.pkg.dev/colab-wheels/public/simple/\n",
            "Requirement already satisfied: pymatgen in /usr/local/lib/python3.7/dist-packages (2022.0.17)\n",
            "Requirement already satisfied: typing-extensions>=3.7.4.3 in /usr/local/lib/python3.7/dist-packages (from pymatgen) (4.1.1)\n",
            "Requirement already satisfied: sympy in /usr/local/lib/python3.7/dist-packages (from pymatgen) (1.7.1)\n",
            "Requirement already satisfied: ruamel.yaml>=0.15.6 in /usr/local/lib/python3.7/dist-packages (from pymatgen) (0.17.21)\n",
            "Requirement already satisfied: tabulate in /usr/local/lib/python3.7/dist-packages (from pymatgen) (0.8.10)\n",
            "Requirement already satisfied: scipy>=1.5.0 in /usr/local/lib/python3.7/dist-packages (from pymatgen) (1.7.3)\n",
            "Requirement already satisfied: pandas in /usr/local/lib/python3.7/dist-packages (from pymatgen) (1.3.5)\n",
            "Requirement already satisfied: uncertainties>=3.1.4 in /usr/local/lib/python3.7/dist-packages (from pymatgen) (3.1.7)\n",
            "Requirement already satisfied: spglib>=1.9.9.44 in /usr/local/lib/python3.7/dist-packages (from pymatgen) (1.16.5)\n",
            "Requirement already satisfied: networkx>=2.2 in /usr/local/lib/python3.7/dist-packages (from pymatgen) (2.6.3)\n",
            "Requirement already satisfied: matplotlib>=1.5 in /usr/local/lib/python3.7/dist-packages (from pymatgen) (3.2.2)\n",
            "Requirement already satisfied: monty>=3.0.2 in /usr/local/lib/python3.7/dist-packages (from pymatgen) (2022.4.26)\n",
            "Requirement already satisfied: palettable>=3.1.1 in /usr/local/lib/python3.7/dist-packages (from pymatgen) (3.3.0)\n",
            "Requirement already satisfied: numpy>=1.20.1 in /usr/local/lib/python3.7/dist-packages (from pymatgen) (1.21.6)\n",
            "Requirement already satisfied: requests in /usr/local/lib/python3.7/dist-packages (from pymatgen) (2.23.0)\n",
            "Requirement already satisfied: plotly>=4.5.0 in /usr/local/lib/python3.7/dist-packages (from pymatgen) (5.5.0)\n",
            "Requirement already satisfied: cycler>=0.10 in /usr/local/lib/python3.7/dist-packages (from matplotlib>=1.5->pymatgen) (0.11.0)\n",
            "Requirement already satisfied: pyparsing!=2.0.4,!=2.1.2,!=2.1.6,>=2.0.1 in /usr/local/lib/python3.7/dist-packages (from matplotlib>=1.5->pymatgen) (3.0.9)\n",
            "Requirement already satisfied: kiwisolver>=1.0.1 in /usr/local/lib/python3.7/dist-packages (from matplotlib>=1.5->pymatgen) (1.4.4)\n",
            "Requirement already satisfied: python-dateutil>=2.1 in /usr/local/lib/python3.7/dist-packages (from matplotlib>=1.5->pymatgen) (2.8.2)\n",
            "Requirement already satisfied: six in /usr/local/lib/python3.7/dist-packages (from plotly>=4.5.0->pymatgen) (1.15.0)\n",
            "Requirement already satisfied: tenacity>=6.2.0 in /usr/local/lib/python3.7/dist-packages (from plotly>=4.5.0->pymatgen) (8.0.1)\n",
            "Requirement already satisfied: ruamel.yaml.clib>=0.2.6 in /usr/local/lib/python3.7/dist-packages (from ruamel.yaml>=0.15.6->pymatgen) (0.2.6)\n",
            "Requirement already satisfied: future in /usr/local/lib/python3.7/dist-packages (from uncertainties>=3.1.4->pymatgen) (0.16.0)\n",
            "Requirement already satisfied: pytz>=2017.3 in /usr/local/lib/python3.7/dist-packages (from pandas->pymatgen) (2022.1)\n",
            "Requirement already satisfied: idna<3,>=2.5 in /usr/local/lib/python3.7/dist-packages (from requests->pymatgen) (2.10)\n",
            "Requirement already satisfied: chardet<4,>=3.0.2 in /usr/local/lib/python3.7/dist-packages (from requests->pymatgen) (3.0.4)\n",
            "Requirement already satisfied: certifi>=2017.4.17 in /usr/local/lib/python3.7/dist-packages (from requests->pymatgen) (2022.6.15)\n",
            "Requirement already satisfied: urllib3!=1.25.0,!=1.25.1,<1.26,>=1.21.1 in /usr/local/lib/python3.7/dist-packages (from requests->pymatgen) (1.24.3)\n",
            "Requirement already satisfied: mpmath>=0.19 in /usr/local/lib/python3.7/dist-packages (from sympy->pymatgen) (1.2.1)\n"
          ]
        }
      ],
      "source": [
        "!pip install pymatgen\n",
        "from pymatgen.ext.matproj import MPRester"
      ]
    },
    {
      "cell_type": "code",
      "source": [
        "import pandas as pd\n",
        "import matplotlib.pyplot as plt\n",
        "key = \"TPsF1E0SdWGiycbX\"\n",
        "with MPRester(key) as mpr:\n",
        "  data = pd.DataFrame(mpr.query(\"**O3\", [\"task_id\", \"full_formula\", \"pretty_formula\", \"nsites\", \"band_gap\", \"formation_energy_per_atom\", \"icsd_ids\", \"e_above_hull\"]))"
      ],
      "metadata": {
        "colab": {
          "base_uri": "https://localhost:8080/"
        },
        "id": "6sqicXISPEuu",
        "outputId": "b8dab629-fa73-44bc-c7f3-9189e096ff76"
      },
      "execution_count": null,
      "outputs": [
        {
          "output_type": "stream",
          "name": "stderr",
          "text": [
            "/usr/local/lib/python3.7/dist-packages/pymatgen/core/periodic_table.py:216: UserWarning: No electronegativity for He. Setting to NaN. This has no physical meaning, and is mainly done to avoid errors caused by the code expecting a float.\n",
            "  \"avoid errors caused by the code expecting a float.\" % self.symbol\n",
            "/usr/local/lib/python3.7/dist-packages/pymatgen/core/periodic_table.py:216: UserWarning: No electronegativity for Ne. Setting to NaN. This has no physical meaning, and is mainly done to avoid errors caused by the code expecting a float.\n",
            "  \"avoid errors caused by the code expecting a float.\" % self.symbol\n",
            "/usr/local/lib/python3.7/dist-packages/pymatgen/core/periodic_table.py:216: UserWarning: No electronegativity for Ar. Setting to NaN. This has no physical meaning, and is mainly done to avoid errors caused by the code expecting a float.\n",
            "  \"avoid errors caused by the code expecting a float.\" % self.symbol\n",
            "/usr/local/lib/python3.7/dist-packages/pymatgen/core/periodic_table.py:216: UserWarning: No electronegativity for Rf. Setting to NaN. This has no physical meaning, and is mainly done to avoid errors caused by the code expecting a float.\n",
            "  \"avoid errors caused by the code expecting a float.\" % self.symbol\n",
            "/usr/local/lib/python3.7/dist-packages/pymatgen/core/periodic_table.py:216: UserWarning: No electronegativity for Db. Setting to NaN. This has no physical meaning, and is mainly done to avoid errors caused by the code expecting a float.\n",
            "  \"avoid errors caused by the code expecting a float.\" % self.symbol\n",
            "/usr/local/lib/python3.7/dist-packages/pymatgen/core/periodic_table.py:216: UserWarning: No electronegativity for Sg. Setting to NaN. This has no physical meaning, and is mainly done to avoid errors caused by the code expecting a float.\n",
            "  \"avoid errors caused by the code expecting a float.\" % self.symbol\n",
            "/usr/local/lib/python3.7/dist-packages/pymatgen/core/periodic_table.py:216: UserWarning: No electronegativity for Bh. Setting to NaN. This has no physical meaning, and is mainly done to avoid errors caused by the code expecting a float.\n",
            "  \"avoid errors caused by the code expecting a float.\" % self.symbol\n",
            "/usr/local/lib/python3.7/dist-packages/pymatgen/core/periodic_table.py:216: UserWarning: No electronegativity for Hs. Setting to NaN. This has no physical meaning, and is mainly done to avoid errors caused by the code expecting a float.\n",
            "  \"avoid errors caused by the code expecting a float.\" % self.symbol\n",
            "/usr/local/lib/python3.7/dist-packages/pymatgen/core/periodic_table.py:216: UserWarning: No electronegativity for Mt. Setting to NaN. This has no physical meaning, and is mainly done to avoid errors caused by the code expecting a float.\n",
            "  \"avoid errors caused by the code expecting a float.\" % self.symbol\n",
            "/usr/local/lib/python3.7/dist-packages/pymatgen/core/periodic_table.py:216: UserWarning: No electronegativity for Ds. Setting to NaN. This has no physical meaning, and is mainly done to avoid errors caused by the code expecting a float.\n",
            "  \"avoid errors caused by the code expecting a float.\" % self.symbol\n",
            "/usr/local/lib/python3.7/dist-packages/pymatgen/core/periodic_table.py:216: UserWarning: No electronegativity for Rg. Setting to NaN. This has no physical meaning, and is mainly done to avoid errors caused by the code expecting a float.\n",
            "  \"avoid errors caused by the code expecting a float.\" % self.symbol\n",
            "/usr/local/lib/python3.7/dist-packages/pymatgen/core/periodic_table.py:216: UserWarning: No electronegativity for Cn. Setting to NaN. This has no physical meaning, and is mainly done to avoid errors caused by the code expecting a float.\n",
            "  \"avoid errors caused by the code expecting a float.\" % self.symbol\n",
            "/usr/local/lib/python3.7/dist-packages/pymatgen/core/periodic_table.py:216: UserWarning: No electronegativity for Nh. Setting to NaN. This has no physical meaning, and is mainly done to avoid errors caused by the code expecting a float.\n",
            "  \"avoid errors caused by the code expecting a float.\" % self.symbol\n",
            "/usr/local/lib/python3.7/dist-packages/pymatgen/core/periodic_table.py:216: UserWarning: No electronegativity for Fl. Setting to NaN. This has no physical meaning, and is mainly done to avoid errors caused by the code expecting a float.\n",
            "  \"avoid errors caused by the code expecting a float.\" % self.symbol\n",
            "/usr/local/lib/python3.7/dist-packages/pymatgen/core/periodic_table.py:216: UserWarning: No electronegativity for Mc. Setting to NaN. This has no physical meaning, and is mainly done to avoid errors caused by the code expecting a float.\n",
            "  \"avoid errors caused by the code expecting a float.\" % self.symbol\n",
            "/usr/local/lib/python3.7/dist-packages/pymatgen/core/periodic_table.py:216: UserWarning: No electronegativity for Lv. Setting to NaN. This has no physical meaning, and is mainly done to avoid errors caused by the code expecting a float.\n",
            "  \"avoid errors caused by the code expecting a float.\" % self.symbol\n",
            "/usr/local/lib/python3.7/dist-packages/pymatgen/core/periodic_table.py:216: UserWarning: No electronegativity for Ts. Setting to NaN. This has no physical meaning, and is mainly done to avoid errors caused by the code expecting a float.\n",
            "  \"avoid errors caused by the code expecting a float.\" % self.symbol\n",
            "/usr/local/lib/python3.7/dist-packages/pymatgen/core/periodic_table.py:216: UserWarning: No electronegativity for Og. Setting to NaN. This has no physical meaning, and is mainly done to avoid errors caused by the code expecting a float.\n",
            "  \"avoid errors caused by the code expecting a float.\" % self.symbol\n",
            "100%|██████████| 2398/2398 [00:12<00:00, 199.29it/s]\n"
          ]
        }
      ]
    },
    {
      "cell_type": "code",
      "source": [
        "print(data)\n",
        "total_ABO3_cp = len(data)\n",
        "print(f\"There is a total of {total_ABO3_cp} ABO3 compunds in this Material project.\")\n",
        "num_unq_formulae = len(data[\"full_formula\"].unique())\n",
        "print(f\"There are {num_unq_formulae} unique ABO3 formulae.\")\n",
        "\n",
        "data[\"formation_energy_J_per_mol\"] = data[\"formation_energy_per_atom\"] * 96491.5666370759\n",
        "print(data[\"formation_energy_J_per_mol\"])"
      ],
      "metadata": {
        "colab": {
          "base_uri": "https://localhost:8080/"
        },
        "id": "Av0UTd1BSxbq",
        "outputId": "91c3f1ee-f27b-4a6a-8645-95afaedea934"
      },
      "execution_count": null,
      "outputs": [
        {
          "output_type": "stream",
          "name": "stdout",
          "text": [
            "         task_id full_formula pretty_formula  nsites  band_gap  \\\n",
            "0     mp-1001571     Ca1Fe1O3         CaFeO3       5    0.0000   \n",
            "1     mp-1016821     Ba1Si1O3         BaSiO3       5    1.0186   \n",
            "2     mp-1016823     Ba1Ge1O3         BaGeO3       5    0.0000   \n",
            "3     mp-1016828     Cd1Ir1O3         CdIrO3       5    0.0000   \n",
            "4     mp-1016833     Ca1Rh1O3         CaRhO3       5    0.0000   \n",
            "...          ...          ...            ...     ...       ...   \n",
            "2393    mvc-4001    Zn4Cr4O12         ZnCrO3      20    0.0280   \n",
            "2394    mvc-4002    Zn4Mo4O12         ZnMoO3      20    0.8663   \n",
            "2395    mvc-4008    Zn4Ni4O12         ZnNiO3      20    0.0000   \n",
            "2396    mvc-4013     Zn4W4O12          ZnWO3      20    1.7419   \n",
            "2397    mvc-5731      Zn1W1O3          ZnWO3       5    0.0000   \n",
            "\n",
            "      formation_energy_per_atom icsd_ids  e_above_hull  \n",
            "0                     -2.282308       []      0.052161  \n",
            "1                     -2.852291       []      0.561269  \n",
            "2                     -2.473919       []      0.232358  \n",
            "3                     -0.851737       []      0.463199  \n",
            "4                     -1.851243       []      0.257081  \n",
            "...                         ...      ...           ...  \n",
            "2393                  -1.851246       []      0.139167  \n",
            "2394                  -1.780286       []      0.221352  \n",
            "2395                  -0.965703       []      0.186033  \n",
            "2396                  -1.768571       []      0.123491  \n",
            "2397                  -1.328743       []      0.563319  \n",
            "\n",
            "[2398 rows x 8 columns]\n",
            "There is a total of 2398 ABO3 compunds in this Material project.\n",
            "There are 1941 unique ABO3 formulae.\n",
            "0      -220223.440865\n",
            "1      -275222.011053\n",
            "2      -238712.338449\n",
            "3       -82185.457635\n",
            "4      -178629.370079\n",
            "            ...      \n",
            "2393   -178629.598619\n",
            "2394   -171782.567375\n",
            "2395    -93182.184159\n",
            "2396   -170652.184883\n",
            "2397   -128212.454335\n",
            "Name: formation_energy_J_per_mol, Length: 2398, dtype: float64\n"
          ]
        }
      ]
    },
    {
      "cell_type": "code",
      "source": [
        "count = 0\n",
        "for i in data[\"icsd_ids\"]:\n",
        "  if len(i) == 0:\n",
        "    count += 1\n",
        "print(count)\n",
        "fraction_w_a_icsd = (total_ABO3_cp - count)/ total_ABO3_cp\n",
        "print(fraction_w_a_icsd)\n",
        "\n",
        "data2 = pd.DataFrame()\n",
        "data2 = data2.append({\"unstable and metallic\": 0, \"unstable and small band gap\": 0, \"unstable and large band gap\": 0, \"stable and metallic\": 0, \"stable and small band gap\": 0, \"stable and large band gap\": 0}, ignore_index=True)\n",
        "print(data2)\n",
        "for i in data.values:\n",
        "  if i[data.columns.get_loc(\"e_above_hull\")] > 0.3:\n",
        "    if i[data.columns.get_loc(\"band_gap\")] == 0:\n",
        "      data2[\"unstable and metallic\"][0] += 1\n",
        "    elif i[data.columns.get_loc(\"band_gap\")] > 0 and i[data.columns.get_loc(\"band_gap\")] <= 1:\n",
        "      data2[\"unstable and small band gap\"][0] += 1\n",
        "    elif i[data.columns.get_loc(\"band_gap\")] > 1:\n",
        "      data2[\"unstable and large band gap\"][0] += 1\n",
        "  elif i[data.columns.get_loc(\"e_above_hull\")] <= 0.3:\n",
        "    if i[data.columns.get_loc(\"band_gap\")] == 0:\n",
        "      data2[\"stable and metallic\"][0] += 1\n",
        "    elif i[data.columns.get_loc(\"band_gap\")] > 0 and i[data.columns.get_loc(\"band_gap\")] <= 1:\n",
        "      data2[\"stable and small band gap\"][0] += 1\n",
        "    elif i[data.columns.get_loc(\"band_gap\")] > 1:\n",
        "      data2[\"stable and large band gap\"][0] += 1\n",
        "print(\"\\n\")\n",
        "print(data2)\n",
        "\n"
      ],
      "metadata": {
        "colab": {
          "base_uri": "https://localhost:8080/"
        },
        "id": "XfkxucP0bp_Q",
        "outputId": "5fc5647e-8d3b-40eb-d578-01116b9ee8dd"
      },
      "execution_count": null,
      "outputs": [
        {
          "output_type": "stream",
          "name": "stdout",
          "text": [
            "1533\n",
            "0.36071726438698914\n",
            "   unstable and metallic  unstable and small band gap  \\\n",
            "0                    0.0                          0.0   \n",
            "\n",
            "   unstable and large band gap  stable and metallic  \\\n",
            "0                          0.0                  0.0   \n",
            "\n",
            "   stable and small band gap  stable and large band gap  \n",
            "0                        0.0                        0.0  \n",
            "\n",
            "\n",
            "   unstable and metallic  unstable and small band gap  \\\n",
            "0                  532.0                         63.0   \n",
            "\n",
            "   unstable and large band gap  stable and metallic  \\\n",
            "0                         55.0                611.0   \n",
            "\n",
            "   stable and small band gap  stable and large band gap  \n",
            "0                      231.0                      906.0  \n"
          ]
        }
      ]
    },
    {
      "cell_type": "code",
      "source": [
        "import statistics\n",
        "plt.hist(data[\"formation_energy_per_atom\"], bins = 20, color=\"c\", edgecolor=\"k\")\n",
        "mean_fe = statistics.mean(data[\"formation_energy_per_atom\"].values)\n",
        "stv_fe = statistics.stdev(data[\"formation_energy_per_atom\"].values)\n",
        "plt.axvline(mean_fe, color=\"b\", linestyle=\"dashed\", label=\"Mean\")\n",
        "plt.axvline(mean_fe + stv_fe, color=\"purple\", linestyle=\"dashed\", label=\"Mean + Standard Deviation\")\n",
        "plt.axvline(mean_fe - stv_fe, color=\"r\", linestyle=\"dashed\", label=\"Mean - Standard Deviation\")\n",
        "plt.legend()\n",
        "plt.ylabel(\"Formation energy per atom (eV/atom)\")\n",
        "plt.show()"
      ],
      "metadata": {
        "colab": {
          "base_uri": "https://localhost:8080/",
          "height": 265
        },
        "id": "YcDsi2em2B5C",
        "outputId": "91f4543e-bd87-4ee7-97c2-677931502ae5"
      },
      "execution_count": null,
      "outputs": [
        {
          "output_type": "display_data",
          "data": {
            "text/plain": [
              "<Figure size 432x288 with 1 Axes>"
            ],
            "image/png": "[encoded data removed]"
          },
          "metadata": {
            "needs_background": "light"
          }
        }
      ]
    },
    {
      "cell_type": "code",
      "source": [
        "plt.hist(data[\"band_gap\"], bins = 20, color=\"c\", edgecolor=\"k\")\n",
        "mean_fe = statistics.mean(data[\"band_gap\"].values)\n",
        "stv_fe = statistics.stdev(data[\"band_gap\"].values)\n",
        "plt.axvline(mean_fe, color=\"b\", linestyle=\"dashed\", label=\"Mean\")\n",
        "plt.axvline(mean_fe + stv_fe, color=\"purple\", linestyle=\"dashed\", label=\"Mean + Standard Deviation\")\n",
        "plt.axvline(mean_fe - stv_fe, color=\"r\", linestyle=\"dashed\", label = \"Mean - Standard Deviation\")\n",
        "plt.ylabel(\"Band gap (eV)\")\n",
        "plt.legend()\n",
        "plt.show()"
      ],
      "metadata": {
        "colab": {
          "base_uri": "https://localhost:8080/",
          "height": 265
        },
        "id": "HRcKqPDz5MB5",
        "outputId": "59c27556-58a9-42b8-e1ea-3f008780e6f7"
      },
      "execution_count": null,
      "outputs": [
        {
          "output_type": "display_data",
          "data": {
            "text/plain": [
              "<Figure size 432x288 with 1 Axes>"
            ],
            "image/png": "[encoded data removed]"
          },
          "metadata": {
            "needs_background": "light"
          }
        }
      ]
    },
    {
      "cell_type": "code",
      "source": [
        "OQMD_dataset = pd.read_csv(\"/content/drive/MyDrive/OQMD.csv\")\n",
        "OQMD_dataset = pd.DataFrame(OQMD_dataset)\n",
        "print(OQMD_dataset)\n",
        "print(f\"There are {len(OQMD_dataset)} compounds in the OQMD dataset.\")\n",
        "print(f\"Ther are {len(OQMD_dataset.columns)} columns in this dataset. The column names are {[i for i in OQMD_dataset.columns]}\")"
      ],
      "metadata": {
        "colab": {
          "base_uri": "https://localhost:8080/"
        },
        "id": "BWs1JUloMmmt",
        "outputId": "0423a93e-7712-4fbc-c8a8-002579f4ce16"
      },
      "execution_count": null,
      "outputs": [
        {
          "output_type": "stream",
          "name": "stdout",
          "text": [
            "     Chemical formula   A   B  In literature          Valence A  \\\n",
            "0               Ac2O3  Ac  Ac          False  element not in BV   \n",
            "1              AcAgO3  Ac  Ag          False  element not in BV   \n",
            "2              AcAlO3  Ac  Al          False  element not in BV   \n",
            "3              AcAsO3  Ac  As          False  element not in BV   \n",
            "4              AcAuO3  Ac  Au          False  element not in BV   \n",
            "...               ...  ..  ..            ...                ...   \n",
            "5324            ZrWO3  Zr   W          False                  1   \n",
            "5325            ZrYO3  Zr   Y          False       not balanced   \n",
            "5326           ZrYbO3  Zr  Yb          False       not balanced   \n",
            "5327           ZrZnO3  Zr  Zn          False       not balanced   \n",
            "5328            Zr2O3  Zr  Zr          False       not balanced   \n",
            "\n",
            "              Valence B  Radius A [ang]  Radius B [ang] Lowest distortion  \\\n",
            "0     element not in BV            1.12            1.12             cubic   \n",
            "1     element not in BV            1.12            0.95      orthorhombic   \n",
            "2     element not in BV            1.12            0.54             cubic   \n",
            "3     element not in BV            1.12            0.52      orthorhombic   \n",
            "4     element not in BV            1.12            0.93      orthorhombic   \n",
            "...                 ...             ...             ...               ...   \n",
            "5324                  5            0.89            0.62             cubic   \n",
            "5325       not balanced            0.89            0.90             cubic   \n",
            "5326       not balanced            0.89            0.95      orthorhombic   \n",
            "5327       not balanced            0.89            0.74             cubic   \n",
            "5328       not balanced            0.89            0.72             cubic   \n",
            "\n",
            "     Formation energy [eV/atom]  ... Magnetic moment [mu_B]  \\\n",
            "0                        -2.732  ...                  0.000   \n",
            "1                        -1.957  ...                  0.000   \n",
            "2                        -3.532  ...                  0.000   \n",
            "3                        -2.398  ...                  0.000   \n",
            "4                        -2.006  ...                  0.000   \n",
            "...                         ...  ...                    ...   \n",
            "5324                     -1.637  ...                  0.339   \n",
            "5325                     -2.126  ...                  0.200   \n",
            "5326                     -3.455  ...                  0.000   \n",
            "5327                     -1.630  ...                  0.001   \n",
            "5328                     -2.382  ...                  0.382   \n",
            "\n",
            "     Volume per atom [A^3/atom] Band gap [eV] a [ang] b [ang] c [ang]  \\\n",
            "0                        20.836         0.332   4.705   4.705   4.705   \n",
            "1                        14.485         0.000   5.779   6.077   8.248   \n",
            "2                        11.487         4.307   3.858   3.858   3.858   \n",
            "3                        14.355         0.000   5.780   6.012   8.262   \n",
            "4                        15.190         0.745   5.899   6.750   7.630   \n",
            "...                         ...           ...     ...     ...     ...   \n",
            "5324                     12.200         0.000   3.936   3.936   3.936   \n",
            "5325                     15.277         0.000   4.243   4.243   4.243   \n",
            "5326                     13.136         4.007   5.558   5.726   8.254   \n",
            "5327                     10.804         0.000   3.780   3.780   3.780   \n",
            "5328                     13.915         0.000   4.113   4.113   4.113   \n",
            "\n",
            "     alpha [deg] beta [deg] gamma [deg] Vacancy energy [eV/O atom]  \n",
            "0           90.0       90.0        90.0                      3.150  \n",
            "1           90.0       90.0        90.0                      0.817  \n",
            "2           90.0       90.0        90.0                      6.695  \n",
            "3           90.0       90.0        90.0                      3.634  \n",
            "4           90.0       90.0        90.0                      0.807  \n",
            "...          ...        ...         ...                        ...  \n",
            "5324        90.0       90.0        90.0                      0.191  \n",
            "5325        90.0       90.0        90.0                     -4.920  \n",
            "5326        90.0       90.0        90.0                     -6.177  \n",
            "5327        90.0       90.0        90.0                     -0.762  \n",
            "5328        90.0       90.0        90.0                      3.218  \n",
            "\n",
            "[5329 rows x 21 columns]\n",
            "There are 5329 compounds in the OQMD dataset.\n",
            "Ther are 21 columns in this dataset. The column names are ['Chemical formula', 'A', 'B', 'In literature', 'Valence A', 'Valence B', 'Radius A [ang]', 'Radius B [ang]', 'Lowest distortion', 'Formation energy [eV/atom]', 'Stability [eV/atom]', 'Magnetic moment [mu_B]', 'Volume per atom [A^3/atom]', 'Band gap [eV]', 'a [ang]', 'b [ang]', 'c [ang]', 'alpha [deg]', 'beta [deg]', 'gamma [deg]', 'Vacancy energy [eV/O atom]']\n"
          ]
        }
      ]
    },
    {
      "cell_type": "code",
      "source": [
        "\n",
        "\n",
        "rows_to_drop = OQMD_dataset[OQMD_dataset[\"Formation energy [eV/atom]\"]==\"-\"].index\n",
        "OQMD_dataset = pd.DataFrame(OQMD_dataset.drop(rows_to_drop))"
      ],
      "metadata": {
        "id": "D8-JyU-aOXNj"
      },
      "execution_count": null,
      "outputs": []
    },
    {
      "cell_type": "code",
      "source": [
        "print(OQMD_dataset)"
      ],
      "metadata": {
        "colab": {
          "base_uri": "https://localhost:8080/"
        },
        "id": "mplWamyiH3i8",
        "outputId": "9529407c-2921-4ea1-dbe7-fa408abdf096"
      },
      "execution_count": null,
      "outputs": [
        {
          "output_type": "stream",
          "name": "stdout",
          "text": [
            "     Chemical formula   A   B  In literature          Valence A  \\\n",
            "0               Ac2O3  Ac  Ac          False  element not in BV   \n",
            "1              AcAgO3  Ac  Ag          False  element not in BV   \n",
            "2              AcAlO3  Ac  Al          False  element not in BV   \n",
            "3              AcAsO3  Ac  As          False  element not in BV   \n",
            "4              AcAuO3  Ac  Au          False  element not in BV   \n",
            "...               ...  ..  ..            ...                ...   \n",
            "5324            ZrWO3  Zr   W          False                  1   \n",
            "5325            ZrYO3  Zr   Y          False       not balanced   \n",
            "5326           ZrYbO3  Zr  Yb          False       not balanced   \n",
            "5327           ZrZnO3  Zr  Zn          False       not balanced   \n",
            "5328            Zr2O3  Zr  Zr          False       not balanced   \n",
            "\n",
            "              Valence B  Radius A [ang]  Radius B [ang] Lowest distortion  \\\n",
            "0     element not in BV            1.12            1.12             cubic   \n",
            "1     element not in BV            1.12            0.95      orthorhombic   \n",
            "2     element not in BV            1.12            0.54             cubic   \n",
            "3     element not in BV            1.12            0.52      orthorhombic   \n",
            "4     element not in BV            1.12            0.93      orthorhombic   \n",
            "...                 ...             ...             ...               ...   \n",
            "5324                  5            0.89            0.62             cubic   \n",
            "5325       not balanced            0.89            0.90             cubic   \n",
            "5326       not balanced            0.89            0.95      orthorhombic   \n",
            "5327       not balanced            0.89            0.74             cubic   \n",
            "5328       not balanced            0.89            0.72             cubic   \n",
            "\n",
            "     Formation energy [eV/atom]  ... Magnetic moment [mu_B]  \\\n",
            "0                        -2.732  ...                  0.000   \n",
            "1                        -1.957  ...                  0.000   \n",
            "2                        -3.532  ...                  0.000   \n",
            "3                        -2.398  ...                  0.000   \n",
            "4                        -2.006  ...                  0.000   \n",
            "...                         ...  ...                    ...   \n",
            "5324                     -1.637  ...                  0.339   \n",
            "5325                     -2.126  ...                  0.200   \n",
            "5326                     -3.455  ...                  0.000   \n",
            "5327                     -1.630  ...                  0.001   \n",
            "5328                     -2.382  ...                  0.382   \n",
            "\n",
            "     Volume per atom [A^3/atom] Band gap [eV] a [ang] b [ang] c [ang]  \\\n",
            "0                        20.836         0.332   4.705   4.705   4.705   \n",
            "1                        14.485         0.000   5.779   6.077   8.248   \n",
            "2                        11.487         4.307   3.858   3.858   3.858   \n",
            "3                        14.355         0.000   5.780   6.012   8.262   \n",
            "4                        15.190         0.745   5.899   6.750   7.630   \n",
            "...                         ...           ...     ...     ...     ...   \n",
            "5324                     12.200         0.000   3.936   3.936   3.936   \n",
            "5325                     15.277         0.000   4.243   4.243   4.243   \n",
            "5326                     13.136         4.007   5.558   5.726   8.254   \n",
            "5327                     10.804         0.000   3.780   3.780   3.780   \n",
            "5328                     13.915         0.000   4.113   4.113   4.113   \n",
            "\n",
            "     alpha [deg] beta [deg] gamma [deg] Vacancy energy [eV/O atom]  \n",
            "0           90.0       90.0        90.0                      3.150  \n",
            "1           90.0       90.0        90.0                      0.817  \n",
            "2           90.0       90.0        90.0                      6.695  \n",
            "3           90.0       90.0        90.0                      3.634  \n",
            "4           90.0       90.0        90.0                      0.807  \n",
            "...          ...        ...         ...                        ...  \n",
            "5324        90.0       90.0        90.0                      0.191  \n",
            "5325        90.0       90.0        90.0                     -4.920  \n",
            "5326        90.0       90.0        90.0                     -6.177  \n",
            "5327        90.0       90.0        90.0                     -0.762  \n",
            "5328        90.0       90.0        90.0                      3.218  \n",
            "\n",
            "[5276 rows x 21 columns]\n"
          ]
        }
      ]
    },
    {
      "cell_type": "code",
      "source": [
        "OQMD_dataset[\"Formation energy [eV/atom]\"] = pd.to_numeric(OQMD_dataset[\"Formation energy [eV/atom]\"])"
      ],
      "metadata": {
        "id": "Ieu9XVgbIphn"
      },
      "execution_count": null,
      "outputs": []
    },
    {
      "cell_type": "code",
      "source": [
        "OQMD_dataset = OQMD_dataset.reset_index()\n",
        "print(OQMD_dataset)\n"
      ],
      "metadata": {
        "colab": {
          "base_uri": "https://localhost:8080/"
        },
        "id": "fAtoUEbNJYsS",
        "outputId": "b9c26147-a7e2-438d-ec5e-ce547fbed80e"
      },
      "execution_count": null,
      "outputs": [
        {
          "output_type": "stream",
          "name": "stdout",
          "text": [
            "      index Chemical formula   A   B  In literature          Valence A  \\\n",
            "0         0            Ac2O3  Ac  Ac          False  element not in BV   \n",
            "1         1           AcAgO3  Ac  Ag          False  element not in BV   \n",
            "2         2           AcAlO3  Ac  Al          False  element not in BV   \n",
            "3         3           AcAsO3  Ac  As          False  element not in BV   \n",
            "4         4           AcAuO3  Ac  Au          False  element not in BV   \n",
            "...     ...              ...  ..  ..            ...                ...   \n",
            "5271   5324            ZrWO3  Zr   W          False                  1   \n",
            "5272   5325            ZrYO3  Zr   Y          False       not balanced   \n",
            "5273   5326           ZrYbO3  Zr  Yb          False       not balanced   \n",
            "5274   5327           ZrZnO3  Zr  Zn          False       not balanced   \n",
            "5275   5328            Zr2O3  Zr  Zr          False       not balanced   \n",
            "\n",
            "              Valence B  Radius A [ang]  Radius B [ang] Lowest distortion  \\\n",
            "0     element not in BV            1.12            1.12             cubic   \n",
            "1     element not in BV            1.12            0.95      orthorhombic   \n",
            "2     element not in BV            1.12            0.54             cubic   \n",
            "3     element not in BV            1.12            0.52      orthorhombic   \n",
            "4     element not in BV            1.12            0.93      orthorhombic   \n",
            "...                 ...             ...             ...               ...   \n",
            "5271                  5            0.89            0.62             cubic   \n",
            "5272       not balanced            0.89            0.90             cubic   \n",
            "5273       not balanced            0.89            0.95      orthorhombic   \n",
            "5274       not balanced            0.89            0.74             cubic   \n",
            "5275       not balanced            0.89            0.72             cubic   \n",
            "\n",
            "      ...  Magnetic moment [mu_B] Volume per atom [A^3/atom] Band gap [eV]  \\\n",
            "0     ...                   0.000                     20.836         0.332   \n",
            "1     ...                   0.000                     14.485         0.000   \n",
            "2     ...                   0.000                     11.487         4.307   \n",
            "3     ...                   0.000                     14.355         0.000   \n",
            "4     ...                   0.000                     15.190         0.745   \n",
            "...   ...                     ...                        ...           ...   \n",
            "5271  ...                   0.339                     12.200         0.000   \n",
            "5272  ...                   0.200                     15.277         0.000   \n",
            "5273  ...                   0.000                     13.136         4.007   \n",
            "5274  ...                   0.001                     10.804         0.000   \n",
            "5275  ...                   0.382                     13.915         0.000   \n",
            "\n",
            "     a [ang] b [ang] c [ang] alpha [deg] beta [deg] gamma [deg]  \\\n",
            "0      4.705   4.705   4.705        90.0       90.0        90.0   \n",
            "1      5.779   6.077   8.248        90.0       90.0        90.0   \n",
            "2      3.858   3.858   3.858        90.0       90.0        90.0   \n",
            "3      5.780   6.012   8.262        90.0       90.0        90.0   \n",
            "4      5.899   6.750   7.630        90.0       90.0        90.0   \n",
            "...      ...     ...     ...         ...        ...         ...   \n",
            "5271   3.936   3.936   3.936        90.0       90.0        90.0   \n",
            "5272   4.243   4.243   4.243        90.0       90.0        90.0   \n",
            "5273   5.558   5.726   8.254        90.0       90.0        90.0   \n",
            "5274   3.780   3.780   3.780        90.0       90.0        90.0   \n",
            "5275   4.113   4.113   4.113        90.0       90.0        90.0   \n",
            "\n",
            "     Vacancy energy [eV/O atom]  \n",
            "0                         3.150  \n",
            "1                         0.817  \n",
            "2                         6.695  \n",
            "3                         3.634  \n",
            "4                         0.807  \n",
            "...                         ...  \n",
            "5271                      0.191  \n",
            "5272                     -4.920  \n",
            "5273                     -6.177  \n",
            "5274                     -0.762  \n",
            "5275                      3.218  \n",
            "\n",
            "[5276 rows x 22 columns]\n"
          ]
        }
      ]
    },
    {
      "cell_type": "code",
      "source": [
        "plt.hist(OQMD_dataset[\"Formation energy [eV/atom]\"].values, color = \"c\", bins = 20, edgecolor=\"k\")\n",
        "mean_OQMD = statistics.mean(OQMD_dataset[\"Formation energy [eV/atom]\"].values)\n",
        "stv_OQMD = statistics.stdev(OQMD_dataset[\"Formation energy [eV/atom]\"].values)\n",
        "plt.axvline(mean_OQMD, color=\"b\", linestyle = \"dashed\", label=\"Mean\")\n",
        "plt.axvline(mean_OQMD + stv_OQMD, color=\"purple\", linestyle = \"dashed\", label=\"Mean + Standard Deviation\")\n",
        "plt.axvline(mean_OQMD - stv_OQMD, color=\"red\", linestyle = \"dashed\", label=\"Mean - Standard Deviation\")\n",
        "plt.legend()\n",
        "plt.ylabel(\"Formation energy [eV/atom]\")\n",
        "plt.show()"
      ],
      "metadata": {
        "colab": {
          "base_uri": "https://localhost:8080/",
          "height": 265
        },
        "id": "zmwOwvmoJhDS",
        "outputId": "7682c9ee-793b-4e42-e8c0-c588cd54e00c"
      },
      "execution_count": null,
      "outputs": [
        {
          "output_type": "display_data",
          "data": {
            "text/plain": [
              "<Figure size 432x288 with 1 Axes>"
            ],
            "image/png": "[encoded data removed]"
          },
          "metadata": {
            "needs_background": "light"
          }
        }
      ]
    },
    {
      "cell_type": "code",
      "source": [
        "set1 = set(list(data[\"pretty_formula\"].unique()))\n",
        "set2 = set(list(OQMD_dataset[\"Chemical formula\"].unique()))\n",
        "combined_set = set1.intersection(set2)\n",
        "print(combined_set)\n",
        "print(len(combined_set))\n",
        "combined_list = list(combined_set)\n",
        "print(combined_list)"
      ],
      "metadata": {
        "colab": {
          "base_uri": "https://localhost:8080/"
        },
        "id": "1Et0IrCifFgI",
        "outputId": "586bead5-75b2-4556-8727-db81770dc576"
      },
      "execution_count": null,
      "outputs": [
        {
          "output_type": "stream",
          "name": "stdout",
          "text": [
            "{'HoMnO3', 'SrPdO3', 'BaAuO3', 'ScCuO3', 'InSiO3', 'HgTeO3', 'BeReO3', 'SrMgO3', 'KRhO3', 'RbCrO3', 'LiErO3', 'ZrTlO3', 'CoAuO3', 'BeCdO3', 'NaBiO3', 'SmSbO3', 'SrCrO3', 'PaTaO3', 'CaVO3', 'KZrO3', 'TePbO3', 'LaTlO3', 'YbMgO3', 'LiBO3', 'NaPbO3', 'CaInO3', 'SmCoO3', 'BaCrO3', 'EuGeO3', 'RbYbO3', 'RbBiO3', 'CuBO3', 'BaCoO3', 'YHoO3', 'MgMnO3', 'HfThO3', 'InRhO3', 'RbIrO3', 'GdSiO3', 'YbTiO3', 'MnAlO3', 'PaCoO3', 'EuErO3', 'BaReO3', 'HoGaO3', 'NpHgO3', 'SmTmO3', 'ZnMoO3', 'SrWO3', 'BePtO3', 'MgOsO3', 'CoMoO3', 'BaThO3', 'SrNdO3', 'CdSnO3', 'SrAlO3', 'ThReO3', 'VBiO3', 'HgIrO3', 'SmCuO3', 'ScInO3', 'LiCrO3', 'NaTcO3', 'ZnCoO3', 'MgGeO3', 'TiNiO3', 'ZnBO3', 'CsNbO3', 'DySbO3', 'GdAsO3', 'ErIrO3', 'DyLuO3', 'ScAsO3', 'MnZnO3', 'HoLuO3', 'LaPtO3', 'RbBeO3', 'AgTeO3', 'SrIrO3', 'LaTmO3', 'KMnO3', 'NaSbO3', 'AgSbO3', 'CeTaO3', 'SrAuO3', 'YGaO3', 'SrFeO3', 'NpSnO3', 'UTcO3', 'ZnSnO3', 'RbSrO3', 'TiZnO3', 'TlHgO3', 'KBiO3', 'LaGaO3', 'TbGeO3', 'BaVO3', 'SbAuO3', 'HoSiO3', 'CsTaO3', 'AgAuO3', 'TmInO3', 'YbGaO3', 'HoVO3', 'HoBiO3', 'MnBiO3', 'CaPtO3', 'HoNiO3', 'BaYbO3', 'CoBO3', 'BeSbO3', 'NdNpO3', 'YbCuO3', 'ZrNiO3', 'ScSiO3', 'HoErO3', 'LaBiO3', 'SmGaO3', 'CoSiO3', 'CoSnO3', 'UBeO3', 'CsPbO3', 'SmFeO3', 'TmGeO3', 'FePbO3', 'BeSiO3', 'PrCuO3', 'GaSnO3', 'LiTcO3', 'HoBeO3', 'EuOsO3', 'SmCrO3', 'NpSiO3', 'TlVO3', 'ErTiO3', 'LaMnO3', 'LiGeO3', 'SrZnO3', 'EuTmO3', 'TbFeO3', 'VPbO3', 'NiBiO3', 'BaTcO3', 'PaOsO3', 'NdSbO3', 'YbAuO3', 'CuGeO3', 'PuPtO3', 'BaBiO3', 'TePdO3', 'TlBO3', 'PaAgO3', 'LaVO3', 'LiNiO3', 'EuRuO3', 'CaTiO3', 'CaHgO3', 'EuCuO3', 'EuPbO3', 'RbMnO3', 'GdTiO3', 'EuAgO3', 'RbRuO3', 'NdGaO3', 'MgBeO3', 'PuSbO3', 'KYbO3', 'AcVO3', 'GdAlO3', 'CsBiO3', 'MgCoO3', 'CsRbO3', 'TbInO3', 'InBO3', 'SrTeO3', 'HoCoO3', 'InOsO3', 'LiPmO3', 'LiAcO3', 'NaZnO3', 'RbGeO3', 'PrRuO3', 'PrCoO3', 'GdLuO3', 'CaCeO3', 'GdBO3', 'MnCdO3', 'SmAgO3', 'TiTeO3', 'NaCrO3', 'LaYbO3', 'LiCeO3', 'NpAlO3', 'ZnNiO3', 'AcMgO3', 'AgSnO3', 'CrBiO3', 'DyMnO3', 'KTaO3', 'TmGaO3', 'KTlO3', 'LaCrO3', 'VZnO3', 'BaFeO3', 'SrCeO3', 'VSnO3', 'GdFeO3', 'AlRhO3', 'CaTcO3', 'RbAlO3', 'HoFeO3', 'LiTeO3', 'EuNpO3', 'LiSbO3', 'AsAuO3', 'MgBO3', 'BaHfO3', 'BaCeO3', 'CsNdO3', 'PmInO3', 'EuLuO3', 'YBiO3', 'CsPrO3', 'FeAsO3', 'GaFeO3', 'CdCoO3', 'CsBaO3', 'CsGdO3', 'NiSnO3', 'LiPrO3', 'CsCaO3', 'CaZrO3', 'BaPtO3', 'BiRhO3', 'NdTaO3', 'PuInO3', 'MoPbO3', 'CeAsO3', 'YbNiO3', 'TaTlO3', 'LiSmO3', 'CdTeO3', 'ErRhO3', 'LaYO3', 'NdTiO3', 'CsNaO3', 'ZrTiO3', 'HfNiO3', 'CsMoO3', 'KSrO3', 'LiYO3', 'SmGeO3', 'InPtO3', 'BaTaO3', 'NpOsO3', 'ThWO3', 'AlGaO3', 'SrPbO3', 'LiBiO3', 'LuFeO3', 'GeBiO3', 'SmAlO3', 'KPtO3', 'DyScO3', 'TbHoO3', 'ZrZnO3', 'KHoO3', 'LaAlO3', 'BiPtO3', 'YbGeO3', 'RuPbO3', 'KCrO3', 'NiRuO3', 'NpTcO3', 'SrVO3', 'DyBiO3', 'UReO3', 'KTcO3', 'CdRuO3', 'BaMoO3', 'GdInO3', 'InCuO3', 'BiMoO3', 'DyVO3', 'NbBiO3', 'YMoO3', 'TiAlO3', 'GdCrO3', 'SbAsO3', 'TiGeO3', 'NdFeO3', 'SmYO3', 'ErCoO3', 'HfSnO3', 'LaAgO3', 'NaRuO3', 'SrTbO3', 'PmErO3', 'AlTlO3', 'DyCuO3', 'SrZrO3', 'TlGaO3', 'YVO3', 'RbOsO3', 'CaOsO3', 'LaPdO3', 'SmBO3', 'YbSnO3', 'TaSnO3', 'YbScO3', 'LiYbO3', 'EuPdO3', 'BePbO3', 'NaNbO3', 'CoGeO3', 'YLuO3', 'RbTmO3', 'ZnSbO3', 'MnCuO3', 'InFeO3', 'ScBiO3', 'RbHgO3', 'MgWO3', 'TbRhO3', 'CsSrO3', 'TmBiO3', 'YRhO3', 'AcCuO3', 'RbMoO3', 'HfPbO3', 'LaDyO3', 'AgAsO3', 'AcNiO3', 'FeRhO3', 'NpBO3', 'SrMoO3', 'LaSnO3', 'ScCoO3', 'SrEuO3', 'BaTlO3', 'TlGeO3', 'CuBiO3', 'ZnSiO3', 'EuVO3', 'LuNpO3', 'ScRhO3', 'HoSbO3', 'SrGeO3', 'CsTiO3', 'HgAsO3', 'ErInO3', 'BaAlO3', 'CaScO3', 'AcFeO3', 'ScVO3', 'SrRhO3', 'KAsO3', 'TiFeO3', 'TlSbO3', 'RbErO3', 'PmMgO3', 'BeGeO3', 'CsKO3', 'TmCrO3', 'AgPdO3', 'ZnCrO3', 'NdBiO3', 'SbPbO3', 'ZnAuO3', 'LiCdO3', 'CaWO3', 'PaTlO3', 'SrTmO3', 'HoInO3', 'DyNiO3', 'BaMnO3', 'KPaO3', 'EuMoO3', 'YbNbO3', 'NiPtO3', 'ZrOsO3', 'YAgO3', 'YErO3', 'AlCuO3', 'AlPbO3', 'KCoO3', 'PuGaO3', 'RbTlO3', 'LiSiO3', 'MgTiO3', 'CrMoO3', 'CaYO3', 'LiAlO3', 'YBO3', 'UTlO3', 'TcPbO3', 'PuVO3', 'BaZnO3', 'BaCaO3', 'CoNiO3', 'BeCuO3', 'TmScO3', 'ZrCdO3', 'LaZnO3', 'DyCoO3', 'YbZnO3', 'LaInO3', 'KAgO3', 'LiMgO3', 'CaMnO3', 'ScTlO3', 'SrCoO3', 'CsEuO3', 'NpTiO3', 'YAlO3', 'SiAgO3', 'YbReO3', 'NaAgO3', 'LaMgO3', 'CsTbO3', 'SmHoO3', 'BeAuO3', 'ZrPbO3', 'AlMoO3', 'RbPtO3', 'HfCrO3', 'ScAgO3', 'NaGeO3', 'AcMnO3', 'SrMnO3', 'USiO3', 'KNaO3', 'NaMoO3', 'BaUO3', 'YbPdO3', 'BaLiO3', 'BOsO3', 'CsThO3', 'DyHoO3', 'SrHoO3', 'TmAlO3', 'TiSnO3', 'CsSbO3', 'NaIrO3', 'SiSnO3', 'SrTaO3', 'VGeO3', 'CaZnO3', 'UTiO3', 'RbNaO3', 'CrTcO3', 'CsAsO3', 'EuHgO3', 'TbErO3', 'EuSbO3', 'EuIrO3', 'TmRhO3', 'KIrO3', 'NpTaO3', 'YSbO3', 'LaZrO3', 'YbCoO3', 'NdLuO3', 'ScPdO3', 'PuCrO3', 'AlSnO3', 'TbNiO3', 'DyFeO3', 'ZnFeO3', 'GePdO3', 'TmCoO3', 'LaTaO3', 'TbBeO3', 'LaLuO3', 'DyYO3', 'EuAuO3', 'SmErO3', 'LaRhO3', 'SnGeO3', 'RbYO3', 'NiPdO3', 'CsSnO3', 'YbTaO3', 'YbCeO3', 'DyGaO3', 'TbVO3', 'YbPrO3', 'MgTlO3', 'CrFeO3', 'SbTeO3', 'GdCuO3', 'DySnO3', 'FeBO3', 'SrAsO3', 'ZrAlO3', 'YInO3', 'InSbO3', 'HgRuO3', 'CaRuO3', 'CaHoO3', 'CoSbO3', 'CaBeO3', 'ZrBeO3', 'AlAgO3', 'BeZnO3', 'VCuO3', 'TmMnO3', 'CdFeO3', 'CsRuO3', 'PmRuO3', 'SrErO3', 'ZrBO3', 'PrBO3', 'ThSiO3', 'TiCrO3', 'SmVO3', 'BaRuO3', 'GdThO3', 'MnAgO3', 'EuGaO3', 'MgAlO3', 'SrYbO3', 'RbNbO3', 'BeBO3', 'NbTlO3', 'AlPdO3', 'LaTiO3', 'SrDyO3', 'ErFeO3', 'PaSiO3', 'CaNbO3', 'HfMgO3', 'BaCdO3', 'AlFeO3', 'LaCoO3', 'SmInO3', 'CaMgO3', 'CoBiO3', 'NpMoO3', 'PuNiO3', 'LaRuO3', 'BeGaO3', 'TiPbO3', 'CrBO3', 'AcBO3', 'SiBO3', 'BeInO3', 'RbHoO3', 'BaNdO3', 'YbCrO3', 'KAlO3', 'AlNiO3', 'HoSnO3', 'NaTeO3', 'BaSiO3', 'ZrCoO3', 'KBeO3', 'LaErO3', 'ScSnO3', 'NdNiO3', 'ReTeO3', 'RbNiO3', 'VCrO3', 'YbHfO3', 'KErO3', 'MgIrO3', 'KZnO3', 'KRbO3', 'MgVO3', 'SmMnO3', 'SrSiO3', 'KRuO3', 'CdPbO3', 'TiCdO3', 'ThCuO3', 'NaLiO3', 'CdOsO3', 'SmTlO3', 'RbCuO3', 'SmRhO3', 'KPuO3', 'SrTcO3', 'SrAgO3', 'PuTiO3', 'SnHgO3', 'RbTeO3', 'PrRhO3', 'YSiO3', 'CeLuO3', 'LuUO3', 'TbOsO3', 'RbCdO3', 'YbWO3', 'LiLaO3', 'RbFeO3', 'GeBO3', 'BeVO3', 'AlAuO3', 'KTeO3', 'LuBiO3', 'SrSbO3', 'SrScO3', 'RbAsO3', 'RbSnO3', 'ErAlO3', 'PrCrO3', 'HgGeO3', 'MgZrO3', 'ErBiO3', 'CeCuO3', 'ThPdO3', 'BeBiO3', 'CeBO3', 'NdCoO3', 'KMoO3', 'BaNpO3', 'CsGeO3', 'LiLuO3', 'RbBaO3', 'GaNiO3', 'KDyO3', 'MnVO3', 'RbBO3', 'NaPdO3', 'TlFeO3', 'YbSmO3', 'ZnBiO3', 'ThMoO3', 'NdCrO3', 'PrScO3', 'CaSnO3', 'LuGeO3', 'EuUO3', 'CeTmO3', 'RbInO3', 'YbVO3', 'SrBiO3', 'EuAsO3', 'HoCrO3', 'BaRhO3', 'NaAsO3', 'BaEuO3', 'ZnCuO3', 'PmEuO3', 'KSiO3', 'RbRhO3', 'BaBO3', 'NiAsO3', 'HgRhO3', 'RbLiO3', 'EuNiO3', 'YbRhO3', 'KNpO3', 'LaScO3', 'NdRhO3', 'RbAuO3', 'LiFeO3', 'TbScO3', 'BPtO3', 'InAsO3', 'PuPbO3', 'ZrHgO3', 'SnPbO3', 'TbAlO3', 'UBO3', 'ZnRhO3', 'HoTmO3', 'TbMgO3', 'EuBO3', 'CoTeO3', 'MgSnO3', 'LuRhO3', 'SrHfO3', 'CaRhO3', 'KCdO3', 'AgBO3', 'LaBeO3', 'CuHgO3', 'ReSbO3', 'SrPrO3', 'NdBO3', 'LuNiO3', 'PuBO3', 'NbCuO3', 'ZnOsO3', 'SrRuO3', 'ScFeO3', 'EuFeO3', 'SmPuO3', 'BaTmO3', 'GdTmO3', 'HgBiO3', 'RbDyO3', 'HfCdO3', 'SiPbO3', 'DyTmO3', 'BaTiO3', 'NdAlO3', 'GdZrO3', 'TlCoO3', 'TbTmO3', 'TaAgO3', 'LuVO3', 'LiTmO3', 'LaFeO3', 'LuScO3', 'YFeO3', 'AcAlO3', 'AcCrO3', 'EuInO3', 'SmScO3', 'SrBeO3', 'ZrCrO3', 'ErZnO3', 'GeTeO3', 'KTmO3', 'CuTeO3', 'MnHgO3', 'NaBeO3', 'CoRhO3', 'PrAlO3', 'SrNiO3', 'CuSiO3', 'TmVO3', 'CaBO3', 'LiNdO3', 'SrLiO3', 'AcGaO3', 'CeGaO3', 'AgPbO3', 'YbAlO3', 'NaCoO3', 'MnTeO3', 'PaBO3', 'NdScO3', 'CsOsO3', 'MnBO3', 'LaAuO3', 'YbInO3', 'NaFeO3', 'PrMnO3', 'InGaO3', 'CoPbO3', 'LuCrO3', 'CaLaO3', 'TmTlO3', 'ScCrO3', 'CaCrO3', 'AcSiO3', 'DyTiO3', 'EuScO3', 'ThBO3', 'YbBeO3', 'EuTcO3', 'KBaO3', 'BPdO3', 'CrWO3', 'BaGeO3', 'LiHoO3', 'NaNiO3', 'HfMnO3', 'MgRuO3', 'ErNiO3', 'UAlO3', 'HfCoO3', 'AgBiO3', 'FeBiO3', 'VCdO3', 'LaSmO3', 'GdGaO3', 'YMnO3', 'NaSrO3', 'RbAgO3', 'TaBeO3', 'PrVO3', 'NiPbO3', 'CsLaO3', 'CaPbO3', 'BaIrO3', 'EuTiO3', 'LaHoO3', 'CePbO3', 'RbSbO3', 'GdNiO3', 'SbPdO3', 'DyCrO3', 'LiAsO3', 'AlWO3', 'HfBeO3', 'NiSbO3', 'CsNpO3', 'MgRhO3', 'YbTmO3', 'LaCuO3', 'ErScO3', 'LiRuO3', 'PrFeO3', 'TmNiO3', 'ZrMnO3', 'KAuO3', 'TmFeO3', 'AlIrO3', 'MgSiO3', 'HoTiO3', 'SrTiO3', 'SrInO3', 'YbEuO3', 'LuSiO3', 'MnGeO3', 'KMgO3', 'SnBO3', 'CsPaO3', 'NdVO3', 'CaIrO3', 'TbCoO3', 'HfFeO3', 'MnNiO3', 'GaGeO3', 'CeVO3', 'YTiO3', 'LaNiO3', 'CuPbO3', 'LuTiO3', 'KPbO3', 'KVO3', 'TaInO3', 'VIrO3', 'TlCuO3', 'RbNpO3', 'CrPbO3', 'ScGaO3', 'CsUO3', 'NdZrO3', 'MnCoO3', 'HfNpO3', 'AgGeO3', 'UPdO3', 'TbLuO3', 'CeNiO3', 'NaCdO3', 'BaBeO3', 'YOsO3', 'GaBO3', 'LuTlO3', 'SmDyO3', 'PrBeO3', 'CaGeO3', 'AgRuO3', 'MnSnO3', 'HoGeO3', 'YbMnO3', 'EuCrO3', 'PrHfO3', 'ScBO3', 'BeAgO3', 'CrInO3', 'LaCdO3', 'EuBeO3', 'HoRhO3', 'ReBiO3', 'RbTbO3', 'HfZnO3', 'DyAlO3', 'BaInO3', 'TlSiO3', 'ErVO3', 'FeSiO3', 'BaPdO3', 'LiNbO3', 'LiGdO3', 'MnPbO3', 'HoScO3', 'CaPrO3', 'BaTeO3', 'CeSbO3', 'CsVO3', 'KReO3', 'KCaO3', 'AcPdO3', 'YScO3', 'PrTiO3', 'YbFeO3', 'PaBeO3', 'CsMgO3', 'TbSmO3', 'VGaO3', 'MgZnO3', 'LiDyO3', 'MgBiO3', 'NbAgO3', 'NpRuO3', 'RbPaO3', 'EuReO3', 'CeTiO3', 'TiBeO3', 'CoAgO3', 'CsTeO3', 'YbPuO3', 'MgReO3', 'KTbO3', 'BaPaO3', 'VNiO3', 'TbMnO3', 'AlSiO3', 'CrRhO3', 'BeHgO3', 'EuSnO3', 'NaInO3', 'SmSiO3', 'YbBO3', 'NaSiO3', 'ZnGaO3', 'YZrO3', 'RbPdO3', 'MnInO3', 'EuAlO3', 'CuPdO3', 'BaNbO3', 'BaWO3', 'NaAlO3', 'SrReO3', 'EuSiO3', 'AlInO3', 'CsIrO3', 'NdMgO3', 'DyPaO3', 'BaErO3', 'SrPtO3', 'SrNbO3', 'SiHgO3', 'CdBiO3', 'LiEuO3', 'NaVO3', 'CrGeO3', 'PmBeO3', 'KGdO3', 'ZnIrO3', 'AlBiO3', 'MgMoO3', 'TaFeO3', 'EuPtO3', 'YCrO3', 'ErBO3', 'ErBeO3', 'CaBiO3', 'NaTaO3', 'MgHgO3', 'InBiO3', 'EuRhO3', 'NaPuO3', 'SrOsO3', 'CdRhO3', 'ErGaO3', 'CaNiO3', 'RbVO3', 'TmBO3', 'KPdO3', 'YCuO3', 'FeGeO3', 'KLuO3', 'RbAcO3', 'NdGeO3', 'PbAuO3', 'LiTaO3', 'MgUO3', 'YCoO3', 'ZnGeO3', 'CaSiO3', 'ErTlO3', 'NaTiO3', 'TiVO3', 'FeNiO3', 'CaCoO3', 'TbCrO3', 'GaSiO3', 'NaCaO3', 'YSnO3', 'CaTmO3', 'PrLuO3', 'CeScO3', 'GdVO3', 'MnTlO3', 'CsTlO3', 'SmLuO3', 'CsPdO3', 'ScMnO3', 'InCoO3', 'NaOsO3', 'RbMgO3', 'MnGaO3', 'ZrSiO3', 'EuMgO3', 'LiReO3', 'BaScO3', 'GdRhO3', 'OsPbO3', 'BePdO3', 'BaPbO3', 'KWO3', 'PaHgO3', 'SrPuO3', 'LuGaO3', 'KYO3', 'VPtO3', 'RbUO3', 'BIrO3', 'LuPdO3', 'TiMnO3', 'VCoO3', 'PmWO3', 'ZnPbO3', 'KHfO3', 'LuBO3', 'CdTcO3', 'MgSbO3', 'SrTlO3', 'MgInO3', 'HfBO3', 'GdErO3', 'CeRhO3', 'CsYbO3', 'ThBeO3', 'VOsO3', 'BaSnO3', 'LuReO3', 'RbTaO3', 'CaCuO3', 'LiBeO3', 'SrSnO3', 'KUO3', 'TbTiO3', 'KInO3', 'TlTcO3', 'DyRhO3', 'EuHfO3', 'CsCdO3', 'TmTiO3', 'AlCoO3', 'BiSbO3', 'ErCuO3', 'BaTbO3', 'VTeO3', 'TbTeO3', 'KScO3', 'TiCuO3', 'TbSiO3', 'SrCuO3', 'NiTeO3', 'TcSnO3', 'GdBeO3', 'TlNiO3', 'BaNiO3', 'CeFeO3', 'ErMnO3', 'BSbO3', 'TmBeO3', 'VAgO3', 'TlWO3', 'RbReO3', 'EuNbO3', 'MgCuO3', 'LaAsO3', 'PrGaO3', 'BPbO3', 'HfHgO3', 'ScAlO3', 'MgCrO3', 'NdInO3', 'NaReO3', 'EuMnO3', 'LiOsO3', 'RbSmO3', 'NaYbO3', 'CaSbO3', 'KLiO3', 'MnSiO3', 'SrCaO3', 'GePbO3', 'CrCuO3', 'ErLuO3', 'NdMnO3', 'NpBeO3', 'TiHgO3', 'HgOsO3', 'KNbO3', 'RbPuO3', 'RbCaO3', 'SiMoO3', 'SiPdO3', 'KSbO3', 'TbCuO3', 'CeAlO3', 'ErCrO3', 'PrNbO3', 'VSiO3', 'LuAlO3', 'RbWO3', 'NaPaO3', 'LiPaO3', 'CeMnO3', 'TiCoO3', 'CsSmO3', 'AcScO3', 'HoBO3', 'CdIrO3', 'TbGaO3', 'CuAsO3', 'AcTiO3', 'ErTaO3', 'SiBiO3', 'PrNiO3', 'GdScO3', 'AlCrO3', 'YNiO3', 'BaZrO3', 'ZnTeO3', 'DyBO3', 'CdGeO3', 'FeAgO3', 'VBO3', 'CdSiO3', 'CeBeO3', 'NdReO3', 'BaOsO3', 'MnFeO3', 'LiCaO3', 'YbPtO3', 'KTiO3', 'SmBeO3', 'DyErO3', 'NaUO3', 'AlBO3', 'CeCrO3', 'UHgO3', 'GaBiO3', 'YTmO3', 'BaPrO3', 'YbBiO3', 'NaWO3', 'BaCuO3', 'HoCuO3', 'BAuO3', 'LiUO3', 'MgPbO3', 'PrTlO3', 'YWO3', 'PrPbO3', 'GaTeO3', 'BTeO3', 'TaCuO3', 'AlSbO3', 'DyInO3', 'BiBO3', 'CsAuO3', 'NdBeO3', 'CaTeO3', 'ZnWO3', 'LuCoO3', 'SmTiO3', 'ScTiO3', 'UIrO3', 'KOsO3', 'CaMoO3', 'PuMgO3', 'EuWO3', 'AlVO3', 'SmNiO3', 'MgFeO3', 'KFeO3', 'BaDyO3', 'CePuO3', 'YbSiO3', 'RbGdO3', 'TiBO3', 'CaFeO3', 'EuZrO3', 'BaPuO3', 'TbGdO3', 'PrBiO3', 'LuMnO3', 'LaBO3', 'VHgO3', 'SiGeO3', 'SrHgO3', 'YbTcO3', 'FeSnO3', 'NiMoO3', 'CaHfO3', 'RbZnO3', 'BeOsO3', 'EuCoO3', 'NbFeO3', 'LiVO3', 'HoAlO3', 'NaMgO3', 'CdBO3'}\n",
            "1196\n",
            "['HoMnO3', 'SrPdO3', 'BaAuO3', 'ScCuO3', 'InSiO3', 'HgTeO3', 'BeReO3', 'SrMgO3', 'KRhO3', 'RbCrO3', 'LiErO3', 'ZrTlO3', 'CoAuO3', 'BeCdO3', 'NaBiO3', 'SmSbO3', 'SrCrO3', 'PaTaO3', 'CaVO3', 'KZrO3', 'TePbO3', 'LaTlO3', 'YbMgO3', 'LiBO3', 'NaPbO3', 'CaInO3', 'SmCoO3', 'BaCrO3', 'EuGeO3', 'RbYbO3', 'RbBiO3', 'CuBO3', 'BaCoO3', 'YHoO3', 'MgMnO3', 'HfThO3', 'InRhO3', 'RbIrO3', 'GdSiO3', 'YbTiO3', 'MnAlO3', 'PaCoO3', 'EuErO3', 'BaReO3', 'HoGaO3', 'NpHgO3', 'SmTmO3', 'ZnMoO3', 'SrWO3', 'BePtO3', 'MgOsO3', 'CoMoO3', 'BaThO3', 'SrNdO3', 'CdSnO3', 'SrAlO3', 'ThReO3', 'VBiO3', 'HgIrO3', 'SmCuO3', 'ScInO3', 'LiCrO3', 'NaTcO3', 'ZnCoO3', 'MgGeO3', 'TiNiO3', 'ZnBO3', 'CsNbO3', 'DySbO3', 'GdAsO3', 'ErIrO3', 'DyLuO3', 'ScAsO3', 'MnZnO3', 'HoLuO3', 'LaPtO3', 'RbBeO3', 'AgTeO3', 'SrIrO3', 'LaTmO3', 'KMnO3', 'NaSbO3', 'AgSbO3', 'CeTaO3', 'SrAuO3', 'YGaO3', 'SrFeO3', 'NpSnO3', 'UTcO3', 'ZnSnO3', 'RbSrO3', 'TiZnO3', 'TlHgO3', 'KBiO3', 'LaGaO3', 'TbGeO3', 'BaVO3', 'SbAuO3', 'HoSiO3', 'CsTaO3', 'AgAuO3', 'TmInO3', 'YbGaO3', 'HoVO3', 'HoBiO3', 'MnBiO3', 'CaPtO3', 'HoNiO3', 'BaYbO3', 'CoBO3', 'BeSbO3', 'NdNpO3', 'YbCuO3', 'ZrNiO3', 'ScSiO3', 'HoErO3', 'LaBiO3', 'SmGaO3', 'CoSiO3', 'CoSnO3', 'UBeO3', 'CsPbO3', 'SmFeO3', 'TmGeO3', 'FePbO3', 'BeSiO3', 'PrCuO3', 'GaSnO3', 'LiTcO3', 'HoBeO3', 'EuOsO3', 'SmCrO3', 'NpSiO3', 'TlVO3', 'ErTiO3', 'LaMnO3', 'LiGeO3', 'SrZnO3', 'EuTmO3', 'TbFeO3', 'VPbO3', 'NiBiO3', 'BaTcO3', 'PaOsO3', 'NdSbO3', 'YbAuO3', 'CuGeO3', 'PuPtO3', 'BaBiO3', 'TePdO3', 'TlBO3', 'PaAgO3', 'LaVO3', 'LiNiO3', 'EuRuO3', 'CaTiO3', 'CaHgO3', 'EuCuO3', 'EuPbO3', 'RbMnO3', 'GdTiO3', 'EuAgO3', 'RbRuO3', 'NdGaO3', 'MgBeO3', 'PuSbO3', 'KYbO3', 'AcVO3', 'GdAlO3', 'CsBiO3', 'MgCoO3', 'CsRbO3', 'TbInO3', 'InBO3', 'SrTeO3', 'HoCoO3', 'InOsO3', 'LiPmO3', 'LiAcO3', 'NaZnO3', 'RbGeO3', 'PrRuO3', 'PrCoO3', 'GdLuO3', 'CaCeO3', 'GdBO3', 'MnCdO3', 'SmAgO3', 'TiTeO3', 'NaCrO3', 'LaYbO3', 'LiCeO3', 'NpAlO3', 'ZnNiO3', 'AcMgO3', 'AgSnO3', 'CrBiO3', 'DyMnO3', 'KTaO3', 'TmGaO3', 'KTlO3', 'LaCrO3', 'VZnO3', 'BaFeO3', 'SrCeO3', 'VSnO3', 'GdFeO3', 'AlRhO3', 'CaTcO3', 'RbAlO3', 'HoFeO3', 'LiTeO3', 'EuNpO3', 'LiSbO3', 'AsAuO3', 'MgBO3', 'BaHfO3', 'BaCeO3', 'CsNdO3', 'PmInO3', 'EuLuO3', 'YBiO3', 'CsPrO3', 'FeAsO3', 'GaFeO3', 'CdCoO3', 'CsBaO3', 'CsGdO3', 'NiSnO3', 'LiPrO3', 'CsCaO3', 'CaZrO3', 'BaPtO3', 'BiRhO3', 'NdTaO3', 'PuInO3', 'MoPbO3', 'CeAsO3', 'YbNiO3', 'TaTlO3', 'LiSmO3', 'CdTeO3', 'ErRhO3', 'LaYO3', 'NdTiO3', 'CsNaO3', 'ZrTiO3', 'HfNiO3', 'CsMoO3', 'KSrO3', 'LiYO3', 'SmGeO3', 'InPtO3', 'BaTaO3', 'NpOsO3', 'ThWO3', 'AlGaO3', 'SrPbO3', 'LiBiO3', 'LuFeO3', 'GeBiO3', 'SmAlO3', 'KPtO3', 'DyScO3', 'TbHoO3', 'ZrZnO3', 'KHoO3', 'LaAlO3', 'BiPtO3', 'YbGeO3', 'RuPbO3', 'KCrO3', 'NiRuO3', 'NpTcO3', 'SrVO3', 'DyBiO3', 'UReO3', 'KTcO3', 'CdRuO3', 'BaMoO3', 'GdInO3', 'InCuO3', 'BiMoO3', 'DyVO3', 'NbBiO3', 'YMoO3', 'TiAlO3', 'GdCrO3', 'SbAsO3', 'TiGeO3', 'NdFeO3', 'SmYO3', 'ErCoO3', 'HfSnO3', 'LaAgO3', 'NaRuO3', 'SrTbO3', 'PmErO3', 'AlTlO3', 'DyCuO3', 'SrZrO3', 'TlGaO3', 'YVO3', 'RbOsO3', 'CaOsO3', 'LaPdO3', 'SmBO3', 'YbSnO3', 'TaSnO3', 'YbScO3', 'LiYbO3', 'EuPdO3', 'BePbO3', 'NaNbO3', 'CoGeO3', 'YLuO3', 'RbTmO3', 'ZnSbO3', 'MnCuO3', 'InFeO3', 'ScBiO3', 'RbHgO3', 'MgWO3', 'TbRhO3', 'CsSrO3', 'TmBiO3', 'YRhO3', 'AcCuO3', 'RbMoO3', 'HfPbO3', 'LaDyO3', 'AgAsO3', 'AcNiO3', 'FeRhO3', 'NpBO3', 'SrMoO3', 'LaSnO3', 'ScCoO3', 'SrEuO3', 'BaTlO3', 'TlGeO3', 'CuBiO3', 'ZnSiO3', 'EuVO3', 'LuNpO3', 'ScRhO3', 'HoSbO3', 'SrGeO3', 'CsTiO3', 'HgAsO3', 'ErInO3', 'BaAlO3', 'CaScO3', 'AcFeO3', 'ScVO3', 'SrRhO3', 'KAsO3', 'TiFeO3', 'TlSbO3', 'RbErO3', 'PmMgO3', 'BeGeO3', 'CsKO3', 'TmCrO3', 'AgPdO3', 'ZnCrO3', 'NdBiO3', 'SbPbO3', 'ZnAuO3', 'LiCdO3', 'CaWO3', 'PaTlO3', 'SrTmO3', 'HoInO3', 'DyNiO3', 'BaMnO3', 'KPaO3', 'EuMoO3', 'YbNbO3', 'NiPtO3', 'ZrOsO3', 'YAgO3', 'YErO3', 'AlCuO3', 'AlPbO3', 'KCoO3', 'PuGaO3', 'RbTlO3', 'LiSiO3', 'MgTiO3', 'CrMoO3', 'CaYO3', 'LiAlO3', 'YBO3', 'UTlO3', 'TcPbO3', 'PuVO3', 'BaZnO3', 'BaCaO3', 'CoNiO3', 'BeCuO3', 'TmScO3', 'ZrCdO3', 'LaZnO3', 'DyCoO3', 'YbZnO3', 'LaInO3', 'KAgO3', 'LiMgO3', 'CaMnO3', 'ScTlO3', 'SrCoO3', 'CsEuO3', 'NpTiO3', 'YAlO3', 'SiAgO3', 'YbReO3', 'NaAgO3', 'LaMgO3', 'CsTbO3', 'SmHoO3', 'BeAuO3', 'ZrPbO3', 'AlMoO3', 'RbPtO3', 'HfCrO3', 'ScAgO3', 'NaGeO3', 'AcMnO3', 'SrMnO3', 'USiO3', 'KNaO3', 'NaMoO3', 'BaUO3', 'YbPdO3', 'BaLiO3', 'BOsO3', 'CsThO3', 'DyHoO3', 'SrHoO3', 'TmAlO3', 'TiSnO3', 'CsSbO3', 'NaIrO3', 'SiSnO3', 'SrTaO3', 'VGeO3', 'CaZnO3', 'UTiO3', 'RbNaO3', 'CrTcO3', 'CsAsO3', 'EuHgO3', 'TbErO3', 'EuSbO3', 'EuIrO3', 'TmRhO3', 'KIrO3', 'NpTaO3', 'YSbO3', 'LaZrO3', 'YbCoO3', 'NdLuO3', 'ScPdO3', 'PuCrO3', 'AlSnO3', 'TbNiO3', 'DyFeO3', 'ZnFeO3', 'GePdO3', 'TmCoO3', 'LaTaO3', 'TbBeO3', 'LaLuO3', 'DyYO3', 'EuAuO3', 'SmErO3', 'LaRhO3', 'SnGeO3', 'RbYO3', 'NiPdO3', 'CsSnO3', 'YbTaO3', 'YbCeO3', 'DyGaO3', 'TbVO3', 'YbPrO3', 'MgTlO3', 'CrFeO3', 'SbTeO3', 'GdCuO3', 'DySnO3', 'FeBO3', 'SrAsO3', 'ZrAlO3', 'YInO3', 'InSbO3', 'HgRuO3', 'CaRuO3', 'CaHoO3', 'CoSbO3', 'CaBeO3', 'ZrBeO3', 'AlAgO3', 'BeZnO3', 'VCuO3', 'TmMnO3', 'CdFeO3', 'CsRuO3', 'PmRuO3', 'SrErO3', 'ZrBO3', 'PrBO3', 'ThSiO3', 'TiCrO3', 'SmVO3', 'BaRuO3', 'GdThO3', 'MnAgO3', 'EuGaO3', 'MgAlO3', 'SrYbO3', 'RbNbO3', 'BeBO3', 'NbTlO3', 'AlPdO3', 'LaTiO3', 'SrDyO3', 'ErFeO3', 'PaSiO3', 'CaNbO3', 'HfMgO3', 'BaCdO3', 'AlFeO3', 'LaCoO3', 'SmInO3', 'CaMgO3', 'CoBiO3', 'NpMoO3', 'PuNiO3', 'LaRuO3', 'BeGaO3', 'TiPbO3', 'CrBO3', 'AcBO3', 'SiBO3', 'BeInO3', 'RbHoO3', 'BaNdO3', 'YbCrO3', 'KAlO3', 'AlNiO3', 'HoSnO3', 'NaTeO3', 'BaSiO3', 'ZrCoO3', 'KBeO3', 'LaErO3', 'ScSnO3', 'NdNiO3', 'ReTeO3', 'RbNiO3', 'VCrO3', 'YbHfO3', 'KErO3', 'MgIrO3', 'KZnO3', 'KRbO3', 'MgVO3', 'SmMnO3', 'SrSiO3', 'KRuO3', 'CdPbO3', 'TiCdO3', 'ThCuO3', 'NaLiO3', 'CdOsO3', 'SmTlO3', 'RbCuO3', 'SmRhO3', 'KPuO3', 'SrTcO3', 'SrAgO3', 'PuTiO3', 'SnHgO3', 'RbTeO3', 'PrRhO3', 'YSiO3', 'CeLuO3', 'LuUO3', 'TbOsO3', 'RbCdO3', 'YbWO3', 'LiLaO3', 'RbFeO3', 'GeBO3', 'BeVO3', 'AlAuO3', 'KTeO3', 'LuBiO3', 'SrSbO3', 'SrScO3', 'RbAsO3', 'RbSnO3', 'ErAlO3', 'PrCrO3', 'HgGeO3', 'MgZrO3', 'ErBiO3', 'CeCuO3', 'ThPdO3', 'BeBiO3', 'CeBO3', 'NdCoO3', 'KMoO3', 'BaNpO3', 'CsGeO3', 'LiLuO3', 'RbBaO3', 'GaNiO3', 'KDyO3', 'MnVO3', 'RbBO3', 'NaPdO3', 'TlFeO3', 'YbSmO3', 'ZnBiO3', 'ThMoO3', 'NdCrO3', 'PrScO3', 'CaSnO3', 'LuGeO3', 'EuUO3', 'CeTmO3', 'RbInO3', 'YbVO3', 'SrBiO3', 'EuAsO3', 'HoCrO3', 'BaRhO3', 'NaAsO3', 'BaEuO3', 'ZnCuO3', 'PmEuO3', 'KSiO3', 'RbRhO3', 'BaBO3', 'NiAsO3', 'HgRhO3', 'RbLiO3', 'EuNiO3', 'YbRhO3', 'KNpO3', 'LaScO3', 'NdRhO3', 'RbAuO3', 'LiFeO3', 'TbScO3', 'BPtO3', 'InAsO3', 'PuPbO3', 'ZrHgO3', 'SnPbO3', 'TbAlO3', 'UBO3', 'ZnRhO3', 'HoTmO3', 'TbMgO3', 'EuBO3', 'CoTeO3', 'MgSnO3', 'LuRhO3', 'SrHfO3', 'CaRhO3', 'KCdO3', 'AgBO3', 'LaBeO3', 'CuHgO3', 'ReSbO3', 'SrPrO3', 'NdBO3', 'LuNiO3', 'PuBO3', 'NbCuO3', 'ZnOsO3', 'SrRuO3', 'ScFeO3', 'EuFeO3', 'SmPuO3', 'BaTmO3', 'GdTmO3', 'HgBiO3', 'RbDyO3', 'HfCdO3', 'SiPbO3', 'DyTmO3', 'BaTiO3', 'NdAlO3', 'GdZrO3', 'TlCoO3', 'TbTmO3', 'TaAgO3', 'LuVO3', 'LiTmO3', 'LaFeO3', 'LuScO3', 'YFeO3', 'AcAlO3', 'AcCrO3', 'EuInO3', 'SmScO3', 'SrBeO3', 'ZrCrO3', 'ErZnO3', 'GeTeO3', 'KTmO3', 'CuTeO3', 'MnHgO3', 'NaBeO3', 'CoRhO3', 'PrAlO3', 'SrNiO3', 'CuSiO3', 'TmVO3', 'CaBO3', 'LiNdO3', 'SrLiO3', 'AcGaO3', 'CeGaO3', 'AgPbO3', 'YbAlO3', 'NaCoO3', 'MnTeO3', 'PaBO3', 'NdScO3', 'CsOsO3', 'MnBO3', 'LaAuO3', 'YbInO3', 'NaFeO3', 'PrMnO3', 'InGaO3', 'CoPbO3', 'LuCrO3', 'CaLaO3', 'TmTlO3', 'ScCrO3', 'CaCrO3', 'AcSiO3', 'DyTiO3', 'EuScO3', 'ThBO3', 'YbBeO3', 'EuTcO3', 'KBaO3', 'BPdO3', 'CrWO3', 'BaGeO3', 'LiHoO3', 'NaNiO3', 'HfMnO3', 'MgRuO3', 'ErNiO3', 'UAlO3', 'HfCoO3', 'AgBiO3', 'FeBiO3', 'VCdO3', 'LaSmO3', 'GdGaO3', 'YMnO3', 'NaSrO3', 'RbAgO3', 'TaBeO3', 'PrVO3', 'NiPbO3', 'CsLaO3', 'CaPbO3', 'BaIrO3', 'EuTiO3', 'LaHoO3', 'CePbO3', 'RbSbO3', 'GdNiO3', 'SbPdO3', 'DyCrO3', 'LiAsO3', 'AlWO3', 'HfBeO3', 'NiSbO3', 'CsNpO3', 'MgRhO3', 'YbTmO3', 'LaCuO3', 'ErScO3', 'LiRuO3', 'PrFeO3', 'TmNiO3', 'ZrMnO3', 'KAuO3', 'TmFeO3', 'AlIrO3', 'MgSiO3', 'HoTiO3', 'SrTiO3', 'SrInO3', 'YbEuO3', 'LuSiO3', 'MnGeO3', 'KMgO3', 'SnBO3', 'CsPaO3', 'NdVO3', 'CaIrO3', 'TbCoO3', 'HfFeO3', 'MnNiO3', 'GaGeO3', 'CeVO3', 'YTiO3', 'LaNiO3', 'CuPbO3', 'LuTiO3', 'KPbO3', 'KVO3', 'TaInO3', 'VIrO3', 'TlCuO3', 'RbNpO3', 'CrPbO3', 'ScGaO3', 'CsUO3', 'NdZrO3', 'MnCoO3', 'HfNpO3', 'AgGeO3', 'UPdO3', 'TbLuO3', 'CeNiO3', 'NaCdO3', 'BaBeO3', 'YOsO3', 'GaBO3', 'LuTlO3', 'SmDyO3', 'PrBeO3', 'CaGeO3', 'AgRuO3', 'MnSnO3', 'HoGeO3', 'YbMnO3', 'EuCrO3', 'PrHfO3', 'ScBO3', 'BeAgO3', 'CrInO3', 'LaCdO3', 'EuBeO3', 'HoRhO3', 'ReBiO3', 'RbTbO3', 'HfZnO3', 'DyAlO3', 'BaInO3', 'TlSiO3', 'ErVO3', 'FeSiO3', 'BaPdO3', 'LiNbO3', 'LiGdO3', 'MnPbO3', 'HoScO3', 'CaPrO3', 'BaTeO3', 'CeSbO3', 'CsVO3', 'KReO3', 'KCaO3', 'AcPdO3', 'YScO3', 'PrTiO3', 'YbFeO3', 'PaBeO3', 'CsMgO3', 'TbSmO3', 'VGaO3', 'MgZnO3', 'LiDyO3', 'MgBiO3', 'NbAgO3', 'NpRuO3', 'RbPaO3', 'EuReO3', 'CeTiO3', 'TiBeO3', 'CoAgO3', 'CsTeO3', 'YbPuO3', 'MgReO3', 'KTbO3', 'BaPaO3', 'VNiO3', 'TbMnO3', 'AlSiO3', 'CrRhO3', 'BeHgO3', 'EuSnO3', 'NaInO3', 'SmSiO3', 'YbBO3', 'NaSiO3', 'ZnGaO3', 'YZrO3', 'RbPdO3', 'MnInO3', 'EuAlO3', 'CuPdO3', 'BaNbO3', 'BaWO3', 'NaAlO3', 'SrReO3', 'EuSiO3', 'AlInO3', 'CsIrO3', 'NdMgO3', 'DyPaO3', 'BaErO3', 'SrPtO3', 'SrNbO3', 'SiHgO3', 'CdBiO3', 'LiEuO3', 'NaVO3', 'CrGeO3', 'PmBeO3', 'KGdO3', 'ZnIrO3', 'AlBiO3', 'MgMoO3', 'TaFeO3', 'EuPtO3', 'YCrO3', 'ErBO3', 'ErBeO3', 'CaBiO3', 'NaTaO3', 'MgHgO3', 'InBiO3', 'EuRhO3', 'NaPuO3', 'SrOsO3', 'CdRhO3', 'ErGaO3', 'CaNiO3', 'RbVO3', 'TmBO3', 'KPdO3', 'YCuO3', 'FeGeO3', 'KLuO3', 'RbAcO3', 'NdGeO3', 'PbAuO3', 'LiTaO3', 'MgUO3', 'YCoO3', 'ZnGeO3', 'CaSiO3', 'ErTlO3', 'NaTiO3', 'TiVO3', 'FeNiO3', 'CaCoO3', 'TbCrO3', 'GaSiO3', 'NaCaO3', 'YSnO3', 'CaTmO3', 'PrLuO3', 'CeScO3', 'GdVO3', 'MnTlO3', 'CsTlO3', 'SmLuO3', 'CsPdO3', 'ScMnO3', 'InCoO3', 'NaOsO3', 'RbMgO3', 'MnGaO3', 'ZrSiO3', 'EuMgO3', 'LiReO3', 'BaScO3', 'GdRhO3', 'OsPbO3', 'BePdO3', 'BaPbO3', 'KWO3', 'PaHgO3', 'SrPuO3', 'LuGaO3', 'KYO3', 'VPtO3', 'RbUO3', 'BIrO3', 'LuPdO3', 'TiMnO3', 'VCoO3', 'PmWO3', 'ZnPbO3', 'KHfO3', 'LuBO3', 'CdTcO3', 'MgSbO3', 'SrTlO3', 'MgInO3', 'HfBO3', 'GdErO3', 'CeRhO3', 'CsYbO3', 'ThBeO3', 'VOsO3', 'BaSnO3', 'LuReO3', 'RbTaO3', 'CaCuO3', 'LiBeO3', 'SrSnO3', 'KUO3', 'TbTiO3', 'KInO3', 'TlTcO3', 'DyRhO3', 'EuHfO3', 'CsCdO3', 'TmTiO3', 'AlCoO3', 'BiSbO3', 'ErCuO3', 'BaTbO3', 'VTeO3', 'TbTeO3', 'KScO3', 'TiCuO3', 'TbSiO3', 'SrCuO3', 'NiTeO3', 'TcSnO3', 'GdBeO3', 'TlNiO3', 'BaNiO3', 'CeFeO3', 'ErMnO3', 'BSbO3', 'TmBeO3', 'VAgO3', 'TlWO3', 'RbReO3', 'EuNbO3', 'MgCuO3', 'LaAsO3', 'PrGaO3', 'BPbO3', 'HfHgO3', 'ScAlO3', 'MgCrO3', 'NdInO3', 'NaReO3', 'EuMnO3', 'LiOsO3', 'RbSmO3', 'NaYbO3', 'CaSbO3', 'KLiO3', 'MnSiO3', 'SrCaO3', 'GePbO3', 'CrCuO3', 'ErLuO3', 'NdMnO3', 'NpBeO3', 'TiHgO3', 'HgOsO3', 'KNbO3', 'RbPuO3', 'RbCaO3', 'SiMoO3', 'SiPdO3', 'KSbO3', 'TbCuO3', 'CeAlO3', 'ErCrO3', 'PrNbO3', 'VSiO3', 'LuAlO3', 'RbWO3', 'NaPaO3', 'LiPaO3', 'CeMnO3', 'TiCoO3', 'CsSmO3', 'AcScO3', 'HoBO3', 'CdIrO3', 'TbGaO3', 'CuAsO3', 'AcTiO3', 'ErTaO3', 'SiBiO3', 'PrNiO3', 'GdScO3', 'AlCrO3', 'YNiO3', 'BaZrO3', 'ZnTeO3', 'DyBO3', 'CdGeO3', 'FeAgO3', 'VBO3', 'CdSiO3', 'CeBeO3', 'NdReO3', 'BaOsO3', 'MnFeO3', 'LiCaO3', 'YbPtO3', 'KTiO3', 'SmBeO3', 'DyErO3', 'NaUO3', 'AlBO3', 'CeCrO3', 'UHgO3', 'GaBiO3', 'YTmO3', 'BaPrO3', 'YbBiO3', 'NaWO3', 'BaCuO3', 'HoCuO3', 'BAuO3', 'LiUO3', 'MgPbO3', 'PrTlO3', 'YWO3', 'PrPbO3', 'GaTeO3', 'BTeO3', 'TaCuO3', 'AlSbO3', 'DyInO3', 'BiBO3', 'CsAuO3', 'NdBeO3', 'CaTeO3', 'ZnWO3', 'LuCoO3', 'SmTiO3', 'ScTiO3', 'UIrO3', 'KOsO3', 'CaMoO3', 'PuMgO3', 'EuWO3', 'AlVO3', 'SmNiO3', 'MgFeO3', 'KFeO3', 'BaDyO3', 'CePuO3', 'YbSiO3', 'RbGdO3', 'TiBO3', 'CaFeO3', 'EuZrO3', 'BaPuO3', 'TbGdO3', 'PrBiO3', 'LuMnO3', 'LaBO3', 'VHgO3', 'SiGeO3', 'SrHgO3', 'YbTcO3', 'FeSnO3', 'NiMoO3', 'CaHfO3', 'RbZnO3', 'BeOsO3', 'EuCoO3', 'NbFeO3', 'LiVO3', 'HoAlO3', 'NaMgO3', 'CdBO3']\n"
          ]
        }
      ]
    },
    {
      "cell_type": "code",
      "source": [
        "\n",
        "\n",
        "unq_pret_cl_data = data.drop_duplicates(subset=\"pretty_formula\")\n",
        "new_data = unq_pret_cl_data[unq_pret_cl_data[\"pretty_formula\"].isin(combined_list)].reset_index()\n",
        "\n",
        "unq_ChemF_cl_OQMD_data = OQMD_dataset.drop_duplicates(subset=\"Chemical formula\")\n",
        "new_OQMD_dataset  = unq_ChemF_cl_OQMD_data[unq_ChemF_cl_OQMD_data[\"Chemical formula\"].isin(combined_list)].reset_index()"
      ],
      "metadata": {
        "id": "5REwxl0zg-QZ"
      },
      "execution_count": null,
      "outputs": []
    },
    {
      "cell_type": "code",
      "source": [
        "plt.hist(new_data['formation_energy_per_atom'].values, bins=20, color=\"c\", edgecolor=\"k\", label = \"Material Science Data\")\n",
        "plt.hist(new_OQMD_dataset[\"Formation energy [eV/atom]\"].values, bins=20, color=\"g\", edgecolor=\"k\", label = \"OQMD Data\")\n",
        "\n",
        "mean_new_data = statistics.mean(new_data['formation_energy_per_atom'].values)\n",
        "stdev_new_data = statistics.stdev(new_data['formation_energy_per_atom'].values)\n",
        "\n",
        "mean_OQMD_data = statistics.mean(new_OQMD_dataset[\"Formation energy [eV/atom]\"].values)\n",
        "stdev_OQMD_data = statistics.stdev(new_OQMD_dataset[\"Formation energy [eV/atom]\"].values)\n",
        "\n",
        "plt.axvline(mean_new_data, color = 'b', linestyle=\"dashed\", label=\"Mean MP_data\")\n",
        "plt.axvline(mean_new_data + stdev_new_data, color = 'purple', linestyle=\"dashed\", label=\"Mean MP_data + σ\")\n",
        "plt.axvline(mean_new_data - stdev_new_data, color = 'red', linestyle=\"dashed\", label=\"Mean MP_data - σ\")\n",
        "\n",
        "plt.axvline(mean_OQMD_data, color = 'yellow', linestyle=\"dashed\", label=\"Mean OQMD_data\")\n",
        "plt.axvline(mean_OQMD_data + stdev_OQMD_data, color = 'pink', linestyle=\"dashed\", label=\"Mean OQMD_data + σ\")\n",
        "plt.axvline(mean_OQMD_data - stdev_OQMD_data, color = 'orange', linestyle=\"dashed\", label=\"Mean OQMD_data - σ\")\n",
        "plt.legend()\n",
        "\n",
        "plt.xlabel(\"Formation Energy [eV/atom]\")\n",
        "plt.legend()\n",
        "plt.show()"
      ],
      "metadata": {
        "colab": {
          "base_uri": "https://localhost:8080/",
          "height": 279
        },
        "id": "A9HnH8otrdh-",
        "outputId": "9fc288fa-586b-484a-ef11-70dc0f850249"
      },
      "execution_count": null,
      "outputs": [
        {
          "output_type": "display_data",
          "data": {
            "text/plain": [
              "<Figure size 432x288 with 1 Axes>"
            ],
            "image/png": "[encoded data removed]"
          },
          "metadata": {
            "needs_background": "light"
          }
        }
      ]
    },
    {
      "cell_type": "code",
      "source": [
        "plt.hist(new_OQMD_dataset[\"Formation energy [eV/atom]\"].values, bins=20, color=\"g\", edgecolor=\"k\", label = \"OQMD Data\")\n",
        "plt.hist(new_data['formation_energy_per_atom'].values, bins=20, color=\"c\", edgecolor=\"k\", label = \"Material Science Data\")\n",
        "\n",
        "mean_new_data = statistics.mean(new_data['formation_energy_per_atom'].values)\n",
        "stdev_new_data = statistics.stdev(new_data['formation_energy_per_atom'].values)\n",
        "\n",
        "mean_OQMD_data = statistics.mean(new_OQMD_dataset[\"Formation energy [eV/atom]\"].values)\n",
        "stdev_OQMD_data = statistics.stdev(new_OQMD_dataset[\"Formation energy [eV/atom]\"].values)\n",
        "\n",
        "plt.axvline(mean_new_data, color = 'b', linestyle=\"dashed\", label=\"Mean MP_data\")\n",
        "plt.axvline(mean_new_data + stdev_new_data, color = 'purple', linestyle=\"dashed\", label=\"Mean MP_data + σ\")\n",
        "plt.axvline(mean_new_data - stdev_new_data, color = 'red', linestyle=\"dashed\", label=\"Mean MP_data - σ\")\n",
        "\n",
        "plt.axvline(mean_OQMD_data, color = 'yellow', linestyle=\"dashed\", label=\"Mean OQMD_data\")\n",
        "plt.axvline(mean_OQMD_data + stdev_OQMD_data, color = 'pink', linestyle=\"dashed\", label=\"Mean OQMD_data + σ\")\n",
        "plt.axvline(mean_OQMD_data - stdev_OQMD_data, color = 'orange', linestyle=\"dashed\", label=\"Mean OQMD_data - σ\")\n",
        "plt.legend()\n",
        "\n",
        "plt.xlabel(\"Formation Energy [eV/atom]\")\n",
        "plt.legend()\n",
        "plt.show()"
      ],
      "metadata": {
        "colab": {
          "base_uri": "https://localhost:8080/",
          "height": 279
        },
        "id": "iGMfUEQFzzlY",
        "outputId": "5a8bb4a9-7a6b-4324-b239-e136aa615d9e"
      },
      "execution_count": null,
      "outputs": [
        {
          "output_type": "display_data",
          "data": {
            "text/plain": [
              "<Figure size 432x288 with 1 Axes>"
            ],
            "image/png": "[encoded data removed]"
          },
          "metadata": {
            "needs_background": "light"
          }
        }
      ]
    },
    {
      "cell_type": "code",
      "source": [
        "from scipy import stats\n",
        "\n",
        "result = stats.ttest_ind(new_OQMD_dataset[\"Formation energy [eV/atom]\"].values, new_data['formation_energy_per_atom'].values)\n",
        "print(result)\n",
        "print(f\"The P value is {result}. This is lower than 0.05 which indicates that\\nthere is a statistically significant difference between the Material Science dataset and the OQMD dataset.\")"
      ],
      "metadata": {
        "colab": {
          "base_uri": "https://localhost:8080/"
        },
        "id": "bE66EQpSz6OQ",
        "outputId": "3982fb5f-356f-46b5-ce49-2e93d7f78012"
      },
      "execution_count": null,
      "outputs": [
        {
          "output_type": "stream",
          "name": "stdout",
          "text": [
            "Ttest_indResult(statistic=7.446181706729799, pvalue=1.333855555406367e-13)\n",
            "The P value is Ttest_indResult(statistic=7.446181706729799, pvalue=1.333855555406367e-13). This is lower than 0.05 which indicates that\n",
            "there is a statistically significant difference between the Material Science dataset and the OQMD dataset.\n"
          ]
        }
      ]
    },
    {
      "cell_type": "markdown",
      "source": [
        "This significant difference may be due to different calculation methods being used by Material Project and the OQMD dataset researchers leading to different formation energies for the ABO3 compounds. This difference in calculation methods and/or constants used to calculate the formation energies is likely due to the OQMD dataset being outdated compared to the Material Project dataset, which (unlike the OQMD dataset) is frequently updated, as the OQMD dataset has been published in 2017 (5 years from now)."
      ],
      "metadata": {
        "id": "CUoJAlf5AoBH"
      }
    },
    {
      "cell_type": "code",
      "source": [
        "orig_data = pd.read_csv(\"/content/drive/MyDrive/data\", na_filter=False)\n",
        "orig_data\n"
      ],
      "metadata": {
        "colab": {
          "base_uri": "https://localhost:8080/",
          "height": 424
        },
        "id": "T1pj3ybDBMdS",
        "outputId": "db85e2b8-ebc1-4046-cd10-3c60d0f2480d"
      },
      "execution_count": null,
      "outputs": [
        {
          "output_type": "execute_result",
          "data": {
            "text/plain": [
              "           task_id     formula  formation_energy_per_atom  e_above_hull  \\\n",
              "0       mp-1007923       CrNi3                  -0.016354      0.000802   \n",
              "1       mp-1008754       TbHg2                  -0.069428      0.329909   \n",
              "2       mp-1016886       MgVO3                  -2.241438      0.545977   \n",
              "3       mp-1018902      PrSbPt                  -1.111238      0.000000   \n",
              "4       mp-1020595      Rb8PO3                  -0.772860      0.491666   \n",
              "...            ...         ...                        ...           ...   \n",
              "124510    mvc-9995   Zn(MoO2)2                  -1.774105      0.170001   \n",
              "124511    mvc-9996      MgV2O4                  -2.669536      0.053871   \n",
              "124512    mvc-9997   Ca(CoO2)2                  -1.777514      0.161485   \n",
              "124513    mvc-9998   CaLaCrWO6                  -2.890804      0.061516   \n",
              "124514    mvc-9999  CaLaCrSnO6                  -2.921317      0.033726   \n",
              "\n",
              "        band_gap  has_bandstructure  \n",
              "0         0.0000              False  \n",
              "1         0.0000               True  \n",
              "2         0.0000               True  \n",
              "3         0.0000               True  \n",
              "4         0.0000               True  \n",
              "...          ...                ...  \n",
              "124510    0.6809               True  \n",
              "124511    1.4898               True  \n",
              "124512    0.0000               True  \n",
              "124513    2.1305               True  \n",
              "124514    2.3708               True  \n",
              "\n",
              "[124515 rows x 6 columns]"
            ],
            "text/html": [
              "\n",
              "  <div id=\"df-b7e5967b-42d0-459f-b6dc-c9d1c64b6a10\">\n",
              "    <div class=\"colab-df-container\">\n",
              "      <div>\n",
              "<style scoped>\n",
              "    .dataframe tbody tr th:only-of-type {\n",
              "        vertical-align: middle;\n",
              "    }\n",
              "\n",
              "    .dataframe tbody tr th {\n",
              "        vertical-align: top;\n",
              "    }\n",
              "\n",
              "    .dataframe thead th {\n",
              "        text-align: right;\n",
              "    }\n",
              "</style>\n",
              "<table border=\"1\" class=\"dataframe\">\n",
              "  <thead>\n",
              "    <tr style=\"text-align: right;\">\n",
              "      <th></th>\n",
              "      <th>task_id</th>\n",
              "      <th>formula</th>\n",
              "      <th>formation_energy_per_atom</th>\n",
              "      <th>e_above_hull</th>\n",
              "      <th>band_gap</th>\n",
              "      <th>has_bandstructure</th>\n",
              "    </tr>\n",
              "  </thead>\n",
              "  <tbody>\n",
              "    <tr>\n",
              "      <th>0</th>\n",
              "      <td>mp-1007923</td>\n",
              "      <td>CrNi3</td>\n",
              "      <td>-0.016354</td>\n",
              "      <td>0.000802</td>\n",
              "      <td>0.0000</td>\n",
              "      <td>False</td>\n",
              "    </tr>\n",
              "    <tr>\n",
              "      <th>1</th>\n",
              "      <td>mp-1008754</td>\n",
              "      <td>TbHg2</td>\n",
              "      <td>-0.069428</td>\n",
              "      <td>0.329909</td>\n",
              "      <td>0.0000</td>\n",
              "      <td>True</td>\n",
              "    </tr>\n",
              "    <tr>\n",
              "      <th>2</th>\n",
              "      <td>mp-1016886</td>\n",
              "      <td>MgVO3</td>\n",
              "      <td>-2.241438</td>\n",
              "      <td>0.545977</td>\n",
              "      <td>0.0000</td>\n",
              "      <td>True</td>\n",
              "    </tr>\n",
              "    <tr>\n",
              "      <th>3</th>\n",
              "      <td>mp-1018902</td>\n",
              "      <td>PrSbPt</td>\n",
              "      <td>-1.111238</td>\n",
              "      <td>0.000000</td>\n",
              "      <td>0.0000</td>\n",
              "      <td>True</td>\n",
              "    </tr>\n",
              "    <tr>\n",
              "      <th>4</th>\n",
              "      <td>mp-1020595</td>\n",
              "      <td>Rb8PO3</td>\n",
              "      <td>-0.772860</td>\n",
              "      <td>0.491666</td>\n",
              "      <td>0.0000</td>\n",
              "      <td>True</td>\n",
              "    </tr>\n",
              "    <tr>\n",
              "      <th>...</th>\n",
              "      <td>...</td>\n",
              "      <td>...</td>\n",
              "      <td>...</td>\n",
              "      <td>...</td>\n",
              "      <td>...</td>\n",
              "      <td>...</td>\n",
              "    </tr>\n",
              "    <tr>\n",
              "      <th>124510</th>\n",
              "      <td>mvc-9995</td>\n",
              "      <td>Zn(MoO2)2</td>\n",
              "      <td>-1.774105</td>\n",
              "      <td>0.170001</td>\n",
              "      <td>0.6809</td>\n",
              "      <td>True</td>\n",
              "    </tr>\n",
              "    <tr>\n",
              "      <th>124511</th>\n",
              "      <td>mvc-9996</td>\n",
              "      <td>MgV2O4</td>\n",
              "      <td>-2.669536</td>\n",
              "      <td>0.053871</td>\n",
              "      <td>1.4898</td>\n",
              "      <td>True</td>\n",
              "    </tr>\n",
              "    <tr>\n",
              "      <th>124512</th>\n",
              "      <td>mvc-9997</td>\n",
              "      <td>Ca(CoO2)2</td>\n",
              "      <td>-1.777514</td>\n",
              "      <td>0.161485</td>\n",
              "      <td>0.0000</td>\n",
              "      <td>True</td>\n",
              "    </tr>\n",
              "    <tr>\n",
              "      <th>124513</th>\n",
              "      <td>mvc-9998</td>\n",
              "      <td>CaLaCrWO6</td>\n",
              "      <td>-2.890804</td>\n",
              "      <td>0.061516</td>\n",
              "      <td>2.1305</td>\n",
              "      <td>True</td>\n",
              "    </tr>\n",
              "    <tr>\n",
              "      <th>124514</th>\n",
              "      <td>mvc-9999</td>\n",
              "      <td>CaLaCrSnO6</td>\n",
              "      <td>-2.921317</td>\n",
              "      <td>0.033726</td>\n",
              "      <td>2.3708</td>\n",
              "      <td>True</td>\n",
              "    </tr>\n",
              "  </tbody>\n",
              "</table>\n",
              "<p>124515 rows × 6 columns</p>\n",
              "</div>\n",
              "      <button class=\"colab-df-convert\" onclick=\"convertToInteractive('df-b7e5967b-42d0-459f-b6dc-c9d1c64b6a10')\"\n",
              "              title=\"Convert this dataframe to an interactive table.\"\n",
              "              style=\"display:none;\">\n",
              "        \n",
              "  <svg xmlns=\"http://www.w3.org/2000/svg\" height=\"24px\"viewBox=\"0 0 24 24\"\n",
              "       width=\"24px\">\n",
              "    <path d=\"M0 0h24v24H0V0z\" fill=\"none\"/>\n",
              "    <path d=\"M18.56 5.44l.94 2.06.94-2.06 2.06-.94-2.06-.94-.94-2.06-.94 2.06-2.06.94zm-11 1L8.5 8.5l.94-2.06 2.06-.94-2.06-.94L8.5 2.5l-.94 2.06-2.06.94zm10 10l.94 2.06.94-2.06 2.06-.94-2.06-.94-.94-2.06-.94 2.06-2.06.94z\"/><path d=\"M17.41 7.96l-1.37-1.37c-.4-.4-.92-.59-1.43-.59-.52 0-1.04.2-1.43.59L10.3 9.45l-7.72 7.72c-.78.78-.78 2.05 0 2.83L4 21.41c.39.39.9.59 1.41.59.51 0 1.02-.2 1.41-.59l7.78-7.78 2.81-2.81c.8-.78.8-2.07 0-2.86zM5.41 20L4 18.59l7.72-7.72 1.47 1.35L5.41 20z\"/>\n",
              "  </svg>\n",
              "      </button>\n",
              "      \n",
              "  <style>\n",
              "    .colab-df-container {\n",
              "      display:flex;\n",
              "      flex-wrap:wrap;\n",
              "      gap: 12px;\n",
              "    }\n",
              "\n",
              "    .colab-df-convert {\n",
              "      background-color: #E8F0FE;\n",
              "      border: none;\n",
              "      border-radius: 50%;\n",
              "      cursor: pointer;\n",
              "      display: none;\n",
              "      fill: #1967D2;\n",
              "      height: 32px;\n",
              "      padding: 0 0 0 0;\n",
              "      width: 32px;\n",
              "    }\n",
              "\n",
              "    .colab-df-convert:hover {\n",
              "      background-color: #E2EBFA;\n",
              "      box-shadow: 0px 1px 2px rgba(60, 64, 67, 0.3), 0px 1px 3px 1px rgba(60, 64, 67, 0.15);\n",
              "      fill: #174EA6;\n",
              "    }\n",
              "\n",
              "    [theme=dark] .colab-df-convert {\n",
              "      background-color: #3B4455;\n",
              "      fill: #D2E3FC;\n",
              "    }\n",
              "\n",
              "    [theme=dark] .colab-df-convert:hover {\n",
              "      background-color: #434B5C;\n",
              "      box-shadow: 0px 1px 3px 1px rgba(0, 0, 0, 0.15);\n",
              "      filter: drop-shadow(0px 1px 2px rgba(0, 0, 0, 0.3));\n",
              "      fill: #FFFFFF;\n",
              "    }\n",
              "  </style>\n",
              "\n",
              "      <script>\n",
              "        const buttonEl =\n",
              "          document.querySelector('#df-b7e5967b-42d0-459f-b6dc-c9d1c64b6a10 button.colab-df-convert');\n",
              "        buttonEl.style.display =\n",
              "          google.colab.kernel.accessAllowed ? 'block' : 'none';\n",
              "\n",
              "        async function convertToInteractive(key) {\n",
              "          const element = document.querySelector('#df-b7e5967b-42d0-459f-b6dc-c9d1c64b6a10');\n",
              "          const dataTable =\n",
              "            await google.colab.kernel.invokeFunction('convertToInteractive',\n",
              "                                                     [key], {});\n",
              "          if (!dataTable) return;\n",
              "\n",
              "          const docLinkHtml = 'Like what you see? Visit the ' +\n",
              "            '<a target=\"_blank\" href=https://colab.research.google.com/notebooks/data_table.ipynb>data table notebook</a>'\n",
              "            + ' to learn more about interactive tables.';\n",
              "          element.innerHTML = '';\n",
              "          dataTable['output_type'] = 'display_data';\n",
              "          await google.colab.output.renderOutput(dataTable, element);\n",
              "          const docLink = document.createElement('div');\n",
              "          docLink.innerHTML = docLinkHtml;\n",
              "          element.appendChild(docLink);\n",
              "        }\n",
              "      </script>\n",
              "    </div>\n",
              "  </div>\n",
              "  "
            ]
          },
          "metadata": {},
          "execution_count": 18
        }
      ]
    },
    {
      "cell_type": "code",
      "source": [
        "from pymatgen.core import Composition\n",
        "import collections\n",
        "import functools\n",
        "import operator\n",
        "\n",
        "combined_elements_set = set()\n",
        "length_el = []\n",
        "combined_elements_list = []\n",
        "el_to_count = {}\n",
        "for i in orig_data[\"formula\"].values:\n",
        "  comp = Composition(i)\n",
        "  length_el.append(len(comp.elements))\n",
        "  for i in comp.elements:\n",
        "    combined_elements_set.add(i)\n",
        "    combined_elements_list.append(i)\n",
        "\n",
        "# sum the values with same keys\n",
        "#el_to_count = dict(functools.reduce(operator.add, map(collections.Counter, el_to_count)))\n",
        "\n",
        "\n",
        "max_el = max(length_el)\n",
        "print(f\"There are {len(combined_elements_set)} unique elements in the dataset.\\n\\nThe maximum number of elements in a single structure is {max_el}.\")"
      ],
      "metadata": {
        "colab": {
          "base_uri": "https://localhost:8080/"
        },
        "id": "2-sUGBlqWXzY",
        "outputId": "5ec793f2-6ffc-44a5-8b7f-558adb776de3"
      },
      "execution_count": null,
      "outputs": [
        {
          "output_type": "stream",
          "name": "stdout",
          "text": [
            "There are 89 unique elements in the dataset.\n",
            "\n",
            "The maximum number of elements in a single structure is 9.\n"
          ]
        }
      ]
    },
    {
      "cell_type": "code",
      "source": [
        "for i in list(combined_elements_set):\n",
        "  el_to_count[str(i)] = combined_elements_list.count(i)\n",
        "print(el_to_count)"
      ],
      "metadata": {
        "colab": {
          "base_uri": "https://localhost:8080/"
        },
        "id": "VTLShOb1sC3K",
        "outputId": "c1cd3a18-7fa5-4fb5-be31-4057e77c4da3"
      },
      "execution_count": null,
      "outputs": [
        {
          "output_type": "stream",
          "name": "stdout",
          "text": [
            "{'H': 8067, 'He': 8, 'Li': 18580, 'Be': 1065, 'B': 5405, 'C': 7521, 'N': 9723, 'O': 60428, 'F': 9606, 'Ne': 1, 'Na': 7296, 'Mg': 8711, 'Al': 6446, 'Si': 8940, 'P': 13321, 'S': 10516, 'Cl': 5608, 'Ar': 2, 'K': 6398, 'Ca': 6328, 'Sc': 2060, 'Ti': 5723, 'V': 7276, 'Cr': 5368, 'Mn': 11233, 'Fe': 10109, 'Co': 8612, 'Ni': 6767, 'Cu': 7999, 'Zn': 5235, 'Ga': 4024, 'Ge': 4482, 'As': 3425, 'Se': 5500, 'Br': 2691, 'Kr': 15, 'Rb': 3814, 'Sr': 5117, 'Y': 3814, 'Zr': 2722, 'Nb': 3248, 'Mo': 4226, 'Tc': 648, 'Ru': 2145, 'Rh': 2298, 'Pd': 2755, 'Ag': 3540, 'Cd': 2880, 'In': 3599, 'Sn': 4722, 'Sb': 4630, 'Te': 4167, 'I': 2715, 'Xe': 147, 'Cs': 3549, 'Ba': 6092, 'La': 4256, 'Ce': 2650, 'Pr': 2276, 'Nd': 2574, 'Pm': 515, 'Sm': 2335, 'Eu': 1610, 'Gd': 1444, 'Tb': 1741, 'Dy': 1874, 'Ho': 1886, 'Er': 1930, 'Tm': 1495, 'Yb': 1872, 'Lu': 1465, 'Hf': 1642, 'Ta': 2384, 'W': 3683, 'Re': 1313, 'Os': 1107, 'Ir': 1861, 'Pt': 2224, 'Au': 2343, 'Hg': 2127, 'Tl': 2632, 'Pb': 2624, 'Bi': 3782, 'Ac': 297, 'Th': 972, 'Pa': 253, 'U': 2061, 'Np': 340, 'Pu': 388}\n"
          ]
        }
      ]
    },
    {
      "cell_type": "code",
      "source": [
        "import numpy as np\n",
        "X = np.unique(length_el)\n",
        "Y = []\n",
        "for i in X:\n",
        "  Y.append(length_el.count(i))\n",
        "\n",
        "plt.bar(x = X, height = Y, log = True)\n",
        "plt.xlabel(\"Number of elements in a single structure\")\n",
        "plt.ylabel(\"Number of materials with the number of elements in X\")\n",
        "plt.show()"
      ],
      "metadata": {
        "colab": {
          "base_uri": "https://localhost:8080/",
          "height": 307
        },
        "id": "gCAdwa2cc2xh",
        "outputId": "27105a72-6298-485c-c5d1-8b5b73b6f1fd"
      },
      "execution_count": null,
      "outputs": [
        {
          "output_type": "display_data",
          "data": {
            "text/plain": [
              "<Figure size 432x288 with 1 Axes>"
            ],
            "image/png": "[encoded data removed]"
          },
          "metadata": {
            "needs_background": "light"
          }
        }
      ]
    },
    {
      "cell_type": "code",
      "source": [
        "sorted_elements = sorted(el_to_count, key=el_to_count.get)\n",
        "print(f\"The 10 most common elements in this dataset are {sorted_elements[-10:][::-1]}\\nThe 10 least common elements in this dataset are {sorted_elements[:10]}\")"
      ],
      "metadata": {
        "colab": {
          "base_uri": "https://localhost:8080/"
        },
        "id": "H-6F_tELuMte",
        "outputId": "bb887de7-4218-46d3-90f1-15ce5bba0f4f"
      },
      "execution_count": null,
      "outputs": [
        {
          "output_type": "stream",
          "name": "stdout",
          "text": [
            "The 10 most common elements in this dataset are ['O', 'Li', 'P', 'Mn', 'S', 'Fe', 'N', 'F', 'Si', 'Mg']\n",
            "The 10 least common elements in this dataset are ['Ne', 'Ar', 'He', 'Kr', 'Xe', 'Pa', 'Ac', 'Np', 'Pu', 'Pm']\n"
          ]
        }
      ]
    }
  ]
}