{
  "cells": [
    {
      "cell_type": "markdown",
      "metadata": {
        "papermill": {
          "duration": 0.021928,
          "end_time": "2020-09-08T03:15:55.361283",
          "exception": false,
          "start_time": "2020-09-08T03:15:55.339355",
          "status": "completed"
        },
        "tags": [],
        "id": "vdJ2E_GpWh_A"
      },
      "source": [
        "# Predicting Loan Repayment\n",
        "\n",
        "\n",
        "The dataset for this project is retrieved from kaggle, the home of Data Science.\n",
        "\n",
        "The major aim of this project is to predict whether the customers will have their loan paid or not. Therefore, this is a supervised classification problem to be trained."
      ]
    },
    {
      "cell_type": "markdown",
      "metadata": {
        "papermill": {
          "duration": 0.02001,
          "end_time": "2020-09-08T03:15:55.401984",
          "exception": false,
          "start_time": "2020-09-08T03:15:55.381974",
          "status": "completed"
        },
        "tags": [],
        "id": "IFl_mj9SWh_G"
      },
      "source": [
        "### **1- Importing Libraries**"
      ]
    },
    {
      "cell_type": "code",
      "source": [
        "# Import the following Libraries\n",
        "# numpy\n",
        "# pandas\n",
        "# matplotlib plotting software\n",
        "# seaborn \n",
        "# Make matplotlib available through all code boxes\n",
        "\n",
        "import numpy as np\n",
        "import pandas as pd\n",
        "import matplotlib.pyplot as plt\n",
        "import seaborn as sns\n",
        "\n",
        "# From Sklearn you'll have to look up from where here. \n",
        "from sklearn.preprocessing import LabelEncoder\n",
        "from sklearn.model_selection import train_test_split\n",
        "from sklearn.linear_model import LogisticRegression\n",
        "from sklearn.metrics import confusion_matrix\n",
        "from sklearn.metrics import classification_report\n",
        "from sklearn.metrics import accuracy_score\n",
        "from sklearn.tree import DecisionTreeClassifier\n",
        "from sklearn.ensemble import RandomForestClassifier\n",
        "from sklearn.neighbors import KNeighborsClassifier\n",
        "from sklearn.svm import SVC\n",
        "from sklearn.model_selection import GridSearchCV\n",
        "\n",
        "# Label Encoder, train test split, logisitic regression, confusion_matrix, classification_report,accuracy_score\n",
        "# DecisionTreeClassifier, RandomForestClassifier, KNeighborsClassifier,  SVC, GridSearchCV\n",
        "\n",
        "# Plotly Express\n",
        "import plotly.express as px\n",
        "\n"
      ],
      "metadata": {
        "id": "RJf_vc5mXYOu"
      },
      "execution_count": 2,
      "outputs": []
    },
    {
      "cell_type": "markdown",
      "metadata": {
        "papermill": {
          "duration": 0.0203,
          "end_time": "2020-09-08T03:15:58.543518",
          "exception": false,
          "start_time": "2020-09-08T03:15:58.523218",
          "status": "completed"
        },
        "tags": [],
        "id": "T-E5wmDvWh_J"
      },
      "source": [
        "### **2- Getting Data**"
      ]
    },
    {
      "cell_type": "code",
      "execution_count": 3,
      "metadata": {
        "execution": {
          "iopub.execute_input": "2020-09-08T03:15:58.596255Z",
          "iopub.status.busy": "2020-09-08T03:15:58.594912Z",
          "iopub.status.idle": "2020-09-08T03:15:58.615955Z",
          "shell.execute_reply": "2020-09-08T03:15:58.616654Z"
        },
        "papermill": {
          "duration": 0.052871,
          "end_time": "2020-09-08T03:15:58.616870",
          "exception": false,
          "start_time": "2020-09-08T03:15:58.563999",
          "status": "completed"
        },
        "tags": [],
        "id": "GAVriiMfWh_J",
        "colab": {
          "resources": {
            "http://localhost:8080/nbextensions/google.colab/files.js": {
              "data": "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",
              "ok": true,
              "headers": [
                [
                  "content-type",
                  "application/javascript"
                ]
              ],
              "status": 200,
              "status_text": ""
            }
          },
          "base_uri": "https://localhost:8080/",
          "height": 73
        },
        "outputId": "9f61cc38-7975-4ded-9a1d-957e2bcb60a9"
      },
      "outputs": [
        {
          "output_type": "display_data",
          "data": {
            "text/plain": [
              "<IPython.core.display.HTML object>"
            ],
            "text/html": [
              "\n",
              "     <input type=\"file\" id=\"files-2c1ed39d-0341-4b46-80f7-7b08eb02b79f\" name=\"files[]\" multiple disabled\n",
              "        style=\"border:none\" />\n",
              "     <output id=\"result-2c1ed39d-0341-4b46-80f7-7b08eb02b79f\">\n",
              "      Upload widget is only available when the cell has been executed in the\n",
              "      current browser session. Please rerun this cell to enable.\n",
              "      </output>\n",
              "      <script src=\"/nbextensions/google.colab/files.js\"></script> "
            ]
          },
          "metadata": {}
        },
        {
          "output_type": "stream",
          "name": "stdout",
          "text": [
            "Saving LoanData.csv to LoanData.csv\n"
          ]
        }
      ],
      "source": [
        "# read the data from the csv into a dataframe\n",
        "from google.colab import files\n",
        "import io\n",
        "uploaded = files.upload()\n",
        "df = pd.read_csv(io.BytesIO(uploaded['LoanData.csv']))"
      ]
    },
    {
      "cell_type": "code",
      "source": [
        "# show the top 4 lines of the dataframe\n",
        "print(df.head(4))"
      ],
      "metadata": {
        "id": "v_MnpyhgYe2D",
        "colab": {
          "base_uri": "https://localhost:8080/"
        },
        "outputId": "6f7a81fe-f3b7-4356-b585-3b800f7d20a3"
      },
      "execution_count": 4,
      "outputs": [
        {
          "output_type": "stream",
          "name": "stdout",
          "text": [
            "    Loan_ID Gender Married Dependents Education Self_Employed  \\\n",
            "0  LP001015   Male     Yes          0  Graduate            No   \n",
            "1  LP001022   Male     Yes          1  Graduate            No   \n",
            "2  LP001031   Male     Yes          2  Graduate            No   \n",
            "3  LP001035   Male     Yes          2  Graduate            No   \n",
            "\n",
            "   ApplicantIncome  CoapplicantIncome  LoanAmount  Loan_Amount_Term  \\\n",
            "0             5720                  0       110.0             360.0   \n",
            "1             3076               1500       126.0             360.0   \n",
            "2             5000               1800       208.0             360.0   \n",
            "3             2340               2546       100.0             360.0   \n",
            "\n",
            "   Credit_History Property_Area  \n",
            "0             1.0         Urban  \n",
            "1             1.0         Urban  \n",
            "2             1.0         Urban  \n",
            "3             NaN         Urban  \n"
          ]
        }
      ]
    },
    {
      "cell_type": "code",
      "source": [
        "# show the shape of the dataframe\n",
        "print(df.shape)"
      ],
      "metadata": {
        "id": "5n1cMzdWYmZJ",
        "colab": {
          "base_uri": "https://localhost:8080/"
        },
        "outputId": "fe10f76a-d54a-4921-8ae7-b97286f474fd"
      },
      "execution_count": 5,
      "outputs": [
        {
          "output_type": "stream",
          "name": "stdout",
          "text": [
            "(367, 12)\n"
          ]
        }
      ]
    },
    {
      "cell_type": "markdown",
      "metadata": {
        "papermill": {
          "duration": 0.02076,
          "end_time": "2020-09-08T03:15:58.836898",
          "exception": false,
          "start_time": "2020-09-08T03:15:58.816138",
          "status": "completed"
        },
        "tags": [],
        "id": "5SpbLalUWh_M"
      },
      "source": [
        "##### 2-1-Renaming columns"
      ]
    },
    {
      "cell_type": "code",
      "execution_count": 6,
      "metadata": {
        "execution": {
          "iopub.execute_input": "2020-09-08T03:15:58.887370Z",
          "iopub.status.busy": "2020-09-08T03:15:58.886315Z",
          "iopub.status.idle": "2020-09-08T03:15:58.889371Z",
          "shell.execute_reply": "2020-09-08T03:15:58.889919Z"
        },
        "papermill": {
          "duration": 0.031593,
          "end_time": "2020-09-08T03:15:58.890108",
          "exception": false,
          "start_time": "2020-09-08T03:15:58.858515",
          "status": "completed"
        },
        "tags": [],
        "id": "grieYHdSWh_M"
      },
      "outputs": [],
      "source": [
        "df.columns=df.columns.str.lower()"
      ]
    },
    {
      "cell_type": "code",
      "source": [
        "# rename all the columns as lowercase strings\n",
        "df.columns=df.columns.str.lower()\n",
        "print(df.head(4))"
      ],
      "metadata": {
        "id": "bwXmuEzNYrie",
        "colab": {
          "base_uri": "https://localhost:8080/"
        },
        "outputId": "78b25fce-d47c-4dc1-b912-2e7657a8fdac"
      },
      "execution_count": 7,
      "outputs": [
        {
          "output_type": "stream",
          "name": "stdout",
          "text": [
            "    loan_id gender married dependents education self_employed  \\\n",
            "0  LP001015   Male     Yes          0  Graduate            No   \n",
            "1  LP001022   Male     Yes          1  Graduate            No   \n",
            "2  LP001031   Male     Yes          2  Graduate            No   \n",
            "3  LP001035   Male     Yes          2  Graduate            No   \n",
            "\n",
            "   applicantincome  coapplicantincome  loanamount  loan_amount_term  \\\n",
            "0             5720                  0       110.0             360.0   \n",
            "1             3076               1500       126.0             360.0   \n",
            "2             5000               1800       208.0             360.0   \n",
            "3             2340               2546       100.0             360.0   \n",
            "\n",
            "   credit_history property_area  \n",
            "0             1.0         Urban  \n",
            "1             1.0         Urban  \n",
            "2             1.0         Urban  \n",
            "3             NaN         Urban  \n"
          ]
        }
      ]
    },
    {
      "cell_type": "code",
      "source": [
        "# rename all the columns so that they all have _ in between any column head with two or more words\n",
        "df.rename(columns = {'applicantincome':'applicant_income', 'coapplicantincome':'coapplicant_income','loanamount':'loan_amount'}, inplace = True)\n",
        "print(df.columns)"
      ],
      "metadata": {
        "id": "brnUDnNcZc4f",
        "colab": {
          "base_uri": "https://localhost:8080/"
        },
        "outputId": "f05c724b-6323-4028-f1d9-002c294bd6a9"
      },
      "execution_count": 8,
      "outputs": [
        {
          "output_type": "stream",
          "name": "stdout",
          "text": [
            "Index(['loan_id', 'gender', 'married', 'dependents', 'education',\n",
            "       'self_employed', 'applicant_income', 'coapplicant_income',\n",
            "       'loan_amount', 'loan_amount_term', 'credit_history', 'property_area'],\n",
            "      dtype='object')\n"
          ]
        }
      ]
    },
    {
      "cell_type": "markdown",
      "metadata": {
        "papermill": {
          "duration": 0.0218,
          "end_time": "2020-09-08T03:15:58.989112",
          "exception": false,
          "start_time": "2020-09-08T03:15:58.967312",
          "status": "completed"
        },
        "tags": [],
        "id": "ijuPuoFlWh_O"
      },
      "source": [
        "##### 2-2-Checking null values"
      ]
    },
    {
      "cell_type": "code",
      "source": [
        "# Check all the columns to see if they have null values (NaN) and sum them\n",
        "nullCounter = df.isnull().values.sum()\n",
        "print(nullCounter)"
      ],
      "metadata": {
        "id": "Fsp_w-9OZmGr",
        "colab": {
          "base_uri": "https://localhost:8080/"
        },
        "outputId": "e70b62f5-e440-46e3-a93a-b7549f585193"
      },
      "execution_count": 9,
      "outputs": [
        {
          "output_type": "stream",
          "name": "stdout",
          "text": [
            "84\n"
          ]
        }
      ]
    },
    {
      "cell_type": "markdown",
      "metadata": {
        "papermill": {
          "duration": 0.021552,
          "end_time": "2020-09-08T03:15:59.091701",
          "exception": false,
          "start_time": "2020-09-08T03:15:59.070149",
          "status": "completed"
        },
        "tags": [],
        "id": "7xm8-x-FWh_P"
      },
      "source": [
        "we take care of missing values in \"loan_amount\" and \"credit_history\".\n",
        "For other null values, we either delete a particular row if it has a null value for a particular feature and a particular column if it has more than 70-75% of missing values. This method is advised only when there are enough samples in the data set. "
      ]
    },
    {
      "cell_type": "code",
      "execution_count": null,
      "metadata": {
        "execution": {
          "iopub.execute_input": "2020-09-08T03:15:59.142140Z",
          "iopub.status.busy": "2020-09-08T03:15:59.141318Z",
          "iopub.status.idle": "2020-09-08T03:15:59.144823Z",
          "shell.execute_reply": "2020-09-08T03:15:59.144224Z"
        },
        "papermill": {
          "duration": 0.031739,
          "end_time": "2020-09-08T03:15:59.144958",
          "exception": false,
          "start_time": "2020-09-08T03:15:59.113219",
          "status": "completed"
        },
        "tags": [],
        "id": "kuTnpWmkWh_Q"
      },
      "outputs": [],
      "source": [
        ""
      ]
    },
    {
      "cell_type": "code",
      "source": [
        "# fill the null values in the loan amount column with the mean of the loan amount  column\n",
        "df['loan_amount']=df['loan_amount'].fillna(df['loan_amount'].mean())   "
      ],
      "metadata": {
        "id": "EEBm3PquZ8vm"
      },
      "execution_count": 10,
      "outputs": []
    },
    {
      "cell_type": "code",
      "source": [
        "# fill the null values in the  credit history column with the median of the credit history column\n",
        "df['credit_history']=df['credit_history'].fillna(df['credit_history'].median())   "
      ],
      "metadata": {
        "id": "FIsd_oQ6aHEy"
      },
      "execution_count": 11,
      "outputs": []
    },
    {
      "cell_type": "code",
      "execution_count": 12,
      "metadata": {
        "execution": {
          "iopub.execute_input": "2020-09-08T03:15:59.253265Z",
          "iopub.status.busy": "2020-09-08T03:15:59.252455Z",
          "iopub.status.idle": "2020-09-08T03:15:59.289669Z",
          "shell.execute_reply": "2020-09-08T03:15:59.288991Z"
        },
        "papermill": {
          "duration": 0.068028,
          "end_time": "2020-09-08T03:15:59.289838",
          "exception": false,
          "start_time": "2020-09-08T03:15:59.221810",
          "status": "completed"
        },
        "tags": [],
        "id": "zTDC0GWGWh_Q"
      },
      "outputs": [],
      "source": [
        "df.dropna(axis=0, inplace=True)\n",
        "\n",
        "# write down what this column does\n",
        "#It removes the rows that have NaN value\n",
        "#Instead of creating a new df, it changes the df that you call the method on"
      ]
    },
    {
      "cell_type": "markdown",
      "source": [
        ""
      ],
      "metadata": {
        "id": "LSAnzVlsaY6_"
      }
    },
    {
      "cell_type": "code",
      "source": [
        "# prove there are no more null values in the columns using the same command as above\n",
        "print(df.isnull().values.any())"
      ],
      "metadata": {
        "id": "55gRaRUPaiw_",
        "colab": {
          "base_uri": "https://localhost:8080/"
        },
        "outputId": "e2d5f103-f59b-427b-9e0b-def7974fa911"
      },
      "execution_count": 13,
      "outputs": [
        {
          "output_type": "stream",
          "name": "stdout",
          "text": [
            "False\n"
          ]
        }
      ]
    },
    {
      "cell_type": "code",
      "source": [
        "# show the top 4 lines of the dataframe\n",
        "print(df.head(4))"
      ],
      "metadata": {
        "id": "ePeUVyJNaq50",
        "colab": {
          "base_uri": "https://localhost:8080/"
        },
        "outputId": "d9d9325e-32ee-4b2a-a2e8-f3a66d3803f5"
      },
      "execution_count": 14,
      "outputs": [
        {
          "output_type": "stream",
          "name": "stdout",
          "text": [
            "    loan_id gender married dependents education self_employed  \\\n",
            "0  LP001015   Male     Yes          0  Graduate            No   \n",
            "1  LP001022   Male     Yes          1  Graduate            No   \n",
            "2  LP001031   Male     Yes          2  Graduate            No   \n",
            "3  LP001035   Male     Yes          2  Graduate            No   \n",
            "\n",
            "   applicant_income  coapplicant_income  loan_amount  loan_amount_term  \\\n",
            "0              5720                   0        110.0             360.0   \n",
            "1              3076                1500        126.0             360.0   \n",
            "2              5000                1800        208.0             360.0   \n",
            "3              2340                2546        100.0             360.0   \n",
            "\n",
            "   credit_history property_area  \n",
            "0             1.0         Urban  \n",
            "1             1.0         Urban  \n",
            "2             1.0         Urban  \n",
            "3             1.0         Urban  \n"
          ]
        }
      ]
    },
    {
      "cell_type": "code",
      "source": [
        "# show the new shape of the dataframe\n",
        "print(df.shape)"
      ],
      "metadata": {
        "id": "wCkCgRizatCi",
        "colab": {
          "base_uri": "https://localhost:8080/"
        },
        "outputId": "778401b2-0bf9-48d3-8fb2-e9ea3a2fac0c"
      },
      "execution_count": 15,
      "outputs": [
        {
          "output_type": "stream",
          "name": "stdout",
          "text": [
            "(318, 12)\n"
          ]
        }
      ]
    },
    {
      "cell_type": "code",
      "source": [
        "# show the information/ statistics on this dataframe\n",
        "print(df.info())"
      ],
      "metadata": {
        "id": "5fz-IQ5_azNG",
        "colab": {
          "base_uri": "https://localhost:8080/"
        },
        "outputId": "eadc3fef-6c82-481d-80f4-ef24e20cebe7"
      },
      "execution_count": 16,
      "outputs": [
        {
          "output_type": "stream",
          "name": "stdout",
          "text": [
            "<class 'pandas.core.frame.DataFrame'>\n",
            "Int64Index: 318 entries, 0 to 366\n",
            "Data columns (total 12 columns):\n",
            " #   Column              Non-Null Count  Dtype  \n",
            "---  ------              --------------  -----  \n",
            " 0   loan_id             318 non-null    object \n",
            " 1   gender              318 non-null    object \n",
            " 2   married             318 non-null    object \n",
            " 3   dependents          318 non-null    object \n",
            " 4   education           318 non-null    object \n",
            " 5   self_employed       318 non-null    object \n",
            " 6   applicant_income    318 non-null    int64  \n",
            " 7   coapplicant_income  318 non-null    int64  \n",
            " 8   loan_amount         318 non-null    float64\n",
            " 9   loan_amount_term    318 non-null    float64\n",
            " 10  credit_history      318 non-null    float64\n",
            " 11  property_area       318 non-null    object \n",
            "dtypes: float64(3), int64(2), object(7)\n",
            "memory usage: 32.3+ KB\n",
            "None\n"
          ]
        }
      ]
    },
    {
      "cell_type": "code",
      "source": [
        "# get statiscal information on the data frame like count/mean/standard deviation etc\n",
        "print(df.count())\n",
        "print(df.mean())\n",
        "print(df.std())"
      ],
      "metadata": {
        "id": "jYaCsmjQa6a2",
        "colab": {
          "base_uri": "https://localhost:8080/"
        },
        "outputId": "975a7b05-ad0d-4b30-f517-d0cf6d367807"
      },
      "execution_count": 17,
      "outputs": [
        {
          "output_type": "stream",
          "name": "stdout",
          "text": [
            "loan_id               318\n",
            "gender                318\n",
            "married               318\n",
            "dependents            318\n",
            "education             318\n",
            "self_employed         318\n",
            "applicant_income      318\n",
            "coapplicant_income    318\n",
            "loan_amount           318\n",
            "loan_amount_term      318\n",
            "credit_history        318\n",
            "property_area         318\n",
            "dtype: int64\n",
            "applicant_income      4717.437107\n",
            "coapplicant_income    1562.845912\n",
            "loan_amount            136.580284\n",
            "loan_amount_term       343.685535\n",
            "credit_history           0.852201\n",
            "dtype: float64\n",
            "applicant_income      4907.418483\n",
            "coapplicant_income    2427.506019\n",
            "loan_amount             62.591535\n",
            "loan_amount_term        64.156958\n",
            "credit_history           0.355460\n",
            "dtype: float64\n"
          ]
        },
        {
          "output_type": "stream",
          "name": "stderr",
          "text": [
            "/usr/local/lib/python3.7/dist-packages/ipykernel_launcher.py:3: FutureWarning: Dropping of nuisance columns in DataFrame reductions (with 'numeric_only=None') is deprecated; in a future version this will raise TypeError.  Select only valid columns before calling the reduction.\n",
            "  This is separate from the ipykernel package so we can avoid doing imports until\n",
            "/usr/local/lib/python3.7/dist-packages/ipykernel_launcher.py:4: FutureWarning: Dropping of nuisance columns in DataFrame reductions (with 'numeric_only=None') is deprecated; in a future version this will raise TypeError.  Select only valid columns before calling the reduction.\n",
            "  after removing the cwd from sys.path.\n"
          ]
        }
      ]
    },
    {
      "cell_type": "markdown",
      "metadata": {
        "papermill": {
          "duration": 0.024751,
          "end_time": "2020-09-08T03:15:59.689267",
          "exception": false,
          "start_time": "2020-09-08T03:15:59.664516",
          "status": "completed"
        },
        "tags": [],
        "id": "5FcvmxBwWh_T"
      },
      "source": [
        "##### 2-3-Label Encoder for Dependents"
      ]
    },
    {
      "cell_type": "code",
      "execution_count": 18,
      "metadata": {
        "execution": {
          "iopub.execute_input": "2020-09-08T03:15:59.742308Z",
          "iopub.status.busy": "2020-09-08T03:15:59.741262Z",
          "iopub.status.idle": "2020-09-08T03:15:59.746797Z",
          "shell.execute_reply": "2020-09-08T03:15:59.746101Z"
        },
        "papermill": {
          "duration": 0.034653,
          "end_time": "2020-09-08T03:15:59.746933",
          "exception": false,
          "start_time": "2020-09-08T03:15:59.712280",
          "status": "completed"
        },
        "tags": [],
        "id": "tm2At81VWh_T",
        "outputId": "939436e2-d2a7-4e21-c8a3-4eddc8914fc7",
        "colab": {
          "base_uri": "https://localhost:8080/"
        }
      },
      "outputs": [
        {
          "output_type": "execute_result",
          "data": {
            "text/plain": [
              "str"
            ]
          },
          "metadata": {},
          "execution_count": 18
        }
      ],
      "source": [
        "type(df['dependents'].iloc[0])\n",
        "\n",
        "#Gets the type of what is at the integer position of 0 in dependents"
      ]
    },
    {
      "cell_type": "code",
      "execution_count": 19,
      "metadata": {
        "execution": {
          "iopub.execute_input": "2020-09-08T03:15:59.801541Z",
          "iopub.status.busy": "2020-09-08T03:15:59.800397Z",
          "iopub.status.idle": "2020-09-08T03:15:59.804824Z",
          "shell.execute_reply": "2020-09-08T03:15:59.805505Z"
        },
        "papermill": {
          "duration": 0.035452,
          "end_time": "2020-09-08T03:15:59.805675",
          "exception": false,
          "start_time": "2020-09-08T03:15:59.770223",
          "status": "completed"
        },
        "tags": [],
        "id": "tc7NGzeSWh_T",
        "outputId": "8e37f2dc-74be-419f-bffe-e12cbe02a2aa",
        "colab": {
          "base_uri": "https://localhost:8080/"
        }
      },
      "outputs": [
        {
          "output_type": "execute_result",
          "data": {
            "text/plain": [
              "array(['0', '1', '2', '3+'], dtype=object)"
            ]
          },
          "metadata": {},
          "execution_count": 19
        }
      ],
      "source": [
        "df['dependents'].unique()\n",
        "#Gets the unique objects in the dependents column"
      ]
    },
    {
      "cell_type": "code",
      "execution_count": 20,
      "metadata": {
        "execution": {
          "iopub.execute_input": "2020-09-08T03:15:59.859345Z",
          "iopub.status.busy": "2020-09-08T03:15:59.858497Z",
          "iopub.status.idle": "2020-09-08T03:15:59.862150Z",
          "shell.execute_reply": "2020-09-08T03:15:59.861333Z"
        },
        "papermill": {
          "duration": 0.032559,
          "end_time": "2020-09-08T03:15:59.862281",
          "exception": false,
          "start_time": "2020-09-08T03:15:59.829722",
          "status": "completed"
        },
        "tags": [],
        "id": "J2r3pl1QWh_U"
      },
      "outputs": [],
      "source": [
        "model6=LabelEncoder() #Normalize labels"
      ]
    },
    {
      "cell_type": "code",
      "execution_count": 21,
      "metadata": {
        "execution": {
          "iopub.execute_input": "2020-09-08T03:15:59.915463Z",
          "iopub.status.busy": "2020-09-08T03:15:59.914653Z",
          "iopub.status.idle": "2020-09-08T03:15:59.921627Z",
          "shell.execute_reply": "2020-09-08T03:15:59.922176Z"
        },
        "papermill": {
          "duration": 0.036395,
          "end_time": "2020-09-08T03:15:59.922345",
          "exception": false,
          "start_time": "2020-09-08T03:15:59.885950",
          "status": "completed"
        },
        "tags": [],
        "id": "0wNuPUDxWh_U",
        "outputId": "0ff86a52-6607-4e50-a97f-91d3f25ab66d",
        "colab": {
          "base_uri": "https://localhost:8080/"
        }
      },
      "outputs": [
        {
          "output_type": "execute_result",
          "data": {
            "text/plain": [
              "LabelEncoder()"
            ]
          },
          "metadata": {},
          "execution_count": 21
        }
      ],
      "source": [
        "model6.fit(df['dependents'])\n",
        "#Fit dependents into the model"
      ]
    },
    {
      "cell_type": "code",
      "execution_count": 22,
      "metadata": {
        "execution": {
          "iopub.execute_input": "2020-09-08T03:15:59.976684Z",
          "iopub.status.busy": "2020-09-08T03:15:59.975944Z",
          "iopub.status.idle": "2020-09-08T03:15:59.979542Z",
          "shell.execute_reply": "2020-09-08T03:15:59.978814Z"
        },
        "papermill": {
          "duration": 0.033869,
          "end_time": "2020-09-08T03:15:59.979667",
          "exception": false,
          "start_time": "2020-09-08T03:15:59.945798",
          "status": "completed"
        },
        "tags": [],
        "id": "EXwFZ6vWWh_U"
      },
      "outputs": [],
      "source": [
        "df['dependents']= model6.transform(df['dependents']) #Changes the dependents into the fitted model"
      ]
    },
    {
      "cell_type": "markdown",
      "source": [
        "Explain what they are doing in this section"
      ],
      "metadata": {
        "id": "-7WrPyM7bJqh"
      }
    },
    {
      "cell_type": "markdown",
      "metadata": {
        "papermill": {
          "duration": 0.02391,
          "end_time": "2020-09-08T03:16:00.027992",
          "exception": false,
          "start_time": "2020-09-08T03:16:00.004082",
          "status": "completed"
        },
        "tags": [],
        "id": "3_0lq1CVWh_U"
      },
      "source": [
        "### 3-Exploratory Data Analysis"
      ]
    },
    {
      "cell_type": "markdown",
      "metadata": {
        "papermill": {
          "duration": 0.024019,
          "end_time": "2020-09-08T03:16:00.076251",
          "exception": false,
          "start_time": "2020-09-08T03:16:00.052232",
          "status": "completed"
        },
        "tags": [],
        "id": "8Hdz0qFFWh_V"
      },
      "source": [
        "##### 3-1- Visualization"
      ]
    },
    {
      "cell_type": "code",
      "source": [
        "# get the counts of Loan statuses with \"Y\" in the column\n",
        "#NO COLUMN CALLED LOAN STATUSES\n",
        "Ycounter = 0\n",
        "for i in df['loan_amount']:\n",
        "  if i!=0:\n",
        "    Ycounter+=1\n",
        "print(Ycounter)"
      ],
      "metadata": {
        "id": "IjEeEU5dbVcq",
        "colab": {
          "base_uri": "https://localhost:8080/"
        },
        "outputId": "51df9159-5f79-48d0-9591-bb413d5b327f"
      },
      "execution_count": 23,
      "outputs": [
        {
          "output_type": "stream",
          "name": "stdout",
          "text": [
            "318\n"
          ]
        }
      ]
    },
    {
      "cell_type": "code",
      "source": [
        "# get the counts of Loan statuses with \"N\" in the column\n",
        "Ncounter = 0\n",
        "for i in df['loan_amount']:\n",
        "  if i==0:\n",
        "    Ncounter+=1\n",
        "print(Ncounter)"
      ],
      "metadata": {
        "id": "uv7tlCQDbhFZ",
        "colab": {
          "base_uri": "https://localhost:8080/"
        },
        "outputId": "80a18311-2d4c-4121-8c13-664b2393218c"
      },
      "execution_count": 24,
      "outputs": [
        {
          "output_type": "stream",
          "name": "stdout",
          "text": [
            "0\n"
          ]
        }
      ]
    },
    {
      "cell_type": "code",
      "source": [
        "# make a pie plot that shows the distrubution of Yes loans and Y loans\n",
        "# this plot should have a title, different colors, the percentages inside the sections \n",
        "\n",
        "\n",
        "sizes = [100]\n",
        "plt.pie(sizes, labels = 'Y', autopct='%1.1f%%', shadow=True, startangle=90)\n",
        "plt.title(\"Loans\")\n",
        "plt.show()\n"
      ],
      "metadata": {
        "id": "j2oxNBWobkJi",
        "colab": {
          "base_uri": "https://localhost:8080/",
          "height": 264
        },
        "outputId": "c62370b2-fc4f-4fda-a5e6-4f4ca225b879"
      },
      "execution_count": 25,
      "outputs": [
        {
          "output_type": "display_data",
          "data": {
            "text/plain": [
              "<Figure size 432x288 with 1 Axes>"
            ],
            "image/png": "[encoded data removed]"
          },
          "metadata": {}
        }
      ]
    },
    {
      "cell_type": "markdown",
      "metadata": {
        "papermill": {
          "duration": 0.027202,
          "end_time": "2020-09-08T03:16:00.477382",
          "exception": false,
          "start_time": "2020-09-08T03:16:00.450180",
          "status": "completed"
        },
        "tags": [],
        "id": "nIM4cEjkWh_V"
      },
      "source": [
        "69% of applicants repay the loan and 39% do not repay the loan."
      ]
    },
    {
      "cell_type": "code",
      "source": [
        "# make six bar charts that create the basica comparisons listed below\n",
        "# each should have legends, and as different colors as possible.\n",
        "# Plots 1 and 4 should have y labels and ticks while the rest of them should not\n",
        "\n",
        "\n",
        "#NO COLUMN CALLED LOAN STATUSES\n",
        "\n",
        "plt.figure(figsize=(15,10))\n"
      ],
      "metadata": {
        "id": "FLkEIbdTb9cL",
        "colab": {
          "base_uri": "https://localhost:8080/",
          "height": 52
        },
        "outputId": "19ca01c1-1cad-489f-b245-6d2d06229b44"
      },
      "execution_count": 26,
      "outputs": [
        {
          "output_type": "execute_result",
          "data": {
            "text/plain": [
              "<Figure size 1080x720 with 0 Axes>"
            ]
          },
          "metadata": {},
          "execution_count": 26
        },
        {
          "output_type": "display_data",
          "data": {
            "text/plain": [
              "<Figure size 1080x720 with 0 Axes>"
            ]
          },
          "metadata": {}
        }
      ]
    },
    {
      "cell_type": "markdown",
      "metadata": {
        "papermill": {
          "duration": 0.025504,
          "end_time": "2020-09-08T03:16:01.381656",
          "exception": false,
          "start_time": "2020-09-08T03:16:01.356152",
          "status": "completed"
        },
        "tags": [],
        "id": "jViBM4nKWh_W"
      },
      "source": [
        "Comparison between Genders in getting the Loan shows that a Male Individual has more chance of repaying the Loan.\n",
        "\n",
        "Comparison between Married Status in getting the Loan shows that a Married Individual has more chance of repaying the Loan.\n",
        "   \n",
        "Comparison between Education Status of an Individual in getting the Loan shows that a Graduate Individual has more chance of repaying the Loan.\n",
        "    \n",
        "Comparison between Self-Employed or Not in getting the Loan shows that Not Self-Employed has more chance of repaying the Loan.\n",
        "\n",
        "Comparison between Credit History for getting the Loan shows that an individual with a credit history has more chance of repaying the Loan.\n",
        "    \n",
        "Comparison between Property Area for getting the Loan shows that People living in Semi-Urban Area have more chance to repay the Loan."
      ]
    },
    {
      "cell_type": "code",
      "execution_count": 27,
      "metadata": {
        "execution": {
          "iopub.execute_input": "2020-09-08T03:16:01.441150Z",
          "iopub.status.busy": "2020-09-08T03:16:01.440328Z",
          "iopub.status.idle": "2020-09-08T03:16:03.154754Z",
          "shell.execute_reply": "2020-09-08T03:16:03.153921Z"
        },
        "papermill": {
          "duration": 1.7457,
          "end_time": "2020-09-08T03:16:03.154913",
          "exception": false,
          "start_time": "2020-09-08T03:16:01.409213",
          "status": "completed"
        },
        "tags": [],
        "id": "6NdD4okmWh_X",
        "colab": {
          "base_uri": "https://localhost:8080/",
          "height": 542
        },
        "outputId": "589ddbce-bf7e-41a8-9073-3514690bbc79"
      },
      "outputs": [
        {
          "output_type": "display_data",
          "data": {
            "text/html": [
              "<html>\n",
              "<head><meta charset=\"utf-8\" /></head>\n",
              "<body>\n",
              "    <div>            <script src=\"https://cdnjs.cloudflare.com/ajax/libs/mathjax/2.7.5/MathJax.js?config=TeX-AMS-MML_SVG\"></script><script type=\"text/javascript\">if (window.MathJax) {MathJax.Hub.Config({SVG: {font: \"STIX-Web\"}});}</script>                <script type=\"text/javascript\">window.PlotlyConfig = {MathJaxConfig: 'local'};</script>\n",
              "        <script src=\"https://cdn.plot.ly/plotly-2.8.3.min.js\"></script>                <div id=\"24b21289-feda-4b3d-875d-2ba84873932b\" class=\"plotly-graph-div\" style=\"height:525px; width:100%;\"></div>            <script type=\"text/javascript\">                                    window.PLOTLYENV=window.PLOTLYENV || {};                                    if (document.getElementById(\"24b21289-feda-4b3d-875d-2ba84873932b\")) {                    Plotly.newPlot(                        \"24b21289-feda-4b3d-875d-2ba84873932b\",                        [{\"branchvalues\":\"total\",\"customdata\":[[28.0],[28.0],[30.0],[35.0],[40.0],[46.0],[48.0],[49.0],[50.0],[55.0],[57.0],[59.0],[60.0],[61.0],[64.0],[64.0],[65.0],[65.0],[66.0],[67.0],[70.0],[71.0],[72.0],[74.0],[75.0],[75.0],[76.0],[77.0],[78.0],[78.0],[79.0],[80.0],[80.0],[81.0],[83.0],[84.0],[85.0],[87.0],[88.0],[88.0],[90.0],[90.0],[92.0],[92.0],[94.0],[95.0],[96.0],[96.0],[98.0],[99.0],[99.0],[100.0],[101.0],[102.0],[102.0],[103.0],[104.0],[104.0],[105.0],[106.0],[107.0],[108.0],[108.0],[109.0],[110.0],[110.0],[112.0],[113.0],[113.0],[114.0],[114.0],[115.0],[116.0],[117.0],[117.0],[118.0],[119.0],[120.0],[120.0],[121.0],[122.0],[122.0],[123.0],[124.0],[124.0],[125.0],[125.0],[126.0],[128.0],[130.0],[130.0],[131.0],[131.0],[132.0],[132.0],[133.0],[134.0],[134.0],[135.0],[135.0],[136.13259668508286],[136.13259668508286],[137.0],[138.0],[139.0],[140.0],[141.0],[142.0],[143.0],[144.0],[145.0],[145.0],[146.0],[147.0],[148.0],[149.0],[150.0],[150.0],[151.0],[152.0],[152.0],[153.0],[155.0],[157.0],[158.0],[159.0],[160.0],[162.0],[162.0],[163.0],[165.0],[165.0],[170.0],[171.0],[171.0],[173.0],[176.0],[176.0],[180.0],[180.0],[181.0],[183.0],[184.0],[185.0],[185.0],[186.0],[187.0],[187.0],[188.0],[189.0],[192.0],[197.0],[199.0],[200.0],[200.0],[208.0],[209.0],[212.0],[212.0],[213.0],[214.0],[225.0],[232.0],[234.0],[235.0],[240.0],[254.0],[256.0],[257.0],[260.0],[275.0],[290.0],[300.0],[300.0],[336.0],[360.0],[390.0],[412.0],[460.0],[550.0],[126.7405014874628],[139.1082916602974]],\"domain\":{\"x\":[0.0,1.0],\"y\":[0.0,1.0]},\"hovertemplate\":\"labels=%{label}<br>count=%{value}<br>parent=%{parent}<br>id=%{id}<br>loan_amount=%{color}<extra></extra>\",\"ids\":[\"Female/28.0\",\"Male/28.0\",\"Male/30.0\",\"Male/35.0\",\"Male/40.0\",\"Male/46.0\",\"Male/48.0\",\"Male/49.0\",\"Male/50.0\",\"Female/55.0\",\"Male/57.0\",\"Female/59.0\",\"Male/60.0\",\"Male/61.0\",\"Female/64.0\",\"Male/64.0\",\"Female/65.0\",\"Male/65.0\",\"Male/66.0\",\"Male/67.0\",\"Male/70.0\",\"Male/71.0\",\"Male/72.0\",\"Female/74.0\",\"Female/75.0\",\"Male/75.0\",\"Male/76.0\",\"Male/77.0\",\"Female/78.0\",\"Male/78.0\",\"Female/79.0\",\"Female/80.0\",\"Male/80.0\",\"Male/81.0\",\"Male/83.0\",\"Female/84.0\",\"Male/85.0\",\"Male/87.0\",\"Female/88.0\",\"Male/88.0\",\"Female/90.0\",\"Male/90.0\",\"Female/92.0\",\"Male/92.0\",\"Female/94.0\",\"Male/95.0\",\"Female/96.0\",\"Male/96.0\",\"Male/98.0\",\"Female/99.0\",\"Male/99.0\",\"Male/100.0\",\"Male/101.0\",\"Female/102.0\",\"Male/102.0\",\"Female/103.0\",\"Female/104.0\",\"Male/104.0\",\"Male/105.0\",\"Male/106.0\",\"Male/107.0\",\"Female/108.0\",\"Male/108.0\",\"Male/109.0\",\"Female/110.0\",\"Male/110.0\",\"Female/112.0\",\"Female/113.0\",\"Male/113.0\",\"Female/114.0\",\"Male/114.0\",\"Male/115.0\",\"Male/116.0\",\"Female/117.0\",\"Male/117.0\",\"Male/118.0\",\"Male/119.0\",\"Female/120.0\",\"Male/120.0\",\"Male/121.0\",\"Female/122.0\",\"Male/122.0\",\"Male/123.0\",\"Female/124.0\",\"Male/124.0\",\"Female/125.0\",\"Male/125.0\",\"Male/126.0\",\"Male/128.0\",\"Female/130.0\",\"Male/130.0\",\"Female/131.0\",\"Male/131.0\",\"Female/132.0\",\"Male/132.0\",\"Male/133.0\",\"Female/134.0\",\"Male/134.0\",\"Female/135.0\",\"Male/135.0\",\"Female/136.13259668508286\",\"Male/136.13259668508286\",\"Male/137.0\",\"Male/138.0\",\"Male/139.0\",\"Male/140.0\",\"Male/141.0\",\"Male/142.0\",\"Male/143.0\",\"Male/144.0\",\"Female/145.0\",\"Male/145.0\",\"Male/146.0\",\"Male/147.0\",\"Male/148.0\",\"Male/149.0\",\"Female/150.0\",\"Male/150.0\",\"Male/151.0\",\"Female/152.0\",\"Male/152.0\",\"Female/153.0\",\"Male/155.0\",\"Male/157.0\",\"Male/158.0\",\"Male/159.0\",\"Male/160.0\",\"Female/162.0\",\"Male/162.0\",\"Male/163.0\",\"Female/165.0\",\"Male/165.0\",\"Male/170.0\",\"Female/171.0\",\"Male/171.0\",\"Female/173.0\",\"Female/176.0\",\"Male/176.0\",\"Female/180.0\",\"Male/180.0\",\"Female/181.0\",\"Male/183.0\",\"Male/184.0\",\"Female/185.0\",\"Male/185.0\",\"Male/186.0\",\"Female/187.0\",\"Male/187.0\",\"Male/188.0\",\"Female/189.0\",\"Male/192.0\",\"Male/197.0\",\"Male/199.0\",\"Female/200.0\",\"Male/200.0\",\"Male/208.0\",\"Male/209.0\",\"Female/212.0\",\"Male/212.0\",\"Male/213.0\",\"Male/214.0\",\"Male/225.0\",\"Male/232.0\",\"Male/234.0\",\"Male/235.0\",\"Male/240.0\",\"Male/254.0\",\"Male/256.0\",\"Male/257.0\",\"Male/260.0\",\"Male/275.0\",\"Male/290.0\",\"Female/300.0\",\"Male/300.0\",\"Male/336.0\",\"Male/360.0\",\"Male/390.0\",\"Male/412.0\",\"Female/460.0\",\"Male/550.0\",\"Female\",\"Male\"],\"labels\":[\"28.0\",\"28.0\",\"30.0\",\"35.0\",\"40.0\",\"46.0\",\"48.0\",\"49.0\",\"50.0\",\"55.0\",\"57.0\",\"59.0\",\"60.0\",\"61.0\",\"64.0\",\"64.0\",\"65.0\",\"65.0\",\"66.0\",\"67.0\",\"70.0\",\"71.0\",\"72.0\",\"74.0\",\"75.0\",\"75.0\",\"76.0\",\"77.0\",\"78.0\",\"78.0\",\"79.0\",\"80.0\",\"80.0\",\"81.0\",\"83.0\",\"84.0\",\"85.0\",\"87.0\",\"88.0\",\"88.0\",\"90.0\",\"90.0\",\"92.0\",\"92.0\",\"94.0\",\"95.0\",\"96.0\",\"96.0\",\"98.0\",\"99.0\",\"99.0\",\"100.0\",\"101.0\",\"102.0\",\"102.0\",\"103.0\",\"104.0\",\"104.0\",\"105.0\",\"106.0\",\"107.0\",\"108.0\",\"108.0\",\"109.0\",\"110.0\",\"110.0\",\"112.0\",\"113.0\",\"113.0\",\"114.0\",\"114.0\",\"115.0\",\"116.0\",\"117.0\",\"117.0\",\"118.0\",\"119.0\",\"120.0\",\"120.0\",\"121.0\",\"122.0\",\"122.0\",\"123.0\",\"124.0\",\"124.0\",\"125.0\",\"125.0\",\"126.0\",\"128.0\",\"130.0\",\"130.0\",\"131.0\",\"131.0\",\"132.0\",\"132.0\",\"133.0\",\"134.0\",\"134.0\",\"135.0\",\"135.0\",\"136.13259668508286\",\"136.13259668508286\",\"137.0\",\"138.0\",\"139.0\",\"140.0\",\"141.0\",\"142.0\",\"143.0\",\"144.0\",\"145.0\",\"145.0\",\"146.0\",\"147.0\",\"148.0\",\"149.0\",\"150.0\",\"150.0\",\"151.0\",\"152.0\",\"152.0\",\"153.0\",\"155.0\",\"157.0\",\"158.0\",\"159.0\",\"160.0\",\"162.0\",\"162.0\",\"163.0\",\"165.0\",\"165.0\",\"170.0\",\"171.0\",\"171.0\",\"173.0\",\"176.0\",\"176.0\",\"180.0\",\"180.0\",\"181.0\",\"183.0\",\"184.0\",\"185.0\",\"185.0\",\"186.0\",\"187.0\",\"187.0\",\"188.0\",\"189.0\",\"192.0\",\"197.0\",\"199.0\",\"200.0\",\"200.0\",\"208.0\",\"209.0\",\"212.0\",\"212.0\",\"213.0\",\"214.0\",\"225.0\",\"232.0\",\"234.0\",\"235.0\",\"240.0\",\"254.0\",\"256.0\",\"257.0\",\"260.0\",\"275.0\",\"290.0\",\"300.0\",\"300.0\",\"336.0\",\"360.0\",\"390.0\",\"412.0\",\"460.0\",\"550.0\",\"Female\",\"Male\"],\"marker\":{\"coloraxis\":\"coloraxis\",\"colors\":[28.0,28.0,30.0,35.0,40.0,46.0,48.0,49.0,50.0,55.0,57.0,59.0,60.0,61.0,64.0,64.0,65.0,65.0,66.0,67.0,70.0,71.0,72.0,74.0,75.0,75.0,76.0,77.0,78.0,78.0,79.0,80.0,80.0,81.0,83.0,84.0,85.0,87.0,88.0,88.0,90.0,90.0,92.0,92.0,94.0,95.0,96.0,96.0,98.0,99.0,99.0,100.0,101.0,102.0,102.0,103.0,104.0,104.0,105.0,106.0,107.0,108.0,108.0,109.0,110.0,110.0,112.0,113.0,113.0,114.0,114.0,115.0,116.0,117.0,117.0,118.0,119.0,120.0,120.0,121.0,122.0,122.0,123.0,124.0,124.0,125.0,125.0,126.0,128.0,130.0,130.0,131.0,131.0,132.0,132.0,133.0,134.0,134.0,135.0,135.0,136.13259668508286,136.13259668508286,137.0,138.0,139.0,140.0,141.0,142.0,143.0,144.0,145.0,145.0,146.0,147.0,148.0,149.0,150.0,150.0,151.0,152.0,152.0,153.0,155.0,157.0,158.0,159.0,160.0,162.0,162.0,163.0,165.0,165.0,170.0,171.0,171.0,173.0,176.0,176.0,180.0,180.0,181.0,183.0,184.0,185.0,185.0,186.0,187.0,187.0,188.0,189.0,192.0,197.0,199.0,200.0,200.0,208.0,209.0,212.0,212.0,213.0,214.0,225.0,232.0,234.0,235.0,240.0,254.0,256.0,257.0,260.0,275.0,290.0,300.0,300.0,336.0,360.0,390.0,412.0,460.0,550.0,126.7405014874628,139.1082916602974]},\"name\":\"\",\"parents\":[\"Female\",\"Male\",\"Male\",\"Male\",\"Male\",\"Male\",\"Male\",\"Male\",\"Male\",\"Female\",\"Male\",\"Female\",\"Male\",\"Male\",\"Female\",\"Male\",\"Female\",\"Male\",\"Male\",\"Male\",\"Male\",\"Male\",\"Male\",\"Female\",\"Female\",\"Male\",\"Male\",\"Male\",\"Female\",\"Male\",\"Female\",\"Female\",\"Male\",\"Male\",\"Male\",\"Female\",\"Male\",\"Male\",\"Female\",\"Male\",\"Female\",\"Male\",\"Female\",\"Male\",\"Female\",\"Male\",\"Female\",\"Male\",\"Male\",\"Female\",\"Male\",\"Male\",\"Male\",\"Female\",\"Male\",\"Female\",\"Female\",\"Male\",\"Male\",\"Male\",\"Male\",\"Female\",\"Male\",\"Male\",\"Female\",\"Male\",\"Female\",\"Female\",\"Male\",\"Female\",\"Male\",\"Male\",\"Male\",\"Female\",\"Male\",\"Male\",\"Male\",\"Female\",\"Male\",\"Male\",\"Female\",\"Male\",\"Male\",\"Female\",\"Male\",\"Female\",\"Male\",\"Male\",\"Male\",\"Female\",\"Male\",\"Female\",\"Male\",\"Female\",\"Male\",\"Male\",\"Female\",\"Male\",\"Female\",\"Male\",\"Female\",\"Male\",\"Male\",\"Male\",\"Male\",\"Male\",\"Male\",\"Male\",\"Male\",\"Male\",\"Female\",\"Male\",\"Male\",\"Male\",\"Male\",\"Male\",\"Female\",\"Male\",\"Male\",\"Female\",\"Male\",\"Female\",\"Male\",\"Male\",\"Male\",\"Male\",\"Male\",\"Female\",\"Male\",\"Male\",\"Female\",\"Male\",\"Male\",\"Female\",\"Male\",\"Female\",\"Female\",\"Male\",\"Female\",\"Male\",\"Female\",\"Male\",\"Male\",\"Female\",\"Male\",\"Male\",\"Female\",\"Male\",\"Male\",\"Female\",\"Male\",\"Male\",\"Male\",\"Female\",\"Male\",\"Male\",\"Male\",\"Female\",\"Male\",\"Male\",\"Male\",\"Male\",\"Male\",\"Male\",\"Male\",\"Male\",\"Male\",\"Male\",\"Male\",\"Male\",\"Male\",\"Male\",\"Female\",\"Male\",\"Male\",\"Male\",\"Male\",\"Male\",\"Female\",\"Male\",\"\",\"\"],\"values\":[1,1,1,1,2,1,1,1,2,1,1,1,1,1,1,1,2,2,1,1,2,1,1,1,1,1,1,1,1,1,1,1,4,1,1,2,1,1,1,1,1,8,2,1,1,2,1,2,1,1,2,7,1,1,3,1,2,2,4,1,2,3,4,1,4,5,1,1,2,1,1,2,4,3,1,1,1,1,7,1,1,3,3,1,2,1,7,4,2,1,7,1,4,1,2,2,1,1,1,6,1,3,1,2,1,4,1,1,4,1,1,1,2,3,3,3,1,9,1,1,3,1,1,1,3,1,4,1,1,1,1,2,2,1,1,1,1,3,1,2,1,1,1,1,1,1,1,7,2,1,1,1,1,1,3,1,1,1,2,1,1,1,1,1,1,1,1,1,1,2,1,1,1,2,1,1,1,1,1,1,65,253],\"type\":\"sunburst\"}],                        {\"template\":{\"data\":{\"bar\":[{\"error_x\":{\"color\":\"#2a3f5f\"},\"error_y\":{\"color\":\"#2a3f5f\"},\"marker\":{\"line\":{\"color\":\"#E5ECF6\",\"width\":0.5},\"pattern\":{\"fillmode\":\"overlay\",\"size\":10,\"solidity\":0.2}},\"type\":\"bar\"}],\"barpolar\":[{\"marker\":{\"line\":{\"color\":\"#E5ECF6\",\"width\":0.5},\"pattern\":{\"fillmode\":\"overlay\",\"size\":10,\"solidity\":0.2}},\"type\":\"barpolar\"}],\"carpet\":[{\"aaxis\":{\"endlinecolor\":\"#2a3f5f\",\"gridcolor\":\"white\",\"linecolor\":\"white\",\"minorgridcolor\":\"white\",\"startlinecolor\":\"#2a3f5f\"},\"baxis\":{\"endlinecolor\":\"#2a3f5f\",\"gridcolor\":\"white\",\"linecolor\":\"white\",\"minorgridcolor\":\"white\",\"startlinecolor\":\"#2a3f5f\"},\"type\":\"carpet\"}],\"choropleth\":[{\"colorbar\":{\"outlinewidth\":0,\"ticks\":\"\"},\"type\":\"choropleth\"}],\"contour\":[{\"colorbar\":{\"outlinewidth\":0,\"ticks\":\"\"},\"colorscale\":[[0.0,\"#0d0887\"],[0.1111111111111111,\"#46039f\"],[0.2222222222222222,\"#7201a8\"],[0.3333333333333333,\"#9c179e\"],[0.4444444444444444,\"#bd3786\"],[0.5555555555555556,\"#d8576b\"],[0.6666666666666666,\"#ed7953\"],[0.7777777777777778,\"#fb9f3a\"],[0.8888888888888888,\"#fdca26\"],[1.0,\"#f0f921\"]],\"type\":\"contour\"}],\"contourcarpet\":[{\"colorbar\":{\"outlinewidth\":0,\"ticks\":\"\"},\"type\":\"contourcarpet\"}],\"heatmap\":[{\"colorbar\":{\"outlinewidth\":0,\"ticks\":\"\"},\"colorscale\":[[0.0,\"#0d0887\"],[0.1111111111111111,\"#46039f\"],[0.2222222222222222,\"#7201a8\"],[0.3333333333333333,\"#9c179e\"],[0.4444444444444444,\"#bd3786\"],[0.5555555555555556,\"#d8576b\"],[0.6666666666666666,\"#ed7953\"],[0.7777777777777778,\"#fb9f3a\"],[0.8888888888888888,\"#fdca26\"],[1.0,\"#f0f921\"]],\"type\":\"heatmap\"}],\"heatmapgl\":[{\"colorbar\":{\"outlinewidth\":0,\"ticks\":\"\"},\"colorscale\":[[0.0,\"#0d0887\"],[0.1111111111111111,\"#46039f\"],[0.2222222222222222,\"#7201a8\"],[0.3333333333333333,\"#9c179e\"],[0.4444444444444444,\"#bd3786\"],[0.5555555555555556,\"#d8576b\"],[0.6666666666666666,\"#ed7953\"],[0.7777777777777778,\"#fb9f3a\"],[0.8888888888888888,\"#fdca26\"],[1.0,\"#f0f921\"]],\"type\":\"heatmapgl\"}],\"histogram\":[{\"marker\":{\"pattern\":{\"fillmode\":\"overlay\",\"size\":10,\"solidity\":0.2}},\"type\":\"histogram\"}],\"histogram2d\":[{\"colorbar\":{\"outlinewidth\":0,\"ticks\":\"\"},\"colorscale\":[[0.0,\"#0d0887\"],[0.1111111111111111,\"#46039f\"],[0.2222222222222222,\"#7201a8\"],[0.3333333333333333,\"#9c179e\"],[0.4444444444444444,\"#bd3786\"],[0.5555555555555556,\"#d8576b\"],[0.6666666666666666,\"#ed7953\"],[0.7777777777777778,\"#fb9f3a\"],[0.8888888888888888,\"#fdca26\"],[1.0,\"#f0f921\"]],\"type\":\"histogram2d\"}],\"histogram2dcontour\":[{\"colorbar\":{\"outlinewidth\":0,\"ticks\":\"\"},\"colorscale\":[[0.0,\"#0d0887\"],[0.1111111111111111,\"#46039f\"],[0.2222222222222222,\"#7201a8\"],[0.3333333333333333,\"#9c179e\"],[0.4444444444444444,\"#bd3786\"],[0.5555555555555556,\"#d8576b\"],[0.6666666666666666,\"#ed7953\"],[0.7777777777777778,\"#fb9f3a\"],[0.8888888888888888,\"#fdca26\"],[1.0,\"#f0f921\"]],\"type\":\"histogram2dcontour\"}],\"mesh3d\":[{\"colorbar\":{\"outlinewidth\":0,\"ticks\":\"\"},\"type\":\"mesh3d\"}],\"parcoords\":[{\"line\":{\"colorbar\":{\"outlinewidth\":0,\"ticks\":\"\"}},\"type\":\"parcoords\"}],\"pie\":[{\"automargin\":true,\"type\":\"pie\"}],\"scatter\":[{\"marker\":{\"colorbar\":{\"outlinewidth\":0,\"ticks\":\"\"}},\"type\":\"scatter\"}],\"scatter3d\":[{\"line\":{\"colorbar\":{\"outlinewidth\":0,\"ticks\":\"\"}},\"marker\":{\"colorbar\":{\"outlinewidth\":0,\"ticks\":\"\"}},\"type\":\"scatter3d\"}],\"scattercarpet\":[{\"marker\":{\"colorbar\":{\"outlinewidth\":0,\"ticks\":\"\"}},\"type\":\"scattercarpet\"}],\"scattergeo\":[{\"marker\":{\"colorbar\":{\"outlinewidth\":0,\"ticks\":\"\"}},\"type\":\"scattergeo\"}],\"scattergl\":[{\"marker\":{\"colorbar\":{\"outlinewidth\":0,\"ticks\":\"\"}},\"type\":\"scattergl\"}],\"scattermapbox\":[{\"marker\":{\"colorbar\":{\"outlinewidth\":0,\"ticks\":\"\"}},\"type\":\"scattermapbox\"}],\"scatterpolar\":[{\"marker\":{\"colorbar\":{\"outlinewidth\":0,\"ticks\":\"\"}},\"type\":\"scatterpolar\"}],\"scatterpolargl\":[{\"marker\":{\"colorbar\":{\"outlinewidth\":0,\"ticks\":\"\"}},\"type\":\"scatterpolargl\"}],\"scatterternary\":[{\"marker\":{\"colorbar\":{\"outlinewidth\":0,\"ticks\":\"\"}},\"type\":\"scatterternary\"}],\"surface\":[{\"colorbar\":{\"outlinewidth\":0,\"ticks\":\"\"},\"colorscale\":[[0.0,\"#0d0887\"],[0.1111111111111111,\"#46039f\"],[0.2222222222222222,\"#7201a8\"],[0.3333333333333333,\"#9c179e\"],[0.4444444444444444,\"#bd3786\"],[0.5555555555555556,\"#d8576b\"],[0.6666666666666666,\"#ed7953\"],[0.7777777777777778,\"#fb9f3a\"],[0.8888888888888888,\"#fdca26\"],[1.0,\"#f0f921\"]],\"type\":\"surface\"}],\"table\":[{\"cells\":{\"fill\":{\"color\":\"#EBF0F8\"},\"line\":{\"color\":\"white\"}},\"header\":{\"fill\":{\"color\":\"#C8D4E3\"},\"line\":{\"color\":\"white\"}},\"type\":\"table\"}]},\"layout\":{\"annotationdefaults\":{\"arrowcolor\":\"#2a3f5f\",\"arrowhead\":0,\"arrowwidth\":1},\"autotypenumbers\":\"strict\",\"coloraxis\":{\"colorbar\":{\"outlinewidth\":0,\"ticks\":\"\"}},\"colorscale\":{\"diverging\":[[0,\"#8e0152\"],[0.1,\"#c51b7d\"],[0.2,\"#de77ae\"],[0.3,\"#f1b6da\"],[0.4,\"#fde0ef\"],[0.5,\"#f7f7f7\"],[0.6,\"#e6f5d0\"],[0.7,\"#b8e186\"],[0.8,\"#7fbc41\"],[0.9,\"#4d9221\"],[1,\"#276419\"]],\"sequential\":[[0.0,\"#0d0887\"],[0.1111111111111111,\"#46039f\"],[0.2222222222222222,\"#7201a8\"],[0.3333333333333333,\"#9c179e\"],[0.4444444444444444,\"#bd3786\"],[0.5555555555555556,\"#d8576b\"],[0.6666666666666666,\"#ed7953\"],[0.7777777777777778,\"#fb9f3a\"],[0.8888888888888888,\"#fdca26\"],[1.0,\"#f0f921\"]],\"sequentialminus\":[[0.0,\"#0d0887\"],[0.1111111111111111,\"#46039f\"],[0.2222222222222222,\"#7201a8\"],[0.3333333333333333,\"#9c179e\"],[0.4444444444444444,\"#bd3786\"],[0.5555555555555556,\"#d8576b\"],[0.6666666666666666,\"#ed7953\"],[0.7777777777777778,\"#fb9f3a\"],[0.8888888888888888,\"#fdca26\"],[1.0,\"#f0f921\"]]},\"colorway\":[\"#636efa\",\"#EF553B\",\"#00cc96\",\"#ab63fa\",\"#FFA15A\",\"#19d3f3\",\"#FF6692\",\"#B6E880\",\"#FF97FF\",\"#FECB52\"],\"font\":{\"color\":\"#2a3f5f\"},\"geo\":{\"bgcolor\":\"white\",\"lakecolor\":\"white\",\"landcolor\":\"#E5ECF6\",\"showlakes\":true,\"showland\":true,\"subunitcolor\":\"white\"},\"hoverlabel\":{\"align\":\"left\"},\"hovermode\":\"closest\",\"mapbox\":{\"style\":\"light\"},\"paper_bgcolor\":\"white\",\"plot_bgcolor\":\"#E5ECF6\",\"polar\":{\"angularaxis\":{\"gridcolor\":\"white\",\"linecolor\":\"white\",\"ticks\":\"\"},\"bgcolor\":\"#E5ECF6\",\"radialaxis\":{\"gridcolor\":\"white\",\"linecolor\":\"white\",\"ticks\":\"\"}},\"scene\":{\"xaxis\":{\"backgroundcolor\":\"#E5ECF6\",\"gridcolor\":\"white\",\"gridwidth\":2,\"linecolor\":\"white\",\"showbackground\":true,\"ticks\":\"\",\"zerolinecolor\":\"white\"},\"yaxis\":{\"backgroundcolor\":\"#E5ECF6\",\"gridcolor\":\"white\",\"gridwidth\":2,\"linecolor\":\"white\",\"showbackground\":true,\"ticks\":\"\",\"zerolinecolor\":\"white\"},\"zaxis\":{\"backgroundcolor\":\"#E5ECF6\",\"gridcolor\":\"white\",\"gridwidth\":2,\"linecolor\":\"white\",\"showbackground\":true,\"ticks\":\"\",\"zerolinecolor\":\"white\"}},\"shapedefaults\":{\"line\":{\"color\":\"#2a3f5f\"}},\"ternary\":{\"aaxis\":{\"gridcolor\":\"white\",\"linecolor\":\"white\",\"ticks\":\"\"},\"baxis\":{\"gridcolor\":\"white\",\"linecolor\":\"white\",\"ticks\":\"\"},\"bgcolor\":\"#E5ECF6\",\"caxis\":{\"gridcolor\":\"white\",\"linecolor\":\"white\",\"ticks\":\"\"}},\"title\":{\"x\":0.05},\"xaxis\":{\"automargin\":true,\"gridcolor\":\"white\",\"linecolor\":\"white\",\"ticks\":\"\",\"title\":{\"standoff\":15},\"zerolinecolor\":\"white\",\"zerolinewidth\":2},\"yaxis\":{\"automargin\":true,\"gridcolor\":\"white\",\"linecolor\":\"white\",\"ticks\":\"\",\"title\":{\"standoff\":15},\"zerolinecolor\":\"white\",\"zerolinewidth\":2}}},\"coloraxis\":{\"colorbar\":{\"title\":{\"text\":\"loan_amount\"}},\"colorscale\":[[0.0,\"#0d0887\"],[0.1111111111111111,\"#46039f\"],[0.2222222222222222,\"#7201a8\"],[0.3333333333333333,\"#9c179e\"],[0.4444444444444444,\"#bd3786\"],[0.5555555555555556,\"#d8576b\"],[0.6666666666666666,\"#ed7953\"],[0.7777777777777778,\"#fb9f3a\"],[0.8888888888888888,\"#fdca26\"],[1.0,\"#f0f921\"]]},\"legend\":{\"tracegroupgap\":0},\"margin\":{\"t\":60}},                        {\"responsive\": true}                    ).then(function(){\n",
              "                            \n",
              "var gd = document.getElementById('24b21289-feda-4b3d-875d-2ba84873932b');\n",
              "var x = new MutationObserver(function (mutations, observer) {{\n",
              "        var display = window.getComputedStyle(gd).display;\n",
              "        if (!display || display === 'none') {{\n",
              "            console.log([gd, 'removed!']);\n",
              "            Plotly.purge(gd);\n",
              "            observer.disconnect();\n",
              "        }}\n",
              "}});\n",
              "\n",
              "// Listen for the removal of the full notebook cells\n",
              "var notebookContainer = gd.closest('#notebook-container');\n",
              "if (notebookContainer) {{\n",
              "    x.observe(notebookContainer, {childList: true});\n",
              "}}\n",
              "\n",
              "// Listen for the clearing of the current output cell\n",
              "var outputEl = gd.closest('.output');\n",
              "if (outputEl) {{\n",
              "    x.observe(outputEl, {childList: true});\n",
              "}}\n",
              "\n",
              "                        })                };                            </script>        </div>\n",
              "</body>\n",
              "</html>"
            ]
          },
          "metadata": {}
        }
      ],
      "source": [
        "px.sunburst( data_frame=df,path=['gender','loan_amount'], color='loan_amount')\n",
        "\n",
        "\n",
        "# try this code to see if it works. Can you fix it"
      ]
    },
    {
      "cell_type": "code",
      "source": [
        "plt.figure(figsize=(15,10))\n",
        "\n",
        "# create violin plots that have the six features shown above in the x value and loan amount in the y value\n",
        "# Plots 1 and 4 should have y labels and ticks while the rest of them should not\n",
        "\n"
      ],
      "metadata": {
        "id": "T2-bFjThcypG"
      },
      "execution_count": null,
      "outputs": []
    },
    {
      "cell_type": "code",
      "execution_count": null,
      "metadata": {
        "execution": {
          "iopub.execute_input": "2020-09-08T03:16:04.708238Z",
          "iopub.status.busy": "2020-09-08T03:16:04.703360Z",
          "iopub.status.idle": "2020-09-08T03:16:05.525060Z",
          "shell.execute_reply": "2020-09-08T03:16:05.525759Z"
        },
        "papermill": {
          "duration": 0.869293,
          "end_time": "2020-09-08T03:16:05.525969",
          "exception": false,
          "start_time": "2020-09-08T03:16:04.656676",
          "status": "completed"
        },
        "tags": [],
        "id": "_3G__A3HWh_Y"
      },
      "outputs": [],
      "source": [
        "plt.figure(figsize=(18,5))\n",
        "\n",
        "# Make three subplots that show frequency distributions of applicant incomes, co-applicant incomes and loan amounts\n",
        "# these should have lines and bars\n"
      ]
    },
    {
      "cell_type": "code",
      "execution_count": null,
      "metadata": {
        "execution": {
          "iopub.execute_input": "2020-09-08T03:16:05.598242Z",
          "iopub.status.busy": "2020-09-08T03:16:05.597077Z",
          "iopub.status.idle": "2020-09-08T03:16:05.764662Z",
          "shell.execute_reply": "2020-09-08T03:16:05.763869Z"
        },
        "papermill": {
          "duration": 0.206593,
          "end_time": "2020-09-08T03:16:05.764820",
          "exception": false,
          "start_time": "2020-09-08T03:16:05.558227",
          "status": "completed"
        },
        "tags": [],
        "id": "9pdDTvIpWh_Y"
      },
      "outputs": [],
      "source": [
        "px.scatter_3d(data_frame=df,x='applicant_income',y='co-applicant_income',z='loan_amount',color='loan_status')\n",
        "\n",
        "# try this command and see if it works"
      ]
    },
    {
      "cell_type": "markdown",
      "metadata": {
        "papermill": {
          "duration": 0.02967,
          "end_time": "2020-09-08T03:16:05.823612",
          "exception": false,
          "start_time": "2020-09-08T03:16:05.793942",
          "status": "completed"
        },
        "tags": [],
        "id": "Au--3kOwWh_Y"
      },
      "source": [
        "##### 3-2-Encoding"
      ]
    },
    {
      "cell_type": "markdown",
      "metadata": {
        "papermill": {
          "duration": 0.032563,
          "end_time": "2020-09-08T03:16:05.885144",
          "exception": false,
          "start_time": "2020-09-08T03:16:05.852581",
          "status": "completed"
        },
        "tags": [],
        "id": "5kbaxTmdWh_Y"
      },
      "source": [
        "###### 3-2-1-gender"
      ]
    },
    {
      "cell_type": "code",
      "execution_count": 28,
      "metadata": {
        "execution": {
          "iopub.execute_input": "2020-09-08T03:16:05.949285Z",
          "iopub.status.busy": "2020-09-08T03:16:05.948498Z",
          "iopub.status.idle": "2020-09-08T03:16:05.952191Z",
          "shell.execute_reply": "2020-09-08T03:16:05.951396Z"
        },
        "papermill": {
          "duration": 0.03787,
          "end_time": "2020-09-08T03:16:05.952327",
          "exception": false,
          "start_time": "2020-09-08T03:16:05.914457",
          "status": "completed"
        },
        "tags": [],
        "id": "ORlWxEb3Wh_Z"
      },
      "outputs": [],
      "source": [
        "model1=LabelEncoder()"
      ]
    },
    {
      "cell_type": "code",
      "execution_count": 29,
      "metadata": {
        "execution": {
          "iopub.execute_input": "2020-09-08T03:16:06.019197Z",
          "iopub.status.busy": "2020-09-08T03:16:06.018016Z",
          "iopub.status.idle": "2020-09-08T03:16:06.023852Z",
          "shell.execute_reply": "2020-09-08T03:16:06.023070Z"
        },
        "papermill": {
          "duration": 0.042876,
          "end_time": "2020-09-08T03:16:06.023983",
          "exception": false,
          "start_time": "2020-09-08T03:16:05.981107",
          "status": "completed"
        },
        "tags": [],
        "id": "uv3TElhhWh_Z",
        "colab": {
          "base_uri": "https://localhost:8080/"
        },
        "outputId": "b5d3e738-96df-4068-bb22-f631f071ab03"
      },
      "outputs": [
        {
          "output_type": "execute_result",
          "data": {
            "text/plain": [
              "LabelEncoder()"
            ]
          },
          "metadata": {},
          "execution_count": 29
        }
      ],
      "source": [
        "model1.fit(df['gender'])"
      ]
    },
    {
      "cell_type": "code",
      "execution_count": 30,
      "metadata": {
        "execution": {
          "iopub.execute_input": "2020-09-08T03:16:06.094072Z",
          "iopub.status.busy": "2020-09-08T03:16:06.093112Z",
          "iopub.status.idle": "2020-09-08T03:16:06.096744Z",
          "shell.execute_reply": "2020-09-08T03:16:06.096070Z"
        },
        "papermill": {
          "duration": 0.043284,
          "end_time": "2020-09-08T03:16:06.096910",
          "exception": false,
          "start_time": "2020-09-08T03:16:06.053626",
          "status": "completed"
        },
        "tags": [],
        "id": "pvGBgW5zWh_Z"
      },
      "outputs": [],
      "source": [
        "df['gender']= model1.transform(df['gender'])"
      ]
    },
    {
      "cell_type": "markdown",
      "metadata": {
        "papermill": {
          "duration": 0.029729,
          "end_time": "2020-09-08T03:16:06.155847",
          "exception": false,
          "start_time": "2020-09-08T03:16:06.126118",
          "status": "completed"
        },
        "tags": [],
        "id": "8yWDmlDGWh_Z"
      },
      "source": [
        "###### 3-2-2-married"
      ]
    },
    {
      "cell_type": "code",
      "execution_count": 31,
      "metadata": {
        "execution": {
          "iopub.execute_input": "2020-09-08T03:16:06.222196Z",
          "iopub.status.busy": "2020-09-08T03:16:06.221004Z",
          "iopub.status.idle": "2020-09-08T03:16:06.224732Z",
          "shell.execute_reply": "2020-09-08T03:16:06.223978Z"
        },
        "papermill": {
          "duration": 0.04018,
          "end_time": "2020-09-08T03:16:06.224884",
          "exception": false,
          "start_time": "2020-09-08T03:16:06.184704",
          "status": "completed"
        },
        "tags": [],
        "id": "H7Ea_aNKWh_Z"
      },
      "outputs": [],
      "source": [
        "model2=LabelEncoder()"
      ]
    },
    {
      "cell_type": "code",
      "execution_count": 32,
      "metadata": {
        "execution": {
          "iopub.execute_input": "2020-09-08T03:16:06.295821Z",
          "iopub.status.busy": "2020-09-08T03:16:06.294988Z",
          "iopub.status.idle": "2020-09-08T03:16:06.299327Z",
          "shell.execute_reply": "2020-09-08T03:16:06.298561Z"
        },
        "papermill": {
          "duration": 0.044075,
          "end_time": "2020-09-08T03:16:06.299454",
          "exception": false,
          "start_time": "2020-09-08T03:16:06.255379",
          "status": "completed"
        },
        "tags": [],
        "id": "f2DNg0H8Wh_Z",
        "colab": {
          "base_uri": "https://localhost:8080/"
        },
        "outputId": "e0f59bfd-2832-472d-a2ef-ab746a3066b1"
      },
      "outputs": [
        {
          "output_type": "execute_result",
          "data": {
            "text/plain": [
              "LabelEncoder()"
            ]
          },
          "metadata": {},
          "execution_count": 32
        }
      ],
      "source": [
        "model2.fit(df['married'])"
      ]
    },
    {
      "cell_type": "code",
      "execution_count": 33,
      "metadata": {
        "execution": {
          "iopub.execute_input": "2020-09-08T03:16:06.367967Z",
          "iopub.status.busy": "2020-09-08T03:16:06.366916Z",
          "iopub.status.idle": "2020-09-08T03:16:06.370583Z",
          "shell.execute_reply": "2020-09-08T03:16:06.369948Z"
        },
        "papermill": {
          "duration": 0.040351,
          "end_time": "2020-09-08T03:16:06.370713",
          "exception": false,
          "start_time": "2020-09-08T03:16:06.330362",
          "status": "completed"
        },
        "tags": [],
        "id": "Uz2USyIIWh_a"
      },
      "outputs": [],
      "source": [
        "df['married']= model2.transform(df['married'])"
      ]
    },
    {
      "cell_type": "markdown",
      "metadata": {
        "papermill": {
          "duration": 0.031241,
          "end_time": "2020-09-08T03:16:06.432897",
          "exception": false,
          "start_time": "2020-09-08T03:16:06.401656",
          "status": "completed"
        },
        "tags": [],
        "id": "V5RHDqzDWh_a"
      },
      "source": [
        "###### 3-2-3-education"
      ]
    },
    {
      "cell_type": "code",
      "execution_count": 34,
      "metadata": {
        "execution": {
          "iopub.execute_input": "2020-09-08T03:16:06.504427Z",
          "iopub.status.busy": "2020-09-08T03:16:06.503566Z",
          "iopub.status.idle": "2020-09-08T03:16:06.507525Z",
          "shell.execute_reply": "2020-09-08T03:16:06.506682Z"
        },
        "papermill": {
          "duration": 0.041005,
          "end_time": "2020-09-08T03:16:06.507659",
          "exception": false,
          "start_time": "2020-09-08T03:16:06.466654",
          "status": "completed"
        },
        "tags": [],
        "id": "afePEtxHWh_a"
      },
      "outputs": [],
      "source": [
        "model3=LabelEncoder()"
      ]
    },
    {
      "cell_type": "code",
      "execution_count": 35,
      "metadata": {
        "execution": {
          "iopub.execute_input": "2020-09-08T03:16:06.574611Z",
          "iopub.status.busy": "2020-09-08T03:16:06.573448Z",
          "iopub.status.idle": "2020-09-08T03:16:06.578526Z",
          "shell.execute_reply": "2020-09-08T03:16:06.577945Z"
        },
        "papermill": {
          "duration": 0.041678,
          "end_time": "2020-09-08T03:16:06.578667",
          "exception": false,
          "start_time": "2020-09-08T03:16:06.536989",
          "status": "completed"
        },
        "tags": [],
        "id": "9eU6npGRWh_a",
        "colab": {
          "base_uri": "https://localhost:8080/"
        },
        "outputId": "b9220eee-dca5-4af2-ae4d-026f518a6386"
      },
      "outputs": [
        {
          "output_type": "execute_result",
          "data": {
            "text/plain": [
              "LabelEncoder()"
            ]
          },
          "metadata": {},
          "execution_count": 35
        }
      ],
      "source": [
        "model3.fit(df['education'])"
      ]
    },
    {
      "cell_type": "code",
      "execution_count": 36,
      "metadata": {
        "execution": {
          "iopub.execute_input": "2020-09-08T03:16:06.647661Z",
          "iopub.status.busy": "2020-09-08T03:16:06.646476Z",
          "iopub.status.idle": "2020-09-08T03:16:06.649387Z",
          "shell.execute_reply": "2020-09-08T03:16:06.649995Z"
        },
        "papermill": {
          "duration": 0.041559,
          "end_time": "2020-09-08T03:16:06.650166",
          "exception": false,
          "start_time": "2020-09-08T03:16:06.608607",
          "status": "completed"
        },
        "tags": [],
        "id": "hVFjw-1MWh_a"
      },
      "outputs": [],
      "source": [
        "df['education']= model3.transform(df['education'])"
      ]
    },
    {
      "cell_type": "markdown",
      "metadata": {
        "papermill": {
          "duration": 0.029583,
          "end_time": "2020-09-08T03:16:06.709183",
          "exception": false,
          "start_time": "2020-09-08T03:16:06.679600",
          "status": "completed"
        },
        "tags": [],
        "id": "hIq_oJP-Wh_b"
      },
      "source": [
        "###### 3-2-4-self_employed"
      ]
    },
    {
      "cell_type": "code",
      "execution_count": 37,
      "metadata": {
        "execution": {
          "iopub.execute_input": "2020-09-08T03:16:06.775569Z",
          "iopub.status.busy": "2020-09-08T03:16:06.774514Z",
          "iopub.status.idle": "2020-09-08T03:16:06.777409Z",
          "shell.execute_reply": "2020-09-08T03:16:06.777964Z"
        },
        "papermill": {
          "duration": 0.039598,
          "end_time": "2020-09-08T03:16:06.778140",
          "exception": false,
          "start_time": "2020-09-08T03:16:06.738542",
          "status": "completed"
        },
        "tags": [],
        "id": "8AgoSJzuWh_b"
      },
      "outputs": [],
      "source": [
        "model4=LabelEncoder()"
      ]
    },
    {
      "cell_type": "code",
      "execution_count": null,
      "metadata": {
        "execution": {
          "iopub.execute_input": "2020-09-08T03:16:06.846303Z",
          "iopub.status.busy": "2020-09-08T03:16:06.845098Z",
          "iopub.status.idle": "2020-09-08T03:16:06.850215Z",
          "shell.execute_reply": "2020-09-08T03:16:06.849498Z"
        },
        "papermill": {
          "duration": 0.042008,
          "end_time": "2020-09-08T03:16:06.850339",
          "exception": false,
          "start_time": "2020-09-08T03:16:06.808331",
          "status": "completed"
        },
        "tags": [],
        "id": "1F8TixZUWh_b"
      },
      "outputs": [],
      "source": [
        "model4.fit(df['self_employed'])"
      ]
    },
    {
      "cell_type": "code",
      "execution_count": 39,
      "metadata": {
        "execution": {
          "iopub.execute_input": "2020-09-08T03:16:06.917673Z",
          "iopub.status.busy": "2020-09-08T03:16:06.916924Z",
          "iopub.status.idle": "2020-09-08T03:16:06.920588Z",
          "shell.execute_reply": "2020-09-08T03:16:06.919849Z"
        },
        "papermill": {
          "duration": 0.040144,
          "end_time": "2020-09-08T03:16:06.920711",
          "exception": false,
          "start_time": "2020-09-08T03:16:06.880567",
          "status": "completed"
        },
        "tags": [],
        "id": "kS8hqaNcWh_b"
      },
      "outputs": [],
      "source": [
        "df['self_employed']= model4.transform(df['self_employed'])"
      ]
    },
    {
      "cell_type": "markdown",
      "metadata": {
        "papermill": {
          "duration": 0.029232,
          "end_time": "2020-09-08T03:16:06.979610",
          "exception": false,
          "start_time": "2020-09-08T03:16:06.950378",
          "status": "completed"
        },
        "tags": [],
        "id": "RsSiY4KUWh_b"
      },
      "source": [
        "###### 3-2-5-property_area"
      ]
    },
    {
      "cell_type": "code",
      "execution_count": 40,
      "metadata": {
        "execution": {
          "iopub.execute_input": "2020-09-08T03:16:07.049537Z",
          "iopub.status.busy": "2020-09-08T03:16:07.048731Z",
          "iopub.status.idle": "2020-09-08T03:16:07.052665Z",
          "shell.execute_reply": "2020-09-08T03:16:07.051866Z"
        },
        "papermill": {
          "duration": 0.040401,
          "end_time": "2020-09-08T03:16:07.052818",
          "exception": false,
          "start_time": "2020-09-08T03:16:07.012417",
          "status": "completed"
        },
        "tags": [],
        "id": "TPP6tmsYWh_b"
      },
      "outputs": [],
      "source": [
        "model5=LabelEncoder()"
      ]
    },
    {
      "cell_type": "code",
      "execution_count": 41,
      "metadata": {
        "execution": {
          "iopub.execute_input": "2020-09-08T03:16:07.122699Z",
          "iopub.status.busy": "2020-09-08T03:16:07.121879Z",
          "iopub.status.idle": "2020-09-08T03:16:07.126525Z",
          "shell.execute_reply": "2020-09-08T03:16:07.125827Z"
        },
        "papermill": {
          "duration": 0.042427,
          "end_time": "2020-09-08T03:16:07.126658",
          "exception": false,
          "start_time": "2020-09-08T03:16:07.084231",
          "status": "completed"
        },
        "tags": [],
        "id": "qKeZ_1sPWh_c",
        "colab": {
          "base_uri": "https://localhost:8080/"
        },
        "outputId": "63f24e2a-a513-41db-922c-4494297ac8e6"
      },
      "outputs": [
        {
          "output_type": "execute_result",
          "data": {
            "text/plain": [
              "LabelEncoder()"
            ]
          },
          "metadata": {},
          "execution_count": 41
        }
      ],
      "source": [
        "model5.fit(df['property_area'])"
      ]
    },
    {
      "cell_type": "code",
      "execution_count": 42,
      "metadata": {
        "execution": {
          "iopub.execute_input": "2020-09-08T03:16:07.194181Z",
          "iopub.status.busy": "2020-09-08T03:16:07.193280Z",
          "iopub.status.idle": "2020-09-08T03:16:07.196891Z",
          "shell.execute_reply": "2020-09-08T03:16:07.196151Z"
        },
        "papermill": {
          "duration": 0.040125,
          "end_time": "2020-09-08T03:16:07.197050",
          "exception": false,
          "start_time": "2020-09-08T03:16:07.156925",
          "status": "completed"
        },
        "tags": [],
        "id": "txsaDwDUWh_c"
      },
      "outputs": [],
      "source": [
        "df['property_area']= model5.transform(df['property_area'])"
      ]
    },
    {
      "cell_type": "markdown",
      "metadata": {
        "papermill": {
          "duration": 0.030197,
          "end_time": "2020-09-08T03:16:07.259319",
          "exception": false,
          "start_time": "2020-09-08T03:16:07.229122",
          "status": "completed"
        },
        "tags": [],
        "id": "gWkGU1BVWh_c"
      },
      "source": [
        "###### 3-2-6-loan status"
      ]
    },
    {
      "cell_type": "code",
      "execution_count": 43,
      "metadata": {
        "execution": {
          "iopub.execute_input": "2020-09-08T03:16:07.328214Z",
          "iopub.status.busy": "2020-09-08T03:16:07.327234Z",
          "iopub.status.idle": "2020-09-08T03:16:07.330547Z",
          "shell.execute_reply": "2020-09-08T03:16:07.329812Z"
        },
        "papermill": {
          "duration": 0.039562,
          "end_time": "2020-09-08T03:16:07.330672",
          "exception": false,
          "start_time": "2020-09-08T03:16:07.291110",
          "status": "completed"
        },
        "tags": [],
        "id": "UoD6iiOxWh_c"
      },
      "outputs": [],
      "source": [
        "model6=LabelEncoder()"
      ]
    },
    {
      "cell_type": "code",
      "execution_count": 45,
      "metadata": {
        "execution": {
          "iopub.execute_input": "2020-09-08T03:16:07.399955Z",
          "iopub.status.busy": "2020-09-08T03:16:07.398962Z",
          "iopub.status.idle": "2020-09-08T03:16:07.403168Z",
          "shell.execute_reply": "2020-09-08T03:16:07.403831Z"
        },
        "papermill": {
          "duration": 0.043225,
          "end_time": "2020-09-08T03:16:07.403994",
          "exception": false,
          "start_time": "2020-09-08T03:16:07.360769",
          "status": "completed"
        },
        "tags": [],
        "id": "qvHxeYfuWh_c",
        "colab": {
          "base_uri": "https://localhost:8080/",
          "height": 503
        },
        "outputId": "014e8825-ee56-4c66-aad0-3c605281204f"
      },
      "outputs": [
        {
          "output_type": "error",
          "ename": "KeyError",
          "evalue": "ignored",
          "traceback": [
            "\u001b[0;31m---------------------------------------------------------------------------\u001b[0m",
            "\u001b[0;31mKeyError\u001b[0m                                  Traceback (most recent call last)",
            "\u001b[0;32m/usr/local/lib/python3.7/dist-packages/pandas/core/indexes/base.py\u001b[0m in \u001b[0;36mget_loc\u001b[0;34m(self, key, method, tolerance)\u001b[0m\n\u001b[1;32m   3360\u001b[0m             \u001b[0;32mtry\u001b[0m\u001b[0;34m:\u001b[0m\u001b[0;34m\u001b[0m\u001b[0;34m\u001b[0m\u001b[0m\n\u001b[0;32m-> 3361\u001b[0;31m                 \u001b[0;32mreturn\u001b[0m \u001b[0mself\u001b[0m\u001b[0;34m.\u001b[0m\u001b[0m_engine\u001b[0m\u001b[0;34m.\u001b[0m\u001b[0mget_loc\u001b[0m\u001b[0;34m(\u001b[0m\u001b[0mcasted_key\u001b[0m\u001b[0;34m)\u001b[0m\u001b[0;34m\u001b[0m\u001b[0;34m\u001b[0m\u001b[0m\n\u001b[0m\u001b[1;32m   3362\u001b[0m             \u001b[0;32mexcept\u001b[0m \u001b[0mKeyError\u001b[0m \u001b[0;32mas\u001b[0m \u001b[0merr\u001b[0m\u001b[0;34m:\u001b[0m\u001b[0;34m\u001b[0m\u001b[0;34m\u001b[0m\u001b[0m\n",
            "\u001b[0;32m/usr/local/lib/python3.7/dist-packages/pandas/_libs/index.pyx\u001b[0m in \u001b[0;36mpandas._libs.index.IndexEngine.get_loc\u001b[0;34m()\u001b[0m\n",
            "\u001b[0;32m/usr/local/lib/python3.7/dist-packages/pandas/_libs/index.pyx\u001b[0m in \u001b[0;36mpandas._libs.index.IndexEngine.get_loc\u001b[0;34m()\u001b[0m\n",
            "\u001b[0;32mpandas/_libs/hashtable_class_helper.pxi\u001b[0m in \u001b[0;36mpandas._libs.hashtable.PyObjectHashTable.get_item\u001b[0;34m()\u001b[0m\n",
            "\u001b[0;32mpandas/_libs/hashtable_class_helper.pxi\u001b[0m in \u001b[0;36mpandas._libs.hashtable.PyObjectHashTable.get_item\u001b[0;34m()\u001b[0m\n",
            "\u001b[0;31mKeyError\u001b[0m: 'loan_status'",
            "\nThe above exception was the direct cause of the following exception:\n",
            "\u001b[0;31mKeyError\u001b[0m                                  Traceback (most recent call last)",
            "\u001b[0;32m<ipython-input-45-334c6179d369>\u001b[0m in \u001b[0;36m<module>\u001b[0;34m()\u001b[0m\n\u001b[0;32m----> 1\u001b[0;31m \u001b[0mmodel6\u001b[0m\u001b[0;34m.\u001b[0m\u001b[0mfit\u001b[0m\u001b[0;34m(\u001b[0m\u001b[0mdf\u001b[0m\u001b[0;34m[\u001b[0m\u001b[0;34m'loan_status'\u001b[0m\u001b[0;34m]\u001b[0m\u001b[0;34m)\u001b[0m\u001b[0;34m\u001b[0m\u001b[0;34m\u001b[0m\u001b[0m\n\u001b[0m",
            "\u001b[0;32m/usr/local/lib/python3.7/dist-packages/pandas/core/frame.py\u001b[0m in \u001b[0;36m__getitem__\u001b[0;34m(self, key)\u001b[0m\n\u001b[1;32m   3456\u001b[0m             \u001b[0;32mif\u001b[0m \u001b[0mself\u001b[0m\u001b[0;34m.\u001b[0m\u001b[0mcolumns\u001b[0m\u001b[0;34m.\u001b[0m\u001b[0mnlevels\u001b[0m \u001b[0;34m>\u001b[0m \u001b[0;36m1\u001b[0m\u001b[0;34m:\u001b[0m\u001b[0;34m\u001b[0m\u001b[0;34m\u001b[0m\u001b[0m\n\u001b[1;32m   3457\u001b[0m                 \u001b[0;32mreturn\u001b[0m \u001b[0mself\u001b[0m\u001b[0;34m.\u001b[0m\u001b[0m_getitem_multilevel\u001b[0m\u001b[0;34m(\u001b[0m\u001b[0mkey\u001b[0m\u001b[0;34m)\u001b[0m\u001b[0;34m\u001b[0m\u001b[0;34m\u001b[0m\u001b[0m\n\u001b[0;32m-> 3458\u001b[0;31m             \u001b[0mindexer\u001b[0m \u001b[0;34m=\u001b[0m \u001b[0mself\u001b[0m\u001b[0;34m.\u001b[0m\u001b[0mcolumns\u001b[0m\u001b[0;34m.\u001b[0m\u001b[0mget_loc\u001b[0m\u001b[0;34m(\u001b[0m\u001b[0mkey\u001b[0m\u001b[0;34m)\u001b[0m\u001b[0;34m\u001b[0m\u001b[0;34m\u001b[0m\u001b[0m\n\u001b[0m\u001b[1;32m   3459\u001b[0m             \u001b[0;32mif\u001b[0m \u001b[0mis_integer\u001b[0m\u001b[0;34m(\u001b[0m\u001b[0mindexer\u001b[0m\u001b[0;34m)\u001b[0m\u001b[0;34m:\u001b[0m\u001b[0;34m\u001b[0m\u001b[0;34m\u001b[0m\u001b[0m\n\u001b[1;32m   3460\u001b[0m                 \u001b[0mindexer\u001b[0m \u001b[0;34m=\u001b[0m \u001b[0;34m[\u001b[0m\u001b[0mindexer\u001b[0m\u001b[0;34m]\u001b[0m\u001b[0;34m\u001b[0m\u001b[0;34m\u001b[0m\u001b[0m\n",
            "\u001b[0;32m/usr/local/lib/python3.7/dist-packages/pandas/core/indexes/base.py\u001b[0m in \u001b[0;36mget_loc\u001b[0;34m(self, key, method, tolerance)\u001b[0m\n\u001b[1;32m   3361\u001b[0m                 \u001b[0;32mreturn\u001b[0m \u001b[0mself\u001b[0m\u001b[0;34m.\u001b[0m\u001b[0m_engine\u001b[0m\u001b[0;34m.\u001b[0m\u001b[0mget_loc\u001b[0m\u001b[0;34m(\u001b[0m\u001b[0mcasted_key\u001b[0m\u001b[0;34m)\u001b[0m\u001b[0;34m\u001b[0m\u001b[0;34m\u001b[0m\u001b[0m\n\u001b[1;32m   3362\u001b[0m             \u001b[0;32mexcept\u001b[0m \u001b[0mKeyError\u001b[0m \u001b[0;32mas\u001b[0m \u001b[0merr\u001b[0m\u001b[0;34m:\u001b[0m\u001b[0;34m\u001b[0m\u001b[0;34m\u001b[0m\u001b[0m\n\u001b[0;32m-> 3363\u001b[0;31m                 \u001b[0;32mraise\u001b[0m \u001b[0mKeyError\u001b[0m\u001b[0;34m(\u001b[0m\u001b[0mkey\u001b[0m\u001b[0;34m)\u001b[0m \u001b[0;32mfrom\u001b[0m \u001b[0merr\u001b[0m\u001b[0;34m\u001b[0m\u001b[0;34m\u001b[0m\u001b[0m\n\u001b[0m\u001b[1;32m   3364\u001b[0m \u001b[0;34m\u001b[0m\u001b[0m\n\u001b[1;32m   3365\u001b[0m         \u001b[0;32mif\u001b[0m \u001b[0mis_scalar\u001b[0m\u001b[0;34m(\u001b[0m\u001b[0mkey\u001b[0m\u001b[0;34m)\u001b[0m \u001b[0;32mand\u001b[0m \u001b[0misna\u001b[0m\u001b[0;34m(\u001b[0m\u001b[0mkey\u001b[0m\u001b[0;34m)\u001b[0m \u001b[0;32mand\u001b[0m \u001b[0;32mnot\u001b[0m \u001b[0mself\u001b[0m\u001b[0;34m.\u001b[0m\u001b[0mhasnans\u001b[0m\u001b[0;34m:\u001b[0m\u001b[0;34m\u001b[0m\u001b[0;34m\u001b[0m\u001b[0m\n",
            "\u001b[0;31mKeyError\u001b[0m: 'loan_status'"
          ]
        }
      ],
      "source": [
        "model6.fit(df['loan_status'])"
      ]
    },
    {
      "cell_type": "code",
      "execution_count": null,
      "metadata": {
        "execution": {
          "iopub.execute_input": "2020-09-08T03:16:07.474101Z",
          "iopub.status.busy": "2020-09-08T03:16:07.472978Z",
          "iopub.status.idle": "2020-09-08T03:16:07.476673Z",
          "shell.execute_reply": "2020-09-08T03:16:07.475890Z"
        },
        "papermill": {
          "duration": 0.042488,
          "end_time": "2020-09-08T03:16:07.476824",
          "exception": false,
          "start_time": "2020-09-08T03:16:07.434336",
          "status": "completed"
        },
        "tags": [],
        "id": "gvMCKeckWh_d"
      },
      "outputs": [],
      "source": [
        "df['loan_status']= model6.transform(df['loan_status'])"
      ]
    },
    {
      "cell_type": "code",
      "execution_count": null,
      "metadata": {
        "execution": {
          "iopub.execute_input": "2020-09-08T03:16:07.562874Z",
          "iopub.status.busy": "2020-09-08T03:16:07.561806Z",
          "iopub.status.idle": "2020-09-08T03:16:07.568836Z",
          "shell.execute_reply": "2020-09-08T03:16:07.568038Z"
        },
        "papermill": {
          "duration": 0.059515,
          "end_time": "2020-09-08T03:16:07.568966",
          "exception": false,
          "start_time": "2020-09-08T03:16:07.509451",
          "status": "completed"
        },
        "scrolled": true,
        "tags": [],
        "id": "b63nyjtIWh_d"
      },
      "outputs": [],
      "source": [
        "df.head()"
      ]
    },
    {
      "cell_type": "code",
      "execution_count": null,
      "metadata": {
        "execution": {
          "iopub.execute_input": "2020-09-08T03:16:07.647936Z",
          "iopub.status.busy": "2020-09-08T03:16:07.646703Z",
          "iopub.status.idle": "2020-09-08T03:16:08.549734Z",
          "shell.execute_reply": "2020-09-08T03:16:08.548510Z"
        },
        "papermill": {
          "duration": 0.949081,
          "end_time": "2020-09-08T03:16:08.549911",
          "exception": false,
          "start_time": "2020-09-08T03:16:07.600830",
          "status": "completed"
        },
        "tags": [],
        "id": "iLJPS_aNWh_d"
      },
      "outputs": [],
      "source": [
        "plt.figure(figsize=(12,8))\n",
        "\n",
        "corr = df.corr()  #L1\n",
        "mask = np.zeros_like(corr) #L2\n",
        "mask[np.triu_indices_from(mask)] = True #L3\n",
        "with sns.axes_style(\"white\"):\n",
        "    ax = sns.heatmap(corr, mask=mask, square=True,annot=True,linewidths=2, cmap='viridis')\n",
        "plt.title('Correlation Matrix for Loan Status')"
      ]
    },
    {
      "cell_type": "markdown",
      "source": [
        "Explain what the encoder does here\n",
        "\n",
        "Explain what this plot would do if it did not include L1, L2, L3"
      ],
      "metadata": {
        "id": "WIhUQEaje6o_"
      }
    },
    {
      "cell_type": "markdown",
      "metadata": {
        "papermill": {
          "duration": 0.03998,
          "end_time": "2020-09-08T03:16:08.627145",
          "exception": false,
          "start_time": "2020-09-08T03:16:08.587165",
          "status": "completed"
        },
        "tags": [],
        "id": "EmyNB18EWh_d"
      },
      "source": [
        "From the above figure, we can see that Credit_History (Independent Variable) has the maximum correlation with Loan_Status (Dependent Variable). Which denotes that the Loan_Status is heavily dependent on the Credit_History."
      ]
    },
    {
      "cell_type": "markdown",
      "metadata": {
        "papermill": {
          "duration": 0.033935,
          "end_time": "2020-09-08T03:16:08.695352",
          "exception": false,
          "start_time": "2020-09-08T03:16:08.661417",
          "status": "completed"
        },
        "tags": [],
        "id": "ImSz5aXGWh_d"
      },
      "source": [
        "### 4-Prediction"
      ]
    },
    {
      "cell_type": "markdown",
      "metadata": {
        "papermill": {
          "duration": 0.032031,
          "end_time": "2020-09-08T03:16:08.760801",
          "exception": false,
          "start_time": "2020-09-08T03:16:08.728770",
          "status": "completed"
        },
        "tags": [],
        "id": "YUO9jN7iWh_e"
      },
      "source": [
        "##### 4-1-LogisticRegression"
      ]
    },
    {
      "cell_type": "code",
      "source": [
        "# Set a variable equal to the dataframe that has dropped the columns loan_id, and loan_status\n",
        "# Hint: might want to control axis\n",
        "# set 2nd variable equal to the dataframe with a singular feature loan status"
      ],
      "metadata": {
        "id": "wJdp7YSJfcOo"
      },
      "execution_count": null,
      "outputs": []
    },
    {
      "cell_type": "code",
      "source": [
        "# Perform a train test split"
      ],
      "metadata": {
        "id": "F3MqlUf3f5QE"
      },
      "execution_count": null,
      "outputs": []
    },
    {
      "cell_type": "code",
      "source": [
        "# set a variable equal to a logistic regression model"
      ],
      "metadata": {
        "id": "shsSbqD-gTCQ"
      },
      "execution_count": null,
      "outputs": []
    },
    {
      "cell_type": "code",
      "source": [
        "# fit your model to the training set"
      ],
      "metadata": {
        "id": "2R-K-8FIgYpB"
      },
      "execution_count": null,
      "outputs": []
    },
    {
      "cell_type": "code",
      "source": [
        "# set a variable to the logistic regression prediction of the test set\n",
        "# basically if your variables were X and y the use logistic regression to predict X-test\n"
      ],
      "metadata": {
        "id": "sHTOJEQDggFP"
      },
      "execution_count": null,
      "outputs": []
    },
    {
      "cell_type": "code",
      "execution_count": null,
      "metadata": {
        "execution": {
          "iopub.execute_input": "2020-09-08T03:16:09.305929Z",
          "iopub.status.busy": "2020-09-08T03:16:09.304450Z",
          "iopub.status.idle": "2020-09-08T03:16:09.319854Z",
          "shell.execute_reply": "2020-09-08T03:16:09.321172Z"
        },
        "papermill": {
          "duration": 0.064783,
          "end_time": "2020-09-08T03:16:09.321445",
          "exception": false,
          "start_time": "2020-09-08T03:16:09.256662",
          "status": "completed"
        },
        "tags": [],
        "id": "xazJXdIZWh_f"
      },
      "outputs": [],
      "source": [
        "print(confusion_matrix(y_test,lr_prediction))\n",
        "\n",
        "# Explain confusion matrix\n",
        "\n",
        "\n",
        "print('\\n')\n",
        "print(classification_report(y_test,lr_prediction))\n",
        "\n",
        "# Explain classification report\n",
        "\n",
        "print('\\n')\n",
        "print('Logistic Regression accuracy: ', accuracy_score(y_test,lr_prediction))\n",
        "\n",
        "# Do you feel like this is an accurate model?"
      ]
    },
    {
      "cell_type": "markdown",
      "metadata": {
        "papermill": {
          "duration": 0.036852,
          "end_time": "2020-09-08T03:16:09.395570",
          "exception": false,
          "start_time": "2020-09-08T03:16:09.358718",
          "status": "completed"
        },
        "tags": [],
        "id": "NL8_5l4EWh_f"
      },
      "source": [
        "# 4-2-More models"
      ]
    },
    {
      "cell_type": "markdown",
      "source": [
        "### Decision Tree Classifier"
      ],
      "metadata": {
        "id": "HlLowN2ShVwa"
      }
    },
    {
      "cell_type": "code",
      "source": [
        "# Use this Decision Tree Classifier Model to complete the same thing on \n",
        "\n",
        "# Random Forest Classifier\n",
        "# K Nearest Neighbors\n",
        "# SVC\n"
      ],
      "metadata": {
        "id": "v5-2cKErhdiB"
      },
      "execution_count": null,
      "outputs": []
    },
    {
      "cell_type": "code",
      "execution_count": null,
      "metadata": {
        "execution": {
          "iopub.execute_input": "2020-09-08T03:16:09.472762Z",
          "iopub.status.busy": "2020-09-08T03:16:09.471994Z",
          "iopub.status.idle": "2020-09-08T03:16:09.475399Z",
          "shell.execute_reply": "2020-09-08T03:16:09.476025Z"
        },
        "papermill": {
          "duration": 0.045616,
          "end_time": "2020-09-08T03:16:09.476198",
          "exception": false,
          "start_time": "2020-09-08T03:16:09.430582",
          "status": "completed"
        },
        "tags": [],
        "id": "fWhqoibMWh_f"
      },
      "outputs": [],
      "source": [
        "dt=DecisionTreeClassifier()"
      ]
    },
    {
      "cell_type": "code",
      "execution_count": null,
      "metadata": {
        "execution": {
          "iopub.execute_input": "2020-09-08T03:16:09.554316Z",
          "iopub.status.busy": "2020-09-08T03:16:09.553517Z",
          "iopub.status.idle": "2020-09-08T03:16:09.562792Z",
          "shell.execute_reply": "2020-09-08T03:16:09.562036Z"
        },
        "papermill": {
          "duration": 0.051438,
          "end_time": "2020-09-08T03:16:09.562921",
          "exception": false,
          "start_time": "2020-09-08T03:16:09.511483",
          "status": "completed"
        },
        "tags": [],
        "id": "4hB9CPfIWh_f",
        "outputId": "91ce4c49-81e5-45b5-bb96-c72e7eababce"
      },
      "outputs": [
        {
          "data": {
            "text/plain": [
              "DecisionTreeClassifier()"
            ]
          },
          "execution_count": 56,
          "metadata": {},
          "output_type": "execute_result"
        }
      ],
      "source": [
        "dt.fit(X_train, y_train)"
      ]
    },
    {
      "cell_type": "code",
      "execution_count": null,
      "metadata": {
        "execution": {
          "iopub.execute_input": "2020-09-08T03:16:09.648972Z",
          "iopub.status.busy": "2020-09-08T03:16:09.647648Z",
          "iopub.status.idle": "2020-09-08T03:16:09.655685Z",
          "shell.execute_reply": "2020-09-08T03:16:09.654587Z"
        },
        "papermill": {
          "duration": 0.060434,
          "end_time": "2020-09-08T03:16:09.655936",
          "exception": false,
          "start_time": "2020-09-08T03:16:09.595502",
          "status": "completed"
        },
        "tags": [],
        "id": "Z6b2iA1PWh_f"
      },
      "outputs": [],
      "source": [
        "dt_prediction=dt.predict(X_test)"
      ]
    },
    {
      "cell_type": "code",
      "execution_count": null,
      "metadata": {
        "execution": {
          "iopub.execute_input": "2020-09-08T03:16:09.770198Z",
          "iopub.status.busy": "2020-09-08T03:16:09.768911Z",
          "iopub.status.idle": "2020-09-08T03:16:09.785597Z",
          "shell.execute_reply": "2020-09-08T03:16:09.786224Z"
        },
        "papermill": {
          "duration": 0.079809,
          "end_time": "2020-09-08T03:16:09.786410",
          "exception": false,
          "start_time": "2020-09-08T03:16:09.706601",
          "status": "completed"
        },
        "tags": [],
        "id": "sVwFA9cnWh_g",
        "outputId": "490d8c1f-0bce-43d9-c0bf-1c09d56aeea4"
      },
      "outputs": [
        {
          "name": "stdout",
          "output_type": "stream",
          "text": [
            "[[14 17]\n",
            " [15 63]]\n",
            "\n",
            "\n",
            "              precision    recall  f1-score   support\n",
            "\n",
            "           0       0.48      0.45      0.47        31\n",
            "           1       0.79      0.81      0.80        78\n",
            "\n",
            "    accuracy                           0.71       109\n",
            "   macro avg       0.64      0.63      0.63       109\n",
            "weighted avg       0.70      0.71      0.70       109\n",
            "\n",
            "\n",
            "\n",
            "Decision Tree Accuracy:  0.7064220183486238\n"
          ]
        }
      ],
      "source": [
        "# Confusion Matrix and Model Accuracy\n",
        "\n",
        "print(confusion_matrix(y_test,dt_prediction))\n",
        "print('\\n')\n",
        "print(classification_report(y_test,dt_prediction))\n",
        "print('\\n')\n",
        "print('Decision Tree Accuracy: ', accuracy_score(y_test,dt_prediction))"
      ]
    },
    {
      "cell_type": "markdown",
      "metadata": {
        "papermill": {
          "duration": 0.033503,
          "end_time": "2020-09-08T03:16:09.861581",
          "exception": false,
          "start_time": "2020-09-08T03:16:09.828078",
          "status": "completed"
        },
        "tags": [],
        "id": "5gAl__TcWh_g"
      },
      "source": [
        "##### 4-3-Random Forest"
      ]
    },
    {
      "cell_type": "code",
      "execution_count": null,
      "metadata": {
        "execution": {
          "iopub.execute_input": "2020-09-08T03:16:09.935180Z",
          "iopub.status.busy": "2020-09-08T03:16:09.934364Z",
          "iopub.status.idle": "2020-09-08T03:16:09.938296Z",
          "shell.execute_reply": "2020-09-08T03:16:09.937543Z"
        },
        "papermill": {
          "duration": 0.043446,
          "end_time": "2020-09-08T03:16:09.938436",
          "exception": false,
          "start_time": "2020-09-08T03:16:09.894990",
          "status": "completed"
        },
        "tags": [],
        "id": "EEvhIEZpWh_g"
      },
      "outputs": [],
      "source": [
        "# Box for model\n"
      ]
    },
    {
      "cell_type": "code",
      "execution_count": null,
      "metadata": {
        "execution": {
          "iopub.execute_input": "2020-09-08T03:16:10.023125Z",
          "iopub.status.busy": "2020-09-08T03:16:10.022288Z",
          "iopub.status.idle": "2020-09-08T03:16:10.553028Z",
          "shell.execute_reply": "2020-09-08T03:16:10.552196Z"
        },
        "papermill": {
          "duration": 0.581309,
          "end_time": "2020-09-08T03:16:10.553166",
          "exception": false,
          "start_time": "2020-09-08T03:16:09.971857",
          "status": "completed"
        },
        "tags": [],
        "id": "9z355toTWh_g"
      },
      "outputs": [],
      "source": [
        "# Box for fit\n",
        "\n"
      ]
    },
    {
      "cell_type": "code",
      "execution_count": null,
      "metadata": {
        "execution": {
          "iopub.execute_input": "2020-09-08T03:16:10.722199Z",
          "iopub.status.busy": "2020-09-08T03:16:10.721311Z",
          "iopub.status.idle": "2020-09-08T03:16:10.752617Z",
          "shell.execute_reply": "2020-09-08T03:16:10.751794Z"
        },
        "papermill": {
          "duration": 0.165155,
          "end_time": "2020-09-08T03:16:10.752749",
          "exception": false,
          "start_time": "2020-09-08T03:16:10.587594",
          "status": "completed"
        },
        "tags": [],
        "id": "qLtWxTx-Wh_g"
      },
      "outputs": [],
      "source": [
        "# Box for prediction\n",
        "\n",
        "\n"
      ]
    },
    {
      "cell_type": "code",
      "execution_count": null,
      "metadata": {
        "execution": {
          "iopub.execute_input": "2020-09-08T03:16:10.832579Z",
          "iopub.status.busy": "2020-09-08T03:16:10.831750Z",
          "iopub.status.idle": "2020-09-08T03:16:10.847098Z",
          "shell.execute_reply": "2020-09-08T03:16:10.846243Z"
        },
        "papermill": {
          "duration": 0.060092,
          "end_time": "2020-09-08T03:16:10.847243",
          "exception": false,
          "start_time": "2020-09-08T03:16:10.787151",
          "status": "completed"
        },
        "tags": [],
        "id": "znq3Hz8lWh_h"
      },
      "outputs": [],
      "source": [
        "# Box for Confusion Matrix and Model Accuracy\n",
        "\n"
      ]
    },
    {
      "cell_type": "markdown",
      "metadata": {
        "papermill": {
          "duration": 0.034116,
          "end_time": "2020-09-08T03:16:10.916017",
          "exception": false,
          "start_time": "2020-09-08T03:16:10.881901",
          "status": "completed"
        },
        "tags": [],
        "id": "nyEFYcZjWh_h"
      },
      "source": [
        "##### 4-4-KNearest Neighbors"
      ]
    },
    {
      "cell_type": "code",
      "execution_count": null,
      "metadata": {
        "execution": {
          "iopub.execute_input": "2020-09-08T03:16:10.999870Z",
          "iopub.status.busy": "2020-09-08T03:16:10.997521Z",
          "iopub.status.idle": "2020-09-08T03:16:11.536747Z",
          "shell.execute_reply": "2020-09-08T03:16:11.537673Z"
        },
        "papermill": {
          "duration": 0.5862,
          "end_time": "2020-09-08T03:16:11.537880",
          "exception": false,
          "start_time": "2020-09-08T03:16:10.951680",
          "status": "completed"
        },
        "tags": [],
        "id": "THPWeMAFWh_h",
        "outputId": "0a87a33c-7716-431f-e337-7851ee09d47c"
      },
      "outputs": [
        {
          "name": "stdout",
          "output_type": "stream",
          "text": [
            "[0.3853211009174312, 0.48623853211009177, 0.4036697247706422, 0.44954128440366975, 0.43119266055045874, 0.45871559633027525, 0.3486238532110092, 0.3669724770642202, 0.3302752293577982, 0.3302752293577982, 0.3119266055045872, 0.3394495412844037, 0.29357798165137616, 0.30275229357798167, 0.29357798165137616, 0.3119266055045872, 0.3211009174311927, 0.29357798165137616, 0.27522935779816515, 0.27522935779816515, 0.27522935779816515, 0.27522935779816515, 0.26605504587155965, 0.26605504587155965, 0.27522935779816515, 0.27522935779816515, 0.28440366972477066, 0.27522935779816515, 0.28440366972477066, 0.28440366972477066, 0.28440366972477066, 0.28440366972477066, 0.28440366972477066, 0.28440366972477066, 0.28440366972477066, 0.28440366972477066, 0.28440366972477066, 0.28440366972477066, 0.28440366972477066]\n"
          ]
        }
      ],
      "source": [
        "error_rate=[]\n",
        "for n in range(1,40):\n",
        "    knn=KNeighborsClassifier(n_neighbors=n)\n",
        "    knn.fit(X_train, y_train)\n",
        "    knn_prediction=knn.predict(X_test)\n",
        "    error_rate.append(np.mean(knn_prediction!=y_test))\n",
        "print(error_rate)"
      ]
    },
    {
      "cell_type": "code",
      "execution_count": null,
      "metadata": {
        "execution": {
          "iopub.execute_input": "2020-09-08T03:16:11.638085Z",
          "iopub.status.busy": "2020-09-08T03:16:11.636111Z",
          "iopub.status.idle": "2020-09-08T03:16:12.063158Z",
          "shell.execute_reply": "2020-09-08T03:16:12.063821Z"
        },
        "papermill": {
          "duration": 0.486515,
          "end_time": "2020-09-08T03:16:12.064009",
          "exception": false,
          "start_time": "2020-09-08T03:16:11.577494",
          "status": "completed"
        },
        "tags": [],
        "id": "Xds4kchxWh_h"
      },
      "outputs": [],
      "source": [
        "plt.figure(figsize=(8,6))\n",
        "sns.set_style('whitegrid')\n",
        "plt.plot(list(range(1,40)),error_rate,color='b', marker='o', linewidth=2, markersize=12, markerfacecolor='r', markeredgecolor='r')\n",
        "plt.xlabel('Number of Neighbors')\n",
        "plt.ylabel('Error Rate')\n",
        "plt.title('Elbow Method')"
      ]
    },
    {
      "cell_type": "code",
      "source": [
        "# Run the above two boxes to get the number of necessary nearest neighbors\n",
        "# Please look up what would tell you what number to use from this "
      ],
      "metadata": {
        "id": "eqezyCYMixqP"
      },
      "execution_count": null,
      "outputs": []
    },
    {
      "cell_type": "code",
      "execution_count": null,
      "metadata": {
        "execution": {
          "iopub.execute_input": "2020-09-08T03:16:12.147838Z",
          "iopub.status.busy": "2020-09-08T03:16:12.146539Z",
          "iopub.status.idle": "2020-09-08T03:16:12.150256Z",
          "shell.execute_reply": "2020-09-08T03:16:12.150944Z"
        },
        "papermill": {
          "duration": 0.048706,
          "end_time": "2020-09-08T03:16:12.151140",
          "exception": false,
          "start_time": "2020-09-08T03:16:12.102434",
          "status": "completed"
        },
        "tags": [],
        "id": "IqOqSr1KWh_h"
      },
      "outputs": [],
      "source": [
        "# Get Number from above cells\n",
        "\n",
        "knn=KNeighborsClassifier(n_neighbors=?)"
      ]
    },
    {
      "cell_type": "code",
      "execution_count": null,
      "metadata": {
        "execution": {
          "iopub.execute_input": "2020-09-08T03:16:12.242944Z",
          "iopub.status.busy": "2020-09-08T03:16:12.240283Z",
          "iopub.status.idle": "2020-09-08T03:16:12.247941Z",
          "shell.execute_reply": "2020-09-08T03:16:12.248518Z"
        },
        "papermill": {
          "duration": 0.058474,
          "end_time": "2020-09-08T03:16:12.248695",
          "exception": false,
          "start_time": "2020-09-08T03:16:12.190221",
          "status": "completed"
        },
        "tags": [],
        "id": "Z3Q2422BWh_i"
      },
      "outputs": [],
      "source": [
        "# Box for fitting \n"
      ]
    },
    {
      "cell_type": "code",
      "execution_count": null,
      "metadata": {
        "execution": {
          "iopub.execute_input": "2020-09-08T03:16:12.331602Z",
          "iopub.status.busy": "2020-09-08T03:16:12.330740Z",
          "iopub.status.idle": "2020-09-08T03:16:12.341936Z",
          "shell.execute_reply": "2020-09-08T03:16:12.341116Z"
        },
        "papermill": {
          "duration": 0.056219,
          "end_time": "2020-09-08T03:16:12.342067",
          "exception": false,
          "start_time": "2020-09-08T03:16:12.285848",
          "status": "completed"
        },
        "tags": [],
        "id": "iCwhr11hWh_i"
      },
      "outputs": [],
      "source": [
        "# Box for predictions\n"
      ]
    },
    {
      "cell_type": "code",
      "execution_count": null,
      "metadata": {
        "execution": {
          "iopub.execute_input": "2020-09-08T03:16:12.426316Z",
          "iopub.status.busy": "2020-09-08T03:16:12.425449Z",
          "iopub.status.idle": "2020-09-08T03:16:12.440260Z",
          "shell.execute_reply": "2020-09-08T03:16:12.439387Z"
        },
        "papermill": {
          "duration": 0.061825,
          "end_time": "2020-09-08T03:16:12.440401",
          "exception": false,
          "start_time": "2020-09-08T03:16:12.378576",
          "status": "completed"
        },
        "tags": [],
        "id": "QHH562lDWh_i"
      },
      "outputs": [],
      "source": [
        "# Box for Confusion Matrix and Model Accuracy\n",
        "\n"
      ]
    },
    {
      "cell_type": "markdown",
      "metadata": {
        "papermill": {
          "duration": 0.035892,
          "end_time": "2020-09-08T03:16:12.515080",
          "exception": false,
          "start_time": "2020-09-08T03:16:12.479188",
          "status": "completed"
        },
        "tags": [],
        "id": "KFEZaj-iWh_i"
      },
      "source": [
        "##### 4-5-SVC"
      ]
    },
    {
      "cell_type": "code",
      "execution_count": null,
      "metadata": {
        "execution": {
          "iopub.execute_input": "2020-09-08T03:16:12.592711Z",
          "iopub.status.busy": "2020-09-08T03:16:12.591334Z",
          "iopub.status.idle": "2020-09-08T03:16:12.595208Z",
          "shell.execute_reply": "2020-09-08T03:16:12.594346Z"
        },
        "papermill": {
          "duration": 0.04455,
          "end_time": "2020-09-08T03:16:12.595349",
          "exception": false,
          "start_time": "2020-09-08T03:16:12.550799",
          "status": "completed"
        },
        "tags": [],
        "id": "rXqFw5gyWh_i"
      },
      "outputs": [],
      "source": [
        "# Box for model\n",
        "\n"
      ]
    },
    {
      "cell_type": "code",
      "execution_count": null,
      "metadata": {
        "execution": {
          "iopub.execute_input": "2020-09-08T03:16:12.685046Z",
          "iopub.status.busy": "2020-09-08T03:16:12.684189Z",
          "iopub.status.idle": "2020-09-08T03:16:12.705415Z",
          "shell.execute_reply": "2020-09-08T03:16:12.704457Z"
        },
        "papermill": {
          "duration": 0.069879,
          "end_time": "2020-09-08T03:16:12.705596",
          "exception": false,
          "start_time": "2020-09-08T03:16:12.635717",
          "status": "completed"
        },
        "tags": [],
        "id": "oirFHKVGWh_i"
      },
      "outputs": [],
      "source": [
        "# Box for fitting \n",
        "\n"
      ]
    },
    {
      "cell_type": "code",
      "execution_count": null,
      "metadata": {
        "execution": {
          "iopub.execute_input": "2020-09-08T03:16:12.790520Z",
          "iopub.status.busy": "2020-09-08T03:16:12.789661Z",
          "iopub.status.idle": "2020-09-08T03:16:12.794409Z",
          "shell.execute_reply": "2020-09-08T03:16:12.795003Z"
        },
        "papermill": {
          "duration": 0.049784,
          "end_time": "2020-09-08T03:16:12.795179",
          "exception": false,
          "start_time": "2020-09-08T03:16:12.745395",
          "status": "completed"
        },
        "tags": [],
        "id": "fmOiZpeOWh_j"
      },
      "outputs": [],
      "source": [
        "# Box for predicting\n"
      ]
    },
    {
      "cell_type": "code",
      "execution_count": null,
      "metadata": {
        "execution": {
          "iopub.execute_input": "2020-09-08T03:16:12.881214Z",
          "iopub.status.busy": "2020-09-08T03:16:12.880041Z",
          "iopub.status.idle": "2020-09-08T03:16:12.892392Z",
          "shell.execute_reply": "2020-09-08T03:16:12.891618Z"
        },
        "papermill": {
          "duration": 0.057881,
          "end_time": "2020-09-08T03:16:12.892529",
          "exception": false,
          "start_time": "2020-09-08T03:16:12.834648",
          "status": "completed"
        },
        "tags": [],
        "id": "z9DeDDj_Wh_j"
      },
      "outputs": [],
      "source": [
        "# Box for Confusion Matrix and Model Accuracy"
      ]
    },
    {
      "cell_type": "code",
      "execution_count": null,
      "metadata": {
        "execution": {
          "iopub.execute_input": "2020-09-08T03:16:12.977135Z",
          "iopub.status.busy": "2020-09-08T03:16:12.975351Z",
          "iopub.status.idle": "2020-09-08T03:16:12.982336Z",
          "shell.execute_reply": "2020-09-08T03:16:12.980913Z"
        },
        "papermill": {
          "duration": 0.052385,
          "end_time": "2020-09-08T03:16:12.982521",
          "exception": false,
          "start_time": "2020-09-08T03:16:12.930136",
          "status": "completed"
        },
        "tags": [],
        "id": "b4O-BMvnWh_j"
      },
      "outputs": [],
      "source": [
        "# Using the example for logistic regression please print the accuracy scores for the 5 models you used.\n",
        "# Please Let me know you conclusions in the last box. \n",
        "# one about the data\n",
        "# the second about which model is best\n",
        "\n",
        "print('Logistic Regression Accuracy: ', accuracy_score(y_test,lr_prediction))\n"
      ]
    },
    {
      "cell_type": "markdown",
      "metadata": {
        "papermill": {
          "duration": 0.039901,
          "end_time": "2020-09-08T03:16:13.061982",
          "exception": false,
          "start_time": "2020-09-08T03:16:13.022081",
          "status": "completed"
        },
        "tags": [],
        "id": "iLClB79bWh_k"
      },
      "source": [
        "### CONCLUSION\n",
        "\n",
        "1. Tell me what you learned from the data\n",
        "\n",
        "2. Which model is best and why?:"
      ]
    }
  ],
  "metadata": {
    "kernelspec": {
      "display_name": "Python 3",
      "language": "python",
      "name": "python3"
    },
    "language_info": {
      "codemirror_mode": {
        "name": "ipython",
        "version": 3
      },
      "file_extension": ".py",
      "mimetype": "text/x-python",
      "name": "python",
      "nbconvert_exporter": "python",
      "pygments_lexer": "ipython3",
      "version": "3.7.6"
    },
    "papermill": {
      "duration": 23.464495,
      "end_time": "2020-09-08T03:16:13.213032",
      "environment_variables": {},
      "exception": null,
      "input_path": "__notebook__.ipynb",
      "output_path": "__notebook__.ipynb",
      "parameters": {},
      "start_time": "2020-09-08T03:15:49.748537",
      "version": "2.1.0"
    },
    "colab": {
      "name": "Justin_Le_LoanRepayment_Assignment.ipynb",
      "provenance": []
    }
  },
  "nbformat": 4,
  "nbformat_minor": 0
}