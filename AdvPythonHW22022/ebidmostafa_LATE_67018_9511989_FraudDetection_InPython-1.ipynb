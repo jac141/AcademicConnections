{
  "cells": [
    {
      "cell_type": "code",
      "execution_count": null,
      "metadata": {
        "id": "JUqU4TaBGDDI"
      },
      "outputs": [],
      "source": [
        "# All required libraries imported and warnings suppresed\n",
        "\n",
        "import warnings\n",
        "warnings.filterwarnings('ignore')\n",
        "warnings.simplefilter('ignore')\n",
        "\n",
        "import pandas as pd\n",
        "import matplotlib.pyplot as plt\n",
        "from matplotlib.patches import Rectangle\n",
        "import numpy as np\n",
        "from pprint import pprint as pp\n",
        "import csv\n",
        "from pathlib import Path\n",
        "import seaborn as sns\n",
        "from itertools import product\n",
        "import string\n",
        "\n",
        "import nltk\n",
        "from nltk.corpus import stopwords\n",
        "from nltk.stem.wordnet import WordNetLemmatizer\n",
        "\n",
        "from imblearn.over_sampling import SMOTE\n",
        "from imblearn.over_sampling import BorderlineSMOTE\n",
        "from imblearn.pipeline import Pipeline \n",
        "\n",
        "from sklearn.linear_model import LinearRegression, LogisticRegression\n",
        "from sklearn.model_selection import train_test_split, GridSearchCV\n",
        "from sklearn.tree import DecisionTreeClassifier\n",
        "from sklearn.metrics import r2_score, classification_report, confusion_matrix, accuracy_score, roc_auc_score, roc_curve, precision_recall_curve, average_precision_score\n",
        "from sklearn.metrics import homogeneity_score, silhouette_score\n",
        "from sklearn.ensemble import RandomForestClassifier, VotingClassifier\n",
        "from sklearn.preprocessing import MinMaxScaler\n",
        "from sklearn.cluster import MiniBatchKMeans, DBSCAN\n",
        "\n",
        "import gensim\n",
        "from gensim import corpora\n",
        "\n",
        "# Configuring some pandas options\n",
        "\n",
        "pd.set_option('display.max_columns', 700)\n",
        "pd.set_option('display.max_rows', 400)\n",
        "pd.set_option('display.min_rows', 10)\n",
        "pd.set_option('display.expand_frame_repr', True)\n",
        "\n",
        "# Getting data"
      ]
    },
    {
      "cell_type": "code",
      "execution_count": null,
      "metadata": {
        "colab": {
          "base_uri": "https://localhost:8080/"
        },
        "id": "TxnB8c0HKM1a",
        "outputId": "20e8ce4d-a6f3-479b-c8aa-5215d614feeb"
      },
      "outputs": [
        {
          "name": "stdout",
          "output_type": "stream",
          "text": [
            "<class 'pandas.core.frame.DataFrame'>\n",
            "RangeIndex: 8000 entries, 0 to 7999\n",
            "Data columns (total 32 columns):\n",
            " #   Column      Non-Null Count  Dtype  \n",
            "---  ------      --------------  -----  \n",
            " 0   Unnamed: 0  8000 non-null   int64  \n",
            " 1   Time        8000 non-null   int64  \n",
            " 2   V1          8000 non-null   float64\n",
            " 3   V2          8000 non-null   float64\n",
            " 4   V3          8000 non-null   float64\n",
            " 5   V4          8000 non-null   float64\n",
            " 6   V5          8000 non-null   float64\n",
            " 7   V6          8000 non-null   float64\n",
            " 8   V7          8000 non-null   float64\n",
            " 9   V8          8000 non-null   float64\n",
            " 10  V9          8000 non-null   float64\n",
            " 11  V10         8000 non-null   float64\n",
            " 12  V11         8000 non-null   float64\n",
            " 13  V12         8000 non-null   float64\n",
            " 14  V13         8000 non-null   float64\n",
            " 15  V14         8000 non-null   float64\n",
            " 16  V15         8000 non-null   float64\n",
            " 17  V16         8000 non-null   float64\n",
            " 18  V17         8000 non-null   float64\n",
            " 19  V18         8000 non-null   float64\n",
            " 20  V19         8000 non-null   float64\n",
            " 21  V20         8000 non-null   float64\n",
            " 22  V21         8000 non-null   float64\n",
            " 23  V22         8000 non-null   float64\n",
            " 24  V23         8000 non-null   float64\n",
            " 25  V24         8000 non-null   float64\n",
            " 26  V25         8000 non-null   float64\n",
            " 27  V26         8000 non-null   float64\n",
            " 28  V27         8000 non-null   float64\n",
            " 29  V28         8000 non-null   float64\n",
            " 30  Amount      8000 non-null   float64\n",
            " 31  Class       8000 non-null   int64  \n",
            "dtypes: float64(29), int64(3)\n",
            "memory usage: 2.0 MB\n",
            "None\n",
            "   Unnamed: 0  Time        V1        V2        V3        V4        V5  \\\n",
            "0           0    64  1.212511 -0.099054 -1.192094  0.286324  2.160516   \n",
            "1           1    64 -0.658305  0.406791  2.037461 -0.291298  0.147910   \n",
            "2           2   124  1.105253  0.541842  0.839421  2.570933 -0.279517   \n",
            "3           3   128  1.239495 -0.182609  0.155058 -0.928892 -0.746227   \n",
            "4           4   132 -1.571359  1.687508  0.734670  1.293350 -0.217532   \n",
            "\n",
            "         V6        V7        V8        V9       V10       V11       V12  \\\n",
            "0  3.616314 -0.404207  0.842331  0.169360 -0.030522 -0.541957  0.237212   \n",
            "1 -0.350857  0.945373 -0.172560  0.025133 -0.778135 -0.196290  0.632955   \n",
            "2 -0.423062  0.088019  0.011622 -0.715756  0.651379  0.073787 -0.142024   \n",
            "3 -1.235608 -0.061695 -0.125223  0.984938 -0.746625  1.563459  0.890132   \n",
            "4 -0.002677  0.147364  0.515362 -0.372442  0.078021 -0.592495  0.997941   \n",
            "\n",
            "        V13       V14       V15       V16       V17       V18       V19  \\\n",
            "0 -0.218130  0.197437 -0.147850 -0.097830 -0.510053 -0.070939  0.355171   \n",
            "1  0.374025 -0.531597 -0.615063 -0.518078  0.003881 -1.288954 -0.797804   \n",
            "2 -0.739457  0.502639  0.736688  0.256745 -0.093732 -1.011416 -1.465500   \n",
            "3 -0.985159  0.778734  1.016974 -0.429490 -0.335787  0.614690  0.703133   \n",
            "4  1.109328  0.060048  0.086141 -1.149893  0.765198 -0.810589  0.737550   \n",
            "\n",
            "        V20       V21       V22       V23       V24       V25       V26  \\\n",
            "0  0.014777 -0.167496 -0.494695 -0.149785  1.011227  0.883548 -0.329434   \n",
            "1  0.064133 -0.156096 -0.238805  0.089877  0.421195 -0.352487  0.074783   \n",
            "2 -0.239883 -0.137434 -0.460991  0.189397  0.556329  0.185786 -0.189030   \n",
            "3 -0.160406  0.146077  0.481119 -0.140019  0.538261  0.710720 -0.621382   \n",
            "4 -0.093614  0.048549  0.377256 -0.030436  0.117608 -0.060520 -0.296550   \n",
            "\n",
            "        V27       V28  Amount  Class  \n",
            "0  0.020370  0.017037   34.70      0  \n",
            "1 -0.094192 -0.092493   54.99      0  \n",
            "2  0.000208  0.026167    6.24      0  \n",
            "3  0.036867  0.010963    8.80      0  \n",
            "4 -0.481570 -0.167897   10.00      0  \n"
          ]
        }
      ],
      "source": [
        "# Checking the fraud to non-fraud ratio\n",
        "\n",
        "df = pd.read_csv(\"/content/drive/MyDrive/Chapters/creditcard_sampledata.csv\")\n",
        "\n",
        "print(df.info())\n",
        "print(df.head())"
      ]
    },
    {
      "cell_type": "code",
      "execution_count": null,
      "metadata": {
        "colab": {
          "base_uri": "https://localhost:8080/"
        },
        "id": "xBcj6Zb7Q3PL",
        "outputId": "4e5916f0-0457-47f1-8339-2630b0c683b9"
      },
      "outputs": [
        {
          "name": "stdout",
          "output_type": "stream",
          "text": [
            "0    7983\n",
            "1      17\n",
            "Name: Class, dtype: int64\n",
            "Ratio of fraudulent cases: 0.002125\n",
            "Ratio of non-fraudulent cases: 0.997875\n"
          ]
        }
      ],
      "source": [
        "occ = df[\"Class\"].value_counts()\n",
        "print(occ)\n",
        "\n",
        "ratio_cases = occ / len(df.index)\n",
        "print(f'Ratio of fraudulent cases: {ratio_cases[1]}\\nRatio of non-fraudulent cases: {ratio_cases[0]}')\n",
        "\n",
        "# The ratio of fraudulent transactions is very low. This is a case of class imbalance problem."
      ]
    },
    {
      "cell_type": "code",
      "execution_count": null,
      "metadata": {
        "colab": {
          "base_uri": "https://localhost:8080/",
          "height": 265
        },
        "id": "SmUz6rShTCTN",
        "outputId": "4cf107fe-d33c-4f7f-fede-ca84cf00c77e"
      },
      "outputs": [
        {
          "data": {
            "image/png": "[encoded data removed]",
            "text/plain": [
              "<Figure size 432x288 with 1 Axes>"
            ]
          },
          "metadata": {},
          "output_type": "display_data"
        }
      ],
      "source": [
        "# Data Visualization \n",
        "\n",
        "def prep_data(df: pd.DataFrame) -> (np.ndarray, np.ndarray):\n",
        "    \"\"\"\n",
        "    Convert the DataFrame into two variable\n",
        "    X: data columns (V1 - V28)\n",
        "    y: lable column\n",
        "    \"\"\"\n",
        "    X = df.iloc[:, 2:30].values\n",
        "    y = df.Class.values\n",
        "    return X, y\n",
        "\n",
        "# Define a function to create a scatter plot of our data and labels\n",
        "def plot_data(X: np.ndarray, y: np.ndarray):\n",
        "    plt.scatter(X[y == 0, 0], X[y == 0, 1], label=\"Class #0\", alpha=0.5, linewidth=0.15)\n",
        "    plt.scatter(X[y == 1, 0], X[y == 1, 1], label=\"Class #1\", alpha=0.5, linewidth=0.15, c='r')\n",
        "    plt.legend()\n",
        "    return plt.show()\n",
        "\n",
        "\n",
        "X, y = prep_data(df)\n",
        "plot_data(X, y)\n",
        "\n",
        "# By visualizing the data, you can immediately see how our fraud cases are scattered over our data,\n",
        "# and how few cases we have. A picture often makes the imbalance problem clear. In the next exercises we'll visually\n",
        "# explore how to improve our fraud to non-fraud balance."
      ]
    },
    {
      "cell_type": "code",
      "execution_count": null,
      "metadata": {
        "colab": {
          "base_uri": "https://localhost:8080/",
          "height": 268
        },
        "id": "SNprDUWB67wM",
        "outputId": "ed72dfe4-bd67-4f4d-ed9a-02ccb458fd90"
      },
      "outputs": [
        {
          "data": {
            "image/png": "[encoded data removed]",
            "text/plain": [
              "<Figure size 432x288 with 1 Axes>"
            ]
          },
          "metadata": {},
          "output_type": "display_data"
        }
      ],
      "source": [
        "plt.scatter(df.V2[df.Class == 0], df.V3[df.Class == 0], label=\"Class #0\", alpha=0.5, linewidth=0.15)\n",
        "plt.scatter(df.V2[df.Class == 1], df.V3[df.Class == 1], label=\"Class #1\", alpha=0.5, linewidth=0.15, c='r')\n",
        "plt.legend()\n",
        "plt.show()"
      ]
    },
    {
      "cell_type": "code",
      "execution_count": null,
      "metadata": {
        "colab": {
          "base_uri": "https://localhost:8080/",
          "height": 265
        },
        "id": "IbnVZxK77A2q",
        "outputId": "e4983ac6-f90b-4f8c-cab8-2ddec6d65126"
      },
      "outputs": [
        {
          "data": {
            "image/png": "[encoded data removed]",
            "text/plain": [
              "<Figure size 432x288 with 1 Axes>"
            ]
          },
          "metadata": {},
          "output_type": "display_data"
        }
      ],
      "source": [
        "# Define resampling method and split into train and test\n",
        "method = SMOTE()\n",
        "X_train, X_test, y_train, y_test = train_test_split(X, y, train_size=0.8, random_state=0)\n",
        "\n",
        "# Apply resampling to the training data only\n",
        "X_resampled, y_resampled = method.fit_resample(X_train, y_train)\n",
        "\n",
        "# print(f'X shape: {X.shape}\\ny shape: {y.shape}')\n",
        "\n",
        "# Continue fitting the model and obtain predictions\n",
        "#model = LogisticRegression()\n",
        "#model.fit(X_resampled, y_resampled)\n",
        "\n",
        "# Get model performance metrics\n",
        "#predicted = model.predict(X_test)\n",
        "#print(classification_report(y_test, predicted))\n",
        "\n",
        "plot_data(X_resampled, y_resampled)\n",
        "\n",
        "# if fraud is spread through the data and not distinct, using nearest neighbors to create more fraud cases,\n",
        "# introduces noise into the data, as the nearest neighbors might not be fraud cases"
      ]
    },
    {
      "cell_type": "code",
      "execution_count": null,
      "metadata": {
        "colab": {
          "base_uri": "https://localhost:8080/",
          "height": 388
        },
        "id": "To6zXsEeIqV2",
        "outputId": "3533218f-c6cd-4339-9049-6bbfe1526269"
      },
      "outputs": [
        {
          "name": "stdout",
          "output_type": "stream",
          "text": [
            "0    7983\n",
            "1      17\n",
            "dtype: int64\n",
            "0    6389\n",
            "1    6389\n",
            "dtype: int64\n"
          ]
        },
        {
          "data": {
            "image/png": "[encoded data removed]",
            "text/plain": [
              "<Figure size 432x288 with 2 Axes>"
            ]
          },
          "metadata": {},
          "output_type": "display_data"
        }
      ],
      "source": [
        "print(pd.value_counts(pd.Series(y)))\n",
        "print(pd.value_counts(pd.Series(y_resampled)))\n",
        "\n",
        "def compare_plot(X: np.ndarray, y: np.ndarray, X_resampled: np.ndarray, y_resampled: np.ndarray, method: str):\n",
        "    plt.subplot(1, 2, 1)\n",
        "    plt.scatter(X[y == 0, 0], X[y == 0, 1], label=\"Class #0\", alpha=0.5, linewidth=0.15)\n",
        "    plt.scatter(X[y == 1, 0], X[y == 1, 1], label=\"Class #1\", alpha=0.5, linewidth=0.15, c='r')\n",
        "    plt.title('Original Set')\n",
        "    plt.subplot(1, 2, 2)\n",
        "    plt.scatter(X_resampled[y_resampled == 0, 0], X_resampled[y_resampled == 0, 1], label=\"Class #0\", alpha=0.5, linewidth=0.15)\n",
        "    plt.scatter(X_resampled[y_resampled == 1, 0], X_resampled[y_resampled == 1, 1], label=\"Class #1\", alpha=0.5, linewidth=0.15, c='r')\n",
        "    plt.title(method)\n",
        "    plt.legend()\n",
        "    plt.show()\n",
        "\n",
        "compare_plot(X, y, X_resampled, y_resampled, method='SMOTE')"
      ]
    },
    {
      "cell_type": "code",
      "execution_count": null,
      "metadata": {
        "id": "TS2dvIECLuCJ"
      },
      "outputs": [],
      "source": [
        "# Using thresholds to catch frauds (without SMOTE)\n",
        "df.drop(['Unnamed: 0'], axis=1, inplace=True)"
      ]
    },
    {
      "cell_type": "code",
      "execution_count": null,
      "metadata": {
        "id": "lfc2s8nANHRe"
      },
      "outputs": [],
      "source": [
        "df.groupby('Class').mean()\n",
        "df['flag_as_fraud'] = np.where(np.logical_and(df.V1 < -3, df.V3 < -5), 1, 0)"
      ]
    },
    {
      "cell_type": "code",
      "execution_count": null,
      "metadata": {
        "colab": {
          "base_uri": "https://localhost:8080/"
        },
        "id": "JzcWReHtNUmA",
        "outputId": "12b97b2e-ee11-421b-ef0f-e82cd3315b4f"
      },
      "outputs": [
        {
          "name": "stdout",
          "output_type": "stream",
          "text": [
            "Flagged Fraud     0   1\n",
            "Actual Fraud           \n",
            "0              7949  34\n",
            "1                13   4\n"
          ]
        }
      ],
      "source": [
        "print(pd.crosstab(df.Class, df.flag_as_fraud, rownames=['Actual Fraud'], colnames=['Flagged Fraud']))"
      ]
    },
    {
      "cell_type": "code",
      "execution_count": null,
      "metadata": {
        "colab": {
          "base_uri": "https://localhost:8080/"
        },
        "id": "lJHkAYzvgYwO",
        "outputId": "212137a4-ae82-484a-c7a7-15c64e4e79b9"
      },
      "outputs": [
        {
          "name": "stdout",
          "output_type": "stream",
          "text": [
            "Classification report:\n",
            "               precision    recall  f1-score   support\n",
            "\n",
            "           0       1.00      1.00      1.00      2390\n",
            "           1       1.00      0.30      0.46        10\n",
            "\n",
            "    accuracy                           1.00      2400\n",
            "   macro avg       1.00      0.65      0.73      2400\n",
            "weighted avg       1.00      1.00      1.00      2400\n",
            "\n",
            "Confusion matrix:\n",
            " [[2390    0]\n",
            " [   7    3]]\n"
          ]
        }
      ],
      "source": [
        "#Using ML to catch frauds (without SMOTE)\n",
        "\n",
        "# Create the training and testing sets\n",
        "X_train, X_test, y_train, y_test = train_test_split(X, y, test_size=0.3, random_state=0)\n",
        "\n",
        "# Fit a logistic regression model to our data\n",
        "model = LogisticRegression(solver='liblinear')\n",
        "model.fit(X_train, y_train)\n",
        "\n",
        "# Obtain model predictions\n",
        "predicted = model.predict(X_test)\n",
        "\n",
        "# Print the classifcation report and confusion matrix\n",
        "print('Classification report:\\n', classification_report(y_test, predicted))\n",
        "conf_mat = confusion_matrix(y_true=y_test, y_pred=predicted)\n",
        "print('Confusion matrix:\\n', conf_mat)"
      ]
    },
    {
      "cell_type": "code",
      "execution_count": null,
      "metadata": {
        "colab": {
          "base_uri": "https://localhost:8080/"
        },
        "id": "3KHq-9aY0NXH",
        "outputId": "400b4194-7ea6-48ff-ee77-ca442366970c"
      },
      "outputs": [
        {
          "name": "stdout",
          "output_type": "stream",
          "text": [
            "Classifcation report:\n",
            "               precision    recall  f1-score   support\n",
            "\n",
            "           0       1.00      0.99      1.00      2390\n",
            "           1       0.33      0.60      0.43        10\n",
            "\n",
            "    accuracy                           0.99      2400\n",
            "   macro avg       0.67      0.80      0.71      2400\n",
            "weighted avg       1.00      0.99      0.99      2400\n",
            "\n",
            "Confusion matrix:\n",
            " [[2378   12]\n",
            " [   4    6]]\n"
          ]
        }
      ],
      "source": [
        "# Logistic regression with SMOTE\n",
        "\n",
        "# Define which resampling method and which ML model to use in the pipeline\n",
        "# resampling = SMOTE(kind='borderline2')  # has been changed to BorderlineSMOTE\n",
        "resampling = BorderlineSMOTE()\n",
        "model = LogisticRegression(solver='liblinear')\n",
        "\n",
        "pipeline = Pipeline([(\"SMOTE\", resampling),(\"Logistic Regression\", model)])\n",
        "\n",
        "# Split your data X and y, into a training and a test set and fit the pipeline onto the training data\n",
        "X_train, X_test, y_train, y_test = train_test_split(X, y, test_size=0.3, random_state=0)\n",
        "\n",
        "pipeline.fit(X_train, y_train) \n",
        "predicted = pipeline.predict(X_test)\n",
        "\n",
        "# Obtain the results from the classification report and confusion matrix \n",
        "print('Classifcation report:\\n', classification_report(y_test, predicted))\n",
        "conf_mat = confusion_matrix(y_true=y_test, y_pred=predicted)\n",
        "print('Confusion matrix:\\n', conf_mat)"
      ]
    },
    {
      "cell_type": "code",
      "execution_count": null,
      "metadata": {
        "colab": {
          "base_uri": "https://localhost:8080/"
        },
        "id": "PKby-K4q2FOm",
        "outputId": "8b185c04-bddf-4d72-c127-64ef595f764d"
      },
      "outputs": [
        {
          "name": "stdout",
          "output_type": "stream",
          "text": [
            "X shape: (7300, 28)\n",
            "y shape: (7300,)\n",
            "7000\n",
            "95.89%\n"
          ]
        }
      ],
      "source": [
        "# Fraud detection using labeled data\n",
        "\n",
        "df2 = pd.read_csv(\"/content/drive/MyDrive/Chapters/creditcard_sampledata_2.csv\")\n",
        "df2.head()\n",
        "\n",
        "X, y = prep_data(df2)\n",
        "print(f'X shape: {X.shape}\\ny shape: {y.shape}')\n",
        "\n",
        "total_obs = len(y)\n",
        "\n",
        "non_fraud = [i for i in y if i == 0]\n",
        "count_non_fraud = non_fraud.count(0)\n",
        "print(count_non_fraud)\n",
        "\n",
        "percentage = (count_non_fraud/total_obs) * 100\n",
        "print(f'{percentage:0.2f}%')\n",
        "\n",
        "# This tells us that by doing nothing, we would be correct in 95.9% of the cases.\n",
        "# So now you understand, that if we get an accuracy of less than this number,\n",
        "# our model does not actually add any value in predicting how many cases are correct.\n",
        "# Let's see how a random forest does in predicting fraud in our data."
      ]
    },
    {
      "cell_type": "code",
      "execution_count": null,
      "metadata": {
        "colab": {
          "base_uri": "https://localhost:8080/"
        },
        "id": "_5t8XGNR6AcE",
        "outputId": "c183661f-678f-4f2a-e1d0-a6175f637779"
      },
      "outputs": [
        {
          "name": "stdout",
          "output_type": "stream",
          "text": [
            "Accuracy Score:\n",
            "0.991\n"
          ]
        }
      ],
      "source": [
        "# Split your data into training and test set\n",
        "X_train, X_test, y_train, y_test = train_test_split(X, y, test_size=0.3, random_state=0)\n",
        "# Define the model as the random forest\n",
        "model = RandomForestClassifier(random_state=5, n_estimators=20)\n",
        "\n",
        "model.fit(X_train, y_train)\n",
        "predicted = model.predict(X_test)\n",
        "print(f'Accuracy Score:\\n{accuracy_score(y_test, predicted):0.3f}')\n",
        "\n",
        "#Random Forest prevents overfitting most of the time, by creating random subsets of the features and building \n",
        "# smaller trees using these subsets. Afterwards, it combines the subtrees of subsamples of features,\n",
        "# so it does not tend to overfit to your entire feature set the way \"deep\" Decisions Trees do."
      ]
    },
    {
      "cell_type": "code",
      "execution_count": null,
      "metadata": {
        "colab": {
          "base_uri": "https://localhost:8080/"
        },
        "id": "KmxMWhmp7RhW",
        "outputId": "5bfde6c9-6a69-4094-9f92-ab3f415dec2f"
      },
      "outputs": [
        {
          "name": "stdout",
          "output_type": "stream",
          "text": [
            "ROC Score:\n",
            "0.9419896444670147\n",
            "\n",
            "Classification Report:\n",
            "              precision    recall  f1-score   support\n",
            "\n",
            "           0       0.99      1.00      1.00      2099\n",
            "           1       0.97      0.80      0.88        91\n",
            "\n",
            "    accuracy                           0.99      2190\n",
            "   macro avg       0.98      0.90      0.94      2190\n",
            "weighted avg       0.99      0.99      0.99      2190\n",
            "\n",
            "\n",
            "Confusion Matrix:\n",
            "[[2097    2]\n",
            " [  18   73]]\n"
          ]
        }
      ],
      "source": [
        "# Performance metrics for the RF model\n",
        "\n",
        "# Predict probabilities\n",
        "probs = model.predict_proba(X_test)\n",
        "\n",
        "# Print the ROC curve, classification report and confusion matrix\n",
        "print('ROC Score:')\n",
        "print(roc_auc_score(y_test, probs[:,1]))\n",
        "print('\\nClassification Report:')\n",
        "print(classification_report(y_test, predicted))\n",
        "print('\\nConfusion Matrix:')\n",
        "print(confusion_matrix(y_test, predicted))\n",
        "\n",
        "#You have now obtained more meaningful performance metrics that tell us how well the model performs, \n",
        "# given the highly imbalanced data that you're working with. The model predicts 76 cases of fraud, out of which 73 are actual fraud.\n",
        "# You have only 3 false positives. This is really good, and as a result you have a very high precision score.\n",
        "# You do however, miss 18 cases of actual fraud. Recall is therefore not as good as precision."
      ]
    },
    {
      "cell_type": "code",
      "execution_count": null,
      "metadata": {
        "colab": {
          "base_uri": "https://localhost:8080/",
          "height": 331
        },
        "id": "M8egXxPwDf8a",
        "outputId": "94dd748b-c077-4399-cd7e-5f882208ddc1"
      },
      "outputs": [
        {
          "name": "stdout",
          "output_type": "stream",
          "text": [
            "Precision: [0.04155251 0.97333333 1.        ]\n",
            "Recall: [1.        0.8021978 0.       ]\n"
          ]
        },
        {
          "data": {
            "image/png": "[encoded data removed]",
            "text/plain": [
              "<Figure size 432x288 with 1 Axes>"
            ]
          },
          "metadata": {},
          "output_type": "display_data"
        }
      ],
      "source": [
        "# Plotting the Precision vs. Recall Curve\n",
        "\n",
        "# Calculate average precision and the PR curve\n",
        "average_precision = average_precision_score(y_test, predicted)\n",
        "\n",
        "# Obtain precision and recall \n",
        "precision, recall, _ = precision_recall_curve(y_test, predicted)\n",
        "print(f'Precision: {precision}\\nRecall: {recall}')\n",
        "\n",
        "def plot_pr_curve(recall, precision, average_precision):\n",
        "    \"\"\"\n",
        "    https://scikit-learn.org/stable/auto_examples/model_selection/plot_precision_recall.html\n",
        "    \"\"\"\n",
        "    from inspect import signature\n",
        "    plt.figure()\n",
        "    step_kwargs = ({'step': 'post'}\n",
        "                   if 'step' in signature(plt.fill_between).parameters\n",
        "                   else {})\n",
        "\n",
        "    plt.step(recall, precision, color='b', alpha=0.2, where='post')\n",
        "    plt.fill_between(recall, precision, alpha=0.2, color='b', **step_kwargs)\n",
        "\n",
        "    plt.xlabel('Recall')\n",
        "    plt.ylabel('Precision')\n",
        "    plt.ylim([0.0, 1.0])\n",
        "    plt.xlim([0.0, 1.0])\n",
        "    plt.title(f'2-class Precision-Recall curve: AP={average_precision:0.2f}')\n",
        "    return plt.show()\n",
        "\n",
        "# Plot the recall precision tradeoff\n",
        "plot_pr_curve(recall, precision, average_precision)\n",
        "\n",
        "# The AUROC answers the question: \"How well can this classifier be expected to perform in general, at a variety of different baseline probabilities?\"\n",
        "# but precision and recall don't."
      ]
    },
    {
      "cell_type": "code",
      "execution_count": null,
      "metadata": {
        "colab": {
          "base_uri": "https://localhost:8080/"
        },
        "id": "ota9n6KfopLk",
        "outputId": "53246d42-ec09-400b-8176-1bd0b571df92"
      },
      "outputs": [
        {
          "name": "stdout",
          "output_type": "stream",
          "text": [
            "ROC Score:\n",
            "0.9750299724096771\n",
            "\n",
            "Classification Report:\n",
            "              precision    recall  f1-score   support\n",
            "\n",
            "           0       0.99      1.00      1.00      2099\n",
            "           1       0.99      0.80      0.88        91\n",
            "\n",
            "    accuracy                           0.99      2190\n",
            "   macro avg       0.99      0.90      0.94      2190\n",
            "weighted avg       0.99      0.99      0.99      2190\n",
            "\n",
            "\n",
            "Confusion Matrix:\n",
            "[[2098    1]\n",
            " [  18   73]]\n"
          ]
        }
      ],
      "source": [
        "# Define the model with balanced subsample\n",
        "model = RandomForestClassifier(class_weight='balanced_subsample', random_state=5, n_estimators=100)\n",
        "\n",
        "# Fit your training model to your training set\n",
        "model.fit(X_train, y_train)\n",
        "\n",
        "# Obtain the predicted values and probabilities from the model \n",
        "predicted = model.predict(X_test)\n",
        "probs = model.predict_proba(X_test)\n",
        "\n",
        "# Print the ROC curve, classification report and confusion matrix\n",
        "print('ROC Score:')\n",
        "print(roc_auc_score(y_test, probs[:,1]))\n",
        "print('\\nClassification Report:')\n",
        "print(classification_report(y_test, predicted))\n",
        "print('\\nConfusion Matrix:')\n",
        "print(confusion_matrix(y_test, predicted))"
      ]
    },
    {
      "cell_type": "code",
      "execution_count": null,
      "metadata": {
        "colab": {
          "base_uri": "https://localhost:8080/"
        },
        "id": "g3GHZcNqvLws",
        "outputId": "b6dc7771-9676-495a-e76c-b02d989cb25c"
      },
      "outputs": [
        {
          "name": "stdout",
          "output_type": "stream",
          "text": [
            "ROC Score:\n",
            "0.9609651901219315\n",
            "\n",
            "Classification Report:\n",
            "              precision    recall  f1-score   support\n",
            "\n",
            "           0       0.99      1.00      1.00      2099\n",
            "           1       0.97      0.85      0.91        91\n",
            "\n",
            "    accuracy                           0.99      2190\n",
            "   macro avg       0.98      0.92      0.95      2190\n",
            "weighted avg       0.99      0.99      0.99      2190\n",
            "\n",
            "\n",
            "Confusion Matrix:\n",
            "[[2097    2]\n",
            " [  14   77]]\n"
          ]
        }
      ],
      "source": [
        "# Adjusting RF for fraud detection\n",
        "\n",
        "def get_model_results(X_train: np.ndarray, y_train: np.ndarray,\n",
        "                      X_test: np.ndarray, y_test: np.ndarray, model):\n",
        "    \"\"\"\n",
        "    model: sklearn model (e.g. RandomForestClassifier)\n",
        "    \"\"\"\n",
        "    # Fit your training model to your training set\n",
        "    model.fit(X_train, y_train)\n",
        "\n",
        "    # Obtain the predicted values and probabilities from the model \n",
        "    predicted = model.predict(X_test)\n",
        "    \n",
        "    try:\n",
        "        probs = model.predict_proba(X_test)\n",
        "        print('ROC Score:')\n",
        "        print(roc_auc_score(y_test, probs[:,1]))\n",
        "    except AttributeError:\n",
        "        pass\n",
        "\n",
        "    # Print the ROC curve, classification report and confusion matrix\n",
        "    print('\\nClassification Report:')\n",
        "    print(classification_report(y_test, predicted))\n",
        "    print('\\nConfusion Matrix:')\n",
        "    print(confusion_matrix(y_test, predicted))\n",
        "\n",
        "# Change the model options\n",
        "model = RandomForestClassifier(bootstrap=True,\n",
        "                               class_weight={0:1, 1:12},\n",
        "                               criterion='entropy',\n",
        "                               # Change depth of model\n",
        "                               max_depth=10,\n",
        "                               # Change the number of samples in leaf nodes\n",
        "                               min_samples_leaf=10, \n",
        "                               # Change the number of trees to use\n",
        "                               n_estimators=20,\n",
        "                               n_jobs=-1,\n",
        "                               random_state=5)\n",
        "get_model_results(X_train, y_train, X_test, y_test, model)"
      ]
    },
    {
      "cell_type": "markdown",
      "metadata": {
        "id": "U8VYC_eUv4Gj"
      },
      "source": [
        "# Parameter optimization with GridSearchCV"
      ]
    },
    {
      "cell_type": "code",
      "execution_count": null,
      "metadata": {
        "colab": {
          "background_save": true,
          "base_uri": "https://localhost:8080/"
        },
        "id": "XcnUl-hrvqU3",
        "outputId": "52e92fd3-1ee6-4da5-f259-47e64494aae5"
      },
      "outputs": [
        {
          "data": {
            "text/plain": [
              "{'criterion': 'gini',\n",
              " 'max_depth': 8,\n",
              " 'max_features': 'log2',\n",
              " 'n_estimators': 30}"
            ]
          },
          "execution_count": 51,
          "metadata": {},
          "output_type": "execute_result"
        }
      ],
      "source": [
        "# Define the parameter sets to test\n",
        "param_grid = {'n_estimators': [1, 30],\n",
        "              'max_features': ['auto', 'log2'], \n",
        "              'max_depth': [4, 8, 10, 12],\n",
        "              'criterion': ['gini', 'entropy']}\n",
        "\n",
        "# Define the model to use\n",
        "model = RandomForestClassifier(random_state=5)\n",
        "\n",
        "# Combine the parameter sets with the defined model\n",
        "CV_model = GridSearchCV(estimator=model, param_grid=param_grid, cv=5, scoring='recall', n_jobs=-1)\n",
        "\n",
        "# Fit the model to our training data and obtain best parameters\n",
        "CV_model.fit(X_train, y_train)\n",
        "CV_model.best_params_"
      ]
    },
    {
      "cell_type": "code",
      "execution_count": null,
      "metadata": {
        "colab": {
          "background_save": true,
          "base_uri": "https://localhost:8080/"
        },
        "id": "hl_OuqXPw70u",
        "outputId": "67dcc5b7-bdd0-451f-a4b2-92deafdca0dc"
      },
      "outputs": [
        {
          "name": "stdout",
          "output_type": "stream",
          "text": [
            "ROC Score:\n",
            "0.9749697658225529\n",
            "\n",
            "Classification Report:\n",
            "              precision    recall  f1-score   support\n",
            "\n",
            "           0       0.99      1.00      1.00      2099\n",
            "           1       0.95      0.84      0.89        91\n",
            "\n",
            "    accuracy                           0.99      2190\n",
            "   macro avg       0.97      0.92      0.94      2190\n",
            "weighted avg       0.99      0.99      0.99      2190\n",
            "\n",
            "\n",
            "Confusion Matrix:\n",
            "[[2095    4]\n",
            " [  15   76]]\n"
          ]
        }
      ],
      "source": [
        "# Input the optimal parameters in the model\n",
        "model = RandomForestClassifier(class_weight={0:1,1:12},\n",
        "                               criterion='gini',\n",
        "                               max_depth=8,\n",
        "                               max_features='log2', \n",
        "                               min_samples_leaf=10,\n",
        "                               n_estimators=30,\n",
        "                               n_jobs=-1,\n",
        "                               random_state=5)\n",
        "\n",
        "# Get results from your model\n",
        "get_model_results(X_train, y_train, X_test, y_test, model)"
      ]
    },
    {
      "cell_type": "code",
      "execution_count": null,
      "metadata": {
        "colab": {
          "background_save": true,
          "base_uri": "https://localhost:8080/"
        },
        "id": "XMlW2TZT0I5i",
        "outputId": "45940b4b-2e72-4f8c-8170-457f686ee884"
      },
      "outputs": [
        {
          "name": "stdout",
          "output_type": "stream",
          "text": [
            "ROC Score:\n",
            "0.9722054981702433\n",
            "\n",
            "Classification Report:\n",
            "              precision    recall  f1-score   support\n",
            "\n",
            "           0       0.99      0.98      0.99      2099\n",
            "           1       0.63      0.88      0.73        91\n",
            "\n",
            "    accuracy                           0.97      2190\n",
            "   macro avg       0.81      0.93      0.86      2190\n",
            "weighted avg       0.98      0.97      0.98      2190\n",
            "\n",
            "\n",
            "Confusion Matrix:\n",
            "[[2052   47]\n",
            " [  11   80]]\n"
          ]
        }
      ],
      "source": [
        "# Ensemble methods\n",
        "\n",
        "# logistic regression alone\n",
        "\n",
        "# Define the Logistic Regression model with weights\n",
        "model = LogisticRegression(class_weight={0:1, 1:15}, random_state=5, solver='liblinear')\n",
        "\n",
        "# Get the model results\n",
        "get_model_results(X_train, y_train, X_test, y_test, model)\n",
        "\n",
        "# As you can see the Logistic Regression has quite different performance from the Random Forest. More false positives, but also a better Recall.\n",
        "# It will therefore will a useful addition to the Random Forest in an ensemble model."
      ]
    },
    {
      "cell_type": "code",
      "execution_count": null,
      "metadata": {
        "colab": {
          "background_save": true,
          "base_uri": "https://localhost:8080/"
        },
        "id": "ovcE1N260pwf",
        "outputId": "45a2e1b4-ab91-4397-b6c0-fef340a8759d"
      },
      "outputs": [
        {
          "name": "stdout",
          "output_type": "stream",
          "text": [
            "\n",
            "Classification Report:\n",
            "              precision    recall  f1-score   support\n",
            "\n",
            "           0       0.99      1.00      0.99      2099\n",
            "           1       0.90      0.86      0.88        91\n",
            "\n",
            "    accuracy                           0.99      2190\n",
            "   macro avg       0.95      0.93      0.94      2190\n",
            "weighted avg       0.99      0.99      0.99      2190\n",
            "\n",
            "\n",
            "Confusion Matrix:\n",
            "[[2090    9]\n",
            " [  13   78]]\n"
          ]
        }
      ],
      "source": [
        "# Define the three classifiers to use in the ensemble\n",
        "clf1 = LogisticRegression(class_weight={0:1, 1:15},\n",
        "                          random_state=5,\n",
        "                          solver='liblinear')\n",
        "\n",
        "clf2 = RandomForestClassifier(class_weight={0:1, 1:12}, \n",
        "                              criterion='gini', \n",
        "                              max_depth=8, \n",
        "                              max_features='log2',\n",
        "                              min_samples_leaf=10, \n",
        "                              n_estimators=30, \n",
        "                              n_jobs=-1,\n",
        "                              random_state=5)\n",
        "\n",
        "clf3 = DecisionTreeClassifier(random_state=5,\n",
        "                              class_weight=\"balanced\")\n",
        "\n",
        "# Combine the classifiers in the ensemble model\n",
        "ensemble_model = VotingClassifier(estimators=[('lr', clf1), ('rf', clf2), ('dt', clf3)], voting='hard')\n",
        "\n",
        "# Get the results \n",
        "get_model_results(X_train, y_train, X_test, y_test, ensemble_model)\n",
        "\n",
        "# By combining the classifiers, you can take the best of multiple models. You've increased the cases of fraud you are catching from 76 to 78,\n",
        "# and you only have 5 extra false positives in return. If you do care about catching as many fraud cases as you can,whilst keeping the false positives \n",
        "# low, this is a pretty good trade-off. The Logistic Regression as a standalone was quite bad in terms of false positives, and the \n",
        "# Random Forest was worse in terms of false negatives. By combining these together you indeed managed to improve performance."
      ]
    },
    {
      "cell_type": "code",
      "execution_count": null,
      "metadata": {
        "colab": {
          "background_save": true,
          "base_uri": "https://localhost:8080/"
        },
        "id": "Q52H57VksmL6",
        "outputId": "c0070838-5ea2-4d5c-c496-f138169a7b24"
      },
      "outputs": [
        {
          "name": "stdout",
          "output_type": "stream",
          "text": [
            "ROC Score:\n",
            "0.9739226947421326\n",
            "\n",
            "Classification Report:\n",
            "              precision    recall  f1-score   support\n",
            "\n",
            "           0       0.99      1.00      1.00      2099\n",
            "           1       0.94      0.85      0.89        91\n",
            "\n",
            "    accuracy                           0.99      2190\n",
            "   macro avg       0.97      0.92      0.94      2190\n",
            "weighted avg       0.99      0.99      0.99      2190\n",
            "\n",
            "\n",
            "Confusion Matrix:\n",
            "[[2094    5]\n",
            " [  14   77]]\n"
          ]
        }
      ],
      "source": [
        "# Adjusting weights within the Voting Classifier\n",
        "\n",
        "# Define the ensemble model\n",
        "ensemble_model = VotingClassifier(estimators=[('lr', clf1), ('rf', clf2), ('gnb', clf3)], voting='soft', weights=[1, 4, 1], flatten_transform=True)\n",
        "\n",
        "# Get results \n",
        "get_model_results(X_train, y_train, X_test, y_test, ensemble_model)\n",
        "\n",
        "# The weight option allows you to play with the individual models to get the best final mix for your fraud detection model.\n",
        "# Now that you have finalized fraud detection with supervised learning, let's have a look at how fraud detetion can be done when \n",
        "# you don't have any labels to train on."
      ]
    },
    {
      "cell_type": "markdown",
      "metadata": {
        "id": "-mPNL4Kss18E"
      },
      "source": [
        "# Fraud detection using unlabeled data"
      ]
    },
    {
      "cell_type": "code",
      "execution_count": null,
      "metadata": {
        "colab": {
          "background_save": true,
          "base_uri": "https://localhost:8080/"
        },
        "id": "gfeMgm61s3e8",
        "outputId": "a401065c-a267-4681-9aed-5bbf6a8c8480"
      },
      "outputs": [
        {
          "name": "stdout",
          "output_type": "stream",
          "text": [
            "(7200, 5)\n",
            "  age gender           category  amount  fraud\n",
            "0   3      F  es_transportation   49.71      0\n",
            "1   4      F          es_health   39.29      0\n",
            "2   3      F  es_transportation   18.76      0\n",
            "3   4      M  es_transportation   13.95      0\n",
            "4   2      M  es_transportation   49.87      0\n",
            "(7189, 18)\n",
            "   age  amount  fraud  M  es_barsandrestaurants  es_contents  es_fashion  \\\n",
            "0    3   49.71      0  0                      0            0           0   \n",
            "1    4   39.29      0  0                      0            0           0   \n",
            "2    3   18.76      0  0                      0            0           0   \n",
            "3    4   13.95      0  1                      0            0           0   \n",
            "4    2   49.87      0  1                      0            0           0   \n",
            "\n",
            "   es_food  es_health  es_home  es_hotelservices  es_hyper  es_leisure  \\\n",
            "0        0          0        0                 0         0           0   \n",
            "1        0          1        0                 0         0           0   \n",
            "2        0          0        0                 0         0           0   \n",
            "3        0          0        0                 0         0           0   \n",
            "4        0          0        0                 0         0           0   \n",
            "\n",
            "   es_otherservices  es_sportsandtoys  es_tech  es_transportation  es_travel  \n",
            "0                 0                 0        0                  1          0  \n",
            "1                 0                 0        0                  0          0  \n",
            "2                 0                 0        0                  1          0  \n",
            "3                 0                 0        0                  1          0  \n",
            "4                 0                 0        0                  1          0  \n",
            "                           amount     fraud\n",
            "category                                   \n",
            "es_barsandrestaurants   43.841793  0.022472\n",
            "es_contents             55.170000  0.000000\n",
            "es_fashion              59.780769  0.020619\n",
            "es_food                 35.216050  0.000000\n",
            "es_health              126.604704  0.242798\n",
            "es_home                120.688317  0.208333\n",
            "es_hotelservices       172.756245  0.548387\n",
            "es_hyper                46.788180  0.125000\n",
            "es_leisure             229.757600  1.000000\n",
            "es_otherservices       149.648960  0.600000\n",
            "es_sportsandtoys       157.251737  0.657895\n",
            "es_tech                132.852862  0.179487\n",
            "es_transportation       27.422014  0.000000\n",
            "es_travel              231.818656  0.944444\n",
            "es_wellnessandbeauty    66.167078  0.060606\n"
          ]
        }
      ],
      "source": [
        "banksim_df = pd.read_csv(\"/content/drive/MyDrive/Chapters/banksim.csv\")\n",
        "banksim_df.drop(['Unnamed: 0'], axis=1, inplace=True)\n",
        "banksim_adj_df = pd.read_csv(\"/content/drive/MyDrive/Chapters/banksim_adj.csv\")\n",
        "banksim_adj_df.drop(['Unnamed: 0'], axis=1, inplace=True)\n",
        "\n",
        "print(banksim_df.shape)\n",
        "print(banksim_df.head())\n",
        "print(banksim_adj_df.shape)\n",
        "print(banksim_adj_df.head())\n",
        "\n",
        "print(banksim_df.groupby(['category']).mean())"
      ]
    },
    {
      "cell_type": "code",
      "execution_count": null,
      "metadata": {
        "colab": {
          "background_save": true,
          "base_uri": "https://localhost:8080/"
        },
        "id": "e9f8K4outaqb",
        "outputId": "fc090853-a391-4bac-ed93-ce46b28e8c80"
      },
      "outputs": [
        {
          "name": "stdout",
          "output_type": "stream",
          "text": [
            "        amount     fraud\n",
            "age                     \n",
            "0    49.468935  0.050000\n",
            "1    35.622829  0.026648\n",
            "2    37.228665  0.028718\n",
            "3    37.279338  0.023283\n",
            "4    36.197985  0.035966\n",
            "5    37.547521  0.023990\n",
            "6    36.700852  0.022293\n",
            "U    39.117000  0.000000\n",
            "2    2333\n",
            "3    1718\n",
            "4    1279\n",
            "5     792\n",
            "1     713\n",
            "6     314\n",
            "0      40\n",
            "U      11\n",
            "Name: age, dtype: int64\n"
          ]
        }
      ],
      "source": [
        "print(banksim_df.groupby(['age']).mean())\n",
        "print(banksim_df.age.value_counts())"
      ]
    },
    {
      "cell_type": "code",
      "execution_count": null,
      "metadata": {
        "colab": {
          "background_save": true,
          "base_uri": "https://localhost:8080/",
          "height": 279
        },
        "id": "XDMGGARRuGJ3",
        "outputId": "5228772a-7a15-4011-a784-09cc80e6eeb5"
      },
      "outputs": [
        {
          "data": {
            "image/png": "[encoded data removed]",
            "text/plain": [
              "<Figure size 432x288 with 1 Axes>"
            ]
          },
          "metadata": {},
          "output_type": "display_data"
        }
      ],
      "source": [
        "# Using statistics to define normal behavior\n",
        "\n",
        "# Create two dataframes with fraud and non-fraud data \n",
        "df_fraud = banksim_df[banksim_df.fraud == 1] \n",
        "df_non_fraud = banksim_df[banksim_df.fraud == 0]\n",
        "\n",
        "# Plot histograms of the amounts in fraud and non-fraud data \n",
        "plt.hist(df_fraud.amount, alpha=0.5, label='fraud')\n",
        "plt.hist(df_non_fraud.amount, alpha=0.5, label='nonfraud')\n",
        "plt.xlabel('amount')\n",
        "plt.legend()\n",
        "plt.show()"
      ]
    },
    {
      "cell_type": "markdown",
      "metadata": {
        "id": "CTj-6sUywWMU"
      },
      "source": [
        "# Clustering methods to detect fraud"
      ]
    },
    {
      "cell_type": "code",
      "execution_count": null,
      "metadata": {
        "colab": {
          "background_save": true,
          "base_uri": "https://localhost:8080/"
        },
        "id": "NVXW6DXHwVOd",
        "outputId": "7657a5ed-f818-48dd-c757-3b7e9ff9ac86"
      },
      "outputs": [
        {
          "name": "stdout",
          "output_type": "stream",
          "text": [
            "(7189, 17)\n",
            "[[  3.      49.71     0.     ...   0.       1.       0.    ]\n",
            " [  4.      39.29     0.     ...   0.       0.       0.    ]\n",
            " [  3.      18.76     0.     ...   0.       1.       0.    ]\n",
            " ...\n",
            " [  1.     236.1474   0.     ...   0.       0.       1.    ]\n",
            " [  1.     236.1474   1.     ...   0.       0.       0.    ]\n",
            " [  4.     236.1474   0.     ...   0.       0.       0.    ]] \n",
            "\n",
            "[[0.5        0.20681002 0.         ... 0.         1.         0.        ]\n",
            " [0.66666667 0.16247858 0.         ... 0.         0.         0.        ]\n",
            " [0.5        0.07513457 0.         ... 0.         1.         0.        ]\n",
            " ...\n",
            " [0.16666667 1.         0.         ... 0.         0.         1.        ]\n",
            " [0.16666667 1.         1.         ... 0.         0.         0.        ]\n",
            " [0.66666667 1.         0.         ... 0.         0.         0.        ]]\n"
          ]
        }
      ],
      "source": [
        "labels = banksim_adj_df.fraud\n",
        "\n",
        "cols = ['age', 'amount', 'M', 'es_barsandrestaurants', 'es_contents',\n",
        "        'es_fashion', 'es_food', 'es_health', 'es_home', 'es_hotelservices',\n",
        "        'es_hyper', 'es_leisure', 'es_otherservices', 'es_sportsandtoys',\n",
        "        'es_tech', 'es_transportation', 'es_travel']\n",
        "\n",
        "# Take the float values of df for X\n",
        "X = banksim_adj_df[cols].values.astype(np.float)\n",
        "print(X.shape)\n",
        "# Define the scaler and apply to the data\n",
        "scaler = MinMaxScaler()\n",
        "X_scaled = scaler.fit_transform(X)\n",
        "print(X, \"\\n\")\n",
        "print(X_scaled)"
      ]
    },
    {
      "cell_type": "code",
      "execution_count": null,
      "metadata": {
        "colab": {
          "background_save": true,
          "base_uri": "https://localhost:8080/"
        },
        "id": "r3zlwmzq2Ukm",
        "outputId": "f2c43f6c-55fb-4e38-b954-57820b8ae65b"
      },
      "outputs": [
        {
          "data": {
            "text/plain": [
              "MiniBatchKMeans(random_state=0)"
            ]
          },
          "execution_count": 60,
          "metadata": {},
          "output_type": "execute_result"
        }
      ],
      "source": [
        "# Define the model \n",
        "kmeans = MiniBatchKMeans(n_clusters=8, random_state=0)\n",
        "\n",
        "# Fit the model to the scaled data\n",
        "kmeans.fit(X_scaled)\n",
        "\n",
        "# Elbow method - to figure out the right number of clusters to use"
      ]
    },
    {
      "cell_type": "code",
      "execution_count": null,
      "metadata": {
        "colab": {
          "background_save": true,
          "base_uri": "https://localhost:8080/",
          "height": 295
        },
        "id": "Zyageq484X20",
        "outputId": "00ada8cb-cebb-4bd9-f664-e16ed65f7267"
      },
      "outputs": [
        {
          "data": {
            "image/png": "[encoded data removed]",
            "text/plain": [
              "<Figure size 432x288 with 1 Axes>"
            ]
          },
          "metadata": {},
          "output_type": "display_data"
        }
      ],
      "source": [
        "# Define the range of clusters to try\n",
        "clustno = range(1, 10)\n",
        "\n",
        "# Run MiniBatch Kmeans over the number of clusters\n",
        "kmeans = [MiniBatchKMeans(n_clusters=i) for i in clustno]\n",
        "\n",
        "# Obtain the score for each model\n",
        "score = [kmeans[i].fit(X_scaled).score(X_scaled) for i in range(len(kmeans))]\n",
        "# Plot the models and their respective score \n",
        "plt.plot(clustno, score)\n",
        "plt.xlabel('Number of Clusters')\n",
        "plt.ylabel('Score')\n",
        "plt.title('Elbow Curve')\n",
        "plt.show()"
      ]
    },
    {
      "cell_type": "code",
      "execution_count": null,
      "metadata": {
        "colab": {
          "background_save": true,
          "base_uri": "https://localhost:8080/",
          "height": 347
        },
        "id": "3C5zoVTd4a-i",
        "outputId": "bbd9dd7e-843d-45f2-a218-66854e280e20"
      },
      "outputs": [
        {
          "name": "stdout",
          "output_type": "stream",
          "text": [
            "Confusion matrix, without normalization\n"
          ]
        },
        {
          "data": {
            "image/png": "[encoded data removed]",
            "text/plain": [
              "<Figure size 432x288 with 2 Axes>"
            ]
          },
          "metadata": {},
          "output_type": "display_data"
        },
        {
          "name": "stdout",
          "output_type": "stream",
          "text": [
            "0.8183864237485832\n"
          ]
        }
      ],
      "source": [
        "# Detecting Outliers\n",
        "\n",
        "# Split the data into training and test set\n",
        "X_train, X_test, y_train, y_test = train_test_split(X_scaled, labels, test_size=0.3, random_state=0)\n",
        "\n",
        "# Define K-means model \n",
        "kmeans = MiniBatchKMeans(n_clusters=3, random_state=42).fit(X_train)\n",
        "\n",
        "# Obtain predictions and calculate distance from cluster centroid\n",
        "X_test_clusters = kmeans.predict(X_test)\n",
        "X_test_clusters_centers = kmeans.cluster_centers_\n",
        "dist = [np.linalg.norm(x-y) for x, y in zip(X_test, X_test_clusters_centers[X_test_clusters])]\n",
        "\n",
        "# Create fraud predictions based on outliers on clusters \n",
        "km_y_pred = np.array(dist)\n",
        "km_y_pred[dist >= np.percentile(dist, 93)] = 1\n",
        "km_y_pred[dist < np.percentile(dist, 93)] = 0\n",
        "\n",
        "def plot_confusion_matrix(cm, classes=['Not Fraud', 'Fraud'],\n",
        "                          normalize=False,\n",
        "                          title='Fraud Confusion matrix',\n",
        "                          cmap=plt.cm.Blues):\n",
        "    \"\"\"\n",
        "    This function prints and plots the confusion matrix.\n",
        "    Normalization can be applied by setting `normalize=True`.\n",
        "    From:\n",
        "        http://scikit-learn.org/stable/auto_examples/model_selection/plot_confusion_matrix.html#sphx-glr-auto-\n",
        "        examples-model-selection-plot-confusion-matrix-py\n",
        "    \"\"\"\n",
        "    if normalize:\n",
        "        cm = cm.astype('float') / cm.sum(axis=1)[:, np.newaxis]\n",
        "        print(\"Normalized confusion matrix\")\n",
        "    else:\n",
        "        print('Confusion matrix, without normalization')\n",
        "\n",
        "    # print(cm)\n",
        "\n",
        "    plt.imshow(cm, interpolation='nearest', cmap=cmap)\n",
        "    plt.title(title)\n",
        "    plt.colorbar()\n",
        "    tick_marks = np.arange(len(classes))\n",
        "    plt.xticks(tick_marks, classes, rotation=45)\n",
        "    plt.yticks(tick_marks, classes)\n",
        "\n",
        "    fmt = '.2f' if normalize else 'd'\n",
        "    thresh = cm.max() / 2.\n",
        "    for i, j in product(range(cm.shape[0]), range(cm.shape[1])):\n",
        "        plt.text(j, i, format(cm[i, j], fmt),\n",
        "                 horizontalalignment=\"center\",\n",
        "                 color=\"white\" if cm[i, j] > thresh else \"black\")\n",
        "\n",
        "    plt.tight_layout()\n",
        "    plt.ylabel('True label')\n",
        "    plt.xlabel('Predicted label')\n",
        "    plt.show()\n",
        "\n",
        "# Obtain the ROC score\n",
        "score = roc_auc_score(y_test, km_y_pred)\n",
        "\n",
        "# Create a confusion matrix\n",
        "km_cm = confusion_matrix(y_test, km_y_pred)\n",
        "\n",
        "# Plot the confusion matrix in a figure to visualize results \n",
        "plot_confusion_matrix(km_cm)\n",
        "\n",
        "print(score)"
      ]
    },
    {
      "cell_type": "code",
      "execution_count": null,
      "metadata": {
        "colab": {
          "background_save": true,
          "base_uri": "https://localhost:8080/"
        },
        "id": "irj2z9L9t9Fs",
        "outputId": "2fb48392-4e77-422a-f3e2-4720678f0a88"
      },
      "outputs": [
        {
          "name": "stdout",
          "output_type": "stream",
          "text": [
            "Estimated number of clusters: 23\n",
            "Homogeneity: 0.612\n",
            "Silhouette Coefficient: 0.713\n"
          ]
        }
      ],
      "source": [
        "# Initialize and fit the DBscan model\n",
        "db = DBSCAN(eps=0.9, min_samples=10, n_jobs=-1).fit(X_scaled)\n",
        "\n",
        "# Obtain the predicted labels and calculate number of clusters\n",
        "pred_labels = db.labels_\n",
        "n_clusters = len(set(pred_labels)) - (1 if -1 in labels else 0)\n",
        "\n",
        "# Print performance metrics for DBscan\n",
        "print(f'Estimated number of clusters: {n_clusters}')\n",
        "print(f'Homogeneity: {homogeneity_score(labels, pred_labels):0.3f}')\n",
        "print(f'Silhouette Coefficient: {silhouette_score(X_scaled, pred_labels):0.3f}')"
      ]
    },
    {
      "cell_type": "code",
      "execution_count": null,
      "metadata": {
        "colab": {
          "background_save": true
        },
        "id": "1h5WFCL1vshT",
        "outputId": "023b4523-f90c-4833-9781-7f39bbc55708"
      },
      "outputs": [
        {
          "name": "stdout",
          "output_type": "stream",
          "text": [
            "[3252  145 2714   55  174  119  122   98   54   15   76   15   43   25\n",
            "   51   47   42   15   25   20   19   10]\n",
            "The smallest clusters are clusters: [21 17  9]\n"
          ]
        }
      ],
      "source": [
        "# Count observations in each cluster number\n",
        "counts = np.bincount(pred_labels[pred_labels >= 0])\n",
        "\n",
        "# Print the result\n",
        "print(counts)\n",
        "\n",
        "# Sort the sample counts of the clusters and take the top 3 smallest clusters\n",
        "smallest_clusters = np.argsort(counts)[:3]\n",
        "\n",
        "# Print the results \n",
        "print(f'The smallest clusters are clusters: {smallest_clusters}')"
      ]
    },
    {
      "cell_type": "code",
      "execution_count": null,
      "metadata": {
        "colab": {
          "background_save": true
        },
        "id": "jPU641GvwFc1"
      },
      "outputs": [],
      "source": [
        ""
      ]
    }
  ],
  "metadata": {
    "colab": {
      "name": "FraudDetection InPython.ipynb",
      "provenance": []
    },
    "kernelspec": {
      "display_name": "Python 3",
      "name": "python3"
    },
    "language_info": {
      "name": "python"
    }
  },
  "nbformat": 4,
  "nbformat_minor": 0
}