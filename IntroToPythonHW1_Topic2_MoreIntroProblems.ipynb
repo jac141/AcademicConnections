{
  "nbformat": 4,
  "nbformat_minor": 0,
  "metadata": {
    "colab": {
      "provenance": []
    },
    "kernelspec": {
      "name": "python3",
      "display_name": "Python 3"
    },
    "language_info": {
      "name": "python"
    }
  },
  "cells": [
    {
      "cell_type": "markdown",
      "source": [
        "# **Topic 2 More Intro Problems**\n",
        "\n",
        "Now that you should be more well versed lets see if you can handle these"
      ],
      "metadata": {
        "id": "anbXZ-lURatm"
      }
    },
    {
      "cell_type": "markdown",
      "source": [
        "## Section 1: General"
      ],
      "metadata": {
        "id": "z1Cf4z-6Sx47"
      }
    },
    {
      "cell_type": "markdown",
      "source": [
        "1. Write a Python program to print the following string in a specific format (see the output).\n",
        "Sample String : \"Twinkle, twinkle, little star, How I wonder what you are! Up above the world so high, Like a diamond in the sky. Twinkle, twinkle, little star, How I wonder what you are\"\n",
        "Output :\n",
        "\n",
        "\n",
        "\n",
        "```\n",
        "Twinkle, twinkle, little star,\n",
        "\tHow I wonder what you are!\n",
        "\t\tUp above the world so high,\n",
        "\t\tLike a diamond in the sky.\n",
        "Twinkle, twinkle, little star,\n",
        "\tHow I wonder what you are\n",
        "```\n",
        "\n",
        "\n"
      ],
      "metadata": {
        "id": "bWf-Q4xHRlaO"
      }
    },
    {
      "cell_type": "markdown",
      "source": [
        "2. Write a Python program to find out what version of Python you are using."
      ],
      "metadata": {
        "id": "R8Nk5ilPRsR2"
      }
    },
    {
      "cell_type": "code",
      "source": [],
      "metadata": {
        "id": "8cFFdqtKR016"
      },
      "execution_count": null,
      "outputs": []
    },
    {
      "cell_type": "markdown",
      "source": [
        "5. Write a Python program that accepts the user's first and last name and prints them in reverse order with a space between them."
      ],
      "metadata": {
        "id": "ZP2O2t5OR1oa"
      }
    },
    {
      "cell_type": "code",
      "source": [],
      "metadata": {
        "id": "NNTr_DIxR4xF"
      },
      "execution_count": null,
      "outputs": []
    },
    {
      "cell_type": "markdown",
      "source": [
        "6. Write a Python program that accepts a sequence of comma-separated numbers from the user and generates a list and a tuple of those numbers.\n",
        "Sample data : 3, 5, 7, 23\n",
        "Output :\n",
        "List : ['3', ' 5', ' 7', ' 23']\n",
        "Tuple : ('3', ' 5', ' 7', ' 23')"
      ],
      "metadata": {
        "id": "2WeYfKK-R8Yu"
      }
    },
    {
      "cell_type": "code",
      "source": [],
      "metadata": {
        "id": "GgJ3d6-QR-XF"
      },
      "execution_count": null,
      "outputs": []
    },
    {
      "cell_type": "markdown",
      "source": [
        "8. Write a Python program to display the first and last colors from the following list.\n",
        "color_list = [\"Red\",\"Green\",\"White\" ,\"Black\"]"
      ],
      "metadata": {
        "id": "lQBihEHLSBqG"
      }
    },
    {
      "cell_type": "code",
      "source": [],
      "metadata": {
        "id": "_Mkumd4LSCDW"
      },
      "execution_count": null,
      "outputs": []
    },
    {
      "cell_type": "markdown",
      "source": [
        "10. Write a Python program that accepts an integer (n) and computes the value of n+nn+nnn.\n",
        "Sample value of n is 5\n",
        "Expected Result : 615"
      ],
      "metadata": {
        "id": "nS29WGPwSFRA"
      }
    },
    {
      "cell_type": "code",
      "source": [],
      "metadata": {
        "id": "LrfK52OKSUp9"
      },
      "execution_count": null,
      "outputs": []
    },
    {
      "cell_type": "markdown",
      "source": [
        "17. Write a Python program to test whether a number is within 100 of 1000 or 2000."
      ],
      "metadata": {
        "id": "zTD8ti3MSWQI"
      }
    },
    {
      "cell_type": "code",
      "source": [],
      "metadata": {
        "id": "xRMxgeygSeMe"
      },
      "execution_count": null,
      "outputs": []
    },
    {
      "cell_type": "markdown",
      "source": [
        "21. Write a Python program that determines whether a given number (accepted from the user) is even or odd, and prints an appropriate message to the user."
      ],
      "metadata": {
        "id": "IvCFcQ9VSdhZ"
      }
    },
    {
      "cell_type": "code",
      "source": [],
      "metadata": {
        "id": "yLaoo_xuSe54"
      },
      "execution_count": null,
      "outputs": []
    },
    {
      "cell_type": "markdown",
      "source": [
        "25. Write a Python program that checks whether a specified value is contained within a group of values.\n",
        "Test Data :\n",
        "3 -> [1, 5, 8, 3] : True\n",
        "-1 -> [1, 5, 8, 3] : False\n",
        "\n"
      ],
      "metadata": {
        "id": "QEp6ejnORzYQ"
      }
    },
    {
      "cell_type": "code",
      "source": [],
      "metadata": {
        "id": "oqtpaXMqRqlH"
      },
      "execution_count": null,
      "outputs": []
    },
    {
      "cell_type": "markdown",
      "source": [
        "37. Write a Python program that displays your name, age, and address on three different lines."
      ],
      "metadata": {
        "id": "PucYUXmhRtMI"
      }
    },
    {
      "cell_type": "code",
      "execution_count": null,
      "metadata": {
        "id": "xCl5KiQfOFjb"
      },
      "outputs": [],
      "source": []
    },
    {
      "cell_type": "markdown",
      "source": [
        "## Section 2: Puzzles and Topics"
      ],
      "metadata": {
        "id": "OWrJpYTbS1oV"
      }
    },
    {
      "cell_type": "markdown",
      "source": [
        "1. Write a Python function that takes a sequence of numbers and determines whether all the numbers are different from each other."
      ],
      "metadata": {
        "id": "aB3EoVwcS-NQ"
      }
    },
    {
      "cell_type": "code",
      "source": [],
      "metadata": {
        "id": "YEGK9CLBS-yc"
      },
      "execution_count": null,
      "outputs": []
    },
    {
      "cell_type": "markdown",
      "source": [
        "2. Write a Python program that creates all possible strings using the letters 'a', 'e', 'i', 'o', and 'I'. Ensure that each character is used only once."
      ],
      "metadata": {
        "id": "T_C7shu-TAAi"
      }
    },
    {
      "cell_type": "code",
      "source": [],
      "metadata": {
        "id": "wEsUWRmfTAg6"
      },
      "execution_count": null,
      "outputs": []
    },
    {
      "cell_type": "markdown",
      "source": [
        "3. Write a Python program that removes and prints every third number from a list of numbers until the list is empty."
      ],
      "metadata": {
        "id": "xTjb7onLTBCm"
      }
    },
    {
      "cell_type": "code",
      "source": [],
      "metadata": {
        "id": "LHWPRiSZTCsK"
      },
      "execution_count": null,
      "outputs": []
    },
    {
      "cell_type": "markdown",
      "source": [
        "12. Write a Python program that generates a list of all possible permutations from a given collection of distinct numbers."
      ],
      "metadata": {
        "id": "c-VSrr0nTL_S"
      }
    },
    {
      "cell_type": "code",
      "source": [],
      "metadata": {
        "id": "NVkCGj8tTMa8"
      },
      "execution_count": null,
      "outputs": []
    },
    {
      "cell_type": "markdown",
      "source": [
        "16. Write a Python program to get the third side of a right-angled triangle from two given sides."
      ],
      "metadata": {
        "id": "K5FJbUzKTM_s"
      }
    },
    {
      "cell_type": "code",
      "source": [],
      "metadata": {
        "id": "86dyRLOLTS5i"
      },
      "execution_count": null,
      "outputs": []
    },
    {
      "cell_type": "markdown",
      "source": [
        "11. Write a Python program to find the indexes of numbers in a given list below a given threshold.\n",
        "Original list:\n",
        "[0, 12, 45, 3, 4923, 322, 105, 29, 15, 39, 55]\n",
        "Threshold: 100\n",
        "Check the indexes of numbers of the said list below the given threshold:\n",
        "[0, 1, 2, 3, 7, 8, 9, 10]\n",
        "Original list:\n",
        "[0, 12, 4, 3, 49, 9, 1, 5, 3]\n",
        "Threshold: 10\n",
        "Check the indexes of numbers of the said list below the given threshold:\n",
        "[0, 2, 3, 5, 6, 7, 8]"
      ],
      "metadata": {
        "id": "UQJhVZ6cTTdF"
      }
    },
    {
      "cell_type": "code",
      "source": [],
      "metadata": {
        "id": "gYARvP5zTgE3"
      },
      "execution_count": null,
      "outputs": []
    },
    {
      "cell_type": "markdown",
      "source": [
        "12. Write a Python program to check whether the given strings are palindromes or not. Return True otherwise False.\n",
        "Input:\n",
        "['palindrome', 'madamimadam', '', 'foo', 'eyes']\n",
        "Output:\n",
        "[False, True, True, False, False]"
      ],
      "metadata": {
        "id": "AZQhfWblTfl4"
      }
    },
    {
      "cell_type": "code",
      "source": [],
      "metadata": {
        "id": "-KScZqkCTjkI"
      },
      "execution_count": null,
      "outputs": []
    },
    {
      "cell_type": "markdown",
      "source": [
        "12. Write a Python program to find the first non-repeated element in a list."
      ],
      "metadata": {
        "id": "wJ20ZfugTzA6"
      }
    },
    {
      "cell_type": "code",
      "source": [],
      "metadata": {
        "id": "nlk_jaUoUWW4"
      },
      "execution_count": null,
      "outputs": []
    },
    {
      "cell_type": "markdown",
      "source": [
        "14. Write a Python function to check whether a string is a pangram or not.\n",
        "Note : Pangrams are words or sentences containing every letter of the alphabet at least once.\n",
        "For example : \"The quick brown fox jumps over the lazy dog\""
      ],
      "metadata": {
        "id": "Co_7u382T6uW"
      }
    },
    {
      "cell_type": "code",
      "source": [],
      "metadata": {
        "id": "aKQwQSXhT7ja"
      },
      "execution_count": null,
      "outputs": []
    },
    {
      "cell_type": "markdown",
      "source": [
        "15. Write a Python program to get the maximum and minimum values of a dictionary."
      ],
      "metadata": {
        "id": "ftjkWyznUASU"
      }
    },
    {
      "cell_type": "code",
      "source": [],
      "metadata": {
        "id": "kdT0B9FxUVZ8"
      },
      "execution_count": null,
      "outputs": []
    },
    {
      "cell_type": "markdown",
      "source": [
        "4. Write a Python program to construct the following pattern, using a nested for loop.\n",
        "\n",
        "\n",
        "```\n",
        "*\n",
        "* *\n",
        "* * *\n",
        "* * * *\n",
        "* * * * *\n",
        "* * * *\n",
        "* * *\n",
        "* *\n",
        "*\n",
        "\n",
        "```\n",
        "\n"
      ],
      "metadata": {
        "id": "_-tvWg92UDvA"
      }
    },
    {
      "cell_type": "code",
      "source": [],
      "metadata": {
        "id": "embVUC8cUdVk"
      },
      "execution_count": null,
      "outputs": []
    },
    {
      "cell_type": "markdown",
      "source": [
        "6. Write a Python program to create an intersection of sets."
      ],
      "metadata": {
        "id": "Fhsqpnl3UdqU"
      }
    },
    {
      "cell_type": "code",
      "source": [],
      "metadata": {
        "id": "Ibx9KWwFUeK2"
      },
      "execution_count": null,
      "outputs": []
    },
    {
      "cell_type": "code",
      "source": [
        "21. Write a Python program to replace the last value of tuples in a list.\n",
        "Sample list: [(10, 20, 40), (40, 50, 60), (70, 80, 90)]\n",
        "Expected Output: [(10, 20, 100), (40, 50, 100), (70, 80, 100)]"
      ],
      "metadata": {
        "id": "xHC-fumsU--i"
      },
      "execution_count": null,
      "outputs": []
    },
    {
      "cell_type": "markdown",
      "source": [],
      "metadata": {
        "id": "lpyvKqPeU_c-"
      }
    }
  ]
}