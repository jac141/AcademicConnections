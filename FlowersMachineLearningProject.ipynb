{
  "nbformat": 4,
  "nbformat_minor": 0,
  "metadata": {
    "colab": {
      "provenance": []
    },
    "kernelspec": {
      "name": "python3",
      "display_name": "Python 3"
    },
    "language_info": {
      "name": "python"
    }
  },
  "cells": [
    {
      "cell_type": "markdown",
      "source": [
        "# **Beginners Need A Small End-to-End Project**\n",
        "\n",
        "Books and courses are frustrating. They give you lots of recipes and snippets, but you never get to see how they all fit together.\n",
        "\n",
        "When you are applying machine learning to your own datasets, you are working on a project.\n",
        "\n",
        "A machine learning project may not be linear, but it has a number of well known steps:"
      ],
      "metadata": {
        "id": "3Vq2JxeBraVg"
      }
    },
    {
      "cell_type": "markdown",
      "source": [
        "What are those well known steps?\n",
        "\n"
      ],
      "metadata": {
        "id": "8PVmixb5rgHI"
      }
    },
    {
      "cell_type": "markdown",
      "source": [
        "**Answer:**\n",
        "\n",
        "\n",
        "\n",
        "1.   List item\n",
        "2.   List item\n",
        "3.\n",
        "4.\n",
        "5.\n",
        "\n",
        "\n"
      ],
      "metadata": {
        "id": "KyPicImvrkGz"
      }
    },
    {
      "cell_type": "markdown",
      "source": [
        "**Topics/Features**\n",
        "\n",
        "* Attributes are numeric so you have to figure out how to load and handle data.\n",
        "* It is a classification problem, allowing you to practice with perhaps an easier type of supervised learning algorithm.\n",
        "* It is a multi-class classification problem (multi-nominal) that may require some specialized handling.\n",
        "* It only has 4 attributes and 150 rows, meaning it is small and easily fits into memory (and a screen or A4 page).\n",
        "* All of the numeric attributes are in the same units and the same scale, not requiring any special scaling or transforms to get started\n",
        "* We are going to visualize the data set here\n",
        "* And make some predictions"
      ],
      "metadata": {
        "id": "XcQ8VwahrsSV"
      }
    },
    {
      "cell_type": "markdown",
      "source": [
        "**NOTE: for certain activities I will be asking you to do certain things that I feel like you should know how to do**"
      ],
      "metadata": {
        "id": "WkSUXIALsNiD"
      }
    },
    {
      "cell_type": "markdown",
      "source": [
        "# **Beginning of Project**"
      ],
      "metadata": {
        "id": "Yc16p4sb7oc9"
      }
    },
    {
      "cell_type": "code",
      "execution_count": null,
      "metadata": {
        "id": "LUvdT14vrMJA"
      },
      "outputs": [],
      "source": [
        "#Please import the following libraries and check the versions of the libraries\n",
        "#sys\n",
        "#scipy\n",
        "#numpy\n",
        "#matplotlib\n",
        "#pandas\n",
        "#sklearn"
      ]
    },
    {
      "cell_type": "code",
      "source": [
        "#Please Import the following modules from your libraries\n",
        "#You will be required to know which from where\n",
        "\n",
        "\n",
        "# read_csv\n",
        "# scatter_matrix\n",
        "# pyplot\n",
        "# train_test_split\n",
        "# cross_val_score\n",
        "# StratifiedKFold\n",
        "# classification_report\n",
        "# confusion_matrix\n",
        "# accuracy_score\n",
        "# LogisticRegression\n",
        "# DecisionTreeClassifier\n",
        "# KNeighborsClassifier\n",
        "# LinearDiscriminantAnalysis\n",
        "# GaussianNB\n",
        "# SVC"
      ],
      "metadata": {
        "id": "n3_zytMRtROR"
      },
      "execution_count": null,
      "outputs": []
    },
    {
      "cell_type": "code",
      "source": [
        "# load dataset with this url\n",
        "url = \"https://raw.githubusercontent.com/jbrownlee/Datasets/master/iris.csv\"\n",
        "\n",
        "# using this names list\n",
        "names = ['sepal-length', 'sepal-width', 'petal-length', 'petal-width', 'class']\n",
        "\n",
        "\n"
      ],
      "metadata": {
        "id": "KFqlLDkHuuh9"
      },
      "execution_count": null,
      "outputs": []
    },
    {
      "cell_type": "code",
      "source": [
        "# print shape of data"
      ],
      "metadata": {
        "id": "3Ar7WAYQ3sq9"
      },
      "execution_count": null,
      "outputs": []
    },
    {
      "cell_type": "code",
      "source": [
        "# print first 20 rows of data"
      ],
      "metadata": {
        "id": "l_29q9zY3yYP"
      },
      "execution_count": null,
      "outputs": []
    },
    {
      "cell_type": "code",
      "source": [
        "# print description of data"
      ],
      "metadata": {
        "id": "zuC1LbPC33Wr"
      },
      "execution_count": null,
      "outputs": []
    },
    {
      "cell_type": "code",
      "source": [
        "# group data by \"class\""
      ],
      "metadata": {
        "id": "hQKnEsEp36Nx"
      },
      "execution_count": null,
      "outputs": []
    },
    {
      "cell_type": "code",
      "source": [
        "# create a box and whisket plot for the data"
      ],
      "metadata": {
        "id": "VgfpatE14At9"
      },
      "execution_count": null,
      "outputs": []
    },
    {
      "cell_type": "code",
      "source": [
        "# create a histogram of the data"
      ],
      "metadata": {
        "id": "Wx-_Nm_m4IpU"
      },
      "execution_count": null,
      "outputs": []
    },
    {
      "cell_type": "code",
      "source": [
        "# create a scatter plot matrix of the data"
      ],
      "metadata": {
        "id": "qsbzWXOk4Ogl"
      },
      "execution_count": null,
      "outputs": []
    },
    {
      "cell_type": "markdown",
      "source": [
        "We need to know that the model we created is good.\n",
        "\n",
        "Later, we will use statistical methods to estimate the accuracy of the models that we create on unseen data. We also want a more concrete estimate of the accuracy of the best model on unseen data by evaluating it on actual unseen data.\n",
        "\n",
        "That is, we are going to hold back some data that the algorithms will not get to see and we will use this data to get a second and independent idea of how accurate the best model might actually be.\n",
        "\n",
        "We will split the loaded dataset into two, 80% of which we will use to train, evaluate and select among our models, and 20% that we will hold back as a validation dataset."
      ],
      "metadata": {
        "id": "OlKGJ1WO4ZxB"
      }
    },
    {
      "cell_type": "code",
      "source": [
        "# Create arrays for your dataset\n",
        "# Assign to X and Y\n",
        "# Create your train test split with a test size of 20%"
      ],
      "metadata": {
        "id": "Iz_cmYkH4ZEA"
      },
      "execution_count": null,
      "outputs": []
    },
    {
      "cell_type": "markdown",
      "source": [
        "We don’t know which algorithms would be good on this problem or what configurations to use.\n",
        "\n",
        "We get an idea from the plots that some of the classes are partially linearly separable in some dimensions, so we are expecting generally good results.\n",
        "\n",
        "Let’s test 6 different algorithms:\n",
        "\n",
        "* Logistic Regression (LR)\n",
        "* Linear Discriminant Analysis (LDA)\n",
        "* K-Nearest Neighbors (KNN).\n",
        "* Classification and Regression Trees (CART).\n",
        "* Gaussian Naive Bayes (NB).\n",
        "* Support Vector Machines (SVM).\n",
        "* This is a good mixture of simple linear (LR and LDA), nonlinear (KNN, CART, NB and SVM) algorithms.\n",
        "\n",
        "Let’s build and evaluate our models:"
      ],
      "metadata": {
        "id": "FvieFZVb4wmr"
      }
    },
    {
      "cell_type": "code",
      "source": [
        "# Try Spot checking all your models for yourself\n",
        "# make models variable\n",
        "# append models above\n",
        "# evaluate each model's results using a for loop\n",
        "# you should consider kfold and cross val score in this loop\n",
        "# print results\n"
      ],
      "metadata": {
        "id": "d5YUviT35Gs0"
      },
      "execution_count": null,
      "outputs": []
    },
    {
      "cell_type": "markdown",
      "source": [
        "# Hiding Code**"
      ],
      "metadata": {
        "id": "K0lJwvkJ5BNl"
      }
    },
    {
      "cell_type": "code",
      "source": [
        "# Spot Check Algorithms\n",
        "models = []\n",
        "models.append(('LR', LogisticRegression(solver='liblinear', multi_class='ovr')))\n",
        "models.append(('LDA', LinearDiscriminantAnalysis()))\n",
        "models.append(('KNN', KNeighborsClassifier()))\n",
        "models.append(('CART', DecisionTreeClassifier()))\n",
        "models.append(('NB', GaussianNB()))\n",
        "models.append(('SVM', SVC(gamma='auto')))\n",
        "# evaluate each model in turn\n",
        "results = []\n",
        "names = []\n",
        "for name, model in models:\n",
        " kfold = StratifiedKFold(n_splits=10, random_state=1, shuffle=True)\n",
        " cv_results = cross_val_score(model, X_train, Y_train, cv=kfold, scoring='accuracy')\n",
        " results.append(cv_results)\n",
        " names.append(name)\n",
        " print('%s: %f (%f)' % (name, cv_results.mean(), cv_results.std()))"
      ],
      "metadata": {
        "id": "Ab9COT6b45FR"
      },
      "execution_count": null,
      "outputs": []
    },
    {
      "cell_type": "markdown",
      "source": [
        "# **Selecting the Best Model and Continuing Project**\n",
        "\n",
        "Spoiler your data should support using Support Vector Machines.\n",
        "\n",
        "We can also create a plot of the model evaluation results and compare the spread and the mean accuracy of each model. There is a population of accuracy measures for each algorithm because each algorithm was evaluated 10 times (via 10 fold-cross validation).\n",
        "\n",
        "A useful way to compare the samples of results for each algorithm is to create a box and whisker plot for each distribution and compare the distributions."
      ],
      "metadata": {
        "id": "7Q4tmwyX5faQ"
      }
    },
    {
      "cell_type": "code",
      "source": [
        "# Create a box and whisket plot that compares algorithms\n",
        "# it should mimic the one below. Including title.\n",
        "# change some colors for pop"
      ],
      "metadata": {
        "id": "ajbXFVyv5g_D"
      },
      "execution_count": null,
      "outputs": []
    },
    {
      "cell_type": "markdown",
      "source": [
        "![image.png](data:image/png;base64,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)"
      ],
      "metadata": {
        "id": "IQUVLVds62PS"
      }
    },
    {
      "cell_type": "code",
      "source": [
        "# make some predictions using your model\n",
        "# make predictions on the validation set"
      ],
      "metadata": {
        "id": "iCy2fXlY6_Md"
      },
      "execution_count": null,
      "outputs": []
    },
    {
      "cell_type": "code",
      "source": [
        "# Evaluate your predictions\n",
        "# use accuracy score\n",
        "# confusion matrix\n",
        "# classification report"
      ],
      "metadata": {
        "id": "3GoDa-6Z7MTj"
      },
      "execution_count": null,
      "outputs": []
    }
  ]
}