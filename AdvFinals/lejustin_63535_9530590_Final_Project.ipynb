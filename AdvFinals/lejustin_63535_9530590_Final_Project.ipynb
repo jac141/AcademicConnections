{
  "nbformat": 4,
  "nbformat_minor": 0,
  "metadata": {
    "colab": {
      "name": "Final Project",
      "provenance": []
    },
    "kernelspec": {
      "name": "python3",
      "display_name": "Python 3"
    },
    "language_info": {
      "name": "python"
    }
  },
  "cells": [
    {
      "cell_type": "markdown",
      "source": [
        "Import datasets and libraries"
      ],
      "metadata": {
        "id": "XwJfcJ_8c6LB"
      }
    },
    {
      "cell_type": "code",
      "execution_count": null,
      "metadata": {
        "id": "9ITDQDByc4LR"
      },
      "outputs": [],
      "source": [
        "from sklearn.datasets import load_breast_cancer\n",
        "from sklearn.model_selection import train_test_split\n",
        "from sklearn.neighbors import KNeighborsClassifier\n",
        "import matplotlib.pyplot as plt"
      ]
    },
    {
      "cell_type": "markdown",
      "source": [
        "Load in datasets"
      ],
      "metadata": {
        "id": "6b6Ve5Ba5KwD"
      }
    },
    {
      "cell_type": "code",
      "source": [
        "breast_cancer_data = load_breast_cancer()"
      ],
      "metadata": {
        "id": "tgxVssqA5MSb"
      },
      "execution_count": null,
      "outputs": []
    },
    {
      "cell_type": "markdown",
      "source": [
        "Look at info from the data set to get better understanding of it"
      ],
      "metadata": {
        "id": "H0cr5beo580L"
      }
    },
    {
      "cell_type": "code",
      "source": [
        "print(breast_cancer_data.data[0]) #First datapoint in the set; Each index corresponds to the same index in .feature_names\n",
        "print(breast_cancer_data.feature_names) #Tells what each feature is\n",
        "print(breast_cancer_data.target) #Classifies/labels the data as 0 or 1\n",
        "print(breast_cancer_data.target_names) #Says that 0 means it is malignant and 1 means that it is benign"
      ],
      "metadata": {
        "colab": {
          "base_uri": "https://localhost:8080/"
        },
        "id": "ObjZ3bRA6AG5",
        "outputId": "cb367e1b-9b3f-4142-cec0-9842dfdb1852"
      },
      "execution_count": null,
      "outputs": [
        {
          "output_type": "stream",
          "name": "stdout",
          "text": [
            "[1.799e+01 1.038e+01 1.228e+02 1.001e+03 1.184e-01 2.776e-01 3.001e-01\n",
            " 1.471e-01 2.419e-01 7.871e-02 1.095e+00 9.053e-01 8.589e+00 1.534e+02\n",
            " 6.399e-03 4.904e-02 5.373e-02 1.587e-02 3.003e-02 6.193e-03 2.538e+01\n",
            " 1.733e+01 1.846e+02 2.019e+03 1.622e-01 6.656e-01 7.119e-01 2.654e-01\n",
            " 4.601e-01 1.189e-01]\n",
            "['mean radius' 'mean texture' 'mean perimeter' 'mean area'\n",
            " 'mean smoothness' 'mean compactness' 'mean concavity'\n",
            " 'mean concave points' 'mean symmetry' 'mean fractal dimension'\n",
            " 'radius error' 'texture error' 'perimeter error' 'area error'\n",
            " 'smoothness error' 'compactness error' 'concavity error'\n",
            " 'concave points error' 'symmetry error' 'fractal dimension error'\n",
            " 'worst radius' 'worst texture' 'worst perimeter' 'worst area'\n",
            " 'worst smoothness' 'worst compactness' 'worst concavity'\n",
            " 'worst concave points' 'worst symmetry' 'worst fractal dimension']\n",
            "[0 0 0 0 0 0 0 0 0 0 0 0 0 0 0 0 0 0 0 1 1 1 0 0 0 0 0 0 0 0 0 0 0 0 0 0 0\n",
            " 1 0 0 0 0 0 0 0 0 1 0 1 1 1 1 1 0 0 1 0 0 1 1 1 1 0 1 0 0 1 1 1 1 0 1 0 0\n",
            " 1 0 1 0 0 1 1 1 0 0 1 0 0 0 1 1 1 0 1 1 0 0 1 1 1 0 0 1 1 1 1 0 1 1 0 1 1\n",
            " 1 1 1 1 1 1 0 0 0 1 0 0 1 1 1 0 0 1 0 1 0 0 1 0 0 1 1 0 1 1 0 1 1 1 1 0 1\n",
            " 1 1 1 1 1 1 1 1 0 1 1 1 1 0 0 1 0 1 1 0 0 1 1 0 0 1 1 1 1 0 1 1 0 0 0 1 0\n",
            " 1 0 1 1 1 0 1 1 0 0 1 0 0 0 0 1 0 0 0 1 0 1 0 1 1 0 1 0 0 0 0 1 1 0 0 1 1\n",
            " 1 0 1 1 1 1 1 0 0 1 1 0 1 1 0 0 1 0 1 1 1 1 0 1 1 1 1 1 0 1 0 0 0 0 0 0 0\n",
            " 0 0 0 0 0 0 0 1 1 1 1 1 1 0 1 0 1 1 0 1 1 0 1 0 0 1 1 1 1 1 1 1 1 1 1 1 1\n",
            " 1 0 1 1 0 1 0 1 1 1 1 1 1 1 1 1 1 1 1 1 1 0 1 1 1 0 1 0 1 1 1 1 0 0 0 1 1\n",
            " 1 1 0 1 0 1 0 1 1 1 0 1 1 1 1 1 1 1 0 0 0 1 1 1 1 1 1 1 1 1 1 1 0 0 1 0 0\n",
            " 0 1 0 0 1 1 1 1 1 0 1 1 1 1 1 0 1 1 1 0 1 1 0 0 1 1 1 1 1 1 0 1 1 1 1 1 1\n",
            " 1 0 1 1 1 1 1 0 1 1 0 1 1 1 1 1 1 1 1 1 1 1 1 0 1 0 0 1 0 1 1 1 1 1 0 1 1\n",
            " 0 1 0 1 1 0 1 0 1 1 1 1 1 1 1 1 0 0 1 1 1 1 1 1 0 1 1 1 1 1 1 1 1 1 1 0 1\n",
            " 1 1 1 1 1 1 0 1 0 1 1 0 1 1 1 1 1 0 0 1 0 1 0 1 1 1 1 1 0 1 1 0 1 0 1 0 0\n",
            " 1 1 1 0 1 1 1 1 1 1 1 1 1 1 1 0 1 0 0 1 1 1 1 1 1 1 1 1 1 1 1 1 1 1 1 1 1\n",
            " 1 1 1 1 1 1 1 0 0 0 0 0 0 1]\n",
            "['malignant' 'benign']\n"
          ]
        }
      ]
    },
    {
      "cell_type": "markdown",
      "source": [
        "Split training and test data"
      ],
      "metadata": {
        "id": "wT746yAC5PXX"
      }
    },
    {
      "cell_type": "code",
      "source": [
        "training_data, validation_data, training_labels, validation_labels = train_test_split (breast_cancer_data.data, breast_cancer_data.target, test_size=0.2, random_state=100)\n",
        "\n",
        "\n"
      ],
      "metadata": {
        "id": "iXobJRo85PDC"
      },
      "execution_count": null,
      "outputs": []
    },
    {
      "cell_type": "markdown",
      "source": [
        "Test accuracies of different k-values"
      ],
      "metadata": {
        "id": "Yk9fYbSJ5XLk"
      }
    },
    {
      "cell_type": "code",
      "source": [
        "k=0\n",
        "k_highest_acc = 0\n",
        "k_highest = 0\n",
        "accuracies = []\n",
        "for i in range(100):\n",
        "  k+=1\n",
        "  classifier = KNeighborsClassifier(k) #create instance of object, it will use k nearest neighbors\n",
        "  classifier.fit(training_data, training_labels) #fit the model\n",
        "  score = classifier.score(validation_data, validation_labels) #get scores\n",
        "  accuracies.append(score) #in the accuracies list, add in the scores for the different k values\n",
        "  if (score > k_highest_acc):\n",
        "    k_highest_acc = score\n",
        "    k_highest = k"
      ],
      "metadata": {
        "id": "UiJVeD0S5ZqL"
      },
      "execution_count": null,
      "outputs": []
    },
    {
      "cell_type": "markdown",
      "source": [
        "Plot accuracies"
      ],
      "metadata": {
        "id": "RMnYISBm5hSW"
      }
    },
    {
      "cell_type": "code",
      "source": [
        "k_list = range(100)\n",
        "plt.plot(k_list, accuracies)\n",
        "plt.xlabel(\"k\")\n",
        "plt.ylabel(\"Validation Accuracy\")\n",
        "plt.title(\"Breast Cancer Classifier Accuracy\")\n",
        "plt.show()"
      ],
      "metadata": {
        "id": "RypWweHL5jzV",
        "colab": {
          "base_uri": "https://localhost:8080/",
          "height": 312
        },
        "outputId": "208448d2-1595-42a5-f44f-5e4b99c334b0"
      },
      "execution_count": null,
      "outputs": [
        {
          "output_type": "display_data",
          "data": {
            "text/plain": [
              "<Figure size 432x288 with 1 Axes>"
            ],
            "image/png": "[encoded data removed]"
          },
          "metadata": {
            "needs_background": "light"
          }
        },
        {
          "output_type": "stream",
          "name": "stdout",
          "text": [
            "23\n"
          ]
        }
      ]
    },
    {
      "cell_type": "markdown",
      "source": [
        "Create model using that k value"
      ],
      "metadata": {
        "id": "0-QyNPNWzYoV"
      }
    },
    {
      "cell_type": "code",
      "source": [
        "KNN_model = KNeighborsClassifier(k_highest)\n",
        "KNN_model.fit(training_data, training_labels)\n",
        "print(KNN_model.score(validation_data, validation_labels))\n",
        "print(KNN_model.score(training_data, training_labels))"
      ],
      "metadata": {
        "colab": {
          "base_uri": "https://localhost:8080/"
        },
        "id": "Y4PIjk4LzZQw",
        "outputId": "cc08d43c-0694-4583-d208-2a80d53f90e2"
      },
      "execution_count": null,
      "outputs": [
        {
          "output_type": "stream",
          "name": "stdout",
          "text": [
            "0.9649122807017544\n",
            "0.9208791208791208\n"
          ]
        }
      ]
    },
    {
      "cell_type": "markdown",
      "source": [
        "From this final project, I learned how KNN algorithm works and how it can be a good algorithm for classification"
      ],
      "metadata": {
        "id": "NAchXGI3GAw_"
      }
    }
  ]
}