{
  "nbformat": 4,
  "nbformat_minor": 0,
  "metadata": {
    "colab": {
      "name": "Kevin Yan Advanced Python Final Project.ipynb",
      "provenance": [],
      "collapsed_sections": []
    },
    "kernelspec": {
      "name": "python3",
      "display_name": "Python 3"
    },
    "language_info": {
      "name": "python"
    }
  },
  "cells": [
    {
      "cell_type": "markdown",
      "source": [
        "# **Kevin Yan Advanced Python Final Project -- Chatbot**"
      ],
      "metadata": {
        "id": "NY9Qik0_fznN"
      }
    },
    {
      "cell_type": "markdown",
      "source": [
        "### **Part 1: Abstract**"
      ],
      "metadata": {
        "id": "elMYwflrzasL"
      }
    },
    {
      "cell_type": "markdown",
      "source": [
        "*Hello, I'm Kevin Yan, an incoming high school junior. One of my favorite thing to do is code something easy but can definitely help people a lot and this is the reason that I joined this class. I really enjoy how technologies can help people do a lot of daily chores with easy and speed.*"
      ],
      "metadata": {
        "id": "K930IuGXf-AV"
      }
    },
    {
      "cell_type": "markdown",
      "source": [
        "*In this project, I want to show a lot cool features that a computer can do. I enjoy how computer can \"interact\" with people when needed and bring a lot of fun to the people. So I decide to make a chatbot to interact with people amd let the user to play some simple games and do some simple math.\n",
        "I attempted to do some machine learning and data science feature in my project. However, I cannot find some of the data that is best fit for my project. I wish I can make a original project that best fit my interests, not just attempt to follow another people's project. I tried my best to add a bit data analysis using if-else and try-except when calculating grades. Hope the user could enjoy this virtual \"friend\".*"
      ],
      "metadata": {
        "id": "0eqUQIxcgqhF"
      }
    },
    {
      "cell_type": "markdown",
      "source": [
        "\n",
        "\n",
        "---\n",
        "\n"
      ],
      "metadata": {
        "id": "WUX86iqHievn"
      }
    },
    {
      "cell_type": "markdown",
      "source": [
        "\n",
        "### **Part 2: Introduction:**"
      ],
      "metadata": {
        "id": "3AEZVR3tih0Y"
      }
    },
    {
      "cell_type": "code",
      "source": [
        "print(\"Hello, welcome to the virtual bot. I'm the bot. How is you day today?\")\n",
        "ans = input(\"\")\n",
        "\n",
        "# If there is 'You' in the response, the responses might asking for how the bot feel.\n",
        "if \"you\" in ans:\n",
        "  print(\"I'm so happy assisting you today!\")\n",
        "\n",
        "print(\"Please select a mode to play:\")\n",
        "print(\"Input 'game' is you wish to play a game and 'math' if you want to do some simple math.\")\n",
        "ans = input(\"\").lower()\n",
        "\n",
        "# print out a error message if there is a invalid input\n",
        "while ans != \"game\" and ans != \"math\":\n",
        "  print(\"I cannot understand your word. Please try again\")\n",
        "  ans = input(\"\").lower()"
      ],
      "metadata": {
        "colab": {
          "base_uri": "https://localhost:8080/"
        },
        "id": "qLwIssjcirbr",
        "outputId": "b1fad244-5b7c-41ad-c74f-8574d50a6d59"
      },
      "execution_count": 30,
      "outputs": [
        {
          "name": "stdout",
          "output_type": "stream",
          "text": [
            "Hello, welcome to the virtual bot. I'm the bot. How is you day today?\n",
            "Hi!\n",
            "Please select a mode to play:\n",
            "Input 'game' is you wish to play a game and 'math' if you want to do some simple math.\n",
            "math\n"
          ]
        }
      ]
    },
    {
      "cell_type": "markdown",
      "source": [
        "### **Part 3: Building a simple hangman game**"
      ],
      "metadata": {
        "id": "kpASfRvClbuC"
      }
    },
    {
      "cell_type": "code",
      "source": [
        "def game():\n",
        "    #Import\n",
        "    import random\n",
        "\n",
        "    #Let the user input their preferred file\n",
        "    file = input (\"Please input the word document that you want to play for: \")\n",
        "\n",
        "    #Create a list of word\n",
        "    fh = open (file)\n",
        "    lst = fh.read().split()\n",
        "\n",
        "    #Make a copy of the list that will not be changed\n",
        "    original_lst = []\n",
        "    for word in lst:\n",
        "        original_lst.append(word)\n",
        "\n",
        "    #Ask for the difficulty of the game\n",
        "    print(\"Input the difficulty of the game: \")\n",
        "    print(\"Easy: Only the word under or equal to 5 letters will appear.\")\n",
        "    print(\"Hard: Words above 5 letters will appear. \")\n",
        "    mode = input(\"\")\n",
        "\n",
        "    #Procedure\n",
        "    def find_appropriate_word (l, ol, m):\n",
        "        #Clean the list to the preferred mode\n",
        "        if m == \"Easy\":\n",
        "            for word in ol:\n",
        "                if len(word) > 5:\n",
        "                    l.remove(word)\n",
        "        elif m == \"Hard\":\n",
        "            for word in ol:\n",
        "                if len(word) <= 5:\n",
        "                    l.remove(word)\n",
        "\n",
        "        #Pick a word at random\n",
        "        word = l [random.randrange (0, len(l))]\n",
        "        return word\n",
        "\n",
        "    seleted_word = find_appropriate_word (lst, original_lst, mode)\n",
        "\n",
        "    def start (w):\n",
        "        #Make the hided word\n",
        "        hide_word = \"_ \" * len(w)\n",
        "        print(hide_word)\n",
        "\n",
        "        #Make a hided word list to better change one part of the hided word\n",
        "        hide_word_lst = []\n",
        "        for char in hide_word:\n",
        "            hide_word_lst.append(char)\n",
        "        \n",
        "        #Accumalator of number of times wrong  \n",
        "        wrong = 0\n",
        "\n",
        "        #Iteration\n",
        "        while True:\n",
        "            selected_char = input(\"What character do you want to guess? \")\n",
        "            selected_char.lower()\n",
        "        \n",
        "            #Selection\n",
        "            if selected_char not in w:\n",
        "                print(\"Your guess is wrong - There is/are no '\" + selected_char + \"' in the word.\")\n",
        "                wrong = wrong + 1\n",
        "                chance = 6 - wrong\n",
        "                print(\"You only have\", chance, \"time(s) to guess!\")\n",
        "            \n",
        "            else:\n",
        "                accumulator = 0\n",
        "                for char in w:\n",
        "                    accumulator = accumulator + 1\n",
        "                  \n",
        "                    #Replace the dash with the character\n",
        "                    if char == selected_char:\n",
        "                        hide_word_lst [2 * accumulator - 2] = selected_char\n",
        "\n",
        "                    #Re-print the hide word\n",
        "                    hide_word = \"\"\n",
        "                    for char in hide_word_lst:\n",
        "                        hide_word = hide_word + char\n",
        "                print (hide_word)\n",
        "\n",
        "            #Check if the user wins\n",
        "            if \"_\" not in hide_word:\n",
        "                return \"Win\", wrong\n",
        "        \n",
        "            #Check if the user loses\n",
        "            if wrong >= 6:\n",
        "                return \"Lose\", wrong\n",
        "\n",
        "    #Call the procedure and store the output\n",
        "    result = start(seleted_word)\n",
        "\n",
        "    #Print different things at different situations\n",
        "    if result[0] == \"Lose\":\n",
        "        print(\"You Lose! The correct answer is\", seleted_word)\n",
        "    else:\n",
        "        print(\"You Win! You got\", result[1], \"times wrong!\")"
      ],
      "metadata": {
        "id": "aIErlVi5m3nL"
      },
      "execution_count": 31,
      "outputs": []
    },
    {
      "cell_type": "markdown",
      "source": [
        "### **Part 4: Build a simple math question generator:**"
      ],
      "metadata": {
        "id": "x_Rg7jAQqmL9"
      }
    },
    {
      "cell_type": "code",
      "source": [
        "def math():\n",
        "    #Import\n",
        "    import random\n",
        "    #Set up accumlator\n",
        "    currentquestion = 0\n",
        "    totalscore = 0\n",
        "    first_condition = True\n",
        "\n",
        "    # Forever loop until some commands are inputted\n",
        "    while first_condition:\n",
        "      #Generate 2 integers\n",
        "      a = random.randrange (0, 101)\n",
        "      b = random.randrange (0, 101)\n",
        "      #If sum exceed 100, delete that\n",
        "      if a + b >= 100:\n",
        "        continue\n",
        "      else:\n",
        "        #print out the question\n",
        "        currentquestion = currentquestion + 1\n",
        "        print (str(currentquestion) + \".\", str(a) + \" + \"+ str(b) + \" = \" + \"______\")\n",
        "\n",
        "      #Ask for answer\n",
        "      score = 100    \n",
        "      answer = input(\"Type your answer (Type 'stop' if you wish to stop and 'idk' if you don't know): \")\n",
        "\n",
        "      #check if the user is entering answer or any commands\n",
        "      try:\n",
        "        int_answer = int(answer)\n",
        "      except:\n",
        "        #if the user want to stop\n",
        "        if answer == \"stop\":\n",
        "          score = None\n",
        "          currentquestion = currentquestion - 1\n",
        "          break\n",
        "        #if the user doesn't know\n",
        "        elif answer == \"idk\":\n",
        "          score = 0\n",
        "          continue\n",
        "        else:\n",
        "          #if the user enter any invalid question, count as wrong\n",
        "          score = score / 2\n",
        "\n",
        "      #Generalize a re-submit variable\n",
        "      int_reanswer = None\n",
        "\n",
        "      #Check if the user do the question correctly\n",
        "      if int_answer == a + b:\n",
        "        print(\"v\")\n",
        "      #When the user calculate wrong\n",
        "      else: \n",
        "        #loop when the user does incorrect\n",
        "        while int_reanswer != a + b:\n",
        "          print (\"x\")\n",
        "          reanswer = input(\"Re-enter your answer (Type 'stop' if you wish to stop and 'idk' if you don't know): \")\n",
        "          #Check if the re-submit input is actually an answer or a command\n",
        "\n",
        "          #If it is a number , it means a answer\n",
        "          try:\n",
        "            int_reanswer = int(reanswer)\n",
        "\n",
        "          #If not, a command\n",
        "          except:\n",
        "            if reanswer == \"stop\":\n",
        "              score = 0\n",
        "              first_condition = False\n",
        "              int_reanswer = a + b\n",
        "            elif reanswer == \"idk\":\n",
        "              score = 0\n",
        "              int_reanswer = a + b\n",
        "          #deduct half points for each time the user did wrong\n",
        "          score = score / 2\n",
        "        print (\"v\")\n",
        "      #Calculate the total score of the user\n",
        "      totalscore = totalscore + score\n",
        "\n",
        "    #The final score is the average of all scores\n",
        "    finalscore = totalscore / currentquestion\n",
        "\n",
        "    #Format the final grade to 2 decimal points\n",
        "    decimal_final = \"{:.2f}\".format(finalscore)\n",
        "\n",
        "    #Print out final score\n",
        "    print(\"Your Score: \"+ str(decimal_final) + \"%\")\n",
        "\n",
        "    #data analysis about what letter grade should the point land in\n",
        "    if finalscore == 100:\n",
        "      print (\"Grade: A+\")\n",
        "    elif finalscore >= 90:\n",
        "      print (\"Grade: A\")\n",
        "    elif finalscore >= 80:\n",
        "      print (\"Grade: B\")\n",
        "    elif finalscore >= 70:\n",
        "      print (\"Grade: C\")\n",
        "    elif finalscore >= 60:\n",
        "      print (\"Grade: D\")\n",
        "    else:\n",
        "      print (\"Grade: F\")"
      ],
      "metadata": {
        "id": "sOmFDEZLqz9U"
      },
      "execution_count": 32,
      "outputs": []
    },
    {
      "cell_type": "markdown",
      "source": [
        "### **Part 5: Conclusion**"
      ],
      "metadata": {
        "id": "PE8iJIQjrgNw"
      }
    },
    {
      "cell_type": "code",
      "source": [
        "# Run different function for different commands and print out different ending quotes.\n",
        "if ans == \"game\":\n",
        "  game()\n",
        "  print(\"The game has reached to an end! Hope you enjoy your game! See you later!\")\n",
        "elif ans == \"math\":\n",
        "  math()\n",
        "  print(\"The questions has reached to an end! Hope you enjoy your work! See you later!\")"
      ],
      "metadata": {
        "colab": {
          "base_uri": "https://localhost:8080/"
        },
        "id": "ghVxV8U2rfwl",
        "outputId": "7f2dda24-e206-425e-9265-c08bf1ea692c"
      },
      "execution_count": 33,
      "outputs": [
        {
          "output_type": "stream",
          "name": "stdout",
          "text": [
            "1. 80 + 6 = ______\n",
            "Type your answer (Type 'stop' if you wish to stop and 'idk' if you don't know): 86\n",
            "v\n",
            "2. 4 + 45 = ______\n",
            "Type your answer (Type 'stop' if you wish to stop and 'idk' if you don't know): 44\n",
            "x\n",
            "Re-enter your answer (Type 'stop' if you wish to stop and 'idk' if you don't know): 49\n",
            "v\n",
            "3. 51 + 45 = ______\n",
            "Type your answer (Type 'stop' if you wish to stop and 'idk' if you don't know): 96\n",
            "v\n",
            "4. 28 + 48 = ______\n",
            "Type your answer (Type 'stop' if you wish to stop and 'idk' if you don't know): 1\n",
            "x\n",
            "Re-enter your answer (Type 'stop' if you wish to stop and 'idk' if you don't know): idk\n",
            "v\n",
            "5. 9 + 82 = ______\n",
            "Type your answer (Type 'stop' if you wish to stop and 'idk' if you don't know): 91\n",
            "v\n",
            "6. 54 + 20 = ______\n",
            "Type your answer (Type 'stop' if you wish to stop and 'idk' if you don't know): stop\n",
            "Your Score: 70.00%\n",
            "Grade: C\n",
            "The questions has reached to an end! Hope you enjoy your work! See you later!\n"
          ]
        }
      ]
    },
    {
      "cell_type": "markdown",
      "source": [
        "### **Part 6: Improvements/Highlights:**"
      ],
      "metadata": {
        "id": "zKPtJ3l6vOxM"
      }
    },
    {
      "cell_type": "markdown",
      "source": [
        "**1.**"
      ],
      "metadata": {
        "id": "3y-Yw3lRwQHa"
      }
    },
    {
      "cell_type": "markdown",
      "source": [
        "\n",
        "\n",
        "```\n",
        "#Let the user input their preferred file\n",
        "file = input (\"Please input the word document that you want to play for: \")\n",
        "\n",
        "#Create a list of word\n",
        "fh = open (file)\n",
        "lst = fh.read().split()\n",
        "```\n",
        "\n"
      ],
      "metadata": {
        "id": "Jtjm74NZy_dI"
      }
    },
    {
      "cell_type": "markdown",
      "source": [
        "My original thought for making a hangman game is to give some fxed words to play. However, I thought it would be better to let the user decide what words that want to learn while playing this game. So instead generating a list full of words by myself, I asked the user to provide a file which can be a word list that they peferred to memorize and asked them to input in the program. Then the code world split them itself and start to make a game using what the user perfered. This is an improvement of my code."
      ],
      "metadata": {
        "id": "9vMCUMB5viX7"
      }
    },
    {
      "cell_type": "markdown",
      "source": [
        "**2.**"
      ],
      "metadata": {
        "id": "xEOzcY1UwTUk"
      }
    },
    {
      "cell_type": "markdown",
      "source": [
        "\n",
        "\n",
        "```\n",
        "#Ask for the difficulty of the game\n",
        "print(\"Input the difficulty of the game: \")\n",
        "print(\"Easy: Only the word under or equal to 5 letters will appear.\")\n",
        "print(\"Hard: Words above 5 letters will appear. \")\n",
        "mode = input(\"\")\n",
        "```\n",
        "\n"
      ],
      "metadata": {
        "id": "58zO5Bf5y7j7"
      }
    },
    {
      "cell_type": "markdown",
      "source": [
        "Instead choosing a word at random, I added a feature to make the user to choose the difficulty and control the length of word that want to be appearing in their game. This is a original insight driven from other games that original hang-man game doesn't have and I feel like it's fun to add it here. This is a huge improvement to my code as it make the user to control the difficulty of the game."
      ],
      "metadata": {
        "id": "LFmr-B9BwfcU"
      }
    },
    {
      "cell_type": "markdown",
      "source": [
        "### **Part 7: Bugs/Difficulties**"
      ],
      "metadata": {
        "id": "m4Qxagq3xIoH"
      }
    },
    {
      "cell_type": "markdown",
      "source": [
        "**1.**"
      ],
      "metadata": {
        "id": "qSSr24lKxONQ"
      }
    },
    {
      "cell_type": "markdown",
      "source": [
        "\n",
        "\n",
        "```\n",
        "#Make a copy of the list that will not be changed\n",
        "original_lst = []\n",
        "for word in lst:\n",
        "    original_lst.append(word)\n",
        "```\n",
        "\n"
      ],
      "metadata": {
        "id": "Jw4-SJ0ayzmm"
      }
    },
    {
      "cell_type": "markdown",
      "source": [
        "In previous version of my code, I simple copy the list to make a fixed list that will not be changed during playing to use as a control variable. However, simple copying the word list didn't help. I faced a problem that the fixed list that is being used as a control also changed during the game. This is a bug of my program that I stuck for a long time. Until I learned the lesson that a copy of the original list can also be changed when the original list is changed. So I use the program to append the words one-by-one in the fixed list. This time, the fixed list is a indepedent list that will not be changed when the game continues."
      ],
      "metadata": {
        "id": "iDpM-ZVGxeNJ"
      }
    },
    {
      "cell_type": "markdown",
      "source": [
        "**2.**"
      ],
      "metadata": {
        "id": "ZaqMMrZ5ybK_"
      }
    },
    {
      "cell_type": "markdown",
      "source": [
        "\n",
        "\n",
        "```\n",
        "            elif reanswer == \"idk\":\n",
        "              score = 0\n",
        "              int_reanswer = a + b\n",
        "          #deduct half points for each time the user did wrong\n",
        "          score = score / 2\n",
        "        print (\"v\")\n",
        "      #Calculate the total score of the user\n",
        "      totalscore = totalscore + score\n",
        "```\n",
        "\n"
      ],
      "metadata": {
        "id": "dgENTbbVzEhS"
      }
    },
    {
      "cell_type": "markdown",
      "source": [
        "Here, I made a simple mistake that stuck me for a long time. Because of the amount of indentation, I accidentally put a command inside a loop that I didn't want to do it over and over again. There is not error, however, the socre didn't follows logic. I found out later. It is a really silly mistake."
      ],
      "metadata": {
        "id": "2vzXEJVbzGTt"
      }
    },
    {
      "cell_type": "markdown",
      "source": [
        "\n",
        "\n",
        "---\n",
        "\n"
      ],
      "metadata": {
        "id": "n0XedGbG0Hs_"
      }
    },
    {
      "cell_type": "markdown",
      "source": [
        "### **Part 8: Outro:**"
      ],
      "metadata": {
        "id": "znJneBX80IYt"
      }
    },
    {
      "cell_type": "markdown",
      "source": [
        "In this project, I tried to included some pieces that I learned from the class such as machine learning and data science. However, I didn't find any useful data to support my project. But I used some of the thoughts learned from class to finish the project. For example, a simple chatbot wich used some of the machine learning ideas and a letter grade checker to include data science knowledge. Thank you!"
      ],
      "metadata": {
        "id": "-vIYX2ab0O3Q"
      }
    }
  ]
}