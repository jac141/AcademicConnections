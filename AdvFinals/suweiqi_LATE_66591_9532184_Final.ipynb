{
 "cells": [
  {
   "cell_type": "markdown",
   "id": "625225c3-b6d2-412c-a22d-f76d089b1717",
   "metadata": {
    "tags": []
   },
   "source": [
    "# Movie Recommendation\n",
    "\n",
    "This system is a topic of machine learning. I have incorporated several contents we have learned into this code：\n",
    "\n",
    "1. Data analyzing\n",
    "2. Data visualization\n",
    "3. Data predicting\n",
    "\n",
    "And I learned:\n",
    "\n",
    "1. Content-based filtering\n",
    "2. Matrix\n",
    "3. Cosine similarity"
   ]
  },
  {
   "cell_type": "markdown",
   "id": "4f27d8e5-929d-4bbe-a4d6-5323d7feb579",
   "metadata": {},
   "source": [
    "## Import packages"
   ]
  },
  {
   "cell_type": "code",
   "execution_count": 177,
   "id": "25d65e51-72c6-4ce0-9035-7282b56954cb",
   "metadata": {},
   "outputs": [],
   "source": [
    "import numpy as np\n",
    "import pandas as pd\n",
    "import seaborn as sns\n",
    "import matplotlib.pyplot as plt\n",
    "%matplotlib inline\n",
    "import missingno as msno # offers many functions using which you can plot different graphs to visualize the missing values data"
   ]
  },
  {
   "cell_type": "markdown",
   "id": "ae66903a-a803-4e32-80a0-855095543f00",
   "metadata": {},
   "source": [
    "## Read the Data"
   ]
  },
  {
   "cell_type": "code",
   "execution_count": 178,
   "id": "1ac5cd52-6668-4e0a-818c-b273505b3374",
   "metadata": {},
   "outputs": [
    {
     "name": "stdout",
     "output_type": "stream",
     "text": [
      "The shape of data: (8807, 12)\n"
     ]
    },
    {
     "data": {
      "text/html": [
       "<div>\n",
       "<style scoped>\n",
       "    .dataframe tbody tr th:only-of-type {\n",
       "        vertical-align: middle;\n",
       "    }\n",
       "\n",
       "    .dataframe tbody tr th {\n",
       "        vertical-align: top;\n",
       "    }\n",
       "\n",
       "    .dataframe thead th {\n",
       "        text-align: right;\n",
       "    }\n",
       "</style>\n",
       "<table border=\"1\" class=\"dataframe\">\n",
       "  <thead>\n",
       "    <tr style=\"text-align: right;\">\n",
       "      <th></th>\n",
       "      <th>show_id</th>\n",
       "      <th>type</th>\n",
       "      <th>title</th>\n",
       "      <th>director</th>\n",
       "      <th>cast</th>\n",
       "      <th>country</th>\n",
       "      <th>date_added</th>\n",
       "      <th>release_year</th>\n",
       "      <th>rating</th>\n",
       "      <th>duration</th>\n",
       "      <th>listed_in</th>\n",
       "      <th>description</th>\n",
       "    </tr>\n",
       "  </thead>\n",
       "  <tbody>\n",
       "    <tr>\n",
       "      <th>0</th>\n",
       "      <td>s1</td>\n",
       "      <td>Movie</td>\n",
       "      <td>Dick Johnson Is Dead</td>\n",
       "      <td>Kirsten Johnson</td>\n",
       "      <td>NaN</td>\n",
       "      <td>United States</td>\n",
       "      <td>September 25, 2021</td>\n",
       "      <td>2020</td>\n",
       "      <td>PG-13</td>\n",
       "      <td>90 min</td>\n",
       "      <td>Documentaries</td>\n",
       "      <td>As her father nears the end of his life, filmm...</td>\n",
       "    </tr>\n",
       "    <tr>\n",
       "      <th>1</th>\n",
       "      <td>s2</td>\n",
       "      <td>TV Show</td>\n",
       "      <td>Blood &amp; Water</td>\n",
       "      <td>NaN</td>\n",
       "      <td>Ama Qamata, Khosi Ngema, Gail Mabalane, Thaban...</td>\n",
       "      <td>South Africa</td>\n",
       "      <td>September 24, 2021</td>\n",
       "      <td>2021</td>\n",
       "      <td>TV-MA</td>\n",
       "      <td>2 Seasons</td>\n",
       "      <td>International TV Shows, TV Dramas, TV Mysteries</td>\n",
       "      <td>After crossing paths at a party, a Cape Town t...</td>\n",
       "    </tr>\n",
       "    <tr>\n",
       "      <th>2</th>\n",
       "      <td>s3</td>\n",
       "      <td>TV Show</td>\n",
       "      <td>Ganglands</td>\n",
       "      <td>Julien Leclercq</td>\n",
       "      <td>Sami Bouajila, Tracy Gotoas, Samuel Jouy, Nabi...</td>\n",
       "      <td>NaN</td>\n",
       "      <td>September 24, 2021</td>\n",
       "      <td>2021</td>\n",
       "      <td>TV-MA</td>\n",
       "      <td>1 Season</td>\n",
       "      <td>Crime TV Shows, International TV Shows, TV Act...</td>\n",
       "      <td>To protect his family from a powerful drug lor...</td>\n",
       "    </tr>\n",
       "    <tr>\n",
       "      <th>3</th>\n",
       "      <td>s4</td>\n",
       "      <td>TV Show</td>\n",
       "      <td>Jailbirds New Orleans</td>\n",
       "      <td>NaN</td>\n",
       "      <td>NaN</td>\n",
       "      <td>NaN</td>\n",
       "      <td>September 24, 2021</td>\n",
       "      <td>2021</td>\n",
       "      <td>TV-MA</td>\n",
       "      <td>1 Season</td>\n",
       "      <td>Docuseries, Reality TV</td>\n",
       "      <td>Feuds, flirtations and toilet talk go down amo...</td>\n",
       "    </tr>\n",
       "    <tr>\n",
       "      <th>4</th>\n",
       "      <td>s5</td>\n",
       "      <td>TV Show</td>\n",
       "      <td>Kota Factory</td>\n",
       "      <td>NaN</td>\n",
       "      <td>Mayur More, Jitendra Kumar, Ranjan Raj, Alam K...</td>\n",
       "      <td>India</td>\n",
       "      <td>September 24, 2021</td>\n",
       "      <td>2021</td>\n",
       "      <td>TV-MA</td>\n",
       "      <td>2 Seasons</td>\n",
       "      <td>International TV Shows, Romantic TV Shows, TV ...</td>\n",
       "      <td>In a city of coaching centers known to train I...</td>\n",
       "    </tr>\n",
       "  </tbody>\n",
       "</table>\n",
       "</div>"
      ],
      "text/plain": [
       "  show_id     type                  title         director  \\\n",
       "0      s1    Movie   Dick Johnson Is Dead  Kirsten Johnson   \n",
       "1      s2  TV Show          Blood & Water              NaN   \n",
       "2      s3  TV Show              Ganglands  Julien Leclercq   \n",
       "3      s4  TV Show  Jailbirds New Orleans              NaN   \n",
       "4      s5  TV Show           Kota Factory              NaN   \n",
       "\n",
       "                                                cast        country  \\\n",
       "0                                                NaN  United States   \n",
       "1  Ama Qamata, Khosi Ngema, Gail Mabalane, Thaban...   South Africa   \n",
       "2  Sami Bouajila, Tracy Gotoas, Samuel Jouy, Nabi...            NaN   \n",
       "3                                                NaN            NaN   \n",
       "4  Mayur More, Jitendra Kumar, Ranjan Raj, Alam K...          India   \n",
       "\n",
       "           date_added  release_year rating   duration  \\\n",
       "0  September 25, 2021          2020  PG-13     90 min   \n",
       "1  September 24, 2021          2021  TV-MA  2 Seasons   \n",
       "2  September 24, 2021          2021  TV-MA   1 Season   \n",
       "3  September 24, 2021          2021  TV-MA   1 Season   \n",
       "4  September 24, 2021          2021  TV-MA  2 Seasons   \n",
       "\n",
       "                                           listed_in  \\\n",
       "0                                      Documentaries   \n",
       "1    International TV Shows, TV Dramas, TV Mysteries   \n",
       "2  Crime TV Shows, International TV Shows, TV Act...   \n",
       "3                             Docuseries, Reality TV   \n",
       "4  International TV Shows, Romantic TV Shows, TV ...   \n",
       "\n",
       "                                         description  \n",
       "0  As her father nears the end of his life, filmm...  \n",
       "1  After crossing paths at a party, a Cape Town t...  \n",
       "2  To protect his family from a powerful drug lor...  \n",
       "3  Feuds, flirtations and toilet talk go down amo...  \n",
       "4  In a city of coaching centers known to train I...  "
      ]
     },
     "execution_count": 178,
     "metadata": {},
     "output_type": "execute_result"
    }
   ],
   "source": [
    "data = pd.read_csv('file:///Users/sujian/Downloads/netflix.csv')\n",
    "print('The shape of data:',data.shape)\n",
    "data.head()"
   ]
  },
  {
   "cell_type": "code",
   "execution_count": 179,
   "id": "95ebb566-aba6-4c05-9b90-1169df1f38be",
   "metadata": {},
   "outputs": [
    {
     "name": "stdout",
     "output_type": "stream",
     "text": [
      "<class 'pandas.core.frame.DataFrame'>\n",
      "RangeIndex: 8807 entries, 0 to 8806\n",
      "Data columns (total 12 columns):\n",
      " #   Column        Non-Null Count  Dtype \n",
      "---  ------        --------------  ----- \n",
      " 0   show_id       8807 non-null   object\n",
      " 1   type          8807 non-null   object\n",
      " 2   title         8807 non-null   object\n",
      " 3   director      6173 non-null   object\n",
      " 4   cast          7982 non-null   object\n",
      " 5   country       7976 non-null   object\n",
      " 6   date_added    8797 non-null   object\n",
      " 7   release_year  8807 non-null   int64 \n",
      " 8   rating        8803 non-null   object\n",
      " 9   duration      8804 non-null   object\n",
      " 10  listed_in     8807 non-null   object\n",
      " 11  description   8807 non-null   object\n",
      "dtypes: int64(1), object(11)\n",
      "memory usage: 825.8+ KB\n"
     ]
    }
   ],
   "source": [
    "data.info()"
   ]
  },
  {
   "cell_type": "markdown",
   "id": "f44db917-5400-43c8-8e8a-b423f5c7e8d4",
   "metadata": {},
   "source": [
    "## Visualizing the Data"
   ]
  },
  {
   "cell_type": "markdown",
   "id": "21d46e5a-be72-4087-a13e-3acbbd8f1846",
   "metadata": {},
   "source": [
    "### The first image shows whether every movie contains all features"
   ]
  },
  {
   "cell_type": "code",
   "execution_count": 180,
   "id": "c0bdd192-d3a5-4b2e-8eb6-4daecfd2438e",
   "metadata": {},
   "outputs": [
    {
     "name": "stdout",
     "output_type": "stream",
     "text": [
      "29.91% of movies missing the feature director\n",
      "9.37% of movies missing the feature cast\n",
      "9.44% of movies missing the feature country\n"
     ]
    },
    {
     "data": {
      "image/png": "[encoded data removed]",
      "text/plain": [
       "<Figure size 720x360 with 3 Axes>"
      ]
     },
     "metadata": {
      "needs_background": "light"
     },
     "output_type": "display_data"
    }
   ],
   "source": [
    "msno.bar(data, figsize=(10,5), fontsize=12)\n",
    "plt.title(\"Netflix Data Completeness\")\n",
    "miss_director = format((8807 - 6173) / 8807,'.2%')\n",
    "miss_cast = format((8807 - 7982) / 8807,'.2%')\n",
    "miss_country = format((8807 - 7976) / 8807,'.2%')\n",
    "print(miss_director,'of movies missing the feature director')\n",
    "print(miss_cast,'of movies missing the feature cast')\n",
    "print(miss_country,'of movies missing the feature country')"
   ]
  },
  {
   "cell_type": "markdown",
   "id": "6061d9a7-4b32-4a08-bf2a-e05a19286ce8",
   "metadata": {},
   "source": [
    "### The second image shows the percentage of the two broadcast forms"
   ]
  },
  {
   "cell_type": "code",
   "execution_count": 181,
   "id": "34d66c79-c641-4c47-a85b-99556e656ce5",
   "metadata": {},
   "outputs": [
    {
     "data": {
      "image/png": "[encoded data removed]",
      "text/plain": [
       "<Figure size 1008x504 with 1 Axes>"
      ]
     },
     "metadata": {},
     "output_type": "display_data"
    },
    {
     "name": "stdout",
     "output_type": "stream",
     "text": [
      "\n",
      " The dataset consists of 2676 TV Shows and 6131 Movies\n"
     ]
    }
   ],
   "source": [
    "labels = ['TV Shows', 'Movies']\n",
    "plt.figure(figsize=(14, 7))\n",
    "plt.pie(data['type'].value_counts().sort_values(), colors = colors, labels = labels, autopct = lambda pct: func(pct, data['type'].value_counts().sort_values()), explode=[0.1,0.1], startangle=90)\n",
    "# data['type'].value_counts().sort_values(), labels = labels, autopct = '%.2f%%', colors = colors, explode=[0.1,0.1], startangle=90\n",
    "plt.title(\"Type of Netflix Content\")\n",
    "plt.show()\n",
    "print(\"\\n The dataset consists of 2676 TV Shows and 6131 Movies\")"
   ]
  },
  {
   "cell_type": "markdown",
   "id": "9aa7082c-f61c-41af-a8ef-280053396300",
   "metadata": {},
   "source": [
    "### The third image shows the number of film and television works that broadcast in different years"
   ]
  },
  {
   "cell_type": "code",
   "execution_count": 182,
   "id": "3a82ef71-5ef7-4183-8bd6-fc65e4b0c522",
   "metadata": {},
   "outputs": [
    {
     "data": {
      "image/png": "[encoded data removed]",
      "text/plain": [
       "<Figure size 1440x864 with 1 Axes>"
      ]
     },
     "metadata": {
      "needs_background": "light"
     },
     "output_type": "display_data"
    }
   ],
   "source": [
    "plt.figure(figsize=(20,12))\n",
    "sns.countplot(y=\"release_year\", data=data, order=data['release_year'].value_counts().index[0:15])\n",
    "plt.title(\"Content Release Years\");"
   ]
  },
  {
   "cell_type": "markdown",
   "id": "35aea433-4649-4fe9-9a81-0b30889555de",
   "metadata": {},
   "source": [
    "### The last image shows the number of different types of content rating"
   ]
  },
  {
   "cell_type": "code",
   "execution_count": 183,
   "id": "830e844e-8fee-494e-9434-6c265adc5520",
   "metadata": {},
   "outputs": [
    {
     "data": {
      "image/png": "[encoded data removed]",
      "text/plain": [
       "<Figure size 1440x864 with 1 Axes>"
      ]
     },
     "metadata": {
      "needs_background": "light"
     },
     "output_type": "display_data"
    }
   ],
   "source": [
    "plt.figure(figsize=(20,12))\n",
    "sns.countplot(x=\"rating\", data=data, order=data['rating'].value_counts().index[0:15]);\n",
    "plt.title(\"Types of Content Ratings\");\n",
    "plt.show();"
   ]
  },
  {
   "cell_type": "markdown",
   "id": "f6b8b542-88fb-4661-81ca-53abc76b6621",
   "metadata": {},
   "source": [
    "## Droping Unnecessary Features\n",
    "My recommendation system only contains director, cast, country, rating and genre. Using for loop to drop unnecessary feature. "
   ]
  },
  {
   "cell_type": "code",
   "execution_count": 184,
   "id": "8c67b86c-9970-4f90-8ea6-92d30a6aa5bf",
   "metadata": {},
   "outputs": [],
   "source": [
    "for col in ['show_id', 'date_added', 'release_year', 'duration']:\n",
    "    data.drop(col, axis=1, inplace=True)"
   ]
  },
  {
   "cell_type": "markdown",
   "id": "f867d4ee-fde1-4142-923f-c77694945b92",
   "metadata": {},
   "source": [
    "## Creating a Feature Matrix\n",
    "The example uses csr_matrix method in scipy.sparse to transform the data to a matrix\n",
    "\n",
    "But I created a matrix by hand referring to ndarray. I insert data into the matrix through array and dictionary. "
   ]
  },
  {
   "cell_type": "code",
   "execution_count": 185,
   "id": "ea0937c5",
   "metadata": {
    "papermill": {
     "duration": 0.035111,
     "end_time": "2022-07-25T23:31:28.760958",
     "exception": false,
     "start_time": "2022-07-25T23:31:28.725847",
     "status": "completed"
    },
    "tags": []
   },
   "outputs": [],
   "source": [
    "def creat_matrix(feature_column) ->  np.ndarray:\n",
    "    \n",
    "    \"\"\"\n",
    "    ex: pass in data['director'], to get a matrix (#allmovies, #alldirectors)\n",
    "    \"\"\"\n",
    "    \n",
    "    isNan = False\n",
    "    feature_list = []\n",
    "    for items in feature_column:\n",
    "        if pd.isna(items):\n",
    "            feature_list.append(['']) #place holder for nan values\n",
    "            isNan = True\n",
    "        else:\n",
    "            item_list = re.split(r', \\s*', items)\n",
    "            feature_list.append(item_list)\n",
    "        \n",
    "    flatten_features_list = [item for sublist in feature_list for item in sublist]\n",
    "    unique_features = list(np.unique(flatten_features_list))\n",
    "\n",
    "    if isNan == True: # check if Nan value was passed through.\n",
    "        unique_features = unique_features[1:] # '' is at index 0. This removes that value from list. \n",
    "                                              # Or return data from the second to the last\n",
    "    \n",
    "    index = {} # key: feature's name  value: column index\n",
    "    for i, name in enumerate(unique_features):\n",
    "        index[name] = i\n",
    "\n",
    "    matrix = np.zeros((feature_column.shape[0], len(unique_features))) # creat a matrix of zero(#movies, #unique features)\n",
    "    for i, items in enumerate(feature_list): # update feature matrix with 1.0 where a movie has a particular feature. i.e specific director or actor. \n",
    "        movie = np.zeros(len(unique_features)) # movie array with all 0's\n",
    "        if len(items) > 1:\n",
    "            for item in items:\n",
    "                if item != '': # this line of code ignores empty strings with in features that that are not null but have empty strings in the category. ex: ['', 'France']\n",
    "                    movie[index[item]] = 1.0\n",
    "            matrix[i] = movie\n",
    "        elif items == ['']:\n",
    "            matrix[i] = movie\n",
    "        else:\n",
    "            movie[index[items[0]]] = 1.0\n",
    "            matrix[i] = movie\n",
    "    return matrix"
   ]
  },
  {
   "cell_type": "markdown",
   "id": "b7a48ea0-1546-4ccc-8e32-bdf50beced15",
   "metadata": {},
   "source": [
    "We will find the movie feature matrixes for each category and then combine them to make one giant matrix."
   ]
  },
  {
   "cell_type": "code",
   "execution_count": 186,
   "id": "bb262536-cc84-4e2b-8a1a-834302c4cf7e",
   "metadata": {},
   "outputs": [
    {
     "name": "stdout",
     "output_type": "stream",
     "text": [
      "Movie Feature Matrix shape: (8807, 41617)\n",
      "[[0. 0. 0. ... 0. 0. 0.]\n",
      " [0. 0. 0. ... 0. 0. 0.]\n",
      " [0. 0. 0. ... 0. 0. 0.]\n",
      " ...\n",
      " [0. 0. 0. ... 0. 0. 0.]\n",
      " [0. 0. 0. ... 0. 0. 0.]\n",
      " [0. 0. 0. ... 0. 0. 0.]]\n"
     ]
    }
   ],
   "source": [
    "movie_director = creat_matrix(data['director'])\n",
    "movie_cast = creat_matrix(data['cast'])\n",
    "movie_country = creat_matrix(data['country'])\n",
    "movie_rating = creat_matrix(data['rating'])\n",
    "movie_genre = creat_matrix(data['listed_in'])\n",
    "feature_matrix = np.concatenate((movie_director, movie_cast, movie_country, movie_rating, movie_genre), axis = 1)\n",
    "print(f'Movie Feature Matrix shape: {feature_matrix.shape}')\n",
    "print(feature_matrix)"
   ]
  },
  {
   "cell_type": "markdown",
   "id": "63bd8483-bbbb-4a67-bf9d-27ce2844a945",
   "metadata": {
    "tags": []
   },
   "source": [
    "# Cosine Similarity\n",
    "$$\\text{cosine similarity} =S_C (A,B):= \\cos(\\theta) = {\\mathbf{A} \\cdot \\mathbf{B} \\over \\|\\mathbf{A}\\| \\|\\mathbf{B}\\|} = \\frac{ \\sum\\limits_{i=1}^{n}{A_i  B_i} }{ \\sqrt{\\sum\\limits_{i=1}^{n}{A_i^2}}  \\sqrt{\\sum\\limits_{i=1}^{n}{B_i^2}} }$$\n",
    "\n",
    "The Cosine Similarity measures the similarity between two sequences of numbers by viewing each vector in an inner product space, and the cosine similarity is defined as the cosine of the angle between them. The dot product of the vectors divided by the product of their lengths.\n"
   ]
  },
  {
   "cell_type": "code",
   "execution_count": 203,
   "id": "f0c604ee-8ef0-45f9-9d56-35f7435887d2",
   "metadata": {},
   "outputs": [],
   "source": [
    "from numpy.linalg import norm\n",
    "def cosine(feature_matrix) -> np.ndarray:\n",
    "\n",
    "    cos_sim = np.zeros((feature_matrix.shape[0],feature_matrix.shape[0]))\n",
    "    a = feature_matrix\n",
    "    b = feature_matrix.T\n",
    "    \n",
    "    cosine = np.dot(a,b)/(norm(a)*norm(b))\n",
    "    return cosine"
   ]
  },
  {
   "cell_type": "markdown",
   "id": "aedb29a6-ca71-4c7c-828e-9d35920b20a6",
   "metadata": {},
   "source": [
    "The example uses NearestNeighbors from sklearn, but I used numpy instead"
   ]
  },
  {
   "cell_type": "markdown",
   "id": "61838ee5-f7cd-456f-9bea-30f7c3acad4e",
   "metadata": {},
   "source": [
    "# Generating Movie Similarity Matrix\n",
    "The matrix contains the similarity rate between two different movies. Where the max value between a movie is 1, meaning both movies are identical or 0 meaning they are completely different."
   ]
  },
  {
   "cell_type": "code",
   "execution_count": 198,
   "id": "4b0e572f-3577-4137-8bea-4b42a13951a8",
   "metadata": {},
   "outputs": [],
   "source": [
    "similarity = cosine(feature_matrix)"
   ]
  },
  {
   "cell_type": "code",
   "execution_count": 199,
   "id": "348402de-5570-4478-9076-a59169750a73",
   "metadata": {},
   "outputs": [
    {
     "name": "stdout",
     "output_type": "stream",
     "text": [
      "Shape: (8807, 8807) \n",
      " [[1.         0.         0.         ... 0.14433757 0.13363062 0.        ]\n",
      " [0.         1.         0.10910895 ... 0.         0.         0.        ]\n",
      " [0.         0.10910895 1.         ... 0.         0.         0.        ]\n",
      " ...\n",
      " [0.14433757 0.         0.         ... 1.         0.15430335 0.        ]\n",
      " [0.13363062 0.         0.         ... 0.15430335 1.         0.        ]\n",
      " [0.         0.         0.         ... 0.         0.         1.        ]]\n"
     ]
    }
   ],
   "source": [
    "print(f'Shape: {cosine_similarity.shape} \\n {cosine_similarity}')"
   ]
  },
  {
   "cell_type": "code",
   "execution_count": 209,
   "id": "2f83737b-9151-4414-966e-94849fa94a98",
   "metadata": {},
   "outputs": [],
   "source": [
    "def getRecommandation(title, matrix):\n",
    "    if title in list(data['title']):\n",
    "        movie_index = pd.Series(data.index, index= data['title'])\n",
    "        i = movie_index[title]\n",
    "        sim_scores = enumerate(similarity_matrix[i])\n",
    "        sim_scores = sorted(sim_scores, key=lambda x: x[1], reverse=True)\n",
    "        top_5 = sim_scores[1:6]\n",
    "        top_5_index = [x[0] for x in top_5]\n",
    "        result = data.iloc[top_5_index]\n",
    "        print(f'(content index, score) : {sim_scores[1:6]}')\n",
    "        return result\n",
    "    else:\n",
    "        print('Title Not Found')"
   ]
  },
  {
   "cell_type": "code",
   "execution_count": 210,
   "id": "1e6f3847-03ea-431b-a51a-53c8ba834680",
   "metadata": {},
   "outputs": [
    {
     "name": "stdout",
     "output_type": "stream",
     "text": [
      "(content index, score) : [(563, 0.00010069663764772654), (561, 8.238815807541262e-05), (597, 3.661695914462783e-05), (818, 3.661695914462783e-05), (2330, 3.661695914462783e-05)]\n"
     ]
    },
    {
     "data": {
      "text/html": [
       "<div>\n",
       "<style scoped>\n",
       "    .dataframe tbody tr th:only-of-type {\n",
       "        vertical-align: middle;\n",
       "    }\n",
       "\n",
       "    .dataframe tbody tr th {\n",
       "        vertical-align: top;\n",
       "    }\n",
       "\n",
       "    .dataframe thead th {\n",
       "        text-align: right;\n",
       "    }\n",
       "</style>\n",
       "<table border=\"1\" class=\"dataframe\">\n",
       "  <thead>\n",
       "    <tr style=\"text-align: right;\">\n",
       "      <th></th>\n",
       "      <th>type</th>\n",
       "      <th>title</th>\n",
       "      <th>director</th>\n",
       "      <th>cast</th>\n",
       "      <th>country</th>\n",
       "      <th>rating</th>\n",
       "      <th>listed_in</th>\n",
       "      <th>description</th>\n",
       "    </tr>\n",
       "  </thead>\n",
       "  <tbody>\n",
       "    <tr>\n",
       "      <th>563</th>\n",
       "      <td>Movie</td>\n",
       "      <td>Austin Powers: The Spy Who Shagged Me</td>\n",
       "      <td>Jay Roach</td>\n",
       "      <td>Mike Myers, Heather Graham, Michael York, Robe...</td>\n",
       "      <td>United States</td>\n",
       "      <td>PG-13</td>\n",
       "      <td>Action &amp; Adventure, Comedies, Sci-Fi &amp; Fantasy</td>\n",
       "      <td>When diabolical genius Dr. Evil travels back i...</td>\n",
       "    </tr>\n",
       "    <tr>\n",
       "      <th>561</th>\n",
       "      <td>Movie</td>\n",
       "      <td>Austin Powers in Goldmember</td>\n",
       "      <td>Jay Roach</td>\n",
       "      <td>Mike Myers, Beyoncé Knowles-Carter, Seth Green...</td>\n",
       "      <td>United States</td>\n",
       "      <td>PG-13</td>\n",
       "      <td>Action &amp; Adventure, Comedies</td>\n",
       "      <td>The world's most shagadelic spy continues his ...</td>\n",
       "    </tr>\n",
       "    <tr>\n",
       "      <th>597</th>\n",
       "      <td>Movie</td>\n",
       "      <td>Talladega Nights: The Ballad of Ricky Bobby</td>\n",
       "      <td>Adam McKay</td>\n",
       "      <td>Will Ferrell, John C. Reilly, Sacha Baron Cohe...</td>\n",
       "      <td>United States</td>\n",
       "      <td>PG-13</td>\n",
       "      <td>Action &amp; Adventure, Comedies, Sports Movies</td>\n",
       "      <td>NASCAR superstar Ricky Bobby believes he's the...</td>\n",
       "    </tr>\n",
       "    <tr>\n",
       "      <th>818</th>\n",
       "      <td>Movie</td>\n",
       "      <td>The Mirror Has Two Faces</td>\n",
       "      <td>Barbra Streisand</td>\n",
       "      <td>Barbra Streisand, Jeff Bridges, Lauren Bacall,...</td>\n",
       "      <td>United States</td>\n",
       "      <td>PG-13</td>\n",
       "      <td>Comedies, Dramas, Romantic Movies</td>\n",
       "      <td>Tired of being single, middle-aged professor R...</td>\n",
       "    </tr>\n",
       "    <tr>\n",
       "      <th>2330</th>\n",
       "      <td>Movie</td>\n",
       "      <td>Eurovision Song Contest: The Story of Fire Saga</td>\n",
       "      <td>David Dobkin</td>\n",
       "      <td>Will Ferrell, Rachel McAdams, Dan Stevens, Mel...</td>\n",
       "      <td>United States</td>\n",
       "      <td>PG-13</td>\n",
       "      <td>Comedies, Music &amp; Musicals, Romantic Movies</td>\n",
       "      <td>Two small-town singers chase their pop star dr...</td>\n",
       "    </tr>\n",
       "  </tbody>\n",
       "</table>\n",
       "</div>"
      ],
      "text/plain": [
       "       type                                            title  \\\n",
       "563   Movie            Austin Powers: The Spy Who Shagged Me   \n",
       "561   Movie                      Austin Powers in Goldmember   \n",
       "597   Movie      Talladega Nights: The Ballad of Ricky Bobby   \n",
       "818   Movie                         The Mirror Has Two Faces   \n",
       "2330  Movie  Eurovision Song Contest: The Story of Fire Saga   \n",
       "\n",
       "              director                                               cast  \\\n",
       "563          Jay Roach  Mike Myers, Heather Graham, Michael York, Robe...   \n",
       "561          Jay Roach  Mike Myers, Beyoncé Knowles-Carter, Seth Green...   \n",
       "597         Adam McKay  Will Ferrell, John C. Reilly, Sacha Baron Cohe...   \n",
       "818   Barbra Streisand  Barbra Streisand, Jeff Bridges, Lauren Bacall,...   \n",
       "2330      David Dobkin  Will Ferrell, Rachel McAdams, Dan Stevens, Mel...   \n",
       "\n",
       "            country rating                                       listed_in  \\\n",
       "563   United States  PG-13  Action & Adventure, Comedies, Sci-Fi & Fantasy   \n",
       "561   United States  PG-13                    Action & Adventure, Comedies   \n",
       "597   United States  PG-13     Action & Adventure, Comedies, Sports Movies   \n",
       "818   United States  PG-13               Comedies, Dramas, Romantic Movies   \n",
       "2330  United States  PG-13     Comedies, Music & Musicals, Romantic Movies   \n",
       "\n",
       "                                            description  \n",
       "563   When diabolical genius Dr. Evil travels back i...  \n",
       "561   The world's most shagadelic spy continues his ...  \n",
       "597   NASCAR superstar Ricky Bobby believes he's the...  \n",
       "818   Tired of being single, middle-aged professor R...  \n",
       "2330  Two small-town singers chase their pop star dr...  "
      ]
     },
     "execution_count": 210,
     "metadata": {},
     "output_type": "execute_result"
    }
   ],
   "source": [
    "get_recommendation('Austin Powers: International Man of Mystery', similarity)"
   ]
  },
  {
   "cell_type": "code",
   "execution_count": 211,
   "id": "dc53c2bf-d140-48e1-bd32-b6766ba1d964",
   "metadata": {},
   "outputs": [
    {
     "name": "stdout",
     "output_type": "stream",
     "text": [
      "(content index, score) : [(2712, 4.5771198930784795e-05), (4292, 4.5771198930784795e-05), (6034, 4.5771198930784795e-05), (6450, 4.5771198930784795e-05), (6743, 4.5771198930784795e-05)]\n"
     ]
    },
    {
     "data": {
      "text/html": [
       "<div>\n",
       "<style scoped>\n",
       "    .dataframe tbody tr th:only-of-type {\n",
       "        vertical-align: middle;\n",
       "    }\n",
       "\n",
       "    .dataframe tbody tr th {\n",
       "        vertical-align: top;\n",
       "    }\n",
       "\n",
       "    .dataframe thead th {\n",
       "        text-align: right;\n",
       "    }\n",
       "</style>\n",
       "<table border=\"1\" class=\"dataframe\">\n",
       "  <thead>\n",
       "    <tr style=\"text-align: right;\">\n",
       "      <th></th>\n",
       "      <th>type</th>\n",
       "      <th>title</th>\n",
       "      <th>director</th>\n",
       "      <th>cast</th>\n",
       "      <th>country</th>\n",
       "      <th>rating</th>\n",
       "      <th>listed_in</th>\n",
       "      <th>description</th>\n",
       "    </tr>\n",
       "  </thead>\n",
       "  <tbody>\n",
       "    <tr>\n",
       "      <th>2712</th>\n",
       "      <td>Movie</td>\n",
       "      <td>The Death of Stalin</td>\n",
       "      <td>Armando Iannucci</td>\n",
       "      <td>Steve Buscemi, Simon Russell Beale, Paddy Cons...</td>\n",
       "      <td>United Kingdom, France, Belgium, Canada, Unite...</td>\n",
       "      <td>R</td>\n",
       "      <td>Comedies, Dramas, Independent Movies</td>\n",
       "      <td>The death of Russian dictator Joseph Stalin th...</td>\n",
       "    </tr>\n",
       "    <tr>\n",
       "      <th>4292</th>\n",
       "      <td>Movie</td>\n",
       "      <td>Maps to the Stars</td>\n",
       "      <td>David Cronenberg</td>\n",
       "      <td>Julianne Moore, Mia Wasikowska, Robert Pattins...</td>\n",
       "      <td>Canada, Germany, France, United States</td>\n",
       "      <td>R</td>\n",
       "      <td>Comedies, Dramas</td>\n",
       "      <td>A showbiz family revolving around its teen cel...</td>\n",
       "    </tr>\n",
       "    <tr>\n",
       "      <th>6034</th>\n",
       "      <td>Movie</td>\n",
       "      <td>A Family Man</td>\n",
       "      <td>Mark Williams</td>\n",
       "      <td>Gerard Butler, Gretchen Mol, Alison Brie, Will...</td>\n",
       "      <td>Canada, United States</td>\n",
       "      <td>R</td>\n",
       "      <td>Dramas</td>\n",
       "      <td>A ruthless corporate headhunter battles his ri...</td>\n",
       "    </tr>\n",
       "    <tr>\n",
       "      <th>6450</th>\n",
       "      <td>Movie</td>\n",
       "      <td>Chasing Amy</td>\n",
       "      <td>Kevin Smith</td>\n",
       "      <td>Ben Affleck, Joey Lauren Adams, Jason Lee, Dwi...</td>\n",
       "      <td>United States</td>\n",
       "      <td>R</td>\n",
       "      <td>Comedies, Cult Movies, Dramas</td>\n",
       "      <td>Comic book artist Holden meets the perfect wom...</td>\n",
       "    </tr>\n",
       "    <tr>\n",
       "      <th>6743</th>\n",
       "      <td>Movie</td>\n",
       "      <td>Fear and Loathing in Las Vegas</td>\n",
       "      <td>Terry Gilliam</td>\n",
       "      <td>Johnny Depp, Benicio Del Toro, Tobey Maguire, ...</td>\n",
       "      <td>United States</td>\n",
       "      <td>R</td>\n",
       "      <td>Comedies, Cult Movies, Dramas</td>\n",
       "      <td>A sportswriter and his Samoan lawyer embark on...</td>\n",
       "    </tr>\n",
       "  </tbody>\n",
       "</table>\n",
       "</div>"
      ],
      "text/plain": [
       "       type                           title          director  \\\n",
       "2712  Movie             The Death of Stalin  Armando Iannucci   \n",
       "4292  Movie               Maps to the Stars  David Cronenberg   \n",
       "6034  Movie                    A Family Man     Mark Williams   \n",
       "6450  Movie                     Chasing Amy       Kevin Smith   \n",
       "6743  Movie  Fear and Loathing in Las Vegas     Terry Gilliam   \n",
       "\n",
       "                                                   cast  \\\n",
       "2712  Steve Buscemi, Simon Russell Beale, Paddy Cons...   \n",
       "4292  Julianne Moore, Mia Wasikowska, Robert Pattins...   \n",
       "6034  Gerard Butler, Gretchen Mol, Alison Brie, Will...   \n",
       "6450  Ben Affleck, Joey Lauren Adams, Jason Lee, Dwi...   \n",
       "6743  Johnny Depp, Benicio Del Toro, Tobey Maguire, ...   \n",
       "\n",
       "                                                country rating  \\\n",
       "2712  United Kingdom, France, Belgium, Canada, Unite...      R   \n",
       "4292             Canada, Germany, France, United States      R   \n",
       "6034                              Canada, United States      R   \n",
       "6450                                      United States      R   \n",
       "6743                                      United States      R   \n",
       "\n",
       "                                 listed_in  \\\n",
       "2712  Comedies, Dramas, Independent Movies   \n",
       "4292                      Comedies, Dramas   \n",
       "6034                                Dramas   \n",
       "6450         Comedies, Cult Movies, Dramas   \n",
       "6743         Comedies, Cult Movies, Dramas   \n",
       "\n",
       "                                            description  \n",
       "2712  The death of Russian dictator Joseph Stalin th...  \n",
       "4292  A showbiz family revolving around its teen cel...  \n",
       "6034  A ruthless corporate headhunter battles his ri...  \n",
       "6450  Comic book artist Holden meets the perfect wom...  \n",
       "6743  A sportswriter and his Samoan lawyer embark on...  "
      ]
     },
     "execution_count": 211,
     "metadata": {},
     "output_type": "execute_result"
    }
   ],
   "source": [
    "get_recommendation('American Psycho', similarity)"
   ]
  },
  {
   "cell_type": "code",
   "execution_count": 212,
   "id": "9ad0607a-033d-4744-a800-2d6c15a98a68",
   "metadata": {},
   "outputs": [
    {
     "name": "stdout",
     "output_type": "stream",
     "text": [
      "(content index, score) : [(11, 3.661695914462783e-05), (543, 3.661695914462783e-05), (734, 3.661695914462783e-05), (1223, 3.661695914462783e-05), (2668, 3.661695914462783e-05)]\n"
     ]
    },
    {
     "data": {
      "text/html": [
       "<div>\n",
       "<style scoped>\n",
       "    .dataframe tbody tr th:only-of-type {\n",
       "        vertical-align: middle;\n",
       "    }\n",
       "\n",
       "    .dataframe tbody tr th {\n",
       "        vertical-align: top;\n",
       "    }\n",
       "\n",
       "    .dataframe thead th {\n",
       "        text-align: right;\n",
       "    }\n",
       "</style>\n",
       "<table border=\"1\" class=\"dataframe\">\n",
       "  <thead>\n",
       "    <tr style=\"text-align: right;\">\n",
       "      <th></th>\n",
       "      <th>type</th>\n",
       "      <th>title</th>\n",
       "      <th>director</th>\n",
       "      <th>cast</th>\n",
       "      <th>country</th>\n",
       "      <th>rating</th>\n",
       "      <th>listed_in</th>\n",
       "      <th>description</th>\n",
       "    </tr>\n",
       "  </thead>\n",
       "  <tbody>\n",
       "    <tr>\n",
       "      <th>11</th>\n",
       "      <td>TV Show</td>\n",
       "      <td>Bangkok Breaking</td>\n",
       "      <td>Kongkiat Komesiri</td>\n",
       "      <td>Sukollawat Kanarot, Sushar Manaying, Pavarit M...</td>\n",
       "      <td>NaN</td>\n",
       "      <td>TV-MA</td>\n",
       "      <td>Crime TV Shows, International TV Shows, TV Act...</td>\n",
       "      <td>Struggling to earn a living in Bangkok, a man ...</td>\n",
       "    </tr>\n",
       "    <tr>\n",
       "      <th>543</th>\n",
       "      <td>TV Show</td>\n",
       "      <td>Undercover</td>\n",
       "      <td>NaN</td>\n",
       "      <td>Tom Waes, Anna Drijver, Frank Lammers, Elise S...</td>\n",
       "      <td>Belgium, Netherlands</td>\n",
       "      <td>TV-MA</td>\n",
       "      <td>Crime TV Shows, International TV Shows, TV Act...</td>\n",
       "      <td>Undercover agents infiltrate a drug kingpin's ...</td>\n",
       "    </tr>\n",
       "    <tr>\n",
       "      <th>734</th>\n",
       "      <td>TV Show</td>\n",
       "      <td>Lupin</td>\n",
       "      <td>NaN</td>\n",
       "      <td>Omar Sy, Ludivine Sagnier, Clotilde Hesme, Nic...</td>\n",
       "      <td>France, United States</td>\n",
       "      <td>TV-MA</td>\n",
       "      <td>Crime TV Shows, International TV Shows, TV Act...</td>\n",
       "      <td>Inspired by the adventures of Arsène Lupin, ge...</td>\n",
       "    </tr>\n",
       "    <tr>\n",
       "      <th>1223</th>\n",
       "      <td>TV Show</td>\n",
       "      <td>Dealer</td>\n",
       "      <td>Ange Basterga, Nicolas Lopez</td>\n",
       "      <td>Abdramane Diakité, Mohamed Boudouh, Sébastien ...</td>\n",
       "      <td>France</td>\n",
       "      <td>TV-MA</td>\n",
       "      <td>Crime TV Shows, International TV Shows, TV Act...</td>\n",
       "      <td>Tensions erupt when two filmmakers infiltrate ...</td>\n",
       "    </tr>\n",
       "    <tr>\n",
       "      <th>2668</th>\n",
       "      <td>Movie</td>\n",
       "      <td>Earth and Blood</td>\n",
       "      <td>Julien Leclercq</td>\n",
       "      <td>Sami Bouajila, Eriq Ebouaney, Samy Seghir, Sof...</td>\n",
       "      <td>France, Belgium</td>\n",
       "      <td>TV-MA</td>\n",
       "      <td>Dramas, International Movies, Thrillers</td>\n",
       "      <td>A sawmill owner and his teenage daughter becom...</td>\n",
       "    </tr>\n",
       "  </tbody>\n",
       "</table>\n",
       "</div>"
      ],
      "text/plain": [
       "         type             title                      director  \\\n",
       "11    TV Show  Bangkok Breaking             Kongkiat Komesiri   \n",
       "543   TV Show        Undercover                           NaN   \n",
       "734   TV Show             Lupin                           NaN   \n",
       "1223  TV Show            Dealer  Ange Basterga, Nicolas Lopez   \n",
       "2668    Movie   Earth and Blood               Julien Leclercq   \n",
       "\n",
       "                                                   cast  \\\n",
       "11    Sukollawat Kanarot, Sushar Manaying, Pavarit M...   \n",
       "543   Tom Waes, Anna Drijver, Frank Lammers, Elise S...   \n",
       "734   Omar Sy, Ludivine Sagnier, Clotilde Hesme, Nic...   \n",
       "1223  Abdramane Diakité, Mohamed Boudouh, Sébastien ...   \n",
       "2668  Sami Bouajila, Eriq Ebouaney, Samy Seghir, Sof...   \n",
       "\n",
       "                    country rating  \\\n",
       "11                      NaN  TV-MA   \n",
       "543    Belgium, Netherlands  TV-MA   \n",
       "734   France, United States  TV-MA   \n",
       "1223                 France  TV-MA   \n",
       "2668        France, Belgium  TV-MA   \n",
       "\n",
       "                                              listed_in  \\\n",
       "11    Crime TV Shows, International TV Shows, TV Act...   \n",
       "543   Crime TV Shows, International TV Shows, TV Act...   \n",
       "734   Crime TV Shows, International TV Shows, TV Act...   \n",
       "1223  Crime TV Shows, International TV Shows, TV Act...   \n",
       "2668            Dramas, International Movies, Thrillers   \n",
       "\n",
       "                                            description  \n",
       "11    Struggling to earn a living in Bangkok, a man ...  \n",
       "543   Undercover agents infiltrate a drug kingpin's ...  \n",
       "734   Inspired by the adventures of Arsène Lupin, ge...  \n",
       "1223  Tensions erupt when two filmmakers infiltrate ...  \n",
       "2668  A sawmill owner and his teenage daughter becom...  "
      ]
     },
     "execution_count": 212,
     "metadata": {},
     "output_type": "execute_result"
    }
   ],
   "source": [
    "get_recommendation('Ganglands', similarity)"
   ]
  },
  {
   "cell_type": "markdown",
   "id": "4cfee8bd-6fba-4e9a-9935-f6a722237d64",
   "metadata": {},
   "source": [
    "## Reference website\n",
    "https://www.geeksforgeeks.org/how-to-calculate-cosine-similarity-in-python/\n",
    "\n",
    "https://blog.csdn.net/fengdu78/article/details/124013673 (This is a Chinese website）"
   ]
  },
  {
   "cell_type": "code",
   "execution_count": null,
   "id": "e56873b7-8160-45af-b6b3-529d6135649b",
   "metadata": {},
   "outputs": [],
   "source": []
  }
 ],
 "metadata": {
  "kernelspec": {
   "display_name": "Python 3 (ipykernel)",
   "language": "python",
   "name": "python3"
  },
  "language_info": {
   "codemirror_mode": {
    "name": "ipython",
    "version": 3
   },
   "file_extension": ".py",
   "mimetype": "text/x-python",
   "name": "python",
   "nbconvert_exporter": "python",
   "pygments_lexer": "ipython3",
   "version": "3.9.12"
  }
 },
 "nbformat": 4,
 "nbformat_minor": 5
}
